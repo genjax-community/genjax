{
 "cells": [
  {
   "cell_type": "code",
   "execution_count": 1,
   "id": "daac163b-0213-4352-a405-bb71582170ed",
   "metadata": {
    "tags": []
   },
   "outputs": [],
   "source": [
    "import genjax"
   ]
  },
  {
   "cell_type": "code",
   "execution_count": 5,
   "id": "88695fa3-b4ae-4d3f-bdbf-5921df2e0a70",
   "metadata": {
    "tags": []
   },
   "outputs": [
    {
     "data": {
      "text/plain": [
       "Marginal(\n",
       "  p=StaticGenerativeFunction(source=<function model>),\n",
       "  selection=HierarchicalSelection(trie=Trie(inner={'x': AllSelection()})),\n",
       "  algorithm=None\n",
       ")"
      ]
     },
     "execution_count": 5,
     "metadata": {},
     "output_type": "execute_result"
    }
   ],
   "source": [
    "@genjax.marginal(select_or_addr=genjax.select(\"x\"))\n",
    "@genjax.static_gen_fn\n",
    "def model():\n",
    "    logits = jnp.ones(3)\n",
    "    idx = genjax.categorical(logits) @ \"idx\"\n",
    "    v = genjax.normal(0.0, 1.0) @ \"v\"\n",
    "    x = genjax.normal(0.0, 1.0) @ \"x\"\n",
    "    \n",
    "model"
   ]
  },
  {
   "cell_type": "markdown",
   "id": "1b2b580a-6fab-4ade-bc88-718d2325cd03",
   "metadata": {},
   "source": [
    "## High-level sketch"
   ]
  },
  {
   "cell_type": "markdown",
   "id": "6a28ceb6-1bd5-401d-b905-7277c75b25f1",
   "metadata": {},
   "source": [
    "marginal(select(\"x\")) -> P(idx, v | x)\n",
    "\n",
    "Marginal.random_weighted:\n",
    "  1. First, sample (idx, v, x)\n",
    "  2. Produce an estimate for 1 / P(idx, v | x)\n",
    "  \n",
    "P(idx, v | x) = P(idx | v, x) P(v | x)"
   ]
  },
  {
   "cell_type": "code",
   "execution_count": 7,
   "id": "1e7821bc-b30c-476f-902d-c4984da48c9e",
   "metadata": {
    "tags": []
   },
   "outputs": [],
   "source": [
    "@genjax.marginal\n",
    "@genjax.static_gen_fn\n",
    "def proposal():\n",
    "    pass"
   ]
  }
 ],
 "metadata": {
  "kernelspec": {
   "display_name": "Python 3 (ipykernel)",
   "language": "python",
   "name": "python3"
  },
  "language_info": {
   "codemirror_mode": {
    "name": "ipython",
    "version": 3
   },
   "file_extension": ".py",
   "mimetype": "text/x-python",
   "name": "python",
   "nbconvert_exporter": "python",
   "pygments_lexer": "ipython3",
   "version": "3.11.4"
  }
 },
 "nbformat": 4,
 "nbformat_minor": 5
}
