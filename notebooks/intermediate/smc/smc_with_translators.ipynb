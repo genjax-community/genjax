{
 "cells": [
  {
   "cell_type": "code",
   "execution_count": 1,
   "id": "a884970f-6e4e-4646-a5a2-15131259c100",
   "metadata": {
    "tags": []
   },
   "outputs": [],
   "source": [
    "import jax\n",
    "import jax.numpy as jnp\n",
    "import jax.tree_util as jtu\n",
    "import genjax\n",
    "from genjax.incremental import diff, UnknownChange, NoChange\n",
    "from genjax.inference.translator import extending_trace_translator\n",
    "from genjax.inference import smc\n",
    "from genjax.typing import typecheck\n",
    "from genjax import ChoiceMap\n",
    "\n",
    "# Model\n",
    "@genjax.gen(genjax.Unfold, max_length=10)\n",
    "@genjax.gen(genjax.Static)\n",
    "def chain(z_prev):\n",
    "    z = genjax.normal(z_prev, 1.0) @ \"z\"\n",
    "    x = genjax.normal(z, 1.0) @ \"x\"\n",
    "    return z\n",
    "\n",
    "\n",
    "# Proposal and step-indexed translator.\n",
    "# This function can be freely used inside scan'd code.\n",
    "def get_translator(t, obs):\n",
    "    # The proposal signature for this translator is:\n",
    "    # (obs_chm, prev_particle, *proposal_args)\n",
    "    @genjax.gen(genjax.Static)\n",
    "    @typecheck\n",
    "    def proposal(obs_chm: ChoiceMap, prev_particle: ChoiceMap, *args):\n",
    "        masked_x = obs_chm[t, \"x\"]  # from idx choice map\n",
    "        x = masked_x.unmask()  # will throw if invalid under checkify.\n",
    "        z = genjax.normal(x, 0.1) @ \"z\"\n",
    "        return z\n",
    "\n",
    "    # The translator allows a bijection on the space of choice maps.\n",
    "    # We utilize this degree of freedom to change the address representation\n",
    "    def choice_map_forward(proposal_choices):\n",
    "        return genjax.indexed_choice_map(t, proposal_choices)\n",
    "\n",
    "    # The inverse just removes the dynamic index.\n",
    "    # Unmask is safe under `checkify` - it will throw if\n",
    "    # the mask is invalid.\n",
    "    def choice_map_inverse(transformed_choices):\n",
    "        return transformed_choices[t].unmask()\n",
    "\n",
    "    translator = extending_trace_translator(\n",
    "        (diff(t, UnknownChange), diff(0.0, NoChange)),\n",
    "        proposal,\n",
    "        (),\n",
    "        obs,\n",
    "        choice_map_forward,\n",
    "        choice_map_inverse,\n",
    "        # Dynamically checks the bijection, and registers\n",
    "        # the error with `jax.checkify` if it fails.\n",
    "        check_bijection=True,\n",
    "    )\n",
    "    return translator\n",
    "\n",
    "\n",
    "# Obs.\n",
    "obs = genjax.indexed_choice_map(\n",
    "    [0, 1, 2, 3],\n",
    "    genjax.choice_map({\"x\": jnp.array([1.0, 2.0, 3.0, 4.0])}),\n",
    ")\n",
    "\n",
    "# SMC with custom proposal.\n",
    "def extending_smc(key, obs, init_state):\n",
    "    index_sel = genjax.indexed_select(0)\n",
    "    obs_slice = obs.slice(0)\n",
    "    key, sub_key = jax.random.split(key)\n",
    "    smc_state = smc.smc_initialize(chain, 5).apply(sub_key, obs_slice, (0, init_state))\n",
    "    obs = jtu.tree_map(lambda v: v[1:], obs)\n",
    "\n",
    "    def _inner(carry, xs):\n",
    "        key, smc_state, t = carry\n",
    "        obs_slice = xs\n",
    "        t = t + 1\n",
    "        translator = get_translator(t, obs_slice)\n",
    "        key, sub_key = jax.random.split(key)\n",
    "        smc_state = smc.smc_update(translator).apply(\n",
    "            sub_key,\n",
    "            smc_state,\n",
    "        )\n",
    "        return (key, smc_state, t), (smc_state,)\n",
    "\n",
    "    (_, final_state, _), (stacked,) = jax.lax.scan(\n",
    "        _inner,\n",
    "        (key, smc_state, 0),\n",
    "        obs,\n",
    "    )\n",
    "    return final_state, stacked"
   ]
  },
  {
   "cell_type": "code",
   "execution_count": 2,
   "id": "01ee209e-46fd-4554-ae1c-bb73af5301d6",
   "metadata": {
    "tags": []
   },
   "outputs": [
    {
     "data": {
      "text/html": [
       "<pre style=\"white-space:pre;overflow-x:auto;line-height:normal;font-family:Menlo,'DejaVu Sans Mono',consolas,'Courier New',monospace\"><span style=\"font-weight: bold\">[</span><span style=\"color: #008080; text-decoration-color: #008080; font-weight: bold\">0.09120648</span> <span style=\"color: #008080; text-decoration-color: #008080; font-weight: bold\">1.9876677</span>  <span style=\"color: #008080; text-decoration-color: #008080; font-weight: bold\">2.9276989</span>  <span style=\"color: #008080; text-decoration-color: #008080; font-weight: bold\">3.8014348</span>  <span style=\"color: #008080; text-decoration-color: #008080; font-weight: bold\">1.0956165</span>  <span style=\"color: #008080; text-decoration-color: #008080; font-weight: bold\">0.23876664</span>\n",
       " <span style=\"color: #008080; text-decoration-color: #008080; font-weight: bold\">1.3302573</span>  <span style=\"color: #008080; text-decoration-color: #008080; font-weight: bold\">1.497613</span>   <span style=\"color: #008080; text-decoration-color: #008080; font-weight: bold\">0.07953135</span> <span style=\"color: #008080; text-decoration-color: #008080; font-weight: bold\">1.0706444</span> <span style=\"font-weight: bold\">]</span>\n",
       "</pre>\n"
      ],
      "text/plain": [
       "\u001b[1m[\u001b[0m\u001b[1;36m0.09120648\u001b[0m \u001b[1;36m1.9876677\u001b[0m  \u001b[1;36m2.9276989\u001b[0m  \u001b[1;36m3.8014348\u001b[0m  \u001b[1;36m1.0956165\u001b[0m  \u001b[1;36m0.23876664\u001b[0m\n",
       " \u001b[1;36m1.3302573\u001b[0m  \u001b[1;36m1.497613\u001b[0m   \u001b[1;36m0.07953135\u001b[0m \u001b[1;36m1.0706444\u001b[0m \u001b[1m]\u001b[0m\n"
      ]
     },
     "metadata": {},
     "output_type": "display_data"
    }
   ],
   "source": [
    "from jax.experimental.checkify import checkify\n",
    "\n",
    "key = jax.random.PRNGKey(314159)\n",
    "\n",
    "# Use the console to enforce checkify -- this enables\n",
    "# runtime checks throughout GenJAX.\n",
    "console = genjax.console(enforce_checkify=True)\n",
    "with console:\n",
    "    err, (final_state, stacked) = jax.jit(checkify(extending_smc))(key, obs, 0.0)\n",
    "    err.throw()\n",
    "\n",
    "console.print(final_state.particles.get_choices()[3, \"z\"].unsafe_unmask())"
   ]
  }
 ],
 "metadata": {
  "kernelspec": {
   "display_name": "Python 3 (ipykernel)",
   "language": "python",
   "name": "python3"
  },
  "language_info": {
   "codemirror_mode": {
    "name": "ipython",
    "version": 3
   },
   "file_extension": ".py",
   "mimetype": "text/x-python",
   "name": "python",
   "nbconvert_exporter": "python",
   "pygments_lexer": "ipython3",
   "version": "3.11.4"
  }
 },
 "nbformat": 4,
 "nbformat_minor": 5
}
