{
 "cells": [
  {
   "cell_type": "code",
   "execution_count": 1,
   "id": "92511a8b-aa9f-45de-88c2-b9a6f49cf370",
   "metadata": {},
   "outputs": [],
   "source": [
    "import jax\n",
    "import jax.numpy as jnp\n",
    "import jax.tree_util as jtu\n",
    "import time\n",
    "import os\n",
    "from dataclasses import dataclass\n",
    "from collections import namedtuple\n",
    "import pyro\n",
    "import optax\n",
    "from pyro.infer import SVI, TraceGraph_ELBO\n",
    "import pyro.distributions as dist\n",
    "import pyro.poutine as poutine\n",
    "import pyro.contrib.examples.multi_mnist as multi_mnist\n",
    "import numpy as np\n",
    "import matplotlib.pyplot as plt\n",
    "import matplotlib as mpl\n",
    "from matplotlib.gridspec import GridSpec\n",
    "import matplotlib.font_manager as font_manager\n",
    "from matplotlib.patches import Rectangle\n",
    "import matplotlib.ticker as ticker\n",
    "import matplotlib.patches as patches\n",
    "import seaborn as sns\n",
    "from matplotlib import cm\n",
    "from matplotlib.ticker import LinearLocator\n",
    "from matplotlib import rcParams\n",
    "from scipy.interpolate import griddata\n",
    "import genjax\n",
    "from genjax import grasp\n",
    "from genjax import Pytree\n",
    "import equinox as eqx\n",
    "from genjax.typing import Any\n",
    "from genjax.typing import Tuple\n",
    "from genjax.typing import FloatArray\n",
    "from genjax.typing import Int\n",
    "from genjax.typing import IntArray\n",
    "from genjax.typing import PRNGKey\n",
    "from genjax.typing import typecheck\n",
    "from genjax import choice_map\n",
    "\n",
    "from numpyro.examples.datasets import MNIST\n",
    "from numpyro.examples.datasets import load_dataset\n",
    "\n",
    "import genjax\n",
    "from genjax import grasp\n",
    "from genjax import gensp\n",
    "from genjax import select\n",
    "\n",
    "import adevjax\n",
    "\n",
    "console = genjax.pretty()\n",
    "key = jax.random.PRNGKey(314159)\n",
    "sns.set_theme(style=\"white\")\n",
    "font_path = (\n",
    "    \"/home/femtomc/.local/share/fonts/Unknown Vendor/TrueType/Lato/Lato_Bold.ttf\"\n",
    ")\n",
    "font_manager.fontManager.addfont(font_path)\n",
    "custom_font_name = font_manager.FontProperties(fname=font_path).get_name()\n",
    "rcParams[\"font.family\"] = custom_font_name\n",
    "rcParams[\"figure.autolayout\"] = True\n",
    "label_fontsize = 70  # Set the desired font size here\n",
    "\n",
    "train_init, train_fetch = load_dataset(MNIST, batch_size=1024, split=\"train\")\n",
    "num_train, train_idx = train_init()\n",
    "data_batch = train_fetch(0)[0]"
   ]
  },
  {
   "cell_type": "code",
   "execution_count": 2,
   "id": "f045ffa8-bcb2-4a6b-bd6d-9772870a424f",
   "metadata": {
    "tags": []
   },
   "outputs": [],
   "source": [
    "# Utilities for defining the model and the guide.\n",
    "@dataclass\n",
    "class Decoder(Pytree):\n",
    "    dense_1: Any\n",
    "    dense_2: Any\n",
    "\n",
    "    def flatten(self):\n",
    "        return (self.dense_1, self.dense_2), ()\n",
    "\n",
    "    @classmethod\n",
    "    def new(cls, key1, key2):\n",
    "        dense_1 = eqx.nn.Linear(10, 200, key=key1)\n",
    "        dense_2 = eqx.nn.Linear(200, 28 * 28, key=key2)\n",
    "        return Decoder(dense_1, dense_2)\n",
    "\n",
    "    def __call__(self, z_what):\n",
    "        v = self.dense_1(z_what)\n",
    "        v = jax.nn.leaky_relu(v)\n",
    "        v = self.dense_2(v)\n",
    "        return jax.nn.sigmoid(v)\n",
    "\n",
    "\n",
    "# Create our decoder.\n",
    "key, sub_key1, sub_key2 = jax.random.split(key, 3)\n",
    "decoder = Decoder.new(sub_key1, sub_key2)\n",
    "\n",
    "\n",
    "@dataclass\n",
    "class Encoder(Pytree):\n",
    "    dense_1: Any\n",
    "    dense_2: Any\n",
    "\n",
    "    def flatten(self):\n",
    "        return (self.dense_1, self.dense_2), ()\n",
    "\n",
    "    @classmethod\n",
    "    def new(cls, key1, key2):\n",
    "        dense_1 = eqx.nn.Linear(28 * 28, 200, key=key1)\n",
    "        dense_2 = eqx.nn.Linear(200, 20, key=key2)\n",
    "        return Encoder(dense_1, dense_2)\n",
    "\n",
    "    def __call__(self, data):\n",
    "        v = self.dense_1(data)\n",
    "        v = jax.nn.leaky_relu(v)\n",
    "        v = self.dense_2(v)\n",
    "        return v[0:10], jax.nn.softplus(v[10:])\n",
    "\n",
    "\n",
    "key, sub_key1, sub_key2 = jax.random.split(key, 3)\n",
    "encoder = Encoder.new(sub_key1, sub_key2)"
   ]
  },
  {
   "cell_type": "code",
   "execution_count": 3,
   "id": "9fa96c80-53c9-439a-be13-7c1cc57c55c3",
   "metadata": {},
   "outputs": [],
   "source": [
    "@genjax.gen\n",
    "def model(decoder):\n",
    "    latent = genjax.tfp_mv_normal_diag(jnp.zeros(10), jnp.ones(10)) @ \"latent\"\n",
    "    logits = decoder(latent)\n",
    "    _ = genjax.tfp_bernoulli(logits) @ \"image\"\n",
    "\n",
    "\n",
    "@genjax.gen\n",
    "def guide(encoder, chm):\n",
    "    image = chm[\"image\"]\n",
    "    μ, Σ_scale = encoder(image)\n",
    "    _ = grasp.mv_normal_diag_reparam(μ, Σ_scale) @ \"latent\"\n",
    "\n",
    "\n",
    "def batch_elbo_grad_estimate(key, encoder, decoder, data_batch):\n",
    "    def _inner(key, encoder, decoder, data):\n",
    "        chm = choice_map({\"image\": data.flatten()})\n",
    "        objective = grasp.elbo(model, guide, chm)\n",
    "        return objective.grad_estimate(key, ((decoder,), (encoder, chm)))\n",
    "\n",
    "    sub_keys = jax.random.split(key, len(data_batch))\n",
    "    return jax.vmap(_inner, in_axes=(0, None, None, 0))(\n",
    "        sub_keys, encoder, decoder, data_batch\n",
    "    )\n",
    "\n",
    "\n",
    "jitted = jax.jit(batch_elbo_grad_estimate)\n",
    "\n",
    "# Warmup\n",
    "jitted(key, encoder, decoder, data_batch);"
   ]
  },
  {
   "cell_type": "code",
   "execution_count": 4,
   "id": "126c3c33-a970-4309-b97e-cac3b9bacf98",
   "metadata": {
    "tags": []
   },
   "outputs": [
    {
     "name": "stdout",
     "output_type": "stream",
     "text": [
      "1.64 ms ± 37 µs per loop (mean ± std. dev. of 10 runs, 5,000 loops each)\n"
     ]
    }
   ],
   "source": [
    "%timeit -n 5000 -r 10 jitted(key, encoder, decoder, data_batch)"
   ]
  },
  {
   "cell_type": "code",
   "execution_count": 5,
   "id": "d3881783-2445-4def-89d1-d9edbbc7a79b",
   "metadata": {
    "tags": []
   },
   "outputs": [],
   "source": [
    "from tensorflow_probability.substrates import jax as tfp\n",
    "\n",
    "tfd = tfp.distributions\n",
    "\n",
    "MvNormalDiag = tfd.MultivariateNormalDiag\n",
    "Bernoulli = tfd.Bernoulli\n",
    "\n",
    "# Manual.\n",
    "def batch_elbo_grad_estimate(key, encoder, decoder, data_batch):\n",
    "    def single_estimate(key, encoder, decoder, data):\n",
    "        image = data.flatten()\n",
    "\n",
    "        def loss_estimate(params):\n",
    "            (encoder, decoder) = params\n",
    "            μ, Σ_scale = encoder(image)\n",
    "            v = MvNormalDiag(jnp.zeros(10), jnp.ones(10)).sample(seed=key)\n",
    "            s = μ + v * Σ_scale\n",
    "            guide_normal_logp = MvNormalDiag(μ, Σ_scale).log_prob(s)\n",
    "            model_normal_logp = MvNormalDiag(jnp.zeros(10), jnp.ones(10)).log_prob(s)\n",
    "            logits = decoder(s)\n",
    "            model_bernoulli_logp = Bernoulli(logits=logits).log_prob(image).sum()\n",
    "            return (model_bernoulli_logp + model_normal_logp) - guide_normal_logp\n",
    "\n",
    "        return jax.grad(loss_estimate)((encoder, decoder))\n",
    "\n",
    "    sub_keys = jax.random.split(key, len(data_batch))\n",
    "    return jax.vmap(single_estimate, in_axes=(0, None, None, 0))(\n",
    "        sub_keys, encoder, decoder, data_batch\n",
    "    )\n",
    "\n",
    "\n",
    "jitted = jax.jit(batch_elbo_grad_estimate)\n",
    "\n",
    "# Warm up.\n",
    "jitted(key, encoder, decoder, data_batch);"
   ]
  },
  {
   "cell_type": "code",
   "execution_count": 6,
   "id": "f5845eb4-201f-4542-845a-2d396ff053aa",
   "metadata": {
    "tags": []
   },
   "outputs": [
    {
     "name": "stdout",
     "output_type": "stream",
     "text": [
      "1.6 ms ± 48.9 µs per loop (mean ± std. dev. of 10 runs, 5,000 loops each)\n"
     ]
    }
   ],
   "source": [
    "%timeit -n 5000 -r 10 jitted(key, encoder, decoder, data_batch)"
   ]
  }
 ],
 "metadata": {
  "kernelspec": {
   "display_name": "Python 3 (ipykernel)",
   "language": "python",
   "name": "python3"
  },
  "language_info": {
   "codemirror_mode": {
    "name": "ipython",
    "version": 3
   },
   "file_extension": ".py",
   "mimetype": "text/x-python",
   "name": "python",
   "nbconvert_exporter": "python",
   "pygments_lexer": "ipython3",
   "version": "3.10.13"
  }
 },
 "nbformat": 4,
 "nbformat_minor": 5
}
