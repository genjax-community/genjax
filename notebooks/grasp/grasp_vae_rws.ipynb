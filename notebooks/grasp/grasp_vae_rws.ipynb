{
 "cells": [
  {
   "cell_type": "markdown",
   "id": "a9aa208d-522f-48eb-8ac1-514670e04f2a",
   "metadata": {},
   "source": [
    "## RWS VAE"
   ]
  },
  {
   "cell_type": "code",
   "execution_count": 1,
   "id": "c423c4c4-d964-42b1-8749-082e51edf8a3",
   "metadata": {},
   "outputs": [
    {
     "name": "stderr",
     "output_type": "stream",
     "text": [
      "/opt/conda/envs/grasp/lib/python3.11/site-packages/tqdm/auto.py:21: TqdmWarning: IProgress not found. Please update jupyter and ipywidgets. See https://ipywidgets.readthedocs.io/en/stable/user_install.html\n",
      "  from .autonotebook import tqdm as notebook_tqdm\n"
     ]
    }
   ],
   "source": [
    "import inspect\n",
    "import os\n",
    "\n",
    "import jax\n",
    "import jax.numpy as jnp\n",
    "import jax.tree_util as jtu\n",
    "import numpy as np\n",
    "from jax import jit\n",
    "from jax import lax\n",
    "from jax import random\n",
    "from jax.example_libraries import stax\n",
    "from jax.random import PRNGKey\n",
    "from numpyro import optim\n",
    "from numpyro.examples.datasets import MNIST\n",
    "from numpyro.examples.datasets import load_dataset\n",
    "from tensorflow_probability.substrates import jax as tfp\n",
    "import matplotlib.pyplot as plt\n",
    "import matplotlib as mpl\n",
    "from matplotlib.gridspec import GridSpec\n",
    "import matplotlib.font_manager as font_manager\n",
    "import matplotlib.ticker as ticker\n",
    "import matplotlib.patches as patches\n",
    "import seaborn as sns\n",
    "from matplotlib import cm\n",
    "from matplotlib.ticker import LinearLocator\n",
    "from matplotlib import rcParams\n",
    "from scipy.interpolate import griddata\n",
    "\n",
    "\n",
    "import genjax\n",
    "from genjax import grasp\n",
    "from genjax import gensp\n",
    "from genjax import select\n",
    "\n",
    "import adevjax\n",
    "\n",
    "console = genjax.pretty()\n",
    "key = jax.random.PRNGKey(314159)\n",
    "# sns.set_theme(style=\"white\")\n",
    "# font_path = (\n",
    "#     \"/home/femtomc/.local/share/fonts/Unknown Vendor/TrueType/Lato/Lato_Bold.ttf\"\n",
    "# )\n",
    "# font_manager.fontManager.addfont(font_path)\n",
    "# custom_font_name = font_manager.FontProperties(fname=font_path).get_name()\n",
    "# rcParams[\"font.family\"] = custom_font_name\n",
    "# rcParams[\"figure.autolayout\"] = True\n",
    "label_fontsize = 70  # Set the desired font size here\n",
    "\n",
    "\n",
    "def show_image(img):\n",
    "    fig, ax = plt.subplots(figsize=(8, 8))\n",
    "    ax.set_xticks([])\n",
    "    ax.set_yticks([])\n",
    "    plt.imshow(img, cmap=\"gray_r\")\n",
    "\n",
    "\n",
    "def save_images(imgs, path):\n",
    "    fig = plt.figure(figsize=(8, 2))\n",
    "    for i, img in enumerate(imgs):\n",
    "        ax = plt.subplot(1, len(imgs), i + 1)\n",
    "        ax.set_xticks([])\n",
    "        ax.set_yticks([])\n",
    "        plt.imshow(img, cmap=\"gray_r\")\n",
    "    #fig.savefig(path, format=\"pdf\")\n",
    "\n",
    "pytree_mean = lambda pytree: jtu.tree_map(lambda v: v.mean(axis=0), pytree)\n",
    "\n",
    "\n",
    "hidden_dim = 400\n",
    "z_dim = 10\n",
    "learning_rate = 1.0e-3\n",
    "batch_size = 64\n",
    "num_epochs = 50 # 100\n",
    "num_particles = 5"
   ]
  },
  {
   "cell_type": "code",
   "execution_count": 2,
   "id": "d51712b9-59ea-4784-b63d-3b44c5413da7",
   "metadata": {},
   "outputs": [],
   "source": [
    "# Loss figure.\n",
    "# loss_fig, loss_ax = plt.subplots(figsize=(8, 8))\n",
    "# loss_ax.set_xlim(0, 205)\n",
    "# loss_ax.set_ylim(-117.0, -95.0)\n",
    "# loss_ax.set_xlabel(\"Epoch steps\", fontsize=label_fontsize / 2)\n",
    "# loss_ax.set_ylabel(\"ELBO\", fontsize=label_fontsize / 2)\n",
    "# loss_ax.axhline(y=-115.0, color=\"red\", linestyle=\"--\", lw=4)\n",
    "# loss_ax.axhline(y=-98.0, color=\"green\", linestyle=\"--\", lw=4)\n",
    "# loss_ax.text(\n",
    "#     275,\n",
    "#     -115.5,\n",
    "#     \"-155.0 (nat)\",\n",
    "#     color=\"red\",\n",
    "#     va=\"bottom\",\n",
    "#     ha=\"right\",\n",
    "#     fontsize=label_fontsize / 3,\n",
    "# )\n",
    "# loss_ax.text(\n",
    "#     270,\n",
    "#     -98.5,\n",
    "#     \"-98.0 (nat)\",\n",
    "#     color=\"green\",\n",
    "#     va=\"bottom\",\n",
    "#     ha=\"right\",\n",
    "#     fontsize=label_fontsize / 3,\n",
    "# )\n",
    "# loss_ax.set_xticks([])\n",
    "# loss_ax.set_yticks([])\n",
    "# loss_ax.yaxis.labelpad = 18  # adjust the value as needed\n",
    "\n",
    "# iwae_iters = [2, 5, 10, 20]\n",
    "# colormap = plt.cm.magma\n",
    "# colors = colormap(np.linspace(0, 1, 1 + 2 * len(iwae_iters)))"
   ]
  },
  {
   "cell_type": "code",
   "execution_count": 3,
   "id": "2f5c201f-eec7-4f08-a1fe-a8dd93c6a958",
   "metadata": {},
   "outputs": [],
   "source": [
    "def encoder(hidden_dim, z_dim): # q\n",
    "    return stax.serial(\n",
    "        stax.Dense(hidden_dim, W_init=stax.randn()),\n",
    "        stax.Softplus,\n",
    "        stax.FanOut(2),\n",
    "        stax.parallel(\n",
    "            stax.Dense(z_dim, W_init=stax.randn()),\n",
    "            stax.serial(stax.Dense(z_dim, W_init=stax.randn()), stax.Exp),\n",
    "        ),\n",
    "    )\n",
    "\n",
    "def decoder(hidden_dim, out_dim): # p\n",
    "    return stax.serial(\n",
    "        stax.Dense(hidden_dim, W_init=stax.randn()),\n",
    "        stax.Softplus,\n",
    "        stax.Dense(out_dim, W_init=stax.randn()),\n",
    "    )"
   ]
  },
  {
   "cell_type": "code",
   "execution_count": 4,
   "id": "835af9cc-b511-4462-9a04-5efce17054a3",
   "metadata": {},
   "outputs": [],
   "source": [
    "encoder_nn_init, encoder_nn_apply = encoder(hidden_dim, z_dim)\n",
    "decoder_nn_init, decoder_nn_apply = decoder(hidden_dim, 28 * 28)\n",
    "\n",
    "# Model + guide close over the neural net apply functions.\n",
    "@genjax.gen\n",
    "def model(decoder_params):\n",
    "    latent = genjax.tfp_mv_normal_diag(jnp.zeros(z_dim), jnp.ones(z_dim)) @ \"latent\"\n",
    "    logits = decoder_nn_apply(decoder_params, latent)\n",
    "    _ = genjax.tfp_bernoulli(logits) @ \"image\"\n",
    "\n",
    "\n",
    "@genjax.gen\n",
    "def guide(encoder_params, chm):\n",
    "    image = chm[\"image\"]\n",
    "    μ, Σ_scale = encoder_nn_apply(encoder_params, image)\n",
    "    _ = grasp.mv_normal_diag_reparam(μ, Σ_scale) @ \"latent\"\n"
   ]
  },
  {
   "cell_type": "code",
   "execution_count": 5,
   "id": "559a1a33-0bed-44a0-9fbf-4bef02037dfb",
   "metadata": {},
   "outputs": [],
   "source": [
    "# ##### Begin bug reproduction\n",
    "# rng_key = PRNGKey(0)\n",
    "# encoder_init_key, decoder_init_key = random.split(rng_key)\n",
    "# _, encoder_params = encoder_nn_init(encoder_init_key, (784,))\n",
    "# _, decoder_params = decoder_nn_init(decoder_init_key, (z_dim,))\n",
    "# trs = jax.vmap(model.simulate, in_axes=(0, None))(jax.random.split(PRNGKey(0), 13), (decoder_params,))\n",
    "# imgs = jax.lax.map(lambda tr: tr.strip()['image'], trs)\n",
    "# def image_loss(key, img):\n",
    "#     data_chm =genjax.choice_map({'image': img})\n",
    "#     posterior_approx = grasp.sir(num_particles, guide, (encoder_params, data_chm))\n",
    "#     tgt = genjax.gensp.target(model, (decoder_params,), data_chm)\n",
    "#     @adevjax.adev\n",
    "#     def integrand(p_params, q_params):\n",
    "#         key = adevjax.reap_key()\n",
    "#         _, sample = posterior_approx.simulate(key, tgt)\n",
    "#         key = adevjax.reap_key()\n",
    "#         return -guide.assess(key, sample.value, (encoder_params, data_chm))[1]\n",
    "#     return adevjax.E(integrand).value_and_grad_estimate(key, (decoder_params, encoder_params))[0]\n",
    "\n",
    "# batched_loss = jax.vmap(image_loss)\n",
    "# batched_loss(jax.random.split(PRNGKey(0), 13), imgs);\n",
    "# ##### End bug reproduction"
   ]
  },
  {
   "cell_type": "code",
   "execution_count": 6,
   "id": "a852fa89-fb93-4b26-93ee-016e49f6e4a5",
   "metadata": {},
   "outputs": [],
   "source": [
    "def rws_p_wake(\n",
    "    p, p_params,\n",
    "    q, q_params,\n",
    "    nparticles,\n",
    "    data_chm,\n",
    "):\n",
    "    posterior_approx = grasp.sir(nparticles, q, (q_params, data_chm))\n",
    "    tgt = genjax.gensp.target(p, (p_params,), data_chm)\n",
    "    @adevjax.adev\n",
    "    def integrand(p_params, q_params):\n",
    "        key = adevjax.reap_key()\n",
    "        _, sample = posterior_approx.simulate(key, tgt)\n",
    "        key = adevjax.reap_key()\n",
    "        return -p.assess(key, sample.value, (p_params,))[1]\n",
    "\n",
    "    return adevjax.E(integrand)"
   ]
  },
  {
   "cell_type": "code",
   "execution_count": 7,
   "id": "44a0befd-c973-430f-94ef-90e515bf42ef",
   "metadata": {},
   "outputs": [],
   "source": [
    "def rws_q_wake(\n",
    "    p, p_params,\n",
    "    q, q_params,\n",
    "    nparticles,\n",
    "    data_chm,\n",
    "):\n",
    "    posterior_approx = grasp.sir(nparticles, q, (q_params, data_chm))\n",
    "    tgt = genjax.gensp.target(p, (p_params,), data_chm)\n",
    "    @adevjax.adev\n",
    "    def integrand(p_params, q_params):\n",
    "        key = adevjax.reap_key()\n",
    "        _, sample = posterior_approx.simulate(key, tgt)\n",
    "        key = adevjax.reap_key()\n",
    "        return -q.assess(key, sample.value, (q_params, data_chm))[1]\n",
    "\n",
    "    return adevjax.E(integrand)"
   ]
  },
  {
   "cell_type": "code",
   "execution_count": 8,
   "id": "43d62ea4-00ed-4af7-adbe-24be1ec00bc7",
   "metadata": {},
   "outputs": [],
   "source": [
    "def rws_q_sleep(\n",
    "    p, p_params,\n",
    "    q, q_params,\n",
    "    nparticles,\n",
    "    _,\n",
    "):\n",
    "    p_sampler = lambda key: p.simulate(key, (p_params,)).strip()\n",
    "    @adevjax.adev\n",
    "    def integrand(p_params, q_params):\n",
    "        key = adevjax.reap_key()\n",
    "        sample = p_sampler(key)\n",
    "        data_chm = genjax.choice_map({\"image\": sample['image']})\n",
    "        q_chm = genjax.choice_map({\"latent\": sample['latent']})\n",
    "        key = adevjax.reap_key()\n",
    "        return -q.assess(key, q_chm, (q_params, data_chm))[1]\n",
    "\n",
    "    return adevjax.E(integrand)"
   ]
  },
  {
   "cell_type": "code",
   "execution_count": 9,
   "id": "0b56d9e3-d3f9-4029-a53c-58539b38b897",
   "metadata": {},
   "outputs": [],
   "source": [
    "def make_batch_updater(\n",
    "    p, # model\n",
    "    q, # guide\n",
    "    num_particles,\n",
    "    optimizer,\n",
    "):\n",
    "    def rws_step(key, loss_factory, opt_state, batch):\n",
    "        def loss_and_grad(key, data, p_params, q_params):\n",
    "            data_chm = genjax.choice_map({\"image\": data.reshape((28 * 28,))})\n",
    "            grasp_loss =  loss_factory(p, p_params, q, q_params, num_particles, data_chm)\n",
    "            loss, (p_grad, q_grad) = grasp_loss.value_and_grad_estimate(key, (p_params, q_params))\n",
    "            return loss, p_grad, q_grad\n",
    "        subkeys = jax.random.split(key, len(batch))\n",
    "        p_params, q_params = optimizer.get_params(opt_state)\n",
    "        batched_loss_and_grad = jax.vmap(loss_and_grad, in_axes=(0, 0, None, None))\n",
    "        losses, p_grads, q_grads = batched_loss_and_grad(subkeys, batch, p_params, q_params)\n",
    "        p_grad, q_grad = pytree_mean((p_grads, q_grads))\n",
    "        opt_state = optimizer.update((p_grad, q_grad), opt_state)\n",
    "        return opt_state, losses.mean()\n",
    "        \n",
    "    def batch_updater(key, opt_state, batch):\n",
    "        losses = []\n",
    "        for (i, loss_factory) in enumerate((rws_p_wake, rws_q_wake, rws_q_sleep)):\n",
    "            subkey = jax.random.fold_in(key, idx)\n",
    "            opt_state, loss = rws_step(subkey, loss_factory, opt_state, batch)\n",
    "            losses.append(loss)\n",
    "        return opt_state, losses\n",
    "\n",
    "    return batch_updater"
   ]
  },
  {
   "cell_type": "code",
   "execution_count": 10,
   "id": "9fa96c80-53c9-439a-be13-7c1cc57c55c3",
   "metadata": {},
   "outputs": [],
   "source": [
    "sgd = optim.SGD(learning_rate)\n",
    "batch_updater = make_batch_updater(model, guide, num_particles, sgd)\n",
    "train_init, train_fetch = load_dataset(MNIST, batch_size=batch_size, split=\"train\")\n",
    "num_train, train_idx = train_init()\n",
    "rng_key = PRNGKey(0)\n",
    "encoder_init_key, decoder_init_key = random.split(rng_key)\n",
    "_, encoder_params = encoder_nn_init(encoder_init_key, (784,))\n",
    "_, decoder_params = decoder_nn_init(decoder_init_key, (z_dim,))\n",
    "num_train, train_idx = train_init()"
   ]
  },
  {
   "cell_type": "code",
   "execution_count": 11,
   "id": "2115551b-72f7-4378-8caf-2d9af96d1443",
   "metadata": {},
   "outputs": [
    {
     "name": "stdout",
     "output_type": "stream",
     "text": [
      "epoch 0 p_wake=231.59 q_wake=14.225 q_sleep=14.214\n",
      "epoch 1 p_wake=221.06 q_wake=14.213 q_sleep=14.221\n",
      "epoch 2 p_wake=220.72 q_wake=14.199 q_sleep=14.208\n",
      "epoch 3 p_wake=220.58 q_wake=14.221 q_sleep=14.22\n",
      "epoch 4 p_wake=220.47 q_wake=14.209 q_sleep=14.199\n",
      "epoch 5 p_wake=220.49 q_wake=14.221 q_sleep=14.212\n",
      "epoch 6 p_wake=220.41 q_wake=14.222 q_sleep=14.208\n",
      "epoch 7 p_wake=220.39 q_wake=14.234 q_sleep=14.22\n",
      "epoch 8 p_wake=220.34 q_wake=14.25 q_sleep=14.224\n",
      "epoch 9 p_wake=220.26 q_wake=14.259 q_sleep=14.222\n",
      "epoch 10 p_wake=220.17 q_wake=14.25 q_sleep=14.208\n",
      "epoch 11 p_wake=220.07 q_wake=14.282 q_sleep=14.221\n",
      "epoch 12 p_wake=219.82 q_wake=14.252 q_sleep=14.198\n",
      "epoch 13 p_wake=219.31 q_wake=14.256 q_sleep=14.188\n",
      "epoch 14 p_wake=218.09 q_wake=14.21 q_sleep=14.136\n",
      "epoch 15 p_wake=214.03 q_wake=14.02 q_sleep=13.98\n",
      "epoch 16 p_wake=209.23 q_wake=13.747 q_sleep=13.773\n",
      "epoch 17 p_wake=208.33 q_wake=13.704 q_sleep=13.735\n",
      "epoch 18 p_wake=207.95 q_wake=13.719 q_sleep=13.764\n",
      "epoch 19 p_wake=207.54 q_wake=13.716 q_sleep=13.759\n",
      "epoch 20 p_wake=207.13 q_wake=13.701 q_sleep=13.754\n",
      "epoch 21 p_wake=206.66 q_wake=13.699 q_sleep=13.738\n",
      "epoch 22 p_wake=206.37 q_wake=13.699 q_sleep=13.738\n",
      "epoch 23 p_wake=206.07 q_wake=13.696 q_sleep=13.722\n",
      "epoch 24 p_wake=205.86 q_wake=13.708 q_sleep=13.728\n",
      "epoch 25 p_wake=205.65 q_wake=13.681 q_sleep=13.702\n",
      "epoch 26 p_wake=205.5 q_wake=13.66 q_sleep=13.679\n",
      "epoch 27 p_wake=205.29 q_wake=13.644 q_sleep=13.669\n",
      "epoch 28 p_wake=205.08 q_wake=13.611 q_sleep=13.626\n",
      "epoch 29 p_wake=204.86 q_wake=13.589 q_sleep=13.601\n",
      "epoch 30 p_wake=204.56 q_wake=13.551 q_sleep=13.565\n",
      "epoch 31 p_wake=204.24 q_wake=13.49 q_sleep=13.494\n",
      "epoch 32 p_wake=203.86 q_wake=13.392 q_sleep=13.389\n",
      "epoch 33 p_wake=203.44 q_wake=13.273 q_sleep=13.243\n",
      "epoch 34 p_wake=202.84 q_wake=13.112 q_sleep=13.063\n",
      "epoch 35 p_wake=202.02 q_wake=12.962 q_sleep=12.917\n",
      "epoch 36 p_wake=200.86 q_wake=12.81 q_sleep=12.763\n",
      "epoch 37 p_wake=199.62 q_wake=12.695 q_sleep=12.672\n",
      "epoch 38 p_wake=198.72 q_wake=12.645 q_sleep=12.618\n",
      "epoch 39 p_wake=197.85 q_wake=12.592 q_sleep=12.578\n",
      "epoch 40 p_wake=196.71 q_wake=12.505 q_sleep=12.525\n",
      "epoch 41 p_wake=195.66 q_wake=12.463 q_sleep=12.505\n",
      "epoch 42 p_wake=194.46 q_wake=12.384 q_sleep=12.441\n",
      "epoch 43 p_wake=193.48 q_wake=12.345 q_sleep=12.395\n",
      "epoch 44 p_wake=192.74 q_wake=12.319 q_sleep=12.359\n",
      "epoch 45 p_wake=192.08 q_wake=12.278 q_sleep=12.338\n",
      "epoch 46 p_wake=191.46 q_wake=12.257 q_sleep=12.306\n",
      "epoch 47 p_wake=190.94 q_wake=12.226 q_sleep=12.266\n",
      "epoch 48 p_wake=190.51 q_wake=12.236 q_sleep=12.262\n",
      "epoch 49 p_wake=190.12 q_wake=12.221 q_sleep=12.233\n"
     ]
    }
   ],
   "source": [
    "#@jit\n",
    "def binarize(rng_key, batch):\n",
    "    return random.bernoulli(rng_key, batch).astype(batch.dtype)\n",
    "\n",
    "#@jit\n",
    "def epoch_train(opt_state, key1, key2, train_idx):\n",
    "    def body_fn(carry, xs):\n",
    "        idx, opt_state = carry\n",
    "        rng_key_binarize = random.fold_in(key1, idx)\n",
    "        batch = binarize(rng_key_binarize, train_fetch(idx, train_idx)[0])\n",
    "        updater_key = random.fold_in(key2, idx)\n",
    "        opt_state, losses = batch_updater(updater_key, opt_state, batch)\n",
    "        idx += 1\n",
    "        return (idx, opt_state), losses\n",
    "\n",
    "    (_, opt_state), losses = lax.scan(\n",
    "        body_fn, (0, opt_state), None, length=num_train\n",
    "    )\n",
    "    return opt_state, losses\n",
    "\n",
    "\n",
    "# Train.\n",
    "key = random.PRNGKey(314159)\n",
    "opt_state = sgd.init((decoder_params, encoder_params))\n",
    "epoch_losses = []\n",
    "for idx in range(0, num_epochs):\n",
    "    key, key1, key2 = jax.random.split(key, 3)\n",
    "    num_train, train_idx = train_init()\n",
    "    opt_state, losses = epoch_train(opt_state, key1, key2, train_idx)\n",
    "    mean_losses =  pytree_mean(losses)\n",
    "    print('epoch {} p_wake={:.5} q_wake={:.5} q_sleep={:.5}'.format(idx, *mean_losses))\n",
    "    epoch_losses.append(mean_losses)"
   ]
  },
  {
   "cell_type": "code",
   "execution_count": 12,
   "id": "60be139c-1d64-49cc-a89f-011b203a4d6d",
   "metadata": {},
   "outputs": [],
   "source": [
    "# loss_ax.scatter(\n",
    "#     jnp.arange(num_epochs),\n",
    "#     jnp.array([l[0] for l in epoch_losses]),\n",
    "#     color=colors[0],\n",
    "#     marker=\".\",\n",
    "#     label=\"ELBO\",\n",
    "#     s=240,\n",
    "# )\n",
    "# loss_fig"
   ]
  },
  {
   "cell_type": "code",
   "execution_count": 25,
   "id": "276ef111-a1c9-48ff-8e1c-f0222028d011",
   "metadata": {},
   "outputs": [
    {
     "data": {
      "text/html": [
       "<pre style=\"white-space:pre;overflow-x:auto;line-height:normal;font-family:Menlo,'DejaVu Sans Mono',consolas,'Courier New',monospace\"></pre>\n"
      ],
      "text/plain": []
     },
     "metadata": {},
     "output_type": "display_data"
    },
    {
     "data": {
      "image/png": "[encoded data removed]",
      "text/plain": [
       "\u001b[1m<\u001b[0m\u001b[1;95mFigure\u001b[0m\u001b[39m size 120\u001b[0m\u001b[1;36m0x400\u001b[0m\u001b[39m with \u001b[0m\u001b[1;36m3\u001b[0m\u001b[39m Axes\u001b[0m\u001b[1m>\u001b[0m"
      ]
     },
     "metadata": {},
     "output_type": "display_data"
    }
   ],
   "source": [
    "fig, axs = plt.subplots(1, 3, figsize=(12, 4))\n",
    "for (i, (ax, title)) in enumerate(zip(axs, ('p_wake', 'q_wake', 'q_sleep'))):\n",
    "    ax.plot([l[i] for l in epoch_losses])\n",
    "    ax.set_xlabel('iteration')\n",
    "    ax.set_title(title + ' loss')"
   ]
  },
  {
   "cell_type": "code",
   "execution_count": 13,
   "id": "7d785979-fa9f-497e-abdc-ee0720177461",
   "metadata": {},
   "outputs": [],
   "source": [
    "def generate_images(key, n_images, opt_state):\n",
    "    images = []\n",
    "    for i in range(0, n_images):\n",
    "        key, sub_key = jax.random.split(key)\n",
    "        updated_decoder_params, _ = sgd.get_params(opt_state)\n",
    "        latent = genjax.tfp_mv_normal_diag.sample(\n",
    "            key, jnp.zeros(z_dim), jnp.ones(z_dim)\n",
    "        )\n",
    "        updated_out = jax.nn.sigmoid(\n",
    "            decoder_nn_apply(updated_decoder_params, latent)\n",
    "        ).reshape(28, 28)\n",
    "        images.append(updated_out)\n",
    "    return images"
   ]
  },
  {
   "cell_type": "code",
   "execution_count": 14,
   "id": "d20d409a-db0f-4d39-850c-3fe108e2a8d3",
   "metadata": {
    "tags": []
   },
   "outputs": [
    {
     "data": {
      "text/html": [
       "<pre style=\"white-space:pre;overflow-x:auto;line-height:normal;font-family:Menlo,'DejaVu Sans Mono',consolas,'Courier New',monospace\"></pre>\n"
      ],
      "text/plain": []
     },
     "metadata": {},
     "output_type": "display_data"
    },
    {
     "data": {
      "image/png": "[encoded data removed]",
      "text/plain": [
       "\u001b[1m<\u001b[0m\u001b[1;95mFigure\u001b[0m\u001b[39m size 80\u001b[0m\u001b[1;36m0x200\u001b[0m\u001b[39m with \u001b[0m\u001b[1;36m4\u001b[0m\u001b[39m Axes\u001b[0m\u001b[1m>\u001b[0m"
      ]
     },
     "metadata": {},
     "output_type": "display_data"
    }
   ],
   "source": [
    "sub_key = jax.random.PRNGKey(314159)\n",
    "imgs = generate_images(sub_key, 4, opt_state)\n",
    "save_images(imgs, \"img/elbo_samples.pdf\")"
   ]
  },
  {
   "cell_type": "code",
   "execution_count": null,
   "id": "a15501d7-9633-4657-a305-815d087a0fc0",
   "metadata": {},
   "outputs": [],
   "source": []
  }
 ],
 "metadata": {
  "kernelspec": {
   "display_name": "Python 3 (ipykernel)",
   "language": "python",
   "name": "python3"
  },
  "language_info": {
   "codemirror_mode": {
    "name": "ipython",
    "version": 3
   },
   "file_extension": ".py",
   "mimetype": "text/x-python",
   "name": "python",
   "nbconvert_exporter": "python",
   "pygments_lexer": "ipython3",
   "version": "3.11.6"
  }
 },
 "nbformat": 4,
 "nbformat_minor": 5
}
