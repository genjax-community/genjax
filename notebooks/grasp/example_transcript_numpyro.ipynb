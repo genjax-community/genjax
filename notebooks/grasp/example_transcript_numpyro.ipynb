{
 "cells": [
  {
   "cell_type": "code",
   "execution_count": 1,
   "id": "9c1d54bf-0762-4498-8288-a8ee46f33734",
   "metadata": {
    "tags": []
   },
   "outputs": [],
   "source": [
    "%matplotlib inline\n",
    "import os\n",
    "from collections import namedtuple\n",
    "import matplotlib.pyplot as plt\n",
    "from matplotlib.patches import Rectangle\n",
    "import numpy as np\n",
    "import time\n",
    "import jax\n",
    "import genjax\n",
    "from genjax import grasp\n",
    "\n",
    "from jax import jit, lax, random\n",
    "from jax.example_libraries import stax\n",
    "import jax.numpy as jnp\n",
    "from jax.random import PRNGKey\n",
    "\n",
    "import numpyro\n",
    "from numpyro import optim\n",
    "import numpyro.distributions as dist\n",
    "from numpyro.infer import SVI, Trace_ELBO, TraceGraph_ELBO\n",
    "from numpyro.handlers import replay, trace, seed\n",
    "from optax import adam\n",
    "\n",
    "# the only pyro dependency\n",
    "import pyro.contrib.examples.multi_mnist as multi_mnist\n",
    "\n",
    "key = jax.random.PRNGKey(314159)\n",
    "console = genjax.pretty()"
   ]
  },
  {
   "cell_type": "code",
   "execution_count": 2,
   "id": "7554c3b3-ff62-4b45-a94d-e600e8fb4eb8",
   "metadata": {
    "tags": []
   },
   "outputs": [],
   "source": [
    "ϕ = (0.0, 0.0, 1.0, 1.0)"
   ]
  },
  {
   "cell_type": "markdown",
   "id": "0e73aab4-6201-4d93-964b-388b7f0efbbf",
   "metadata": {},
   "source": [
    "## Model"
   ]
  },
  {
   "cell_type": "code",
   "execution_count": 38,
   "id": "fe1583a7-7ae9-40eb-b910-1b829780d778",
   "metadata": {
    "tags": []
   },
   "outputs": [
    {
     "data": {
      "text/html": [
       "<pre style=\"white-space:pre;overflow-x:auto;line-height:normal;font-family:Menlo,'DejaVu Sans Mono',consolas,'Courier New',monospace\"></pre>\n"
      ],
      "text/plain": []
     },
     "metadata": {},
     "output_type": "display_data"
    },
    {
     "data": {
      "text/plain": [
       "\u001b[1m(\u001b[0m\u001b[1;35mArray\u001b[0m\u001b[1m(\u001b[0m\u001b[1;36m-12.5153885\u001b[0m, \u001b[33mdtype\u001b[0m=\u001b[35mfloat32\u001b[0m\u001b[1m)\u001b[0m, \u001b[1;35mArray\u001b[0m\u001b[1m(\u001b[0m\u001b[1;36m-5.8665056\u001b[0m, \u001b[33mdtype\u001b[0m=\u001b[35mfloat32\u001b[0m\u001b[1m)\u001b[0m, \u001b[1;36m25.0\u001b[0m\u001b[1m)\u001b[0m"
      ]
     },
     "execution_count": 38,
     "metadata": {},
     "output_type": "execute_result"
    }
   ],
   "source": [
    "def model(data):\n",
    "    x = numpyro.sample(\"x\", dist.Normal(0.0, 10.0))\n",
    "    y = numpyro.sample(\"y\", dist.Normal(0.0, 10.0))\n",
    "    rs = x**2 + y**2\n",
    "    z = numpyro.sample(\"z\", dist.Normal(rs, 0.3 + (rs / 100.0)), obs=data)\n",
    "    return (x, y, z)\n",
    "\n",
    "\n",
    "seed(model, rng_seed=0)(25.0)"
   ]
  },
  {
   "cell_type": "markdown",
   "id": "44881091-851c-4947-9dd2-48ab63d3a5fe",
   "metadata": {},
   "source": [
    "## Naive variational guide"
   ]
  },
  {
   "cell_type": "code",
   "execution_count": 39,
   "id": "7434faaa-8d75-4bfa-9c9c-d57b91c85d9b",
   "metadata": {
    "tags": []
   },
   "outputs": [],
   "source": [
    "# Now, we define our variational proposal.\n",
    "def guide(data):\n",
    "    μ1 = numpyro.param(\"μ1\", 0.0)\n",
    "    μ2 = numpyro.param(\"μ2\", 0.0)\n",
    "    log_σ1 = numpyro.param(\"log_σ1\", 1.0)\n",
    "    log_σ2 = numpyro.param(\"log_σ2\", 1.0)\n",
    "    x = numpyro.sample(\"x\", dist.Normal(μ1, jnp.exp(log_σ1)))\n",
    "    y = numpyro.sample(\"y\", dist.Normal(μ2, jnp.exp(log_σ2)))"
   ]
  },
  {
   "cell_type": "markdown",
   "id": "15ca4eae-a07a-4ff9-91c2-a0293003a935",
   "metadata": {},
   "source": [
    "## Training"
   ]
  },
  {
   "cell_type": "code",
   "execution_count": 43,
   "id": "598f425d-a688-4941-bb3a-734709ce82a9",
   "metadata": {
    "tags": []
   },
   "outputs": [
    {
     "name": "stderr",
     "output_type": "stream",
     "text": [
      "100%|█| 5000/5000 [00:00<00:00, 5287.43it/s, init loss: 9129.2832, avg. loss [\n"
     ]
    },
    {
     "data": {
      "text/html": [
       "<pre style=\"white-space:pre;overflow-x:auto;line-height:normal;font-family:Menlo,'DejaVu Sans Mono',consolas,'Courier New',monospace\"></pre>\n"
      ],
      "text/plain": []
     },
     "metadata": {},
     "output_type": "display_data"
    },
    {
     "data": {
      "text/plain": [
       "\n",
       "\u001b[1m{\u001b[0m\n",
       "    \u001b[32m'log_σ1'\u001b[0m: \u001b[1;35mArray\u001b[0m\u001b[1m(\u001b[0m\u001b[1;36m1.3400445\u001b[0m, \u001b[33mdtype\u001b[0m=\u001b[35mfloat32\u001b[0m\u001b[1m)\u001b[0m,\n",
       "    \u001b[32m'log_σ2'\u001b[0m: \u001b[1;35mArray\u001b[0m\u001b[1m(\u001b[0m\u001b[1;36m1.3362696\u001b[0m, \u001b[33mdtype\u001b[0m=\u001b[35mfloat32\u001b[0m\u001b[1m)\u001b[0m,\n",
       "    \u001b[32m'μ1'\u001b[0m: \u001b[1;35mArray\u001b[0m\u001b[1m(\u001b[0m\u001b[1;36m0.00420607\u001b[0m, \u001b[33mdtype\u001b[0m=\u001b[35mfloat32\u001b[0m\u001b[1m)\u001b[0m,\n",
       "    \u001b[32m'μ2'\u001b[0m: \u001b[1;35mArray\u001b[0m\u001b[1m(\u001b[0m\u001b[1;36m0.0016424\u001b[0m, \u001b[33mdtype\u001b[0m=\u001b[35mfloat32\u001b[0m\u001b[1m)\u001b[0m\n",
       "\u001b[1m}\u001b[0m"
      ]
     },
     "execution_count": 43,
     "metadata": {},
     "output_type": "execute_result"
    }
   ],
   "source": [
    "svi = SVI(model, guide, adam(1e-4), loss=TraceGraph_ELBO())\n",
    "key, sub_key = jax.random.split(key)\n",
    "svi_result = svi.run(sub_key, 5000, 50.0)\n",
    "params = svi_result.params\n",
    "params"
   ]
  }
 ],
 "metadata": {
  "kernelspec": {
   "display_name": "Python 3 (ipykernel)",
   "language": "python",
   "name": "python3"
  },
  "language_info": {
   "codemirror_mode": {
    "name": "ipython",
    "version": 3
   },
   "file_extension": ".py",
   "mimetype": "text/x-python",
   "name": "python",
   "nbconvert_exporter": "python",
   "pygments_lexer": "ipython3",
   "version": "3.10.13"
  }
 },
 "nbformat": 4,
 "nbformat_minor": 5
}
