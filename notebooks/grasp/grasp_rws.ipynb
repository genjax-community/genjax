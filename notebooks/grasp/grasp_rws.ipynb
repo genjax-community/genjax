{
 "cells": [
  {
   "cell_type": "code",
   "execution_count": 1,
   "id": "c2d87600-14ab-41a4-a797-485d3a1117ae",
   "metadata": {},
   "outputs": [],
   "source": [
    "import jax\n",
    "import jax.numpy as jnp\n",
    "import genjax\n",
    "from genjax import grasp\n",
    "import matplotlib.pyplot as plt\n",
    "from functools import reduce\n",
    "from jax.scipy.special import logsumexp"
   ]
  },
  {
   "cell_type": "code",
   "execution_count": 2,
   "id": "12081daa-837a-467c-989c-f87940a6ed86",
   "metadata": {},
   "outputs": [],
   "source": [
    "console = genjax.pretty()"
   ]
  },
  {
   "cell_type": "code",
   "execution_count": 3,
   "id": "4e94bdbe-89ea-4613-8e5f-aba7ae0e73cd",
   "metadata": {},
   "outputs": [],
   "source": [
    "# from https://github.com/mattjj/svae/blob/master/experiments/gmm_svae_synth.py\n",
    "def make_pinwheel_data(key, radial_std, tangential_std, num_classes, num_per_class, rate):\n",
    "    keys = jax.random.split(key, 2)\n",
    "    rads = jnp.linspace(0, 2*jnp.pi, num_classes, endpoint=False)\n",
    "\n",
    "    features = jax.random.normal(keys[0], (num_classes*num_per_class, 2)) \\\n",
    "        * jnp.array([radial_std, tangential_std])\n",
    "    features = features.at[:,0].add(1.0)\n",
    "    labels = jnp.repeat(jnp.arange(num_classes), num_per_class)\n",
    "\n",
    "    angles = rads[labels] + rate * jnp.exp(features[:,0])\n",
    "    rotations = jnp.stack([jnp.cos(angles), -jnp.sin(angles), jnp.sin(angles), jnp.cos(angles)])\n",
    "    rotations = jnp.reshape(rotations.T, (-1, 2, 2))\n",
    "\n",
    "    return 10*jax.random.permutation(keys[1],\n",
    "                                     jnp.einsum('ti,tij->tj', features, rotations))"
   ]
  },
  {
   "cell_type": "code",
   "execution_count": 4,
   "id": "c3309d38-1587-47ae-8d33-3ddabe881100",
   "metadata": {},
   "outputs": [
    {
     "data": {
      "text/html": [
       "<pre style=\"white-space:pre;overflow-x:auto;line-height:normal;font-family:Menlo,'DejaVu Sans Mono',consolas,'Courier New',monospace\"></pre>\n"
      ],
      "text/plain": []
     },
     "metadata": {},
     "output_type": "display_data"
    },
    {
     "data": {
      "text/plain": [
       "\u001b[1m<\u001b[0m\u001b[1;95mmatplotlib.collections.PathCollection\u001b[0m\u001b[39m object at \u001b[0m\u001b[1;36m0x7f1aed748c10\u001b[0m\u001b[1m>\u001b[0m"
      ]
     },
     "execution_count": 4,
     "metadata": {},
     "output_type": "execute_result"
    },
    {
     "data": {
      "text/html": [
       "<pre style=\"white-space:pre;overflow-x:auto;line-height:normal;font-family:Menlo,'DejaVu Sans Mono',consolas,'Courier New',monospace\"></pre>\n"
      ],
      "text/plain": []
     },
     "metadata": {},
     "output_type": "display_data"
    },
    {
     "data": {
      "image/png": "[encoded data removed]",
      "text/plain": [
       "\u001b[1m<\u001b[0m\u001b[1;95mFigure\u001b[0m\u001b[39m size 64\u001b[0m\u001b[1;36m0x480\u001b[0m\u001b[39m with \u001b[0m\u001b[1;36m1\u001b[0m\u001b[39m Axes\u001b[0m\u001b[1m>\u001b[0m"
      ]
     },
     "metadata": {},
     "output_type": "display_data"
    }
   ],
   "source": [
    "NUM_CLUSTERS = 5\n",
    "POINTS_PER_CLUSTER = 10\n",
    "N = NUM_CLUSTERS * POINTS_PER_CLUSTER\n",
    "pinwheel = make_pinwheel_data(jax.random.PRNGKey(0),\n",
    "                              0.3, 0.05, NUM_CLUSTERS, POINTS_PER_CLUSTER, 0.25)\n",
    "plt.scatter(pinwheel[:, 0], pinwheel[:, 1], marker='.', c='black')"
   ]
  },
  {
   "cell_type": "markdown",
   "id": "9edb1cf2-036e-4ab7-9238-8ae668dccaa2",
   "metadata": {},
   "source": [
    "---"
   ]
  },
  {
   "cell_type": "code",
   "execution_count": 5,
   "id": "043089a4-bf80-4db4-967d-f52db4ab3189",
   "metadata": {},
   "outputs": [],
   "source": [
    "mlp = lambda x, ws: reduce(lambda z, w: jax.nn.leaky_relu(w @ z), ws, x)\n",
    "matsqr = lambda x: x @ x\n",
    "toprob = lambda logits: jnp.exp(logits - logsumexp(logits))"
   ]
  },
  {
   "cell_type": "code",
   "execution_count": 6,
   "id": "b5aac189-909c-49bb-a084-6f5522b7e6a5",
   "metadata": {},
   "outputs": [],
   "source": [
    "@genjax.gen\n",
    "def model(params):\n",
    "    for i in range(N):\n",
    "        z = grasp.categorical_enum(toprob(params['logits'])) @ ('z', i)\n",
    "        cluster_mean  = jax.lax.dynamic_index_in_dim(params['means'], z, keepdims=False)\n",
    "        cluster_scale = jax.lax.dynamic_index_in_dim(params['scales'], z, keepdims=False)\n",
    "        x = grasp.mv_normal_reparam(cluster_mean, matsqr(cluster_scale)) @ ('x', i)\n",
    "        point_mean = mlp(x, params['mean_ws'])\n",
    "        point_scale = mlp(x, params['scale_ws']).reshape(2, 2)\n",
    "        grasp.mv_normal_reparam(point_mean, matsqr(point_scale)) @ ('y', i)"
   ]
  },
  {
   "cell_type": "code",
   "execution_count": 7,
   "id": "60ef91fd-ecb5-4064-b66b-5b029afad146",
   "metadata": {},
   "outputs": [],
   "source": [
    "key = jax.random.PRNGKey(0)\n",
    "model_params = {\n",
    "    'logits': jnp.ones(NUM_CLUSTERS),\n",
    "    'means': jnp.arange(2*NUM_CLUSTERS, dtype=jnp.float32).reshape(NUM_CLUSTERS, 2),\n",
    "    'scales': jnp.ones((NUM_CLUSTERS, 2, 2)),\n",
    "    'mean_ws': (jax.random.uniform(key, (10, 2)),\n",
    "                jax.random.uniform(key, (10, 10)),\n",
    "                jax.random.uniform(key, (10, 10)),\n",
    "                jax.random.uniform(key, (2, 10))),\n",
    "    'scale_ws': (jax.random.uniform(key, (10, 2)),\n",
    "                jax.random.uniform(key, (10, 10)),\n",
    "                jax.random.uniform(key, (10, 10)),\n",
    "                jax.random.uniform(key, (4, 10)))\n",
    "}"
   ]
  },
  {
   "cell_type": "code",
   "execution_count": 8,
   "id": "53188202-a9c5-4327-90bf-e9052ea12e44",
   "metadata": {},
   "outputs": [],
   "source": [
    "key = jax.random.split(key)[0]\n",
    "model.simulate(key, (model_params,)).strip();"
   ]
  },
  {
   "cell_type": "code",
   "execution_count": 9,
   "id": "b09ba9f6-ed08-4929-a48d-309c77abb441",
   "metadata": {},
   "outputs": [],
   "source": [
    "@genjax.gen\n",
    "def variational_family(data, params):\n",
    "    for i in range(N):\n",
    "        cluster_mean  = mlp(data[('y', i)], params['mean_ws'])\n",
    "        cluster_scale = mlp(data[('y', i)], params['scale_ws']).reshape(2, 2)\n",
    "        x = grasp.mv_normal_reparam(cluster_mean, matsqr(cluster_scale)) @ ('x', i)\n",
    "        z = grasp.categorical_enum(toprob(mlp(x, params['cat_ws']))) @ ('z', i)"
   ]
  },
  {
   "cell_type": "code",
   "execution_count": 10,
   "id": "25e0e5c5-e1d0-479c-9937-4ce6ef5e176a",
   "metadata": {},
   "outputs": [],
   "source": [
    "vf_params = {\n",
    "    'mean_ws': (jax.random.uniform(key, (10, 2)),\n",
    "                jax.random.uniform(key, (10, 10)),\n",
    "                jax.random.uniform(key, (10, 10)),\n",
    "                jax.random.uniform(key, (2, 10))),\n",
    "    'scale_ws': (jax.random.uniform(key, (10, 2)),\n",
    "                jax.random.uniform(key, (10, 10)),\n",
    "                jax.random.uniform(key, (10, 10)),\n",
    "                jax.random.uniform(key, (4, 10))),\n",
    "    'cat_ws':  (jax.random.uniform(key, (10, 2)),\n",
    "                jax.random.uniform(key, (10, 10)),\n",
    "                jax.random.uniform(key, (10, 10)),\n",
    "                jax.random.uniform(key, (NUM_CLUSTERS, 10)))\n",
    "}"
   ]
  },
  {
   "cell_type": "code",
   "execution_count": 11,
   "id": "e16debc0-7d65-429c-b403-cd3451fe3f13",
   "metadata": {},
   "outputs": [],
   "source": [
    "pinwheel_data = genjax.choice_map({('y', i): pinwheel[i, :] for i in range(N)})\n",
    "key = jax.random.split(key)[0]\n",
    "variational_family.simulate(key, (pinwheel_data, vf_params));"
   ]
  },
  {
   "cell_type": "code",
   "execution_count": 12,
   "id": "066d36dd-85c3-4abb-af67-ae12886bd71d",
   "metadata": {},
   "outputs": [],
   "source": [
    "loss = grasp.elbo(model, variational_family, pinwheel_data)"
   ]
  },
  {
   "cell_type": "code",
   "execution_count": null,
   "id": "b2dd1748-9410-4d74-b920-d081991d267e",
   "metadata": {},
   "outputs": [],
   "source": [
    "loss.value_and_grad_estimate(key, ((model_params,), (pinwheel_data, vf_params)))"
   ]
  },
  {
   "cell_type": "code",
   "execution_count": null,
   "id": "32b04b69-75da-4bcf-a602-9587aac58f9e",
   "metadata": {},
   "outputs": [],
   "source": []
  }
 ],
 "metadata": {
  "kernelspec": {
   "display_name": "Python 3 (ipykernel)",
   "language": "python",
   "name": "python3"
  },
  "language_info": {
   "codemirror_mode": {
    "name": "ipython",
    "version": 3
   },
   "file_extension": ".py",
   "mimetype": "text/x-python",
   "name": "python",
   "nbconvert_exporter": "python",
   "pygments_lexer": "ipython3",
   "version": "3.11.6"
  }
 },
 "nbformat": 4,
 "nbformat_minor": 5
}
