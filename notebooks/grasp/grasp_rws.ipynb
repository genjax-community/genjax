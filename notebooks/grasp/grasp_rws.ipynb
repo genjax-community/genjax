{
 "cells": [
  {
   "cell_type": "markdown",
   "id": "b5f75995-7aaa-4e5b-ac08-d3f8aeed80f4",
   "metadata": {},
   "source": [
    "# "
   ]
  },
  {
   "cell_type": "code",
   "execution_count": 1,
   "id": "c2d87600-14ab-41a4-a797-485d3a1117ae",
   "metadata": {},
   "outputs": [],
   "source": [
    "import jax\n",
    "import jax.numpy as jnp\n",
    "import jax.tree_util as jtu\n",
    "from jax.scipy.special import logsumexp\n",
    "import genjax\n",
    "from genjax import grasp\n",
    "import matplotlib.pyplot as plt\n",
    "from functools import reduce"
   ]
  },
  {
   "cell_type": "code",
   "execution_count": 2,
   "id": "12081daa-837a-467c-989c-f87940a6ed86",
   "metadata": {},
   "outputs": [],
   "source": [
    "console = genjax.pretty()"
   ]
  },
  {
   "cell_type": "code",
   "execution_count": 3,
   "id": "4e94bdbe-89ea-4613-8e5f-aba7ae0e73cd",
   "metadata": {},
   "outputs": [],
   "source": [
    "# from https://github.com/mattjj/svae/blob/master/experiments/gmm_svae_synth.py\n",
    "def make_pinwheel_data(\n",
    "    key, radial_std, tangential_std, num_classes, num_per_class, rate\n",
    "):\n",
    "    keys = jax.random.split(key, 2)\n",
    "    rads = jnp.linspace(0, 2 * jnp.pi, num_classes, endpoint=False)\n",
    "\n",
    "    features = jax.random.normal(keys[0], (num_classes * num_per_class, 2)) * jnp.array(\n",
    "        [radial_std, tangential_std]\n",
    "    )\n",
    "    features = features.at[:, 0].add(1.0)\n",
    "    labels = jnp.repeat(jnp.arange(num_classes), num_per_class)\n",
    "\n",
    "    angles = rads[labels] + rate * jnp.exp(features[:, 0])\n",
    "    rotations = jnp.stack(\n",
    "        [jnp.cos(angles), -jnp.sin(angles), jnp.sin(angles), jnp.cos(angles)]\n",
    "    )\n",
    "    rotations = jnp.reshape(rotations.T, (-1, 2, 2))\n",
    "\n",
    "    return 10 * jax.random.permutation(\n",
    "        keys[1], jnp.einsum(\"ti,tij->tj\", features, rotations)\n",
    "    )"
   ]
  },
  {
   "cell_type": "code",
   "execution_count": 4,
   "id": "c3309d38-1587-47ae-8d33-3ddabe881100",
   "metadata": {},
   "outputs": [
    {
     "name": "stdout",
     "output_type": "stream",
     "text": [
      "500\n"
     ]
    },
    {
     "data": {
      "text/html": [
       "<pre style=\"white-space:pre;overflow-x:auto;line-height:normal;font-family:Menlo,'DejaVu Sans Mono',consolas,'Courier New',monospace\"></pre>\n"
      ],
      "text/plain": []
     },
     "metadata": {},
     "output_type": "display_data"
    },
    {
     "data": {
      "text/plain": [
       "\u001b[1m<\u001b[0m\u001b[1;95mmatplotlib.collections.PathCollection\u001b[0m\u001b[39m object at \u001b[0m\u001b[1;36m0x7f6b8dae96d0\u001b[0m\u001b[1m>\u001b[0m"
      ]
     },
     "execution_count": 4,
     "metadata": {},
     "output_type": "execute_result"
    },
    {
     "data": {
      "text/html": [
       "<pre style=\"white-space:pre;overflow-x:auto;line-height:normal;font-family:Menlo,'DejaVu Sans Mono',consolas,'Courier New',monospace\"></pre>\n"
      ],
      "text/plain": []
     },
     "metadata": {},
     "output_type": "display_data"
    },
    {
     "data": {
      "image/png": "[encoded data removed]",
      "text/plain": [
       "\u001b[1m<\u001b[0m\u001b[1;95mFigure\u001b[0m\u001b[39m size 64\u001b[0m\u001b[1;36m0x480\u001b[0m\u001b[39m with \u001b[0m\u001b[1;36m1\u001b[0m\u001b[39m Axes\u001b[0m\u001b[1m>\u001b[0m"
      ]
     },
     "metadata": {},
     "output_type": "display_data"
    }
   ],
   "source": [
    "NUM_CLUSTERS = 5\n",
    "POINTS_PER_CLUSTER = 100\n",
    "N = NUM_CLUSTERS * POINTS_PER_CLUSTER\n",
    "print(N)\n",
    "pinwheel = make_pinwheel_data(\n",
    "    jax.random.PRNGKey(0), 0.3, 0.05, NUM_CLUSTERS, POINTS_PER_CLUSTER, 0.25\n",
    ")\n",
    "plt.scatter(pinwheel[:, 0], pinwheel[:, 1], marker=\".\", c=\"black\")"
   ]
  },
  {
   "cell_type": "markdown",
   "id": "9edb1cf2-036e-4ab7-9238-8ae668dccaa2",
   "metadata": {},
   "source": [
    "---"
   ]
  },
  {
   "cell_type": "code",
   "execution_count": 5,
   "id": "043089a4-bf80-4db4-967d-f52db4ab3189",
   "metadata": {},
   "outputs": [],
   "source": [
    "mlp = lambda x, ws: reduce(lambda z, w: jax.nn.leaky_relu(w @ z, 0.5), ws, x)\n",
    "matsqr = lambda x: x.T @ x\n",
    "key = jax.random.PRNGKey(0)"
   ]
  },
  {
   "cell_type": "code",
   "execution_count": 6,
   "id": "b5aac189-909c-49bb-a084-6f5522b7e6a5",
   "metadata": {},
   "outputs": [],
   "source": [
    "@genjax.gen\n",
    "def model(params):\n",
    "    logits, means, scales, mean_ws, scale_ws = params\n",
    "    z = grasp.categorical_enum(logits) @ \"z\"\n",
    "    cluster_mean = jax.lax.dynamic_index_in_dim(means, z, keepdims=False)\n",
    "    cluster_scale = jax.lax.dynamic_index_in_dim(scales, z, keepdims=False)\n",
    "    x = grasp.mv_normal_reparam(cluster_mean, matsqr(cluster_scale)) @ \"x\"\n",
    "    point_mean = mlp(x, mean_ws)\n",
    "    point_scale = mlp(x, scale_ws).reshape(2, 2)\n",
    "    grasp.mv_normal_reparam(point_mean, matsqr(point_scale)) @ \"y\""
   ]
  },
  {
   "cell_type": "code",
   "execution_count": 7,
   "id": "60ef91fd-ecb5-4064-b66b-5b029afad146",
   "metadata": {},
   "outputs": [],
   "source": [
    "def make_model_weights(key):\n",
    "    keys = jax.random.split(key, 8)\n",
    "    return (\n",
    "        jnp.ones(NUM_CLUSTERS), # logits\n",
    "        jnp.zeros((NUM_CLUSTERS, 2)), # means\n",
    "        jnp.tile(jnp.eye(2), (NUM_CLUSTERS, 1)).reshape(NUM_CLUSTERS, 2, 2), # scales\n",
    "        tuple(map(lambda a: a * 1, (\n",
    "            jax.random.uniform(keys[0], (10, 2)),\n",
    "            jax.random.uniform(keys[1], (10, 10)),\n",
    "            jax.random.uniform(keys[2], (10, 10)),\n",
    "            jax.random.uniform(keys[3], (2, 10)),\n",
    "        ))), # mean_ws\n",
    "        tuple(map(lambda a: a * 0.5, (\n",
    "            jax.random.uniform(keys[4], (10, 2)),\n",
    "            jax.random.uniform(keys[5], (10, 10)),\n",
    "            jax.random.uniform(keys[6], (10, 10)),\n",
    "            jax.random.uniform(keys[7], (4, 10)),\n",
    "        ))) # scale_ws\n",
    ")\n",
    "model_params = make_model_weights(key)"
   ]
  },
  {
   "cell_type": "code",
   "execution_count": 8,
   "id": "3c20a1f6-dfd6-4db0-a369-443c5cda4429",
   "metadata": {},
   "outputs": [
    {
     "data": {
      "text/html": [
       "<pre style=\"white-space:pre;overflow-x:auto;line-height:normal;font-family:Menlo,'DejaVu Sans Mono',consolas,'Courier New',monospace\"></pre>\n"
      ],
      "text/plain": []
     },
     "metadata": {},
     "output_type": "display_data"
    },
    {
     "data": {
      "text/plain": [
       "\n",
       "\u001b[1m(\u001b[0m\n",
       "    \u001b[1;35mArray\u001b[0m\u001b[1m(\u001b[0m\u001b[1m[\u001b[0m\u001b[1;36m-0.04950034\u001b[0m, \u001b[1;36m-0.711568\u001b[0m  \u001b[1m]\u001b[0m, \u001b[33mdtype\u001b[0m=\u001b[35mfloat32\u001b[0m\u001b[1m)\u001b[0m,\n",
       "    \u001b[1;35mArray\u001b[0m\u001b[1m(\u001b[0m\u001b[1m[\u001b[0m\u001b[1;36m-2.8799644\u001b[0m, \u001b[1;36m-3.2433472\u001b[0m\u001b[1m]\u001b[0m, \u001b[33mdtype\u001b[0m=\u001b[35mfloat32\u001b[0m\u001b[1m)\u001b[0m,\n",
       "    \u001b[1;35mArray\u001b[0m\u001b[1m(\u001b[0m\u001b[1m[\u001b[0m\u001b[1m[\u001b[0m\u001b[1;36m0.08411495\u001b[0m, \u001b[1;36m0.10981131\u001b[0m\u001b[1m]\u001b[0m,\n",
       "       \u001b[1m[\u001b[0m\u001b[1;36m0.10981131\u001b[0m, \u001b[1;36m0.14400752\u001b[0m\u001b[1m]\u001b[0m\u001b[1m]\u001b[0m, \u001b[33mdtype\u001b[0m=\u001b[35mfloat32\u001b[0m\u001b[1m)\u001b[0m\n",
       "\u001b[1m)\u001b[0m"
      ]
     },
     "execution_count": 8,
     "metadata": {},
     "output_type": "execute_result"
    }
   ],
   "source": [
    "logits, means, scales, mean_ws, scale_ws = model_params\n",
    "z = 0\n",
    "key = jax.random.split(key)[0]\n",
    "cluster_mean = jax.lax.dynamic_index_in_dim(means, z, keepdims=False)\n",
    "cluster_scale = jax.lax.dynamic_index_in_dim(scales, z, keepdims=False)\n",
    "x = grasp.mv_normal_reparam.simulate(key, (cluster_mean, matsqr(cluster_scale))).value\n",
    "x, mlp(x, mean_ws), matsqr(mlp(x, scale_ws).reshape(2, 2))"
   ]
  },
  {
   "cell_type": "code",
   "execution_count": 9,
   "id": "53188202-a9c5-4327-90bf-e9052ea12e44",
   "metadata": {},
   "outputs": [
    {
     "data": {
      "text/html": [
       "<pre style=\"white-space:pre;overflow-x:auto;line-height:normal;font-family:Menlo,'DejaVu Sans Mono',consolas,'Courier New',monospace\"></pre>\n"
      ],
      "text/plain": []
     },
     "metadata": {},
     "output_type": "display_data"
    },
    {
     "data": {
      "text/plain": [
       "\n",
       "\u001b[1m(\u001b[0m\n",
       "    \u001b[1;35mArray\u001b[0m\u001b[1m(\u001b[0m\u001b[1;36m4\u001b[0m, \u001b[33mdtype\u001b[0m=\u001b[35mint32\u001b[0m\u001b[1m)\u001b[0m,\n",
       "    \u001b[1;35mArray\u001b[0m\u001b[1m(\u001b[0m\u001b[1m[\u001b[0m\u001b[1;36m-0.89105326\u001b[0m, \u001b[1;36m-0.66184473\u001b[0m\u001b[1m]\u001b[0m, \u001b[33mdtype\u001b[0m=\u001b[35mfloat32\u001b[0m\u001b[1m)\u001b[0m,\n",
       "    \u001b[1;35mArray\u001b[0m\u001b[1m(\u001b[0m\u001b[1m[\u001b[0m\u001b[1;36m-5.76409\u001b[0m  , \u001b[1;36m-6.2452426\u001b[0m\u001b[1m]\u001b[0m, \u001b[33mdtype\u001b[0m=\u001b[35mfloat32\u001b[0m\u001b[1m)\u001b[0m\n",
       "\u001b[1m)\u001b[0m"
      ]
     },
     "execution_count": 9,
     "metadata": {},
     "output_type": "execute_result"
    }
   ],
   "source": [
    "ch = model.simulate(key, (model_params,)).strip()\n",
    "key = jax.random.split(key)[0]\n",
    "ch['z'], ch['x'], ch['y']"
   ]
  },
  {
   "cell_type": "code",
   "execution_count": 10,
   "id": "b09ba9f6-ed08-4929-a48d-309c77abb441",
   "metadata": {},
   "outputs": [],
   "source": [
    "@genjax.gen\n",
    "def variational_family(params, data):\n",
    "    mean_ws, scale_ws, cat_ws = params\n",
    "    cluster_mean = mlp(data[\"y\"], mean_ws)\n",
    "    cluster_scale = mlp(data[\"y\"],scale_ws).reshape(2, 2)\n",
    "    x = grasp.mv_normal_reparam(cluster_mean, matsqr(cluster_scale)) @ \"x\"\n",
    "    z = grasp.categorical_enum(mlp(x, cat_ws)) @ \"z\""
   ]
  },
  {
   "cell_type": "code",
   "execution_count": 11,
   "id": "25e0e5c5-e1d0-479c-9937-4ce6ef5e176a",
   "metadata": {},
   "outputs": [],
   "source": [
    "def make_vf_weights(key):\n",
    "    keys = jax.random.split(key, 8)\n",
    "    return (\n",
    "        (\n",
    "            jax.random.uniform(keys[0], (10, 2)),\n",
    "            jax.random.uniform(keys[1], (10, 10)),\n",
    "            jax.random.uniform(keys[2], (10, 10)),\n",
    "            jax.random.uniform(keys[3], (2, 10)),\n",
    "        ), # mean_ws\n",
    "        (\n",
    "            jax.random.uniform(keys[4], (10, 2)),\n",
    "            jax.random.uniform(keys[5], (10, 10)),\n",
    "            jax.random.uniform(keys[6], (10, 10)),\n",
    "            jax.random.uniform(keys[7], (4, 10)),\n",
    "        ), # scale_ws\n",
    "        (\n",
    "            jax.random.uniform(keys[8], (10, 2)),\n",
    "            jax.random.uniform(keys[9], (10, 10)),\n",
    "            jax.random.uniform(keys[10], (10, 10)),\n",
    "            jax.random.uniform(keys[11], (NUM_CLUSTERS, 10)),\n",
    "        ) # cat_ws\n",
    "    )\n",
    "vf_params0 = make_vf_weights(key)\n",
    "vf_params = vf_params0"
   ]
  },
  {
   "cell_type": "code",
   "execution_count": 12,
   "id": "e16debc0-7d65-429c-b403-cd3451fe3f13",
   "metadata": {},
   "outputs": [
    {
     "data": {
      "text/html": [
       "<pre style=\"white-space:pre;overflow-x:auto;line-height:normal;font-family:Menlo,'DejaVu Sans Mono',consolas,'Courier New',monospace\"></pre>\n"
      ],
      "text/plain": []
     },
     "metadata": {},
     "output_type": "display_data"
    },
    {
     "data": {
      "text/plain": [
       "\u001b[1m(\u001b[0m\u001b[1;35mArray\u001b[0m\u001b[1m(\u001b[0m\u001b[1m[\u001b[0m\u001b[1;36m12.848938\u001b[0m, \u001b[1;36m37.530582\u001b[0m\u001b[1m]\u001b[0m, \u001b[33mdtype\u001b[0m=\u001b[35mfloat32\u001b[0m\u001b[1m)\u001b[0m, \u001b[1;35mArray\u001b[0m\u001b[1m(\u001b[0m\u001b[1;36m2\u001b[0m, \u001b[33mdtype\u001b[0m=\u001b[35mint32\u001b[0m\u001b[1m)\u001b[0m\u001b[1m)\u001b[0m"
      ]
     },
     "execution_count": 12,
     "metadata": {},
     "output_type": "execute_result"
    }
   ],
   "source": [
    "pinwheel_data = genjax.choice_map({\"y\": pinwheel[0, :]})\n",
    "key = jax.random.split(key)[0]\n",
    "ch = variational_family.simulate(key, (vf_params, pinwheel_data)).strip()\n",
    "ch['x'], ch['z']"
   ]
  },
  {
   "cell_type": "code",
   "execution_count": 13,
   "id": "3f9684d8-5b7b-45ef-b3a2-d03e2e9cc9a0",
   "metadata": {},
   "outputs": [],
   "source": [
    "def make_batched_loss_and_grad(model, vf):\n",
    "    def loss_and_grad(key, datapoint, model_params, vf_params):\n",
    "        data = genjax.choice_map({\"y\": datapoint})\n",
    "        objective = grasp.elbo(model, vf, data)\n",
    "        loss, ((model_grad,), (vf_grad, data)) = objective.value_and_grad_estimate(\n",
    "            key, ((model_params,), (vf_params, data))\n",
    "        )\n",
    "        return (vf_grad, model_grad), loss\n",
    "\n",
    "    def batched_loss_and_grad(key, batch, model_params, vf_params):\n",
    "        mapped_loss_and_grad = jax.vmap(loss_and_grad, in_axes=(0, 0, None, None))\n",
    "        keys = jax.random.split(key, len(batch))\n",
    "        (vf_grads, model_grads), losses = mapped_loss_and_grad(keys, batch,\n",
    "                                                               model_params, vf_params)\n",
    "        vf_grad = jtu.tree_map(lambda a: a.mean(axis=0), vf_grads)\n",
    "        model_grad = jtu.tree_map(lambda a: a.mean(axis=0), model_grads)\n",
    "        return vf_grad, model_grad, losses.mean()\n",
    "\n",
    "    return batched_loss_and_grad"
   ]
  },
  {
   "cell_type": "code",
   "execution_count": 14,
   "id": "6aadf652-2943-49aa-b689-7d589d16b6bb",
   "metadata": {},
   "outputs": [],
   "source": [
    "batched_loss_and_grad = jax.jit(make_batched_loss_and_grad(model, variational_family))"
   ]
  },
  {
   "cell_type": "code",
   "execution_count": 15,
   "id": "063c0a27-bb92-49ea-bfff-c80a32f84f41",
   "metadata": {},
   "outputs": [
    {
     "name": "stdout",
     "output_type": "stream",
     "text": [
      "Epoch 0 loss: -817974.1875\n",
      "Epoch 1 loss: -877552.1875\n",
      "Epoch 2 loss: -674474.4375\n",
      "Epoch 3 loss: -814066.4375\n",
      "Epoch 4 loss: -694059.125\n",
      "Epoch 5 loss: -652902.75\n",
      "Epoch 6 loss: -776948.4375\n",
      "Epoch 7 loss: -714215.625\n",
      "Epoch 8 loss: -667918.25\n",
      "Epoch 9 loss: -703084.6875\n",
      "Epoch 10 loss: -650757.4375\n",
      "Epoch 11 loss: -657977.0\n",
      "Epoch 12 loss: -719689.0\n",
      "Epoch 13 loss: -829595.125\n",
      "Epoch 14 loss: -928045.125\n",
      "Epoch 15 loss: -748170.25\n",
      "Epoch 16 loss: -959399.625\n",
      "Epoch 17 loss: -1281121.0\n",
      "Epoch 18 loss: -1374879.5\n",
      "Epoch 19 loss: -1018434.8125\n",
      "Epoch 20 loss: -1414904.875\n",
      "Epoch 21 loss: -1231512.125\n",
      "Epoch 22 loss: -1604251.875\n",
      "Epoch 23 loss: -1180544.25\n",
      "Epoch 24 loss: -1376196.75\n",
      "Epoch 25 loss: -1162687.25\n",
      "Epoch 26 loss: -1349479.0\n",
      "Epoch 27 loss: -1208394.25\n",
      "Epoch 28 loss: -1219957.25\n",
      "Epoch 29 loss: -1635080.625\n",
      "Epoch 30 loss: -1206029.75\n",
      "Epoch 31 loss: -1137790.5\n",
      "Epoch 32 loss: -1347896.875\n",
      "Epoch 33 loss: -1147003.5\n",
      "Epoch 34 loss: -1092010.875\n",
      "Epoch 35 loss: -1559951.375\n",
      "Epoch 36 loss: -1251360.0\n",
      "Epoch 37 loss: -1272474.125\n",
      "Epoch 38 loss: -1380266.5\n",
      "Epoch 39 loss: -1272434.0\n",
      "Epoch 40 loss: -1416476.0\n",
      "Epoch 41 loss: -1167506.875\n",
      "Epoch 42 loss: -1685239.25\n",
      "Epoch 43 loss: -1447381.125\n",
      "Epoch 44 loss: -961742.8125\n",
      "Epoch 45 loss: -1564691.875\n",
      "Epoch 46 loss: -1520833.0\n",
      "Epoch 47 loss: -1358134.875\n",
      "Epoch 48 loss: -1490453.0\n",
      "Epoch 49 loss: -1335594.875\n",
      "Epoch 50 loss: -1441498.875\n",
      "Epoch 51 loss: -1245391.375\n",
      "Epoch 52 loss: -1747381.875\n",
      "Epoch 53 loss: -1365327.125\n",
      "Epoch 54 loss: -1526479.375\n",
      "Epoch 55 loss: -1460725.875\n",
      "Epoch 56 loss: -1436405.375\n",
      "Epoch 57 loss: -1121224.625\n",
      "Epoch 58 loss: -1670172.25\n",
      "Epoch 59 loss: -1168038.375\n",
      "Epoch 60 loss: -1254581.125\n",
      "Epoch 61 loss: -1328912.375\n",
      "Epoch 62 loss: -1491247.625\n",
      "Epoch 63 loss: -1159035.625\n",
      "Epoch 64 loss: -1902547.625\n",
      "Epoch 65 loss: -1589976.625\n",
      "Epoch 66 loss: -1483599.625\n",
      "Epoch 67 loss: -2162501.75\n",
      "Epoch 68 loss: -1519461.875\n",
      "Epoch 69 loss: -1344173.625\n",
      "Epoch 70 loss: -1626446.375\n",
      "Epoch 71 loss: -1219477.5\n",
      "Epoch 72 loss: -1756910.0\n",
      "Epoch 73 loss: -1948854.875\n",
      "Epoch 74 loss: -1718097.875\n",
      "Epoch 75 loss: -1353287.5\n",
      "Epoch 76 loss: -2099247.75\n",
      "Epoch 77 loss: -1557955.375\n",
      "Epoch 78 loss: -1872121.875\n",
      "Epoch 79 loss: -1551511.875\n",
      "Epoch 80 loss: -2010859.625\n",
      "Epoch 81 loss: -1772006.25\n",
      "Epoch 82 loss: -1775158.875\n",
      "Epoch 83 loss: -1954269.25\n",
      "Epoch 84 loss: -1884142.0\n",
      "Epoch 85 loss: -1704383.375\n",
      "Epoch 86 loss: -1663336.625\n",
      "Epoch 87 loss: -1728978.625\n",
      "Epoch 88 loss: -1711144.25\n",
      "Epoch 89 loss: -1855272.0\n",
      "Epoch 90 loss: -1724108.625\n",
      "Epoch 91 loss: -1719684.875\n",
      "Epoch 92 loss: -1727505.625\n",
      "Epoch 93 loss: -2151320.25\n",
      "Epoch 94 loss: -1912256.0\n",
      "Epoch 95 loss: -1780110.375\n",
      "Epoch 96 loss: -1647310.375\n",
      "Epoch 97 loss: -1853392.875\n",
      "Epoch 98 loss: -2415815.0\n",
      "Epoch 99 loss: -1743833.25\n",
      "Epoch 100 loss: -1839602.375\n",
      "Epoch 101 loss: -2137167.75\n",
      "Epoch 102 loss: -4787992.5\n",
      "Epoch 103 loss: -5029813.5\n",
      "Epoch 104 loss: -5273753.5\n",
      "Epoch 105 loss: -5618247.5\n",
      "Epoch 106 loss: -6077111.0\n",
      "Epoch 107 loss: -5880906.5\n",
      "Epoch 108 loss: -6183452.0\n",
      "Epoch 109 loss: -6568115.0\n",
      "Epoch 110 loss: -6576758.5\n",
      "Epoch 111 loss: -7466873.5\n",
      "Epoch 112 loss: -7690574.5\n",
      "Epoch 113 loss: -9352299.0\n",
      "Epoch 114 loss: -10121924.0\n",
      "Epoch 115 loss: -11482618.0\n",
      "Epoch 116 loss: -15382467.0\n",
      "Epoch 117 loss: -27510192.0\n",
      "Epoch 118 loss: -141533600.0\n",
      "Epoch 119 loss: -585886.25\n",
      "Epoch 120 loss: -825693.5\n",
      "Epoch 121 loss: -652325.3125\n",
      "Epoch 122 loss: -724583.8125\n",
      "Epoch 123 loss: -625539.1875\n",
      "Epoch 124 loss: -720600.0\n",
      "Epoch 125 loss: -598228.0625\n",
      "Epoch 126 loss: -688743.0\n",
      "Epoch 127 loss: -615973.6875\n",
      "Epoch 128 loss: -650151.6875\n",
      "Epoch 129 loss: -678116.6875\n",
      "Epoch 130 loss: -553395.3125\n",
      "Epoch 131 loss: -836613.4375\n",
      "Epoch 132 loss: -708834.5625\n",
      "Epoch 133 loss: -752042.125\n",
      "Epoch 134 loss: -811516.5625\n",
      "Epoch 135 loss: -646534.625\n",
      "Epoch 136 loss: -709392.5625\n",
      "Epoch 137 loss: -714295.6875\n",
      "Epoch 138 loss: -839839.0\n",
      "Epoch 139 loss: -876252.3125\n",
      "Epoch 140 loss: -906080.1875\n",
      "Epoch 141 loss: -1000038.625\n",
      "Epoch 142 loss: -758102.25\n",
      "Epoch 143 loss: -642302.125\n",
      "Epoch 144 loss: -777076.4375\n",
      "Epoch 145 loss: -734745.5\n",
      "Epoch 146 loss: -623781.6875\n",
      "Epoch 147 loss: -838705.1875\n",
      "Epoch 148 loss: -3364147.25\n",
      "Epoch 149 loss: -15039549.0\n",
      "Epoch 150 loss: -16708899.0\n",
      "Epoch 151 loss: -22050262.0\n",
      "Epoch 152 loss: -25669470.0\n",
      "Epoch 153 loss: -34081908.0\n",
      "Epoch 154 loss: -27303268.0\n",
      "Epoch 155 loss: -178996736.0\n",
      "Epoch 156 loss: -11985271.0\n",
      "Epoch 157 loss: -11302229.0\n",
      "Epoch 158 loss: -12173969.0\n",
      "Epoch 159 loss: -24006826.0\n",
      "Epoch 160 loss: -27726654.0\n",
      "Epoch 161 loss: -27154534.0\n",
      "Epoch 162 loss: -39596180.0\n",
      "Epoch 163 loss: -36964296.0\n",
      "Epoch 164 loss: -54606464.0\n",
      "Epoch 165 loss: -62929452.0\n",
      "Epoch 166 loss: -73154960.0\n",
      "Epoch 167 loss: -126732648.0\n",
      "Epoch 168 loss: -1123702528.0\n",
      "Epoch 169 loss: -180930352.0\n",
      "Epoch 170 loss: -2774380288.0\n",
      "Epoch 171 loss: -43821408.0\n",
      "Epoch 172 loss: -71539520.0\n",
      "Epoch 173 loss: -79427016.0\n",
      "Epoch 174 loss: -255817712.0\n",
      "Epoch 175 loss: -158217072.0\n",
      "Epoch 176 loss: -28980070.0\n",
      "Epoch 177 loss: -31146426.0\n",
      "Epoch 178 loss: -29412158.0\n",
      "Epoch 179 loss: -38482344.0\n",
      "Epoch 180 loss: -32503782.0\n",
      "Epoch 181 loss: -31714356.0\n",
      "Epoch 182 loss: -44944180.0\n",
      "Epoch 183 loss: -54699200.0\n",
      "Epoch 184 loss: -64423308.0\n",
      "Epoch 185 loss: -44685076.0\n",
      "Epoch 186 loss: -145419408.0\n",
      "Epoch 187 loss: -411010368.0\n",
      "Epoch 188 loss: -16336701.0\n",
      "Epoch 189 loss: -16904228.0\n",
      "Epoch 190 loss: -17958714.0\n",
      "Epoch 191 loss: -19526800.0\n",
      "Epoch 192 loss: -17553706.0\n",
      "Epoch 193 loss: -19277648.0\n",
      "Epoch 194 loss: -16903436.0\n",
      "Epoch 195 loss: -18838624.0\n",
      "Epoch 196 loss: -18868694.0\n",
      "Epoch 197 loss: -20774114.0\n",
      "Epoch 198 loss: -19081292.0\n",
      "Epoch 199 loss: -14205984.0\n"
     ]
    }
   ],
   "source": [
    "BATCH_SIZE = 50\n",
    "NUM_EPOCHS = 200\n",
    "LR = 1e-10\n",
    "assert N % BATCH_SIZE == 0\n",
    "epoch_losses = []\n",
    "for epoch in range(NUM_EPOCHS):\n",
    "    perm = jax.random.permutation(key, pinwheel)\n",
    "    losses = []\n",
    "    for i in range(N // BATCH_SIZE):\n",
    "        batch = perm[i*BATCH_SIZE:(i+1)*BATCH_SIZE]\n",
    "        vf_grad, model_grad, loss = batched_loss_and_grad(\n",
    "            key, batch, model_params, vf_params)\n",
    "        vf_params = jtu.tree_map(lambda p, g: p - LR * g, vf_params, vf_grad)\n",
    "        model_params = jtu.tree_map(lambda p, g: p - LR * g, model_params, model_grad)\n",
    "        key = jax.random.split(key)[0]\n",
    "        losses.append(loss)\n",
    "    epoch_losses.append(jnp.array(losses).mean())\n",
    "    print(f'Epoch {epoch} loss: {epoch_losses[-1]}')"
   ]
  },
  {
   "cell_type": "code",
   "execution_count": 17,
   "id": "0c8b0f39-5a17-4e67-acc4-7ee18fed191d",
   "metadata": {},
   "outputs": [
    {
     "data": {
      "text/html": [
       "<pre style=\"white-space:pre;overflow-x:auto;line-height:normal;font-family:Menlo,'DejaVu Sans Mono',consolas,'Courier New',monospace\"></pre>\n"
      ],
      "text/plain": []
     },
     "metadata": {},
     "output_type": "display_data"
    },
    {
     "data": {
      "text/plain": [
       "\u001b[1m[\u001b[0m\u001b[1m<\u001b[0m\u001b[1;95mmatplotlib.lines.Line2D\u001b[0m\u001b[39m object at \u001b[0m\u001b[1;36m0x7f6b68f65d50\u001b[0m\u001b[1m>\u001b[0m\u001b[1m]\u001b[0m"
      ]
     },
     "execution_count": 17,
     "metadata": {},
     "output_type": "execute_result"
    },
    {
     "data": {
      "text/html": [
       "<pre style=\"white-space:pre;overflow-x:auto;line-height:normal;font-family:Menlo,'DejaVu Sans Mono',consolas,'Courier New',monospace\"></pre>\n"
      ],
      "text/plain": []
     },
     "metadata": {},
     "output_type": "display_data"
    },
    {
     "data": {
      "image/png": "[encoded data removed]",
      "text/plain": [
       "\u001b[1m<\u001b[0m\u001b[1;95mFigure\u001b[0m\u001b[39m size 64\u001b[0m\u001b[1;36m0x480\u001b[0m\u001b[39m with \u001b[0m\u001b[1;36m1\u001b[0m\u001b[39m Axes\u001b[0m\u001b[1m>\u001b[0m"
      ]
     },
     "metadata": {},
     "output_type": "display_data"
    }
   ],
   "source": [
    "plt.plot(epoch_losses)"
   ]
  },
  {
   "cell_type": "code",
   "execution_count": null,
   "id": "af8e544c-95b8-4c31-934b-0030d8384b23",
   "metadata": {},
   "outputs": [],
   "source": []
  }
 ],
 "metadata": {
  "kernelspec": {
   "display_name": "Python 3 (ipykernel)",
   "language": "python",
   "name": "python3"
  },
  "language_info": {
   "codemirror_mode": {
    "name": "ipython",
    "version": 3
   },
   "file_extension": ".py",
   "mimetype": "text/x-python",
   "name": "python",
   "nbconvert_exporter": "python",
   "pygments_lexer": "ipython3",
   "version": "3.11.6"
  }
 },
 "nbformat": 4,
 "nbformat_minor": 5
}
