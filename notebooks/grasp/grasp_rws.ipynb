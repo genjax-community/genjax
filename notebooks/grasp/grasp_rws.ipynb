{
 "cells": [
  {
   "cell_type": "markdown",
   "id": "b5f75995-7aaa-4e5b-ac08-d3f8aeed80f4",
   "metadata": {},
   "source": [
    "# "
   ]
  },
  {
   "cell_type": "code",
   "execution_count": 1,
   "id": "c2d87600-14ab-41a4-a797-485d3a1117ae",
   "metadata": {},
   "outputs": [],
   "source": [
    "import jax\n",
    "import jax.numpy as jnp\n",
    "import jax.tree_util as jtu\n",
    "from jax.scipy.special import logsumexp\n",
    "import genjax\n",
    "from genjax import grasp\n",
    "import matplotlib.pyplot as plt\n",
    "from functools import reduce"
   ]
  },
  {
   "cell_type": "code",
   "execution_count": 2,
   "id": "12081daa-837a-467c-989c-f87940a6ed86",
   "metadata": {},
   "outputs": [],
   "source": [
    "console = genjax.pretty()"
   ]
  },
  {
   "cell_type": "code",
   "execution_count": 3,
   "id": "4e94bdbe-89ea-4613-8e5f-aba7ae0e73cd",
   "metadata": {},
   "outputs": [],
   "source": [
    "# from https://github.com/mattjj/svae/blob/master/experiments/gmm_svae_synth.py\n",
    "def make_pinwheel_data(\n",
    "    key, radial_std, tangential_std, num_classes, num_per_class, rate\n",
    "):\n",
    "    keys = jax.random.split(key, 2)\n",
    "    rads = jnp.linspace(0, 2 * jnp.pi, num_classes, endpoint=False)\n",
    "\n",
    "    features = jax.random.normal(keys[0], (num_classes * num_per_class, 2)) * jnp.array(\n",
    "        [radial_std, tangential_std]\n",
    "    )\n",
    "    features = features.at[:, 0].add(1.0)\n",
    "    labels = jnp.repeat(jnp.arange(num_classes), num_per_class)\n",
    "\n",
    "    angles = rads[labels] + rate * jnp.exp(features[:, 0])\n",
    "    rotations = jnp.stack(\n",
    "        [jnp.cos(angles), -jnp.sin(angles), jnp.sin(angles), jnp.cos(angles)]\n",
    "    )\n",
    "    rotations = jnp.reshape(rotations.T, (-1, 2, 2))\n",
    "\n",
    "    return 10 * jax.random.permutation(\n",
    "        keys[1], jnp.einsum(\"ti,tij->tj\", features, rotations)\n",
    "    )"
   ]
  },
  {
   "cell_type": "code",
   "execution_count": 4,
   "id": "c3309d38-1587-47ae-8d33-3ddabe881100",
   "metadata": {},
   "outputs": [
    {
     "name": "stdout",
     "output_type": "stream",
     "text": [
      "500\n"
     ]
    },
    {
     "data": {
      "text/html": [
       "<pre style=\"white-space:pre;overflow-x:auto;line-height:normal;font-family:Menlo,'DejaVu Sans Mono',consolas,'Courier New',monospace\"></pre>\n"
      ],
      "text/plain": []
     },
     "metadata": {},
     "output_type": "display_data"
    },
    {
     "data": {
      "text/plain": [
       "\u001b[1m<\u001b[0m\u001b[1;95mmatplotlib.collections.PathCollection\u001b[0m\u001b[39m object at \u001b[0m\u001b[1;36m0x7fab9d4bbf50\u001b[0m\u001b[1m>\u001b[0m"
      ]
     },
     "execution_count": 4,
     "metadata": {},
     "output_type": "execute_result"
    },
    {
     "data": {
      "text/html": [
       "<pre style=\"white-space:pre;overflow-x:auto;line-height:normal;font-family:Menlo,'DejaVu Sans Mono',consolas,'Courier New',monospace\"></pre>\n"
      ],
      "text/plain": []
     },
     "metadata": {},
     "output_type": "display_data"
    },
    {
     "data": {
      "image/png": "[encoded data removed]",
      "text/plain": [
       "\u001b[1m<\u001b[0m\u001b[1;95mFigure\u001b[0m\u001b[39m size 64\u001b[0m\u001b[1;36m0x480\u001b[0m\u001b[39m with \u001b[0m\u001b[1;36m1\u001b[0m\u001b[39m Axes\u001b[0m\u001b[1m>\u001b[0m"
      ]
     },
     "metadata": {},
     "output_type": "display_data"
    }
   ],
   "source": [
    "NUM_CLUSTERS = 5\n",
    "POINTS_PER_CLUSTER = 100\n",
    "N = NUM_CLUSTERS * POINTS_PER_CLUSTER\n",
    "print(N)\n",
    "pinwheel = make_pinwheel_data(\n",
    "    jax.random.PRNGKey(0), 0.3, 0.05, NUM_CLUSTERS, POINTS_PER_CLUSTER, 0.25\n",
    ")\n",
    "plt.scatter(pinwheel[:, 0], pinwheel[:, 1], marker=\".\", c=\"black\")"
   ]
  },
  {
   "cell_type": "markdown",
   "id": "9edb1cf2-036e-4ab7-9238-8ae668dccaa2",
   "metadata": {},
   "source": [
    "---"
   ]
  },
  {
   "cell_type": "code",
   "execution_count": 5,
   "id": "043089a4-bf80-4db4-967d-f52db4ab3189",
   "metadata": {},
   "outputs": [],
   "source": [
    "mlp = lambda x, ws: reduce(lambda z, w: jax.nn.leaky_relu(w @ z), ws, x)\n",
    "matsqr = lambda x: x @ x\n",
    "key = jax.random.PRNGKey(0)"
   ]
  },
  {
   "cell_type": "code",
   "execution_count": 6,
   "id": "b5aac189-909c-49bb-a084-6f5522b7e6a5",
   "metadata": {},
   "outputs": [],
   "source": [
    "@genjax.gen\n",
    "def model(params):\n",
    "    logits, means, scales, mean_ws, scale_ws = params\n",
    "    z = grasp.categorical_enum(logits) @ \"z\"\n",
    "    cluster_mean = jax.lax.dynamic_index_in_dim(means, z, keepdims=False)\n",
    "    cluster_scale = jax.lax.dynamic_index_in_dim(scales, z, keepdims=False)\n",
    "    x = grasp.mv_normal_reparam(cluster_mean, matsqr(cluster_scale)) @ \"x\"\n",
    "    point_mean = mlp(x, mean_ws)\n",
    "    point_scale = mlp(x, scale_ws).reshape(2, 2)\n",
    "    grasp.mv_normal_reparam(point_mean, matsqr(point_scale)) @ \"y\""
   ]
  },
  {
   "cell_type": "code",
   "execution_count": 7,
   "id": "60ef91fd-ecb5-4064-b66b-5b029afad146",
   "metadata": {},
   "outputs": [],
   "source": [
    "model_params0 = (\n",
    "    jnp.ones(NUM_CLUSTERS),  # logits\n",
    "    jnp.arange(2 * NUM_CLUSTERS, dtype=jnp.float32).reshape(NUM_CLUSTERS, 2),  # means\n",
    "    jnp.ones((NUM_CLUSTERS, 2, 2)),  # scales\n",
    "    (\n",
    "        jax.random.uniform(key, (10, 2)),\n",
    "        jax.random.uniform(key, (10, 10)),\n",
    "        jax.random.uniform(key, (10, 10)),\n",
    "        jax.random.uniform(key, (2, 10)),\n",
    "    ),  # mean_ws\n",
    "    (\n",
    "        jax.random.uniform(key, (10, 2)),\n",
    "        jax.random.uniform(key, (10, 10)),\n",
    "        jax.random.uniform(key, (10, 10)),\n",
    "        jax.random.uniform(key, (4, 10)),\n",
    "    ),  # scale_ws\n",
    ")\n",
    "model_params = model_params0"
   ]
  },
  {
   "cell_type": "code",
   "execution_count": 8,
   "id": "53188202-a9c5-4327-90bf-e9052ea12e44",
   "metadata": {},
   "outputs": [
    {
     "data": {
      "text/html": [
       "<pre style=\"white-space:pre;overflow-x:auto;line-height:normal;font-family:Menlo,'DejaVu Sans Mono',consolas,'Courier New',monospace\"></pre>\n"
      ],
      "text/plain": []
     },
     "metadata": {},
     "output_type": "display_data"
    },
    {
     "data": {
      "text/plain": [
       "\n",
       "\u001b[1m(\u001b[0m\n",
       "    \u001b[1;35mArray\u001b[0m\u001b[1m(\u001b[0m\u001b[1;36m2\u001b[0m, \u001b[33mdtype\u001b[0m=\u001b[35mint32\u001b[0m\u001b[1m)\u001b[0m,\n",
       "    \u001b[1;35mArray\u001b[0m\u001b[1m(\u001b[0m\u001b[1m[\u001b[0m\u001b[1;36m4.0123134\u001b[0m, \u001b[1;36m5.0122967\u001b[0m\u001b[1m]\u001b[0m, \u001b[33mdtype\u001b[0m=\u001b[35mfloat32\u001b[0m\u001b[1m)\u001b[0m,\n",
       "    \u001b[1;35mArray\u001b[0m\u001b[1m(\u001b[0m\u001b[1m[\u001b[0m\u001b[1;36m-163.33075\u001b[0m, \u001b[1;36m-213.26239\u001b[0m\u001b[1m]\u001b[0m, \u001b[33mdtype\u001b[0m=\u001b[35mfloat32\u001b[0m\u001b[1m)\u001b[0m\n",
       "\u001b[1m)\u001b[0m"
      ]
     },
     "execution_count": 8,
     "metadata": {},
     "output_type": "execute_result"
    }
   ],
   "source": [
    "ch = model.simulate(key, (model_params,)).strip()\n",
    "ch[\"z\"], ch[\"x\"], ch[\"y\"]"
   ]
  },
  {
   "cell_type": "code",
   "execution_count": 9,
   "id": "b09ba9f6-ed08-4929-a48d-309c77abb441",
   "metadata": {},
   "outputs": [],
   "source": [
    "@genjax.gen\n",
    "def variational_family(params, data):\n",
    "    mean_ws, scale_ws, cat_ws = params\n",
    "    cluster_mean = mlp(data[\"y\"], mean_ws)\n",
    "    cluster_scale = mlp(data[\"y\"], scale_ws).reshape(2, 2)\n",
    "    x = grasp.mv_normal_reparam(cluster_mean, matsqr(cluster_scale)) @ \"x\"\n",
    "    z = grasp.categorical_enum(mlp(x, cat_ws)) @ \"z\""
   ]
  },
  {
   "cell_type": "code",
   "execution_count": 10,
   "id": "25e0e5c5-e1d0-479c-9937-4ce6ef5e176a",
   "metadata": {},
   "outputs": [],
   "source": [
    "vf_params0 = (\n",
    "    (\n",
    "        jax.random.uniform(key, (10, 2)),\n",
    "        jax.random.uniform(key, (10, 10)),\n",
    "        jax.random.uniform(key, (10, 10)),\n",
    "        jax.random.uniform(key, (2, 10)),\n",
    "    ),  # mean_ws\n",
    "    (\n",
    "        jax.random.uniform(key, (10, 2)),\n",
    "        jax.random.uniform(key, (10, 10)),\n",
    "        jax.random.uniform(key, (10, 10)),\n",
    "        jax.random.uniform(key, (4, 10)),\n",
    "    ),  # scale_ws\n",
    "    (\n",
    "        jax.random.uniform(key, (10, 2)),\n",
    "        jax.random.uniform(key, (10, 10)),\n",
    "        jax.random.uniform(key, (10, 10)),\n",
    "        jax.random.uniform(key, (NUM_CLUSTERS, 10)),\n",
    "    ),  # cat_ws\n",
    ")\n",
    "vf_params = vf_params0"
   ]
  },
  {
   "cell_type": "code",
   "execution_count": 11,
   "id": "e16debc0-7d65-429c-b403-cd3451fe3f13",
   "metadata": {},
   "outputs": [
    {
     "data": {
      "text/html": [
       "<pre style=\"white-space:pre;overflow-x:auto;line-height:normal;font-family:Menlo,'DejaVu Sans Mono',consolas,'Courier New',monospace\"></pre>\n"
      ],
      "text/plain": []
     },
     "metadata": {},
     "output_type": "display_data"
    },
    {
     "data": {
      "text/plain": [
       "\u001b[1m(\u001b[0m\u001b[1;35mArray\u001b[0m\u001b[1m(\u001b[0m\u001b[1m[\u001b[0m\u001b[1;36m-6.3091993e-06\u001b[0m, \u001b[1;36m-9.2071468e-06\u001b[0m\u001b[1m]\u001b[0m, \u001b[33mdtype\u001b[0m=\u001b[35mfloat32\u001b[0m\u001b[1m)\u001b[0m, \u001b[1;35mArray\u001b[0m\u001b[1m(\u001b[0m\u001b[1;36m4\u001b[0m, \u001b[33mdtype\u001b[0m=\u001b[35mint32\u001b[0m\u001b[1m)\u001b[0m\u001b[1m)\u001b[0m"
      ]
     },
     "execution_count": 11,
     "metadata": {},
     "output_type": "execute_result"
    }
   ],
   "source": [
    "pinwheel_data = genjax.choice_map({\"y\": pinwheel[0, :]})\n",
    "ch = variational_family.simulate(key, (vf_params, pinwheel_data)).strip()\n",
    "ch[\"x\"], ch[\"z\"]"
   ]
  },
  {
   "cell_type": "code",
   "execution_count": 12,
   "id": "3f9684d8-5b7b-45ef-b3a2-d03e2e9cc9a0",
   "metadata": {},
   "outputs": [],
   "source": [
    "def make_batched_loss_and_grad(model, vf):\n",
    "    def loss_and_grad(key, datapoint, model_params, vf_params):\n",
    "        data = genjax.choice_map({\"y\": datapoint})\n",
    "        objective = grasp.elbo(model, vf, data)\n",
    "        loss, ((model_grad,), (vf_grad, data)) = objective.value_and_grad_estimate(\n",
    "            key, ((model_params,), (vf_params, data))\n",
    "        )\n",
    "\n",
    "        return (vf_grad, model_grad), loss\n",
    "\n",
    "    def batched_loss_and_grad(key, batch, model_params, vf_params):\n",
    "        mapped_loss_and_grad = jax.vmap(loss_and_grad, in_axes=(0, 0, None, None))\n",
    "        keys = jax.random.split(key, len(batch))\n",
    "        (vf_grads, model_grads), losses = mapped_loss_and_grad(\n",
    "            keys, batch, model_params, vf_params\n",
    "        )\n",
    "        vf_grad = jtu.tree_map(lambda a: a.mean(axis=0), vf_grads)\n",
    "        model_grad = jtu.tree_map(lambda a: a.mean(axis=0), model_grads)\n",
    "        return vf_grad, model_grad, losses.mean()\n",
    "\n",
    "    return batched_loss_and_grad"
   ]
  },
  {
   "cell_type": "code",
   "execution_count": 13,
   "id": "6aadf652-2943-49aa-b689-7d589d16b6bb",
   "metadata": {},
   "outputs": [],
   "source": [
    "batched_loss_and_grad = jax.jit(make_batched_loss_and_grad(model, variational_family))"
   ]
  },
  {
   "cell_type": "code",
   "execution_count": 14,
   "id": "063c0a27-bb92-49ea-bfff-c80a32f84f41",
   "metadata": {},
   "outputs": [
    {
     "name": "stdout",
     "output_type": "stream",
     "text": [
      "Epoch 0 loss: nan\n",
      "Epoch 1 loss: nan\n",
      "Epoch 2 loss: nan\n",
      "Epoch 3 loss: nan\n",
      "Epoch 4 loss: nan\n"
     ]
    }
   ],
   "source": [
    "BATCH_SIZE = 20\n",
    "NUM_EPOCHS = 5\n",
    "LR = 1e-4\n",
    "assert N % BATCH_SIZE == 0\n",
    "for epoch in range(NUM_EPOCHS):\n",
    "    perm = jax.random.permutation(key, pinwheel)\n",
    "    losses = []\n",
    "    for i in range(N // BATCH_SIZE):\n",
    "        batch = perm[i * BATCH_SIZE : (i + 1) * BATCH_SIZE]\n",
    "        vf_grad, model_grad, loss = batched_loss_and_grad(\n",
    "            key, batch, model_params, vf_params\n",
    "        )\n",
    "        vf_params = jtu.tree_map(lambda p, g: p - LR * g, vf_params, vf_grad)\n",
    "        model_params = jtu.tree_map(lambda p, g: p - LR * g, model_params, model_grad)\n",
    "        key = jax.random.split(key)[0]\n",
    "        losses.append(loss)\n",
    "    print(f\"Epoch {epoch} loss: {jnp.array(losses).mean()}\")"
   ]
  },
  {
   "cell_type": "code",
   "execution_count": 15,
   "id": "3bc8c176-10c5-436c-96b9-85295366d41a",
   "metadata": {},
   "outputs": [],
   "source": [
    "i = 0\n",
    "model_params, vf_params = model_params0, vf_params0\n",
    "batch = perm[i * BATCH_SIZE : (i + 1) * BATCH_SIZE]\n",
    "vf_grad, model_grad, loss = batched_loss_and_grad(key, batch, model_params, vf_params)\n",
    "# vf_params = jtu.tree_map(lambda p, g: p - LR * g, vf_params, vf_grad)\n",
    "# model_params = jtu.tree_map(lambda p, g: p - LR * g, model_params, model_grad)\n",
    "key = jax.random.split(key)[0]"
   ]
  },
  {
   "cell_type": "code",
   "execution_count": 16,
   "id": "c5add787-957c-4295-a145-5556793131b5",
   "metadata": {},
   "outputs": [
    {
     "data": {
      "text/html": [
       "<pre style=\"white-space:pre;overflow-x:auto;line-height:normal;font-family:Menlo,'DejaVu Sans Mono',consolas,'Courier New',monospace\"></pre>\n"
      ],
      "text/plain": []
     },
     "metadata": {},
     "output_type": "display_data"
    },
    {
     "data": {
      "text/plain": [
       "\n",
       "\u001b[1m(\u001b[0m\n",
       "    \u001b[1;35mArray\u001b[0m\u001b[1m(\u001b[0m\u001b[1m[\u001b[0mnan, nan, nan, nan, nan\u001b[1m]\u001b[0m, \u001b[33mdtype\u001b[0m=\u001b[35mfloat32\u001b[0m\u001b[1m)\u001b[0m,\n",
       "    \u001b[1;35mArray\u001b[0m\u001b[1m(\u001b[0m\u001b[1m[\u001b[0m\u001b[1m[\u001b[0mnan, nan\u001b[1m]\u001b[0m,\n",
       "       \u001b[1m[\u001b[0mnan, nan\u001b[1m]\u001b[0m,\n",
       "       \u001b[1m[\u001b[0mnan, nan\u001b[1m]\u001b[0m,\n",
       "       \u001b[1m[\u001b[0mnan, nan\u001b[1m]\u001b[0m,\n",
       "       \u001b[1m[\u001b[0mnan, nan\u001b[1m]\u001b[0m\u001b[1m]\u001b[0m, \u001b[33mdtype\u001b[0m=\u001b[35mfloat32\u001b[0m\u001b[1m)\u001b[0m,\n",
       "    \u001b[1;35mArray\u001b[0m\u001b[1m(\u001b[0m\u001b[1m[\u001b[0m\u001b[1m[\u001b[0m\u001b[1m[\u001b[0mnan, nan\u001b[1m]\u001b[0m,\n",
       "        \u001b[1m[\u001b[0mnan, nan\u001b[1m]\u001b[0m\u001b[1m]\u001b[0m,\n",
       "\n",
       "       \u001b[1m[\u001b[0m\u001b[1m[\u001b[0mnan, nan\u001b[1m]\u001b[0m,\n",
       "        \u001b[1m[\u001b[0mnan, nan\u001b[1m]\u001b[0m\u001b[1m]\u001b[0m,\n",
       "\n",
       "       \u001b[1m[\u001b[0m\u001b[1m[\u001b[0mnan, nan\u001b[1m]\u001b[0m,\n",
       "        \u001b[1m[\u001b[0mnan, nan\u001b[1m]\u001b[0m\u001b[1m]\u001b[0m,\n",
       "\n",
       "       \u001b[1m[\u001b[0m\u001b[1m[\u001b[0mnan, nan\u001b[1m]\u001b[0m,\n",
       "        \u001b[1m[\u001b[0mnan, nan\u001b[1m]\u001b[0m\u001b[1m]\u001b[0m,\n",
       "\n",
       "       \u001b[1m[\u001b[0m\u001b[1m[\u001b[0mnan, nan\u001b[1m]\u001b[0m,\n",
       "        \u001b[1m[\u001b[0mnan, nan\u001b[1m]\u001b[0m\u001b[1m]\u001b[0m\u001b[1m]\u001b[0m, \u001b[33mdtype\u001b[0m=\u001b[35mfloat32\u001b[0m\u001b[1m)\u001b[0m,\n",
       "    \u001b[1m(\u001b[0m\n",
       "        \u001b[1;35mArray\u001b[0m\u001b[1m(\u001b[0m\u001b[1m[\u001b[0m\u001b[1m[\u001b[0mnan, nan\u001b[1m]\u001b[0m,\n",
       "       \u001b[1m[\u001b[0mnan, nan\u001b[1m]\u001b[0m,\n",
       "       \u001b[1m[\u001b[0mnan, nan\u001b[1m]\u001b[0m,\n",
       "       \u001b[1m[\u001b[0mnan, nan\u001b[1m]\u001b[0m,\n",
       "       \u001b[1m[\u001b[0mnan, nan\u001b[1m]\u001b[0m,\n",
       "       \u001b[1m[\u001b[0mnan, nan\u001b[1m]\u001b[0m,\n",
       "       \u001b[1m[\u001b[0mnan, nan\u001b[1m]\u001b[0m,\n",
       "       \u001b[1m[\u001b[0mnan, nan\u001b[1m]\u001b[0m,\n",
       "       \u001b[1m[\u001b[0mnan, nan\u001b[1m]\u001b[0m,\n",
       "       \u001b[1m[\u001b[0mnan, nan\u001b[1m]\u001b[0m\u001b[1m]\u001b[0m, \u001b[33mdtype\u001b[0m=\u001b[35mfloat32\u001b[0m\u001b[1m)\u001b[0m,\n",
       "        \u001b[1;35mArray\u001b[0m\u001b[1m(\u001b[0m\u001b[1m[\u001b[0m\u001b[1m[\u001b[0mnan, nan, nan, nan, nan, nan, nan, nan, nan, nan\u001b[1m]\u001b[0m,\n",
       "       \u001b[1m[\u001b[0mnan, nan, nan, nan, nan, nan, nan, nan, nan, nan\u001b[1m]\u001b[0m,\n",
       "       \u001b[1m[\u001b[0mnan, nan, nan, nan, nan, nan, nan, nan, nan, nan\u001b[1m]\u001b[0m,\n",
       "       \u001b[1m[\u001b[0mnan, nan, nan, nan, nan, nan, nan, nan, nan, nan\u001b[1m]\u001b[0m,\n",
       "       \u001b[1m[\u001b[0mnan, nan, nan, nan, nan, nan, nan, nan, nan, nan\u001b[1m]\u001b[0m,\n",
       "       \u001b[1m[\u001b[0mnan, nan, nan, nan, nan, nan, nan, nan, nan, nan\u001b[1m]\u001b[0m,\n",
       "       \u001b[1m[\u001b[0mnan, nan, nan, nan, nan, nan, nan, nan, nan, nan\u001b[1m]\u001b[0m,\n",
       "       \u001b[1m[\u001b[0mnan, nan, nan, nan, nan, nan, nan, nan, nan, nan\u001b[1m]\u001b[0m,\n",
       "       \u001b[1m[\u001b[0mnan, nan, nan, nan, nan, nan, nan, nan, nan, nan\u001b[1m]\u001b[0m,\n",
       "       \u001b[1m[\u001b[0mnan, nan, nan, nan, nan, nan, nan, nan, nan, nan\u001b[1m]\u001b[0m\u001b[1m]\u001b[0m, \u001b[33mdtype\u001b[0m=\u001b[35mfloat32\u001b[0m\u001b[1m)\u001b[0m,\n",
       "        \u001b[1;35mArray\u001b[0m\u001b[1m(\u001b[0m\u001b[1m[\u001b[0m\u001b[1m[\u001b[0mnan, nan, nan, nan, nan, nan, nan, nan, nan, nan\u001b[1m]\u001b[0m,\n",
       "       \u001b[1m[\u001b[0mnan, nan, nan, nan, nan, nan, nan, nan, nan, nan\u001b[1m]\u001b[0m,\n",
       "       \u001b[1m[\u001b[0mnan, nan, nan, nan, nan, nan, nan, nan, nan, nan\u001b[1m]\u001b[0m,\n",
       "       \u001b[1m[\u001b[0mnan, nan, nan, nan, nan, nan, nan, nan, nan, nan\u001b[1m]\u001b[0m,\n",
       "       \u001b[1m[\u001b[0mnan, nan, nan, nan, nan, nan, nan, nan, nan, nan\u001b[1m]\u001b[0m,\n",
       "       \u001b[1m[\u001b[0mnan, nan, nan, nan, nan, nan, nan, nan, nan, nan\u001b[1m]\u001b[0m,\n",
       "       \u001b[1m[\u001b[0mnan, nan, nan, nan, nan, nan, nan, nan, nan, nan\u001b[1m]\u001b[0m,\n",
       "       \u001b[1m[\u001b[0mnan, nan, nan, nan, nan, nan, nan, nan, nan, nan\u001b[1m]\u001b[0m,\n",
       "       \u001b[1m[\u001b[0mnan, nan, nan, nan, nan, nan, nan, nan, nan, nan\u001b[1m]\u001b[0m,\n",
       "       \u001b[1m[\u001b[0mnan, nan, nan, nan, nan, nan, nan, nan, nan, nan\u001b[1m]\u001b[0m\u001b[1m]\u001b[0m, \u001b[33mdtype\u001b[0m=\u001b[35mfloat32\u001b[0m\u001b[1m)\u001b[0m,\n",
       "        \u001b[1;35mArray\u001b[0m\u001b[1m(\u001b[0m\u001b[1m[\u001b[0m\u001b[1m[\u001b[0mnan, nan, nan, nan, nan, nan, nan, nan, nan, nan\u001b[1m]\u001b[0m,\n",
       "       \u001b[1m[\u001b[0mnan, nan, nan, nan, nan, nan, nan, nan, nan, nan\u001b[1m]\u001b[0m\u001b[1m]\u001b[0m, \u001b[33mdtype\u001b[0m=\u001b[35mfloat32\u001b[0m\u001b[1m)\u001b[0m\n",
       "    \u001b[1m)\u001b[0m,\n",
       "    \u001b[1m(\u001b[0m\n",
       "        \u001b[1;35mArray\u001b[0m\u001b[1m(\u001b[0m\u001b[1m[\u001b[0m\u001b[1m[\u001b[0mnan, nan\u001b[1m]\u001b[0m,\n",
       "       \u001b[1m[\u001b[0mnan, nan\u001b[1m]\u001b[0m,\n",
       "       \u001b[1m[\u001b[0mnan, nan\u001b[1m]\u001b[0m,\n",
       "       \u001b[1m[\u001b[0mnan, nan\u001b[1m]\u001b[0m,\n",
       "       \u001b[1m[\u001b[0mnan, nan\u001b[1m]\u001b[0m,\n",
       "       \u001b[1m[\u001b[0mnan, nan\u001b[1m]\u001b[0m,\n",
       "       \u001b[1m[\u001b[0mnan, nan\u001b[1m]\u001b[0m,\n",
       "       \u001b[1m[\u001b[0mnan, nan\u001b[1m]\u001b[0m,\n",
       "       \u001b[1m[\u001b[0mnan, nan\u001b[1m]\u001b[0m,\n",
       "       \u001b[1m[\u001b[0mnan, nan\u001b[1m]\u001b[0m\u001b[1m]\u001b[0m, \u001b[33mdtype\u001b[0m=\u001b[35mfloat32\u001b[0m\u001b[1m)\u001b[0m,\n",
       "        \u001b[1;35mArray\u001b[0m\u001b[1m(\u001b[0m\u001b[1m[\u001b[0m\u001b[1m[\u001b[0mnan, nan, nan, nan, nan, nan, nan, nan, nan, nan\u001b[1m]\u001b[0m,\n",
       "       \u001b[1m[\u001b[0mnan, nan, nan, nan, nan, nan, nan, nan, nan, nan\u001b[1m]\u001b[0m,\n",
       "       \u001b[1m[\u001b[0mnan, nan, nan, nan, nan, nan, nan, nan, nan, nan\u001b[1m]\u001b[0m,\n",
       "       \u001b[1m[\u001b[0mnan, nan, nan, nan, nan, nan, nan, nan, nan, nan\u001b[1m]\u001b[0m,\n",
       "       \u001b[1m[\u001b[0mnan, nan, nan, nan, nan, nan, nan, nan, nan, nan\u001b[1m]\u001b[0m,\n",
       "       \u001b[1m[\u001b[0mnan, nan, nan, nan, nan, nan, nan, nan, nan, nan\u001b[1m]\u001b[0m,\n",
       "       \u001b[1m[\u001b[0mnan, nan, nan, nan, nan, nan, nan, nan, nan, nan\u001b[1m]\u001b[0m,\n",
       "       \u001b[1m[\u001b[0mnan, nan, nan, nan, nan, nan, nan, nan, nan, nan\u001b[1m]\u001b[0m,\n",
       "       \u001b[1m[\u001b[0mnan, nan, nan, nan, nan, nan, nan, nan, nan, nan\u001b[1m]\u001b[0m,\n",
       "       \u001b[1m[\u001b[0mnan, nan, nan, nan, nan, nan, nan, nan, nan, nan\u001b[1m]\u001b[0m\u001b[1m]\u001b[0m, \u001b[33mdtype\u001b[0m=\u001b[35mfloat32\u001b[0m\u001b[1m)\u001b[0m,\n",
       "        \u001b[1;35mArray\u001b[0m\u001b[1m(\u001b[0m\u001b[1m[\u001b[0m\u001b[1m[\u001b[0mnan, nan, nan, nan, nan, nan, nan, nan, nan, nan\u001b[1m]\u001b[0m,\n",
       "       \u001b[1m[\u001b[0mnan, nan, nan, nan, nan, nan, nan, nan, nan, nan\u001b[1m]\u001b[0m,\n",
       "       \u001b[1m[\u001b[0mnan, nan, nan, nan, nan, nan, nan, nan, nan, nan\u001b[1m]\u001b[0m,\n",
       "       \u001b[1m[\u001b[0mnan, nan, nan, nan, nan, nan, nan, nan, nan, nan\u001b[1m]\u001b[0m,\n",
       "       \u001b[1m[\u001b[0mnan, nan, nan, nan, nan, nan, nan, nan, nan, nan\u001b[1m]\u001b[0m,\n",
       "       \u001b[1m[\u001b[0mnan, nan, nan, nan, nan, nan, nan, nan, nan, nan\u001b[1m]\u001b[0m,\n",
       "       \u001b[1m[\u001b[0mnan, nan, nan, nan, nan, nan, nan, nan, nan, nan\u001b[1m]\u001b[0m,\n",
       "       \u001b[1m[\u001b[0mnan, nan, nan, nan, nan, nan, nan, nan, nan, nan\u001b[1m]\u001b[0m,\n",
       "       \u001b[1m[\u001b[0mnan, nan, nan, nan, nan, nan, nan, nan, nan, nan\u001b[1m]\u001b[0m,\n",
       "       \u001b[1m[\u001b[0mnan, nan, nan, nan, nan, nan, nan, nan, nan, nan\u001b[1m]\u001b[0m\u001b[1m]\u001b[0m, \u001b[33mdtype\u001b[0m=\u001b[35mfloat32\u001b[0m\u001b[1m)\u001b[0m,\n",
       "        \u001b[1;35mArray\u001b[0m\u001b[1m(\u001b[0m\u001b[1m[\u001b[0m\u001b[1m[\u001b[0mnan, nan, nan, nan, nan, nan, nan, nan, nan, nan\u001b[1m]\u001b[0m,\n",
       "       \u001b[1m[\u001b[0mnan, nan, nan, nan, nan, nan, nan, nan, nan, nan\u001b[1m]\u001b[0m,\n",
       "       \u001b[1m[\u001b[0mnan, nan, nan, nan, nan, nan, nan, nan, nan, nan\u001b[1m]\u001b[0m,\n",
       "       \u001b[1m[\u001b[0mnan, nan, nan, nan, nan, nan, nan, nan, nan, nan\u001b[1m]\u001b[0m\u001b[1m]\u001b[0m, \u001b[33mdtype\u001b[0m=\u001b[35mfloat32\u001b[0m\u001b[1m)\u001b[0m\n",
       "    \u001b[1m)\u001b[0m\n",
       "\u001b[1m)\u001b[0m"
      ]
     },
     "execution_count": 16,
     "metadata": {},
     "output_type": "execute_result"
    }
   ],
   "source": [
    "model_grad"
   ]
  },
  {
   "cell_type": "code",
   "execution_count": 17,
   "id": "c8fa252c-5c42-4c5c-abdb-8dbb84c6eff9",
   "metadata": {},
   "outputs": [
    {
     "data": {
      "text/html": [
       "<pre style=\"white-space:pre;overflow-x:auto;line-height:normal;font-family:Menlo,'DejaVu Sans Mono',consolas,'Courier New',monospace\"></pre>\n"
      ],
      "text/plain": []
     },
     "metadata": {},
     "output_type": "display_data"
    },
    {
     "data": {
      "text/plain": [
       "\n",
       "\u001b[1m(\u001b[0m\n",
       "    \u001b[1m(\u001b[0m\n",
       "        \u001b[1;35mArray\u001b[0m\u001b[1m(\u001b[0m\u001b[1m[\u001b[0m\u001b[1m[\u001b[0mnan, nan\u001b[1m]\u001b[0m,\n",
       "       \u001b[1m[\u001b[0mnan, nan\u001b[1m]\u001b[0m,\n",
       "       \u001b[1m[\u001b[0mnan, nan\u001b[1m]\u001b[0m,\n",
       "       \u001b[1m[\u001b[0mnan, nan\u001b[1m]\u001b[0m,\n",
       "       \u001b[1m[\u001b[0mnan, nan\u001b[1m]\u001b[0m,\n",
       "       \u001b[1m[\u001b[0mnan, nan\u001b[1m]\u001b[0m,\n",
       "       \u001b[1m[\u001b[0mnan, nan\u001b[1m]\u001b[0m,\n",
       "       \u001b[1m[\u001b[0mnan, nan\u001b[1m]\u001b[0m,\n",
       "       \u001b[1m[\u001b[0mnan, nan\u001b[1m]\u001b[0m,\n",
       "       \u001b[1m[\u001b[0mnan, nan\u001b[1m]\u001b[0m\u001b[1m]\u001b[0m, \u001b[33mdtype\u001b[0m=\u001b[35mfloat32\u001b[0m\u001b[1m)\u001b[0m,\n",
       "        \u001b[1;35mArray\u001b[0m\u001b[1m(\u001b[0m\u001b[1m[\u001b[0m\u001b[1m[\u001b[0mnan, nan, nan, nan, nan, nan, nan, nan, nan, nan\u001b[1m]\u001b[0m,\n",
       "       \u001b[1m[\u001b[0mnan, nan, nan, nan, nan, nan, nan, nan, nan, nan\u001b[1m]\u001b[0m,\n",
       "       \u001b[1m[\u001b[0mnan, nan, nan, nan, nan, nan, nan, nan, nan, nan\u001b[1m]\u001b[0m,\n",
       "       \u001b[1m[\u001b[0mnan, nan, nan, nan, nan, nan, nan, nan, nan, nan\u001b[1m]\u001b[0m,\n",
       "       \u001b[1m[\u001b[0mnan, nan, nan, nan, nan, nan, nan, nan, nan, nan\u001b[1m]\u001b[0m,\n",
       "       \u001b[1m[\u001b[0mnan, nan, nan, nan, nan, nan, nan, nan, nan, nan\u001b[1m]\u001b[0m,\n",
       "       \u001b[1m[\u001b[0mnan, nan, nan, nan, nan, nan, nan, nan, nan, nan\u001b[1m]\u001b[0m,\n",
       "       \u001b[1m[\u001b[0mnan, nan, nan, nan, nan, nan, nan, nan, nan, nan\u001b[1m]\u001b[0m,\n",
       "       \u001b[1m[\u001b[0mnan, nan, nan, nan, nan, nan, nan, nan, nan, nan\u001b[1m]\u001b[0m,\n",
       "       \u001b[1m[\u001b[0mnan, nan, nan, nan, nan, nan, nan, nan, nan, nan\u001b[1m]\u001b[0m\u001b[1m]\u001b[0m, \u001b[33mdtype\u001b[0m=\u001b[35mfloat32\u001b[0m\u001b[1m)\u001b[0m,\n",
       "        \u001b[1;35mArray\u001b[0m\u001b[1m(\u001b[0m\u001b[1m[\u001b[0m\u001b[1m[\u001b[0mnan, nan, nan, nan, nan, nan, nan, nan, nan, nan\u001b[1m]\u001b[0m,\n",
       "       \u001b[1m[\u001b[0mnan, nan, nan, nan, nan, nan, nan, nan, nan, nan\u001b[1m]\u001b[0m,\n",
       "       \u001b[1m[\u001b[0mnan, nan, nan, nan, nan, nan, nan, nan, nan, nan\u001b[1m]\u001b[0m,\n",
       "       \u001b[1m[\u001b[0mnan, nan, nan, nan, nan, nan, nan, nan, nan, nan\u001b[1m]\u001b[0m,\n",
       "       \u001b[1m[\u001b[0mnan, nan, nan, nan, nan, nan, nan, nan, nan, nan\u001b[1m]\u001b[0m,\n",
       "       \u001b[1m[\u001b[0mnan, nan, nan, nan, nan, nan, nan, nan, nan, nan\u001b[1m]\u001b[0m,\n",
       "       \u001b[1m[\u001b[0mnan, nan, nan, nan, nan, nan, nan, nan, nan, nan\u001b[1m]\u001b[0m,\n",
       "       \u001b[1m[\u001b[0mnan, nan, nan, nan, nan, nan, nan, nan, nan, nan\u001b[1m]\u001b[0m,\n",
       "       \u001b[1m[\u001b[0mnan, nan, nan, nan, nan, nan, nan, nan, nan, nan\u001b[1m]\u001b[0m,\n",
       "       \u001b[1m[\u001b[0mnan, nan, nan, nan, nan, nan, nan, nan, nan, nan\u001b[1m]\u001b[0m\u001b[1m]\u001b[0m, \u001b[33mdtype\u001b[0m=\u001b[35mfloat32\u001b[0m\u001b[1m)\u001b[0m,\n",
       "        \u001b[1;35mArray\u001b[0m\u001b[1m(\u001b[0m\u001b[1m[\u001b[0m\u001b[1m[\u001b[0mnan, nan, nan, nan, nan, nan, nan, nan, nan, nan\u001b[1m]\u001b[0m,\n",
       "       \u001b[1m[\u001b[0mnan, nan, nan, nan, nan, nan, nan, nan, nan, nan\u001b[1m]\u001b[0m\u001b[1m]\u001b[0m, \u001b[33mdtype\u001b[0m=\u001b[35mfloat32\u001b[0m\u001b[1m)\u001b[0m\n",
       "    \u001b[1m)\u001b[0m,\n",
       "    \u001b[1m(\u001b[0m\n",
       "        \u001b[1;35mArray\u001b[0m\u001b[1m(\u001b[0m\u001b[1m[\u001b[0m\u001b[1m[\u001b[0mnan, nan\u001b[1m]\u001b[0m,\n",
       "       \u001b[1m[\u001b[0mnan, nan\u001b[1m]\u001b[0m,\n",
       "       \u001b[1m[\u001b[0mnan, nan\u001b[1m]\u001b[0m,\n",
       "       \u001b[1m[\u001b[0mnan, nan\u001b[1m]\u001b[0m,\n",
       "       \u001b[1m[\u001b[0mnan, nan\u001b[1m]\u001b[0m,\n",
       "       \u001b[1m[\u001b[0mnan, nan\u001b[1m]\u001b[0m,\n",
       "       \u001b[1m[\u001b[0mnan, nan\u001b[1m]\u001b[0m,\n",
       "       \u001b[1m[\u001b[0mnan, nan\u001b[1m]\u001b[0m,\n",
       "       \u001b[1m[\u001b[0mnan, nan\u001b[1m]\u001b[0m,\n",
       "       \u001b[1m[\u001b[0mnan, nan\u001b[1m]\u001b[0m\u001b[1m]\u001b[0m, \u001b[33mdtype\u001b[0m=\u001b[35mfloat32\u001b[0m\u001b[1m)\u001b[0m,\n",
       "        \u001b[1;35mArray\u001b[0m\u001b[1m(\u001b[0m\u001b[1m[\u001b[0m\u001b[1m[\u001b[0mnan, nan, nan, nan, nan, nan, nan, nan, nan, nan\u001b[1m]\u001b[0m,\n",
       "       \u001b[1m[\u001b[0mnan, nan, nan, nan, nan, nan, nan, nan, nan, nan\u001b[1m]\u001b[0m,\n",
       "       \u001b[1m[\u001b[0mnan, nan, nan, nan, nan, nan, nan, nan, nan, nan\u001b[1m]\u001b[0m,\n",
       "       \u001b[1m[\u001b[0mnan, nan, nan, nan, nan, nan, nan, nan, nan, nan\u001b[1m]\u001b[0m,\n",
       "       \u001b[1m[\u001b[0mnan, nan, nan, nan, nan, nan, nan, nan, nan, nan\u001b[1m]\u001b[0m,\n",
       "       \u001b[1m[\u001b[0mnan, nan, nan, nan, nan, nan, nan, nan, nan, nan\u001b[1m]\u001b[0m,\n",
       "       \u001b[1m[\u001b[0mnan, nan, nan, nan, nan, nan, nan, nan, nan, nan\u001b[1m]\u001b[0m,\n",
       "       \u001b[1m[\u001b[0mnan, nan, nan, nan, nan, nan, nan, nan, nan, nan\u001b[1m]\u001b[0m,\n",
       "       \u001b[1m[\u001b[0mnan, nan, nan, nan, nan, nan, nan, nan, nan, nan\u001b[1m]\u001b[0m,\n",
       "       \u001b[1m[\u001b[0mnan, nan, nan, nan, nan, nan, nan, nan, nan, nan\u001b[1m]\u001b[0m\u001b[1m]\u001b[0m, \u001b[33mdtype\u001b[0m=\u001b[35mfloat32\u001b[0m\u001b[1m)\u001b[0m,\n",
       "        \u001b[1;35mArray\u001b[0m\u001b[1m(\u001b[0m\u001b[1m[\u001b[0m\u001b[1m[\u001b[0mnan, nan, nan, nan, nan, nan, nan, nan, nan, nan\u001b[1m]\u001b[0m,\n",
       "       \u001b[1m[\u001b[0mnan, nan, nan, nan, nan, nan, nan, nan, nan, nan\u001b[1m]\u001b[0m,\n",
       "       \u001b[1m[\u001b[0mnan, nan, nan, nan, nan, nan, nan, nan, nan, nan\u001b[1m]\u001b[0m,\n",
       "       \u001b[1m[\u001b[0mnan, nan, nan, nan, nan, nan, nan, nan, nan, nan\u001b[1m]\u001b[0m,\n",
       "       \u001b[1m[\u001b[0mnan, nan, nan, nan, nan, nan, nan, nan, nan, nan\u001b[1m]\u001b[0m,\n",
       "       \u001b[1m[\u001b[0mnan, nan, nan, nan, nan, nan, nan, nan, nan, nan\u001b[1m]\u001b[0m,\n",
       "       \u001b[1m[\u001b[0mnan, nan, nan, nan, nan, nan, nan, nan, nan, nan\u001b[1m]\u001b[0m,\n",
       "       \u001b[1m[\u001b[0mnan, nan, nan, nan, nan, nan, nan, nan, nan, nan\u001b[1m]\u001b[0m,\n",
       "       \u001b[1m[\u001b[0mnan, nan, nan, nan, nan, nan, nan, nan, nan, nan\u001b[1m]\u001b[0m,\n",
       "       \u001b[1m[\u001b[0mnan, nan, nan, nan, nan, nan, nan, nan, nan, nan\u001b[1m]\u001b[0m\u001b[1m]\u001b[0m, \u001b[33mdtype\u001b[0m=\u001b[35mfloat32\u001b[0m\u001b[1m)\u001b[0m,\n",
       "        \u001b[1;35mArray\u001b[0m\u001b[1m(\u001b[0m\u001b[1m[\u001b[0m\u001b[1m[\u001b[0mnan, nan, nan, nan, nan, nan, nan, nan, nan, nan\u001b[1m]\u001b[0m,\n",
       "       \u001b[1m[\u001b[0mnan, nan, nan, nan, nan, nan, nan, nan, nan, nan\u001b[1m]\u001b[0m,\n",
       "       \u001b[1m[\u001b[0mnan, nan, nan, nan, nan, nan, nan, nan, nan, nan\u001b[1m]\u001b[0m,\n",
       "       \u001b[1m[\u001b[0mnan, nan, nan, nan, nan, nan, nan, nan, nan, nan\u001b[1m]\u001b[0m\u001b[1m]\u001b[0m, \u001b[33mdtype\u001b[0m=\u001b[35mfloat32\u001b[0m\u001b[1m)\u001b[0m\n",
       "    \u001b[1m)\u001b[0m,\n",
       "    \u001b[1m(\u001b[0m\n",
       "        \u001b[1;35mArray\u001b[0m\u001b[1m(\u001b[0m\u001b[1m[\u001b[0m\u001b[1m[\u001b[0mnan, nan\u001b[1m]\u001b[0m,\n",
       "       \u001b[1m[\u001b[0mnan, nan\u001b[1m]\u001b[0m,\n",
       "       \u001b[1m[\u001b[0mnan, nan\u001b[1m]\u001b[0m,\n",
       "       \u001b[1m[\u001b[0mnan, nan\u001b[1m]\u001b[0m,\n",
       "       \u001b[1m[\u001b[0mnan, nan\u001b[1m]\u001b[0m,\n",
       "       \u001b[1m[\u001b[0mnan, nan\u001b[1m]\u001b[0m,\n",
       "       \u001b[1m[\u001b[0mnan, nan\u001b[1m]\u001b[0m,\n",
       "       \u001b[1m[\u001b[0mnan, nan\u001b[1m]\u001b[0m,\n",
       "       \u001b[1m[\u001b[0mnan, nan\u001b[1m]\u001b[0m,\n",
       "       \u001b[1m[\u001b[0mnan, nan\u001b[1m]\u001b[0m\u001b[1m]\u001b[0m, \u001b[33mdtype\u001b[0m=\u001b[35mfloat32\u001b[0m\u001b[1m)\u001b[0m,\n",
       "        \u001b[1;35mArray\u001b[0m\u001b[1m(\u001b[0m\u001b[1m[\u001b[0m\u001b[1m[\u001b[0mnan, nan, nan, nan, nan, nan, nan, nan, nan, nan\u001b[1m]\u001b[0m,\n",
       "       \u001b[1m[\u001b[0mnan, nan, nan, nan, nan, nan, nan, nan, nan, nan\u001b[1m]\u001b[0m,\n",
       "       \u001b[1m[\u001b[0mnan, nan, nan, nan, nan, nan, nan, nan, nan, nan\u001b[1m]\u001b[0m,\n",
       "       \u001b[1m[\u001b[0mnan, nan, nan, nan, nan, nan, nan, nan, nan, nan\u001b[1m]\u001b[0m,\n",
       "       \u001b[1m[\u001b[0mnan, nan, nan, nan, nan, nan, nan, nan, nan, nan\u001b[1m]\u001b[0m,\n",
       "       \u001b[1m[\u001b[0mnan, nan, nan, nan, nan, nan, nan, nan, nan, nan\u001b[1m]\u001b[0m,\n",
       "       \u001b[1m[\u001b[0mnan, nan, nan, nan, nan, nan, nan, nan, nan, nan\u001b[1m]\u001b[0m,\n",
       "       \u001b[1m[\u001b[0mnan, nan, nan, nan, nan, nan, nan, nan, nan, nan\u001b[1m]\u001b[0m,\n",
       "       \u001b[1m[\u001b[0mnan, nan, nan, nan, nan, nan, nan, nan, nan, nan\u001b[1m]\u001b[0m,\n",
       "       \u001b[1m[\u001b[0mnan, nan, nan, nan, nan, nan, nan, nan, nan, nan\u001b[1m]\u001b[0m\u001b[1m]\u001b[0m, \u001b[33mdtype\u001b[0m=\u001b[35mfloat32\u001b[0m\u001b[1m)\u001b[0m,\n",
       "        \u001b[1;35mArray\u001b[0m\u001b[1m(\u001b[0m\u001b[1m[\u001b[0m\u001b[1m[\u001b[0mnan, nan, nan, nan, nan, nan, nan, nan, nan, nan\u001b[1m]\u001b[0m,\n",
       "       \u001b[1m[\u001b[0mnan, nan, nan, nan, nan, nan, nan, nan, nan, nan\u001b[1m]\u001b[0m,\n",
       "       \u001b[1m[\u001b[0mnan, nan, nan, nan, nan, nan, nan, nan, nan, nan\u001b[1m]\u001b[0m,\n",
       "       \u001b[1m[\u001b[0mnan, nan, nan, nan, nan, nan, nan, nan, nan, nan\u001b[1m]\u001b[0m,\n",
       "       \u001b[1m[\u001b[0mnan, nan, nan, nan, nan, nan, nan, nan, nan, nan\u001b[1m]\u001b[0m,\n",
       "       \u001b[1m[\u001b[0mnan, nan, nan, nan, nan, nan, nan, nan, nan, nan\u001b[1m]\u001b[0m,\n",
       "       \u001b[1m[\u001b[0mnan, nan, nan, nan, nan, nan, nan, nan, nan, nan\u001b[1m]\u001b[0m,\n",
       "       \u001b[1m[\u001b[0mnan, nan, nan, nan, nan, nan, nan, nan, nan, nan\u001b[1m]\u001b[0m,\n",
       "       \u001b[1m[\u001b[0mnan, nan, nan, nan, nan, nan, nan, nan, nan, nan\u001b[1m]\u001b[0m,\n",
       "       \u001b[1m[\u001b[0mnan, nan, nan, nan, nan, nan, nan, nan, nan, nan\u001b[1m]\u001b[0m\u001b[1m]\u001b[0m, \u001b[33mdtype\u001b[0m=\u001b[35mfloat32\u001b[0m\u001b[1m)\u001b[0m,\n",
       "        \u001b[1;35mArray\u001b[0m\u001b[1m(\u001b[0m\u001b[1m[\u001b[0m\u001b[1m[\u001b[0mnan, nan, nan, nan, nan, nan, nan, nan, nan, nan\u001b[1m]\u001b[0m,\n",
       "       \u001b[1m[\u001b[0mnan, nan, nan, nan, nan, nan, nan, nan, nan, nan\u001b[1m]\u001b[0m,\n",
       "       \u001b[1m[\u001b[0mnan, nan, nan, nan, nan, nan, nan, nan, nan, nan\u001b[1m]\u001b[0m,\n",
       "       \u001b[1m[\u001b[0mnan, nan, nan, nan, nan, nan, nan, nan, nan, nan\u001b[1m]\u001b[0m,\n",
       "       \u001b[1m[\u001b[0mnan, nan, nan, nan, nan, nan, nan, nan, nan, nan\u001b[1m]\u001b[0m\u001b[1m]\u001b[0m, \u001b[33mdtype\u001b[0m=\u001b[35mfloat32\u001b[0m\u001b[1m)\u001b[0m\n",
       "    \u001b[1m)\u001b[0m\n",
       "\u001b[1m)\u001b[0m"
      ]
     },
     "execution_count": 17,
     "metadata": {},
     "output_type": "execute_result"
    }
   ],
   "source": [
    "vf_grad"
   ]
  }
 ],
 "metadata": {
  "kernelspec": {
   "display_name": "Python 3 (ipykernel)",
   "language": "python",
   "name": "python3"
  },
  "language_info": {
   "codemirror_mode": {
    "name": "ipython",
    "version": 3
   },
   "file_extension": ".py",
   "mimetype": "text/x-python",
   "name": "python",
   "nbconvert_exporter": "python",
   "pygments_lexer": "ipython3",
   "version": "3.10.13"
  }
 },
 "nbformat": 4,
 "nbformat_minor": 5
}
