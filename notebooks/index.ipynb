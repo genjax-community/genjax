{
 "cells": [
  {
   "cell_type": "raw",
   "metadata": {},
   "source": [
    "---\n",
    "title: Getting started\n",
    "---"
   ]
  },
  {
   "cell_type": "markdown",
   "metadata": {},
   "source": [
    "This is a recipe book for _getting started with GenJAX_. It is **not** an exhaustive reference on the concepts and implementation of GenJAX ([you can find that in the documentation](https://probcomp.github.io/genjax/library/core.html))"
   ]
  },
  {
   "cell_type": "code",
   "execution_count": null,
   "metadata": {},
   "outputs": [],
   "source": [
    "import genjax\n",
    "import jax\n",
    "\n",
    "genjax.pretty()\n",
    "\n",
    "\n",
    "@genjax.gen\n",
    "def model(y):\n",
    "    x = genjax.normal(y, 0.01) @ \"x\"\n",
    "    return x\n",
    "\n",
    "\n",
    "key = jax.random.PRNGKey(0)\n",
    "arg = 3.0\n",
    "tr = model.repeat(num_repeats=10).simulate(key, (arg,))\n",
    "\n",
    "# TODO: find a way to print the choicemap of the repeat combinator\n",
    "tr.get_sample()"
   ]
  },
  {
   "cell_type": "code",
   "execution_count": null,
   "metadata": {},
   "outputs": [],
   "source": []
  }
 ],
 "metadata": {
  "kernelspec": {
   "display_name": "Python 3 (ipykernel)",
   "language": "python",
   "name": "python3"
  },
  "language_info": {
   "codemirror_mode": {
    "name": "ipython",
    "version": 3
   },
   "file_extension": ".py",
   "mimetype": "text/x-python",
   "name": "python",
   "nbconvert_exporter": "python",
   "pygments_lexer": "ipython3",
   "version": "3.12.3"
  }
 },
 "nbformat": 4,
 "nbformat_minor": 4
}
