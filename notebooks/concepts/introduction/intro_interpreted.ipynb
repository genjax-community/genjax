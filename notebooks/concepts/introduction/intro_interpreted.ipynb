{
 "cells": [
  {
   "cell_type": "markdown",
   "id": "8e424b02a6e639ef",
   "metadata": {},
   "source": [
    "## Introduction to Interpreted GenJAX\n",
    "\n",
    "This notebook is an early experiment with porting the content of the sibling [intro_to_genjax](intro_to_genjax.ipynb) notebook using only the features of the Interpreted language (i.e., we don't use JAX vmap or JIT compilation). The goal at present is just to examine what such a thing would look like and so I have not copied over the exposition in that notebook. The commentary highlights the differences observed."
   ]
  },
  {
   "cell_type": "code",
   "execution_count": 1,
   "id": "b152875b5dfaa18c",
   "metadata": {
    "ExecuteTime": {
     "start_time": "2023-12-19T18:54:59.636067Z"
    }
   },
   "outputs": [],
   "source": [
    "import jax\n",
    "import jax.numpy as jnp\n",
    "import numpy as np\n",
    "\n",
    "import genjax\n",
    "import matplotlib.pyplot as plt\n",
    "from genjax import lang, Interpreted\n",
    "key = jax.random.PRNGKey(314159) \n",
    "console = genjax.console(enforce_checkify=True, width=60)"
   ]
  },
  {
   "cell_type": "code",
   "execution_count": 2,
   "id": "initial_id",
   "metadata": {
    "ExecuteTime": {
     "end_time": "2023-12-19T18:54:59.793866Z",
     "start_time": "2023-12-19T18:54:59.643015Z"
    }
   },
   "outputs": [],
   "source": [
    "@lang(Interpreted)\n",
    "def g(x):\n",
    "    m0 = genjax.bernoulli(x) @ \"m0\"\n",
    "    return m0\n",
    "    \n",
    "@lang(Interpreted)\n",
    "def h(x):\n",
    "    m0 = g(x) @ \"sub\"\n",
    "    return m0"
   ]
  },
  {
   "cell_type": "code",
   "execution_count": 3,
   "id": "cbc14c434d3de4ce",
   "metadata": {
    "ExecuteTime": {
     "end_time": "2023-12-19T18:54:59.826799Z",
     "start_time": "2023-12-19T18:54:59.646943Z"
    }
   },
   "outputs": [
    {
     "data": {
      "text/html": [
       "<pre style=\"white-space:pre;overflow-x:auto;line-height:normal;font-family:Menlo,'DejaVu Sans Mono',consolas,'Courier New',monospace\"><span style=\"font-weight: bold\">InterpretedTrace</span>\n",
       "├── gen_fn\n",
       "│   └── <span style=\"font-weight: bold\">InterpretedGenerativeFunction</span>\n",
       "│       └── source\n",
       "│           └── &lt;function h&gt;\n",
       "├── args\n",
       "│   └── <span style=\"font-weight: bold\">tuple</span>\n",
       "│       └── (const) 0.3\n",
       "├── retval\n",
       "│   └──  i32[]\n",
       "├── choices\n",
       "│   └── <span style=\"font-weight: bold\">Trie</span>\n",
       "│       └── <span style=\"font-weight: bold\">:sub</span>\n",
       "│           └── <span style=\"font-weight: bold\">InterpretedTrace</span>\n",
       "│               ├── gen_fn\n",
       "│               │   └── <span style=\"font-weight: bold\">InterpretedGenerativeFunction</span>\n",
       "│               │       └── source\n",
       "│               │           └── &lt;function g&gt;\n",
       "│               ├── args\n",
       "│               │   └── <span style=\"font-weight: bold\">tuple</span>\n",
       "│               │       └── (const) 0.3\n",
       "│               ├── retval\n",
       "│               │   └──  i32[]\n",
       "│               ├── choices\n",
       "│               │   └── <span style=\"font-weight: bold\">Trie</span>\n",
       "│               │       └── <span style=\"font-weight: bold\">:m0</span>\n",
       "│               │           └── <span style=\"font-weight: bold\">DistributionTrace</span>\n",
       "│               │               ├── gen_fn\n",
       "│               │               │   └── <span style=\"font-weight: bold\">TFPDistribution</span>\n",
       "│               │               │       └── make_distribution\n",
       "│               │               │           └── &lt;function &lt;lambda&gt;&gt;\n",
       "│               │               ├── args\n",
       "│               │               │   └── <span style=\"font-weight: bold\">tuple</span>\n",
       "│               │               │       └── (const) 0.3\n",
       "│               │               ├── value\n",
       "│               │               │   └──  i32[]\n",
       "│               │               └── score\n",
       "│               │                   └──  f32[]\n",
       "│               └── score\n",
       "│                   └──  f32[]\n",
       "└── score\n",
       "    └──  f32[]\n",
       "</pre>\n"
      ],
      "text/plain": [
       "\u001B[1mInterpretedTrace\u001B[0m\n",
       "├── gen_fn\n",
       "│   └── \u001B[1mInterpretedGenerativeFunction\u001B[0m\n",
       "│       └── source\n",
       "│           └── <function h>\n",
       "├── args\n",
       "│   └── \u001B[1mtuple\u001B[0m\n",
       "│       └── (const) 0.3\n",
       "├── retval\n",
       "│   └──  i32[]\n",
       "├── choices\n",
       "│   └── \u001B[1mTrie\u001B[0m\n",
       "│       └── \u001B[1m:sub\u001B[0m\n",
       "│           └── \u001B[1mInterpretedTrace\u001B[0m\n",
       "│               ├── gen_fn\n",
       "│               │   └── \u001B[1mInterpretedGenerativeFunction\u001B[0m\n",
       "│               │       └── source\n",
       "│               │           └── <function g>\n",
       "│               ├── args\n",
       "│               │   └── \u001B[1mtuple\u001B[0m\n",
       "│               │       └── (const) 0.3\n",
       "│               ├── retval\n",
       "│               │   └──  i32[]\n",
       "│               ├── choices\n",
       "│               │   └── \u001B[1mTrie\u001B[0m\n",
       "│               │       └── \u001B[1m:m0\u001B[0m\n",
       "│               │           └── \u001B[1mDistributionTrace\u001B[0m\n",
       "│               │               ├── gen_fn\n",
       "│               │               │   └── \u001B[1mTFPDistribution\u001B[0m\n",
       "│               │               │       └── make_distribution\n",
       "│               │               │           └── <function <lambda>>\n",
       "│               │               ├── args\n",
       "│               │               │   └── \u001B[1mtuple\u001B[0m\n",
       "│               │               │       └── (const) 0.3\n",
       "│               │               ├── value\n",
       "│               │               │   └──  i32[]\n",
       "│               │               └── score\n",
       "│               │                   └──  f32[]\n",
       "│               └── score\n",
       "│                   └──  f32[]\n",
       "└── score\n",
       "    └──  f32[]\n"
      ]
     },
     "metadata": {},
     "output_type": "display_data"
    }
   ],
   "source": [
    "key, sub_key = jax.random.split(key)\n",
    "tr = h.simulate(sub_key, (0.3,))\n",
    "console.print(tr)"
   ]
  },
  {
   "cell_type": "code",
   "execution_count": 4,
   "id": "e0d02bce6c22b6cb",
   "metadata": {
    "ExecuteTime": {
     "end_time": "2023-12-19T18:54:59.827187Z",
     "start_time": "2023-12-19T18:54:59.663613Z"
    }
   },
   "outputs": [
    {
     "data": {
      "text/plain": [
       "DistributionTrace(gen_fn=TFPDistribution(make_distribution=<class 'tensorflow_probability.substrates.jax.distributions.normal.Normal'>), args=(0.0, 1.0), value=Array(0.27442896, dtype=float32), score=Array(-0.95659417, dtype=float32))"
      ]
     },
     "execution_count": 4,
     "metadata": {},
     "output_type": "execute_result"
    }
   ],
   "source": [
    "key, sub_key = jax.random.split(key)\n",
    "tr = genjax.normal.simulate(sub_key, (0.0, 1.0))\n",
    "tr"
   ]
  },
  {
   "cell_type": "code",
   "execution_count": 5,
   "id": "fadc4b3d9f92b9ba",
   "metadata": {
    "ExecuteTime": {
     "end_time": "2023-12-19T18:54:59.827523Z",
     "start_time": "2023-12-19T18:54:59.675774Z"
    }
   },
   "outputs": [
    {
     "data": {
      "text/html": [
       "<pre style=\"white-space:pre;overflow-x:auto;line-height:normal;font-family:Menlo,'DejaVu Sans Mono',consolas,'Courier New',monospace\"><span style=\"font-weight: bold\">InterpretedTrace</span>\n",
       "├── gen_fn\n",
       "│   └── <span style=\"font-weight: bold\">InterpretedGenerativeFunction</span>\n",
       "│       └── source\n",
       "│           └── &lt;function h&gt;\n",
       "├── args\n",
       "│   └── <span style=\"font-weight: bold\">tuple</span>\n",
       "│       └── (const) 0.3\n",
       "├── retval\n",
       "│   └──  i32[]\n",
       "├── choices\n",
       "│   └── <span style=\"font-weight: bold\">Trie</span>\n",
       "│       ├── <span style=\"font-weight: bold\">:m0</span>\n",
       "│       │   └── <span style=\"font-weight: bold\">DistributionTrace</span>\n",
       "│       │       ├── gen_fn\n",
       "│       │       │   └── <span style=\"font-weight: bold\">TFPDistribution</span>\n",
       "│       │       │       └── make_distribution\n",
       "│       │       │           └── &lt;function &lt;lambda&gt;&gt;\n",
       "│       │       ├── args\n",
       "│       │       │   └── <span style=\"font-weight: bold\">tuple</span>\n",
       "│       │       │       └── (const) 0.3\n",
       "│       │       ├── value\n",
       "│       │       │   └──  i32[]\n",
       "│       │       └── score\n",
       "│       │           └──  f32[]\n",
       "│       └── <span style=\"font-weight: bold\">:m1</span>\n",
       "│           └── <span style=\"font-weight: bold\">DistributionTrace</span>\n",
       "│               ├── gen_fn\n",
       "│               │   └── <span style=\"font-weight: bold\">TFPDistribution</span>\n",
       "│               │       └── make_distribution\n",
       "│               │           └── &lt;function &lt;lambda&gt;&gt;\n",
       "│               ├── args\n",
       "│               │   └── <span style=\"font-weight: bold\">tuple</span>\n",
       "│               │       └── (const) 0.3\n",
       "│               ├── value\n",
       "│               │   └──  i32[]\n",
       "│               └── score\n",
       "│                   └──  f32[]\n",
       "└── score\n",
       "    └──  f32[]\n",
       "</pre>\n"
      ],
      "text/plain": [
       "\u001B[1mInterpretedTrace\u001B[0m\n",
       "├── gen_fn\n",
       "│   └── \u001B[1mInterpretedGenerativeFunction\u001B[0m\n",
       "│       └── source\n",
       "│           └── <function h>\n",
       "├── args\n",
       "│   └── \u001B[1mtuple\u001B[0m\n",
       "│       └── (const) 0.3\n",
       "├── retval\n",
       "│   └──  i32[]\n",
       "├── choices\n",
       "│   └── \u001B[1mTrie\u001B[0m\n",
       "│       ├── \u001B[1m:m0\u001B[0m\n",
       "│       │   └── \u001B[1mDistributionTrace\u001B[0m\n",
       "│       │       ├── gen_fn\n",
       "│       │       │   └── \u001B[1mTFPDistribution\u001B[0m\n",
       "│       │       │       └── make_distribution\n",
       "│       │       │           └── <function <lambda>>\n",
       "│       │       ├── args\n",
       "│       │       │   └── \u001B[1mtuple\u001B[0m\n",
       "│       │       │       └── (const) 0.3\n",
       "│       │       ├── value\n",
       "│       │       │   └──  i32[]\n",
       "│       │       └── score\n",
       "│       │           └──  f32[]\n",
       "│       └── \u001B[1m:m1\u001B[0m\n",
       "│           └── \u001B[1mDistributionTrace\u001B[0m\n",
       "│               ├── gen_fn\n",
       "│               │   └── \u001B[1mTFPDistribution\u001B[0m\n",
       "│               │       └── make_distribution\n",
       "│               │           └── <function <lambda>>\n",
       "│               ├── args\n",
       "│               │   └── \u001B[1mtuple\u001B[0m\n",
       "│               │       └── (const) 0.3\n",
       "│               ├── value\n",
       "│               │   └──  i32[]\n",
       "│               └── score\n",
       "│                   └──  f32[]\n",
       "└── score\n",
       "    └──  f32[]\n"
      ]
     },
     "metadata": {},
     "output_type": "display_data"
    }
   ],
   "source": [
    "@lang(Interpreted)\n",
    "def h(x):\n",
    "    m1 = genjax.bernoulli(x) @ \"m0\"\n",
    "    m2 = genjax.bernoulli(x) @ \"m1\"\n",
    "    return m1 + m2\n",
    "\n",
    "key, sub_key = jax.random.split(key)\n",
    "tr = h.simulate(sub_key, (0.3,))\n",
    "console.print(tr)   "
   ]
  },
  {
   "cell_type": "code",
   "execution_count": 6,
   "id": "5672791dfc7e7ae0",
   "metadata": {
    "ExecuteTime": {
     "end_time": "2023-12-19T18:54:59.827718Z",
     "start_time": "2023-12-19T18:54:59.694744Z"
    }
   },
   "outputs": [
    {
     "data": {
      "text/plain": [
       "HierarchicalChoiceMap(trie=Trie(inner={'m1': ChoiceValue(value=Array(1, dtype=int32))}))"
      ]
     },
     "execution_count": 6,
     "metadata": {},
     "output_type": "execute_result"
    }
   ],
   "source": [
    "selection = genjax.select(\"m1\")\n",
    "selected = tr.get_choices().filter(selection)\n",
    "selected"
   ]
  },
  {
   "cell_type": "code",
   "execution_count": 7,
   "id": "28423194e6895e86",
   "metadata": {},
   "outputs": [],
   "source": [
    "@lang(Interpreted)\n",
    "def model_y(x, coefficients):\n",
    "    basis_value = jnp.array([1.0, x, x**2])\n",
    "    polynomial_value = jnp.sum(basis_value * coefficients)\n",
    "    y = genjax.normal(polynomial_value, 0.3) @ \"value\" \n",
    "    return y \n",
    "\n",
    "@lang(Interpreted)\n",
    "def outlier_model(x, coefficients):\n",
    "    basis_value = jnp.array([1.0, x, x**2])\n",
    "    polynomial_value = jnp.sum(basis_value * coefficients)\n",
    "    y = genjax.normal(polynomial_value, 30.0) @ \"value\"\n",
    "    return y"
   ]
  },
  {
   "cell_type": "markdown",
   "id": "83effd670ec47d71",
   "metadata": {},
   "source": [
    "The first big difference is below. In Static, we use the `@lang(Map)` decoration to use the map combinator on the kernel function. In this replacement, we handle the vectorization manually, using a composite index. Question: is there a syntax which would allow the creation of a vector choice map here?\n",
    "\n",
    "We also do not have the `Switch` combinator available, so we handle the switch with an expression. Taking a second look at the assembly of the `y` array, it might have been written more clearly as a for loop. To that end I wrote `kernel2`, a less dense way of doing it. "
   ]
  },
  {
   "cell_type": "code",
   "execution_count": 8,
   "id": "2b332610cbff4bf6",
   "metadata": {
    "ExecuteTime": {
     "end_time": "2023-12-19T22:02:54.007076Z",
     "start_time": "2023-12-19T22:02:53.963460Z"
    }
   },
   "outputs": [],
   "source": [
    "\n",
    "@lang(Interpreted)\n",
    "def kernel(xs, coefficients):\n",
    "    is_outlier = jnp.array([genjax.flip(0.1) @ (\"outlier\", i) for i in range(len(xs))]) \n",
    "    y = jnp.array([\n",
    "        (outlier_model if is_outlier[i] else model_y)(xs[i], coefficients) @ (\"y\", i)\n",
    "        for i in range(len(xs))\n",
    "    ])\n",
    "    return y\n",
    "\n",
    "@lang(Interpreted)\n",
    "def kernel2(xs, coefficients):\n",
    "    y = []\n",
    "    for i, x in enumerate(xs):\n",
    "        is_outlier = genjax.flip(0.1) @ (\"outlier\", i)\n",
    "        \n",
    "        if is_outlier:\n",
    "            model = outlier_model\n",
    "        else:\n",
    "            model = model_y\n",
    "            \n",
    "        y.append(model(x, coefficients) @ (\"y\", i))\n",
    "        \n",
    "    return jnp.array(y)\n",
    "\n",
    "@lang(Interpreted)\n",
    "def model(xs):\n",
    "    coefficients = genjax.mv_normal(jnp.zeros(3), 2.0 * jnp.identity(3)) @ \"alpha\"\n",
    "    ys = kernel2(xs, coefficients) @ \"ys\"\n",
    "    return ys"
   ]
  },
  {
   "cell_type": "code",
   "execution_count": 9,
   "id": "5ee10af75418d51",
   "metadata": {
    "ExecuteTime": {
     "end_time": "2023-12-19T22:02:55.183975Z",
     "start_time": "2023-12-19T22:02:55.039844Z"
    }
   },
   "outputs": [
    {
     "data": {
      "text/plain": [
       "HierarchicalChoiceMap(trie=Trie(inner={'ys': HierarchicalChoiceMap(trie=Trie(inner={'outlier': Trie(inner={0: ChoiceValue(value=Array(0, dtype=int32)), 1: ChoiceValue(value=Array(0, dtype=int32)), 2: ChoiceValue(value=Array(0, dtype=int32)), 3: ChoiceValue(value=Array(0, dtype=int32)), 4: ChoiceValue(value=Array(0, dtype=int32)), 5: ChoiceValue(value=Array(0, dtype=int32)), 6: ChoiceValue(value=Array(0, dtype=int32)), 7: ChoiceValue(value=Array(0, dtype=int32)), 8: ChoiceValue(value=Array(0, dtype=int32)), 9: ChoiceValue(value=Array(1, dtype=int32)), 10: ChoiceValue(value=Array(0, dtype=int32)), 11: ChoiceValue(value=Array(0, dtype=int32)), 12: ChoiceValue(value=Array(0, dtype=int32)), 13: ChoiceValue(value=Array(0, dtype=int32)), 14: ChoiceValue(value=Array(0, dtype=int32)), 15: ChoiceValue(value=Array(1, dtype=int32)), 16: ChoiceValue(value=Array(0, dtype=int32)), 17: ChoiceValue(value=Array(0, dtype=int32)), 18: ChoiceValue(value=Array(0, dtype=int32)), 19: ChoiceValue(value=Array(0, dtype=int32))}), 'y': Trie(inner={0: HierarchicalChoiceMap(trie=Trie(inner={'value': ChoiceValue(value=Array(0.2172786, dtype=float32))})), 1: HierarchicalChoiceMap(trie=Trie(inner={'value': ChoiceValue(value=Array(2.1709547, dtype=float32))})), 2: HierarchicalChoiceMap(trie=Trie(inner={'value': ChoiceValue(value=Array(3.9315705, dtype=float32))})), 3: HierarchicalChoiceMap(trie=Trie(inner={'value': ChoiceValue(value=Array(8.067581, dtype=float32))})), 4: HierarchicalChoiceMap(trie=Trie(inner={'value': ChoiceValue(value=Array(12.636509, dtype=float32))})), 5: HierarchicalChoiceMap(trie=Trie(inner={'value': ChoiceValue(value=Array(17.12947, dtype=float32))})), 6: HierarchicalChoiceMap(trie=Trie(inner={'value': ChoiceValue(value=Array(24.022703, dtype=float32))})), 7: HierarchicalChoiceMap(trie=Trie(inner={'value': ChoiceValue(value=Array(31.769226, dtype=float32))})), 8: HierarchicalChoiceMap(trie=Trie(inner={'value': ChoiceValue(value=Array(39.97427, dtype=float32))})), 9: HierarchicalChoiceMap(trie=Trie(inner={'value': ChoiceValue(value=Array(67.01651, dtype=float32))})), 10: HierarchicalChoiceMap(trie=Trie(inner={'value': ChoiceValue(value=Array(59.81299, dtype=float32))})), 11: HierarchicalChoiceMap(trie=Trie(inner={'value': ChoiceValue(value=Array(70.8174, dtype=float32))})), 12: HierarchicalChoiceMap(trie=Trie(inner={'value': ChoiceValue(value=Array(82.77178, dtype=float32))})), 13: HierarchicalChoiceMap(trie=Trie(inner={'value': ChoiceValue(value=Array(96.045135, dtype=float32))})), 14: HierarchicalChoiceMap(trie=Trie(inner={'value': ChoiceValue(value=Array(110.35339, dtype=float32))})), 15: HierarchicalChoiceMap(trie=Trie(inner={'value': ChoiceValue(value=Array(112.32442, dtype=float32))})), 16: HierarchicalChoiceMap(trie=Trie(inner={'value': ChoiceValue(value=Array(141.16861, dtype=float32))})), 17: HierarchicalChoiceMap(trie=Trie(inner={'value': ChoiceValue(value=Array(157.76257, dtype=float32))})), 18: HierarchicalChoiceMap(trie=Trie(inner={'value': ChoiceValue(value=Array(175.96541, dtype=float32))})), 19: HierarchicalChoiceMap(trie=Trie(inner={'value': ChoiceValue(value=Array(195.11928, dtype=float32))}))})})), 'alpha': ChoiceValue(value=Array([0.12027554, 2.298516  , 1.9189827 ], dtype=float32))}))"
      ]
     },
     "execution_count": 9,
     "metadata": {},
     "output_type": "execute_result"
    }
   ],
   "source": [
    "data = jnp.arange(0, 10, 0.5)\n",
    "key, sub_key = jax.random.split(key)\n",
    "tr = model.simulate(sub_key, (data,))\n",
    "tr.strip()"
   ]
  },
  {
   "cell_type": "code",
   "execution_count": 10,
   "id": "63cef5da1022fd8e",
   "metadata": {
    "ExecuteTime": {
     "end_time": "2023-12-19T22:03:18.696619Z",
     "start_time": "2023-12-19T22:03:18.675352Z"
    }
   },
   "outputs": [
    {
     "data": {
      "text/plain": [
       "Array([  0.2172786,   2.1709547,   3.9315705,   8.067581 ,  12.636509 ,\n",
       "        17.12947  ,  24.022703 ,  31.769226 ,  39.97427  ,  67.01651  ,\n",
       "        59.81299  ,  70.8174   ,  82.77178  ,  96.045135 , 110.35339  ,\n",
       "       112.32442  , 141.16861  , 157.76257  , 175.96541  , 195.11928  ],      dtype=float32)"
      ]
     },
     "execution_count": 10,
     "metadata": {},
     "output_type": "execute_result"
    }
   ],
   "source": [
    "tr.get_retval()"
   ]
  },
  {
   "cell_type": "code",
   "execution_count": 11,
   "id": "18a8abbecc80bc85",
   "metadata": {
    "ExecuteTime": {
     "end_time": "2023-12-19T22:03:19.617119Z",
     "start_time": "2023-12-19T22:03:19.591556Z"
    }
   },
   "outputs": [
    {
     "data": {
      "text/plain": [
       "[Array(0.2172786, dtype=float32),\n",
       " Array(2.1709547, dtype=float32),\n",
       " Array(3.9315705, dtype=float32),\n",
       " Array(8.067581, dtype=float32),\n",
       " Array(12.636509, dtype=float32),\n",
       " Array(17.12947, dtype=float32),\n",
       " Array(24.022703, dtype=float32),\n",
       " Array(31.769226, dtype=float32),\n",
       " Array(39.97427, dtype=float32),\n",
       " Array(67.01651, dtype=float32),\n",
       " Array(59.81299, dtype=float32),\n",
       " Array(70.8174, dtype=float32),\n",
       " Array(82.77178, dtype=float32),\n",
       " Array(96.045135, dtype=float32),\n",
       " Array(110.35339, dtype=float32),\n",
       " Array(112.32442, dtype=float32),\n",
       " Array(141.16861, dtype=float32),\n",
       " Array(157.76257, dtype=float32),\n",
       " Array(175.96541, dtype=float32),\n",
       " Array(195.11928, dtype=float32)]"
      ]
     },
     "execution_count": 11,
     "metadata": {},
     "output_type": "execute_result"
    }
   ],
   "source": [
    "chm = tr.get_choices()\n",
    "#values = [chm[\"ys\", i, \"y\", \"value\"] for i in range(len(data))]\n",
    "values = [chm[\"ys\", \"y\", i, \"value\"] for i in range(len(data))]\n",
    "values"
   ]
  },
  {
   "cell_type": "code",
   "execution_count": 12,
   "id": "524f4a5e9db8de81",
   "metadata": {
    "ExecuteTime": {
     "end_time": "2023-12-19T22:03:22.724479Z",
     "start_time": "2023-12-19T22:03:20.641441Z"
    }
   },
   "outputs": [
    {
     "data": {
      "image/png": "[encoded data removed]",
      "text/plain": [
       "<Figure size 800x800 with 9 Axes>"
      ]
     },
     "metadata": {},
     "output_type": "display_data"
    }
   ],
   "source": [
    "def get_ys(chm):\n",
    "    return [chm[\"ys\", \"y\", i, \"value\"] for i in range(len(data))]\n",
    "\n",
    "f, axes = plt.subplots(3, 3, figsize=(8, 8), sharex=True, sharey=True)\n",
    "for ax in axes.flatten():\n",
    "    key, subkey = jax.random.split(key)\n",
    "    tr = model.simulate(key, (data,))\n",
    "    ax.scatter(data, tr.get_retval())\n"
   ]
  },
  {
   "cell_type": "code",
   "execution_count": 13,
   "id": "6c6081392f5dd5e3",
   "metadata": {
    "ExecuteTime": {
     "end_time": "2023-12-19T22:03:24.826586Z",
     "start_time": "2023-12-19T22:03:24.806968Z"
    }
   },
   "outputs": [],
   "source": [
    "x = np.array([0.3, 0.7, 1.1, 1.4, 2.3, 2.5, 3.0, 4.0, 5.0])\n",
    "y = 2.0 * x + 1.5 + x ** 2\n",
    "y[2] = 50.0"
   ]
  },
  {
   "cell_type": "code",
   "execution_count": 14,
   "id": "20b0d448a478a593",
   "metadata": {
    "ExecuteTime": {
     "end_time": "2023-12-19T22:03:25.933631Z",
     "start_time": "2023-12-19T22:03:25.769863Z"
    }
   },
   "outputs": [
    {
     "data": {
      "text/plain": [
       "<matplotlib.collections.PathCollection at 0x14c80a6d0>"
      ]
     },
     "execution_count": 14,
     "metadata": {},
     "output_type": "execute_result"
    },
    {
     "data": {
      "image/png": "[encoded data removed]",
      "text/plain": [
       "<Figure size 600x600 with 1 Axes>"
      ]
     },
     "metadata": {},
     "output_type": "display_data"
    }
   ],
   "source": [
    "fig_data, ax_data = plt.subplots(figsize=(6, 6))\n",
    "ax_data.scatter(x, y, color=\"blue\")"
   ]
  },
  {
   "cell_type": "markdown",
   "source": [
    "There needs to be a better way to build this map. `genjax.choice_map` only works one layer deep, so you have to keep repeating it. "
   ],
   "metadata": {
    "collapsed": false
   },
   "id": "110ffbbea34f39eb"
  },
  {
   "cell_type": "code",
   "execution_count": 15,
   "outputs": [],
   "source": [
    "observations = genjax.choice_map(\n",
    "    {\"ys\": genjax.choice_map(\n",
    "        {\"y\": genjax.choice_map(\n",
    "            {i: genjax.choice_map({\"value\": y}) for i, y in enumerate(y)}\n",
    "        )}\n",
    "    )}\n",
    ")"
   ],
   "metadata": {
    "collapsed": false,
    "ExecuteTime": {
     "start_time": "2023-12-19T22:03:26.539592Z"
    }
   },
   "id": "bca595cbfac11555"
  },
  {
   "cell_type": "code",
   "execution_count": 16,
   "id": "7f61423e0f093509",
   "metadata": {
    "ExecuteTime": {
     "end_time": "2023-12-19T22:03:28.121310Z",
     "start_time": "2023-12-19T22:03:28.021282Z"
    }
   },
   "outputs": [],
   "source": [
    "key, sub_key = jax.random.split(key)\n",
    "(tr, w) = model.importance(sub_key, observations, (x,))"
   ]
  },
  {
   "cell_type": "code",
   "execution_count": 17,
   "id": "a0f1de6f09c33c77",
   "metadata": {
    "ExecuteTime": {
     "end_time": "2023-12-19T22:03:29.597518Z",
     "start_time": "2023-12-19T22:03:29.568226Z"
    }
   },
   "outputs": [
    {
     "data": {
      "text/plain": [
       "(Array(-35950.492, dtype=float32), Array(-35955.53, dtype=float32))"
      ]
     },
     "execution_count": 17,
     "metadata": {},
     "output_type": "execute_result"
    }
   ],
   "source": [
    "w, tr.get_score()"
   ]
  },
  {
   "cell_type": "code",
   "execution_count": 18,
   "id": "b474726ff349834e",
   "metadata": {
    "ExecuteTime": {
     "end_time": "2023-12-19T22:03:30.533687Z",
     "start_time": "2023-12-19T22:03:30.454187Z"
    }
   },
   "outputs": [],
   "source": [
    "def sampling_importance_resampling(model, n_samples):\n",
    "    def _inner(key, observations, model_args):\n",
    "        resample_key, sub_key = jax.random.split(key)\n",
    "        sub_keys = jax.random.split(sub_key, n_samples)\n",
    "        tr_lw_pairs = [model.importance(sub_key, observations, model_args) for sub_key in sub_keys]\n",
    "        trs = [tr_lw[0] for tr_lw in tr_lw_pairs]\n",
    "        lws = [tr_lw[1] for tr_lw in tr_lw_pairs]\n",
    "        index = genjax.categorical.sample(resample_key, lws)\n",
    "        # I'm not certain this is what was intended\n",
    "        return tr_lw_pairs[index][0]\n",
    "        \n",
    "    return _inner      "
   ]
  },
  {
   "cell_type": "markdown",
   "id": "ec45ca3fb96d8d72",
   "metadata": {},
   "source": [
    "Here's another difference: we can't afford to do 100x100 runs of this; even at N=20, 40 it takes too long. I found that increasing the n_samples argument to `sampling_importance_sampling` improves the outlier detection."
   ]
  },
  {
   "cell_type": "code",
   "execution_count": 19,
   "id": "3cc11c4c664e4a38",
   "metadata": {
    "ExecuteTime": {
     "end_time": "2023-12-19T22:07:03.399674Z",
     "start_time": "2023-12-19T22:06:18.380986Z"
    }
   },
   "outputs": [
    {
     "data": {
      "text/plain": [
       "[Array([ 0.89368355, -0.77476174,  1.7047914 ], dtype=float32),\n",
       " Array([1.3165519, 0.3804909, 0.5967533], dtype=float32),\n",
       " Array([ 0.25719795, -0.76179147,  0.8454422 ], dtype=float32),\n",
       " Array([ 1.7223147, -1.0900421,  1.661867 ], dtype=float32),\n",
       " Array([0.6506175, 1.2879071, 1.1480987], dtype=float32),\n",
       " Array([1.3526324 , 0.02778184, 1.3484421 ], dtype=float32),\n",
       " Array([0.6539184, 1.9262357, 0.9660401], dtype=float32),\n",
       " Array([0.75020975, 0.7904193 , 1.1328939 ], dtype=float32),\n",
       " Array([0.93024313, 1.5645299 , 0.84403735], dtype=float32),\n",
       " Array([ 2.1031833 , -0.18017174,  1.662884  ], dtype=float32),\n",
       " Array([ 1.1669074,  1.7291132, -0.7634985], dtype=float32),\n",
       " Array([ 2.0054667 , -0.14980228,  0.9579936 ], dtype=float32),\n",
       " Array([ 1.4715773, -2.2106583,  1.4579651], dtype=float32),\n",
       " Array([ 2.7558699 , -0.01429411,  1.3474296 ], dtype=float32),\n",
       " Array([ 1.9532672 , -0.58997726,  1.292121  ], dtype=float32),\n",
       " Array([0.7461676, 0.4737683, 1.2697573], dtype=float32),\n",
       " Array([-1.5494082, -0.5315739,  1.9111434], dtype=float32),\n",
       " Array([2.1142888, 1.5165613, 1.0733368], dtype=float32),\n",
       " Array([4.0058513 , 1.4029186 , 0.87766534], dtype=float32),\n",
       " Array([1.0566717, 2.4066663, 0.8489133], dtype=float32)]"
      ]
     },
     "execution_count": 19,
     "metadata": {},
     "output_type": "execute_result"
    }
   ],
   "source": [
    "N = 20\n",
    "model_args = (x,)\n",
    "key, *sub_keys = jax.random.split(key, N+1)\n",
    "samples = [sampling_importance_resampling(model, 2*N)(sub_key, observations, model_args) for sub_key in sub_keys]\n",
    "coefficients = [s[\"alpha\"] for s in samples]\n",
    "coefficients"
   ]
  },
  {
   "cell_type": "code",
   "execution_count": 20,
   "id": "fde3a52d73921ae2",
   "metadata": {
    "ExecuteTime": {
     "end_time": "2023-12-19T22:07:03.404579Z",
     "start_time": "2023-12-19T22:07:03.401642Z"
    }
   },
   "outputs": [],
   "source": [
    "def polynomial_at_x(x, coefficients):\n",
    "    basis_values = jnp.array([1.0, x, x**2])\n",
    "    polynomial_value = jnp.sum(coefficients * basis_values)\n",
    "    return polynomial_value\n",
    "\n",
    "def plot_polynomial_values(ax, x, coefficients, **kwargs):\n",
    "    ax_inf.plot(x, [polynomial_at_x(x, coefficients) for x in x], alpha=0.2)\n",
    "    "
   ]
  },
  {
   "cell_type": "code",
   "execution_count": 21,
   "id": "c652551f7cae760f",
   "metadata": {
    "ExecuteTime": {
     "end_time": "2023-12-19T22:07:03.604769Z",
     "start_time": "2023-12-19T22:07:03.403989Z"
    }
   },
   "outputs": [
    {
     "data": {
      "image/png": "[encoded data removed]",
      "text/plain": [
       "<Figure size 600x600 with 1 Axes>"
      ]
     },
     "metadata": {},
     "output_type": "display_data"
    }
   ],
   "source": [
    "fig_inf, ax_inf = plt.subplots(figsize=(6, 6))\n",
    "ax_inf.scatter(x, y, color=\"blue\")\n",
    "for cs in coefficients:\n",
    "    plot_polynomial_values(ax_inf, x, cs)"
   ]
  },
  {
   "cell_type": "code",
   "execution_count": 31,
   "id": "9b8d699ae0ec6be7",
   "metadata": {
    "ExecuteTime": {
     "end_time": "2023-12-19T22:36:33.787384Z",
     "start_time": "2023-12-19T22:36:33.783138Z"
    }
   },
   "outputs": [],
   "source": [
    "outlier_at_2 = [s[\"ys\", \"outlier\", 2] for s in samples]"
   ]
  },
  {
   "cell_type": "code",
   "execution_count": 32,
   "id": "b3db993a37d6ede5",
   "metadata": {
    "ExecuteTime": {
     "end_time": "2023-12-19T22:36:34.159637Z",
     "start_time": "2023-12-19T22:36:34.148915Z"
    }
   },
   "outputs": [
    {
     "data": {
      "text/plain": "0.8"
     },
     "execution_count": 32,
     "metadata": {},
     "output_type": "execute_result"
    }
   ],
   "source": [
    "np.sum(outlier_at_2) / len(outlier_at_2)"
   ]
  },
  {
   "cell_type": "code",
   "execution_count": null,
   "outputs": [],
   "source": [],
   "metadata": {
    "collapsed": false
   },
   "id": "e5ca4117bf5972b7"
  }
 ],
 "metadata": {
  "kernelspec": {
   "display_name": "Python 3 (ipykernel)",
   "language": "python",
   "name": "python3"
  },
  "language_info": {
   "codemirror_mode": {
    "name": "ipython",
    "version": 3
   },
   "file_extension": ".py",
   "mimetype": "text/x-python",
   "name": "python",
   "nbconvert_exporter": "python",
   "pygments_lexer": "ipython3",
   "version": "3.11.6"
  }
 },
 "nbformat": 4,
 "nbformat_minor": 5
}
