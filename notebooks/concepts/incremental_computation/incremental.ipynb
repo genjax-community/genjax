{
 "cells": [
  {
   "cell_type": "raw",
   "id": "be057fea-d7f8-4eae-815d-31470d4abe6e",
   "metadata": {},
   "source": [
    "---\n",
    "title: Incremental computation for generative functions\n",
    "date: \"December 1, 2022\"\n",
    "abstract: \"This notebook describes GenJAX's support for incremental computing, focused on the `update` generative function interface method. We also describe the `cache` primitive for the `BuiltinGenerativeFunction` language - which allows storing of deterministic state inside of `BuiltinTrace` instances. We discuss how both incremental computing and `cache` expose optimization opportunities which can be utilized by inference programmers.\"\n",
    "callout-appearance: simple\n",
    "---"
   ]
  },
  {
   "cell_type": "code",
   "execution_count": 1,
   "id": "79bc5678-235d-441c-9cc0-2ecd8f31daed",
   "metadata": {},
   "outputs": [],
   "source": [
    "%config InlineBackend.figure_format = 'svg'"
   ]
  },
  {
   "cell_type": "code",
   "execution_count": 2,
   "id": "feb13e84-c9a6-4845-8271-841903b0eb14",
   "metadata": {},
   "outputs": [],
   "source": [
    "import jax\n",
    "import jax.numpy as jnp\n",
    "import jax.tree_util as jtu\n",
    "import numpy as np\n",
    "import matplotlib.pyplot as plt\n",
    "import seaborn as sns\n",
    "import dataclasses\n",
    "import genjax\n",
    "from genjax import Diff\n",
    "from typing import List, Tuple, Any\n",
    "\n",
    "sns.set_theme(style=\"white\")\n",
    "\n",
    "# Pretty printing.\n",
    "console = genjax.pretty(width=80)\n",
    "\n",
    "# Reproducibility.\n",
    "key = jax.random.PRNGKey(314159)"
   ]
  },
  {
   "cell_type": "markdown",
   "id": "10095082-7aca-4809-8fc9-65d7de799047",
   "metadata": {},
   "source": [
    "The `update` interface method for generative functions defines an update operation on traces produced by generative functions. \n",
    "\n",
    "`update` allows the user to provide new constraints, as well as new arguments, and returns an updated trace which is consistent with the new constraints, as well as an incremental importance weight which measures the difference between the new and old constraints under the model. `update` is used to implement many types of iterative MCMC inference families.\n",
    "\n",
    "The specification of `update` only requires that a modeling language support the above behavior - nonetheless, modeling languages can implement `update` with custom optimizations to improve the cost of repeatedly calling `update` (e.g. an iterative MCMC inference procedure).\n",
    "\n",
    "In this notebook, we'll be focused on these optimization opportunities within the implementation of `update` for the `BuiltinGenerativeFunction` language. We'll describe a system which supports incremental computing capabilities using change information (called `Diff` in the codebase) propagation.^[Think of a value of `Diff` type as representing a new value $v^\\prime$ using a decomposition $v^\\prime = v \\oplus dv$ where $dv$ is the change to the value and $v$ is the original value.] \n",
    "\n",
    "While we'll be focused on the distribution and builtin languages, this system is also applicable to the combinator implementations of `update`. In another notebook, we'll see how the incremental computing system can be used to efficiently compute `update` for `UnfoldCombinator`."
   ]
  },
  {
   "cell_type": "markdown",
   "id": "2cee0f12-574c-41cf-919f-ce26dac3f559",
   "metadata": {},
   "source": [
    "## What is `update` used for?"
   ]
  },
  {
   "cell_type": "markdown",
   "id": "c4c3e26a-1c4d-4043-80b6-4273fc5004da",
   "metadata": {},
   "source": [
    "Before we discuss how `update` can be optimized by a generative function implementor, it's worth constructing a simple example which shows how `update` is used, and to show why optimizing `update` is worthwhile.\n",
    "\n",
    "One common usage of `update` is in MCMC algorithm kernels. MCMC is often repeatedly applied to generate a chain of samples: any optimization opportunities that we identify and take advantage of will provide runtime gains which are multiplied over the length of the chain.\n",
    "\n",
    "Let's example this scenario using a pedagogical example - remember that the potential optimization pattern (based upon random variable dependency information) we'll describe extends to all generative functions."
   ]
  },
  {
   "cell_type": "markdown",
   "id": "24992d53-3a85-47b7-9408-089bca007a42",
   "metadata": {},
   "source": [
    "### Pedagogical example"
   ]
  },
  {
   "cell_type": "markdown",
   "id": "5b79692e-a99c-4bbd-a330-b12744dda83d",
   "metadata": {},
   "source": [
    "Consider the following generative function:"
   ]
  },
  {
   "cell_type": "code",
   "execution_count": 3,
   "id": "3aa8bfe6-fa2e-4b81-8e69-bca3e05e3ecb",
   "metadata": {},
   "outputs": [],
   "source": [
    "@genjax.gen\n",
    "def model(x):\n",
    "    a = genjax.trace(\"a\", genjax.Normal)(x, 1.0)\n",
    "    b = genjax.trace(\"b\", genjax.Normal)(x, 1.0)\n",
    "    c = genjax.trace(\"c\", genjax.Normal)(a + b, 1.0)\n",
    "    return c"
   ]
  },
  {
   "cell_type": "markdown",
   "id": "f06e11a9-d09b-4586-9638-c07e66119971",
   "metadata": {},
   "source": [
    "The variable dependency graph is shown below."
   ]
  },
  {
   "cell_type": "markdown",
   "id": "5e286b55-79a6-4a55-95d5-c742fcbe97f2",
   "metadata": {},
   "source": [
    "```{mermaid}\n",
    "flowchart LR\n",
    "  x[Argument] --> a[a]\n",
    "  x --> b[b]\n",
    "  a --> c[c]\n",
    "  b --> c\n",
    "  c --> r[Return]\n",
    "```"
   ]
  },
  {
   "cell_type": "markdown",
   "id": "5085bc78-3db7-4481-b392-47f8f6888bb9",
   "metadata": {},
   "source": [
    "Now, when we simulate a trace from this model - we get choices for `\"a\"`, `\"b\"`, and `\"c\"`."
   ]
  },
  {
   "cell_type": "code",
   "execution_count": 4,
   "id": "859e6b77-40ff-4dc4-9206-9c745862a361",
   "metadata": {},
   "outputs": [
    {
     "data": {
      "text/html": [
       "<pre style=\"white-space:pre;overflow-x:auto;line-height:normal;font-family:Menlo,'DejaVu Sans Mono',consolas,'Courier New',monospace\">\n",
       "</pre>\n"
      ],
      "text/plain": [
       "\n"
      ]
     },
     "metadata": {},
     "output_type": "display_data"
    },
    {
     "data": {
      "text/html": [
       "<pre style=\"white-space:pre;overflow-x:auto;line-height:normal;font-family:Menlo,'DejaVu Sans Mono',consolas,'Courier New',monospace\">\n",
       "<span style=\"font-weight: bold\">BuiltinTrace</span>\n",
       "├── gen_fn\n",
       "│   └── <span style=\"font-weight: bold\">BuiltinGenerativeFunction</span>\n",
       "│       └── source\n",
       "│           └── &lt;function model&gt;\n",
       "├── args\n",
       "│   └── <span style=\"font-weight: bold\">tuple</span>\n",
       "│       └── (const) 2.0\n",
       "├── retval\n",
       "│   └──  f32[]\n",
       "├── choices\n",
       "│   └── <span style=\"font-weight: bold\">Trie</span>\n",
       "│       ├── <span style=\"font-weight: bold\">:a</span>\n",
       "│       │   └── <span style=\"font-weight: bold\">DistributionTrace</span>\n",
       "│       │       ├── gen_fn\n",
       "│       │       │   └── <span style=\"font-weight: bold\">_Normal</span>\n",
       "│       │       ├── args\n",
       "│       │       │   └── <span style=\"font-weight: bold\">tuple</span>\n",
       "│       │       │       ├── (const) 2.0\n",
       "│       │       │       └── (const) 1.0\n",
       "│       │       ├── value\n",
       "│       │       │   └──  f32[]\n",
       "│       │       └── score\n",
       "│       │           └──  f32[]\n",
       "│       ├── <span style=\"font-weight: bold\">:b</span>\n",
       "│       │   └── <span style=\"font-weight: bold\">DistributionTrace</span>\n",
       "│       │       ├── gen_fn\n",
       "│       │       │   └── <span style=\"font-weight: bold\">_Normal</span>\n",
       "│       │       ├── args\n",
       "│       │       │   └── <span style=\"font-weight: bold\">tuple</span>\n",
       "│       │       │       ├── (const) 2.0\n",
       "│       │       │       └── (const) 1.0\n",
       "│       │       ├── value\n",
       "│       │       │   └──  f32[]\n",
       "│       │       └── score\n",
       "│       │           └──  f32[]\n",
       "│       └── <span style=\"font-weight: bold\">:c</span>\n",
       "│           └── <span style=\"font-weight: bold\">DistributionTrace</span>\n",
       "│               ├── gen_fn\n",
       "│               │   └── <span style=\"font-weight: bold\">_Normal</span>\n",
       "│               ├── args\n",
       "│               │   └── <span style=\"font-weight: bold\">tuple</span>\n",
       "│               │       ├──  f32[]\n",
       "│               │       └── (const) 1.0\n",
       "│               ├── value\n",
       "│               │   └──  f32[]\n",
       "│               └── score\n",
       "│                   └──  f32[]\n",
       "├── cache\n",
       "│   └── <span style=\"font-weight: bold\">Trie</span>\n",
       "└── score\n",
       "    └──  f32[]\n",
       "</pre>\n"
      ],
      "text/plain": [
       "\n",
       "\u001b[1mBuiltinTrace\u001b[0m\n",
       "├── gen_fn\n",
       "│   └── \u001b[1mBuiltinGenerativeFunction\u001b[0m\n",
       "│       └── source\n",
       "│           └── <function model>\n",
       "├── args\n",
       "│   └── \u001b[1mtuple\u001b[0m\n",
       "│       └── (const) 2.0\n",
       "├── retval\n",
       "│   └──  f32[]\n",
       "├── choices\n",
       "│   └── \u001b[1mTrie\u001b[0m\n",
       "│       ├── \u001b[1m:a\u001b[0m\n",
       "│       │   └── \u001b[1mDistributionTrace\u001b[0m\n",
       "│       │       ├── gen_fn\n",
       "│       │       │   └── \u001b[1m_Normal\u001b[0m\n",
       "│       │       ├── args\n",
       "│       │       │   └── \u001b[1mtuple\u001b[0m\n",
       "│       │       │       ├── (const) 2.0\n",
       "│       │       │       └── (const) 1.0\n",
       "│       │       ├── value\n",
       "│       │       │   └──  f32[]\n",
       "│       │       └── score\n",
       "│       │           └──  f32[]\n",
       "│       ├── \u001b[1m:b\u001b[0m\n",
       "│       │   └── \u001b[1mDistributionTrace\u001b[0m\n",
       "│       │       ├── gen_fn\n",
       "│       │       │   └── \u001b[1m_Normal\u001b[0m\n",
       "│       │       ├── args\n",
       "│       │       │   └── \u001b[1mtuple\u001b[0m\n",
       "│       │       │       ├── (const) 2.0\n",
       "│       │       │       └── (const) 1.0\n",
       "│       │       ├── value\n",
       "│       │       │   └──  f32[]\n",
       "│       │       └── score\n",
       "│       │           └──  f32[]\n",
       "│       └── \u001b[1m:c\u001b[0m\n",
       "│           └── \u001b[1mDistributionTrace\u001b[0m\n",
       "│               ├── gen_fn\n",
       "│               │   └── \u001b[1m_Normal\u001b[0m\n",
       "│               ├── args\n",
       "│               │   └── \u001b[1mtuple\u001b[0m\n",
       "│               │       ├──  f32[]\n",
       "│               │       └── (const) 1.0\n",
       "│               ├── value\n",
       "│               │   └──  f32[]\n",
       "│               └── score\n",
       "│                   └──  f32[]\n",
       "├── cache\n",
       "│   └── \u001b[1mTrie\u001b[0m\n",
       "└── score\n",
       "    └──  f32[]\n"
      ]
     },
     "metadata": {},
     "output_type": "display_data"
    }
   ],
   "source": [
    "key, tr = model.simulate(key, (2.0,))\n",
    "tr"
   ]
  },
  {
   "cell_type": "markdown",
   "id": "cd87959a-a1f0-43eb-92ad-4cb36f753b3d",
   "metadata": {},
   "source": [
    "Iterative inference techniques like Metropolis-Hastings (and other MCMC methods) start with an initial trace, propose an update to the trace using a proposal, and then compute a criterion for accepting or rejecting the update.\n",
    "\n",
    "In Metropolis-Hastings, the criterion involves an _accept-reject ratio_ computation - which requires computing the probability of transitioning from the current trace to the new trace, as well as the probability of transitioning from the new trace back to the current trace, under a kernel defined by the algorithm.\n",
    "\n",
    "The library implementation of Metropolis-Hastings is shown below - `MetropolisHastings.apply` shows the main content of the algorithm (it's safe to ignore other methods for now)."
   ]
  },
  {
   "cell_type": "code",
   "execution_count": 5,
   "id": "5488356c-fba5-49cb-8ae5-851548dc0855",
   "metadata": {},
   "outputs": [],
   "source": [
    "@dataclasses.dataclass\n",
    "class MetropolisHastings(genjax.MCMCKernel):\n",
    "    selection: genjax.Selection\n",
    "    proposal: genjax.GenerativeFunction\n",
    "\n",
    "    def flatten(self):\n",
    "        return (), (self.selection, self.proposal)\n",
    "\n",
    "    def apply(self, key, trace: genjax.Trace, proposal_args: Tuple):\n",
    "        model = trace.get_gen_fn()\n",
    "        model_args = trace.get_args()\n",
    "        proposal_args_fwd = (trace.get_choices(), *proposal_args)\n",
    "        key, proposal_tr = self.proposal.simulate(key, proposal_args_fwd)\n",
    "        fwd_weight = proposal_tr.get_score()\n",
    "        diffs = jtu.tree_map(Diff.no_change, model_args)\n",
    "        key, (_, weight, new, discard) = model.update(\n",
    "            key, trace, proposal_tr.get_choices(), diffs\n",
    "        )\n",
    "        proposal_args_bwd = (new, *proposal_args)\n",
    "        key, (bwd_weight, _) = self.proposal.importance(key, discard, proposal_args_bwd)\n",
    "        alpha = weight - fwd_weight + bwd_weight\n",
    "        key, sub_key = jax.random.split(key)\n",
    "        check = jnp.log(random.uniform(sub_key)) < alpha\n",
    "        return (\n",
    "            key,\n",
    "            jax.lax.cond(\n",
    "                check,\n",
    "                lambda *args: (new, True),\n",
    "                lambda *args: (trace, False),\n",
    "            ),\n",
    "        )\n",
    "\n",
    "    def reversal(self):\n",
    "        return self"
   ]
  },
  {
   "cell_type": "markdown",
   "id": "65b3a859-15bc-4056-a86b-934a1e1e5c05",
   "metadata": {},
   "source": [
    "This computation involves `update` - which _incrementally_ updates a trace to be consistent with new arguments and constraints, and computes an importance weight (the difference between the trace's new score and the old score).\n",
    "\n",
    "::: {.callout-important}\n",
    "\n",
    "In the invocation of `update`, there's an interesting not-yet-explained argument: `diffs` - a tuple of `Diff` values, which represent _changes_ to the original arguments of the call which produced the trace which we are attempting to update. We'll come back to these values in a moment.\n",
    "\n",
    ":::\n",
    "\n",
    "If we naively evaluate the required log probability by re-evaluating the entire model - we're performing extra computation. We can see this by considering a specific target address - let's consider `\"a\"`. If the update changes `\"a\"`, what other generative function calls do we need to visit to compute the correct update - both to the trace, and the importance weight? \n",
    "\n",
    "The graph below shows the answer."
   ]
  },
  {
   "cell_type": "markdown",
   "id": "c8571f5b-9bda-449f-abae-545749bb2704",
   "metadata": {},
   "source": [
    "```{mermaid}\n",
    "flowchart LR\n",
    "  x[Argument] --> a[<b>a</b>]\n",
    "  x --> b[b]\n",
    "  a --> c[<b>c</b>]\n",
    "  b --> c\n",
    "  c --> r[Return]\n",
    "  style a fill:#f9f,stroke:#333,stroke-width:4px\n",
    "  style c fill:#f9f,stroke:#333,stroke-width:4px\n",
    "```"
   ]
  },
  {
   "cell_type": "markdown",
   "id": "14d40518-059b-465d-be2c-f8fda66a368b",
   "metadata": {},
   "source": [
    "An update to `\"a\"` requires that we re-evaluate the log probability at `\"c\"` because the return value of the generative function call at `\"a\"` flows into the generative function call at `\"c\"` - but we do not need to re-visit `\"b\"` because none of the values which flow into `\"b\"` have changed. \n",
    "\n",
    "When computing the weight difference, unchanged sites thus contribute nothing.^[The important idea is that tracking what values have changed allows us to identify what parts of the computation graph are required - and what parts do not need to be re-visited or re-computed.]"
   ]
  },
  {
   "cell_type": "markdown",
   "id": "f38764bd-bf46-4bfa-b618-9e706e4a3bad",
   "metadata": {},
   "source": [
    "## Change information"
   ]
  },
  {
   "cell_type": "markdown",
   "id": "00cd452d-947a-4be2-a897-a783b9ab678b",
   "metadata": {},
   "source": [
    "The specification of `update` doesn't require that an implementation track or use the change information - but generative function implementations can choose to optimize their `update` implementation. \n",
    "\n",
    "With that in mind, several of the languages which GenJAX exposes can be instructed to perform optimized `update` computations using `Diff` values.\n",
    "\n",
    "A `Diff` value consists of a base value `v` and a value of `Change` type, which represents the change to the base value. The new argument value for `update` is given by $\\text{v} \\oplus dv$ where `dv :: Change`. \n",
    "\n",
    "The $\\oplus$ operation must be appropriately defined for the change type lattice - we implement this operation for common change types in GenJAX, but users can define their own change types for `Pytree` data classes."
   ]
  },
  {
   "cell_type": "code",
   "execution_count": 6,
   "id": "b80ae672-4b0d-46b5-9b64-1323639e9861",
   "metadata": {},
   "outputs": [
    {
     "data": {
      "text/html": [
       "<pre style=\"white-space:pre;overflow-x:auto;line-height:normal;font-family:Menlo,'DejaVu Sans Mono',consolas,'Courier New',monospace\">\n",
       "</pre>\n"
      ],
      "text/plain": [
       "\n"
      ]
     },
     "metadata": {},
     "output_type": "display_data"
    },
    {
     "data": {
      "text/html": [
       "<pre style=\"white-space:pre;overflow-x:auto;line-height:normal;font-family:Menlo,'DejaVu Sans Mono',consolas,'Courier New',monospace\">\n",
       "<span style=\"font-weight: bold\">Diff</span>\n",
       "├── val\n",
       "│   └── (const) 5.0\n",
       "└── change\n",
       "    └── (const) &lt;genjax._src.core.diff_rules._NoChange object at 0x1468d9bd0&gt;\n",
       "</pre>\n"
      ],
      "text/plain": [
       "\n",
       "\u001b[1mDiff\u001b[0m\n",
       "├── val\n",
       "│   └── (const) 5.0\n",
       "└── change\n",
       "    └── (const) <genjax._src.core.diff_rules._NoChange object at 0x1468d9bd0>\n"
      ]
     },
     "metadata": {},
     "output_type": "display_data"
    }
   ],
   "source": [
    "genjax.Diff.new(5.0, genjax.NoChange)"
   ]
  },
  {
   "cell_type": "markdown",
   "id": "8e26baf0-7710-40c3-8c8d-b6285cf3a600",
   "metadata": {},
   "source": [
    "### Diffs for distributions"
   ]
  },
  {
   "cell_type": "markdown",
   "id": "08c2ddea-72a4-4661-a1a6-4acb6f489fc1",
   "metadata": {},
   "source": [
    "Let's explore the basics with distributions."
   ]
  },
  {
   "cell_type": "code",
   "execution_count": 7,
   "id": "a25241e2-237c-47c3-8c7b-edf1d0258ff0",
   "metadata": {},
   "outputs": [
    {
     "data": {
      "text/html": [
       "<pre style=\"white-space:pre;overflow-x:auto;line-height:normal;font-family:Menlo,'DejaVu Sans Mono',consolas,'Courier New',monospace\">\n",
       "</pre>\n"
      ],
      "text/plain": [
       "\n"
      ]
     },
     "metadata": {},
     "output_type": "display_data"
    },
    {
     "data": {
      "text/html": [
       "<pre style=\"white-space:pre;overflow-x:auto;line-height:normal;font-family:Menlo,'DejaVu Sans Mono',consolas,'Courier New',monospace\">\n",
       "<span style=\"font-weight: bold\">DistributionTrace</span>\n",
       "├── gen_fn\n",
       "│   └── <span style=\"font-weight: bold\">_Normal</span>\n",
       "├── args\n",
       "│   └── <span style=\"font-weight: bold\">tuple</span>\n",
       "│       ├── (const) 0.0\n",
       "│       └── (const) 1.0\n",
       "├── value\n",
       "│   └──  f32[]\n",
       "└── score\n",
       "    └──  f32[]\n",
       "</pre>\n"
      ],
      "text/plain": [
       "\n",
       "\u001b[1mDistributionTrace\u001b[0m\n",
       "├── gen_fn\n",
       "│   └── \u001b[1m_Normal\u001b[0m\n",
       "├── args\n",
       "│   └── \u001b[1mtuple\u001b[0m\n",
       "│       ├── (const) 0.0\n",
       "│       └── (const) 1.0\n",
       "├── value\n",
       "│   └──  f32[]\n",
       "└── score\n",
       "    └──  f32[]\n"
      ]
     },
     "metadata": {},
     "output_type": "display_data"
    }
   ],
   "source": [
    "key, dist_tr = genjax.Normal.simulate(key, (0.0, 1.0))\n",
    "dist_tr"
   ]
  },
  {
   "cell_type": "code",
   "execution_count": 8,
   "id": "329f3c3a-4e9c-4a8a-b222-9b596e8197ba",
   "metadata": {},
   "outputs": [],
   "source": [
    "# dist_tr.update is equivalent to model.update(key, tr, ...)\n",
    "key, (ret_diff, w, tr, d) = dist_tr.update(\n",
    "    key,\n",
    "    genjax.EmptyChoiceMap(),\n",
    "    (\n",
    "        genjax.Diff.new(1.0, genjax.UnknownChange),\n",
    "        genjax.Diff.new(1.0, genjax.NoChange),\n",
    "    ),\n",
    ")"
   ]
  },
  {
   "cell_type": "markdown",
   "id": "7a824aee-88c9-4cf7-ae02-8882ae9b5dfa",
   "metadata": {},
   "source": [
    "The return values do not change."
   ]
  },
  {
   "cell_type": "code",
   "execution_count": 9,
   "id": "b4140fd3-4cf0-4f94-81de-766c71ef484b",
   "metadata": {},
   "outputs": [
    {
     "data": {
      "text/html": [
       "<pre style=\"white-space:pre;overflow-x:auto;line-height:normal;font-family:Menlo,'DejaVu Sans Mono',consolas,'Courier New',monospace\"><span style=\"font-weight: bold\">(</span><span style=\"color: #800080; text-decoration-color: #800080; font-weight: bold\">Array</span><span style=\"font-weight: bold\">(</span><span style=\"color: #008080; text-decoration-color: #008080; font-weight: bold\">-0.72876865</span>, <span style=\"color: #808000; text-decoration-color: #808000\">dtype</span>=<span style=\"color: #800080; text-decoration-color: #800080\">float32</span><span style=\"font-weight: bold\">)</span>, <span style=\"color: #800080; text-decoration-color: #800080; font-weight: bold\">Array</span><span style=\"font-weight: bold\">(</span><span style=\"color: #008080; text-decoration-color: #008080; font-weight: bold\">-0.72876865</span>, <span style=\"color: #808000; text-decoration-color: #808000\">dtype</span>=<span style=\"color: #800080; text-decoration-color: #800080\">float32</span><span style=\"font-weight: bold\">))</span>\n",
       "</pre>\n"
      ],
      "text/plain": [
       "\u001b[1m(\u001b[0m\u001b[1;35mArray\u001b[0m\u001b[1m(\u001b[0m\u001b[1;36m-0.72876865\u001b[0m, \u001b[33mdtype\u001b[0m=\u001b[35mfloat32\u001b[0m\u001b[1m)\u001b[0m, \u001b[1;35mArray\u001b[0m\u001b[1m(\u001b[0m\u001b[1;36m-0.72876865\u001b[0m, \u001b[33mdtype\u001b[0m=\u001b[35mfloat32\u001b[0m\u001b[1m)\u001b[0m\u001b[1m)\u001b[0m\n"
      ]
     },
     "metadata": {},
     "output_type": "display_data"
    }
   ],
   "source": [
    "(dist_tr.get_retval(), ret_diff.val)"
   ]
  },
  {
   "cell_type": "markdown",
   "id": "406c821e-3ec4-449c-95ce-b81e2cc30d79",
   "metadata": {},
   "source": [
    "The weight is non-zero because the arguments have changed, implying that we must re-evaluate the log probability."
   ]
  },
  {
   "cell_type": "code",
   "execution_count": 10,
   "id": "628a16ba-a3c8-493b-8ce0-5dfdc22cb568",
   "metadata": {},
   "outputs": [
    {
     "data": {
      "text/html": [
       "<pre style=\"white-space:pre;overflow-x:auto;line-height:normal;font-family:Menlo,'DejaVu Sans Mono',consolas,'Courier New',monospace\"><span style=\"color: #800080; text-decoration-color: #800080; font-weight: bold\">Array</span><span style=\"font-weight: bold\">(</span><span style=\"color: #008080; text-decoration-color: #008080; font-weight: bold\">-1.2287686</span>, <span style=\"color: #808000; text-decoration-color: #808000\">dtype</span>=<span style=\"color: #800080; text-decoration-color: #800080\">float32</span><span style=\"font-weight: bold\">)</span>\n",
       "</pre>\n"
      ],
      "text/plain": [
       "\u001b[1;35mArray\u001b[0m\u001b[1m(\u001b[0m\u001b[1;36m-1.2287686\u001b[0m, \u001b[33mdtype\u001b[0m=\u001b[35mfloat32\u001b[0m\u001b[1m)\u001b[0m\n"
      ]
     },
     "metadata": {},
     "output_type": "display_data"
    }
   ],
   "source": [
    "w"
   ]
  },
  {
   "cell_type": "markdown",
   "id": "7ea0b062-175d-4078-b52f-9611864d5c2f",
   "metadata": {},
   "source": [
    "What does the code look like when there is no new constraint and both the arguments do not change?"
   ]
  },
  {
   "cell_type": "code",
   "execution_count": 11,
   "id": "516ce45c-b0f4-49b8-8a96-ab47c2954a92",
   "metadata": {},
   "outputs": [
    {
     "data": {
      "text/html": [
       "<pre style=\"white-space:pre;overflow-x:auto;line-height:normal;font-family:Menlo,'DejaVu Sans Mono',consolas,'Courier New',monospace\">\n",
       "<span style=\"font-weight: bold\">{</span> <span style=\"color: #000080; text-decoration-color: #000080; font-weight: bold\">lambda </span><span style=\"color: #00ff00; text-decoration-color: #00ff00; font-weight: bold\">a:f32</span><span style=\"color: #800080; text-decoration-color: #800080; font-weight: bold\">[]</span><span style=\"color: #000000; text-decoration-color: #000000\"> </span><span style=\"color: #00ff00; text-decoration-color: #00ff00; font-weight: bold\">b:f32</span><span style=\"color: #800080; text-decoration-color: #800080; font-weight: bold\">[]</span><span style=\"color: #000000; text-decoration-color: #000000\">; c</span><span style=\"color: #800080; text-decoration-color: #800080\">:u32</span><span style=\"color: #800080; text-decoration-color: #800080; font-weight: bold\">[</span><span style=\"color: #008080; text-decoration-color: #008080; font-weight: bold\">2</span><span style=\"color: #800080; text-decoration-color: #800080; font-weight: bold\">]</span><span style=\"color: #000000; text-decoration-color: #000000\"> </span><span style=\"color: #00ff00; text-decoration-color: #00ff00; font-weight: bold\">d:f32</span><span style=\"color: #800080; text-decoration-color: #800080; font-weight: bold\">[]</span><span style=\"color: #000000; text-decoration-color: #000000\"> </span><span style=\"color: #00ff00; text-decoration-color: #00ff00; font-weight: bold\">e:f32</span><span style=\"color: #800080; text-decoration-color: #800080; font-weight: bold\">[]</span><span style=\"color: #000000; text-decoration-color: #000000\">. </span><span style=\"color: #000080; text-decoration-color: #000080; font-weight: bold\">let</span>\n",
       "<span style=\"color: #000080; text-decoration-color: #000080; font-weight: bold\">    </span>\n",
       "<span style=\"color: #000080; text-decoration-color: #000080; font-weight: bold\">  in </span><span style=\"color: #000000; text-decoration-color: #000000; font-weight: bold\">(</span><span style=\"color: #000000; text-decoration-color: #000000\">c, a, </span><span style=\"color: #008080; text-decoration-color: #008080; font-weight: bold\">0.0</span><span style=\"color: #000000; text-decoration-color: #000000\">, </span><span style=\"color: #008080; text-decoration-color: #008080; font-weight: bold\">0.0</span><span style=\"color: #000000; text-decoration-color: #000000\">, </span><span style=\"color: #008080; text-decoration-color: #008080; font-weight: bold\">1.0</span><span style=\"color: #000000; text-decoration-color: #000000\">, a, b, </span><span style=\"color: #ff0000; text-decoration-color: #ff0000; font-style: italic\">False</span><span style=\"color: #000000; text-decoration-color: #000000\">, a</span><span style=\"color: #000000; text-decoration-color: #000000; font-weight: bold\">)</span><span style=\"color: #000000; text-decoration-color: #000000\"> </span><span style=\"color: #000000; text-decoration-color: #000000; font-weight: bold\">}</span>\n",
       "</pre>\n"
      ],
      "text/plain": [
       "\n",
       "\u001b[1m{\u001b[0m \u001b[1;34mlambda \u001b[0m\u001b[1;92ma\u001b[0m\u001b[1;92m:f32\u001b[0m\u001b[1;35m[\u001b[0m\u001b[1;35m]\u001b[0m\u001b[39m \u001b[0m\u001b[1;92mb\u001b[0m\u001b[1;92m:f32\u001b[0m\u001b[1;35m[\u001b[0m\u001b[1;35m]\u001b[0m\u001b[39m; c\u001b[0m\u001b[35m:u32\u001b[0m\u001b[1;35m[\u001b[0m\u001b[1;36m2\u001b[0m\u001b[1;35m]\u001b[0m\u001b[39m \u001b[0m\u001b[1;92md\u001b[0m\u001b[1;92m:f32\u001b[0m\u001b[1;35m[\u001b[0m\u001b[1;35m]\u001b[0m\u001b[39m \u001b[0m\u001b[1;92me\u001b[0m\u001b[1;92m:f32\u001b[0m\u001b[1;35m[\u001b[0m\u001b[1;35m]\u001b[0m\u001b[39m. \u001b[0m\u001b[1;34mlet\u001b[0m\n",
       "\u001b[1;34m    \u001b[0m\n",
       "\u001b[1;34m  in \u001b[0m\u001b[1;39m(\u001b[0m\u001b[39mc, a, \u001b[0m\u001b[1;36m0.0\u001b[0m\u001b[39m, \u001b[0m\u001b[1;36m0.0\u001b[0m\u001b[39m, \u001b[0m\u001b[1;36m1.0\u001b[0m\u001b[39m, a, b, \u001b[0m\u001b[3;91mFalse\u001b[0m\u001b[39m, a\u001b[0m\u001b[1;39m)\u001b[0m\u001b[39m \u001b[0m\u001b[1;39m}\u001b[0m\n"
      ]
     },
     "metadata": {},
     "output_type": "display_data"
    }
   ],
   "source": [
    "# dist_tr.update is equivalent to model.update(key, tr, ...)\n",
    "jaxpr = jax.make_jaxpr(dist_tr.update)(\n",
    "    key,\n",
    "    genjax.EmptyChoiceMap(),\n",
    "    (\n",
    "        genjax.Diff.new(0.0, genjax.NoChange),\n",
    "        genjax.Diff.new(1.0, genjax.NoChange),\n",
    "    ),\n",
    ")\n",
    "jaxpr"
   ]
  },
  {
   "cell_type": "markdown",
   "id": "253febf4-13e4-4b62-abee-a5dd7279c180",
   "metadata": {},
   "source": [
    "As expected, no computation is required - so the flattened arguments are just forwarded to the return."
   ]
  },
  {
   "cell_type": "markdown",
   "id": "e9bde11d-7a3c-4258-bc64-918001c7ed0d",
   "metadata": {},
   "source": [
    "### Diff propagation in the `BuiltinGenerativeFunction` language"
   ]
  },
  {
   "cell_type": "markdown",
   "id": "1c5a3a39-f9b6-44d7-9e93-dad52d36beb1",
   "metadata": {},
   "source": [
    "The builtin language exposes a new set of complexities. \n",
    "\n",
    "Now, programs represent generative functions. If we were designing a compiler, we'd need to explore an analysis which tracks the dataflow of values, and determines how changes to values propagate. With this analysis, we can identify what call sites are affected by changes, and implement our optimizations accordingly.\n",
    "\n",
    "This is a rough description of how  you would implement change propagation and optimization in a traditional compiler. But with JAX, we can just write an interpreter to do the analysis and optimization for us. The interpreter will operate on values lifted to `Diff` types, with the set of change values defined by a lattice of change types.\n",
    "\n",
    "[This interpreter is the propagation interpreter.](https://github.com/probcomp/genjax/blob/main/src/genjax/_src/core/propagate.py)^[We discuss this interpreter in more detail in the [Implementing the builtin modeling language](/advanced/impl_builtin_language/impl_builtin_language.ipynb) notebook.] We won't show the full complexity of this interpreter in the notebook - but we'll briefly walk through some of the components.\n",
    "\n",
    "This interpreter operates on `Diff` values, and supports customization via propagation rules which can be provided to the interpreter."
   ]
  },
  {
   "cell_type": "markdown",
   "id": "881c6d5f-8b94-4116-a5d7-39538f8d7de8",
   "metadata": {},
   "source": [
    "#### Propagation rules"
   ]
  },
  {
   "cell_type": "code",
   "execution_count": 12,
   "id": "6aa9b3cc-1d90-4fce-aa99-c5523644a289",
   "metadata": {},
   "outputs": [
    {
     "data": {
      "text/html": [
       "<pre style=\"white-space:pre;overflow-x:auto;line-height:normal;font-family:Menlo,'DejaVu Sans Mono',consolas,'Courier New',monospace\"><span style=\"color: #800000; text-decoration-color: #800000\">╭─────────────────────────────── </span><span style=\"color: #800000; text-decoration-color: #800000; font-weight: bold\">Traceback </span><span style=\"color: #bf7f7f; text-decoration-color: #bf7f7f; font-weight: bold\">(most recent call last)</span><span style=\"color: #800000; text-decoration-color: #800000\"> ────────────────────────────────╮</span>\n",
       "<span style=\"color: #800000; text-decoration-color: #800000\">│</span> <span style=\"color: #bfbf7f; text-decoration-color: #bfbf7f\">/var/folders/mk/btkplz1n40q001dsy957srbh0000gn/T/ipykernel_80977/</span><span style=\"color: #808000; text-decoration-color: #808000; font-weight: bold\">3278730948.py</span>:<span style=\"color: #0000ff; text-decoration-color: #0000ff\">1</span> in <span style=\"color: #00ff00; text-decoration-color: #00ff00\">&lt;module&gt;</span>     <span style=\"color: #800000; text-decoration-color: #800000\">│</span>\n",
       "<span style=\"color: #800000; text-decoration-color: #800000\">│</span>                                                                                                  <span style=\"color: #800000; text-decoration-color: #800000\">│</span>\n",
       "<span style=\"color: #800000; text-decoration-color: #800000\">│</span> <span style=\"color: #800000; text-decoration-color: #800000; font-style: italic\">[Errno 2] No such file or directory: </span>                                                            <span style=\"color: #800000; text-decoration-color: #800000\">│</span>\n",
       "<span style=\"color: #800000; text-decoration-color: #800000\">│</span> <span style=\"color: #800000; text-decoration-color: #800000; font-style: italic\">'/var/folders/mk/btkplz1n40q001dsy957srbh0000gn/T/ipykernel_80977/3278730948.py'</span>                 <span style=\"color: #800000; text-decoration-color: #800000\">│</span>\n",
       "<span style=\"color: #800000; text-decoration-color: #800000\">╰──────────────────────────────────────────────────────────────────────────────────────────────────╯</span>\n",
       "<span style=\"color: #ff0000; text-decoration-color: #ff0000; font-weight: bold\">AttributeError: </span>module <span style=\"color: #008000; text-decoration-color: #008000\">'genjax'</span> has no attribute <span style=\"color: #008000; text-decoration-color: #008000\">'diff_propagation_rules'</span>\n",
       "</pre>\n"
      ],
      "text/plain": [
       "\u001b[31m╭─\u001b[0m\u001b[31m──────────────────────────────\u001b[0m\u001b[31m \u001b[0m\u001b[1;31mTraceback \u001b[0m\u001b[1;2;31m(most recent call last)\u001b[0m\u001b[31m \u001b[0m\u001b[31m───────────────────────────────\u001b[0m\u001b[31m─╮\u001b[0m\n",
       "\u001b[31m│\u001b[0m \u001b[2;33m/var/folders/mk/btkplz1n40q001dsy957srbh0000gn/T/ipykernel_80977/\u001b[0m\u001b[1;33m3278730948.py\u001b[0m:\u001b[94m1\u001b[0m in \u001b[92m<module>\u001b[0m     \u001b[31m│\u001b[0m\n",
       "\u001b[31m│\u001b[0m                                                                                                  \u001b[31m│\u001b[0m\n",
       "\u001b[31m│\u001b[0m \u001b[3;31m[Errno 2] No such file or directory: \u001b[0m                                                            \u001b[31m│\u001b[0m\n",
       "\u001b[31m│\u001b[0m \u001b[3;31m'/var/folders/mk/btkplz1n40q001dsy957srbh0000gn/T/ipykernel_80977/3278730948.py'\u001b[0m                 \u001b[31m│\u001b[0m\n",
       "\u001b[31m╰──────────────────────────────────────────────────────────────────────────────────────────────────╯\u001b[0m\n",
       "\u001b[1;91mAttributeError: \u001b[0mmodule \u001b[32m'genjax'\u001b[0m has no attribute \u001b[32m'diff_propagation_rules'\u001b[0m\n"
      ]
     },
     "metadata": {},
     "output_type": "display_data"
    }
   ],
   "source": [
    "genjax.diff_propagation_rules"
   ]
  },
  {
   "cell_type": "markdown",
   "id": "0712892c-f2a5-4a0d-933c-77b246d98044",
   "metadata": {},
   "source": [
    "What is the `fallback_rule`? This rule is defined to operate on any primitive operation which is not explicitly key'd into the `rule_set`. In the `rule_set` for `Diff` propagation, we only provide overloads for special JAX operations - otherwise, the primitive uses the `fallback_rule` to attempt to propagate `Diff` values."
   ]
  },
  {
   "cell_type": "code",
   "execution_count": null,
   "id": "484ed3e2-81cd-4d3c-b3d5-a58ff8f2f168",
   "metadata": {},
   "outputs": [],
   "source": [
    "def fallback_diff_rule(prim: Any, incells: List[Diff], outcells: Any, **params):\n",
    "    if all(map(lambda v: v.top(), incells)):\n",
    "        in_vals = list(map(lambda v: v.get_val(), incells))\n",
    "        out = prim.bind(*in_vals, **params)\n",
    "        if all(map(lambda v: v.get_change() == NoChange, incells)):\n",
    "            new_out = jtu.tree_map(lambda v: Diff.new(v, change=NoChange), out)\n",
    "        else:\n",
    "            new_out = jtu.tree_map(lambda v: Diff.new(v), out)\n",
    "        if not prim.multiple_results:\n",
    "            new_out = [new_out]\n",
    "    else:\n",
    "        new_out = outcells\n",
    "    return incells, new_out, None"
   ]
  },
  {
   "cell_type": "markdown",
   "id": "1de7442f-7aac-4840-bdfa-eee71873dcac",
   "metadata": {},
   "source": [
    "Here, the `incells` define edges propagating into the primitive operation `prim` in the `Jaxpr` representation of our program.\n",
    "\n",
    "`v.top()` is a call to a method which returns information about the base value and the `Change` value in the `Diff` - the `Change` values are defined on a `Change` type lattice. For now, we'll just consider two values: `NoChange` and `UnknownChange`.\n",
    "\n",
    "`v.top()` just checks to make sure that the base value is not `None` (e.g. propagation has succeeded in learning the type of this edge into the `prim` operation).\n",
    "\n",
    "Propagation with this rule set ensures that once the type of the base value is known, so is the `Change` value.\n",
    "\n",
    "If we know the base values of all `incells` edges, we can `bind` the primitive using the invals, and then decide how to propagate a new `Change` value out. If any of the incoming edge `Change` values are `UnknownChange` - we set all the outgoing edges to `UnknownChange` (that's the default call to `Diff.new(...)`)."
   ]
  },
  {
   "cell_type": "markdown",
   "id": "9a5806e9-f084-42c0-bfd1-22eb3900f94a",
   "metadata": {},
   "source": [
    "#### What about `trace`?"
   ]
  },
  {
   "cell_type": "markdown",
   "id": "25dd0a24-3cc4-42ef-8b8f-c368bb05c069",
   "metadata": {},
   "source": [
    "You may be wondering - is `genjax.trace` also handled by the `fallback_rule`? The answer is no.\n",
    "\n",
    "The semantics of the generative function interface methods sometimes require that we record state during the interpretation of `genjax.trace`. \n",
    "\n",
    "To support this pattern, we don't handle `genjax.trace` with a rule from the rule set - we use a stateful handler (similar to an effect handler, but staged out at trace time) to provide overloads for `genjax.trace` (and `genjax.cache`).\n",
    "\n",
    "::: {.callout-important}\n",
    "\n",
    "When we say \"stateful\" here -- you might be concerned about mutation, and JAX's distaste for it. These stateful handlers don't mutate JAX-owned values (tracers), so they're compatible with JAX's pure programming model. \n",
    "\n",
    "The handlers provide a state monad-like local context during JAX tracing. This context models read and writes to state - but because we stage out the transformation, they are partially evaluated away during code generation, and they do not occur in our runtime modeling and inference code.\n",
    "\n",
    "Now, there are restrictions in how we write these stateful handlers - we discuss this further in [Implementing the builtin modeling language](/advanced/impl_builtin_language/impl_builtin_language.ipynb).\n",
    "\n",
    ":::"
   ]
  },
  {
   "cell_type": "markdown",
   "id": "ec3d4f4b-9599-4c09-bea7-4eeec9d36b07",
   "metadata": {},
   "source": [
    "#### Applying the interpreter"
   ]
  },
  {
   "cell_type": "markdown",
   "id": "11b46016-b0d4-4fe4-9eb1-14aff182685d",
   "metadata": {},
   "source": [
    "Below, we show how we invoke the interpreter in the implementation of `update` for the `BuiltinGenerativeFunction` language.\n",
    "\n",
    "There's quite a bit of complexity here. If you want a further unpacking of this section, we recommend the [Implementing the builtin modeling language](/advanced/impl_builtin_language/impl_builtin_language.ipynb) notebook.\n",
    "\n",
    "Just remember that this transformation is also staged out - so objects like the stateful `handler` are used to"
   ]
  },
  {
   "cell_type": "code",
   "execution_count": null,
   "id": "de4b8fab-d1fe-478f-a316-a93357c883a8",
   "metadata": {},
   "outputs": [],
   "source": [
    "# `update_transform` implements the semantics of `update` using a program transformation.\n",
    "def update_transform(source_fn, **kwargs):\n",
    "    @functools.wraps(source_fn)\n",
    "    def _inner(key, previous_trace, constraints, argdiffs):\n",
    "        vals = jtu.tree_map(strip_diff, argdiffs, is_leaf=check_is_diff)\n",
    "        jaxpr, (_, _, out_tree) = stage(source_fn)(*vals, **kwargs)\n",
    "        jaxpr, consts = jaxpr.jaxpr, jaxpr.literals\n",
    "\n",
    "        # Interpreter also accepts a stateful handler -\n",
    "        # this encapsulates any extra state that we wish to\n",
    "        # return out of the transformed function.\n",
    "        handler = Update.new(key, previous_trace, constraints)\n",
    "\n",
    "        # The interpreter used as a context.\n",
    "        # We specify that the base type lattice for values\n",
    "        # is `Diff`, and we also specify propagation rules.\n",
    "        with PropagationInterpreter.new(\n",
    "            Diff, diff_propagation_rules, handler\n",
    "        ) as interpreter:\n",
    "            flat_argdiffs, _ = jtu.tree_flatten(argdiffs, is_leaf=check_is_diff)\n",
    "\n",
    "            # The interpreter iterates over the program `Jaxpr`,\n",
    "            # applying the propagation rules, until a fixpoint\n",
    "            # is reached.\n",
    "            final_env, _ = interpreter(\n",
    "                jaxpr,\n",
    "                [Diff.new(v, change=NoChange) for v in consts],\n",
    "                flat_argdiffs,\n",
    "                [Diff.unknown(var.aval) for var in jaxpr.outvars],\n",
    "            )\n",
    "\n",
    "            # We get the final retval values out of the environment.\n",
    "            flat_retval_diffs = safe_map(final_env.read, jaxpr.outvars)\n",
    "            retval_diffs = jtu.tree_unflatten(\n",
    "                out_tree,\n",
    "                flat_retval_diffs,\n",
    "            )\n",
    "\n",
    "            # Now, we get the values which we must return from\n",
    "            # the generative function interface - these come from\n",
    "            # the stateful handler.\n",
    "            retvals = tuple(map(strip_diff, flat_retval_diffs))\n",
    "            retvals = jtu.tree_unflatten(out_tree, retvals)\n",
    "            w = handler.weight\n",
    "            constraints = handler.choice_state\n",
    "            cache = handler.cache_state\n",
    "            discard = handler.discard\n",
    "            key = handler.key\n",
    "\n",
    "        # Return everything that `update` in `BuiltinGenerativeFunction`\n",
    "        # needs to implement its specification.\n",
    "        return (\n",
    "            key,\n",
    "            (\n",
    "                retval_diffs,\n",
    "                w,\n",
    "                (\n",
    "                    source_fn,\n",
    "                    vals,\n",
    "                    retvals,\n",
    "                    constraints,\n",
    "                    previous_trace.get_score() + w,\n",
    "                ),\n",
    "                discard,\n",
    "            ),\n",
    "            cache,\n",
    "        )\n",
    "\n",
    "    return _inner"
   ]
  },
  {
   "cell_type": "markdown",
   "id": "463c9106-7fe1-4d9d-b52b-8fa565714963",
   "metadata": {},
   "source": [
    "#### Combining the ingredients"
   ]
  },
  {
   "cell_type": "markdown",
   "id": "b0958041-5434-4ca8-b9fe-eba59663ed0d",
   "metadata": {},
   "source": [
    "Without digging into the implementation of this functionality, we can spot check that it's working by examining a few example `update` computations."
   ]
  },
  {
   "cell_type": "markdown",
   "id": "1bf31d5e-2be5-4a35-9d56-c70f7597586a",
   "metadata": {},
   "source": [
    "## `cache`: change aware memoization"
   ]
  },
  {
   "cell_type": "markdown",
   "id": "a9e49e98-d0c2-4d96-8e07-47ff40ca86a0",
   "metadata": {},
   "source": [
    "The `BuiltinGenerativeFunction` language exposes a primitive called `cache` that interacts with the change tracking system to support memoization of deterministic computations (even deterministic computations which depend on random choices)."
   ]
  }
 ],
 "metadata": {
  "kernelspec": {
   "display_name": "Python 3 (ipykernel)",
   "language": "python",
   "name": "python3"
  },
  "language_info": {
   "codemirror_mode": {
    "name": "ipython",
    "version": 3
   },
   "file_extension": ".py",
   "mimetype": "text/x-python",
   "name": "python",
   "nbconvert_exporter": "python",
   "pygments_lexer": "ipython3",
   "version": "3.11.0"
  }
 },
 "nbformat": 4,
 "nbformat_minor": 5
}
