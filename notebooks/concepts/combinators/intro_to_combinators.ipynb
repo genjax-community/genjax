{
 "cells": [
  {
   "cell_type": "raw",
   "id": "38efe203-02d1-4919-acdd-6632a67ccecf",
   "metadata": {},
   "source": [
    "---\n",
    "title: Introduction to generative function combinators\n",
    "date: \"December 1, 2022\"\n",
    "abstract: \"This notebook is designed to give the reader an introduction to generative function combinators - higher-order functions which accept generative functions and return new generative functions, typically transforming the generative structure to encode a pattern of repeated computation. In this notebook, we focus on vector-shaped combinators - combinators which transform input generative structure into (mapped or scanned) vectorial structure.\"\n",
    "callout-appearance: simple\n",
    "---"
   ]
  },
  {
   "cell_type": "code",
   "execution_count": 48,
   "id": "f63c66e0-c049-4b86-8149-cc5f0089f206",
   "metadata": {},
   "outputs": [],
   "source": [
    "import genjax\n",
    "import jax\n",
    "import numpy as np\n",
    "import seaborn as sns\n",
    "\n",
    "sns.set_theme(style=\"white\")\n",
    "\n",
    "# Pretty printing.\n",
    "console = genjax.console(width=80)\n",
    "\n",
    "# Reproducibility.\n",
    "key = jax.random.PRNGKey(314159)"
   ]
  },
  {
   "cell_type": "markdown",
   "id": "dbb23a8b-e9b0-46bd-a1c1-da46706c02d1",
   "metadata": {},
   "source": [
    "Gen helps probabilistic programmers design and implement models and inference algorithms by automating the (often) complicated inference math. The generative function interface is the key abstraction layer which provides this automation. Generative function language designers can extend the interface to new generative function objects - providing domain-specific patterns and optimizations which users can automatically take advantage of.\n",
    "\n",
    "One key class of generative function languages are _combinators_ - higher-order functions which accept generative functions as input, and produce a new generative function type as an output.\n",
    "\n",
    "Combinators functionally transform the generative structure that we pass into them, expressing useful patterns - including chain-like computations, IID sampling patterns, or generative computations which form grammar-like structures. \n",
    "\n",
    "Combinators also expose optimization opportunities - by registering the patterns as generative functions, implementors (e.g. the library authors) can specialize the implementation of the generative function interface methods. Users of combinators can then take advantage of this interface specialization to express asymptotically optimal updates (useful in e.g. MCMC kernels), or optimized importance weight calculations.\n",
    "\n",
    "In this notebook, we'll be discussing `Unfold` - a combinator for expressing generative computations which are reminiscent of state-space (or Markov) models. To keep things simple, we'll explore a hidden Markov model example - but combinator usage generalizes to models with much richer structure."
   ]
  },
  {
   "cell_type": "markdown",
   "id": "25107e2a-e4cc-4bb5-90bd-13975da03472",
   "metadata": {},
   "source": [
    "## Introducing `Unfold`"
   ]
  },
  {
   "cell_type": "markdown",
   "id": "c3a002e7-aa4c-4500-84ad-c8274a82cced",
   "metadata": {},
   "source": [
    "Let's discuss `Unfold`.^[A quick reminder: when in doubt, you can use the console from `console = genjax.pretty()` to inspect the classes which we discuss in the notebooks.]"
   ]
  },
  {
   "cell_type": "markdown",
   "id": "55b50620-376a-4a5e-abdd-03339f4cf3e0",
   "metadata": {},
   "source": [
    "How do we make an instance of `Unfold`? Given an existing generative function which is a _kernel_ - a kernel accepts and returns the same type signature - we can create a valid `Unfold` instance.^[This is not strictly true. `Unfold` also allows you to pass in a set of _static arguments_ which are provided to the kernel _after the state argument_, unchanged, at each time step. We show this at the bottom of the notebook.]"
   ]
  },
  {
   "cell_type": "markdown",
   "id": "5c0a2c50-8042-47b5-a68f-913078d9e060",
   "metadata": {},
   "source": [
    "Here's an example kernel:"
   ]
  },
  {
   "cell_type": "code",
   "execution_count": 49,
   "id": "2ecb3fd4-4482-4627-970f-a6bcbad74833",
   "metadata": {},
   "outputs": [],
   "source": [
    "@genjax.Static\n",
    "def kernel(prev_latent):\n",
    "    new_latent = genjax.normal(prev_latent, 1.0) @ \"z\"\n",
    "    _new_obs = genjax.normal(new_latent, 1.0) @ \"x\"\n",
    "    return new_latent"
   ]
  },
  {
   "cell_type": "code",
   "execution_count": 50,
   "id": "b5f2b0ff-7b8a-4954-80ce-3ccce9dfeaec",
   "metadata": {},
   "outputs": [
    {
     "data": {
      "text/plain": [
       "StaticTrace(gen_fn=StaticGenerativeFunction(source=<function kernel at 0x16c8a4d30>), args=(Array(0.3, dtype=float32, weak_type=True),), retval=Array(-1.3722037, dtype=float32), address_choices=Trie(inner={'z': DistributionTrace(gen_fn=TFPDistribution(make_distribution=<class 'tensorflow_probability.substrates.jax.distributions.normal.Normal'>), args=(Array(0.3, dtype=float32, weak_type=True), Array(1., dtype=float32, weak_type=True)), value=Array(-1.3722037, dtype=float32), score=Array(-2.3170712, dtype=float32)), 'x': DistributionTrace(gen_fn=TFPDistribution(make_distribution=<class 'tensorflow_probability.substrates.jax.distributions.normal.Normal'>), args=(Array(-1.3722037, dtype=float32), Array(1., dtype=float32, weak_type=True)), value=Array(-1.7015922, dtype=float32), score=Array(-0.9731869, dtype=float32))}), cache=Trie(inner={}), score=Array(-3.2902582, dtype=float32))"
      ]
     },
     "execution_count": 50,
     "metadata": {},
     "output_type": "execute_result"
    }
   ],
   "source": [
    "key, sub_key = jax.random.split(key)\n",
    "tr = jax.jit(kernel.simulate)(sub_key, (0.3,))\n",
    "tr"
   ]
  },
  {
   "cell_type": "markdown",
   "id": "10f71f64-e9ae-4190-857a-047a53fe1a98",
   "metadata": {},
   "source": [
    "To create an `Unfold` instance, we provide two things:\n",
    "\n",
    "* The kernel generative function.\n",
    "* A static maximum unroll chain argument. Dynamically, `Unfold` may not unroll all the way up to this maximum - but for JAX/XLA compilation, we need to provide this maximum value as an invariant upper bound for any invocation of `Unfold`."
   ]
  },
  {
   "cell_type": "code",
   "execution_count": 51,
   "id": "03be32b4-2447-4493-b527-91f88ff2600b",
   "metadata": {},
   "outputs": [
    {
     "data": {
      "text/plain": [
       "UnfoldCombinator(max_length=10, kernel=StaticGenerativeFunction(source=<function kernel at 0x16c8a4d30>))"
      ]
     },
     "execution_count": 51,
     "metadata": {},
     "output_type": "execute_result"
    }
   ],
   "source": [
    "chain = genjax.Unfold(max_length=10)(kernel)\n",
    "chain"
   ]
  },
  {
   "cell_type": "markdown",
   "id": "f4fd664a-478c-4834-a5ff-e96ad645df12",
   "metadata": {},
   "source": [
    "To invoke an interface method, the arguments which `Unfold` expects is a `Tuple`, where the first element is the maximum **index** in the resulting chain, and the second element is the initial state.\n",
    "\n",
    "::: {.callout-important}\n",
    "\n",
    "## Usage of index argument vs. a length argument\n",
    "\n",
    "Note how we've bolded **index** above - think of the index value as denoting an upper bound on active indices for the resulting chain. An _active index_ is one in which the value was evolved using the `kernel` from the previous value. Passing in `index = 5` means: all values after `return[5]` are not evolved, they're just filled with the `return[5]` value.\n",
    "\n",
    "Indexing follows Python convention - so e.g. passing in `0` as the index means that a **single application** of the kernel was applied to the state, before evolution was halted and evolved statically.\n",
    "\n",
    ":::"
   ]
  },
  {
   "cell_type": "code",
   "execution_count": 52,
   "id": "6c29e39f-bfd4-410a-a6d6-6abf85d1c6ab",
   "metadata": {},
   "outputs": [
    {
     "data": {
      "text/plain": [
       "UnfoldTrace(unfold=UnfoldCombinator(max_length=10, kernel=StaticGenerativeFunction(source=<function kernel at 0x16c8a4d30>)), inner=StaticTrace(gen_fn=StaticGenerativeFunction(source=<function kernel at 0x16c8a4d30>), args=(Array([ 0.3       ,  0.6131936 ,  0.00573514,  0.5613615 , -0.8505292 ,\n",
       "       -0.57859993,  0.        ,  0.        ,  0.        ,  0.        ],      dtype=float32),), retval=Array([ 0.6131936 ,  0.00573514,  0.5613615 , -0.8505292 , -0.57859993,\n",
       "       -0.559737  ,  0.        ,  0.        ,  0.        ,  0.        ],      dtype=float32), address_choices=Trie(inner={'z': DistributionTrace(gen_fn=TFPDistribution(make_distribution=<class 'tensorflow_probability.substrates.jax.distributions.normal.Normal'>), args=(Array([ 0.3       ,  0.6131936 ,  0.00573514,  0.5613615 , -0.8505292 ,\n",
       "       -0.57859993,  0.        ,  0.        ,  0.        ,  0.        ],      dtype=float32), Array([1., 1., 1., 1., 1., 1., 0., 0., 0., 0.], dtype=float32)), value=Array([ 0.6131936 ,  0.00573514,  0.5613615 , -0.8505292 , -0.57859993,\n",
       "       -0.559737  ,  0.        ,  0.        ,  0.        ,  0.        ],      dtype=float32), score=Array([-0.9679836 , -1.1034414 , -1.0732988 , -1.9156563 , -0.9559113 ,\n",
       "       -0.91911644,  0.        ,  0.        ,  0.        ,  0.        ],      dtype=float32)), 'x': DistributionTrace(gen_fn=TFPDistribution(make_distribution=<class 'tensorflow_probability.substrates.jax.distributions.normal.Normal'>), args=(Array([ 0.6131936 ,  0.00573514,  0.5613615 , -0.8505292 , -0.57859993,\n",
       "       -0.559737  ,  0.        ,  0.        ,  0.        ,  0.        ],      dtype=float32), Array([1., 1., 1., 1., 1., 1., 0., 0., 0., 0.], dtype=float32)), value=Array([ 0.7041453 , -0.43292406, -0.22227105, -0.18404233, -1.0112236 ,\n",
       "       -1.2926182 ,  0.        ,  0.        ,  0.        ,  0.        ],      dtype=float32), score=Array([-0.9230746, -1.0151495, -1.2259785, -1.1410409, -1.0125201,\n",
       "       -1.187496 ,  0.       ,  0.       ,  0.       ,  0.       ],      dtype=float32))}), cache=Trie(inner={}), score=Array([-1.8910582, -2.1185908, -2.2992773, -3.0566974, -1.9684314,\n",
       "       -2.1066124,  0.       ,  0.       ,  0.       ,  0.       ],      dtype=float32)), dynamic_length=Array(5, dtype=int32, weak_type=True), args=(Array(5, dtype=int32, weak_type=True), Array(0.3, dtype=float32, weak_type=True)), retval=Array([ 0.6131936 ,  0.00573514,  0.5613615 , -0.8505292 , -0.57859993,\n",
       "       -0.559737  , -0.559737  , -0.559737  , -0.559737  , -0.559737  ],      dtype=float32, weak_type=True), score=Array(-13.440667, dtype=float32))"
      ]
     },
     "execution_count": 52,
     "metadata": {},
     "output_type": "execute_result"
    }
   ],
   "source": [
    "key, sub_key = jax.random.split(key)\n",
    "tr = jax.jit(chain.simulate)(sub_key, (5, 0.3))\n",
    "tr"
   ]
  },
  {
   "cell_type": "code",
   "execution_count": 53,
   "id": "d17d735f-48cb-4eaa-87d7-0cb7164de8ab",
   "metadata": {},
   "outputs": [
    {
     "ename": "AttributeError",
     "evalue": "'UnfoldTrace' object has no attribute 'indices'",
     "output_type": "error",
     "traceback": [
      "\u001b[0;31m---------------------------------------------------------------------------\u001b[0m",
      "\u001b[0;31mAttributeError\u001b[0m                            Traceback (most recent call last)",
      "Cell \u001b[0;32mIn[53], line 1\u001b[0m\n\u001b[0;32m----> 1\u001b[0m \u001b[43mtr\u001b[49m\u001b[38;5;241;43m.\u001b[39;49m\u001b[43mindices\u001b[49m\n",
      "\u001b[0;31mAttributeError\u001b[0m: 'UnfoldTrace' object has no attribute 'indices'"
     ]
    }
   ],
   "source": [
    "tr.indices"
   ]
  },
  {
   "cell_type": "code",
   "execution_count": null,
   "id": "ab984b94-6e27-4015-a197-4732926bcfa1",
   "metadata": {},
   "outputs": [
    {
     "data": {
      "text/plain": [
       "Array([ 0.77070504,  1.2511517 , -0.05651412, -1.0273771 , -1.9366605 ,\n",
       "       -2.0199924 , -2.0199924 , -2.0199924 , -2.0199924 , -2.0199924 ],      dtype=float32, weak_type=True)"
      ]
     },
     "execution_count": 27,
     "metadata": {},
     "output_type": "execute_result"
    }
   ],
   "source": [
    "tr.get_retval()"
   ]
  },
  {
   "cell_type": "markdown",
   "id": "94c387bd-33dc-43f6-8a7c-e281d9c504af",
   "metadata": {},
   "source": [
    "Note how `tr.indices` keep track of where the chain stopped evolving, according to the index argument to `Unfold`. In `tr.get_retval()`, we see that the final dynamic value (afterwards, evolution stops) occurs at `index = 5`."
   ]
  },
  {
   "cell_type": "markdown",
   "id": "a244b386-1867-4088-8c77-f3a443a940ed",
   "metadata": {},
   "source": [
    "## Combinator choice maps"
   ]
  },
  {
   "cell_type": "markdown",
   "id": "152c3bd6-3b3f-4c16-bd63-1b5e609cc9e1",
   "metadata": {},
   "source": [
    "Typically, each combinator has a unique choice map. The choice map simultaneously represents the structure of the generative choices which the transformed combinator generative function makes, as well as optimization opportunities which a user can take advantage of.\n",
    "\n",
    "Let's study the choice map for `UnfoldTrace`."
   ]
  },
  {
   "cell_type": "code",
   "execution_count": null,
   "id": "42b67d35-a55b-4cdd-9937-3332e2c838ed",
   "metadata": {},
   "outputs": [
    {
     "data": {
      "text/plain": [
       "VectorChoiceMap(inner=Mask(mask=Array([ True,  True,  True,  True,  True,  True, False, False, False,\n",
       "       False], dtype=bool), value=HierarchicalChoiceMap(trie=Trie(inner={'z': ChoiceValue(value=Array([ 0.77070504,  1.2511517 , -0.05651412, -1.0273771 , -1.9366605 ,\n",
       "       -2.0199924 ,  0.        ,  0.        ,  0.        ,  0.        ],      dtype=float32)), 'x': ChoiceValue(value=Array([ 1.1478616 ,  1.9526132 ,  0.77730536, -0.6052703 , -3.665616  ,\n",
       "       -2.0058045 ,  0.        ,  0.        ,  0.        ,  0.        ],      dtype=float32))}))))"
      ]
     },
     "execution_count": 30,
     "metadata": {},
     "output_type": "execute_result"
    }
   ],
   "source": [
    "chm = tr.get_choices()\n",
    "chm"
   ]
  },
  {
   "cell_type": "markdown",
   "id": "5df132d9-3887-4ff7-83bc-55697251b432",
   "metadata": {},
   "source": [
    "Again, let's look at the indices."
   ]
  },
  {
   "cell_type": "code",
   "execution_count": null,
   "id": "6e21d7c1-76a8-4bfc-be04-134e0b45592e",
   "metadata": {},
   "outputs": [
    {
     "ename": "AttributeError",
     "evalue": "'VectorChoiceMap' object has no attribute 'indices'",
     "output_type": "error",
     "traceback": [
      "\u001b[0;31m---------------------------------------------------------------------------\u001b[0m",
      "\u001b[0;31mAttributeError\u001b[0m                            Traceback (most recent call last)",
      "Cell \u001b[0;32mIn[36], line 1\u001b[0m\n\u001b[0;32m----> 1\u001b[0m \u001b[43mchm\u001b[49m\u001b[38;5;241;43m.\u001b[39;49m\u001b[43mindices\u001b[49m\n",
      "\u001b[0;31mAttributeError\u001b[0m: 'VectorChoiceMap' object has no attribute 'indices'"
     ]
    }
   ],
   "source": [
    "chm.indices"
   ]
  },
  {
   "cell_type": "markdown",
   "id": "e4d51ecb-da64-48ed-8712-b9d6a5a96223",
   "metadata": {},
   "source": [
    "No surprises - the choice map also keeps track of which indices are active, and which indices are inactive. \n",
    "\n",
    "Inactive indices **do not** participate in inference metadata computations - so e.g. if we ask for the score of the trace:"
   ]
  },
  {
   "cell_type": "code",
   "execution_count": null,
   "id": "71af7755-a42e-4665-8dba-7d889e45d6ca",
   "metadata": {},
   "outputs": [
    {
     "data": {
      "text/plain": [
       "Array(-15.245218, dtype=float32)"
      ]
     },
     "execution_count": 37,
     "metadata": {},
     "output_type": "execute_result"
    }
   ],
   "source": [
    "tr.get_score()"
   ]
  },
  {
   "cell_type": "markdown",
   "id": "78750b17-a86d-4686-b9fb-06735b9748eb",
   "metadata": {},
   "source": [
    "The score is the same as the sum of sub-trace scores from `[0:5]`."
   ]
  },
  {
   "cell_type": "code",
   "execution_count": null,
   "id": "399ccc6e-516a-46d2-aa4c-2c1cd2fc9fa1",
   "metadata": {},
   "outputs": [
    {
     "ename": "AttributeError",
     "evalue": "'UnfoldTrace' object has no attribute 'get_subtree'",
     "output_type": "error",
     "traceback": [
      "\u001b[0;31m---------------------------------------------------------------------------\u001b[0m",
      "\u001b[0;31mAttributeError\u001b[0m                            Traceback (most recent call last)",
      "Cell \u001b[0;32mIn[41], line 1\u001b[0m\n\u001b[0;32m----> 1\u001b[0m np\u001b[38;5;241m.\u001b[39msum(\u001b[43mtr\u001b[49m\u001b[38;5;241;43m.\u001b[39;49m\u001b[43mget_subtree\u001b[49m(\u001b[38;5;124m\"\u001b[39m\u001b[38;5;124mz\u001b[39m\u001b[38;5;124m\"\u001b[39m)\u001b[38;5;241m.\u001b[39mget_score()[\u001b[38;5;241m0\u001b[39m:\u001b[38;5;241m6\u001b[39m] \u001b[38;5;241m+\u001b[39m tr\u001b[38;5;241m.\u001b[39mget_subtree(\u001b[38;5;124m\"\u001b[39m\u001b[38;5;124mx\u001b[39m\u001b[38;5;124m\"\u001b[39m)\u001b[38;5;241m.\u001b[39mget_score()[\u001b[38;5;241m0\u001b[39m:\u001b[38;5;241m6\u001b[39m])\n",
      "\u001b[0;31mAttributeError\u001b[0m: 'UnfoldTrace' object has no attribute 'get_subtree'"
     ]
    }
   ],
   "source": [
    "np.sum(tr.get_subtree(\"z\").get_score()[0:6] + tr.get_subtree(\"x\").get_score()[0:6])"
   ]
  },
  {
   "cell_type": "markdown",
   "id": "027a3d89-3086-444d-9ae0-2dceb61a5c14",
   "metadata": {},
   "source": [
    "The reason why we have an `index` argument is that we can dynamically choose how much of the chain contributes to the generative computation. This `index` argument can come from other generative function - it need not be a JAX trace-time static value.\n",
    "\n",
    "With this in mind, it's best to think of `Unfold` as representing a space of processes which unroll up to some maximum static length - but the active generative process can halt before that maximum length."
   ]
  }
 ],
 "metadata": {
  "kernelspec": {
   "display_name": "Python 3 (ipykernel)",
   "language": "python",
   "name": "python3"
  },
  "language_info": {
   "codemirror_mode": {
    "name": "ipython",
    "version": 3
   },
   "file_extension": ".py",
   "mimetype": "text/x-python",
   "name": "python",
   "nbconvert_exporter": "python",
   "pygments_lexer": "ipython3",
   "version": "3.10.9"
  }
 },
 "nbformat": 4,
 "nbformat_minor": 5
}
