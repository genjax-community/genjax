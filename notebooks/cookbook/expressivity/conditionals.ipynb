{
 "cells": [
  {
   "cell_type": "raw",
   "metadata": {},
   "source": [
    "---\n",
    "title: Conditionals\n",
    "subtitle: How do I use conditionals in (Gen)JAX?\n",
    "---"
   ]
  },
  {
   "cell_type": "code",
   "execution_count": null,
   "metadata": {},
   "outputs": [],
   "source": [
    "import jax\n",
    "import jax.numpy as jnp\n",
    "from genjax import bernoulli, gen, normal, or_else, pretty, switch\n",
    "\n",
    "pretty()"
   ]
  },
  {
   "cell_type": "markdown",
   "metadata": {},
   "source": [
    "In pure Python, we can use usual conditionals"
   ]
  },
  {
   "cell_type": "code",
   "execution_count": null,
   "metadata": {},
   "outputs": [],
   "source": [
    "def simple_cond_python(p):\n",
    "    if p > 0:\n",
    "        return 2 * p\n",
    "    else:\n",
    "        return -p\n",
    "\n",
    "\n",
    "simple_cond_python(0.3), simple_cond_python(-0.4)"
   ]
  },
  {
   "cell_type": "markdown",
   "metadata": {},
   "source": [
    "In pure JAX, we write conditionals with `jax.lax.cond` as follows"
   ]
  },
  {
   "cell_type": "code",
   "execution_count": null,
   "metadata": {},
   "outputs": [],
   "source": [
    "def branch_1(p):\n",
    "    return 2 * p\n",
    "\n",
    "\n",
    "def branch_2(p):\n",
    "    return -p\n",
    "\n",
    "\n",
    "def simple_cond_jax(p):\n",
    "    pred = p > 0\n",
    "    arg_of_cond = p\n",
    "    cond_res = jax.lax.cond(pred, branch_1, branch_2, arg_of_cond)\n",
    "    return cond_res\n",
    "\n",
    "\n",
    "simple_cond_jax(0.3), simple_cond_jax(-0.4)"
   ]
  },
  {
   "cell_type": "markdown",
   "metadata": {},
   "source": [
    "Compiled JAX code is usually quite faster than Python code"
   ]
  },
  {
   "cell_type": "code",
   "execution_count": null,
   "metadata": {},
   "outputs": [],
   "source": [
    "def python_loop(x):\n",
    "    for i in range(40000):\n",
    "        if x < 100.0:\n",
    "            x = 2 * x\n",
    "        else:\n",
    "            x = x - 97.0\n",
    "    return x\n",
    "\n",
    "\n",
    "@jax.jit\n",
    "def jax_loop(x):\n",
    "    return jax.lax.fori_loop(\n",
    "        0,\n",
    "        40000,\n",
    "        lambda _, x: jax.lax.cond(x < 100.0, lambda x: 2 * x, lambda x: x - 97.0, x),\n",
    "        x,\n",
    "    )\n",
    "\n",
    "\n",
    "%timeit python_loop(1.0)\n",
    "# Get the JIT time out of the way\n",
    "jax_loop(1.0)\n",
    "%timeit jax_loop(1.0)"
   ]
  },
  {
   "cell_type": "markdown",
   "metadata": {},
   "source": [
    "One restriction is that both branches should have the same pytree structure"
   ]
  },
  {
   "cell_type": "code",
   "execution_count": null,
   "metadata": {},
   "outputs": [],
   "source": [
    "def failing_simple_cond_1(p):\n",
    "    pred = p > 0\n",
    "\n",
    "    def branch_1(p):\n",
    "        return (p, p)\n",
    "\n",
    "    def branch_2(p):\n",
    "        return -p\n",
    "\n",
    "    arg_of_cond = p\n",
    "    cond_res = jax.lax.cond(pred, branch_1, branch_2, arg_of_cond)\n",
    "    return cond_res\n",
    "\n",
    "\n",
    "try:\n",
    "    print(failing_simple_cond_1(0.3))\n",
    "except TypeError as e:\n",
    "    print(e)"
   ]
  },
  {
   "cell_type": "markdown",
   "metadata": {},
   "source": [
    "The other one is that the type of the output of the branches should be the same"
   ]
  },
  {
   "cell_type": "code",
   "execution_count": null,
   "metadata": {},
   "outputs": [],
   "source": [
    "def failing_simple_cond_2(p):\n",
    "    pred = p > 0\n",
    "\n",
    "    def branch_1(p):\n",
    "        return 2 * p\n",
    "\n",
    "    def branch_2(p):\n",
    "        return 7\n",
    "\n",
    "    arg_of_cond = p\n",
    "    cond_res = jax.lax.cond(pred, branch_1, branch_2, arg_of_cond)\n",
    "    return cond_res\n",
    "\n",
    "\n",
    "try:\n",
    "    print(failing_simple_cond_2(0.3))\n",
    "except TypeError as e:\n",
    "    print(e)"
   ]
  },
  {
   "cell_type": "markdown",
   "metadata": {},
   "source": [
    "In GenJAX, the syntax is a bit different still.\n",
    "Similarly to JAX having a custom primitive `jax.lax.cond` that creates a conditional by \"composing\" two functions seen as branches, GenJAX has a custom combinator that \"composes\" two generative functions, called `genjax.or_else`."
   ]
  },
  {
   "cell_type": "markdown",
   "metadata": {},
   "source": [
    "We can first define the two branches as generative functions"
   ]
  },
  {
   "cell_type": "code",
   "execution_count": null,
   "metadata": {},
   "outputs": [],
   "source": [
    "@gen\n",
    "def branch_1(p):  # noqa: F811\n",
    "    v = bernoulli(p) @ \"v1\"\n",
    "    return v\n",
    "\n",
    "\n",
    "@gen\n",
    "def branch_2(p):  # noqa: F811\n",
    "    v = bernoulli(-p) @ \"v2\"\n",
    "    return v"
   ]
  },
  {
   "cell_type": "markdown",
   "metadata": {},
   "source": [
    "Then we use the combinator to compose them"
   ]
  },
  {
   "cell_type": "code",
   "execution_count": null,
   "metadata": {},
   "outputs": [],
   "source": [
    "@gen\n",
    "def cond_model(p):\n",
    "    pred = p > 0\n",
    "    arg_1 = (p,)\n",
    "    arg_2 = (p,)\n",
    "    v = or_else(branch_1, branch_2)(pred, arg_1, arg_2) @ \"cond\"\n",
    "    return v"
   ]
  },
  {
   "cell_type": "code",
   "execution_count": null,
   "metadata": {},
   "outputs": [],
   "source": [
    "key = jax.random.PRNGKey(314159)\n",
    "jitted = jax.jit(cond_model.simulate)\n",
    "tr = jitted(key, (0.0,))\n",
    "tr.get_sample()"
   ]
  },
  {
   "cell_type": "markdown",
   "metadata": {},
   "source": [
    "Alternatively, we can write `or_else` as follows:"
   ]
  },
  {
   "cell_type": "code",
   "execution_count": null,
   "metadata": {},
   "outputs": [],
   "source": [
    "@gen\n",
    "def cond_model_v2(p):\n",
    "    pred = p > 0\n",
    "    arg_1 = (p,)\n",
    "    arg_2 = (p,)\n",
    "    v = branch_1.or_else(branch_2)(pred, arg_1, arg_2) @ \"cond\"\n",
    "    return v"
   ]
  },
  {
   "cell_type": "code",
   "execution_count": null,
   "metadata": {},
   "outputs": [],
   "source": [
    "cond_model_v2.simulate(key, (0.0,))"
   ]
  },
  {
   "cell_type": "markdown",
   "metadata": {},
   "source": [
    "Note that it may be possible to write the following down, but this will not give you what you want in general!"
   ]
  },
  {
   "cell_type": "code",
   "execution_count": null,
   "metadata": {},
   "outputs": [],
   "source": [
    "# TODO: find a way to make it fail to better show the point.\n",
    "@gen\n",
    "def simple_cond_genjax(p):\n",
    "    def branch_1(p):\n",
    "        return bernoulli(p) @ \"v1\"\n",
    "\n",
    "    def branch_2(p):\n",
    "        return bernoulli(-p) @ \"v2\"\n",
    "\n",
    "    cond = jax.lax.cond(p > 0, branch_1, branch_2, p)\n",
    "    return cond\n",
    "\n",
    "\n",
    "key = jax.random.PRNGKey(314159)\n",
    "tr1 = simple_cond_genjax.simulate(key, (0.3,))\n",
    "tr2 = simple_cond_genjax.simulate(key, (-0.4,))\n",
    "tr1.get_retval(), tr2.get_retval()"
   ]
  },
  {
   "cell_type": "markdown",
   "metadata": {},
   "source": [
    "Alternatively, if we have more than two branches, in JAX we can use the `jax.lax.switch` function."
   ]
  },
  {
   "cell_type": "code",
   "execution_count": null,
   "metadata": {},
   "outputs": [],
   "source": [
    "def simple_switch_jax(p):\n",
    "    index = jnp.floor(jnp.abs(p)).astype(jnp.int32) % 3\n",
    "    branches = [lambda p: 2 * p, lambda p: -p, lambda p: p]\n",
    "    switch_res = jax.lax.switch(index, branches, p)\n",
    "    return switch_res\n",
    "\n",
    "\n",
    "simple_switch_jax(0.3), simple_switch_jax(1.1), simple_switch_jax(2.3)"
   ]
  },
  {
   "cell_type": "markdown",
   "metadata": {},
   "source": [
    "Likewise, in GenJAX we can use the `switch` combinator if we have more than two branches.\n",
    "We can first define three branches as generative functions"
   ]
  },
  {
   "cell_type": "code",
   "execution_count": null,
   "metadata": {},
   "outputs": [],
   "source": [
    "@gen\n",
    "def branch_1(p):  # noqa: F811\n",
    "    v = normal(p, 1.0) @ \"v1\"\n",
    "    return v\n",
    "\n",
    "\n",
    "@gen\n",
    "def branch_2(p):  # noqa: F811\n",
    "    v = normal(-p, 1.0) @ \"v2\"\n",
    "    return v\n",
    "\n",
    "\n",
    "@gen\n",
    "def branch_3(p):\n",
    "    v = normal(p * p, 1.0) @ \"v3\"\n",
    "    return v"
   ]
  },
  {
   "cell_type": "markdown",
   "metadata": {},
   "source": [
    "Then we use the combinator to compose them."
   ]
  },
  {
   "cell_type": "code",
   "execution_count": null,
   "metadata": {},
   "outputs": [],
   "source": [
    "@gen\n",
    "def switch_model(p):\n",
    "    index = jnp.floor(jnp.abs(p)).astype(jnp.int32) % 3\n",
    "    v = switch(branch_1, branch_2, branch_3)(index, (p,), (p,), (p,)) @ \"s\"\n",
    "    return v\n",
    "\n",
    "\n",
    "key = jax.random.PRNGKey(0)\n",
    "jitted = jax.jit(switch_model.simulate)\n",
    "tr = jitted(key, (0.0,))\n",
    "print(tr.get_sample()[(\"s\", \"v1\")])\n",
    "tr = jitted(key, (1.1,))\n",
    "print(tr.get_sample()[(\"s\", \"v2\")])\n",
    "tr = jitted(key, (2.2,))\n",
    "print(tr.get_sample()[(\"s\", \"v3\")])"
   ]
  },
  {
   "cell_type": "markdown",
   "metadata": {},
   "source": [
    "We can rewrite the above a bit more elegantly using the *args syntax"
   ]
  },
  {
   "cell_type": "code",
   "execution_count": null,
   "metadata": {},
   "outputs": [],
   "source": [
    "@gen\n",
    "def switch_model_v2(p):\n",
    "    index = jnp.floor(jnp.abs(p)).astype(jnp.int32) % 3\n",
    "    branches = [branch_1, branch_2, branch_3]\n",
    "    args = [(p,), (p,), (p,)]\n",
    "    v = switch(*branches)(index, *args) @ \"switch\"\n",
    "    return v\n",
    "\n",
    "\n",
    "jitted = switch_model_v2.simulate\n",
    "tr = jitted(key, (0.0,))\n",
    "tr.get_sample()[(\"switch\", \"v1\")]"
   ]
  }
 ],
 "metadata": {
  "kernelspec": {
   "display_name": "genjax-trials",
   "language": "python",
   "name": "python3"
  },
  "language_info": {
   "codemirror_mode": {
    "name": "ipython",
    "version": 3
   },
   "file_extension": ".py",
   "mimetype": "text/x-python",
   "name": "python",
   "nbconvert_exporter": "python",
   "pygments_lexer": "ipython3",
   "version": "3.11.4"
  }
 },
 "nbformat": 4,
 "nbformat_minor": 2
}
