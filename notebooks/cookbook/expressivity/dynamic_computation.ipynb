{
 "cells": [
  {
   "cell_type": "raw",
   "metadata": {
    "vscode": {
     "languageId": "raw"
    }
   },
   "source": [
    "---\n",
    "title: Dynamic computations\n",
    "subtitle: I want more dynamic features but JAX only accepts arrays with statically known sizes, what do I do?\n",
    "---"
   ]
  },
  {
   "cell_type": "code",
   "execution_count": null,
   "metadata": {},
   "outputs": [],
   "source": [
    "import genjax\n",
    "import jax\n",
    "import jax.numpy as jnp\n",
    "from genjax import Mask, gen, normal\n",
    "\n",
    "key = jax.random.PRNGKey(0)"
   ]
  },
  {
   "cell_type": "markdown",
   "metadata": {},
   "source": [
    "Let's write a printing function to be able to visualize traces a bit more compactly."
   ]
  },
  {
   "cell_type": "code",
   "execution_count": null,
   "metadata": {},
   "outputs": [],
   "source": [
    "class HiddenIndex:\n",
    "    def __repr__(self):\n",
    "        return \"#\"\n",
    "\n",
    "\n",
    "class Addr:\n",
    "    def __init__(self, addr, show_indices):\n",
    "        if not show_indices:\n",
    "            new_addr = []\n",
    "            for a in addr:\n",
    "                if isinstance(a, str):\n",
    "                    new_addr.append(a)\n",
    "                else:\n",
    "                    new_addr.append(HiddenIndex())\n",
    "            addr = new_addr\n",
    "        self.addr = addr\n",
    "\n",
    "    def __repr__(self):\n",
    "        return f\"<{self.addr}>\"\n",
    "\n",
    "    def __lt__(self, other):\n",
    "        return self.addr < other.addr\n",
    "\n",
    "\n",
    "def cm_kv(t, show_indices=False):\n",
    "    def cm_kv_inner(t, addr_path=None, flag=None):\n",
    "        if addr_path is None:\n",
    "            addr_path = []\n",
    "        else:\n",
    "            addr_path = addr_path.copy()\n",
    "        match type(t):\n",
    "            case genjax._src.core.generative.choice_map.XorChm:\n",
    "                ret1 = cm_kv_inner(t.c1, addr_path, flag)\n",
    "                ret2 = cm_kv_inner(t.c2, addr_path, flag)\n",
    "                # Check for empty intersection\n",
    "                set1 = set(ret1)\n",
    "                set2 = set(ret2)\n",
    "                in_common = set1.intersection(set2)\n",
    "                if not in_common:\n",
    "                    return ret1.update(ret2)\n",
    "                else:\n",
    "                    raise ValueError(\"Common keys found in XorChm\")\n",
    "            case genjax._src.core.generative.choice_map.OrChm:\n",
    "                ret1 = cm_kv_inner(t.c1, addr_path, flag)\n",
    "                ret2 = cm_kv_inner(t.c2, addr_path, flag)\n",
    "                return ret1.update(ret2)\n",
    "            case genjax._src.core.generative.choice_map.StaticChm:\n",
    "                addr_path.append(t.addr)\n",
    "                return cm_kv_inner(t.c, addr_path, flag)\n",
    "            case genjax._src.core.generative.choice_map.IdxChm:\n",
    "                addr_path.append(t.addr)\n",
    "                return cm_kv_inner(t.c, addr_path, flag)\n",
    "            case genjax._src.core.generative.choice_map.ValueChm:\n",
    "                # TODO: needs to replace 0 with  special symbol for masked\n",
    "                if flag is None:\n",
    "                    return {Addr(addr_path, show_indices): t.v}\n",
    "                else:\n",
    "                    return {Addr(addr_path, show_indices): flag * t.v}\n",
    "            case genjax._src.core.generative.choice_map.MaskChm:\n",
    "                if flag is None:\n",
    "                    flag = t.flag\n",
    "                else:\n",
    "                    flag = flag * t.flag\n",
    "                return cm_kv_inner(t.c, addr_path, flag)\n",
    "            case genjax._src.core.generative.choice_map.EmptyChm:\n",
    "                pass\n",
    "            case genjax._src.core.generative.choice_map.FilteredChm:\n",
    "                # TODO: needs testing\n",
    "                ret = cm_kv_inner(t.c, addr_path)\n",
    "                sel = t.selection\n",
    "                keys = list(ret.keys())\n",
    "                filtered__out_keys = [\n",
    "                    tup for tup in keys if all(x == y for x, y in zip(tup, sel))\n",
    "                ]\n",
    "                for k in filtered__out_keys:\n",
    "                    del ret[k]\n",
    "                return ret\n",
    "            case _:\n",
    "                raise NotImplementedError(str(type(t)))\n",
    "\n",
    "    return cm_kv_inner(t)"
   ]
  },
  {
   "cell_type": "markdown",
   "metadata": {},
   "source": [
    "One classic trick is to encode all the options as an array and pick the desired value from the array with a dynamic one.\n",
    "\n",
    "Here's a first example:"
   ]
  },
  {
   "cell_type": "code",
   "execution_count": null,
   "metadata": {},
   "outputs": [],
   "source": [
    "@gen\n",
    "def model(\n",
    "    i, means, vars\n",
    "):  # provide all the possible values and the dynamic index to pick from them\n",
    "    x = normal(means[i], vars[i]) @ \"x\"\n",
    "    return x\n",
    "\n",
    "\n",
    "model.simulate(key, (7, jnp.arange(10, dtype=jnp.float32), jnp.ones(10)))"
   ]
  },
  {
   "cell_type": "markdown",
   "metadata": {},
   "source": [
    "Now, what if there's a value we may or may not want to get depending on a dynamic value?\n",
    "\n",
    "In this case, we can use masking. Let's look at an example in JAX."
   ]
  },
  {
   "cell_type": "code",
   "execution_count": null,
   "metadata": {},
   "outputs": [],
   "source": [
    "non_masked = jnp.arange(9).reshape(3, 3)\n",
    "\n",
    "non_masked"
   ]
  },
  {
   "cell_type": "code",
   "execution_count": null,
   "metadata": {},
   "outputs": [],
   "source": [
    "# mask the upper triangular part of the matrix\n",
    "mask = jnp.mask_indices(3, jnp.triu)\n",
    "\n",
    "non_masked[mask]"
   ]
  },
  {
   "cell_type": "markdown",
   "metadata": {},
   "source": [
    "We can use similar logic for generative functions in GenJAX. \n",
    "\n",
    "Let's create an HMM using the scan combinator."
   ]
  },
  {
   "cell_type": "code",
   "execution_count": null,
   "metadata": {},
   "outputs": [],
   "source": [
    "state_size = 10\n",
    "length = 10\n",
    "variance = jnp.eye(state_size)\n",
    "initial_state = jax.random.normal(jax.random.PRNGKey(0), (state_size,))\n",
    "\n",
    "\n",
    "@genjax.gen\n",
    "def hmm_step(x, _):\n",
    "    new_x = genjax.mv_normal(x, variance) @ \"new_x\"\n",
    "    return new_x, None\n",
    "\n",
    "\n",
    "hmm = hmm_step.scan(n=length)"
   ]
  },
  {
   "cell_type": "markdown",
   "metadata": {},
   "source": [
    "When we run it, we get a full trace. "
   ]
  },
  {
   "cell_type": "code",
   "execution_count": null,
   "metadata": {},
   "outputs": [],
   "source": [
    "jitted = jax.jit(hmm.simulate)\n",
    "trace = jitted(key, (initial_state, None))\n",
    "cm_kv(trace.get_choices())"
   ]
  },
  {
   "cell_type": "markdown",
   "metadata": {},
   "source": [
    "Let us now define a masked scan_combinator so that we can return intermediate results."
   ]
  },
  {
   "cell_type": "code",
   "execution_count": null,
   "metadata": {},
   "outputs": [],
   "source": [
    "# TODO: this should be part of the standard library, hopefully soon.\n",
    "def masked_scan_combinator(step, **scan_kwargs):\n",
    "    \"\"\"\n",
    "    Given a generative function `step` so that `step.scan(n=N)` is valid,\n",
    "    return a generative function accepting an input\n",
    "    `(initial_state, masked_input_values_array)` and returning a pair\n",
    "    `(masked_final_state, masked_returnvalue_sequence)`.\n",
    "    This operates similarly to `step.scan`, but the input values can be masked.\n",
    "    \"\"\"\n",
    "    mstep = step.mask().dimap(\n",
    "        pre=lambda masked_state, masked_inval: (\n",
    "            jnp.logical_and(masked_state.flag, masked_inval.flag),\n",
    "            masked_state.value,\n",
    "            masked_inval.value,\n",
    "        ),\n",
    "        post=lambda args, masked_retval: (\n",
    "            Mask(masked_retval.flag, masked_retval.value[0]),\n",
    "            Mask(masked_retval.flag, masked_retval.value[1]),\n",
    "        ),\n",
    "    )\n",
    "\n",
    "    # This should be given a pair (\n",
    "    #     Mask(True, initial_state),\n",
    "    #     Mask(bools_indicating_active, input_vals)\n",
    "    # ).\n",
    "    # It will output a pair (masked_final_state, masked_returnvalue_sequence).\n",
    "    scanned = mstep.scan(**scan_kwargs)\n",
    "\n",
    "    scanned_nice = scanned.dimap(\n",
    "        pre=lambda initial_state, masked_input_values: (\n",
    "            Mask(True, initial_state),\n",
    "            Mask(masked_input_values.flag, masked_input_values.value),\n",
    "        ),\n",
    "        post=lambda args, retval: retval,\n",
    "    )\n",
    "\n",
    "    return scanned_nice"
   ]
  },
  {
   "cell_type": "markdown",
   "metadata": {},
   "source": [
    "To get the partial results in the HMM instead, we can use the masking as follows:"
   ]
  },
  {
   "cell_type": "code",
   "execution_count": null,
   "metadata": {},
   "outputs": [],
   "source": [
    "stop_at_index = 5\n",
    "mask = Mask(jnp.arange(state_size) < stop_at_index, None)\n",
    "\n",
    "masked_hmm = masked_scan_combinator(hmm_step, n=state_size)\n",
    "\n",
    "choices = masked_hmm.simulate(key, (initial_state, mask)).get_choices()\n",
    "\n",
    "cm_kv(choices)"
   ]
  },
  {
   "cell_type": "code",
   "execution_count": null,
   "metadata": {},
   "outputs": [],
   "source": [
    "trace.get_choices()"
   ]
  }
 ],
 "metadata": {
  "kernelspec": {
   "display_name": ".venv",
   "language": "python",
   "name": "python3"
  },
  "language_info": {
   "codemirror_mode": {
    "name": "ipython",
    "version": 3
   },
   "file_extension": ".py",
   "mimetype": "text/x-python",
   "name": "python",
   "nbconvert_exporter": "python",
   "pygments_lexer": "ipython3",
   "version": "3.11.6"
  }
 },
 "nbformat": 4,
 "nbformat_minor": 2
}
