{
 "cells": [
  {
   "cell_type": "raw",
   "metadata": {
    "vscode": {
     "languageId": "raw"
    }
   },
   "source": [
    "---\n",
    "title: Dynamic computations\n",
    "subtitle: I want more dynamic features but JAX only accepts arrays with statically known sizes, what do I do?\n",
    "---"
   ]
  },
  {
   "cell_type": "code",
   "execution_count": null,
   "metadata": {},
   "outputs": [],
   "source": [
    "import genjax\n",
    "import jax\n",
    "import jax.numpy as jnp\n",
    "from genjax import Mask, bernoulli, categorical, gen, normal, or_else, pretty\n",
    "from genjax._src.core.generative.choice_map import MaskChm\n",
    "\n",
    "pretty()\n",
    "key = jax.random.PRNGKey(0)"
   ]
  },
  {
   "cell_type": "markdown",
   "metadata": {},
   "source": [
    "One classic trick is to encode all the options as an array and pick the desired value from the array with a dynamic one.\n",
    "\n",
    "Here's a first example:"
   ]
  },
  {
   "cell_type": "code",
   "execution_count": null,
   "metadata": {},
   "outputs": [],
   "source": [
    "@gen\n",
    "def model(\n",
    "    i, means, vars\n",
    "):  # provide all the possible values and the dynamic index to pick from them\n",
    "    x = normal(means[i], vars[i]) @ \"x\"\n",
    "    return x\n",
    "\n",
    "\n",
    "model.simulate(key, (7, jnp.arange(10, dtype=jnp.float32), jnp.ones(10)))"
   ]
  },
  {
   "cell_type": "markdown",
   "metadata": {},
   "source": [
    "Now, what if there's a value we may or may not want to get depending on a dynamic value?\n",
    "\n",
    "In this case, we can use masking. Let's look at an example in JAX."
   ]
  },
  {
   "cell_type": "code",
   "execution_count": null,
   "metadata": {},
   "outputs": [],
   "source": [
    "non_masked = jnp.arange(9).reshape(3, 3)\n",
    "\n",
    "non_masked"
   ]
  },
  {
   "cell_type": "code",
   "execution_count": null,
   "metadata": {},
   "outputs": [],
   "source": [
    "# mask the upper triangular part of the matrix\n",
    "mask = jnp.mask_indices(3, jnp.triu)\n",
    "\n",
    "non_masked[mask]"
   ]
  },
  {
   "cell_type": "markdown",
   "metadata": {},
   "source": [
    "We can use similar logic for generative functions in GenJAX. \n",
    "\n",
    "Let's create an HMM using the scan combinator."
   ]
  },
  {
   "cell_type": "code",
   "execution_count": null,
   "metadata": {},
   "outputs": [],
   "source": [
    "state_size = 10\n",
    "length = 10\n",
    "variance = jnp.eye(state_size)\n",
    "initial_state = jax.random.normal(jax.random.PRNGKey(0), (state_size,))\n",
    "\n",
    "\n",
    "@genjax.gen\n",
    "def hmm_step(x, _):\n",
    "    new_x = genjax.mv_normal(x, variance) @ \"new_x\"\n",
    "    return new_x, None\n",
    "\n",
    "\n",
    "hmm = hmm_step.scan(n=length)"
   ]
  },
  {
   "cell_type": "markdown",
   "metadata": {},
   "source": [
    "When we run it, we get a full trace. "
   ]
  },
  {
   "cell_type": "code",
   "execution_count": null,
   "metadata": {},
   "outputs": [],
   "source": [
    "jitted = jax.jit(hmm.simulate)\n",
    "trace = jitted(key, (initial_state, None))\n",
    "trace.get_choices()"
   ]
  },
  {
   "cell_type": "markdown",
   "metadata": {},
   "source": [
    "Let us now define a masked scan_combinator so that we can return intermediate results."
   ]
  },
  {
   "cell_type": "code",
   "execution_count": null,
   "metadata": {},
   "outputs": [],
   "source": [
    "# TODO: this should be part of the standard library, hopefully soon.\n",
    "def masked_scan_combinator(step, **scan_kwargs):\n",
    "    \"\"\"\n",
    "    Given a generative function `step` so that `step.scan(n=N)` is valid,\n",
    "    return a generative function accepting an input\n",
    "    `(initial_state, masked_input_values_array)` and returning a pair\n",
    "    `(masked_final_state, masked_returnvalue_sequence)`.\n",
    "    This operates similarly to `step.scan`, but the input values can be masked.\n",
    "    \"\"\"\n",
    "    mstep = step.mask().dimap(\n",
    "        pre=lambda masked_state, masked_inval: (\n",
    "            jnp.logical_and(masked_state.flag, masked_inval.flag),\n",
    "            masked_state.value,\n",
    "            masked_inval.value,\n",
    "        ),\n",
    "        post=lambda args, masked_retval: (\n",
    "            Mask(masked_retval.flag, masked_retval.value[0]),\n",
    "            Mask(masked_retval.flag, masked_retval.value[1]),\n",
    "        ),\n",
    "    )\n",
    "\n",
    "    # This should be given a pair (\n",
    "    #     Mask(True, initial_state),\n",
    "    #     Mask(bools_indicating_active, input_vals)\n",
    "    # ).\n",
    "    # It will output a pair (masked_final_state, masked_returnvalue_sequence).\n",
    "    scanned = mstep.scan(**scan_kwargs)\n",
    "\n",
    "    scanned_nice = scanned.dimap(\n",
    "        pre=lambda initial_state, masked_input_values: (\n",
    "            Mask(True, initial_state),\n",
    "            Mask(masked_input_values.flag, masked_input_values.value),\n",
    "        ),\n",
    "        post=lambda args, retval: retval,\n",
    "    )\n",
    "\n",
    "    return scanned_nice"
   ]
  },
  {
   "cell_type": "markdown",
   "metadata": {},
   "source": [
    "To get the partial results in the HMM instead, we can use the masking as follows:"
   ]
  },
  {
   "cell_type": "code",
   "execution_count": null,
   "metadata": {},
   "outputs": [],
   "source": [
    "stop_at_index = 5\n",
    "mask = Mask(jnp.arange(state_size) < stop_at_index, None)\n",
    "masked_hmm = masked_scan_combinator(hmm_step, n=length)\n",
    "choices = masked_hmm.simulate(key, (initial_state, mask)).get_choices()\n",
    "choices"
   ]
  },
  {
   "cell_type": "markdown",
   "metadata": {},
   "source": [
    "Let's now use it in a bigger computation where the masking index is dynamic and comes from a sampled value."
   ]
  },
  {
   "cell_type": "code",
   "execution_count": null,
   "metadata": {},
   "outputs": [],
   "source": [
    "@gen\n",
    "def larger_model(init, probs):\n",
    "    i = categorical(probs) @ \"i\"\n",
    "    mask = Mask(jnp.arange(10) < i, None)\n",
    "    x = masked_hmm(init, mask) @ \"x\"\n",
    "    return x\n",
    "\n",
    "\n",
    "key, subkey = jax.random.split(key, 2)\n",
    "init = jax.random.normal(key, (state_size,))\n",
    "probs = jnp.arange(state_size) / sum(jnp.arange(state_size))\n",
    "choices = larger_model.simulate(subkey, (init, probs)).get_choices()\n",
    "choices"
   ]
  },
  {
   "cell_type": "markdown",
   "metadata": {},
   "source": [
    "We have already seen how to use conditionals in GenJAX models in the `conditionals` notebook. Behind the scene, it's using the same logic with masks."
   ]
  },
  {
   "cell_type": "code",
   "execution_count": null,
   "metadata": {},
   "outputs": [],
   "source": [
    "@gen\n",
    "def cond_model(p):\n",
    "    pred = p > 0\n",
    "    arg_1 = (p,)\n",
    "    arg_2 = (p,)\n",
    "    v = (\n",
    "        or_else(\n",
    "            gen(lambda p: bernoulli(p) @ \"v1\"), gen(lambda p: bernoulli(-p) @ \"v1\")\n",
    "        )(pred, arg_1, arg_2)\n",
    "        @ \"cond\"\n",
    "    )\n",
    "    return v\n",
    "\n",
    "\n",
    "choices = cond_model.simulate(key, (0.5,)).get_choices()\n",
    "isinstance(choices.c.c1, MaskChm)"
   ]
  }
 ],
 "metadata": {
  "kernelspec": {
   "display_name": ".venv",
   "language": "python",
   "name": "python3"
  },
  "language_info": {
   "codemirror_mode": {
    "name": "ipython",
    "version": 3
   },
   "file_extension": ".py",
   "mimetype": "text/x-python",
   "name": "python",
   "nbconvert_exporter": "python",
   "pygments_lexer": "ipython3",
   "version": "3.11.6"
  }
 },
 "nbformat": 4,
 "nbformat_minor": 2
}
