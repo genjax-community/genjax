{
 "cells": [
  {
   "cell_type": "raw",
   "metadata": {
    "vscode": {
     "languageId": "raw"
    }
   },
   "source": [
    "---\n",
    "title: Dynamic computations\n",
    "subtitle: I want more dynamic features but JAX only accepts arrays with statically known sizes, what do I do?\n",
    "---"
   ]
  },
  {
   "cell_type": "code",
   "execution_count": null,
   "metadata": {},
   "outputs": [],
   "source": [
    "import genjax\n",
    "import jax\n",
    "import jax.numpy as jnp\n",
    "from genjax import gen, normal\n",
    "\n",
    "key = jax.random.PRNGKey(0)"
   ]
  },
  {
   "cell_type": "markdown",
   "metadata": {},
   "source": [
    "Let's write a printing function to be able to visualize traces a bit more compactly."
   ]
  },
  {
   "cell_type": "code",
   "execution_count": null,
   "metadata": {},
   "outputs": [],
   "source": [
    "class HiddenIndex:\n",
    "    def __repr__(self):\n",
    "        return \"#\"\n",
    "\n",
    "\n",
    "class Addr:\n",
    "    def __init__(self, addr, show_indices):\n",
    "        if not show_indices:\n",
    "            new_addr = []\n",
    "            for a in addr:\n",
    "                if isinstance(a, str):\n",
    "                    new_addr.append(a)\n",
    "                else:\n",
    "                    new_addr.append(HiddenIndex())\n",
    "            addr = new_addr\n",
    "        self.addr = addr\n",
    "\n",
    "    def __repr__(self):\n",
    "        return f\"<{self.addr}>\"\n",
    "\n",
    "    def __lt__(self, other):\n",
    "        return self.addr < other.addr\n",
    "\n",
    "\n",
    "def cm_kv(t, show_indices=False):\n",
    "    ret = {}\n",
    "\n",
    "    def cm_kv_inner(t, addr_path=None):\n",
    "        if addr_path is None:\n",
    "            addr_path = []\n",
    "        else:\n",
    "            addr_path = addr_path.copy()\n",
    "        match type(t):\n",
    "            case (\n",
    "                genjax._src.core.generative.choice_map.XorChm\n",
    "                | genjax._src.core.generative.choice_map.OrChm\n",
    "            ):\n",
    "                cm_kv_inner(t.c1, addr_path)\n",
    "                cm_kv_inner(t.c2, addr_path)\n",
    "            case genjax._src.core.generative.choice_map.StaticChm:\n",
    "                addr_path.append(t.addr)\n",
    "                cm_kv_inner(t.c, addr_path)\n",
    "            case genjax._src.core.generative.choice_map.IdxChm:\n",
    "                addr_path.append(t.addr)\n",
    "                cm_kv_inner(t.c, addr_path)\n",
    "            case genjax._src.core.generative.choice_map.ValueChm:\n",
    "                ret[Addr(addr_path, show_indices)] = t.v\n",
    "            case _:\n",
    "                raise NotImplementedError(str(type(t)))\n",
    "\n",
    "    cm_kv_inner(t)\n",
    "    return ret"
   ]
  },
  {
   "cell_type": "markdown",
   "metadata": {},
   "source": [
    "One classic trick is to encode all the options as an array and pick the desired value from the array with a dynamic one.\n",
    "\n",
    "Here's a first example:"
   ]
  },
  {
   "cell_type": "code",
   "execution_count": null,
   "metadata": {},
   "outputs": [],
   "source": [
    "@gen\n",
    "def model(\n",
    "    i, means, vars\n",
    "):  # provide all the possible values and the dynamic index to pick from them\n",
    "    x = normal(means[i], vars[i]) @ \"x\"\n",
    "    return x\n",
    "\n",
    "\n",
    "model.simulate(key, (13, jnp.arange(10, dtype=jnp.float32), jnp.ones(13)))"
   ]
  },
  {
   "cell_type": "markdown",
   "metadata": {},
   "source": [
    "Now, what if there's a value we may or may not want to get depending on a dynamic value?\n",
    "\n",
    "In this case, we can use masking. Let's look at an example in JAX."
   ]
  },
  {
   "cell_type": "code",
   "execution_count": null,
   "metadata": {},
   "outputs": [],
   "source": [
    "non_masked = jnp.arange(9).reshape(3, 3)\n",
    "\n",
    "non_masked"
   ]
  },
  {
   "cell_type": "code",
   "execution_count": null,
   "metadata": {},
   "outputs": [],
   "source": [
    "# mask the upper triangular part of the matrix\n",
    "mask = jnp.mask_indices(3, jnp.triu)\n",
    "\n",
    "non_masked[mask]"
   ]
  },
  {
   "cell_type": "markdown",
   "metadata": {},
   "source": [
    "We can use similar logic for generative functions in GenJAX. \n",
    "\n",
    "Let's create an HMM using the scan combinator."
   ]
  },
  {
   "cell_type": "code",
   "execution_count": null,
   "metadata": {},
   "outputs": [],
   "source": [
    "N = 300\n",
    "n_repeats = 100\n",
    "variance = jnp.eye(N)\n",
    "initial_state = jax.random.normal(jax.random.PRNGKey(0), (N,))\n",
    "\n",
    "\n",
    "@genjax.gen\n",
    "def hmm_step(x, _):\n",
    "    new_x = genjax.mv_normal(x, variance) @ \"new_x\"\n",
    "    return new_x, None\n",
    "\n",
    "\n",
    "hmm = hmm_step.scan(n=100)"
   ]
  },
  {
   "cell_type": "markdown",
   "metadata": {},
   "source": [
    "When we run it, we get a full trace. "
   ]
  },
  {
   "cell_type": "code",
   "execution_count": null,
   "metadata": {},
   "outputs": [],
   "source": [
    "jitted = jax.jit(hmm.repeat(n=n_repeats).simulate)\n",
    "trace = jitted(key, (initial_state, None))\n",
    "cm_kv(trace.get_choices())"
   ]
  },
  {
   "cell_type": "markdown",
   "metadata": {},
   "source": [
    "To get partial results instead, we can use masking as follows:"
   ]
  },
  {
   "cell_type": "markdown",
   "metadata": {},
   "source": []
  }
 ],
 "metadata": {
  "kernelspec": {
   "display_name": ".venv",
   "language": "python",
   "name": "python3"
  },
  "language_info": {
   "codemirror_mode": {
    "name": "ipython",
    "version": 3
   },
   "file_extension": ".py",
   "mimetype": "text/x-python",
   "name": "python",
   "nbconvert_exporter": "python",
   "pygments_lexer": "ipython3",
   "version": "3.11.6"
  }
 },
 "nbformat": 4,
 "nbformat_minor": 2
}
