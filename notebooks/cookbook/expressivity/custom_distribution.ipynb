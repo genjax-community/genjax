{
 "cells": [
  {
   "cell_type": "raw",
   "metadata": {
    "vscode": {
     "languageId": "raw"
    }
   },
   "source": [
    "---\n",
    "title: Custom distributions\n",
    "subtitle: How do I create a custom distribution in GenJAX?\n",
    "---"
   ]
  },
  {
   "cell_type": "code",
   "execution_count": null,
   "metadata": {},
   "outputs": [],
   "source": [
    "import jax\n",
    "import jax.numpy as jnp\n",
    "from genjax import ChoiceMapBuilder as C\n",
    "from genjax import Pytree, Weight, gen, pretty\n",
    "from genjax._src.generative_functions.distributions.distribution import Distribution\n",
    "from genjax.typing import PRNGKey\n",
    "from jax import jit\n",
    "from tensorflow_probability.substrates import jax as tfp\n",
    "\n",
    "tfd = tfp.distributions\n",
    "key = jax.random.PRNGKey(0)\n",
    "pretty()"
   ]
  },
  {
   "cell_type": "markdown",
   "metadata": {},
   "source": [
    "We can create a distribution as a class. Here we'll create a simple mixture of Gaussians."
   ]
  },
  {
   "cell_type": "code",
   "execution_count": null,
   "metadata": {},
   "outputs": [],
   "source": [
    "@Pytree.dataclass\n",
    "class GaussianMixture(Distribution):\n",
    "    # It can have static args\n",
    "    bias: float = Pytree.static(default=0.0)\n",
    "\n",
    "    # For distributions that can compute their densities exactly, `random_weighted` should return a sample x and the reciprocal density 1/p(x).\n",
    "    def random_weighted(self, key: PRNGKey, probs, means, vars) -> tuple[any, Weight]:\n",
    "        # making sure that the inputs are jnp arrays for jax compatibility\n",
    "        probs = jnp.asarray(probs)\n",
    "        means = jnp.asarray(means)\n",
    "        vars = jnp.asarray(vars)\n",
    "\n",
    "        # sampling from the categorical distribution and then sampling from the normal distribution\n",
    "        cat = tfd.Categorical(probs=probs)\n",
    "        cat_index = jnp.asarray(cat.sample(seed=key))\n",
    "        normal = tfd.Normal(\n",
    "            loc=means[cat_index] + jnp.asarray(self.bias), scale=vars[cat_index]\n",
    "        )\n",
    "        key, subkey = jax.random.split(key)\n",
    "        normal_sample = normal.sample(seed=subkey)\n",
    "\n",
    "        # calculating the reciprocal density\n",
    "        zipped = jnp.stack([probs, means, vars], axis=1)\n",
    "        weight_recip = -jnp.log(\n",
    "            sum(\n",
    "                jax.vmap(\n",
    "                    lambda z: tfd.Normal(\n",
    "                        loc=z[1] + jnp.asarray(self.bias), scale=z[2]\n",
    "                    ).prob(normal_sample)\n",
    "                    * tfd.Categorical(probs=probs).prob(z[0])\n",
    "                )(zipped)\n",
    "            )\n",
    "        )\n",
    "\n",
    "        return normal_sample, weight_recip\n",
    "\n",
    "    # For distributions that can compute their densities exactly, `estimate_logpdf` should return the log density at x.\n",
    "    def estimate_logpdf(self, key: jax.random.PRNGKey, x, probs, means, vars) -> Weight:\n",
    "        zipped = jnp.stack([probs, means, vars], axis=1)\n",
    "        return jnp.log(\n",
    "            sum(\n",
    "                jax.vmap(\n",
    "                    lambda z: tfd.Normal(\n",
    "                        loc=z[1] + jnp.asarray(self.bias), scale=z[2]\n",
    "                    ).prob(x)\n",
    "                    * tfd.Categorical(probs=probs).prob(z[0])\n",
    "                )(zipped)\n",
    "            )\n",
    "        )"
   ]
  },
  {
   "cell_type": "markdown",
   "metadata": {},
   "source": [
    "Testing:"
   ]
  },
  {
   "cell_type": "code",
   "execution_count": null,
   "metadata": {},
   "outputs": [],
   "source": [
    "# Create a particular instance of the distribution\n",
    "gauss_mix = GaussianMixture(0.0)\n",
    "\n",
    "\n",
    "@gen\n",
    "def model(probs):\n",
    "    mix1 = gauss_mix(probs, jnp.array([0.0, 1.0]), jnp.array([1.0, 1.0])) @ \"mix1\"\n",
    "    mix2 = gauss_mix(probs, jnp.array([0.0, 1.0]), jnp.array([1.0, 1.0])) @ \"mix2\"\n",
    "    return mix1, mix2\n",
    "\n",
    "\n",
    "probs = jnp.array([0.5, 0.5])\n",
    "key, subkey = jax.random.split(key)\n",
    "model.simulate(subkey, (probs,))\n",
    "key, subkey = jax.random.split(key)\n",
    "jit(model.simulate)(subkey, (probs,))"
   ]
  },
  {
   "cell_type": "markdown",
   "metadata": {},
   "source": [
    "Testing importance sampling"
   ]
  },
  {
   "cell_type": "code",
   "execution_count": null,
   "metadata": {},
   "outputs": [],
   "source": [
    "key, subkey = jax.random.split(key)\n",
    "jit(model.importance)(subkey, C[\"mix1\"].set(3.0), (probs,))"
   ]
  }
 ],
 "metadata": {
  "kernelspec": {
   "display_name": "Python 3 (ipykernel)",
   "language": "python",
   "name": "python3"
  },
  "language_info": {
   "codemirror_mode": {
    "name": "ipython",
    "version": 3
   },
   "file_extension": ".py",
   "mimetype": "text/x-python",
   "name": "python",
   "nbconvert_exporter": "python",
   "pygments_lexer": "ipython3",
   "version": "3.11.4"
  }
 },
 "nbformat": 4,
 "nbformat_minor": 4
}
