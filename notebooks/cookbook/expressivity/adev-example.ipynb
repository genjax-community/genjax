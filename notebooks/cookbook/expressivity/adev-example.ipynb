{
 "cells": [
  {
   "cell_type": "code",
   "execution_count": null,
   "metadata": {},
   "outputs": [],
   "source": [
    "import jax\n",
    "import matplotlib.pyplot as plt\n",
    "from genjax._src.adev.core import Dual, expectation\n",
    "from genjax._src.adev.primitives import flip_enum\n",
    "\n",
    "key = jax.random.PRNGKey(314159)"
   ]
  },
  {
   "cell_type": "code",
   "execution_count": null,
   "metadata": {},
   "outputs": [],
   "source": [
    "def jax_model(key, theta):\n",
    "    b = jax.random.bernoulli(key, theta)\n",
    "    return jax.lax.cond(b, lambda _: 0.0, lambda _: -theta / 2, None)\n",
    "\n",
    "\n",
    "def expected_val(theta):\n",
    "    return (theta**2 - theta) / 2\n",
    "\n",
    "\n",
    "grad = jax.jit(jax.grad(jax_model, argnums=1))\n",
    "\n",
    "arg = 0.2\n",
    "epochs = 1000\n",
    "vals = []\n",
    "for _ in range(epochs):\n",
    "    key, subkey = jax.random.split(key)\n",
    "    grad_val = grad(subkey, arg)\n",
    "    arg = arg - 0.01 * grad_val\n",
    "    vals.append(expected_val(arg))\n",
    "\n",
    "\n",
    "plt.plot(vals)"
   ]
  },
  {
   "cell_type": "code",
   "execution_count": null,
   "metadata": {},
   "outputs": [],
   "source": [
    "@expectation\n",
    "def flip_exact_loss(theta):\n",
    "    b = flip_enum(theta)\n",
    "    return jax.lax.cond(\n",
    "        b,\n",
    "        lambda _: 0.0,\n",
    "        lambda _: -theta / 2.0,\n",
    "        theta,\n",
    "    )\n",
    "\n",
    "\n",
    "v, p_tangent = jax.jit(flip_exact_loss.jvp_estimate)(key, Dual(0.7, 1.0))"
   ]
  }
 ],
 "metadata": {
  "kernelspec": {
   "display_name": ".venv",
   "language": "python",
   "name": "python3"
  },
  "language_info": {
   "codemirror_mode": {
    "name": "ipython",
    "version": 3
   },
   "file_extension": ".py",
   "mimetype": "text/x-python",
   "name": "python",
   "nbconvert_exporter": "python",
   "pygments_lexer": "ipython3",
   "version": "3.11.6"
  }
 },
 "nbformat": 4,
 "nbformat_minor": 2
}
