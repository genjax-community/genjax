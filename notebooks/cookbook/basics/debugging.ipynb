{
 "cells": [
  {
   "cell_type": "markdown",
   "metadata": {},
   "source": [
    "How can I debug my code? I want to add break points or print statements in my Jax/GenJax code but it doesn't seem to work because of traced values and/or jit compilation. \n"
   ]
  },
  {
   "cell_type": "code",
   "execution_count": null,
   "metadata": {},
   "outputs": [],
   "source": [
    "import jax\n",
    "from genjax import bernoulli, beta, gen\n",
    "\n",
    "key = jax.random.PRNGKey(0)"
   ]
  },
  {
   "cell_type": "markdown",
   "metadata": {},
   "source": [
    "TLDR: inside of generative functions, use `jax.debug.print`\n",
    "and `jax.debug.breakpoint()` instead of `print()` statements.\n",
    "We also recommend looking at the official JAX debug doc which applies to GenJAX as well:\n",
    "https://jax.readthedocs.io/en/latest/debugging/print_breakpoint.html"
   ]
  },
  {
   "cell_type": "markdown",
   "metadata": {},
   "source": [
    "Example of printing"
   ]
  },
  {
   "cell_type": "code",
   "execution_count": null,
   "metadata": {},
   "outputs": [],
   "source": [
    "@gen\n",
    "def beta_bernoulli_process(u):\n",
    "    p = beta(0.0, u) @ \"p\"\n",
    "    v = bernoulli(p) @ \"v\"\n",
    "    print(\"Bad looking printing:\", v)  # will print a traced Value, not what you want\n",
    "    jax.debug.print(\"Better looking printing: {v}\", v=v)\n",
    "    return v\n",
    "\n",
    "\n",
    "non_jitted = beta_bernoulli_process.simulate\n",
    "tr = non_jitted(key, (1.0,))\n",
    "jitted = jax.jit(beta_bernoulli_process.simulate)\n",
    "tr = jitted(key, (1.0,))"
   ]
  },
  {
   "cell_type": "markdown",
   "metadata": {},
   "source": [
    "Inside generative functions, `jax.debug.print` is available and compatible with all the JAX transformations and higher-order functions like `jax.jit`, `jax.grad`, `jax.vmap`, `jax.lax.scan`, etc."
   ]
  },
  {
   "cell_type": "markdown",
   "metadata": {},
   "source": [
    "Running the cell below will open a pdb-like interface in the terminal where you can inspect the values of the variables in the scope of the breakpoint.\n",
    "You can continue the execution of the program by typing c and pressing Enter. You can also inspect the values of the variables in the scope of the breakpoint by typing the name of the variable and pressing Enter. You can exit the breakpoint by typing q and pressing Enter. You can see the commands available in the breakpoint by typing h and pressing Enter.\n",
    "It also works with jitted functions, but may affect performance.\n",
    "It is compatible with all the JAX transformations and higher-order functions too but you can expect some sharp edges."
   ]
  },
  {
   "cell_type": "code",
   "execution_count": null,
   "metadata": {},
   "outputs": [],
   "source": [
    "# Example of breakpoint\n",
    "@gen\n",
    "def beta_bernoulli_process(u):\n",
    "    p = beta(0.0, u) @ \"p\"\n",
    "    v = bernoulli(p) @ \"v\"\n",
    "    jax.debug.breakpoint()\n",
    "    return v\n",
    "\n",
    "\n",
    "non_jitted = beta_bernoulli_process.simulate\n",
    "tr = non_jitted(key, (1.0,))"
   ]
  }
 ],
 "metadata": {
  "kernelspec": {
   "display_name": ".venv",
   "language": "python",
   "name": "python3"
  },
  "language_info": {
   "codemirror_mode": {
    "name": "ipython",
    "version": 3
   },
   "file_extension": ".py",
   "mimetype": "text/x-python",
   "name": "python",
   "nbconvert_exporter": "python",
   "pygments_lexer": "ipython3",
   "version": "3.11.6"
  }
 },
 "nbformat": 4,
 "nbformat_minor": 2
}
