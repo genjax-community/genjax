{
 "cells": [
  {
   "cell_type": "markdown",
   "metadata": {},
   "source": [
    "I want to save my traces for later reuse. What do I do?"
   ]
  },
  {
   "cell_type": "code",
   "execution_count": null,
   "metadata": {},
   "outputs": [],
   "source": [
    "import genjax\n",
    "import jax\n",
    "import jax.numpy as jnp\n",
    "from genjax import gen, pretty\n",
    "from genjax._src.core.serialization.msgpack import msgpack_serialize\n",
    "\n",
    "pretty()"
   ]
  },
  {
   "cell_type": "markdown",
   "metadata": {},
   "source": [
    "Genjax supports serializing traces into a byte format. To support different disk formats, GenJax offers different backends. Here we use `msgpack_serialize` which writes traces using the `MsgPack` protocol."
   ]
  },
  {
   "cell_type": "code",
   "execution_count": null,
   "metadata": {},
   "outputs": [],
   "source": [
    "@gen\n",
    "def model(mu, coins):\n",
    "    x = genjax.normal(mu, 1.0) @ \"x\"\n",
    "    y = genjax.flip(jnp.sum(coins) / coins) @ \"y\"\n",
    "    return x + y\n",
    "\n",
    "\n",
    "key = jax.random.PRNGKey(314159)\n",
    "args = (-2.1, jnp.array([1, 1, 0]))\n",
    "tr = model.simulate(key, args)\n",
    "tr.get_sample()"
   ]
  },
  {
   "cell_type": "markdown",
   "metadata": {},
   "source": [
    "We can now convert `tr` into a byte representation using `serialize`. Note that GenJax provides `pickle`-like functions (e.g. `dumps`) that can alternatively be called instead."
   ]
  },
  {
   "cell_type": "code",
   "execution_count": null,
   "metadata": {},
   "outputs": [],
   "source": [
    "serialized_tr = msgpack_serialize.serialize(tr)  # or msgpack_serialize.dumps(tr"
   ]
  },
  {
   "cell_type": "markdown",
   "metadata": {},
   "source": [
    "Deserialization is slightly different then one might be used to. In addition to passing in the bytes, the generative function is specified as well as its argument."
   ]
  },
  {
   "cell_type": "code",
   "execution_count": null,
   "metadata": {},
   "outputs": [],
   "source": [
    "retrieved_tr = msgpack_serialize.deserialize(serialized_tr, model, args)\n",
    "retrieved_tr"
   ]
  },
  {
   "cell_type": "markdown",
   "metadata": {},
   "source": [
    "Note that serialized trace can be written to disk with the `MsgPack` backend. This means that even if the Python runtime terminates, the written trace can still be deserialized so long as the generative function induces the same trace structure. Observe that a fresh copy of `model` works just as well to deserialize the trace."
   ]
  },
  {
   "cell_type": "code",
   "execution_count": null,
   "metadata": {},
   "outputs": [],
   "source": [
    "@gen\n",
    "def second_model_with_similar_trace_structure(mu, coins):\n",
    "    x = genjax.inverse_gamma(mu, 2.0) @ \"x\"\n",
    "    y = genjax.flip(jnp.sum(coins) / coins) @ \"y\"\n",
    "    return x + y\n",
    "\n",
    "\n",
    "retrieved_tr = msgpack_serialize.deserialize(\n",
    "    serialized_tr, second_model_with_similar_trace_structure, args\n",
    ")\n",
    "retrieved_tr"
   ]
  }
 ],
 "metadata": {
  "kernelspec": {
   "display_name": ".venv",
   "language": "python",
   "name": "python3"
  },
  "language_info": {
   "codemirror_mode": {
    "name": "ipython",
    "version": 3
   },
   "file_extension": ".py",
   "mimetype": "text/x-python",
   "name": "python",
   "nbconvert_exporter": "python",
   "pygments_lexer": "ipython3",
   "version": "3.11.4"
  }
 },
 "nbformat": 4,
 "nbformat_minor": 2
}
