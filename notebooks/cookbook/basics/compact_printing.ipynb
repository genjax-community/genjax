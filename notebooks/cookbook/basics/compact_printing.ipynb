{
 "cells": [
  {
   "cell_type": "raw",
   "metadata": {
    "vscode": {
     "languageId": "raw"
    }
   },
   "source": [
    "---\n",
    "title: Compact trace printing\n",
    "subtitle: Quickly visualizing values in a trace.\n",
    "---"
   ]
  },
  {
   "cell_type": "code",
   "execution_count": null,
   "metadata": {},
   "outputs": [],
   "source": [
    "import genjax\n",
    "import jax\n",
    "import jax.numpy as jnp\n",
    "from genjax import ChoiceMapBuilder as C\n",
    "from genjax import Mask, gen, normal\n",
    "from genjax import SelectionBuilder as S\n",
    "\n",
    "key = jax.random.PRNGKey(0)"
   ]
  },
  {
   "cell_type": "code",
   "execution_count": null,
   "metadata": {},
   "outputs": [],
   "source": [
    "class HiddenIndex:\n",
    "    def __repr__(self):\n",
    "        return \"#\"\n",
    "\n",
    "\n",
    "class Addr:\n",
    "    def __init__(self, addr, show_indices):\n",
    "        if not show_indices:\n",
    "            new_addr = []\n",
    "            for a in addr:\n",
    "                if isinstance(a, str):\n",
    "                    new_addr.append(a)\n",
    "                else:\n",
    "                    new_addr.append(HiddenIndex())\n",
    "            addr = new_addr\n",
    "        self.addr = addr\n",
    "\n",
    "    def __repr__(self):\n",
    "        return f\"<{self.addr}>\"\n",
    "\n",
    "    def __lt__(self, other):\n",
    "        return self.addr < other.addr\n",
    "\n",
    "\n",
    "def pytreefy(t, show_indices=False):\n",
    "    def cm_kv_inner(t, addr_path=None, flag=None):\n",
    "        if addr_path is None:\n",
    "            addr_path = []\n",
    "        else:\n",
    "            addr_path = addr_path.copy()\n",
    "        match type(t):\n",
    "            case genjax._src.core.generative.choice_map.XorChm:\n",
    "                ret1 = cm_kv_inner(t.c1, addr_path, flag)\n",
    "                ret2 = cm_kv_inner(t.c2, addr_path, flag)\n",
    "                # Check for empty intersection\n",
    "                set1 = set(key.__repr__() for key in ret1.keys())\n",
    "                set2 = set(key.__repr__() for key in ret2.keys())\n",
    "                in_common = set1.intersection(set2)\n",
    "                if not in_common:\n",
    "                    ret1.update(ret2)\n",
    "                    return ret1\n",
    "                else:\n",
    "                    raise ValueError(\"Common keys found in XorChm\")\n",
    "            case genjax._src.core.generative.choice_map.OrChm:\n",
    "                ret1 = cm_kv_inner(t.c1, addr_path, flag)\n",
    "                ret2 = cm_kv_inner(t.c2, addr_path, flag)\n",
    "                ret1.update(ret2)\n",
    "                return ret1\n",
    "            case genjax._src.core.generative.choice_map.StaticChm:\n",
    "                addr_path.append(t.addr)\n",
    "                return cm_kv_inner(t.c, addr_path, flag)\n",
    "            case genjax._src.core.generative.choice_map.IdxChm:\n",
    "                addr_path.append(t.addr)\n",
    "                return cm_kv_inner(t.c, addr_path, flag)\n",
    "            case genjax._src.core.generative.choice_map.ValueChm:\n",
    "                if isinstance(t.v, genjax._src.core.generative.choice_map.FilteredChm):\n",
    "                    return cm_kv_inner(t.v, addr_path, flag)\n",
    "                # TODO: a better version would replace the masked values with a special symbol indicating masked values\n",
    "                if flag is None:\n",
    "                    return {Addr(addr_path, show_indices): t.v}\n",
    "                else:\n",
    "                    return {Addr(addr_path, show_indices): (t.v.T * flag.T).T}\n",
    "            case genjax._src.core.generative.choice_map.MaskChm:\n",
    "                if flag is None:\n",
    "                    flag = t.flag\n",
    "                else:\n",
    "                    # broadcasting with leading axis on the left\n",
    "                    flag = (flag.T * t.flag.T).T\n",
    "                return cm_kv_inner(t.c, addr_path, flag)\n",
    "            case genjax._src.core.generative.choice_map.EmptyChm:\n",
    "                return {}\n",
    "            case genjax._src.core.generative.choice_map.FilteredChm:\n",
    "                ret = cm_kv_inner(t.c, addr_path)\n",
    "                # TODO: this should grap the list of addresses not just the top one. this creates a bug in test 6.1\n",
    "                sel = t.selection.addr\n",
    "                keys = ret.keys()\n",
    "                kept_keys = [\n",
    "                    k for k in keys if all(x == y for x, y in zip(k.addr, sel))\n",
    "                ]\n",
    "                return {key: ret[key] for key in kept_keys}\n",
    "            case _:\n",
    "                raise NotImplementedError(str(type(t)))\n",
    "\n",
    "    return cm_kv_inner(t)\n",
    "\n",
    "\n",
    "def test_for_masking_logic():\n",
    "    # masks to test\n",
    "    flag1 = jnp.array([True, False, True])\n",
    "    flag2 = jnp.array([\n",
    "        [\n",
    "            True,\n",
    "            False,\n",
    "            False,\n",
    "        ],\n",
    "        [True, False, True],\n",
    "        [True, True, True],\n",
    "    ])\n",
    "    flag = (flag2.T * flag1.T).T  # correct way to broadcast the mask\n",
    "    # 2D matrix\n",
    "    test_matrix_2d = jnp.array([[1, 2, 3], [4, 5, 6], [7, 8, 9]])\n",
    "    test_matrix_2d[flag1, :]  # returns the first and third row\n",
    "    test_matrix_2d[flag2]  # returns the non-zero elements\n",
    "    test_matrix_2d[flag]  # returns the non-zero elements\n",
    "\n",
    "    # 3D matrix\n",
    "    test_matrix_3d = jnp.array([\n",
    "        [[1, 2, 3], [4, 5, 6], [7, 8, 9]],\n",
    "        [[10, 11, 12], [13, 14, 15], [16, 17, 18]],\n",
    "        [[19, 20, 21], [22, 23, 24], [25, 26, 27]],\n",
    "    ])\n",
    "    return (test_matrix_3d.T * flag.T).T, test_matrix_3d[\n",
    "        flag\n",
    "    ]  # both return the same non-zero elements, but the first one is a 3D matrix"
   ]
  },
  {
   "cell_type": "markdown",
   "metadata": {},
   "source": [
    "Test 1: print a trace from a simple model with several traced variables."
   ]
  },
  {
   "cell_type": "code",
   "execution_count": null,
   "metadata": {},
   "outputs": [],
   "source": [
    "@gen\n",
    "def model():\n",
    "    x = normal(0.0, 1.0) @ \"x\"\n",
    "    y = normal(0.0, 1.0) @ \"y\"\n",
    "    z = normal(0.0, 1.0) @ \"z\"\n",
    "    return x, y, z\n",
    "\n",
    "\n",
    "pytreefy(model.simulate(key, ()).get_choices())"
   ]
  },
  {
   "cell_type": "markdown",
   "metadata": {},
   "source": [
    "Test 2: print a trace from a hierarchical model"
   ]
  },
  {
   "cell_type": "code",
   "execution_count": null,
   "metadata": {},
   "outputs": [],
   "source": [
    "@gen\n",
    "def outer_model():\n",
    "    x = model() @ \"inner\"\n",
    "    w = normal(0.0, 1.0) @ \"w\"\n",
    "    return x, w\n",
    "\n",
    "\n",
    "pytreefy(outer_model.simulate(key, ()).get_choices())"
   ]
  },
  {
   "cell_type": "markdown",
   "metadata": {},
   "source": [
    "Test 3: print a trace from models built with combinators that iterate computations"
   ]
  },
  {
   "cell_type": "code",
   "execution_count": null,
   "metadata": {},
   "outputs": [],
   "source": [
    "# repeat combinator\n",
    "pytreefy(model.repeat(n=10).simulate(key, ()).get_choices())"
   ]
  },
  {
   "cell_type": "code",
   "execution_count": null,
   "metadata": {},
   "outputs": [],
   "source": [
    "# vmap combinator\n",
    "\n",
    "\n",
    "@gen\n",
    "def model(v):\n",
    "    x = normal(v, 1.0) @ \"x\"\n",
    "    return x\n",
    "\n",
    "\n",
    "vs = (1.0 * jnp.arange(10),)\n",
    "pytreefy(model.vmap(in_axes=(0,)).simulate(key, vs).get_choices())"
   ]
  },
  {
   "cell_type": "code",
   "execution_count": null,
   "metadata": {},
   "outputs": [],
   "source": [
    "# iterate combinator\n",
    "pytreefy(model.iterate(n=10).simulate(key, (1.0,)).get_choices())"
   ]
  },
  {
   "cell_type": "code",
   "execution_count": null,
   "metadata": {},
   "outputs": [],
   "source": [
    "# iterate final combinator\n",
    "pytreefy(model.iterate_final(n=10).simulate(key, (1.0,)).get_choices())"
   ]
  },
  {
   "cell_type": "markdown",
   "metadata": {},
   "source": [
    "Test 4: print a masked trace"
   ]
  },
  {
   "cell_type": "code",
   "execution_count": null,
   "metadata": {},
   "outputs": [],
   "source": [
    "# TODO: this should be part of the standard library, hopefully soon.\n",
    "def masked_scan_combinator(step, **scan_kwargs):\n",
    "    mstep = step.mask().dimap(\n",
    "        pre=lambda masked_state, masked_inval: (\n",
    "            jnp.logical_and(masked_state.flag, masked_inval.flag),\n",
    "            masked_state.value,\n",
    "            masked_inval.value,\n",
    "        ),\n",
    "        post=lambda _, masked_retval: (\n",
    "            Mask(masked_retval.flag, masked_retval.value[0]),\n",
    "            Mask(masked_retval.flag, masked_retval.value[1]),\n",
    "        ),\n",
    "    )\n",
    "\n",
    "    scanned = mstep.scan(**scan_kwargs)\n",
    "\n",
    "    scanned_nice = scanned.dimap(\n",
    "        pre=lambda initial_state, masked_input_values: (\n",
    "            Mask(True, initial_state),\n",
    "            Mask(masked_input_values.flag, masked_input_values.value),\n",
    "        ),\n",
    "        post=lambda _, retval: retval,\n",
    "    )\n",
    "\n",
    "    return scanned_nice\n",
    "\n",
    "\n",
    "state_size = 3\n",
    "variance = jnp.eye(state_size)\n",
    "initial_state = jax.random.normal(jax.random.PRNGKey(0), (state_size,))\n",
    "\n",
    "length = 10\n",
    "stop_at_index = 5\n",
    "mask = Mask(jnp.arange(length) < stop_at_index, None)\n",
    "\n",
    "\n",
    "@genjax.gen\n",
    "def hmm_step(x, _):\n",
    "    new_x = genjax.mv_normal(x, variance) @ \"new_x\"\n",
    "    return new_x, None\n",
    "\n",
    "\n",
    "masked_hmm = masked_scan_combinator(hmm_step, n=length)\n",
    "\n",
    "choices = masked_hmm.simulate(key, (initial_state, mask)).get_choices()\n",
    "\n",
    "pytreefy(choices)"
   ]
  },
  {
   "cell_type": "markdown",
   "metadata": {},
   "source": [
    "Test 5: print a nested masked trace"
   ]
  },
  {
   "cell_type": "code",
   "execution_count": null,
   "metadata": {},
   "outputs": [],
   "source": [
    "@genjax.gen\n",
    "def outer_step(x, _):\n",
    "    _ = masked_hmm(initial_state, mask) @ \"hmm_x\"\n",
    "    return x, None\n",
    "\n",
    "\n",
    "masked_masked_hmm = masked_scan_combinator(outer_step, n=length)\n",
    "outer_stop_at_index = 6\n",
    "outer_mask = Mask(jnp.arange(length) > outer_stop_at_index, None)\n",
    "\n",
    "\n",
    "outer_trace_init = masked_hmm.simulate(key, (initial_state, mask))\n",
    "flag = outer_trace_init.get_choices().get_submap(...).flag\n",
    "unmasked_val = outer_trace_init.get_choices().get_submap(...).c(\"new_x\").v\n",
    "outer_init = unmasked_val[flag, :]\n",
    "choices = masked_masked_hmm.simulate(key, (outer_init, mask)).get_choices()\n",
    "pytreefy(choices)"
   ]
  },
  {
   "cell_type": "markdown",
   "metadata": {},
   "source": [
    "Test 6: print a filtered choicemap (obtained after using explicit marginalization)"
   ]
  },
  {
   "cell_type": "code",
   "execution_count": null,
   "metadata": {},
   "outputs": [],
   "source": [
    "@gen\n",
    "def model(v):\n",
    "    x = normal(v, 1.0) @ \"x\"\n",
    "    y = normal(x, 1.0) @ \"y\"\n",
    "    return x, y\n",
    "\n",
    "\n",
    "pytreefy(model.marginal(selection=S[\"x\", \"y\"]).simulate(key, (1.0,)).get_choices())"
   ]
  },
  {
   "cell_type": "code",
   "execution_count": null,
   "metadata": {},
   "outputs": [],
   "source": [
    "a = model.marginal(selection=S[\"y\"]).simulate(key, (1.0,)).get_choices()\n",
    "pytreefy(a)"
   ]
  },
  {
   "cell_type": "markdown",
   "metadata": {},
   "source": [
    "Test 7: print an empty choice map. "
   ]
  },
  {
   "cell_type": "code",
   "execution_count": null,
   "metadata": {},
   "outputs": [],
   "source": [
    "chm = C.n()\n",
    "pytreefy(chm)"
   ]
  },
  {
   "cell_type": "markdown",
   "metadata": {},
   "source": [
    "Test 8: print an or choice map"
   ]
  },
  {
   "cell_type": "code",
   "execution_count": null,
   "metadata": {},
   "outputs": [],
   "source": [
    "chm = C[\"x\"].set(3.0).at[\"y\"].set(2.0)\n",
    "pytreefy(chm)"
   ]
  },
  {
   "cell_type": "markdown",
   "metadata": {},
   "source": [
    "Test 9: print an or choice map with repeated entries"
   ]
  },
  {
   "cell_type": "code",
   "execution_count": null,
   "metadata": {},
   "outputs": [],
   "source": [
    "chm = C[\"x\"].set(3.0).at[\"x\"].set(2.0)\n",
    "# because the keys are classes, the two keys are considered different\n",
    "pytreefy(chm)"
   ]
  },
  {
   "cell_type": "markdown",
   "metadata": {},
   "source": [
    "Test 10: print a xor choice map"
   ]
  },
  {
   "cell_type": "code",
   "execution_count": null,
   "metadata": {},
   "outputs": [],
   "source": [
    "chm = C[\"x\"].set(3.0) ^ C[\"y\"].set(2.0)\n",
    "pytreefy(chm)"
   ]
  },
  {
   "cell_type": "markdown",
   "metadata": {},
   "source": [
    "Test 11: print a Xor choicemap with repeat entries."
   ]
  },
  {
   "cell_type": "code",
   "execution_count": null,
   "metadata": {},
   "outputs": [],
   "source": [
    "chm = C[\"x\"].set(3.0) ^ C[\"x\"].set(2.0)\n",
    "try:\n",
    "    pytreefy(chm)\n",
    "except ValueError as e:\n",
    "    print(e)"
   ]
  },
  {
   "cell_type": "markdown",
   "metadata": {},
   "source": [
    "Other usages include being able to easily see what the shapes and dtype are (or many other manipulations)."
   ]
  },
  {
   "cell_type": "code",
   "execution_count": null,
   "metadata": {},
   "outputs": [],
   "source": [
    "print(jax.tree.map(jnp.shape, pytreefy(choices)))\n",
    "print(jax.tree.map(jnp.dtype, pytreefy(choices)))"
   ]
  }
 ],
 "metadata": {
  "kernelspec": {
   "display_name": ".venv",
   "language": "python",
   "name": "python3"
  },
  "language_info": {
   "codemirror_mode": {
    "name": "ipython",
    "version": 3
   },
   "file_extension": ".py",
   "mimetype": "text/x-python",
   "name": "python",
   "nbconvert_exporter": "python",
   "pygments_lexer": "ipython3",
   "version": "3.11.6"
  }
 },
 "nbformat": 4,
 "nbformat_minor": 2
}
