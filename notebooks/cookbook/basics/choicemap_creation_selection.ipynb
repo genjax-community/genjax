{
 "cells": [
  {
   "cell_type": "raw",
   "metadata": {
    "vscode": {
     "languageId": "raw"
    }
   },
   "source": [
    "---\n",
    "title: Choicemaps\n",
    "subtitle: What's a trace, a choicemap, and how do I select from it? \n",
    "---"
   ]
  },
  {
   "cell_type": "code",
   "execution_count": null,
   "metadata": {},
   "outputs": [],
   "source": [
    "import jax.numpy as jnp\n",
    "import jax.random as random\n",
    "from genjax import ChoiceMapBuilder as C\n",
    "from genjax import bernoulli, gen, mix, normal, or_else, pretty, repeat, scan, vmap\n",
    "from jax import jit\n",
    "\n",
    "pretty()\n",
    "key = random.PRNGKey(0)\n",
    "# TODO: more basic examples, choicemap creation, and high level explanations"
   ]
  },
  {
   "cell_type": "markdown",
   "metadata": {},
   "source": [
    "Example of Choice map creation."
   ]
  },
  {
   "cell_type": "code",
   "execution_count": null,
   "metadata": {},
   "outputs": [],
   "source": [
    "# Create a choice map with a single choice 0.5 at the address \"p\"\n",
    "chm = C[\"p\"].set(0.5)\n",
    "# Create a choice map at several addresses\n",
    "chm = C[\"p\"].set(0.5) ^ C[\"v\"].set(1)\n",
    "# Alternatively\n",
    "chm2 = C[\"p\"].set(0.5).at[\"v\"].set(1)\n",
    "# One can iteratively add choices to a choice map\n",
    "chm2 = chm2 ^ C[\"p2\"].set(0.6)\n",
    "for i in range(10):\n",
    "    chm2 = chm2 ^ C[\"p\" + str(i)].set(i)"
   ]
  },
  {
   "cell_type": "markdown",
   "metadata": {},
   "source": [
    "Accessing the right elements in the trace can become non-trivial when one creates hierarchical generative functions. \n",
    "Here are minimal examples and solutions for selection."
   ]
  },
  {
   "cell_type": "code",
   "execution_count": null,
   "metadata": {},
   "outputs": [],
   "source": [
    "# For `or_else` combinator\n",
    "@gen\n",
    "def model(p):\n",
    "    branch_1 = gen(lambda p: bernoulli(p) @ \"v1\")\n",
    "    branch_2 = gen(lambda p: bernoulli(-p) @ \"v2\")\n",
    "    v = or_else(branch_1, branch_2)(p > 0, (p,), (p,)) @ \"s\"\n",
    "    return v\n",
    "\n",
    "\n",
    "trace = jit(model.simulate)(key, (0.5,))\n",
    "trace.get_sample()[(\"s\", \"v2\")]"
   ]
  },
  {
   "cell_type": "code",
   "execution_count": null,
   "metadata": {},
   "outputs": [],
   "source": [
    "# For `vmap` combinator\n",
    "sample_image = vmap(in_axes=(0,))(\n",
    "    vmap(in_axes=(0,))(gen(lambda pixel: normal(pixel, 1.0) @ \"new_pixel\"))\n",
    ")\n",
    "\n",
    "image = jnp.zeros([2, 3], dtype=jnp.float32)\n",
    "trace = sample_image.simulate(key, (image,))\n",
    "trace.get_sample()[..., ..., \"new_pixel\"]"
   ]
  },
  {
   "cell_type": "code",
   "execution_count": null,
   "metadata": {},
   "outputs": [],
   "source": [
    "# For `scan_combinator`\n",
    "@scan(n=10)\n",
    "@gen\n",
    "def hmm(x, c):\n",
    "    z = normal(x, 1.0) @ \"z\"\n",
    "    y = normal(z, 1.0) @ \"y\"\n",
    "    return y, None\n",
    "\n",
    "\n",
    "trace = hmm.simulate(key, (0.0, None))\n",
    "trace.get_sample()[..., \"z\"], trace.get_sample()[3, \"y\"]"
   ]
  },
  {
   "cell_type": "code",
   "execution_count": null,
   "metadata": {},
   "outputs": [],
   "source": [
    "# For `repeat_combinator`\n",
    "@repeat(n=10)\n",
    "@gen\n",
    "def model(y):\n",
    "    x = normal(y, 0.01) @ \"x\"\n",
    "    y = normal(x, 0.01) @ \"y\"\n",
    "    return y\n",
    "\n",
    "\n",
    "trace = model.simulate(key, (0.3,))\n",
    "trace.get_sample()[..., \"x\"]"
   ]
  },
  {
   "cell_type": "code",
   "execution_count": null,
   "metadata": {},
   "outputs": [],
   "source": [
    "# For `mixture_combinator`\n",
    "@gen\n",
    "def mixture_model(p):\n",
    "    z = normal(p, 1.0) @ \"z\"\n",
    "    logits = (0.3, 0.5, 0.2)\n",
    "    arg_1 = (p,)\n",
    "    arg_2 = (p,)\n",
    "    arg_3 = (p,)\n",
    "    a = (\n",
    "        mix(\n",
    "            gen(lambda p: normal(p, 1.0) @ \"x1\"),\n",
    "            gen(lambda p: normal(p, 2.0) @ \"x2\"),\n",
    "            gen(lambda p: normal(p, 3.0) @ \"x3\"),\n",
    "        )(logits, arg_1, arg_2, arg_3)\n",
    "        @ \"a\"\n",
    "    )\n",
    "    return a + z\n",
    "\n",
    "\n",
    "trace = mixture_model.simulate(key, (0.4,))\n",
    "# The combinator uses a fixed address \"mixture_component\" for the components of the mixture model.\n",
    "trace.get_sample()[\"a\", \"mixture_component\"]"
   ]
  }
 ],
 "metadata": {
  "kernelspec": {
   "display_name": ".venv",
   "language": "python",
   "name": "python3"
  },
  "language_info": {
   "codemirror_mode": {
    "name": "ipython",
    "version": 3
   },
   "file_extension": ".py",
   "mimetype": "text/x-python",
   "name": "python",
   "nbconvert_exporter": "python",
   "pygments_lexer": "ipython3",
   "version": "3.11.6"
  }
 },
 "nbformat": 4,
 "nbformat_minor": 2
}
