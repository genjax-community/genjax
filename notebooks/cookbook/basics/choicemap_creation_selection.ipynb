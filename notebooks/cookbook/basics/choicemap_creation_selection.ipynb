{
 "cells": [
  {
   "cell_type": "raw",
   "metadata": {
    "vscode": {
     "languageId": "raw"
    }
   },
   "source": [
    "---\n",
    "title: Choice maps\n",
    "subtitle: What's a choice map, and how do I create one or select from it?\n",
    "---"
   ]
  },
  {
   "cell_type": "code",
   "execution_count": null,
   "metadata": {},
   "outputs": [],
   "source": [
    "import jax\n",
    "import jax.numpy as jnp\n",
    "import jax.random as random\n",
    "\n",
    "import genjax\n",
    "from genjax import ChoiceMapBuilder as C\n",
    "from genjax import (\n",
    "    bernoulli,\n",
    "    beta,\n",
    "    gen,\n",
    "    mix,\n",
    "    normal,\n",
    "    or_else,\n",
    "    pretty,\n",
    "    repeat,\n",
    "    scan,\n",
    "    vmap,\n",
    ")\n",
    "\n",
    "pretty()\n",
    "key = random.key(0)"
   ]
  },
  {
   "cell_type": "markdown",
   "metadata": {},
   "source": [
    "Choice maps are dictionary-like data structures that accumulate the random choices produced by generative functions which are `traced` by the system, i.e. that are indicated by `@ \"p\"`  in generative functions. \n",
    "\n",
    "They also serve as a set of constraints/observations when one tries to do inference: given the constraints, inference provides plausible value to complete a choice map to a full trace  of a generative model (one value per traced random sample)."
   ]
  },
  {
   "cell_type": "code",
   "execution_count": null,
   "metadata": {},
   "outputs": [],
   "source": [
    "@gen\n",
    "def beta_bernoulli_process(u):\n",
    "    p = beta(1.0, u) @ \"p\"\n",
    "    v = bernoulli(p) @ \"v\"\n",
    "    return 2 * v"
   ]
  },
  {
   "cell_type": "markdown",
   "metadata": {},
   "source": [
    "Simulating from a model produces a traces which contains a choice map."
   ]
  },
  {
   "cell_type": "code",
   "execution_count": null,
   "metadata": {},
   "outputs": [],
   "source": [
    "key, subkey = jax.random.split(key)\n",
    "trace = jax.jit(beta_bernoulli_process.simulate)(subkey, (0.5,))"
   ]
  },
  {
   "cell_type": "markdown",
   "metadata": {},
   "source": [
    "From that trace, we can recover the choicemap with either of the two equivalent methods:"
   ]
  },
  {
   "cell_type": "code",
   "execution_count": null,
   "metadata": {},
   "outputs": [],
   "source": [
    "trace.get_sample(), trace.get_choices()"
   ]
  },
  {
   "cell_type": "markdown",
   "metadata": {},
   "source": [
    "We can also print specific subparts of the choice map."
   ]
  },
  {
   "cell_type": "code",
   "execution_count": null,
   "metadata": {},
   "outputs": [],
   "source": [
    "trace.get_sample()[\"p\"]"
   ]
  },
  {
   "cell_type": "markdown",
   "metadata": {},
   "source": [
    "Then, we can create a choice map of observations and perform diverse operations on it.\n",
    "We can set the value of an address in the choice map.\n",
    "For instance, we can add two choicemaps together, which behaves similarly to the union of two dictionaries."
   ]
  },
  {
   "cell_type": "code",
   "execution_count": null,
   "metadata": {},
   "outputs": [],
   "source": [
    "chm = C[\"p\"].set(0.5) | C[\"v\"].set(1)\n",
    "chm"
   ]
  },
  {
   "cell_type": "markdown",
   "metadata": {},
   "source": [
    "A couple of extra ways to achieve the same result."
   ]
  },
  {
   "cell_type": "code",
   "execution_count": null,
   "metadata": {},
   "outputs": [],
   "source": [
    "chm_equiv_1 = (\n",
    "    C[\"p\"].set(0.5).at[\"v\"].set(1)\n",
    ")  # the at/set notation mimics JAX's array update pattern\n",
    "chm_equiv_2 = C.d({\"p\": 0.5, \"v\": 1})  # creates a dictionary directly\n",
    "assert chm == chm_equiv_1 == chm_equiv_2"
   ]
  },
  {
   "cell_type": "markdown",
   "metadata": {},
   "source": [
    "Yet another convenient function is that one can use `^` as a replacement for `|`. This will check that the two sub choice maps are disjoint."
   ]
  },
  {
   "cell_type": "code",
   "execution_count": null,
   "metadata": {},
   "outputs": [],
   "source": [
    "try:\n",
    "    bad_chm = C[\"v\"].set(0.5) ^ C[\"v\"].set(1)\n",
    "except Exception as e:\n",
    "    print(e)"
   ]
  },
  {
   "cell_type": "markdown",
   "metadata": {},
   "source": [
    "This also works for hierarchical addresses"
   ]
  },
  {
   "cell_type": "code",
   "execution_count": null,
   "metadata": {},
   "outputs": [],
   "source": [
    "chm = C[\"p\", \"v\"].set(1)\n",
    "# equivalent to\n",
    "eq_chm = C.d({\"p\": C.d({\"v\": 1})})\n",
    "assert chm == eq_chm\n",
    "chm"
   ]
  },
  {
   "cell_type": "markdown",
   "metadata": {},
   "source": [
    "We can also directly set a value in the choice_map"
   ]
  },
  {
   "cell_type": "code",
   "execution_count": null,
   "metadata": {},
   "outputs": [],
   "source": [
    "chm = C.v(5.0)\n",
    "chm"
   ]
  },
  {
   "cell_type": "markdown",
   "metadata": {},
   "source": [
    "We can also create an empty choice_map"
   ]
  },
  {
   "cell_type": "code",
   "execution_count": null,
   "metadata": {},
   "outputs": [],
   "source": [
    "chm = C.n()\n",
    "chm"
   ]
  },
  {
   "cell_type": "markdown",
   "metadata": {},
   "source": [
    "Other examples of Choice map creation include iteratively adding choices to a choice map."
   ]
  },
  {
   "cell_type": "code",
   "execution_count": null,
   "metadata": {},
   "outputs": [],
   "source": [
    "chm = C.n()\n",
    "for i in range(10):\n",
    "    chm = chm ^ C[\"p\" + str(i)].set(i)"
   ]
  },
  {
   "cell_type": "markdown",
   "metadata": {},
   "source": [
    "An equivalent, more JAX-friendly way to do this"
   ]
  },
  {
   "cell_type": "code",
   "execution_count": null,
   "metadata": {},
   "outputs": [],
   "source": [
    "chm = jax.vmap(lambda idx: C[idx].set(idx.astype(float)))(jnp.arange(10))"
   ]
  },
  {
   "cell_type": "markdown",
   "metadata": {},
   "source": [
    "And in fact, we can directly use the numpy notation to create a choice map."
   ]
  },
  {
   "cell_type": "code",
   "execution_count": null,
   "metadata": {},
   "outputs": [],
   "source": [
    "chm = C[:].set(jnp.arange(10.0))\n",
    "chm"
   ]
  },
  {
   "cell_type": "markdown",
   "metadata": {},
   "source": [
    "For a nested vmap combinator, the creation of a choice map can be a bit more tricky."
   ]
  },
  {
   "cell_type": "code",
   "execution_count": null,
   "metadata": {},
   "outputs": [],
   "source": [
    "sample_image = genjax.vmap(in_axes=(0,))(\n",
    "    genjax.vmap(in_axes=(0,))(gen(lambda pixel: normal(pixel, 1.0) @ \"new_pixel\"))\n",
    ")\n",
    "\n",
    "image = jnp.zeros([4, 4], dtype=jnp.float32)\n",
    "key, subkey = jax.random.split(key)\n",
    "trace = sample_image.simulate(subkey, (image,))\n",
    "trace.get_sample()"
   ]
  },
  {
   "cell_type": "markdown",
   "metadata": {},
   "source": [
    "Creating a few values for the choice map is simple."
   ]
  },
  {
   "cell_type": "code",
   "execution_count": null,
   "metadata": {},
   "outputs": [],
   "source": [
    "chm = C[1, 2, \"new_pixel\"].set(1.0) ^ C[0, 2, \"new_pixel\"].set(1.0)\n",
    "\n",
    "key, subkey = jax.random.split(key)\n",
    "tr, w = jax.jit(sample_image.importance)(subkey, chm, (image,))\n",
    "w"
   ]
  },
  {
   "cell_type": "markdown",
   "metadata": {},
   "source": [
    "But because of the nested `vmap`, the address hierarchy can sometimes lead to unintuitive results, e.g. as there is no bound check on the address. We seemingly adding a new constraint but we obtain the same weight as before, meaning that the new choice was not used for inference."
   ]
  },
  {
   "cell_type": "code",
   "execution_count": null,
   "metadata": {},
   "outputs": [],
   "source": [
    "chm = chm ^ C[1, 5, \"new_pixel\"].set(1.0)\n",
    "tr, w = jax.jit(sample_image.importance)(\n",
    "    subkey, chm, (image,)\n",
    ")  # reusing the key to make comparisons easier\n",
    "w"
   ]
  },
  {
   "cell_type": "markdown",
   "metadata": {},
   "source": [
    "A different way to create a choicemap that is compatible with the nested vmap in this case."
   ]
  },
  {
   "cell_type": "code",
   "execution_count": null,
   "metadata": {},
   "outputs": [],
   "source": [
    "chm = jax.vmap(\n",
    "    lambda i: C[i].set(jax.vmap(lambda j: C[j, \"new_pixel\"].set(1.0))(jnp.arange(4)))\n",
    ")(jnp.arange(4))\n",
    "key, subkey = jax.random.split(key)\n",
    "tr, w = jax.jit(sample_image.importance)(subkey, chm, (image,))\n",
    "w"
   ]
  },
  {
   "cell_type": "markdown",
   "metadata": {},
   "source": [
    "We can also construct an indexed choicemap with more than one variable in it."
   ]
  },
  {
   "cell_type": "code",
   "execution_count": null,
   "metadata": {},
   "outputs": [],
   "source": [
    "_phi, _q, _beta, _r = (0.9, 1.0, 0.5, 1.0)\n",
    "\n",
    "\n",
    "@genjax.gen\n",
    "def step(state):\n",
    "    x_prev, z_prev = state\n",
    "    x = genjax.normal(_phi * x_prev, _q) @ \"x\"\n",
    "    z = _beta * z_prev + x\n",
    "    _ = genjax.normal(z, _r) @ \"y\"\n",
    "    return (x, z)\n",
    "\n",
    "\n",
    "max_T = 20\n",
    "model = step.iterate_final(n=max_T)\n",
    "\n",
    "x_range = 1.0 * jnp.where(\n",
    "    (jnp.arange(20) >= 10) & (jnp.arange(20) < 15), jnp.arange(20) + 1, jnp.arange(20)\n",
    ")\n",
    "y_range = 1.0 * jnp.where(\n",
    "    (jnp.arange(20) >= 15) & (jnp.arange(20) < 20), jnp.arange(20) + 1, jnp.arange(20)\n",
    ")\n",
    "xy = C[\"x\"].set(x_range).at[\"y\"].set(y_range)\n",
    "chm4 = C[jnp.arange(20)].set(xy)\n",
    "chm4\n",
    "key, subkey = jax.random.split(key)\n",
    "model.importance(subkey, chm4, ((0.5, 0.5),))"
   ]
  },
  {
   "cell_type": "markdown",
   "metadata": {},
   "source": [
    "Accessing the right elements in the trace can become non-trivial when one creates hierarchical generative functions. \n",
    "Here are minimal examples and solutions for selection."
   ]
  },
  {
   "cell_type": "code",
   "execution_count": null,
   "metadata": {},
   "outputs": [],
   "source": [
    "# For `or_else` combinator\n",
    "@gen\n",
    "def model(p):\n",
    "    branch_1 = gen(lambda p: bernoulli(p) @ \"v1\")\n",
    "    branch_2 = gen(lambda p: bernoulli(-p) @ \"v2\")\n",
    "    v = or_else(branch_1, branch_2)(p > 0, (p,), (p,)) @ \"s\"\n",
    "    return v\n",
    "\n",
    "\n",
    "key, subkey = jax.random.split(key)\n",
    "trace = jax.jit(model.simulate)(subkey, (0.5,))\n",
    "trace.get_sample()[\"s\", \"v1\"]"
   ]
  },
  {
   "cell_type": "code",
   "execution_count": null,
   "metadata": {},
   "outputs": [],
   "source": [
    "# For `vmap` combinator\n",
    "sample_image = vmap(in_axes=(0,))(\n",
    "    vmap(in_axes=(0,))(gen(lambda pixel: normal(pixel, 1.0) @ \"new_pixel\"))\n",
    ")\n",
    "\n",
    "image = jnp.zeros([2, 3], dtype=jnp.float32)\n",
    "key, subkey = jax.random.split(key)\n",
    "trace = sample_image.simulate(subkey, (image,))\n",
    "trace.get_choices()[:, :, \"new_pixel\"]"
   ]
  },
  {
   "cell_type": "code",
   "execution_count": null,
   "metadata": {},
   "outputs": [],
   "source": [
    "# For `scan_combinator`\n",
    "@scan(n=10)\n",
    "@gen\n",
    "def hmm(x, c):\n",
    "    z = normal(x, 1.0) @ \"z\"\n",
    "    y = normal(z, 1.0) @ \"y\"\n",
    "    return y, None\n",
    "\n",
    "\n",
    "key, subkey = jax.random.split(key)\n",
    "trace = hmm.simulate(subkey, (0.0, None))\n",
    "trace.get_choices()[:, \"z\"], trace.get_choices()[3, \"y\"]"
   ]
  },
  {
   "cell_type": "code",
   "execution_count": null,
   "metadata": {},
   "outputs": [],
   "source": [
    "# For `repeat_combinator`\n",
    "@repeat(n=10)\n",
    "@gen\n",
    "def model(y):\n",
    "    x = normal(y, 0.01) @ \"x\"\n",
    "    y = normal(x, 0.01) @ \"y\"\n",
    "    return y\n",
    "\n",
    "\n",
    "key, subkey = jax.random.split(key)\n",
    "trace = model.simulate(subkey, (0.3,))\n",
    "trace.get_choices()[:, \"x\"]"
   ]
  },
  {
   "cell_type": "code",
   "execution_count": null,
   "metadata": {},
   "outputs": [],
   "source": [
    "# For `mixture_combinator`\n",
    "@gen\n",
    "def mixture_model(p):\n",
    "    z = normal(p, 1.0) @ \"z\"\n",
    "    logits = (0.3, 0.5, 0.2)\n",
    "    arg_1 = (p,)\n",
    "    arg_2 = (p,)\n",
    "    arg_3 = (p,)\n",
    "    a = (\n",
    "        mix(\n",
    "            gen(lambda p: normal(p, 1.0) @ \"x1\"),\n",
    "            gen(lambda p: normal(p, 2.0) @ \"x2\"),\n",
    "            gen(lambda p: normal(p, 3.0) @ \"x3\"),\n",
    "        )(logits, arg_1, arg_2, arg_3)\n",
    "        @ \"a\"\n",
    "    )\n",
    "    return a + z\n",
    "\n",
    "\n",
    "key, subkey = jax.random.split(key)\n",
    "trace = mixture_model.simulate(subkey, (0.4,))\n",
    "# The combinator uses a fixed address \"mixture_component\" for the components of the mixture model.\n",
    "trace.get_sample()[\"a\", \"mixture_component\"]"
   ]
  },
  {
   "cell_type": "markdown",
   "metadata": {},
   "source": [
    "Similarly, if traces were created as a batch using `jax.vmap`, in general it will not create a valid batched trace, e.g. the score will not be defined as a single float. It can be very useful for inference though."
   ]
  },
  {
   "cell_type": "code",
   "execution_count": null,
   "metadata": {},
   "outputs": [],
   "source": [
    "@genjax.gen\n",
    "def random_walk_step(prev, _):\n",
    "    x = genjax.normal(prev, 1.0) @ \"x\"\n",
    "    return x, None\n",
    "\n",
    "\n",
    "random_walk = random_walk_step.scan(n=1000)\n",
    "\n",
    "init = 0.5\n",
    "keys = jax.random.split(key, 10)\n",
    "\n",
    "\n",
    "trs = jax.vmap(random_walk.simulate, (0, None))(keys, (init, None))\n",
    "try:\n",
    "    if isinstance(trs.get_score(), float):\n",
    "        trs.get_score()\n",
    "    else:\n",
    "        raise ValueError(\"Expected a float value for the score.\")\n",
    "except Exception as e:\n",
    "    print(e)"
   ]
  },
  {
   "cell_type": "markdown",
   "metadata": {},
   "source": [
    "However, with a little extra step we can recover information in individual traces."
   ]
  },
  {
   "cell_type": "code",
   "execution_count": null,
   "metadata": {},
   "outputs": [],
   "source": [
    "jax.vmap(lambda tr: tr.get_choices())(trs)"
   ]
  },
  {
   "cell_type": "markdown",
   "metadata": {},
   "source": [
    "Note that this limitation is dependent on the model, and the simpler thing may work anyway for some classes' models."
   ]
  },
  {
   "cell_type": "code",
   "execution_count": null,
   "metadata": {},
   "outputs": [],
   "source": [
    "jitted = jax.jit(jax.vmap(model.simulate, in_axes=(0, None)))\n",
    "keys = random.split(key, 10)\n",
    "traces = jitted(keys, (0.5,))\n",
    "\n",
    "\n",
    "traces.get_choices()"
   ]
  }
 ],
 "metadata": {
  "kernelspec": {
   "display_name": ".venv",
   "language": "python",
   "name": "python3"
  },
  "language_info": {
   "codemirror_mode": {
    "name": "ipython",
    "version": 3
   },
   "file_extension": ".py",
   "mimetype": "text/x-python",
   "name": "python",
   "nbconvert_exporter": "python",
   "pygments_lexer": "ipython3",
   "version": "3.11.4"
  }
 },
 "nbformat": 4,
 "nbformat_minor": 4
}
