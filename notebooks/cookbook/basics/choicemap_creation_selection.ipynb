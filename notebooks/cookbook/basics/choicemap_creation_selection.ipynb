{
 "cells": [
  {
   "cell_type": "raw",
   "metadata": {
    "vscode": {
     "languageId": "raw"
    }
   },
   "source": [
    "---\n",
    "title: Choicemaps\n",
    "subtitle: What's a choicemap, and how do I create one or select from it?\n",
    "---"
   ]
  },
  {
   "cell_type": "code",
   "execution_count": null,
   "metadata": {},
   "outputs": [],
   "source": [
    "import genjax\n",
    "import jax\n",
    "import jax.numpy as jnp\n",
    "import jax.random as random\n",
    "from genjax import ChoiceMapBuilder as C\n",
    "from genjax import (\n",
    "    bernoulli,\n",
    "    beta,\n",
    "    gen,\n",
    "    mix,\n",
    "    normal,\n",
    "    or_else,\n",
    "    pretty,\n",
    "    repeat,\n",
    "    scan,\n",
    "    vmap,\n",
    ")\n",
    "\n",
    "pretty()\n",
    "key = random.PRNGKey(0)"
   ]
  },
  {
   "cell_type": "markdown",
   "metadata": {},
   "source": [
    "Choice maps are dictionary-like data structures that accumulate the random choices produced by generative functions which are `traced` by the system, i.e. that are indicated by `@ \"p\"`  in generative functions. \n",
    "\n",
    "They also serve as a set of constraints/observations when one tries to do inference: given the constraints, inference provides plausible value to complete a choice map to a full trace  of a generative model (one value per traced random sample)."
   ]
  },
  {
   "cell_type": "code",
   "execution_count": null,
   "metadata": {},
   "outputs": [],
   "source": [
    "@gen\n",
    "def beta_bernoulli_process(u):\n",
    "    p = beta(1.0, u) @ \"p\"\n",
    "    v = bernoulli(p) @ \"v\"\n",
    "    return 2 * v"
   ]
  },
  {
   "cell_type": "markdown",
   "metadata": {},
   "source": [
    "Simulating from a model produces a traces which contains a choice map."
   ]
  },
  {
   "cell_type": "code",
   "execution_count": null,
   "metadata": {},
   "outputs": [],
   "source": [
    "key = jax.random.PRNGKey(0)\n",
    "trace = jax.jit(beta_bernoulli_process.simulate)(key, (0.5,))"
   ]
  },
  {
   "cell_type": "markdown",
   "metadata": {},
   "source": [
    "From that trace, we can recover the choicemap with either of the two equivalent methods:"
   ]
  },
  {
   "cell_type": "code",
   "execution_count": null,
   "metadata": {},
   "outputs": [],
   "source": [
    "trace.get_sample(), trace.get_choices()"
   ]
  },
  {
   "cell_type": "markdown",
   "metadata": {},
   "source": [
    "We can also print specific subparts of the choice map."
   ]
  },
  {
   "cell_type": "code",
   "execution_count": null,
   "metadata": {},
   "outputs": [],
   "source": [
    "trace.get_sample()[\"p\"]"
   ]
  },
  {
   "cell_type": "markdown",
   "metadata": {},
   "source": [
    "Then, we can create a choice map of observations and perform diverse operations on it.\n",
    "We can set the value of an address in the choice map."
   ]
  },
  {
   "cell_type": "code",
   "execution_count": null,
   "metadata": {},
   "outputs": [],
   "source": [
    "chm = C[\"p\"].set(0.5) ^ C[\"v\"].set(1)  # ^ acts as a union of two choice maps\n",
    "chm"
   ]
  },
  {
   "cell_type": "markdown",
   "metadata": {},
   "source": [
    "A different way to achieve the same result."
   ]
  },
  {
   "cell_type": "code",
   "execution_count": null,
   "metadata": {},
   "outputs": [],
   "source": [
    "chm = C[\"p\"].set(0.5).at[\"v\"].set(1)"
   ]
  },
  {
   "cell_type": "markdown",
   "metadata": {},
   "source": [
    "Note that one is a `Xor` choice map while the other one is an `Or` choice map. One nuance is that the former assumes that the two sub choice maps are disjoint."
   ]
  },
  {
   "cell_type": "markdown",
   "metadata": {},
   "source": [
    "This also works for hierarchical addresses"
   ]
  },
  {
   "cell_type": "code",
   "execution_count": null,
   "metadata": {},
   "outputs": [],
   "source": [
    "chm = C[\"p\", \"v\"].set(1)\n",
    "chm"
   ]
  },
  {
   "cell_type": "markdown",
   "metadata": {},
   "source": [
    "We can also directly set a value in the choice_map"
   ]
  },
  {
   "cell_type": "code",
   "execution_count": null,
   "metadata": {},
   "outputs": [],
   "source": [
    "chm = C.v(5.0)\n",
    "chm"
   ]
  },
  {
   "cell_type": "markdown",
   "metadata": {},
   "source": [
    "We can also create an empty choice_map"
   ]
  },
  {
   "cell_type": "code",
   "execution_count": null,
   "metadata": {},
   "outputs": [],
   "source": [
    "chm = C.n()\n",
    "chm"
   ]
  },
  {
   "cell_type": "markdown",
   "metadata": {},
   "source": [
    "Other examples of Choice map creation include iteratively adding choices to a choice map."
   ]
  },
  {
   "cell_type": "code",
   "execution_count": null,
   "metadata": {},
   "outputs": [],
   "source": [
    "chm = C.n()\n",
    "for i in range(10):\n",
    "    chm = chm ^ C[\"p\" + str(i)].set(i)\n",
    "# A more JAX-friendly way to do this\n",
    "chm = jax.vmap(lambda idx: C[idx].set(idx.astype(float)))(jnp.arange(10))\n",
    "chm"
   ]
  },
  {
   "cell_type": "markdown",
   "metadata": {},
   "source": [
    "For a nested vmap combinator, the creation of a choice map can be a bit more tricky."
   ]
  },
  {
   "cell_type": "code",
   "execution_count": null,
   "metadata": {},
   "outputs": [],
   "source": [
    "sample_image = genjax.vmap(in_axes=(0,))(\n",
    "    genjax.vmap(in_axes=(0,))(gen(lambda pixel: normal(pixel, 1.0) @ \"new_pixel\"))\n",
    ")\n",
    "\n",
    "image = jnp.zeros([4, 4], dtype=jnp.float32)\n",
    "trace = sample_image.simulate(key, (image,))\n",
    "trace.get_sample()"
   ]
  },
  {
   "cell_type": "markdown",
   "metadata": {},
   "source": [
    "Creating a few values for the choice map is simple."
   ]
  },
  {
   "cell_type": "code",
   "execution_count": null,
   "metadata": {},
   "outputs": [],
   "source": [
    "chm = C[1, 2, \"new_pixel\"].set(1.0) ^ C[0, 2, \"new_pixel\"].set(1.0)\n",
    "\n",
    "tr, w = jax.jit(sample_image.importance)(key, chm, (image,))\n",
    "w"
   ]
  },
  {
   "cell_type": "markdown",
   "metadata": {},
   "source": [
    "But because of the nested `vmap`, the address hierarchy can sometimes lead to unintuitive results. "
   ]
  },
  {
   "cell_type": "code",
   "execution_count": null,
   "metadata": {},
   "outputs": [],
   "source": [
    "chm = chm ^ C[1, 3, \"new_pixel\"].set(1.0)  # seemingly adding a new constraint\n",
    "tr, w = jax.jit(sample_image.importance)(key, chm, (image,))\n",
    "w  # Yet we obtain the same weight as before"
   ]
  },
  {
   "cell_type": "code",
   "execution_count": null,
   "metadata": {},
   "outputs": [],
   "source": [
    "N = 4\n",
    "F = 4\n",
    "\n",
    "\n",
    "chm3 = C[\n",
    "    jnp.arange(F), jnp.repeat(jnp.arange(N)[jnp.newaxis], F, axis=0), \"new_pixel\"\n",
    "].set(1.0)"
   ]
  },
  {
   "cell_type": "markdown",
   "metadata": {},
   "source": [
    "Accessing the right elements in the trace can become non-trivial when one creates hierarchical generative functions. \n",
    "Here are minimal examples and solutions for selection."
   ]
  },
  {
   "cell_type": "code",
   "execution_count": null,
   "metadata": {},
   "outputs": [],
   "source": [
    "# For `or_else` combinator\n",
    "@gen\n",
    "def model(p):\n",
    "    branch_1 = gen(lambda p: bernoulli(p) @ \"v1\")\n",
    "    branch_2 = gen(lambda p: bernoulli(-p) @ \"v2\")\n",
    "    v = or_else(branch_1, branch_2)(p > 0, (p,), (p,)) @ \"s\"\n",
    "    return v\n",
    "\n",
    "\n",
    "trace = jax.jit(model.simulate)(key, (0.5,))\n",
    "trace.get_sample()[\"s\", \"v1\"]"
   ]
  },
  {
   "cell_type": "code",
   "execution_count": null,
   "metadata": {},
   "outputs": [],
   "source": [
    "# For `vmap` combinator\n",
    "sample_image = vmap(in_axes=(0,))(\n",
    "    vmap(in_axes=(0,))(gen(lambda pixel: normal(pixel, 1.0) @ \"new_pixel\"))\n",
    ")\n",
    "\n",
    "image = jnp.zeros([2, 3], dtype=jnp.float32)\n",
    "trace = sample_image.simulate(key, (image,))\n",
    "trace.get_choices()[..., ..., \"new_pixel\"]"
   ]
  },
  {
   "cell_type": "code",
   "execution_count": null,
   "metadata": {},
   "outputs": [],
   "source": [
    "# For `scan_combinator`\n",
    "@scan(n=10)\n",
    "@gen\n",
    "def hmm(x, c):\n",
    "    z = normal(x, 1.0) @ \"z\"\n",
    "    y = normal(z, 1.0) @ \"y\"\n",
    "    return y, None\n",
    "\n",
    "\n",
    "trace = hmm.simulate(key, (0.0, None))\n",
    "trace.get_choices()[..., \"z\"], trace.get_choices()[3, \"y\"]"
   ]
  },
  {
   "cell_type": "code",
   "execution_count": null,
   "metadata": {},
   "outputs": [],
   "source": [
    "# For `repeat_combinator`\n",
    "@repeat(n=10)\n",
    "@gen\n",
    "def model(y):\n",
    "    x = normal(y, 0.01) @ \"x\"\n",
    "    y = normal(x, 0.01) @ \"y\"\n",
    "    return y\n",
    "\n",
    "\n",
    "trace = model.simulate(key, (0.3,))\n",
    "trace.get_choices()[..., \"x\"]"
   ]
  },
  {
   "cell_type": "code",
   "execution_count": null,
   "metadata": {},
   "outputs": [],
   "source": [
    "# For `mixture_combinator`\n",
    "@gen\n",
    "def mixture_model(p):\n",
    "    z = normal(p, 1.0) @ \"z\"\n",
    "    logits = (0.3, 0.5, 0.2)\n",
    "    arg_1 = (p,)\n",
    "    arg_2 = (p,)\n",
    "    arg_3 = (p,)\n",
    "    a = (\n",
    "        mix(\n",
    "            gen(lambda p: normal(p, 1.0) @ \"x1\"),\n",
    "            gen(lambda p: normal(p, 2.0) @ \"x2\"),\n",
    "            gen(lambda p: normal(p, 3.0) @ \"x3\"),\n",
    "        )(logits, arg_1, arg_2, arg_3)\n",
    "        @ \"a\"\n",
    "    )\n",
    "    return a + z\n",
    "\n",
    "\n",
    "trace = mixture_model.simulate(key, (0.4,))\n",
    "# The combinator uses a fixed address \"mixture_component\" for the components of the mixture model.\n",
    "trace.get_sample()[\"a\", \"mixture_component\"]"
   ]
  },
  {
   "cell_type": "markdown",
   "metadata": {},
   "source": [
    "Similarly, if traces were created as a batch using `jax.vmap`, in general it will not create a valid batched trace."
   ]
  },
  {
   "cell_type": "code",
   "execution_count": null,
   "metadata": {},
   "outputs": [],
   "source": [
    "@genjax.gen\n",
    "def random_walk_step(prev, _):\n",
    "    x = genjax.normal(prev, 1.0) @ \"x\"\n",
    "    return x, None\n",
    "\n",
    "\n",
    "random_walk = random_walk_step.scan(n=1000)\n",
    "\n",
    "init = 0.5\n",
    "keys = jax.random.split(key, 10)\n",
    "\n",
    "\n",
    "trs = jax.vmap(random_walk.simulate, (0, None))(keys, (init, None))\n",
    "try:\n",
    "    trs.get_choices()\n",
    "except Exception as e:\n",
    "    print(e)"
   ]
  },
  {
   "cell_type": "markdown",
   "metadata": {},
   "source": [
    "However, with a little extra step we can recover information in individual traces."
   ]
  },
  {
   "cell_type": "code",
   "execution_count": null,
   "metadata": {},
   "outputs": [],
   "source": [
    "jax.vmap(lambda tr: tr.get_choices())(trs)"
   ]
  },
  {
   "cell_type": "markdown",
   "metadata": {},
   "source": [
    "Note that this limitation is dependent on the model, and the simpler thing may work anyway for some classes models."
   ]
  },
  {
   "cell_type": "code",
   "execution_count": null,
   "metadata": {},
   "outputs": [],
   "source": [
    "jitted = jax.jit(jax.vmap(model.simulate, in_axes=(0, None)))\n",
    "keys = random.split(key, 10)\n",
    "traces = jitted(keys, (0.5,))\n",
    "\n",
    "\n",
    "traces.get_choices()"
   ]
  }
 ],
 "metadata": {
  "kernelspec": {
   "display_name": ".venv",
   "language": "python",
   "name": "python3"
  },
  "language_info": {
   "codemirror_mode": {
    "name": "ipython",
    "version": 3
   },
   "file_extension": ".py",
   "mimetype": "text/x-python",
   "name": "python",
   "nbconvert_exporter": "python",
   "pygments_lexer": "ipython3",
   "version": "3.11.6"
  }
 },
 "nbformat": 4,
 "nbformat_minor": 2
}
