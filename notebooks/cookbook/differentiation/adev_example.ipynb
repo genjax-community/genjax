{
 "cells": [
  {
   "cell_type": "raw",
   "metadata": {},
   "source": [
    "---\n",
    "title: Differentiating probabilistic programs\n",
    "subtitle: How to take drastic differentiating measures by differentiating measures\n",
    "---"
   ]
  },
  {
   "cell_type": "code",
   "execution_count": null,
   "metadata": {},
   "outputs": [],
   "source": [
    "import genstudio.plot as Plot\n",
    "import jax\n",
    "import jax.numpy as jnp\n",
    "\n",
    "from genjax._src.adev.core import Dual, expectation\n",
    "from genjax._src.adev.primitives import flip_enum\n",
    "\n",
    "key = jax.random.key(314159)\n",
    "EPOCHS = 600"
   ]
  },
  {
   "cell_type": "markdown",
   "metadata": {},
   "source": [
    "We are often interested in the average returned value of a probabilistic program. For instance, it could be that\n",
    "a run of the program represents a run of a simulation of some form, and we would like to maximize the average reward across many simulations (or equivalently minimize a loss)."
   ]
  },
  {
   "cell_type": "code",
   "execution_count": null,
   "metadata": {},
   "outputs": [],
   "source": [
    "def jax_model(key, theta):\n",
    "    b = jax.random.bernoulli(key, theta)\n",
    "    return jax.lax.cond(b, lambda _: 0.0, lambda _: theta / 2, None)\n",
    "\n",
    "\n",
    "thetas = jnp.arange(0.0, 1.0, 0.002)\n",
    "keys = jax.random.split(key, len(thetas))\n",
    "\n",
    "samples = jax.vmap(jax_model, in_axes=(0, 0))(keys, thetas)"
   ]
  },
  {
   "cell_type": "markdown",
   "metadata": {},
   "source": [
    "We can see that the simulation can have two \"modes\" that split further appart over time."
   ]
  },
  {
   "cell_type": "code",
   "execution_count": null,
   "metadata": {},
   "outputs": [],
   "source": [
    "plot_options = Plot.new(\n",
    "    Plot.color_legend(),\n",
    "    {\"x\": {\"label\": \"θ\"}, \"y\": {\"label\": \"y\"}},\n",
    "    Plot.aspect_ratio(1),\n",
    "    Plot.grid(),\n",
    ")\n",
    "samples_plot = (\n",
    "    Plot.dot({\"x\": thetas, \"y\": samples}, fill=Plot.constantly(\"samples\"), r=2)\n",
    "    + plot_options\n",
    ")\n",
    "samples_plot"
   ]
  },
  {
   "cell_type": "markdown",
   "metadata": {},
   "source": [
    "We can also easily imagine a more noisy version of the same idea."
   ]
  },
  {
   "cell_type": "code",
   "execution_count": null,
   "metadata": {},
   "outputs": [],
   "source": [
    "sigma = 0.25\n",
    "\n",
    "\n",
    "def more_noisy_jax_model(key, theta):\n",
    "    b = jax.random.bernoulli(key, theta)\n",
    "    return jax.lax.cond(\n",
    "        b,\n",
    "        lambda _: jax.random.normal(key) * sigma * theta**2 / 3,\n",
    "        lambda _: (jax.random.normal(key) * sigma + theta) / 2,\n",
    "        None,\n",
    "    )\n",
    "\n",
    "\n",
    "more_thetas = jnp.arange(0.0, 1.0, 0.0005)\n",
    "keys = jax.random.split(key, len(more_thetas))\n",
    "\n",
    "noisy_samples = jax.vmap(more_noisy_jax_model, in_axes=(0, 0))(keys, more_thetas)\n",
    "\n",
    "noisy_sample_plot = Plot.dot(\n",
    "    {\"x\": more_thetas, \"y\": noisy_samples}, fill=Plot.constantly(\"samples\"), r=2\n",
    ")\n",
    "\n",
    "noisy_sample_plot + plot_options"
   ]
  },
  {
   "cell_type": "markdown",
   "metadata": {},
   "source": [
    "As we can see better on the noisy version, the samples divide into two groups. One tends to go up as theta increases while the other stays relatively stable around 0 with a higher variance. For simplicity of the analysis, in the rest of this notebook we will stick to the simpler first example."
   ]
  },
  {
   "cell_type": "markdown",
   "metadata": {},
   "source": [
    "\n",
    "In that simple case, we can compute the exact average value of the random process as a function of $\\theta$. We have probability $\\theta$ to return $0$ and probablity $1-\\theta$ to return $\\frac{\\theta}{2}$. So overall the expected value is\n",
    "$$\\theta*0 + (1-\\theta)*\\frac{\\theta}{2} = \\frac{\\theta-\\theta^2}{2}$$"
   ]
  },
  {
   "cell_type": "markdown",
   "metadata": {},
   "source": [
    "We can code this and plot the result for comparison."
   ]
  },
  {
   "cell_type": "code",
   "execution_count": null,
   "metadata": {},
   "outputs": [],
   "source": [
    "def expected_val(theta):\n",
    "    return (theta - theta**2) / 2\n",
    "\n",
    "\n",
    "thetas_sparse = jnp.linspace(0.0, 1.0, 20)  # fewer points, for the plot\n",
    "\n",
    "expected_value_plot = (\n",
    "    Plot.line(\n",
    "        {\"x\": thetas_sparse, \"y\": jax.vmap(expected_val)(thetas_sparse)},\n",
    "        strokeWidth=2,\n",
    "        stroke=Plot.constantly(\"Expected value\"),\n",
    "        curve=\"natural\",\n",
    "    )\n",
    "    + plot_options\n",
    ")\n",
    "\n",
    "samples_plot + expected_value_plot"
   ]
  },
  {
   "cell_type": "markdown",
   "metadata": {},
   "source": [
    "We can see that the curve in yellow is a perfectly reasonable differentiable function. We can use JAX to compute its derivative (more generally its gradient) at various points."
   ]
  },
  {
   "cell_type": "code",
   "execution_count": null,
   "metadata": {},
   "outputs": [],
   "source": [
    "grad_exact = jax.jit(jax.grad(expected_val))\n",
    "\n",
    "\n",
    "def tangent_line_plot(theta_tan):\n",
    "    slope = grad_exact(theta_tan)\n",
    "    y_intercept = expected_val(theta_tan) - slope * theta_tan\n",
    "\n",
    "    return Plot.line(\n",
    "        [[0, y_intercept], [1, slope + y_intercept]],\n",
    "        opacity=0.75,\n",
    "        stroke=Plot.constantly(f\"Tangent at θ={theta_tan}\"),\n",
    "    )\n",
    "\n",
    "\n",
    "(\n",
    "    plot_options\n",
    "    + [tangent_line_plot(theta_tan) for theta_tan in [0.0, 0.3, 0.5, 1.0]]\n",
    "    + expected_value_plot\n",
    "    + Plot.domain([0, 1], [0, 0.4])\n",
    "    + Plot.title(\"Expectation curve and its Tangent Lines\")\n",
    ")"
   ]
  },
  {
   "cell_type": "markdown",
   "metadata": {},
   "source": [
    "A popular technique from optimization is to use iterative methods such as (stochastic) gradient ascent.\n",
    "Starting from any location, say 0.2, we can use JAX to find the maximum of the function."
   ]
  },
  {
   "cell_type": "code",
   "execution_count": null,
   "metadata": {},
   "outputs": [],
   "source": [
    "arg = 0.2\n",
    "vals = []\n",
    "arg_list = []\n",
    "for _ in range(EPOCHS):\n",
    "    grad_val = grad_exact(arg)\n",
    "    arg_list.append(arg)\n",
    "    vals.append(expected_val(arg))\n",
    "    arg = arg + 0.01 * grad_val\n",
    "    if arg < 0:\n",
    "        arg = 0\n",
    "        break\n",
    "    elif arg > 1:\n",
    "        arg = 1"
   ]
  },
  {
   "cell_type": "markdown",
   "metadata": {},
   "source": [
    "We can plot the evolution of the value of the function over the iterations of the algorithms."
   ]
  },
  {
   "cell_type": "code",
   "execution_count": null,
   "metadata": {},
   "outputs": [],
   "source": [
    "(\n",
    "    Plot.line({\"x\": list(range(EPOCHS)), \"y\": vals})\n",
    "    + {\"x\": {\"label\": \"Iteration\"}, \"y\": {\"label\": \"y\"}}\n",
    ")"
   ]
  },
  {
   "cell_type": "markdown",
   "metadata": {},
   "source": [
    "We can also directly visualize the points on the curve."
   ]
  },
  {
   "cell_type": "code",
   "execution_count": null,
   "metadata": {},
   "outputs": [],
   "source": [
    "color1 = \"#D4CC47\"\n",
    "color2 = \"#FB575D\"\n",
    "\n",
    "\n",
    "def hex_to_RGB(hex_str):\n",
    "    \"\"\"#FFFFFF -> [255,255,255]\"\"\"\n",
    "    # Pass 16 to the integer function for change of base\n",
    "    return [int(hex_str[i : i + 2], 16) for i in range(1, 6, 2)]\n",
    "\n",
    "\n",
    "def get_color_gradient(c1, c2, n):\n",
    "    \"\"\"\n",
    "    Given two hex colors, returns a color gradient\n",
    "    with n colors.\n",
    "    \"\"\"\n",
    "    assert n > 1\n",
    "    c1_rgb = jnp.array(hex_to_RGB(c1)) / 255\n",
    "    c2_rgb = jnp.array(hex_to_RGB(c2)) / 255\n",
    "    mix_pcts = [x / (n - 1) for x in range(n)]\n",
    "    rgb_colors = [((1 - mix) * c1_rgb + (mix * c2_rgb)) for mix in mix_pcts]\n",
    "    return [\n",
    "        \"#\" + \"\".join([format(int(round(val * 255)), \"02x\") for val in item])\n",
    "        for item in rgb_colors\n",
    "    ]\n",
    "\n",
    "\n",
    "(\n",
    "    expected_value_plot\n",
    "    + Plot.dot({\n",
    "        \"x\": arg_list,\n",
    "        \"y\": vals,\n",
    "        \"fill\": get_color_gradient(color1, color2, len(arg_list)),\n",
    "    })\n",
    "    + Plot.subtitle(\"Gradient descent: yellow at start and red at the end\")\n",
    "    + Plot.aspect_ratio(0.25)\n",
    "    + {\"width\": 600}\n",
    ")"
   ]
  },
  {
   "cell_type": "markdown",
   "metadata": {},
   "source": [
    "We have this in this example that we can compute the average value exactly. But will not be the case in general. One popular technique to approximate an average value is to use Monte Carlo Integration: we sample a bunch from the program and take the average value.\n",
    "\n",
    "As we use more and more samples we will converge to the correct result by the Central limit theorem."
   ]
  },
  {
   "cell_type": "code",
   "execution_count": null,
   "metadata": {},
   "outputs": [],
   "source": [
    "number_of_samples = sorted([1, 3, 5, 10, 20, 50, 100, 200, 500, 1000] * 7)\n",
    "means = []\n",
    "for n in number_of_samples:\n",
    "    key, subkey = jax.random.split(key)\n",
    "    keys = jax.random.split(key, n)\n",
    "    samples = jax.vmap(jax_model, in_axes=(0, None))(keys, 0.3)\n",
    "    mean = jnp.mean(samples)\n",
    "    means.append(mean)\n",
    "\n",
    "(\n",
    "    Plot.dot({\n",
    "        \"x\": number_of_samples,\n",
    "        \"y\": means,\n",
    "        \"fill\": get_color_gradient(color1, color2, len(number_of_samples)),\n",
    "    })\n",
    "    + Plot.ruleY(\n",
    "        [expected_val(0.3)],\n",
    "        opacity=0.2,\n",
    "        strokeWidth=2,\n",
    "        stroke=Plot.constantly(\"True value\"),\n",
    "    )\n",
    "    + Plot.color_map({\"Mean estimate\": color1, \"True value\": \"green\"})\n",
    "    + Plot.color_legend()\n",
    "    + {\"x\": {\"label\": \"Number of samples\", \"type\": \"log\"}, \"y\": {\"label\": \"y\"}}\n",
    ")"
   ]
  },
  {
   "cell_type": "markdown",
   "metadata": {},
   "source": [
    "As we just discussed, most of the time we will not be able to compute the average value and then compute the gradient using JAX. One thing we may want to try is to use JAX on the probabilistic program to get a gradient estimate, and hope that by using more and more samples this will converge to the correct gradient that we could use in optimization. Let's try it in JAX."
   ]
  },
  {
   "cell_type": "code",
   "execution_count": null,
   "metadata": {
    "lines_to_next_cell": 2
   },
   "outputs": [],
   "source": [
    "theta_tan = 0.3\n",
    "\n",
    "exact_slope = grad_exact(theta_tan)\n",
    "exact_y_intercept = expected_val(theta_tan) - exact_slope * theta_tan\n",
    "\n",
    "exact_tangent_plot = Plot.line(\n",
    "    [[0, exact_y_intercept], [1, exact_slope + exact_y_intercept]],\n",
    "    strokeWidth=2,\n",
    "    stroke=Plot.constantly(\"Exact tangent at θ=0.3\"),\n",
    ")\n",
    "\n",
    "\n",
    "def slope_plot(slope_est):\n",
    "    y_intercept = expected_val(theta_tan) - slope_est * theta_tan\n",
    "    return Plot.line(\n",
    "        [[0, y_intercept], [1, slope_est + y_intercept]],\n",
    "        strokeWidth=2,\n",
    "        stroke=Plot.constantly(\"Tangent estimate\"),\n",
    "    )\n",
    "\n",
    "\n",
    "slope_estimates = [exact_slope + i / 20 for i in range(-4, 4)]\n",
    "\n",
    "(\n",
    "    expected_value_plot\n",
    "    + exact_tangent_plot\n",
    "    + Plot.domain([0, 1], [0, 0.4])\n",
    "    + [slope_plot(slope_est) for slope_est in slope_estimates]\n",
    "    + Plot.title(\"Expectation curve and Tangent Estimates at θ=0.3\")\n",
    "    + Plot.color_map({\n",
    "        \"Expected value\": \"blue\",\n",
    "        \"Tangent estimate\": \"rgba(255,165,0,0.3)\",\n",
    "        \"Exact tangent at θ=0.3\": \"rgba(255,165,0,1)\",\n",
    "    })\n",
    ")"
   ]
  },
  {
   "cell_type": "code",
   "execution_count": null,
   "metadata": {},
   "outputs": [],
   "source": [
    "grad = jax.jit(jax.grad(jax_model, argnums=1))\n",
    "\n",
    "arg = 0.2\n",
    "vals = []\n",
    "for _ in range(EPOCHS):\n",
    "    key, subkey = jax.random.split(key)\n",
    "    grad_val = grad(subkey, arg)\n",
    "    arg = arg + 0.01 * grad_val\n",
    "    vals.append(expected_val(arg))"
   ]
  },
  {
   "cell_type": "markdown",
   "metadata": {},
   "source": [
    "JAX seems happy to compute something and we can use the iterative technique from before, but let's see if we managed to minimize the function."
   ]
  },
  {
   "cell_type": "code",
   "execution_count": null,
   "metadata": {
    "lines_to_next_cell": 1
   },
   "outputs": [],
   "source": [
    "(\n",
    "    Plot.line(\n",
    "        {\"x\": list(range(EPOCHS)), \"y\": vals},\n",
    "        stroke=Plot.constantly(\"Attempting gradient ascent with JAX\"),\n",
    "    )\n",
    "    + {\"x\": {\"label\": \"Iteration\"}, \"y\": {\"label\": \"y\"}}\n",
    "    + Plot.domainX([0, EPOCHS])\n",
    "    + Plot.title(\"Maximization of the expected value of a probabilistic function\")\n",
    "    + Plot.color_legend()\n",
    ")"
   ]
  },
  {
   "cell_type": "markdown",
   "metadata": {},
   "source": [
    "Woops! We seemed to start ok but then for some reason the curve goes back down and we end up minimizing the function instead of maximizing it!\n",
    "\n",
    "The reason is that we failed to account from the change of contribution of the coin flip from  `bernoulli` in the differentiation process, and we will come back to this in more details in follow up notebooks.\n",
    "\n",
    "For now, let's just get a sense of what the gradient estimates computed by JAX look like."
   ]
  },
  {
   "cell_type": "code",
   "execution_count": null,
   "metadata": {},
   "outputs": [],
   "source": [
    "def plot_tangents(gradients, title):\n",
    "    tangents_plots = Plot.new(Plot.aspectRatio(0.5))\n",
    "\n",
    "    for theta, slope in gradients:\n",
    "        y_intercept = expected_val(theta) - slope * theta\n",
    "        tangents_plots += Plot.line(\n",
    "            [[0, y_intercept], [1, slope + y_intercept]],\n",
    "            stroke=Plot.constantly(f\"Tangent at θ={theta:.2f}\"),\n",
    "            opacity=0.75,\n",
    "        )\n",
    "    return (\n",
    "        expected_value_plot\n",
    "        + Plot.domain([0, 1], [0, 0.4])\n",
    "        + tangents_plots\n",
    "        + Plot.title(title)\n",
    "    )\n",
    "\n",
    "\n",
    "gradients = []\n",
    "for theta in [0.15, 0.3, 0.65, 0.8]:\n",
    "    key, subkey = jax.random.split(key)\n",
    "    gradients.append((theta, grad(subkey, theta)))\n",
    "\n",
    "plot_tangents(gradients, \"Expectation curve and JAX-computed tangent estimates\")"
   ]
  },
  {
   "cell_type": "markdown",
   "metadata": {},
   "source": [
    "Ouch. They do not look even remotely close to valid gradient estimates."
   ]
  },
  {
   "cell_type": "markdown",
   "metadata": {},
   "source": [
    "ADEV is a new algorithm that computes correct gradient estimates of expectations of probabilistic programs. It  accounts for the change to the expectation coming from a change to the randomness present in the expectation.\n",
    "\n",
    "GenJAX implements ADEV. Slightly rewriting the example from above using GenJAX, we can see how different the behaviour of the optimization process with the corrected gradient estimates is."
   ]
  },
  {
   "cell_type": "code",
   "execution_count": null,
   "metadata": {},
   "outputs": [],
   "source": [
    "@expectation\n",
    "def flip_exact_loss(theta):\n",
    "    b = flip_enum(theta)\n",
    "    return jax.lax.cond(\n",
    "        b,\n",
    "        lambda _: 0.0,\n",
    "        lambda _: theta / 2.0,\n",
    "        theta,\n",
    "    )\n",
    "\n",
    "\n",
    "adev_grad = jax.jit(flip_exact_loss.jvp_estimate)\n",
    "\n",
    "\n",
    "def compute_jax_vals(key, initial_val):\n",
    "    current_val = initial_val\n",
    "    jax_vals = []\n",
    "    jax_gradients = []\n",
    "    for _ in range(EPOCHS):\n",
    "        key, subkey = jax.random.split(key)\n",
    "        grad_val = grad(subkey, current_val)\n",
    "        jax_gradients.append((current_val, grad_val))\n",
    "        current_val = current_val + 0.01 * grad_val\n",
    "        jax_vals.append(expected_val(current_val))\n",
    "    return jax_vals, jax_gradients\n",
    "\n",
    "\n",
    "def compute_adev_vals(key, initial_val):\n",
    "    current_val = initial_val\n",
    "    adev_vals = []\n",
    "    adev_gradients = []\n",
    "    for _ in range(EPOCHS):\n",
    "        key, subkey = jax.random.split(key)\n",
    "        grad_val = adev_grad(subkey, Dual(current_val, 1.0)).tangent\n",
    "        adev_gradients.append((current_val, grad_val))\n",
    "        current_val = current_val + 0.01 * grad_val\n",
    "        adev_vals.append(expected_val(current_val))\n",
    "    return adev_vals, adev_gradients"
   ]
  },
  {
   "cell_type": "code",
   "execution_count": null,
   "metadata": {},
   "outputs": [],
   "source": [
    "def select_evenly_spaced(items, num_samples=5):\n",
    "    \"\"\"Select evenly spaced items from a list.\"\"\"\n",
    "    if num_samples <= 1:\n",
    "        return [items[0]]\n",
    "\n",
    "    result = [items[0]]\n",
    "    step = (len(items) - 1) / (num_samples - 1)\n",
    "\n",
    "    for i in range(1, num_samples - 1):\n",
    "        index = int(i * step)\n",
    "        result.append(items[index])\n",
    "\n",
    "    result.append(items[-1])\n",
    "    return result\n",
    "\n",
    "\n",
    "DEFAULT_INITIAL_VALUE = 0.2\n",
    "STEP = 0.01\n",
    "\n",
    "combined_plot = Plot.new()\n",
    "\n",
    "\n",
    "def render_combined_plot(initial_val):\n",
    "    global key\n",
    "    key, subkey1, subkey2 = jax.random.split(key, num=3)\n",
    "    jax_vals, jax_gradients = compute_jax_vals(subkey1, initial_val)\n",
    "    adev_vals, adev_gradients = compute_adev_vals(subkey2, initial_val)\n",
    "\n",
    "    def plot_tangents(gradients, title):\n",
    "        tangents_plots = Plot.new(Plot.aspectRatio(0.5))\n",
    "\n",
    "        line_data = []\n",
    "        for i, (theta, slope) in enumerate(gradients):\n",
    "            y_intercept = expected_val(theta) - slope * theta\n",
    "            line_data.append([0, y_intercept, i])\n",
    "            line_data.append([1, slope + y_intercept, i])\n",
    "\n",
    "        tangents_plots += Plot.line(\n",
    "            line_data,\n",
    "            z=\"2\",\n",
    "            stroke=Plot.constantly(\"Tangent\"),\n",
    "            opacity=Plot.js(\"(data) => data[2] === $state.frame ? 1 : 0.5\"),\n",
    "            strokeWidth=Plot.js(\"(data) => data[2] === $state.frame ? 3 : 1\"),\n",
    "            filter=Plot.js(f\"\"\"(data) => {{\n",
    "                const index = data[2];\n",
    "                if (index === $state.frame) return true;\n",
    "                if (index < $state.frame) {{\n",
    "                    const step = Math.floor({EPOCHS} / 10);\n",
    "                    return (index % step === 0);\n",
    "                }}\n",
    "                return false;\n",
    "            }}\"\"\"),\n",
    "        )\n",
    "\n",
    "        return (\n",
    "            expected_value_plot\n",
    "            + Plot.domain([0, 1], [0, 0.4])\n",
    "            + tangents_plots\n",
    "            + Plot.title(title)\n",
    "            + Plot.color_map({\n",
    "                \"samples\": \"rgba(0, 128, 128, 0.5)\",\n",
    "                \"Expected value\": \"blue\",\n",
    "                \"Tangent\": \"rgba(255, 165, 0, 1)\",\n",
    "            })\n",
    "        )\n",
    "\n",
    "    optimization_plot = (\n",
    "        Plot.line(\n",
    "            {\"x\": list(range(EPOCHS)), \"y\": jax_vals},\n",
    "            stroke=Plot.constantly(\"Gradient ascent with JAX\"),\n",
    "            filter=Plot.js(\"(_, i) => i <= $state.frame\"),\n",
    "        )\n",
    "        + Plot.line(\n",
    "            {\"x\": list(range(EPOCHS)), \"y\": adev_vals},\n",
    "            stroke=Plot.constantly(\"Gradient ascent with ADEV\"),\n",
    "            filter=Plot.js(\"(_, i) => i <= $state.frame\"),\n",
    "        )\n",
    "        + {\n",
    "            \"x\": {\"label\": \"Iteration\"},\n",
    "            \"y\": {\"label\": \"Expected Value\"},\n",
    "        }\n",
    "        + Plot.domainX([0, EPOCHS])\n",
    "        + Plot.title(\"Maximization of the expected value of a probabilistic function\")\n",
    "        + Plot.color_legend()\n",
    "    )\n",
    "\n",
    "    jax_tangents_plot = noisy_sample_plot + plot_tangents(\n",
    "        jax_gradients, \"JAX Gradient Estimates\"\n",
    "    )\n",
    "    adev_tangents_plot = noisy_sample_plot + plot_tangents(\n",
    "        adev_gradients, \"ADEV Gradient Estimates\"\n",
    "    )\n",
    "    # TODO\n",
    "    # - also show the yellow-to-red circles representing theta moving during the iterations\n",
    "\n",
    "    frame_slider = Plot.Slider(key=\"frame\", init=0, range=[0, EPOCHS], step=10, fps=30)\n",
    "\n",
    "    initial_val_slider = Plot.html([\n",
    "        \"div\",\n",
    "        {\"class\": \"flex items-center space-x-4 mb-4\"},\n",
    "        [\n",
    "            \"label\",\n",
    "            \"Initial Value:\",\n",
    "            [\n",
    "                \"span.font-bold.px-1\",\n",
    "                f\"{initial_val:.2f}\",\n",
    "            ],  # Format to 2 decimal places\n",
    "            [\n",
    "                \"input\",\n",
    "                {\n",
    "                    \"type\": \"range\",\n",
    "                    \"min\": 0,\n",
    "                    \"max\": 1,\n",
    "                    \"step\": STEP,\n",
    "                    \"defaultValue\": DEFAULT_INITIAL_VALUE,\n",
    "                    \"onChange\": lambda e: render_combined_plot(float(e[\"value\"])),\n",
    "                    \"class\": \"w-64 h-2 bg-gray-200 rounded-lg appearance-none cursor-pointer ml-2\",\n",
    "                },\n",
    "            ],\n",
    "        ],\n",
    "        [\n",
    "            \"button\",\n",
    "            {\n",
    "                \"onClick\": lambda e: render_combined_plot(initial_val),\n",
    "                \"class\": \"px-3 py-1 bg-blue-500 text-white text-sm font-medium rounded-md hover:bg-blue-600 focus:outline-none focus:ring-2 focus:ring-blue-500 focus:ring-opacity-50 transition duration-150 ease-in-out\",\n",
    "            },\n",
    "            \"Refresh\",\n",
    "        ],\n",
    "    ])\n",
    "\n",
    "    combined_plot.update_state([\"frame\", \"reset\", 0])\n",
    "    combined_plot.reset(\n",
    "        initial_val_slider\n",
    "        | optimization_plot & jax_tangents_plot & adev_tangents_plot\n",
    "        | frame_slider\n",
    "    )\n",
    "\n",
    "\n",
    "render_combined_plot(DEFAULT_INITIAL_VALUE)\n",
    "\n",
    "combined_plot"
   ]
  },
  {
   "cell_type": "markdown",
   "metadata": {},
   "source": [
    "In the above example, by using `jvp_estimate` we used a forward-mode version of ADEV. GenJAX also supports a reverse-mode version which is also fully compatible with JAX and can be jitted."
   ]
  },
  {
   "cell_type": "code",
   "execution_count": null,
   "metadata": {},
   "outputs": [],
   "source": [
    "rev_adev_grad = jax.jit(flip_exact_loss.grad_estimate)\n",
    "\n",
    "arg = 0.2\n",
    "rev_adev_vals = []\n",
    "for _ in range(EPOCHS):\n",
    "    key, subkey = jax.random.split(key)\n",
    "    (grad_val,) = rev_adev_grad(subkey, (arg,))\n",
    "    arg = arg - 0.01 * grad_val\n",
    "    rev_adev_vals.append(expected_val(arg))\n",
    "\n",
    "(\n",
    "    Plot.line(\n",
    "        {\"x\": list(range(EPOCHS)), \"y\": rev_adev_vals},\n",
    "        stroke=Plot.constantly(\"Reverse mode ADEV\"),\n",
    "    )\n",
    "    + {\"x\": {\"label\": \"Iteration\"}, \"y\": {\"label\": \"y\"}}\n",
    "    + Plot.domainX([0, EPOCHS])\n",
    "    + Plot.title(\"Maximization of the expected value of a probabilistic function\")\n",
    "    + Plot.color_legend()\n",
    ")"
   ]
  }
 ],
 "metadata": {
  "colab": {
   "provenance": []
  },
  "jupytext": {
   "formats": "ipynb,py:percent"
  },
  "kernelspec": {
   "display_name": ".venv",
   "language": "python",
   "name": "python3"
  },
  "language_info": {
   "codemirror_mode": {
    "name": "ipython",
    "version": 3
   },
   "file_extension": ".py",
   "mimetype": "text/x-python",
   "name": "python",
   "nbconvert_exporter": "python",
   "pygments_lexer": "ipython3",
   "version": "3.12.4"
  }
 },
 "nbformat": 4,
 "nbformat_minor": 0
}
