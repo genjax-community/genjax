{
 "cells": [
  {
   "cell_type": "raw",
   "metadata": {
    "vscode": {
     "languageId": "raw"
    }
   },
   "source": [
    "---\n",
    "title: Differentiating probabilistic programs\n",
    "subtitle: How to take drastic differentiating measures by differentiating measures\n",
    "---"
   ]
  },
  {
   "cell_type": "code",
   "execution_count": null,
   "metadata": {},
   "outputs": [],
   "source": [
    "import jax\n",
    "import jax.numpy as jnp\n",
    "import matplotlib.pyplot as plt\n",
    "from genjax._src.adev.core import Dual, expectation\n",
    "from genjax._src.adev.primitives import flip_enum\n",
    "\n",
    "key = jax.random.PRNGKey(314159)\n",
    "EPOCHS = 600"
   ]
  },
  {
   "cell_type": "markdown",
   "metadata": {},
   "source": [
    "We are often interested in the average returned value of a probabilistic program. For instance, it could be that \n",
    "a run of the program represents a run of a simulation of some form, and we would like to maximize the average reward across many simulations (or equivalently minimize a loss)."
   ]
  },
  {
   "cell_type": "code",
   "execution_count": null,
   "metadata": {},
   "outputs": [],
   "source": [
    "def jax_model(key, theta):\n",
    "    b = jax.random.bernoulli(key, theta)\n",
    "    return jax.lax.cond(b, lambda _: 0.0, lambda _: theta / 2, None)\n",
    "\n",
    "\n",
    "thetas = jnp.arange(0.0, 1.0, 0.002)\n",
    "keys = jax.random.split(key, len(thetas))\n",
    "\n",
    "samples = jax.vmap(jax_model, in_axes=(0, 0))(keys, thetas)"
   ]
  },
  {
   "cell_type": "markdown",
   "metadata": {},
   "source": [
    "We can see that the simulation can have two \"modes\" that split further appart over time."
   ]
  },
  {
   "cell_type": "code",
   "execution_count": null,
   "metadata": {},
   "outputs": [],
   "source": [
    "plt.scatter(thetas, samples, s=1, label=\"samples\")\n",
    "plt.xlabel(r\"$\\theta$\")\n",
    "plt.ylabel(\"y\")\n",
    "plt.legend()"
   ]
  },
  {
   "cell_type": "markdown",
   "metadata": {},
   "source": [
    "We can also easily imagine a more noisy version of the same idea."
   ]
  },
  {
   "cell_type": "code",
   "execution_count": null,
   "metadata": {},
   "outputs": [],
   "source": [
    "sigma = 0.25\n",
    "\n",
    "\n",
    "def more_noisy_jax_model(key, theta):\n",
    "    b = jax.random.bernoulli(key, theta)\n",
    "    return jax.lax.cond(\n",
    "        b,\n",
    "        lambda _: jax.random.normal(key) * sigma * theta**2 / 3,\n",
    "        lambda _: (jax.random.normal(key) * sigma + theta) / 2,\n",
    "        None,\n",
    "    )\n",
    "\n",
    "\n",
    "more_thetas = jnp.arange(0.0, 1.0, 0.0005)\n",
    "keys = jax.random.split(key, len(more_thetas))\n",
    "\n",
    "noisy_samples = jax.vmap(more_noisy_jax_model, in_axes=(0, 0))(keys, more_thetas)\n",
    "\n",
    "plt.scatter(more_thetas, noisy_samples, s=1, label=\"samples\")\n",
    "plt.xlabel(r\"$\\theta$\")\n",
    "plt.ylabel(\"y\")\n",
    "plt.legend()"
   ]
  },
  {
   "cell_type": "markdown",
   "metadata": {},
   "source": [
    "As we can see better on the noisy version, the samples divide into two groups. One tends to go up as theta increases while the other stays relatively stable around 0 with a higher variance. For simplicity of the analysis, in the rest of this notebook we will stick to the simpler first example."
   ]
  },
  {
   "cell_type": "markdown",
   "metadata": {},
   "source": [
    "\n",
    "In that simple case, we can compute the exact average value of the random process as a function of $\\theta$. We have probability $\\theta$ to return $0$ and probablity $1-\\theta$ to return $\\frac{\\theta}{2}$. So overall the expected value is\n",
    "$$\\theta*0 + (1-\\theta)*\\frac{\\theta}{2} = \\frac{\\theta-\\theta^2}{2}$$"
   ]
  },
  {
   "cell_type": "markdown",
   "metadata": {},
   "source": [
    "We can code this and plot the result for comparison."
   ]
  },
  {
   "cell_type": "code",
   "execution_count": null,
   "metadata": {},
   "outputs": [],
   "source": [
    "def expected_val(theta):\n",
    "    return (theta - theta**2) / 2\n",
    "\n",
    "\n",
    "exact_vals = jax.vmap(expected_val)(thetas)\n",
    "plt.plot(thetas, exact_vals, color=\"red\", label=\"Expected value\")\n",
    "plt.scatter(thetas, samples, s=1, label=\"Samples\")\n",
    "plt.xlabel(r\"$\\theta$\")\n",
    "plt.ylabel(\"y\")\n",
    "plt.legend()"
   ]
  },
  {
   "cell_type": "markdown",
   "metadata": {},
   "source": [
    "We can see that the curve in red is a perfectly reasonable differentiable function. We can use JAX to compute its derivative (more generally its gradient) at various points."
   ]
  },
  {
   "cell_type": "code",
   "execution_count": null,
   "metadata": {},
   "outputs": [],
   "source": [
    "grad_exact = jax.jit(jax.grad(expected_val))\n",
    "\n",
    "some_thetas = jnp.array([0.3, 0.7])\n",
    "# jnp.arange(0.15, 0.85, 0.1)\n",
    "ys = jax.vmap(expected_val)(some_thetas)\n",
    "slopes = jax.vmap(grad_exact)(some_thetas)\n",
    "\n",
    "\n",
    "plt.plot(thetas, exact_vals, color=\"red\", alpha=0.5)\n",
    "# plt.scatter(thetas, samples, s=1, alpha=0.5)\n",
    "\n",
    "for theta in some_thetas:\n",
    "    slope = grad_exact(theta)\n",
    "    y_intercept = expected_val(theta) - slope * theta\n",
    "    tangent_line = y_intercept + slope * theta\n",
    "    plt.plot(theta, tangent_line, \"--\", label=f\"Tangent at x={theta}\")\n",
    "    # plt.plot(thetas, (theta - theta**2) / 2 + slopes * (thetas - theta), \"--\", color=\"green\")\n",
    "plt.xlabel(r\"$\\theta$\")\n",
    "plt.ylabel(\"y\")\n",
    "plt.legend()\n",
    "plt.grid(True)\n",
    "plt.show()\n",
    "\n",
    "# TODO: fix me. This is not working\n",
    "# for x, y, slope in zip(some_thetas, ys, slopes):\n",
    "#     y_intercept = y - slope * x\n",
    "#     tangent_line = y_intercept + slope * x\n",
    "#     plt.plot(x, tangent_line, \"--\", color=\"green\")"
   ]
  },
  {
   "cell_type": "markdown",
   "metadata": {},
   "source": [
    "A popular technique from optimization is to use iterative methods such as (stochastic) gradient ascent. \n",
    "Starting from any location, say 0.2, we can use JAX to find the maximum of the function. "
   ]
  },
  {
   "cell_type": "code",
   "execution_count": null,
   "metadata": {},
   "outputs": [],
   "source": [
    "arg = 0.2\n",
    "vals = []\n",
    "arg_list = []\n",
    "for _ in range(EPOCHS):\n",
    "    grad_val = grad_exact(arg)\n",
    "    arg_list.append(arg)\n",
    "    vals.append(expected_val(arg))\n",
    "    arg = arg + 0.01 * grad_val\n",
    "    if arg < 0:\n",
    "        arg = 0\n",
    "        break\n",
    "    elif arg > 1:\n",
    "        arg = 1"
   ]
  },
  {
   "cell_type": "markdown",
   "metadata": {},
   "source": [
    "We can plot the evolution of the value of the function over the iterations of the algorithms."
   ]
  },
  {
   "cell_type": "code",
   "execution_count": null,
   "metadata": {},
   "outputs": [],
   "source": [
    "plt.plot(vals)\n",
    "plt.xlabel(r\"$\\theta$\")\n",
    "plt.ylabel(\"y\")\n",
    "plt.legend()\n",
    "plt.grid(True)\n",
    "plt.show()"
   ]
  },
  {
   "cell_type": "markdown",
   "metadata": {},
   "source": [
    "We can also directly visualize the points on the curve."
   ]
  },
  {
   "cell_type": "code",
   "execution_count": null,
   "metadata": {},
   "outputs": [],
   "source": [
    "color1 = \"#D4CC47\"\n",
    "color2 = \"#FB575D\"\n",
    "\n",
    "\n",
    "def hex_to_RGB(hex_str):\n",
    "    \"\"\"#FFFFFF -> [255,255,255]\"\"\"\n",
    "    # Pass 16 to the integer function for change of base\n",
    "    return [int(hex_str[i : i + 2], 16) for i in range(1, 6, 2)]\n",
    "\n",
    "\n",
    "def get_color_gradient(c1, c2, n):\n",
    "    \"\"\"\n",
    "    Given two hex colors, returns a color gradient\n",
    "    with n colors.\n",
    "    \"\"\"\n",
    "    assert n > 1\n",
    "    c1_rgb = jnp.array(hex_to_RGB(c1)) / 255\n",
    "    c2_rgb = jnp.array(hex_to_RGB(c2)) / 255\n",
    "    mix_pcts = [x / (n - 1) for x in range(n)]\n",
    "    rgb_colors = [((1 - mix) * c1_rgb + (mix * c2_rgb)) for mix in mix_pcts]\n",
    "    return [\n",
    "        \"#\" + \"\".join([format(int(round(val * 255)), \"02x\") for val in item])\n",
    "        for item in rgb_colors\n",
    "    ]\n",
    "\n",
    "\n",
    "plt.scatter(\n",
    "    arg_list,\n",
    "    vals,\n",
    "    color=get_color_gradient(color1, color2, len(arg_list)),\n",
    "    s=1,\n",
    "    label=\"Gradient descent: yellow at start and red at the end\",\n",
    ")\n",
    "plt.plot(thetas, exact_vals, alpha=0.3)\n",
    "plt.xlabel(r\"$\\theta$\")\n",
    "plt.ylabel(\"y\")\n",
    "plt.legend()\n",
    "plt.grid(True)\n",
    "plt.show()"
   ]
  },
  {
   "cell_type": "markdown",
   "metadata": {},
   "source": [
    "We have this in this example that we can compute the average value exactly. But will not be the case in general. One popular technique to approximate an average value is to use Monte Carlo Integration: we sample a bunch from the program and take the average value. \n",
    "\n",
    "As we use more and more samples we will converge to the correct result by the Central limit theorem. "
   ]
  },
  {
   "cell_type": "code",
   "execution_count": null,
   "metadata": {},
   "outputs": [],
   "source": [
    "number_of_samples = [\n",
    "    1,\n",
    "    1,\n",
    "    1,\n",
    "    1,\n",
    "    1,\n",
    "    3,\n",
    "    3,\n",
    "    3,\n",
    "    3,\n",
    "    3,\n",
    "    3,\n",
    "    3,\n",
    "    3,\n",
    "    5,\n",
    "    5,\n",
    "    5,\n",
    "    5,\n",
    "    5,\n",
    "    5,\n",
    "    5,\n",
    "    10,\n",
    "    10,\n",
    "    10,\n",
    "    10,\n",
    "    10,\n",
    "    10,\n",
    "    20,\n",
    "    20,\n",
    "    20,\n",
    "    20,\n",
    "    20,\n",
    "    20,\n",
    "    20,\n",
    "    50,\n",
    "    50,\n",
    "    50,\n",
    "    50,\n",
    "    50,\n",
    "    100,\n",
    "    100,\n",
    "    100,\n",
    "    100,\n",
    "    100,\n",
    "    100,\n",
    "    200,\n",
    "    200,\n",
    "    200,\n",
    "    200,\n",
    "    200,\n",
    "    500,\n",
    "    500,\n",
    "    500,\n",
    "    500,\n",
    "    500,\n",
    "    1000,\n",
    "    1000,\n",
    "    1000,\n",
    "    1000,\n",
    "    1000,\n",
    "]\n",
    "means = []\n",
    "for n in number_of_samples:\n",
    "    key, subkey = jax.random.split(key)\n",
    "    keys = jax.random.split(key, n)\n",
    "    samples = jax.vmap(jax_model, in_axes=(0, None))(keys, 0.3)\n",
    "    mean = jnp.mean(samples)\n",
    "    means.append(mean)\n",
    "\n",
    "plt.scatter(\n",
    "    number_of_samples,\n",
    "    means,\n",
    "    s=10,\n",
    "    color=get_color_gradient(color1, color2, len(number_of_samples)),\n",
    "    label=\"Mean estimate\",\n",
    ")\n",
    "\n",
    "plt.xscale(\"log\")\n",
    "plt.axhline(expected_val(0.3), color=\"green\", alpha=0.2, label=\"True value\")\n",
    "plt.xlabel(\"Number of samples\")\n",
    "plt.ylabel(\"y\")\n",
    "plt.legend()\n",
    "plt.show()"
   ]
  },
  {
   "cell_type": "markdown",
   "metadata": {},
   "source": [
    "As we just discussed, most of the time we will not be able to compute the average value and then compute the gradient using JAX. One thing we may want to try is to use JAX on the probabilistic program to get a gradient estimate, and hope that by using more and more samples this will converge to the correct gradient that we could use in optimization. Let's try it in JAX."
   ]
  },
  {
   "cell_type": "code",
   "execution_count": null,
   "metadata": {},
   "outputs": [],
   "source": [
    "def jax_model(key, theta):\n",
    "    b = jax.random.bernoulli(key, theta)\n",
    "    return jax.lax.cond(b, lambda _: 0.0, lambda _: theta / 2, None)\n",
    "\n",
    "\n",
    "grad = jax.jit(jax.grad(jax_model, argnums=1))\n",
    "\n",
    "arg = 0.2\n",
    "vals = []\n",
    "for _ in range(EPOCHS):\n",
    "    key, subkey = jax.random.split(key)\n",
    "    grad_val = grad(subkey, arg)\n",
    "    arg = arg + 0.01 * grad_val\n",
    "    vals.append(expected_val(arg))"
   ]
  },
  {
   "cell_type": "markdown",
   "metadata": {},
   "source": [
    "JAX seems happy to compute something and we can use the iterative technique from before, but let's see if we managed to minimize the function."
   ]
  },
  {
   "cell_type": "code",
   "execution_count": null,
   "metadata": {},
   "outputs": [],
   "source": [
    "plt.plot(vals, label=\"Attempting gradient ascent with JAX\")\n",
    "plt.xlabel(\"Iteration number\")\n",
    "plt.ylabel(\"y\")\n",
    "plt.legend()\n",
    "plt.title(\"Maximization of the expected value of a probabilistic function\")\n",
    "plt.show()"
   ]
  },
  {
   "cell_type": "markdown",
   "metadata": {},
   "source": [
    "Woops! We seemed to start ok but then for some reason the curve goes back down and we end up minimizing the function instead of maximizing it!\n",
    "\n",
    "The reason is that we failed to account from the change of contribution of the coin flip from  `bernoulli` in the differentiation process, and we will come back to this in more details in follow up notebooks."
   ]
  },
  {
   "cell_type": "code",
   "execution_count": null,
   "metadata": {},
   "outputs": [],
   "source": [
    "# TODO: plot showing some very wrong gradient computed by JAX for the same function"
   ]
  },
  {
   "cell_type": "markdown",
   "metadata": {},
   "source": [
    "ADEV is a new algorithm that computes correct gradient estimates of expectations of probabilistic programs. It  accounts for the change to the expectation coming from a change to the randomness present in the expectation.\n",
    "\n",
    "GenJAX implements ADEV. Slightly rewriting the example from above using GenJAX, we can see how different the behaviour of the optimization process with the corrected gradient estimates is."
   ]
  },
  {
   "cell_type": "code",
   "execution_count": null,
   "metadata": {},
   "outputs": [],
   "source": [
    "@expectation\n",
    "def flip_exact_loss(theta):\n",
    "    b = flip_enum(theta)\n",
    "    return jax.lax.cond(\n",
    "        b,\n",
    "        lambda _: 0.0,\n",
    "        lambda _: -theta / 2.0,\n",
    "        theta,\n",
    "    )\n",
    "\n",
    "\n",
    "adev_grad = jax.jit(flip_exact_loss.jvp_estimate)\n",
    "\n",
    "arg = 0.2\n",
    "adev_vals = []\n",
    "for _ in range(EPOCHS):\n",
    "    key, subkey = jax.random.split(key)\n",
    "    grad_val = adev_grad(subkey, Dual(arg, 1.0)).tangent\n",
    "    arg = arg - 0.01 * grad_val\n",
    "    adev_vals.append(expected_val(arg))"
   ]
  },
  {
   "cell_type": "code",
   "execution_count": null,
   "metadata": {},
   "outputs": [],
   "source": [
    "plt.plot(vals)\n",
    "plt.plot(adev_vals)\n",
    "plt.legend([\"Gradient ascent with JAX\", \"Gradient ascent with ADEV\"])\n",
    "plt.title(\"Maximization of the expected value of a probabilistic function\")\n",
    "plt.xlabel(\"Iteration number\")\n",
    "plt.ylabel(\"y\")"
   ]
  },
  {
   "cell_type": "markdown",
   "metadata": {},
   "source": [
    "In the above example, by using `jvp_estimate` we used a forward-mode version of ADEV. GenJAX also supports a reverse-mode version which is also fully compatible with JAX and can be jitted."
   ]
  },
  {
   "cell_type": "code",
   "execution_count": null,
   "metadata": {},
   "outputs": [],
   "source": [
    "rev_adev_grad = jax.jit(flip_exact_loss.grad_estimate)\n",
    "\n",
    "arg = 0.2\n",
    "rev_adev_vals = []\n",
    "for _ in range(EPOCHS):\n",
    "    key, subkey = jax.random.split(key)\n",
    "    (grad_val,) = rev_adev_grad(subkey, (arg,))\n",
    "    arg = arg - 0.01 * grad_val\n",
    "    rev_adev_vals.append(expected_val(arg))\n",
    "\n",
    "plt.plot(rev_adev_vals, color=\"orange\")\n",
    "plt.legend([\"Reverse mode ADEV\"])\n",
    "plt.title(\"Maximization of the expected value of a probabilistic function\")\n",
    "plt.xlabel(\"Iteration number\")\n",
    "plt.ylabel(\"y\")"
   ]
  },
  {
   "cell_type": "code",
   "execution_count": null,
   "metadata": {},
   "outputs": [],
   "source": [
    "import matplotlib.pyplot as plt\n",
    "import numpy as np\n",
    "\n",
    "\n",
    "# Define the curve function and its derivative\n",
    "def f(theta):\n",
    "    return (-(theta**2) + theta) / 2\n",
    "\n",
    "\n",
    "def df(theta):\n",
    "    return 0.5 - theta\n",
    "\n",
    "\n",
    "# Points at which to draw tangents\n",
    "x_tangent_points = [0, 0.3, 0.5, 1]\n",
    "\n",
    "# Generate x values for plotting the curve\n",
    "x = np.linspace(-3, 3, 400)\n",
    "y = f(x)\n",
    "\n",
    "# Plot the curve\n",
    "plt.plot(x, y, label=\"y = x^2\")\n",
    "\n",
    "# Plot tangent lines\n",
    "for x_tan in x_tangent_points:\n",
    "    # Calculate the slope of the tangent line\n",
    "    slope = df(x_tan)\n",
    "    # Calculate the y-intercept of the tangent line\n",
    "    y_intercept = f(x_tan) - slope * x_tan\n",
    "\n",
    "    # Define the tangent line\n",
    "    tangent_line = slope * x + y_intercept\n",
    "\n",
    "    # Print debugging information\n",
    "    print(f\"x_tan: {x_tan}, slope: {slope}, y_intercept: {y_intercept}\")\n",
    "\n",
    "    # Plot the tangent line\n",
    "    plt.plot(x, tangent_line, \"--\", label=f\"Tangent at x={x_tan}\")\n",
    "\n",
    "# Customize the plot\n",
    "plt.xlabel(\"x\")\n",
    "plt.ylabel(\"y\")\n",
    "plt.legend()\n",
    "plt.title(\"Curve y = x^2 and its Tangent Lines\")\n",
    "plt.grid(True)\n",
    "\n",
    "# Ensure plot limits are appropriate\n",
    "plt.xlim([0, 1])\n",
    "plt.ylim([0, 0.6])\n",
    "\n",
    "# Show the plot\n",
    "plt.show()"
   ]
  }
 ],
 "metadata": {
  "kernelspec": {
   "display_name": ".venv",
   "language": "python",
   "name": "python3"
  },
  "language_info": {
   "codemirror_mode": {
    "name": "ipython",
    "version": 3
   },
   "file_extension": ".py",
   "mimetype": "text/x-python",
   "name": "python",
   "nbconvert_exporter": "python",
   "pygments_lexer": "ipython3",
   "version": "3.11.6"
  }
 },
 "nbformat": 4,
 "nbformat_minor": 2
}
