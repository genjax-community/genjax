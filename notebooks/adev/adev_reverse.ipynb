{
 "cells": [
  {
   "cell_type": "code",
   "execution_count": 1,
   "id": "30caba7a",
   "metadata": {},
   "outputs": [],
   "source": [
    "import jax\n",
    "from dataclasses import dataclass\n",
    "from jax import numpy as jnp\n",
    "from jax import tree_util as jtu\n",
    "import numpy as np\n",
    "import genjax\n",
    "from genjax import typing\n",
    "from genjax import adev\n",
    "\n",
    "console = genjax.pretty()\n",
    "\n",
    "key = jax.random.PRNGKey(17)"
   ]
  },
  {
   "cell_type": "code",
   "execution_count": 2,
   "id": "ec21cfdb",
   "metadata": {},
   "outputs": [],
   "source": [
    "@adev.ADEVProgram\n",
    "def flip_cond(p):\n",
    "    b = adev.sample(adev.ADEVPrimBernoulli(), (p,))\n",
    "    return jax.lax.cond(b, lambda _: 0.0, lambda p: p / 2.0, p)"
   ]
  },
  {
   "cell_type": "markdown",
   "id": "089204ec",
   "metadata": {},
   "source": [
    "Exact computation of the above expectation.\n",
    "\n",
    "$$\n",
    "E_{p \\sim B}[Prog] = (p - p^2) / 2\n",
    "$$\n",
    "\n",
    "$$\n",
    "\\nabla_p \\{...\\} = \\frac{1}{2} - p\n",
    "$$"
   ]
  },
  {
   "cell_type": "code",
   "execution_count": 3,
   "id": "22dd0f83",
   "metadata": {},
   "outputs": [
    {
     "data": {
      "text/html": [
       "<pre style=\"white-space:pre;overflow-x:auto;line-height:normal;font-family:Menlo,'DejaVu Sans Mono',consolas,'Courier New',monospace\"><span style=\"color: #800080; text-decoration-color: #800080; font-weight: bold\">Array</span><span style=\"font-weight: bold\">(</span><span style=\"color: #008080; text-decoration-color: #008080; font-weight: bold\">0.25</span>, <span style=\"color: #808000; text-decoration-color: #808000\">dtype</span>=<span style=\"color: #800080; text-decoration-color: #800080\">float32</span><span style=\"font-weight: bold\">)</span>\n",
       "</pre>\n"
      ],
      "text/plain": [
       "\u001b[1;35mArray\u001b[0m\u001b[1m(\u001b[0m\u001b[1;36m0.25\u001b[0m, \u001b[33mdtype\u001b[0m=\u001b[35mfloat32\u001b[0m\u001b[1m)\u001b[0m\n"
      ]
     },
     "metadata": {},
     "output_type": "display_data"
    }
   ],
   "source": [
    "flip_cond.sample(key, (0.5,))"
   ]
  },
  {
   "cell_type": "code",
   "execution_count": 4,
   "id": "3cf860c3",
   "metadata": {},
   "outputs": [
    {
     "data": {
      "text/html": [
       "<pre style=\"white-space:pre;overflow-x:auto;line-height:normal;font-family:Menlo,'DejaVu Sans Mono',consolas,'Courier New',monospace\"><span style=\"font-weight: bold\">(</span><span style=\"color: #800080; text-decoration-color: #800080; font-weight: bold\">Array</span><span style=\"font-weight: bold\">(</span><span style=\"color: #008080; text-decoration-color: #008080; font-weight: bold\">0.25</span>, <span style=\"color: #808000; text-decoration-color: #808000\">dtype</span>=<span style=\"color: #800080; text-decoration-color: #800080\">float32</span><span style=\"font-weight: bold\">)</span>, <span style=\"color: #800080; text-decoration-color: #800080; font-weight: bold\">Array</span><span style=\"font-weight: bold\">(</span><span style=\"color: #008080; text-decoration-color: #008080; font-weight: bold\">0</span>., <span style=\"color: #808000; text-decoration-color: #808000\">dtype</span>=<span style=\"color: #800080; text-decoration-color: #800080\">float32</span><span style=\"font-weight: bold\">))</span>\n",
       "</pre>\n"
      ],
      "text/plain": [
       "\u001b[1m(\u001b[0m\u001b[1;35mArray\u001b[0m\u001b[1m(\u001b[0m\u001b[1;36m0.25\u001b[0m, \u001b[33mdtype\u001b[0m=\u001b[35mfloat32\u001b[0m\u001b[1m)\u001b[0m, \u001b[1;35mArray\u001b[0m\u001b[1m(\u001b[0m\u001b[1;36m0\u001b[0m., \u001b[33mdtype\u001b[0m=\u001b[35mfloat32\u001b[0m\u001b[1m)\u001b[0m\u001b[1m)\u001b[0m\n"
      ]
     },
     "metadata": {},
     "output_type": "display_data"
    }
   ],
   "source": [
    "flip_cond.jvp_estimate(key, (0.5,), (1.0,))"
   ]
  },
  {
   "cell_type": "markdown",
   "id": "d5715a92",
   "metadata": {},
   "source": [
    "REINFORCE is:\n",
    "\n",
    "$$\n",
    " \\nabla_p E_{b \\sim Q(p)}[f(b, p)] = E_{b \\sim Q(p)}[\\nabla_p f(b, p)] + E_{b \\sim Q(p)}[f(b, p) * \\nabla_p \\log Q(b; p)]\n",
    "$$"
   ]
  }
 ],
 "metadata": {
  "kernelspec": {
   "display_name": "Python 3 (ipykernel)",
   "language": "python",
   "name": "python3"
  },
  "language_info": {
   "codemirror_mode": {
    "name": "ipython",
    "version": 3
   },
   "file_extension": ".py",
   "mimetype": "text/x-python",
   "name": "python",
   "nbconvert_exporter": "python",
   "pygments_lexer": "ipython3",
   "version": "3.11.4"
  }
 },
 "nbformat": 4,
 "nbformat_minor": 5
}
