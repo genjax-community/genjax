{
 "cells": [
  {
   "cell_type": "raw",
   "metadata": {},
   "source": [
    "---\n",
    "title: Serializing GenJax traces\n",
    "date: \"\"\n",
    "abstract: This notebook demonstrates how to save out traces. These tools allows users to replicate experiements, resume inference, and perform networking.\n",
    "callout-appearance: simple\n",
    "---"
   ]
  },
  {
   "cell_type": "markdown",
   "metadata": {},
   "source": [
    "Genjax supports serializing traces into a byte format. To support different disk formats, GenJax offers different backends. Here we use `msgpack_serialize` which writes traces using the `MsgPack` protocol."
   ]
  },
  {
   "cell_type": "code",
   "execution_count": null,
   "metadata": {},
   "outputs": [],
   "source": [
    "import genjax\n",
    "import jax\n",
    "import jax.numpy as jnp\n",
    "from genjax._src.core.serialization.msgpack import msgpack_serialize"
   ]
  },
  {
   "cell_type": "code",
   "execution_count": null,
   "metadata": {},
   "outputs": [],
   "source": [
    "@genjax.static_gen_fn\n",
    "def model(mu, coins):\n",
    "    x = genjax.normal(mu, 1.0) @ \"x\"\n",
    "    y = genjax.flip(jnp.sum(coins) / coins) @ \"y\"\n",
    "    return x + y\n",
    "\n",
    "\n",
    "key = jax.random.PRNGKey(314159)\n",
    "tr = model.simulate(key, (-2.1, jnp.array([1, 1, 0])))\n",
    "print(tr)"
   ]
  },
  {
   "cell_type": "markdown",
   "metadata": {},
   "source": [
    "We can now convert `tr` into a byte representation using `serialize`. Note that GenJax provides `pickle`-like functions (e.g. `dumps`) that can alternatively be called instead. "
   ]
  },
  {
   "cell_type": "code",
   "execution_count": null,
   "metadata": {},
   "outputs": [],
   "source": [
    "payload = msgpack_serialize.serialize(tr)  # or msgpack_serialize.dumps(tr)"
   ]
  },
  {
   "cell_type": "markdown",
   "metadata": {},
   "source": [
    "Deserialization is slightly different then one might be used to. In addition to passing in the bytes, the generative function is specified as well."
   ]
  },
  {
   "cell_type": "code",
   "execution_count": null,
   "metadata": {},
   "outputs": [],
   "source": [
    "retrieved_tr = msgpack_serialize.deserialize(payload, model)\n",
    "print(retrieved_tr)"
   ]
  },
  {
   "cell_type": "markdown",
   "metadata": {},
   "source": [
    "Note that serialized trace can be written to disk with the `MsgPack` backend. This means that even if the Python runtime terminates, the written trace can still be deserialized so long as the generative function induces the same trace structure. Observe that a fresh copy of `model` works just as well to deserialize the trace."
   ]
  },
  {
   "cell_type": "code",
   "execution_count": null,
   "metadata": {},
   "outputs": [],
   "source": [
    "@genjax.static_gen_fn\n",
    "def model_copy(mu, coins):\n",
    "    x = genjax.normal(mu, 1.0) @ \"x\"\n",
    "    y = genjax.flip(jnp.sum(coins) / coins) @ \"y\"\n",
    "    return x + y\n",
    "\n",
    "\n",
    "retrieved_tr = msgpack_serialize.deserialize(payload, model_copy)\n",
    "print(retrieved_tr)"
   ]
  }
 ],
 "metadata": {
  "kernelspec": {
   "display_name": "Python 3",
   "language": "python",
   "name": "python3"
  },
  "language_info": {
   "codemirror_mode": {
    "name": "ipython",
    "version": 3
   },
   "file_extension": ".py",
   "mimetype": "text/x-python",
   "name": "python",
   "nbconvert_exporter": "python",
   "pygments_lexer": "ipython3",
   "version": "3.11.8"
  }
 },
 "nbformat": 4,
 "nbformat_minor": 2
}
