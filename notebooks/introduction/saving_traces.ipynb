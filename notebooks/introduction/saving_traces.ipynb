{
 "cells": [
  {
   "cell_type": "raw",
   "metadata": {},
   "source": [
    "---\n",
    "title: Serializing GenJax traces\n",
    "date: \"\"\n",
    "abstract: This notebook demonstrates how to save out traces. These tools allows users to replicate experiements, resume inference, and perform networking.\n",
    "callout-appearance: simple\n",
    "---"
   ]
  },
  {
   "cell_type": "markdown",
   "metadata": {},
   "source": [
    "Genjax supports serializing traces into a byte format. To support different disk formats, GenJax offers different backends. Here we use `msgpack_serialize` which writes traces using the `MsgPack` protocol."
   ]
  },
  {
   "cell_type": "code",
   "execution_count": 1,
   "metadata": {},
   "outputs": [],
   "source": [
    "import genjax\n",
    "from genjax._src.core.serialization.msgpack import msgpack_serialize\n",
    "import jax\n",
    "import jax.numpy as jnp"
   ]
  },
  {
   "cell_type": "code",
   "execution_count": 2,
   "metadata": {},
   "outputs": [
    {
     "name": "stdout",
     "output_type": "stream",
     "text": [
      "StaticTrace(\n",
      "  gen_fn=StaticGenerativeFunction(source=<function model>),\n",
      "  args=(-2.1, i32[3]),\n",
      "  retval=i32[3],\n",
      "  address_choices=Trie(\n",
      "    inner={\n",
      "      'x':\n",
      "      DistributionTrace(\n",
      "        gen_fn=TFPDistribution(\n",
      "          make_distribution=<class 'tensorflow_probability.substrates.jax.distributions.normal.Normal'>\n",
      "        ),\n",
      "        args=(-2.1, 1.0),\n",
      "        value=f32[],\n",
      "        score=f32[]\n",
      "      ),\n",
      "      'y':\n",
      "      DistributionTrace(\n",
      "        gen_fn=TFPDistribution(make_distribution=<function <lambda>>),\n",
      "        args=(f32[3],),\n",
      "        value=i32[3],\n",
      "        score=f32[]\n",
      "      )\n",
      "    }\n",
      "  ),\n",
      "  cache=Trie(inner={}),\n",
      "  score=f32[]\n",
      ")\n"
     ]
    }
   ],
   "source": [
    "@genjax.static_gen_fn\n",
    "def model(mu, coins):\n",
    "    x = genjax.normal(mu, 1.0) @ \"x\"\n",
    "    y = genjax.flip(jnp.sum(coins) / coins) @ \"y\"\n",
    "    return y\n",
    "\n",
    "key = jax.random.PRNGKey(314159)\n",
    "tr = model.simulate(key, (-2.1, jnp.array([1, 1, 0])))\n",
    "print(tr)"
   ]
  },
  {
   "cell_type": "markdown",
   "metadata": {},
   "source": [
    "We can now convert `tr` into a byte representation using `serialize`. Note that GenJax provides `pickle`-like functions (e.g. `dumps`) that can alternatively be called instead. "
   ]
  },
  {
   "cell_type": "code",
   "execution_count": 3,
   "metadata": {},
   "outputs": [],
   "source": [
    "payload = msgpack_serialize.serialize(tr) # or msgpack_serialize.dumps(tr)"
   ]
  },
  {
   "cell_type": "markdown",
   "metadata": {},
   "source": [
    "Deserialization is slightly different then one might be used to. In addition to passing in the bytes, the generative function is specified as well."
   ]
  },
  {
   "cell_type": "code",
   "execution_count": 5,
   "metadata": {},
   "outputs": [
    {
     "name": "stdout",
     "output_type": "stream",
     "text": [
      "StaticTrace(\n",
      "  gen_fn=StaticGenerativeFunction(source=<function model>),\n",
      "  args=(-2.1, i32[3]),\n",
      "  retval=i32[3],\n",
      "  address_choices=Trie(\n",
      "    inner={\n",
      "      'x':\n",
      "      DistributionTrace(\n",
      "        gen_fn=TFPDistribution(\n",
      "          make_distribution=<class 'tensorflow_probability.substrates.jax.distributions.normal.Normal'>\n",
      "        ),\n",
      "        args=(-2.1, 1.0),\n",
      "        value=f32[],\n",
      "        score=f32[]\n",
      "      ),\n",
      "      'y':\n",
      "      DistributionTrace(\n",
      "        gen_fn=TFPDistribution(make_distribution=<function <lambda>>),\n",
      "        args=(f32[3],),\n",
      "        value=i32[3],\n",
      "        score=f32[]\n",
      "      )\n",
      "    }\n",
      "  ),\n",
      "  cache=Trie(inner={}),\n",
      "  score=f32[]\n",
      ")\n"
     ]
    }
   ],
   "source": [
    "retrieved_tr = msgpack_serialize.deserialize(payload, model)\n",
    "print(retrieved_tr)"
   ]
  },
  {
   "cell_type": "markdown",
   "metadata": {},
   "source": [
    "Note that serialized trace can be written to disk with the `MsgPack` backend. This means that even if the Python runtime terminates, the written trace can still be deserialized so long as the generative function induces the same trace structure. Observe that a fresh copy of `model` works just as well to deserialize the trace."
   ]
  },
  {
   "cell_type": "code",
   "execution_count": 11,
   "metadata": {},
   "outputs": [
    {
     "name": "stdout",
     "output_type": "stream",
     "text": [
      "StaticTrace(\n",
      "  gen_fn=StaticGenerativeFunction(source=<function model_copy>),\n",
      "  args=(-2.1, i32[3]),\n",
      "  retval=i32[3],\n",
      "  address_choices=Trie(\n",
      "    inner={\n",
      "      'x':\n",
      "      DistributionTrace(\n",
      "        gen_fn=TFPDistribution(\n",
      "          make_distribution=<class 'tensorflow_probability.substrates.jax.distributions.normal.Normal'>\n",
      "        ),\n",
      "        args=(-2.1, 1.0),\n",
      "        value=f32[],\n",
      "        score=f32[]\n",
      "      ),\n",
      "      'y':\n",
      "      DistributionTrace(\n",
      "        gen_fn=TFPDistribution(make_distribution=<function <lambda>>),\n",
      "        args=(f32[3],),\n",
      "        value=i32[3],\n",
      "        score=f32[]\n",
      "      )\n",
      "    }\n",
      "  ),\n",
      "  cache=Trie(inner={}),\n",
      "  score=f32[]\n",
      ")\n"
     ]
    }
   ],
   "source": [
    "@genjax.static_gen_fn\n",
    "def model_copy(mu, coins):\n",
    "    x = genjax.normal(mu, 1.0) @ \"x\"\n",
    "    y = genjax.flip(jnp.sum(coins) / coins) @ \"y\"\n",
    "    return y\n",
    "\n",
    "retrieved_tr = msgpack_serialize.deserialize(payload, model_copy)\n",
    "print(retrieved_tr)"
   ]
  }
 ],
 "metadata": {
  "kernelspec": {
   "display_name": "Python 3",
   "language": "python",
   "name": "python3"
  },
  "language_info": {
   "codemirror_mode": {
    "name": "ipython",
    "version": 3
   },
   "file_extension": ".py",
   "mimetype": "text/x-python",
   "name": "python",
   "nbconvert_exporter": "python",
   "pygments_lexer": "ipython3",
   "version": "3.11.8"
  }
 },
 "nbformat": 4,
 "nbformat_minor": 2
}
