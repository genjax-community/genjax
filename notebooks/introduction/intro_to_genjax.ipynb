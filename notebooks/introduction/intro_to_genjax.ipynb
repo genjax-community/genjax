{
 "cells": [
  {
   "cell_type": "markdown",
   "id": "7bd23e9c-d6ed-4085-8a33-4fb2e0f8f136",
   "metadata": {},
   "source": [
    "# Introduction to Gen and GenJAX"
   ]
  },
  {
   "cell_type": "markdown",
   "id": "39734bb5-ad76-4b82-892c-80c1937d3e57",
   "metadata": {},
   "source": [
    "The purpose of this notebook to give the listener/reader an accelerated introduction to several concepts native to Gen and GenJAX (an implementation of Gen on top of JAX). It mostly assumes as a pre-requisite some familiarity with trace-based probabilistic programming systems, and Monte Carlo inference - especially importance sampling and MCMC methods."
   ]
  },
  {
   "cell_type": "code",
   "execution_count": 1,
   "id": "f62ea0d6-22d6-4a93-8951-7ed7bd91297b",
   "metadata": {},
   "outputs": [],
   "source": [
    "import jax\n",
    "import jax.numpy as jnp\n",
    "import jax.tree_util as jtu\n",
    "import numpy as np\n",
    "import genjax\n",
    "from genjax import GenerativeFunction, ChoiceMap, Selection\n",
    "\n",
    "# Pretty printing.\n",
    "console = genjax.go_pretty()\n",
    "\n",
    "# Reproducibility.\n",
    "key = jax.random.PRNGKey(314159)"
   ]
  },
  {
   "cell_type": "markdown",
   "id": "d9f72209-dddd-45fe-a1f5-81d55c0530ac",
   "metadata": {},
   "source": [
    "## What is GenJAX?\n",
    "\n",
    "### Short pitch\n",
    "\n",
    "GenJAX is:\n",
    "* A probabilistic programming system based on the concepts of [Gen](https://www.gen.dev/)\n",
    "* A model + inference compiler with support for device acceleration (courtesy of JAX)\n",
    "* A base layer for experiments in model + inference DSL design.\n",
    "\n",
    "By virtue of a few key design decisions, and JAX's excellent foundation - it natively supports several common accelerator idioms - like automatic `struct of array` representations, and the ability to automatically batch model/inference programs onto accelerators. It does this - while supporting the convenience of Gen's interfaces - allowing modular construction of complicated generative programs from smaller pieces.\n",
    "\n",
    "<u>By construction, all GenJAX modeling + inference code is JAX jittable</u> - and thus, `vmap`able, etc."
   ]
  },
  {
   "cell_type": "markdown",
   "id": "3b6cc347-c669-4c55-9818-33083a38725b",
   "metadata": {},
   "source": [
    "## What's a generative function?"
   ]
  },
  {
   "cell_type": "markdown",
   "id": "8315530d-5be7-45c3-9b84-64f22980d667",
   "metadata": {},
   "source": [
    "*Generative functions* are the key concept of Gen's probabilistic programming paradigm. Generative functions are computational objects defined by a set of associated data types and methods. These types and methods describe compositional interfaces useful for inference computations. \n",
    "\n",
    "Gen's formal description of generative functions consist of two objects:\n",
    "* $P(\\tau, r; x)$ - a measure over dictionary-like data (*choice maps*) and untraced randomness $r$, parametrized by arguments $x$.\n",
    "* $f(\\tau; x)$ - a deterministic function from the above measure's target space to a space of data types.\n",
    "\n",
    "We often think about sampling choice maps from $P$, computing the return value from the generative function call using $f$ - we record both in `Trace` objects - data structures which contain the recordings of these values, along with probabilistic metadata like the score of random choices selected along the way.\n",
    "\n",
    "Here's an example of a GenJAX generative function using a function-like language - notice the composition under a function call abstraction (`genjax.trace`)."
   ]
  },
  {
   "cell_type": "code",
   "execution_count": 2,
   "id": "ebfac5fa-39da-4f60-9b5b-0454cd50da7d",
   "metadata": {},
   "outputs": [
    {
     "data": {
      "text/html": [
       "<pre style=\"white-space:pre;overflow-x:auto;line-height:normal;font-family:Menlo,'DejaVu Sans Mono',consolas,'Courier New',monospace\">\n",
       "</pre>\n"
      ],
      "text/plain": [
       "\n"
      ]
     },
     "metadata": {},
     "output_type": "display_data"
    },
    {
     "data": {
      "text/html": [
       "<pre style=\"white-space:pre;overflow-x:auto;line-height:normal;font-family:Menlo,'DejaVu Sans Mono',consolas,'Courier New',monospace\">\n",
       "<span style=\"font-weight: bold\">BuiltinGenerativeFunction</span>\n",
       "└── <span style=\"color: #000080; text-decoration-color: #000080\">source</span>\n",
       "    └── &lt;function h&gt;\n",
       "</pre>\n"
      ],
      "text/plain": [
       "\n",
       "\u001b[1mBuiltinGenerativeFunction\u001b[0m\n",
       "└── \u001b[34msource\u001b[0m\n",
       "    └── <function h>\n"
      ]
     },
     "metadata": {},
     "output_type": "display_data"
    }
   ],
   "source": [
    "@genjax.gen\n",
    "def g(key, x):\n",
    "    key, m1 = genjax.trace(\"m0\", genjax.Bernoulli)(key, (x,))\n",
    "    return (key, m1)\n",
    "\n",
    "\n",
    "@genjax.gen\n",
    "def h(key, x):\n",
    "    key, m1 = genjax.trace(\"m0\", g)(key, (x,))\n",
    "    return (key, m1)\n",
    "\n",
    "\n",
    "h"
   ]
  },
  {
   "cell_type": "markdown",
   "id": "7f73438a-9e9d-40ea-b193-829dab36cd6a",
   "metadata": {},
   "source": [
    "This is a `Callable` object -- operations (see the list under **Generative function interface** below) which are useful for modeling and inference are given semantics via program transformations."
   ]
  },
  {
   "cell_type": "code",
   "execution_count": 3,
   "id": "8278e990-e168-4bf1-9dfc-13e8c33d3745",
   "metadata": {},
   "outputs": [
    {
     "data": {
      "text/html": [
       "<pre style=\"white-space:pre;overflow-x:auto;line-height:normal;font-family:Menlo,'DejaVu Sans Mono',consolas,'Courier New',monospace\">\n",
       "</pre>\n"
      ],
      "text/plain": [
       "\n"
      ]
     },
     "metadata": {},
     "output_type": "display_data"
    },
    {
     "data": {
      "text/html": [
       "<pre style=\"white-space:pre;overflow-x:auto;line-height:normal;font-family:Menlo,'DejaVu Sans Mono',consolas,'Courier New',monospace\">\n",
       "<span style=\"font-weight: bold\">BuiltinTrace</span>\n",
       "├── <span style=\"color: #000080; text-decoration-color: #000080\">gen_fn</span>\n",
       "│   └── <span style=\"font-weight: bold\">BuiltinGenerativeFunction</span>\n",
       "│       └── <span style=\"color: #000080; text-decoration-color: #000080\">source</span>\n",
       "│           └── &lt;function h&gt;\n",
       "├── <span style=\"color: #000080; text-decoration-color: #000080\">args</span>\n",
       "│   └── (0.3,)\n",
       "├── <span style=\"color: #000080; text-decoration-color: #000080\">retval</span>\n",
       "│   └── bool[]\n",
       "├── <span style=\"color: #000080; text-decoration-color: #000080\">choices</span>\n",
       "│   └── <span style=\"font-weight: bold\">BuiltinChoiceMap</span>\n",
       "│       └── <span style=\"color: #008000; text-decoration-color: #008000; font-weight: bold\">m0</span>\n",
       "│           └── <span style=\"font-weight: bold\">BuiltinTrace</span>\n",
       "│               ├── <span style=\"color: #000080; text-decoration-color: #000080\">gen_fn</span>\n",
       "│               │   └── <span style=\"font-weight: bold\">BuiltinGenerativeFunction</span>\n",
       "│               │       └── <span style=\"color: #000080; text-decoration-color: #000080\">source</span>\n",
       "│               │           └── &lt;function g&gt;\n",
       "│               ├── <span style=\"color: #000080; text-decoration-color: #000080\">args</span>\n",
       "│               │   └── (0.3,)\n",
       "│               ├── <span style=\"color: #000080; text-decoration-color: #000080\">retval</span>\n",
       "│               │   └── bool[]\n",
       "│               ├── <span style=\"color: #000080; text-decoration-color: #000080\">choices</span>\n",
       "│               │   └── <span style=\"font-weight: bold\">BuiltinChoiceMap</span>\n",
       "│               │       └── <span style=\"color: #008000; text-decoration-color: #008000; font-weight: bold\">m0</span>\n",
       "│               │           └── <span style=\"font-weight: bold\">DistributionTrace</span>\n",
       "│               │               ├── <span style=\"color: #000080; text-decoration-color: #000080\">gen_fn</span>\n",
       "│               │               │   └── <span style=\"font-weight: bold\">_Bernoulli</span>\n",
       "│               │               ├── <span style=\"color: #000080; text-decoration-color: #000080\">args</span>\n",
       "│               │               │   └── (0.3,)\n",
       "│               │               ├── <span style=\"color: #000080; text-decoration-color: #000080\">value</span>\n",
       "│               │               │   └── <span style=\"font-weight: bold\">ValueChoiceMap</span>\n",
       "│               │               │       └── bool[]\n",
       "│               │               └── <span style=\"color: #000080; text-decoration-color: #000080\">score</span>\n",
       "│               │                   └── f32[]\n",
       "│               └── <span style=\"color: #000080; text-decoration-color: #000080\">score</span>\n",
       "│                   └── f32[]\n",
       "└── <span style=\"color: #000080; text-decoration-color: #000080\">score</span>\n",
       "    └── f32[]\n",
       "</pre>\n"
      ],
      "text/plain": [
       "\n",
       "\u001b[1mBuiltinTrace\u001b[0m\n",
       "├── \u001b[34mgen_fn\u001b[0m\n",
       "│   └── \u001b[1mBuiltinGenerativeFunction\u001b[0m\n",
       "│       └── \u001b[34msource\u001b[0m\n",
       "│           └── <function h>\n",
       "├── \u001b[34margs\u001b[0m\n",
       "│   └── (0.3,)\n",
       "├── \u001b[34mretval\u001b[0m\n",
       "│   └── bool[]\n",
       "├── \u001b[34mchoices\u001b[0m\n",
       "│   └── \u001b[1mBuiltinChoiceMap\u001b[0m\n",
       "│       └── \u001b[1;32mm0\u001b[0m\n",
       "│           └── \u001b[1mBuiltinTrace\u001b[0m\n",
       "│               ├── \u001b[34mgen_fn\u001b[0m\n",
       "│               │   └── \u001b[1mBuiltinGenerativeFunction\u001b[0m\n",
       "│               │       └── \u001b[34msource\u001b[0m\n",
       "│               │           └── <function g>\n",
       "│               ├── \u001b[34margs\u001b[0m\n",
       "│               │   └── (0.3,)\n",
       "│               ├── \u001b[34mretval\u001b[0m\n",
       "│               │   └── bool[]\n",
       "│               ├── \u001b[34mchoices\u001b[0m\n",
       "│               │   └── \u001b[1mBuiltinChoiceMap\u001b[0m\n",
       "│               │       └── \u001b[1;32mm0\u001b[0m\n",
       "│               │           └── \u001b[1mDistributionTrace\u001b[0m\n",
       "│               │               ├── \u001b[34mgen_fn\u001b[0m\n",
       "│               │               │   └── \u001b[1m_Bernoulli\u001b[0m\n",
       "│               │               ├── \u001b[34margs\u001b[0m\n",
       "│               │               │   └── (0.3,)\n",
       "│               │               ├── \u001b[34mvalue\u001b[0m\n",
       "│               │               │   └── \u001b[1mValueChoiceMap\u001b[0m\n",
       "│               │               │       └── bool[]\n",
       "│               │               └── \u001b[34mscore\u001b[0m\n",
       "│               │                   └── f32[]\n",
       "│               └── \u001b[34mscore\u001b[0m\n",
       "│                   └── f32[]\n",
       "└── \u001b[34mscore\u001b[0m\n",
       "    └── f32[]\n"
      ]
     },
     "metadata": {},
     "output_type": "display_data"
    }
   ],
   "source": [
    "key, tr = genjax.simulate(h)(key, (0.3,))\n",
    "tr"
   ]
  },
  {
   "cell_type": "markdown",
   "id": "9df36a11-ead4-4cb1-a632-d71cf3f4fb6a",
   "metadata": {},
   "source": [
    "If you're familiar with other \"trace-based\" probabilistic systems - this should look familiar. It's a piece of data which has captured information about the execution of the function - specifically, the choices of traced random calls, include the `score` - a log probability from the normalized measure which the model program represents."
   ]
  },
  {
   "cell_type": "markdown",
   "id": "2eb5168c-080d-4111-83c6-b557c625e83c",
   "metadata": {},
   "source": [
    "`simulate` is a code transformation! Here's the transformed code."
   ]
  },
  {
   "cell_type": "code",
   "execution_count": 4,
   "id": "6a323c57-f69d-4e91-b72a-3d1a6bf8cf57",
   "metadata": {},
   "outputs": [
    {
     "data": {
      "text/html": [
       "<pre style=\"white-space:pre;overflow-x:auto;line-height:normal;font-family:Menlo,'DejaVu Sans Mono',consolas,'Courier New',monospace\">\n",
       "<span style=\"font-weight: bold\">{</span> <span style=\"color: #000080; text-decoration-color: #000080; font-weight: bold\">lambda </span><span style=\"color: #000000; text-decoration-color: #000000\">; a</span><span style=\"color: #800080; text-decoration-color: #800080\">:u32</span><span style=\"color: #800080; text-decoration-color: #800080; font-weight: bold\">[</span><span style=\"color: #008080; text-decoration-color: #008080; font-weight: bold\">2</span><span style=\"color: #800080; text-decoration-color: #800080; font-weight: bold\">]</span><span style=\"color: #000000; text-decoration-color: #000000\"> </span><span style=\"color: #00ff00; text-decoration-color: #00ff00; font-weight: bold\">b:f32</span><span style=\"color: #800080; text-decoration-color: #800080; font-weight: bold\">[]</span><span style=\"color: #000000; text-decoration-color: #000000\">. </span><span style=\"color: #000080; text-decoration-color: #000080; font-weight: bold\">let</span>\n",
       "<span style=\"color: #000080; text-decoration-color: #000080; font-weight: bold\">    </span><span style=\"color: #000000; text-decoration-color: #000000\">c</span><span style=\"color: #800080; text-decoration-color: #800080\">:key</span><span style=\"color: #800080; text-decoration-color: #800080; font-weight: bold\">&lt;</span><span style=\"color: #ff00ff; text-decoration-color: #ff00ff; font-weight: bold\">fry</span><span style=\"color: #800080; text-decoration-color: #800080; font-weight: bold\">&gt;[]</span><span style=\"color: #000000; text-decoration-color: #000000\"> = random_wrap</span><span style=\"color: #000000; text-decoration-color: #000000; font-weight: bold\">[</span><span style=\"color: #808000; text-decoration-color: #808000\">impl</span><span style=\"color: #000000; text-decoration-color: #000000\">=</span><span style=\"color: #800080; text-decoration-color: #800080\">fry</span><span style=\"color: #000000; text-decoration-color: #000000; font-weight: bold\">]</span><span style=\"color: #000000; text-decoration-color: #000000\"> a</span>\n",
       "<span style=\"color: #000000; text-decoration-color: #000000\">    d</span><span style=\"color: #800080; text-decoration-color: #800080\">:key</span><span style=\"color: #800080; text-decoration-color: #800080; font-weight: bold\">&lt;</span><span style=\"color: #ff00ff; text-decoration-color: #ff00ff; font-weight: bold\">fry</span><span style=\"color: #800080; text-decoration-color: #800080; font-weight: bold\">&gt;[</span><span style=\"color: #008080; text-decoration-color: #008080; font-weight: bold\">2</span><span style=\"color: #800080; text-decoration-color: #800080; font-weight: bold\">]</span><span style=\"color: #000000; text-decoration-color: #000000\"> = random_split</span><span style=\"color: #000000; text-decoration-color: #000000; font-weight: bold\">[</span><span style=\"color: #808000; text-decoration-color: #808000\">count</span><span style=\"color: #000000; text-decoration-color: #000000\">=</span><span style=\"color: #008080; text-decoration-color: #008080; font-weight: bold\">2</span><span style=\"color: #000000; text-decoration-color: #000000; font-weight: bold\">]</span><span style=\"color: #000000; text-decoration-color: #000000\"> c</span>\n",
       "<span style=\"color: #000000; text-decoration-color: #000000\">    e</span><span style=\"color: #800080; text-decoration-color: #800080\">:u32</span><span style=\"color: #800080; text-decoration-color: #800080; font-weight: bold\">[</span><span style=\"color: #008080; text-decoration-color: #008080; font-weight: bold\">2</span><span style=\"color: #800080; text-decoration-color: #800080\">,</span><span style=\"color: #008080; text-decoration-color: #008080; font-weight: bold\">2</span><span style=\"color: #800080; text-decoration-color: #800080; font-weight: bold\">]</span><span style=\"color: #000000; text-decoration-color: #000000\"> = random_unwrap d</span>\n",
       "<span style=\"color: #000000; text-decoration-color: #000000\">    f</span><span style=\"color: #800080; text-decoration-color: #800080\">:u32</span><span style=\"color: #800080; text-decoration-color: #800080; font-weight: bold\">[</span><span style=\"color: #008080; text-decoration-color: #008080; font-weight: bold\">1</span><span style=\"color: #800080; text-decoration-color: #800080\">,</span><span style=\"color: #008080; text-decoration-color: #008080; font-weight: bold\">2</span><span style=\"color: #800080; text-decoration-color: #800080; font-weight: bold\">]</span><span style=\"color: #000000; text-decoration-color: #000000\"> = slice</span><span style=\"color: #000000; text-decoration-color: #000000; font-weight: bold\">[</span><span style=\"color: #808000; text-decoration-color: #808000\">limit_indices</span><span style=\"color: #000000; text-decoration-color: #000000\">=</span><span style=\"color: #000000; text-decoration-color: #000000; font-weight: bold\">(</span><span style=\"color: #008080; text-decoration-color: #008080; font-weight: bold\">1</span><span style=\"color: #000000; text-decoration-color: #000000\">, </span><span style=\"color: #008080; text-decoration-color: #008080; font-weight: bold\">2</span><span style=\"color: #000000; text-decoration-color: #000000; font-weight: bold\">)</span><span style=\"color: #000000; text-decoration-color: #000000\"> </span><span style=\"color: #808000; text-decoration-color: #808000\">start_indices</span><span style=\"color: #000000; text-decoration-color: #000000\">=</span><span style=\"color: #000000; text-decoration-color: #000000; font-weight: bold\">(</span><span style=\"color: #008080; text-decoration-color: #008080; font-weight: bold\">0</span><span style=\"color: #000000; text-decoration-color: #000000\">, </span><span style=\"color: #008080; text-decoration-color: #008080; font-weight: bold\">0</span><span style=\"color: #000000; text-decoration-color: #000000; font-weight: bold\">)</span><span style=\"color: #000000; text-decoration-color: #000000\"> </span><span style=\"color: #808000; text-decoration-color: #808000\">strides</span><span style=\"color: #000000; text-decoration-color: #000000\">=</span><span style=\"color: #000000; text-decoration-color: #000000; font-weight: bold\">(</span><span style=\"color: #008080; text-decoration-color: #008080; font-weight: bold\">1</span><span style=\"color: #000000; text-decoration-color: #000000\">, </span><span style=\"color: #008080; text-decoration-color: #008080; font-weight: bold\">1</span><span style=\"color: #000000; text-decoration-color: #000000; font-weight: bold\">)]</span><span style=\"color: #000000; text-decoration-color: #000000\"> e</span>\n",
       "<span style=\"color: #000000; text-decoration-color: #000000\">    g</span><span style=\"color: #800080; text-decoration-color: #800080\">:u32</span><span style=\"color: #800080; text-decoration-color: #800080; font-weight: bold\">[</span><span style=\"color: #008080; text-decoration-color: #008080; font-weight: bold\">2</span><span style=\"color: #800080; text-decoration-color: #800080; font-weight: bold\">]</span><span style=\"color: #000000; text-decoration-color: #000000\"> = squeeze</span><span style=\"color: #000000; text-decoration-color: #000000; font-weight: bold\">[</span><span style=\"color: #808000; text-decoration-color: #808000\">dimensions</span><span style=\"color: #000000; text-decoration-color: #000000\">=</span><span style=\"color: #000000; text-decoration-color: #000000; font-weight: bold\">(</span><span style=\"color: #008080; text-decoration-color: #008080; font-weight: bold\">0</span><span style=\"color: #000000; text-decoration-color: #000000\">,</span><span style=\"color: #000000; text-decoration-color: #000000; font-weight: bold\">)]</span><span style=\"color: #000000; text-decoration-color: #000000\"> f</span>\n",
       "<span style=\"color: #000000; text-decoration-color: #000000\">    h</span><span style=\"color: #800080; text-decoration-color: #800080\">:u32</span><span style=\"color: #800080; text-decoration-color: #800080; font-weight: bold\">[</span><span style=\"color: #008080; text-decoration-color: #008080; font-weight: bold\">1</span><span style=\"color: #800080; text-decoration-color: #800080\">,</span><span style=\"color: #008080; text-decoration-color: #008080; font-weight: bold\">2</span><span style=\"color: #800080; text-decoration-color: #800080; font-weight: bold\">]</span><span style=\"color: #000000; text-decoration-color: #000000\"> = slice</span><span style=\"color: #000000; text-decoration-color: #000000; font-weight: bold\">[</span><span style=\"color: #808000; text-decoration-color: #808000\">limit_indices</span><span style=\"color: #000000; text-decoration-color: #000000\">=</span><span style=\"color: #000000; text-decoration-color: #000000; font-weight: bold\">(</span><span style=\"color: #008080; text-decoration-color: #008080; font-weight: bold\">2</span><span style=\"color: #000000; text-decoration-color: #000000\">, </span><span style=\"color: #008080; text-decoration-color: #008080; font-weight: bold\">2</span><span style=\"color: #000000; text-decoration-color: #000000; font-weight: bold\">)</span><span style=\"color: #000000; text-decoration-color: #000000\"> </span><span style=\"color: #808000; text-decoration-color: #808000\">start_indices</span><span style=\"color: #000000; text-decoration-color: #000000\">=</span><span style=\"color: #000000; text-decoration-color: #000000; font-weight: bold\">(</span><span style=\"color: #008080; text-decoration-color: #008080; font-weight: bold\">1</span><span style=\"color: #000000; text-decoration-color: #000000\">, </span><span style=\"color: #008080; text-decoration-color: #008080; font-weight: bold\">0</span><span style=\"color: #000000; text-decoration-color: #000000; font-weight: bold\">)</span><span style=\"color: #000000; text-decoration-color: #000000\"> </span><span style=\"color: #808000; text-decoration-color: #808000\">strides</span><span style=\"color: #000000; text-decoration-color: #000000\">=</span><span style=\"color: #000000; text-decoration-color: #000000; font-weight: bold\">(</span><span style=\"color: #008080; text-decoration-color: #008080; font-weight: bold\">1</span><span style=\"color: #000000; text-decoration-color: #000000\">, </span><span style=\"color: #008080; text-decoration-color: #008080; font-weight: bold\">1</span><span style=\"color: #000000; text-decoration-color: #000000; font-weight: bold\">)]</span><span style=\"color: #000000; text-decoration-color: #000000\"> e</span>\n",
       "<span style=\"color: #000000; text-decoration-color: #000000\">    i</span><span style=\"color: #800080; text-decoration-color: #800080\">:u32</span><span style=\"color: #800080; text-decoration-color: #800080; font-weight: bold\">[</span><span style=\"color: #008080; text-decoration-color: #008080; font-weight: bold\">2</span><span style=\"color: #800080; text-decoration-color: #800080; font-weight: bold\">]</span><span style=\"color: #000000; text-decoration-color: #000000\"> = squeeze</span><span style=\"color: #000000; text-decoration-color: #000000; font-weight: bold\">[</span><span style=\"color: #808000; text-decoration-color: #808000\">dimensions</span><span style=\"color: #000000; text-decoration-color: #000000\">=</span><span style=\"color: #000000; text-decoration-color: #000000; font-weight: bold\">(</span><span style=\"color: #008080; text-decoration-color: #008080; font-weight: bold\">0</span><span style=\"color: #000000; text-decoration-color: #000000\">,</span><span style=\"color: #000000; text-decoration-color: #000000; font-weight: bold\">)]</span><span style=\"color: #000000; text-decoration-color: #000000\"> h</span>\n",
       "<span style=\"color: #000000; text-decoration-color: #000000\">    j</span><span style=\"color: #800080; text-decoration-color: #800080\">:key</span><span style=\"color: #800080; text-decoration-color: #800080; font-weight: bold\">&lt;</span><span style=\"color: #ff00ff; text-decoration-color: #ff00ff; font-weight: bold\">fry</span><span style=\"color: #800080; text-decoration-color: #800080; font-weight: bold\">&gt;[]</span><span style=\"color: #000000; text-decoration-color: #000000\"> = random_wrap</span><span style=\"color: #000000; text-decoration-color: #000000; font-weight: bold\">[</span><span style=\"color: #808000; text-decoration-color: #808000\">impl</span><span style=\"color: #000000; text-decoration-color: #000000\">=</span><span style=\"color: #800080; text-decoration-color: #800080\">fry</span><span style=\"color: #000000; text-decoration-color: #000000; font-weight: bold\">]</span><span style=\"color: #000000; text-decoration-color: #000000\"> i</span>\n",
       "<span style=\"color: #000000; text-decoration-color: #000000\">    k</span><span style=\"color: #800080; text-decoration-color: #800080\">:f32</span><span style=\"color: #800080; text-decoration-color: #800080; font-weight: bold\">[]</span><span style=\"color: #000000; text-decoration-color: #000000\"> = convert_element_type</span><span style=\"color: #000000; text-decoration-color: #000000; font-weight: bold\">[</span><span style=\"color: #808000; text-decoration-color: #808000\">new_dtype</span><span style=\"color: #000000; text-decoration-color: #000000\">=</span><span style=\"color: #800080; text-decoration-color: #800080\">float32</span><span style=\"color: #000000; text-decoration-color: #000000\"> </span><span style=\"color: #808000; text-decoration-color: #808000\">weak_type</span><span style=\"color: #000000; text-decoration-color: #000000\">=</span><span style=\"color: #ff0000; text-decoration-color: #ff0000; font-style: italic\">False</span><span style=\"color: #000000; text-decoration-color: #000000; font-weight: bold\">]</span><span style=\"color: #000000; text-decoration-color: #000000\"> b</span>\n",
       "<span style=\"color: #000000; text-decoration-color: #000000\">    l</span><span style=\"color: #800080; text-decoration-color: #800080\">:u32</span><span style=\"color: #800080; text-decoration-color: #800080; font-weight: bold\">[]</span><span style=\"color: #000000; text-decoration-color: #000000\"> = random_bits</span><span style=\"color: #000000; text-decoration-color: #000000; font-weight: bold\">[</span><span style=\"color: #808000; text-decoration-color: #808000\">bit_width</span><span style=\"color: #000000; text-decoration-color: #000000\">=</span><span style=\"color: #008080; text-decoration-color: #008080; font-weight: bold\">32</span><span style=\"color: #000000; text-decoration-color: #000000\"> </span><span style=\"color: #808000; text-decoration-color: #808000\">shape</span><span style=\"color: #000000; text-decoration-color: #000000\">=</span><span style=\"color: #000000; text-decoration-color: #000000; font-weight: bold\">()]</span><span style=\"color: #000000; text-decoration-color: #000000\"> j</span>\n",
       "<span style=\"color: #000000; text-decoration-color: #000000\">    m</span><span style=\"color: #800080; text-decoration-color: #800080\">:u32</span><span style=\"color: #800080; text-decoration-color: #800080; font-weight: bold\">[]</span><span style=\"color: #000000; text-decoration-color: #000000\"> = shift_right_logical l </span><span style=\"color: #008080; text-decoration-color: #008080; font-weight: bold\">9</span>\n",
       "<span style=\"color: #000000; text-decoration-color: #000000\">    n</span><span style=\"color: #800080; text-decoration-color: #800080\">:u32</span><span style=\"color: #800080; text-decoration-color: #800080; font-weight: bold\">[]</span><span style=\"color: #000000; text-decoration-color: #000000\"> = or m </span><span style=\"color: #008080; text-decoration-color: #008080; font-weight: bold\">1065353216</span>\n",
       "<span style=\"color: #000000; text-decoration-color: #000000\">    o</span><span style=\"color: #800080; text-decoration-color: #800080\">:f32</span><span style=\"color: #800080; text-decoration-color: #800080; font-weight: bold\">[]</span><span style=\"color: #000000; text-decoration-color: #000000\"> = bitcast_convert_type</span><span style=\"color: #000000; text-decoration-color: #000000; font-weight: bold\">[</span><span style=\"color: #808000; text-decoration-color: #808000\">new_dtype</span><span style=\"color: #000000; text-decoration-color: #000000\">=</span><span style=\"color: #800080; text-decoration-color: #800080\">float32</span><span style=\"color: #000000; text-decoration-color: #000000; font-weight: bold\">]</span><span style=\"color: #000000; text-decoration-color: #000000\"> n</span>\n",
       "<span style=\"color: #000000; text-decoration-color: #000000\">    p</span><span style=\"color: #800080; text-decoration-color: #800080\">:f32</span><span style=\"color: #800080; text-decoration-color: #800080; font-weight: bold\">[]</span><span style=\"color: #000000; text-decoration-color: #000000\"> = sub o </span><span style=\"color: #008080; text-decoration-color: #008080; font-weight: bold\">1.0</span>\n",
       "<span style=\"color: #000000; text-decoration-color: #000000\">    q</span><span style=\"color: #800080; text-decoration-color: #800080\">:f32</span><span style=\"color: #800080; text-decoration-color: #800080; font-weight: bold\">[]</span><span style=\"color: #000000; text-decoration-color: #000000\"> = sub </span><span style=\"color: #008080; text-decoration-color: #008080; font-weight: bold\">1.0</span><span style=\"color: #000000; text-decoration-color: #000000\"> </span><span style=\"color: #008080; text-decoration-color: #008080; font-weight: bold\">0.0</span>\n",
       "<span style=\"color: #000000; text-decoration-color: #000000\">    r</span><span style=\"color: #800080; text-decoration-color: #800080\">:f32</span><span style=\"color: #800080; text-decoration-color: #800080; font-weight: bold\">[]</span><span style=\"color: #000000; text-decoration-color: #000000\"> = mul p q</span>\n",
       "<span style=\"color: #000000; text-decoration-color: #000000\">    s</span><span style=\"color: #800080; text-decoration-color: #800080\">:f32</span><span style=\"color: #800080; text-decoration-color: #800080; font-weight: bold\">[]</span><span style=\"color: #000000; text-decoration-color: #000000\"> = add r </span><span style=\"color: #008080; text-decoration-color: #008080; font-weight: bold\">0.0</span>\n",
       "<span style=\"color: #000000; text-decoration-color: #000000\">    t</span><span style=\"color: #800080; text-decoration-color: #800080\">:f32</span><span style=\"color: #800080; text-decoration-color: #800080; font-weight: bold\">[]</span><span style=\"color: #000000; text-decoration-color: #000000\"> = reshape</span><span style=\"color: #000000; text-decoration-color: #000000; font-weight: bold\">[</span><span style=\"color: #808000; text-decoration-color: #808000\">dimensions</span><span style=\"color: #000000; text-decoration-color: #000000\">=</span><span style=\"color: #800080; text-decoration-color: #800080; font-style: italic\">None</span><span style=\"color: #000000; text-decoration-color: #000000\"> </span><span style=\"color: #808000; text-decoration-color: #808000\">new_sizes</span><span style=\"color: #000000; text-decoration-color: #000000\">=</span><span style=\"color: #000000; text-decoration-color: #000000; font-weight: bold\">()]</span><span style=\"color: #000000; text-decoration-color: #000000\"> s</span>\n",
       "<span style=\"color: #000000; text-decoration-color: #000000\">    u</span><span style=\"color: #800080; text-decoration-color: #800080\">:f32</span><span style=\"color: #800080; text-decoration-color: #800080; font-weight: bold\">[]</span><span style=\"color: #000000; text-decoration-color: #000000\"> = max </span><span style=\"color: #008080; text-decoration-color: #008080; font-weight: bold\">0.0</span><span style=\"color: #000000; text-decoration-color: #000000\"> t</span>\n",
       "<span style=\"color: #000000; text-decoration-color: #000000\">    v</span><span style=\"color: #800080; text-decoration-color: #800080\">:bool</span><span style=\"color: #800080; text-decoration-color: #800080; font-weight: bold\">[]</span><span style=\"color: #000000; text-decoration-color: #000000\"> = lt u k</span>\n",
       "<span style=\"color: #000000; text-decoration-color: #000000\">    w</span><span style=\"color: #800080; text-decoration-color: #800080\">:f32</span><span style=\"color: #800080; text-decoration-color: #800080; font-weight: bold\">[]</span><span style=\"color: #000000; text-decoration-color: #000000\"> = convert_element_type</span><span style=\"color: #000000; text-decoration-color: #000000; font-weight: bold\">[</span><span style=\"color: #808000; text-decoration-color: #808000\">new_dtype</span><span style=\"color: #000000; text-decoration-color: #000000\">=</span><span style=\"color: #800080; text-decoration-color: #800080\">float32</span><span style=\"color: #000000; text-decoration-color: #000000\"> </span><span style=\"color: #808000; text-decoration-color: #808000\">weak_type</span><span style=\"color: #000000; text-decoration-color: #000000\">=</span><span style=\"color: #00ff00; text-decoration-color: #00ff00; font-style: italic\">True</span><span style=\"color: #000000; text-decoration-color: #000000; font-weight: bold\">]</span><span style=\"color: #000000; text-decoration-color: #000000\"> v</span>\n",
       "<span style=\"color: #000000; text-decoration-color: #000000\">    x</span><span style=\"color: #800080; text-decoration-color: #800080\">:f32</span><span style=\"color: #800080; text-decoration-color: #800080; font-weight: bold\">[]</span><span style=\"color: #000000; text-decoration-color: #000000\"> = sub w </span><span style=\"color: #008080; text-decoration-color: #008080; font-weight: bold\">0.0</span>\n",
       "<span style=\"color: #000000; text-decoration-color: #000000\">    y</span><span style=\"color: #800080; text-decoration-color: #800080\">:bool</span><span style=\"color: #800080; text-decoration-color: #800080; font-weight: bold\">[]</span><span style=\"color: #000000; text-decoration-color: #000000\"> = ne x </span><span style=\"color: #008080; text-decoration-color: #008080; font-weight: bold\">0.0</span>\n",
       "<span style=\"color: #000000; text-decoration-color: #000000\">    z</span><span style=\"color: #800080; text-decoration-color: #800080\">:f32</span><span style=\"color: #800080; text-decoration-color: #800080; font-weight: bold\">[]</span><span style=\"color: #000000; text-decoration-color: #000000\"> = xla_call</span><span style=\"color: #000000; text-decoration-color: #000000; font-weight: bold\">[</span>\n",
       "<span style=\"color: #000000; text-decoration-color: #000000\">      </span><span style=\"color: #808000; text-decoration-color: #808000\">call_jaxpr</span><span style=\"color: #000000; text-decoration-color: #000000\">=</span><span style=\"color: #000000; text-decoration-color: #000000; font-weight: bold\">{</span><span style=\"color: #000000; text-decoration-color: #000000\"> </span><span style=\"color: #000080; text-decoration-color: #000080; font-weight: bold\">lambda </span><span style=\"color: #000000; text-decoration-color: #000000\">; </span><span style=\"color: #00ff00; text-decoration-color: #00ff00; font-weight: bold\">ba:b</span><span style=\"color: #800080; text-decoration-color: #800080\">ool</span><span style=\"color: #800080; text-decoration-color: #800080; font-weight: bold\">[]</span><span style=\"color: #000000; text-decoration-color: #000000\"> </span><span style=\"color: #00ff00; text-decoration-color: #00ff00; font-weight: bold\">bb:f32</span><span style=\"color: #800080; text-decoration-color: #800080; font-weight: bold\">[]</span><span style=\"color: #000000; text-decoration-color: #000000\"> </span><span style=\"color: #00ff00; text-decoration-color: #00ff00; font-weight: bold\">bc:f32</span><span style=\"color: #800080; text-decoration-color: #800080; font-weight: bold\">[]</span><span style=\"color: #000000; text-decoration-color: #000000\">. </span><span style=\"color: #000080; text-decoration-color: #000080; font-weight: bold\">let</span>\n",
       "<span style=\"color: #000080; text-decoration-color: #000080; font-weight: bold\">          </span><span style=\"color: #00ff00; text-decoration-color: #00ff00; font-weight: bold\">bd:b</span><span style=\"color: #800080; text-decoration-color: #800080\">ool</span><span style=\"color: #800080; text-decoration-color: #800080; font-weight: bold\">[]</span><span style=\"color: #000000; text-decoration-color: #000000\"> = convert_element_type</span><span style=\"color: #000000; text-decoration-color: #000000; font-weight: bold\">[</span><span style=\"color: #808000; text-decoration-color: #808000\">new_dtype</span><span style=\"color: #000000; text-decoration-color: #000000\">=</span><span style=\"color: #800080; text-decoration-color: #800080\">bool</span><span style=\"color: #000000; text-decoration-color: #000000\"> </span><span style=\"color: #808000; text-decoration-color: #808000\">weak_type</span><span style=\"color: #000000; text-decoration-color: #000000\">=</span><span style=\"color: #ff0000; text-decoration-color: #ff0000; font-style: italic\">False</span><span style=\"color: #000000; text-decoration-color: #000000; font-weight: bold\">]</span><span style=\"color: #000000; text-decoration-color: #000000\"> ba</span>\n",
       "<span style=\"color: #000000; text-decoration-color: #000000\">          </span><span style=\"color: #00ff00; text-decoration-color: #00ff00; font-weight: bold\">be:f32</span><span style=\"color: #800080; text-decoration-color: #800080; font-weight: bold\">[]</span><span style=\"color: #000000; text-decoration-color: #000000\"> = select_n bd bc bb</span>\n",
       "<span style=\"color: #000000; text-decoration-color: #000000\">        </span><span style=\"color: #000080; text-decoration-color: #000080; font-weight: bold\">in </span><span style=\"color: #000000; text-decoration-color: #000000; font-weight: bold\">(</span><span style=\"color: #000000; text-decoration-color: #000000\">be,</span><span style=\"color: #000000; text-decoration-color: #000000; font-weight: bold\">)</span><span style=\"color: #000000; text-decoration-color: #000000\"> </span><span style=\"color: #000000; text-decoration-color: #000000; font-weight: bold\">}</span>\n",
       "<span style=\"color: #000000; text-decoration-color: #000000\">      </span><span style=\"color: #808000; text-decoration-color: #808000\">name</span><span style=\"color: #000000; text-decoration-color: #000000\">=</span><span style=\"color: #800080; text-decoration-color: #800080\">_where</span>\n",
       "<span style=\"color: #000000; text-decoration-color: #000000\">    </span><span style=\"color: #000000; text-decoration-color: #000000; font-weight: bold\">]</span><span style=\"color: #000000; text-decoration-color: #000000\"> y x </span><span style=\"color: #008080; text-decoration-color: #008080; font-weight: bold\">1.0</span>\n",
       "<span style=\"color: #000000; text-decoration-color: #000000\">    </span><span style=\"color: #00ff00; text-decoration-color: #00ff00; font-weight: bold\">bf:f32</span><span style=\"color: #800080; text-decoration-color: #800080; font-weight: bold\">[]</span><span style=\"color: #000000; text-decoration-color: #000000\"> = xla_call</span><span style=\"color: #000000; text-decoration-color: #000000; font-weight: bold\">[</span>\n",
       "<span style=\"color: #000000; text-decoration-color: #000000\">      </span><span style=\"color: #808000; text-decoration-color: #808000\">call_jaxpr</span><span style=\"color: #000000; text-decoration-color: #000000\">=</span><span style=\"color: #000000; text-decoration-color: #000000; font-weight: bold\">{</span><span style=\"color: #000000; text-decoration-color: #000000\"> </span><span style=\"color: #000080; text-decoration-color: #000080; font-weight: bold\">lambda </span><span style=\"color: #000000; text-decoration-color: #000000\">; bg</span><span style=\"color: #800080; text-decoration-color: #800080\">:bool</span><span style=\"color: #800080; text-decoration-color: #800080; font-weight: bold\">[]</span><span style=\"color: #000000; text-decoration-color: #000000\"> bh</span><span style=\"color: #800080; text-decoration-color: #800080\">:f32</span><span style=\"color: #800080; text-decoration-color: #800080; font-weight: bold\">[]</span><span style=\"color: #000000; text-decoration-color: #000000\"> bi</span><span style=\"color: #800080; text-decoration-color: #800080\">:f32</span><span style=\"color: #800080; text-decoration-color: #800080; font-weight: bold\">[]</span><span style=\"color: #000000; text-decoration-color: #000000\">. </span><span style=\"color: #000080; text-decoration-color: #000080; font-weight: bold\">let</span>\n",
       "<span style=\"color: #000080; text-decoration-color: #000080; font-weight: bold\">          </span><span style=\"color: #000000; text-decoration-color: #000000\">bj</span><span style=\"color: #800080; text-decoration-color: #800080\">:bool</span><span style=\"color: #800080; text-decoration-color: #800080; font-weight: bold\">[]</span><span style=\"color: #000000; text-decoration-color: #000000\"> = convert_element_type</span><span style=\"color: #000000; text-decoration-color: #000000; font-weight: bold\">[</span><span style=\"color: #808000; text-decoration-color: #808000\">new_dtype</span><span style=\"color: #000000; text-decoration-color: #000000\">=</span><span style=\"color: #800080; text-decoration-color: #800080\">bool</span><span style=\"color: #000000; text-decoration-color: #000000\"> </span><span style=\"color: #808000; text-decoration-color: #808000\">weak_type</span><span style=\"color: #000000; text-decoration-color: #000000\">=</span><span style=\"color: #ff0000; text-decoration-color: #ff0000; font-style: italic\">False</span><span style=\"color: #000000; text-decoration-color: #000000; font-weight: bold\">]</span><span style=\"color: #000000; text-decoration-color: #000000\"> bg</span>\n",
       "<span style=\"color: #000000; text-decoration-color: #000000\">          bk</span><span style=\"color: #800080; text-decoration-color: #800080\">:f32</span><span style=\"color: #800080; text-decoration-color: #800080; font-weight: bold\">[]</span><span style=\"color: #000000; text-decoration-color: #000000\"> = select_n bj bi bh</span>\n",
       "<span style=\"color: #000000; text-decoration-color: #000000\">        </span><span style=\"color: #000080; text-decoration-color: #000080; font-weight: bold\">in </span><span style=\"color: #000000; text-decoration-color: #000000; font-weight: bold\">(</span><span style=\"color: #000000; text-decoration-color: #000000\">bk,</span><span style=\"color: #000000; text-decoration-color: #000000; font-weight: bold\">)</span><span style=\"color: #000000; text-decoration-color: #000000\"> </span><span style=\"color: #000000; text-decoration-color: #000000; font-weight: bold\">}</span>\n",
       "<span style=\"color: #000000; text-decoration-color: #000000\">      </span><span style=\"color: #808000; text-decoration-color: #808000\">name</span><span style=\"color: #000000; text-decoration-color: #000000\">=</span><span style=\"color: #800080; text-decoration-color: #800080\">_where</span>\n",
       "<span style=\"color: #000000; text-decoration-color: #000000\">    </span><span style=\"color: #000000; text-decoration-color: #000000; font-weight: bold\">]</span><span style=\"color: #000000; text-decoration-color: #000000\"> y b </span><span style=\"color: #008080; text-decoration-color: #008080; font-weight: bold\">1.0</span>\n",
       "<span style=\"color: #000000; text-decoration-color: #000000\">    bl</span><span style=\"color: #800080; text-decoration-color: #800080\">:f32</span><span style=\"color: #800080; text-decoration-color: #800080; font-weight: bold\">[]</span><span style=\"color: #000000; text-decoration-color: #000000\"> = log bf</span>\n",
       "<span style=\"color: #000000; text-decoration-color: #000000\">    bm</span><span style=\"color: #800080; text-decoration-color: #800080\">:f32</span><span style=\"color: #800080; text-decoration-color: #800080; font-weight: bold\">[]</span><span style=\"color: #000000; text-decoration-color: #000000\"> = mul z bl</span>\n",
       "<span style=\"color: #000000; text-decoration-color: #000000\">    bn</span><span style=\"color: #800080; text-decoration-color: #800080\">:f32</span><span style=\"color: #800080; text-decoration-color: #800080; font-weight: bold\">[]</span><span style=\"color: #000000; text-decoration-color: #000000\"> = xla_call</span><span style=\"color: #000000; text-decoration-color: #000000; font-weight: bold\">[</span>\n",
       "<span style=\"color: #000000; text-decoration-color: #000000\">      </span><span style=\"color: #808000; text-decoration-color: #808000\">call_jaxpr</span><span style=\"color: #000000; text-decoration-color: #000000\">=</span><span style=\"color: #000000; text-decoration-color: #000000; font-weight: bold\">{</span><span style=\"color: #000000; text-decoration-color: #000000\"> </span><span style=\"color: #000080; text-decoration-color: #000080; font-weight: bold\">lambda </span><span style=\"color: #000000; text-decoration-color: #000000\">; bo</span><span style=\"color: #800080; text-decoration-color: #800080\">:bool</span><span style=\"color: #800080; text-decoration-color: #800080; font-weight: bold\">[]</span><span style=\"color: #000000; text-decoration-color: #000000\"> bp</span><span style=\"color: #800080; text-decoration-color: #800080\">:f32</span><span style=\"color: #800080; text-decoration-color: #800080; font-weight: bold\">[]</span><span style=\"color: #000000; text-decoration-color: #000000\"> bq</span><span style=\"color: #800080; text-decoration-color: #800080\">:f32</span><span style=\"color: #800080; text-decoration-color: #800080; font-weight: bold\">[]</span><span style=\"color: #000000; text-decoration-color: #000000\">. </span><span style=\"color: #000080; text-decoration-color: #000080; font-weight: bold\">let</span>\n",
       "<span style=\"color: #000080; text-decoration-color: #000080; font-weight: bold\">          </span><span style=\"color: #000000; text-decoration-color: #000000\">br</span><span style=\"color: #800080; text-decoration-color: #800080\">:bool</span><span style=\"color: #800080; text-decoration-color: #800080; font-weight: bold\">[]</span><span style=\"color: #000000; text-decoration-color: #000000\"> = convert_element_type</span><span style=\"color: #000000; text-decoration-color: #000000; font-weight: bold\">[</span><span style=\"color: #808000; text-decoration-color: #808000\">new_dtype</span><span style=\"color: #000000; text-decoration-color: #000000\">=</span><span style=\"color: #800080; text-decoration-color: #800080\">bool</span><span style=\"color: #000000; text-decoration-color: #000000\"> </span><span style=\"color: #808000; text-decoration-color: #808000\">weak_type</span><span style=\"color: #000000; text-decoration-color: #000000\">=</span><span style=\"color: #ff0000; text-decoration-color: #ff0000; font-style: italic\">False</span><span style=\"color: #000000; text-decoration-color: #000000; font-weight: bold\">]</span><span style=\"color: #000000; text-decoration-color: #000000\"> bo</span>\n",
       "<span style=\"color: #000000; text-decoration-color: #000000\">          bs</span><span style=\"color: #800080; text-decoration-color: #800080\">:f32</span><span style=\"color: #800080; text-decoration-color: #800080; font-weight: bold\">[]</span><span style=\"color: #000000; text-decoration-color: #000000\"> = select_n br bq bp</span>\n",
       "<span style=\"color: #000000; text-decoration-color: #000000\">        </span><span style=\"color: #000080; text-decoration-color: #000080; font-weight: bold\">in </span><span style=\"color: #000000; text-decoration-color: #000000; font-weight: bold\">(</span><span style=\"color: #000000; text-decoration-color: #000000\">bs,</span><span style=\"color: #000000; text-decoration-color: #000000; font-weight: bold\">)</span><span style=\"color: #000000; text-decoration-color: #000000\"> </span><span style=\"color: #000000; text-decoration-color: #000000; font-weight: bold\">}</span>\n",
       "<span style=\"color: #000000; text-decoration-color: #000000\">      </span><span style=\"color: #808000; text-decoration-color: #808000\">name</span><span style=\"color: #000000; text-decoration-color: #000000\">=</span><span style=\"color: #800080; text-decoration-color: #800080\">_where</span>\n",
       "<span style=\"color: #000000; text-decoration-color: #000000\">    </span><span style=\"color: #000000; text-decoration-color: #000000; font-weight: bold\">]</span><span style=\"color: #000000; text-decoration-color: #000000\"> y bm </span><span style=\"color: #008080; text-decoration-color: #008080; font-weight: bold\">0.0</span>\n",
       "<span style=\"color: #000000; text-decoration-color: #000000\">    bt</span><span style=\"color: #800080; text-decoration-color: #800080\">:f32</span><span style=\"color: #800080; text-decoration-color: #800080; font-weight: bold\">[]</span><span style=\"color: #000000; text-decoration-color: #000000\"> = sub </span><span style=\"color: #008080; text-decoration-color: #008080; font-weight: bold\">1.0</span><span style=\"color: #000000; text-decoration-color: #000000\"> x</span>\n",
       "<span style=\"color: #000000; text-decoration-color: #000000\">    bu</span><span style=\"color: #800080; text-decoration-color: #800080\">:f32</span><span style=\"color: #800080; text-decoration-color: #800080; font-weight: bold\">[]</span><span style=\"color: #000000; text-decoration-color: #000000\"> = neg b</span>\n",
       "<span style=\"color: #000000; text-decoration-color: #000000\">    bv</span><span style=\"color: #800080; text-decoration-color: #800080\">:bool</span><span style=\"color: #800080; text-decoration-color: #800080; font-weight: bold\">[]</span><span style=\"color: #000000; text-decoration-color: #000000\"> = ne bt </span><span style=\"color: #008080; text-decoration-color: #008080; font-weight: bold\">0.0</span>\n",
       "<span style=\"color: #000000; text-decoration-color: #000000\">    bw</span><span style=\"color: #800080; text-decoration-color: #800080\">:f32</span><span style=\"color: #800080; text-decoration-color: #800080; font-weight: bold\">[]</span><span style=\"color: #000000; text-decoration-color: #000000\"> = xla_call</span><span style=\"color: #000000; text-decoration-color: #000000; font-weight: bold\">[</span>\n",
       "<span style=\"color: #000000; text-decoration-color: #000000\">      </span><span style=\"color: #808000; text-decoration-color: #808000\">call_jaxpr</span><span style=\"color: #000000; text-decoration-color: #000000\">=</span><span style=\"color: #000000; text-decoration-color: #000000; font-weight: bold\">{</span><span style=\"color: #000000; text-decoration-color: #000000\"> </span><span style=\"color: #000080; text-decoration-color: #000080; font-weight: bold\">lambda </span><span style=\"color: #000000; text-decoration-color: #000000\">; bx</span><span style=\"color: #800080; text-decoration-color: #800080\">:bool</span><span style=\"color: #800080; text-decoration-color: #800080; font-weight: bold\">[]</span><span style=\"color: #000000; text-decoration-color: #000000\"> by</span><span style=\"color: #800080; text-decoration-color: #800080\">:f32</span><span style=\"color: #800080; text-decoration-color: #800080; font-weight: bold\">[]</span><span style=\"color: #000000; text-decoration-color: #000000\"> bz</span><span style=\"color: #800080; text-decoration-color: #800080\">:f32</span><span style=\"color: #800080; text-decoration-color: #800080; font-weight: bold\">[]</span><span style=\"color: #000000; text-decoration-color: #000000\">. </span><span style=\"color: #000080; text-decoration-color: #000080; font-weight: bold\">let</span>\n",
       "<span style=\"color: #000080; text-decoration-color: #000080; font-weight: bold\">          </span><span style=\"color: #00ff00; text-decoration-color: #00ff00; font-weight: bold\">ca:b</span><span style=\"color: #800080; text-decoration-color: #800080\">ool</span><span style=\"color: #800080; text-decoration-color: #800080; font-weight: bold\">[]</span><span style=\"color: #000000; text-decoration-color: #000000\"> = convert_element_type</span><span style=\"color: #000000; text-decoration-color: #000000; font-weight: bold\">[</span><span style=\"color: #808000; text-decoration-color: #808000\">new_dtype</span><span style=\"color: #000000; text-decoration-color: #000000\">=</span><span style=\"color: #800080; text-decoration-color: #800080\">bool</span><span style=\"color: #000000; text-decoration-color: #000000\"> </span><span style=\"color: #808000; text-decoration-color: #808000\">weak_type</span><span style=\"color: #000000; text-decoration-color: #000000\">=</span><span style=\"color: #ff0000; text-decoration-color: #ff0000; font-style: italic\">False</span><span style=\"color: #000000; text-decoration-color: #000000; font-weight: bold\">]</span><span style=\"color: #000000; text-decoration-color: #000000\"> bx</span>\n",
       "<span style=\"color: #000000; text-decoration-color: #000000\">          </span><span style=\"color: #00ff00; text-decoration-color: #00ff00; font-weight: bold\">cb:f32</span><span style=\"color: #800080; text-decoration-color: #800080; font-weight: bold\">[]</span><span style=\"color: #000000; text-decoration-color: #000000\"> = select_n ca bz by</span>\n",
       "<span style=\"color: #000000; text-decoration-color: #000000\">        </span><span style=\"color: #000080; text-decoration-color: #000080; font-weight: bold\">in </span><span style=\"color: #000000; text-decoration-color: #000000; font-weight: bold\">(</span><span style=\"color: #000000; text-decoration-color: #000000\">cb,</span><span style=\"color: #000000; text-decoration-color: #000000; font-weight: bold\">)</span><span style=\"color: #000000; text-decoration-color: #000000\"> </span><span style=\"color: #000000; text-decoration-color: #000000; font-weight: bold\">}</span>\n",
       "<span style=\"color: #000000; text-decoration-color: #000000\">      </span><span style=\"color: #808000; text-decoration-color: #808000\">name</span><span style=\"color: #000000; text-decoration-color: #000000\">=</span><span style=\"color: #800080; text-decoration-color: #800080\">_where</span>\n",
       "<span style=\"color: #000000; text-decoration-color: #000000\">    </span><span style=\"color: #000000; text-decoration-color: #000000; font-weight: bold\">]</span><span style=\"color: #000000; text-decoration-color: #000000\"> bv bt </span><span style=\"color: #008080; text-decoration-color: #008080; font-weight: bold\">1.0</span>\n",
       "<span style=\"color: #000000; text-decoration-color: #000000\">    </span><span style=\"color: #00ff00; text-decoration-color: #00ff00; font-weight: bold\">cc:f32</span><span style=\"color: #800080; text-decoration-color: #800080; font-weight: bold\">[]</span><span style=\"color: #000000; text-decoration-color: #000000\"> = xla_call</span><span style=\"color: #000000; text-decoration-color: #000000; font-weight: bold\">[</span>\n",
       "<span style=\"color: #000000; text-decoration-color: #000000\">      </span><span style=\"color: #808000; text-decoration-color: #808000\">call_jaxpr</span><span style=\"color: #000000; text-decoration-color: #000000\">=</span><span style=\"color: #000000; text-decoration-color: #000000; font-weight: bold\">{</span><span style=\"color: #000000; text-decoration-color: #000000\"> </span><span style=\"color: #000080; text-decoration-color: #000080; font-weight: bold\">lambda </span><span style=\"color: #000000; text-decoration-color: #000000\">; </span><span style=\"color: #00ff00; text-decoration-color: #00ff00; font-weight: bold\">cd:b</span><span style=\"color: #800080; text-decoration-color: #800080\">ool</span><span style=\"color: #800080; text-decoration-color: #800080; font-weight: bold\">[]</span><span style=\"color: #000000; text-decoration-color: #000000\"> </span><span style=\"color: #00ff00; text-decoration-color: #00ff00; font-weight: bold\">ce:f32</span><span style=\"color: #800080; text-decoration-color: #800080; font-weight: bold\">[]</span><span style=\"color: #000000; text-decoration-color: #000000\"> </span><span style=\"color: #00ff00; text-decoration-color: #00ff00; font-weight: bold\">cf:f32</span><span style=\"color: #800080; text-decoration-color: #800080; font-weight: bold\">[]</span><span style=\"color: #000000; text-decoration-color: #000000\">. </span><span style=\"color: #000080; text-decoration-color: #000080; font-weight: bold\">let</span>\n",
       "<span style=\"color: #000080; text-decoration-color: #000080; font-weight: bold\">          </span><span style=\"color: #000000; text-decoration-color: #000000\">cg</span><span style=\"color: #800080; text-decoration-color: #800080\">:bool</span><span style=\"color: #800080; text-decoration-color: #800080; font-weight: bold\">[]</span><span style=\"color: #000000; text-decoration-color: #000000\"> = convert_element_type</span><span style=\"color: #000000; text-decoration-color: #000000; font-weight: bold\">[</span><span style=\"color: #808000; text-decoration-color: #808000\">new_dtype</span><span style=\"color: #000000; text-decoration-color: #000000\">=</span><span style=\"color: #800080; text-decoration-color: #800080\">bool</span><span style=\"color: #000000; text-decoration-color: #000000\"> </span><span style=\"color: #808000; text-decoration-color: #808000\">weak_type</span><span style=\"color: #000000; text-decoration-color: #000000\">=</span><span style=\"color: #ff0000; text-decoration-color: #ff0000; font-style: italic\">False</span><span style=\"color: #000000; text-decoration-color: #000000; font-weight: bold\">]</span><span style=\"color: #000000; text-decoration-color: #000000\"> cd</span>\n",
       "<span style=\"color: #000000; text-decoration-color: #000000\">          ch</span><span style=\"color: #800080; text-decoration-color: #800080\">:f32</span><span style=\"color: #800080; text-decoration-color: #800080; font-weight: bold\">[]</span><span style=\"color: #000000; text-decoration-color: #000000\"> = select_n cg cf ce</span>\n",
       "<span style=\"color: #000000; text-decoration-color: #000000\">        </span><span style=\"color: #000080; text-decoration-color: #000080; font-weight: bold\">in </span><span style=\"color: #000000; text-decoration-color: #000000; font-weight: bold\">(</span><span style=\"color: #000000; text-decoration-color: #000000\">ch,</span><span style=\"color: #000000; text-decoration-color: #000000; font-weight: bold\">)</span><span style=\"color: #000000; text-decoration-color: #000000\"> </span><span style=\"color: #000000; text-decoration-color: #000000; font-weight: bold\">}</span>\n",
       "<span style=\"color: #000000; text-decoration-color: #000000\">      </span><span style=\"color: #808000; text-decoration-color: #808000\">name</span><span style=\"color: #000000; text-decoration-color: #000000\">=</span><span style=\"color: #800080; text-decoration-color: #800080\">_where</span>\n",
       "<span style=\"color: #000000; text-decoration-color: #000000\">    </span><span style=\"color: #000000; text-decoration-color: #000000; font-weight: bold\">]</span><span style=\"color: #000000; text-decoration-color: #000000\"> bv bu </span><span style=\"color: #008080; text-decoration-color: #008080; font-weight: bold\">1.0</span>\n",
       "<span style=\"color: #000000; text-decoration-color: #000000\">    ci</span><span style=\"color: #800080; text-decoration-color: #800080\">:f32</span><span style=\"color: #800080; text-decoration-color: #800080; font-weight: bold\">[]</span><span style=\"color: #000000; text-decoration-color: #000000\"> = log1p cc</span>\n",
       "<span style=\"color: #000000; text-decoration-color: #000000\">    cj</span><span style=\"color: #800080; text-decoration-color: #800080\">:f32</span><span style=\"color: #800080; text-decoration-color: #800080; font-weight: bold\">[]</span><span style=\"color: #000000; text-decoration-color: #000000\"> = mul bw ci</span>\n",
       "<span style=\"color: #000000; text-decoration-color: #000000\">    ck</span><span style=\"color: #800080; text-decoration-color: #800080\">:f32</span><span style=\"color: #800080; text-decoration-color: #800080; font-weight: bold\">[]</span><span style=\"color: #000000; text-decoration-color: #000000\"> = xla_call</span><span style=\"color: #000000; text-decoration-color: #000000; font-weight: bold\">[</span>\n",
       "<span style=\"color: #000000; text-decoration-color: #000000\">      </span><span style=\"color: #808000; text-decoration-color: #808000\">call_jaxpr</span><span style=\"color: #000000; text-decoration-color: #000000\">=</span><span style=\"color: #000000; text-decoration-color: #000000; font-weight: bold\">{</span><span style=\"color: #000000; text-decoration-color: #000000\"> </span><span style=\"color: #000080; text-decoration-color: #000080; font-weight: bold\">lambda </span><span style=\"color: #000000; text-decoration-color: #000000\">; cl</span><span style=\"color: #800080; text-decoration-color: #800080\">:bool</span><span style=\"color: #800080; text-decoration-color: #800080; font-weight: bold\">[]</span><span style=\"color: #000000; text-decoration-color: #000000\"> cm</span><span style=\"color: #800080; text-decoration-color: #800080\">:f32</span><span style=\"color: #800080; text-decoration-color: #800080; font-weight: bold\">[]</span><span style=\"color: #000000; text-decoration-color: #000000\"> cn</span><span style=\"color: #800080; text-decoration-color: #800080\">:f32</span><span style=\"color: #800080; text-decoration-color: #800080; font-weight: bold\">[]</span><span style=\"color: #000000; text-decoration-color: #000000\">. </span><span style=\"color: #000080; text-decoration-color: #000080; font-weight: bold\">let</span>\n",
       "<span style=\"color: #000080; text-decoration-color: #000080; font-weight: bold\">          </span><span style=\"color: #000000; text-decoration-color: #000000\">co</span><span style=\"color: #800080; text-decoration-color: #800080\">:bool</span><span style=\"color: #800080; text-decoration-color: #800080; font-weight: bold\">[]</span><span style=\"color: #000000; text-decoration-color: #000000\"> = convert_element_type</span><span style=\"color: #000000; text-decoration-color: #000000; font-weight: bold\">[</span><span style=\"color: #808000; text-decoration-color: #808000\">new_dtype</span><span style=\"color: #000000; text-decoration-color: #000000\">=</span><span style=\"color: #800080; text-decoration-color: #800080\">bool</span><span style=\"color: #000000; text-decoration-color: #000000\"> </span><span style=\"color: #808000; text-decoration-color: #808000\">weak_type</span><span style=\"color: #000000; text-decoration-color: #000000\">=</span><span style=\"color: #ff0000; text-decoration-color: #ff0000; font-style: italic\">False</span><span style=\"color: #000000; text-decoration-color: #000000; font-weight: bold\">]</span><span style=\"color: #000000; text-decoration-color: #000000\"> cl</span>\n",
       "<span style=\"color: #000000; text-decoration-color: #000000\">          cp</span><span style=\"color: #800080; text-decoration-color: #800080\">:f32</span><span style=\"color: #800080; text-decoration-color: #800080; font-weight: bold\">[]</span><span style=\"color: #000000; text-decoration-color: #000000\"> = select_n co cn cm</span>\n",
       "<span style=\"color: #000000; text-decoration-color: #000000\">        </span><span style=\"color: #000080; text-decoration-color: #000080; font-weight: bold\">in </span><span style=\"color: #000000; text-decoration-color: #000000; font-weight: bold\">(</span><span style=\"color: #000000; text-decoration-color: #000000\">cp,</span><span style=\"color: #000000; text-decoration-color: #000000; font-weight: bold\">)</span><span style=\"color: #000000; text-decoration-color: #000000\"> </span><span style=\"color: #000000; text-decoration-color: #000000; font-weight: bold\">}</span>\n",
       "<span style=\"color: #000000; text-decoration-color: #000000\">      </span><span style=\"color: #808000; text-decoration-color: #808000\">name</span><span style=\"color: #000000; text-decoration-color: #000000\">=</span><span style=\"color: #800080; text-decoration-color: #800080\">_where</span>\n",
       "<span style=\"color: #000000; text-decoration-color: #000000\">    </span><span style=\"color: #000000; text-decoration-color: #000000; font-weight: bold\">]</span><span style=\"color: #000000; text-decoration-color: #000000\"> bv cj </span><span style=\"color: #008080; text-decoration-color: #008080; font-weight: bold\">0.0</span>\n",
       "<span style=\"color: #000000; text-decoration-color: #000000\">    cq</span><span style=\"color: #800080; text-decoration-color: #800080\">:f32</span><span style=\"color: #800080; text-decoration-color: #800080; font-weight: bold\">[]</span><span style=\"color: #000000; text-decoration-color: #000000\"> = add bn ck</span>\n",
       "<span style=\"color: #000000; text-decoration-color: #000000\">    cr</span><span style=\"color: #800080; text-decoration-color: #800080\">:bool</span><span style=\"color: #800080; text-decoration-color: #800080; font-weight: bold\">[]</span><span style=\"color: #000000; text-decoration-color: #000000\"> = lt x </span><span style=\"color: #008080; text-decoration-color: #008080; font-weight: bold\">0.0</span>\n",
       "<span style=\"color: #000000; text-decoration-color: #000000\">    cs</span><span style=\"color: #800080; text-decoration-color: #800080\">:bool</span><span style=\"color: #800080; text-decoration-color: #800080; font-weight: bold\">[]</span><span style=\"color: #000000; text-decoration-color: #000000\"> = gt x </span><span style=\"color: #008080; text-decoration-color: #008080; font-weight: bold\">1.0</span>\n",
       "<span style=\"color: #000000; text-decoration-color: #000000\">    ct</span><span style=\"color: #800080; text-decoration-color: #800080\">:bool</span><span style=\"color: #800080; text-decoration-color: #800080; font-weight: bold\">[]</span><span style=\"color: #000000; text-decoration-color: #000000\"> = convert_element_type</span><span style=\"color: #000000; text-decoration-color: #000000; font-weight: bold\">[</span><span style=\"color: #808000; text-decoration-color: #808000\">new_dtype</span><span style=\"color: #000000; text-decoration-color: #000000\">=</span><span style=\"color: #800080; text-decoration-color: #800080\">bool</span><span style=\"color: #000000; text-decoration-color: #000000\"> </span><span style=\"color: #808000; text-decoration-color: #808000\">weak_type</span><span style=\"color: #000000; text-decoration-color: #000000\">=</span><span style=\"color: #ff0000; text-decoration-color: #ff0000; font-style: italic\">False</span><span style=\"color: #000000; text-decoration-color: #000000; font-weight: bold\">]</span><span style=\"color: #000000; text-decoration-color: #000000\"> cr</span>\n",
       "<span style=\"color: #000000; text-decoration-color: #000000\">    cu</span><span style=\"color: #800080; text-decoration-color: #800080\">:bool</span><span style=\"color: #800080; text-decoration-color: #800080; font-weight: bold\">[]</span><span style=\"color: #000000; text-decoration-color: #000000\"> = convert_element_type</span><span style=\"color: #000000; text-decoration-color: #000000; font-weight: bold\">[</span><span style=\"color: #808000; text-decoration-color: #808000\">new_dtype</span><span style=\"color: #000000; text-decoration-color: #000000\">=</span><span style=\"color: #800080; text-decoration-color: #800080\">bool</span><span style=\"color: #000000; text-decoration-color: #000000\"> </span><span style=\"color: #808000; text-decoration-color: #808000\">weak_type</span><span style=\"color: #000000; text-decoration-color: #000000\">=</span><span style=\"color: #ff0000; text-decoration-color: #ff0000; font-style: italic\">False</span><span style=\"color: #000000; text-decoration-color: #000000; font-weight: bold\">]</span><span style=\"color: #000000; text-decoration-color: #000000\"> cs</span>\n",
       "<span style=\"color: #000000; text-decoration-color: #000000\">    cv</span><span style=\"color: #800080; text-decoration-color: #800080\">:bool</span><span style=\"color: #800080; text-decoration-color: #800080; font-weight: bold\">[]</span><span style=\"color: #000000; text-decoration-color: #000000\"> = or ct cu</span>\n",
       "<span style=\"color: #000000; text-decoration-color: #000000\">    cw</span><span style=\"color: #800080; text-decoration-color: #800080\">:f32</span><span style=\"color: #800080; text-decoration-color: #800080; font-weight: bold\">[]</span><span style=\"color: #000000; text-decoration-color: #000000\"> = xla_call</span><span style=\"color: #000000; text-decoration-color: #000000; font-weight: bold\">[</span>\n",
       "<span style=\"color: #000000; text-decoration-color: #000000\">      </span><span style=\"color: #808000; text-decoration-color: #808000\">call_jaxpr</span><span style=\"color: #000000; text-decoration-color: #000000\">=</span><span style=\"color: #000000; text-decoration-color: #000000; font-weight: bold\">{</span><span style=\"color: #000000; text-decoration-color: #000000\"> </span><span style=\"color: #000080; text-decoration-color: #000080; font-weight: bold\">lambda </span><span style=\"color: #000000; text-decoration-color: #000000\">; cx</span><span style=\"color: #800080; text-decoration-color: #800080\">:bool</span><span style=\"color: #800080; text-decoration-color: #800080; font-weight: bold\">[]</span><span style=\"color: #000000; text-decoration-color: #000000\"> cy</span><span style=\"color: #800080; text-decoration-color: #800080\">:f32</span><span style=\"color: #800080; text-decoration-color: #800080; font-weight: bold\">[]</span><span style=\"color: #000000; text-decoration-color: #000000\"> cz</span><span style=\"color: #800080; text-decoration-color: #800080\">:f32</span><span style=\"color: #800080; text-decoration-color: #800080; font-weight: bold\">[]</span><span style=\"color: #000000; text-decoration-color: #000000\">. </span><span style=\"color: #000080; text-decoration-color: #000080; font-weight: bold\">let</span>\n",
       "<span style=\"color: #000080; text-decoration-color: #000080; font-weight: bold\">          </span><span style=\"color: #00ff00; text-decoration-color: #00ff00; font-weight: bold\">da:f32</span><span style=\"color: #800080; text-decoration-color: #800080; font-weight: bold\">[]</span><span style=\"color: #000000; text-decoration-color: #000000\"> = select_n cx cz cy</span>\n",
       "<span style=\"color: #000000; text-decoration-color: #000000\">        </span><span style=\"color: #000080; text-decoration-color: #000080; font-weight: bold\">in </span><span style=\"color: #000000; text-decoration-color: #000000; font-weight: bold\">(</span><span style=\"color: #000000; text-decoration-color: #000000\">da,</span><span style=\"color: #000000; text-decoration-color: #000000; font-weight: bold\">)</span><span style=\"color: #000000; text-decoration-color: #000000\"> </span><span style=\"color: #000000; text-decoration-color: #000000; font-weight: bold\">}</span>\n",
       "<span style=\"color: #000000; text-decoration-color: #000000\">      </span><span style=\"color: #808000; text-decoration-color: #808000\">name</span><span style=\"color: #000000; text-decoration-color: #000000\">=</span><span style=\"color: #800080; text-decoration-color: #800080\">_where</span>\n",
       "<span style=\"color: #000000; text-decoration-color: #000000\">    </span><span style=\"color: #000000; text-decoration-color: #000000; font-weight: bold\">]</span><span style=\"color: #000000; text-decoration-color: #000000\"> cv -inf cq</span>\n",
       "<span style=\"color: #000000; text-decoration-color: #000000\">    </span><span style=\"color: #00ff00; text-decoration-color: #00ff00; font-weight: bold\">db:f32</span><span style=\"color: #800080; text-decoration-color: #800080; font-weight: bold\">[]</span><span style=\"color: #000000; text-decoration-color: #000000\"> = convert_element_type</span><span style=\"color: #000000; text-decoration-color: #000000; font-weight: bold\">[</span><span style=\"color: #808000; text-decoration-color: #808000\">new_dtype</span><span style=\"color: #000000; text-decoration-color: #000000\">=</span><span style=\"color: #800080; text-decoration-color: #800080\">float32</span><span style=\"color: #000000; text-decoration-color: #000000\"> </span><span style=\"color: #808000; text-decoration-color: #808000\">weak_type</span><span style=\"color: #000000; text-decoration-color: #000000\">=</span><span style=\"color: #ff0000; text-decoration-color: #ff0000; font-style: italic\">False</span><span style=\"color: #000000; text-decoration-color: #000000; font-weight: bold\">]</span><span style=\"color: #000000; text-decoration-color: #000000\"> cw</span>\n",
       "<span style=\"color: #000000; text-decoration-color: #000000\">    </span><span style=\"color: #00ff00; text-decoration-color: #00ff00; font-weight: bold\">dc:f32</span><span style=\"color: #800080; text-decoration-color: #800080; font-weight: bold\">[]</span><span style=\"color: #000000; text-decoration-color: #000000\"> = reduce_sum</span><span style=\"color: #000000; text-decoration-color: #000000; font-weight: bold\">[</span><span style=\"color: #808000; text-decoration-color: #808000\">axes</span><span style=\"color: #000000; text-decoration-color: #000000\">=</span><span style=\"color: #000000; text-decoration-color: #000000; font-weight: bold\">()]</span><span style=\"color: #000000; text-decoration-color: #000000\"> db</span>\n",
       "<span style=\"color: #000000; text-decoration-color: #000000\">    </span><span style=\"color: #00ff00; text-decoration-color: #00ff00; font-weight: bold\">dd:f32</span><span style=\"color: #800080; text-decoration-color: #800080; font-weight: bold\">[]</span><span style=\"color: #000000; text-decoration-color: #000000\"> = add </span><span style=\"color: #008080; text-decoration-color: #008080; font-weight: bold\">0.0</span><span style=\"color: #000000; text-decoration-color: #000000\"> dc</span>\n",
       "<span style=\"color: #000000; text-decoration-color: #000000\">    </span><span style=\"color: #00ff00; text-decoration-color: #00ff00; font-weight: bold\">de:f32</span><span style=\"color: #800080; text-decoration-color: #800080; font-weight: bold\">[]</span><span style=\"color: #000000; text-decoration-color: #000000\"> = add </span><span style=\"color: #008080; text-decoration-color: #008080; font-weight: bold\">0.0</span><span style=\"color: #000000; text-decoration-color: #000000\"> dd</span>\n",
       "<span style=\"color: #000000; text-decoration-color: #000000\">  </span><span style=\"color: #000080; text-decoration-color: #000080; font-weight: bold\">in </span><span style=\"color: #000000; text-decoration-color: #000000; font-weight: bold\">(</span><span style=\"color: #000000; text-decoration-color: #000000\">g, b, v, b, v, b, v, dc, dd, de</span><span style=\"color: #000000; text-decoration-color: #000000; font-weight: bold\">)</span><span style=\"color: #000000; text-decoration-color: #000000\"> </span><span style=\"color: #000000; text-decoration-color: #000000; font-weight: bold\">}</span>\n",
       "</pre>\n"
      ],
      "text/plain": [
       "\n",
       "\u001b[1m{\u001b[0m \u001b[1;34mlambda \u001b[0m\u001b[39m; a\u001b[0m\u001b[35m:u32\u001b[0m\u001b[1;35m[\u001b[0m\u001b[1;36m2\u001b[0m\u001b[1;35m]\u001b[0m\u001b[39m \u001b[0m\u001b[1;92mb\u001b[0m\u001b[1;92m:f32\u001b[0m\u001b[1;35m[\u001b[0m\u001b[1;35m]\u001b[0m\u001b[39m. \u001b[0m\u001b[1;34mlet\u001b[0m\n",
       "\u001b[1;34m    \u001b[0m\u001b[39mc\u001b[0m\u001b[35m:key\u001b[0m\u001b[1;35m<\u001b[0m\u001b[1;95mfry\u001b[0m\u001b[1;35m>\u001b[0m\u001b[1;35m[\u001b[0m\u001b[1;35m]\u001b[0m\u001b[39m = random_wrap\u001b[0m\u001b[1;39m[\u001b[0m\u001b[33mimpl\u001b[0m\u001b[39m=\u001b[0m\u001b[35mfry\u001b[0m\u001b[1;39m]\u001b[0m\u001b[39m a\u001b[0m\n",
       "\u001b[39m    d\u001b[0m\u001b[35m:key\u001b[0m\u001b[1;35m<\u001b[0m\u001b[1;95mfry\u001b[0m\u001b[1;35m>\u001b[0m\u001b[1;35m[\u001b[0m\u001b[1;36m2\u001b[0m\u001b[1;35m]\u001b[0m\u001b[39m = random_split\u001b[0m\u001b[1;39m[\u001b[0m\u001b[33mcount\u001b[0m\u001b[39m=\u001b[0m\u001b[1;36m2\u001b[0m\u001b[1;39m]\u001b[0m\u001b[39m c\u001b[0m\n",
       "\u001b[39m    e\u001b[0m\u001b[35m:u32\u001b[0m\u001b[1;35m[\u001b[0m\u001b[1;36m2\u001b[0m\u001b[35m,\u001b[0m\u001b[1;36m2\u001b[0m\u001b[1;35m]\u001b[0m\u001b[39m = random_unwrap d\u001b[0m\n",
       "\u001b[39m    f\u001b[0m\u001b[35m:u32\u001b[0m\u001b[1;35m[\u001b[0m\u001b[1;36m1\u001b[0m\u001b[35m,\u001b[0m\u001b[1;36m2\u001b[0m\u001b[1;35m]\u001b[0m\u001b[39m = slice\u001b[0m\u001b[1;39m[\u001b[0m\u001b[33mlimit_indices\u001b[0m\u001b[39m=\u001b[0m\u001b[1;39m(\u001b[0m\u001b[1;36m1\u001b[0m\u001b[39m, \u001b[0m\u001b[1;36m2\u001b[0m\u001b[1;39m)\u001b[0m\u001b[39m \u001b[0m\u001b[33mstart_indices\u001b[0m\u001b[39m=\u001b[0m\u001b[1;39m(\u001b[0m\u001b[1;36m0\u001b[0m\u001b[39m, \u001b[0m\u001b[1;36m0\u001b[0m\u001b[1;39m)\u001b[0m\u001b[39m \u001b[0m\u001b[33mstrides\u001b[0m\u001b[39m=\u001b[0m\u001b[1;39m(\u001b[0m\u001b[1;36m1\u001b[0m\u001b[39m, \u001b[0m\u001b[1;36m1\u001b[0m\u001b[1;39m)\u001b[0m\u001b[1;39m]\u001b[0m\u001b[39m e\u001b[0m\n",
       "\u001b[39m    g\u001b[0m\u001b[35m:u32\u001b[0m\u001b[1;35m[\u001b[0m\u001b[1;36m2\u001b[0m\u001b[1;35m]\u001b[0m\u001b[39m = squeeze\u001b[0m\u001b[1;39m[\u001b[0m\u001b[33mdimensions\u001b[0m\u001b[39m=\u001b[0m\u001b[1;39m(\u001b[0m\u001b[1;36m0\u001b[0m\u001b[39m,\u001b[0m\u001b[1;39m)\u001b[0m\u001b[1;39m]\u001b[0m\u001b[39m f\u001b[0m\n",
       "\u001b[39m    h\u001b[0m\u001b[35m:u32\u001b[0m\u001b[1;35m[\u001b[0m\u001b[1;36m1\u001b[0m\u001b[35m,\u001b[0m\u001b[1;36m2\u001b[0m\u001b[1;35m]\u001b[0m\u001b[39m = slice\u001b[0m\u001b[1;39m[\u001b[0m\u001b[33mlimit_indices\u001b[0m\u001b[39m=\u001b[0m\u001b[1;39m(\u001b[0m\u001b[1;36m2\u001b[0m\u001b[39m, \u001b[0m\u001b[1;36m2\u001b[0m\u001b[1;39m)\u001b[0m\u001b[39m \u001b[0m\u001b[33mstart_indices\u001b[0m\u001b[39m=\u001b[0m\u001b[1;39m(\u001b[0m\u001b[1;36m1\u001b[0m\u001b[39m, \u001b[0m\u001b[1;36m0\u001b[0m\u001b[1;39m)\u001b[0m\u001b[39m \u001b[0m\u001b[33mstrides\u001b[0m\u001b[39m=\u001b[0m\u001b[1;39m(\u001b[0m\u001b[1;36m1\u001b[0m\u001b[39m, \u001b[0m\u001b[1;36m1\u001b[0m\u001b[1;39m)\u001b[0m\u001b[1;39m]\u001b[0m\u001b[39m e\u001b[0m\n",
       "\u001b[39m    i\u001b[0m\u001b[35m:u32\u001b[0m\u001b[1;35m[\u001b[0m\u001b[1;36m2\u001b[0m\u001b[1;35m]\u001b[0m\u001b[39m = squeeze\u001b[0m\u001b[1;39m[\u001b[0m\u001b[33mdimensions\u001b[0m\u001b[39m=\u001b[0m\u001b[1;39m(\u001b[0m\u001b[1;36m0\u001b[0m\u001b[39m,\u001b[0m\u001b[1;39m)\u001b[0m\u001b[1;39m]\u001b[0m\u001b[39m h\u001b[0m\n",
       "\u001b[39m    j\u001b[0m\u001b[35m:key\u001b[0m\u001b[1;35m<\u001b[0m\u001b[1;95mfry\u001b[0m\u001b[1;35m>\u001b[0m\u001b[1;35m[\u001b[0m\u001b[1;35m]\u001b[0m\u001b[39m = random_wrap\u001b[0m\u001b[1;39m[\u001b[0m\u001b[33mimpl\u001b[0m\u001b[39m=\u001b[0m\u001b[35mfry\u001b[0m\u001b[1;39m]\u001b[0m\u001b[39m i\u001b[0m\n",
       "\u001b[39m    k\u001b[0m\u001b[35m:f32\u001b[0m\u001b[1;35m[\u001b[0m\u001b[1;35m]\u001b[0m\u001b[39m = convert_element_type\u001b[0m\u001b[1;39m[\u001b[0m\u001b[33mnew_dtype\u001b[0m\u001b[39m=\u001b[0m\u001b[35mfloat32\u001b[0m\u001b[39m \u001b[0m\u001b[33mweak_type\u001b[0m\u001b[39m=\u001b[0m\u001b[3;91mFalse\u001b[0m\u001b[1;39m]\u001b[0m\u001b[39m b\u001b[0m\n",
       "\u001b[39m    l\u001b[0m\u001b[35m:u32\u001b[0m\u001b[1;35m[\u001b[0m\u001b[1;35m]\u001b[0m\u001b[39m = random_bits\u001b[0m\u001b[1;39m[\u001b[0m\u001b[33mbit_width\u001b[0m\u001b[39m=\u001b[0m\u001b[1;36m32\u001b[0m\u001b[39m \u001b[0m\u001b[33mshape\u001b[0m\u001b[39m=\u001b[0m\u001b[1;39m(\u001b[0m\u001b[1;39m)\u001b[0m\u001b[1;39m]\u001b[0m\u001b[39m j\u001b[0m\n",
       "\u001b[39m    m\u001b[0m\u001b[35m:u32\u001b[0m\u001b[1;35m[\u001b[0m\u001b[1;35m]\u001b[0m\u001b[39m = shift_right_logical l \u001b[0m\u001b[1;36m9\u001b[0m\n",
       "\u001b[39m    n\u001b[0m\u001b[35m:u32\u001b[0m\u001b[1;35m[\u001b[0m\u001b[1;35m]\u001b[0m\u001b[39m = or m \u001b[0m\u001b[1;36m1065353216\u001b[0m\n",
       "\u001b[39m    o\u001b[0m\u001b[35m:f32\u001b[0m\u001b[1;35m[\u001b[0m\u001b[1;35m]\u001b[0m\u001b[39m = bitcast_convert_type\u001b[0m\u001b[1;39m[\u001b[0m\u001b[33mnew_dtype\u001b[0m\u001b[39m=\u001b[0m\u001b[35mfloat32\u001b[0m\u001b[1;39m]\u001b[0m\u001b[39m n\u001b[0m\n",
       "\u001b[39m    p\u001b[0m\u001b[35m:f32\u001b[0m\u001b[1;35m[\u001b[0m\u001b[1;35m]\u001b[0m\u001b[39m = sub o \u001b[0m\u001b[1;36m1.0\u001b[0m\n",
       "\u001b[39m    q\u001b[0m\u001b[35m:f32\u001b[0m\u001b[1;35m[\u001b[0m\u001b[1;35m]\u001b[0m\u001b[39m = sub \u001b[0m\u001b[1;36m1.0\u001b[0m\u001b[39m \u001b[0m\u001b[1;36m0.0\u001b[0m\n",
       "\u001b[39m    r\u001b[0m\u001b[35m:f32\u001b[0m\u001b[1;35m[\u001b[0m\u001b[1;35m]\u001b[0m\u001b[39m = mul p q\u001b[0m\n",
       "\u001b[39m    s\u001b[0m\u001b[35m:f32\u001b[0m\u001b[1;35m[\u001b[0m\u001b[1;35m]\u001b[0m\u001b[39m = add r \u001b[0m\u001b[1;36m0.0\u001b[0m\n",
       "\u001b[39m    t\u001b[0m\u001b[35m:f32\u001b[0m\u001b[1;35m[\u001b[0m\u001b[1;35m]\u001b[0m\u001b[39m = reshape\u001b[0m\u001b[1;39m[\u001b[0m\u001b[33mdimensions\u001b[0m\u001b[39m=\u001b[0m\u001b[3;35mNone\u001b[0m\u001b[39m \u001b[0m\u001b[33mnew_sizes\u001b[0m\u001b[39m=\u001b[0m\u001b[1;39m(\u001b[0m\u001b[1;39m)\u001b[0m\u001b[1;39m]\u001b[0m\u001b[39m s\u001b[0m\n",
       "\u001b[39m    u\u001b[0m\u001b[35m:f32\u001b[0m\u001b[1;35m[\u001b[0m\u001b[1;35m]\u001b[0m\u001b[39m = max \u001b[0m\u001b[1;36m0.0\u001b[0m\u001b[39m t\u001b[0m\n",
       "\u001b[39m    v\u001b[0m\u001b[35m:bool\u001b[0m\u001b[1;35m[\u001b[0m\u001b[1;35m]\u001b[0m\u001b[39m = lt u k\u001b[0m\n",
       "\u001b[39m    w\u001b[0m\u001b[35m:f32\u001b[0m\u001b[1;35m[\u001b[0m\u001b[1;35m]\u001b[0m\u001b[39m = convert_element_type\u001b[0m\u001b[1;39m[\u001b[0m\u001b[33mnew_dtype\u001b[0m\u001b[39m=\u001b[0m\u001b[35mfloat32\u001b[0m\u001b[39m \u001b[0m\u001b[33mweak_type\u001b[0m\u001b[39m=\u001b[0m\u001b[3;92mTrue\u001b[0m\u001b[1;39m]\u001b[0m\u001b[39m v\u001b[0m\n",
       "\u001b[39m    x\u001b[0m\u001b[35m:f32\u001b[0m\u001b[1;35m[\u001b[0m\u001b[1;35m]\u001b[0m\u001b[39m = sub w \u001b[0m\u001b[1;36m0.0\u001b[0m\n",
       "\u001b[39m    y\u001b[0m\u001b[35m:bool\u001b[0m\u001b[1;35m[\u001b[0m\u001b[1;35m]\u001b[0m\u001b[39m = ne x \u001b[0m\u001b[1;36m0.0\u001b[0m\n",
       "\u001b[39m    z\u001b[0m\u001b[35m:f32\u001b[0m\u001b[1;35m[\u001b[0m\u001b[1;35m]\u001b[0m\u001b[39m = xla_call\u001b[0m\u001b[1;39m[\u001b[0m\n",
       "\u001b[39m      \u001b[0m\u001b[33mcall_jaxpr\u001b[0m\u001b[39m=\u001b[0m\u001b[1;39m{\u001b[0m\u001b[39m \u001b[0m\u001b[1;34mlambda \u001b[0m\u001b[39m; \u001b[0m\u001b[1;92mba\u001b[0m\u001b[1;92m:b\u001b[0m\u001b[35mool\u001b[0m\u001b[1;35m[\u001b[0m\u001b[1;35m]\u001b[0m\u001b[39m \u001b[0m\u001b[1;92mbb\u001b[0m\u001b[1;92m:f32\u001b[0m\u001b[1;35m[\u001b[0m\u001b[1;35m]\u001b[0m\u001b[39m \u001b[0m\u001b[1;92mbc\u001b[0m\u001b[1;92m:f32\u001b[0m\u001b[1;35m[\u001b[0m\u001b[1;35m]\u001b[0m\u001b[39m. \u001b[0m\u001b[1;34mlet\u001b[0m\n",
       "\u001b[1;34m          \u001b[0m\u001b[1;92mbd\u001b[0m\u001b[1;92m:b\u001b[0m\u001b[35mool\u001b[0m\u001b[1;35m[\u001b[0m\u001b[1;35m]\u001b[0m\u001b[39m = convert_element_type\u001b[0m\u001b[1;39m[\u001b[0m\u001b[33mnew_dtype\u001b[0m\u001b[39m=\u001b[0m\u001b[35mbool\u001b[0m\u001b[39m \u001b[0m\u001b[33mweak_type\u001b[0m\u001b[39m=\u001b[0m\u001b[3;91mFalse\u001b[0m\u001b[1;39m]\u001b[0m\u001b[39m ba\u001b[0m\n",
       "\u001b[39m          \u001b[0m\u001b[1;92mbe\u001b[0m\u001b[1;92m:f32\u001b[0m\u001b[1;35m[\u001b[0m\u001b[1;35m]\u001b[0m\u001b[39m = select_n bd bc bb\u001b[0m\n",
       "\u001b[39m        \u001b[0m\u001b[1;34min \u001b[0m\u001b[1;39m(\u001b[0m\u001b[39mbe,\u001b[0m\u001b[1;39m)\u001b[0m\u001b[39m \u001b[0m\u001b[1;39m}\u001b[0m\n",
       "\u001b[39m      \u001b[0m\u001b[33mname\u001b[0m\u001b[39m=\u001b[0m\u001b[35m_where\u001b[0m\n",
       "\u001b[39m    \u001b[0m\u001b[1;39m]\u001b[0m\u001b[39m y x \u001b[0m\u001b[1;36m1.0\u001b[0m\n",
       "\u001b[39m    \u001b[0m\u001b[1;92mbf\u001b[0m\u001b[1;92m:f32\u001b[0m\u001b[1;35m[\u001b[0m\u001b[1;35m]\u001b[0m\u001b[39m = xla_call\u001b[0m\u001b[1;39m[\u001b[0m\n",
       "\u001b[39m      \u001b[0m\u001b[33mcall_jaxpr\u001b[0m\u001b[39m=\u001b[0m\u001b[1;39m{\u001b[0m\u001b[39m \u001b[0m\u001b[1;34mlambda \u001b[0m\u001b[39m; bg\u001b[0m\u001b[35m:bool\u001b[0m\u001b[1;35m[\u001b[0m\u001b[1;35m]\u001b[0m\u001b[39m bh\u001b[0m\u001b[35m:f32\u001b[0m\u001b[1;35m[\u001b[0m\u001b[1;35m]\u001b[0m\u001b[39m bi\u001b[0m\u001b[35m:f32\u001b[0m\u001b[1;35m[\u001b[0m\u001b[1;35m]\u001b[0m\u001b[39m. \u001b[0m\u001b[1;34mlet\u001b[0m\n",
       "\u001b[1;34m          \u001b[0m\u001b[39mbj\u001b[0m\u001b[35m:bool\u001b[0m\u001b[1;35m[\u001b[0m\u001b[1;35m]\u001b[0m\u001b[39m = convert_element_type\u001b[0m\u001b[1;39m[\u001b[0m\u001b[33mnew_dtype\u001b[0m\u001b[39m=\u001b[0m\u001b[35mbool\u001b[0m\u001b[39m \u001b[0m\u001b[33mweak_type\u001b[0m\u001b[39m=\u001b[0m\u001b[3;91mFalse\u001b[0m\u001b[1;39m]\u001b[0m\u001b[39m bg\u001b[0m\n",
       "\u001b[39m          bk\u001b[0m\u001b[35m:f32\u001b[0m\u001b[1;35m[\u001b[0m\u001b[1;35m]\u001b[0m\u001b[39m = select_n bj bi bh\u001b[0m\n",
       "\u001b[39m        \u001b[0m\u001b[1;34min \u001b[0m\u001b[1;39m(\u001b[0m\u001b[39mbk,\u001b[0m\u001b[1;39m)\u001b[0m\u001b[39m \u001b[0m\u001b[1;39m}\u001b[0m\n",
       "\u001b[39m      \u001b[0m\u001b[33mname\u001b[0m\u001b[39m=\u001b[0m\u001b[35m_where\u001b[0m\n",
       "\u001b[39m    \u001b[0m\u001b[1;39m]\u001b[0m\u001b[39m y b \u001b[0m\u001b[1;36m1.0\u001b[0m\n",
       "\u001b[39m    bl\u001b[0m\u001b[35m:f32\u001b[0m\u001b[1;35m[\u001b[0m\u001b[1;35m]\u001b[0m\u001b[39m = log bf\u001b[0m\n",
       "\u001b[39m    bm\u001b[0m\u001b[35m:f32\u001b[0m\u001b[1;35m[\u001b[0m\u001b[1;35m]\u001b[0m\u001b[39m = mul z bl\u001b[0m\n",
       "\u001b[39m    bn\u001b[0m\u001b[35m:f32\u001b[0m\u001b[1;35m[\u001b[0m\u001b[1;35m]\u001b[0m\u001b[39m = xla_call\u001b[0m\u001b[1;39m[\u001b[0m\n",
       "\u001b[39m      \u001b[0m\u001b[33mcall_jaxpr\u001b[0m\u001b[39m=\u001b[0m\u001b[1;39m{\u001b[0m\u001b[39m \u001b[0m\u001b[1;34mlambda \u001b[0m\u001b[39m; bo\u001b[0m\u001b[35m:bool\u001b[0m\u001b[1;35m[\u001b[0m\u001b[1;35m]\u001b[0m\u001b[39m bp\u001b[0m\u001b[35m:f32\u001b[0m\u001b[1;35m[\u001b[0m\u001b[1;35m]\u001b[0m\u001b[39m bq\u001b[0m\u001b[35m:f32\u001b[0m\u001b[1;35m[\u001b[0m\u001b[1;35m]\u001b[0m\u001b[39m. \u001b[0m\u001b[1;34mlet\u001b[0m\n",
       "\u001b[1;34m          \u001b[0m\u001b[39mbr\u001b[0m\u001b[35m:bool\u001b[0m\u001b[1;35m[\u001b[0m\u001b[1;35m]\u001b[0m\u001b[39m = convert_element_type\u001b[0m\u001b[1;39m[\u001b[0m\u001b[33mnew_dtype\u001b[0m\u001b[39m=\u001b[0m\u001b[35mbool\u001b[0m\u001b[39m \u001b[0m\u001b[33mweak_type\u001b[0m\u001b[39m=\u001b[0m\u001b[3;91mFalse\u001b[0m\u001b[1;39m]\u001b[0m\u001b[39m bo\u001b[0m\n",
       "\u001b[39m          bs\u001b[0m\u001b[35m:f32\u001b[0m\u001b[1;35m[\u001b[0m\u001b[1;35m]\u001b[0m\u001b[39m = select_n br bq bp\u001b[0m\n",
       "\u001b[39m        \u001b[0m\u001b[1;34min \u001b[0m\u001b[1;39m(\u001b[0m\u001b[39mbs,\u001b[0m\u001b[1;39m)\u001b[0m\u001b[39m \u001b[0m\u001b[1;39m}\u001b[0m\n",
       "\u001b[39m      \u001b[0m\u001b[33mname\u001b[0m\u001b[39m=\u001b[0m\u001b[35m_where\u001b[0m\n",
       "\u001b[39m    \u001b[0m\u001b[1;39m]\u001b[0m\u001b[39m y bm \u001b[0m\u001b[1;36m0.0\u001b[0m\n",
       "\u001b[39m    bt\u001b[0m\u001b[35m:f32\u001b[0m\u001b[1;35m[\u001b[0m\u001b[1;35m]\u001b[0m\u001b[39m = sub \u001b[0m\u001b[1;36m1.0\u001b[0m\u001b[39m x\u001b[0m\n",
       "\u001b[39m    bu\u001b[0m\u001b[35m:f32\u001b[0m\u001b[1;35m[\u001b[0m\u001b[1;35m]\u001b[0m\u001b[39m = neg b\u001b[0m\n",
       "\u001b[39m    bv\u001b[0m\u001b[35m:bool\u001b[0m\u001b[1;35m[\u001b[0m\u001b[1;35m]\u001b[0m\u001b[39m = ne bt \u001b[0m\u001b[1;36m0.0\u001b[0m\n",
       "\u001b[39m    bw\u001b[0m\u001b[35m:f32\u001b[0m\u001b[1;35m[\u001b[0m\u001b[1;35m]\u001b[0m\u001b[39m = xla_call\u001b[0m\u001b[1;39m[\u001b[0m\n",
       "\u001b[39m      \u001b[0m\u001b[33mcall_jaxpr\u001b[0m\u001b[39m=\u001b[0m\u001b[1;39m{\u001b[0m\u001b[39m \u001b[0m\u001b[1;34mlambda \u001b[0m\u001b[39m; bx\u001b[0m\u001b[35m:bool\u001b[0m\u001b[1;35m[\u001b[0m\u001b[1;35m]\u001b[0m\u001b[39m by\u001b[0m\u001b[35m:f32\u001b[0m\u001b[1;35m[\u001b[0m\u001b[1;35m]\u001b[0m\u001b[39m bz\u001b[0m\u001b[35m:f32\u001b[0m\u001b[1;35m[\u001b[0m\u001b[1;35m]\u001b[0m\u001b[39m. \u001b[0m\u001b[1;34mlet\u001b[0m\n",
       "\u001b[1;34m          \u001b[0m\u001b[1;92mca\u001b[0m\u001b[1;92m:b\u001b[0m\u001b[35mool\u001b[0m\u001b[1;35m[\u001b[0m\u001b[1;35m]\u001b[0m\u001b[39m = convert_element_type\u001b[0m\u001b[1;39m[\u001b[0m\u001b[33mnew_dtype\u001b[0m\u001b[39m=\u001b[0m\u001b[35mbool\u001b[0m\u001b[39m \u001b[0m\u001b[33mweak_type\u001b[0m\u001b[39m=\u001b[0m\u001b[3;91mFalse\u001b[0m\u001b[1;39m]\u001b[0m\u001b[39m bx\u001b[0m\n",
       "\u001b[39m          \u001b[0m\u001b[1;92mcb\u001b[0m\u001b[1;92m:f32\u001b[0m\u001b[1;35m[\u001b[0m\u001b[1;35m]\u001b[0m\u001b[39m = select_n ca bz by\u001b[0m\n",
       "\u001b[39m        \u001b[0m\u001b[1;34min \u001b[0m\u001b[1;39m(\u001b[0m\u001b[39mcb,\u001b[0m\u001b[1;39m)\u001b[0m\u001b[39m \u001b[0m\u001b[1;39m}\u001b[0m\n",
       "\u001b[39m      \u001b[0m\u001b[33mname\u001b[0m\u001b[39m=\u001b[0m\u001b[35m_where\u001b[0m\n",
       "\u001b[39m    \u001b[0m\u001b[1;39m]\u001b[0m\u001b[39m bv bt \u001b[0m\u001b[1;36m1.0\u001b[0m\n",
       "\u001b[39m    \u001b[0m\u001b[1;92mcc\u001b[0m\u001b[1;92m:f32\u001b[0m\u001b[1;35m[\u001b[0m\u001b[1;35m]\u001b[0m\u001b[39m = xla_call\u001b[0m\u001b[1;39m[\u001b[0m\n",
       "\u001b[39m      \u001b[0m\u001b[33mcall_jaxpr\u001b[0m\u001b[39m=\u001b[0m\u001b[1;39m{\u001b[0m\u001b[39m \u001b[0m\u001b[1;34mlambda \u001b[0m\u001b[39m; \u001b[0m\u001b[1;92mcd\u001b[0m\u001b[1;92m:b\u001b[0m\u001b[35mool\u001b[0m\u001b[1;35m[\u001b[0m\u001b[1;35m]\u001b[0m\u001b[39m \u001b[0m\u001b[1;92mce\u001b[0m\u001b[1;92m:f32\u001b[0m\u001b[1;35m[\u001b[0m\u001b[1;35m]\u001b[0m\u001b[39m \u001b[0m\u001b[1;92mcf\u001b[0m\u001b[1;92m:f32\u001b[0m\u001b[1;35m[\u001b[0m\u001b[1;35m]\u001b[0m\u001b[39m. \u001b[0m\u001b[1;34mlet\u001b[0m\n",
       "\u001b[1;34m          \u001b[0m\u001b[39mcg\u001b[0m\u001b[35m:bool\u001b[0m\u001b[1;35m[\u001b[0m\u001b[1;35m]\u001b[0m\u001b[39m = convert_element_type\u001b[0m\u001b[1;39m[\u001b[0m\u001b[33mnew_dtype\u001b[0m\u001b[39m=\u001b[0m\u001b[35mbool\u001b[0m\u001b[39m \u001b[0m\u001b[33mweak_type\u001b[0m\u001b[39m=\u001b[0m\u001b[3;91mFalse\u001b[0m\u001b[1;39m]\u001b[0m\u001b[39m cd\u001b[0m\n",
       "\u001b[39m          ch\u001b[0m\u001b[35m:f32\u001b[0m\u001b[1;35m[\u001b[0m\u001b[1;35m]\u001b[0m\u001b[39m = select_n cg cf ce\u001b[0m\n",
       "\u001b[39m        \u001b[0m\u001b[1;34min \u001b[0m\u001b[1;39m(\u001b[0m\u001b[39mch,\u001b[0m\u001b[1;39m)\u001b[0m\u001b[39m \u001b[0m\u001b[1;39m}\u001b[0m\n",
       "\u001b[39m      \u001b[0m\u001b[33mname\u001b[0m\u001b[39m=\u001b[0m\u001b[35m_where\u001b[0m\n",
       "\u001b[39m    \u001b[0m\u001b[1;39m]\u001b[0m\u001b[39m bv bu \u001b[0m\u001b[1;36m1.0\u001b[0m\n",
       "\u001b[39m    ci\u001b[0m\u001b[35m:f32\u001b[0m\u001b[1;35m[\u001b[0m\u001b[1;35m]\u001b[0m\u001b[39m = log1p cc\u001b[0m\n",
       "\u001b[39m    cj\u001b[0m\u001b[35m:f32\u001b[0m\u001b[1;35m[\u001b[0m\u001b[1;35m]\u001b[0m\u001b[39m = mul bw ci\u001b[0m\n",
       "\u001b[39m    ck\u001b[0m\u001b[35m:f32\u001b[0m\u001b[1;35m[\u001b[0m\u001b[1;35m]\u001b[0m\u001b[39m = xla_call\u001b[0m\u001b[1;39m[\u001b[0m\n",
       "\u001b[39m      \u001b[0m\u001b[33mcall_jaxpr\u001b[0m\u001b[39m=\u001b[0m\u001b[1;39m{\u001b[0m\u001b[39m \u001b[0m\u001b[1;34mlambda \u001b[0m\u001b[39m; cl\u001b[0m\u001b[35m:bool\u001b[0m\u001b[1;35m[\u001b[0m\u001b[1;35m]\u001b[0m\u001b[39m cm\u001b[0m\u001b[35m:f32\u001b[0m\u001b[1;35m[\u001b[0m\u001b[1;35m]\u001b[0m\u001b[39m cn\u001b[0m\u001b[35m:f32\u001b[0m\u001b[1;35m[\u001b[0m\u001b[1;35m]\u001b[0m\u001b[39m. \u001b[0m\u001b[1;34mlet\u001b[0m\n",
       "\u001b[1;34m          \u001b[0m\u001b[39mco\u001b[0m\u001b[35m:bool\u001b[0m\u001b[1;35m[\u001b[0m\u001b[1;35m]\u001b[0m\u001b[39m = convert_element_type\u001b[0m\u001b[1;39m[\u001b[0m\u001b[33mnew_dtype\u001b[0m\u001b[39m=\u001b[0m\u001b[35mbool\u001b[0m\u001b[39m \u001b[0m\u001b[33mweak_type\u001b[0m\u001b[39m=\u001b[0m\u001b[3;91mFalse\u001b[0m\u001b[1;39m]\u001b[0m\u001b[39m cl\u001b[0m\n",
       "\u001b[39m          cp\u001b[0m\u001b[35m:f32\u001b[0m\u001b[1;35m[\u001b[0m\u001b[1;35m]\u001b[0m\u001b[39m = select_n co cn cm\u001b[0m\n",
       "\u001b[39m        \u001b[0m\u001b[1;34min \u001b[0m\u001b[1;39m(\u001b[0m\u001b[39mcp,\u001b[0m\u001b[1;39m)\u001b[0m\u001b[39m \u001b[0m\u001b[1;39m}\u001b[0m\n",
       "\u001b[39m      \u001b[0m\u001b[33mname\u001b[0m\u001b[39m=\u001b[0m\u001b[35m_where\u001b[0m\n",
       "\u001b[39m    \u001b[0m\u001b[1;39m]\u001b[0m\u001b[39m bv cj \u001b[0m\u001b[1;36m0.0\u001b[0m\n",
       "\u001b[39m    cq\u001b[0m\u001b[35m:f32\u001b[0m\u001b[1;35m[\u001b[0m\u001b[1;35m]\u001b[0m\u001b[39m = add bn ck\u001b[0m\n",
       "\u001b[39m    cr\u001b[0m\u001b[35m:bool\u001b[0m\u001b[1;35m[\u001b[0m\u001b[1;35m]\u001b[0m\u001b[39m = lt x \u001b[0m\u001b[1;36m0.0\u001b[0m\n",
       "\u001b[39m    cs\u001b[0m\u001b[35m:bool\u001b[0m\u001b[1;35m[\u001b[0m\u001b[1;35m]\u001b[0m\u001b[39m = gt x \u001b[0m\u001b[1;36m1.0\u001b[0m\n",
       "\u001b[39m    ct\u001b[0m\u001b[35m:bool\u001b[0m\u001b[1;35m[\u001b[0m\u001b[1;35m]\u001b[0m\u001b[39m = convert_element_type\u001b[0m\u001b[1;39m[\u001b[0m\u001b[33mnew_dtype\u001b[0m\u001b[39m=\u001b[0m\u001b[35mbool\u001b[0m\u001b[39m \u001b[0m\u001b[33mweak_type\u001b[0m\u001b[39m=\u001b[0m\u001b[3;91mFalse\u001b[0m\u001b[1;39m]\u001b[0m\u001b[39m cr\u001b[0m\n",
       "\u001b[39m    cu\u001b[0m\u001b[35m:bool\u001b[0m\u001b[1;35m[\u001b[0m\u001b[1;35m]\u001b[0m\u001b[39m = convert_element_type\u001b[0m\u001b[1;39m[\u001b[0m\u001b[33mnew_dtype\u001b[0m\u001b[39m=\u001b[0m\u001b[35mbool\u001b[0m\u001b[39m \u001b[0m\u001b[33mweak_type\u001b[0m\u001b[39m=\u001b[0m\u001b[3;91mFalse\u001b[0m\u001b[1;39m]\u001b[0m\u001b[39m cs\u001b[0m\n",
       "\u001b[39m    cv\u001b[0m\u001b[35m:bool\u001b[0m\u001b[1;35m[\u001b[0m\u001b[1;35m]\u001b[0m\u001b[39m = or ct cu\u001b[0m\n",
       "\u001b[39m    cw\u001b[0m\u001b[35m:f32\u001b[0m\u001b[1;35m[\u001b[0m\u001b[1;35m]\u001b[0m\u001b[39m = xla_call\u001b[0m\u001b[1;39m[\u001b[0m\n",
       "\u001b[39m      \u001b[0m\u001b[33mcall_jaxpr\u001b[0m\u001b[39m=\u001b[0m\u001b[1;39m{\u001b[0m\u001b[39m \u001b[0m\u001b[1;34mlambda \u001b[0m\u001b[39m; cx\u001b[0m\u001b[35m:bool\u001b[0m\u001b[1;35m[\u001b[0m\u001b[1;35m]\u001b[0m\u001b[39m cy\u001b[0m\u001b[35m:f32\u001b[0m\u001b[1;35m[\u001b[0m\u001b[1;35m]\u001b[0m\u001b[39m cz\u001b[0m\u001b[35m:f32\u001b[0m\u001b[1;35m[\u001b[0m\u001b[1;35m]\u001b[0m\u001b[39m. \u001b[0m\u001b[1;34mlet\u001b[0m\n",
       "\u001b[1;34m          \u001b[0m\u001b[1;92mda\u001b[0m\u001b[1;92m:f32\u001b[0m\u001b[1;35m[\u001b[0m\u001b[1;35m]\u001b[0m\u001b[39m = select_n cx cz cy\u001b[0m\n",
       "\u001b[39m        \u001b[0m\u001b[1;34min \u001b[0m\u001b[1;39m(\u001b[0m\u001b[39mda,\u001b[0m\u001b[1;39m)\u001b[0m\u001b[39m \u001b[0m\u001b[1;39m}\u001b[0m\n",
       "\u001b[39m      \u001b[0m\u001b[33mname\u001b[0m\u001b[39m=\u001b[0m\u001b[35m_where\u001b[0m\n",
       "\u001b[39m    \u001b[0m\u001b[1;39m]\u001b[0m\u001b[39m cv -inf cq\u001b[0m\n",
       "\u001b[39m    \u001b[0m\u001b[1;92mdb\u001b[0m\u001b[1;92m:f32\u001b[0m\u001b[1;35m[\u001b[0m\u001b[1;35m]\u001b[0m\u001b[39m = convert_element_type\u001b[0m\u001b[1;39m[\u001b[0m\u001b[33mnew_dtype\u001b[0m\u001b[39m=\u001b[0m\u001b[35mfloat32\u001b[0m\u001b[39m \u001b[0m\u001b[33mweak_type\u001b[0m\u001b[39m=\u001b[0m\u001b[3;91mFalse\u001b[0m\u001b[1;39m]\u001b[0m\u001b[39m cw\u001b[0m\n",
       "\u001b[39m    \u001b[0m\u001b[1;92mdc\u001b[0m\u001b[1;92m:f32\u001b[0m\u001b[1;35m[\u001b[0m\u001b[1;35m]\u001b[0m\u001b[39m = reduce_sum\u001b[0m\u001b[1;39m[\u001b[0m\u001b[33maxes\u001b[0m\u001b[39m=\u001b[0m\u001b[1;39m(\u001b[0m\u001b[1;39m)\u001b[0m\u001b[1;39m]\u001b[0m\u001b[39m db\u001b[0m\n",
       "\u001b[39m    \u001b[0m\u001b[1;92mdd\u001b[0m\u001b[1;92m:f32\u001b[0m\u001b[1;35m[\u001b[0m\u001b[1;35m]\u001b[0m\u001b[39m = add \u001b[0m\u001b[1;36m0.0\u001b[0m\u001b[39m dc\u001b[0m\n",
       "\u001b[39m    \u001b[0m\u001b[1;92mde\u001b[0m\u001b[1;92m:f32\u001b[0m\u001b[1;35m[\u001b[0m\u001b[1;35m]\u001b[0m\u001b[39m = add \u001b[0m\u001b[1;36m0.0\u001b[0m\u001b[39m dd\u001b[0m\n",
       "\u001b[39m  \u001b[0m\u001b[1;34min \u001b[0m\u001b[1;39m(\u001b[0m\u001b[39mg, b, v, b, v, b, v, dc, dd, de\u001b[0m\u001b[1;39m)\u001b[0m\u001b[39m \u001b[0m\u001b[1;39m}\u001b[0m\n"
      ]
     },
     "metadata": {},
     "output_type": "display_data"
    }
   ],
   "source": [
    "jaxpr = jax.make_jaxpr(genjax.simulate(h))(key, (0.3,))\n",
    "jaxpr"
   ]
  },
  {
   "cell_type": "markdown",
   "id": "aeb1c4fa-6a37-46ee-aa10-dabde03d31af",
   "metadata": {},
   "source": [
    "## Generative function interface"
   ]
  },
  {
   "cell_type": "markdown",
   "id": "9f2cc0c8-ea7c-438c-aa3d-ad48831888e9",
   "metadata": {},
   "source": [
    "GenJAX's generative functions define an interface which support compositional usage of generative functions within other generative functions. The interface functions here closely mirror [the interfaces defined in Gen](https://www.gen.dev/docs/stable/ref/gfi/#Generative-function-interface-1), deviating only when interfaces are redundant (or implemented in Gen.jl for performance optimized code paths - which may not be relevant to our implementation).\n",
    "\n",
    "| Interface | Type | Inference algorithm support |\n",
    "| --- | --- | --- |\n",
    "| `simulate` | Generative | Importance sampling, SMC |\n",
    "| `importance` | Generative | Importance sampling, SMC |\n",
    "| `update` | Generative/incremental | MCMC, SMC |\n",
    "| `choice_vjp` | Differentiable | Differentiable Monte Carlo |\n",
    "| `retval_vjp` | Differentiable | Involutive MCMC and SMC |\n",
    "\n",
    "This interface supports several methods -- I've roughly described them and split them into the two categories **Generative** and **Differentiable** below:\n",
    "\n",
    "#### Generative\n",
    "\n",
    "* `simulate` - sample from normalized trace measure, and return the score.\n",
    "* `importance` - given constraints for some addresses, sample from unnormalized trace measure and return an importance weight.\n",
    "* `update` - given an existing trace, and a set of constraints and argument , update the trace to be consistent with the set of constraints under execution with the new arguments, and return an incremental importance weight.\n",
    "\n",
    "#### Differentiable\n",
    "\n",
    "Below, the term `pullback` is used to denote mappings from cotangents of return values of a function to cotangents of primals (argument inputs).\n",
    "\n",
    "* `choice_vjp` - compute (using reverse mode) the pullback of log joint with respect to selected random choices (selected via a `genjax.Selection` - see below) *and* the arguments to the generative function call. This is similar to JAX's `vjp` - it returns the same signature, but the pullback computes the gradient defined in the previous sentence. \n",
    "\n",
    "**Short**: get the gradients wrt log pdf of random choices, and the gradients wrt log pdf of arguments.\n",
    "\n",
    "* `retval_vjp` - compute (using reverse mode) the pullback of the return value function with respect to selected random choices (selected via a `genjax.Selection` - see below). This is similar to JAX's `vjp` - it returns the same signature, but the pullback computes the gradient defined in the previous sentence.\n",
    "\n",
    "**Short**: get the gradients wrt return value function of selected choices, and the gradients wrt return value function of arguments.\n",
    "\n",
    "**Note**: forward mode versions can easily be defined for both of these interfaces - there's no fundamental restriction on which mode you use."
   ]
  },
  {
   "cell_type": "markdown",
   "id": "657faf34-b67d-46a4-8f24-fdc79cecfcf3",
   "metadata": {},
   "source": [
    "## More about generative functions"
   ]
  },
  {
   "cell_type": "markdown",
   "id": "d841abef-c0a6-43f4-970d-b8b8626b53b3",
   "metadata": {},
   "source": [
    "### Distributions are generative functions"
   ]
  },
  {
   "cell_type": "markdown",
   "id": "b0d061e8-9db9-4645-8ae5-fe91b7627da7",
   "metadata": {},
   "source": [
    "In GenJAX, distributions are generative functions."
   ]
  },
  {
   "cell_type": "code",
   "execution_count": 5,
   "id": "b200ee17-1c9d-48b9-a978-e71f5b308b59",
   "metadata": {},
   "outputs": [
    {
     "data": {
      "text/html": [
       "<pre style=\"white-space:pre;overflow-x:auto;line-height:normal;font-family:Menlo,'DejaVu Sans Mono',consolas,'Courier New',monospace\">\n",
       "</pre>\n"
      ],
      "text/plain": [
       "\n"
      ]
     },
     "metadata": {},
     "output_type": "display_data"
    },
    {
     "data": {
      "text/html": [
       "<pre style=\"white-space:pre;overflow-x:auto;line-height:normal;font-family:Menlo,'DejaVu Sans Mono',consolas,'Courier New',monospace\">\n",
       "<span style=\"font-weight: bold\">DistributionTrace</span>\n",
       "├── <span style=\"color: #000080; text-decoration-color: #000080\">gen_fn</span>\n",
       "│   └── <span style=\"font-weight: bold\">_Normal</span>\n",
       "├── <span style=\"color: #000080; text-decoration-color: #000080\">args</span>\n",
       "│   └── (0.0, 1.0)\n",
       "├── <span style=\"color: #000080; text-decoration-color: #000080\">value</span>\n",
       "│   └── <span style=\"font-weight: bold\">ValueChoiceMap</span>\n",
       "│       └── f32[]\n",
       "└── <span style=\"color: #000080; text-decoration-color: #000080\">score</span>\n",
       "    └── f32[]\n",
       "</pre>\n"
      ],
      "text/plain": [
       "\n",
       "\u001b[1mDistributionTrace\u001b[0m\n",
       "├── \u001b[34mgen_fn\u001b[0m\n",
       "│   └── \u001b[1m_Normal\u001b[0m\n",
       "├── \u001b[34margs\u001b[0m\n",
       "│   └── (0.0, 1.0)\n",
       "├── \u001b[34mvalue\u001b[0m\n",
       "│   └── \u001b[1mValueChoiceMap\u001b[0m\n",
       "│       └── f32[]\n",
       "└── \u001b[34mscore\u001b[0m\n",
       "    └── f32[]\n"
      ]
     },
     "metadata": {},
     "output_type": "display_data"
    }
   ],
   "source": [
    "key, tr = genjax.simulate(genjax.Normal)(key, (0.0, 1.0))\n",
    "tr"
   ]
  },
  {
   "cell_type": "markdown",
   "id": "ef2897f6-a5b3-4acc-92bf-1c3365897012",
   "metadata": {},
   "source": [
    "### Associated data types\n",
    "\n",
    "* **Choice maps** are the dictionary-like recordings of random choices in a trace.\n",
    "* **Selection** is an object which allows querying a trace/choice map - selecting certain choices."
   ]
  },
  {
   "cell_type": "code",
   "execution_count": 6,
   "id": "80644e14-30af-4b95-8299-22e8851852c4",
   "metadata": {},
   "outputs": [
    {
     "data": {
      "text/html": [
       "<pre style=\"white-space:pre;overflow-x:auto;line-height:normal;font-family:Menlo,'DejaVu Sans Mono',consolas,'Courier New',monospace\">\n",
       "</pre>\n"
      ],
      "text/plain": [
       "\n"
      ]
     },
     "metadata": {},
     "output_type": "display_data"
    },
    {
     "data": {
      "text/html": [
       "<pre style=\"white-space:pre;overflow-x:auto;line-height:normal;font-family:Menlo,'DejaVu Sans Mono',consolas,'Courier New',monospace\">\n",
       "<span style=\"font-weight: bold\">BuiltinTrace</span>\n",
       "├── <span style=\"color: #000080; text-decoration-color: #000080\">gen_fn</span>\n",
       "│   └── <span style=\"font-weight: bold\">BuiltinGenerativeFunction</span>\n",
       "│       └── <span style=\"color: #000080; text-decoration-color: #000080\">source</span>\n",
       "│           └── &lt;function h&gt;\n",
       "├── <span style=\"color: #000080; text-decoration-color: #000080\">args</span>\n",
       "│   └── (0.3,)\n",
       "├── <span style=\"color: #000080; text-decoration-color: #000080\">retval</span>\n",
       "│   └── bool[]\n",
       "├── <span style=\"color: #000080; text-decoration-color: #000080\">choices</span>\n",
       "│   └── <span style=\"font-weight: bold\">BuiltinChoiceMap</span>\n",
       "│       ├── <span style=\"color: #008000; text-decoration-color: #008000; font-weight: bold\">m0</span>\n",
       "│       │   └── <span style=\"font-weight: bold\">DistributionTrace</span>\n",
       "│       │       ├── <span style=\"color: #000080; text-decoration-color: #000080\">gen_fn</span>\n",
       "│       │       │   └── <span style=\"font-weight: bold\">_Bernoulli</span>\n",
       "│       │       ├── <span style=\"color: #000080; text-decoration-color: #000080\">args</span>\n",
       "│       │       │   └── (0.3,)\n",
       "│       │       ├── <span style=\"color: #000080; text-decoration-color: #000080\">value</span>\n",
       "│       │       │   └── <span style=\"font-weight: bold\">ValueChoiceMap</span>\n",
       "│       │       │       └── bool[]\n",
       "│       │       └── <span style=\"color: #000080; text-decoration-color: #000080\">score</span>\n",
       "│       │           └── f32[]\n",
       "│       └── <span style=\"color: #008000; text-decoration-color: #008000; font-weight: bold\">m1</span>\n",
       "│           └── <span style=\"font-weight: bold\">DistributionTrace</span>\n",
       "│               ├── <span style=\"color: #000080; text-decoration-color: #000080\">gen_fn</span>\n",
       "│               │   └── <span style=\"font-weight: bold\">_Bernoulli</span>\n",
       "│               ├── <span style=\"color: #000080; text-decoration-color: #000080\">args</span>\n",
       "│               │   └── (0.3,)\n",
       "│               ├── <span style=\"color: #000080; text-decoration-color: #000080\">value</span>\n",
       "│               │   └── <span style=\"font-weight: bold\">ValueChoiceMap</span>\n",
       "│               │       └── bool[]\n",
       "│               └── <span style=\"color: #000080; text-decoration-color: #000080\">score</span>\n",
       "│                   └── f32[]\n",
       "└── <span style=\"color: #000080; text-decoration-color: #000080\">score</span>\n",
       "    └── f32[]\n",
       "</pre>\n"
      ],
      "text/plain": [
       "\n",
       "\u001b[1mBuiltinTrace\u001b[0m\n",
       "├── \u001b[34mgen_fn\u001b[0m\n",
       "│   └── \u001b[1mBuiltinGenerativeFunction\u001b[0m\n",
       "│       └── \u001b[34msource\u001b[0m\n",
       "│           └── <function h>\n",
       "├── \u001b[34margs\u001b[0m\n",
       "│   └── (0.3,)\n",
       "├── \u001b[34mretval\u001b[0m\n",
       "│   └── bool[]\n",
       "├── \u001b[34mchoices\u001b[0m\n",
       "│   └── \u001b[1mBuiltinChoiceMap\u001b[0m\n",
       "│       ├── \u001b[1;32mm0\u001b[0m\n",
       "│       │   └── \u001b[1mDistributionTrace\u001b[0m\n",
       "│       │       ├── \u001b[34mgen_fn\u001b[0m\n",
       "│       │       │   └── \u001b[1m_Bernoulli\u001b[0m\n",
       "│       │       ├── \u001b[34margs\u001b[0m\n",
       "│       │       │   └── (0.3,)\n",
       "│       │       ├── \u001b[34mvalue\u001b[0m\n",
       "│       │       │   └── \u001b[1mValueChoiceMap\u001b[0m\n",
       "│       │       │       └── bool[]\n",
       "│       │       └── \u001b[34mscore\u001b[0m\n",
       "│       │           └── f32[]\n",
       "│       └── \u001b[1;32mm1\u001b[0m\n",
       "│           └── \u001b[1mDistributionTrace\u001b[0m\n",
       "│               ├── \u001b[34mgen_fn\u001b[0m\n",
       "│               │   └── \u001b[1m_Bernoulli\u001b[0m\n",
       "│               ├── \u001b[34margs\u001b[0m\n",
       "│               │   └── (0.3,)\n",
       "│               ├── \u001b[34mvalue\u001b[0m\n",
       "│               │   └── \u001b[1mValueChoiceMap\u001b[0m\n",
       "│               │       └── bool[]\n",
       "│               └── \u001b[34mscore\u001b[0m\n",
       "│                   └── f32[]\n",
       "└── \u001b[34mscore\u001b[0m\n",
       "    └── f32[]\n"
      ]
     },
     "metadata": {},
     "output_type": "display_data"
    }
   ],
   "source": [
    "@genjax.gen\n",
    "def h(key, x):\n",
    "    key, m1 = genjax.trace(\"m0\", genjax.Bernoulli)(key, (x,))\n",
    "    key, m2 = genjax.trace(\"m1\", genjax.Bernoulli)(key, (x,))\n",
    "    return (key, m1 + m2)\n",
    "\n",
    "\n",
    "key, tr = genjax.simulate(h)(key, (0.3,))\n",
    "tr"
   ]
  },
  {
   "cell_type": "code",
   "execution_count": 7,
   "id": "34981530-4df7-469d-9511-308dabb3a7a1",
   "metadata": {},
   "outputs": [
    {
     "data": {
      "text/html": [
       "<pre style=\"white-space:pre;overflow-x:auto;line-height:normal;font-family:Menlo,'DejaVu Sans Mono',consolas,'Courier New',monospace\">\n",
       "</pre>\n"
      ],
      "text/plain": [
       "\n"
      ]
     },
     "metadata": {},
     "output_type": "display_data"
    },
    {
     "data": {
      "text/html": [
       "<pre style=\"white-space:pre;overflow-x:auto;line-height:normal;font-family:Menlo,'DejaVu Sans Mono',consolas,'Courier New',monospace\">\n",
       "<span style=\"font-weight: bold\">BuiltinChoiceMap</span>\n",
       "└── <span style=\"color: #008000; text-decoration-color: #008000; font-weight: bold\">m1</span>\n",
       "    └── <span style=\"font-weight: bold\">DistributionTrace</span>\n",
       "        ├── <span style=\"color: #000080; text-decoration-color: #000080\">gen_fn</span>\n",
       "        │   └── <span style=\"font-weight: bold\">_Bernoulli</span>\n",
       "        ├── <span style=\"color: #000080; text-decoration-color: #000080\">args</span>\n",
       "        │   └── (0.3,)\n",
       "        ├── <span style=\"color: #000080; text-decoration-color: #000080\">value</span>\n",
       "        │   └── <span style=\"font-weight: bold\">ValueChoiceMap</span>\n",
       "        │       └── bool[]\n",
       "        └── <span style=\"color: #000080; text-decoration-color: #000080\">score</span>\n",
       "            └── f32[]\n",
       "</pre>\n"
      ],
      "text/plain": [
       "\n",
       "\u001b[1mBuiltinChoiceMap\u001b[0m\n",
       "└── \u001b[1;32mm1\u001b[0m\n",
       "    └── \u001b[1mDistributionTrace\u001b[0m\n",
       "        ├── \u001b[34mgen_fn\u001b[0m\n",
       "        │   └── \u001b[1m_Bernoulli\u001b[0m\n",
       "        ├── \u001b[34margs\u001b[0m\n",
       "        │   └── (0.3,)\n",
       "        ├── \u001b[34mvalue\u001b[0m\n",
       "        │   └── \u001b[1mValueChoiceMap\u001b[0m\n",
       "        │       └── bool[]\n",
       "        └── \u001b[34mscore\u001b[0m\n",
       "            └── f32[]\n"
      ]
     },
     "metadata": {},
     "output_type": "display_data"
    }
   ],
   "source": [
    "select = genjax.Selection([\"m1\"])\n",
    "selected, _ = select.filter(tr)\n",
    "selected"
   ]
  }
 ],
 "metadata": {
  "kernelspec": {
   "display_name": "Python 3 (ipykernel)",
   "language": "python",
   "name": "python3"
  },
  "language_info": {
   "codemirror_mode": {
    "name": "ipython",
    "version": 3
   },
   "file_extension": ".py",
   "mimetype": "text/x-python",
   "name": "python",
   "nbconvert_exporter": "python",
   "pygments_lexer": "ipython3",
   "version": "3.10.8"
  }
 },
 "nbformat": 4,
 "nbformat_minor": 5
}
