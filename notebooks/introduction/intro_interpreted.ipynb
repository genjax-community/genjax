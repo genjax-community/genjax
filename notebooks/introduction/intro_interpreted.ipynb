{
 "cells": [
  {
   "cell_type": "markdown",
   "id": "8e424b02a6e639ef",
   "metadata": {},
   "source": [
    "## Introduction to Interpreted GenJAX\n",
    "\n",
    "This notebook will give a tour of the interpreted dialect of GenJAX, the probabilistic computing system developed by the [MIT Probabilistic Computing Laboratory](http://probcomp.csail.mit.edu/).\n",
    "\n",
    "GenJAX provides two dialects for writing probabilistic programs.  The _static_ dialect is designed to be compiled to run on GPUs (or CPUs); a tutorial on the static dialect is available [here](intro_to_genjax.ipynb).  The _interpreted_ dialect is designed to be run on CPUs only, through the Python interpreter; it is the subject of this notebook.\n",
    "\n",
    "The static dialect of GenJAX is more restricted than the interpreted dialect, to enable compilation to GPUs and other hardware platforms, using [JAX](https://jax.readthedocs.io/).  For instance, one restriction is that native Python control flow cannot be used; instead, static GenJAX programs must use a different representation for branching computation that is compatible with JAX's approach to GPU compilation.\n",
    "\n",
    "The interpreted dialect of GenJAX can be used to write probabilistic programs without these restrictions.  (The downside is that interpreted GenJAX programs run much more slowly, since they run through the Python interpreter and do not utilize GPU parallelism.)  The interpreted dialect is intended (1) to facilitate learning to use GenJAX, (2) to facilitate rapid prototyping, and (3) to make it easier to write models and inference algorithms in applications where performance is not a bottleneck. \n",
    "\n",
    "For the present, we'll set those concerns aside and proceed with a simple inference task in the easy-going interpreted dialect."
   ]
  },
  {
   "cell_type": "code",
   "execution_count": 1,
   "id": "b152875b5dfaa18c",
   "metadata": {},
   "outputs": [],
   "source": [
    "import genjax\n",
    "import jax\n",
    "import jax.numpy as jnp\n",
    "import matplotlib.pyplot as plt\n",
    "import numpy as np\n",
    "from genjax import interpreted_gen_fn\n",
    "\n",
    "key = jax.random.PRNGKey(314159)\n",
    "console = genjax.console(enforce_checkify=True, width=60)"
   ]
  },
  {
   "cell_type": "markdown",
   "id": "33d1aa72",
   "metadata": {},
   "source": [
    "A few notes about the prefatory material above. GenJAX uses JAX, and JAX provides its own flavor of numpy, which we will call `jnp` in this notebook. The main difference between jnp and numpy is that vectors and tensors are immutable once constructed: instead of changing them, you must make a copy with the updates you require. We could use regular numpy in the interpreted dialect, but it turns out that it's not difficult to work with jnp even in the interpreted case.\n",
    "\n",
    "GenJAX allows the production of reproducible scientific work through the use of a \"splittable\" random number generator. You can set the initial seed of the generator as we have done above. Then, when we need random numbers within a function, we will split the generator and hand one fork to the function and keep the other fork at the topmost level. In this way, provided that the notebook cells are evaluated from top to bottom, all the random choices will be made in the same way each time. We encourage this technique for your own work to produce reproducible scientific communication.\n",
    "\n",
    "Let's create our first generative function:"
   ]
  },
  {
   "cell_type": "code",
   "execution_count": 2,
   "id": "initial_id",
   "metadata": {},
   "outputs": [],
   "source": [
    "@interpreted_gen_fn\n",
    "def g(x):\n",
    "    b = genjax.flip(x) @ \"b\"\n",
    "    return b"
   ]
  },
  {
   "cell_type": "markdown",
   "id": "12fbf999",
   "metadata": {},
   "source": [
    "The `@interpreted` decoration is a bridge between an ordinary Python function and the [Generative Function](https://www.gen.dev/docs/stable/ref/gfi/#Generative-Functions) interface, which is at the heart of the Gen model of probabilistic programming. You can regard the `@` sign as something like the $\\sim$ operator in statistics. (That is, `distribution @ \"b\"` roughly means $b \\sim \\text{distribution}$).  In the above code, `genjax.flip(x) @ b` describes $b$ as a random variable with a $\\text{Bernoulli}(x)$ distribution (like tossing a coin with $x$ as the probability of heads). The GenJAX system uses the string name `\"b\"` to record the name of the random variable; it cannot see the name of the Python variable to which you assigned the value, but of course it's convenient to use the same name in both cases.\n",
    "\n",
    "(Note that in addition to `genjax.flip`, there is a `genjax.bernoulli` distribution, but its argument is the log odds $\\log \\frac{p}{1-p}$, rather than the probability $p$.)\n",
    "\n",
    "The `@interpreted` decoration has equipped our function $g$ with the method `simulate`, which will draw a value from the distribution:"
   ]
  },
  {
   "cell_type": "code",
   "execution_count": 3,
   "id": "cbc14c434d3de4ce",
   "metadata": {},
   "outputs": [
    {
     "data": {
      "text/html": [
       "<pre style=\"white-space:pre;overflow-x:auto;line-height:normal;font-family:Menlo,'DejaVu Sans Mono',consolas,'Courier New',monospace\"><span style=\"font-weight: bold\">InterpretedTrace</span>\n",
       "├── gen_fn\n",
       "│   └── <span style=\"font-weight: bold\">InterpretedGenerativeFunction</span>\n",
       "│       └── source\n",
       "│           └── &lt;function g&gt;\n",
       "├── args\n",
       "│   └── <span style=\"font-weight: bold\">tuple</span>\n",
       "│       └── (const) 0.3\n",
       "├── retval\n",
       "│   └──  i32[]\n",
       "├── choices\n",
       "│   └── <span style=\"font-weight: bold\">Trie</span>\n",
       "│       └── <span style=\"font-weight: bold\">:b</span>\n",
       "│           └── <span style=\"font-weight: bold\">DistributionTrace</span>\n",
       "│               ├── gen_fn\n",
       "│               │   └── <span style=\"font-weight: bold\">TFPDistribution</span>\n",
       "│               │       └── make_distribution\n",
       "│               │           └── &lt;function &lt;lambda&gt;&gt;\n",
       "│               ├── args\n",
       "│               │   └── <span style=\"font-weight: bold\">tuple</span>\n",
       "│               │       └── (const) 0.3\n",
       "│               ├── value\n",
       "│               │   └──  i32[]\n",
       "│               └── score\n",
       "│                   └──  f32[]\n",
       "└── score\n",
       "    └──  f32[]\n",
       "</pre>\n"
      ],
      "text/plain": [
       "\u001b[1mInterpretedTrace\u001b[0m\n",
       "├── gen_fn\n",
       "│   └── \u001b[1mInterpretedGenerativeFunction\u001b[0m\n",
       "│       └── source\n",
       "│           └── <function g>\n",
       "├── args\n",
       "│   └── \u001b[1mtuple\u001b[0m\n",
       "│       └── (const) 0.3\n",
       "├── retval\n",
       "│   └──  i32[]\n",
       "├── choices\n",
       "│   └── \u001b[1mTrie\u001b[0m\n",
       "│       └── \u001b[1m:b\u001b[0m\n",
       "│           └── \u001b[1mDistributionTrace\u001b[0m\n",
       "│               ├── gen_fn\n",
       "│               │   └── \u001b[1mTFPDistribution\u001b[0m\n",
       "│               │       └── make_distribution\n",
       "│               │           └── <function <lambda>>\n",
       "│               ├── args\n",
       "│               │   └── \u001b[1mtuple\u001b[0m\n",
       "│               │       └── (const) 0.3\n",
       "│               ├── value\n",
       "│               │   └──  i32[]\n",
       "│               └── score\n",
       "│                   └──  f32[]\n",
       "└── score\n",
       "    └──  f32[]\n"
      ]
     },
     "metadata": {},
     "output_type": "display_data"
    }
   ],
   "source": [
    "key, sub_key = jax.random.split(key)\n",
    "tr = g.simulate(sub_key, (0.3,))\n",
    "console.print(tr)"
   ]
  },
  {
   "cell_type": "markdown",
   "id": "f16602c8",
   "metadata": {},
   "source": [
    "Running the function has produced a tree structure called a _trace_ which records the result of random choices made during the function's execution. As generative functions call other generative functions, the trace will become more elaborate. The value itself is in an array; to see it, we can call "
   ]
  },
  {
   "cell_type": "code",
   "execution_count": 4,
   "id": "e0d02bce6c22b6cb",
   "metadata": {},
   "outputs": [
    {
     "data": {
      "text/plain": [
       "Array(1, dtype=int32)"
      ]
     },
     "execution_count": 4,
     "metadata": {},
     "output_type": "execute_result"
    }
   ],
   "source": [
    "tr.get_retval()"
   ]
  },
  {
   "cell_type": "markdown",
   "id": "e2c46873",
   "metadata": {},
   "source": [
    "If we'd like to draw more of a sample, we'll need more subkeys to get the randomness we need.  We can implement this as follows:"
   ]
  },
  {
   "cell_type": "code",
   "execution_count": 5,
   "id": "da4277e4",
   "metadata": {},
   "outputs": [
    {
     "data": {
      "text/plain": [
       "[1, 0, 1, 0, 1, 0, 0, 0, 0, 0, 0, 1, 1, 0, 0, 0, 0, 0, 0, 0]"
      ]
     },
     "execution_count": 5,
     "metadata": {},
     "output_type": "execute_result"
    }
   ],
   "source": [
    "n_samples = 20\n",
    "key, *sub_keys = jax.random.split(key, n_samples + 1)\n",
    "[g.simulate(k, (0.3,)).get_retval().item() for k in sub_keys]"
   ]
  },
  {
   "cell_type": "markdown",
   "id": "47f63e12",
   "metadata": {},
   "source": [
    "### Compound Models\n",
    "Our little function `g` didn't do much: it was just a wrapper for `genjax.flip`, which is already a generative function.  Now we will create some more involved generative functions that mix distributions in more interesting ways. We will ultimately combine these generative functions in a top-level generative function, `model`, which models data noisly distributed around a quadratic function, with some outliers.  After writing this model, we will write an inference algorithm which can infer the coefficients of the quadratic function while automatically classifying outliers.  (One benefit of outlier classification is that the inferred possible quadradic functions underlying the data will be less skewed by the outliers.)"
   ]
  },
  {
   "cell_type": "code",
   "execution_count": 6,
   "id": "28423194e6895e86",
   "metadata": {},
   "outputs": [],
   "source": [
    "def polynomial(coefficients):\n",
    "    \"\"\"Given coefficients of a polynomial a_0, a_1, ..., return a function\n",
    "    computing a_0 x^0 + a_1 x^1 + ...\"\"\"\n",
    "\n",
    "    def f(x):\n",
    "        powers_of_x = jnp.array([x**i for i in range(len(coefficients))])\n",
    "        return jnp.sum(coefficients * powers_of_x)\n",
    "\n",
    "    return f\n",
    "\n",
    "\n",
    "@interpreted_gen_fn\n",
    "def model_y(x, f):\n",
    "    \"\"\"Given x and f, model f(x) plus a small amount of gaussian noise.\"\"\"\n",
    "    y = genjax.normal(f(x), 0.3) @ \"value\"\n",
    "    return y\n",
    "\n",
    "\n",
    "@interpreted_gen_fn\n",
    "def outlier_model(x, f):\n",
    "    \"\"\"Like model_y, except this time we allow a huge variance in the noise,\n",
    "    to model an outlying value\"\"\"\n",
    "    y = genjax.normal(f(x), 30.0) @ \"value\"\n",
    "    return y"
   ]
  },
  {
   "cell_type": "markdown",
   "id": "83effd670ec47d71",
   "metadata": {},
   "source": [
    "Now we have a generative functions for a polynomial model with inliers and outliers. The next step is to _generate_ candidate polynomials with inlying and outlying points by welding these small generative functions together into a more elaborate model which represents our prior belief about the structure of the data we might observe. This involves flipping an (unfair) coin to determine whether we have an inlier or outlier.  This generative function then draws a sample from one of the previously defined generative functions, depending on the result of the coin flip."
   ]
  },
  {
   "cell_type": "code",
   "execution_count": 7,
   "id": "2b332610cbff4bf6",
   "metadata": {},
   "outputs": [],
   "source": [
    "@interpreted_gen_fn\n",
    "def kernel(xs, f):\n",
    "    y = []\n",
    "    for i, x in enumerate(xs):\n",
    "        is_outlier = genjax.flip(0.1) @ (\"outlier\", i)\n",
    "\n",
    "        if is_outlier:\n",
    "            model = outlier_model\n",
    "        else:\n",
    "            model = model_y\n",
    "\n",
    "        y.append(model(x, f) @ (\"y\", i))\n",
    "\n",
    "    return jnp.array(y)"
   ]
  },
  {
   "cell_type": "markdown",
   "id": "bc6ee8aa",
   "metadata": {},
   "source": [
    "We pause here to note one universal feature of GenJAX: you must give every traced value a unique name. Since we are generating a vector of $y$ values, we label each $i$-th value with the unique tuple $(\\mathbf{y}, i)$. \n",
    "\n",
    "Finally we draw the polynomial coefficients from a multivariate normal distribution (which is fancier than we need. We're using it with a diagonal covariance matrix, which amounts to individual independent selections with no cross-correlation, but it makes the code easy to write and allows us to batch up the selection of all the polynomial's coefficients into one random variable `alpha`.) It's at this point that we are committing to a polynomial of degree $\\le 2$."
   ]
  },
  {
   "cell_type": "code",
   "execution_count": 8,
   "id": "31196ede",
   "metadata": {},
   "outputs": [],
   "source": [
    "@interpreted_gen_fn\n",
    "def model(xs):\n",
    "    coefficients = genjax.mv_normal(jnp.zeros(3), 2.0 * jnp.identity(3)) @ \"alpha\"\n",
    "    f = polynomial(coefficients)\n",
    "    ys = kernel(xs, f) @ \"ys\"\n",
    "    return ys"
   ]
  },
  {
   "cell_type": "code",
   "execution_count": 9,
   "id": "5ee10af75418d51",
   "metadata": {},
   "outputs": [
    {
     "data": {
      "text/plain": [
       "Array([  0.73925334,   0.15524483,  -0.18796025,  -0.59846085,\n",
       "        -1.2211183 ,  -1.9391698 ,  -2.587759  ,  -3.67923   ,\n",
       "        -4.5043225 ,  -6.5067487 ,  -7.796478  ,  -8.854296  ,\n",
       "       -10.604254  , -12.289874  , -14.574091  , -16.106468  ,\n",
       "       -17.901852  , -20.628445  , -22.246319  , -24.661976  ],      dtype=float32)"
      ]
     },
     "execution_count": 9,
     "metadata": {},
     "output_type": "execute_result"
    }
   ],
   "source": [
    "data = jnp.arange(0, 10, 0.5)\n",
    "key, sub_key = jax.random.split(key)\n",
    "tr = model.simulate(sub_key, (data,))\n",
    "tr.get_retval()"
   ]
  },
  {
   "cell_type": "code",
   "execution_count": 10,
   "id": "63cef5da1022fd8e",
   "metadata": {},
   "outputs": [
    {
     "data": {
      "text/plain": [
       "Array([  0.73925334,   0.15524483,  -0.18796025,  -0.59846085,\n",
       "        -1.2211183 ,  -1.9391698 ,  -2.587759  ,  -3.67923   ,\n",
       "        -4.5043225 ,  -6.5067487 ,  -7.796478  ,  -8.854296  ,\n",
       "       -10.604254  , -12.289874  , -14.574091  , -16.106468  ,\n",
       "       -17.901852  , -20.628445  , -22.246319  , -24.661976  ],      dtype=float32)"
      ]
     },
     "execution_count": 10,
     "metadata": {},
     "output_type": "execute_result"
    }
   ],
   "source": [
    "tr.get_retval()"
   ]
  },
  {
   "cell_type": "markdown",
   "id": "2bf5811e",
   "metadata": {},
   "source": [
    "We hope that this is an example generated by a degree 2 polynomial possibly with some outliers... but is it? It's common in the Gen world to \"visualize the prior.\" This means to produce visualizations of random pieces of data generated from the model, to ensure the distribution over data appears as we expect it to. Let's do that."
   ]
  },
  {
   "cell_type": "code",
   "execution_count": 11,
   "id": "524f4a5e9db8de81",
   "metadata": {},
   "outputs": [
    {
     "data": {
      "image/png": "[encoded data removed]",
      "text/plain": [
       "<Figure size 800x800 with 9 Axes>"
      ]
     },
     "metadata": {},
     "output_type": "display_data"
    }
   ],
   "source": [
    "def visualize_prior(key, w, h):\n",
    "    f, axes = plt.subplots(w, h, figsize=(8, 8), sharex=True, sharey=True)\n",
    "    for ax in axes.flatten():\n",
    "        key, sub_key = jax.random.split(key)\n",
    "        tr = model.simulate(sub_key, (data,))\n",
    "        ax.scatter(data, tr.get_retval())\n",
    "\n",
    "\n",
    "key, sub_key = jax.random.split(key)\n",
    "visualize_prior(sub_key, 3, 3)"
   ]
  },
  {
   "cell_type": "markdown",
   "id": "1b3d495a",
   "metadata": {},
   "source": [
    "Not bad. With the preliminaries out of the way, let's turn to the inference task that motivated this notebook. The idea is to observe some data in the wild--a \"ground truth\"--and test our hypothesis that it is a polynomial-with-outliers by inferring the parameters of our model. To do that, behind our back, we will select some polynomial coefficients and then manually inject an obvious outlying value:"
   ]
  },
  {
   "cell_type": "code",
   "execution_count": 12,
   "id": "6c6081392f5dd5e3",
   "metadata": {},
   "outputs": [],
   "source": [
    "xs = jnp.array([0.3, 0.7, 1.1, 1.4, 2.3, 2.5, 3.0, 4.0, 5.0])\n",
    "ys = jnp.array(2.0 * xs + 1.5 + xs**2)\n",
    "ys = ys.at[2].set(50.0)"
   ]
  },
  {
   "cell_type": "code",
   "execution_count": 13,
   "id": "20b0d448a478a593",
   "metadata": {},
   "outputs": [
    {
     "data": {
      "text/plain": [
       "<matplotlib.collections.PathCollection at 0x154d79410>"
      ]
     },
     "execution_count": 13,
     "metadata": {},
     "output_type": "execute_result"
    },
    {
     "data": {
      "image/png": "[encoded data removed]",
      "text/plain": [
       "<Figure size 600x600 with 1 Axes>"
      ]
     },
     "metadata": {},
     "output_type": "display_data"
    }
   ],
   "source": [
    "fig_data, ax_data = plt.subplots(figsize=(6, 6))\n",
    "ax_data.scatter(xs, ys, color=\"blue\")"
   ]
  },
  {
   "cell_type": "markdown",
   "id": "110ffbbea34f39eb",
   "metadata": {},
   "source": [
    "### Observations\n",
    "The next step is to _constrain_ the y values to the observed data while letting the _model parameters_ roam freely. To do this, we construct a [ChoiceMap](https://probcomp.github.io/genjax/genjax/library/core/datatypes.html#genjax.core.ChoiceMap). A choicemap, like a trace, stores a mapping from names of random variables to random variable values; a trace may also store other information like arguments to a generative function and its return value.\n",
    "\n",
    "At this point, the significance of the names of the random variables we have chosen with the `@` operator becomes clear, as well as the influence of the structure of the functions we have written.  In the top-level generative function `model`, we sampled from `kernel` at address `\"y\"`.  In `kernel`, we sampled from either `model_y` or `outlier_model` at address `(\"y\", i)`.  And in `model_y` and `outlier_model`, we sampled from `genjax.normal` at address `\"value\"`.  Thus, to refer to the $i$-th value in a trace for `model`, we can use the nested address `(\"ys\", \"y\", i, \"value\")`.\n",
    "\n",
    "The following code constructs a choicemap which constrains the values of the $y$'s in the model to the observed data:"
   ]
  },
  {
   "cell_type": "code",
   "execution_count": 14,
   "id": "bca595cbfac11555",
   "metadata": {},
   "outputs": [
    {
     "data": {
      "text/html": [
       "<pre style=\"white-space:pre;overflow-x:auto;line-height:normal;font-family:Menlo,'DejaVu Sans Mono',consolas,'Courier New',monospace\"><span style=\"font-weight: bold\">(HierarchicalChoiceMap)</span>\n",
       "└── <span style=\"font-weight: bold\">:ys</span>\n",
       "    └── <span style=\"font-weight: bold\">(HierarchicalChoiceMap)</span>\n",
       "        └── <span style=\"font-weight: bold\">:y</span>\n",
       "            └── <span style=\"font-weight: bold\">(HierarchicalChoiceMap)</span>\n",
       "                ├── <span style=\"font-weight: bold\">:0</span>\n",
       "                │   └── <span style=\"font-weight: bold\">(HierarchicalChoiceMap)</span>\n",
       "                │       └── <span style=\"font-weight: bold\">:value</span>\n",
       "                │           └── <span style=\"font-weight: bold\">(ValueChoice)</span>\n",
       "                │               └──  f32[]\n",
       "                ├── <span style=\"font-weight: bold\">:1</span>\n",
       "                │   └── <span style=\"font-weight: bold\">(HierarchicalChoiceMap)</span>\n",
       "                │       └── <span style=\"font-weight: bold\">:value</span>\n",
       "                │           └── <span style=\"font-weight: bold\">(ValueChoice)</span>\n",
       "                │               └──  f32[]\n",
       "                ├── <span style=\"font-weight: bold\">:2</span>\n",
       "                │   └── <span style=\"font-weight: bold\">(HierarchicalChoiceMap)</span>\n",
       "                │       └── <span style=\"font-weight: bold\">:value</span>\n",
       "                │           └── <span style=\"font-weight: bold\">(ValueChoice)</span>\n",
       "                │               └──  f32[]\n",
       "                ├── <span style=\"font-weight: bold\">:3</span>\n",
       "                │   └── <span style=\"font-weight: bold\">(HierarchicalChoiceMap)</span>\n",
       "                │       └── <span style=\"font-weight: bold\">:value</span>\n",
       "                │           └── <span style=\"font-weight: bold\">(ValueChoice)</span>\n",
       "                │               └──  f32[]\n",
       "                ├── <span style=\"font-weight: bold\">:4</span>\n",
       "                │   └── <span style=\"font-weight: bold\">(HierarchicalChoiceMap)</span>\n",
       "                │       └── <span style=\"font-weight: bold\">:value</span>\n",
       "                │           └── <span style=\"font-weight: bold\">(ValueChoice)</span>\n",
       "                │               └──  f32[]\n",
       "                ├── <span style=\"font-weight: bold\">:5</span>\n",
       "                │   └── <span style=\"font-weight: bold\">(HierarchicalChoiceMap)</span>\n",
       "                │       └── <span style=\"font-weight: bold\">:value</span>\n",
       "                │           └── <span style=\"font-weight: bold\">(ValueChoice)</span>\n",
       "                │               └──  f32[]\n",
       "                ├── <span style=\"font-weight: bold\">:6</span>\n",
       "                │   └── <span style=\"font-weight: bold\">(HierarchicalChoiceMap)</span>\n",
       "                │       └── <span style=\"font-weight: bold\">:value</span>\n",
       "                │           └── <span style=\"font-weight: bold\">(ValueChoice)</span>\n",
       "                │               └──  f32[]\n",
       "                ├── <span style=\"font-weight: bold\">:7</span>\n",
       "                │   └── <span style=\"font-weight: bold\">(HierarchicalChoiceMap)</span>\n",
       "                │       └── <span style=\"font-weight: bold\">:value</span>\n",
       "                │           └── <span style=\"font-weight: bold\">(ValueChoice)</span>\n",
       "                │               └──  f32[]\n",
       "                └── <span style=\"font-weight: bold\">:8</span>\n",
       "                    └── <span style=\"font-weight: bold\">(HierarchicalChoiceMap)</span>\n",
       "                        └── <span style=\"font-weight: bold\">:value</span>\n",
       "                            └── <span style=\"font-weight: bold\">(ValueChoice)</span>\n",
       "                                └──  f32[]\n",
       "</pre>\n"
      ],
      "text/plain": [
       "\u001b[1m(HierarchicalChoiceMap)\u001b[0m\n",
       "└── \u001b[1m:ys\u001b[0m\n",
       "    └── \u001b[1m(HierarchicalChoiceMap)\u001b[0m\n",
       "        └── \u001b[1m:y\u001b[0m\n",
       "            └── \u001b[1m(HierarchicalChoiceMap)\u001b[0m\n",
       "                ├── \u001b[1m:0\u001b[0m\n",
       "                │   └── \u001b[1m(HierarchicalChoiceMap)\u001b[0m\n",
       "                │       └── \u001b[1m:value\u001b[0m\n",
       "                │           └── \u001b[1m(ValueChoice)\u001b[0m\n",
       "                │               └──  f32[]\n",
       "                ├── \u001b[1m:1\u001b[0m\n",
       "                │   └── \u001b[1m(HierarchicalChoiceMap)\u001b[0m\n",
       "                │       └── \u001b[1m:value\u001b[0m\n",
       "                │           └── \u001b[1m(ValueChoice)\u001b[0m\n",
       "                │               └──  f32[]\n",
       "                ├── \u001b[1m:2\u001b[0m\n",
       "                │   └── \u001b[1m(HierarchicalChoiceMap)\u001b[0m\n",
       "                │       └── \u001b[1m:value\u001b[0m\n",
       "                │           └── \u001b[1m(ValueChoice)\u001b[0m\n",
       "                │               └──  f32[]\n",
       "                ├── \u001b[1m:3\u001b[0m\n",
       "                │   └── \u001b[1m(HierarchicalChoiceMap)\u001b[0m\n",
       "                │       └── \u001b[1m:value\u001b[0m\n",
       "                │           └── \u001b[1m(ValueChoice)\u001b[0m\n",
       "                │               └──  f32[]\n",
       "                ├── \u001b[1m:4\u001b[0m\n",
       "                │   └── \u001b[1m(HierarchicalChoiceMap)\u001b[0m\n",
       "                │       └── \u001b[1m:value\u001b[0m\n",
       "                │           └── \u001b[1m(ValueChoice)\u001b[0m\n",
       "                │               └──  f32[]\n",
       "                ├── \u001b[1m:5\u001b[0m\n",
       "                │   └── \u001b[1m(HierarchicalChoiceMap)\u001b[0m\n",
       "                │       └── \u001b[1m:value\u001b[0m\n",
       "                │           └── \u001b[1m(ValueChoice)\u001b[0m\n",
       "                │               └──  f32[]\n",
       "                ├── \u001b[1m:6\u001b[0m\n",
       "                │   └── \u001b[1m(HierarchicalChoiceMap)\u001b[0m\n",
       "                │       └── \u001b[1m:value\u001b[0m\n",
       "                │           └── \u001b[1m(ValueChoice)\u001b[0m\n",
       "                │               └──  f32[]\n",
       "                ├── \u001b[1m:7\u001b[0m\n",
       "                │   └── \u001b[1m(HierarchicalChoiceMap)\u001b[0m\n",
       "                │       └── \u001b[1m:value\u001b[0m\n",
       "                │           └── \u001b[1m(ValueChoice)\u001b[0m\n",
       "                │               └──  f32[]\n",
       "                └── \u001b[1m:8\u001b[0m\n",
       "                    └── \u001b[1m(HierarchicalChoiceMap)\u001b[0m\n",
       "                        └── \u001b[1m:value\u001b[0m\n",
       "                            └── \u001b[1m(ValueChoice)\u001b[0m\n",
       "                                └──  f32[]\n"
      ]
     },
     "metadata": {},
     "output_type": "display_data"
    }
   ],
   "source": [
    "observations = genjax.choice_map()\n",
    "for i, y in enumerate(ys):\n",
    "    observations = observations.insert((\"ys\", \"y\", i, \"value\"), y)\n",
    "\n",
    "# Now we print out the observation choicemap\n",
    "console.print(observations)"
   ]
  },
  {
   "cell_type": "markdown",
   "id": "825f788c",
   "metadata": {},
   "source": [
    "Currently, the way GenJAX prints out the choicemap does not show the values in it, just the datatypes; but rest assured that each `f32[]` in the above printout corresponds to a value in the observed data:"
   ]
  },
  {
   "cell_type": "code",
   "execution_count": 15,
   "id": "6f1186c5",
   "metadata": {},
   "outputs": [
    {
     "data": {
      "text/html": [
       "<pre style=\"white-space:pre;overflow-x:auto;line-height:normal;font-family:Menlo,'DejaVu Sans Mono',consolas,'Courier New',monospace\"><span style=\"color: #008080; text-decoration-color: #008080; font-weight: bold\">50.0</span>\n",
       "</pre>\n"
      ],
      "text/plain": [
       "\u001b[1;36m50.0\u001b[0m\n"
      ]
     },
     "metadata": {},
     "output_type": "display_data"
    }
   ],
   "source": [
    "console.print(observations[\"ys\", \"y\", 2, \"value\"])"
   ]
  },
  {
   "cell_type": "markdown",
   "id": "4de2d583",
   "metadata": {},
   "source": [
    "GenJAX provides numerous sophisticated inference algorithms designed to operate seamlessly with generative functions. For this introduction we will content ourselves with a simple one: Sequential Importance resampling (SIR). We won't spend too much time understanding this technique--it is described greater mathematical detail in other notebooks here. Put briefly, SIR randomly generates a collection of different traces for `model`, all of which are consistent with the observed data.  Each trace will contain a different assignment to the model parameters (ie. a different quadratic function and decision of which datapoints are outliers).  We will then generate a score for each generated trace, called the _importance weight_, which has to do with how well the trace explains the data.  (That is, how likely the quadratic function and outlier assignment is to go with the data.) The `model.importance` function is used to generate and score a trace from the model.  Finally, we will use the importance weights to randomly select one of the traces, with a probability proportional to its importance weight.  The trace we select will be a random sample from an approximation to the posterior distribution over model parameters, given the observed data."
   ]
  },
  {
   "cell_type": "code",
   "execution_count": 16,
   "id": "b474726ff349834e",
   "metadata": {},
   "outputs": [],
   "source": [
    "def sampling_importance_resampling(model, n_samples):\n",
    "    def _inner(key, observations, model_args):\n",
    "        \"\"\"Generate a list of importance samples. Each such sample returns a tuple of\n",
    "        (trace, log_weight or \"score\"). Treat the list as a weighted ensemble of\n",
    "        choices, and draw one. This is the result of one SIR step.\"\"\"\n",
    "        resample_key, sub_key = jax.random.split(key)\n",
    "        sub_keys = jax.random.split(sub_key, n_samples)\n",
    "        tr_lw_pairs = [\n",
    "            model.importance(sub_key, observations, model_args) for sub_key in sub_keys\n",
    "        ]\n",
    "        lws = [log_weight for (trace, log_weight) in tr_lw_pairs]\n",
    "        index = genjax.categorical.sample(resample_key, lws)\n",
    "        return tr_lw_pairs[index][0]\n",
    "\n",
    "    return _inner"
   ]
  },
  {
   "cell_type": "markdown",
   "id": "ec45ca3fb96d8d72",
   "metadata": {},
   "source": [
    "The next step is to \"sample from the posterior.\" Here we will see if the SIR algorithm is converging toward an explanation of the data:"
   ]
  },
  {
   "cell_type": "code",
   "execution_count": 17,
   "id": "3cc11c4c664e4a38",
   "metadata": {},
   "outputs": [
    {
     "data": {
      "text/plain": [
       "[Array([1.010287 , 0.5278951, 1.1984828], dtype=float32),\n",
       " Array([-0.9211233 ,  0.86567104,  0.87378716], dtype=float32),\n",
       " Array([-1.0745149, -1.482162 ,  1.5385957], dtype=float32),\n",
       " Array([0.84786814, 0.71207726, 0.15045144], dtype=float32),\n",
       " Array([0.57268465, 0.29548374, 1.2726619 ], dtype=float32),\n",
       " Array([2.3589952, 0.8450061, 0.6635066], dtype=float32),\n",
       " Array([0.42973506, 3.091488  , 0.96444243], dtype=float32),\n",
       " Array([-0.27574053,  0.08777174,  1.297302  ], dtype=float32),\n",
       " Array([ 0.1593281, -1.1751109,  1.2956231], dtype=float32),\n",
       " Array([-0.15748872, -0.6242661 ,  1.2884508 ], dtype=float32),\n",
       " Array([-0.86585575,  0.20120655,  1.5489457 ], dtype=float32),\n",
       " Array([-3.1770554,  1.016473 ,  0.6508961], dtype=float32),\n",
       " Array([ 0.10336191, -1.3277259 ,  1.6000715 ], dtype=float32),\n",
       " Array([0.34509325, 1.8227931 , 1.004335  ], dtype=float32),\n",
       " Array([0.78460824, 0.9772161 , 1.3039516 ], dtype=float32),\n",
       " Array([0.800835 , 2.718055 , 0.8583257], dtype=float32),\n",
       " Array([0.18771952, 1.8136268 , 1.1664774 ], dtype=float32),\n",
       " Array([ 0.42911682,  2.675227  , -0.343576  ], dtype=float32),\n",
       " Array([ 1.7305595, -0.5246722,  1.7652167], dtype=float32),\n",
       " Array([-1.622687  ,  0.28178036,  1.4489974 ], dtype=float32)]"
      ]
     },
     "execution_count": 17,
     "metadata": {},
     "output_type": "execute_result"
    }
   ],
   "source": [
    "N = 20\n",
    "model_args = (xs,)\n",
    "key, *sub_keys = jax.random.split(key, N + 1)\n",
    "samples = [\n",
    "    sampling_importance_resampling(model, 2 * N)(sub_key, observations, model_args)\n",
    "    for sub_key in sub_keys\n",
    "]\n",
    "coefficients = [s[\"alpha\"] for s in samples]\n",
    "coefficients"
   ]
  },
  {
   "cell_type": "code",
   "execution_count": 18,
   "id": "fde3a52d73921ae2",
   "metadata": {},
   "outputs": [],
   "source": [
    "def plot_polynomial_values(ax_inf, xs, coefficients, **kwargs):\n",
    "    f = polynomial(coefficients)\n",
    "    ax_inf.plot(xs, [f(x) for x in xs], alpha=0.2)"
   ]
  },
  {
   "cell_type": "code",
   "execution_count": 19,
   "id": "c652551f7cae760f",
   "metadata": {},
   "outputs": [
    {
     "data": {
      "image/png": "[encoded data removed]",
      "text/plain": [
       "<Figure size 600x600 with 1 Axes>"
      ]
     },
     "metadata": {},
     "output_type": "display_data"
    }
   ],
   "source": [
    "fig_inf, ax_inf = plt.subplots(figsize=(6, 6))\n",
    "ax_inf.scatter(xs, ys, color=\"blue\")\n",
    "for cs in coefficients:\n",
    "    plot_polynomial_values(ax_inf, xs, cs)"
   ]
  },
  {
   "cell_type": "markdown",
   "id": "22eb3631",
   "metadata": {},
   "source": [
    "Not too bad. It appears that the sampling procedure has accomplished both of its goals: it has found plausible polynomial coefficients, and further, it has declined to allow the outlier to overly influence the result. To verify that, we can calculate what fraction of the samples classified $y_2$ as an outlier like this:"
   ]
  },
  {
   "cell_type": "code",
   "execution_count": 20,
   "id": "9b8d699ae0ec6be7",
   "metadata": {},
   "outputs": [],
   "source": [
    "# Each `s` is a trace; we examine the value of whether datapoint 2 is\n",
    "# an outlier for each, using the naming scheme determined by the `@`\n",
    "# calls in the generative functions.\n",
    "outlier_at_2 = [s[\"ys\", \"outlier\", 2] for s in samples]"
   ]
  },
  {
   "cell_type": "code",
   "execution_count": 21,
   "id": "b3db993a37d6ede5",
   "metadata": {},
   "outputs": [
    {
     "data": {
      "text/plain": [
       "0.95"
      ]
     },
     "execution_count": 21,
     "metadata": {},
     "output_type": "execute_result"
    }
   ],
   "source": [
    "np.sum(outlier_at_2) / len(outlier_at_2)"
   ]
  },
  {
   "cell_type": "markdown",
   "id": "d6b4bd61",
   "metadata": {},
   "source": [
    "We invite you to dive deeper into GenJAX, but learning more about how easily JAX can be used to accelerate the computation we just performed, as well as the many state of the art inference techniques the Gen system offers. "
   ]
  },
  {
   "cell_type": "markdown",
   "id": "38ac6159",
   "metadata": {},
   "source": []
  },
  {
   "cell_type": "markdown",
   "id": "6b134ec6",
   "metadata": {},
   "source": []
  },
  {
   "cell_type": "markdown",
   "id": "cf41f61e",
   "metadata": {},
   "source": []
  },
  {
   "cell_type": "markdown",
   "id": "7fa923ac",
   "metadata": {},
   "source": []
  }
 ],
 "metadata": {
  "kernelspec": {
   "display_name": "Python 3 (ipykernel)",
   "language": "python",
   "name": "python3"
  },
  "language_info": {
   "codemirror_mode": {
    "name": "ipython",
    "version": 3
   },
   "file_extension": ".py",
   "mimetype": "text/x-python",
   "name": "python",
   "nbconvert_exporter": "python",
   "pygments_lexer": "ipython3",
   "version": "3.11.4"
  }
 },
 "nbformat": 4,
 "nbformat_minor": 5
}
