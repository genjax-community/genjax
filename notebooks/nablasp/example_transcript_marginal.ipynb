{
 "cells": [
  {
   "cell_type": "code",
   "execution_count": null,
   "id": "1bec3d30-d35e-44a2-bd45-9f169861266d",
   "metadata": {},
   "outputs": [],
   "source": [
    "import genjax\n",
    "import jax\n",
    "import jax.numpy as jnp\n",
    "import jax.tree_util as jtu\n",
    "from genjax import grasp\n",
    "import matplotlib.pyplot as plt\n",
    "import matplotlib as mpl\n",
    "from matplotlib.gridspec import GridSpec\n",
    "import matplotlib.font_manager as font_manager\n",
    "import matplotlib.ticker as ticker\n",
    "import matplotlib.patches as patches\n",
    "import seaborn as sns\n",
    "from matplotlib import cm\n",
    "from matplotlib.ticker import LinearLocator\n",
    "from matplotlib import rcParams\n",
    "from scipy.interpolate import griddata\n",
    "\n",
    "console = genjax.pretty()\n",
    "key = jax.random.PRNGKey(314159)\n",
    "sns.set_theme(style=\"white\")\n",
    "font_path = (\n",
    "    \"/home/femtomc/.local/share/fonts/Unknown Vendor/TrueType/Lato/Lato_Bold.ttf\"\n",
    ")\n",
    "font_manager.fontManager.addfont(font_path)\n",
    "custom_font_name = font_manager.FontProperties(fname=font_path).get_name()\n",
    "rcParams[\"font.family\"] = custom_font_name\n",
    "\n",
    "console = genjax.pretty()\n",
    "key = jax.random.PRNGKey(314159)"
   ]
  },
  {
   "cell_type": "code",
   "execution_count": null,
   "id": "0ff1f125-ced6-4ddf-9fea-630f43bff713",
   "metadata": {},
   "outputs": [],
   "source": [
    "@genjax.gen\n",
    "def model():\n",
    "    x = grasp.normal_reparam(0.0, 10.0) @ \"x\"\n",
    "    y = grasp.normal_reparam(0.0, 10.0) @ \"y\"\n",
    "    rs = x**2 + y**2\n",
    "    z = grasp.normal_reparam(rs, 0.2 + (rs / 100.0)) @ \"z\""
   ]
  },
  {
   "cell_type": "code",
   "execution_count": null,
   "id": "093f1021-5311-4f57-9cc1-631bb9e94839",
   "metadata": {
    "tags": []
   },
   "outputs": [],
   "source": [
    "from jax.experimental import host_callback as hcb\n",
    "\n",
    "# A more expressive variational family.\n",
    "@genjax.gen\n",
    "def expressive_variational_family(ϕ, data):\n",
    "    z = data[\"z\"]\n",
    "    u = grasp.uniform() @ \"u\"\n",
    "    θ = 2 * jnp.pi * u\n",
    "    log_σ1, log_σ2 = ϕ\n",
    "    x = grasp.normal_reparam(jnp.sqrt(z) * jnp.cos(θ), jnp.exp(log_σ1)) @ \"x\"\n",
    "    y = grasp.normal_reparam(jnp.sqrt(z) * jnp.sin(θ), jnp.exp(log_σ2)) @ \"y\"\n",
    "\n",
    "\n",
    "marginal_q = grasp.marginal(\n",
    "    genjax.select(\"x\", \"y\"), expressive_variational_family, lambda: grasp.sir(20)\n",
    ")\n",
    "\n",
    "data = genjax.choice_map({\"z\": 5.0})\n",
    "hvi_objective = grasp.elbo(model, marginal_q, data)"
   ]
  },
  {
   "cell_type": "code",
   "execution_count": null,
   "id": "c0dcb8cf-61d6-493b-8fbf-4e120eafdcb8",
   "metadata": {
    "tags": []
   },
   "outputs": [],
   "source": [
    "# Training with IWAE.\n",
    "key = jax.random.PRNGKey(314159)\n",
    "ϕ = (0.0, 0.0)\n",
    "jitted = jax.jit(jax.vmap(hvi_objective.value_and_grad_estimate, in_axes=(0, None)))\n",
    "for i in range(0, 20000):\n",
    "    key, sub_key = jax.random.split(key)\n",
    "    sub_keys = jax.random.split(sub_key, 64)\n",
    "    loss, (_, ((ϕ_grads, _), ())) = jitted(sub_keys, ((), ((ϕ, data), ())))\n",
    "    ϕ = jtu.tree_map(lambda v, g: v + 1e-3 * jnp.mean(g), ϕ, ϕ_grads)\n",
    "    if i % 1000 == 0:\n",
    "        print(jnp.mean(loss))\n",
    "print(ϕ)"
   ]
  },
  {
   "cell_type": "markdown",
   "id": "d5cf4dcd-2a99-42e2-b6ed-4442ac3db19c",
   "metadata": {},
   "source": [
    "## Sampling from the prior variational family"
   ]
  },
  {
   "cell_type": "code",
   "execution_count": null,
   "id": "4c853fc2-fb40-4c2a-bdc6-88e919dbe351",
   "metadata": {},
   "outputs": [],
   "source": [
    "key, sub_key = jax.random.split(key)\n",
    "sub_keys = jax.random.split(sub_key, 100000)\n",
    "data = genjax.choice_map({\"z\": 5.0})\n",
    "ϕ_prior = (-0.3, -0.3)\n",
    "scores, v_chm = jax.jit(jax.vmap(marginal_q.random_weighted, in_axes=(0, None, None)))(\n",
    "    sub_keys, (ϕ_prior, data), ()\n",
    ")"
   ]
  },
  {
   "cell_type": "code",
   "execution_count": null,
   "id": "11730fa1-0303-49a8-8ba1-60d54b6aa1eb",
   "metadata": {},
   "outputs": [],
   "source": [
    "chm = v_chm.get_leaf_value()\n",
    "x, y = chm[\"x\"], chm[\"y\"]\n",
    "\n",
    "fig, ax = plt.subplots(figsize=(12, 12))\n",
    "label_fontsize = 32  # Set the desired font size here\n",
    "\n",
    "# Define the circle\n",
    "circle = patches.Circle((0.0, 0.0), radius=jnp.sqrt(5.0), fc=\"none\", ec=\"black\", lw=4)\n",
    "\n",
    "# Set aspect ratio to equal to ensure the circle isn't elliptical\n",
    "ax.set_aspect(\"equal\")\n",
    "\n",
    "ax.scatter(x, y, c=scores, cmap=\"viridis\", marker=\".\", s=20)\n",
    "# Add the circle to the plot\n",
    "ax.add_patch(circle)\n",
    "ax.text(2.3, 1.6, \"z = 5.0\", ha=\"center\", va=\"center\", fontsize=28)\n",
    "\n",
    "# Set the limits of the plot\n",
    "ax.set_xlim(-3, 3)\n",
    "ax.set_ylim(-3, 3)\n",
    "ax.set_xlabel(\"x\", fontsize=label_fontsize)\n",
    "ax.set_ylabel(\"y\", fontsize=label_fontsize)\n",
    "ax.set_xticks([])\n",
    "ax.set_yticks([])\n",
    "ax.yaxis.labelpad = 18  # adjust the value as needed\n",
    "ax.yaxis.label.set_rotation(0)  # 90 degrees for vertical\n",
    "\n",
    "plt.tight_layout()  # Adjusts subplot params so that subplots fit into the figure area\n",
    "\n",
    "fig.savefig(\"img/untrained_expressive_variational_elbo_samples.svg\", format=\"svg\")\n",
    "\n",
    "# Show the plot\n",
    "plt.show()"
   ]
  },
  {
   "cell_type": "markdown",
   "id": "168c0372-a3ca-4b58-8711-a24f9b13ca2b",
   "metadata": {},
   "source": [
    "## Sampling from trained variational family"
   ]
  },
  {
   "cell_type": "code",
   "execution_count": null,
   "id": "49a1c2f4-2b4e-4f51-8a82-24081494730e",
   "metadata": {
    "tags": []
   },
   "outputs": [],
   "source": [
    "key, sub_key = jax.random.split(key)\n",
    "sub_keys = jax.random.split(sub_key, 100000)\n",
    "data = genjax.choice_map({\"z\": 5.0})\n",
    "scores, v_chm = jax.jit(jax.vmap(marginal_q.random_weighted, in_axes=(0, None, None)))(\n",
    "    sub_keys, (ϕ, data), ()\n",
    ")"
   ]
  },
  {
   "cell_type": "code",
   "execution_count": null,
   "id": "3af330a1-8839-4da8-a05b-8a7e4373b04c",
   "metadata": {
    "tags": []
   },
   "outputs": [],
   "source": [
    "chm = v_chm.get_leaf_value()\n",
    "x, y = chm[\"x\"], chm[\"y\"]\n",
    "\n",
    "fig, ax = plt.subplots(figsize=(12, 12))\n",
    "label_fontsize = 32  # Set the desired font size here\n",
    "\n",
    "# Set aspect ratio to equal to ensure the circle isn't elliptical\n",
    "ax.set_aspect(\"equal\")\n",
    "\n",
    "ax.scatter(x, y, c=scores, cmap=\"viridis\", marker=\".\", s=20)\n",
    "\n",
    "# Define the circle\n",
    "circle = patches.Circle((0.0, 0.0), radius=jnp.sqrt(5.0), fc=\"none\", ec=\"black\", lw=4)\n",
    "\n",
    "# Add the circle to the plot\n",
    "ax.add_patch(circle)\n",
    "ax.text(2.3, 1.6, \"z = 5.0\", ha=\"center\", va=\"center\", fontsize=28)\n",
    "\n",
    "# Set the limits of the plot\n",
    "ax.set_xlim(-3, 3)\n",
    "ax.set_ylim(-3, 3)\n",
    "ax.set_xlabel(\"x\", fontsize=label_fontsize)\n",
    "ax.set_ylabel(\"y\", fontsize=label_fontsize)\n",
    "ax.set_xticks([])\n",
    "ax.set_yticks([])\n",
    "ax.yaxis.labelpad = 18  # adjust the value as needed\n",
    "ax.yaxis.label.set_rotation(0)  # 90 degrees for vertical\n",
    "\n",
    "plt.tight_layout()  # Adjusts subplot params so that subplots fit into the figure area\n",
    "\n",
    "fig.savefig(\"img/trained_expressive_variational_elbo_samples.svg\", format=\"svg\")\n",
    "\n",
    "# Show the plot\n",
    "plt.show()"
   ]
  }
 ],
 "metadata": {
  "kernelspec": {
   "display_name": "Python 3 (ipykernel)",
   "language": "python",
   "name": "python3"
  },
  "language_info": {
   "codemirror_mode": {
    "name": "ipython",
    "version": 3
   },
   "file_extension": ".py",
   "mimetype": "text/x-python",
   "name": "python",
   "nbconvert_exporter": "python",
   "pygments_lexer": "ipython3",
   "version": "3.11.4"
  }
 },
 "nbformat": 4,
 "nbformat_minor": 5
}
