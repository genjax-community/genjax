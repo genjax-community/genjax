{
 "cells": [
  {
   "cell_type": "code",
   "execution_count": 7,
   "id": "9c1d54bf-0762-4498-8288-a8ee46f33734",
   "metadata": {
    "tags": []
   },
   "outputs": [],
   "source": [
    "import genjax\n",
    "import jax\n",
    "from genjax import nablasp\n",
    "\n",
    "console = genjax.pretty()"
   ]
  },
  {
   "cell_type": "code",
   "execution_count": 8,
   "id": "ecedbc74-a144-46a8-9fde-2aa3aabc4d34",
   "metadata": {
    "tags": []
   },
   "outputs": [
    {
     "data": {
      "text/html": [
       "<pre style=\"white-space:pre;overflow-x:auto;line-height:normal;font-family:Menlo,'DejaVu Sans Mono',consolas,'Courier New',monospace\"></pre>\n"
      ],
      "text/plain": []
     },
     "metadata": {},
     "output_type": "display_data"
    },
    {
     "data": {
      "text/plain": [
       "\u001b[1m<\u001b[0m\u001b[1;95mmodule\u001b[0m\u001b[39m \u001b[0m\u001b[32m'genjax.nablasp'\u001b[0m\u001b[39m from \u001b[0m\u001b[32m'/home/femtomc/Research/genjax/src/genjax/nablasp.py'\u001b[0m\u001b[1m>\u001b[0m"
      ]
     },
     "execution_count": 8,
     "metadata": {},
     "output_type": "execute_result"
    }
   ],
   "source": [
    "nablasp"
   ]
  },
  {
   "cell_type": "code",
   "execution_count": 9,
   "id": "162d5657-52da-431e-9de7-2095046e7209",
   "metadata": {
    "tags": []
   },
   "outputs": [],
   "source": [
    "@genjax.gen\n",
    "def model():\n",
    "    x = dippl.normal_reparam(0.0, 10.0) @ \"x\"\n",
    "    y = dippl.normal_reparam(0.0, 10.0) @ \"y\"\n",
    "    rs = x**2 + y**2\n",
    "    z = dippl.normal_reparam(rs, rs / 10.0) @ \"z\""
   ]
  },
  {
   "cell_type": "code",
   "execution_count": 10,
   "id": "7b5f0938-687d-44a3-94a7-a05f0a29505f",
   "metadata": {
    "tags": []
   },
   "outputs": [],
   "source": [
    "# Now, we define our variational proposal.\n",
    "@genjax.gen\n",
    "def variational_family(ϕ):\n",
    "    μ1, μ2, log_σ1, log_σ2 = ϕ\n",
    "    x = dippl.normal_reparam(μ1, jnp.exp(log_σ1)) @ \"x\"\n",
    "    y = dippl.normal_reparam(μ2, jnp.exp(log_σ2)) @ \"y\""
   ]
  },
  {
   "cell_type": "code",
   "execution_count": 11,
   "id": "8f807bad-8d28-4cd4-b9be-3c9921d7f556",
   "metadata": {
    "tags": []
   },
   "outputs": [],
   "source": [
    "loss = nablasp.elbo(model, (), variational_family, (), genjax.choice_map({\"z\": 3.0}))"
   ]
  },
  {
   "cell_type": "code",
   "execution_count": 12,
   "id": "17e4d822-cb82-4eb2-b69d-613aad3a1be5",
   "metadata": {
    "tags": []
   },
   "outputs": [
    {
     "data": {
      "text/html": [
       "<pre style=\"white-space:pre;overflow-x:auto;line-height:normal;font-family:Menlo,'DejaVu Sans Mono',consolas,'Courier New',monospace\"></pre>\n"
      ],
      "text/plain": []
     },
     "metadata": {},
     "output_type": "display_data"
    },
    {
     "data": {
      "text/plain": [
       "\n",
       "\n",
       "\u001b[1mExpectation\u001b[0m\n",
       "└── prog\n",
       "    └── \u001b[1mADEVProgram\u001b[0m\n",
       "        └── source\n",
       "            └── <wrapped function elbo_loss>"
      ]
     },
     "execution_count": 12,
     "metadata": {},
     "output_type": "execute_result"
    }
   ],
   "source": [
    "loss"
   ]
  }
 ],
 "metadata": {
  "kernelspec": {
   "display_name": "Python 3 (ipykernel)",
   "language": "python",
   "name": "python3"
  },
  "language_info": {
   "codemirror_mode": {
    "name": "ipython",
    "version": 3
   },
   "file_extension": ".py",
   "mimetype": "text/x-python",
   "name": "python",
   "nbconvert_exporter": "python",
   "pygments_lexer": "ipython3",
   "version": "3.11.4"
  }
 },
 "nbformat": 4,
 "nbformat_minor": 5
}
