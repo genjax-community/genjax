{
 "cells": [
  {
   "cell_type": "code",
   "execution_count": 8,
   "id": "40ad1864",
   "metadata": {},
   "outputs": [],
   "source": [
    "import jax\n",
    "import genjax\n",
    "\n",
    "key = jax.random.PRNGKey(314159)\n",
    "console = genjax.pretty()"
   ]
  },
  {
   "cell_type": "code",
   "execution_count": 13,
   "id": "e34ff3eb",
   "metadata": {},
   "outputs": [],
   "source": [
    "@genjax.gen\n",
    "def model(t):\n",
    "    x = genjax.tfp_normal(0.0, 100.0) @ \"x\"\n",
    "    v = jax.lax.cond(t == 0, lambda: x, lambda: 0.0)\n",
    "    y = genjax.tfp_normal(v, 1.0) @ \"y\""
   ]
  },
  {
   "cell_type": "code",
   "execution_count": 14,
   "id": "f14c3f0c",
   "metadata": {},
   "outputs": [],
   "source": [
    "tr = model.simulate(key, (1,))"
   ]
  },
  {
   "cell_type": "code",
   "execution_count": 18,
   "id": "e5848a58",
   "metadata": {},
   "outputs": [],
   "source": [
    "@genjax.gen\n",
    "def forward_proposal(trace, obs_y):\n",
    "    y = obs_y[\"y\"]\n",
    "    new_x = genjax.tfp_normal(y, 1.0) @ \"new_x\"\n",
    "    return (genjax.choice_map({\"x\": new_x}), genjax.choice_map({\"x\": trace[\"x\"]}))\n",
    "\n",
    "\n",
    "@genjax.gen\n",
    "def backward_proposal(trace, obs_y):\n",
    "    x = genjax.tfp_normal(0.0, 1.0) @ \"x\"\n",
    "    return (genjax.choice_map({\"x\": x}), genjax.choice_map({\"new_x\": x}))"
   ]
  },
  {
   "cell_type": "code",
   "execution_count": null,
   "id": "e680b23a",
   "metadata": {},
   "outputs": [],
   "source": [
    "def smcp3_update(key, trace, new_obs_y):\n",
    "    key, sub_key = jax.random.split(key)\n",
    "    (choices, forward_weight, (chm, aux)) = forward_proposal.propose(\n",
    "        sub_key, (trace, new_obs_y)\n",
    "    )\n",
    "    key, sub_key = jax.random.split(key)\n",
    "    (_, w, new_trace, _) = model.update(\n",
    "        sub_key, trace, chm, genjax.tree_diff_unknown_change((0,))\n",
    "    )\n",
    "    (retval, backward_weight) = backward_proposal.assess(\n",
    "        sub_key, aux, (new_trace, new_obs_y)\n",
    "    )\n",
    "    tr_ker_fwd = trace_kernel(forward_proposal)\n",
    "    J = tr_key_fwd.jacfwd_retval(key, choices, trace, (new_obs_y,))\n",
    "    sign, val = jnp.linalg.slogdet(J)"
   ]
  }
 ],
 "metadata": {
  "kernelspec": {
   "display_name": "Python 3 (ipykernel)",
   "language": "python",
   "name": "python3"
  },
  "language_info": {
   "codemirror_mode": {
    "name": "ipython",
    "version": 3
   },
   "file_extension": ".py",
   "mimetype": "text/x-python",
   "name": "python",
   "nbconvert_exporter": "python",
   "pygments_lexer": "ipython3",
   "version": "3.11.4"
  }
 },
 "nbformat": 4,
 "nbformat_minor": 5
}
