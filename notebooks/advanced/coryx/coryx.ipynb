{
 "cells": [
  {
   "cell_type": "code",
   "execution_count": 1,
   "id": "10f0b120-bb6b-40db-81f0-d160c171a5ee",
   "metadata": {
    "tags": []
   },
   "outputs": [],
   "source": [
    "import genjax\n",
    "import jax.numpy as jnp"
   ]
  },
  {
   "cell_type": "code",
   "execution_count": 2,
   "id": "720fcffe-2490-47fc-8e47-c7ffc8a86604",
   "metadata": {
    "tags": []
   },
   "outputs": [],
   "source": [
    "def f(x):\n",
    "    return jnp.exp(x) + 2.0"
   ]
  },
  {
   "cell_type": "code",
   "execution_count": 3,
   "id": "1ee3c052-16d2-4812-9f12-44a516a9108c",
   "metadata": {
    "tags": []
   },
   "outputs": [
    {
     "data": {
      "text/plain": [
       "Array(0.6931472, dtype=float32, weak_type=True)"
      ]
     },
     "execution_count": 3,
     "metadata": {},
     "output_type": "execute_result"
    }
   ],
   "source": [
    "genjax.coryx.inverse(f)(4.0)"
   ]
  },
  {
   "cell_type": "code",
   "execution_count": 4,
   "id": "e10b460f-fc19-45d6-b5eb-7bddaa39d168",
   "metadata": {
    "tags": []
   },
   "outputs": [
    {
     "data": {
      "text/plain": [
       "Array(-0.6931472, dtype=float32)"
      ]
     },
     "execution_count": 4,
     "metadata": {},
     "output_type": "execute_result"
    }
   ],
   "source": [
    "genjax.coryx.ildj(f)(4.0)"
   ]
  },
  {
   "cell_type": "code",
   "execution_count": 6,
   "id": "44549717-be0d-4c79-ade6-08970f16f7e5",
   "metadata": {
    "tags": []
   },
   "outputs": [
    {
     "ename": "AttributeError",
     "evalue": "module 'genjax' has no attribute 'trans'",
     "output_type": "error",
     "traceback": [
      "\u001b[0;31m---------------------------------------------------------------------------\u001b[0m",
      "\u001b[0;31mAttributeError\u001b[0m                            Traceback (most recent call last)",
      "Cell \u001b[0;32mIn[6], line 1\u001b[0m\n\u001b[0;32m----> 1\u001b[0m \u001b[38;5;129m@genjax\u001b[39m\u001b[38;5;241;43m.\u001b[39;49m\u001b[43mtrans\u001b[49m\n\u001b[1;32m      2\u001b[0m \u001b[38;5;28;01mdef\u001b[39;00m \u001b[38;5;21mnew_d\u001b[39m(x):\n\u001b[1;32m      3\u001b[0m     v \u001b[38;5;241m=\u001b[39m random_variable(Normal)(\u001b[38;5;241m0.0\u001b[39m, \u001b[38;5;241m1.0\u001b[39m)\n\u001b[1;32m      4\u001b[0m     \u001b[38;5;28;01mreturn\u001b[39;00m jnp\u001b[38;5;241m.\u001b[39mexp(v)\n",
      "\u001b[0;31mAttributeError\u001b[0m: module 'genjax' has no attribute 'trans'"
     ]
    }
   ],
   "source": [
    "@genjax.dist_trans\n",
    "def new_distribution(x):\n",
    "    v = rv(Normal)(0.0, 1.0)\n",
    "    return jnp.exp(v)"
   ]
  },
  {
   "cell_type": "code",
   "execution_count": null,
   "id": "e83bcace-338b-4590-a76c-0a832ca10367",
   "metadata": {},
   "outputs": [],
   "source": []
  }
 ],
 "metadata": {
  "kernelspec": {
   "display_name": "Python 3 (ipykernel)",
   "language": "python",
   "name": "python3"
  },
  "language_info": {
   "codemirror_mode": {
    "name": "ipython",
    "version": 3
   },
   "file_extension": ".py",
   "mimetype": "text/x-python",
   "name": "python",
   "nbconvert_exporter": "python",
   "pygments_lexer": "ipython3",
   "version": "3.11.0"
  }
 },
 "nbformat": 4,
 "nbformat_minor": 5
}
