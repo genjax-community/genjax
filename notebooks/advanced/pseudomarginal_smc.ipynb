{
 "cells": [
  {
   "cell_type": "markdown",
   "id": "6f331db4-7170-4783-b5ab-fed383b7f710",
   "metadata": {},
   "source": [
    "# Coarse-to-fine structure inference using pseudomarginal SMC"
   ]
  },
  {
   "cell_type": "markdown",
   "id": "411befc5-be7a-46df-a784-3ed54d59a09b",
   "metadata": {},
   "source": [
    "In this notebook, we'll be combining several advanced ingredients of Gen and GenJAX to construct an approximate density induced by a variant of sequential Monte Carlo (SMC) targeting successively richer approximations to latent structure.\n",
    "\n",
    "The notebook assumes several pre-requisites:\n",
    "* Understanding generative functions, their interfaces, and the math that the interface functions compute.\n",
    "* Understanding generative function combinators, and how `genjax.Recurse` can allow us to express bounded tree-like computations.\n",
    "* Understanding the approximate density interface exposed by `GenProx`, and how we can equip generative functions with inference strategies to define approximate densities."
   ]
  },
  {
   "cell_type": "code",
   "execution_count": null,
   "id": "5b199541-2ce2-4475-b1ee-a4cddef1c8df",
   "metadata": {},
   "outputs": [],
   "source": []
  }
 ],
 "metadata": {
  "kernelspec": {
   "display_name": "Python 3 (ipykernel)",
   "language": "python",
   "name": "python3"
  },
  "language_info": {
   "codemirror_mode": {
    "name": "ipython",
    "version": 3
   },
   "file_extension": ".py",
   "mimetype": "text/x-python",
   "name": "python",
   "nbconvert_exporter": "python",
   "pygments_lexer": "ipython3",
   "version": "3.10.6"
  }
 },
 "nbformat": 4,
 "nbformat_minor": 5
}
