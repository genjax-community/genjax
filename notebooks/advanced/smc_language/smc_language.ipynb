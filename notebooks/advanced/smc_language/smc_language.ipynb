{
 "cells": [
  {
   "cell_type": "raw",
   "id": "1eda8710-dc22-4b1e-bc39-e0540f9cf2a0",
   "metadata": {},
   "source": [
    "---\n",
    "title: The sequential Monte Carlo mini-language\n",
    "date: \"December 1, 2022\"\n",
    "abstract: \"This notebook describes a mini-language for constructing sequential Monte Carlo (SMC) algorithms from composable pieces. The language is based on [work by Alex Lew](https://github.com/probcomp/GenProx.jl) - and an SMC algorithm language built on `Prox`, a language for compositional approximate densities. GenJAX also implements Prox densities, and provides a modified version of the SMC mini-language - modified to support efficient JAX compilation.\"\n",
    "callout-appearance: simple\n",
    "---"
   ]
  },
  {
   "cell_type": "code",
   "execution_count": null,
   "id": "26771b31-4710-4ae3-960d-a643873461e4",
   "metadata": {},
   "outputs": [],
   "source": [
    "import genjax\n",
    "import jax\n",
    "import seaborn as sns\n",
    "\n",
    "sns.set_theme(style=\"white\")\n",
    "\n",
    "# Pretty printing.\n",
    "console = genjax.console(width=70)\n",
    "\n",
    "# Reproducibility.\n",
    "key = jax.random.PRNGKey(314159)"
   ]
  }
 ],
 "metadata": {
  "kernelspec": {
   "display_name": "Python 3 (ipykernel)",
   "language": "python",
   "name": "python3"
  },
  "language_info": {
   "codemirror_mode": {
    "name": "ipython",
    "version": 3
   },
   "file_extension": ".py",
   "mimetype": "text/x-python",
   "name": "python",
   "nbconvert_exporter": "python",
   "pygments_lexer": "ipython3",
   "version": "3.11.7"
  }
 },
 "nbformat": 4,
 "nbformat_minor": 5
}
