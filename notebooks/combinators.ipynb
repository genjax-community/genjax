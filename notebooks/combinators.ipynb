{
 "cells": [
  {
   "cell_type": "raw",
   "id": "c05c4daa-a180-4163-9939-8dc5d39e92af",
   "metadata": {},
   "source": [
    "---\n",
    "subtitle: \"Probabilistic crampons.\"\n",
    "---"
   ]
  },
  {
   "cell_type": "markdown",
   "id": "87bd8110-efc1-4ed0-af5c-4495f57ecc47",
   "metadata": {},
   "source": [
    "# Generative function combinators\n",
    "\n",
    "Generative functions are highly flexible modeling objects."
   ]
  },
  {
   "cell_type": "code",
   "execution_count": null,
   "id": "e680e774-16f6-4e13-8c18-0cd52f526794",
   "metadata": {},
   "outputs": [],
   "source": []
  }
 ],
 "metadata": {
  "kernelspec": {
   "display_name": "Python 3 (ipykernel)",
   "language": "python",
   "name": "python3"
  },
  "language_info": {
   "codemirror_mode": {
    "name": "ipython",
    "version": 3
   },
   "file_extension": ".py",
   "mimetype": "text/x-python",
   "name": "python",
   "nbconvert_exporter": "python",
   "pygments_lexer": "ipython3",
   "version": "3.12.3"
  }
 },
 "nbformat": 4,
 "nbformat_minor": 5
}
