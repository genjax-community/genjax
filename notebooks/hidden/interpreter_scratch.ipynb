{
 "cells": [
  {
   "cell_type": "code",
   "execution_count": 32,
   "id": "d658abe6-964c-4df7-b0e7-65f3be29c79d",
   "metadata": {
    "tags": []
   },
   "outputs": [],
   "source": [
    "import genjax\n",
    "import jax\n",
    "\n",
    "key = jax.random.PRNGKey(314159)\n",
    "\n",
    "console = genjax.pretty(show_locals=True, suppress=[])"
   ]
  },
  {
   "cell_type": "code",
   "execution_count": 33,
   "id": "69ffa6b0-4382-4c32-8c5c-71ba147ffa97",
   "metadata": {
    "tags": []
   },
   "outputs": [],
   "source": [
    "@genjax.gen\n",
    "def model(v):\n",
    "    x = genjax.Normal(v, 1.0) @ \"x\"\n",
    "    return x**2"
   ]
  },
  {
   "cell_type": "code",
   "execution_count": 34,
   "id": "7651eb73-f13a-4726-b262-c050aaa29525",
   "metadata": {
    "tags": []
   },
   "outputs": [
    {
     "data": {
      "text/html": [
       "<pre style=\"white-space:pre;overflow-x:auto;line-height:normal;font-family:Menlo,'DejaVu Sans Mono',consolas,'Courier New',monospace\">\n",
       "</pre>\n"
      ],
      "text/plain": [
       "\n"
      ]
     },
     "metadata": {},
     "output_type": "display_data"
    },
    {
     "data": {
      "text/html": [
       "<pre style=\"white-space:pre;overflow-x:auto;line-height:normal;font-family:Menlo,'DejaVu Sans Mono',consolas,'Courier New',monospace\">\n",
       "<span style=\"font-weight: bold\">BuiltinGenerativeFunction</span>\n",
       "└── source\n",
       "    └── <span style=\"font-weight: bold\">PytreeClosure</span>\n",
       "        ├── callable\n",
       "        │   └── &lt;function model&gt;\n",
       "        └── environment\n",
       "            └── <span style=\"font-weight: bold\">list</span>\n",
       "</pre>\n"
      ],
      "text/plain": [
       "\n",
       "\u001b[1mBuiltinGenerativeFunction\u001b[0m\n",
       "└── source\n",
       "    └── \u001b[1mPytreeClosure\u001b[0m\n",
       "        ├── callable\n",
       "        │   └── <function model>\n",
       "        └── environment\n",
       "            └── \u001b[1mlist\u001b[0m\n"
      ]
     },
     "metadata": {},
     "output_type": "display_data"
    }
   ],
   "source": [
    "model"
   ]
  },
  {
   "cell_type": "code",
   "execution_count": 35,
   "id": "be6e625d-f04c-4368-a472-4a4c4c59527c",
   "metadata": {
    "tags": []
   },
   "outputs": [],
   "source": [
    "prog = genjax.adev.adev(model)"
   ]
  },
  {
   "cell_type": "code",
   "execution_count": 36,
   "id": "f70f2f72-da23-4ebc-95ae-7ebd6035110a",
   "metadata": {
    "tags": []
   },
   "outputs": [
    {
     "data": {
      "text/html": [
       "<pre style=\"white-space:pre;overflow-x:auto;line-height:normal;font-family:Menlo,'DejaVu Sans Mono',consolas,'Courier New',monospace\"><span style=\"color: #800080; text-decoration-color: #800080; font-weight: bold\">Array</span><span style=\"font-weight: bold\">(</span><span style=\"color: #008080; text-decoration-color: #008080; font-weight: bold\">0.7952519</span>, <span style=\"color: #808000; text-decoration-color: #808000\">dtype</span>=<span style=\"color: #800080; text-decoration-color: #800080\">float32</span><span style=\"font-weight: bold\">)</span>\n",
       "</pre>\n"
      ],
      "text/plain": [
       "\u001b[1;35mArray\u001b[0m\u001b[1m(\u001b[0m\u001b[1;36m0.7952519\u001b[0m, \u001b[33mdtype\u001b[0m=\u001b[35mfloat32\u001b[0m\u001b[1m)\u001b[0m\n"
      ]
     },
     "metadata": {},
     "output_type": "display_data"
    }
   ],
   "source": [
    "key, v = prog.simulate(key, (1.0,))\n",
    "v"
   ]
  },
  {
   "cell_type": "code",
   "execution_count": 37,
   "id": "2ca1974d-93b5-4d25-93b2-058dd1aeed1b",
   "metadata": {
    "tags": []
   },
   "outputs": [
    {
     "data": {
      "text/html": [
       "<pre style=\"white-space:pre;overflow-x:auto;line-height:normal;font-family:Menlo,'DejaVu Sans Mono',consolas,'Courier New',monospace\"><span style=\"font-weight: bold\">[</span><span style=\"color: #800080; text-decoration-color: #800080; font-weight: bold\">Array</span><span style=\"font-weight: bold\">(</span><span style=\"color: #008080; text-decoration-color: #008080; font-weight: bold\">-2.4382226</span>, <span style=\"color: #808000; text-decoration-color: #808000\">dtype</span>=<span style=\"color: #800080; text-decoration-color: #800080\">float32</span><span style=\"font-weight: bold\">)]</span>\n",
       "</pre>\n"
      ],
      "text/plain": [
       "\u001b[1m[\u001b[0m\u001b[1;35mArray\u001b[0m\u001b[1m(\u001b[0m\u001b[1;36m-2.4382226\u001b[0m, \u001b[33mdtype\u001b[0m=\u001b[35mfloat32\u001b[0m\u001b[1m)\u001b[0m\u001b[1m]\u001b[0m\n"
      ]
     },
     "metadata": {},
     "output_type": "display_data"
    }
   ],
   "source": [
    "key, out_tangents = prog.grad_estimate(key, (1.0,), (1.0,))\n",
    "out_tangents"
   ]
  },
  {
   "cell_type": "code",
   "execution_count": null,
   "id": "7f15edf6-7719-44b0-bc1e-efc77464ba53",
   "metadata": {},
   "outputs": [],
   "source": []
  }
 ],
 "metadata": {
  "kernelspec": {
   "display_name": "Python 3 (ipykernel)",
   "language": "python",
   "name": "python3"
  },
  "language_info": {
   "codemirror_mode": {
    "name": "ipython",
    "version": 3
   },
   "file_extension": ".py",
   "mimetype": "text/x-python",
   "name": "python",
   "nbconvert_exporter": "python",
   "pygments_lexer": "ipython3",
   "version": "3.11.0"
  }
 },
 "nbformat": 4,
 "nbformat_minor": 5
}
