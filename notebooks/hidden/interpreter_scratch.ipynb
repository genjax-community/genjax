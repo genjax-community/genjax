{
 "cells": [
  {
   "cell_type": "code",
   "execution_count": 1,
   "id": "d658abe6-964c-4df7-b0e7-65f3be29c79d",
   "metadata": {
    "tags": []
   },
   "outputs": [],
   "source": [
    "import genjax\n",
    "import jax\n",
    "\n",
    "key = jax.random.PRNGKey(314159)\n",
    "\n",
    "console = genjax.pretty(show_locals=True)"
   ]
  },
  {
   "cell_type": "code",
   "execution_count": 8,
   "id": "69ffa6b0-4382-4c32-8c5c-71ba147ffa97",
   "metadata": {
    "tags": []
   },
   "outputs": [],
   "source": [
    "@genjax.gen\n",
    "def model(v):\n",
    "    x = genjax.Normal(v, 1.0) @ \"x\"\n",
    "    v = genjax.Normal(x, 3.0) @ \"v\"\n",
    "    return x**2 + v"
   ]
  },
  {
   "cell_type": "code",
   "execution_count": 9,
   "id": "7651eb73-f13a-4726-b262-c050aaa29525",
   "metadata": {
    "tags": []
   },
   "outputs": [
    {
     "data": {
      "text/html": [
       "<pre style=\"white-space:pre;overflow-x:auto;line-height:normal;font-family:Menlo,'DejaVu Sans Mono',consolas,'Courier New',monospace\">\n",
       "</pre>\n"
      ],
      "text/plain": [
       "\n"
      ]
     },
     "metadata": {},
     "output_type": "display_data"
    },
    {
     "data": {
      "text/html": [
       "<pre style=\"white-space:pre;overflow-x:auto;line-height:normal;font-family:Menlo,'DejaVu Sans Mono',consolas,'Courier New',monospace\">\n",
       "<span style=\"font-weight: bold\">BuiltinGenerativeFunction</span>\n",
       "└── source\n",
       "    └── <span style=\"font-weight: bold\">PytreeClosure</span>\n",
       "        ├── callable\n",
       "        │   └── &lt;function model&gt;\n",
       "        └── environment\n",
       "            └── <span style=\"font-weight: bold\">list</span>\n",
       "</pre>\n"
      ],
      "text/plain": [
       "\n",
       "\u001b[1mBuiltinGenerativeFunction\u001b[0m\n",
       "└── source\n",
       "    └── \u001b[1mPytreeClosure\u001b[0m\n",
       "        ├── callable\n",
       "        │   └── <function model>\n",
       "        └── environment\n",
       "            └── \u001b[1mlist\u001b[0m\n"
      ]
     },
     "metadata": {},
     "output_type": "display_data"
    }
   ],
   "source": [
    "model"
   ]
  },
  {
   "cell_type": "code",
   "execution_count": 10,
   "id": "be6e625d-f04c-4368-a472-4a4c4c59527c",
   "metadata": {
    "tags": []
   },
   "outputs": [
    {
     "data": {
      "text/html": [
       "<pre style=\"white-space:pre;overflow-x:auto;line-height:normal;font-family:Menlo,'DejaVu Sans Mono',consolas,'Courier New',monospace\">\n",
       "</pre>\n"
      ],
      "text/plain": [
       "\n"
      ]
     },
     "metadata": {},
     "output_type": "display_data"
    },
    {
     "data": {
      "text/html": [
       "<pre style=\"white-space:pre;overflow-x:auto;line-height:normal;font-family:Menlo,'DejaVu Sans Mono',consolas,'Courier New',monospace\">\n",
       "<span style=\"font-weight: bold\">ADEVProgram</span>\n",
       "└── source\n",
       "    └── &lt;wrapped function adev_simulate&gt;\n",
       "</pre>\n"
      ],
      "text/plain": [
       "\n",
       "\u001b[1mADEVProgram\u001b[0m\n",
       "└── source\n",
       "    └── <wrapped function adev_simulate>\n"
      ]
     },
     "metadata": {},
     "output_type": "display_data"
    }
   ],
   "source": [
    "prog = genjax.adev.lang(model)\n",
    "prog"
   ]
  },
  {
   "cell_type": "code",
   "execution_count": 11,
   "id": "f70f2f72-da23-4ebc-95ae-7ebd6035110a",
   "metadata": {
    "tags": []
   },
   "outputs": [
    {
     "data": {
      "text/html": [
       "<pre style=\"white-space:pre;overflow-x:auto;line-height:normal;font-family:Menlo,'DejaVu Sans Mono',consolas,'Courier New',monospace\"><span style=\"color: #800080; text-decoration-color: #800080; font-weight: bold\">Array</span><span style=\"font-weight: bold\">(</span><span style=\"color: #008080; text-decoration-color: #008080; font-weight: bold\">7.7176604</span>, <span style=\"color: #808000; text-decoration-color: #808000\">dtype</span>=<span style=\"color: #800080; text-decoration-color: #800080\">float32</span><span style=\"font-weight: bold\">)</span>\n",
       "</pre>\n"
      ],
      "text/plain": [
       "\u001b[1;35mArray\u001b[0m\u001b[1m(\u001b[0m\u001b[1;36m7.7176604\u001b[0m, \u001b[33mdtype\u001b[0m=\u001b[35mfloat32\u001b[0m\u001b[1m)\u001b[0m\n"
      ]
     },
     "metadata": {},
     "output_type": "display_data"
    }
   ],
   "source": [
    "key, v = prog.simulate(key, (1.0,))\n",
    "v"
   ]
  },
  {
   "cell_type": "code",
   "execution_count": 12,
   "id": "2ca1974d-93b5-4d25-93b2-058dd1aeed1b",
   "metadata": {
    "tags": []
   },
   "outputs": [
    {
     "data": {
      "text/html": [
       "<pre style=\"white-space:pre;overflow-x:auto;line-height:normal;font-family:Menlo,'DejaVu Sans Mono',consolas,'Courier New',monospace\"><span style=\"font-weight: bold\">(</span><span style=\"color: #800080; text-decoration-color: #800080; font-weight: bold\">Array</span><span style=\"font-weight: bold\">(</span><span style=\"color: #008080; text-decoration-color: #008080; font-weight: bold\">3.9554207</span>, <span style=\"color: #808000; text-decoration-color: #808000\">dtype</span>=<span style=\"color: #800080; text-decoration-color: #800080\">float32</span><span style=\"font-weight: bold\">)</span>,<span style=\"font-weight: bold\">)</span>\n",
       "</pre>\n"
      ],
      "text/plain": [
       "\u001b[1m(\u001b[0m\u001b[1;35mArray\u001b[0m\u001b[1m(\u001b[0m\u001b[1;36m3.9554207\u001b[0m, \u001b[33mdtype\u001b[0m=\u001b[35mfloat32\u001b[0m\u001b[1m)\u001b[0m,\u001b[1m)\u001b[0m\n"
      ]
     },
     "metadata": {},
     "output_type": "display_data"
    }
   ],
   "source": [
    "key, out_tangents = prog.grad_estimate(key, (1.0,), (1.0,))\n",
    "out_tangents"
   ]
  },
  {
   "cell_type": "code",
   "execution_count": 7,
   "id": "4738ac38-7d42-4eca-a309-13b416adb354",
   "metadata": {
    "tags": []
   },
   "outputs": [
    {
     "data": {
      "text/html": [
       "<pre style=\"white-space:pre;overflow-x:auto;line-height:normal;font-family:Menlo,'DejaVu Sans Mono',consolas,'Courier New',monospace\">\n",
       "</pre>\n"
      ],
      "text/plain": [
       "\n"
      ]
     },
     "metadata": {},
     "output_type": "display_data"
    },
    {
     "data": {
      "text/html": [
       "<pre style=\"white-space:pre;overflow-x:auto;line-height:normal;font-family:Menlo,'DejaVu Sans Mono',consolas,'Courier New',monospace\">\n",
       "<span style=\"font-weight: bold\">Module</span>\n",
       "├── params\n",
       "│   └── <span style=\"font-weight: bold\">dict</span>\n",
       "│       └── <span style=\"font-weight: bold\">x</span>\n",
       "│           └── <span style=\"font-weight: bold\">Reap</span>\n",
       "│               ├── metadata\n",
       "│               │   └── <span style=\"font-weight: bold\">dict</span>\n",
       "│               │       ├── <span style=\"font-weight: bold\">mode</span>\n",
       "│               │       │   └── (const) 'strict'\n",
       "│               │       └── <span style=\"font-weight: bold\">aval</span>\n",
       "│               │           └── (const) ShapedArray(float32[], weak_type=True)\n",
       "│               └── value\n",
       "│                   └── (const) 5.0\n",
       "└── apply\n",
       "    └── <span style=\"font-weight: bold\">PytreeClosure</span>\n",
       "        ├── callable\n",
       "        │   └── &lt;wrapped function &lt;lambda&gt;&gt;\n",
       "        └── environment\n",
       "            └── <span style=\"font-weight: bold\">list</span>\n",
       "</pre>\n"
      ],
      "text/plain": [
       "\n",
       "\u001b[1mModule\u001b[0m\n",
       "├── params\n",
       "│   └── \u001b[1mdict\u001b[0m\n",
       "│       └── \u001b[1mx\u001b[0m\n",
       "│           └── \u001b[1mReap\u001b[0m\n",
       "│               ├── metadata\n",
       "│               │   └── \u001b[1mdict\u001b[0m\n",
       "│               │       ├── \u001b[1mmode\u001b[0m\n",
       "│               │       │   └── (const) 'strict'\n",
       "│               │       └── \u001b[1maval\u001b[0m\n",
       "│               │           └── (const) ShapedArray(float32[], weak_type=True)\n",
       "│               └── value\n",
       "│                   └── (const) 5.0\n",
       "└── apply\n",
       "    └── \u001b[1mPytreeClosure\u001b[0m\n",
       "        ├── callable\n",
       "        │   └── <wrapped function <lambda>>\n",
       "        └── environment\n",
       "            └── \u001b[1mlist\u001b[0m\n"
      ]
     },
     "metadata": {},
     "output_type": "display_data"
    }
   ],
   "source": [
    "genjax.module(lambda v: v + genjax.param(5.0, name=\"x\"))(3.0)"
   ]
  }
 ],
 "metadata": {
  "kernelspec": {
   "display_name": "Python 3 (ipykernel)",
   "language": "python",
   "name": "python3"
  },
  "language_info": {
   "codemirror_mode": {
    "name": "ipython",
    "version": 3
   },
   "file_extension": ".py",
   "mimetype": "text/x-python",
   "name": "python",
   "nbconvert_exporter": "python",
   "pygments_lexer": "ipython3",
   "version": "3.11.0"
  }
 },
 "nbformat": 4,
 "nbformat_minor": 5
}
