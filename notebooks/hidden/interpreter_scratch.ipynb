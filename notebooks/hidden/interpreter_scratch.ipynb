{
 "cells": [
  {
   "cell_type": "code",
   "execution_count": 1,
   "id": "d658abe6-964c-4df7-b0e7-65f3be29c79d",
   "metadata": {
    "tags": []
   },
   "outputs": [],
   "source": [
    "import genjax\n",
    "import jax\n",
    "import jax.numpy as jnp\n",
    "from genjax.core.interpreters import context\n",
    "import dataclasses\n",
    "from genjax.typing import Any\n",
    "from genjax import param, trace, Normal\n",
    "\n",
    "key = jax.random.PRNGKey(314159)\n",
    "console = genjax.pretty()"
   ]
  },
  {
   "cell_type": "code",
   "execution_count": 2,
   "id": "afb551f4-627d-4ba2-80ba-ec96ddea0ad4",
   "metadata": {
    "tags": []
   },
   "outputs": [],
   "source": [
    "@genjax.gen\n",
    "def _submodel():\n",
    "    y1 = genjax.trace(\"y1\", genjax.Normal)(0.0, 1.0)\n",
    "    y2 = genjax.trace(\"y2\", genjax.Normal)(0.0, 1.0)\n",
    "    return y1, y2\n",
    "\n",
    "\n",
    "@genjax.gen\n",
    "def hierarchical_simple_normal_multiple_returns():\n",
    "    y1, y2 = genjax.trace(\"y\", _submodel)()\n",
    "    return y1, y2"
   ]
  },
  {
   "cell_type": "code",
   "execution_count": 3,
   "id": "b7744f66-019a-44a0-b100-fe49b5b244ba",
   "metadata": {
    "tags": []
   },
   "outputs": [
    {
     "data": {
      "text/html": [
       "<pre style=\"white-space:pre;overflow-x:auto;line-height:normal;font-family:Menlo,'DejaVu Sans Mono',consolas,'Courier New',monospace\">\n",
       "</pre>\n"
      ],
      "text/plain": [
       "\n"
      ]
     },
     "metadata": {},
     "output_type": "display_data"
    },
    {
     "data": {
      "text/html": [
       "<pre style=\"white-space:pre;overflow-x:auto;line-height:normal;font-family:Menlo,'DejaVu Sans Mono',consolas,'Courier New',monospace\">\n",
       "<span style=\"font-weight: bold\">TrieChoiceMap</span>\n",
       "└── trie\n",
       "    └── <span style=\"font-weight: bold\">Trie</span>\n",
       "        └── <span style=\"font-weight: bold\">:y</span>\n",
       "            └── <span style=\"font-weight: bold\">BuiltinTrace</span>\n",
       "                ├── gen_fn\n",
       "                │   └── <span style=\"font-weight: bold\">BuiltinGenerativeFunction</span>\n",
       "                │       └── source\n",
       "                │           └── <span style=\"font-weight: bold\">PytreeClosure</span>\n",
       "                │               ├── callable\n",
       "                │               │   └── &lt;function _submodel&gt;\n",
       "                │               └── environment\n",
       "                │                   └── <span style=\"font-weight: bold\">list</span>\n",
       "                ├── args\n",
       "                │   └── <span style=\"font-weight: bold\">tuple</span>\n",
       "                ├── retval\n",
       "                │   └── <span style=\"font-weight: bold\">tuple</span>\n",
       "                │       ├──  f32[]\n",
       "                │       └──  f32[]\n",
       "                ├── choices\n",
       "                │   └── <span style=\"font-weight: bold\">Trie</span>\n",
       "                │       ├── <span style=\"font-weight: bold\">:y1</span>\n",
       "                │       │   └── <span style=\"font-weight: bold\">DistributionTrace</span>\n",
       "                │       │       ├── gen_fn\n",
       "                │       │       │   └── <span style=\"font-weight: bold\">_Normal</span>\n",
       "                │       │       ├── args\n",
       "                │       │       │   └── <span style=\"font-weight: bold\">tuple</span>\n",
       "                │       │       │       ├── (const) 0.0\n",
       "                │       │       │       └── (const) 1.0\n",
       "                │       │       ├── value\n",
       "                │       │       │   └──  f32[]\n",
       "                │       │       └── score\n",
       "                │       │           └──  f32[]\n",
       "                │       └── <span style=\"font-weight: bold\">:y2</span>\n",
       "                │           └── <span style=\"font-weight: bold\">DistributionTrace</span>\n",
       "                │               ├── gen_fn\n",
       "                │               │   └── <span style=\"font-weight: bold\">_Normal</span>\n",
       "                │               ├── args\n",
       "                │               │   └── <span style=\"font-weight: bold\">tuple</span>\n",
       "                │               │       ├── (const) 0.0\n",
       "                │               │       └── (const) 1.0\n",
       "                │               ├── value\n",
       "                │               │   └──  f32[]\n",
       "                │               └── score\n",
       "                │                   └──  f32[]\n",
       "                ├── cache\n",
       "                │   └── <span style=\"font-weight: bold\">Trie</span>\n",
       "                └── score\n",
       "                    └──  f32[]\n",
       "</pre>\n"
      ],
      "text/plain": [
       "\n",
       "\u001b[1mTrieChoiceMap\u001b[0m\n",
       "└── trie\n",
       "    └── \u001b[1mTrie\u001b[0m\n",
       "        └── \u001b[1m:y\u001b[0m\n",
       "            └── \u001b[1mBuiltinTrace\u001b[0m\n",
       "                ├── gen_fn\n",
       "                │   └── \u001b[1mBuiltinGenerativeFunction\u001b[0m\n",
       "                │       └── source\n",
       "                │           └── \u001b[1mPytreeClosure\u001b[0m\n",
       "                │               ├── callable\n",
       "                │               │   └── <function _submodel>\n",
       "                │               └── environment\n",
       "                │                   └── \u001b[1mlist\u001b[0m\n",
       "                ├── args\n",
       "                │   └── \u001b[1mtuple\u001b[0m\n",
       "                ├── retval\n",
       "                │   └── \u001b[1mtuple\u001b[0m\n",
       "                │       ├──  f32[]\n",
       "                │       └──  f32[]\n",
       "                ├── choices\n",
       "                │   └── \u001b[1mTrie\u001b[0m\n",
       "                │       ├── \u001b[1m:y1\u001b[0m\n",
       "                │       │   └── \u001b[1mDistributionTrace\u001b[0m\n",
       "                │       │       ├── gen_fn\n",
       "                │       │       │   └── \u001b[1m_Normal\u001b[0m\n",
       "                │       │       ├── args\n",
       "                │       │       │   └── \u001b[1mtuple\u001b[0m\n",
       "                │       │       │       ├── (const) 0.0\n",
       "                │       │       │       └── (const) 1.0\n",
       "                │       │       ├── value\n",
       "                │       │       │   └──  f32[]\n",
       "                │       │       └── score\n",
       "                │       │           └──  f32[]\n",
       "                │       └── \u001b[1m:y2\u001b[0m\n",
       "                │           └── \u001b[1mDistributionTrace\u001b[0m\n",
       "                │               ├── gen_fn\n",
       "                │               │   └── \u001b[1m_Normal\u001b[0m\n",
       "                │               ├── args\n",
       "                │               │   └── \u001b[1mtuple\u001b[0m\n",
       "                │               │       ├── (const) 0.0\n",
       "                │               │       └── (const) 1.0\n",
       "                │               ├── value\n",
       "                │               │   └──  f32[]\n",
       "                │               └── score\n",
       "                │                   └──  f32[]\n",
       "                ├── cache\n",
       "                │   └── \u001b[1mTrie\u001b[0m\n",
       "                └── score\n",
       "                    └──  f32[]\n"
      ]
     },
     "metadata": {},
     "output_type": "display_data"
    }
   ],
   "source": [
    "fn = hierarchical_simple_normal_multiple_returns.simulate\n",
    "key, tr = fn(key, ())\n",
    "chm = tr.get_choices()\n",
    "chm"
   ]
  },
  {
   "cell_type": "code",
   "execution_count": 4,
   "id": "f5f4bae5-9bbc-4284-ab86-037f21c640ae",
   "metadata": {
    "tags": []
   },
   "outputs": [],
   "source": [
    "new_chm = genjax.choice_map({(\"y\", \"y1\"): 0.5})"
   ]
  },
  {
   "cell_type": "code",
   "execution_count": 5,
   "id": "9327825d-c92a-4cdc-8db8-0b4b9bed7e50",
   "metadata": {
    "tags": []
   },
   "outputs": [
    {
     "data": {
      "text/html": [
       "<pre style=\"white-space:pre;overflow-x:auto;line-height:normal;font-family:Menlo,'DejaVu Sans Mono',consolas,'Courier New',monospace\"><span style=\"font-weight: bold\">(</span><span style=\"color: #800080; text-decoration-color: #800080; font-weight: bold\">Diff</span><span style=\"font-weight: bold\">(</span><span style=\"color: #808000; text-decoration-color: #808000\">primal</span>=<span style=\"color: #008080; text-decoration-color: #008080; font-weight: bold\">0.5</span>, <span style=\"color: #808000; text-decoration-color: #808000\">tangent</span>=<span style=\"font-weight: bold\">)</span>, <span style=\"color: #800080; text-decoration-color: #800080; font-weight: bold\">Diff</span><span style=\"font-weight: bold\">(</span><span style=\"color: #808000; text-decoration-color: #808000\">primal</span>=<span style=\"color: #800080; text-decoration-color: #800080; font-weight: bold\">Array</span><span style=\"font-weight: bold\">(</span><span style=\"color: #008080; text-decoration-color: #008080; font-weight: bold\">0.27442896</span>, <span style=\"color: #808000; text-decoration-color: #808000\">dtype</span>=<span style=\"color: #800080; text-decoration-color: #800080\">float32</span><span style=\"font-weight: bold\">)</span>, <span style=\"color: #808000; text-decoration-color: #808000\">tangent</span>=<span style=\"font-weight: bold\">))</span>\n",
       "</pre>\n"
      ],
      "text/plain": [
       "\u001b[1m(\u001b[0m\u001b[1;35mDiff\u001b[0m\u001b[1m(\u001b[0m\u001b[33mprimal\u001b[0m=\u001b[1;36m0\u001b[0m\u001b[1;36m.5\u001b[0m, \u001b[33mtangent\u001b[0m=\u001b[1m)\u001b[0m, \u001b[1;35mDiff\u001b[0m\u001b[1m(\u001b[0m\u001b[33mprimal\u001b[0m=\u001b[1;35mArray\u001b[0m\u001b[1m(\u001b[0m\u001b[1;36m0.27442896\u001b[0m, \u001b[33mdtype\u001b[0m=\u001b[35mfloat32\u001b[0m\u001b[1m)\u001b[0m, \u001b[33mtangent\u001b[0m=\u001b[1m)\u001b[0m\u001b[1m)\u001b[0m\n"
      ]
     },
     "metadata": {},
     "output_type": "display_data"
    }
   ],
   "source": [
    "key, (rd, w, tr, _) = tr.update(key, new_chm, ())\n",
    "rd"
   ]
  },
  {
   "cell_type": "code",
   "execution_count": 6,
   "id": "cc30a49b-b06d-40ea-b02a-5637107dfe8c",
   "metadata": {
    "tags": []
   },
   "outputs": [
    {
     "data": {
      "text/html": [
       "<pre style=\"white-space:pre;overflow-x:auto;line-height:normal;font-family:Menlo,'DejaVu Sans Mono',consolas,'Courier New',monospace\">\n",
       "</pre>\n"
      ],
      "text/plain": [
       "\n"
      ]
     },
     "metadata": {},
     "output_type": "display_data"
    },
    {
     "data": {
      "text/html": [
       "<pre style=\"white-space:pre;overflow-x:auto;line-height:normal;font-family:Menlo,'DejaVu Sans Mono',consolas,'Courier New',monospace\">\n",
       "<span style=\"font-weight: bold\">Diff</span>\n",
       "├── primal\n",
       "│   └── (const) 0.5\n",
       "└── tangent\n",
       "    └── <span style=\"font-weight: bold\">_UnknownChange</span>\n",
       "</pre>\n"
      ],
      "text/plain": [
       "\n",
       "\u001b[1mDiff\u001b[0m\n",
       "├── primal\n",
       "│   └── (const) 0.5\n",
       "└── tangent\n",
       "    └── \u001b[1m_UnknownChange\u001b[0m\n"
      ]
     },
     "metadata": {},
     "output_type": "display_data"
    }
   ],
   "source": [
    "rd[0]"
   ]
  },
  {
   "cell_type": "code",
   "execution_count": 7,
   "id": "1bcbd028-23cd-4241-83ac-98f30735107c",
   "metadata": {
    "tags": []
   },
   "outputs": [
    {
     "data": {
      "text/html": [
       "<pre style=\"white-space:pre;overflow-x:auto;line-height:normal;font-family:Menlo,'DejaVu Sans Mono',consolas,'Courier New',monospace\"><span style=\"color: #800080; text-decoration-color: #800080; font-weight: bold\">Array</span><span style=\"font-weight: bold\">(</span><span style=\"color: #008080; text-decoration-color: #008080; font-weight: bold\">-0.11914301</span>, <span style=\"color: #808000; text-decoration-color: #808000\">dtype</span>=<span style=\"color: #800080; text-decoration-color: #800080\">float32</span><span style=\"font-weight: bold\">)</span>\n",
       "</pre>\n"
      ],
      "text/plain": [
       "\u001b[1;35mArray\u001b[0m\u001b[1m(\u001b[0m\u001b[1;36m-0.11914301\u001b[0m, \u001b[33mdtype\u001b[0m=\u001b[35mfloat32\u001b[0m\u001b[1m)\u001b[0m\n"
      ]
     },
     "metadata": {},
     "output_type": "display_data"
    }
   ],
   "source": [
    "w"
   ]
  },
  {
   "cell_type": "code",
   "execution_count": null,
   "id": "16b5d77a-3ddd-4188-83b7-227e6bccf5fc",
   "metadata": {},
   "outputs": [],
   "source": []
  }
 ],
 "metadata": {
  "kernelspec": {
   "display_name": "Python 3 (ipykernel)",
   "language": "python",
   "name": "python3"
  },
  "language_info": {
   "codemirror_mode": {
    "name": "ipython",
    "version": 3
   },
   "file_extension": ".py",
   "mimetype": "text/x-python",
   "name": "python",
   "nbconvert_exporter": "python",
   "pygments_lexer": "ipython3",
   "version": "3.11.0"
  }
 },
 "nbformat": 4,
 "nbformat_minor": 5
}
