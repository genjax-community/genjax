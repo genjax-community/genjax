{
 "cells": [
  {
   "cell_type": "code",
   "execution_count": 1,
   "id": "d658abe6-964c-4df7-b0e7-65f3be29c79d",
   "metadata": {
    "tags": []
   },
   "outputs": [],
   "source": [
    "import genjax\n",
    "import jax\n",
    "\n",
    "key = jax.random.PRNGKey(314159)\n",
    "\n",
    "console = genjax.pretty()"
   ]
  },
  {
   "cell_type": "code",
   "execution_count": 2,
   "id": "b3a123ac-520c-4c8f-98b6-71e519e7e8db",
   "metadata": {
    "tags": []
   },
   "outputs": [],
   "source": [
    "@genjax.prox.unnorm.lang\n",
    "@genjax.gen\n",
    "def model():\n",
    "    x = genjax.Normal(3.0, 1.0) @ \"x\"\n",
    "    genjax.prox.score(-(x**3))\n",
    "    return x"
   ]
  },
  {
   "cell_type": "code",
   "execution_count": 3,
   "id": "27fa7b99-5b58-4e4c-90d1-21fe5f29d3f2",
   "metadata": {
    "tags": []
   },
   "outputs": [
    {
     "data": {
      "text/html": [
       "<pre style=\"white-space:pre;overflow-x:auto;line-height:normal;font-family:Menlo,'DejaVu Sans Mono',consolas,'Courier New',monospace\">\n",
       "</pre>\n"
      ],
      "text/plain": [
       "\n"
      ]
     },
     "metadata": {},
     "output_type": "display_data"
    },
    {
     "data": {
      "text/html": [
       "<pre style=\"white-space:pre;overflow-x:auto;line-height:normal;font-family:Menlo,'DejaVu Sans Mono',consolas,'Courier New',monospace\">\n",
       "<span style=\"font-weight: bold\">UnnormalizedMeasureFunction</span>\n",
       "└── gen_fn\n",
       "    └── <span style=\"font-weight: bold\">BuiltinGenerativeFunction</span>\n",
       "        └── source\n",
       "            └── <span style=\"font-weight: bold\">PytreeClosure</span>\n",
       "                ├── callable\n",
       "                │   └── &lt;function model&gt;\n",
       "                └── environment\n",
       "                    └── <span style=\"font-weight: bold\">list</span>\n",
       "</pre>\n"
      ],
      "text/plain": [
       "\n",
       "\u001b[1mUnnormalizedMeasureFunction\u001b[0m\n",
       "└── gen_fn\n",
       "    └── \u001b[1mBuiltinGenerativeFunction\u001b[0m\n",
       "        └── source\n",
       "            └── \u001b[1mPytreeClosure\u001b[0m\n",
       "                ├── callable\n",
       "                │   └── <function model>\n",
       "                └── environment\n",
       "                    └── \u001b[1mlist\u001b[0m\n"
      ]
     },
     "metadata": {},
     "output_type": "display_data"
    }
   ],
   "source": [
    "model"
   ]
  },
  {
   "cell_type": "code",
   "execution_count": 8,
   "id": "f159b84f-2ab4-4cea-9cb6-408663d8b142",
   "metadata": {
    "tags": []
   },
   "outputs": [
    {
     "data": {
      "text/html": [
       "<pre style=\"white-space:pre;overflow-x:auto;line-height:normal;font-family:Menlo,'DejaVu Sans Mono',consolas,'Courier New',monospace\"><span style=\"color: #800080; text-decoration-color: #800080; font-weight: bold\">Array</span><span style=\"font-weight: bold\">(</span><span style=\"color: #008080; text-decoration-color: #008080; font-weight: bold\">0.669816</span>, <span style=\"color: #808000; text-decoration-color: #808000\">dtype</span>=<span style=\"color: #800080; text-decoration-color: #800080\">float32</span><span style=\"font-weight: bold\">)</span>\n",
       "</pre>\n"
      ],
      "text/plain": [
       "\u001b[1;35mArray\u001b[0m\u001b[1m(\u001b[0m\u001b[1;36m0.669816\u001b[0m, \u001b[33mdtype\u001b[0m=\u001b[35mfloat32\u001b[0m\u001b[1m)\u001b[0m\n"
      ]
     },
     "metadata": {},
     "output_type": "display_data"
    }
   ],
   "source": [
    "target = genjax.prox.Target(model, (), genjax.EmptyChoiceMap())\n",
    "key, tr = genjax.prox.Importance(500, None).simulate(key, (target,))\n",
    "tr.get_retval()[\"x\"]"
   ]
  },
  {
   "cell_type": "code",
   "execution_count": null,
   "id": "0cfc20d2-dc22-4258-a974-12d2ea1fb99c",
   "metadata": {},
   "outputs": [],
   "source": []
  }
 ],
 "metadata": {
  "kernelspec": {
   "display_name": "Python 3 (ipykernel)",
   "language": "python",
   "name": "python3"
  },
  "language_info": {
   "codemirror_mode": {
    "name": "ipython",
    "version": 3
   },
   "file_extension": ".py",
   "mimetype": "text/x-python",
   "name": "python",
   "nbconvert_exporter": "python",
   "pygments_lexer": "ipython3",
   "version": "3.11.0"
  }
 },
 "nbformat": 4,
 "nbformat_minor": 5
}
