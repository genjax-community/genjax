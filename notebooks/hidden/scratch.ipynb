{
 "cells": [
  {
   "cell_type": "code",
   "execution_count": 37,
   "id": "7749c667",
   "metadata": {},
   "outputs": [],
   "source": [
    "import jax\n",
    "import jax.numpy as jnp\n",
    "\n",
    "import genjax\n",
    "\n",
    "\n",
    "@genjax.gen\n",
    "def model(μ):\n",
    "    x = genjax.normal(μ, 1.0) @ \"x\"\n",
    "    return (x - μ) ** 2"
   ]
  },
  {
   "cell_type": "code",
   "execution_count": 38,
   "id": "74489370",
   "metadata": {},
   "outputs": [],
   "source": [
    "key = jax.random.PRNGKey(314159)\n",
    "key, sub_keys = genjax.slash(key, 2000)\n",
    "adev_prog = genjax.adev.lang(model)\n",
    "_, (v,), (tangents,) = jax.vmap(adev_prog.grad_estimate, in_axes=(0, None, None))(\n",
    "    sub_keys, (2.0,), (1.0,)\n",
    ")"
   ]
  },
  {
   "cell_type": "code",
   "execution_count": 39,
   "id": "bcdc2375",
   "metadata": {},
   "outputs": [],
   "source": [
    "jnp.mean(tangents)"
   ]
  },
  {
   "cell_type": "code",
   "execution_count": 40,
   "id": "432f2e66",
   "metadata": {},
   "outputs": [],
   "source": [
    "jnp.mean(v)"
   ]
  }
 ],
 "metadata": {
  "kernelspec": {
   "display_name": "Python 3 (ipykernel)",
   "language": "python",
   "name": "python3"
  },
  "language_info": {
   "codemirror_mode": {
    "name": "ipython",
    "version": 3
   },
   "file_extension": ".py",
   "mimetype": "text/x-python",
   "name": "python",
   "nbconvert_exporter": "python",
   "pygments_lexer": "ipython3",
   "version": "3.11.4"
  }
 },
 "nbformat": 4,
 "nbformat_minor": 5
}
