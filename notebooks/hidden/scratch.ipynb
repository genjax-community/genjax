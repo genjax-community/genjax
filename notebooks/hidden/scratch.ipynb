{
 "cells": [
  {
   "cell_type": "code",
   "execution_count": 1,
   "id": "58dc1137-9db2-401e-9f0c-7dfa8d269096",
   "metadata": {
    "tags": []
   },
   "outputs": [],
   "source": [
    "import jax\n",
    "import genjax\n",
    "import jax.numpy as jnp\n",
    "\n",
    "console = genjax.pretty(show_locals=True)\n",
    "key = jax.random.PRNGKey(314159)"
   ]
  },
  {
   "cell_type": "code",
   "execution_count": 2,
   "id": "c4ececfb-7c8a-421a-b18f-9db6bc9fc23a",
   "metadata": {
    "tags": []
   },
   "outputs": [
    {
     "name": "stdout",
     "output_type": "stream",
     "text": [
      "2.5799105\n",
      "2.5799105\n"
     ]
    }
   ],
   "source": [
    "key = jax.random.PRNGKey(1337)\n",
    "global_num = 10\n",
    "\n",
    "@genjax.gen\n",
    "def model(x):\n",
    "    scale = jnp.linspace(0, 1, global_num).sum()\n",
    "    data = genjax.normal(x, scale) @ 'data'\n",
    "    return data\n",
    "\n",
    "_, trace = genjax.simulate(model)(key, (5,))\n",
    "print(trace.retval)\n",
    "\n",
    "_, trace = genjax.simulate(genjax.Switch(model, model))(key, (0, 5))\n",
    "print(trace.retval)"
   ]
  },
  {
   "cell_type": "code",
   "execution_count": 3,
   "id": "0bee93d8-aee4-4d1a-9e90-cbce0ced8843",
   "metadata": {
    "tags": []
   },
   "outputs": [
    {
     "data": {
      "text/html": [
       "<pre style=\"white-space:pre;overflow-x:auto;line-height:normal;font-family:Menlo,'DejaVu Sans Mono',consolas,'Courier New',monospace\">\n",
       "</pre>\n"
      ],
      "text/plain": [
       "\n"
      ]
     },
     "metadata": {},
     "output_type": "display_data"
    },
    {
     "data": {
      "text/html": [
       "<pre style=\"white-space:pre;overflow-x:auto;line-height:normal;font-family:Menlo,'DejaVu Sans Mono',consolas,'Courier New',monospace\">\n",
       "<span style=\"font-weight: bold\">BuiltinGenerativeFunction</span>\n",
       "└── source\n",
       "    └── <span style=\"font-weight: bold\">PytreeClosure</span>\n",
       "        ├── callable\n",
       "        │   └── &lt;function model&gt;\n",
       "        └── environment\n",
       "            └── <span style=\"font-weight: bold\">list</span>\n",
       "                └── (const) 10\n",
       "</pre>\n"
      ],
      "text/plain": [
       "\n",
       "\u001b[1mBuiltinGenerativeFunction\u001b[0m\n",
       "└── source\n",
       "    └── \u001b[1mPytreeClosure\u001b[0m\n",
       "        ├── callable\n",
       "        │   └── <function model>\n",
       "        └── environment\n",
       "            └── \u001b[1mlist\u001b[0m\n",
       "                └── (const) 10\n"
      ]
     },
     "metadata": {},
     "output_type": "display_data"
    }
   ],
   "source": [
    "key = jax.random.PRNGKey(1337)\n",
    "\n",
    "def make_model(closed):\n",
    "    @genjax.gen\n",
    "    def model(x):\n",
    "        scale = jnp.linspace(0, 1, closed).sum()\n",
    "        data = genjax.normal(x, scale) @ 'data'\n",
    "        return data\n",
    "    return model\n",
    "\n",
    "model = make_model(10)\n",
    "model"
   ]
  },
  {
   "cell_type": "code",
   "execution_count": 4,
   "id": "af272d04-b274-41b4-ac42-b5f5aac7bd7d",
   "metadata": {
    "tags": []
   },
   "outputs": [
    {
     "name": "stdout",
     "output_type": "stream",
     "text": [
      "2.5799105\n"
     ]
    }
   ],
   "source": [
    "_, trace = genjax.simulate(model)(key, (5,))\n",
    "print(trace.retval)"
   ]
  },
  {
   "cell_type": "code",
   "execution_count": 5,
   "id": "8e24a6e0-0258-44d5-a516-d158ac4e00fa",
   "metadata": {
    "tags": []
   },
   "outputs": [
    {
     "name": "stdout",
     "output_type": "stream",
     "text": [
      "2.5799105\n"
     ]
    }
   ],
   "source": [
    "_, trace = genjax.simulate(genjax.Switch(model, model))(key, (0, 5))\n",
    "print(trace.retval)"
   ]
  }
 ],
 "metadata": {
  "kernelspec": {
   "display_name": "Python 3 (ipykernel)",
   "language": "python",
   "name": "python3"
  },
  "language_info": {
   "codemirror_mode": {
    "name": "ipython",
    "version": 3
   },
   "file_extension": ".py",
   "mimetype": "text/x-python",
   "name": "python",
   "nbconvert_exporter": "python",
   "pygments_lexer": "ipython3",
   "version": "3.11.4"
  }
 },
 "nbformat": 4,
 "nbformat_minor": 5
}
