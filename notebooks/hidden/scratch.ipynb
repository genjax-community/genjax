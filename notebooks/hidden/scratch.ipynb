{
 "cells": [
  {
   "cell_type": "code",
   "execution_count": 1,
   "id": "5739f18f",
   "metadata": {
    "tags": []
   },
   "outputs": [],
   "source": [
    "import jax\n",
    "import genjax\n",
    "import jax.numpy as jnp\n",
    "\n",
    "console = genjax.pretty()\n",
    "\n",
    "\n",
    "@genjax.gen\n",
    "def kernel(x):\n",
    "    z = genjax.trace(\"z\", genjax.normal)(x, 1.0)\n",
    "    return z\n",
    "\n",
    "\n",
    "model = genjax.Map(kernel, in_axes=(0,))\n",
    "\n",
    "key = jax.random.PRNGKey(314159)\n",
    "map_over = jnp.arange(0, 3)\n",
    "chm = genjax.index_choice_map(genjax.choice_map({\"z\": jnp.array([3.0])}), [0])\n",
    "key, (w, tr) = jax.jit(model.importance)(key, chm, (map_over,))"
   ]
  },
  {
   "cell_type": "code",
   "execution_count": 2,
   "id": "e97bf617-0012-4f2e-a47f-0b6f8fefd335",
   "metadata": {
    "tags": []
   },
   "outputs": [
    {
     "data": {
      "text/html": [
       "<pre style=\"white-space:pre;overflow-x:auto;line-height:normal;font-family:Menlo,'DejaVu Sans Mono',consolas,'Courier New',monospace\"><span style=\"color: #800080; text-decoration-color: #800080; font-weight: bold\">Array</span><span style=\"font-weight: bold\">([</span><span style=\"color: #008080; text-decoration-color: #008080; font-weight: bold\">3</span>.       , <span style=\"color: #008080; text-decoration-color: #008080; font-weight: bold\">1.5390999</span>, <span style=\"color: #008080; text-decoration-color: #008080; font-weight: bold\">1.7187171</span><span style=\"font-weight: bold\">]</span>, <span style=\"color: #808000; text-decoration-color: #808000\">dtype</span>=<span style=\"color: #800080; text-decoration-color: #800080\">float32</span><span style=\"font-weight: bold\">)</span>\n",
       "</pre>\n"
      ],
      "text/plain": [
       "\u001b[1;35mArray\u001b[0m\u001b[1m(\u001b[0m\u001b[1m[\u001b[0m\u001b[1;36m3\u001b[0m.       , \u001b[1;36m1.5390999\u001b[0m, \u001b[1;36m1.7187171\u001b[0m\u001b[1m]\u001b[0m, \u001b[33mdtype\u001b[0m=\u001b[35mfloat32\u001b[0m\u001b[1m)\u001b[0m\n"
      ]
     },
     "metadata": {},
     "output_type": "display_data"
    }
   ],
   "source": [
    "tr[\"z\"]"
   ]
  }
 ],
 "metadata": {
  "kernelspec": {
   "display_name": "Python 3 (ipykernel)",
   "language": "python",
   "name": "python3"
  },
  "language_info": {
   "codemirror_mode": {
    "name": "ipython",
    "version": 3
   },
   "file_extension": ".py",
   "mimetype": "text/x-python",
   "name": "python",
   "nbconvert_exporter": "python",
   "pygments_lexer": "ipython3",
   "version": "3.11.4"
  }
 },
 "nbformat": 4,
 "nbformat_minor": 5
}
