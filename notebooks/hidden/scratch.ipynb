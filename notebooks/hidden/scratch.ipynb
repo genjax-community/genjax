{
 "cells": [
  {
   "cell_type": "code",
   "execution_count": null,
   "id": "58dc1137-9db2-401e-9f0c-7dfa8d269096",
   "metadata": {
    "tags": []
   },
   "outputs": [],
   "source": [
    "import jax\n",
    "import genjax\n",
    "\n",
    "console = genjax.pretty(show_locals=True)\n",
    "key = jax.random.PRNGKey(314159)"
   ]
  },
  {
   "cell_type": "code",
   "execution_count": null,
   "id": "dba7c58e-12ee-4e55-b26e-22a5cd941f64",
   "metadata": {
    "tags": []
   },
   "outputs": [],
   "source": [
    "@genjax.gen\n",
    "def g(x):\n",
    "    m0 = genjax.trace(\"m0\", genjax.bernoulli)(x)\n",
    "    return m0\n",
    "\n",
    "\n",
    "@genjax.gen\n",
    "def h(x):\n",
    "    m0 = genjax.trace(\"sub\", g)(x)\n",
    "    return m0"
   ]
  },
  {
   "cell_type": "code",
   "execution_count": null,
   "id": "c8432b10-63ef-4e6f-a7f5-827e94fbad95",
   "metadata": {
    "tags": []
   },
   "outputs": [],
   "source": [
    "key, tr = h.simulate(key, (0.3,))"
   ]
  }
 ],
 "metadata": {
  "kernelspec": {
   "display_name": "Python 3 (ipykernel)",
   "language": "python",
   "name": "python3"
  },
  "language_info": {
   "codemirror_mode": {
    "name": "ipython",
    "version": 3
   },
   "file_extension": ".py",
   "mimetype": "text/x-python",
   "name": "python",
   "nbconvert_exporter": "python",
   "pygments_lexer": "ipython3",
   "version": "3.11.3"
  }
 },
 "nbformat": 4,
 "nbformat_minor": 5
}
