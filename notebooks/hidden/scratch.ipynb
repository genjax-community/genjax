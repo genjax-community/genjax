{
 "cells": [
  {
   "cell_type": "code",
   "execution_count": 1,
   "id": "9d93562a",
   "metadata": {},
   "outputs": [],
   "source": [
    "import jax\n",
    "import jax.numpy as jnp\n",
    "import jax.tree_util as jtu\n",
    "\n",
    "import genjax\n",
    "from genjax import normal\n",
    "from genjax import tfp_uniform\n",
    "from genjax import trace\n",
    "from genjax import gen\n",
    "from genjax.inference import smc\n",
    "from genjax import index_choice_map, choice_map\n",
    "from genjax import diff, NoChange, UnknownChange\n",
    "from genjax import index_select\n",
    "\n",
    "console = genjax.pretty()\n",
    "key = jax.random.PRNGKey(314159)"
   ]
  },
  {
   "cell_type": "code",
   "execution_count": 2,
   "id": "80ef5088",
   "metadata": {},
   "outputs": [],
   "source": [
    "@genjax.gen\n",
    "def simple_normal():\n",
    "    y1 = genjax.trace(\"y1\", genjax.normal)(0.0, 1.0)\n",
    "    y2 = genjax.trace(\"y2\", genjax.normal)(0.0, 1.0)\n",
    "\n",
    "\n",
    "@genjax.gen\n",
    "def simple_bernoulli():\n",
    "    y3 = genjax.trace(\"y3\", genjax.bernoulli)(0.3)\n",
    "\n",
    "\n",
    "switch = genjax.SwitchCombinator([simple_normal, simple_bernoulli])\n",
    "\n",
    "key = jax.random.PRNGKey(314159)\n",
    "jitted = jax.jit(switch.simulate)"
   ]
  },
  {
   "cell_type": "code",
   "execution_count": 3,
   "id": "3447306c",
   "metadata": {},
   "outputs": [],
   "source": [
    "key, tr = jitted(key, (0,))"
   ]
  },
  {
   "cell_type": "code",
   "execution_count": 4,
   "id": "9ef8ad8a",
   "metadata": {},
   "outputs": [
    {
     "name": "stdout",
     "output_type": "stream",
     "text": [
      "[-1]\n",
      "-1\n"
     ]
    },
    {
     "data": {
      "text/html": [
       "<pre style=\"white-space:pre;overflow-x:auto;line-height:normal;font-family:Menlo,'DejaVu Sans Mono',consolas,'Courier New',monospace\">\n",
       "</pre>\n"
      ],
      "text/plain": [
       "\n"
      ]
     },
     "metadata": {},
     "output_type": "display_data"
    },
    {
     "data": {
      "text/html": [
       "<pre style=\"white-space:pre;overflow-x:auto;line-height:normal;font-family:Menlo,'DejaVu Sans Mono',consolas,'Courier New',monospace\"><span style=\"font-weight: bold\">EmptyChoiceMap</span>\n",
       "</pre>\n"
      ],
      "text/plain": [
       "\u001b[1mEmptyChoiceMap\u001b[0m\n"
      ]
     },
     "metadata": {},
     "output_type": "display_data"
    }
   ],
   "source": [
    "tr.strip()[\"y3\"]"
   ]
  },
  {
   "cell_type": "code",
   "execution_count": 5,
   "id": "74cb5814",
   "metadata": {},
   "outputs": [],
   "source": [
    "def inner():\n",
    "    key = jax.random.PRNGKey(314159)\n",
    "    key, tr = switch.simulate(key, (0,))\n",
    "    v = tr[\"y3\"]\n",
    "    return v"
   ]
  },
  {
   "cell_type": "code",
   "execution_count": 6,
   "id": "b75b84c6",
   "metadata": {},
   "outputs": [
    {
     "name": "stdout",
     "output_type": "stream",
     "text": [
      "Traced<ShapedArray(int32[1])>with<DynamicJaxprTrace(level=1/0)>\n",
      "Traced<ShapedArray(int32[])>with<DynamicJaxprTrace(level=1/0)>\n"
     ]
    },
    {
     "data": {
      "text/html": [
       "<pre style=\"white-space:pre;overflow-x:auto;line-height:normal;font-family:Menlo,'DejaVu Sans Mono',consolas,'Courier New',monospace\">\n",
       "</pre>\n"
      ],
      "text/plain": [
       "\n"
      ]
     },
     "metadata": {},
     "output_type": "display_data"
    },
    {
     "data": {
      "text/html": [
       "<pre style=\"white-space:pre;overflow-x:auto;line-height:normal;font-family:Menlo,'DejaVu Sans Mono',consolas,'Courier New',monospace\">\n",
       "<span style=\"font-weight: bold\">BooleanMask</span>\n",
       "├── mask\n",
       "│   └──  bool[1]\n",
       "└── value\n",
       "    └──  bool[]\n",
       "</pre>\n"
      ],
      "text/plain": [
       "\n",
       "\u001b[1mBooleanMask\u001b[0m\n",
       "├── mask\n",
       "│   └──  bool[1]\n",
       "└── value\n",
       "    └──  bool[]\n"
      ]
     },
     "metadata": {},
     "output_type": "display_data"
    }
   ],
   "source": [
    "jax.jit(inner)()"
   ]
  },
  {
   "cell_type": "code",
   "execution_count": null,
   "id": "4cf2daaa",
   "metadata": {},
   "outputs": [],
   "source": []
  }
 ],
 "metadata": {
  "kernelspec": {
   "display_name": "Python 3 (ipykernel)",
   "language": "python",
   "name": "python3"
  },
  "language_info": {
   "codemirror_mode": {
    "name": "ipython",
    "version": 3
   },
   "file_extension": ".py",
   "mimetype": "text/x-python",
   "name": "python",
   "nbconvert_exporter": "python",
   "pygments_lexer": "ipython3",
   "version": "3.11.4"
  }
 },
 "nbformat": 4,
 "nbformat_minor": 5
}
