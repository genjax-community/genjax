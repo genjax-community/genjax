{
 "cells": [
  {
   "cell_type": "code",
   "execution_count": 1,
   "id": "9d93562a",
   "metadata": {},
   "outputs": [],
   "source": [
    "import jax\n",
    "import jax.numpy as jnp\n",
    "import jax.tree_util as jtu\n",
    "\n",
    "import genjax\n",
    "from genjax import normal\n",
    "from genjax import tfp_uniform\n",
    "from genjax import trace\n",
    "from genjax import gen\n",
    "from genjax.inference import smc\n",
    "from genjax import index_choice_map, choice_map\n",
    "from genjax import diff, NoChange, UnknownChange\n",
    "from genjax import index_select\n",
    "\n",
    "console = genjax.pretty()\n",
    "key = jax.random.PRNGKey(314159)"
   ]
  },
  {
   "cell_type": "code",
   "execution_count": 4,
   "id": "4cf2daaa",
   "metadata": {},
   "outputs": [],
   "source": [
    "@genjax.gen\n",
    "def f1():\n",
    "    return genjax.tfp_normal(0.0, 1.0) @ \"y\"\n",
    "\n",
    "\n",
    "@genjax.gen\n",
    "def f2():\n",
    "    return genjax.tfp_normal(0.0, 2.0) @ \"x\"\n",
    "\n",
    "\n",
    "s = genjax.SwitchCombinator([f1, f2])\n",
    "\n",
    "s_keys = jax.random.split(jax.random.PRNGKey(17), 3)\n",
    "# (Just select 0 in all branches for simplicity:)\n",
    "_, tr = jax.vmap(s.simulate, in_axes=(0, None))(s_keys, (1,))"
   ]
  },
  {
   "cell_type": "code",
   "execution_count": 5,
   "id": "35c35800",
   "metadata": {},
   "outputs": [
    {
     "data": {
      "text/html": [
       "<pre style=\"white-space:pre;overflow-x:auto;line-height:normal;font-family:Menlo,'DejaVu Sans Mono',consolas,'Courier New',monospace\"><span style=\"color: #800080; text-decoration-color: #800080; font-weight: bold\">Array</span><span style=\"font-weight: bold\">([</span><span style=\"color: #ff0000; text-decoration-color: #ff0000; font-style: italic\">False</span>, <span style=\"color: #ff0000; text-decoration-color: #ff0000; font-style: italic\">False</span>, <span style=\"color: #ff0000; text-decoration-color: #ff0000; font-style: italic\">False</span><span style=\"font-weight: bold\">]</span>, <span style=\"color: #808000; text-decoration-color: #808000\">dtype</span>=<span style=\"color: #800080; text-decoration-color: #800080\">bool</span><span style=\"font-weight: bold\">)</span>\n",
       "</pre>\n"
      ],
      "text/plain": [
       "\u001b[1;35mArray\u001b[0m\u001b[1m(\u001b[0m\u001b[1m[\u001b[0m\u001b[3;91mFalse\u001b[0m, \u001b[3;91mFalse\u001b[0m, \u001b[3;91mFalse\u001b[0m\u001b[1m]\u001b[0m, \u001b[33mdtype\u001b[0m=\u001b[35mbool\u001b[0m\u001b[1m)\u001b[0m\n"
      ]
     },
     "metadata": {},
     "output_type": "display_data"
    }
   ],
   "source": [
    "tr[\"y\"].mask"
   ]
  }
 ],
 "metadata": {
  "kernelspec": {
   "display_name": "Python 3 (ipykernel)",
   "language": "python",
   "name": "python3"
  },
  "language_info": {
   "codemirror_mode": {
    "name": "ipython",
    "version": 3
   },
   "file_extension": ".py",
   "mimetype": "text/x-python",
   "name": "python",
   "nbconvert_exporter": "python",
   "pygments_lexer": "ipython3",
   "version": "3.11.4"
  }
 },
 "nbformat": 4,
 "nbformat_minor": 5
}
