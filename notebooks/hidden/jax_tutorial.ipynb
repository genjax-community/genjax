{
 "cells": [
  {
   "cell_type": "raw",
   "id": "45d3923e-2edb-4e38-9d3c-c88870d41fe5",
   "metadata": {},
   "source": [
    "---\n",
    "title: \"JAX tutorial\"\n",
    "date: \"January 14, 2022\"\n",
    "abstract: \"A quick dive into JAX to bring someone up to speed on the basics.\"\n",
    "---"
   ]
  },
  {
   "cell_type": "code",
   "execution_count": 12,
   "id": "8ed37c00-0caf-46ca-8af7-b9d30a2984e3",
   "metadata": {
    "tags": []
   },
   "outputs": [],
   "source": [
    "import jax\n",
    "import genjax\n",
    "import pickle\n",
    "\n",
    "key = jax.random.PRNGKey(314159)\n",
    "\n",
    "@genjax.gen\n",
    "def model():\n",
    "    x = genjax.normal(0.0, 1.0) @ \"x\"\n",
    "    return x"
   ]
  },
  {
   "cell_type": "code",
   "execution_count": 13,
   "id": "5aa1c391-a2d1-4f78-9773-751a70933db8",
   "metadata": {
    "tags": []
   },
   "outputs": [],
   "source": [
    "import dill as pickle\n",
    "\n",
    "def to_tuple(obj):\n",
    "    return (obj.__class__, obj.flatten())\n",
    "\n",
    "\n",
    "def pickle_serialize(obj):\n",
    "    \"\"\"Serializes an object using pickle.\"\"\"\n",
    "    return pickle.dumps(to_tuple(obj))\n",
    "\n",
    "\n",
    "def pickle_deserialize(serialized_obj):\n",
    "    \"\"\"Deserializes an object using pickle.\"\"\"\n",
    "    cls, (xs, data) = pickle.loads(serialized_obj)\n",
    "    return cls.unflatten(xs, data)"
   ]
  },
  {
   "cell_type": "code",
   "execution_count": 27,
   "id": "d8eb9cc1-59d9-4fd2-8054-318a40e8a75e",
   "metadata": {
    "tags": []
   },
   "outputs": [
    {
     "data": {
      "text/plain": [
       "Array([-1.8959491 ,  0.76408625,  1.4928106 , ..., -1.2883965 ,\n",
       "        0.32632154,  1.0351807 ], dtype=float32)"
      ]
     },
     "execution_count": 27,
     "metadata": {},
     "output_type": "execute_result"
    }
   ],
   "source": [
    "key, sub_keys = genjax.slash(key, 10000)\n",
    "_, tr = jax.vmap(model.simulate, in_axes=(0, None))(sub_keys, ())\n",
    "tr[\"x\"]"
   ]
  },
  {
   "cell_type": "code",
   "execution_count": 28,
   "id": "8e2fa4c0-eb33-4154-8e43-1dd12493ed99",
   "metadata": {
    "tags": []
   },
   "outputs": [],
   "source": [
    "s = pickle_serialize(tr)"
   ]
  },
  {
   "cell_type": "code",
   "execution_count": 29,
   "id": "e4812265-eb37-444d-b186-0841ef05d611",
   "metadata": {
    "tags": []
   },
   "outputs": [],
   "source": [
    "dtr = pickle_deserialize(s)"
   ]
  },
  {
   "cell_type": "code",
   "execution_count": 30,
   "id": "fab72ad1-fc8b-4e90-a177-8ec77aa1daf6",
   "metadata": {
    "tags": []
   },
   "outputs": [
    {
     "data": {
      "text/plain": [
       "BuiltinTrace(gen_fn=BuiltinGenerativeFunction(source=PytreeClosure(callable=<function model at 0x10397b240>, environment=[])), args=(), retval=Array([-1.8959491 ,  0.76408625,  1.4928106 , ..., -1.2883965 ,\n",
       "        0.32632154,  1.0351807 ], dtype=float32), choices=Trie(inner={'x': DistributionTrace(gen_fn=Normal(), args=(Array([0., 0., 0., ..., 0., 0., 0.], dtype=float32, weak_type=True), Array([1., 1., 1., ..., 1., 1., 1.], dtype=float32, weak_type=True)), value=Array([-1.8959491 ,  0.76408625,  1.4928106 , ..., -1.2883965 ,\n",
       "        0.32632154,  1.0351807 ], dtype=float32), score=Array([-2.71625  , -1.2108524, -2.0331802, ..., -1.7489213, -0.9721814,\n",
       "       -1.454738 ], dtype=float32))}), cache=Trie(inner={}), score=Array([-2.71625  , -1.2108524, -2.0331802, ..., -1.7489213, -0.9721814,\n",
       "       -1.454738 ], dtype=float32))"
      ]
     },
     "execution_count": 30,
     "metadata": {},
     "output_type": "execute_result"
    }
   ],
   "source": [
    "dtr"
   ]
  },
  {
   "cell_type": "code",
   "execution_count": 31,
   "id": "74c80c8b-c95f-49a7-8b22-3da2898c342b",
   "metadata": {
    "tags": []
   },
   "outputs": [
    {
     "data": {
      "text/plain": [
       "False"
      ]
     },
     "execution_count": 31,
     "metadata": {},
     "output_type": "execute_result"
    }
   ],
   "source": [
    "dtr == tr"
   ]
  },
  {
   "cell_type": "code",
   "execution_count": 33,
   "id": "949b98d8-8a8c-4cd4-a697-790206a83c7f",
   "metadata": {
    "tags": []
   },
   "outputs": [
    {
     "data": {
      "text/plain": [
       "True"
      ]
     },
     "execution_count": 33,
     "metadata": {},
     "output_type": "execute_result"
    }
   ],
   "source": [
    "all(dtr.get_choices()[\"x\"] == tr[\"x\"])"
   ]
  },
  {
   "cell_type": "code",
   "execution_count": 34,
   "id": "331d84ef-5c00-45a5-ae67-302cfcb90003",
   "metadata": {
    "tags": []
   },
   "outputs": [
    {
     "data": {
      "text/plain": [
       "BuiltinGenerativeFunction(source=PytreeClosure(callable=<function model at 0x12ab9ae80>, environment=[]))"
      ]
     },
     "execution_count": 34,
     "metadata": {},
     "output_type": "execute_result"
    }
   ],
   "source": [
    "tr.get_gen_fn()"
   ]
  },
  {
   "cell_type": "code",
   "execution_count": null,
   "id": "381c3912-f70e-4e95-b72e-f74912cf8908",
   "metadata": {},
   "outputs": [],
   "source": [
    "deserialize(gen_fn:: T, data_ptr, backend :: B)"
   ]
  },
  {
   "cell_type": "code",
   "execution_count": null,
   "id": "5b31e005-a5de-486a-a2d5-21d6cb7c828e",
   "metadata": {},
   "outputs": [],
   "source": [
    "backend.serialize(tr :: Pytree)\n",
    "backend.deserialize(gen_fn, data_ptr)"
   ]
  }
 ],
 "metadata": {
  "kernelspec": {
   "display_name": "Python 3 (ipykernel)",
   "language": "python",
   "name": "python3"
  },
  "language_info": {
   "codemirror_mode": {
    "name": "ipython",
    "version": 3
   },
   "file_extension": ".py",
   "mimetype": "text/x-python",
   "name": "python",
   "nbconvert_exporter": "python",
   "pygments_lexer": "ipython3",
   "version": "3.11.0"
  }
 },
 "nbformat": 4,
 "nbformat_minor": 5
}
