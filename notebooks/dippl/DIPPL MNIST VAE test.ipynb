{
 "cells": [
  {
   "cell_type": "markdown",
   "id": "a9aa208d-522f-48eb-8ac1-514670e04f2a",
   "metadata": {},
   "source": [
    "## GenJAX"
   ]
  },
  {
   "cell_type": "code",
   "execution_count": 1,
   "id": "c50b313d-4c68-4869-9082-3d7a48ed649e",
   "metadata": {},
   "outputs": [
    {
     "name": "stderr",
     "output_type": "stream",
     "text": [
      "2023-10-12 14:35:18.559713: W external/xla/xla/service/platform_util.cc:198] unable to create StreamExecutor for CUDA:0: failed initializing StreamExecutor for CUDA device ordinal 0: INTERNAL: failed call to cuDevicePrimaryCtxRetain: CUDA_ERROR_OUT_OF_MEMORY: out of memory; total memory reported: 25358630912\n",
      "CUDA backend failed to initialize: INTERNAL: no supported devices found for platform CUDA (Set TF_CPP_MIN_LOG_LEVEL=0 and rerun for more info.)\n"
     ]
    }
   ],
   "source": [
    "import inspect\n",
    "import os\n",
    "\n",
    "import jax\n",
    "import jax.numpy as jnp\n",
    "import jax.tree_util as jtu\n",
    "from jax import jit\n",
    "from jax import lax\n",
    "from jax import random\n",
    "from jax.example_libraries import stax\n",
    "from jax.random import PRNGKey\n",
    "from numpyro import optim\n",
    "from numpyro.examples.datasets import MNIST\n",
    "from numpyro.examples.datasets import load_dataset\n",
    "import matplotlib.pyplot as plt\n",
    "\n",
    "\n",
    "import genjax\n",
    "from genjax import dippl\n",
    "from genjax import gensp\n",
    "from genjax import select\n",
    "\n",
    "import adevjax\n",
    "\n",
    "\n",
    "RESULTS_DIR = os.path.abspath(\n",
    "    os.path.join(os.path.dirname(inspect.getfile(lambda: None)), \".results\")\n",
    ")\n",
    "os.makedirs(RESULTS_DIR, exist_ok=True)\n",
    "\n",
    "hidden_dim = 10\n",
    "z_dim = 400\n",
    "learning_rate = 1.0e-3\n",
    "batch_size = 32\n",
    "num_epochs = 20\n",
    "\n",
    "\n",
    "def encoder(hidden_dim, z_dim):\n",
    "    return stax.serial(\n",
    "        stax.Dense(hidden_dim, W_init=stax.randn()),\n",
    "        stax.Softplus,\n",
    "        stax.FanOut(2),\n",
    "        stax.parallel(\n",
    "            stax.Dense(z_dim, W_init=stax.randn()),\n",
    "            stax.serial(stax.Dense(z_dim, W_init=stax.randn()), stax.Exp),\n",
    "        ),\n",
    "    )\n",
    "\n",
    "\n",
    "def decoder(hidden_dim, out_dim):\n",
    "    return stax.serial(\n",
    "        stax.Dense(hidden_dim, W_init=stax.randn()),\n",
    "        stax.Softplus,\n",
    "        stax.Dense(out_dim, W_init=stax.randn()),\n",
    "        stax.Sigmoid,\n",
    "    )\n",
    "\n",
    "\n",
    "# Define our gradient estimator using our loss language.\n",
    "def svi_update(\n",
    "    model,\n",
    "    guide,\n",
    "    optimizer,\n",
    "):\n",
    "    def _inner(key, encoder_params, decoder_params, data):\n",
    "        img_chm = genjax.value_choice_map(\n",
    "            genjax.choice_map({\"image\": data.reshape((28 * 28,))})\n",
    "        )\n",
    "\n",
    "        @adevjax.adev\n",
    "        def elbo_loss(encoder_params, decoder_params):\n",
    "            key = adevjax.grab_key()\n",
    "            w_q, latent_chm = guide.random_weighted(key, encoder_params, img_chm)\n",
    "            merged = gensp.merge(latent_chm, img_chm)\n",
    "            key = adevjax.grab_key()\n",
    "            w_p = model.estimate_logpdf(key, merged, decoder_params)\n",
    "            return w_p - w_q\n",
    "\n",
    "        # @dippl.loss\n",
    "        # def vae_loss(encoder, decoder):\n",
    "        #    tgt = gensp.target(model, (decoder, ), img_chm)\n",
    "        #    key = adevjax.grab_key()\n",
    "        #    w = dippl.iwae_importance(10, guide, (encoder, v_chm)).estimate_normalizing_constant(key, tgt)\n",
    "        #    return w\n",
    "\n",
    "        loss, (encoder_params_grad, decoder_params_grad,) = adevjax.E(\n",
    "            elbo_loss\n",
    "        ).value_and_grad_estimate(key, (encoder_params, decoder_params))\n",
    "\n",
    "        return (encoder_params_grad, decoder_params_grad), loss\n",
    "\n",
    "    def batch_update(key, svi_state, batch):\n",
    "        encoder_params, decoder_params = optimizer.get_params(svi_state)\n",
    "        sub_keys = jax.random.split(key, len(batch))\n",
    "        (encoder_grads, decoder_grads), loss = jax.vmap(\n",
    "            _inner, in_axes=(0, None, None, 0)\n",
    "        )(sub_keys, encoder_params, decoder_params, batch)\n",
    "        encoder_grads, decoder_grads = jtu.tree_map(\n",
    "            lambda v: -1.0 * jnp.mean(v), (encoder_grads, decoder_grads)\n",
    "        )\n",
    "        svi_state = optimizer.update(\n",
    "            (encoder_grads, decoder_grads),\n",
    "            svi_state,  # just (encoder_params, decoder_params)\n",
    "        )\n",
    "        return svi_state, jnp.mean(loss)\n",
    "\n",
    "    return batch_update\n",
    "\n",
    "\n",
    "@jit\n",
    "def binarize(rng_key, batch):\n",
    "    return random.bernoulli(rng_key, batch).astype(batch.dtype)\n",
    "\n",
    "\n",
    "encoder_nn_init, encoder_nn_apply = encoder(hidden_dim, z_dim)\n",
    "decoder_nn_init, decoder_nn_apply = decoder(hidden_dim, 28 * 28)\n",
    "\n",
    "# Model + guide close over the neural net apply functions.\n",
    "@genjax.gen\n",
    "def decoder_model(decoder_params):\n",
    "    latent = genjax.tfp_mv_normal_diag(jnp.zeros(z_dim), jnp.ones(z_dim)) @ \"latent\"\n",
    "    probs = decoder_nn_apply(decoder_params, latent)\n",
    "    _ = genjax.tfp_bernoulli(probs) @ \"image\"\n",
    "\n",
    "\n",
    "@genjax.gen\n",
    "def encoder_model(encoder_params, chm):\n",
    "    image = chm.get_leaf_value()[\"image\"]\n",
    "    μ, Σ_scale = encoder_nn_apply(encoder_params, image)\n",
    "    _ = dippl.mv_normal_diag_reparam(μ, Σ_scale) @ \"latent\"\n",
    "\n",
    "\n",
    "model = gensp.choice_map_distribution(decoder_model)\n",
    "guide = gensp.choice_map_distribution(encoder_model)\n",
    "\n",
    "adam = optim.Adam(learning_rate)\n",
    "svi_updater = svi_update(model, guide, adam)\n",
    "train_init, train_fetch = load_dataset(MNIST, batch_size=batch_size, split=\"train\")\n",
    "num_train, train_idx = train_init()\n",
    "rng_key = PRNGKey(0)\n",
    "encoder_init_key, decoder_init_key = random.split(rng_key)\n",
    "_, encoder_params = encoder_nn_init(encoder_init_key, (784,))\n",
    "_, decoder_params = decoder_nn_init(decoder_init_key, (z_dim,))\n",
    "num_train, train_idx = train_init()\n",
    "\n",
    "\n",
    "@jit\n",
    "def epoch_train(svi_state, key1, key2, train_idx):\n",
    "    def body_fn(carry, xs):\n",
    "        idx, svi_state, loss = carry\n",
    "        rng_key_binarize = random.fold_in(key1, idx)\n",
    "        batch = binarize(rng_key_binarize, train_fetch(idx, train_idx)[0])\n",
    "        updater_key = random.fold_in(key2, idx)\n",
    "        svi_state, loss = svi_updater(updater_key, svi_state, batch)\n",
    "        idx += 1\n",
    "        return (idx, svi_state, loss), loss\n",
    "\n",
    "    idx = 0\n",
    "    (_, svi_state, _), losses = lax.scan(\n",
    "        body_fn, (idx, svi_state, 0.0), None, length=num_train\n",
    "    )\n",
    "    return svi_state, losses\n",
    "\n",
    "\n",
    "key = random.PRNGKey(314159)\n",
    "key, sub_key = jax.random.split(key)\n",
    "svi_state = adam.init((encoder_params, decoder_params))"
   ]
  },
  {
   "cell_type": "code",
   "execution_count": 2,
   "id": "72a8c77b-0fd9-43ae-b61f-5b66abba1069",
   "metadata": {},
   "outputs": [
    {
     "data": {
      "text/plain": [
       "<matplotlib.image.AxesImage at 0x7fe65d166a40>"
      ]
     },
     "execution_count": 2,
     "metadata": {},
     "output_type": "execute_result"
    },
    {
     "data": {
      "image/png": "[encoded data removed]",
      "text/plain": [
       "<Figure size 640x480 with 1 Axes>"
      ]
     },
     "metadata": {},
     "output_type": "display_data"
    }
   ],
   "source": [
    "_, original_decoder_params = decoder_nn_init(decoder_init_key, (z_dim,))\n",
    "key, sub_key = jax.random.split(key)\n",
    "latent = genjax.tfp_mv_normal_diag.sample(sub_key, jnp.zeros(z_dim), jnp.ones(z_dim))\n",
    "original_out = decoder_nn_apply(original_decoder_params, latent).reshape(28, 28)\n",
    "plt.imshow(original_out)"
   ]
  },
  {
   "cell_type": "code",
   "execution_count": 3,
   "id": "4f7b3598-31f3-4a57-bfd6-359444abf87a",
   "metadata": {},
   "outputs": [
    {
     "name": "stdout",
     "output_type": "stream",
     "text": [
      "-310.0816 -254.85023 -543.4047\n",
      "-301.02094 -251.43846 -340.83936\n",
      "-300.98233 -251.0455 -344.1284\n",
      "-300.9488 -253.41164 -343.88882\n",
      "-300.9627 -251.55702 -340.66336\n",
      "-300.9022 -253.34378 -342.24728\n",
      "-300.89697 -250.00449 -342.09384\n",
      "-300.8692 -250.88121 -342.39343\n",
      "-300.9064 -254.66641 -341.65143\n",
      "-300.8312 -252.28136 -344.8117\n",
      "-300.80283 -251.47952 -344.85773\n",
      "-300.8208 -251.36827 -342.13745\n",
      "-300.83133 -252.36458 -342.52493\n",
      "-300.791 -248.50713 -342.54013\n",
      "-300.76913 -254.39827 -344.0816\n",
      "-300.82306 -252.3576 -341.25317\n",
      "-300.8088 -253.38852 -344.77472\n",
      "-300.76688 -250.70949 -345.16113\n",
      "-300.80887 -252.38373 -341.26898\n",
      "-300.82593 -252.3763 -344.0204\n"
     ]
    },
    {
     "data": {
      "text/plain": [
       "<matplotlib.image.AxesImage at 0x7fe6146ced40>"
      ]
     },
     "execution_count": 3,
     "metadata": {},
     "output_type": "execute_result"
    },
    {
     "data": {
      "image/png": "[encoded data removed]",
      "text/plain": [
       "<Figure size 640x480 with 1 Axes>"
      ]
     },
     "metadata": {},
     "output_type": "display_data"
    }
   ],
   "source": [
    "# Train.\n",
    "for _ in range(0, num_epochs):\n",
    "    key, key1, key2 = jax.random.split(key, 3)\n",
    "    svi_state, loss = epoch_train(svi_state, key1, key2, train_idx)\n",
    "    # print(loss)\n",
    "    print(jnp.mean(loss), jnp.max(loss), jnp.min(loss))\n",
    "\n",
    "_, updated_decoder_params = adam.get_params(svi_state)\n",
    "updated_out = decoder_nn_apply(updated_decoder_params, latent).reshape(28, 28)\n",
    "plt.imshow(updated_out)"
   ]
  },
  {
   "cell_type": "code",
   "execution_count": 4,
   "id": "d5fa9f10-61b2-4393-a111-ef6bf4a74d49",
   "metadata": {},
   "outputs": [
    {
     "name": "stdout",
     "output_type": "stream",
     "text": [
      "-0.3723862\n"
     ]
    },
    {
     "data": {
      "text/plain": [
       "<matplotlib.image.AxesImage at 0x7fe614672a40>"
      ]
     },
     "execution_count": 4,
     "metadata": {},
     "output_type": "execute_result"
    },
    {
     "data": {
      "image/png": "[encoded data removed]",
      "text/plain": [
       "<Figure size 640x480 with 1 Axes>"
      ]
     },
     "metadata": {},
     "output_type": "display_data"
    }
   ],
   "source": [
    "print(jnp.mean(updated_out - original_out))\n",
    "plt.imshow(updated_out - original_out)"
   ]
  },
  {
   "cell_type": "markdown",
   "id": "ff541298-1052-435a-a69b-a07c7074023f",
   "metadata": {},
   "source": [
    "## Numpyro"
   ]
  },
  {
   "cell_type": "code",
   "execution_count": 5,
   "id": "ae0f70db-ab0b-4f0d-bf26-1e5cfea18ff6",
   "metadata": {},
   "outputs": [
    {
     "name": "stdout",
     "output_type": "stream",
     "text": [
      "Epoch 0: loss = 206.91934204101562 (4.35 s.)\n",
      "Epoch 1: loss = 196.79818725585938 (1.02 s.)\n",
      "Epoch 2: loss = 185.83193969726562 (1.03 s.)\n",
      "Epoch 3: loss = 176.07196044921875 (1.04 s.)\n",
      "Epoch 4: loss = 168.4168701171875 (1.03 s.)\n",
      "Epoch 5: loss = 160.6491241455078 (1.02 s.)\n",
      "Epoch 6: loss = 157.64999389648438 (1.03 s.)\n",
      "Epoch 7: loss = 153.6025848388672 (1.02 s.)\n",
      "Epoch 8: loss = 148.94100952148438 (1.03 s.)\n",
      "Epoch 9: loss = 146.85105895996094 (1.02 s.)\n",
      "Epoch 10: loss = 143.2233123779297 (1.03 s.)\n",
      "Epoch 11: loss = 143.20623779296875 (1.02 s.)\n",
      "Epoch 12: loss = 143.14686584472656 (1.02 s.)\n",
      "Epoch 13: loss = 142.47750854492188 (1.02 s.)\n",
      "Epoch 14: loss = 142.02195739746094 (1.02 s.)\n",
      "Epoch 15: loss = 141.4075469970703 (1.02 s.)\n",
      "Epoch 16: loss = 141.5078582763672 (1.02 s.)\n",
      "Epoch 17: loss = 141.3282928466797 (1.03 s.)\n",
      "Epoch 18: loss = 141.4815673828125 (1.02 s.)\n",
      "Epoch 19: loss = 141.30259704589844 (1.02 s.)\n"
     ]
    }
   ],
   "source": [
    "import argparse\n",
    "import inspect\n",
    "import os\n",
    "import time\n",
    "\n",
    "import matplotlib.pyplot as plt\n",
    "\n",
    "from jax import jit, lax, random\n",
    "from jax.example_libraries import stax\n",
    "import jax.numpy as jnp\n",
    "from jax.random import PRNGKey\n",
    "\n",
    "import numpyro\n",
    "from numpyro import optim\n",
    "import numpyro.distributions as dist\n",
    "from numpyro.examples.datasets import MNIST, load_dataset\n",
    "from numpyro.infer import SVI, Trace_ELBO\n",
    "\n",
    "\n",
    "def model(batch, hidden_dim=400, z_dim=100):\n",
    "    batch = jnp.reshape(batch, (batch.shape[0], -1))\n",
    "    batch_dim, out_dim = jnp.shape(batch)\n",
    "    decode = numpyro.module(\"decoder\", decoder(hidden_dim, out_dim), (batch_dim, z_dim))\n",
    "    with numpyro.plate(\"batch\", batch_dim):\n",
    "        z = numpyro.sample(\"z\", dist.Normal(0, 1).expand([z_dim]).to_event(1))\n",
    "        img_loc = decode(z)\n",
    "        return numpyro.sample(\"obs\", dist.Bernoulli(img_loc).to_event(1), obs=batch)\n",
    "\n",
    "\n",
    "def guide(batch, hidden_dim=400, z_dim=100):\n",
    "    batch = jnp.reshape(batch, (batch.shape[0], -1))\n",
    "    batch_dim, out_dim = jnp.shape(batch)\n",
    "    encode = numpyro.module(\"encoder\", encoder(hidden_dim, z_dim), (batch_dim, out_dim))\n",
    "    z_loc, z_std = encode(batch)\n",
    "    with numpyro.plate(\"batch\", batch_dim):\n",
    "        return numpyro.sample(\"z\", dist.Normal(z_loc, z_std).to_event(1))\n",
    "\n",
    "\n",
    "encoder_nn = encoder(hidden_dim, z_dim)\n",
    "decoder_nn = decoder(hidden_dim, 28 * 28)\n",
    "adam = optim.Adam(learning_rate)\n",
    "svi = SVI(model, guide, adam, Trace_ELBO(), hidden_dim=hidden_dim, z_dim=z_dim)\n",
    "rng_key = PRNGKey(0)\n",
    "train_init, train_fetch = load_dataset(MNIST, batch_size=batch_size, split=\"train\")\n",
    "test_init, test_fetch = load_dataset(MNIST, batch_size=batch_size, split=\"test\")\n",
    "num_train, train_idx = train_init()\n",
    "rng_key, rng_key_binarize, rng_key_init = random.split(rng_key, 3)\n",
    "sample_batch = binarize(rng_key_binarize, train_fetch(0, train_idx)[0])\n",
    "svi_state = svi.init(rng_key_init, sample_batch)\n",
    "\n",
    "\n",
    "@jit\n",
    "def epoch_train(svi_state, rng_key, train_idx):\n",
    "    def body_fn(i, val):\n",
    "        loss_sum, svi_state = val\n",
    "        rng_key_binarize = random.fold_in(rng_key, i)\n",
    "        batch = binarize(rng_key_binarize, train_fetch(i, train_idx)[0])\n",
    "        svi_state, loss = svi.update(svi_state, batch)\n",
    "        loss_sum += loss\n",
    "        return loss_sum, svi_state\n",
    "\n",
    "    return lax.fori_loop(0, num_train, body_fn, (0.0, svi_state))\n",
    "\n",
    "\n",
    "@jit\n",
    "def eval_test(svi_state, rng_key, test_idx):\n",
    "    def body_fun(i, loss_sum):\n",
    "        rng_key_binarize = random.fold_in(rng_key, i)\n",
    "        batch = binarize(rng_key_binarize, test_fetch(i, test_idx)[0])\n",
    "        # FIXME: does this lead to a requirement for an rng_key arg in svi_eval?\n",
    "        loss = svi.evaluate(svi_state, batch) / len(batch)\n",
    "        loss_sum += loss\n",
    "        return loss_sum\n",
    "\n",
    "    loss = lax.fori_loop(0, num_test, body_fun, 0.0)\n",
    "    loss = loss / num_test\n",
    "    return loss\n",
    "\n",
    "\n",
    "def reconstruct_img(epoch, rng_key):\n",
    "    img = test_fetch(0, test_idx)[0][0]\n",
    "    plt.imsave(\n",
    "        os.path.join(RESULTS_DIR, \"original_epoch={}.png\".format(epoch)),\n",
    "        img,\n",
    "        cmap=\"gray\",\n",
    "    )\n",
    "    rng_key_binarize, rng_key_sample = random.split(rng_key)\n",
    "    test_sample = binarize(rng_key_binarize, img)\n",
    "    params = svi.get_params(svi_state)\n",
    "    z_mean, z_var = encoder_nn[1](\n",
    "        params[\"encoder$params\"], test_sample.reshape([1, -1])\n",
    "    )\n",
    "    z = dist.Normal(z_mean, z_var).sample(rng_key_sample)\n",
    "    img_loc = decoder_nn[1](params[\"decoder$params\"], z).reshape([28, 28])\n",
    "    plt.imsave(\n",
    "        os.path.join(RESULTS_DIR, \"recons_epoch={}.png\".format(epoch)),\n",
    "        img_loc,\n",
    "        cmap=\"gray\",\n",
    "    )\n",
    "\n",
    "\n",
    "for i in range(num_epochs):\n",
    "    rng_key, rng_key_train, rng_key_test, rng_key_reconstruct = random.split(rng_key, 4)\n",
    "    t_start = time.time()\n",
    "    num_train, train_idx = train_init()\n",
    "    _, svi_state = epoch_train(svi_state, rng_key_train, train_idx)\n",
    "    rng_key, rng_key_test, rng_key_reconstruct = random.split(rng_key, 3)\n",
    "    num_test, test_idx = test_init()\n",
    "    test_loss = eval_test(svi_state, rng_key_test, test_idx)\n",
    "    reconstruct_img(i, rng_key_reconstruct)\n",
    "    print(\"Epoch {}: loss = {} ({:.2f} s.)\".format(i, test_loss, time.time() - t_start))"
   ]
  },
  {
   "cell_type": "code",
   "execution_count": 6,
   "id": "7ab8bceb-6891-4dac-be56-fcca4d1a4de2",
   "metadata": {},
   "outputs": [
    {
     "data": {
      "text/plain": [
       "<matplotlib.image.AxesImage at 0x7fe6145b4760>"
      ]
     },
     "execution_count": 6,
     "metadata": {},
     "output_type": "execute_result"
    },
    {
     "data": {
      "image/png": "[encoded data removed]",
      "text/plain": [
       "<Figure size 640x480 with 1 Axes>"
      ]
     },
     "metadata": {},
     "output_type": "display_data"
    }
   ],
   "source": [
    "key, sub_key = jax.random.split(key)\n",
    "z = dist.Normal(0, 1).expand([z_dim]).sample(sub_key)\n",
    "params = svi.get_params(svi_state)\n",
    "img_loc = decoder_nn[1](params[\"decoder$params\"], z).reshape([28, 28])\n",
    "plt.imshow(img_loc)"
   ]
  }
 ],
 "metadata": {
  "kernelspec": {
   "display_name": "Python 3 (ipykernel)",
   "language": "python",
   "name": "python3"
  },
  "language_info": {
   "codemirror_mode": {
    "name": "ipython",
    "version": 3
   },
   "file_extension": ".py",
   "mimetype": "text/x-python",
   "name": "python",
   "nbconvert_exporter": "python",
   "pygments_lexer": "ipython3",
   "version": "3.10.13"
  }
 },
 "nbformat": 4,
 "nbformat_minor": 5
}
