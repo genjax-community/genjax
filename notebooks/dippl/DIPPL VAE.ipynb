{
 "cells": [
  {
   "cell_type": "code",
   "execution_count": 1,
   "id": "da4f39f5-e06d-40d6-911e-2753bc9daa30",
   "metadata": {
    "tags": []
   },
   "outputs": [
    {
     "name": "stderr",
     "output_type": "stream",
     "text": [
      "WARNING: All log messages before absl::InitializeLog() is called are written to STDERR\n",
      "I0000 00:00:1696109307.511520   21263 tfrt_cpu_pjrt_client.cc:349] TfrtCpuClient created.\n"
     ]
    }
   ],
   "source": [
    "import genjax\n",
    "from genjax import dippl\n",
    "from genjax import gensp\n",
    "from genjax import select, dirac\n",
    "import equinox as eqx\n",
    "import jax\n",
    "import jax.numpy as jnp\n",
    "import adevjax\n",
    "\n",
    "console = genjax.pretty(show_locals=True)\n",
    "key = jax.random.PRNGKey(314159)"
   ]
  },
  {
   "cell_type": "code",
   "execution_count": 2,
   "id": "0d3329b5-c29e-48ec-99e1-b21c0ea214fb",
   "metadata": {
    "tags": []
   },
   "outputs": [],
   "source": [
    "class Linear(eqx.Module):\n",
    "    weight: jax.Array\n",
    "    bias: jax.Array\n",
    "\n",
    "    def __init__(self, in_size, out_size, key):\n",
    "        wkey, bkey = jax.random.split(key)\n",
    "        self.weight = jax.random.normal(wkey, (out_size, in_size))\n",
    "        self.bias = jax.random.normal(bkey, (out_size,))\n",
    "\n",
    "    def __call__(self, x):\n",
    "        return self.weight @ x + self.bias"
   ]
  },
  {
   "cell_type": "code",
   "execution_count": 3,
   "id": "a842d6b6-399e-44f5-8e21-74aa323749c2",
   "metadata": {
    "tags": []
   },
   "outputs": [],
   "source": [
    "in_size, out_size = 1, 5\n",
    "decoder = Linear(in_size, out_size, key=jax.random.PRNGKey(0))\n",
    "\n",
    "in_size, out_size = 5, 1\n",
    "encoder = Linear(in_size, out_size, key=jax.random.PRNGKey(1))"
   ]
  },
  {
   "cell_type": "code",
   "execution_count": 4,
   "id": "ea2f6d0f-997b-41de-85eb-0bfde6e83b3b",
   "metadata": {
    "tags": []
   },
   "outputs": [
    {
     "data": {
      "text/html": [
       "<pre style=\"white-space:pre;overflow-x:auto;line-height:normal;font-family:Menlo,'DejaVu Sans Mono',consolas,'Courier New',monospace\"></pre>\n"
      ],
      "text/plain": []
     },
     "metadata": {},
     "output_type": "display_data"
    },
    {
     "data": {
      "text/plain": [
       "\n",
       "\n",
       "\n",
       "├── \u001b[1m:v\u001b[0m\n",
       "│   └──  f32[5]\n",
       "└── \u001b[1m:x\u001b[0m\n",
       "    └──  f32[]"
      ]
     },
     "execution_count": 4,
     "metadata": {},
     "output_type": "execute_result"
    }
   ],
   "source": [
    "@genjax.gen\n",
    "def decoder_model(decoder):\n",
    "    x = dippl.normal_reinforce(0.0, 1.0) @ \"x\"\n",
    "    v = decoder(jnp.array([x]))\n",
    "    v = dirac(v) @ \"v\"\n",
    "\n",
    "\n",
    "decoder_model = gensp.choice_map_distribution(decoder_model, select(\"x\", \"v\"), None)\n",
    "(w, decoder_v) = decoder_model.random_weighted(key, decoder)\n",
    "decoder_v"
   ]
  },
  {
   "cell_type": "code",
   "execution_count": 5,
   "id": "1cfe7d86-b450-4bed-b767-fa07d59c9cdf",
   "metadata": {
    "tags": []
   },
   "outputs": [
    {
     "data": {
      "text/html": [
       "<pre style=\"white-space:pre;overflow-x:auto;line-height:normal;font-family:Menlo,'DejaVu Sans Mono',consolas,'Courier New',monospace\"></pre>\n"
      ],
      "text/plain": []
     },
     "metadata": {},
     "output_type": "display_data"
    },
    {
     "data": {
      "text/plain": [
       "\n",
       "\n",
       "\n",
       "└── \u001b[1m:x\u001b[0m\n",
       "    └──  f32[]"
      ]
     },
     "execution_count": 5,
     "metadata": {},
     "output_type": "execute_result"
    }
   ],
   "source": [
    "@genjax.gen\n",
    "def encoder_model(encoder, chm):\n",
    "    v = chm.get_leaf_value()[\"v\"]\n",
    "    latent = encoder(v)[0]\n",
    "    x = dippl.normal_reinforce(latent, 1.0) @ \"x\"\n",
    "\n",
    "\n",
    "encoder_model = gensp.choice_map_distribution(encoder_model, select(\"x\"), None)\n",
    "(w, encoder_v) = encoder_model.random_weighted(key, encoder, decoder_v)\n",
    "encoder_v"
   ]
  },
  {
   "cell_type": "code",
   "execution_count": 8,
   "id": "b408a319-71c0-4a19-baf8-b4e5be81b0c0",
   "metadata": {
    "tags": []
   },
   "outputs": [],
   "source": [
    "def variational_grad(\n",
    "    key, data: genjax.ValueChoiceMap, encoder: Linear, decoder: Linear\n",
    "):\n",
    "    @dippl.loss\n",
    "    def vae_loss(encoder, decoder):\n",
    "        v = dippl.upper(encoder_model)(encoder, data)\n",
    "        merged = gensp.merge(v, data)\n",
    "        dippl.lower(decoder_model)(merged, decoder)\n",
    "\n",
    "    return vae_loss.grad_estimate(key, (encoder, decoder))"
   ]
  }
 ],
 "metadata": {
  "kernelspec": {
   "display_name": "Python 3 (ipykernel)",
   "language": "python",
   "name": "python3"
  },
  "language_info": {
   "codemirror_mode": {
    "name": "ipython",
    "version": 3
   },
   "file_extension": ".py",
   "mimetype": "text/x-python",
   "name": "python",
   "nbconvert_exporter": "python",
   "pygments_lexer": "ipython3",
   "version": "3.11.4"
  }
 },
 "nbformat": 4,
 "nbformat_minor": 5
}
