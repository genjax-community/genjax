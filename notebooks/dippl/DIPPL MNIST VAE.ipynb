{
 "cells": [
  {
   "cell_type": "code",
   "execution_count": 1,
   "id": "22026280-7bc1-4e8b-93ca-c7a819271c4f",
   "metadata": {
    "tags": []
   },
   "outputs": [],
   "source": [
    "%config InlineBackend.figure_format = 'svg'"
   ]
  },
  {
   "cell_type": "code",
   "execution_count": 2,
   "id": "da4f39f5-e06d-40d6-911e-2753bc9daa30",
   "metadata": {
    "tags": []
   },
   "outputs": [
    {
     "name": "stderr",
     "output_type": "stream",
     "text": [
      "WARNING: All log messages before absl::InitializeLog() is called are written to STDERR\n",
      "I0000 00:00:1696197534.470013   61463 tfrt_cpu_pjrt_client.cc:349] TfrtCpuClient created.\n"
     ]
    }
   ],
   "source": [
    "import genjax\n",
    "from dataclasses import dataclass\n",
    "from genjax import dippl\n",
    "from genjax import gensp\n",
    "from genjax import select, dirac\n",
    "import equinox as eqx\n",
    "import jax\n",
    "import jax.numpy as jnp\n",
    "import adevjax\n",
    "from datasets import *\n",
    "import seaborn as sns\n",
    "import matplotlib.pyplot as plt\n",
    "import itertools\n",
    "\n",
    "console = genjax.pretty(show_locals=False)\n",
    "key = jax.random.PRNGKey(314159)\n",
    "train_images, train_labels, test_images, test_labels = mnist()\n",
    "\n",
    "# Plotting.\n",
    "sns.set_theme(style=\"white\")"
   ]
  },
  {
   "cell_type": "markdown",
   "id": "c60ebca8-6572-46f3-8bb9-ccf028098347",
   "metadata": {},
   "source": [
    "## Visualize some of the data examples"
   ]
  },
  {
   "cell_type": "code",
   "execution_count": 3,
   "id": "3eba6282-b772-497f-9a92-b17315ace612",
   "metadata": {
    "tags": []
   },
   "outputs": [
    {
     "data": {
      "text/html": [
       "<pre style=\"white-space:pre;overflow-x:auto;line-height:normal;font-family:Menlo,'DejaVu Sans Mono',consolas,'Courier New',monospace\"></pre>\n"
      ],
      "text/plain": []
     },
     "metadata": {},
     "output_type": "display_data"
    },
    {
     "data": {
      "image/svg+xml": [
       "<?xml version=\"1.0\" encoding=\"utf-8\" standalone=\"no\"?>\n",
       "<!DOCTYPE svg PUBLIC \"-//W3C//DTD SVG 1.1//EN\"\n",
       "  \"http://www.w3.org/Graphics/SVG/1.1/DTD/svg11.dtd\">\n",
       "<svg xmlns:xlink=\"http://www.w3.org/1999/xlink\" width=\"459.952941pt\" height=\"457.92pt\" viewBox=\"0 0 459.952941 457.92\" xmlns=\"http://www.w3.org/2000/svg\" version=\"1.1\">\n",
       " <metadata>\n",
       "  <rdf:RDF xmlns:dc=\"http://purl.org/dc/elements/1.1/\" xmlns:cc=\"http://creativecommons.org/ns#\" xmlns:rdf=\"http://www.w3.org/1999/02/22-rdf-syntax-ns#\">\n",
       "   <cc:Work>\n",
       "    <dc:type rdf:resource=\"http://purl.org/dc/dcmitype/StillImage\"/>\n",
       "    <dc:date>2023-10-01T17:58:55.345958</dc:date>\n",
       "    <dc:format>image/svg+xml</dc:format>\n",
       "    <dc:creator>\n",
       "     <cc:Agent>\n",
       "      <dc:title>Matplotlib v3.8.0, https://matplotlib.org/</dc:title>\n",
       "     </cc:Agent>\n",
       "    </dc:creator>\n",
       "   </cc:Work>\n",
       "  </rdf:RDF>\n",
       " </metadata>\n",
       " <defs>\n",
       "  <style type=\"text/css\">*{stroke-linejoin: round; stroke-linecap: butt}</style>\n",
       " </defs>\n",
       " <g id=\"figure_1\">\n",
       "  <g id=\"patch_1\">\n",
       "   <path d=\"M 0 457.92 \n",
       "L 459.952941 457.92 \n",
       "L 459.952941 0 \n",
       "L 0 0 \n",
       "z\n",
       "\" style=\"fill: #ffffff\"/>\n",
       "  </g>\n",
       "  <g id=\"axes_1\">\n",
       "   <g clip-path=\"url(#pe8a62b5599)\">\n",
       "    <image xlink:href=\"data:image/png;base64,\n",
       "iVBORw0KGgoAAAANSUhEUgAAALYAAAC2CAYAAAB08HcEAAAFn0lEQVR4nO3dzSulbxzH8Xt+ZIFBZjFKaWJBRlLjoSSSokR5XFjM1kqsbJSaDSmxOI2FLJT/gGxIYRZKNB4WSs1qUpaUp8jD7x/4fnEfxxnn4/1afq+uue/y7lpcnXPmQxAEDwEg5r9//QLAayBsSCJsSCJsSCJsSCJsSCJsSCJsSCJsSCJsSCJsSCJsSCJsSCJsSCJsSCJsSCJsSCJsSCJsSEqO14PGxsbM+eDgYEyfc3BwYM4XFxfdPbe3t+Z8YmLC3XN6ehrqvRBfnNiQRNiQRNiQRNiQRNiQ9CGI0y9BVVVVmfPHbkUqKyvNeW5ubkze6SmXl5fuWiQSMeejo6PunouLixe/E56HExuSCBuSCBuSCBuSCBuSCBuS4nbdF43s7GxzPj097e4pKysz5/n5+bF4pSdtbGy4a96HqpaWltw9V1dXL36n94gTG5IIG5IIG5IIG5IIG5Le9K1IND5//mzOi4uL3T0/f/4050VFRTF5p6dsbm66a+Pj4+Z8fn7e3XN/f//id0p0nNiQRNiQRNiQRNiQRNiQRNiQJHfdF42cnBxz3tPT4+7p6+sz51++fInFKz1pe3vbXRsZGTHnCwsLr/U6bw4nNiQRNiQRNiQRNiQRNiRxKxKlwsJCc+7dlgRBEHR0dJhz71YmWnd3d+Z8ZWXF3dPc3BzTd/jXOLEhibAhibAhibAhibAhibAhieu+OCotLTXnXV1d7p6Kigpz3tjYGPr5+/v77tq3b9/MeaJ+f5ITG5IIG5IIG5IIG5IIG5K4FUlQ19fX7lpycrI5v729dfc0NTWZ87W1tVDv9VZwYkMSYUMSYUMSYUMSYUMSYUOSfS+EuMrKynLXWltbzXlSUlLo5/z69ctdS9RrPQ8nNiQRNiQRNiQRNiQRNiRxKxJHJSUl5nxyctLd09DQEPo509PT5tz73WxFnNiQRNiQRNiQRNiQRNiQRNiQxHVfjLW3t7trs7Oz5vzjx4+hnzM0NOSuzc3NmfPj4+PQz0lUnNiQRNiQRNiQRNiQRNiQxC9BRamgoMCc//79291zenpqzldXV90929vb5nxqasrd8/DAn5QTG5IIG5IIG5IIG5IIG5IIG5L4ENQj0tLS3LWZmRlznp6e7u7p7u4258vLy+FeDE/ixIYkwoYkwoYkwoYkwoYkbkUe8ePHD3etrq7OnK+vr7t7VlZWXvpKeCZObEgibEgibEgibEgibEgibEh6N9d9GRkZ7trZ2Zk5z8zMDP0c78NRQRAE9/f3of89RIcTG5IIG5IIG5IIG5IIG5Lkfgmqra3NnLe0tLh7dnZ2zHkkEgn9/N3dXXettrbWnF9cXLh7vn79as4HBgbcPb29ve7ae8GJDUmEDUmEDUmEDUmEDUmEDUkJed2XnZ3trm1ubprz/Pz813qdZ/PezftB+CAIgvr6enN+c3Pj7onmw1tqOLEhibAhibAhibAhibAhKSG/GpaXl+euffr0KY5vEk5VVVXM/q3kZP9P9/37d3N+fn4e+jnHx8fu2snJiTk/PDwM/ZxY48SGJMKGJMKGJMKGJMKGJMKGpIT8ENRjvKvAlJQUd091dbU5r6mpcfdkZWWZ887OTv/l4uTo6Micb21tuXva29vN+WPfx9zb2zPnw8PD7p61tTV3LZY4sSGJsCGJsCGJsCGJsCEpIT8E9Zi/f/+G3vPnzx9zPjc35+5JSkoy57H+WlZfX585T01NdfcUFhaa8/7+fneP91Wznp4ed095ebk59/6rwCDgVgR4EcKGJMKGJMKGJMKGJMKGJLkPQQFBwIkNUYQNSYQNSYQNSYQNSYQNSYQNSYQNSYQNSYQNSYQNSYQNSYQNSYQNSYQNSYQNSYQNSYQNSYQNSYQNSYQNSYQNSYQNSYQNSYQNSYQNSYQNSYQNSYQNSYQNSYQNSf8DNGzpm+GtAZ8AAAAASUVORK5CYII=\" id=\"image451570c5dc\" transform=\"scale(1 -1) translate(0 -131.04)\" x=\"7.2\" y=\"-6.607059\" width=\"131.04\" height=\"131.04\"/>\n",
       "   </g>\n",
       "  </g>\n",
       "  <g id=\"axes_2\">\n",
       "   <g clip-path=\"url(#p932adbc0db)\">\n",
       "    <image xlink:href=\"data:image/png;base64,\n",
       "iVBORw0KGgoAAAANSUhEUgAAALYAAAC2CAYAAAB08HcEAAAFJklEQVR4nO3dzyv8WxzH8TMXkTKJEutBERlJsbBRFsqGSNhjoQkNG7Kw83tWtlay8g/Y+AMUsxCjNCiyEwul2bire+vWOZMz3zHzmdd9PpbvT+fzOeXZWXyaGSFjzLcBxPxV7A0Av4GwIYmwIYmwIYmwIYmwIYmwIYmwIYmwIYmwIYmwIYmwIYmwIYmwIYmwIYmwIYmwIYmwIYmwIYmwIYmwIYmwIYmwIYmwIYmwIam82BvIt8rKSus8Fot536u7u9t5bWpqyvt+Hx8f1vng4KBzzeXlpfdzwIkNUYQNSYQNSYQNSYQNSYQNSSFTgj/8vre357x2f39vnR8eHv7Wdv7Y29ub81p9fX0Bd6KDExuSCBuSCBuSCBuSCBuSAv1WpK+vzzrf3993runv7/d+zuPjo3V+c3PjXDMwMGCd19TUeD//+9v9J0ilUtZ5b2+vc83n56f3HtRwYkMSYUMSYUMSYUMSYUMSYUNSoF/3HR8fW+fT09PONXd3d9b53Nycc83Ly4t17vpAlTHG9PT0WOetra3ONaurq9Z5NBp1rnHJ9kGw9fV16/zr68v7OaWKExuSCBuSCBuSCBuSCBuSAv1WxPW1qKOjI+eak5MTr3khNTU1WeeuDzoZY0w4HPZ+TiQSsc7T6bT3vUoVJzYkETYkETYkETYkETYkETYkBfp13//Fzs6O81o8Hve+38rKinW+u7vrfa9SxYkNSYQNSYQNSYQNSYQNSbwVCQDXv/AzJrevc7k+VDU0NORc8/z87P2cIOPEhiTChiTChiTChiTChiTChqTyYm8AxmQyGee1zc1N63xjY8O5pqKiwjovKyvz21gJ48SGJMKGJMKGJMKGJMKGJN6K5Gh4eNg6r62t9b5Xebn7z7C4uOh9v2QyaZ0/PT1536tUcWJDEmFDEmFDEmFDEmFDEmFDEq/7sojFYs5rW1tb1nlVVdVvbQceOLEhibAhibAhibAhibAhibcixpjR0VHrfHt727km2683Fdvr62uxt1B0nNiQRNiQRNiQRNiQRNiQRNiQxOs+Y8zt7a11/vDw4FzT3NxsnWf7/mKhHBwcFHsLRceJDUmEDUmEDUmEDUmEDUn8O7wczczMWOddXV3ONfF43DoPhUJ52dM/lpaWrPNEIpHX5wQZJzYkETYkETYkETYkETYkETYk8bovzxobG53Xzs7OrPPOzs687uH09NQ6Hx8fz+tzgowTG5IIG5IIG5IIG5IIG5J4K5Ij1xuGtbU155poNPpLu/mvtrY26zyVShXk+UHAiQ1JhA1JhA1JhA1JhA1JhA1JvO7LUTKZtM6zfefx+vraOu/o6MjHlv4ViUSs83Q6ndfnBBknNiQRNiQRNiQRNiQRNiQV/8ecA2x+ft55raWlxft+4XD4T7bzYwsLC9b58vJyQZ4fBJzYkETYkETYkETYkETYkETYkMSHoIwxdXV11rnr3+QZY0xDQ8NvbedH3t/fndcmJyetc9cvUSnixIYkwoYkwoYkwoYkwoYkPgRljJmYmLDOq6urC7yTnxsbG3NeOz8/L+BOgokTG5IIG5IIG5IIG5IIG5IIG5L4EFQW7e3tzmsjIyPW+ezsrHPNxcWFdX51deW3MWNMIpFwXstkMt73U8OJDUmEDUmEDUmEDUmEDUm8FYEkTmxIImxIImxIImxIImxIImxIImxIImxIImxIImxIImxIImxIImxIImxIImxIImxIImxIImxIImxIImxIImxIImxIImxIImxIImxI+hs+KLk7Tqf5yQAAAABJRU5ErkJggg==\" id=\"imageabb2f8b716\" transform=\"scale(1 -1) translate(0 -131.04)\" x=\"164.752941\" y=\"-6.607059\" width=\"131.04\" height=\"131.04\"/>\n",
       "   </g>\n",
       "  </g>\n",
       "  <g id=\"axes_3\">\n",
       "   <g clip-path=\"url(#pea907eec88)\">\n",
       "    <image xlink:href=\"data:image/png;base64,\n",
       "iVBORw0KGgoAAAANSUhEUgAAALYAAAC2CAYAAAB08HcEAAAFN0lEQVR4nO3czyt8XxzH8Tt8svpkIrGwmSYpO4uJ/Nj5E2QxKVG2WMhOYUWKlAZbWVB+RJkFOymk2VE2kkh+lKYRC7Pg+w+cM32vz3Hnenk+lu/TnXvSs7M4jYl4nvfpAWJKir0B4DsQNiQRNiQRNiQRNiQRNiQRNiQRNiQRNiQRNiQRNiQRNiQRNiQRNiQRNiQRNiQRNiQRNiQRNiQRNiQRNiQRNiQRNiQRNiQRNiT9KfYGEJxkMmldGxkZMc7T6bT1mampKeP87e3N38a+ASc2JBE2JBE2JBE2JBE2JBE2JEU8fvhdTiKRMM53d3etz1RVVfl+T0dHh3F+cHDg+7Nc48SGJMKGJMKGJMKGJMKGJG5Ffqjm5mbr2tbWlnFeU1PjdA/RaNQ450tQwDchbEgibEgibEgibEgibEjifx5DLhaLGecbGxvWZ1xe6y0vL1vX3t/fnb3HNU5sSCJsSCJsSCJsSCJsSOJLUCHX2NhonGcymUDeX1tba117fHwMZA9fwYkNSYQNSYQNSYQNSYQNSYQNSaH+ElR5eblxPjc3Z30mHo8b5xcXF9ZnUqmUcX5+fm7fnJi7uzvjPJ/PB7wTNzixIYmwIYmwIYmwIYmwISnUtyK2G46enh7fn9Xe3m5d6+zsNM5vbm6sz8zMzBjnq6ur/jYWEvv7+8Z5NpsNeCducGJDEmFDEmFDEmFDEmFDEmFDUqiv+4JSWVnpa+55nreysmKcj4+PW5/5/DT/e2k6nbY+k8vlrGuw48SGJMKGJMKGJMKGJMKGJG5FHKurq7Ou2W5FhoaGvms7vxYnNiQRNiQRNiQRNiQRNiQRNiSF+rpveHjYOI9EIgHv5P8rKbGfFR8fHwHuxJ+Tk5Nib8EpTmxIImxIImxIImxIImxIKvqtSH9/v3UtmUwa57YvExUyMDBgXVtcXDTOW1tbrc/Y1v7+/Wt9ZnR01LoWhEK/Eb69vR3cRgLAiQ1JhA1JhA1JhA1JhA1JhA1JRb/ua2lpCeQ9x8fHvp85OjryvVZWVmZ95vn52fceurq6jPNCV5E2DQ0N1rWKigrj/Ct7DgNObEgibEgibEgibEgibEgK7FYkGo0a521tbU7fc3Z2Zpzf3t46fY9NPp+3rs3Pz/v+vMPDQ+M8k8n4/qzfhBMbkggbkggbkggbkggbkggbkpxe95WWllrXBgcHjfNCP5T+FalUyjj/qV/meXp6Ms6vrq6sz8Tj8e/azo/BiQ1JhA1JhA1JhA1JhA1JTm9Fent7rWtjY2PO3rO3t2dd29zcdPaeMKiurjbOXd982P4FbXJy0ul7gsKJDUmEDUmEDUmEDUmEDUmEDUlOr/tisZjLj/NeXl6M80JXh9ls1ukeiu3y8tI4Pz09tT7T1NT0Xdv5MTixIYmwIYmwIYmwIYmwIanov4/9+vpqXevr6zPOf9OvINn+PrOzs9Zn1tbWfL9nfX3d9zNhxokNSYQNSYQNSYQNSYQNSYQNSUW/7puYmLCu7ezsBLiTn+Xh4aHYWwg1TmxIImxIImxIImxIImxIcnorMj09bV1bWFgwznO5nMst/BqJRML3M4VuoK6vr/9hN+HDiQ1JhA1JhA1JhA1JhA1JhA1JEc/zPou9CfhXX19vXVtaWjLOu7u7rc/c39//857ChBMbkggbkggbkggbkggbkrgVgSRObEgibEgibEgibEgibEgibEgibEgibEgibEgibEgibEgibEgibEgibEgibEgibEgibEgibEgibEgibEgibEgibEgibEgibEgibEj6Dzd71i1jL+RjAAAAAElFTkSuQmCC\" id=\"image7db81c1a83\" transform=\"scale(1 -1) translate(0 -131.04)\" x=\"322.305882\" y=\"-6.607059\" width=\"131.04\" height=\"131.04\"/>\n",
       "   </g>\n",
       "  </g>\n",
       "  <g id=\"axes_4\">\n",
       "   <g clip-path=\"url(#p887c01bb4e)\">\n",
       "    <image xlink:href=\"data:image/png;base64,\n",
       "iVBORw0KGgoAAAANSUhEUgAAALYAAAC2CAYAAAB08HcEAAAFBUlEQVR4nO3dzyu0XRzH8XM/bkNYyZ2FZFaUGsnCwpiFYic2LMiPhWQh/wUiFmbJxmxshshaSZSkLJGykJUQC6WU4Vk83bvzlctcM8Pneb+W39OZOerdWVxNl1/OuXcHiPmn0AcAcoGwIYmwIYmwIYmwIYmwIYmwIYmwIYmwIYmwIYmwIYmwIYmwIYmwIYmwIYmwIYmwIYmwIYmwIYmwIYmwIYmwIYmwIYmwIYmwIYmwIYmwIYmwIYmwIYmwIYmwIYmwIel3oQ/wfxKJRLzziooKc8/ExIR3XlVVFcqZ/jo+PvbO0+m0uef9/fv+zwBubEgibEgibEgibEgibEjiqUjISkpKzLVkMumdj4+P5+o4Wevo6DDXJicnvfNMJpOr43waNzYkETYkETYkETYkETYkETYk/XLOfd9fsvxAS0tL5trU1FTgz3t+fvbO7+/vA39WTU2NuVZUVBT488bGxrzzVCoV+LPCxo0NSYQNSYQNSYQNSYQNSTwVCdne3p65lkgkvPOdnR1zz+zsrHe+v78f6FzOOdff32+u9fT0eOeDg4OBv+crT1jCxo0NSYQNSYQNSYQNSYQNSYQNSTzuC9nGxoa5Fo1GvfOuri5zz+PjY7ZH+pS2tjbvfHd319xTXFzsnfO4D8gRwoYkwoYkwoYkwoYk3gQVssXFRXNtYWHBO29oaDD3HB0dZX2mz2htbfXOrScfzjl3c3OTq+NkjRsbkggbkggbkggbkggbkggbkvgRVB7F43HvfGZmxtwzMjLinV9fXwf+/paWFnNteXk58J5YLOadn52dBTtYDnBjQxJhQxJhQxJhQxJhQxJPRZxzjY2N3nllZWVevr+6utpcGx4e9s5XV1fNPXV1dd75/Py8uScSiXjnh4eH5h7rX+W9vr6ae/KFGxuSCBuSCBuSCBuSCBuSCBuSeNznnNvc3PTOe3t783ySwrHeYPXRi98zmUyujpM1bmxIImxIImxIImxIImxI4k1QzrnLy8tCH8F0cHDgnT89PQX+rJOTE3MtlUp559/5ycdHuLEhibAhibAhibAhibAhibAhiR9BOefKysq8887OTnPPysqKd/7nz59QzvRXU1OTd356ehrq96jhxoYkwoYkwoYkwoYkwoYknop8UTQa9c7X19fNPR+9a9qyvb3tnY+Ojpp7vvIDKTXc2JBE2JBE2JBE2JBE2JBE2JAU6uO+i4sLc+3l5cU7n56eNvek0+msz5RvtbW15pr1tw4NDQX+nr6+PnNta2sr8Oep4caGJMKGJMKGJMKGJMKGpFDfBFVfX2+uvb29eedra2vmnrm5ucBnsN6cdHd3Z+45Pz8P/D1f8fDwENpnWT/Cwn+4sSGJsCGJsCGJsCGJsCGJsCEp1B9BDQwMmGvt7e3eeTweN/fEYrGsz/TTWS+lTyQS5p7b29tcHefH4MaGJMKGJMKGJMKGJMKGpIK/Caq8vNxcKy0t9c67u7vNPc3Nzdke6VtJJpPe+dXVVX4P8sNwY0MSYUMSYUMSYUMSYUMSYUNSwR/3AbnAjQ1JhA1JhA1JhA1JhA1JhA1JhA1JhA1JhA1JhA1JhA1JhA1JhA1JhA1JhA1JhA1JhA1JhA1JhA1JhA1JhA1JhA1JhA1JhA1JhA1JhA1JhA1JhA1JhA1JhA1JhA1JhA1JhA1JhA1JhA1JhA1JhA1JhA1JhA1JhA1JhA1JhA1JhA1JhA1J/wKZI7hq8ctBpAAAAABJRU5ErkJggg==\" id=\"image56e58a0b8a\" transform=\"scale(1 -1) translate(0 -131.04)\" x=\"7.2\" y=\"-163.143529\" width=\"131.04\" height=\"131.04\"/>\n",
       "   </g>\n",
       "  </g>\n",
       "  <g id=\"axes_5\">\n",
       "   <g clip-path=\"url(#pd5b4306829)\">\n",
       "    <image xlink:href=\"data:image/png;base64,\n",
       "iVBORw0KGgoAAAANSUhEUgAAALYAAAC2CAYAAAB08HcEAAADfklEQVR4nO3cMUpcXRiA4RsJogSmsBTBRQhapHAZqWzSpBCxchuG7MDKVQhWabKFVJE02ggpjCZF/vJv7g3MMNHk9XnKczl3TvHyFYeZeTEMw68BYlae+gDwJwibJGGTJGyShE2SsEkSNknCJknYJAmbJGGTJGyShE2SsEkSNknCJknYJAmbJGGT9PKpD/CvevPmzej6+fn55J7T09PR9ZOTk6Wcif+Z2CQJmyRhkyRskoRNkluRBe3t7c29Z39/f3R9bW1tcs/9/f3cn4OJTZSwSRI2ScImSdgkCZsk132PaGdnZ671YRiGjx8//qnjpJnYJAmbJGGTJGyShE2SsEkSNknCJknYJAmbJGGTJGySfAlqQWdnZ6Prx8fHj3sQRpnYJAmbJGGTJGyShE2SW5EF3dzcLO1d7969m3zmp2GLMbFJEjZJwiZJ2CQJmyRhk+S67y8wm82e+gg5JjZJwiZJ2CQJmyRhkyRskoRNkrBJEjZJwiZJ2CQJmyRhkyRskoRNkrBJEjZJwiZJ2CQJmyRhkyRskoRNkrBJEjZJ/glqQQ8PD6PrX79+ndyztbU1uv769evJPdvb26PrX758+c3pMLFJEjZJwiZJ2CQJmyS3Igu6vb0dXb+8vJzcc3BwMLq+sbExuWd9fX2+gzEMg4lNlLBJEjZJwiZJ2CQJmyTXfX+5w8PD0fWjo6NHPsm/xcQmSdgkCZskYZMkbJLciizZz58/l/q+V69eLfV9z4WJTZKwSRI2ScImSdgkCZsk131L9v79+8lnb9++fcSTPG8mNknCJknYJAmbJGGTJGyShE2SsEkSNknCJknYJAmbJF+CWrKrq6vJZ58+fRpd393dnft9q6urk3t+/Pgx+ey5MLFJEjZJwiZJ2CQJm6QXwzD8eupDlMxms8lnFxcXo+s7Oztzf87m5ubks+vr67nfV2NikyRskoRNkrBJEjZJwibJl6CW7P7+fvLZt2/f5n7f58+fR9e/f/8+97ueExObJGGTJGyShE2SsElyK7Jkv/tZ1t3d3ej6ysr0fPnw4cPo+iI3LM+JiU2SsEkSNknCJknYJAmbJL95JMnEJknYJAmbJGGTJGyShE2SsEkSNknCJknYJAmbJGGTJGyShE2SsEkSNknCJknYJAmbJGGTJGyShE2SsEkSNknCJknYJAmbJGGTJGyShE2SsEn6D5eDW1mwa4vwAAAAAElFTkSuQmCC\" id=\"image6e2dac855e\" transform=\"scale(1 -1) translate(0 -131.04)\" x=\"164.752941\" y=\"-163.143529\" width=\"131.04\" height=\"131.04\"/>\n",
       "   </g>\n",
       "  </g>\n",
       "  <g id=\"axes_6\">\n",
       "   <g clip-path=\"url(#pcf60aa7a2d)\">\n",
       "    <image xlink:href=\"data:image/png;base64,\n",
       "iVBORw0KGgoAAAANSUhEUgAAALYAAAC2CAYAAAB08HcEAAAFNElEQVR4nO3dvyv1fxjH8Y8vSjmJMjCgGBhOoZTlFBGdP4ByFguDSRkMLAYGZVTSmWQ4yaAMkoFJWeRHpyRJshEGSn4cfP+B6zp13IfjvDwf4/Xpuu/P3f3sPbw7joIgCD4DQMx/uX4B4DsQNiQRNiQRNiQRNiQRNiQRNiQRNiQRNiQRNiQRNiQRNiQRNiQRNiQRNiQRNiQRNiQRNiQRNiQRNiQRNiQRNiQRNiQRNiQRNiQV5foFfkpTU5P7LBaLmfPR0VF35+npyZwfHBy4OysrK+Z8Y2PD3Xl8fDTn7+/v7g44sSGKsCGJsCGJsCGJsCGJsCGpIBD74vdwOGzOE4lExjvZVlBQYM4/P/3/gu3tbXM+Pj7u7hwdHWX0Xoo4sSGJsCGJsCGJsCGJsCEpL29FQqGQ++zk5MSc19TUuDuXl5fmfGJiwt25vb0155FIxN3x3qG/v9/d8f6tx8fH7k40GjXn19fX7o4aTmxIImxIImxIImxIImxIImxIysvrvs7OTvfZzs6OOd/c3HR3xsbGzPnZ2VlG7/VV9fX17rN4PG7Ou7q63J1kMmnOu7u73R3v+jJfcWJDEmFDEmFDEmFDEmFDUl7eihQV+V9gNTs7a87TfaDp7e3tn9/puxQWFprz+fl5d2dkZMScT09PuztTU1OZvdgvx4kNSYQNSYQNSYQNSYQNSYQNSXl53Yf0bm5uzHlxcbG7U1FR8V2vkxOc2JBE2JBE2JBE2JBE2JDErYig4eFhcz43N+fucCsC5AHChiTChiTChiTChiTChiT/hweRt7xvdUr3s6KVlZUZ/Vm/HSc2JBE2JBE2JBE2JBE2JHEr8oekUin3Wb7efng4sSGJsCGJsCGJsCGJsCGJsCGJ6z5BQ0NDuX6FnOPEhiTChiTChiTChiTChiRuRYIgaGtrM+eTk5PuTjKZNOcXFxfuzvr6emYvlkYsFnOf9fb2mvOZmZms/f2/HSc2JBE2JBE2JBE2JBE2JBE2JPHF70EQdHR0mPOlpSV3p66u7pve5t95V5HNzc0//Ca5w4kNSYQNSYQNSYQNSYQNSdyKpFFVVeU+GxwcNOcDAwPuTktLizl/fX11dxYWFsx5ug9bJRIJc35/f+/uqOHEhiTChiTChiTChiTChiTChiSu+7LM+7VyQRAEq6ur5jwSibg7XV1d5nx3dzezF/tjOLEhibAhibAhibAhibAhiVuRH1RaWmrO9/f33Z2KigpzHg6H3R21X233FZzYkETYkETYkETYkETYkETYkMR13y/Q3t7uPvM+7LS2tubueD93+fn5d/6rObEhibAhibAhibAhibAhSe5WpLa21pxfXV398Jtkx+HhoTlvbGx0d7xvsHp4eMjKO+UDTmxIImxIImxIImxIImxIImxIKsr1C2RbPB435x8fH+7O+fm5Ob+7u3N39vb2zPnp6am7U1ZWZs6fn5/dnZKSEnO+tbXl7vylaz0PJzYkETYkETYkETYkETYkyX0IqqGhwZxPT0+7O9Fo1JyXl5e7O95NRiqVcne8b4J6eXlxd7xbkZ6eHndne3vbffZXcGJDEmFDEmFDEmFDEmFDEmFDktx131eEQiFznu7L1fv6+sx5ug8gtba2mvPq6mp3Z3Fx0ZwvLy+7O+k+8PVXcGJDEmFDEmFDEmFDEmFDErcikMSJDUmEDUmEDUmEDUmEDUmEDUmEDUmEDUmEDUmEDUmEDUmEDUmEDUmEDUmEDUmEDUmEDUmEDUmEDUmEDUmEDUmEDUmEDUmEDUmEDUn/A+V/485twvwDAAAAAElFTkSuQmCC\" id=\"imagefa163c057f\" transform=\"scale(1 -1) translate(0 -131.04)\" x=\"322.305882\" y=\"-163.143529\" width=\"131.04\" height=\"131.04\"/>\n",
       "   </g>\n",
       "  </g>\n",
       "  <g id=\"axes_7\">\n",
       "   <g clip-path=\"url(#p0fd1ba27cc)\">\n",
       "    <image xlink:href=\"data:image/png;base64,\n",
       "iVBORw0KGgoAAAANSUhEUgAAALYAAAC2CAYAAAB08HcEAAAFbUlEQVR4nO3dyyt1XxzH8fUIDynlkpRSRgYot4GhgTCQkBKJmCnlz2BooBgYKLmUMsDAJUkMZWSGkktEKbdcCr/RM/jV+p7ah7PP8fF+Db+7tc8avFtld872xzn36QAxSfHeABALhA1JhA1JhA1JhA1JhA1JhA1JhA1JhA1JhA1JhA1JhA1JhA1JhA1JhA1JhA1JhA1JhA1JhA1JhA1JhA1JhA1JhA1JhA1JhA1JhA1JhA1JhA1JhA1JhA1JhA1JhA1JyfHeABJDfn6+d56cbCdyfn4eq+18GSc2JBE2JBE2JBE2JBE2JP1x/Ds8OOeWlpa8c+tpiXPOtbW1eeeJ8LSEExuSCBuSCBuSCBuSCBuSCBuS+BIUnHPO5eXleefV1dXmmrq6Ou98amrqO7b0JZzYkETYkETYkETYkETYkMRTkV+ktLTUvFZYWBjiTmKPExuSCBuSCBuSCBuSCBuSCBuS4v64LyUlxbyWlpbmnQ8MDJhrioqKvrynf3Z3d81rZ2dn3nlVVZW5ZnJy8st7+uft7c289vr66p0fHByYa05PT73zSL95TGSc2JBE2JBE2JBE2JBE2JAU9zdBzc3Nmdc6OjpC3MnPsrOzY17b3t4OfL++vj7vvKCgwFwzPz/vnXd1dQX+/O/GiQ1JhA1JhA1JhA1JhA1JhA1JoT3uW1xc9M5bWlrC+HjEwOPjo3deW1trrtnf34/Rbv6PExuSCBuSCBuSCBuSCBuSQnsq8vnp/xhr7pxzFxcX3vnMzIy5ZmxsLNjGolRRUeGdd3Z2hvL5JSUl5rWysrJQ9mC5u7szr2VlZYWyB05sSCJsSCJsSCJsSCJsSCJsSErox30rKyveeXNz87fs6SeL9IamaN7eND097Z1HeqxoOTw8NK8VFxcHvl80OLEhibAhibAhibAhibAhKbT3Y19eXnrnkf6Cr6mp8c7r6+vNNevr68E29kNdXV1Fdc3y9PQUeI31ZaeGhobA9/punNiQRNiQRNiQRNiQRNiQRNiQFNrjvtHRUe98ZGTEXJObm+udDw8Pm2usF6I/Pz/bm/sl0tPTzWupqamB72f9S76Tk5PA9/punNiQRNiQRNiQRNiQRNiQFNpTkc3NTe/8/v7eXJOZmemdW29hcs65pqYm73xhYSHC7n6HiYkJ81p5eXng+72/v39hN7HFiQ1JhA1JhA1JhA1JhA1JhA1Job0JylJZWWleW1tb885zcnLMNbe3t955pN9JhvUv2uLt+PjYvFZUVBT4fv39/d751NRU4Ht9N05sSCJsSCJsSCJsSCJsSArtS1CWSE8krPdj9/b2mmuys7O988HBQXON9dc9fi5ObEgibEgibEgibEgibEgibEiK+5egIsnIyPDOt7a2zDXV1dXe+cfHh7lmfHzcOx8aGjLXRLpfoormS1BHR0fmmqqqKu/84eEh2MZigBMbkggbkggbkggbkggbkhL6qYilsbHRvGb9s/tIPyezpKWlmdesd0MngtbWVu98dnbWXPPy8uKdLy8vm2t6enqCbSxEnNiQRNiQRNiQRNiQRNiQRNiQFPffPEZjdXXVvNbd3e2dz8zMmGuur6+988/PH/ck1Dnn3N+/f73zpCT7HNvY2PDOE/mRXiSc2JBE2JBE2JBE2JBE2JD0I78EFQ3rJ2POObe3txfiTuKnvb3dvLa9ve2d39zcxGo7McWJDUmEDUmEDUmEDUmEDUmEDUm/5nEffhdObEgibEgibEgibEgibEgibEgibEgibEgibEgibEgibEgibEgibEgibEgibEgibEgibEgibEgibEgibEgibEgibEgibEgibEgibEgibEgibEgibEgibEgibEgibEj6D7Q252a4LQ2/AAAAAElFTkSuQmCC\" id=\"imagef4e3f914e8\" transform=\"scale(1 -1) translate(0 -131.04)\" x=\"7.2\" y=\"-319.68\" width=\"131.04\" height=\"131.04\"/>\n",
       "   </g>\n",
       "  </g>\n",
       "  <g id=\"axes_8\">\n",
       "   <g clip-path=\"url(#p3d31f63026)\">\n",
       "    <image xlink:href=\"data:image/png;base64,\n",
       "iVBORw0KGgoAAAANSUhEUgAAALYAAAC2CAYAAAB08HcEAAAEqklEQVR4nO3dvUtjSxiA8RO94GrhR5XCaCsiiFaW2omVf4C2VoKIWBuLQEpBsLEN2gha2ImNiIqQWgIiggHBQrugKOitL8yEe2L82CfPr3yH2XNgH6YYsmczSZJ8JBJM20+/gPQVDFtIhi0kwxaSYQvJsIVk2EIybCEZtpAMW0iGLSTDFpJhC8mwhWTYQjJsIRm2kAxbSIYtJMMWkmELybCFZNhCMmwhGbaQDFtIhi0kwxaSYQvJsIVk2EIybCH989Mv8BvMzs4G5/v7+6n/rHK5HF2r1WrB+dnZWXTP8fFxcH5+fh7d8/b2Fl1rFZ7YQjJsIRm2kAxbSIYtpEzif4eXrK2tBef5fP5bnp/JZKJrHx/hv569vb3onsXFxeD88fEx3Yv9xTyxhWTYQjJsIRm2kAxbSIYtJK/7kiTJ5XLB+eHhYXTP6Oho057fyHVfPU9PT8H53NxcdM/p6Wlw/vz8nPr5v4EntpAMW0iGLSTDFpJhC8lbkToGBgaia5eXl8F5NptN/Zx6Nx9XV1fB+cjISOrn1LOxsRGcr66uNvU538UTW0iGLSTDFpJhC8mwhWTYQvJLUHVUq9XoWqVSCc4bue4rFArRtWKxGJzPz89H92xvb6d+h6GhodR7fjNPbCEZtpAMW0iGLSTDFpK3Ig0qlUrB+eTkZOo/a319PfWe3d3d6FrsB1L1/mnY7e1t6nf4zTyxhWTYQjJsIRm2kAxbSIYtJK/7/lL1vtC0srISnG9tbUX3PDw8fPqdfhNPbCEZtpAMW0iGLSTDFpK3Ig26vr4Ozl9eXqJ7/vz581Wv87/c3Nz86PO/kye2kAxbSIYtJMMWkmELybCF5Iffm+z+/j66FvtK1MTERHRPuVz+9Du1Ik9sIRm2kAxbSIYtJMMWkj+CarJMJhNda2sLnyPT09PRPd6KNMYTW0iGLSTDFpJhC8mwhWTYQvK6r8k+PuK/KXt/f081V+M8sYVk2EIybCEZtpAMW0iGLSTDFpJhC8mwhWTYQjJsIRm2kFrmR1CdnZ3Rtf7+/uC8Wq1G93R0dATn7e3t6V5MX8ITW0iGLSTDFpJhC8mwhdQytyKFQiG6try8HJxvbm5G91xcXATnvb29aV5LX8QTW0iGLSTDFpJhC8mwhWTYQmqZ677h4eHUe5aWlqJrY2NjwXkjX3XK5XKp96g+T2whGbaQDFtIhi0kwxZSJkmS+AedQWZmZqJrpVIpOO/r6/uq1/mPWq0WXevu7v6Wd6DxxBaSYQvJsIVk2EIybCEZtpBa5rqvnthV4M7OTnRPT09P057vdV/zeWILybCFZNhCMmwhGbaQvBWpY3BwMLp2cnKSek/M6+trdG18fDw4r1QqqZ/TSjyxhWTYQjJsIRm2kAxbSIYtpJb5ElQj7u7uomsLCwvB+cHBQXRPV1dXcN7WFj9fstlscO51X32e2EIybCEZtpAMW0iGLSR/BNVkU1NT0bV8Ph+cF4vF6J6jo6PPvlJL8sQWkmELybCFZNhCMmwhGbaQvO4Tkie2kAxbSIYtJMMWkmELybCFZNhCMmwhGbaQDFtIhi0kwxaSYQvJsIVk2EIybCEZtpAMW0j/AsxQsXSxNVjyAAAAAElFTkSuQmCC\" id=\"imagedb41a1b172\" transform=\"scale(1 -1) translate(0 -131.04)\" x=\"164.752941\" y=\"-319.68\" width=\"131.04\" height=\"131.04\"/>\n",
       "   </g>\n",
       "  </g>\n",
       "  <g id=\"axes_9\">\n",
       "   <g clip-path=\"url(#pa33b0b5ae6)\">\n",
       "    <image xlink:href=\"data:image/png;base64,\n",
       "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\" id=\"imagec5442beb48\" transform=\"scale(1 -1) translate(0 -131.04)\" x=\"322.305882\" y=\"-319.68\" width=\"131.04\" height=\"131.04\"/>\n",
       "   </g>\n",
       "  </g>\n",
       " </g>\n",
       " <defs>\n",
       "  <clipPath id=\"pe8a62b5599\">\n",
       "   <rect x=\"7.2\" y=\"7.2\" width=\"130.447059\" height=\"130.447059\"/>\n",
       "  </clipPath>\n",
       "  <clipPath id=\"p932adbc0db\">\n",
       "   <rect x=\"164.752941\" y=\"7.2\" width=\"130.447059\" height=\"130.447059\"/>\n",
       "  </clipPath>\n",
       "  <clipPath id=\"pea907eec88\">\n",
       "   <rect x=\"322.305882\" y=\"7.2\" width=\"130.447059\" height=\"130.447059\"/>\n",
       "  </clipPath>\n",
       "  <clipPath id=\"p887c01bb4e\">\n",
       "   <rect x=\"7.2\" y=\"163.736471\" width=\"130.447059\" height=\"130.447059\"/>\n",
       "  </clipPath>\n",
       "  <clipPath id=\"pd5b4306829\">\n",
       "   <rect x=\"164.752941\" y=\"163.736471\" width=\"130.447059\" height=\"130.447059\"/>\n",
       "  </clipPath>\n",
       "  <clipPath id=\"pcf60aa7a2d\">\n",
       "   <rect x=\"322.305882\" y=\"163.736471\" width=\"130.447059\" height=\"130.447059\"/>\n",
       "  </clipPath>\n",
       "  <clipPath id=\"p0fd1ba27cc\">\n",
       "   <rect x=\"7.2\" y=\"320.272941\" width=\"130.447059\" height=\"130.447059\"/>\n",
       "  </clipPath>\n",
       "  <clipPath id=\"p3d31f63026\">\n",
       "   <rect x=\"164.752941\" y=\"320.272941\" width=\"130.447059\" height=\"130.447059\"/>\n",
       "  </clipPath>\n",
       "  <clipPath id=\"pa33b0b5ae6\">\n",
       "   <rect x=\"322.305882\" y=\"320.272941\" width=\"130.447059\" height=\"130.447059\"/>\n",
       "  </clipPath>\n",
       " </defs>\n",
       "</svg>\n"
      ],
      "text/plain": [
       "\u001b[1m<\u001b[0m\u001b[1;95mFigure\u001b[0m\u001b[39m size 80\u001b[0m\u001b[1;36m0x800\u001b[0m\u001b[39m with \u001b[0m\u001b[1;36m9\u001b[0m\u001b[39m Axes\u001b[0m\u001b[1m>\u001b[0m"
      ]
     },
     "metadata": {},
     "output_type": "display_data"
    }
   ],
   "source": [
    "fig, axs = plt.subplots(nrows=3, ncols=3, figsize=(8, 8))\n",
    "counter = 0\n",
    "for (i, j) in itertools.product(range(0, 3), range(0, 3)):\n",
    "    sub_axis = axs[i, j]\n",
    "    sub_axis.set_axis_off()\n",
    "    sub_axis.imshow(train_images[counter].reshape(28, 28) / 255.0, cmap=\"gray\")\n",
    "    counter += 10"
   ]
  },
  {
   "cell_type": "markdown",
   "id": "073131cf-e948-48a9-ad34-7bec2b3e1566",
   "metadata": {},
   "source": [
    "## Gradients using `DIPPL`"
   ]
  },
  {
   "cell_type": "code",
   "execution_count": 4,
   "id": "ea2f6d0f-997b-41de-85eb-0bfde6e83b3b",
   "metadata": {
    "tags": []
   },
   "outputs": [],
   "source": [
    "@genjax.gen\n",
    "def decoder_model(decoder):\n",
    "    latent = dippl.mv_normal_reparam(jnp.zeros(10), jnp.eye(10)) @ \"latent\"\n",
    "    image = decoder(latent)\n",
    "    noisy_image = dippl.mv_normal_reparam(image, jnp.eye(784)) @ \"image\"\n",
    "\n",
    "\n",
    "@genjax.gen\n",
    "def encoder_model(encoder, chm):\n",
    "    image = chm.get_leaf_value()[\"image\"]\n",
    "    μ, Σ = encoder(image)\n",
    "    x = dippl.mv_normal_reparam(μ, Σ) @ \"latent\"\n",
    "\n",
    "\n",
    "decoder_model = gensp.choice_map_distribution(\n",
    "    decoder_model, select(\"latent\", \"image\"), None\n",
    ")\n",
    "encoder_model = gensp.choice_map_distribution(encoder_model, select(\"latent\"), None)\n",
    "\n",
    "# Define our gradient estimator using our loss language.\n",
    "def variational_grad(\n",
    "    key,\n",
    "    data,\n",
    "    encoder,\n",
    "    decoder,\n",
    "):\n",
    "    v_chm = genjax.value_choice_map(genjax.choice_map({\"image\": data}))\n",
    "\n",
    "    @dippl.loss\n",
    "    def vae_loss(encoder, decoder):\n",
    "        v = dippl.upper(encoder_model)(encoder, v_chm)\n",
    "        merged = gensp.merge(v, v_chm)\n",
    "        dippl.lower(decoder_model)(merged, decoder)\n",
    "\n",
    "    return vae_loss.grad_estimate(key, (encoder, decoder))\n",
    "\n",
    "\n",
    "def minibatch_grad(key, data, encoder, decoder):\n",
    "    sub_keys = jax.random.split(key, len(data))\n",
    "    (encoder_grad, decoder_grad) = jax.vmap(\n",
    "        variational_grad, in_axes=(0, 0, None, None)\n",
    "    )(sub_keys, data, encoder, decoder)\n",
    "    encoder_grad, decoder_grad = jtu.tree_map(\n",
    "        lambda v: jnp.mean(v, axis=0), (encoder_grad, decoder_grad)\n",
    "    )\n",
    "    return encoder_grad, decoder_grad"
   ]
  },
  {
   "cell_type": "markdown",
   "id": "80e39d6d-c414-48a3-aba5-f745da5df392",
   "metadata": {},
   "source": [
    "## Encoder/decoder architectures"
   ]
  },
  {
   "cell_type": "code",
   "execution_count": 5,
   "id": "30be6a31-f260-4652-a138-3970b3f0935b",
   "metadata": {
    "tags": []
   },
   "outputs": [],
   "source": [
    "@dataclass\n",
    "class EncoderNetwork(genjax.Pytree):\n",
    "    layers: genjax.typing.List\n",
    "\n",
    "    def flatten(self):\n",
    "        return (self.layers,), ()\n",
    "\n",
    "    def new(key, latent_dim):\n",
    "        key, sub_key = jax.random.split(key)\n",
    "        conv_1 = eqx.nn.Conv2d(\n",
    "            in_channels=1, out_channels=32, kernel_size=3, stride=(2, 2), key=sub_key\n",
    "        )\n",
    "        key, sub_key = jax.random.split(key)\n",
    "        conv_2 = eqx.nn.Conv2d(\n",
    "            in_channels=32, out_channels=64, kernel_size=3, stride=(2, 2), key=sub_key\n",
    "        )\n",
    "        dense = eqx.nn.Linear(\n",
    "            in_features=2304, out_features=latent_dim + latent_dim, key=key\n",
    "        )\n",
    "        layers = [conv_1, conv_2, dense]\n",
    "        return EncoderNetwork(layers)\n",
    "\n",
    "    def __call__(self, v):\n",
    "        v = v.reshape(1, 28, 28)\n",
    "        for layer in self.layers[:-1]:\n",
    "            v = jax.nn.relu(layer(v))\n",
    "        v = v.flatten()\n",
    "        v = self.layers[-1](v)  # Dense\n",
    "        mu = v[0:10]\n",
    "        sigma = v[10:]\n",
    "        return mu, jnp.diag(sigma)\n",
    "\n",
    "\n",
    "@dataclass\n",
    "class DecoderNetwork(genjax.Pytree):\n",
    "    layers: genjax.typing.List\n",
    "\n",
    "    def flatten(self):\n",
    "        return (self.layers,), ()\n",
    "\n",
    "    def new(key, latent_dim):\n",
    "        key, sub_key = jax.random.split(key)\n",
    "        dense = eqx.nn.Linear(in_features=latent_dim, out_features=6 * 6 * 32, key=key)\n",
    "        conv_tr_1 = eqx.nn.ConvTranspose2d(\n",
    "            in_channels=32, out_channels=64, kernel_size=3, stride=2, key=sub_key\n",
    "        )\n",
    "        key, sub_key = jax.random.split(key)\n",
    "        conv_tr_2 = eqx.nn.ConvTranspose2d(\n",
    "            in_channels=64, out_channels=32, kernel_size=3, stride=2, key=sub_key\n",
    "        )\n",
    "        key, sub_key = jax.random.split(key)\n",
    "        conv_tr_3 = eqx.nn.ConvTranspose2d(\n",
    "            in_channels=32, out_channels=1, kernel_size=2, stride=1, key=sub_key\n",
    "        )\n",
    "        layers = [dense, conv_tr_1, conv_tr_2, conv_tr_3]\n",
    "        return DecoderNetwork(layers)\n",
    "\n",
    "    def __call__(self, v):\n",
    "        v = jax.nn.relu(self.layers[0](v))\n",
    "        v = v.reshape(32, 6, 6)\n",
    "        for layer in self.layers[1:]:\n",
    "            v = jax.nn.relu(layer(v))\n",
    "        v = v.reshape(784)\n",
    "        return v"
   ]
  },
  {
   "cell_type": "code",
   "execution_count": 6,
   "id": "c46bed41-a739-4f5e-8f09-75f531de3026",
   "metadata": {
    "tags": []
   },
   "outputs": [
    {
     "data": {
      "text/html": [
       "<pre style=\"white-space:pre;overflow-x:auto;line-height:normal;font-family:Menlo,'DejaVu Sans Mono',consolas,'Courier New',monospace\"></pre>\n"
      ],
      "text/plain": []
     },
     "metadata": {},
     "output_type": "display_data"
    },
    {
     "data": {
      "text/plain": [
       "\u001b[1m(\u001b[0m\u001b[1m(\u001b[0m\u001b[1;36m10\u001b[0m,\u001b[1m)\u001b[0m, \u001b[1m(\u001b[0m\u001b[1;36m10\u001b[0m, \u001b[1;36m10\u001b[0m\u001b[1m)\u001b[0m\u001b[1m)\u001b[0m"
      ]
     },
     "execution_count": 6,
     "metadata": {},
     "output_type": "execute_result"
    }
   ],
   "source": [
    "encoder_net = EncoderNetwork.new(key, 10)\n",
    "mu, sigma = encoder_net(train_images[1])\n",
    "(mu.shape, sigma.shape)"
   ]
  },
  {
   "cell_type": "code",
   "execution_count": 7,
   "id": "fcd1bddb-817a-489e-9c77-ab5bbc92a238",
   "metadata": {
    "tags": []
   },
   "outputs": [
    {
     "data": {
      "text/html": [
       "<pre style=\"white-space:pre;overflow-x:auto;line-height:normal;font-family:Menlo,'DejaVu Sans Mono',consolas,'Courier New',monospace\"></pre>\n"
      ],
      "text/plain": []
     },
     "metadata": {},
     "output_type": "display_data"
    },
    {
     "data": {
      "text/plain": [
       "\u001b[1m(\u001b[0m\u001b[1;36m784\u001b[0m,\u001b[1m)\u001b[0m"
      ]
     },
     "execution_count": 7,
     "metadata": {},
     "output_type": "execute_result"
    }
   ],
   "source": [
    "decoder_net = DecoderNetwork.new(key, 10)\n",
    "out = decoder_net(jnp.ones(10))\n",
    "out.shape"
   ]
  },
  {
   "cell_type": "markdown",
   "id": "abae32d0-3d4c-438a-8e69-516bb26687e9",
   "metadata": {},
   "source": [
    "## Training"
   ]
  },
  {
   "cell_type": "code",
   "execution_count": 8,
   "id": "e1a0c76f-b3a9-4384-ab2e-dcff5a34ee32",
   "metadata": {
    "tags": []
   },
   "outputs": [
    {
     "data": {
      "text/html": [
       "<pre style=\"white-space:pre;overflow-x:auto;line-height:normal;font-family:Menlo,'DejaVu Sans Mono',consolas,'Courier New',monospace\"></pre>\n"
      ],
      "text/plain": []
     },
     "metadata": {},
     "output_type": "display_data"
    },
    {
     "data": {
      "text/plain": [
       "\n",
       "\u001b[1m(\u001b[0m\n",
       "    \u001b[1;35mEncoderNetwork\u001b[0m\u001b[1m(\u001b[0m\n",
       "        \u001b[33mlayers\u001b[0m=\u001b[1m[\u001b[0m\n",
       "            \u001b[1;35mConv2d\u001b[0m\u001b[1m(\u001b[0m\n",
       "  \u001b[33mnum_spatial_dims\u001b[0m=\u001b[1;36m2\u001b[0m,\n",
       "  \u001b[33mweight\u001b[0m=\u001b[35mf32\u001b[0m\u001b[1m[\u001b[0m\u001b[1;36m32\u001b[0m,\u001b[1;36m1\u001b[0m,\u001b[1;36m3\u001b[0m,\u001b[1;36m3\u001b[0m\u001b[1m]\u001b[0m,\n",
       "  \u001b[33mbias\u001b[0m=\u001b[35mf32\u001b[0m\u001b[1m[\u001b[0m\u001b[1;36m32\u001b[0m,\u001b[1;36m1\u001b[0m,\u001b[1;36m1\u001b[0m\u001b[1m]\u001b[0m,\n",
       "  \u001b[33min_channels\u001b[0m=\u001b[1;36m1\u001b[0m,\n",
       "  \u001b[33mout_channels\u001b[0m=\u001b[1;36m32\u001b[0m,\n",
       "  \u001b[33mkernel_size\u001b[0m=\u001b[1m(\u001b[0m\u001b[1;36m3\u001b[0m, \u001b[1;36m3\u001b[0m\u001b[1m)\u001b[0m,\n",
       "  \u001b[33mstride\u001b[0m=\u001b[1m(\u001b[0m\u001b[1;36m2\u001b[0m, \u001b[1;36m2\u001b[0m\u001b[1m)\u001b[0m,\n",
       "  \u001b[33mpadding\u001b[0m=\u001b[1m(\u001b[0m\u001b[1m(\u001b[0m\u001b[1;36m0\u001b[0m, \u001b[1;36m0\u001b[0m\u001b[1m)\u001b[0m, \u001b[1m(\u001b[0m\u001b[1;36m0\u001b[0m, \u001b[1;36m0\u001b[0m\u001b[1m)\u001b[0m\u001b[1m)\u001b[0m,\n",
       "  \u001b[33mdilation\u001b[0m=\u001b[1m(\u001b[0m\u001b[1;36m1\u001b[0m, \u001b[1;36m1\u001b[0m\u001b[1m)\u001b[0m,\n",
       "  \u001b[33mgroups\u001b[0m=\u001b[1;36m1\u001b[0m,\n",
       "  \u001b[33muse_bias\u001b[0m=\u001b[3;92mTrue\u001b[0m\n",
       "\u001b[1m)\u001b[0m,\n",
       "            \u001b[1;35mConv2d\u001b[0m\u001b[1m(\u001b[0m\n",
       "  \u001b[33mnum_spatial_dims\u001b[0m=\u001b[1;36m2\u001b[0m,\n",
       "  \u001b[33mweight\u001b[0m=\u001b[35mf32\u001b[0m\u001b[1m[\u001b[0m\u001b[1;36m64\u001b[0m,\u001b[1;36m32\u001b[0m,\u001b[1;36m3\u001b[0m,\u001b[1;36m3\u001b[0m\u001b[1m]\u001b[0m,\n",
       "  \u001b[33mbias\u001b[0m=\u001b[35mf32\u001b[0m\u001b[1m[\u001b[0m\u001b[1;36m64\u001b[0m,\u001b[1;36m1\u001b[0m,\u001b[1;36m1\u001b[0m\u001b[1m]\u001b[0m,\n",
       "  \u001b[33min_channels\u001b[0m=\u001b[1;36m32\u001b[0m,\n",
       "  \u001b[33mout_channels\u001b[0m=\u001b[1;36m64\u001b[0m,\n",
       "  \u001b[33mkernel_size\u001b[0m=\u001b[1m(\u001b[0m\u001b[1;36m3\u001b[0m, \u001b[1;36m3\u001b[0m\u001b[1m)\u001b[0m,\n",
       "  \u001b[33mstride\u001b[0m=\u001b[1m(\u001b[0m\u001b[1;36m2\u001b[0m, \u001b[1;36m2\u001b[0m\u001b[1m)\u001b[0m,\n",
       "  \u001b[33mpadding\u001b[0m=\u001b[1m(\u001b[0m\u001b[1m(\u001b[0m\u001b[1;36m0\u001b[0m, \u001b[1;36m0\u001b[0m\u001b[1m)\u001b[0m, \u001b[1m(\u001b[0m\u001b[1;36m0\u001b[0m, \u001b[1;36m0\u001b[0m\u001b[1m)\u001b[0m\u001b[1m)\u001b[0m,\n",
       "  \u001b[33mdilation\u001b[0m=\u001b[1m(\u001b[0m\u001b[1;36m1\u001b[0m, \u001b[1;36m1\u001b[0m\u001b[1m)\u001b[0m,\n",
       "  \u001b[33mgroups\u001b[0m=\u001b[1;36m1\u001b[0m,\n",
       "  \u001b[33muse_bias\u001b[0m=\u001b[3;92mTrue\u001b[0m\n",
       "\u001b[1m)\u001b[0m,\n",
       "            \u001b[1;35mLinear\u001b[0m\u001b[1m(\u001b[0m\n",
       "  \u001b[33mweight\u001b[0m=\u001b[35mf32\u001b[0m\u001b[1m[\u001b[0m\u001b[1;36m20\u001b[0m,\u001b[1;36m2304\u001b[0m\u001b[1m]\u001b[0m,\n",
       "  \u001b[33mbias\u001b[0m=\u001b[35mf32\u001b[0m\u001b[1m[\u001b[0m\u001b[1;36m20\u001b[0m\u001b[1m]\u001b[0m,\n",
       "  \u001b[33min_features\u001b[0m=\u001b[1;36m2304\u001b[0m,\n",
       "  \u001b[33mout_features\u001b[0m=\u001b[1;36m20\u001b[0m,\n",
       "  \u001b[33muse_bias\u001b[0m=\u001b[3;92mTrue\u001b[0m\n",
       "\u001b[1m)\u001b[0m\n",
       "        \u001b[1m]\u001b[0m\n",
       "    \u001b[1m)\u001b[0m,\n",
       "    \u001b[1;35mDecoderNetwork\u001b[0m\u001b[1m(\u001b[0m\n",
       "        \u001b[33mlayers\u001b[0m=\u001b[1m[\u001b[0m\n",
       "            \u001b[1;35mLinear\u001b[0m\u001b[1m(\u001b[0m\n",
       "  \u001b[33mweight\u001b[0m=\u001b[35mf32\u001b[0m\u001b[1m[\u001b[0m\u001b[1;36m1152\u001b[0m,\u001b[1;36m10\u001b[0m\u001b[1m]\u001b[0m,\n",
       "  \u001b[33mbias\u001b[0m=\u001b[35mf32\u001b[0m\u001b[1m[\u001b[0m\u001b[1;36m1152\u001b[0m\u001b[1m]\u001b[0m,\n",
       "  \u001b[33min_features\u001b[0m=\u001b[1;36m10\u001b[0m,\n",
       "  \u001b[33mout_features\u001b[0m=\u001b[1;36m1152\u001b[0m,\n",
       "  \u001b[33muse_bias\u001b[0m=\u001b[3;92mTrue\u001b[0m\n",
       "\u001b[1m)\u001b[0m,\n",
       "            \u001b[1;35mConvTranspose2d\u001b[0m\u001b[1m(\u001b[0m\n",
       "  \u001b[33mnum_spatial_dims\u001b[0m=\u001b[1;36m2\u001b[0m,\n",
       "  \u001b[33mweight\u001b[0m=\u001b[35mf32\u001b[0m\u001b[1m[\u001b[0m\u001b[1;36m64\u001b[0m,\u001b[1;36m32\u001b[0m,\u001b[1;36m3\u001b[0m,\u001b[1;36m3\u001b[0m\u001b[1m]\u001b[0m,\n",
       "  \u001b[33mbias\u001b[0m=\u001b[35mf32\u001b[0m\u001b[1m[\u001b[0m\u001b[1;36m64\u001b[0m,\u001b[1;36m1\u001b[0m,\u001b[1;36m1\u001b[0m\u001b[1m]\u001b[0m,\n",
       "  \u001b[33min_channels\u001b[0m=\u001b[1;36m32\u001b[0m,\n",
       "  \u001b[33mout_channels\u001b[0m=\u001b[1;36m64\u001b[0m,\n",
       "  \u001b[33mkernel_size\u001b[0m=\u001b[1m(\u001b[0m\u001b[1;36m3\u001b[0m, \u001b[1;36m3\u001b[0m\u001b[1m)\u001b[0m,\n",
       "  \u001b[33mstride\u001b[0m=\u001b[1m(\u001b[0m\u001b[1;36m2\u001b[0m, \u001b[1;36m2\u001b[0m\u001b[1m)\u001b[0m,\n",
       "  \u001b[33mpadding\u001b[0m=\u001b[1m(\u001b[0m\u001b[1m(\u001b[0m\u001b[1;36m0\u001b[0m, \u001b[1;36m0\u001b[0m\u001b[1m)\u001b[0m, \u001b[1m(\u001b[0m\u001b[1;36m0\u001b[0m, \u001b[1;36m0\u001b[0m\u001b[1m)\u001b[0m\u001b[1m)\u001b[0m,\n",
       "  \u001b[33moutput_padding\u001b[0m=\u001b[1m(\u001b[0m\u001b[1;36m0\u001b[0m, \u001b[1;36m0\u001b[0m\u001b[1m)\u001b[0m,\n",
       "  \u001b[33mdilation\u001b[0m=\u001b[1m(\u001b[0m\u001b[1;36m1\u001b[0m, \u001b[1;36m1\u001b[0m\u001b[1m)\u001b[0m,\n",
       "  \u001b[33mgroups\u001b[0m=\u001b[1;36m1\u001b[0m,\n",
       "  \u001b[33muse_bias\u001b[0m=\u001b[3;92mTrue\u001b[0m\n",
       "\u001b[1m)\u001b[0m,\n",
       "            \u001b[1;35mConvTranspose2d\u001b[0m\u001b[1m(\u001b[0m\n",
       "  \u001b[33mnum_spatial_dims\u001b[0m=\u001b[1;36m2\u001b[0m,\n",
       "  \u001b[33mweight\u001b[0m=\u001b[35mf32\u001b[0m\u001b[1m[\u001b[0m\u001b[1;36m32\u001b[0m,\u001b[1;36m64\u001b[0m,\u001b[1;36m3\u001b[0m,\u001b[1;36m3\u001b[0m\u001b[1m]\u001b[0m,\n",
       "  \u001b[33mbias\u001b[0m=\u001b[35mf32\u001b[0m\u001b[1m[\u001b[0m\u001b[1;36m32\u001b[0m,\u001b[1;36m1\u001b[0m,\u001b[1;36m1\u001b[0m\u001b[1m]\u001b[0m,\n",
       "  \u001b[33min_channels\u001b[0m=\u001b[1;36m64\u001b[0m,\n",
       "  \u001b[33mout_channels\u001b[0m=\u001b[1;36m32\u001b[0m,\n",
       "  \u001b[33mkernel_size\u001b[0m=\u001b[1m(\u001b[0m\u001b[1;36m3\u001b[0m, \u001b[1;36m3\u001b[0m\u001b[1m)\u001b[0m,\n",
       "  \u001b[33mstride\u001b[0m=\u001b[1m(\u001b[0m\u001b[1;36m2\u001b[0m, \u001b[1;36m2\u001b[0m\u001b[1m)\u001b[0m,\n",
       "  \u001b[33mpadding\u001b[0m=\u001b[1m(\u001b[0m\u001b[1m(\u001b[0m\u001b[1;36m0\u001b[0m, \u001b[1;36m0\u001b[0m\u001b[1m)\u001b[0m, \u001b[1m(\u001b[0m\u001b[1;36m0\u001b[0m, \u001b[1;36m0\u001b[0m\u001b[1m)\u001b[0m\u001b[1m)\u001b[0m,\n",
       "  \u001b[33moutput_padding\u001b[0m=\u001b[1m(\u001b[0m\u001b[1;36m0\u001b[0m, \u001b[1;36m0\u001b[0m\u001b[1m)\u001b[0m,\n",
       "  \u001b[33mdilation\u001b[0m=\u001b[1m(\u001b[0m\u001b[1;36m1\u001b[0m, \u001b[1;36m1\u001b[0m\u001b[1m)\u001b[0m,\n",
       "  \u001b[33mgroups\u001b[0m=\u001b[1;36m1\u001b[0m,\n",
       "  \u001b[33muse_bias\u001b[0m=\u001b[3;92mTrue\u001b[0m\n",
       "\u001b[1m)\u001b[0m,\n",
       "            \u001b[1;35mConvTranspose2d\u001b[0m\u001b[1m(\u001b[0m\n",
       "  \u001b[33mnum_spatial_dims\u001b[0m=\u001b[1;36m2\u001b[0m,\n",
       "  \u001b[33mweight\u001b[0m=\u001b[35mf32\u001b[0m\u001b[1m[\u001b[0m\u001b[1;36m1\u001b[0m,\u001b[1;36m32\u001b[0m,\u001b[1;36m2\u001b[0m,\u001b[1;36m2\u001b[0m\u001b[1m]\u001b[0m,\n",
       "  \u001b[33mbias\u001b[0m=\u001b[35mf32\u001b[0m\u001b[1m[\u001b[0m\u001b[1;36m1\u001b[0m,\u001b[1;36m1\u001b[0m,\u001b[1;36m1\u001b[0m\u001b[1m]\u001b[0m,\n",
       "  \u001b[33min_channels\u001b[0m=\u001b[1;36m32\u001b[0m,\n",
       "  \u001b[33mout_channels\u001b[0m=\u001b[1;36m1\u001b[0m,\n",
       "  \u001b[33mkernel_size\u001b[0m=\u001b[1m(\u001b[0m\u001b[1;36m2\u001b[0m, \u001b[1;36m2\u001b[0m\u001b[1m)\u001b[0m,\n",
       "  \u001b[33mstride\u001b[0m=\u001b[1m(\u001b[0m\u001b[1;36m1\u001b[0m, \u001b[1;36m1\u001b[0m\u001b[1m)\u001b[0m,\n",
       "  \u001b[33mpadding\u001b[0m=\u001b[1m(\u001b[0m\u001b[1m(\u001b[0m\u001b[1;36m0\u001b[0m, \u001b[1;36m0\u001b[0m\u001b[1m)\u001b[0m, \u001b[1m(\u001b[0m\u001b[1;36m0\u001b[0m, \u001b[1;36m0\u001b[0m\u001b[1m)\u001b[0m\u001b[1m)\u001b[0m,\n",
       "  \u001b[33moutput_padding\u001b[0m=\u001b[1m(\u001b[0m\u001b[1;36m0\u001b[0m, \u001b[1;36m0\u001b[0m\u001b[1m)\u001b[0m,\n",
       "  \u001b[33mdilation\u001b[0m=\u001b[1m(\u001b[0m\u001b[1;36m1\u001b[0m, \u001b[1;36m1\u001b[0m\u001b[1m)\u001b[0m,\n",
       "  \u001b[33mgroups\u001b[0m=\u001b[1;36m1\u001b[0m,\n",
       "  \u001b[33muse_bias\u001b[0m=\u001b[3;92mTrue\u001b[0m\n",
       "\u001b[1m)\u001b[0m\n",
       "        \u001b[1m]\u001b[0m\n",
       "    \u001b[1m)\u001b[0m\n",
       "\u001b[1m)\u001b[0m"
      ]
     },
     "execution_count": 8,
     "metadata": {},
     "output_type": "execute_result"
    }
   ],
   "source": [
    "jax.jit(variational_grad)(key, train_images[1], encoder_net, decoder_net)"
   ]
  }
 ],
 "metadata": {
  "kernelspec": {
   "display_name": "Python 3 (ipykernel)",
   "language": "python",
   "name": "python3"
  },
  "language_info": {
   "codemirror_mode": {
    "name": "ipython",
    "version": 3
   },
   "file_extension": ".py",
   "mimetype": "text/x-python",
   "name": "python",
   "nbconvert_exporter": "python",
   "pygments_lexer": "ipython3",
   "version": "3.11.4"
  }
 },
 "nbformat": 4,
 "nbformat_minor": 5
}
