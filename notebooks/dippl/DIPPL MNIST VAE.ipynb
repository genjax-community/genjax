{
 "cells": [
  {
   "cell_type": "code",
   "execution_count": 1,
   "id": "22026280-7bc1-4e8b-93ca-c7a819271c4f",
   "metadata": {
    "tags": []
   },
   "outputs": [],
   "source": [
    "%config InlineBackend.figure_format = 'svg'"
   ]
  },
  {
   "cell_type": "code",
   "execution_count": 2,
   "id": "da4f39f5-e06d-40d6-911e-2753bc9daa30",
   "metadata": {
    "tags": []
   },
   "outputs": [
    {
     "name": "stderr",
     "output_type": "stream",
     "text": [
      "WARNING: All log messages before absl::InitializeLog() is called are written to STDERR\n",
      "I0000 00:00:1696430900.246444   29654 tfrt_cpu_pjrt_client.cc:349] TfrtCpuClient created.\n"
     ]
    }
   ],
   "source": [
    "import genjax\n",
    "from dataclasses import dataclass\n",
    "from genjax import dippl\n",
    "from genjax import gensp\n",
    "from genjax import select, dirac\n",
    "import equinox as eqx\n",
    "import optax\n",
    "import jax\n",
    "import jax.numpy as jnp\n",
    "import jax.tree_util as jtu\n",
    "from jax import config\n",
    "import adevjax\n",
    "from datasets import *\n",
    "import seaborn as sns\n",
    "import matplotlib.pyplot as plt\n",
    "import itertools\n",
    "from tqdm import tqdm\n",
    "\n",
    "config.update(\"jax_debug_nans\", True)\n",
    "console = genjax.pretty(show_locals=False)\n",
    "key = jax.random.PRNGKey(314159)\n",
    "\n",
    "# Plotting.\n",
    "sns.set_theme(style=\"white\")\n",
    "\n",
    "# Data.\n",
    "train_images, _, _, _ = mnist()\n",
    "train_images = jnp.where(train_images > 0.5, 1.0, 0.0)\n",
    "\n",
    "\n",
    "def dataloader(image_array, batch_size):\n",
    "    dataset_size = len(train_images)\n",
    "    indices = np.arange(dataset_size)\n",
    "    while True:\n",
    "        perm = np.random.permutation(indices)\n",
    "        start = 0\n",
    "        end = batch_size\n",
    "        while end <= dataset_size:\n",
    "            batch_perm = perm[start:end]\n",
    "            yield image_array[batch_perm]\n",
    "            start = end\n",
    "            end = start + batch_size"
   ]
  },
  {
   "cell_type": "markdown",
   "id": "c60ebca8-6572-46f3-8bb9-ccf028098347",
   "metadata": {},
   "source": [
    "## Visualize some of the data examples"
   ]
  },
  {
   "cell_type": "code",
   "execution_count": 3,
   "id": "3eba6282-b772-497f-9a92-b17315ace612",
   "metadata": {
    "tags": []
   },
   "outputs": [
    {
     "data": {
      "text/html": [
       "<pre style=\"white-space:pre;overflow-x:auto;line-height:normal;font-family:Menlo,'DejaVu Sans Mono',consolas,'Courier New',monospace\"></pre>\n"
      ],
      "text/plain": []
     },
     "metadata": {},
     "output_type": "display_data"
    },
    {
     "data": {
      "image/svg+xml": [
       "<?xml version=\"1.0\" encoding=\"utf-8\" standalone=\"no\"?>\n",
       "<!DOCTYPE svg PUBLIC \"-//W3C//DTD SVG 1.1//EN\"\n",
       "  \"http://www.w3.org/Graphics/SVG/1.1/DTD/svg11.dtd\">\n",
       "<svg xmlns:xlink=\"http://www.w3.org/1999/xlink\" width=\"459.952941pt\" height=\"457.92pt\" viewBox=\"0 0 459.952941 457.92\" xmlns=\"http://www.w3.org/2000/svg\" version=\"1.1\">\n",
       " <metadata>\n",
       "  <rdf:RDF xmlns:dc=\"http://purl.org/dc/elements/1.1/\" xmlns:cc=\"http://creativecommons.org/ns#\" xmlns:rdf=\"http://www.w3.org/1999/02/22-rdf-syntax-ns#\">\n",
       "   <cc:Work>\n",
       "    <dc:type rdf:resource=\"http://purl.org/dc/dcmitype/StillImage\"/>\n",
       "    <dc:date>2023-10-04T10:48:21.471172</dc:date>\n",
       "    <dc:format>image/svg+xml</dc:format>\n",
       "    <dc:creator>\n",
       "     <cc:Agent>\n",
       "      <dc:title>Matplotlib v3.8.0, https://matplotlib.org/</dc:title>\n",
       "     </cc:Agent>\n",
       "    </dc:creator>\n",
       "   </cc:Work>\n",
       "  </rdf:RDF>\n",
       " </metadata>\n",
       " <defs>\n",
       "  <style type=\"text/css\">*{stroke-linejoin: round; stroke-linecap: butt}</style>\n",
       " </defs>\n",
       " <g id=\"figure_1\">\n",
       "  <g id=\"patch_1\">\n",
       "   <path d=\"M 0 457.92 \n",
       "L 459.952941 457.92 \n",
       "L 459.952941 0 \n",
       "L 0 0 \n",
       "z\n",
       "\" style=\"fill: #ffffff\"/>\n",
       "  </g>\n",
       "  <g id=\"axes_1\">\n",
       "   <g clip-path=\"url(#p6f1a40fa20)\">\n",
       "    <image xlink:href=\"data:image/png;base64,\n",
       "iVBORw0KGgoAAAANSUhEUgAAALYAAAC2CAYAAAB08HcEAAACpElEQVR4nO3d0W3jMBRFQSpw/y07FUQfBCNRRzMNJAscPGAvaOcYY3wHxPzc/QvAfxA2ScImSdgkCZskYZMkbJKETZKwSRI2ScImSdgkCZskYZMkbJKETZKwSRI2ScIm6XPVD/p+n/fRyuM47v4VmORikyRskoRNkrBJEjZJx7j5m6CeuJacsaTswcUmSdgkCZskYZMkbJKETdLtc9+Mp06EpsDruNgkCZskYZMkbJKETdIjV5HVdl5ZLClzXGyShE2SsEkSNknCJknYJJn7JpkI9+ZikyRskoRNkrBJEjZJVpHFdl5LztSWFBebJGGTJGyShE2SsEkSNkmX/Tm8t5iZzZ46Ee7MxSZJ2CQJmyRhkyRskqwiG7CkrOdikyRskoRNkrBJEjZJwiZJ2CQJmyRhkyRskoRNkrBJ8ghqA1c9aKp929MZF5skYZMkbJKETZKwSRI2Sea+C62c9d403c1wsUkSNknCJknYJAmbJKvIYqsfNFk/5rjYJAmbJGGTJGyShE2SsEky902amfVMd9dxsUkSNknCJknYJAmbJKvICX9y7rlcbJKETZKwSRI2ScImSdgkmfsW89BpDy42ScImSdgkCZskYZP0mlXk7EHTyiWj9nOeysUmSdgkCZskYZMkbJKETdIxxkh9sM/nFM19Y7jYRAmbJGGTJGyShE2SsEkSNknCJknYJAmbJGGTJGySco+gVvKgas4Oj7BcbJKETZKwSRI2ScIm6TXfBDVjh//d/2VmsTn799QWIBebJGGTJGyShE2SsEkSNkkeQZHkYpMkbJKETZKwSRI2ScImSdgkCZskYZMkbJKETZKwSRI2ScImSdgkCZskYZMkbJKETZKwSRI2ScImSdgkCZskYZMkbJKETZKwSRI2ScImSdgk/QLyWUZxBlDwWQAAAABJRU5ErkJggg==\" id=\"image4a4aeaea29\" transform=\"scale(1 -1) translate(0 -131.04)\" x=\"7.2\" y=\"-6.607059\" width=\"131.04\" height=\"131.04\"/>\n",
       "   </g>\n",
       "  </g>\n",
       "  <g id=\"axes_2\">\n",
       "   <g clip-path=\"url(#p8486545595)\">\n",
       "    <image xlink:href=\"data:image/png;base64,\n",
       "iVBORw0KGgoAAAANSUhEUgAAALYAAAC2CAYAAAB08HcEAAACoklEQVR4nO3d0W3jMBRFQWqR/lv2ViAFEBSZPJxpIEZw8D4uZPkYY3wGxPz79geAvyBskoRNkrBJEjZJwiZJ2CQJmyRhkyRskoRNkrBJEjZJwiZJ2CQJmyRhkyRskoRNkrBJEjZJwiZJ2CQJmyRhk/Tz7Q8ws8/nnZdkHcfxyt/ZiYtNkrBJEjZJwiZJ2CQJm6RjLPji96sZ7mw6e2u6e5op8B4XmyRhkyRskoRNkrBJyq0iu7CWXHOxSRI2ScImSdgkCZskYZM09dz35Kw3wzzmO5TvcbFJEjZJwiZJ2CQJm6SpV5Ezd74aNrOn15IV/wdPc7FJEjZJwiZJ2CQJmyRhk7Tki9/NWfzGxSZJ2CQJmyRhkyRskpZ8CGonta/HvcXFJknYJAmbJGGTJGyShE2SsEkSNknCJknYJAmbJGGTJGyShE2SsEkSNknCJknYJAmbpCXfBDWDt37ajntcbJKETZKwSRI2ScImySpywfKxLhebJGGTJGyShE2SsEkSNknmvqCdXvB+xsUmSdgkCZskYZMkbJKsIhfurAsenJqDi02SsEkSNknCJknYJAmbpGOMYZ96ybenwJ0ejnKxSRI2ScImSdgkCZskD0E97NvLxxh7rR9nXGyShE2SsEkSNknCJknYJJn7bpph1uOci02SsEkSNknCJknYJFlFgs4Wm50ejnKxSRI2ScImSdgkCZskYZNk7ruw6oNOO816Z1xskoRNkrBJEjZJwibJKrIoy8c1F5skYZMkbJKETZKwSRI2SX4O72F3Hpwy3T3PxSZJ2CQJmyRhkyRskqwiJLnYJAmbJGGTJGyShE2SsEkSNknCJknYJAmbJGGTJGyShE2SsEkSNknCJknYJAmbJGGTJGyShE2SsEkSNknCJknYJP0HtepAcaf1LNsAAAAASUVORK5CYII=\" id=\"image5b7c7368a9\" transform=\"scale(1 -1) translate(0 -131.04)\" x=\"164.752941\" y=\"-6.607059\" width=\"131.04\" height=\"131.04\"/>\n",
       "   </g>\n",
       "  </g>\n",
       "  <g id=\"axes_3\">\n",
       "   <g clip-path=\"url(#p5e3dc4a1b8)\">\n",
       "    <image xlink:href=\"data:image/png;base64,\n",
       "iVBORw0KGgoAAAANSUhEUgAAALYAAAC2CAYAAAB08HcEAAAClElEQVR4nO3dgW2DQBQFwSNK/y07FYAVhI9jPVOB5ay+lCdCtjHGa0DMz90fAD5B2CQJmyRhkyRskoRNkrBJEjZJwiZJ2CQJmyRhkyRskoRNkrBJEjZJwiZJ2CQJmyRhkyRskoRNkrBJEjZJwibp9+4PwBper/+/EGzbtg98kmu42CQJmyRhkyRskoRNkrBJMvd9kTOT3lO52CQJmyRhkyRskoRNklUk6JvWjz0uNknCJknYJAmbJGGTJGySzH0PZdI75mKTJGyShE2SsEkSNklWEQ6t/LanIy42ScImSdgkCZskYZMkbJIeOfdd/QDQUyct9rnYJAmbJGGTJGyShE3SI1eRq9X+FRwuNlHCJknYJAmbJGGTJGySzH0nzXoTk1nxHBebJGGTJGyShE2SsEmyiizOe7DPcbFJEjZJwiZJ2CQJmyRhk7T03Gfqmqf2sJWLTZKwSRI2ScImSdgkLb2KXGnWb/2WnDW42CQJmyRhkyRskoRNkrBJun3uq81jV8+Kte9nFhebJGGTJGyShE2SsEm6fRXh2N7KYi055mKTJGyShE2SsEkSNknCJik399XeaMQ5LjZJwiZJ2CQJmyRhkzRtFfHQDjO52CQJmyRhkyRskoRNkrBJunTumzXpedCJd1xskoRNkrBJEjZJwiZp6T8Ns37sO/puPHDmYhMlbJKETZKwSRI2ScIm6fa5z6THJ7jYJAmbJGGTJGyShE3SpauIhWNt3/TzcbFJEjZJwiZJ2CQJmyRhkyRskoRNkrBJEjZJwiZJ2CRtYwyvDSLHxSZJ2CQJmyRhkyRskoRNkrBJEjZJwiZJ2CQJmyRhkyRskoRNkrBJEjZJwiZJ2CQJmyRhkyRskoRNkrBJEjZJwibpD1g+M48upC7+AAAAAElFTkSuQmCC\" id=\"image0283bd9ddb\" transform=\"scale(1 -1) translate(0 -131.04)\" x=\"322.305882\" y=\"-6.607059\" width=\"131.04\" height=\"131.04\"/>\n",
       "   </g>\n",
       "  </g>\n",
       "  <g id=\"axes_4\">\n",
       "   <g clip-path=\"url(#pa3a661ef76)\">\n",
       "    <image xlink:href=\"data:image/png;base64,\n",
       "iVBORw0KGgoAAAANSUhEUgAAALYAAAC2CAYAAAB08HcEAAACn0lEQVR4nO3dQW6EMBAAQRPl/1/evACkWA6YTtU9EYfWHEYDe4wxPgNivp5+APgLwiZJ2CQJmyRhkyRskoRNkrBJEjZJwiZJ2CQJmyRhkyRskoRNkrBJEjZJwiZJ2CQJmyRhkyRskoRNkrBJEjZJwiZJ2CQJmyRhkyRskoRNkrBJ+n76AZjz+az9Xv9xHEv/39NMbJKETZKwSRI2ScIm6Rh+Du82qzcZT9t5k2JikyRskoRNkrBJEjZJwibJEdRitZXeW5nYJAmbJGGTJGyShE2Srcjm7jo0mtnmnP3NDsdRJjZJwiZJ2CQJmyRhkyRskqz7NrDDeuzsGd561GVikyRskoRNkrBJEjZJtiKLXW043rpheCMTmyRhkyRskoRNkrBJEjZJPvy+gas14M7vPO5wvHXGxCZJ2CQJmyRhkyRskhxBbWDmcGpmI/GfjrBMbJKETZKwSRI2ScImSdgkOYIa/2sN9ls7HzpdMbFJEjZJwiZJ2CQJmyRHUIwx3rv9OGNikyRskoRNkrBJEjZJwibJEdSkuw6namu4u5jYJAmbJGGTJGyShE2SrchitiV7MLFJEjZJwiZJ2CQJmyRhk7T0ncfaT6rNmPmIO+uZ2CQJmyRhkyRskoRN0uNfgtphU1DbzGBiEyVskoRNkrBJEjZJwibptnced1jrlVhRXjOxSRI2ScImSdgkCZuk3JegatsX2485JjZJwiZJ2CQJmyRhkyRsknLrPhjDxCZK2CQJmyRhkyRskoRNkrBJEjZJwiZJ2CQJmyRhkyRskoRNkrBJEjZJwiZJ2CQJmyRhkyRskoRNkrBJEjZJwiZJ2CQJmyRhkyRskoRNkrBJEjZJwiZJ2CQJmyRhkyRskoRNkrBJEjZJwiZJ2CQJmyRhk/QDiAFDcGHnL2cAAAAASUVORK5CYII=\" id=\"imagee6f0dd1568\" transform=\"scale(1 -1) translate(0 -131.04)\" x=\"7.2\" y=\"-163.143529\" width=\"131.04\" height=\"131.04\"/>\n",
       "   </g>\n",
       "  </g>\n",
       "  <g id=\"axes_5\">\n",
       "   <g clip-path=\"url(#p25b2da4f93)\">\n",
       "    <image xlink:href=\"data:image/png;base64,\n",
       "iVBORw0KGgoAAAANSUhEUgAAALYAAAC2CAYAAAB08HcEAAACS0lEQVR4nO3dQQ7CIBRAQTDe/8p4AdvERm19ziy7YvHyFwToHGOsATG3sxcAnyBskoRNkrBJEjZJwiZJ2CQJmyRhkyRskoRNkrBJEjZJwiZJ2CQJmyRhkyRskoRN0v3sBdSs9foV0jnnB1by30xskoRNkrBJEjZJwibJrshBR3Y/+B4TmyRhkyRskoRNkrBJEjZJwiZJ2CQJmyRhkyRskoRNkrBJEjZJwiZJ2CQJmyRhkyRsktx5PGjr9SZ3Ia/BxCZJ2CQJmyRhkyRskuyKXMDeToq3s48xsUkSNknCJknYJAmbJGGTJGyShE2SsEkSNknCJknYJAmbJGGTJGyShE2SsEkSNknCJknYJAmbJGGTJGyShE2SsEkSNknCJknYJAmbJGGTJGyShE2SsEkSNknCJknYJAmbJGGTJGyShE2SsEkSNknCJknYJAmbpPvZC2DfWuvp9znnl1fyW0xskoRNkrBJEjZJwiZJ2CQJmyRhkyRskoRNkrBJEjZJDkG92d7hpK0DTbyfiU2SsEkSNknCJknYJAmbJGGTJGyShE2SsEkSNknCJknYJAmbJGGTJGyShE2SsEkSNknCJknYJAmbJGGTJGyShE2SsEkSNknCJknYJAmbJGGT5H3si9t7b5ttJjZJwiZJ2CQJmyRhkyRskuYYwz/ayDGxSRI2ScImSdgkCZskYZMkbJKETZKwSRI2ScImSdgkCZskYZMkbJKETZKwSRI2ScImSdgkCZskYZMkbJKETZKwSRI2ScImSdgkCZskYZMkbJIeErUVd1DPp/0AAAAASUVORK5CYII=\" id=\"image064358c470\" transform=\"scale(1 -1) translate(0 -131.04)\" x=\"164.752941\" y=\"-163.143529\" width=\"131.04\" height=\"131.04\"/>\n",
       "   </g>\n",
       "  </g>\n",
       "  <g id=\"axes_6\">\n",
       "   <g clip-path=\"url(#p6f4c0515ec)\">\n",
       "    <image xlink:href=\"data:image/png;base64,\n",
       "iVBORw0KGgoAAAANSUhEUgAAALYAAAC2CAYAAAB08HcEAAACl0lEQVR4nO3d0W3jMBRFQSpI/y0rFVgfAkPRRzMNrBEcPGAvZPkYY5wDYn6e/gDwH4RNkrBJEjZJwiZJ2CQJmyRhkyRskoRNkrBJEjZJwiZJ2CQJmyRhkyRskoRNkrBJEjZJwiZJ2CQJmyRhkyRskn6f/gA7OM81L8M6jmPJv4OLTZSwSRI2ScImSdgkCZukY7zkxe+rJr1VTIfXXGyShE2SsEkSNknCJim3isxcP+4sDzusLxYTF5soYZMkbJKETZKwSRI2Sea+sfc89vR8+a1cbJKETZKwSRI2ScIm6TWrSG0RmP2wVe3v42KTJGyShE2SsEkSNknCJik399F7EOwOF5skYZMkbJKETZKwSfJzeEGfFo4d3lK1iotNkrBJEjZJwiZJ2CQJmyRhkyRskoRNkrBJEjZJwiZJ2CQJmyRhkyRskoRNkrBJEjZJvvMY9KbvNn7iYpMkbJKETZKwSRI2SVaRC7X3TO/82WZzsUkSNknCJknYJAmbJGGTZO6bzANIe3CxSRI2ScImSdgkCZukY4zhv/ETrVpF3vRA0x0uNknCJknYJAmbJGGTJGySzH0L1b5DuTMXmyRhkyRskoRNkrBJsopswFoyn4tNkrBJEjZJwiZJ2CQJmyRz3+ZMgfe42CQJmyRhkyRskoRNkrBJEjZJwiZJ2CQJmyRhkyRsknI/hzfzxeseJvpeLjZJwiZJ2CQJmyRhk/Sar4at+pm6VSw211xskoRNkrBJEjZJwiZJ2CS9Zu6b7dN8eDXDeavTOi42ScImSdgkCZskYZNkFSHJxSZJ2CQJmyRhkyRskoRNkrBJEjZJwiZJ2CQJmyRhkyRskoRNkrBJEjZJwiZJ2CQJmyRhkyRskoRNkrBJEjZJwibpD7lfTVwWYhYBAAAAAElFTkSuQmCC\" id=\"image9a77acf160\" transform=\"scale(1 -1) translate(0 -131.04)\" x=\"322.305882\" y=\"-163.143529\" width=\"131.04\" height=\"131.04\"/>\n",
       "   </g>\n",
       "  </g>\n",
       "  <g id=\"axes_7\">\n",
       "   <g clip-path=\"url(#p3caad1efe7)\">\n",
       "    <image xlink:href=\"data:image/png;base64,\n",
       "iVBORw0KGgoAAAANSUhEUgAAALYAAAC2CAYAAAB08HcEAAACmUlEQVR4nO3dUW6DMBBAQVP1/ldOT4ClIgLmMXOACCVP+7GyyTbG+AyI+bn7AeAbhE2SsEkSNknCJknYJAmbJGGTJGyShE2SsEkSNknCJknYJAmbJGGTJGyShE2SsEkSNknCJknYJAmbJGGTJGyShE2SsEkSNknCJknYJAmbJGGTJGyShE2SsEkSNknCJknYJP3e/QCs4fP5/78ibtv2hSc5h4lNkrBJEjZJwiZJ2CQJmyRhkyRskoRNkrBJEjZJwiZJ2CQJmyRhkyRskoRNkrBJEjZJuTuPR+7u7Vn5Th9zJjZJwiZJ2CQJmyRhk7SNMc5bIxxw5haDNaywTTKxSRI2ScImSdgkCZskYZN02SEoaz2uZGKTJGyShE2SsEkSNkm5q2F3H8Cx/Zl/B1f9PiY2ScImSdgkCZskYZMkbJIeue67e6U3s/KzzdTWlCY2ScImSdgkCZskYZP0yK0Ia1thM2RikyRskoRNkrBJEjZJwibpsnXf3groyOGbFe7UsTYTmyRhkyRskoRNkrBJcgjqRWrXv2ZMbJKETZKwSRI2ScImSdgkbWOMZXdAZ66nHI46f9238ndqYpMkbJKETZKwSRI2Sa85BOU62buY2CQJmyRhkyRskoRNkrBJWnrdd+bbo2b2Ps8a8LlMbJKETZKwSRI2ScImaemtyJ7ZtuJNbztin4lNkrBJEjZJwiZJ2CQJm6RHrvtmrjo49RZPPQhmYpMkbJKETZKwSRI2SUu/HxuOMrFJEjZJwiZJ2CQJmyRhkyRskoRNkrBJEjZJwiZJ2CQJmyRhkyRskoRNkrBJEjZJwiZJ2CQJmyRhkyRskoRNkrBJEjZJwiZJ2CQJmyRhkyRskoRNkrBJEjZJwiZJ2CQJmyRhk/QHS0s4gPbHarEAAAAASUVORK5CYII=\" id=\"imagec5a9879c76\" transform=\"scale(1 -1) translate(0 -131.04)\" x=\"7.2\" y=\"-319.68\" width=\"131.04\" height=\"131.04\"/>\n",
       "   </g>\n",
       "  </g>\n",
       "  <g id=\"axes_8\">\n",
       "   <g clip-path=\"url(#p4461fdf987)\">\n",
       "    <image xlink:href=\"data:image/png;base64,\n",
       "iVBORw0KGgoAAAANSUhEUgAAALYAAAC2CAYAAAB08HcEAAACgUlEQVR4nO3cwY2DQBQFwZmV80+ZjQAOCJuhqQrA4tD6hyfMHGNsA2L+7n4A+AZhkyRskoRNkrBJEjZJwiZJ2CQJmyRhkyRskoRNkrBJEjZJwiZJ2CQJmyRhkyRskoRNkrBJEjZJwiZJ2CQJmyRhkyRskoRNkrBJEjZJwiZJ2CR97n6AlW3b/d/En3Pe/QiP5GKTJGyShE2SsEkSNklWkcWdWWYsKS42UcImSdgkCZskYZMkbJLMfUF7E+GbZkAXmyRhkyRskoRNkrBJmmOM+///9EAr/G3sF566pLjYJAmbJGGTJGyShE2SsEnyEtTizsxtb5kij7jYJAmbJGGTJGyShE2SVeSkvbXCl5vW4GKTJGyShE2SsEkSNknCJsncF2Q+dLGJEjZJwiZJ2CQJmyRhkyRskoRNkrBJEjZJwiZJ2CQJmyRhkyRskoRNkrBJEjZJwiZJ2CQJmyRhkyRskoRNkrBJEjZJwiZJ2CQJmyRhkyRskoRNkrBJEjZJwiZJ2CQJmyRhkyRskoRNkrBJEjZJwiZJ2CR97n6AX9m27dLfm3Ne+ntcy8UmSdgkCZskYZMkbJKETdIcY1y7gy3q6rnvV8yK57jYJAmbJGGTJGyShE3Sa16COloXnrqYsM/FJknYJAmbJGGTJGyShE3Sa+a+I3tToBnwuVxskoRNkrBJEjZJwibJKnLAi1PP5WKTJGyShE2SsEkSNknCJsncd5IXp9bmYpMkbJKETZKwSRI2Sa/5PvYK9hYT38C+notNkrBJEjZJwiZJ2CQJmyRzH0kuNknCJknYJAmbJGGTJGyShE2SsEkSNknCJknYJAmbJGGTJGyShE2SsEkSNknCJukfLSEtf+UupR8AAAAASUVORK5CYII=\" id=\"image95e59e69f2\" transform=\"scale(1 -1) translate(0 -131.04)\" x=\"164.752941\" y=\"-319.68\" width=\"131.04\" height=\"131.04\"/>\n",
       "   </g>\n",
       "  </g>\n",
       "  <g id=\"axes_9\">\n",
       "   <g clip-path=\"url(#pd9b9cda170)\">\n",
       "    <image xlink:href=\"data:image/png;base64,\n",
       "iVBORw0KGgoAAAANSUhEUgAAALYAAAC2CAYAAAB08HcEAAACwUlEQVR4nO3cW2rkQBQFwZLx/rfcXoEELcp6ZEX8z2BMcsEHSdsY4zMg5ufuHwD+g7BJEjZJwiZJ2CQJmyRhkyRskoRNkrBJEjZJwiZJ2CQJmyRhkyRskoRNkrBJEjZJwiZJ2CQJmyRhkyRskoRN0u/dP0DN5zP3w1rbtk39/1bhYpMkbJKETZKwSRI2ScImaRs+/L5r9nR3FROhi02UsEkSNknCJknYJFlFxnXrx95a8YT1pbakuNgkCZskYZMkbJKETZKwSVrmnce7J73Z/+YJE+GTudgkCZskYZMkbJKETdIyD0GdWRHe+mDQzMXkrb8DF5skYZMkbJKETZKwSRI2Scs8BHXkrZPWnie/W3kVF5skYZMkbJKETZKwScqtIiv95f+to/Wn9ntzsUkSNknCJknYJAmbJGGTlJv7PADEGC42UcImSdgkCZskYZOUW0XYt9Iy5GKTJGyShE2SsEkSNknCJknYJAmbJGGTJGyShE2SsEla5iGoM19Bqn03eyUuNknCJknYJAmbJGGTJGyStjHGOi/CTVR7f7A2bbrYJAmbJGGTJGyShE2SVWT0Fo6Z3rqWuNgkCZskYZMkbJKETZKwSVrmncerXDWPmSiPudgkCZskYZMkbJKETZJV5KS7Hw4682WrlbjYJAmbJGGTJGyShE2SsEky9wXtTYFHM+Dd8+VsLjZJwiZJ2CQJmyRhk+RLUGPuQ0NPeDWstnCc4WKTJGyShE2SsEkSNknCJslDUEF7U+BKM6CLTZKwSRI2ScImSdgkeQjqwFu/qLTS+rHHxSZJ2CQJmyRhkyRskoRNkrnvpLunQJPeMRebJGGTJGyShE2SsEmyipDkYpMkbJKETZKwSRI2ScImSdgkCZskYZMkbJKETZKwSRI2ScImSdgkCZskYZMkbJKETZKwSRI2ScImSdgkCZskYZP0B2+zU3UL9lmcAAAAAElFTkSuQmCC\" id=\"imagef05a6ce447\" transform=\"scale(1 -1) translate(0 -131.04)\" x=\"322.305882\" y=\"-319.68\" width=\"131.04\" height=\"131.04\"/>\n",
       "   </g>\n",
       "  </g>\n",
       " </g>\n",
       " <defs>\n",
       "  <clipPath id=\"p6f1a40fa20\">\n",
       "   <rect x=\"7.2\" y=\"7.2\" width=\"130.447059\" height=\"130.447059\"/>\n",
       "  </clipPath>\n",
       "  <clipPath id=\"p8486545595\">\n",
       "   <rect x=\"164.752941\" y=\"7.2\" width=\"130.447059\" height=\"130.447059\"/>\n",
       "  </clipPath>\n",
       "  <clipPath id=\"p5e3dc4a1b8\">\n",
       "   <rect x=\"322.305882\" y=\"7.2\" width=\"130.447059\" height=\"130.447059\"/>\n",
       "  </clipPath>\n",
       "  <clipPath id=\"pa3a661ef76\">\n",
       "   <rect x=\"7.2\" y=\"163.736471\" width=\"130.447059\" height=\"130.447059\"/>\n",
       "  </clipPath>\n",
       "  <clipPath id=\"p25b2da4f93\">\n",
       "   <rect x=\"164.752941\" y=\"163.736471\" width=\"130.447059\" height=\"130.447059\"/>\n",
       "  </clipPath>\n",
       "  <clipPath id=\"p6f4c0515ec\">\n",
       "   <rect x=\"322.305882\" y=\"163.736471\" width=\"130.447059\" height=\"130.447059\"/>\n",
       "  </clipPath>\n",
       "  <clipPath id=\"p3caad1efe7\">\n",
       "   <rect x=\"7.2\" y=\"320.272941\" width=\"130.447059\" height=\"130.447059\"/>\n",
       "  </clipPath>\n",
       "  <clipPath id=\"p4461fdf987\">\n",
       "   <rect x=\"164.752941\" y=\"320.272941\" width=\"130.447059\" height=\"130.447059\"/>\n",
       "  </clipPath>\n",
       "  <clipPath id=\"pd9b9cda170\">\n",
       "   <rect x=\"322.305882\" y=\"320.272941\" width=\"130.447059\" height=\"130.447059\"/>\n",
       "  </clipPath>\n",
       " </defs>\n",
       "</svg>\n"
      ],
      "text/plain": [
       "\u001b[1m<\u001b[0m\u001b[1;95mFigure\u001b[0m\u001b[39m size 80\u001b[0m\u001b[1;36m0x800\u001b[0m\u001b[39m with \u001b[0m\u001b[1;36m9\u001b[0m\u001b[39m Axes\u001b[0m\u001b[1m>\u001b[0m"
      ]
     },
     "metadata": {},
     "output_type": "display_data"
    }
   ],
   "source": [
    "fig, axs = plt.subplots(nrows=3, ncols=3, figsize=(8, 8))\n",
    "counter = 0\n",
    "for (i, j) in itertools.product(range(0, 3), range(0, 3)):\n",
    "    sub_axis = axs[i, j]\n",
    "    sub_axis.set_axis_off()\n",
    "    sub_axis.imshow(train_images[counter].reshape(28, 28) / 255.0, cmap=\"gray\")\n",
    "    counter += 10"
   ]
  },
  {
   "cell_type": "markdown",
   "id": "073131cf-e948-48a9-ad34-7bec2b3e1566",
   "metadata": {},
   "source": [
    "## Gradients using `DIPPL`"
   ]
  },
  {
   "cell_type": "code",
   "execution_count": 4,
   "id": "ea2f6d0f-997b-41de-85eb-0bfde6e83b3b",
   "metadata": {
    "tags": []
   },
   "outputs": [],
   "source": [
    "@genjax.gen\n",
    "def decoder_model(decoder):\n",
    "    latent = dippl.mv_normal_diag_reparam(jnp.zeros(10), jnp.ones(10)) @ \"latent\"\n",
    "    image = decoder(latent)\n",
    "    noisy_image = dippl.mv_normal_diag_reparam(image, jnp.ones(784)) @ \"image\"\n",
    "\n",
    "\n",
    "@genjax.gen\n",
    "def encoder_model(encoder, chm):\n",
    "    image = chm.get_leaf_value()[\"image\"]\n",
    "    μ, Σ_diag = encoder(image)\n",
    "    x = dippl.mv_normal_diag_reparam(μ, jnp.ones_like(μ)) @ \"latent\"\n",
    "\n",
    "\n",
    "decoder_model = gensp.choice_map_distribution(\n",
    "    decoder_model, select(\"latent\", \"image\"), None\n",
    ")\n",
    "encoder_model = gensp.choice_map_distribution(encoder_model, select(\"latent\"), None)\n",
    "\n",
    "# Define our gradient estimator using our loss language.\n",
    "def variational_value_and_grad(\n",
    "    key,\n",
    "    data,\n",
    "    encoder,\n",
    "    decoder,\n",
    "):\n",
    "    v_chm = genjax.value_choice_map(genjax.choice_map({\"image\": data}))\n",
    "\n",
    "    @dippl.loss\n",
    "    def vae_loss(encoder, decoder):\n",
    "        v = dippl.upper(encoder_model)(encoder, v_chm)\n",
    "        merged = gensp.merge(v, v_chm)\n",
    "        dippl.lower(decoder_model)(merged, decoder)\n",
    "\n",
    "    return vae_loss.value_and_grad_estimate(key, (encoder, decoder))\n",
    "\n",
    "\n",
    "def minibatch_value_and_grad(key, data, encoder, decoder):\n",
    "    sub_keys = jax.random.split(key, len(data))\n",
    "    loss, (encoder_grad, decoder_grad) = jax.vmap(\n",
    "        variational_value_and_grad, in_axes=(0, 0, None, None)\n",
    "    )(sub_keys, data, encoder, decoder)\n",
    "    encoder_grad, decoder_grad = jtu.tree_map(\n",
    "        lambda v: jnp.mean(v, axis=0), (encoder_grad, decoder_grad)\n",
    "    )\n",
    "    loss = jnp.mean(loss)\n",
    "    return loss, (encoder_grad, decoder_grad)"
   ]
  },
  {
   "cell_type": "markdown",
   "id": "80e39d6d-c414-48a3-aba5-f745da5df392",
   "metadata": {},
   "source": [
    "## Encoder/decoder architectures"
   ]
  },
  {
   "cell_type": "code",
   "execution_count": 5,
   "id": "30be6a31-f260-4652-a138-3970b3f0935b",
   "metadata": {
    "tags": []
   },
   "outputs": [],
   "source": [
    "@dataclass\n",
    "class EncoderNetwork(genjax.Pytree):\n",
    "    latent_dim: genjax.typing.Int\n",
    "    layers: genjax.typing.List\n",
    "\n",
    "    def flatten(self):\n",
    "        return (self.layers,), (self.latent_dim,)\n",
    "\n",
    "    def new(key, latent_dim):\n",
    "        key, sub_key = jax.random.split(key)\n",
    "        conv_1 = eqx.nn.Conv2d(\n",
    "            in_channels=1, out_channels=32, kernel_size=3, stride=(2, 2), key=sub_key\n",
    "        )\n",
    "        key, sub_key = jax.random.split(key)\n",
    "        conv_2 = eqx.nn.Conv2d(\n",
    "            in_channels=32, out_channels=64, kernel_size=3, stride=(2, 2), key=sub_key\n",
    "        )\n",
    "        dense = eqx.nn.Linear(\n",
    "            in_features=2304, out_features=latent_dim + latent_dim, key=key\n",
    "        )\n",
    "        layers = [conv_1, conv_2, dense]\n",
    "        return EncoderNetwork(latent_dim, layers)\n",
    "\n",
    "    def __call__(self, v):\n",
    "        v = v.reshape(1, 28, 28)\n",
    "        for layer in self.layers[:-1]:\n",
    "            v = jax.nn.relu(layer(v))\n",
    "        v = v.flatten()\n",
    "        v = self.layers[-1](v)  # Dense\n",
    "        mu = v[0 : self.latent_dim]\n",
    "        sigma = v[self.latent_dim :]\n",
    "        return mu, jnp.exp(0.5 * sigma)\n",
    "\n",
    "\n",
    "@dataclass\n",
    "class DecoderNetwork(genjax.Pytree):\n",
    "    layers: genjax.typing.List\n",
    "\n",
    "    def flatten(self):\n",
    "        return (self.layers,), ()\n",
    "\n",
    "    def new(key, latent_dim):\n",
    "        key, sub_key = jax.random.split(key)\n",
    "        dense = eqx.nn.Linear(\n",
    "            in_features=latent_dim, out_features=6 * 6 * 32, key=sub_key\n",
    "        )\n",
    "        key, sub_key = jax.random.split(key)\n",
    "        conv_tr_1 = eqx.nn.ConvTranspose2d(\n",
    "            in_channels=32, out_channels=64, kernel_size=3, stride=2, key=sub_key\n",
    "        )\n",
    "        key, sub_key = jax.random.split(key)\n",
    "        conv_tr_2 = eqx.nn.ConvTranspose2d(\n",
    "            in_channels=64, out_channels=32, kernel_size=3, stride=2, key=sub_key\n",
    "        )\n",
    "        conv_tr_3 = eqx.nn.ConvTranspose2d(\n",
    "            in_channels=32, out_channels=1, kernel_size=2, stride=1, key=key\n",
    "        )\n",
    "        layers = [dense, conv_tr_1, conv_tr_2, conv_tr_3]\n",
    "        return DecoderNetwork(layers)\n",
    "\n",
    "    def __call__(self, v):\n",
    "        v = jax.nn.relu(self.layers[0](v))\n",
    "        v = v.reshape(32, 6, 6)\n",
    "        for layer in self.layers[1:]:\n",
    "            v = jax.nn.relu(layer(v))\n",
    "        v = v.reshape(784)\n",
    "        return v"
   ]
  },
  {
   "cell_type": "markdown",
   "id": "abae32d0-3d4c-438a-8e69-516bb26687e9",
   "metadata": {},
   "source": [
    "## Training"
   ]
  },
  {
   "cell_type": "code",
   "execution_count": 6,
   "id": "e1a0c76f-b3a9-4384-ab2e-dcff5a34ee32",
   "metadata": {
    "tags": []
   },
   "outputs": [
    {
     "name": "stderr",
     "output_type": "stream",
     "text": [
      "29it [00:02, 15.18it/s]"
     ]
    },
    {
     "name": "stdout",
     "output_type": "stream",
     "text": [
      "-767.2025146484375\n"
     ]
    },
    {
     "name": "stderr",
     "output_type": "stream",
     "text": [
      "1048it [00:06, 263.99it/s]"
     ]
    },
    {
     "name": "stdout",
     "output_type": "stream",
     "text": [
      "-751.7760009765625\n"
     ]
    },
    {
     "name": "stderr",
     "output_type": "stream",
     "text": [
      "2043it [00:10, 270.48it/s]"
     ]
    },
    {
     "name": "stdout",
     "output_type": "stream",
     "text": [
      "-749.65087890625\n"
     ]
    },
    {
     "name": "stderr",
     "output_type": "stream",
     "text": [
      "3048it [00:13, 276.21it/s]"
     ]
    },
    {
     "name": "stdout",
     "output_type": "stream",
     "text": [
      "-751.0823974609375\n"
     ]
    },
    {
     "name": "stderr",
     "output_type": "stream",
     "text": [
      "4045it [00:17, 262.52it/s]"
     ]
    },
    {
     "name": "stdout",
     "output_type": "stream",
     "text": [
      "-749.9981079101562\n"
     ]
    },
    {
     "name": "stderr",
     "output_type": "stream",
     "text": [
      "5038it [00:21, 269.34it/s]"
     ]
    },
    {
     "name": "stdout",
     "output_type": "stream",
     "text": [
      "-750.1190185546875\n"
     ]
    },
    {
     "name": "stderr",
     "output_type": "stream",
     "text": [
      "6048it [00:25, 276.12it/s]"
     ]
    },
    {
     "name": "stdout",
     "output_type": "stream",
     "text": [
      "-750.2573852539062\n"
     ]
    },
    {
     "name": "stderr",
     "output_type": "stream",
     "text": [
      "7052it [00:28, 284.89it/s]"
     ]
    },
    {
     "name": "stdout",
     "output_type": "stream",
     "text": [
      "-749.4620361328125\n"
     ]
    },
    {
     "name": "stderr",
     "output_type": "stream",
     "text": [
      "8030it [00:32, 268.84it/s]"
     ]
    },
    {
     "name": "stdout",
     "output_type": "stream",
     "text": [
      "-748.8131713867188\n"
     ]
    },
    {
     "name": "stderr",
     "output_type": "stream",
     "text": [
      "9042it [00:35, 276.06it/s]"
     ]
    },
    {
     "name": "stdout",
     "output_type": "stream",
     "text": [
      "-749.48974609375\n"
     ]
    },
    {
     "name": "stderr",
     "output_type": "stream",
     "text": [
      "10050it [00:39, 281.45it/s]"
     ]
    },
    {
     "name": "stdout",
     "output_type": "stream",
     "text": [
      "-748.350830078125\n"
     ]
    },
    {
     "name": "stderr",
     "output_type": "stream",
     "text": [
      "11040it [00:43, 271.35it/s]"
     ]
    },
    {
     "name": "stdout",
     "output_type": "stream",
     "text": [
      "-749.4078369140625\n"
     ]
    },
    {
     "name": "stderr",
     "output_type": "stream",
     "text": [
      "12044it [00:46, 261.61it/s]"
     ]
    },
    {
     "name": "stdout",
     "output_type": "stream",
     "text": [
      "-748.7908325195312\n"
     ]
    },
    {
     "name": "stderr",
     "output_type": "stream",
     "text": [
      "13052it [00:50, 278.22it/s]"
     ]
    },
    {
     "name": "stdout",
     "output_type": "stream",
     "text": [
      "-751.2282104492188\n"
     ]
    },
    {
     "name": "stderr",
     "output_type": "stream",
     "text": [
      "14049it [00:54, 264.83it/s]"
     ]
    },
    {
     "name": "stdout",
     "output_type": "stream",
     "text": [
      "-750.8150634765625\n"
     ]
    },
    {
     "name": "stderr",
     "output_type": "stream",
     "text": [
      "15048it [00:58, 261.60it/s]"
     ]
    },
    {
     "name": "stdout",
     "output_type": "stream",
     "text": [
      "-750.4269409179688\n"
     ]
    },
    {
     "name": "stderr",
     "output_type": "stream",
     "text": [
      "16051it [01:01, 290.21it/s]"
     ]
    },
    {
     "name": "stdout",
     "output_type": "stream",
     "text": [
      "-748.9052734375\n"
     ]
    },
    {
     "name": "stderr",
     "output_type": "stream",
     "text": [
      "17040it [01:05, 274.26it/s]"
     ]
    },
    {
     "name": "stdout",
     "output_type": "stream",
     "text": [
      "-747.9483642578125\n"
     ]
    },
    {
     "name": "stderr",
     "output_type": "stream",
     "text": [
      "18038it [01:08, 296.60it/s]"
     ]
    },
    {
     "name": "stdout",
     "output_type": "stream",
     "text": [
      "-749.7037353515625\n"
     ]
    },
    {
     "name": "stderr",
     "output_type": "stream",
     "text": [
      "19037it [01:12, 296.46it/s]"
     ]
    },
    {
     "name": "stdout",
     "output_type": "stream",
     "text": [
      "-749.4363403320312\n"
     ]
    },
    {
     "name": "stderr",
     "output_type": "stream",
     "text": [
      "20051it [01:15, 296.49it/s]"
     ]
    },
    {
     "name": "stdout",
     "output_type": "stream",
     "text": [
      "-750.3103637695312\n"
     ]
    },
    {
     "name": "stderr",
     "output_type": "stream",
     "text": [
      "21035it [01:18, 277.64it/s]"
     ]
    },
    {
     "name": "stdout",
     "output_type": "stream",
     "text": [
      "-748.1875\n"
     ]
    },
    {
     "name": "stderr",
     "output_type": "stream",
     "text": [
      "22038it [01:22, 289.86it/s]"
     ]
    },
    {
     "name": "stdout",
     "output_type": "stream",
     "text": [
      "-751.3282470703125\n"
     ]
    },
    {
     "name": "stderr",
     "output_type": "stream",
     "text": [
      "23047it [01:26, 269.38it/s]"
     ]
    },
    {
     "name": "stdout",
     "output_type": "stream",
     "text": [
      "-749.2526245117188\n"
     ]
    },
    {
     "name": "stderr",
     "output_type": "stream",
     "text": [
      "24028it [01:29, 264.94it/s]"
     ]
    },
    {
     "name": "stdout",
     "output_type": "stream",
     "text": [
      "-749.9317016601562\n"
     ]
    },
    {
     "name": "stderr",
     "output_type": "stream",
     "text": [
      "25054it [01:33, 274.36it/s]"
     ]
    },
    {
     "name": "stdout",
     "output_type": "stream",
     "text": [
      "-751.2203979492188\n"
     ]
    },
    {
     "name": "stderr",
     "output_type": "stream",
     "text": [
      "26039it [01:37, 264.69it/s]"
     ]
    },
    {
     "name": "stdout",
     "output_type": "stream",
     "text": [
      "-749.6110229492188\n"
     ]
    },
    {
     "name": "stderr",
     "output_type": "stream",
     "text": [
      "27035it [01:40, 265.07it/s]"
     ]
    },
    {
     "name": "stdout",
     "output_type": "stream",
     "text": [
      "-750.0661010742188\n"
     ]
    },
    {
     "name": "stderr",
     "output_type": "stream",
     "text": [
      "28042it [01:44, 267.05it/s]"
     ]
    },
    {
     "name": "stdout",
     "output_type": "stream",
     "text": [
      "-750.8037109375\n"
     ]
    },
    {
     "name": "stderr",
     "output_type": "stream",
     "text": [
      "29041it [01:48, 269.75it/s]"
     ]
    },
    {
     "name": "stdout",
     "output_type": "stream",
     "text": [
      "-748.8677978515625\n"
     ]
    },
    {
     "name": "stderr",
     "output_type": "stream",
     "text": [
      "30044it [01:52, 273.94it/s]"
     ]
    },
    {
     "name": "stdout",
     "output_type": "stream",
     "text": [
      "-747.790283203125\n"
     ]
    },
    {
     "name": "stderr",
     "output_type": "stream",
     "text": [
      "31054it [01:55, 265.88it/s]"
     ]
    },
    {
     "name": "stdout",
     "output_type": "stream",
     "text": [
      "-748.1328125\n"
     ]
    },
    {
     "name": "stderr",
     "output_type": "stream",
     "text": [
      "32051it [01:59, 267.95it/s]"
     ]
    },
    {
     "name": "stdout",
     "output_type": "stream",
     "text": [
      "-749.4312744140625\n"
     ]
    },
    {
     "name": "stderr",
     "output_type": "stream",
     "text": [
      "33043it [02:03, 270.21it/s]"
     ]
    },
    {
     "name": "stdout",
     "output_type": "stream",
     "text": [
      "-749.5054321289062\n"
     ]
    },
    {
     "name": "stderr",
     "output_type": "stream",
     "text": [
      "34038it [02:06, 289.65it/s]"
     ]
    },
    {
     "name": "stdout",
     "output_type": "stream",
     "text": [
      "-751.21435546875\n"
     ]
    },
    {
     "name": "stderr",
     "output_type": "stream",
     "text": [
      "35046it [02:10, 262.89it/s]"
     ]
    },
    {
     "name": "stdout",
     "output_type": "stream",
     "text": [
      "-750.3896484375\n"
     ]
    },
    {
     "name": "stderr",
     "output_type": "stream",
     "text": [
      "36053it [02:14, 274.51it/s]"
     ]
    },
    {
     "name": "stdout",
     "output_type": "stream",
     "text": [
      "-749.5843505859375\n"
     ]
    },
    {
     "name": "stderr",
     "output_type": "stream",
     "text": [
      "37054it [02:17, 280.09it/s]"
     ]
    },
    {
     "name": "stdout",
     "output_type": "stream",
     "text": [
      "-748.2052001953125\n"
     ]
    },
    {
     "name": "stderr",
     "output_type": "stream",
     "text": [
      "38019it [02:22, 196.82it/s]"
     ]
    },
    {
     "name": "stdout",
     "output_type": "stream",
     "text": [
      "-748.91748046875\n"
     ]
    },
    {
     "name": "stderr",
     "output_type": "stream",
     "text": [
      "39032it [02:28, 287.75it/s]"
     ]
    },
    {
     "name": "stdout",
     "output_type": "stream",
     "text": [
      "-749.6690673828125\n"
     ]
    },
    {
     "name": "stderr",
     "output_type": "stream",
     "text": [
      "40057it [02:31, 282.57it/s]"
     ]
    },
    {
     "name": "stdout",
     "output_type": "stream",
     "text": [
      "-749.2127685546875\n"
     ]
    },
    {
     "name": "stderr",
     "output_type": "stream",
     "text": [
      "41047it [02:35, 289.00it/s]"
     ]
    },
    {
     "name": "stdout",
     "output_type": "stream",
     "text": [
      "-747.872802734375\n"
     ]
    },
    {
     "name": "stderr",
     "output_type": "stream",
     "text": [
      "42037it [02:38, 283.73it/s]"
     ]
    },
    {
     "name": "stdout",
     "output_type": "stream",
     "text": [
      "-750.9304809570312\n"
     ]
    },
    {
     "name": "stderr",
     "output_type": "stream",
     "text": [
      "43056it [02:41, 289.01it/s]"
     ]
    },
    {
     "name": "stdout",
     "output_type": "stream",
     "text": [
      "-750.173583984375\n"
     ]
    },
    {
     "name": "stderr",
     "output_type": "stream",
     "text": [
      "44049it [02:45, 280.05it/s]"
     ]
    },
    {
     "name": "stdout",
     "output_type": "stream",
     "text": [
      "-749.8385620117188\n"
     ]
    },
    {
     "name": "stderr",
     "output_type": "stream",
     "text": [
      "45039it [02:48, 284.36it/s]"
     ]
    },
    {
     "name": "stdout",
     "output_type": "stream",
     "text": [
      "-749.212890625\n"
     ]
    },
    {
     "name": "stderr",
     "output_type": "stream",
     "text": [
      "46045it [02:52, 285.91it/s]"
     ]
    },
    {
     "name": "stdout",
     "output_type": "stream",
     "text": [
      "-749.7686767578125\n"
     ]
    },
    {
     "name": "stderr",
     "output_type": "stream",
     "text": [
      "47049it [02:55, 288.73it/s]"
     ]
    },
    {
     "name": "stdout",
     "output_type": "stream",
     "text": [
      "-750.705810546875\n"
     ]
    },
    {
     "name": "stderr",
     "output_type": "stream",
     "text": [
      "48038it [02:59, 287.77it/s]"
     ]
    },
    {
     "name": "stdout",
     "output_type": "stream",
     "text": [
      "-750.396728515625\n"
     ]
    },
    {
     "name": "stderr",
     "output_type": "stream",
     "text": [
      "49033it [03:02, 287.37it/s]"
     ]
    },
    {
     "name": "stdout",
     "output_type": "stream",
     "text": [
      "-748.672119140625\n"
     ]
    },
    {
     "name": "stderr",
     "output_type": "stream",
     "text": [
      "50037it [03:06, 292.57it/s]"
     ]
    },
    {
     "name": "stdout",
     "output_type": "stream",
     "text": [
      "-749.2996215820312\n"
     ]
    },
    {
     "name": "stderr",
     "output_type": "stream",
     "text": [
      "51057it [03:09, 288.55it/s]"
     ]
    },
    {
     "name": "stdout",
     "output_type": "stream",
     "text": [
      "-751.0792236328125\n"
     ]
    },
    {
     "name": "stderr",
     "output_type": "stream",
     "text": [
      "52045it [03:13, 290.35it/s]"
     ]
    },
    {
     "name": "stdout",
     "output_type": "stream",
     "text": [
      "-749.1444091796875\n"
     ]
    },
    {
     "name": "stderr",
     "output_type": "stream",
     "text": [
      "53051it [03:16, 283.62it/s]"
     ]
    },
    {
     "name": "stdout",
     "output_type": "stream",
     "text": [
      "-750.29443359375\n"
     ]
    },
    {
     "name": "stderr",
     "output_type": "stream",
     "text": [
      "54038it [03:20, 276.36it/s]"
     ]
    },
    {
     "name": "stdout",
     "output_type": "stream",
     "text": [
      "-748.8035278320312\n"
     ]
    },
    {
     "name": "stderr",
     "output_type": "stream",
     "text": [
      "55040it [03:23, 269.42it/s]"
     ]
    },
    {
     "name": "stdout",
     "output_type": "stream",
     "text": [
      "-749.7959594726562\n"
     ]
    },
    {
     "name": "stderr",
     "output_type": "stream",
     "text": [
      "56038it [03:27, 275.05it/s]"
     ]
    },
    {
     "name": "stdout",
     "output_type": "stream",
     "text": [
      "-749.066650390625\n"
     ]
    },
    {
     "name": "stderr",
     "output_type": "stream",
     "text": [
      "57054it [03:31, 274.34it/s]"
     ]
    },
    {
     "name": "stdout",
     "output_type": "stream",
     "text": [
      "-749.6207275390625\n"
     ]
    },
    {
     "name": "stderr",
     "output_type": "stream",
     "text": [
      "58048it [03:34, 264.78it/s]"
     ]
    },
    {
     "name": "stdout",
     "output_type": "stream",
     "text": [
      "-751.4994506835938\n"
     ]
    },
    {
     "name": "stderr",
     "output_type": "stream",
     "text": [
      "59057it [03:38, 279.33it/s]"
     ]
    },
    {
     "name": "stdout",
     "output_type": "stream",
     "text": [
      "-752.125\n"
     ]
    },
    {
     "name": "stderr",
     "output_type": "stream",
     "text": [
      "60047it [03:42, 271.45it/s]"
     ]
    },
    {
     "name": "stdout",
     "output_type": "stream",
     "text": [
      "-750.0670166015625\n"
     ]
    },
    {
     "name": "stderr",
     "output_type": "stream",
     "text": [
      "61049it [03:46, 273.38it/s]"
     ]
    },
    {
     "name": "stdout",
     "output_type": "stream",
     "text": [
      "-750.8950805664062\n"
     ]
    },
    {
     "name": "stderr",
     "output_type": "stream",
     "text": [
      "62043it [03:49, 259.78it/s]"
     ]
    },
    {
     "name": "stdout",
     "output_type": "stream",
     "text": [
      "-749.9185791015625\n"
     ]
    },
    {
     "name": "stderr",
     "output_type": "stream",
     "text": [
      "63038it [03:53, 273.77it/s]"
     ]
    },
    {
     "name": "stdout",
     "output_type": "stream",
     "text": [
      "-747.917236328125\n"
     ]
    },
    {
     "name": "stderr",
     "output_type": "stream",
     "text": [
      "64046it [03:57, 263.41it/s]"
     ]
    },
    {
     "name": "stdout",
     "output_type": "stream",
     "text": [
      "-749.4739379882812\n"
     ]
    },
    {
     "name": "stderr",
     "output_type": "stream",
     "text": [
      "65044it [04:00, 276.23it/s]"
     ]
    },
    {
     "name": "stdout",
     "output_type": "stream",
     "text": [
      "-748.9769287109375\n"
     ]
    },
    {
     "name": "stderr",
     "output_type": "stream",
     "text": [
      "66055it [04:04, 274.53it/s]"
     ]
    },
    {
     "name": "stdout",
     "output_type": "stream",
     "text": [
      "-749.5928955078125\n"
     ]
    },
    {
     "name": "stderr",
     "output_type": "stream",
     "text": [
      "67058it [04:08, 296.73it/s]"
     ]
    },
    {
     "name": "stdout",
     "output_type": "stream",
     "text": [
      "-750.1368408203125\n"
     ]
    },
    {
     "name": "stderr",
     "output_type": "stream",
     "text": [
      "68042it [04:11, 286.42it/s]"
     ]
    },
    {
     "name": "stdout",
     "output_type": "stream",
     "text": [
      "-750.2476806640625\n"
     ]
    },
    {
     "name": "stderr",
     "output_type": "stream",
     "text": [
      "69035it [04:15, 287.17it/s]"
     ]
    },
    {
     "name": "stdout",
     "output_type": "stream",
     "text": [
      "-751.00927734375\n"
     ]
    },
    {
     "name": "stderr",
     "output_type": "stream",
     "text": [
      "70016it [04:21, 81.25it/s] "
     ]
    },
    {
     "name": "stdout",
     "output_type": "stream",
     "text": [
      "-749.88916015625\n"
     ]
    },
    {
     "name": "stderr",
     "output_type": "stream",
     "text": [
      "71039it [04:25, 272.80it/s]"
     ]
    },
    {
     "name": "stdout",
     "output_type": "stream",
     "text": [
      "-750.1390380859375\n"
     ]
    },
    {
     "name": "stderr",
     "output_type": "stream",
     "text": [
      "72041it [04:29, 290.36it/s]"
     ]
    },
    {
     "name": "stdout",
     "output_type": "stream",
     "text": [
      "-750.097900390625\n"
     ]
    },
    {
     "name": "stderr",
     "output_type": "stream",
     "text": [
      "73045it [04:32, 288.88it/s]"
     ]
    },
    {
     "name": "stdout",
     "output_type": "stream",
     "text": [
      "-749.8819580078125\n"
     ]
    },
    {
     "name": "stderr",
     "output_type": "stream",
     "text": [
      "74037it [04:35, 275.70it/s]"
     ]
    },
    {
     "name": "stdout",
     "output_type": "stream",
     "text": [
      "-749.8455810546875\n"
     ]
    },
    {
     "name": "stderr",
     "output_type": "stream",
     "text": [
      "75050it [04:39, 297.50it/s]"
     ]
    },
    {
     "name": "stdout",
     "output_type": "stream",
     "text": [
      "-749.4696044921875\n"
     ]
    },
    {
     "name": "stderr",
     "output_type": "stream",
     "text": [
      "76052it [04:42, 286.74it/s]"
     ]
    },
    {
     "name": "stdout",
     "output_type": "stream",
     "text": [
      "-751.00341796875\n"
     ]
    },
    {
     "name": "stderr",
     "output_type": "stream",
     "text": [
      "77057it [04:46, 288.42it/s]"
     ]
    },
    {
     "name": "stdout",
     "output_type": "stream",
     "text": [
      "-750.9437255859375\n"
     ]
    },
    {
     "name": "stderr",
     "output_type": "stream",
     "text": [
      "78052it [04:49, 287.25it/s]"
     ]
    },
    {
     "name": "stdout",
     "output_type": "stream",
     "text": [
      "-748.8402099609375\n"
     ]
    },
    {
     "name": "stderr",
     "output_type": "stream",
     "text": [
      "79041it [04:53, 290.06it/s]"
     ]
    },
    {
     "name": "stdout",
     "output_type": "stream",
     "text": [
      "-750.2039184570312\n"
     ]
    },
    {
     "name": "stderr",
     "output_type": "stream",
     "text": [
      "80043it [04:56, 290.11it/s]"
     ]
    },
    {
     "name": "stdout",
     "output_type": "stream",
     "text": [
      "-749.6697998046875\n"
     ]
    },
    {
     "name": "stderr",
     "output_type": "stream",
     "text": [
      "81057it [05:00, 290.39it/s]"
     ]
    },
    {
     "name": "stdout",
     "output_type": "stream",
     "text": [
      "-750.3023681640625\n"
     ]
    },
    {
     "name": "stderr",
     "output_type": "stream",
     "text": [
      "82047it [05:03, 290.97it/s]"
     ]
    },
    {
     "name": "stdout",
     "output_type": "stream",
     "text": [
      "-749.061767578125\n"
     ]
    },
    {
     "name": "stderr",
     "output_type": "stream",
     "text": [
      "83059it [05:07, 289.87it/s]"
     ]
    },
    {
     "name": "stdout",
     "output_type": "stream",
     "text": [
      "-748.509765625\n"
     ]
    },
    {
     "name": "stderr",
     "output_type": "stream",
     "text": [
      "84054it [05:10, 289.46it/s]"
     ]
    },
    {
     "name": "stdout",
     "output_type": "stream",
     "text": [
      "-747.7459716796875\n"
     ]
    },
    {
     "name": "stderr",
     "output_type": "stream",
     "text": [
      "85032it [05:14, 290.58it/s]"
     ]
    },
    {
     "name": "stdout",
     "output_type": "stream",
     "text": [
      "-748.110595703125\n"
     ]
    },
    {
     "name": "stderr",
     "output_type": "stream",
     "text": [
      "86033it [05:17, 273.17it/s]"
     ]
    },
    {
     "name": "stdout",
     "output_type": "stream",
     "text": [
      "-748.38232421875\n"
     ]
    },
    {
     "name": "stderr",
     "output_type": "stream",
     "text": [
      "87041it [05:21, 272.47it/s]"
     ]
    },
    {
     "name": "stdout",
     "output_type": "stream",
     "text": [
      "-750.746337890625\n"
     ]
    },
    {
     "name": "stderr",
     "output_type": "stream",
     "text": [
      "88035it [05:24, 291.22it/s]"
     ]
    },
    {
     "name": "stdout",
     "output_type": "stream",
     "text": [
      "-751.8325805664062\n"
     ]
    },
    {
     "name": "stderr",
     "output_type": "stream",
     "text": [
      "89059it [05:28, 291.66it/s]"
     ]
    },
    {
     "name": "stdout",
     "output_type": "stream",
     "text": [
      "-749.384033203125\n"
     ]
    },
    {
     "name": "stderr",
     "output_type": "stream",
     "text": [
      "90042it [05:31, 289.12it/s]"
     ]
    },
    {
     "name": "stdout",
     "output_type": "stream",
     "text": [
      "-748.9150390625\n"
     ]
    },
    {
     "name": "stderr",
     "output_type": "stream",
     "text": [
      "91039it [05:35, 280.70it/s]"
     ]
    },
    {
     "name": "stdout",
     "output_type": "stream",
     "text": [
      "-748.731689453125\n"
     ]
    },
    {
     "name": "stderr",
     "output_type": "stream",
     "text": [
      "92052it [05:38, 277.30it/s]"
     ]
    },
    {
     "name": "stdout",
     "output_type": "stream",
     "text": [
      "-748.4453125\n"
     ]
    },
    {
     "name": "stderr",
     "output_type": "stream",
     "text": [
      "93041it [05:42, 289.31it/s]"
     ]
    },
    {
     "name": "stdout",
     "output_type": "stream",
     "text": [
      "-749.4893798828125\n"
     ]
    },
    {
     "name": "stderr",
     "output_type": "stream",
     "text": [
      "94043it [05:45, 282.82it/s]"
     ]
    },
    {
     "name": "stdout",
     "output_type": "stream",
     "text": [
      "-750.3700561523438\n"
     ]
    },
    {
     "name": "stderr",
     "output_type": "stream",
     "text": [
      "95049it [05:49, 267.06it/s]"
     ]
    },
    {
     "name": "stdout",
     "output_type": "stream",
     "text": [
      "-749.5472412109375\n"
     ]
    },
    {
     "name": "stderr",
     "output_type": "stream",
     "text": [
      "96035it [05:53, 288.95it/s]"
     ]
    },
    {
     "name": "stdout",
     "output_type": "stream",
     "text": [
      "-750.5307006835938\n"
     ]
    },
    {
     "name": "stderr",
     "output_type": "stream",
     "text": [
      "97052it [05:56, 285.10it/s]"
     ]
    },
    {
     "name": "stdout",
     "output_type": "stream",
     "text": [
      "-750.2467041015625\n"
     ]
    },
    {
     "name": "stderr",
     "output_type": "stream",
     "text": [
      "98054it [06:00, 284.56it/s]"
     ]
    },
    {
     "name": "stdout",
     "output_type": "stream",
     "text": [
      "-749.4952392578125\n"
     ]
    },
    {
     "name": "stderr",
     "output_type": "stream",
     "text": [
      "99042it [06:03, 290.05it/s]"
     ]
    },
    {
     "name": "stdout",
     "output_type": "stream",
     "text": [
      "-751.4676513671875\n"
     ]
    },
    {
     "name": "stderr",
     "output_type": "stream",
     "text": [
      "100000it [06:06, 272.51it/s]\n"
     ]
    }
   ],
   "source": [
    "key = jax.random.PRNGKey(314159)\n",
    "learning_rate = 1e-3\n",
    "iter_data = dataloader(train_images, 64)\n",
    "key, sub_key = jax.random.split(key)\n",
    "encoder_net = EncoderNetwork.new(sub_key, 10)\n",
    "key, sub_key = jax.random.split(key)\n",
    "decoder_net = DecoderNetwork.new(sub_key, 10)\n",
    "steps = 100000\n",
    "\n",
    "\n",
    "@jax.jit\n",
    "def make_step(key, encoder_net, decoder_net, data, opt_state):\n",
    "    loss, grads = minibatch_value_and_grad(key, data, encoder_net, decoder_net)\n",
    "    grads = jtu.tree_map(lambda v: -v, grads)\n",
    "    updates, opt_state = optim.update(grads, opt_state)\n",
    "    encoder_net, decoder_net = eqx.apply_updates((encoder_net, decoder_net), updates)\n",
    "    mean_grad = jnp.mean(jnp.array(jtu.tree_leaves(jtu.tree_map(jnp.mean, grads))))\n",
    "    return loss, (encoder_net, decoder_net), opt_state, mean_grad\n",
    "\n",
    "\n",
    "optim = optax.adam(learning_rate)\n",
    "opt_state = optim.init((encoder_net, decoder_net))\n",
    "for step, image_batch in tqdm(zip(range(steps), iter_data)):\n",
    "    key, sub_key = jax.random.split(key)\n",
    "    loss, (encoder_net, decoder_net), opt_state, mean_grad = make_step(\n",
    "        sub_key, encoder_net, decoder_net, image_batch, opt_state\n",
    "    )\n",
    "    loss = loss.item()\n",
    "    if step % 1000 == 0:\n",
    "        print(loss)"
   ]
  },
  {
   "cell_type": "code",
   "execution_count": 14,
   "id": "32acade5-f5e6-40c8-bd41-624c57e39caf",
   "metadata": {
    "tags": []
   },
   "outputs": [
    {
     "data": {
      "text/html": [
       "<pre style=\"white-space:pre;overflow-x:auto;line-height:normal;font-family:Menlo,'DejaVu Sans Mono',consolas,'Courier New',monospace\"></pre>\n"
      ],
      "text/plain": []
     },
     "metadata": {},
     "output_type": "display_data"
    },
    {
     "data": {
      "text/plain": [
       "\u001b[1m<\u001b[0m\u001b[1;95mmatplotlib.image.AxesImage\u001b[0m\u001b[39m object at \u001b[0m\u001b[1;36m0x7f6844dfcbd0\u001b[0m\u001b[1m>\u001b[0m"
      ]
     },
     "execution_count": 14,
     "metadata": {},
     "output_type": "execute_result"
    },
    {
     "data": {
      "text/html": [
       "<pre style=\"white-space:pre;overflow-x:auto;line-height:normal;font-family:Menlo,'DejaVu Sans Mono',consolas,'Courier New',monospace\"></pre>\n"
      ],
      "text/plain": []
     },
     "metadata": {},
     "output_type": "display_data"
    },
    {
     "data": {
      "image/svg+xml": [
       "<?xml version=\"1.0\" encoding=\"utf-8\" standalone=\"no\"?>\n",
       "<!DOCTYPE svg PUBLIC \"-//W3C//DTD SVG 1.1//EN\"\n",
       "  \"http://www.w3.org/Graphics/SVG/1.1/DTD/svg11.dtd\">\n",
       "<svg xmlns:xlink=\"http://www.w3.org/1999/xlink\" width=\"304.0095pt\" height=\"300.657937pt\" viewBox=\"0 0 304.0095 300.657937\" xmlns=\"http://www.w3.org/2000/svg\" version=\"1.1\">\n",
       " <metadata>\n",
       "  <rdf:RDF xmlns:dc=\"http://purl.org/dc/elements/1.1/\" xmlns:cc=\"http://creativecommons.org/ns#\" xmlns:rdf=\"http://www.w3.org/1999/02/22-rdf-syntax-ns#\">\n",
       "   <cc:Work>\n",
       "    <dc:type rdf:resource=\"http://purl.org/dc/dcmitype/StillImage\"/>\n",
       "    <dc:date>2023-10-04T10:55:03.372308</dc:date>\n",
       "    <dc:format>image/svg+xml</dc:format>\n",
       "    <dc:creator>\n",
       "     <cc:Agent>\n",
       "      <dc:title>Matplotlib v3.8.0, https://matplotlib.org/</dc:title>\n",
       "     </cc:Agent>\n",
       "    </dc:creator>\n",
       "   </cc:Work>\n",
       "  </rdf:RDF>\n",
       " </metadata>\n",
       " <defs>\n",
       "  <style type=\"text/css\">*{stroke-linejoin: round; stroke-linecap: butt}</style>\n",
       " </defs>\n",
       " <g id=\"figure_1\">\n",
       "  <g id=\"patch_1\">\n",
       "   <path d=\"M 0 300.657937 \n",
       "L 304.0095 300.657937 \n",
       "L 304.0095 0 \n",
       "L 0 0 \n",
       "z\n",
       "\" style=\"fill: #ffffff\"/>\n",
       "  </g>\n",
       "  <g id=\"axes_1\">\n",
       "   <g id=\"patch_2\">\n",
       "    <path d=\"M 30.6975 273.312 \n",
       "L 296.8095 273.312 \n",
       "L 296.8095 7.2 \n",
       "L 30.6975 7.2 \n",
       "z\n",
       "\" style=\"fill: #ffffff\"/>\n",
       "   </g>\n",
       "   <g clip-path=\"url(#pb1dc648623)\">\n",
       "    <image xlink:href=\"data:image/png;base64,\n",
       "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\" id=\"image61d4a214f9\" transform=\"scale(1 -1) translate(0 -266.4)\" x=\"30.6975\" y=\"-6.912\" width=\"266.4\" height=\"266.4\"/>\n",
       "   </g>\n",
       "   <g id=\"matplotlib.axis_1\">\n",
       "    <g id=\"xtick_1\">\n",
       "     <g id=\"text_1\">\n",
       "      <!-- 0 -->\n",
       "      <g style=\"fill: #262626\" transform=\"translate(31.950125 291.170281) scale(0.11 -0.11)\">\n",
       "       <defs>\n",
       "        <path id=\"DejaVuSans-30\" d=\"M 2034 4250 \n",
       "Q 1547 4250 1301 3770 \n",
       "Q 1056 3291 1056 2328 \n",
       "Q 1056 1369 1301 889 \n",
       "Q 1547 409 2034 409 \n",
       "Q 2525 409 2770 889 \n",
       "Q 3016 1369 3016 2328 \n",
       "Q 3016 3291 2770 3770 \n",
       "Q 2525 4250 2034 4250 \n",
       "z\n",
       "M 2034 4750 \n",
       "Q 2819 4750 3233 4129 \n",
       "Q 3647 3509 3647 2328 \n",
       "Q 3647 1150 3233 529 \n",
       "Q 2819 -91 2034 -91 \n",
       "Q 1250 -91 836 529 \n",
       "Q 422 1150 422 2328 \n",
       "Q 422 3509 836 4129 \n",
       "Q 1250 4750 2034 4750 \n",
       "z\n",
       "\" transform=\"scale(0.015625)\"/>\n",
       "       </defs>\n",
       "       <use xlink:href=\"#DejaVuSans-30\"/>\n",
       "      </g>\n",
       "     </g>\n",
       "    </g>\n",
       "    <g id=\"xtick_2\">\n",
       "     <g id=\"text_2\">\n",
       "      <!-- 5 -->\n",
       "      <g style=\"fill: #262626\" transform=\"translate(79.470125 291.170281) scale(0.11 -0.11)\">\n",
       "       <defs>\n",
       "        <path id=\"DejaVuSans-35\" d=\"M 691 4666 \n",
       "L 3169 4666 \n",
       "L 3169 4134 \n",
       "L 1269 4134 \n",
       "L 1269 2991 \n",
       "Q 1406 3038 1543 3061 \n",
       "Q 1681 3084 1819 3084 \n",
       "Q 2600 3084 3056 2656 \n",
       "Q 3513 2228 3513 1497 \n",
       "Q 3513 744 3044 326 \n",
       "Q 2575 -91 1722 -91 \n",
       "Q 1428 -91 1123 -41 \n",
       "Q 819 9 494 109 \n",
       "L 494 744 \n",
       "Q 775 591 1075 516 \n",
       "Q 1375 441 1709 441 \n",
       "Q 2250 441 2565 725 \n",
       "Q 2881 1009 2881 1497 \n",
       "Q 2881 1984 2565 2268 \n",
       "Q 2250 2553 1709 2553 \n",
       "Q 1456 2553 1204 2497 \n",
       "Q 953 2441 691 2322 \n",
       "L 691 4666 \n",
       "z\n",
       "\" transform=\"scale(0.015625)\"/>\n",
       "       </defs>\n",
       "       <use xlink:href=\"#DejaVuSans-35\"/>\n",
       "      </g>\n",
       "     </g>\n",
       "    </g>\n",
       "    <g id=\"xtick_3\">\n",
       "     <g id=\"text_3\">\n",
       "      <!-- 10 -->\n",
       "      <g style=\"fill: #262626\" transform=\"translate(123.49075 291.170281) scale(0.11 -0.11)\">\n",
       "       <defs>\n",
       "        <path id=\"DejaVuSans-31\" d=\"M 794 531 \n",
       "L 1825 531 \n",
       "L 1825 4091 \n",
       "L 703 3866 \n",
       "L 703 4441 \n",
       "L 1819 4666 \n",
       "L 2450 4666 \n",
       "L 2450 531 \n",
       "L 3481 531 \n",
       "L 3481 0 \n",
       "L 794 0 \n",
       "L 794 531 \n",
       "z\n",
       "\" transform=\"scale(0.015625)\"/>\n",
       "       </defs>\n",
       "       <use xlink:href=\"#DejaVuSans-31\"/>\n",
       "       <use xlink:href=\"#DejaVuSans-30\" x=\"63.623047\"/>\n",
       "      </g>\n",
       "     </g>\n",
       "    </g>\n",
       "    <g id=\"xtick_4\">\n",
       "     <g id=\"text_4\">\n",
       "      <!-- 15 -->\n",
       "      <g style=\"fill: #262626\" transform=\"translate(171.01075 291.170281) scale(0.11 -0.11)\">\n",
       "       <use xlink:href=\"#DejaVuSans-31\"/>\n",
       "       <use xlink:href=\"#DejaVuSans-35\" x=\"63.623047\"/>\n",
       "      </g>\n",
       "     </g>\n",
       "    </g>\n",
       "    <g id=\"xtick_5\">\n",
       "     <g id=\"text_5\">\n",
       "      <!-- 20 -->\n",
       "      <g style=\"fill: #262626\" transform=\"translate(218.53075 291.170281) scale(0.11 -0.11)\">\n",
       "       <defs>\n",
       "        <path id=\"DejaVuSans-32\" d=\"M 1228 531 \n",
       "L 3431 531 \n",
       "L 3431 0 \n",
       "L 469 0 \n",
       "L 469 531 \n",
       "Q 828 903 1448 1529 \n",
       "Q 2069 2156 2228 2338 \n",
       "Q 2531 2678 2651 2914 \n",
       "Q 2772 3150 2772 3378 \n",
       "Q 2772 3750 2511 3984 \n",
       "Q 2250 4219 1831 4219 \n",
       "Q 1534 4219 1204 4116 \n",
       "Q 875 4013 500 3803 \n",
       "L 500 4441 \n",
       "Q 881 4594 1212 4672 \n",
       "Q 1544 4750 1819 4750 \n",
       "Q 2544 4750 2975 4387 \n",
       "Q 3406 4025 3406 3419 \n",
       "Q 3406 3131 3298 2873 \n",
       "Q 3191 2616 2906 2266 \n",
       "Q 2828 2175 2409 1742 \n",
       "Q 1991 1309 1228 531 \n",
       "z\n",
       "\" transform=\"scale(0.015625)\"/>\n",
       "       </defs>\n",
       "       <use xlink:href=\"#DejaVuSans-32\"/>\n",
       "       <use xlink:href=\"#DejaVuSans-30\" x=\"63.623047\"/>\n",
       "      </g>\n",
       "     </g>\n",
       "    </g>\n",
       "    <g id=\"xtick_6\">\n",
       "     <g id=\"text_6\">\n",
       "      <!-- 25 -->\n",
       "      <g style=\"fill: #262626\" transform=\"translate(266.05075 291.170281) scale(0.11 -0.11)\">\n",
       "       <use xlink:href=\"#DejaVuSans-32\"/>\n",
       "       <use xlink:href=\"#DejaVuSans-35\" x=\"63.623047\"/>\n",
       "      </g>\n",
       "     </g>\n",
       "    </g>\n",
       "   </g>\n",
       "   <g id=\"matplotlib.axis_2\">\n",
       "    <g id=\"ytick_1\">\n",
       "     <g id=\"text_7\">\n",
       "      <!-- 0 -->\n",
       "      <g style=\"fill: #262626\" transform=\"translate(14.19875 16.131141) scale(0.11 -0.11)\">\n",
       "       <use xlink:href=\"#DejaVuSans-30\"/>\n",
       "      </g>\n",
       "     </g>\n",
       "    </g>\n",
       "    <g id=\"ytick_2\">\n",
       "     <g id=\"text_8\">\n",
       "      <!-- 5 -->\n",
       "      <g style=\"fill: #262626\" transform=\"translate(14.19875 63.651141) scale(0.11 -0.11)\">\n",
       "       <use xlink:href=\"#DejaVuSans-35\"/>\n",
       "      </g>\n",
       "     </g>\n",
       "    </g>\n",
       "    <g id=\"ytick_3\">\n",
       "     <g id=\"text_9\">\n",
       "      <!-- 10 -->\n",
       "      <g style=\"fill: #262626\" transform=\"translate(7.2 111.171141) scale(0.11 -0.11)\">\n",
       "       <use xlink:href=\"#DejaVuSans-31\"/>\n",
       "       <use xlink:href=\"#DejaVuSans-30\" x=\"63.623047\"/>\n",
       "      </g>\n",
       "     </g>\n",
       "    </g>\n",
       "    <g id=\"ytick_4\">\n",
       "     <g id=\"text_10\">\n",
       "      <!-- 15 -->\n",
       "      <g style=\"fill: #262626\" transform=\"translate(7.2 158.691141) scale(0.11 -0.11)\">\n",
       "       <use xlink:href=\"#DejaVuSans-31\"/>\n",
       "       <use xlink:href=\"#DejaVuSans-35\" x=\"63.623047\"/>\n",
       "      </g>\n",
       "     </g>\n",
       "    </g>\n",
       "    <g id=\"ytick_5\">\n",
       "     <g id=\"text_11\">\n",
       "      <!-- 20 -->\n",
       "      <g style=\"fill: #262626\" transform=\"translate(7.2 206.211141) scale(0.11 -0.11)\">\n",
       "       <use xlink:href=\"#DejaVuSans-32\"/>\n",
       "       <use xlink:href=\"#DejaVuSans-30\" x=\"63.623047\"/>\n",
       "      </g>\n",
       "     </g>\n",
       "    </g>\n",
       "    <g id=\"ytick_6\">\n",
       "     <g id=\"text_12\">\n",
       "      <!-- 25 -->\n",
       "      <g style=\"fill: #262626\" transform=\"translate(7.2 253.731141) scale(0.11 -0.11)\">\n",
       "       <use xlink:href=\"#DejaVuSans-32\"/>\n",
       "       <use xlink:href=\"#DejaVuSans-35\" x=\"63.623047\"/>\n",
       "      </g>\n",
       "     </g>\n",
       "    </g>\n",
       "   </g>\n",
       "   <g id=\"patch_3\">\n",
       "    <path d=\"M 30.6975 273.312 \n",
       "L 30.6975 7.2 \n",
       "\" style=\"fill: none; stroke: #262626; stroke-width: 1.25; stroke-linejoin: miter; stroke-linecap: square\"/>\n",
       "   </g>\n",
       "   <g id=\"patch_4\">\n",
       "    <path d=\"M 296.8095 273.312 \n",
       "L 296.8095 7.2 \n",
       "\" style=\"fill: none; stroke: #262626; stroke-width: 1.25; stroke-linejoin: miter; stroke-linecap: square\"/>\n",
       "   </g>\n",
       "   <g id=\"patch_5\">\n",
       "    <path d=\"M 30.6975 273.312 \n",
       "L 296.8095 273.312 \n",
       "\" style=\"fill: none; stroke: #262626; stroke-width: 1.25; stroke-linejoin: miter; stroke-linecap: square\"/>\n",
       "   </g>\n",
       "   <g id=\"patch_6\">\n",
       "    <path d=\"M 30.6975 7.2 \n",
       "L 296.8095 7.2 \n",
       "\" style=\"fill: none; stroke: #262626; stroke-width: 1.25; stroke-linejoin: miter; stroke-linecap: square\"/>\n",
       "   </g>\n",
       "  </g>\n",
       " </g>\n",
       " <defs>\n",
       "  <clipPath id=\"pb1dc648623\">\n",
       "   <rect x=\"30.6975\" y=\"7.2\" width=\"266.112\" height=\"266.112\"/>\n",
       "  </clipPath>\n",
       " </defs>\n",
       "</svg>\n"
      ],
      "text/plain": [
       "\u001b[1m<\u001b[0m\u001b[1;95mFigure\u001b[0m\u001b[39m size 64\u001b[0m\u001b[1;36m0x480\u001b[0m\u001b[39m with \u001b[0m\u001b[1;36m1\u001b[0m\u001b[39m Axes\u001b[0m\u001b[1m>\u001b[0m"
      ]
     },
     "metadata": {},
     "output_type": "display_data"
    }
   ],
   "source": [
    "key, sub_key = jax.random.split(key)\n",
    "latent = genjax.tfp_mv_normal_diag.sample(sub_key, jnp.zeros(10), jnp.ones(10))\n",
    "plt.imshow(decoder_net(latent).reshape(28, 28))"
   ]
  },
  {
   "cell_type": "code",
   "execution_count": null,
   "id": "670e2440-9bf5-453d-acb4-2a0d2db532cb",
   "metadata": {},
   "outputs": [],
   "source": []
  }
 ],
 "metadata": {
  "kernelspec": {
   "display_name": "Python 3 (ipykernel)",
   "language": "python",
   "name": "python3"
  },
  "language_info": {
   "codemirror_mode": {
    "name": "ipython",
    "version": 3
   },
   "file_extension": ".py",
   "mimetype": "text/x-python",
   "name": "python",
   "nbconvert_exporter": "python",
   "pygments_lexer": "ipython3",
   "version": "3.11.4"
  }
 },
 "nbformat": 4,
 "nbformat_minor": 5
}
