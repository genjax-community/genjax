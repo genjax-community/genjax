{
 "cells": [
  {
   "cell_type": "code",
   "execution_count": 1,
   "id": "22026280-7bc1-4e8b-93ca-c7a819271c4f",
   "metadata": {
    "tags": []
   },
   "outputs": [],
   "source": [
    "%config InlineBackend.figure_format = 'svg'"
   ]
  },
  {
   "cell_type": "code",
   "execution_count": 2,
   "id": "da4f39f5-e06d-40d6-911e-2753bc9daa30",
   "metadata": {
    "tags": []
   },
   "outputs": [
    {
     "name": "stderr",
     "output_type": "stream",
     "text": [
      "WARNING: All log messages before absl::InitializeLog() is called are written to STDERR\n",
      "I0000 00:00:1696214234.706429   39646 tfrt_cpu_pjrt_client.cc:349] TfrtCpuClient created.\n"
     ]
    }
   ],
   "source": [
    "import genjax\n",
    "from dataclasses import dataclass\n",
    "from genjax import dippl\n",
    "from genjax import gensp\n",
    "from genjax import select, dirac\n",
    "import equinox as eqx\n",
    "import optax\n",
    "import jax\n",
    "import jax.numpy as jnp\n",
    "import jax.tree_util as jtu\n",
    "from jax import config\n",
    "import adevjax\n",
    "from datasets import *\n",
    "import seaborn as sns\n",
    "import matplotlib.pyplot as plt\n",
    "import itertools\n",
    "from tqdm import tqdm\n",
    "\n",
    "config.update(\"jax_debug_nans\", True)\n",
    "console = genjax.pretty(show_locals=False)\n",
    "key = jax.random.PRNGKey(314159)\n",
    "\n",
    "# Plotting.\n",
    "sns.set_theme(style=\"white\")\n",
    "\n",
    "# Data.\n",
    "train_images, _, _, _ = mnist()\n",
    "train_images = jnp.where(train_images > 0.5, 1.0, 0.0)\n",
    "\n",
    "\n",
    "def dataloader(image_array, batch_size):\n",
    "    dataset_size = len(train_images)\n",
    "    indices = np.arange(dataset_size)\n",
    "    while True:\n",
    "        perm = np.random.permutation(indices)\n",
    "        start = 0\n",
    "        end = batch_size\n",
    "        while end <= dataset_size:\n",
    "            batch_perm = perm[start:end]\n",
    "            yield image_array[batch_perm]\n",
    "            start = end\n",
    "            end = start + batch_size"
   ]
  },
  {
   "cell_type": "markdown",
   "id": "c60ebca8-6572-46f3-8bb9-ccf028098347",
   "metadata": {},
   "source": [
    "## Visualize some of the data examples"
   ]
  },
  {
   "cell_type": "code",
   "execution_count": 3,
   "id": "3eba6282-b772-497f-9a92-b17315ace612",
   "metadata": {
    "tags": []
   },
   "outputs": [
    {
     "data": {
      "text/html": [
       "<pre style=\"white-space:pre;overflow-x:auto;line-height:normal;font-family:Menlo,'DejaVu Sans Mono',consolas,'Courier New',monospace\"></pre>\n"
      ],
      "text/plain": []
     },
     "metadata": {},
     "output_type": "display_data"
    },
    {
     "data": {
      "image/svg+xml": [
       "<?xml version=\"1.0\" encoding=\"utf-8\" standalone=\"no\"?>\n",
       "<!DOCTYPE svg PUBLIC \"-//W3C//DTD SVG 1.1//EN\"\n",
       "  \"http://www.w3.org/Graphics/SVG/1.1/DTD/svg11.dtd\">\n",
       "<svg xmlns:xlink=\"http://www.w3.org/1999/xlink\" width=\"459.952941pt\" height=\"457.92pt\" viewBox=\"0 0 459.952941 457.92\" xmlns=\"http://www.w3.org/2000/svg\" version=\"1.1\">\n",
       " <metadata>\n",
       "  <rdf:RDF xmlns:dc=\"http://purl.org/dc/elements/1.1/\" xmlns:cc=\"http://creativecommons.org/ns#\" xmlns:rdf=\"http://www.w3.org/1999/02/22-rdf-syntax-ns#\">\n",
       "   <cc:Work>\n",
       "    <dc:type rdf:resource=\"http://purl.org/dc/dcmitype/StillImage\"/>\n",
       "    <dc:date>2023-10-01T22:37:15.961765</dc:date>\n",
       "    <dc:format>image/svg+xml</dc:format>\n",
       "    <dc:creator>\n",
       "     <cc:Agent>\n",
       "      <dc:title>Matplotlib v3.8.0, https://matplotlib.org/</dc:title>\n",
       "     </cc:Agent>\n",
       "    </dc:creator>\n",
       "   </cc:Work>\n",
       "  </rdf:RDF>\n",
       " </metadata>\n",
       " <defs>\n",
       "  <style type=\"text/css\">*{stroke-linejoin: round; stroke-linecap: butt}</style>\n",
       " </defs>\n",
       " <g id=\"figure_1\">\n",
       "  <g id=\"patch_1\">\n",
       "   <path d=\"M 0 457.92 \n",
       "L 459.952941 457.92 \n",
       "L 459.952941 0 \n",
       "L 0 0 \n",
       "z\n",
       "\" style=\"fill: #ffffff\"/>\n",
       "  </g>\n",
       "  <g id=\"axes_1\">\n",
       "   <g clip-path=\"url(#pa39d7b493f)\">\n",
       "    <image xlink:href=\"data:image/png;base64,\n",
       "iVBORw0KGgoAAAANSUhEUgAAALYAAAC2CAYAAAB08HcEAAACpElEQVR4nO3d0W3jMBRFQSpw/y07FUQfBCNRRzMNJAscPGAvaOcYY3wHxPzc/QvAfxA2ScImSdgkCZskYZMkbJKETZKwSRI2ScImSdgkCZskYZMkbJKETZKwSRI2ScIm6XPVD/p+n/fRyuM47v4VmORikyRskoRNkrBJEjZJx7j5m6CeuJacsaTswcUmSdgkCZskYZMkbJKETdLtc9+Mp06EpsDruNgkCZskYZMkbJKETdIjV5HVdl5ZLClzXGyShE2SsEkSNknCJknYJJn7JpkI9+ZikyRskoRNkrBJEjZJVpHFdl5LztSWFBebJGGTJGyShE2SsEkSNkmX/Tm8t5iZzZ46Ee7MxSZJ2CQJmyRhkyRskqwiG7CkrOdikyRskoRNkrBJEjZJwiZJ2CQJmyRhkyRskoRNkrBJ8ghqA1c9aKp929MZF5skYZMkbJKETZKwSRI2Sea+C62c9d403c1wsUkSNknCJknYJAmbJKvIYqsfNFk/5rjYJAmbJGGTJGyShE2SsEky902amfVMd9dxsUkSNknCJknYJAmbJKvICX9y7rlcbJKETZKwSRI2ScImSdgkmfsW89BpDy42ScImSdgkCZskYZP0mlXk7EHTyiWj9nOeysUmSdgkCZskYZMkbJKETdIxxkh9sM/nFM19Y7jYRAmbJGGTJGyShE2SsEkSNknCJknYJAmbJGGTJGySco+gVvKgas4Oj7BcbJKETZKwSRI2ScIm6TXfBDVjh//d/2VmsTn799QWIBebJGGTJGyShE2SsEkSNkkeQZHkYpMkbJKETZKwSRI2ScImSdgkCZskYZMkbJKETZKwSRI2ScImSdgkCZskYZMkbJKETZKwSRI2ScImSdgkCZskYZMkbJKETZKwSRI2ScImSdgk/QLyWUZxBlDwWQAAAABJRU5ErkJggg==\" id=\"image47b2df1432\" transform=\"scale(1 -1) translate(0 -131.04)\" x=\"7.2\" y=\"-6.607059\" width=\"131.04\" height=\"131.04\"/>\n",
       "   </g>\n",
       "  </g>\n",
       "  <g id=\"axes_2\">\n",
       "   <g clip-path=\"url(#pa315a8dd44)\">\n",
       "    <image xlink:href=\"data:image/png;base64,\n",
       "iVBORw0KGgoAAAANSUhEUgAAALYAAAC2CAYAAAB08HcEAAACoklEQVR4nO3d0W3jMBRFQWqR/lv2ViAFEBSZPJxpIEZw8D4uZPkYY3wGxPz79geAvyBskoRNkrBJEjZJwiZJ2CQJmyRhkyRskoRNkrBJEjZJwiZJ2CQJmyRhkyRskoRNkrBJEjZJwiZJ2CQJmyRhk/Tz7Q8ws8/nnZdkHcfxyt/ZiYtNkrBJEjZJwiZJ2CQJm6RjLPji96sZ7mw6e2u6e5op8B4XmyRhkyRskoRNkrBJyq0iu7CWXHOxSRI2ScImSdgkCZskYZM09dz35Kw3wzzmO5TvcbFJEjZJwiZJ2CQJm6SpV5Ezd74aNrOn15IV/wdPc7FJEjZJwiZJ2CQJmyRhk7Tki9/NWfzGxSZJ2CQJmyRhkyRskpZ8CGonta/HvcXFJknYJAmbJGGTJGyShE2SsEkSNknCJknYJAmbJGGTJGyShE2SsEkSNknCJknYJAmbpCXfBDWDt37ajntcbJKETZKwSRI2ScImySpywfKxLhebJGGTJGyShE2SsEkSNknmvqCdXvB+xsUmSdgkCZskYZMkbJKsIhfurAsenJqDi02SsEkSNknCJknYJAmbpGOMYZ96ybenwJ0ejnKxSRI2ScImSdgkCZskD0E97NvLxxh7rR9nXGyShE2SsEkSNknCJknYJJn7bpph1uOci02SsEkSNknCJknYJFlFgs4Wm50ejnKxSRI2ScImSdgkCZskYZNk7ruw6oNOO816Z1xskoRNkrBJEjZJwibJKrIoy8c1F5skYZMkbJKETZKwSRI2SX4O72F3Hpwy3T3PxSZJ2CQJmyRhkyRskqwiJLnYJAmbJGGTJGyShE2SsEkSNknCJknYJAmbJGGTJGyShE2SsEkSNknCJknYJAmbJGGTJGyShE2SsEkSNknCJknYJP0HtepAcaf1LNsAAAAASUVORK5CYII=\" id=\"imagefc732d0adc\" transform=\"scale(1 -1) translate(0 -131.04)\" x=\"164.752941\" y=\"-6.607059\" width=\"131.04\" height=\"131.04\"/>\n",
       "   </g>\n",
       "  </g>\n",
       "  <g id=\"axes_3\">\n",
       "   <g clip-path=\"url(#pb65e22583b)\">\n",
       "    <image xlink:href=\"data:image/png;base64,\n",
       "iVBORw0KGgoAAAANSUhEUgAAALYAAAC2CAYAAAB08HcEAAAClElEQVR4nO3dgW2DQBQFwSNK/y07FYAVhI9jPVOB5ay+lCdCtjHGa0DMz90fAD5B2CQJmyRhkyRskoRNkrBJEjZJwiZJ2CQJmyRhkyRskoRNkrBJEjZJwiZJ2CQJmyRhkyRskoRNkrBJEjZJwibp9+4PwBper/+/EGzbtg98kmu42CQJmyRhkyRskoRNkrBJMvd9kTOT3lO52CQJmyRhkyRskoRNklUk6JvWjz0uNknCJknYJAmbJGGTJGySzH0PZdI75mKTJGyShE2SsEkSNklWEQ6t/LanIy42ScImSdgkCZskYZMkbJIeOfdd/QDQUyct9rnYJAmbJGGTJGyShE3SI1eRq9X+FRwuNlHCJknYJAmbJGGTJGySzH0nzXoTk1nxHBebJGGTJGyShE2SsEmyiizOe7DPcbFJEjZJwiZJ2CQJmyRhk7T03Gfqmqf2sJWLTZKwSRI2ScImSdgkLb2KXGnWb/2WnDW42CQJmyRhkyRskoRNkrBJun3uq81jV8+Kte9nFhebJGGTJGyShE2SsEm6fRXh2N7KYi055mKTJGyShE2SsEkSNknCJik399XeaMQ5LjZJwiZJ2CQJmyRhkzRtFfHQDjO52CQJmyRhkyRskoRNkrBJunTumzXpedCJd1xskoRNkrBJEjZJwiZp6T8Ns37sO/puPHDmYhMlbJKETZKwSRI2ScIm6fa5z6THJ7jYJAmbJGGTJGyShE3SpauIhWNt3/TzcbFJEjZJwiZJ2CQJmyRhkyRskoRNkrBJEjZJwiZJ2CRtYwyvDSLHxSZJ2CQJmyRhkyRskoRNkrBJEjZJwiZJ2CQJmyRhkyRskoRNkrBJEjZJwiZJ2CQJmyRhkyRskoRNkrBJEjZJwibpD1g+M48upC7+AAAAAElFTkSuQmCC\" id=\"image107ab3d971\" transform=\"scale(1 -1) translate(0 -131.04)\" x=\"322.305882\" y=\"-6.607059\" width=\"131.04\" height=\"131.04\"/>\n",
       "   </g>\n",
       "  </g>\n",
       "  <g id=\"axes_4\">\n",
       "   <g clip-path=\"url(#paa04021c86)\">\n",
       "    <image xlink:href=\"data:image/png;base64,\n",
       "iVBORw0KGgoAAAANSUhEUgAAALYAAAC2CAYAAAB08HcEAAACn0lEQVR4nO3dQW6EMBAAQRPl/1/evACkWA6YTtU9EYfWHEYDe4wxPgNivp5+APgLwiZJ2CQJmyRhkyRskoRNkrBJEjZJwiZJ2CQJmyRhkyRskoRNkrBJEjZJwiZJ2CQJmyRhkyRskoRNkrBJEjZJwiZJ2CQJmyRhkyRskoRNkrBJ+n76AZjz+az9Xv9xHEv/39NMbJKETZKwSRI2ScIm6Rh+Du82qzcZT9t5k2JikyRskoRNkrBJEjZJwibJEdRitZXeW5nYJAmbJGGTJGyShE2Srcjm7jo0mtnmnP3NDsdRJjZJwiZJ2CQJmyRhkyRskqz7NrDDeuzsGd561GVikyRskoRNkrBJEjZJtiKLXW043rpheCMTmyRhkyRskoRNkrBJEjZJPvy+gas14M7vPO5wvHXGxCZJ2CQJmyRhkyRskhxBbWDmcGpmI/GfjrBMbJKETZKwSRI2ScImSdgkOYIa/2sN9ls7HzpdMbFJEjZJwiZJ2CQJmyRHUIwx3rv9OGNikyRskoRNkrBJEjZJwibJEdSkuw6namu4u5jYJAmbJGGTJGyShE2SrchitiV7MLFJEjZJwiZJ2CQJmyRhk7T0ncfaT6rNmPmIO+uZ2CQJmyRhkyRskoRN0uNfgtphU1DbzGBiEyVskoRNkrBJEjZJwibptnced1jrlVhRXjOxSRI2ScImSdgkCZuk3JegatsX2485JjZJwiZJ2CQJmyRhkyRsknLrPhjDxCZK2CQJmyRhkyRskoRNkrBJEjZJwiZJ2CQJmyRhkyRskoRNkrBJEjZJwiZJ2CQJmyRhkyRskoRNkrBJEjZJwiZJ2CQJmyRhkyRskoRNkrBJEjZJwiZJ2CQJmyRhkyRskoRNkrBJEjZJwiZJ2CQJmyRhk/QDiAFDcGHnL2cAAAAASUVORK5CYII=\" id=\"image239d28c0e7\" transform=\"scale(1 -1) translate(0 -131.04)\" x=\"7.2\" y=\"-163.143529\" width=\"131.04\" height=\"131.04\"/>\n",
       "   </g>\n",
       "  </g>\n",
       "  <g id=\"axes_5\">\n",
       "   <g clip-path=\"url(#pb976bf9eb9)\">\n",
       "    <image xlink:href=\"data:image/png;base64,\n",
       "iVBORw0KGgoAAAANSUhEUgAAALYAAAC2CAYAAAB08HcEAAACS0lEQVR4nO3dQQ7CIBRAQTDe/8p4AdvERm19ziy7YvHyFwToHGOsATG3sxcAnyBskoRNkrBJEjZJwiZJ2CQJmyRhkyRskoRNkrBJEjZJwiZJ2CQJmyRhkyRskoRN0v3sBdSs9foV0jnnB1by30xskoRNkrBJEjZJwibJrshBR3Y/+B4TmyRhkyRskoRNkrBJEjZJwiZJ2CQJmyRhkyRskoRNkrBJEjZJwiZJ2CQJmyRhkyRsktx5PGjr9SZ3Ia/BxCZJ2CQJmyRhkyRskuyKXMDeToq3s48xsUkSNknCJknYJAmbJGGTJGyShE2SsEkSNknCJknYJAmbJGGTJGyShE2SsEkSNknCJknYJAmbJGGTJGyShE2SsEkSNknCJknYJAmbJGGTJGyShE2SsEkSNknCJknYJAmbJGGTJGyShE2SsEkSNknCJknYJAmbpPvZC2DfWuvp9znnl1fyW0xskoRNkrBJEjZJwiZJ2CQJmyRhkyRskoRNkrBJEjZJDkG92d7hpK0DTbyfiU2SsEkSNknCJknYJAmbJGGTJGyShE2SsEkSNknCJknYJAmbJGGTJGyShE2SsEkSNknCJknYJAmbJGGTJGyShE2SsEkSNknCJknYJAmbJGGT5H3si9t7b5ttJjZJwiZJ2CQJmyRhkyRskuYYwz/ayDGxSRI2ScImSdgkCZskYZMkbJKETZKwSRI2ScImSdgkCZskYZMkbJKETZKwSRI2ScImSdgkCZskYZMkbJKETZKwSRI2ScImSdgkCZskYZMkbJIeErUVd1DPp/0AAAAASUVORK5CYII=\" id=\"image821285b138\" transform=\"scale(1 -1) translate(0 -131.04)\" x=\"164.752941\" y=\"-163.143529\" width=\"131.04\" height=\"131.04\"/>\n",
       "   </g>\n",
       "  </g>\n",
       "  <g id=\"axes_6\">\n",
       "   <g clip-path=\"url(#pf0b338ad91)\">\n",
       "    <image xlink:href=\"data:image/png;base64,\n",
       "iVBORw0KGgoAAAANSUhEUgAAALYAAAC2CAYAAAB08HcEAAACl0lEQVR4nO3d0W3jMBRFQSpI/y0rFVgfAkPRRzMNrBEcPGAvZPkYY5wDYn6e/gDwH4RNkrBJEjZJwiZJ2CQJmyRhkyRskoRNkrBJEjZJwiZJ2CQJmyRhkyRskoRNkrBJEjZJwiZJ2CQJmyRhkyRskn6f/gA7OM81L8M6jmPJv4OLTZSwSRI2ScImSdgkCZukY7zkxe+rJr1VTIfXXGyShE2SsEkSNknCJim3isxcP+4sDzusLxYTF5soYZMkbJKETZKwSRI2Sea+sfc89vR8+a1cbJKETZKwSRI2ScIm6TWrSG0RmP2wVe3v42KTJGyShE2SsEkSNknCJik399F7EOwOF5skYZMkbJKETZKwSfJzeEGfFo4d3lK1iotNkrBJEjZJwiZJ2CQJmyRhkyRskoRNkrBJEjZJwiZJ2CQJmyRhkyRskoRNkrBJEjZJvvMY9KbvNn7iYpMkbJKETZKwSRI2SVaRC7X3TO/82WZzsUkSNknCJknYJAmbJGGTZO6bzANIe3CxSRI2ScImSdgkCZukY4zhv/ETrVpF3vRA0x0uNknCJknYJAmbJGGTJGySzH0L1b5DuTMXmyRhkyRskoRNkrBJsopswFoyn4tNkrBJEjZJwiZJ2CQJmyRz3+ZMgfe42CQJmyRhkyRskoRNkrBJEjZJwiZJ2CQJmyRhkyRsknI/hzfzxeseJvpeLjZJwiZJ2CQJmyRhk/Sar4at+pm6VSw211xskoRNkrBJEjZJwiZJ2CS9Zu6b7dN8eDXDeavTOi42ScImSdgkCZskYZNkFSHJxSZJ2CQJmyRhkyRskoRNkrBJEjZJwiZJ2CQJmyRhkyRskoRNkrBJEjZJwiZJ2CQJmyRhkyRskoRNkrBJEjZJwibpD7lfTVwWYhYBAAAAAElFTkSuQmCC\" id=\"image643dba9d31\" transform=\"scale(1 -1) translate(0 -131.04)\" x=\"322.305882\" y=\"-163.143529\" width=\"131.04\" height=\"131.04\"/>\n",
       "   </g>\n",
       "  </g>\n",
       "  <g id=\"axes_7\">\n",
       "   <g clip-path=\"url(#pe84770b2fb)\">\n",
       "    <image xlink:href=\"data:image/png;base64,\n",
       "iVBORw0KGgoAAAANSUhEUgAAALYAAAC2CAYAAAB08HcEAAACmUlEQVR4nO3dUW6DMBBAQVP1/ldOT4ClIgLmMXOACCVP+7GyyTbG+AyI+bn7AeAbhE2SsEkSNknCJknYJAmbJGGTJGyShE2SsEkSNknCJknYJAmbJGGTJGyShE2SsEkSNknCJknYJAmbJGGTJGyShE2SsEkSNknCJknYJAmbJGGTJGyShE2SsEkSNknCJknYJP3e/QCs4fP5/78ibtv2hSc5h4lNkrBJEjZJwiZJ2CQJmyRhkyRskoRNkrBJEjZJwiZJ2CQJmyRhkyRskoRNkrBJEjZJuTuPR+7u7Vn5Th9zJjZJwiZJ2CQJmyRhk7SNMc5bIxxw5haDNaywTTKxSRI2ScImSdgkCZskYZN02SEoaz2uZGKTJGyShE2SsEkSNkm5q2F3H8Cx/Zl/B1f9PiY2ScImSdgkCZskYZMkbJIeue67e6U3s/KzzdTWlCY2ScImSdgkCZskYZP0yK0Ia1thM2RikyRskoRNkrBJEjZJwibpsnXf3groyOGbFe7UsTYTmyRhkyRskoRNkrBJcgjqRWrXv2ZMbJKETZKwSRI2ScImSdgkbWOMZXdAZ66nHI46f9238ndqYpMkbJKETZKwSRI2Sa85BOU62buY2CQJmyRhkyRskoRNkrBJWnrdd+bbo2b2Ps8a8LlMbJKETZKwSRI2ScImaemtyJ7ZtuJNbztin4lNkrBJEjZJwiZJ2CQJm6RHrvtmrjo49RZPPQhmYpMkbJKETZKwSRI2SUu/HxuOMrFJEjZJwiZJ2CQJmyRhkyRskoRNkrBJEjZJwiZJ2CQJmyRhkyRskoRNkrBJEjZJwiZJ2CQJmyRhkyRskoRNkrBJEjZJwiZJ2CQJmyRhkyRskoRNkrBJEjZJwiZJ2CQJmyRhk/QHS0s4gPbHarEAAAAASUVORK5CYII=\" id=\"image62815b6476\" transform=\"scale(1 -1) translate(0 -131.04)\" x=\"7.2\" y=\"-319.68\" width=\"131.04\" height=\"131.04\"/>\n",
       "   </g>\n",
       "  </g>\n",
       "  <g id=\"axes_8\">\n",
       "   <g clip-path=\"url(#p9def6291b1)\">\n",
       "    <image xlink:href=\"data:image/png;base64,\n",
       "iVBORw0KGgoAAAANSUhEUgAAALYAAAC2CAYAAAB08HcEAAACgUlEQVR4nO3cwY2DQBQFwZmV80+ZjQAOCJuhqQrA4tD6hyfMHGNsA2L+7n4A+AZhkyRskoRNkrBJEjZJwiZJ2CQJmyRhkyRskoRNkrBJEjZJwiZJ2CQJmyRhkyRskoRNkrBJEjZJwiZJ2CQJmyRhkyRskoRNkrBJEjZJwiZJ2CR97n6AlW3b/d/En3Pe/QiP5GKTJGyShE2SsEkSNklWkcWdWWYsKS42UcImSdgkCZskYZMkbJLMfUF7E+GbZkAXmyRhkyRskoRNkrBJmmOM+///9EAr/G3sF566pLjYJAmbJGGTJGyShE2SsEnyEtTizsxtb5kij7jYJAmbJGGTJGyShE2SVeSkvbXCl5vW4GKTJGyShE2SsEkSNknCJsncF2Q+dLGJEjZJwiZJ2CQJmyRhkyRskoRNkrBJEjZJwiZJ2CQJmyRhkyRskoRNkrBJEjZJwiZJ2CQJmyRhkyRskoRNkrBJEjZJwiZJ2CQJmyRhkyRskoRNkrBJEjZJwiZJ2CQJmyRhkyRskoRNkrBJEjZJwiZJ2CR97n6AX9m27dLfm3Ne+ntcy8UmSdgkCZskYZMkbJKETdIcY1y7gy3q6rnvV8yK57jYJAmbJGGTJGyShE3Sa16COloXnrqYsM/FJknYJAmbJGGTJGyShE3Sa+a+I3tToBnwuVxskoRNkrBJEjZJwibJKnLAi1PP5WKTJGyShE2SsEkSNknCJsncd5IXp9bmYpMkbJKETZKwSRI2Sa/5PvYK9hYT38C+notNkrBJEjZJwiZJ2CQJmyRzH0kuNknCJknYJAmbJGGTJGyShE2SsEkSNknCJknYJAmbJGGTJGyShE2SsEkSNknCJukfLSEtf+UupR8AAAAASUVORK5CYII=\" id=\"imageb28a112646\" transform=\"scale(1 -1) translate(0 -131.04)\" x=\"164.752941\" y=\"-319.68\" width=\"131.04\" height=\"131.04\"/>\n",
       "   </g>\n",
       "  </g>\n",
       "  <g id=\"axes_9\">\n",
       "   <g clip-path=\"url(#p7843fc7e73)\">\n",
       "    <image xlink:href=\"data:image/png;base64,\n",
       "iVBORw0KGgoAAAANSUhEUgAAALYAAAC2CAYAAAB08HcEAAACwUlEQVR4nO3cW2rkQBQFwZLx/rfcXoEELcp6ZEX8z2BMcsEHSdsY4zMg5ufuHwD+g7BJEjZJwiZJ2CQJmyRhkyRskoRNkrBJEjZJwiZJ2CQJmyRhkyRskoRNkrBJEjZJwiZJ2CQJmyRhkyRskoRN0u/dP0DN5zP3w1rbtk39/1bhYpMkbJKETZKwSRI2ScImaRs+/L5r9nR3FROhi02UsEkSNknCJknYJFlFxnXrx95a8YT1pbakuNgkCZskYZMkbJKETZKwSVrmnce7J73Z/+YJE+GTudgkCZskYZMkbJKETdIyD0GdWRHe+mDQzMXkrb8DF5skYZMkbJKETZKwSRI2Scs8BHXkrZPWnie/W3kVF5skYZMkbJKETZKwScqtIiv95f+to/Wn9ntzsUkSNknCJknYJAmbJGGTlJv7PADEGC42UcImSdgkCZskYZOUW0XYt9Iy5GKTJGyShE2SsEkSNknCJknYJAmbJGGTJGyShE2SsEla5iGoM19Bqn03eyUuNknCJknYJAmbJGGTJGyStjHGOi/CTVR7f7A2bbrYJAmbJGGTJGyShE2SVWT0Fo6Z3rqWuNgkCZskYZMkbJKETZKwSVrmncerXDWPmSiPudgkCZskYZMkbJKETZJV5KS7Hw4682WrlbjYJAmbJGGTJGyShE2SsEky9wXtTYFHM+Dd8+VsLjZJwiZJ2CQJmyRhk+RLUGPuQ0NPeDWstnCc4WKTJGyShE2SsEkSNknCJslDUEF7U+BKM6CLTZKwSRI2ScImSdgkeQjqwFu/qLTS+rHHxSZJ2CQJmyRhkyRskoRNkrnvpLunQJPeMRebJGGTJGyShE2SsEmyipDkYpMkbJKETZKwSRI2ScImSdgkCZskYZMkbJKETZKwSRI2ScImSdgkCZskYZMkbJKETZKwSRI2ScImSdgkCZskYZP0B2+zU3UL9lmcAAAAAElFTkSuQmCC\" id=\"image6927bb55bb\" transform=\"scale(1 -1) translate(0 -131.04)\" x=\"322.305882\" y=\"-319.68\" width=\"131.04\" height=\"131.04\"/>\n",
       "   </g>\n",
       "  </g>\n",
       " </g>\n",
       " <defs>\n",
       "  <clipPath id=\"pa39d7b493f\">\n",
       "   <rect x=\"7.2\" y=\"7.2\" width=\"130.447059\" height=\"130.447059\"/>\n",
       "  </clipPath>\n",
       "  <clipPath id=\"pa315a8dd44\">\n",
       "   <rect x=\"164.752941\" y=\"7.2\" width=\"130.447059\" height=\"130.447059\"/>\n",
       "  </clipPath>\n",
       "  <clipPath id=\"pb65e22583b\">\n",
       "   <rect x=\"322.305882\" y=\"7.2\" width=\"130.447059\" height=\"130.447059\"/>\n",
       "  </clipPath>\n",
       "  <clipPath id=\"paa04021c86\">\n",
       "   <rect x=\"7.2\" y=\"163.736471\" width=\"130.447059\" height=\"130.447059\"/>\n",
       "  </clipPath>\n",
       "  <clipPath id=\"pb976bf9eb9\">\n",
       "   <rect x=\"164.752941\" y=\"163.736471\" width=\"130.447059\" height=\"130.447059\"/>\n",
       "  </clipPath>\n",
       "  <clipPath id=\"pf0b338ad91\">\n",
       "   <rect x=\"322.305882\" y=\"163.736471\" width=\"130.447059\" height=\"130.447059\"/>\n",
       "  </clipPath>\n",
       "  <clipPath id=\"pe84770b2fb\">\n",
       "   <rect x=\"7.2\" y=\"320.272941\" width=\"130.447059\" height=\"130.447059\"/>\n",
       "  </clipPath>\n",
       "  <clipPath id=\"p9def6291b1\">\n",
       "   <rect x=\"164.752941\" y=\"320.272941\" width=\"130.447059\" height=\"130.447059\"/>\n",
       "  </clipPath>\n",
       "  <clipPath id=\"p7843fc7e73\">\n",
       "   <rect x=\"322.305882\" y=\"320.272941\" width=\"130.447059\" height=\"130.447059\"/>\n",
       "  </clipPath>\n",
       " </defs>\n",
       "</svg>\n"
      ],
      "text/plain": [
       "\u001b[1m<\u001b[0m\u001b[1;95mFigure\u001b[0m\u001b[39m size 80\u001b[0m\u001b[1;36m0x800\u001b[0m\u001b[39m with \u001b[0m\u001b[1;36m9\u001b[0m\u001b[39m Axes\u001b[0m\u001b[1m>\u001b[0m"
      ]
     },
     "metadata": {},
     "output_type": "display_data"
    }
   ],
   "source": [
    "fig, axs = plt.subplots(nrows=3, ncols=3, figsize=(8, 8))\n",
    "counter = 0\n",
    "for (i, j) in itertools.product(range(0, 3), range(0, 3)):\n",
    "    sub_axis = axs[i, j]\n",
    "    sub_axis.set_axis_off()\n",
    "    sub_axis.imshow(train_images[counter].reshape(28, 28) / 255.0, cmap=\"gray\")\n",
    "    counter += 10"
   ]
  },
  {
   "cell_type": "markdown",
   "id": "073131cf-e948-48a9-ad34-7bec2b3e1566",
   "metadata": {},
   "source": [
    "## Gradients using `DIPPL`"
   ]
  },
  {
   "cell_type": "code",
   "execution_count": 4,
   "id": "ea2f6d0f-997b-41de-85eb-0bfde6e83b3b",
   "metadata": {
    "tags": []
   },
   "outputs": [],
   "source": [
    "@genjax.gen\n",
    "def decoder_model(decoder):\n",
    "    latent = dippl.mv_normal_diag_reparam(jnp.zeros(10), jnp.ones(10)) @ \"latent\"\n",
    "    image = decoder(latent)\n",
    "    noisy_image = dippl.mv_normal_diag_reparam(image, jnp.ones(784)) @ \"image\"\n",
    "\n",
    "\n",
    "@genjax.gen\n",
    "def encoder_model(encoder, chm):\n",
    "    image = chm.get_leaf_value()[\"image\"]\n",
    "    μ, Σ_diag = encoder(image)\n",
    "    x = dippl.mv_normal_diag_reparam(μ, jnp.ones_like(μ)) @ \"latent\"\n",
    "\n",
    "\n",
    "decoder_model = gensp.choice_map_distribution(\n",
    "    decoder_model, select(\"latent\", \"image\"), None\n",
    ")\n",
    "encoder_model = gensp.choice_map_distribution(encoder_model, select(\"latent\"), None)\n",
    "\n",
    "# Define our gradient estimator using our loss language.\n",
    "def variational_value_and_grad(\n",
    "    key,\n",
    "    data,\n",
    "    encoder,\n",
    "    decoder,\n",
    "):\n",
    "    v_chm = genjax.value_choice_map(genjax.choice_map({\"image\": data}))\n",
    "\n",
    "    @dippl.loss\n",
    "    def vae_loss(encoder, decoder):\n",
    "        v = dippl.upper(encoder_model)(encoder, v_chm)\n",
    "        merged = gensp.merge(v, v_chm)\n",
    "        dippl.lower(decoder_model)(merged, decoder)\n",
    "\n",
    "    return vae_loss.value_and_grad_estimate(key, (encoder, decoder))\n",
    "\n",
    "\n",
    "def minibatch_value_and_grad(key, data, encoder, decoder):\n",
    "    sub_keys = jax.random.split(key, len(data))\n",
    "    loss, (encoder_grad, decoder_grad) = jax.vmap(\n",
    "        variational_value_and_grad, in_axes=(0, 0, None, None)\n",
    "    )(sub_keys, data, encoder, decoder)\n",
    "    encoder_grad, decoder_grad = jtu.tree_map(\n",
    "        lambda v: jnp.mean(v, axis=0), (encoder_grad, decoder_grad)\n",
    "    )\n",
    "    loss = jnp.mean(loss)\n",
    "    return loss, (encoder_grad, decoder_grad)"
   ]
  },
  {
   "cell_type": "markdown",
   "id": "80e39d6d-c414-48a3-aba5-f745da5df392",
   "metadata": {},
   "source": [
    "## Encoder/decoder architectures"
   ]
  },
  {
   "cell_type": "code",
   "execution_count": 5,
   "id": "30be6a31-f260-4652-a138-3970b3f0935b",
   "metadata": {
    "tags": []
   },
   "outputs": [],
   "source": [
    "@dataclass\n",
    "class EncoderNetwork(genjax.Pytree):\n",
    "    latent_dim: genjax.typing.Int\n",
    "    layers: genjax.typing.List\n",
    "\n",
    "    def flatten(self):\n",
    "        return (self.layers,), (self.latent_dim,)\n",
    "\n",
    "    def new(key, latent_dim):\n",
    "        key, sub_key = jax.random.split(key)\n",
    "        conv_1 = eqx.nn.Conv2d(\n",
    "            in_channels=1, out_channels=32, kernel_size=3, stride=(2, 2), key=sub_key\n",
    "        )\n",
    "        key, sub_key = jax.random.split(key)\n",
    "        conv_2 = eqx.nn.Conv2d(\n",
    "            in_channels=32, out_channels=64, kernel_size=3, stride=(2, 2), key=sub_key\n",
    "        )\n",
    "        dense = eqx.nn.Linear(\n",
    "            in_features=2304, out_features=latent_dim + latent_dim, key=key\n",
    "        )\n",
    "        layers = [conv_1, conv_2, dense]\n",
    "        return EncoderNetwork(latent_dim, layers)\n",
    "\n",
    "    def __call__(self, v):\n",
    "        v = v.reshape(1, 28, 28)\n",
    "        for layer in self.layers[:-1]:\n",
    "            v = jax.nn.relu(layer(v))\n",
    "        v = v.flatten()\n",
    "        v = self.layers[-1](v)  # Dense\n",
    "        mu = v[0 : self.latent_dim]\n",
    "        sigma = v[self.latent_dim :]\n",
    "        return mu, jnp.exp(0.5 * sigma)\n",
    "\n",
    "\n",
    "@dataclass\n",
    "class DecoderNetwork(genjax.Pytree):\n",
    "    layers: genjax.typing.List\n",
    "\n",
    "    def flatten(self):\n",
    "        return (self.layers,), ()\n",
    "\n",
    "    def new(key, latent_dim):\n",
    "        key, sub_key = jax.random.split(key)\n",
    "        dense = eqx.nn.Linear(\n",
    "            in_features=latent_dim, out_features=6 * 6 * 32, key=sub_key\n",
    "        )\n",
    "        key, sub_key = jax.random.split(key)\n",
    "        conv_tr_1 = eqx.nn.ConvTranspose2d(\n",
    "            in_channels=32, out_channels=64, kernel_size=3, stride=2, key=sub_key\n",
    "        )\n",
    "        key, sub_key = jax.random.split(key)\n",
    "        conv_tr_2 = eqx.nn.ConvTranspose2d(\n",
    "            in_channels=64, out_channels=32, kernel_size=3, stride=2, key=sub_key\n",
    "        )\n",
    "        conv_tr_3 = eqx.nn.ConvTranspose2d(\n",
    "            in_channels=32, out_channels=1, kernel_size=2, stride=1, key=key\n",
    "        )\n",
    "        layers = [dense, conv_tr_1, conv_tr_2, conv_tr_3]\n",
    "        return DecoderNetwork(layers)\n",
    "\n",
    "    def __call__(self, v):\n",
    "        v = jax.nn.relu(self.layers[0](v))\n",
    "        v = v.reshape(32, 6, 6)\n",
    "        for layer in self.layers[1:]:\n",
    "            v = jax.nn.relu(layer(v))\n",
    "        v = v.reshape(784)\n",
    "        return v"
   ]
  },
  {
   "cell_type": "markdown",
   "id": "abae32d0-3d4c-438a-8e69-516bb26687e9",
   "metadata": {},
   "source": [
    "## Training"
   ]
  },
  {
   "cell_type": "code",
   "execution_count": 6,
   "id": "e1a0c76f-b3a9-4384-ab2e-dcff5a34ee32",
   "metadata": {
    "tags": []
   },
   "outputs": [
    {
     "name": "stderr",
     "output_type": "stream",
     "text": [
      "33it [00:01, 23.80it/s]"
     ]
    },
    {
     "name": "stdout",
     "output_type": "stream",
     "text": [
      "-766.9027099609375\n"
     ]
    },
    {
     "name": "stderr",
     "output_type": "stream",
     "text": [
      "1049it [00:05, 309.16it/s]"
     ]
    },
    {
     "name": "stdout",
     "output_type": "stream",
     "text": [
      "-750.2811279296875\n"
     ]
    },
    {
     "name": "stderr",
     "output_type": "stream",
     "text": [
      "2044it [00:08, 290.31it/s]"
     ]
    },
    {
     "name": "stdout",
     "output_type": "stream",
     "text": [
      "-748.7854614257812\n"
     ]
    },
    {
     "name": "stderr",
     "output_type": "stream",
     "text": [
      "3039it [00:12, 310.30it/s]"
     ]
    },
    {
     "name": "stdout",
     "output_type": "stream",
     "text": [
      "-750.8598022460938\n"
     ]
    },
    {
     "name": "stderr",
     "output_type": "stream",
     "text": [
      "4046it [00:15, 310.80it/s]"
     ]
    },
    {
     "name": "stdout",
     "output_type": "stream",
     "text": [
      "-751.12548828125\n"
     ]
    },
    {
     "name": "stderr",
     "output_type": "stream",
     "text": [
      "5049it [00:18, 304.40it/s]"
     ]
    },
    {
     "name": "stdout",
     "output_type": "stream",
     "text": [
      "-747.985595703125\n"
     ]
    },
    {
     "name": "stderr",
     "output_type": "stream",
     "text": [
      "6059it [00:22, 308.65it/s]"
     ]
    },
    {
     "name": "stdout",
     "output_type": "stream",
     "text": [
      "-750.7094116210938\n"
     ]
    },
    {
     "name": "stderr",
     "output_type": "stream",
     "text": [
      "7037it [00:25, 308.87it/s]"
     ]
    },
    {
     "name": "stdout",
     "output_type": "stream",
     "text": [
      "-750.92822265625\n"
     ]
    },
    {
     "name": "stderr",
     "output_type": "stream",
     "text": [
      "8047it [00:28, 304.65it/s]"
     ]
    },
    {
     "name": "stdout",
     "output_type": "stream",
     "text": [
      "-751.9044799804688\n"
     ]
    },
    {
     "name": "stderr",
     "output_type": "stream",
     "text": [
      "9040it [00:31, 301.70it/s]"
     ]
    },
    {
     "name": "stdout",
     "output_type": "stream",
     "text": [
      "-750.094482421875\n"
     ]
    },
    {
     "name": "stderr",
     "output_type": "stream",
     "text": [
      "10037it [00:35, 311.04it/s]"
     ]
    },
    {
     "name": "stdout",
     "output_type": "stream",
     "text": [
      "-749.3777465820312\n"
     ]
    },
    {
     "name": "stderr",
     "output_type": "stream",
     "text": [
      "11044it [00:38, 311.15it/s]"
     ]
    },
    {
     "name": "stdout",
     "output_type": "stream",
     "text": [
      "-750.8597412109375\n"
     ]
    },
    {
     "name": "stderr",
     "output_type": "stream",
     "text": [
      "12033it [00:41, 311.02it/s]"
     ]
    },
    {
     "name": "stdout",
     "output_type": "stream",
     "text": [
      "-750.934326171875\n"
     ]
    },
    {
     "name": "stderr",
     "output_type": "stream",
     "text": [
      "13033it [00:44, 292.60it/s]"
     ]
    },
    {
     "name": "stdout",
     "output_type": "stream",
     "text": [
      "-748.351318359375\n"
     ]
    },
    {
     "name": "stderr",
     "output_type": "stream",
     "text": [
      "14034it [00:48, 305.20it/s]"
     ]
    },
    {
     "name": "stdout",
     "output_type": "stream",
     "text": [
      "-748.467529296875\n"
     ]
    },
    {
     "name": "stderr",
     "output_type": "stream",
     "text": [
      "15046it [00:51, 319.11it/s]"
     ]
    },
    {
     "name": "stdout",
     "output_type": "stream",
     "text": [
      "-751.0203857421875\n"
     ]
    },
    {
     "name": "stderr",
     "output_type": "stream",
     "text": [
      "16049it [00:54, 300.92it/s]"
     ]
    },
    {
     "name": "stdout",
     "output_type": "stream",
     "text": [
      "-749.3019409179688\n"
     ]
    },
    {
     "name": "stderr",
     "output_type": "stream",
     "text": [
      "17040it [00:57, 301.08it/s]"
     ]
    },
    {
     "name": "stdout",
     "output_type": "stream",
     "text": [
      "-751.029052734375\n"
     ]
    },
    {
     "name": "stderr",
     "output_type": "stream",
     "text": [
      "18045it [01:01, 305.98it/s]"
     ]
    },
    {
     "name": "stdout",
     "output_type": "stream",
     "text": [
      "-749.7322998046875\n"
     ]
    },
    {
     "name": "stderr",
     "output_type": "stream",
     "text": [
      "19032it [01:04, 296.08it/s]"
     ]
    },
    {
     "name": "stdout",
     "output_type": "stream",
     "text": [
      "-751.053466796875\n"
     ]
    },
    {
     "name": "stderr",
     "output_type": "stream",
     "text": [
      "20035it [01:07, 301.99it/s]"
     ]
    },
    {
     "name": "stdout",
     "output_type": "stream",
     "text": [
      "-749.9913330078125\n"
     ]
    },
    {
     "name": "stderr",
     "output_type": "stream",
     "text": [
      "21060it [01:11, 300.55it/s]"
     ]
    },
    {
     "name": "stdout",
     "output_type": "stream",
     "text": [
      "-749.4868774414062\n"
     ]
    },
    {
     "name": "stderr",
     "output_type": "stream",
     "text": [
      "22045it [01:14, 307.21it/s]"
     ]
    },
    {
     "name": "stdout",
     "output_type": "stream",
     "text": [
      "-749.78466796875\n"
     ]
    },
    {
     "name": "stderr",
     "output_type": "stream",
     "text": [
      "23038it [01:18, 294.57it/s]"
     ]
    },
    {
     "name": "stdout",
     "output_type": "stream",
     "text": [
      "-750.5079345703125\n"
     ]
    },
    {
     "name": "stderr",
     "output_type": "stream",
     "text": [
      "24031it [01:21, 305.94it/s]"
     ]
    },
    {
     "name": "stdout",
     "output_type": "stream",
     "text": [
      "-749.75048828125\n"
     ]
    },
    {
     "name": "stderr",
     "output_type": "stream",
     "text": [
      "25042it [01:24, 293.25it/s]"
     ]
    },
    {
     "name": "stdout",
     "output_type": "stream",
     "text": [
      "-749.5634765625\n"
     ]
    },
    {
     "name": "stderr",
     "output_type": "stream",
     "text": [
      "26048it [01:28, 284.41it/s]"
     ]
    },
    {
     "name": "stdout",
     "output_type": "stream",
     "text": [
      "-748.5155029296875\n"
     ]
    },
    {
     "name": "stderr",
     "output_type": "stream",
     "text": [
      "27035it [01:31, 299.05it/s]"
     ]
    },
    {
     "name": "stdout",
     "output_type": "stream",
     "text": [
      "-750.3679809570312\n"
     ]
    },
    {
     "name": "stderr",
     "output_type": "stream",
     "text": [
      "28034it [01:35, 292.49it/s]"
     ]
    },
    {
     "name": "stdout",
     "output_type": "stream",
     "text": [
      "-749.639404296875\n"
     ]
    },
    {
     "name": "stderr",
     "output_type": "stream",
     "text": [
      "29045it [01:38, 304.39it/s]"
     ]
    },
    {
     "name": "stdout",
     "output_type": "stream",
     "text": [
      "-750.313232421875\n"
     ]
    },
    {
     "name": "stderr",
     "output_type": "stream",
     "text": [
      "30039it [01:41, 300.91it/s]"
     ]
    },
    {
     "name": "stdout",
     "output_type": "stream",
     "text": [
      "-749.6553955078125\n"
     ]
    },
    {
     "name": "stderr",
     "output_type": "stream",
     "text": [
      "31058it [01:45, 297.32it/s]"
     ]
    },
    {
     "name": "stdout",
     "output_type": "stream",
     "text": [
      "-748.726318359375\n"
     ]
    },
    {
     "name": "stderr",
     "output_type": "stream",
     "text": [
      "32056it [01:48, 290.11it/s]"
     ]
    },
    {
     "name": "stdout",
     "output_type": "stream",
     "text": [
      "-749.6292724609375\n"
     ]
    },
    {
     "name": "stderr",
     "output_type": "stream",
     "text": [
      "33037it [01:52, 304.29it/s]"
     ]
    },
    {
     "name": "stdout",
     "output_type": "stream",
     "text": [
      "-749.9440307617188\n"
     ]
    },
    {
     "name": "stderr",
     "output_type": "stream",
     "text": [
      "34044it [01:55, 278.92it/s]"
     ]
    },
    {
     "name": "stdout",
     "output_type": "stream",
     "text": [
      "-749.7764892578125\n"
     ]
    },
    {
     "name": "stderr",
     "output_type": "stream",
     "text": [
      "35042it [01:59, 296.13it/s]"
     ]
    },
    {
     "name": "stdout",
     "output_type": "stream",
     "text": [
      "-749.2044677734375\n"
     ]
    },
    {
     "name": "stderr",
     "output_type": "stream",
     "text": [
      "36031it [02:02, 284.75it/s]"
     ]
    },
    {
     "name": "stdout",
     "output_type": "stream",
     "text": [
      "-752.10400390625\n"
     ]
    },
    {
     "name": "stderr",
     "output_type": "stream",
     "text": [
      "37042it [02:06, 282.80it/s]"
     ]
    },
    {
     "name": "stdout",
     "output_type": "stream",
     "text": [
      "-748.4951782226562\n"
     ]
    },
    {
     "name": "stderr",
     "output_type": "stream",
     "text": [
      "38052it [02:09, 295.34it/s]"
     ]
    },
    {
     "name": "stdout",
     "output_type": "stream",
     "text": [
      "-750.4258422851562\n"
     ]
    },
    {
     "name": "stderr",
     "output_type": "stream",
     "text": [
      "39051it [02:13, 279.85it/s]"
     ]
    },
    {
     "name": "stdout",
     "output_type": "stream",
     "text": [
      "-752.7071533203125\n"
     ]
    },
    {
     "name": "stderr",
     "output_type": "stream",
     "text": [
      "40033it [02:16, 283.05it/s]"
     ]
    },
    {
     "name": "stdout",
     "output_type": "stream",
     "text": [
      "-750.1702880859375\n"
     ]
    },
    {
     "name": "stderr",
     "output_type": "stream",
     "text": [
      "41038it [02:20, 295.63it/s]"
     ]
    },
    {
     "name": "stdout",
     "output_type": "stream",
     "text": [
      "-747.4046020507812\n"
     ]
    },
    {
     "name": "stderr",
     "output_type": "stream",
     "text": [
      "42053it [02:23, 286.16it/s]"
     ]
    },
    {
     "name": "stdout",
     "output_type": "stream",
     "text": [
      "-748.9906005859375\n"
     ]
    },
    {
     "name": "stderr",
     "output_type": "stream",
     "text": [
      "43040it [02:27, 277.34it/s]"
     ]
    },
    {
     "name": "stdout",
     "output_type": "stream",
     "text": [
      "-750.3197021484375\n"
     ]
    },
    {
     "name": "stderr",
     "output_type": "stream",
     "text": [
      "44052it [02:30, 283.64it/s]"
     ]
    },
    {
     "name": "stdout",
     "output_type": "stream",
     "text": [
      "-750.857666015625\n"
     ]
    },
    {
     "name": "stderr",
     "output_type": "stream",
     "text": [
      "45044it [02:34, 275.89it/s]"
     ]
    },
    {
     "name": "stdout",
     "output_type": "stream",
     "text": [
      "-751.4603271484375\n"
     ]
    },
    {
     "name": "stderr",
     "output_type": "stream",
     "text": [
      "46048it [02:37, 279.35it/s]"
     ]
    },
    {
     "name": "stdout",
     "output_type": "stream",
     "text": [
      "-750.0980224609375\n"
     ]
    },
    {
     "name": "stderr",
     "output_type": "stream",
     "text": [
      "47035it [02:41, 290.86it/s]"
     ]
    },
    {
     "name": "stdout",
     "output_type": "stream",
     "text": [
      "-749.4368896484375\n"
     ]
    },
    {
     "name": "stderr",
     "output_type": "stream",
     "text": [
      "48047it [02:44, 284.88it/s]"
     ]
    },
    {
     "name": "stdout",
     "output_type": "stream",
     "text": [
      "-749.544677734375\n"
     ]
    },
    {
     "name": "stderr",
     "output_type": "stream",
     "text": [
      "49047it [02:47, 302.81it/s]"
     ]
    },
    {
     "name": "stdout",
     "output_type": "stream",
     "text": [
      "-747.9639892578125\n"
     ]
    },
    {
     "name": "stderr",
     "output_type": "stream",
     "text": [
      "50046it [02:51, 275.05it/s]"
     ]
    },
    {
     "name": "stdout",
     "output_type": "stream",
     "text": [
      "-749.00439453125\n"
     ]
    },
    {
     "name": "stderr",
     "output_type": "stream",
     "text": [
      "51045it [02:54, 275.76it/s]"
     ]
    },
    {
     "name": "stdout",
     "output_type": "stream",
     "text": [
      "-752.4029541015625\n"
     ]
    },
    {
     "name": "stderr",
     "output_type": "stream",
     "text": [
      "52047it [02:58, 283.13it/s]"
     ]
    },
    {
     "name": "stdout",
     "output_type": "stream",
     "text": [
      "-750.1043701171875\n"
     ]
    },
    {
     "name": "stderr",
     "output_type": "stream",
     "text": [
      "53033it [03:01, 290.56it/s]"
     ]
    },
    {
     "name": "stdout",
     "output_type": "stream",
     "text": [
      "-750.6962890625\n"
     ]
    },
    {
     "name": "stderr",
     "output_type": "stream",
     "text": [
      "54030it [03:05, 276.73it/s]"
     ]
    },
    {
     "name": "stdout",
     "output_type": "stream",
     "text": [
      "-751.4345703125\n"
     ]
    },
    {
     "name": "stderr",
     "output_type": "stream",
     "text": [
      "55045it [03:09, 287.54it/s]"
     ]
    },
    {
     "name": "stdout",
     "output_type": "stream",
     "text": [
      "-749.5775146484375\n"
     ]
    },
    {
     "name": "stderr",
     "output_type": "stream",
     "text": [
      "56037it [03:12, 289.34it/s]"
     ]
    },
    {
     "name": "stdout",
     "output_type": "stream",
     "text": [
      "-750.888671875\n"
     ]
    },
    {
     "name": "stderr",
     "output_type": "stream",
     "text": [
      "57030it [03:15, 280.34it/s]"
     ]
    },
    {
     "name": "stdout",
     "output_type": "stream",
     "text": [
      "-748.945556640625\n"
     ]
    },
    {
     "name": "stderr",
     "output_type": "stream",
     "text": [
      "58051it [03:19, 296.53it/s]"
     ]
    },
    {
     "name": "stdout",
     "output_type": "stream",
     "text": [
      "-751.0431518554688\n"
     ]
    },
    {
     "name": "stderr",
     "output_type": "stream",
     "text": [
      "59042it [03:22, 289.74it/s]"
     ]
    },
    {
     "name": "stdout",
     "output_type": "stream",
     "text": [
      "-749.8555908203125\n"
     ]
    },
    {
     "name": "stderr",
     "output_type": "stream",
     "text": [
      "60032it [03:26, 270.49it/s]"
     ]
    },
    {
     "name": "stdout",
     "output_type": "stream",
     "text": [
      "-751.377197265625\n"
     ]
    },
    {
     "name": "stderr",
     "output_type": "stream",
     "text": [
      "61051it [03:30, 293.78it/s]"
     ]
    },
    {
     "name": "stdout",
     "output_type": "stream",
     "text": [
      "-749.730712890625\n"
     ]
    },
    {
     "name": "stderr",
     "output_type": "stream",
     "text": [
      "62040it [03:33, 294.90it/s]"
     ]
    },
    {
     "name": "stdout",
     "output_type": "stream",
     "text": [
      "-748.5234375\n"
     ]
    },
    {
     "name": "stderr",
     "output_type": "stream",
     "text": [
      "63045it [03:37, 277.49it/s]"
     ]
    },
    {
     "name": "stdout",
     "output_type": "stream",
     "text": [
      "-745.8780517578125\n"
     ]
    },
    {
     "name": "stderr",
     "output_type": "stream",
     "text": [
      "64042it [03:40, 291.46it/s]"
     ]
    },
    {
     "name": "stdout",
     "output_type": "stream",
     "text": [
      "-748.3682861328125\n"
     ]
    },
    {
     "name": "stderr",
     "output_type": "stream",
     "text": [
      "65050it [03:43, 295.41it/s]"
     ]
    },
    {
     "name": "stdout",
     "output_type": "stream",
     "text": [
      "-748.8998413085938\n"
     ]
    },
    {
     "name": "stderr",
     "output_type": "stream",
     "text": [
      "66056it [03:47, 274.67it/s]"
     ]
    },
    {
     "name": "stdout",
     "output_type": "stream",
     "text": [
      "-748.98974609375\n"
     ]
    },
    {
     "name": "stderr",
     "output_type": "stream",
     "text": [
      "67044it [03:50, 286.52it/s]"
     ]
    },
    {
     "name": "stdout",
     "output_type": "stream",
     "text": [
      "-748.4295654296875\n"
     ]
    },
    {
     "name": "stderr",
     "output_type": "stream",
     "text": [
      "68034it [03:54, 290.42it/s]"
     ]
    },
    {
     "name": "stdout",
     "output_type": "stream",
     "text": [
      "-748.39453125\n"
     ]
    },
    {
     "name": "stderr",
     "output_type": "stream",
     "text": [
      "69035it [03:57, 278.95it/s]"
     ]
    },
    {
     "name": "stdout",
     "output_type": "stream",
     "text": [
      "-749.6235961914062\n"
     ]
    },
    {
     "name": "stderr",
     "output_type": "stream",
     "text": [
      "70039it [04:01, 296.19it/s]"
     ]
    },
    {
     "name": "stdout",
     "output_type": "stream",
     "text": [
      "-747.9100341796875\n"
     ]
    },
    {
     "name": "stderr",
     "output_type": "stream",
     "text": [
      "71043it [04:04, 281.27it/s]"
     ]
    },
    {
     "name": "stdout",
     "output_type": "stream",
     "text": [
      "-749.0638427734375\n"
     ]
    },
    {
     "name": "stderr",
     "output_type": "stream",
     "text": [
      "72045it [04:08, 277.13it/s]"
     ]
    },
    {
     "name": "stdout",
     "output_type": "stream",
     "text": [
      "-752.1213989257812\n"
     ]
    },
    {
     "name": "stderr",
     "output_type": "stream",
     "text": [
      "73049it [04:12, 289.81it/s]"
     ]
    },
    {
     "name": "stdout",
     "output_type": "stream",
     "text": [
      "-747.8587036132812\n"
     ]
    },
    {
     "name": "stderr",
     "output_type": "stream",
     "text": [
      "74029it [04:15, 279.23it/s]"
     ]
    },
    {
     "name": "stdout",
     "output_type": "stream",
     "text": [
      "-751.4729614257812\n"
     ]
    },
    {
     "name": "stderr",
     "output_type": "stream",
     "text": [
      "75038it [04:19, 278.27it/s]"
     ]
    },
    {
     "name": "stdout",
     "output_type": "stream",
     "text": [
      "-749.173828125\n"
     ]
    },
    {
     "name": "stderr",
     "output_type": "stream",
     "text": [
      "76032it [04:22, 295.33it/s]"
     ]
    },
    {
     "name": "stdout",
     "output_type": "stream",
     "text": [
      "-750.7025756835938\n"
     ]
    },
    {
     "name": "stderr",
     "output_type": "stream",
     "text": [
      "77047it [04:25, 276.05it/s]"
     ]
    },
    {
     "name": "stdout",
     "output_type": "stream",
     "text": [
      "-747.417236328125\n"
     ]
    },
    {
     "name": "stderr",
     "output_type": "stream",
     "text": [
      "78049it [04:29, 276.56it/s]"
     ]
    },
    {
     "name": "stdout",
     "output_type": "stream",
     "text": [
      "-748.999267578125\n"
     ]
    },
    {
     "name": "stderr",
     "output_type": "stream",
     "text": [
      "79059it [04:33, 287.87it/s]"
     ]
    },
    {
     "name": "stdout",
     "output_type": "stream",
     "text": [
      "-748.850830078125\n"
     ]
    },
    {
     "name": "stderr",
     "output_type": "stream",
     "text": [
      "80035it [04:36, 280.52it/s]"
     ]
    },
    {
     "name": "stdout",
     "output_type": "stream",
     "text": [
      "-749.9619140625\n"
     ]
    },
    {
     "name": "stderr",
     "output_type": "stream",
     "text": [
      "81046it [04:40, 281.22it/s]"
     ]
    },
    {
     "name": "stdout",
     "output_type": "stream",
     "text": [
      "-751.0133666992188\n"
     ]
    },
    {
     "name": "stderr",
     "output_type": "stream",
     "text": [
      "82050it [04:43, 285.71it/s]"
     ]
    },
    {
     "name": "stdout",
     "output_type": "stream",
     "text": [
      "-750.3551635742188\n"
     ]
    },
    {
     "name": "stderr",
     "output_type": "stream",
     "text": [
      "83043it [04:47, 283.34it/s]"
     ]
    },
    {
     "name": "stdout",
     "output_type": "stream",
     "text": [
      "-749.251708984375\n"
     ]
    },
    {
     "name": "stderr",
     "output_type": "stream",
     "text": [
      "84032it [04:50, 296.15it/s]"
     ]
    },
    {
     "name": "stdout",
     "output_type": "stream",
     "text": [
      "-749.4742431640625\n"
     ]
    },
    {
     "name": "stderr",
     "output_type": "stream",
     "text": [
      "85048it [04:54, 291.13it/s]"
     ]
    },
    {
     "name": "stdout",
     "output_type": "stream",
     "text": [
      "-748.655517578125\n"
     ]
    },
    {
     "name": "stderr",
     "output_type": "stream",
     "text": [
      "86040it [04:57, 280.33it/s]"
     ]
    },
    {
     "name": "stdout",
     "output_type": "stream",
     "text": [
      "-749.6029052734375\n"
     ]
    },
    {
     "name": "stderr",
     "output_type": "stream",
     "text": [
      "87050it [05:01, 289.86it/s]"
     ]
    },
    {
     "name": "stdout",
     "output_type": "stream",
     "text": [
      "-749.7935791015625\n"
     ]
    },
    {
     "name": "stderr",
     "output_type": "stream",
     "text": [
      "88046it [05:04, 290.07it/s]"
     ]
    },
    {
     "name": "stdout",
     "output_type": "stream",
     "text": [
      "-751.3164672851562\n"
     ]
    },
    {
     "name": "stderr",
     "output_type": "stream",
     "text": [
      "89055it [05:08, 274.95it/s]"
     ]
    },
    {
     "name": "stdout",
     "output_type": "stream",
     "text": [
      "-748.699462890625\n"
     ]
    },
    {
     "name": "stderr",
     "output_type": "stream",
     "text": [
      "90035it [05:11, 276.36it/s]"
     ]
    },
    {
     "name": "stdout",
     "output_type": "stream",
     "text": [
      "-749.85595703125\n"
     ]
    },
    {
     "name": "stderr",
     "output_type": "stream",
     "text": [
      "91052it [05:15, 297.06it/s]"
     ]
    },
    {
     "name": "stdout",
     "output_type": "stream",
     "text": [
      "-750.280029296875\n"
     ]
    },
    {
     "name": "stderr",
     "output_type": "stream",
     "text": [
      "92033it [05:18, 279.28it/s]"
     ]
    },
    {
     "name": "stdout",
     "output_type": "stream",
     "text": [
      "-748.8114013671875\n"
     ]
    },
    {
     "name": "stderr",
     "output_type": "stream",
     "text": [
      "93046it [05:22, 293.24it/s]"
     ]
    },
    {
     "name": "stdout",
     "output_type": "stream",
     "text": [
      "-750.3447265625\n"
     ]
    },
    {
     "name": "stderr",
     "output_type": "stream",
     "text": [
      "94043it [05:25, 291.73it/s]"
     ]
    },
    {
     "name": "stdout",
     "output_type": "stream",
     "text": [
      "-747.5286865234375\n"
     ]
    },
    {
     "name": "stderr",
     "output_type": "stream",
     "text": [
      "95044it [05:29, 276.88it/s]"
     ]
    },
    {
     "name": "stdout",
     "output_type": "stream",
     "text": [
      "-748.0958251953125\n"
     ]
    },
    {
     "name": "stderr",
     "output_type": "stream",
     "text": [
      "96041it [05:32, 292.83it/s]"
     ]
    },
    {
     "name": "stdout",
     "output_type": "stream",
     "text": [
      "-749.0906982421875\n"
     ]
    },
    {
     "name": "stderr",
     "output_type": "stream",
     "text": [
      "97051it [05:35, 283.17it/s]"
     ]
    },
    {
     "name": "stdout",
     "output_type": "stream",
     "text": [
      "-749.7512817382812\n"
     ]
    },
    {
     "name": "stderr",
     "output_type": "stream",
     "text": [
      "98039it [05:39, 280.21it/s]"
     ]
    },
    {
     "name": "stdout",
     "output_type": "stream",
     "text": [
      "-750.2879028320312\n"
     ]
    },
    {
     "name": "stderr",
     "output_type": "stream",
     "text": [
      "99051it [05:42, 297.29it/s]"
     ]
    },
    {
     "name": "stdout",
     "output_type": "stream",
     "text": [
      "-749.0966186523438\n"
     ]
    },
    {
     "name": "stderr",
     "output_type": "stream",
     "text": [
      "100000it [05:46, 288.79it/s]\n"
     ]
    }
   ],
   "source": [
    "key = jax.random.PRNGKey(314159)\n",
    "learning_rate = 1e-3\n",
    "iter_data = dataloader(train_images, 32)\n",
    "key, sub_key = jax.random.split(key)\n",
    "encoder_net = EncoderNetwork.new(sub_key, 10)\n",
    "key, sub_key = jax.random.split(key)\n",
    "decoder_net = DecoderNetwork.new(sub_key, 10)\n",
    "steps = 100000\n",
    "\n",
    "\n",
    "@jax.jit\n",
    "def make_step(key, encoder_net, decoder_net, data, opt_state):\n",
    "    loss, grads = minibatch_value_and_grad(key, data, encoder_net, decoder_net)\n",
    "    grads = jtu.tree_map(lambda v: -v, grads)\n",
    "    updates, opt_state = optim.update(grads, opt_state)\n",
    "    encoder_net, decoder_net = eqx.apply_updates((encoder_net, decoder_net), updates)\n",
    "    mean_grad = jnp.mean(jnp.array(jtu.tree_leaves(jtu.tree_map(jnp.mean, grads))))\n",
    "    return loss, (encoder_net, decoder_net), opt_state, mean_grad\n",
    "\n",
    "\n",
    "optim = optax.adam(learning_rate)\n",
    "opt_state = optim.init((encoder_net, decoder_net))\n",
    "for step, image_batch in tqdm(zip(range(steps), iter_data)):\n",
    "    key, sub_key = jax.random.split(key)\n",
    "    loss, (encoder_net, decoder_net), opt_state, mean_grad = make_step(\n",
    "        sub_key, encoder_net, decoder_net, image_batch, opt_state\n",
    "    )\n",
    "    loss = loss.item()\n",
    "    if step % 1000 == 0:\n",
    "        print(loss)"
   ]
  },
  {
   "cell_type": "code",
   "execution_count": 46,
   "id": "32acade5-f5e6-40c8-bd41-624c57e39caf",
   "metadata": {
    "tags": []
   },
   "outputs": [
    {
     "data": {
      "text/html": [
       "<pre style=\"white-space:pre;overflow-x:auto;line-height:normal;font-family:Menlo,'DejaVu Sans Mono',consolas,'Courier New',monospace\"></pre>\n"
      ],
      "text/plain": []
     },
     "metadata": {},
     "output_type": "display_data"
    },
    {
     "data": {
      "text/plain": [
       "\u001b[1m<\u001b[0m\u001b[1;95mmatplotlib.image.AxesImage\u001b[0m\u001b[39m object at \u001b[0m\u001b[1;36m0x7fa05c4c1110\u001b[0m\u001b[1m>\u001b[0m"
      ]
     },
     "execution_count": 46,
     "metadata": {},
     "output_type": "execute_result"
    },
    {
     "data": {
      "text/html": [
       "<pre style=\"white-space:pre;overflow-x:auto;line-height:normal;font-family:Menlo,'DejaVu Sans Mono',consolas,'Courier New',monospace\"></pre>\n"
      ],
      "text/plain": []
     },
     "metadata": {},
     "output_type": "display_data"
    },
    {
     "data": {
      "image/svg+xml": [
       "<?xml version=\"1.0\" encoding=\"utf-8\" standalone=\"no\"?>\n",
       "<!DOCTYPE svg PUBLIC \"-//W3C//DTD SVG 1.1//EN\"\n",
       "  \"http://www.w3.org/Graphics/SVG/1.1/DTD/svg11.dtd\">\n",
       "<svg xmlns:xlink=\"http://www.w3.org/1999/xlink\" width=\"304.0095pt\" height=\"300.657937pt\" viewBox=\"0 0 304.0095 300.657937\" xmlns=\"http://www.w3.org/2000/svg\" version=\"1.1\">\n",
       " <metadata>\n",
       "  <rdf:RDF xmlns:dc=\"http://purl.org/dc/elements/1.1/\" xmlns:cc=\"http://creativecommons.org/ns#\" xmlns:rdf=\"http://www.w3.org/1999/02/22-rdf-syntax-ns#\">\n",
       "   <cc:Work>\n",
       "    <dc:type rdf:resource=\"http://purl.org/dc/dcmitype/StillImage\"/>\n",
       "    <dc:date>2023-10-01T22:46:07.369072</dc:date>\n",
       "    <dc:format>image/svg+xml</dc:format>\n",
       "    <dc:creator>\n",
       "     <cc:Agent>\n",
       "      <dc:title>Matplotlib v3.8.0, https://matplotlib.org/</dc:title>\n",
       "     </cc:Agent>\n",
       "    </dc:creator>\n",
       "   </cc:Work>\n",
       "  </rdf:RDF>\n",
       " </metadata>\n",
       " <defs>\n",
       "  <style type=\"text/css\">*{stroke-linejoin: round; stroke-linecap: butt}</style>\n",
       " </defs>\n",
       " <g id=\"figure_1\">\n",
       "  <g id=\"patch_1\">\n",
       "   <path d=\"M 0 300.657937 \n",
       "L 304.0095 300.657937 \n",
       "L 304.0095 0 \n",
       "L 0 0 \n",
       "z\n",
       "\" style=\"fill: #ffffff\"/>\n",
       "  </g>\n",
       "  <g id=\"axes_1\">\n",
       "   <g id=\"patch_2\">\n",
       "    <path d=\"M 30.6975 273.312 \n",
       "L 296.8095 273.312 \n",
       "L 296.8095 7.2 \n",
       "L 30.6975 7.2 \n",
       "z\n",
       "\" style=\"fill: #ffffff\"/>\n",
       "   </g>\n",
       "   <g clip-path=\"url(#p105689a8e5)\">\n",
       "    <image xlink:href=\"data:image/png;base64,\n",
       "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\" id=\"image784b8ceab4\" transform=\"scale(1 -1) translate(0 -266.4)\" x=\"30.6975\" y=\"-6.912\" width=\"266.4\" height=\"266.4\"/>\n",
       "   </g>\n",
       "   <g id=\"matplotlib.axis_1\">\n",
       "    <g id=\"xtick_1\">\n",
       "     <g id=\"text_1\">\n",
       "      <!-- 0 -->\n",
       "      <g style=\"fill: #262626\" transform=\"translate(31.950125 291.170281) scale(0.11 -0.11)\">\n",
       "       <defs>\n",
       "        <path id=\"DejaVuSans-30\" d=\"M 2034 4250 \n",
       "Q 1547 4250 1301 3770 \n",
       "Q 1056 3291 1056 2328 \n",
       "Q 1056 1369 1301 889 \n",
       "Q 1547 409 2034 409 \n",
       "Q 2525 409 2770 889 \n",
       "Q 3016 1369 3016 2328 \n",
       "Q 3016 3291 2770 3770 \n",
       "Q 2525 4250 2034 4250 \n",
       "z\n",
       "M 2034 4750 \n",
       "Q 2819 4750 3233 4129 \n",
       "Q 3647 3509 3647 2328 \n",
       "Q 3647 1150 3233 529 \n",
       "Q 2819 -91 2034 -91 \n",
       "Q 1250 -91 836 529 \n",
       "Q 422 1150 422 2328 \n",
       "Q 422 3509 836 4129 \n",
       "Q 1250 4750 2034 4750 \n",
       "z\n",
       "\" transform=\"scale(0.015625)\"/>\n",
       "       </defs>\n",
       "       <use xlink:href=\"#DejaVuSans-30\"/>\n",
       "      </g>\n",
       "     </g>\n",
       "    </g>\n",
       "    <g id=\"xtick_2\">\n",
       "     <g id=\"text_2\">\n",
       "      <!-- 5 -->\n",
       "      <g style=\"fill: #262626\" transform=\"translate(79.470125 291.170281) scale(0.11 -0.11)\">\n",
       "       <defs>\n",
       "        <path id=\"DejaVuSans-35\" d=\"M 691 4666 \n",
       "L 3169 4666 \n",
       "L 3169 4134 \n",
       "L 1269 4134 \n",
       "L 1269 2991 \n",
       "Q 1406 3038 1543 3061 \n",
       "Q 1681 3084 1819 3084 \n",
       "Q 2600 3084 3056 2656 \n",
       "Q 3513 2228 3513 1497 \n",
       "Q 3513 744 3044 326 \n",
       "Q 2575 -91 1722 -91 \n",
       "Q 1428 -91 1123 -41 \n",
       "Q 819 9 494 109 \n",
       "L 494 744 \n",
       "Q 775 591 1075 516 \n",
       "Q 1375 441 1709 441 \n",
       "Q 2250 441 2565 725 \n",
       "Q 2881 1009 2881 1497 \n",
       "Q 2881 1984 2565 2268 \n",
       "Q 2250 2553 1709 2553 \n",
       "Q 1456 2553 1204 2497 \n",
       "Q 953 2441 691 2322 \n",
       "L 691 4666 \n",
       "z\n",
       "\" transform=\"scale(0.015625)\"/>\n",
       "       </defs>\n",
       "       <use xlink:href=\"#DejaVuSans-35\"/>\n",
       "      </g>\n",
       "     </g>\n",
       "    </g>\n",
       "    <g id=\"xtick_3\">\n",
       "     <g id=\"text_3\">\n",
       "      <!-- 10 -->\n",
       "      <g style=\"fill: #262626\" transform=\"translate(123.49075 291.170281) scale(0.11 -0.11)\">\n",
       "       <defs>\n",
       "        <path id=\"DejaVuSans-31\" d=\"M 794 531 \n",
       "L 1825 531 \n",
       "L 1825 4091 \n",
       "L 703 3866 \n",
       "L 703 4441 \n",
       "L 1819 4666 \n",
       "L 2450 4666 \n",
       "L 2450 531 \n",
       "L 3481 531 \n",
       "L 3481 0 \n",
       "L 794 0 \n",
       "L 794 531 \n",
       "z\n",
       "\" transform=\"scale(0.015625)\"/>\n",
       "       </defs>\n",
       "       <use xlink:href=\"#DejaVuSans-31\"/>\n",
       "       <use xlink:href=\"#DejaVuSans-30\" x=\"63.623047\"/>\n",
       "      </g>\n",
       "     </g>\n",
       "    </g>\n",
       "    <g id=\"xtick_4\">\n",
       "     <g id=\"text_4\">\n",
       "      <!-- 15 -->\n",
       "      <g style=\"fill: #262626\" transform=\"translate(171.01075 291.170281) scale(0.11 -0.11)\">\n",
       "       <use xlink:href=\"#DejaVuSans-31\"/>\n",
       "       <use xlink:href=\"#DejaVuSans-35\" x=\"63.623047\"/>\n",
       "      </g>\n",
       "     </g>\n",
       "    </g>\n",
       "    <g id=\"xtick_5\">\n",
       "     <g id=\"text_5\">\n",
       "      <!-- 20 -->\n",
       "      <g style=\"fill: #262626\" transform=\"translate(218.53075 291.170281) scale(0.11 -0.11)\">\n",
       "       <defs>\n",
       "        <path id=\"DejaVuSans-32\" d=\"M 1228 531 \n",
       "L 3431 531 \n",
       "L 3431 0 \n",
       "L 469 0 \n",
       "L 469 531 \n",
       "Q 828 903 1448 1529 \n",
       "Q 2069 2156 2228 2338 \n",
       "Q 2531 2678 2651 2914 \n",
       "Q 2772 3150 2772 3378 \n",
       "Q 2772 3750 2511 3984 \n",
       "Q 2250 4219 1831 4219 \n",
       "Q 1534 4219 1204 4116 \n",
       "Q 875 4013 500 3803 \n",
       "L 500 4441 \n",
       "Q 881 4594 1212 4672 \n",
       "Q 1544 4750 1819 4750 \n",
       "Q 2544 4750 2975 4387 \n",
       "Q 3406 4025 3406 3419 \n",
       "Q 3406 3131 3298 2873 \n",
       "Q 3191 2616 2906 2266 \n",
       "Q 2828 2175 2409 1742 \n",
       "Q 1991 1309 1228 531 \n",
       "z\n",
       "\" transform=\"scale(0.015625)\"/>\n",
       "       </defs>\n",
       "       <use xlink:href=\"#DejaVuSans-32\"/>\n",
       "       <use xlink:href=\"#DejaVuSans-30\" x=\"63.623047\"/>\n",
       "      </g>\n",
       "     </g>\n",
       "    </g>\n",
       "    <g id=\"xtick_6\">\n",
       "     <g id=\"text_6\">\n",
       "      <!-- 25 -->\n",
       "      <g style=\"fill: #262626\" transform=\"translate(266.05075 291.170281) scale(0.11 -0.11)\">\n",
       "       <use xlink:href=\"#DejaVuSans-32\"/>\n",
       "       <use xlink:href=\"#DejaVuSans-35\" x=\"63.623047\"/>\n",
       "      </g>\n",
       "     </g>\n",
       "    </g>\n",
       "   </g>\n",
       "   <g id=\"matplotlib.axis_2\">\n",
       "    <g id=\"ytick_1\">\n",
       "     <g id=\"text_7\">\n",
       "      <!-- 0 -->\n",
       "      <g style=\"fill: #262626\" transform=\"translate(14.19875 16.131141) scale(0.11 -0.11)\">\n",
       "       <use xlink:href=\"#DejaVuSans-30\"/>\n",
       "      </g>\n",
       "     </g>\n",
       "    </g>\n",
       "    <g id=\"ytick_2\">\n",
       "     <g id=\"text_8\">\n",
       "      <!-- 5 -->\n",
       "      <g style=\"fill: #262626\" transform=\"translate(14.19875 63.651141) scale(0.11 -0.11)\">\n",
       "       <use xlink:href=\"#DejaVuSans-35\"/>\n",
       "      </g>\n",
       "     </g>\n",
       "    </g>\n",
       "    <g id=\"ytick_3\">\n",
       "     <g id=\"text_9\">\n",
       "      <!-- 10 -->\n",
       "      <g style=\"fill: #262626\" transform=\"translate(7.2 111.171141) scale(0.11 -0.11)\">\n",
       "       <use xlink:href=\"#DejaVuSans-31\"/>\n",
       "       <use xlink:href=\"#DejaVuSans-30\" x=\"63.623047\"/>\n",
       "      </g>\n",
       "     </g>\n",
       "    </g>\n",
       "    <g id=\"ytick_4\">\n",
       "     <g id=\"text_10\">\n",
       "      <!-- 15 -->\n",
       "      <g style=\"fill: #262626\" transform=\"translate(7.2 158.691141) scale(0.11 -0.11)\">\n",
       "       <use xlink:href=\"#DejaVuSans-31\"/>\n",
       "       <use xlink:href=\"#DejaVuSans-35\" x=\"63.623047\"/>\n",
       "      </g>\n",
       "     </g>\n",
       "    </g>\n",
       "    <g id=\"ytick_5\">\n",
       "     <g id=\"text_11\">\n",
       "      <!-- 20 -->\n",
       "      <g style=\"fill: #262626\" transform=\"translate(7.2 206.211141) scale(0.11 -0.11)\">\n",
       "       <use xlink:href=\"#DejaVuSans-32\"/>\n",
       "       <use xlink:href=\"#DejaVuSans-30\" x=\"63.623047\"/>\n",
       "      </g>\n",
       "     </g>\n",
       "    </g>\n",
       "    <g id=\"ytick_6\">\n",
       "     <g id=\"text_12\">\n",
       "      <!-- 25 -->\n",
       "      <g style=\"fill: #262626\" transform=\"translate(7.2 253.731141) scale(0.11 -0.11)\">\n",
       "       <use xlink:href=\"#DejaVuSans-32\"/>\n",
       "       <use xlink:href=\"#DejaVuSans-35\" x=\"63.623047\"/>\n",
       "      </g>\n",
       "     </g>\n",
       "    </g>\n",
       "   </g>\n",
       "   <g id=\"patch_3\">\n",
       "    <path d=\"M 30.6975 273.312 \n",
       "L 30.6975 7.2 \n",
       "\" style=\"fill: none; stroke: #262626; stroke-width: 1.25; stroke-linejoin: miter; stroke-linecap: square\"/>\n",
       "   </g>\n",
       "   <g id=\"patch_4\">\n",
       "    <path d=\"M 296.8095 273.312 \n",
       "L 296.8095 7.2 \n",
       "\" style=\"fill: none; stroke: #262626; stroke-width: 1.25; stroke-linejoin: miter; stroke-linecap: square\"/>\n",
       "   </g>\n",
       "   <g id=\"patch_5\">\n",
       "    <path d=\"M 30.6975 273.312 \n",
       "L 296.8095 273.312 \n",
       "\" style=\"fill: none; stroke: #262626; stroke-width: 1.25; stroke-linejoin: miter; stroke-linecap: square\"/>\n",
       "   </g>\n",
       "   <g id=\"patch_6\">\n",
       "    <path d=\"M 30.6975 7.2 \n",
       "L 296.8095 7.2 \n",
       "\" style=\"fill: none; stroke: #262626; stroke-width: 1.25; stroke-linejoin: miter; stroke-linecap: square\"/>\n",
       "   </g>\n",
       "  </g>\n",
       " </g>\n",
       " <defs>\n",
       "  <clipPath id=\"p105689a8e5\">\n",
       "   <rect x=\"30.6975\" y=\"7.2\" width=\"266.112\" height=\"266.112\"/>\n",
       "  </clipPath>\n",
       " </defs>\n",
       "</svg>\n"
      ],
      "text/plain": [
       "\u001b[1m<\u001b[0m\u001b[1;95mFigure\u001b[0m\u001b[39m size 64\u001b[0m\u001b[1;36m0x480\u001b[0m\u001b[39m with \u001b[0m\u001b[1;36m1\u001b[0m\u001b[39m Axes\u001b[0m\u001b[1m>\u001b[0m"
      ]
     },
     "metadata": {},
     "output_type": "display_data"
    }
   ],
   "source": [
    "key, sub_key = jax.random.split(key)\n",
    "latent = genjax.tfp_mv_normal_diag.sample(sub_key, jnp.zeros(10), jnp.ones(10))\n",
    "plt.imshow(decoder_net(latent).reshape(28, 28))"
   ]
  },
  {
   "cell_type": "code",
   "execution_count": null,
   "id": "670e2440-9bf5-453d-acb4-2a0d2db532cb",
   "metadata": {},
   "outputs": [],
   "source": []
  }
 ],
 "metadata": {
  "kernelspec": {
   "display_name": "Python 3 (ipykernel)",
   "language": "python",
   "name": "python3"
  },
  "language_info": {
   "codemirror_mode": {
    "name": "ipython",
    "version": 3
   },
   "file_extension": ".py",
   "mimetype": "text/x-python",
   "name": "python",
   "nbconvert_exporter": "python",
   "pygments_lexer": "ipython3",
   "version": "3.11.4"
  }
 },
 "nbformat": 4,
 "nbformat_minor": 5
}
