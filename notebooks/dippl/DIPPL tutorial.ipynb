{
 "cells": [
  {
   "cell_type": "code",
   "execution_count": 1,
   "id": "354f943b",
   "metadata": {},
   "outputs": [
    {
     "name": "stderr",
     "output_type": "stream",
     "text": [
      "WARNING: All log messages before absl::InitializeLog() is called are written to STDERR\n",
      "I0000 00:00:1696092911.388769   65821 tfrt_cpu_pjrt_client.cc:349] TfrtCpuClient created.\n",
      "No GPU/TPU found, falling back to CPU. (Set TF_CPP_MIN_LOG_LEVEL=0 and rerun for more info.)\n"
     ]
    }
   ],
   "source": [
    "import genjax\n",
    "from genjax import dippl\n",
    "from genjax import gensp\n",
    "import jax\n",
    "import jax.numpy as jnp\n",
    "import adevjax\n",
    "\n",
    "console = genjax.pretty(show_locals=True)\n",
    "key = jax.random.PRNGKey(314159)"
   ]
  },
  {
   "cell_type": "code",
   "execution_count": 2,
   "id": "d6f18e9c",
   "metadata": {},
   "outputs": [],
   "source": [
    "@genjax.gen\n",
    "def abnormal_flipper():\n",
    "    flip = dippl.flip_enum(0.5) @ \"flip\"\n",
    "    v = jax.lax.cond(flip, lambda: 10.0, lambda: 0.0)\n",
    "    gensp.accum_score(v)  # score primitive -- accumulates onto log prob\n",
    "\n",
    "\n",
    "lifted_model = gensp.choice_map_distribution(\n",
    "    abnormal_flipper, genjax.select(\"flip\"), None\n",
    ")"
   ]
  },
  {
   "cell_type": "code",
   "execution_count": 3,
   "id": "6978b3c4-3f8c-4050-9ea1-702946fe5231",
   "metadata": {
    "tags": []
   },
   "outputs": [
    {
     "data": {
      "text/html": [
       "<pre style=\"white-space:pre;overflow-x:auto;line-height:normal;font-family:Menlo,'DejaVu Sans Mono',consolas,'Courier New',monospace\"></pre>\n"
      ],
      "text/plain": []
     },
     "metadata": {},
     "output_type": "display_data"
    },
    {
     "data": {
      "text/plain": [
       "\n",
       "\n",
       "\n",
       "└── \u001b[1m:flip\u001b[0m\n",
       "    └──  bool[]"
      ]
     },
     "execution_count": 3,
     "metadata": {},
     "output_type": "execute_result"
    }
   ],
   "source": [
    "key, sub_key = jax.random.split(key)\n",
    "(w, v) = lifted_model.random_weighted(sub_key)\n",
    "v"
   ]
  },
  {
   "cell_type": "code",
   "execution_count": 4,
   "id": "6e925b07-8975-4366-848f-c596b39d21e1",
   "metadata": {
    "tags": []
   },
   "outputs": [],
   "source": [
    "@genjax.gen\n",
    "def variational_family(p):\n",
    "    flip = dippl.flip_enum(p) @ \"flip\"\n",
    "\n",
    "\n",
    "lifted_family = gensp.choice_map_distribution(\n",
    "    variational_family, genjax.select(\"flip\"), None\n",
    ")"
   ]
  },
  {
   "cell_type": "code",
   "execution_count": 5,
   "id": "54553df1-01ec-4f04-a031-14eb76fa8f48",
   "metadata": {
    "tags": []
   },
   "outputs": [],
   "source": [
    "def variational_grad(key, p):\n",
    "    @dippl.loss\n",
    "    def flip_variational_loss(p):\n",
    "        v = dippl.upper(lifted_family)(p)\n",
    "        dippl.lower(lifted_model)(v)\n",
    "\n",
    "    (p_grad,) = flip_variational_loss.grad_estimate(key, (p,))\n",
    "    return p_grad"
   ]
  },
  {
   "cell_type": "code",
   "execution_count": 6,
   "id": "ebc56154-9749-4964-96a0-62f5d58ace61",
   "metadata": {
    "tags": []
   },
   "outputs": [
    {
     "name": "stdout",
     "output_type": "stream",
     "text": [
      "12.197225\n",
      "10.847298\n",
      "10.0\n",
      "9.152702\n",
      "7.8027754\n",
      "0.7899256\n",
      "0.09672737\n"
     ]
    }
   ],
   "source": [
    "key, sub_key = jax.random.split(key)\n",
    "jitted = jax.jit(variational_grad)\n",
    "for p in [0.1, 0.3, 0.5, 0.7, 0.9, 0.9999, 0.99995]:\n",
    "    key, sub_key = jax.random.split(key)\n",
    "    p_grad = jitted(sub_key, p)\n",
    "    print(p_grad)"
   ]
  },
  {
   "cell_type": "code",
   "execution_count": null,
   "id": "8f289a01-4e82-4e13-b50f-83a9e5eb386f",
   "metadata": {},
   "outputs": [],
   "source": []
  }
 ],
 "metadata": {
  "kernelspec": {
   "display_name": "Python 3 (ipykernel)",
   "language": "python",
   "name": "python3"
  },
  "language_info": {
   "codemirror_mode": {
    "name": "ipython",
    "version": 3
   },
   "file_extension": ".py",
   "mimetype": "text/x-python",
   "name": "python",
   "nbconvert_exporter": "python",
   "pygments_lexer": "ipython3",
   "version": "3.11.4"
  }
 },
 "nbformat": 4,
 "nbformat_minor": 5
}
