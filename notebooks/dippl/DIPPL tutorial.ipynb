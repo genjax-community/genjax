{
 "cells": [
  {
   "cell_type": "code",
   "execution_count": 3,
   "id": "f818a915",
   "metadata": {},
   "outputs": [],
   "source": [
    "import genjax\n",
    "from genjax import dippl\n",
    "import jax\n",
    "import adevjax\n",
    "\n",
    "console = genjax.pretty()\n",
    "key = jax.random.PRNGKey(314159)"
   ]
  },
  {
   "cell_type": "code",
   "execution_count": 5,
   "id": "3f1a3ca8",
   "metadata": {},
   "outputs": [
    {
     "data": {
      "text/html": [
       "<pre style=\"white-space:pre;overflow-x:auto;line-height:normal;font-family:Menlo,'DejaVu Sans Mono',consolas,'Courier New',monospace\"></pre>\n"
      ],
      "text/plain": []
     },
     "metadata": {},
     "output_type": "display_data"
    },
    {
     "data": {
      "text/plain": [
       "\u001b[1m(\u001b[0m\u001b[1;35mArray\u001b[0m\u001b[1m(\u001b[0m\u001b[1;36m0.221335\u001b[0m, \u001b[33mdtype\u001b[0m=\u001b[35mfloat32\u001b[0m\u001b[1m)\u001b[0m,\u001b[1m)\u001b[0m"
      ]
     },
     "execution_count": 5,
     "metadata": {},
     "output_type": "execute_result"
    }
   ],
   "source": [
    "@genjax.gen\n",
    "def model(p):\n",
    "    v = dippl.flip_enum(p) @ \"v\"\n",
    "    return v\n",
    "\n",
    "\n",
    "lifted = dippl.chm_dist(model, genjax.select(\"v\"), None)\n",
    "\n",
    "\n",
    "def emitter(key, p):\n",
    "    key, sub_key = jax.random.split(key)\n",
    "\n",
    "    @adevjax.adev\n",
    "    def flip_loss(p):\n",
    "        (w, v) = lifted.random_weighted(sub_key, p)\n",
    "        b = v.get_leaf_value()[\"v\"]\n",
    "        return jax.lax.cond(\n",
    "            b,\n",
    "            lambda _: w * 0.0,\n",
    "            lambda p: w * (-p / 2.0),\n",
    "            p,\n",
    "        )\n",
    "\n",
    "    return adevjax.E(flip_loss).grad_estimate(key, p)\n",
    "\n",
    "\n",
    "jax.jit(emitter)(key, (0.3,))"
   ]
  },
  {
   "cell_type": "code",
   "execution_count": null,
   "id": "61a64c25",
   "metadata": {},
   "outputs": [],
   "source": []
  }
 ],
 "metadata": {
  "kernelspec": {
   "display_name": "Python 3 (ipykernel)",
   "language": "python",
   "name": "python3"
  },
  "language_info": {
   "codemirror_mode": {
    "name": "ipython",
    "version": 3
   },
   "file_extension": ".py",
   "mimetype": "text/x-python",
   "name": "python",
   "nbconvert_exporter": "python",
   "pygments_lexer": "ipython3",
   "version": "3.11.4"
  }
 },
 "nbformat": 4,
 "nbformat_minor": 5
}
