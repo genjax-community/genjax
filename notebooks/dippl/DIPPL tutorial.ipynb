{
 "cells": [
  {
   "cell_type": "code",
   "execution_count": 1,
   "id": "354f943b",
   "metadata": {},
   "outputs": [
    {
     "name": "stderr",
     "output_type": "stream",
     "text": [
      "WARNING: All log messages before absl::InitializeLog() is called are written to STDERR\n",
      "I0000 00:00:1696004302.286265  103625 tfrt_cpu_pjrt_client.cc:349] TfrtCpuClient created.\n",
      "No GPU/TPU found, falling back to CPU. (Set TF_CPP_MIN_LOG_LEVEL=0 and rerun for more info.)\n"
     ]
    }
   ],
   "source": [
    "import genjax\n",
    "from genjax import dippl\n",
    "from genjax import gensp\n",
    "import jax\n",
    "import adevjax\n",
    "\n",
    "console = genjax.pretty(show_locals=True)\n",
    "key = jax.random.PRNGKey(314159)"
   ]
  },
  {
   "cell_type": "code",
   "execution_count": 2,
   "id": "d6f18e9c",
   "metadata": {},
   "outputs": [
    {
     "name": "stdout",
     "output_type": "stream",
     "text": [
      "Traced<ShapedArray(float32[], weak_type=True)>with<DynamicJaxprTrace(level=1/0)>\n",
      "Traced<ShapedArray(float32[], weak_type=True)>with<DynamicJaxprTrace(level=1/0)>\n"
     ]
    },
    {
     "data": {
      "text/html": [
       "<pre style=\"white-space:pre;overflow-x:auto;line-height:normal;font-family:Menlo,'DejaVu Sans Mono',consolas,'Courier New',monospace\"></pre>\n"
      ],
      "text/plain": []
     },
     "metadata": {},
     "output_type": "display_data"
    },
    {
     "data": {
      "text/plain": [
       "\u001b[1m(\u001b[0m\u001b[1;35mArray\u001b[0m\u001b[1m(\u001b[0m\u001b[1;36m0.27483624\u001b[0m, \u001b[33mdtype\u001b[0m=\u001b[35mfloat32\u001b[0m\u001b[1m)\u001b[0m,\u001b[1m)\u001b[0m"
      ]
     },
     "execution_count": 2,
     "metadata": {},
     "output_type": "execute_result"
    }
   ],
   "source": [
    "@genjax.gen\n",
    "def model(p):\n",
    "    v = dippl.flip_enum(p) @ \"v\"\n",
    "    return v\n",
    "\n",
    "\n",
    "lifted = gensp.choice_map_distribution(model, genjax.select(\"v\"), None)\n",
    "\n",
    "\n",
    "def emitter(key, p):\n",
    "    key, sub_key = jax.random.split(key)\n",
    "    key, logpdf_key = jax.random.split(key)\n",
    "\n",
    "    @adevjax.adev\n",
    "    def flip_loss(p):\n",
    "        (_, v) = lifted.random_weighted(sub_key, 0.3)\n",
    "        w = lifted.estimate_logpdf(logpdf_key, v, p)\n",
    "        b = v.get_leaf_value()[\"v\"]\n",
    "        return jax.lax.cond(\n",
    "            b,\n",
    "            lambda _: w * 0.0,\n",
    "            lambda p: w * (-p / 2.0),\n",
    "            p,\n",
    "        )\n",
    "\n",
    "    return adevjax.E(flip_loss).grad_estimate(key, p)\n",
    "\n",
    "\n",
    "jax.jit(emitter)(key, (0.3,))"
   ]
  },
  {
   "cell_type": "code",
   "execution_count": null,
   "id": "482e4ad4-6578-4d0b-9994-ec0ca700c8ed",
   "metadata": {},
   "outputs": [],
   "source": []
  }
 ],
 "metadata": {
  "kernelspec": {
   "display_name": "Python 3 (ipykernel)",
   "language": "python",
   "name": "python3"
  },
  "language_info": {
   "codemirror_mode": {
    "name": "ipython",
    "version": 3
   },
   "file_extension": ".py",
   "mimetype": "text/x-python",
   "name": "python",
   "nbconvert_exporter": "python",
   "pygments_lexer": "ipython3",
   "version": "3.11.4"
  }
 },
 "nbformat": 4,
 "nbformat_minor": 5
}
