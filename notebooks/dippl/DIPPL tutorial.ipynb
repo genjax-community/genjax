{
 "cells": [
  {
   "cell_type": "code",
   "execution_count": 1,
   "id": "354f943b",
   "metadata": {},
   "outputs": [
    {
     "name": "stderr",
     "output_type": "stream",
     "text": [
      "WARNING: All log messages before absl::InitializeLog() is called are written to STDERR\n",
      "I0000 00:00:1696011130.487402  147892 tfrt_cpu_pjrt_client.cc:349] TfrtCpuClient created.\n",
      "No GPU/TPU found, falling back to CPU. (Set TF_CPP_MIN_LOG_LEVEL=0 and rerun for more info.)\n"
     ]
    }
   ],
   "source": [
    "import genjax\n",
    "from genjax import dippl\n",
    "from genjax import gensp\n",
    "import jax\n",
    "import jax.numpy as jnp\n",
    "import adevjax\n",
    "\n",
    "console = genjax.pretty(show_locals=True)\n",
    "key = jax.random.PRNGKey(314159)"
   ]
  },
  {
   "cell_type": "code",
   "execution_count": 2,
   "id": "d6f18e9c",
   "metadata": {},
   "outputs": [],
   "source": [
    "@genjax.gen\n",
    "def abnormal_flipper():\n",
    "    flip = dippl.flip_enum(0.5) @ \"flip\"\n",
    "    v = jax.lax.cond(flip, lambda: 10.0, lambda: 0.0)\n",
    "    gensp.accum_score(v)\n",
    "\n",
    "\n",
    "lifted_model = gensp.choice_map_distribution(\n",
    "    abnormal_flipper, genjax.select(\"flip\"), None\n",
    ")"
   ]
  },
  {
   "cell_type": "code",
   "execution_count": 3,
   "id": "6978b3c4-3f8c-4050-9ea1-702946fe5231",
   "metadata": {
    "tags": []
   },
   "outputs": [
    {
     "data": {
      "text/html": [
       "<pre style=\"white-space:pre;overflow-x:auto;line-height:normal;font-family:Menlo,'DejaVu Sans Mono',consolas,'Courier New',monospace\"></pre>\n"
      ],
      "text/plain": []
     },
     "metadata": {},
     "output_type": "display_data"
    },
    {
     "data": {
      "text/plain": [
       "\n",
       "\u001b[1m(\u001b[0m\n",
       "    \u001b[1;35mArray\u001b[0m\u001b[1m(\u001b[0m\u001b[1;36m9.525923\u001b[0m, \u001b[33mdtype\u001b[0m=\u001b[35mfloat32\u001b[0m\u001b[1m)\u001b[0m,\n",
       "    \u001b[1;35mValueChoiceMap\u001b[0m\u001b[1m(\u001b[0m\n",
       "        \u001b[33mvalue\u001b[0m=\u001b[1;35mHierarchicalChoiceMap\u001b[0m\u001b[1m(\u001b[0m\n",
       "            \u001b[33mtrie\u001b[0m=\u001b[1;35mTrie\u001b[0m\u001b[1m(\u001b[0m\u001b[33minner\u001b[0m=\u001b[1m{\u001b[0m\u001b[32m'flip'\u001b[0m: \u001b[1;35mValueChoiceMap\u001b[0m\u001b[1m(\u001b[0m\u001b[33mvalue\u001b[0m=\u001b[1;35mArray\u001b[0m\u001b[1m(\u001b[0m\u001b[3;92mTrue\u001b[0m, \u001b[33mdtype\u001b[0m=\u001b[35mbool\u001b[0m\u001b[1m)\u001b[0m\u001b[1m)\u001b[0m\u001b[1m}\u001b[0m\u001b[1m)\u001b[0m\n",
       "        \u001b[1m)\u001b[0m\n",
       "    \u001b[1m)\u001b[0m\n",
       "\u001b[1m)\u001b[0m"
      ]
     },
     "execution_count": 3,
     "metadata": {},
     "output_type": "execute_result"
    }
   ],
   "source": [
    "key, sub_key = jax.random.split(key)\n",
    "lifted_model.random_weighted(sub_key)"
   ]
  },
  {
   "cell_type": "code",
   "execution_count": 15,
   "id": "6e925b07-8975-4366-848f-c596b39d21e1",
   "metadata": {
    "tags": []
   },
   "outputs": [],
   "source": [
    "@genjax.gen\n",
    "def variational_family(p):\n",
    "    flip = dippl.flip_enum(p) @ \"flip\"\n",
    "\n",
    "\n",
    "lifted_family = gensp.choice_map_distribution(\n",
    "    variational_family, genjax.select(\"flip\"), None\n",
    ")"
   ]
  },
  {
   "cell_type": "code",
   "execution_count": 16,
   "id": "54553df1-01ec-4f04-a031-14eb76fa8f48",
   "metadata": {
    "tags": []
   },
   "outputs": [],
   "source": [
    "def variational_grad(key, p):\n",
    "    key, sub_key = jax.random.split(key)\n",
    "    key, logpdf_key = jax.random.split(key)\n",
    "\n",
    "    @adevjax.adev\n",
    "    def flip_loss(p):\n",
    "        (family_w, v) = lifted_family.random_weighted(sub_key, p)\n",
    "        model_w = lifted_model.estimate_logpdf(logpdf_key, v)\n",
    "        return model_w - family_w\n",
    "\n",
    "    return adevjax.E(flip_loss).grad_estimate(key, (p,))"
   ]
  },
  {
   "cell_type": "code",
   "execution_count": 19,
   "id": "ebc56154-9749-4964-96a0-62f5d58ace61",
   "metadata": {
    "tags": []
   },
   "outputs": [
    {
     "data": {
      "text/html": [
       "<pre style=\"white-space:pre;overflow-x:auto;line-height:normal;font-family:Menlo,'DejaVu Sans Mono',consolas,'Courier New',monospace\"></pre>\n"
      ],
      "text/plain": []
     },
     "metadata": {},
     "output_type": "display_data"
    },
    {
     "data": {
      "text/plain": [
       "\u001b[1m(\u001b[0m\u001b[1;35mArray\u001b[0m\u001b[1m(\u001b[0m\u001b[1;36m9.41095\u001b[0m, \u001b[33mdtype\u001b[0m=\u001b[35mfloat32\u001b[0m\u001b[1m)\u001b[0m,\u001b[1m)\u001b[0m"
      ]
     },
     "execution_count": 19,
     "metadata": {},
     "output_type": "execute_result"
    }
   ],
   "source": [
    "key, sub_key = jax.random.split(key)\n",
    "jax.jit(variational_grad)(sub_key, 0.9)"
   ]
  },
  {
   "cell_type": "code",
   "execution_count": null,
   "id": "c8dba2cd-b190-4c49-8e95-565527105667",
   "metadata": {},
   "outputs": [],
   "source": []
  }
 ],
 "metadata": {
  "kernelspec": {
   "display_name": "Python 3 (ipykernel)",
   "language": "python",
   "name": "python3"
  },
  "language_info": {
   "codemirror_mode": {
    "name": "ipython",
    "version": 3
   },
   "file_extension": ".py",
   "mimetype": "text/x-python",
   "name": "python",
   "nbconvert_exporter": "python",
   "pygments_lexer": "ipython3",
   "version": "3.11.4"
  }
 },
 "nbformat": 4,
 "nbformat_minor": 5
}
