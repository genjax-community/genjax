{
 "cells": [
  {
   "cell_type": "code",
   "execution_count": 1,
   "id": "2a3a6bde-6699-4639-831e-3e6a0316ed46",
   "metadata": {
    "tags": []
   },
   "outputs": [
    {
     "ename": "ImportError",
     "evalue": "cannot import name 'grab_key' from 'adevjax' (/Users/mccoybecker/miniconda3/envs/pyrovae/lib/python3.10/site-packages/adevjax/__init__.py)",
     "output_type": "error",
     "traceback": [
      "\u001b[0;31m---------------------------------------------------------------------------\u001b[0m",
      "\u001b[0;31mImportError\u001b[0m                               Traceback (most recent call last)",
      "Cell \u001b[0;32mIn[1], line 1\u001b[0m\n\u001b[0;32m----> 1\u001b[0m \u001b[38;5;28;01mimport\u001b[39;00m \u001b[38;5;21;01mgenjax\u001b[39;00m\n\u001b[1;32m      2\u001b[0m \u001b[38;5;28;01mfrom\u001b[39;00m \u001b[38;5;21;01mgenjax\u001b[39;00m \u001b[38;5;28;01mimport\u001b[39;00m dippl\n\u001b[1;32m      3\u001b[0m \u001b[38;5;28;01mfrom\u001b[39;00m \u001b[38;5;21;01mgenjax\u001b[39;00m \u001b[38;5;28;01mimport\u001b[39;00m gensp\n",
      "File \u001b[0;32m~/research/genjax/src/genjax/__init__.py:20\u001b[0m\n\u001b[1;32m     14\u001b[0m \u001b[38;5;124m\"\u001b[39m\u001b[38;5;124mGenJAX is a probabilistic programming system constructed by combining the concepts of Gen with the program transformation and hardware accelerator compilation capabilities of JAX.\u001b[39m\u001b[38;5;124m\"\u001b[39m\n\u001b[1;32m     16\u001b[0m \u001b[38;5;66;03m# This __init__ file exports GenJAX's public API.\u001b[39;00m\n\u001b[1;32m     17\u001b[0m \u001b[38;5;66;03m# For the internals, see _src.\u001b[39;00m\n\u001b[1;32m     18\u001b[0m \n\u001b[1;32m     19\u001b[0m \u001b[38;5;66;03m# Closed modules.\u001b[39;00m\n\u001b[0;32m---> 20\u001b[0m \u001b[38;5;28;01mfrom\u001b[39;00m \u001b[38;5;21;01mgenjax\u001b[39;00m \u001b[38;5;28;01mimport\u001b[39;00m dippl\n\u001b[1;32m     21\u001b[0m \u001b[38;5;28;01mfrom\u001b[39;00m \u001b[38;5;21;01mgenjax\u001b[39;00m \u001b[38;5;28;01mimport\u001b[39;00m gensp\n\u001b[1;32m     22\u001b[0m \u001b[38;5;28;01mfrom\u001b[39;00m \u001b[38;5;21;01mgenjax\u001b[39;00m \u001b[38;5;28;01mimport\u001b[39;00m inference\n",
      "File \u001b[0;32m~/research/genjax/src/genjax/dippl.py:15\u001b[0m\n\u001b[1;32m      1\u001b[0m \u001b[38;5;66;03m# Copyright 2022 MIT Probabilistic Computing Project\u001b[39;00m\n\u001b[1;32m      2\u001b[0m \u001b[38;5;66;03m#\u001b[39;00m\n\u001b[1;32m      3\u001b[0m \u001b[38;5;66;03m# Licensed under the Apache License, Version 2.0 (the \"License\");\u001b[39;00m\n\u001b[0;32m   (...)\u001b[0m\n\u001b[1;32m     12\u001b[0m \u001b[38;5;66;03m# See the License for the specific language governing permissions and\u001b[39;00m\n\u001b[1;32m     13\u001b[0m \u001b[38;5;66;03m# limitations under the License.\u001b[39;00m\n\u001b[0;32m---> 15\u001b[0m \u001b[38;5;28;01mfrom\u001b[39;00m \u001b[38;5;21;01mgenjax\u001b[39;00m\u001b[38;5;21;01m.\u001b[39;00m\u001b[38;5;21;01m_src\u001b[39;00m\u001b[38;5;21;01m.\u001b[39;00m\u001b[38;5;21;01mdippl\u001b[39;00m \u001b[38;5;28;01mimport\u001b[39;00m flip_enum\n\u001b[1;32m     16\u001b[0m \u001b[38;5;28;01mfrom\u001b[39;00m \u001b[38;5;21;01mgenjax\u001b[39;00m\u001b[38;5;21;01m.\u001b[39;00m\u001b[38;5;21;01m_src\u001b[39;00m\u001b[38;5;21;01m.\u001b[39;00m\u001b[38;5;21;01mdippl\u001b[39;00m \u001b[38;5;28;01mimport\u001b[39;00m geometric_reinforce\n\u001b[1;32m     17\u001b[0m \u001b[38;5;28;01mfrom\u001b[39;00m \u001b[38;5;21;01mgenjax\u001b[39;00m\u001b[38;5;21;01m.\u001b[39;00m\u001b[38;5;21;01m_src\u001b[39;00m\u001b[38;5;21;01m.\u001b[39;00m\u001b[38;5;21;01mdippl\u001b[39;00m \u001b[38;5;28;01mimport\u001b[39;00m loss\n",
      "File \u001b[0;32m~/research/genjax/src/genjax/_src/dippl/__init__.py:21\u001b[0m\n\u001b[1;32m     19\u001b[0m \u001b[38;5;28;01mimport\u001b[39;00m \u001b[38;5;21;01mjax\u001b[39;00m\u001b[38;5;21;01m.\u001b[39;00m\u001b[38;5;21;01mtree_util\u001b[39;00m \u001b[38;5;28;01mas\u001b[39;00m \u001b[38;5;21;01mjtu\u001b[39;00m\n\u001b[1;32m     20\u001b[0m \u001b[38;5;28;01mfrom\u001b[39;00m \u001b[38;5;21;01madevjax\u001b[39;00m \u001b[38;5;28;01mimport\u001b[39;00m ADEVPrimitive\n\u001b[0;32m---> 21\u001b[0m \u001b[38;5;28;01mfrom\u001b[39;00m \u001b[38;5;21;01madevjax\u001b[39;00m \u001b[38;5;28;01mimport\u001b[39;00m grab_key\n\u001b[1;32m     22\u001b[0m \u001b[38;5;28;01mfrom\u001b[39;00m \u001b[38;5;21;01madevjax\u001b[39;00m \u001b[38;5;28;01mimport\u001b[39;00m E\n\u001b[1;32m     23\u001b[0m \u001b[38;5;28;01mfrom\u001b[39;00m \u001b[38;5;21;01madevjax\u001b[39;00m \u001b[38;5;28;01mimport\u001b[39;00m add_cost\n",
      "\u001b[0;31mImportError\u001b[0m: cannot import name 'grab_key' from 'adevjax' (/Users/mccoybecker/miniconda3/envs/pyrovae/lib/python3.10/site-packages/adevjax/__init__.py)"
     ]
    }
   ],
   "source": [
    "import genjax\n",
    "from genjax import dippl\n",
    "from genjax import gensp\n",
    "import jax\n",
    "import jax.numpy as jnp\n",
    "import adevjax\n",
    "\n",
    "console = genjax.pretty(show_locals=True)\n",
    "key = jax.random.PRNGKey(314159)\n",
    "\n",
    "\n",
    "@genjax.gen\n",
    "def flipper(p):\n",
    "    flip = dippl.flip_enum(p) @ \"flip\"\n",
    "\n",
    "\n",
    "# Lift to GenSP.\n",
    "lifted_model = gensp.choice_map_distribution(flipper, genjax.select(\"flip\"), None)\n",
    "\n",
    "\n",
    "def debug_loss(key, p):\n",
    "    @dippl.loss\n",
    "    def flip_variational_loss(p):\n",
    "        v = dippl.upper(lifted_model)(p)\n",
    "\n",
    "    loss = flip_variational_loss.jvp_estimate(key, (p,), (1.0,))\n",
    "    return loss\n",
    "\n",
    "\n",
    "jaxpr = jax.make_jaxpr(debug_loss)(key, 0.3)\n",
    "print(jaxpr)"
   ]
  },
  {
   "cell_type": "code",
   "execution_count": null,
   "id": "ef33276d-150d-44f7-b370-bb451d2f6ca2",
   "metadata": {},
   "outputs": [],
   "source": []
  }
 ],
 "metadata": {
  "kernelspec": {
   "display_name": "Python 3 (ipykernel)",
   "language": "python",
   "name": "python3"
  },
  "language_info": {
   "codemirror_mode": {
    "name": "ipython",
    "version": 3
   },
   "file_extension": ".py",
   "mimetype": "text/x-python",
   "name": "python",
   "nbconvert_exporter": "python",
   "pygments_lexer": "ipython3",
   "version": "3.10.12"
  }
 },
 "nbformat": 4,
 "nbformat_minor": 5
}
