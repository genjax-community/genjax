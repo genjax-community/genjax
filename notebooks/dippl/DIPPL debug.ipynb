{
 "cells": [
  {
   "cell_type": "code",
   "execution_count": 1,
   "id": "2a3a6bde-6699-4639-831e-3e6a0316ed46",
   "metadata": {
    "tags": []
   },
   "outputs": [
    {
     "name": "stderr",
     "output_type": "stream",
     "text": [
      "WARNING: All log messages before absl::InitializeLog() is called are written to STDERR\n",
      "I0000 00:00:1696194932.106387   39454 tfrt_cpu_pjrt_client.cc:349] TfrtCpuClient created.\n"
     ]
    },
    {
     "name": "stdout",
     "output_type": "stream",
     "text": [
      "{ lambda ; a:u32[2] b:f32[]. let\n",
      "    c:key<fry>[] = random_seed[impl=fry] 0\n",
      "    d:u32[2] = random_unwrap c\n",
      "    e:u32[2] = sample[\n",
      "      in_tree=PyTreeDef((CustomNode(GrabKey[()], []), *))\n",
      "      jaxpr={ lambda ; f:u32[2]. let  in (f,) }\n",
      "      kont=<function CPSInterpreter._eval_jaxpr_cps.<locals>.eval_jaxpr_recurse.<locals>.kont at 0x7f44a6b20ea0>\n",
      "      num_consts=0\n",
      "      out_tree=PyTreeDef(*)\n",
      "    ] d\n",
      "  in (e,) }\n"
     ]
    }
   ],
   "source": [
    "import genjax\n",
    "from genjax import dippl\n",
    "from genjax import gensp\n",
    "import jax\n",
    "import jax.numpy as jnp\n",
    "import adevjax\n",
    "\n",
    "console = genjax.pretty(show_locals=True)\n",
    "key = jax.random.PRNGKey(314159)\n",
    "\n",
    "\n",
    "@genjax.gen\n",
    "def flipper(p):\n",
    "    flip = dippl.flip_enum(p) @ \"flip\"\n",
    "\n",
    "\n",
    "# Lift to GenSP.\n",
    "lifted_model = gensp.choice_map_distribution(flipper, genjax.select(\"flip\"), None)\n",
    "\n",
    "\n",
    "def debug_loss(key, p):\n",
    "    @dippl.loss\n",
    "    def flip_variational_loss(p):\n",
    "        v = dippl.upper(lifted_model)(p)\n",
    "\n",
    "    loss = flip_variational_loss.jvp_estimate(key, (p,), (1.0,))\n",
    "    return loss\n",
    "\n",
    "\n",
    "jaxpr = jax.make_jaxpr(debug_loss)(key, 0.3)\n",
    "print(jaxpr)"
   ]
  },
  {
   "cell_type": "code",
   "execution_count": null,
   "id": "ef33276d-150d-44f7-b370-bb451d2f6ca2",
   "metadata": {},
   "outputs": [],
   "source": []
  }
 ],
 "metadata": {
  "kernelspec": {
   "display_name": "Python 3 (ipykernel)",
   "language": "python",
   "name": "python3"
  },
  "language_info": {
   "codemirror_mode": {
    "name": "ipython",
    "version": 3
   },
   "file_extension": ".py",
   "mimetype": "text/x-python",
   "name": "python",
   "nbconvert_exporter": "python",
   "pygments_lexer": "ipython3",
   "version": "3.11.4"
  }
 },
 "nbformat": 4,
 "nbformat_minor": 5
}
