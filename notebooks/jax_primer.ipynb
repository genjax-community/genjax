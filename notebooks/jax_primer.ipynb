{
 "cells": [
  {
   "cell_type": "raw",
   "id": "faaf148f-e118-4554-91c7-dabc634f1230",
   "metadata": {},
   "source": [
    "---\n",
    "subtitle: Check your rope, sharpen your spear.\n",
    "---"
   ]
  },
  {
   "cell_type": "markdown",
   "id": "13f94408-d3b9-4309-b069-6bca59426316",
   "metadata": {},
   "source": [
    "# JAX Primer\n",
    "\n",
    "GenJAX is Gen & _JAX_: JAX is an array programming system in Python, which supports several unique capabilities, including automatic differentiation, user-directed parallelism, and JIT compilation via XLA to native code.\n",
    "\n",
    "While JAX is a powerful tool, [it does have its sharp edges](https://jax.readthedocs.io/en/latest/notebooks/Common_Gotchas_in_JAX.html)."
   ]
  },
  {
   "cell_type": "code",
   "execution_count": null,
   "id": "3afa177c-60d0-4194-89b9-0783adc7f42f",
   "metadata": {},
   "outputs": [],
   "source": [
    "import jax"
   ]
  },
  {
   "cell_type": "markdown",
   "id": "d689b599-9e13-4b20-85bf-2fea4caab79e",
   "metadata": {},
   "source": [
    "## Common gotchas\n",
    "\n",
    "Here's a quick list of things that you can expect to see if you're not careful with JAX."
   ]
  },
  {
   "cell_type": "markdown",
   "id": "6927c784-a9f8-4f59-bb98-971412b10f76",
   "metadata": {},
   "source": [
    "### Don't use Python control flow"
   ]
  },
  {
   "cell_type": "markdown",
   "id": "88e0ab93-2652-4970-ab0e-c93d3c0c0b82",
   "metadata": {},
   "source": [
    "#### If statements"
   ]
  },
  {
   "cell_type": "code",
   "execution_count": null,
   "id": "840397d3-6356-4b73-bc1a-d0793a4209b1",
   "metadata": {},
   "outputs": [],
   "source": [
    "def f(x):\n",
    "    if x > 5:\n",
    "        return 3.0\n",
    "    else:\n",
    "        return 2.0\n",
    "\n",
    "\n",
    "jax.jit(f)(3.0)"
   ]
  },
  {
   "cell_type": "markdown",
   "id": "f60665d6-fd90-41ca-a9f4-3c197d3d364b",
   "metadata": {},
   "source": [
    "JAX works _by tracing_ your code. It passes symbolic values through your code, and dispatch the operations which occur on them.\n",
    "\n",
    "_This error_ is saying that Python is attempting to convert _a JAX tracer value_ into a boolean, to resolve the conditional.\n",
    "\n",
    "This is disallowed -- because _we don't know the value of the array_ at compile time / Python runtime. Because we don't know the value, how could we know what branch to take?"
   ]
  },
  {
   "cell_type": "markdown",
   "id": "19470564-2a28-4211-a892-130ca9d410eb",
   "metadata": {},
   "source": [
    "#### For loops"
   ]
  },
  {
   "cell_type": "markdown",
   "id": "40882dff-101d-4c26-af01-4f3db75e762c",
   "metadata": {},
   "source": [
    "In contrast to `if`, `for` will \"just work\" -- except it's not a good idea to use it."
   ]
  },
  {
   "cell_type": "code",
   "execution_count": null,
   "id": "a56c0896-6ba2-474e-a5db-fad2f12a1c44",
   "metadata": {},
   "outputs": [],
   "source": [
    "def f(x):\n",
    "    y = 0.0\n",
    "    for i in x:\n",
    "        y += i\n",
    "    return y\n",
    "\n",
    "\n",
    "jax.jit(f)(jax.numpy.arange(10))"
   ]
  },
  {
   "cell_type": "markdown",
   "id": "83560955-7228-4f63-a2a8-fcf51d7afd05",
   "metadata": {},
   "source": [
    "Why is it not a good idea to use this? Let's look at the _lowered Jaxpr code_ which JAX produces:"
   ]
  },
  {
   "cell_type": "code",
   "execution_count": null,
   "id": "b61b8b12-98b5-495d-8671-e3bd17bdc140",
   "metadata": {},
   "outputs": [],
   "source": [
    "jax.make_jaxpr(f)(jax.numpy.arange(10))"
   ]
  },
  {
   "cell_type": "markdown",
   "id": "06ab7088-72c7-449b-8e5f-e6b012b92651",
   "metadata": {},
   "source": [
    "JAX has _unrolled_ the entire loop. While this example JIT compiles relatively fast, the XLA compile time goes like quadratic in the size of the code. \n",
    "\n",
    "For any more complicated program, the compilation time will start to take longer and longer..."
   ]
  }
 ],
 "metadata": {
  "kernelspec": {
   "display_name": "Python 3 (ipykernel)",
   "language": "python",
   "name": "python3"
  },
  "language_info": {
   "codemirror_mode": {
    "name": "ipython",
    "version": 3
   },
   "file_extension": ".py",
   "mimetype": "text/x-python",
   "name": "python",
   "nbconvert_exporter": "python",
   "pygments_lexer": "ipython3",
   "version": "3.12.3"
  }
 },
 "nbformat": 4,
 "nbformat_minor": 5
}
