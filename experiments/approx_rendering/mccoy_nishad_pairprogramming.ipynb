{
 "cells": [
  {
   "cell_type": "code",
   "execution_count": 3,
   "id": "d4aee3ff",
   "metadata": {},
   "outputs": [],
   "source": [
    "import numpy as np\n",
    "import jax.numpy as jnp\n",
    "import jax\n",
    "\n",
    "\n",
    "import functools\n",
    "from dataclasses import dataclass\n",
    "from typing import Tuple\n",
    "from jax.scipy.special import logsumexp\n",
    "import jax\n",
    "import genjax\n",
    "import matplotlib.pyplot as plt\n",
    "# import open3d as o3d"
   ]
  },
  {
   "cell_type": "code",
   "execution_count": 4,
   "id": "ba2ed562",
   "metadata": {},
   "outputs": [],
   "source": [
    "\n",
    "# move point cloud to a specified pose\n",
    "# coords: (N,3) point cloud\n",
    "# pose: (4,4) pose matrix. rotation matrix in top left (3,3) and translation in (:3,3)\n",
    "def apply_transform(coords, transform):\n",
    "    coords = jnp.einsum(\n",
    "        'ij,...j->...i',\n",
    "        transform,\n",
    "        jnp.concatenate([coords, jnp.ones(coords.shape[:-1] + (1,))], axis=-1),\n",
    "    )[..., :-1]\n",
    "    return coords\n",
    "\n",
    "# render single object model cloud at specified pose to a \"coordinate image\"\n",
    "# \"coordinate image\" is (h,w,3) where at each pixel we have the 3d coordinate of that point\n",
    "# input_cloud: (N,3) object model point cloud\n",
    "# pose: (4,4) pose matrix. rotation matrix in top left (3,3) and translation in (:3,3)\n",
    "# h,w : height and width\n",
    "# fx_fy : focal lengths\n",
    "# cx_cy : principal point\n",
    "# output: (h,w,3) coordinate image\n",
    "@functools.partial(jax.jit, static_argnames=[\"h\",\"w\"])\n",
    "def render_cloud_at_pose(input_cloud, pose, h, w, fx_fy, cx_cy):\n",
    "    transformed_cloud = apply_transform(input_cloud, pose)\n",
    "    point_cloud = jnp.vstack([\n",
    "        -1.0 * jnp.ones((1,3)),\n",
    "        transformed_cloud\n",
    "    ])\n",
    "\n",
    "    point_cloud_normalized =  point_cloud / point_cloud[:,2].reshape(-1,1)\n",
    "    temp1 = point_cloud_normalized[:, :2] * fx_fy.transpose()\n",
    "    temp2 = temp1 + cx_cy\n",
    "    pixels = jnp.round(temp2)\n",
    "\n",
    "    x,y = jnp.meshgrid(jnp.arange(h), jnp.arange(w))\n",
    "    matches = (x[:,:,None] == pixels[:,0]) & (y[:,:,None] == pixels[:,1])\n",
    "    a = jnp.argmax(matches,axis=-1)\n",
    "    return point_cloud[a]"
   ]
  },
  {
   "cell_type": "code",
   "execution_count": 5,
   "id": "e0efe47c",
   "metadata": {},
   "outputs": [
    {
     "name": "stdout",
     "output_type": "stream",
     "text": [
      "115\n"
     ]
    }
   ],
   "source": [
    "object_model_cloud = np.random.rand(200,3) * 2.0\n",
    "object_model_cloud = jnp.array(object_model_cloud)\n",
    "\n",
    "h,w,fx_fy,cx_cy = 120, 160, jnp.array([200.0, 200.0]), jnp.array([60.0, 80.0])\n",
    "r = 0.1\n",
    "outlier_prob =  0.01\n",
    "\n",
    "gt_pose = jnp.array([\n",
    "     [1.0, 0.0, 0.0, 2.0],   \n",
    "     [0.0, 1.0, 0.0, 0.0],   \n",
    "     [0.0, 0.0, 1.0, 10.0],   \n",
    "     [0.0, 0.0, 0.0, 1.0],   \n",
    "    ]\n",
    ")\n",
    "gt_image = render_cloud_at_pose(object_model_cloud, gt_pose,h,w,fx_fy,cx_cy)\n",
    "print((gt_image[:,:,2] > 0).sum())"
   ]
  },
  {
   "cell_type": "code",
   "execution_count": 6,
   "id": "dc6c2744",
   "metadata": {},
   "outputs": [],
   "source": [
    "rendered_image = gt_image"
   ]
  },
  {
   "cell_type": "code",
   "execution_count": 7,
   "id": "376ca508",
   "metadata": {},
   "outputs": [
    {
     "data": {
      "text/plain": [
       "((160, 120, 3), (160, 120, 3))"
      ]
     },
     "execution_count": 7,
     "metadata": {},
     "output_type": "execute_result"
    }
   ],
   "source": [
    "rendered_image.shape, gt_image.shape"
   ]
  },
  {
   "cell_type": "code",
   "execution_count": 8,
   "id": "f647eaa8",
   "metadata": {},
   "outputs": [],
   "source": [
    "\n",
    "@functools.partial(jax.jit, static_argnames=\"filter_shape\")\n",
    "def extract_2d_patches(data: jnp.ndarray, filter_shape: Tuple[int, int]) -> jnp.ndarray:\n",
    "    \"\"\"For each pixel, extract 2D patches centered at that pixel.\n",
    "    Args:\n",
    "        data (jnp.ndarray): Array of shape (H, W, ...)\n",
    "            data needs to be 2, 3, or 4 dimensional.\n",
    "        filter_shape (Tuple[int, int]): Size of the patches in H, W dimensions\n",
    "    Returns:\n",
    "        extracted_patches: Array of shape (H, W, filter_shape[0], filter_shape[1], C)\n",
    "            extracted_patches[i, j] == data[\n",
    "                i - filter_shape[0] // 2:i + filter_shape[0] - filter_shape[0] // 2,\n",
    "                j - filter_shape[1] // 2:j + filter_shape[1] - filter_shape[1] // 2,\n",
    "            ]\n",
    "    \"\"\"\n",
    "    assert len(filter_shape) == 2\n",
    "    output_shape = data.shape + filter_shape\n",
    "    if data.ndim == 2:\n",
    "        data = data[..., None, None]\n",
    "    elif data.ndim == 3:\n",
    "        data = data[:, :, None]\n",
    "\n",
    "    padding = [\n",
    "        (filter_shape[ii] // 2, filter_shape[ii] - filter_shape[ii] // 2 - 1)\n",
    "        for ii in range(len(filter_shape))\n",
    "    ]\n",
    "    extracted_patches = jnp.moveaxis(\n",
    "        jax.lax.conv_general_dilated_patches(\n",
    "            lhs=data,\n",
    "            filter_shape=filter_shape,\n",
    "            window_strides=(1, 1),\n",
    "            padding=padding,\n",
    "            dimension_numbers=(\"HWNC\", \"OIHW\", \"HWNC\"),\n",
    "        ).reshape(output_shape),\n",
    "        (-2, -1),\n",
    "        (2, 3),\n",
    "    )\n",
    "    return extracted_patches\n",
    "\n",
    "@functools.partial(jax.jit, static_argnames=[\"r\", \"outlier_prob\"])\n",
    "def neural_descriptor_likelihood(\n",
    "    obs_xyz: jnp.ndarray,\n",
    "    rendered_xyz: jnp.ndarray,\n",
    "    r,\n",
    "    outlier_prob\n",
    "):\n",
    "    obs_mask = obs_xyz[:,:,2] > 0\n",
    "    rendered_mask = rendered_xyz[:,:,2] > 0\n",
    "    num_latent_points = rendered_mask.sum()\n",
    "    rendered_xyz_patches = extract_2d_patches(rendered_xyz, (4,4))\n",
    "    log_mixture_prob = log_likelihood_for_pixel(\n",
    "        obs_xyz,\n",
    "        rendered_xyz_patches,\n",
    "        r,\n",
    "        outlier_prob,\n",
    "        num_latent_points\n",
    "    )\n",
    "    return jnp.sum(jnp.where(obs_mask, log_mixture_prob, 0.0))\n",
    "\n",
    "\n",
    "@functools.partial(\n",
    "    jnp.vectorize,\n",
    "    signature='(m),(h,w,m)->()',\n",
    "    excluded=(2, 3, 4),\n",
    ")\n",
    "def log_likelihood_for_pixel(\n",
    "    data_xyz: jnp.ndarray,\n",
    "    model_xyz: jnp.ndarray,\n",
    "    r: float,\n",
    "    outlier_prob: float,\n",
    "    num_latent_points: float,\n",
    "):\n",
    "    \"\"\"    Args:\n",
    "        data_xyz (jnp.ndarray): (3,)\n",
    "            3d coordinate of observed point\n",
    "        model_xyz : (filter_height, filter_width, 3),\n",
    "        r : float, sphere radius\n",
    "        outlier_prob: float\n",
    "        num_latent_points: int\n",
    "    \"\"\"\n",
    "    distance = jnp.linalg.norm(data_xyz - model_xyz, axis=-1).ravel() # (4,4)\n",
    "    \n",
    "    return jnp.log(jnp.sum(outlier_prob + jnp.where(\n",
    "        distance <= r,\n",
    "        1 / (4 * ((1 - outlier_prob)/num_latent_points) * jnp.pi * r**3) / (3 ),\n",
    "        0.0,\n",
    "    )))\n",
    "    return a\n",
    "\n",
    "\n",
    "@dataclass\n",
    "class _NeuralDescriptorLikelihood(genjax.Distribution):\n",
    "    def sample(self, key, *args, **kwargs):\n",
    "        return key, ()\n",
    "\n",
    "    def logpdf(self, key, image, *args):\n",
    "        return neural_descriptor_likelihood(image, *args)\n",
    "\n",
    "\n",
    "NeuralDescriptorLikelihood = _NeuralDescriptorLikelihood()\n"
   ]
  },
  {
   "cell_type": "code",
   "execution_count": 9,
   "id": "6413eb7c",
   "metadata": {},
   "outputs": [
    {
     "name": "stdout",
     "output_type": "stream",
     "text": [
      "155\n"
     ]
    }
   ],
   "source": [
    "object_model_cloud = np.random.rand(200,3) * 2.0\n",
    "object_model_cloud = jnp.array(object_model_cloud)\n",
    "\n",
    "h,w,fx_fy,cx_cy = 120, 160, jnp.array([200.0, 200.0]), jnp.array([60.0, 80.0])\n",
    "r = 0.3\n",
    "outlier_prob =  0.01\n",
    "\n",
    "gt_pose = jnp.array([\n",
    "     [1.0, 0.0, 0.0, 0.0],   \n",
    "     [0.0, 1.0, 0.0, 0.0],   \n",
    "     [0.0, 0.0, 1.0, 20.0],   \n",
    "     [0.0, 0.0, 0.0, 1.0],   \n",
    "    ]\n",
    ")\n",
    "gt_image = render_cloud_at_pose(object_model_cloud, gt_pose,h,w,fx_fy,cx_cy)\n",
    "print((gt_image[:,:,2] > 0).sum())"
   ]
  },
  {
   "cell_type": "code",
   "execution_count": 10,
   "id": "e2002c83",
   "metadata": {},
   "outputs": [],
   "source": [
    "\n",
    "@genjax.gen\n",
    "def model(key, object_model_cloud):\n",
    "    key, x = genjax.trace(\"x\", genjax.Uniform)(key, (-10.0, 10.0))\n",
    "    pose = jnp.array(\n",
    "        [\n",
    "            [1.0, 0.0, 0.0, x],\n",
    "            [0.0, 1.0, 0.0, 0.0],\n",
    "            [0.0, 0.0, 1.0, 20.0],\n",
    "            [0.0, 0.0, 0.0, 1.0],\n",
    "        ]\n",
    "    )\n",
    "    rendered_image = render_cloud_at_pose(\n",
    "        object_model_cloud, pose, h, w, fx_fy, cx_cy\n",
    "    )\n",
    "    key, cloud = genjax.trace(\"observed\", NeuralDescriptorLikelihood)(\n",
    "        key, (rendered_image, r, outlier_prob)\n",
    "    )\n",
    "    return key, rendered_image.shape"
   ]
  },
  {
   "cell_type": "code",
   "execution_count": 11,
   "id": "0876e011",
   "metadata": {},
   "outputs": [],
   "source": [
    "\n",
    "@functools.partial(\n",
    "    jnp.vectorize,\n",
    ")\n",
    "def evaluate_likelihood(\n",
    "    x: float\n",
    "):\n",
    "    latent_pose = jnp.array(\n",
    "        [\n",
    "            [1.0, 0.0, 0.0, x],   \n",
    "            [0.0, 1.0, 0.0, 0.0],   \n",
    "            [0.0, 0.0, 1.0, 20.0],   \n",
    "            [0.0, 0.0, 0.0, 1.0],   \n",
    "        ]\n",
    "    )\n",
    "    rendered_image = render_cloud_at_pose(object_model_cloud, latent_pose, h,w,fx_fy,cx_cy)\n",
    "\n",
    "    ### Make distribution whos logscore is\n",
    "    score = neural_descriptor_likelihood(gt_image, rendered_image, r, outlier_prob)\n",
    "    return score"
   ]
  },
  {
   "cell_type": "code",
   "execution_count": 12,
   "id": "d4221048",
   "metadata": {},
   "outputs": [],
   "source": [
    "def scorer(key, x):\n",
    "    obs = genjax.ChoiceMap.new({(\"x\",): x, (\"observed\",): gt_image})\n",
    "    key, (weight, tr) = model.importance(key, obs, (object_model_cloud, ))\n",
    "    return key, weight, x, tr"
   ]
  },
  {
   "cell_type": "code",
   "execution_count": 14,
   "id": "c4ebc646",
   "metadata": {},
   "outputs": [],
   "source": [
    "key = jax.random.PRNGKey(3)"
   ]
  },
  {
   "cell_type": "code",
   "execution_count": 15,
   "id": "ec4b610d",
   "metadata": {},
   "outputs": [
    {
     "name": "stdout",
     "output_type": "stream",
     "text": [
      "CPU times: user 1.12 s, sys: 78.3 ms, total: 1.19 s\n",
      "Wall time: 1.95 s\n"
     ]
    }
   ],
   "source": [
    "%%time\n",
    "xs = jnp.linspace(-2.0, 4.0, 1000)\n",
    "key, *sub_keys = jax.random.split(key, len(xs) + 1)\n",
    "sub_keys = jnp.array(sub_keys)\n",
    "f = jax.jit(jax.vmap(scorer, in_axes = (0, 0)))\n",
    "\n",
    "evaluate_likelihood_jit = jax.jit(evaluate_likelihood)\n"
   ]
  },
  {
   "cell_type": "code",
   "execution_count": 26,
   "id": "cb116273",
   "metadata": {},
   "outputs": [
    {
     "name": "stdout",
     "output_type": "stream",
     "text": [
      "CPU times: user 62.1 ms, sys: 28 ms, total: 90 ms\n",
      "Wall time: 88.4 ms\n"
     ]
    }
   ],
   "source": [
    "%%time \n",
    "_, weights_new, passed_through, traces = f(sub_keys, xs)"
   ]
  },
  {
   "cell_type": "code",
   "execution_count": 33,
   "id": "91ae8004",
   "metadata": {},
   "outputs": [
    {
     "data": {
      "text/plain": [
       "(1000, 160, 120, 3)"
      ]
     },
     "execution_count": 33,
     "metadata": {},
     "output_type": "execute_result"
    }
   ],
   "source": [
    "traces[\"observed\"].shape"
   ]
  },
  {
   "cell_type": "code",
   "execution_count": 27,
   "id": "43aa6691",
   "metadata": {},
   "outputs": [
    {
     "name": "stdout",
     "output_type": "stream",
     "text": [
      "CPU times: user 54.8 ms, sys: 29.2 ms, total: 84 ms\n",
      "Wall time: 82.5 ms\n"
     ]
    }
   ],
   "source": [
    "%%time\n",
    "weights_old = evaluate_likelihood_jit(xs)\n"
   ]
  },
  {
   "cell_type": "code",
   "execution_count": null,
   "id": "5112831d",
   "metadata": {},
   "outputs": [],
   "source": []
  },
  {
   "cell_type": "code",
   "execution_count": 22,
   "id": "6a2c2911",
   "metadata": {},
   "outputs": [
    {
     "data": {
      "text/plain": [
       "[<matplotlib.lines.Line2D at 0x7fe4f849b820>]"
      ]
     },
     "execution_count": 22,
     "metadata": {},
     "output_type": "execute_result"
    },
    {
     "data": {
      "image/png": "[encoded data removed]",
      "text/plain": [
       "<Figure size 640x480 with 1 Axes>"
      ]
     },
     "metadata": {},
     "output_type": "display_data"
    }
   ],
   "source": [
    "plt.plot(np.array(xs), weights_old)\n",
    "plt.plot(np.array(xs), weights_new)"
   ]
  },
  {
   "cell_type": "code",
   "execution_count": null,
   "id": "8a15ffa6",
   "metadata": {},
   "outputs": [],
   "source": []
  },
  {
   "cell_type": "code",
   "execution_count": 351,
   "id": "ef65048a",
   "metadata": {},
   "outputs": [
    {
     "data": {
      "text/plain": [
       "DeviceArray([-301.01337, -301.01337, -301.01337, ...,  161.16418,\n",
       "              161.85686,  161.85686], dtype=float32)"
      ]
     },
     "execution_count": 351,
     "metadata": {},
     "output_type": "execute_result"
    }
   ],
   "source": [
    "weights_new"
   ]
  },
  {
   "cell_type": "code",
   "execution_count": 269,
   "id": "89be48d9",
   "metadata": {},
   "outputs": [
    {
     "data": {
      "text/plain": [
       "[<matplotlib.lines.Line2D at 0x7f69d50af340>]"
      ]
     },
     "execution_count": 269,
     "metadata": {},
     "output_type": "execute_result"
    },
    {
     "data": {
      "image/png": "[encoded data removed]",
      "text/plain": [
       "<Figure size 640x480 with 1 Axes>"
      ]
     },
     "metadata": {},
     "output_type": "display_data"
    }
   ],
   "source": []
  },
  {
   "cell_type": "code",
   "execution_count": 252,
   "id": "391985a8",
   "metadata": {},
   "outputs": [
    {
     "ename": "SyntaxError",
     "evalue": "incomplete input (352423322.py, line 1)",
     "output_type": "error",
     "traceback": [
      "\u001b[0;36m  Cell \u001b[0;32mIn [252], line 1\u001b[0;36m\u001b[0m\n\u001b[0;31m    np.zip(np.array(\u001b[0m\n\u001b[0m                    ^\u001b[0m\n\u001b[0;31mSyntaxError\u001b[0m\u001b[0;31m:\u001b[0m incomplete input\n"
     ]
    }
   ],
   "source": [
    "np.zip(np.array("
   ]
  },
  {
   "cell_type": "code",
   "execution_count": null,
   "id": "4dd13a4a",
   "metadata": {},
   "outputs": [
    {
     "data": {
      "text/plain": [
       "[<matplotlib.lines.Line2D at 0x7f69ec44c9a0>]"
      ]
     },
     "execution_count": 139,
     "metadata": {},
     "output_type": "execute_result"
    },
    {
     "data": {
      "image/png": "[encoded data removed]",
      "text/plain": [
       "<Figure size 640x480 with 1 Axes>"
      ]
     },
     "metadata": {},
     "output_type": "display_data"
    }
   ],
   "source": [
    "plt.clf()\n",
    "plt.plot(np.array(xs), weights)"
   ]
  },
  {
   "cell_type": "code",
   "execution_count": 158,
   "id": "a1259abc",
   "metadata": {},
   "outputs": [
    {
     "data": {
      "text/plain": [
       "DeviceArray([-295.51566, -295.51566, -293.68304, -295.51566, -293.68304,\n",
       "             -295.51566, -291.8505 , -288.1853 , -288.1853 , -288.18533,\n",
       "             -291.8505 , -286.35275, -280.85495, -282.68756, -282.6876 ,\n",
       "             -282.68756, -284.52014, -282.68756, -280.85495, -280.85495,\n",
       "             -282.68753, -282.68753, -286.35272, -286.35272, -286.3527 ,\n",
       "             -290.01785, -291.85043, -290.01785, -293.68304, -295.5156 ,\n",
       "             -297.34824, -297.34824, -297.34824, -299.1808 , -297.3482 ,\n",
       "             -293.683  , -297.34818, -297.34818, -297.34818, -297.34818,\n",
       "             -295.5156 , -288.18527, -291.85043, -291.85043, -293.683  ,\n",
       "             -293.683  , -295.5156 , -299.18076, -301.0134 , -297.34824,\n",
       "             -299.18082, -299.18082, -299.18082, -297.3482 , -297.3482 ,\n",
       "             -295.51566, -297.34824, -295.51566, -295.51566, -293.68307,\n",
       "             -291.8505 , -293.68307, -284.52017, -284.52014, -284.52014,\n",
       "             -282.68753, -277.1898 , -279.0224 , -275.3572 , -277.1898 ,\n",
       "             -280.85495, -280.85495, -280.85495, -282.68756, -284.52014,\n",
       "             -284.52014, -290.01788, -291.85046, -291.85046, -290.01788,\n",
       "             -291.85046, -290.01788, -291.8505 , -295.51566, -295.51566,\n",
       "             -293.68307, -299.18082, -302.84598, -299.18076, -297.34818,\n",
       "             -297.34818, -295.5156 , -293.683  , -288.18527, -286.3527 ,\n",
       "             -288.18527, -291.85043, -293.683  , -291.85043, -299.1808 ,\n",
       "             -299.1808 , -302.84595, -299.18076, -299.18076, -299.18076,\n",
       "             -299.18076, -301.0134 , -302.84598, -301.0134 , -295.51562,\n",
       "             -295.51562, -297.3482 , -297.3482 , -293.68304, -288.18527,\n",
       "             -288.1853 , -286.35272, -280.85495, -275.3572 , -275.3572 ,\n",
       "             -273.52463, -275.3572 , -273.52463, -280.85495, -279.02237,\n",
       "             -282.68753, -282.68753, -288.18527, -290.01785, -290.01785,\n",
       "             -290.01785, -290.01785, -290.01785, -293.68304, -284.52014,\n",
       "             -288.1853 , -293.68307, -295.51566, -295.51566, -299.1808 ,\n",
       "             -299.1808 , -301.01337, -297.34818, -295.51562, -291.85043,\n",
       "             -288.18527, -288.18527, -291.85043, -291.85043, -291.85043,\n",
       "             -293.683  , -295.51562, -299.18082, -301.0134 , -299.18082,\n",
       "             -299.18082, -299.1808 , -301.01337, -302.84598, -302.84598,\n",
       "             -302.84598, -302.84598, -302.84598, -297.34824, -295.51562,\n",
       "             -293.68304, -291.85043, -291.85046, -284.52014, -280.85495,\n",
       "             -277.1898 , -277.1898 , -275.3572 , -280.85495, -275.3572 ,\n",
       "             -275.3572 , -279.02237, -280.85495, -284.5201 , -288.18527,\n",
       "             -288.18527, -288.18527, -288.18527, -286.3527 , -290.01785,\n",
       "             -291.85043, -293.683  , -288.18527, -288.18527, -293.68304,\n",
       "             -293.68304, -293.683  , -291.85043, -293.683  , -297.34818,\n",
       "             -299.1808 , -291.85043, -290.01785, -290.01785, -291.85043,\n",
       "             -295.5156 , -295.5156 , -293.683  , -291.85043, -295.5156 ,\n",
       "             -295.5156 , -299.1808 , -297.3482 , -299.1808 , -301.0134 ,\n",
       "             -302.84598, -302.84598, -302.84598, -304.67856, -299.18082,\n",
       "             -301.0134 , -297.34824, -293.68307, -295.51566, -286.35272,\n",
       "             -284.5201 , -280.85495, -279.02237, -277.1898 , -280.85495,\n",
       "             -280.85495, -275.3572 , -277.1898 , -279.02237, -280.85495,\n",
       "             -284.5201 , -284.5201 , -284.5201 , -288.18527, -286.3527 ,\n",
       "             -284.5201 , -288.18527, -290.01785, -291.85043, -291.85043,\n",
       "             -291.85043, -288.18527, -290.01785, -291.85043, -291.85043,\n",
       "             -288.18527, -291.85043, -293.683  , -295.51562, -295.5156 ,\n",
       "             -295.5156 , -290.01785, -295.5156 , -295.5156 , -295.5156 ,\n",
       "             -297.34818, -295.5156 , -297.34818, -293.683  , -295.5156 ,\n",
       "             -301.0134 , -299.18082, -301.0134 , -302.84598, -302.84598,\n",
       "             -302.84598, -301.0134 , -299.18082, -301.0134 , -301.0134 ,\n",
       "             -293.68304, -290.01788, -286.3527 , -286.3527 , -282.68753,\n",
       "             -280.85495, -279.02237, -275.3572 , -282.68753, -282.68753,\n",
       "             -280.85495, -280.85495, -280.85495, -284.5201 , -286.3527 ,\n",
       "             -282.68753, -282.68753, -284.5201 , -288.18527, -290.01785,\n",
       "             -288.18527, -291.85043, -288.18527, -290.01785, -290.01785,\n",
       "             -286.3527 , -288.18527, -290.01785, -291.85043, -291.85043,\n",
       "             -291.85046, -290.01785, -291.85043, -293.683  , -299.1808 ,\n",
       "             -297.34818, -297.34818, -297.34818, -295.5156 , -295.5156 ,\n",
       "             -293.683  , -295.5156 , -297.3482 , -301.01337, -301.0134 ,\n",
       "             -297.34824, -301.0134 , -302.84598, -304.67856, -299.18082,\n",
       "             -299.18082, -297.3482 , -295.51562, -291.85046, -288.18527,\n",
       "             -290.01785, -288.18527, -282.68753, -284.5201 , -280.85495,\n",
       "             -280.85495, -282.68753, -284.5201 , -282.68753, -282.68753,\n",
       "             -284.5201 , -286.3527 , -282.68753, -282.68753, -282.68753,\n",
       "             -284.5201 , -284.5201 , -288.18527, -290.01785, -290.01785,\n",
       "             -290.01785, -288.1853 , -288.18527, -288.18527, -288.18527,\n",
       "             -291.85046, -293.68307, -288.1853 , -284.52014, -286.35272,\n",
       "             -291.85046, -295.5156 , -299.18076, -301.01337, -299.18076,\n",
       "             -299.18076, -295.5156 , -297.3482 , -301.0134 , -297.34824,\n",
       "             -297.34824, -299.18082, -299.18082, -301.0134 , -301.0134 ,\n",
       "             -295.51566, -299.18082, -299.18082, -297.3482 , -295.51562,\n",
       "             -293.68304, -291.85046, -288.18527, -288.18527, -286.3527 ,\n",
       "             -286.3527 , -290.01785, -288.18527, -286.3527 , -284.5201 ,\n",
       "             -288.18527, -288.18527, -286.3527 , -282.68753, -282.68753,\n",
       "             -286.3527 , -280.85495, -286.3527 , -284.5201 , -286.3527 ,\n",
       "             -286.3527 , -288.18527, -286.3527 , -288.1853 , -288.18527,\n",
       "             -290.01788, -290.01788, -288.18527, -290.01788, -288.1853 ,\n",
       "             -286.35272, -286.35272, -290.01788, -290.01785, -295.51562,\n",
       "             -299.1808 , -299.1808 , -299.1808 , -299.1808 , -302.84595,\n",
       "             -301.01337, -297.3482 , -299.1808 , -301.01337, -299.1808 ,\n",
       "             -299.1808 , -299.1808 , -293.68304, -295.51566, -293.68307,\n",
       "             -295.51566, -295.51566, -291.85046, -290.01788, -290.01788,\n",
       "             -290.01788, -286.3527 , -288.1853 , -290.0179 , -290.0179 ,\n",
       "             -293.68307, -293.68304, -291.85046, -288.18527, -288.18527,\n",
       "             -284.52014, -284.52014, -282.68756, -282.68756, -288.18527,\n",
       "             -286.3527 , -284.5201 , -288.18527, -288.18527, -286.3527 ,\n",
       "             -288.18527, -290.01788, -290.01788, -290.01788, -290.01788,\n",
       "             -291.85046, -290.01785, -286.35272, -288.1853 , -293.68304,\n",
       "             -291.85046, -290.01788, -293.68304, -299.1808 , -302.84595,\n",
       "             -304.67853, -301.01337, -301.01337, -302.84595, -301.01337,\n",
       "             -297.34818, -299.1808 , -297.34818, -297.3482 , -297.3482 ,\n",
       "             -293.68304, -293.68304, -293.68304, -290.01785, -288.18527,\n",
       "             -290.01788, -291.85046, -290.01788, -290.01788, -291.85046,\n",
       "             -291.85046, -295.51562, -293.68304, -295.51566, -295.51566,\n",
       "             -293.68307, -288.1853 , -288.1853 , -284.5201 , -284.5201 ,\n",
       "             -286.3527 , -284.5201 , -288.18527, -290.01785, -291.85043,\n",
       "             -286.3527 , -291.85043, -288.18527, -288.18527, -290.01785,\n",
       "             -291.85046, -291.85046, -293.68304, -290.01788, -288.1853 ,\n",
       "             -291.85046, -291.85046, -288.1853 , -290.01788, -291.85046,\n",
       "             -293.68304, -297.3482 , -301.01337, -299.1808 , -302.84595,\n",
       "             -302.84595, -301.01334, -299.18076, -297.34818, -297.34818,\n",
       "             -291.85046, -297.3482 , -299.1808 , -293.68304, -293.683  ,\n",
       "             -288.18527, -286.3527 , -288.18527, -288.18527, -293.68304,\n",
       "             -293.68304, -295.51562, -293.68304, -295.51562, -293.68304,\n",
       "             -295.51562, -295.51562, -293.68304, -291.85046, -291.85046,\n",
       "             -291.85046, -288.1853 , -288.1853 , -288.18527, -290.01785,\n",
       "             -290.01785, -291.85043, -291.85043, -290.01785, -291.85043,\n",
       "             -288.18527, -288.18527, -290.01785, -291.85043, -293.683  ,\n",
       "             -295.51562, -293.68304, -291.85046, -291.85046, -288.1853 ,\n",
       "             -290.01788, -290.01788, -293.68304, -295.51562, -297.3482 ,\n",
       "             -299.1808 , -301.01337, -297.34818, -299.18076, -299.18076,\n",
       "             -297.34818, -295.5156 , -299.1808 , -301.01337, -293.68304,\n",
       "             -293.68304, -293.68304, -293.68304, -290.01785, -290.01785,\n",
       "             -290.01788, -291.85046, -291.85046, -290.01785, -295.51562,\n",
       "             -295.51562, -295.51562, -295.51562, -293.68304, -295.51562,\n",
       "             -295.51562, -295.51562, -295.51562, -290.01788, -290.01788,\n",
       "             -291.85046, -293.68304, -293.68304, -291.85043, -291.85043,\n",
       "             -293.683  , -293.683  , -290.01785, -290.01785, -291.85043,\n",
       "             -290.01785, -293.68304, -295.51562, -291.85046, -291.85046,\n",
       "             -293.68304, -291.85046, -290.01788, -290.01788, -295.51562,\n",
       "             -297.3482 , -295.5156 , -293.683  , -293.683  , -295.5156 ,\n",
       "             -293.683  , -295.5156 , -299.1808 , -299.1808 , -295.5156 ,\n",
       "             -291.85046, -295.51562, -295.51562, -293.68304, -297.3482 ,\n",
       "             -291.85046, -295.51562, -293.68304, -291.85046, -290.01788,\n",
       "             -288.18527, -290.01785, -291.85046, -295.51562, -295.51562,\n",
       "             -295.51562, -293.68304, -297.3482 , -295.51562, -295.51562,\n",
       "             -295.51562, -291.85046, -295.51562, -291.85046, -291.85046,\n",
       "             -293.68304, -293.68304, -293.683  , -295.5156 , -293.683  ,\n",
       "             -291.85043, -295.51562, -293.68304, -293.68304, -293.68304,\n",
       "             -295.51562, -291.85046, -293.68304, -297.3482 , -295.51562,\n",
       "             -297.3482 , -293.683  , -291.85043, -293.683  , -293.683  ,\n",
       "             -291.85043, -290.01785, -293.683  , -299.18076, -299.18076,\n",
       "             -293.683  , -293.68304, -293.68304, -291.85046, -290.01788,\n",
       "             -295.51562, -299.1808 , -299.1808 , -295.51562, -291.85046,\n",
       "             -293.68304, -293.68304, -291.85046, -291.85046, -290.01788,\n",
       "             -291.85046, -291.85046, -295.51562, -295.51562, -297.3482 ,\n",
       "             -299.1808 , -295.51562, -297.3482 , -297.3482 , -295.51562,\n",
       "             -291.85046, -293.68304, -293.68304, -295.51562, -295.51562,\n",
       "             -295.51562, -297.3482 , -297.34818, -297.34818, -295.5156 ,\n",
       "             -293.683  , -295.5156 , -295.51562, -295.5156 , -295.51562,\n",
       "             -295.51562, -295.51562, -297.3482 , -295.51562, -291.85043,\n",
       "             -290.01785, -288.18527, -291.85043, -295.51562, -297.34818,\n",
       "             -293.683  , -291.85043, -290.01785, -293.683  , -293.683  ,\n",
       "             -291.85043, -293.68304, -293.68304, -295.51562, -295.51566,\n",
       "             -295.51566, -295.51562, -295.51566, -297.3482 , -295.51562,\n",
       "             -293.68304, -293.68304, -291.85046, -290.01788, -290.01788,\n",
       "             -295.51562, -295.51562, -301.0134 , -304.67853, -295.51562,\n",
       "             -293.68304, -295.51562, -297.3482 , -297.3482 , -295.51562,\n",
       "             -295.51566, -295.51566, -295.51566, -299.1808 , -299.1808 ,\n",
       "             -301.01337, -302.84595, -299.1808 , -295.51562, -299.1808 ,\n",
       "             -293.68304, -295.51562, -297.3482 , -297.3482 , -293.68304,\n",
       "             -293.68304, -291.85043, -293.683  , -291.85043, -291.85043,\n",
       "             -295.5156 , -291.8505 , -293.68307, -293.68307, -288.1853 ,\n",
       "             -291.85046, -291.85046, -295.51562, -295.51562, -291.85046,\n",
       "             -291.8505 , -295.51566, -297.3482 , -299.1808 , -299.1808 ,\n",
       "             -297.3482 , -297.3482 , -299.1808 , -293.68304, -293.68304,\n",
       "             -291.85046, -290.01788, -293.68304, -297.3482 , -299.1808 ,\n",
       "             -297.3482 , -297.3482 , -295.51562, -299.18082, -297.34824,\n",
       "             -299.18082, -299.18082, -299.18082, -299.1808 , -299.1808 ,\n",
       "             -299.1808 , -301.01337, -301.01337, -304.67853, -304.67853,\n",
       "             -304.67853, -301.01337, -293.68304, -295.51562, -293.68304,\n",
       "             -295.51562, -293.68304, -290.01785, -291.85043, -293.683  ,\n",
       "             -297.34818, -299.18076, -295.51562, -288.1853 , -288.1853 ,\n",
       "             -291.8505 , -291.85046, -293.68304, -291.85046, -295.51562,\n",
       "             -293.68304, -291.85046, -291.85046, -290.01788, -295.51562,\n",
       "             -293.68304, -299.1808 , -301.01337, -301.01337, -297.3482 ,\n",
       "             -293.68304, -295.51562, -295.51562, -293.68304, -297.3482 ,\n",
       "             -295.51562, -295.51562, -291.85046, -295.51562, -297.3482 ,\n",
       "             -297.3482 , -297.3482 , -299.1808 , -299.18082, -302.84598,\n",
       "             -302.84595, -301.01337, -299.1808 , -301.01337, -302.84595,\n",
       "             -306.5111 , -306.5111 , -302.84595, -302.84595, -297.3482 ,\n",
       "             -293.68304, -291.85046, -295.51562, -291.85046, -288.18527,\n",
       "             -291.85046, -291.85043, -293.683  , -291.85043, -297.3482 ,\n",
       "             -295.51562, -295.51566, -291.85046, -291.85046, -293.68304,\n",
       "             -293.68304, -295.51562, -295.51566, -293.68304, -288.1853 ,\n",
       "             -291.85043, -291.85046, -297.3482 , -297.3482 , -297.3482 ,\n",
       "             -301.01337, -297.3482 , -293.68304, -295.51562, -293.68304,\n",
       "             -295.51562, -297.3482 , -297.3482 , -295.51562, -291.85046,\n",
       "             -293.68304, -295.51562, -297.3482 , -297.3482 , -301.01337,\n",
       "             -301.01337, -304.67853, -306.5111 , -302.84595, -304.67853,\n",
       "             -304.67853, -308.3437 , -306.5111 , -304.67853, -301.01337,\n",
       "             -301.01337, -297.3482 , -295.51562, -297.3482 , -293.68304,\n",
       "             -299.1808 , -293.68304, -290.01788, -291.85046, -290.01788,\n",
       "             -291.85046, -291.85046, -295.51562, -297.3482 , -291.85046,\n",
       "             -293.68304, -293.68304, -295.5156 , -293.68304, -295.51562,\n",
       "             -295.51562, -291.85043, -290.01785, -293.68304, -295.51562,\n",
       "             -295.51562, -293.68304, -291.85046, -299.1808 , -297.3482 ,\n",
       "             -299.1808 , -291.85046, -295.51562, -295.51562, -295.51562,\n",
       "             -293.68304, -297.3482 , -295.51562, -295.51562, -297.3482 ,\n",
       "             -299.1808 , -297.3482 , -306.5111 , -304.67853, -306.5111 ,\n",
       "             -308.3437 , -310.17627, -306.5111 , -310.17627, -306.5111 ,\n",
       "             -306.5111 , -302.84595, -301.01337, -293.683  , -297.3482 ,\n",
       "             -295.51562, -297.3482 , -295.51562, -297.3482 , -297.3482 ,\n",
       "             -293.68304, -290.01788, -291.85046, -290.01788, -295.51562,\n",
       "             -293.68304, -291.85046, -291.85046, -293.68304, -295.51562,\n",
       "             -297.3482 , -295.5156 , -293.68304, -293.683  , -293.683  ],            dtype=float32)"
      ]
     },
     "execution_count": 158,
     "metadata": {},
     "output_type": "execute_result"
    }
   ],
   "source": [
    "weights"
   ]
  },
  {
   "cell_type": "code",
   "execution_count": 141,
   "id": "ca1b2ddd",
   "metadata": {},
   "outputs": [
    {
     "data": {
      "text/plain": [
       "(1000,)"
      ]
     },
     "execution_count": 141,
     "metadata": {},
     "output_type": "execute_result"
    }
   ],
   "source": [
    "np.array(weights).shape"
   ]
  },
  {
   "cell_type": "code",
   "execution_count": 316,
   "id": "1a8f72a3",
   "metadata": {},
   "outputs": [
    {
     "data": {
      "text/plain": [
       "DeviceArray(-inf, dtype=float32)"
      ]
     },
     "execution_count": 316,
     "metadata": {},
     "output_type": "execute_result"
    }
   ],
   "source": [
    "genjax.Uniform.logpdf((), 0.5, minval=-10.0, maxval=10.0)"
   ]
  },
  {
   "cell_type": "code",
   "execution_count": null,
   "id": "2b02dcbe",
   "metadata": {},
   "outputs": [],
   "source": []
  }
 ],
 "metadata": {
  "kernelspec": {
   "display_name": "Python 3 (ipykernel)",
   "language": "python",
   "name": "python3"
  },
  "language_info": {
   "codemirror_mode": {
    "name": "ipython",
    "version": 3
   },
   "file_extension": ".py",
   "mimetype": "text/x-python",
   "name": "python",
   "nbconvert_exporter": "python",
   "pygments_lexer": "ipython3",
   "version": "3.10.7"
  }
 },
 "nbformat": 4,
 "nbformat_minor": 5
}
