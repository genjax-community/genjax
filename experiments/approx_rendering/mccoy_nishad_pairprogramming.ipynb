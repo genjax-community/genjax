{
 "cells": [
  {
   "cell_type": "code",
   "execution_count": null,
   "id": "d4aee3ff",
   "metadata": {},
   "outputs": [
    {
     "ename": "",
     "evalue": "",
     "output_type": "error",
     "traceback": [
      "\u001b[1;31mFailed to connect to the remote Jupyter Server 'http://localhost:8888/'. Verify the server is running and reachable. (Forbidden)."
     ]
    }
   ],
   "source": [
    "import numpy as np\n",
    "import jax.numpy as jnp\n",
    "import jax\n",
    "\n",
    "\n",
    "import functools\n",
    "from dataclasses import dataclass\n",
    "from typing import Tuple\n",
    "from jax.scipy.special import logsumexp\n",
    "import jax\n",
    "import genjax\n",
    "import matplotlib.pyplot as plt\n",
    "# import open3d as o3d"
   ]
  },
  {
   "cell_type": "code",
   "execution_count": 5,
   "id": "ba2ed562",
   "metadata": {},
   "outputs": [],
   "source": [
    "\n",
    "# move point cloud to a specified pose\n",
    "# coords: (N,3) point cloud\n",
    "# pose: (4,4) pose matrix. rotation matrix in top left (3,3) and translation in (:3,3)\n",
    "def apply_transform(coords, transform):\n",
    "    coords = jnp.einsum(\n",
    "        'ij,...j->...i',\n",
    "        transform,\n",
    "        jnp.concatenate([coords, jnp.ones(coords.shape[:-1] + (1,))], axis=-1),\n",
    "    )[..., :-1]\n",
    "    return coords\n",
    "\n",
    "# render single object model cloud at specified pose to a \"coordinate image\"\n",
    "# \"coordinate image\" is (h,w,3) where at each pixel we have the 3d coordinate of that point\n",
    "# input_cloud: (N,3) object model point cloud\n",
    "# pose: (4,4) pose matrix. rotation matrix in top left (3,3) and translation in (:3,3)\n",
    "# h,w : height and width\n",
    "# fx_fy : focal lengths\n",
    "# cx_cy : principal point\n",
    "# output: (h,w,3) coordinate image\n",
    "# @functools.partial(jax.jit, static_argnames=[\"h\",\"w\"])\n",
    "def render_cloud_at_pose(input_cloud, pose, h, w, fx_fy, cx_cy):\n",
    "    transformed_cloud = apply_transform(input_cloud, pose)\n",
    "    point_cloud = jnp.vstack([\n",
    "        -1.0 * jnp.ones((1,3)),\n",
    "        transformed_cloud\n",
    "    ])\n",
    "\n",
    "    point_cloud_normalized =  point_cloud / point_cloud[:,2].reshape(-1,1)\n",
    "    temp1 = point_cloud_normalized[:, :2] * fx_fy\n",
    "    temp2 = temp1 + cx_cy\n",
    "    pixels = jnp.round(temp2)\n",
    "\n",
    "    x,y = jnp.meshgrid(jnp.arange(w), jnp.arange(h))\n",
    "    matches = (x[:,:,None] == pixels[:,0]) & (y[:,:,None] == pixels[:,1])\n",
    "    a = jnp.argmax(matches,axis=-1)\n",
    "    return point_cloud[a]"
   ]
  },
  {
   "cell_type": "code",
   "execution_count": 20,
   "id": "f647eaa8",
   "metadata": {},
   "outputs": [],
   "source": [
    "\n",
    "# @functools.partial(jax.jit, static_argnames=\"filter_shape\")\n",
    "def extract_2d_patches(data: jnp.ndarray, filter_shape: Tuple[int, int]) -> jnp.ndarray:\n",
    "    \"\"\"For each pixel, extract 2D patches centered at that pixel.\n",
    "    Args:\n",
    "        data (jnp.ndarray): Array of shape (H, W, ...)\n",
    "            data needs to be 2, 3, or 4 dimensional.\n",
    "        filter_shape (Tuple[int, int]): Size of the patches in H, W dimensions\n",
    "    Returns:\n",
    "        extracted_patches: Array of shape (H, W, filter_shape[0], filter_shape[1], C)\n",
    "            extracted_patches[i, j] == data[\n",
    "                i - filter_shape[0] // 2:i + filter_shape[0] - filter_shape[0] // 2,\n",
    "                j - filter_shape[1] // 2:j + filter_shape[1] - filter_shape[1] // 2,\n",
    "            ]\n",
    "    \"\"\"\n",
    "    assert len(filter_shape) == 2\n",
    "    output_shape = data.shape + filter_shape\n",
    "    if data.ndim == 2:\n",
    "        data = data[..., None, None]\n",
    "    elif data.ndim == 3:\n",
    "        data = data[:, :, None]\n",
    "\n",
    "    padding = [\n",
    "        (filter_shape[ii] // 2, filter_shape[ii] - filter_shape[ii] // 2 - 1)\n",
    "        for ii in range(len(filter_shape))\n",
    "    ]\n",
    "    extracted_patches = jnp.moveaxis(\n",
    "        jax.lax.conv_general_dilated_patches(\n",
    "            lhs=data,\n",
    "            filter_shape=filter_shape,\n",
    "            window_strides=(1, 1),\n",
    "            padding=padding,\n",
    "            dimension_numbers=(\"HWNC\", \"OIHW\", \"HWNC\"),\n",
    "        ).reshape(output_shape),\n",
    "        (-2, -1),\n",
    "        (2, 3),\n",
    "    )\n",
    "    return extracted_patches\n",
    "\n",
    "# @functools.partial(jax.jit, static_argnames=[\"r\", \"outlier_prob\"])\n",
    "def neural_descriptor_likelihood(\n",
    "    obs_xyz: jnp.ndarray,\n",
    "    rendered_xyz: jnp.ndarray,\n",
    "    r,\n",
    "    outlier_prob\n",
    "):\n",
    "    obs_mask = obs_xyz[:,:,2] > 0\n",
    "    rendered_mask = rendered_xyz[:,:,2] > 0\n",
    "    num_latent_points = rendered_mask.sum()\n",
    "    rendered_xyz_patches = extract_2d_patches(rendered_xyz, (4,4))\n",
    "    log_mixture_prob = log_likelihood_for_pixel(\n",
    "        obs_xyz,\n",
    "        rendered_xyz_patches,\n",
    "        r,\n",
    "        outlier_prob,\n",
    "        num_latent_points\n",
    "    )\n",
    "    return jnp.sum(jnp.where(obs_mask, log_mixture_prob, 0.0))\n",
    "\n",
    "\n",
    "@functools.partial(\n",
    "    jnp.vectorize,\n",
    "    signature='(m),(h,w,m)->()',\n",
    "    excluded=(2, 3, 4),\n",
    ")\n",
    "def log_likelihood_for_pixel(\n",
    "    data_xyz: jnp.ndarray,\n",
    "    model_xyz: jnp.ndarray,\n",
    "    r: float,\n",
    "    outlier_prob: float,\n",
    "    num_latent_points: float,\n",
    "):\n",
    "    \"\"\"    Args:\n",
    "        data_xyz (jnp.ndarray): (3,)\n",
    "            3d coordinate of observed point\n",
    "        model_xyz : (filter_height, filter_width, 3),\n",
    "        r : float, sphere radius\n",
    "        outlier_prob: float\n",
    "        num_latent_points: int\n",
    "    \"\"\"\n",
    "    distance = jnp.linalg.norm(data_xyz - model_xyz, axis=-1).ravel() # (4,4)\n",
    "    \n",
    "    return jnp.log(jnp.sum(outlier_prob + jnp.where(\n",
    "        distance <= r,\n",
    "        1 / (4 * ((1 - outlier_prob)/num_latent_points) * jnp.pi * r**3) / (3 ),\n",
    "        0.0,\n",
    "    )))\n",
    "    return a\n",
    "\n",
    "\n",
    "@dataclass\n",
    "class _NeuralDescriptorLikelihood(genjax.Distribution):\n",
    "    def sample(self, key, *args, **kwargs):\n",
    "        return key, ()\n",
    "\n",
    "    def logpdf(self, key, image, *args):\n",
    "        return neural_descriptor_likelihood(image, *args)\n",
    "\n",
    "\n",
    "NeuralDescriptorLikelihood = _NeuralDescriptorLikelihood()\n"
   ]
  },
  {
   "cell_type": "code",
   "execution_count": 21,
   "id": "6413eb7c",
   "metadata": {},
   "outputs": [],
   "source": [
    "object_model_cloud = np.random.rand(200,3) * 2.0\n",
    "object_model_cloud = jnp.array(object_model_cloud)\n",
    "\n",
    "h,w,fx_fy,cx_cy = 120, 160, jnp.array([200.0, 200.0]), jnp.array([60.0, 80.0])\n",
    "r = 0.2\n",
    "outlier_prob =  0.01"
   ]
  },
  {
   "cell_type": "code",
   "execution_count": 76,
   "id": "e2002c83",
   "metadata": {},
   "outputs": [],
   "source": [
    "\n",
    "@genjax.gen\n",
    "def model(key, object_model_cloud):\n",
    "    key, pos = genjax.trace(\"pos\", genjax.Uniform)(key, (jnp.array([-10.0, -10.0,-100.0]),jnp.array([10.0, 10.0,100.0])))\n",
    "    pose = jnp.array(\n",
    "        [\n",
    "            [1.0, 0.0, 0.0, pos[0]],\n",
    "            [0.0, 1.0, 0.0, pos[1]],\n",
    "            [0.0, 0.0, 1.0, pos[2]],\n",
    "            [0.0, 0.0, 0.0, 1.0],\n",
    "        ]\n",
    "    )\n",
    "    rendered_image = render_cloud_at_pose(\n",
    "        object_model_cloud, pose, h, w, fx_fy, cx_cy\n",
    "    )\n",
    "    key, cloud = genjax.trace(\"observed\", NeuralDescriptorLikelihood)(\n",
    "        key, (rendered_image, r, outlier_prob)\n",
    "    )\n",
    "    return key, rendered_image.shape"
   ]
  },
  {
   "cell_type": "code",
   "execution_count": 77,
   "id": "d4221048",
   "metadata": {},
   "outputs": [],
   "source": [
    "def scorer(key, pos, gt_image):\n",
    "    obs = genjax.ChoiceMap.new({(\"pos\",): pos, (\"observed\",): gt_image})\n",
    "    key, (weight, tr) = model.importance(key, obs, (object_model_cloud, ))\n",
    "    return key, weight, x\n",
    "scorer_parallel = jax.vmap(scorer, in_axes = (0, 0, None))\n",
    "\n",
    "\n"
   ]
  },
  {
   "cell_type": "code",
   "execution_count": 127,
   "id": "458e0e27",
   "metadata": {},
   "outputs": [
    {
     "name": "stdout",
     "output_type": "stream",
     "text": [
      "(1000, 3)\n"
     ]
    }
   ],
   "source": [
    "key = jax.random.PRNGKey(3)\n",
    "gridding = jnp.linspace(-1.0, 1.0, 5)\n",
    "deltas = jnp.stack(jnp.meshgrid(gridding,gridding,gridding),axis=-1)\n",
    "deltas = deltas.reshape(-1,3)\n",
    "print(deltas.shape)\n",
    "key, *sub_keys = jax.random.split(key, len(deltas) + 1)\n",
    "sub_keys = jnp.array(sub_keys)\n",
    "\n",
    "def update_x(x, gt_image):\n",
    "    proposals = x + deltas\n",
    "    _, weights_new, x = scorer_parallel_jit(sub_keys, proposals , gt_image);\n",
    "    best_idx = jnp.argmax(weights_new)\n",
    "    y = proposals[best_idx,:]\n",
    "    return y\n",
    "\n",
    "def infer(x, gt_images):\n",
    "    for gt_image in gt_images:\n",
    "        for _ in range(3):\n",
    "            x = update_x_jit(x, gt_image)\n",
    "    return x\n",
    "\n",
    "update_x_jit = jax.jit(update_x)"
   ]
  },
  {
   "cell_type": "code",
   "execution_count": 128,
   "id": "6ea4a0bc",
   "metadata": {},
   "outputs": [],
   "source": [
    "x = jnp.array([-2,-1.5, 20.0])"
   ]
  },
  {
   "cell_type": "code",
   "execution_count": 129,
   "id": "3d87e6a9",
   "metadata": {},
   "outputs": [],
   "source": [
    "infer_jit = jax.jit(infer)"
   ]
  },
  {
   "cell_type": "code",
   "execution_count": 133,
   "id": "4ad16065",
   "metadata": {},
   "outputs": [
    {
     "name": "stdout",
     "output_type": "stream",
     "text": [
      "[ 3.1111112  2.9444458 20.       ]\n",
      "CPU times: user 1.49 s, sys: 544 ms, total: 2.04 s\n",
      "Wall time: 2.04 s\n"
     ]
    }
   ],
   "source": [
    "%%time\n",
    "x = infer_jit(x, gt_images)\n",
    "print(x)\n"
   ]
  },
  {
   "cell_type": "code",
   "execution_count": null,
   "id": "dd9d30f5",
   "metadata": {},
   "outputs": [],
   "source": []
  },
  {
   "cell_type": "code",
   "execution_count": 132,
   "id": "3c3ef27e",
   "metadata": {},
   "outputs": [
    {
     "ename": "AttributeError",
     "evalue": "'list' object has no attribute 'shape'",
     "output_type": "error",
     "traceback": [
      "\u001b[0;31m---------------------------------------------------------------------------\u001b[0m",
      "\u001b[0;31mAttributeError\u001b[0m                            Traceback (most recent call last)",
      "Cell \u001b[0;32mIn [132], line 1\u001b[0m\n\u001b[0;32m----> 1\u001b[0m \u001b[43mgt_images\u001b[49m\u001b[38;5;241;43m.\u001b[39;49m\u001b[43mshape\u001b[49m\n",
      "\u001b[0;31mAttributeError\u001b[0m: 'list' object has no attribute 'shape'"
     ]
    }
   ],
   "source": [
    "gt_images.shape"
   ]
  },
  {
   "cell_type": "code",
   "execution_count": 125,
   "id": "5ea96695",
   "metadata": {},
   "outputs": [
    {
     "data": {
      "text/plain": [
       "(120, 160, 3)"
      ]
     },
     "execution_count": 125,
     "metadata": {},
     "output_type": "execute_result"
    }
   ],
   "source": [
    "gt_image.shape"
   ]
  },
  {
   "cell_type": "code",
   "execution_count": 118,
   "id": "bcc0ed6b",
   "metadata": {},
   "outputs": [
    {
     "name": "stdout",
     "output_type": "stream",
     "text": [
      "CPU times: user 41.4 ms, sys: 47.4 ms, total: 88.8 ms\n",
      "Wall time: 87.3 ms\n"
     ]
    }
   ],
   "source": [
    "%%time\n",
    "x = update_x_jit(x, gt_image)"
   ]
  },
  {
   "cell_type": "code",
   "execution_count": 120,
   "id": "cd786b74",
   "metadata": {},
   "outputs": [
    {
     "name": "stdout",
     "output_type": "stream",
     "text": [
      "[[ 1.         0.         0.         2.3333333]\n",
      " [ 0.         1.         0.         2.3333333]\n",
      " [ 0.         0.         1.        20.       ]\n",
      " [ 0.         0.         0.         1.       ]]\n",
      "[ 2.3333335  2.3888893 19.88889  ]\n"
     ]
    }
   ],
   "source": [
    "i = 8\n",
    "print(gt_poses[i])\n",
    "print(inferred_position[i])"
   ]
  },
  {
   "cell_type": "code",
   "execution_count": null,
   "id": "b62d9ee8",
   "metadata": {},
   "outputs": [],
   "source": [
    "gt"
   ]
  },
  {
   "cell_type": "code",
   "execution_count": 110,
   "id": "3c92de04",
   "metadata": {},
   "outputs": [
    {
     "data": {
      "text/plain": [
       "10"
      ]
     },
     "execution_count": 110,
     "metadata": {},
     "output_type": "execute_result"
    }
   ],
   "source": [
    "len(gt_images)"
   ]
  },
  {
   "cell_type": "code",
   "execution_count": 107,
   "id": "8b95a3ad",
   "metadata": {},
   "outputs": [
    {
     "name": "stdout",
     "output_type": "stream",
     "text": [
      "[-3.        -2.9444444 20.11111  ]\n",
      "CPU times: user 54.1 ms, sys: 30.1 ms, total: 84.2 ms\n",
      "Wall time: 82.6 ms\n"
     ]
    }
   ],
   "source": [
    "%%time\n"
   ]
  },
  {
   "cell_type": "code",
   "execution_count": 87,
   "id": "c9b17956",
   "metadata": {},
   "outputs": [
    {
     "name": "stdout",
     "output_type": "stream",
     "text": [
      "555\n",
      "[-3. -3. 20.]\n"
     ]
    }
   ],
   "source": [
    "proposals = x + deltas\n",
    "_, weights_new, x = scorer_parallel_jit(sub_keys, proposals , gt_images[0]);\n",
    "best_idx = jnp.argmax(weights_new)\n",
    "print(best_idx)\n",
    "x = proposals[best_idx,:]\n",
    "print(x)"
   ]
  },
  {
   "cell_type": "code",
   "execution_count": 31,
   "id": "3ca36f38",
   "metadata": {},
   "outputs": [],
   "source": [
    "gt_poses = [\n",
    "    jnp.array([\n",
    "        [1.0, 0.0, 0.0, x],   \n",
    "        [0.0, 1.0, 0.0, y],   \n",
    "        [0.0, 0.0, 1.0, 20.0],   \n",
    "        [0.0, 0.0, 0.0, 1.0],   \n",
    "        ]\n",
    "    )\n",
    "    for (x,y) in np.hstack([np.linspace(-3,3,10).reshape(-1,1),np.linspace(-3,3,10).reshape(-1,1)])\n",
    "]\n",
    "gt_images = [ render_cloud_at_pose(object_model_cloud, p,h,w,fx_fy,cx_cy) for p in gt_poses]"
   ]
  },
  {
   "cell_type": "code",
   "execution_count": 32,
   "id": "4ed75c8e",
   "metadata": {},
   "outputs": [
    {
     "data": {
      "text/plain": [
       "10"
      ]
     },
     "execution_count": 32,
     "metadata": {},
     "output_type": "execute_result"
    }
   ],
   "source": [
    "len(gt_images)"
   ]
  },
  {
   "cell_type": "code",
   "execution_count": null,
   "id": "2c55df63",
   "metadata": {},
   "outputs": [],
   "source": []
  },
  {
   "cell_type": "code",
   "execution_count": 40,
   "id": "c4ebc646",
   "metadata": {},
   "outputs": [
    {
     "name": "stdout",
     "output_type": "stream",
     "text": [
      "(1000, 3)\n"
     ]
    }
   ],
   "source": []
  },
  {
   "cell_type": "code",
   "execution_count": 27,
   "id": "e29c68cc",
   "metadata": {},
   "outputs": [],
   "source": [
    "x = 2.0\n",
    "y = 3.0\n",
    "z = 3.0"
   ]
  },
  {
   "cell_type": "code",
   "execution_count": 29,
   "id": "bf085d54",
   "metadata": {},
   "outputs": [
    {
     "name": "stdout",
     "output_type": "stream",
     "text": [
      "-1.0\n",
      "CPU times: user 31.8 ms, sys: 21.5 ms, total: 53.3 ms\n",
      "Wall time: 50.2 ms\n"
     ]
    }
   ],
   "source": [
    "%%time\n",
    "proposals = 0.0 + deltas\n",
    "_, weights_new, x = scorer_parallel_jit(sub_keys, proposals , gt_images[1]);\n",
    "x = proposals[jnp.argmax(weights_new)]\n",
    "print(x)\n"
   ]
  },
  {
   "cell_type": "code",
   "execution_count": null,
   "id": "9c3754a4",
   "metadata": {},
   "outputs": [
    {
     "data": {
      "text/plain": [
       "DeviceArray(0.001001, dtype=float32)"
      ]
     },
     "execution_count": 162,
     "metadata": {},
     "output_type": "execute_result"
    }
   ],
   "source": []
  },
  {
   "cell_type": "code",
   "execution_count": null,
   "id": "ec4b610d",
   "metadata": {},
   "outputs": [
    {
     "name": "stdout",
     "output_type": "stream",
     "text": [
      "CPU times: user 916 ms, sys: 101 ms, total: 1.02 s\n",
      "Wall time: 724 ms\n"
     ]
    }
   ],
   "source": [
    "%%time\n",
    "\n",
    "f = jax.jit())\n"
   ]
  },
  {
   "cell_type": "code",
   "execution_count": null,
   "id": "cb116273",
   "metadata": {},
   "outputs": [
    {
     "name": "stdout",
     "output_type": "stream",
     "text": [
      "CPU times: user 129 ms, sys: 65.3 ms, total: 195 ms\n",
      "Wall time: 193 ms\n"
     ]
    }
   ],
   "source": [
    "%%time \n",
    "_, weights_new, x = sco(sub_keys, xs, gt_image)"
   ]
  },
  {
   "cell_type": "code",
   "execution_count": null,
   "id": "c8eaed9d",
   "metadata": {},
   "outputs": [
    {
     "data": {
      "text/plain": [
       "BuiltinTrace(gen_fn=BuiltinGenerativeFunction(source=<function model at 0x7fc3d81b9ea0>), args=(DeviceArray([[[1.1170127 , 1.9565102 , 0.07367551],\n",
       "              [1.594553  , 1.3622382 , 1.4518358 ],\n",
       "              [1.9850823 , 0.6977411 , 0.0195565 ],\n",
       "              ...,\n",
       "              [1.1136886 , 1.6903177 , 1.1319094 ],\n",
       "              [0.18591057, 1.848804  , 1.7066811 ],\n",
       "              [1.0216677 , 1.82857   , 1.4177575 ]],\n",
       "\n",
       "             [[1.1170127 , 1.9565102 , 0.07367551],\n",
       "              [1.594553  , 1.3622382 , 1.4518358 ],\n",
       "              [1.9850823 , 0.6977411 , 0.0195565 ],\n",
       "              ...,\n",
       "              [1.1136886 , 1.6903177 , 1.1319094 ],\n",
       "              [0.18591057, 1.848804  , 1.7066811 ],\n",
       "              [1.0216677 , 1.82857   , 1.4177575 ]],\n",
       "\n",
       "             [[1.1170127 , 1.9565102 , 0.07367551],\n",
       "              [1.594553  , 1.3622382 , 1.4518358 ],\n",
       "              [1.9850823 , 0.6977411 , 0.0195565 ],\n",
       "              ...,\n",
       "              [1.1136886 , 1.6903177 , 1.1319094 ],\n",
       "              [0.18591057, 1.848804  , 1.7066811 ],\n",
       "              [1.0216677 , 1.82857   , 1.4177575 ]],\n",
       "\n",
       "             ...,\n",
       "\n",
       "             [[1.1170127 , 1.9565102 , 0.07367551],\n",
       "              [1.594553  , 1.3622382 , 1.4518358 ],\n",
       "              [1.9850823 , 0.6977411 , 0.0195565 ],\n",
       "              ...,\n",
       "              [1.1136886 , 1.6903177 , 1.1319094 ],\n",
       "              [0.18591057, 1.848804  , 1.7066811 ],\n",
       "              [1.0216677 , 1.82857   , 1.4177575 ]],\n",
       "\n",
       "             [[1.1170127 , 1.9565102 , 0.07367551],\n",
       "              [1.594553  , 1.3622382 , 1.4518358 ],\n",
       "              [1.9850823 , 0.6977411 , 0.0195565 ],\n",
       "              ...,\n",
       "              [1.1136886 , 1.6903177 , 1.1319094 ],\n",
       "              [0.18591057, 1.848804  , 1.7066811 ],\n",
       "              [1.0216677 , 1.82857   , 1.4177575 ]],\n",
       "\n",
       "             [[1.1170127 , 1.9565102 , 0.07367551],\n",
       "              [1.594553  , 1.3622382 , 1.4518358 ],\n",
       "              [1.9850823 , 0.6977411 , 0.0195565 ],\n",
       "              ...,\n",
       "              [1.1136886 , 1.6903177 , 1.1319094 ],\n",
       "              [0.18591057, 1.848804  , 1.7066811 ],\n",
       "              [1.0216677 , 1.82857   , 1.4177575 ]]], dtype=float32),), retval=(DeviceArray([120, 120, 120, ..., 120, 120, 120], dtype=int32, weak_type=True), DeviceArray([160, 160, 160, ..., 160, 160, 160], dtype=int32, weak_type=True), DeviceArray([3, 3, 3, ..., 3, 3, 3], dtype=int32, weak_type=True)), choices=BuiltinChoiceMap(inner={'x': DistributionTrace(gen_fn=TFPDistribution(distribution=<class 'tensorflow_probability.substrates.jax.distributions.uniform.Uniform'>), args=(DeviceArray([-10., -10., -10., ..., -10., -10., -10.], dtype=float32, weak_type=True), DeviceArray([10., 10., 10., ..., 10., 10., 10.], dtype=float32, weak_type=True)), value=ValueChoiceMap(value=DeviceArray([-2.       , -1.9969984, -1.993997 , ...,  3.993997 ,\n",
       "              3.9969988,  4.       ], dtype=float32)), score=DeviceArray([-2.9957323, -2.9957323, -2.9957323, ..., -2.9957323,\n",
       "             -2.9957323, -2.9957323], dtype=float32)), 'observed': DistributionTrace(gen_fn=_NeuralDescriptorLikelihood(), args=(DeviceArray([[[[-1., -1., -1.],\n",
       "               [-1., -1., -1.],\n",
       "               [-1., -1., -1.],\n",
       "               ...,\n",
       "               [-1., -1., -1.],\n",
       "               [-1., -1., -1.],\n",
       "               [-1., -1., -1.]],\n",
       "\n",
       "              [[-1., -1., -1.],\n",
       "               [-1., -1., -1.],\n",
       "               [-1., -1., -1.],\n",
       "               ...,\n",
       "               [-1., -1., -1.],\n",
       "               [-1., -1., -1.],\n",
       "               [-1., -1., -1.]],\n",
       "\n",
       "              [[-1., -1., -1.],\n",
       "               [-1., -1., -1.],\n",
       "               [-1., -1., -1.],\n",
       "               ...,\n",
       "               [-1., -1., -1.],\n",
       "               [-1., -1., -1.],\n",
       "               [-1., -1., -1.]],\n",
       "\n",
       "              ...,\n",
       "\n",
       "              [[-1., -1., -1.],\n",
       "               [-1., -1., -1.],\n",
       "               [-1., -1., -1.],\n",
       "               ...,\n",
       "               [-1., -1., -1.],\n",
       "               [-1., -1., -1.],\n",
       "               [-1., -1., -1.]],\n",
       "\n",
       "              [[-1., -1., -1.],\n",
       "               [-1., -1., -1.],\n",
       "               [-1., -1., -1.],\n",
       "               ...,\n",
       "               [-1., -1., -1.],\n",
       "               [-1., -1., -1.],\n",
       "               [-1., -1., -1.]],\n",
       "\n",
       "              [[-1., -1., -1.],\n",
       "               [-1., -1., -1.],\n",
       "               [-1., -1., -1.],\n",
       "               ...,\n",
       "               [-1., -1., -1.],\n",
       "               [-1., -1., -1.],\n",
       "               [-1., -1., -1.]]],\n",
       "\n",
       "\n",
       "             [[[-1., -1., -1.],\n",
       "               [-1., -1., -1.],\n",
       "               [-1., -1., -1.],\n",
       "               ...,\n",
       "               [-1., -1., -1.],\n",
       "               [-1., -1., -1.],\n",
       "               [-1., -1., -1.]],\n",
       "\n",
       "              [[-1., -1., -1.],\n",
       "               [-1., -1., -1.],\n",
       "               [-1., -1., -1.],\n",
       "               ...,\n",
       "               [-1., -1., -1.],\n",
       "               [-1., -1., -1.],\n",
       "               [-1., -1., -1.]],\n",
       "\n",
       "              [[-1., -1., -1.],\n",
       "               [-1., -1., -1.],\n",
       "               [-1., -1., -1.],\n",
       "               ...,\n",
       "               [-1., -1., -1.],\n",
       "               [-1., -1., -1.],\n",
       "               [-1., -1., -1.]],\n",
       "\n",
       "              ...,\n",
       "\n",
       "              [[-1., -1., -1.],\n",
       "               [-1., -1., -1.],\n",
       "               [-1., -1., -1.],\n",
       "               ...,\n",
       "               [-1., -1., -1.],\n",
       "               [-1., -1., -1.],\n",
       "               [-1., -1., -1.]],\n",
       "\n",
       "              [[-1., -1., -1.],\n",
       "               [-1., -1., -1.],\n",
       "               [-1., -1., -1.],\n",
       "               ...,\n",
       "               [-1., -1., -1.],\n",
       "               [-1., -1., -1.],\n",
       "               [-1., -1., -1.]],\n",
       "\n",
       "              [[-1., -1., -1.],\n",
       "               [-1., -1., -1.],\n",
       "               [-1., -1., -1.],\n",
       "               ...,\n",
       "               [-1., -1., -1.],\n",
       "               [-1., -1., -1.],\n",
       "               [-1., -1., -1.]]],\n",
       "\n",
       "\n",
       "             [[[-1., -1., -1.],\n",
       "               [-1., -1., -1.],\n",
       "               [-1., -1., -1.],\n",
       "               ...,\n",
       "               [-1., -1., -1.],\n",
       "               [-1., -1., -1.],\n",
       "               [-1., -1., -1.]],\n",
       "\n",
       "              [[-1., -1., -1.],\n",
       "               [-1., -1., -1.],\n",
       "               [-1., -1., -1.],\n",
       "               ...,\n",
       "               [-1., -1., -1.],\n",
       "               [-1., -1., -1.],\n",
       "               [-1., -1., -1.]],\n",
       "\n",
       "              [[-1., -1., -1.],\n",
       "               [-1., -1., -1.],\n",
       "               [-1., -1., -1.],\n",
       "               ...,\n",
       "               [-1., -1., -1.],\n",
       "               [-1., -1., -1.],\n",
       "               [-1., -1., -1.]],\n",
       "\n",
       "              ...,\n",
       "\n",
       "              [[-1., -1., -1.],\n",
       "               [-1., -1., -1.],\n",
       "               [-1., -1., -1.],\n",
       "               ...,\n",
       "               [-1., -1., -1.],\n",
       "               [-1., -1., -1.],\n",
       "               [-1., -1., -1.]],\n",
       "\n",
       "              [[-1., -1., -1.],\n",
       "               [-1., -1., -1.],\n",
       "               [-1., -1., -1.],\n",
       "               ...,\n",
       "               [-1., -1., -1.],\n",
       "               [-1., -1., -1.],\n",
       "               [-1., -1., -1.]],\n",
       "\n",
       "              [[-1., -1., -1.],\n",
       "               [-1., -1., -1.],\n",
       "               [-1., -1., -1.],\n",
       "               ...,\n",
       "               [-1., -1., -1.],\n",
       "               [-1., -1., -1.],\n",
       "               [-1., -1., -1.]]],\n",
       "\n",
       "\n",
       "             ...,\n",
       "\n",
       "\n",
       "             [[[-1., -1., -1.],\n",
       "               [-1., -1., -1.],\n",
       "               [-1., -1., -1.],\n",
       "               ...,\n",
       "               [-1., -1., -1.],\n",
       "               [-1., -1., -1.],\n",
       "               [-1., -1., -1.]],\n",
       "\n",
       "              [[-1., -1., -1.],\n",
       "               [-1., -1., -1.],\n",
       "               [-1., -1., -1.],\n",
       "               ...,\n",
       "               [-1., -1., -1.],\n",
       "               [-1., -1., -1.],\n",
       "               [-1., -1., -1.]],\n",
       "\n",
       "              [[-1., -1., -1.],\n",
       "               [-1., -1., -1.],\n",
       "               [-1., -1., -1.],\n",
       "               ...,\n",
       "               [-1., -1., -1.],\n",
       "               [-1., -1., -1.],\n",
       "               [-1., -1., -1.]],\n",
       "\n",
       "              ...,\n",
       "\n",
       "              [[-1., -1., -1.],\n",
       "               [-1., -1., -1.],\n",
       "               [-1., -1., -1.],\n",
       "               ...,\n",
       "               [-1., -1., -1.],\n",
       "               [-1., -1., -1.],\n",
       "               [-1., -1., -1.]],\n",
       "\n",
       "              [[-1., -1., -1.],\n",
       "               [-1., -1., -1.],\n",
       "               [-1., -1., -1.],\n",
       "               ...,\n",
       "               [-1., -1., -1.],\n",
       "               [-1., -1., -1.],\n",
       "               [-1., -1., -1.]],\n",
       "\n",
       "              [[-1., -1., -1.],\n",
       "               [-1., -1., -1.],\n",
       "               [-1., -1., -1.],\n",
       "               ...,\n",
       "               [-1., -1., -1.],\n",
       "               [-1., -1., -1.],\n",
       "               [-1., -1., -1.]]],\n",
       "\n",
       "\n",
       "             [[[-1., -1., -1.],\n",
       "               [-1., -1., -1.],\n",
       "               [-1., -1., -1.],\n",
       "               ...,\n",
       "               [-1., -1., -1.],\n",
       "               [-1., -1., -1.],\n",
       "               [-1., -1., -1.]],\n",
       "\n",
       "              [[-1., -1., -1.],\n",
       "               [-1., -1., -1.],\n",
       "               [-1., -1., -1.],\n",
       "               ...,\n",
       "               [-1., -1., -1.],\n",
       "               [-1., -1., -1.],\n",
       "               [-1., -1., -1.]],\n",
       "\n",
       "              [[-1., -1., -1.],\n",
       "               [-1., -1., -1.],\n",
       "               [-1., -1., -1.],\n",
       "               ...,\n",
       "               [-1., -1., -1.],\n",
       "               [-1., -1., -1.],\n",
       "               [-1., -1., -1.]],\n",
       "\n",
       "              ...,\n",
       "\n",
       "              [[-1., -1., -1.],\n",
       "               [-1., -1., -1.],\n",
       "               [-1., -1., -1.],\n",
       "               ...,\n",
       "               [-1., -1., -1.],\n",
       "               [-1., -1., -1.],\n",
       "               [-1., -1., -1.]],\n",
       "\n",
       "              [[-1., -1., -1.],\n",
       "               [-1., -1., -1.],\n",
       "               [-1., -1., -1.],\n",
       "               ...,\n",
       "               [-1., -1., -1.],\n",
       "               [-1., -1., -1.],\n",
       "               [-1., -1., -1.]],\n",
       "\n",
       "              [[-1., -1., -1.],\n",
       "               [-1., -1., -1.],\n",
       "               [-1., -1., -1.],\n",
       "               ...,\n",
       "               [-1., -1., -1.],\n",
       "               [-1., -1., -1.],\n",
       "               [-1., -1., -1.]]],\n",
       "\n",
       "\n",
       "             [[[-1., -1., -1.],\n",
       "               [-1., -1., -1.],\n",
       "               [-1., -1., -1.],\n",
       "               ...,\n",
       "               [-1., -1., -1.],\n",
       "               [-1., -1., -1.],\n",
       "               [-1., -1., -1.]],\n",
       "\n",
       "              [[-1., -1., -1.],\n",
       "               [-1., -1., -1.],\n",
       "               [-1., -1., -1.],\n",
       "               ...,\n",
       "               [-1., -1., -1.],\n",
       "               [-1., -1., -1.],\n",
       "               [-1., -1., -1.]],\n",
       "\n",
       "              [[-1., -1., -1.],\n",
       "               [-1., -1., -1.],\n",
       "               [-1., -1., -1.],\n",
       "               ...,\n",
       "               [-1., -1., -1.],\n",
       "               [-1., -1., -1.],\n",
       "               [-1., -1., -1.]],\n",
       "\n",
       "              ...,\n",
       "\n",
       "              [[-1., -1., -1.],\n",
       "               [-1., -1., -1.],\n",
       "               [-1., -1., -1.],\n",
       "               ...,\n",
       "               [-1., -1., -1.],\n",
       "               [-1., -1., -1.],\n",
       "               [-1., -1., -1.]],\n",
       "\n",
       "              [[-1., -1., -1.],\n",
       "               [-1., -1., -1.],\n",
       "               [-1., -1., -1.],\n",
       "               ...,\n",
       "               [-1., -1., -1.],\n",
       "               [-1., -1., -1.],\n",
       "               [-1., -1., -1.]],\n",
       "\n",
       "              [[-1., -1., -1.],\n",
       "               [-1., -1., -1.],\n",
       "               [-1., -1., -1.],\n",
       "               ...,\n",
       "               [-1., -1., -1.],\n",
       "               [-1., -1., -1.],\n",
       "               [-1., -1., -1.]]]], dtype=float32), DeviceArray([0.3, 0.3, 0.3, ..., 0.3, 0.3, 0.3], dtype=float32, weak_type=True), DeviceArray([0.01, 0.01, 0.01, ..., 0.01, 0.01, 0.01], dtype=float32, weak_type=True)), value=ValueChoiceMap(value=DeviceArray([[[[-1., -1., -1.],\n",
       "               [-1., -1., -1.],\n",
       "               [-1., -1., -1.],\n",
       "               ...,\n",
       "               [-1., -1., -1.],\n",
       "               [-1., -1., -1.],\n",
       "               [-1., -1., -1.]],\n",
       "\n",
       "              [[-1., -1., -1.],\n",
       "               [-1., -1., -1.],\n",
       "               [-1., -1., -1.],\n",
       "               ...,\n",
       "               [-1., -1., -1.],\n",
       "               [-1., -1., -1.],\n",
       "               [-1., -1., -1.]],\n",
       "\n",
       "              [[-1., -1., -1.],\n",
       "               [-1., -1., -1.],\n",
       "               [-1., -1., -1.],\n",
       "               ...,\n",
       "               [-1., -1., -1.],\n",
       "               [-1., -1., -1.],\n",
       "               [-1., -1., -1.]],\n",
       "\n",
       "              ...,\n",
       "\n",
       "              [[-1., -1., -1.],\n",
       "               [-1., -1., -1.],\n",
       "               [-1., -1., -1.],\n",
       "               ...,\n",
       "               [-1., -1., -1.],\n",
       "               [-1., -1., -1.],\n",
       "               [-1., -1., -1.]],\n",
       "\n",
       "              [[-1., -1., -1.],\n",
       "               [-1., -1., -1.],\n",
       "               [-1., -1., -1.],\n",
       "               ...,\n",
       "               [-1., -1., -1.],\n",
       "               [-1., -1., -1.],\n",
       "               [-1., -1., -1.]],\n",
       "\n",
       "              [[-1., -1., -1.],\n",
       "               [-1., -1., -1.],\n",
       "               [-1., -1., -1.],\n",
       "               ...,\n",
       "               [-1., -1., -1.],\n",
       "               [-1., -1., -1.],\n",
       "               [-1., -1., -1.]]],\n",
       "\n",
       "\n",
       "             [[[-1., -1., -1.],\n",
       "               [-1., -1., -1.],\n",
       "               [-1., -1., -1.],\n",
       "               ...,\n",
       "               [-1., -1., -1.],\n",
       "               [-1., -1., -1.],\n",
       "               [-1., -1., -1.]],\n",
       "\n",
       "              [[-1., -1., -1.],\n",
       "               [-1., -1., -1.],\n",
       "               [-1., -1., -1.],\n",
       "               ...,\n",
       "               [-1., -1., -1.],\n",
       "               [-1., -1., -1.],\n",
       "               [-1., -1., -1.]],\n",
       "\n",
       "              [[-1., -1., -1.],\n",
       "               [-1., -1., -1.],\n",
       "               [-1., -1., -1.],\n",
       "               ...,\n",
       "               [-1., -1., -1.],\n",
       "               [-1., -1., -1.],\n",
       "               [-1., -1., -1.]],\n",
       "\n",
       "              ...,\n",
       "\n",
       "              [[-1., -1., -1.],\n",
       "               [-1., -1., -1.],\n",
       "               [-1., -1., -1.],\n",
       "               ...,\n",
       "               [-1., -1., -1.],\n",
       "               [-1., -1., -1.],\n",
       "               [-1., -1., -1.]],\n",
       "\n",
       "              [[-1., -1., -1.],\n",
       "               [-1., -1., -1.],\n",
       "               [-1., -1., -1.],\n",
       "               ...,\n",
       "               [-1., -1., -1.],\n",
       "               [-1., -1., -1.],\n",
       "               [-1., -1., -1.]],\n",
       "\n",
       "              [[-1., -1., -1.],\n",
       "               [-1., -1., -1.],\n",
       "               [-1., -1., -1.],\n",
       "               ...,\n",
       "               [-1., -1., -1.],\n",
       "               [-1., -1., -1.],\n",
       "               [-1., -1., -1.]]],\n",
       "\n",
       "\n",
       "             [[[-1., -1., -1.],\n",
       "               [-1., -1., -1.],\n",
       "               [-1., -1., -1.],\n",
       "               ...,\n",
       "               [-1., -1., -1.],\n",
       "               [-1., -1., -1.],\n",
       "               [-1., -1., -1.]],\n",
       "\n",
       "              [[-1., -1., -1.],\n",
       "               [-1., -1., -1.],\n",
       "               [-1., -1., -1.],\n",
       "               ...,\n",
       "               [-1., -1., -1.],\n",
       "               [-1., -1., -1.],\n",
       "               [-1., -1., -1.]],\n",
       "\n",
       "              [[-1., -1., -1.],\n",
       "               [-1., -1., -1.],\n",
       "               [-1., -1., -1.],\n",
       "               ...,\n",
       "               [-1., -1., -1.],\n",
       "               [-1., -1., -1.],\n",
       "               [-1., -1., -1.]],\n",
       "\n",
       "              ...,\n",
       "\n",
       "              [[-1., -1., -1.],\n",
       "               [-1., -1., -1.],\n",
       "               [-1., -1., -1.],\n",
       "               ...,\n",
       "               [-1., -1., -1.],\n",
       "               [-1., -1., -1.],\n",
       "               [-1., -1., -1.]],\n",
       "\n",
       "              [[-1., -1., -1.],\n",
       "               [-1., -1., -1.],\n",
       "               [-1., -1., -1.],\n",
       "               ...,\n",
       "               [-1., -1., -1.],\n",
       "               [-1., -1., -1.],\n",
       "               [-1., -1., -1.]],\n",
       "\n",
       "              [[-1., -1., -1.],\n",
       "               [-1., -1., -1.],\n",
       "               [-1., -1., -1.],\n",
       "               ...,\n",
       "               [-1., -1., -1.],\n",
       "               [-1., -1., -1.],\n",
       "               [-1., -1., -1.]]],\n",
       "\n",
       "\n",
       "             ...,\n",
       "\n",
       "\n",
       "             [[[-1., -1., -1.],\n",
       "               [-1., -1., -1.],\n",
       "               [-1., -1., -1.],\n",
       "               ...,\n",
       "               [-1., -1., -1.],\n",
       "               [-1., -1., -1.],\n",
       "               [-1., -1., -1.]],\n",
       "\n",
       "              [[-1., -1., -1.],\n",
       "               [-1., -1., -1.],\n",
       "               [-1., -1., -1.],\n",
       "               ...,\n",
       "               [-1., -1., -1.],\n",
       "               [-1., -1., -1.],\n",
       "               [-1., -1., -1.]],\n",
       "\n",
       "              [[-1., -1., -1.],\n",
       "               [-1., -1., -1.],\n",
       "               [-1., -1., -1.],\n",
       "               ...,\n",
       "               [-1., -1., -1.],\n",
       "               [-1., -1., -1.],\n",
       "               [-1., -1., -1.]],\n",
       "\n",
       "              ...,\n",
       "\n",
       "              [[-1., -1., -1.],\n",
       "               [-1., -1., -1.],\n",
       "               [-1., -1., -1.],\n",
       "               ...,\n",
       "               [-1., -1., -1.],\n",
       "               [-1., -1., -1.],\n",
       "               [-1., -1., -1.]],\n",
       "\n",
       "              [[-1., -1., -1.],\n",
       "               [-1., -1., -1.],\n",
       "               [-1., -1., -1.],\n",
       "               ...,\n",
       "               [-1., -1., -1.],\n",
       "               [-1., -1., -1.],\n",
       "               [-1., -1., -1.]],\n",
       "\n",
       "              [[-1., -1., -1.],\n",
       "               [-1., -1., -1.],\n",
       "               [-1., -1., -1.],\n",
       "               ...,\n",
       "               [-1., -1., -1.],\n",
       "               [-1., -1., -1.],\n",
       "               [-1., -1., -1.]]],\n",
       "\n",
       "\n",
       "             [[[-1., -1., -1.],\n",
       "               [-1., -1., -1.],\n",
       "               [-1., -1., -1.],\n",
       "               ...,\n",
       "               [-1., -1., -1.],\n",
       "               [-1., -1., -1.],\n",
       "               [-1., -1., -1.]],\n",
       "\n",
       "              [[-1., -1., -1.],\n",
       "               [-1., -1., -1.],\n",
       "               [-1., -1., -1.],\n",
       "               ...,\n",
       "               [-1., -1., -1.],\n",
       "               [-1., -1., -1.],\n",
       "               [-1., -1., -1.]],\n",
       "\n",
       "              [[-1., -1., -1.],\n",
       "               [-1., -1., -1.],\n",
       "               [-1., -1., -1.],\n",
       "               ...,\n",
       "               [-1., -1., -1.],\n",
       "               [-1., -1., -1.],\n",
       "               [-1., -1., -1.]],\n",
       "\n",
       "              ...,\n",
       "\n",
       "              [[-1., -1., -1.],\n",
       "               [-1., -1., -1.],\n",
       "               [-1., -1., -1.],\n",
       "               ...,\n",
       "               [-1., -1., -1.],\n",
       "               [-1., -1., -1.],\n",
       "               [-1., -1., -1.]],\n",
       "\n",
       "              [[-1., -1., -1.],\n",
       "               [-1., -1., -1.],\n",
       "               [-1., -1., -1.],\n",
       "               ...,\n",
       "               [-1., -1., -1.],\n",
       "               [-1., -1., -1.],\n",
       "               [-1., -1., -1.]],\n",
       "\n",
       "              [[-1., -1., -1.],\n",
       "               [-1., -1., -1.],\n",
       "               [-1., -1., -1.],\n",
       "               ...,\n",
       "               [-1., -1., -1.],\n",
       "               [-1., -1., -1.],\n",
       "               [-1., -1., -1.]]],\n",
       "\n",
       "\n",
       "             [[[-1., -1., -1.],\n",
       "               [-1., -1., -1.],\n",
       "               [-1., -1., -1.],\n",
       "               ...,\n",
       "               [-1., -1., -1.],\n",
       "               [-1., -1., -1.],\n",
       "               [-1., -1., -1.]],\n",
       "\n",
       "              [[-1., -1., -1.],\n",
       "               [-1., -1., -1.],\n",
       "               [-1., -1., -1.],\n",
       "               ...,\n",
       "               [-1., -1., -1.],\n",
       "               [-1., -1., -1.],\n",
       "               [-1., -1., -1.]],\n",
       "\n",
       "              [[-1., -1., -1.],\n",
       "               [-1., -1., -1.],\n",
       "               [-1., -1., -1.],\n",
       "               ...,\n",
       "               [-1., -1., -1.],\n",
       "               [-1., -1., -1.],\n",
       "               [-1., -1., -1.]],\n",
       "\n",
       "              ...,\n",
       "\n",
       "              [[-1., -1., -1.],\n",
       "               [-1., -1., -1.],\n",
       "               [-1., -1., -1.],\n",
       "               ...,\n",
       "               [-1., -1., -1.],\n",
       "               [-1., -1., -1.],\n",
       "               [-1., -1., -1.]],\n",
       "\n",
       "              [[-1., -1., -1.],\n",
       "               [-1., -1., -1.],\n",
       "               [-1., -1., -1.],\n",
       "               ...,\n",
       "               [-1., -1., -1.],\n",
       "               [-1., -1., -1.],\n",
       "               [-1., -1., -1.]],\n",
       "\n",
       "              [[-1., -1., -1.],\n",
       "               [-1., -1., -1.],\n",
       "               [-1., -1., -1.],\n",
       "               ...,\n",
       "               [-1., -1., -1.],\n",
       "               [-1., -1., -1.],\n",
       "               [-1., -1., -1.]]]], dtype=float32)), score=DeviceArray([-220.90082, -227.6933 , -228.11066, ..., -300.54337,\n",
       "             -300.54337, -300.54337], dtype=float32))}), score=DeviceArray([-223.89655, -230.68903, -231.10638, ..., -303.5391 ,\n",
       "             -303.5391 , -303.5391 ], dtype=float32))"
      ]
     },
     "execution_count": 139,
     "metadata": {},
     "output_type": "execute_result"
    }
   ],
   "source": [
    "traces"
   ]
  },
  {
   "cell_type": "code",
   "execution_count": null,
   "id": "6a2c2911",
   "metadata": {},
   "outputs": [
    {
     "data": {
      "text/plain": [
       "[<matplotlib.lines.Line2D at 0x7fc3f848c5b0>]"
      ]
     },
     "execution_count": 102,
     "metadata": {},
     "output_type": "execute_result"
    },
    {
     "data": {
      "image/png": "[encoded data removed]",
      "text/plain": [
       "<Figure size 640x480 with 1 Axes>"
      ]
     },
     "metadata": {},
     "output_type": "display_data"
    }
   ],
   "source": [
    "plt.plot(np.array(xs), weights_old)\n",
    "plt.plot(np.array(xs), weights_new)"
   ]
  },
  {
   "cell_type": "code",
   "execution_count": null,
   "id": "ef65048a",
   "metadata": {},
   "outputs": [
    {
     "data": {
      "text/plain": [
       "DeviceArray([-301.01337, -301.01337, -301.01337, ...,  161.16418,\n",
       "              161.85686,  161.85686], dtype=float32)"
      ]
     },
     "execution_count": 351,
     "metadata": {},
     "output_type": "execute_result"
    }
   ],
   "source": [
    "weights_new"
   ]
  },
  {
   "cell_type": "code",
   "execution_count": null,
   "id": "89be48d9",
   "metadata": {},
   "outputs": [
    {
     "data": {
      "text/plain": [
       "[<matplotlib.lines.Line2D at 0x7f69d50af340>]"
      ]
     },
     "execution_count": 269,
     "metadata": {},
     "output_type": "execute_result"
    },
    {
     "data": {
      "image/png": "[encoded data removed]",
      "text/plain": [
       "<Figure size 640x480 with 1 Axes>"
      ]
     },
     "metadata": {},
     "output_type": "display_data"
    }
   ],
   "source": []
  },
  {
   "cell_type": "code",
   "execution_count": null,
   "id": "391985a8",
   "metadata": {},
   "outputs": [
    {
     "ename": "SyntaxError",
     "evalue": "incomplete input (352423322.py, line 1)",
     "output_type": "error",
     "traceback": [
      "\u001b[0;36m  Cell \u001b[0;32mIn [252], line 1\u001b[0;36m\u001b[0m\n\u001b[0;31m    np.zip(np.array(\u001b[0m\n\u001b[0m                    ^\u001b[0m\n\u001b[0;31mSyntaxError\u001b[0m\u001b[0;31m:\u001b[0m incomplete input\n"
     ]
    }
   ],
   "source": [
    "np.zip(np.array("
   ]
  },
  {
   "cell_type": "code",
   "execution_count": null,
   "id": "4dd13a4a",
   "metadata": {},
   "outputs": [
    {
     "data": {
      "text/plain": [
       "[<matplotlib.lines.Line2D at 0x7f69ec44c9a0>]"
      ]
     },
     "execution_count": 139,
     "metadata": {},
     "output_type": "execute_result"
    },
    {
     "data": {
      "image/png": "[encoded data removed]",
      "text/plain": [
       "<Figure size 640x480 with 1 Axes>"
      ]
     },
     "metadata": {},
     "output_type": "display_data"
    }
   ],
   "source": [
    "plt.clf()\n",
    "plt.plot(np.array(xs), weights)"
   ]
  },
  {
   "cell_type": "code",
   "execution_count": null,
   "id": "fe301c3f",
   "metadata": {},
   "outputs": [
    {
     "data": {
      "text/plain": [
       "(160, 120)"
      ]
     },
     "execution_count": 22,
     "metadata": {},
     "output_type": "execute_result"
    }
   ],
   "source": [
    "gt_image[:,:,2].shape"
   ]
  },
  {
   "cell_type": "code",
   "execution_count": null,
   "id": "2b02dcbe",
   "metadata": {},
   "outputs": [
    {
     "data": {
      "text/plain": [
       "<matplotlib.image.AxesImage at 0x7fc41c3ff8b0>"
      ]
     },
     "execution_count": 21,
     "metadata": {},
     "output_type": "execute_result"
    },
    {
     "data": {
      "image/png": "[encoded data removed]",
      "text/plain": [
       "<Figure size 640x480 with 1 Axes>"
      ]
     },
     "metadata": {},
     "output_type": "display_data"
    }
   ],
   "source": [
    "plt.imshow(gt_image[:,:,2])"
   ]
  },
  {
   "cell_type": "code",
   "execution_count": null,
   "id": "e7cd7c06",
   "metadata": {},
   "outputs": [],
   "source": []
  }
 ],
 "metadata": {
  "kernelspec": {
   "display_name": "Python 3 (ipykernel)",
   "language": "python",
   "name": "python3"
  }
 },
 "nbformat": 4,
 "nbformat_minor": 5
}
