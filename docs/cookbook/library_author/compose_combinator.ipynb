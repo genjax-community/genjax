{
 "cells": [
  {
   "cell_type": "markdown",
   "metadata": {},
   "source": [
    "What is the `compose_combinator`?"
   ]
  },
  {
   "cell_type": "markdown",
   "metadata": {},
   "source": [
    "!! It is only meant to be use by library authors. It is used to implement other combinators such as `switch_combinator`, the joint `mixture_combinator`, and `repeat_combinator`."
   ]
  },
  {
   "cell_type": "markdown",
   "metadata": {},
   "source": []
  },
  {
   "cell_type": "code",
   "execution_count": null,
   "metadata": {},
   "outputs": [],
   "source": [
    "# Example of rewriting the `mixture_combinator` using the `compose_combinator` and `switch_combinator` functions\n",
    "from genjax._src.core.generative import GenerativeFunction\n",
    "from genjax._src.generative_functions.combinators.compose_combinator import (\n",
    "    compose_combinator,\n",
    ")\n",
    "from genjax._src.generative_functions.combinators.switch_combinator import (\n",
    "    switch_combinator,\n",
    ")\n",
    "from genjax import categorical, gen, normal, mixture_combinator\n",
    "import jax.random as random\n",
    "from genjax._src.core.typing import typecheck, List\n",
    "\n",
    "\n",
    "@typecheck\n",
    "def new_mixture_combinator(\n",
    "    *gen_fns: GenerativeFunction,\n",
    ") -> GenerativeFunction:\n",
    "    def argument_mapping(mixture_logits, *args):\n",
    "        return (mixture_logits, *args)\n",
    "\n",
    "    # Packing the generative functions using a switch combinator\n",
    "    inner_combinator_closure = switch_combinator(*gen_fns)\n",
    "\n",
    "    @gen\n",
    "    def mixture_model(mixture_logits, *args):\n",
    "        # The mixture combinator creates a mixture model that samples from a categorical distribution to get the index of the component to sample from\n",
    "        mix_idx = categorical(logits=mixture_logits) @ \"mixture_component\"\n",
    "        # And then calls the inner combinator closure to sample from the selected component\n",
    "        v = inner_combinator_closure(mix_idx, *args) @ \"component_sample\"\n",
    "        return v\n",
    "\n",
    "    # The `compose_combinator` function is used to wrap the mixture model function with the argument mapping function to create a new generative function\n",
    "    return compose_combinator(\n",
    "        mixture_model,\n",
    "        pre=argument_mapping,\n",
    "        info=\"Derived combinator (Mixture)\",\n",
    "    )\n",
    "\n",
    "\n",
    "# To add a version accessible as model.new_switch:\n",
    "def new_switch(\n",
    "    self,\n",
    "    branches: List[\"GenerativeFunction\"],\n",
    "    *args,\n",
    ") -> \"GenerativeFunction\":\n",
    "    return (\n",
    "        new_switch_combinator(self, *branches)(*args)\n",
    "        if args\n",
    "        else new_switch_combinator(self, *branches)\n",
    "    )\n",
    "\n",
    "\n",
    "# Testing the rewritten version on an example\n",
    "@gen\n",
    "def mixture_model(p):\n",
    "    logits = (0.4, 0.6)\n",
    "    arg_1 = (p,)\n",
    "    arg_2 = (p,)\n",
    "    component_1 = gen(lambda p: normal(p, 0.1) @ \"x\")\n",
    "    component_2 = gen(lambda p: normal(p, 0.2) @ \"y\")\n",
    "    a = new_mixture_combinator(component_1, component_2)(logits, arg_1, arg_2) @ \"a\"\n",
    "    return a\n",
    "\n",
    "\n",
    "key = random.PRNGKey(23)\n",
    "tr = mixture_model.simulate(key, (0.4,))\n",
    "print(tr.get_retval())\n",
    "\n",
    "# Testing the version accessible as model.new_switch"
   ]
  },
  {
   "cell_type": "code",
   "execution_count": null,
   "metadata": {},
   "outputs": [],
   "source": []
  }
 ],
 "metadata": {
  "kernelspec": {
   "display_name": ".venv",
   "language": "python",
   "name": "python3"
  },
  "language_info": {
   "codemirror_mode": {
    "name": "ipython",
    "version": 3
   },
   "file_extension": ".py",
   "mimetype": "text/x-python",
   "name": "python",
   "nbconvert_exporter": "python",
   "pygments_lexer": "ipython3",
   "version": "3.11.6"
  }
 },
 "nbformat": 4,
 "nbformat_minor": 2
}
