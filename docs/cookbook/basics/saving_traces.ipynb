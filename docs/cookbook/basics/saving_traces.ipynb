{
 "cells": [
  {
   "cell_type": "markdown",
   "metadata": {},
   "source": [
    "I want to save my traces for later reuse. What do I do?"
   ]
  },
  {
   "cell_type": "markdown",
   "metadata": {},
   "source": [
    "Genjax supports serializing traces into a byte format. To support different disk formats, GenJax offers different backends. Here we use `msgpack_serialize` which writes traces using the `MsgPack` protocol."
   ]
  },
  {
   "cell_type": "code",
   "execution_count": 1,
   "metadata": {},
   "outputs": [
    {
     "name": "stdout",
     "output_type": "stream",
     "text": [
      "XorChm(c1=StaticChm(addr='x', c=ValueChm(v=<jax.Array(-2.208231, dtype=float32)>)), c2=StaticChm(addr='y', c=ValueChm(v=<jax.Array([1, 1, 1], dtype=int32)>)))\n"
     ]
    }
   ],
   "source": [
    "# Closely following Ian's notebook\n",
    "import genjax\n",
    "import jax\n",
    "import jax.numpy as jnp\n",
    "from genjax._src.core.serialization.msgpack import msgpack_serialize\n",
    "from genjax import gen\n",
    "\n",
    "@gen\n",
    "def model(mu, coins):\n",
    "    x = genjax.normal(mu, 1.0) @ \"x\"\n",
    "    y = genjax.flip(jnp.sum(coins) / coins) @ \"y\"\n",
    "    return x + y\n",
    "\n",
    "key = jax.random.PRNGKey(314159)\n",
    "args = (-2.1, jnp.array([1, 1, 0]))\n",
    "tr = model.simulate(key, args)\n",
    "print(tr.get_sample())\n"
   ]
  },
  {
   "cell_type": "markdown",
   "metadata": {},
   "source": [
    "We can now convert `tr` into a byte representation using `serialize`. Note that GenJax provides `pickle`-like functions (e.g. `dumps`) that can alternatively be called instead."
   ]
  },
  {
   "cell_type": "code",
   "execution_count": 2,
   "metadata": {},
   "outputs": [],
   "source": [
    "serialized_tr = msgpack_serialize.serialize(tr)  # or msgpack_serialize.dumps(tr"
   ]
  },
  {
   "cell_type": "markdown",
   "metadata": {},
   "source": [
    "Deserialization is slightly different then one might be used to. In addition to passing in the bytes, the generative function is specified as well as its argument."
   ]
  },
  {
   "cell_type": "code",
   "execution_count": 3,
   "metadata": {},
   "outputs": [
    {
     "name": "stdout",
     "output_type": "stream",
     "text": [
      "StaticTrace(gen_fn=StaticGenerativeFunction(source=Closure(dyn_args=(), fn=<function model at 0x14d555b20>)), args=(-2.1, <jax.Array([1, 1, 0], dtype=int32)>), retval=<jax.Array([-1.208231, -1.208231, -1.208231], dtype=float32)>, addresses=AddressVisitor(visited=[('x',), ('y',)]), subtraces=[DistributionTrace(gen_fn=ExactDensityFromCallables(sampler=Closure(dyn_args=(), fn=<function tfp_distribution.<locals>.sampler at 0x14d3b0b80>), logpdf_evaluator=Closure(dyn_args=(), fn=<function tfp_distribution.<locals>.logpdf at 0x14d3b0c20>)), args=(-2.1, 1.0), value=<jax.Array(-2.208231, dtype=float32)>, score=<jax.Array(-0.9247955, dtype=float32)>), DistributionTrace(gen_fn=ExactDensityFromCallables(sampler=Closure(dyn_args=(), fn=<function tfp_distribution.<locals>.sampler at 0x14d393100>), logpdf_evaluator=Closure(dyn_args=(), fn=<function tfp_distribution.<locals>.logpdf at 0x14d3931a0>)), args=(<jax.Array([ 2.,  2., inf], dtype=float32)>,), value=<jax.Array([1, 1, 1], dtype=int32)>, score=<jax.Array([0.6931472, 0.6931472,       inf], dtype=float32)>)], score=<jax.Array([-0.23164833, -0.23164833,         inf], dtype=float32)>)\n"
     ]
    }
   ],
   "source": [
    "retrieved_tr = msgpack_serialize.deserialize(serialized_tr, model,args)\n",
    "print(retrieved_tr)"
   ]
  },
  {
   "cell_type": "markdown",
   "metadata": {},
   "source": [
    "Note that serialized trace can be written to disk with the `MsgPack` backend. This means that even if the Python runtime terminates, the written trace can still be deserialized so long as the generative function induces the same trace structure. Observe that a fresh copy of `model` works just as well to deserialize the trace."
   ]
  },
  {
   "cell_type": "code",
   "execution_count": 4,
   "metadata": {},
   "outputs": [
    {
     "name": "stdout",
     "output_type": "stream",
     "text": [
      "StaticTrace(gen_fn=StaticGenerativeFunction(source=Closure(dyn_args=(), fn=<function second_model_with_similar_trace_structure at 0x13c1aca40>)), args=(-2.1, <jax.Array([1, 1, 0], dtype=int32)>), retval=<jax.Array([-1.208231, -1.208231, -1.208231], dtype=float32)>, addresses=AddressVisitor(visited=[('x',), ('y',)]), subtraces=[DistributionTrace(gen_fn=ExactDensityFromCallables(sampler=Closure(dyn_args=(), fn=<function tfp_distribution.<locals>.sampler at 0x14d393c40>), logpdf_evaluator=Closure(dyn_args=(), fn=<function tfp_distribution.<locals>.logpdf at 0x14d393ce0>)), args=(-2.1, 1.0), value=<jax.Array(-2.208231, dtype=float32)>, score=<jax.Array(-0.9247955, dtype=float32)>), DistributionTrace(gen_fn=ExactDensityFromCallables(sampler=Closure(dyn_args=(), fn=<function tfp_distribution.<locals>.sampler at 0x14d393100>), logpdf_evaluator=Closure(dyn_args=(), fn=<function tfp_distribution.<locals>.logpdf at 0x14d3931a0>)), args=(<jax.Array([ 2.,  2., inf], dtype=float32)>,), value=<jax.Array([1, 1, 1], dtype=int32)>, score=<jax.Array([0.6931472, 0.6931472,       inf], dtype=float32)>)], score=<jax.Array([-0.23164833, -0.23164833,         inf], dtype=float32)>)\n"
     ]
    }
   ],
   "source": [
    "@gen\n",
    "def second_model_with_similar_trace_structure(mu, coins):\n",
    "    x = genjax.inverse_gamma(mu, 2.) @ \"x\"\n",
    "    y = genjax.flip(jnp.sum(coins) / coins) @ \"y\"\n",
    "    return x + y\n",
    "\n",
    "retrieved_tr = msgpack_serialize.deserialize(serialized_tr, second_model_with_similar_trace_structure, args)\n",
    "print(retrieved_tr)"
   ]
  }
 ],
 "metadata": {
  "kernelspec": {
   "display_name": ".venv",
   "language": "python",
   "name": "python3"
  },
  "language_info": {
   "codemirror_mode": {
    "name": "ipython",
    "version": 3
   },
   "file_extension": ".py",
   "mimetype": "text/x-python",
   "name": "python",
   "nbconvert_exporter": "python",
   "pygments_lexer": "ipython3",
   "version": "3.11.6"
  }
 },
 "nbformat": 4,
 "nbformat_minor": 2
}
