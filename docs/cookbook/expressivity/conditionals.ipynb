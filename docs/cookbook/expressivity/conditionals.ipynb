{
 "cells": [
  {
   "cell_type": "markdown",
   "metadata": {},
   "source": [
    "How do I use conditionals in Jax?"
   ]
  },
  {
   "cell_type": "code",
   "execution_count": 1,
   "metadata": {},
   "outputs": [
    {
     "name": "stdout",
     "output_type": "stream",
     "text": [
      "0.6\n",
      "0.4\n"
     ]
    }
   ],
   "source": [
    "# In pure Python, we can use usual conditionals\n",
    "def simple_cond_python(p):\n",
    "    if p > 0:\n",
    "        return 2*p\n",
    "    else:\n",
    "       return -p\n",
    "   \n",
    "print(simple_cond_python(0.3))\n",
    "print(simple_cond_python(-0.4))"
   ]
  },
  {
   "cell_type": "code",
   "execution_count": 3,
   "metadata": {},
   "outputs": [
    {
     "name": "stdout",
     "output_type": "stream",
     "text": [
      "0.6\n",
      "0.4\n"
     ]
    }
   ],
   "source": [
    "# In pure JAX, we write conditionals with jax.lax.cond as follows\n",
    "import jax\n",
    "\n",
    "def simple_cond_jax(p):\n",
    "    pred = p > 0\n",
    "    branch_1 = lambda p: 2*p\n",
    "    branch_2 = lambda p: -p\n",
    "    arg_of_cond = p\n",
    "    cond_res = jax.lax.cond(pred, branch_1, branch_2, arg_of_cond)\n",
    "    return cond_res\n",
    "\n",
    "print(simple_cond_jax(0.3))\n",
    "print(simple_cond_jax(-0.4))"
   ]
  },
  {
   "cell_type": "code",
   "execution_count": 4,
   "metadata": {},
   "outputs": [
    {
     "name": "stdout",
     "output_type": "stream",
     "text": [
      "1.06 ms ± 20.5 µs per loop (mean ± std. dev. of 7 runs, 1,000 loops each)\n",
      "186 µs ± 1.19 µs per loop (mean ± std. dev. of 7 runs, 10,000 loops each)\n"
     ]
    }
   ],
   "source": [
    "# Compiled JAX code is usually quite faster than Python code\n",
    "\n",
    "def python_loop(x):\n",
    "    for i in range(40000):\n",
    "        if x < 100.0:\n",
    "            x = 2*x\n",
    "        else:\n",
    "            x = x - 97.0\n",
    "    return x\n",
    "\n",
    "@jax.jit\n",
    "def jax_loop(x):\n",
    "    return jax.lax.fori_loop(0, 40000, lambda _, x: jax.lax.cond(x < 100.0, lambda x: 2*x, lambda x: x - 97.0, x), x)\n",
    "\n",
    "%timeit python_loop(1.0)\n",
    "# Get the JIT time out of the way\n",
    "jax_loop(1.0)\n",
    "%timeit jax_loop(1.0)"
   ]
  },
  {
   "cell_type": "code",
   "execution_count": 5,
   "metadata": {},
   "outputs": [
    {
     "name": "stdout",
     "output_type": "stream",
     "text": [
      "true_fun and false_fun output must have same type structure, got PyTreeDef((*, *)) and PyTreeDef(*).\n",
      "true_fun and false_fun output must have identical types, got\n",
      "DIFFERENT ShapedArray(float32[], weak_type=True) vs. ShapedArray(int32[], weak_type=True).\n"
     ]
    }
   ],
   "source": [
    "# One restriction is that both branches should have the same pytree structure\n",
    "def failing_simple_cond_1(p):\n",
    "    pred = p > 0\n",
    "    branch_1 = lambda p: (p,p)\n",
    "    branch_2 = lambda p: -p\n",
    "    arg_of_cond = p\n",
    "    cond_res = jax.lax.cond(pred, branch_1, branch_2, arg_of_cond)\n",
    "    return cond_res\n",
    "\n",
    "try: \n",
    "    print(failing_simple_cond_1(0.3))\n",
    "except TypeError as e:\n",
    "    print(e)\n",
    "\n",
    "# The other one is that the type of the output of the branches should be the same \n",
    "def failing_simple_cond_2(p):\n",
    "    pred = p > 0\n",
    "    branch_1 = lambda p: 2*p\n",
    "    branch_2 = lambda p: 7\n",
    "    arg_of_cond = p\n",
    "    cond_res = jax.lax.cond(pred, branch_1, branch_2, arg_of_cond)\n",
    "    return cond_res\n",
    "\n",
    "try:\n",
    "    print(failing_simple_cond_2(0.3))\n",
    "except TypeError as e:\n",
    "    print(e)\n"
   ]
  },
  {
   "cell_type": "code",
   "execution_count": 2,
   "metadata": {},
   "outputs": [
    {
     "name": "stdout",
     "output_type": "stream",
     "text": [
      "StaticChm(addr='cond', c=XorChm(c1=MaskChm(flag=<jax.Array(True, dtype=bool)>, c=StaticChm(addr='v1', c=ValueChm(v=<jax.Array(1, dtype=int32)>))), c2=MaskChm(flag=<jax.Array(False, dtype=bool)>, c=StaticChm(addr='v2', c=ValueChm(v=<jax.Array(0, dtype=int32)>)))))\n",
      "Mask(flag=<jax.Array(True, dtype=bool)>, value=<jax.Array(1, dtype=int32)>)\n"
     ]
    }
   ],
   "source": [
    "# In GenJAX, the syntax is a bit different still.\n",
    "# Similarly to JAX having a custom primitive `jax.lax.cond` that creates a conditional by \"composing\" two functions seen as branches, GenJAX has a custom combinator that \"composes\" two generative functions, called `cond_combinator`.\n",
    "import jax\n",
    "import jax.numpy as jnp\n",
    "from genjax import gen, cond_combinator, bernoulli\n",
    "\n",
    "# We can first define the two branches as generative functions\n",
    "@gen\n",
    "def branch_1(p):\n",
    "    v = bernoulli(p) @ \"v1\"\n",
    "    return v\n",
    "\n",
    "@gen\n",
    "def branch_2(p):\n",
    "    v = bernoulli(-p) @ \"v2\"\n",
    "    return v\n",
    "\n",
    "# Then we use the combinator to compose them\n",
    "@gen\n",
    "def cond_model(p):\n",
    "    pred = jnp.int32(p > 0)\n",
    "    arg_1 = (p,)\n",
    "    arg_2 = (p,)\n",
    "    v = cond_combinator(branch_1, branch_2)(pred, arg_1, arg_2) @ \"cond\"\n",
    "    return v\n",
    "\n",
    "key = jax.random.PRNGKey(314159)\n",
    "jitted = jax.jit(cond_model.simulate)\n",
    "tr = jitted(key, (0.,))\n",
    "print(tr.get_sample())\n",
    "print(tr.get_sample()[(\"cond\", \"v1\")])\n",
    "#print(tr.get_sample()[(\"cond\", \"v2\")]) # This will fail because the key is not in the trace, as the branch was not taken"
   ]
  },
  {
   "cell_type": "code",
   "execution_count": 3,
   "metadata": {},
   "outputs": [
    {
     "name": "stdout",
     "output_type": "stream",
     "text": [
      "1\n",
      "1\n"
     ]
    }
   ],
   "source": [
    "# Note that it may be possible to write the following down, but this will not give you what you want in general!\n",
    "#TODO: find a way to make it fail to show the point.\n",
    "from genjax import gen\n",
    "from genjax import bernoulli\n",
    "import jax\n",
    "\n",
    "@gen\n",
    "def simple_cond_genjax(p):\n",
    "    branch_1 = lambda p: bernoulli(p) @ \"v1\"\n",
    "    branch_2 = lambda p: bernoulli(-p) @ \"v2\"\n",
    "    cond = jax.lax.cond(p > 0, branch_1, branch_2, p)\n",
    "    return cond\n",
    "\n",
    "key = jax.random.PRNGKey(314159)\n",
    "tr1 = simple_cond_genjax.simulate(key, (0.3,))\n",
    "tr2 = simple_cond_genjax.simulate(key, (-0.4,))\n",
    "print(tr1.get_retval())\n",
    "print(tr2.get_retval())"
   ]
  },
  {
   "cell_type": "code",
   "execution_count": 8,
   "metadata": {},
   "outputs": [
    {
     "name": "stdout",
     "output_type": "stream",
     "text": [
      "0.6\n",
      "-1.1\n",
      "2.3\n"
     ]
    }
   ],
   "source": [
    "# Alternatively, if we have more than two branches, in JAX we can use the `jax.lax.switch` function\n",
    "def simple_switch_jax(p):\n",
    "    index = jnp.floor(jnp.abs(p)).astype(jnp.int32) % 3\n",
    "    branches = [lambda p: 2*p, lambda p: -p, lambda p: p]\n",
    "    switch_res = jax.lax.switch(index, branches, p)\n",
    "    return switch_res\n",
    "\n",
    "print(simple_switch_jax(0.3))\n",
    "print(simple_switch_jax(1.1))\n",
    "print(simple_switch_jax(2.3))"
   ]
  },
  {
   "cell_type": "code",
   "execution_count": 4,
   "metadata": {},
   "outputs": [
    {
     "name": "stdout",
     "output_type": "stream",
     "text": [
      "Mask(flag=<jax.Array(True, dtype=bool)>, value=<jax.Array(1.2767134, dtype=float32)>)\n",
      "Mask(flag=<jax.Array(True, dtype=bool)>, value=<jax.Array(0.17671339, dtype=float32)>)\n",
      "Mask(flag=<jax.Array(True, dtype=bool)>, value=<jax.Array(6.1167135, dtype=float32)>)\n",
      "Mask(flag=<jax.Array(True, dtype=bool)>, value=<jax.Array(1.2767134, dtype=float32)>)\n"
     ]
    }
   ],
   "source": [
    "# Likewise, in GenJAX we can use the `switch_combinator` if we have more than two branches\n",
    "# We can first define three branches as generative functions\n",
    "from genjax import switch_combinator, normal\n",
    "\n",
    "@gen\n",
    "def branch_1(p):\n",
    "    v = normal(p, 1.0) @ \"v1\"\n",
    "    return v\n",
    "\n",
    "@gen\n",
    "def branch_2(p):\n",
    "    v = normal(-p, 1.0) @ \"v2\"\n",
    "    return v\n",
    "\n",
    "@gen\n",
    "def branch_3(p):\n",
    "    v = normal(p*p, 1.0) @ \"v3\"\n",
    "    return v\n",
    "\n",
    "# Then we use the combinator to compose them\n",
    "@gen\n",
    "def switch_model(p):\n",
    "    index = jnp.floor(jnp.abs(p)).astype(jnp.int32) % 3\n",
    "    v = switch_combinator(branch_1, branch_2, branch_3)(index, (p,), (p,), (p,)) @ \"s\"\n",
    "    return v\n",
    "\n",
    "key = jax.random.PRNGKey(0)\n",
    "jitted = jax.jit(switch_model.simulate)\n",
    "tr = jitted(key, (0.0,))\n",
    "print(tr.get_sample()[(\"s\", \"v1\")])\n",
    "tr = jitted(key, (1.1,))\n",
    "print(tr.get_sample()[(\"s\", \"v2\")])\n",
    "tr = jitted(key, (2.2,))\n",
    "print(tr.get_sample()[(\"s\", \"v3\")])\n",
    "\n",
    "# We can rewrite the above a bit more elegantly using the *args syntax\n",
    "@gen\n",
    "def switch_model_v2(p):\n",
    "    index = jnp.floor(jnp.abs(p)).astype(jnp.int32) % 3\n",
    "    branches = [branch_1, branch_2, branch_3]\n",
    "    args = [(p,), (p,), (p,)]\n",
    "    v = switch_combinator(*branches)(index, *args) @ \"switch\"\n",
    "    return v\n",
    "\n",
    "jitted = switch_model_v2.simulate\n",
    "tr = jitted(key, (0.0,))\n",
    "print(tr.get_sample()[(\"switch\", \"v1\")])"
   ]
  }
 ],
 "metadata": {
  "kernelspec": {
   "display_name": "genjax-trials",
   "language": "python",
   "name": "python3"
  },
  "language_info": {
   "codemirror_mode": {
    "name": "ipython",
    "version": 3
   },
   "file_extension": ".py",
   "mimetype": "text/x-python",
   "name": "python",
   "nbconvert_exporter": "python",
   "pygments_lexer": "ipython3",
   "version": "3.11.6"
  }
 },
 "nbformat": 4,
 "nbformat_minor": 2
}
