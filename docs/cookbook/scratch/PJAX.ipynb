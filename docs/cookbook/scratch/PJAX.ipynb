{
 "cells": [
  {
   "cell_type": "code",
   "execution_count": null,
   "id": "0",
   "metadata": {},
   "outputs": [],
   "source": [
    "import jax\n",
    "import jax.numpy as jnp\n",
    "from jax import make_jaxpr\n",
    "\n",
    "import genjax\n",
    "from genjax import normal, pjax, pretty\n",
    "\n",
    "pretty()"
   ]
  },
  {
   "cell_type": "code",
   "execution_count": null,
   "id": "1",
   "metadata": {},
   "outputs": [],
   "source": [
    "# sampler: (Key, (x, y)) -> R\n",
    "# sampler.batched(in_axes=(0, None)) -> sampler: (Key, (Tens_n(x), y)) -> Tens_n(R)\n",
    "# sampler.batched(in_axes=(None, 0)) -> sampler: (Key, (x, Tens_n(y))) -> Tens_n(R)\n",
    "# sampler.batched(in_axes=(0, 0)) -> sampler: (Key, (Tens_n(x), Tens_n(y))) -> Tens_n(R)\n",
    "# sampler.batched(in_axes=(None, None), axis_size=n) -> sampler: (Key, (x, y)) -> Tens_n(R)"
   ]
  },
  {
   "cell_type": "code",
   "execution_count": null,
   "id": "2",
   "metadata": {},
   "outputs": [],
   "source": [
    "# In PJAX (Jaxpr + sample_p) -- JAX (Python frontend + tracing -> JAXPR)\n",
    "def prog(x):  # x : R -> P R\n",
    "    v = normal.sample(1.0, 2.0)\n",
    "    return x + v"
   ]
  },
  {
   "cell_type": "markdown",
   "id": "3",
   "metadata": {},
   "source": [
    "**vmap semantics** `vmap : (A -> P T) -> (Vec A -> P Vec T)`\n",
    "\n",
    "still \"right\" but it doesn't do the thing we expect?"
   ]
  },
  {
   "cell_type": "code",
   "execution_count": null,
   "id": "4",
   "metadata": {},
   "outputs": [],
   "source": [
    "make_jaxpr(jax.vmap(prog, in_axes=(0,)))(jnp.ones(10))"
   ]
  },
  {
   "cell_type": "code",
   "execution_count": null,
   "id": "5",
   "metadata": {},
   "outputs": [],
   "source": [
    "make_jaxpr(pjax.vmap(prog, in_axes=(0,)))(jnp.ones(10))"
   ]
  },
  {
   "cell_type": "code",
   "execution_count": null,
   "id": "6",
   "metadata": {},
   "outputs": [],
   "source": [
    "@genjax.gen\n",
    "def model(x):\n",
    "    z = genjax.normal(x, 1.0) @ \"z\"\n",
    "    return z\n",
    "\n",
    "\n",
    "tr = jax.vmap(model.simulate, in_axes=(0,))((jnp.arange(0, 50, dtype=float),))\n",
    "make_jaxpr(jax.vmap(lambda tr: tr.get_score()))(tr)"
   ]
  },
  {
   "cell_type": "code",
   "execution_count": null,
   "id": "7",
   "metadata": {},
   "outputs": [],
   "source": [
    "@genjax.gen\n",
    "def model(x):\n",
    "    z = genjax.normal(x, 1.0) @ \"z\"\n",
    "    return z\n",
    "\n",
    "\n",
    "tr = jax.vmap(model.simulate, in_axes=(0,))((jnp.arange(0, 50, dtype=float),))\n",
    "make_jaxpr(pjax.vmap(lambda tr: tr.get_score()))(tr)"
   ]
  },
  {
   "cell_type": "code",
   "execution_count": null,
   "id": "8",
   "metadata": {},
   "outputs": [],
   "source": [
    "@genjax.gen\n",
    "def model(x):\n",
    "    z = genjax.normal(x, 1.0) @ \"z\"\n",
    "    return z\n",
    "\n",
    "\n",
    "tr = model.simulate((0.0,))\n",
    "make_jaxpr(lambda tr: tr.get_score())(tr)"
   ]
  },
  {
   "cell_type": "code",
   "execution_count": null,
   "id": "9",
   "metadata": {},
   "outputs": [],
   "source": [
    "from jax.core import ShapedArray"
   ]
  },
  {
   "cell_type": "code",
   "execution_count": null,
   "id": "10",
   "metadata": {},
   "outputs": [],
   "source": [
    "jax.vmap(lambda v: ShapedArray(3, float))(jnp.ones(10))"
   ]
  },
  {
   "cell_type": "code",
   "execution_count": null,
   "id": "11",
   "metadata": {},
   "outputs": [],
   "source": [
    "from jax.core import get_aval"
   ]
  },
  {
   "cell_type": "code",
   "execution_count": null,
   "id": "12",
   "metadata": {},
   "outputs": [],
   "source": [
    "get_aval(jnp.ones(50))"
   ]
  },
  {
   "cell_type": "code",
   "execution_count": null,
   "id": "13",
   "metadata": {},
   "outputs": [],
   "source": []
  }
 ],
 "metadata": {
  "kernelspec": {
   "display_name": "Python 3 (ipykernel)",
   "language": "python",
   "name": "python3"
  },
  "language_info": {
   "codemirror_mode": {
    "name": "ipython",
    "version": 3
   },
   "file_extension": ".py",
   "mimetype": "text/x-python",
   "name": "python",
   "nbconvert_exporter": "python",
   "pygments_lexer": "ipython3",
   "version": "3.13.2"
  }
 },
 "nbformat": 4,
 "nbformat_minor": 5
}
