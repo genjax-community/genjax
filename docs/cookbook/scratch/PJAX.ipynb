{
 "cells": [
  {
   "cell_type": "code",
   "execution_count": null,
   "id": "0",
   "metadata": {},
   "outputs": [],
   "source": [
    "import jax\n",
    "import jax.numpy as jnp\n",
    "from jax import make_jaxpr\n",
    "\n",
    "from genjax import gen, normal, pretty\n",
    "\n",
    "pretty()"
   ]
  },
  {
   "cell_type": "code",
   "execution_count": null,
   "id": "1",
   "metadata": {},
   "outputs": [],
   "source": [
    "# In PJAX (Jaxpr + sample_p) -- JAX (Python frontend + tracing -> JAXPR)\n",
    "def prog(x):  # x : R -> P R\n",
    "    v = normal.sample(1.0, 2.0)\n",
    "    return x + v"
   ]
  },
  {
   "cell_type": "markdown",
   "id": "2",
   "metadata": {},
   "source": [
    "**vmap semantics** `vmap : (A -> P T) -> (Vec A -> P Vec T)`\n",
    "\n",
    "still \"right\" but it doesn't do the thing we expect?"
   ]
  },
  {
   "cell_type": "code",
   "execution_count": null,
   "id": "3",
   "metadata": {},
   "outputs": [],
   "source": [
    "make_jaxpr(jax.vmap(prog, in_axes=(0,)))(jnp.ones(10))"
   ]
  },
  {
   "cell_type": "code",
   "execution_count": null,
   "id": "4",
   "metadata": {},
   "outputs": [],
   "source": [
    "# In PJAX (Jaxpr + sample_p) -- JAX (Python frontend + tracing -> JAXPR)\n",
    "def prog(x, a):  # x : R -> P R\n",
    "    v = normal.sample(a, 2.0)\n",
    "    return x + v"
   ]
  },
  {
   "cell_type": "code",
   "execution_count": null,
   "id": "5",
   "metadata": {},
   "outputs": [],
   "source": [
    "# In PJAX (Jaxpr + sample_p) -- JAX (Python frontend + tracing -> JAXPR)\n",
    "def prog(x):  # x : R -> P R\n",
    "    v = normal.sample(jnp.ones(10), 2.0)\n",
    "    return x + v"
   ]
  },
  {
   "cell_type": "code",
   "execution_count": null,
   "id": "6",
   "metadata": {},
   "outputs": [],
   "source": [
    "@gen\n",
    "def model(x):\n",
    "    x = normal(x, 1.0) @ \"x\""
   ]
  },
  {
   "cell_type": "code",
   "execution_count": null,
   "id": "7",
   "metadata": {},
   "outputs": [],
   "source": [
    "jax.make_jaxpr(model.vmap(in_axes=(0,)).simulate)((jnp.ones(50),))"
   ]
  },
  {
   "cell_type": "code",
   "execution_count": null,
   "id": "8",
   "metadata": {},
   "outputs": [],
   "source": [
    "@gen\n",
    "def model():\n",
    "    x = normal(0.0, 1.0) @ \"x\"\n",
    "\n",
    "\n",
    "model.repeat(n=10).simulate(())"
   ]
  },
  {
   "cell_type": "code",
   "execution_count": null,
   "id": "9",
   "metadata": {},
   "outputs": [],
   "source": []
  }
 ],
 "metadata": {
  "kernelspec": {
   "display_name": "Python 3 (ipykernel)",
   "language": "python",
   "name": "python3"
  },
  "language_info": {
   "codemirror_mode": {
    "name": "ipython",
    "version": 3
   },
   "file_extension": ".py",
   "mimetype": "text/x-python",
   "name": "python",
   "nbconvert_exporter": "python",
   "pygments_lexer": "ipython3",
   "version": "3.13.2"
  }
 },
 "nbformat": 4,
 "nbformat_minor": 5
}
