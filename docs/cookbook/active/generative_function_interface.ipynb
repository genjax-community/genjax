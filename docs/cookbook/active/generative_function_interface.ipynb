{
 "cells": [
  {
   "cell_type": "markdown",
   "metadata": {},
   "source": [
    "# The generative function interface [![Open In Colab](https://colab.research.google.com/assets/colab-badge.svg)](https://colab.research.google.com/github/ChiSym/genjax/blob/main/docs/cookbook/active/generative_function_interface.ipynb)"
   ]
  },
  {
   "cell_type": "code",
   "execution_count": 1,
   "metadata": {},
   "outputs": [],
   "source": [
    "import sys\n",
    "\n",
    "if \"google.colab\" in sys.modules:\n",
    "    %pip install --quiet \"genjax[genstudio]\""
   ]
  },
  {
   "cell_type": "code",
   "execution_count": 2,
   "metadata": {},
   "outputs": [],
   "source": [
    "import jax\n",
    "from jax import jit\n",
    "\n",
    "from genjax import ChoiceMapBuilder as C\n",
    "from genjax import (\n",
    "    bernoulli,\n",
    "    beta,\n",
    "    gen,\n",
    "    pretty,\n",
    ")\n",
    "from genjax._src.generative_functions.static import MissingAddress\n",
    "from genjax.incremental import Diff, NoChange, UnknownChange\n",
    "\n",
    "key = jax.random.key(0)\n",
    "pretty()\n",
    "\n",
    "\n",
    "# Define a generative function\n",
    "@gen\n",
    "def beta_bernoulli_process(u):\n",
    "    p = beta(1.0, u) @ \"p\"\n",
    "    v = bernoulli(p) @ \"v\"\n",
    "    return 2 * v"
   ]
  },
  {
   "cell_type": "markdown",
   "metadata": {},
   "source": [
    "1) Generate a traced sample and constructs choicemaps"
   ]
  },
  {
   "cell_type": "markdown",
   "metadata": {},
   "source": [
    "There's an entire cookbook entry on this in `choicemap_creation_selection`."
   ]
  },
  {
   "cell_type": "code",
   "execution_count": 3,
   "metadata": {},
   "outputs": [],
   "source": [
    "key, subkey = jax.random.split(key)\n",
    "trace = jax.jit(beta_bernoulli_process.simulate)(subkey, (0.5,))"
   ]
  },
  {
   "cell_type": "markdown",
   "metadata": {},
   "source": [
    "2) Compute log probabilities"
   ]
  },
  {
   "cell_type": "markdown",
   "metadata": {},
   "source": [
    "2.1 Print the log probability of the trace"
   ]
  },
  {
   "cell_type": "code",
   "execution_count": 4,
   "metadata": {},
   "outputs": [
    {
     "data": {
      "text/html": [
       "<script> (()=>{ if (customElements.get('treescope-container') === undefined) { class TreescopeContainer extends HTMLElement { constructor() { super(); this.attachShadow({mode: \"open\"}); this.defns = {}; this.state = {}; } } customElements.define(\"treescope-container\", TreescopeContainer); } if (customElements.get('treescope-run-here') === undefined) { class RunHere extends HTMLElement { constructor() { super() } connectedCallback() { const run = child => { const fn = new Function(child.textContent); child.textContent = \"\"; fn.call(this); this.remove(); }; const child = this.querySelector(\"script\"); if (child) { run(child); } else { new MutationObserver(()=>{ run(this.querySelector(\"script\")); }).observe(this, {childList: true}); } } } customElements.define(\"treescope-run-here\", RunHere); } })(); </script> <treescope-container class=\"treescope_out_7d97f1a9fac64e619d01af3b97fea836\" style=\"display:block\"></treescope-container> <treescope-run-here><script type=\"application/octet-stream\"> const root = ( Array.from(document.getElementsByClassName( \"treescope_out_7d97f1a9fac64e619d01af3b97fea836\")) .filter((elt) => !elt.dataset.setup) )[0]; root.dataset.setup = 1; const msg = document.createElement(\"span\"); msg.style = \"color: #cccccc; font-family: monospace;\"; msg.textContent = \"(Loading...)\"; root.state.loadingMsg = msg; root.shadowRoot.appendChild(msg); root.state.chain = new Promise((resolve, reject) => { const observer = new IntersectionObserver((entries) => { for (const entry of entries) { if (entry.isIntersecting) { resolve(); observer.disconnect(); return; } } }, {rootMargin: \"1000px\"}); window.setTimeout(() => { observer.observe(root); }, 0); }); root.state.deferring = false; const _insertNode = (node) => { for (let oldScript of node.querySelectorAll(\"script\")) { let newScript = document.createElement(\"script\"); newScript.type = oldScript.type; newScript.textContent = oldScript.textContent; oldScript.parentNode.replaceChild(newScript, oldScript); } if (root.state.loadingMsg) { root.state.loadingMsg.remove(); root.state.loadingMsg = null; } root.shadowRoot.appendChild(node); }; root.defns.insertContent = ((contentNode, compressed) => { if (compressed) { root.state.deferring = true; } if (root.state.deferring) { root.state.chain = (async () => { await root.state.chain; if (compressed) { const encoded = contentNode.textContent; const blob = new Blob([ Uint8Array.from(atob(encoded), (m) => m.codePointAt(0)) ]); const reader = blob.stream().pipeThrough( new DecompressionStream(\"deflate\") ).pipeThrough( new TextDecoderStream(\"utf-8\") ).getReader(); const parts = []; while (true) { const step = await reader.read(); if (step.done) { break; } parts.push(step.value); } const tpl = document.createElement('template'); tpl.innerHTML = parts.join(\"\"); _insertNode(tpl.content); } else { _insertNode(contentNode.content); } })(); } else { _insertNode(contentNode.content); } }); </script></treescope-run-here><div style=\"display:none\"> <script type=\"application/octet-stream\" >eNqNVN9v00AM/ldOQaypRLL+2JjWNJX2gnhAPMADDwhV18RpzK6+cOeuK2j/O74kLRsrE8pDku/sz599tuee9wYWKTsAX9gGls5aVr9UYz0yWpopB0Yz3kGmKkucVHqDZj9TG0vWN7oQfFcjQ9L+zFTjBDHoOWmpE943gpIlgVe6uF07u6UyKayxbta5Zqr/WxkxED4suZ6pClnMiIE4UxukpMfHo9Fr4bL3icefSGvxs64ElwiUqUaXpYCJgYpnalLUQQ1BUgOua0HG6WWIR6xRkjvy9x/JHXpcoUGWFPWW7dE2QWKH5LEIYaE77fN6mJ93dZwf65i4LUlMJ5gvHDasQiHygW4ag4UOpT23BUMokwO9GSzieJgvpPISz7MqoSKvcsU1+nQN/Emu5aMtIR6mtfWctueSGrBaNkAh5ZsisAanr99OnbzXVBqQY9oak3URUpH52VoSNN5ZdztUjzXYLwKFoycwYxHABlxl3UZTASnZXTxsG0ECxM9OVNI5zdV0MhQerFT8l+rUAK25VnmuRsHkRekOeOtI6q7AePgjrN5SUPY3ta+x4qCvNQgfD/L8I0Is7Uel3aUOfmzB8w3hpr2ud05vIO5qMgwc2bNAzdbXXRmzEzkeQuRdGi9k+f8agoruItmu16Yb32U7YtKtTeAKCBh+o+BOGry/yaCu/U9vYR+KHrkoCOqN08Jo7z/IFPe8cXTkXG6kDaND8Ieh1FPav+3xxfz81ACUeKdawjx6umcixXolmcJ9Ho0iGV3Hz00siUQpBsnRS8NwugJx8DnkHskwdvtOPMA5KJeNrByorZH90fZRu4de6avw9BuvdZkpZC2TKxmnuxpoqVer4FGiF4r9YcM9qBl6afjTNkhhFT2yIpH6D6LjSpG9SgrLPDpqXsFIX+rpdTEZTy/Kt/q6ury6GF9MppOryzHAVdQ79TU/lWu0ODOcPTYbHLQMFt/1fXrjnN4rESEWT+gGx8xaw4NJZazm6SQenq05O7gdXtIAi9+hc0B5</script> <treescope-run-here><script type=\"application/octet-stream\"> const root = ( Array.from(document.getElementsByClassName( \"treescope_out_7d97f1a9fac64e619d01af3b97fea836\")) .filter((elt) => !elt.dataset['step0']) )[0]; root.dataset['step0'] = 1; root.defns.insertContent( this.parentNode.querySelector('script[type=\"application/octet-stream\"]'), true ); this.parentNode.remove(); </script></treescope-run-here> </div>"
      ],
      "text/plain": [
       "<IPython.core.display.HTML object>"
      ]
     },
     "metadata": {},
     "output_type": "display_data"
    },
    {
     "data": {
      "text/html": [
       "<div style=\"display:none\"> <script type=\"application/octet-stream\" >eNqNUsFu2zAM/RVBBYoEWdTYSZq1sQNs7Qb0ssN22KEoAkWiYw2K5VFKMGPov49yHHfZOmAXWxTfexQfmWlzYD40FnKuja+tbG5Z5SrgzOicFw7XGgpABL3ewETO5fRGpcl0pq/lTTFfzJJZOk0X8wRgwVeZr2VF36i3EspZosvNBuHAfrI2vGUX129TOZks2XN2dQS2LKas9D7nv5P46tKG5Tf5Q7xDlM1gnIgkSefTyfwN06GpIS+sk2GaDi+3YUlybfXTjzpbZQEBvHI1jHFfjUvAWE6hqQNrBbisa2uUDMZVV04FCGNPHLnjK+UqTyiJWwgP2rOcPfL/9+JpeeRrp9C5QOxQGi9I6zOFn5yGwXDJuhr0yA7UwcX3PWDzBSyo4HDARd/HOqb5X9Q7SzOLRbpYqHjRlgm4B8L3GQSasoKvJpSDM3ovWqDc7qDq3rOPR6HIlAD3XfixQ8QeTmhBVkKl70pjdS8c8w7ZwEJghvRo7oZlL64KC9U2lHQ7Gg1pSSLumCRwr0zhBwvx+L55IPET+9E8UYHI8W6PCu5pmf/p4UVcZs5G7A/6MTyzpVcThUF/qt12RoSXLMLOHdpBPp9P4lWTh3FF292j7XxlMX8BxME+zQ==</script> <treescope-run-here><script type=\"application/octet-stream\"> const root = ( Array.from(document.getElementsByClassName( \"treescope_out_7d97f1a9fac64e619d01af3b97fea836\")) .filter((elt) => !elt.dataset['step1']) )[0]; root.dataset['step1'] = 1; root.defns.insertContent( this.parentNode.querySelector('script[type=\"application/octet-stream\"]'), true ); this.parentNode.remove(); </script></treescope-run-here> </div>"
      ],
      "text/plain": [
       "<IPython.core.display.HTML object>"
      ]
     },
     "metadata": {},
     "output_type": "display_data"
    },
    {
     "data": {
      "text/html": [
       "<treescope-run-here><script type=\"application/octet-stream\"> const root = ( Array.from(document.getElementsByClassName( \"treescope_out_7d97f1a9fac64e619d01af3b97fea836\")) .filter((elt) => !elt.dataset.stolen) )[0]; root.dataset.stolen = 1; const temp = document.createElement(\"div\"); temp.style = \"height: 1px; width: 1px;\"; root.parentNode.insertBefore(temp, root); this.parentNode.replaceChild(root, this); temp.remove(); root.style.paddingTop = \"1px\"; </script></treescope-run-here>"
      ],
      "text/plain": [
       "<jax.Array(-1.1125305, dtype=float32)>"
      ]
     },
     "execution_count": 4,
     "metadata": {},
     "output_type": "execute_result"
    }
   ],
   "source": [
    "trace.get_score()"
   ]
  },
  {
   "cell_type": "markdown",
   "metadata": {},
   "source": [
    "2.2 Print the log probability of an observation encoded as a ChoiceMap under the model\n",
    "\n",
    "It returns both the log probability and the return value"
   ]
  },
  {
   "cell_type": "code",
   "execution_count": 5,
   "metadata": {},
   "outputs": [
    {
     "name": "stderr",
     "output_type": "stream",
     "text": [
      "/var/folders/kj/tyb60krx2jz817l0x_3v4j680000gn/T/ipykernel_18597/3994869088.py:1: DeprecationWarning: Call to deprecated method __xor__. (^ is deprecated, please use | or _.merge(...) instead.) -- Deprecated since version 0.8.0.\n",
      "  chm = C[\"p\"].set(0.5) ^ C[\"v\"].set(1)\n"
     ]
    },
    {
     "data": {
      "text/html": [
       "<script> (()=>{ if (customElements.get('treescope-container') === undefined) { class TreescopeContainer extends HTMLElement { constructor() { super(); this.attachShadow({mode: \"open\"}); this.defns = {}; this.state = {}; } } customElements.define(\"treescope-container\", TreescopeContainer); } if (customElements.get('treescope-run-here') === undefined) { class RunHere extends HTMLElement { constructor() { super() } connectedCallback() { const run = child => { const fn = new Function(child.textContent); child.textContent = \"\"; fn.call(this); this.remove(); }; const child = this.querySelector(\"script\"); if (child) { run(child); } else { new MutationObserver(()=>{ run(this.querySelector(\"script\")); }).observe(this, {childList: true}); } } } customElements.define(\"treescope-run-here\", RunHere); } })(); </script> <treescope-container class=\"treescope_out_70772092bbb44a1e95234c9ef21cd8fb\" style=\"display:block\"></treescope-container> <treescope-run-here><script type=\"application/octet-stream\"> const root = ( Array.from(document.getElementsByClassName( \"treescope_out_70772092bbb44a1e95234c9ef21cd8fb\")) .filter((elt) => !elt.dataset.setup) )[0]; root.dataset.setup = 1; const msg = document.createElement(\"span\"); msg.style = \"color: #cccccc; font-family: monospace;\"; msg.textContent = \"(Loading...)\"; root.state.loadingMsg = msg; root.shadowRoot.appendChild(msg); root.state.chain = new Promise((resolve, reject) => { const observer = new IntersectionObserver((entries) => { for (const entry of entries) { if (entry.isIntersecting) { resolve(); observer.disconnect(); return; } } }, {rootMargin: \"1000px\"}); window.setTimeout(() => { observer.observe(root); }, 0); }); root.state.deferring = false; const _insertNode = (node) => { for (let oldScript of node.querySelectorAll(\"script\")) { let newScript = document.createElement(\"script\"); newScript.type = oldScript.type; newScript.textContent = oldScript.textContent; oldScript.parentNode.replaceChild(newScript, oldScript); } if (root.state.loadingMsg) { root.state.loadingMsg.remove(); root.state.loadingMsg = null; } root.shadowRoot.appendChild(node); }; root.defns.insertContent = ((contentNode, compressed) => { if (compressed) { root.state.deferring = true; } if (root.state.deferring) { root.state.chain = (async () => { await root.state.chain; if (compressed) { const encoded = contentNode.textContent; const blob = new Blob([ Uint8Array.from(atob(encoded), (m) => m.codePointAt(0)) ]); const reader = blob.stream().pipeThrough( new DecompressionStream(\"deflate\") ).pipeThrough( new TextDecoderStream(\"utf-8\") ).getReader(); const parts = []; while (true) { const step = await reader.read(); if (step.done) { break; } parts.push(step.value); } const tpl = document.createElement('template'); tpl.innerHTML = parts.join(\"\"); _insertNode(tpl.content); } else { _insertNode(contentNode.content); } })(); } else { _insertNode(contentNode.content); } }); </script></treescope-run-here><div style=\"display:none\"> <script type=\"application/octet-stream\" >eNrNGItW4kj2V6ozZwdYmwjIQ1A5G5CX3Wgrdms7M4etJJWkJKmKlQqIe/rf91YCCIj2zE7vzuI5Krfu+9Z91XEk5z5p6lIQElk8JGPBuUT/QiGPqKScNZAgPpZ0So6Qw5nMOzig/ryBAs54FGIL4DOPSpJPvjRQKADi00jmE9Z5OQ8ByjgDsImtiSt4zOy8xX0uGinpEVp8M31AAH7Ull4DOVQCGpOEySMUUJZfwIuFwt+AF3/MR/SJMhfouLCJyAPoCIXYtgGY94kjG6hkeUobRvIeoa4HkKJeUfKYxBSMW/Ff/JOf0oia1KcSTMSx5CvcPGVSUBZRS4kl6enCrm/H+6kfj1d+zIuYgUwBsMgSNJRIOeIkg8PQpxZWrt3nliTKTYLgINPMZnMnTfA8yIsksonDInSCpEcj3SXyCsJyzm2Szekej6SenINpRKJxSJgy2bAUV0X0y2+7TvqY2T6BYxb7/lEqQQc1R5wzgGZnXExyaF0HfgMgdbQBltRSwJAIh4sAM4vojM+yueQigIDsixOUT4mO0UEpB3yog7JbWus+Ya700MkJKiiUN1UXRMaCgd8R8SPyrJgXM6XZNuvIo45U+iUI6p9v8POKhCxcP2bzmS7IQ0wiaTAaJOHqChyQbOqTnOJx9EJQGEde6sajHTYuRZykZrxh5e/XQWmRBlJy1/XT9B0nKQa3NVS8FIT48j0iU7jgi0gq7ZLv+oTMldM1oSmFFsi65eMo+ghZvOCb1VY8xwFcQ20p/FsO/AnXP7njzeP9XQlg0ylKGJ5om3VGQxKbYCl5PNEKGqSukC9ROAMVwRkMjt5Kht0eyCqape0aJGNa75KCM8amKcg0uT9J/fmpeljChQJYtUCweBAA4RoGTj7K+C0U3GBcZhsenxKR24GvlCRCEHscQpUjHvehZK0zrqmfRZFNtGwgKjEUC0XsADo2wToGZr9SnkGlDbRx6hDAtmkEQufLMryNiJrIxybxGw2TQOKSNa2s5HO0U15aYfNFVWIXpRlct5JFWVJ3TZ+rmv6qzMRhLyXbWEwigl24DOwldeLrLZCHo2wz4dnc6Yc0PpZHrAmxczn099yzDop0N9ESf0PDpFU0UObXUsW0Mn+leptErypZ/R8oqeKoBMciUgEMOTRMInbIpdGPE5ukQiIon6R49Nod/zFSn82T5FG+lKLTaOxQEckxZ2N1/Xek1luppJcqKpt2hgr9afXTiG+rqKwKsHBhxEnVSBL625+UBtUxnJuxlDBb7CpAz8e7Lq2GtC0scCQMmLuRfyXFsq1tzaeZIYZbQbGPRvPA5H6ELmKp7LVRO6WEv+EcEiM/I+YEZs208gbQPrxkqsRMAjnFEbFXE+pPpKB+jl5e85Q6mQwLep0E21am+bHDit3l7plSn+FobEEfAMeu6LEjN7rHsk6/JXOLZlPkuuvRFItsPm9jifOYQWCT2SO3DlZC1EAlMFve5oQtKkaIgMdgWs7zWP4xU1YaQGAosd9tapKIRO9oEHIhMXvB2xR8QthYQZ6L0fe9u0a25s9lmL/pajwBxeyxBcOtLQhbqLq5PgDPTcQfVF3XUmfRSDdS1cK+lYUdBwbsYviYzGR6JLGiX+n7X9NksXWlmthcgu1Ki3XnzTxwrZqydtUAVZKhUOzESYeHNSxQ6DVGKQeInI9DyNXvzzt/vJi9LuFZ0RSJPMKltl/F+RF67BLxA/dQtRqgd4YQeK47ggewblixGnF1VeIifYp92EmyuZwecVhGksKnlgr1V0+rr1oofmf91TIoh3KrFS7yCOytsCCRGWqPRiNlzUjB1NaWHMJOlAzQozmzsv/8x6LmW6qW/of1f33iZmpv9Rew2eLJoKxWgkhYDRQLP6uKUUOd78+445SOTCh31fJ7u1DvDV2jZSSfwaVh8OS/1tUMfve7htEx3vq0AsNwJ/yDPei02rOvhnH9tX1mDAetttF1Hwf9j56MWkNK3IPu6W3p46D6dToKY/ppWLkunt0Orr4MpzfDJ/lp3u22927cyTVtnRY8enoZn3Xs3n2hb+4704EdPnyoeg83lF7GQ9bz+s5naXyuts5F2egO2KRTtT7HMdu7qjxY0WQ2dbr+/sOj2+GHrnk26x0W+8Y+M64qH4U4K17tuU+FK7tgnDlF97zWnvXuS26Bz+OrWi3oFKuz/m39wnVDcj2Zl8nAfKpYprjoSWy4l4Pz2SmO5tFlPBjc3nS6M+PTZTj4an/e399za9e12wNZcD58ejCmFeD50TivGcOZEbhPV6O9+G5EOrePJadqPZ2Xr/rzStwyPjy17sNueED7l+1O4S7+VB7VmNP62Ol3h4FB9w6nnZLHil5tz/wyu72f9cX0tPe5ze6dTseVexfWne/XKvX22ax16NXLw2FvdNC7M9xgULlvXdbldY/0651Wa9A7OHXLV/tfrblp9CCmXz7sG5c9bJBh2zf6T50L90661dYn9+JicNqa0MsK6bZu262uRQuhJ3jI4G6Ed53T4lNxMnLajvTmH1jfxt2o7xTOg17nvNqyjYcvX0Iso9FdYNuY1kvOU738md4/VMNAVC/41/aIil4wPesdjG5GB91OyWpdOtd7fZ+HvXI3mlWw+1A9pHdkdO6HN6zVHxB7KEh889BrB8WbrpiMRo+VUvXmJpoZoFEOJW82MptJrnVGNZN/wq9V9mObh1Din1MyeWnSdf0NjPdpzv4GvN7e3b3k6SPpwumAALzhejALZdM+vfkwBSl4zVX6AtqijytYBOVBsVCDiermeIapRAxPqYslFzpwDk2Oha3PBJXkGmb47DMvMHbB6/n1A9t2VlubWtS7B0i5pgGB8Sa7fBh7QSdIACPIC9Jv71GpUCgkjRqKLzTubDJ/75a7Nppoz8qpzWNZwdRTkYZ+Ql1MfShskiOF/C6pbDApsBj7UI0p+IxgW01We+u+W7zhfOf1Rk1py+ebzRV+e5PQmsdpMzumLIwXnUZL2pfJH7WdTBadDkj3E6Jm9nh/wWRNcGbZ/jObYAUa+1N/E6y9mNm0t86Xh9Q+0VaPNHXTqZdMXCsfHNTLdq1+WCjXnJplVsuFctkkB1scdz3uaM2ffXn0ihn3+FFPeiwC9wPGpl2rmShBXKI4PsfyoJTN/ezKoyVZ+uf9hjab44rW3CVD25glNs3JPM/HGcRZW13gk8wfzODk5S2XQavh/UT7pfCbhpJOe6KtTfXQrOFEbWLbOwecJDcVKqEH/y+0bG7avvXnDwa64tTrllMxq85hsezgA+wcmgQXq7hed6x6xf4rAg0r5e4wvxXA9/8vQS6+GuTiDwvy9yK/7tgNh2w82i4Ct8Nv6+/DWrOEiE8UQQTt7nX0Z64vApdbfbXptPlv+WWYcg==</script> <treescope-run-here><script type=\"application/octet-stream\"> const root = ( Array.from(document.getElementsByClassName( \"treescope_out_70772092bbb44a1e95234c9ef21cd8fb\")) .filter((elt) => !elt.dataset['step0']) )[0]; root.dataset['step0'] = 1; root.defns.insertContent( this.parentNode.querySelector('script[type=\"application/octet-stream\"]'), true ); this.parentNode.remove(); </script></treescope-run-here> </div>"
      ],
      "text/plain": [
       "<IPython.core.display.HTML object>"
      ]
     },
     "metadata": {},
     "output_type": "display_data"
    },
    {
     "data": {
      "text/html": [
       "<div style=\"display:none\"> <script type=\"application/octet-stream\" >eNqVUslu2zAQ/RWCBQIbjhXFlhfVC9AmLZBLD80hhyAwKHJos6BFdUgbFYr+e4e2rMBtWiQXSaN5y2xzZfbMh9rCgivjKyvq96x0JXBm1IJrhysFGhBBrfJC54NCTLLhMM/UJJ+m2URPZDHO0iwrYMiXc1+J8vhk0grvF1w6SxqiKBD2fHlhw+yb+JF8QBR1p58m00E6HqXjS6ZCXcFCWyfCcNC9WIfZ/OqodnpRpcv5G8od6TyXelSM9fQ602Io9LQAcT0Wea5lPlJvLndwqtKU/60xIICXroI+7sr+BhDIQ6KpAjvQuagqa6QIxpVXTgYIfU8cseVL6UpPKIFrCHfKswV75K+f/yXjr+/+aXY0U06ic4Gswsb4hIy/UvjFKeh0Z6wpiDpqQA08+b4DrO/BggwOOzxpm17FNP+LemNpS9GkiRMZfxxsAu6A8G0GgfYq4cGETeeM3opqFOstlE09u/iZSJpggNsm/NwgYg8ndEJzh1LdbIxVrXDMO2QdC4EZ0ktn9Jo/ryCxUK7Dhv72el32k0XcMUngVpnCTxbi58f6jsRP7EfzRAaR490OJdzS+f5zhu/i+XLWY3/Qj+HZWFq1RBv0J+9DZ0R4ziJs3f6wyF/nm3hxyN14z4dDpVN+4Yp/A5LBc+w=</script> <treescope-run-here><script type=\"application/octet-stream\"> const root = ( Array.from(document.getElementsByClassName( \"treescope_out_70772092bbb44a1e95234c9ef21cd8fb\")) .filter((elt) => !elt.dataset['step1']) )[0]; root.dataset['step1'] = 1; root.defns.insertContent( this.parentNode.querySelector('script[type=\"application/octet-stream\"]'), true ); this.parentNode.remove(); </script></treescope-run-here> </div>"
      ],
      "text/plain": [
       "<IPython.core.display.HTML object>"
      ]
     },
     "metadata": {},
     "output_type": "display_data"
    },
    {
     "data": {
      "text/html": [
       "<treescope-run-here><script type=\"application/octet-stream\"> const root = ( Array.from(document.getElementsByClassName( \"treescope_out_70772092bbb44a1e95234c9ef21cd8fb\")) .filter((elt) => !elt.dataset.stolen) )[0]; root.dataset.stolen = 1; const temp = document.createElement(\"div\"); temp.style = \"height: 1px; width: 1px;\"; root.parentNode.insertBefore(temp, root); this.parentNode.replaceChild(root, this); temp.remove(); root.style.paddingTop = \"1px\"; </script></treescope-run-here>"
      ],
      "text/plain": [
       "(<jax.Array(-0.8206506, dtype=float32)>, <jax.Array(2, dtype=int32)>)"
      ]
     },
     "execution_count": 5,
     "metadata": {},
     "output_type": "execute_result"
    }
   ],
   "source": [
    "chm = C[\"p\"].set(0.5) ^ C[\"v\"].set(1)\n",
    "args = (0.5,)\n",
    "beta_bernoulli_process.assess(chm, args)"
   ]
  },
  {
   "cell_type": "markdown",
   "metadata": {},
   "source": [
    "Note that the ChoiceMap should be complete, i.e. all random choices should be observed"
   ]
  },
  {
   "cell_type": "code",
   "execution_count": 6,
   "metadata": {},
   "outputs": [
    {
     "name": "stdout",
     "output_type": "stream",
     "text": [
      "p\n"
     ]
    }
   ],
   "source": [
    "chm_2 = C[\"v\"].set(1)\n",
    "try:\n",
    "    beta_bernoulli_process.assess(chm_2, args)\n",
    "except MissingAddress as e:\n",
    "    print(e)"
   ]
  },
  {
   "cell_type": "markdown",
   "metadata": {},
   "source": [
    "3) Generate a sample conditioned on the observations"
   ]
  },
  {
   "cell_type": "markdown",
   "metadata": {},
   "source": [
    "We can also use a partial ChoiceMap as a constraint/observation and generate a full trace with these constraints."
   ]
  },
  {
   "cell_type": "code",
   "execution_count": 7,
   "metadata": {},
   "outputs": [],
   "source": [
    "key, subkey = jax.random.split(key)\n",
    "partial_chm = C[\"v\"].set(1)  # Creates a ChoiceMap of observations\n",
    "args = (0.5,)\n",
    "trace, weight = beta_bernoulli_process.importance(\n",
    "    subkey, partial_chm, args\n",
    ")  # Runs importance sampling"
   ]
  },
  {
   "cell_type": "markdown",
   "metadata": {},
   "source": [
    "This returns a pair containing the new trace and the log probability of produced trace under the model"
   ]
  },
  {
   "cell_type": "code",
   "execution_count": 8,
   "metadata": {},
   "outputs": [
    {
     "data": {
      "text/html": [
       "<script> (()=>{ if (customElements.get('treescope-container') === undefined) { class TreescopeContainer extends HTMLElement { constructor() { super(); this.attachShadow({mode: \"open\"}); this.defns = {}; this.state = {}; } } customElements.define(\"treescope-container\", TreescopeContainer); } if (customElements.get('treescope-run-here') === undefined) { class RunHere extends HTMLElement { constructor() { super() } connectedCallback() { const run = child => { const fn = new Function(child.textContent); child.textContent = \"\"; fn.call(this); this.remove(); }; const child = this.querySelector(\"script\"); if (child) { run(child); } else { new MutationObserver(()=>{ run(this.querySelector(\"script\")); }).observe(this, {childList: true}); } } } customElements.define(\"treescope-run-here\", RunHere); } })(); </script> <treescope-container class=\"treescope_out_d00d3b25b0f24fdd85c4a7bd3cf2faad\" style=\"display:block\"></treescope-container> <treescope-run-here><script type=\"application/octet-stream\"> const root = ( Array.from(document.getElementsByClassName( \"treescope_out_d00d3b25b0f24fdd85c4a7bd3cf2faad\")) .filter((elt) => !elt.dataset.setup) )[0]; root.dataset.setup = 1; const msg = document.createElement(\"span\"); msg.style = \"color: #cccccc; font-family: monospace;\"; msg.textContent = \"(Loading...)\"; root.state.loadingMsg = msg; root.shadowRoot.appendChild(msg); root.state.chain = new Promise((resolve, reject) => { const observer = new IntersectionObserver((entries) => { for (const entry of entries) { if (entry.isIntersecting) { resolve(); observer.disconnect(); return; } } }, {rootMargin: \"1000px\"}); window.setTimeout(() => { observer.observe(root); }, 0); }); root.state.deferring = false; const _insertNode = (node) => { for (let oldScript of node.querySelectorAll(\"script\")) { let newScript = document.createElement(\"script\"); newScript.type = oldScript.type; newScript.textContent = oldScript.textContent; oldScript.parentNode.replaceChild(newScript, oldScript); } if (root.state.loadingMsg) { root.state.loadingMsg.remove(); root.state.loadingMsg = null; } root.shadowRoot.appendChild(node); }; root.defns.insertContent = ((contentNode, compressed) => { if (compressed) { root.state.deferring = true; } if (root.state.deferring) { root.state.chain = (async () => { await root.state.chain; if (compressed) { const encoded = contentNode.textContent; const blob = new Blob([ Uint8Array.from(atob(encoded), (m) => m.codePointAt(0)) ]); const reader = blob.stream().pipeThrough( new DecompressionStream(\"deflate\") ).pipeThrough( new TextDecoderStream(\"utf-8\") ).getReader(); const parts = []; while (true) { const step = await reader.read(); if (step.done) { break; } parts.push(step.value); } const tpl = document.createElement('template'); tpl.innerHTML = parts.join(\"\"); _insertNode(tpl.content); } else { _insertNode(contentNode.content); } })(); } else { _insertNode(contentNode.content); } }); </script></treescope-run-here><div style=\"display:none\"> <script type=\"application/octet-stream\" >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</script> <treescope-run-here><script type=\"application/octet-stream\"> const root = ( Array.from(document.getElementsByClassName( \"treescope_out_d00d3b25b0f24fdd85c4a7bd3cf2faad\")) .filter((elt) => !elt.dataset['step0']) )[0]; root.dataset['step0'] = 1; root.defns.insertContent( this.parentNode.querySelector('script[type=\"application/octet-stream\"]'), true ); this.parentNode.remove(); </script></treescope-run-here> </div>"
      ],
      "text/plain": [
       "<IPython.core.display.HTML object>"
      ]
     },
     "metadata": {},
     "output_type": "display_data"
    },
    {
     "data": {
      "text/html": [
       "<div style=\"display:none\"> <script type=\"application/octet-stream\" >eNqNUl1r2zAU/StCg+KQxjX5Kp7twNZu0Jc9bA97KCUo0nWsoVjelRJmxv57r2zHJV0He7Clq3vOuZ+50ifmfGug4Eq7xoj2PattDZxpVfDS4lZBCYigtrCaKxBLKVdJulyvFmmSLtQuoW+9vN3JBd/krhF1/2fSCOcKLq0hDbHbIZz45sr47If4FX9AFG2UxGk6v13P19dM+baBojRW+MV8crX3WX7Ti50PSnSTewRw0jYww2M9qwCBoknUjWedABdNY7QUXtv6xkoPfuaIIw58I23tCCVwD/5BOVawR/7/pT1lPV9ZidZ6YvtKu5i0vpL5xSqIJhkbYlCSA2iAxz+PgO03MCC9xYjHYx3b4OZ/Ue8MjSAEGexYhocujMcjEH70INDQJHzXvoou6KNoiWJ/gHrI5xiusaSmeLgfzM8DItRwRsfUSqjVXaWNGoWD3yKLDHimSS/J6MhfuhobqPe+otfpdMJ+s4DrnQQelcn8ZCBcP7YPJH5mP+onChA4zh5Rwj3t5j97+C7sJmdT9oremxdtGdXiUqM7x+4qI8KLF+FgT90g/1xO4s0mT8KKdrtH2/nGYj4DoMAvSA==</script> <treescope-run-here><script type=\"application/octet-stream\"> const root = ( Array.from(document.getElementsByClassName( \"treescope_out_d00d3b25b0f24fdd85c4a7bd3cf2faad\")) .filter((elt) => !elt.dataset['step1']) )[0]; root.dataset['step1'] = 1; root.defns.insertContent( this.parentNode.querySelector('script[type=\"application/octet-stream\"]'), true ); this.parentNode.remove(); </script></treescope-run-here> </div>"
      ],
      "text/plain": [
       "<IPython.core.display.HTML object>"
      ]
     },
     "metadata": {},
     "output_type": "display_data"
    },
    {
     "data": {
      "text/html": [
       "<treescope-run-here><script type=\"application/octet-stream\"> const root = ( Array.from(document.getElementsByClassName( \"treescope_out_d00d3b25b0f24fdd85c4a7bd3cf2faad\")) .filter((elt) => !elt.dataset.stolen) )[0]; root.dataset.stolen = 1; const temp = document.createElement(\"div\"); temp.style = \"height: 1px; width: 1px;\"; root.parentNode.insertBefore(temp, root); this.parentNode.replaceChild(root, this); temp.remove(); root.style.paddingTop = \"1px\"; </script></treescope-run-here>"
      ],
      "text/plain": [
       "Static({\n",
       "  'v': Choice(v=1),\n",
       "  'p': Choice(v=<jax.Array(0.9927626, dtype=float32)>),\n",
       "})"
      ]
     },
     "execution_count": 8,
     "metadata": {},
     "output_type": "execute_result"
    }
   ],
   "source": [
    "trace.get_choices()"
   ]
  },
  {
   "cell_type": "code",
   "execution_count": 9,
   "metadata": {},
   "outputs": [
    {
     "data": {
      "text/html": [
       "<script> (()=>{ if (customElements.get('treescope-container') === undefined) { class TreescopeContainer extends HTMLElement { constructor() { super(); this.attachShadow({mode: \"open\"}); this.defns = {}; this.state = {}; } } customElements.define(\"treescope-container\", TreescopeContainer); } if (customElements.get('treescope-run-here') === undefined) { class RunHere extends HTMLElement { constructor() { super() } connectedCallback() { const run = child => { const fn = new Function(child.textContent); child.textContent = \"\"; fn.call(this); this.remove(); }; const child = this.querySelector(\"script\"); if (child) { run(child); } else { new MutationObserver(()=>{ run(this.querySelector(\"script\")); }).observe(this, {childList: true}); } } } customElements.define(\"treescope-run-here\", RunHere); } })(); </script> <treescope-container class=\"treescope_out_23996d0c631d4d99a40c9c796db78342\" style=\"display:block\"></treescope-container> <treescope-run-here><script type=\"application/octet-stream\"> const root = ( Array.from(document.getElementsByClassName( \"treescope_out_23996d0c631d4d99a40c9c796db78342\")) .filter((elt) => !elt.dataset.setup) )[0]; root.dataset.setup = 1; const msg = document.createElement(\"span\"); msg.style = \"color: #cccccc; font-family: monospace;\"; msg.textContent = \"(Loading...)\"; root.state.loadingMsg = msg; root.shadowRoot.appendChild(msg); root.state.chain = new Promise((resolve, reject) => { const observer = new IntersectionObserver((entries) => { for (const entry of entries) { if (entry.isIntersecting) { resolve(); observer.disconnect(); return; } } }, {rootMargin: \"1000px\"}); window.setTimeout(() => { observer.observe(root); }, 0); }); root.state.deferring = false; const _insertNode = (node) => { for (let oldScript of node.querySelectorAll(\"script\")) { let newScript = document.createElement(\"script\"); newScript.type = oldScript.type; newScript.textContent = oldScript.textContent; oldScript.parentNode.replaceChild(newScript, oldScript); } if (root.state.loadingMsg) { root.state.loadingMsg.remove(); root.state.loadingMsg = null; } root.shadowRoot.appendChild(node); }; root.defns.insertContent = ((contentNode, compressed) => { if (compressed) { root.state.deferring = true; } if (root.state.deferring) { root.state.chain = (async () => { await root.state.chain; if (compressed) { const encoded = contentNode.textContent; const blob = new Blob([ Uint8Array.from(atob(encoded), (m) => m.codePointAt(0)) ]); const reader = blob.stream().pipeThrough( new DecompressionStream(\"deflate\") ).pipeThrough( new TextDecoderStream(\"utf-8\") ).getReader(); const parts = []; while (true) { const step = await reader.read(); if (step.done) { break; } parts.push(step.value); } const tpl = document.createElement('template'); tpl.innerHTML = parts.join(\"\"); _insertNode(tpl.content); } else { _insertNode(contentNode.content); } })(); } else { _insertNode(contentNode.content); } }); </script></treescope-run-here><div style=\"display:none\"> <script type=\"application/octet-stream\" >eNqNVFFv00AM/iunINZUItnWDbY1TaW9IB4QD/DAA0LVJXEas6sv3LnrCtp/x5ekZWPdhPKQ5Dv782ef7ZnnrYF5yg7Al7aFhbOW1W/VWo+MlqbKgdGMt5Cp2hIntV6h2U7VypL1rS4F3zTIkHQ/U9U6QQx6TjrqhLetoGRJ4EKXN0tn11QlpTXWTXvXTA1/hRED4cOKm6mqkcWMGIgztUJKBvz05OS1cNm7xOMvpKX4WVeBSwTKVKurSsDEQM1TNSmboIYgaQCXjSCn6dsQj1ijJLfnHz6SW/RYoEGWFPWa7d42QWKH5LEMYaE/HfK6nx33dZzt65i4NUlMJ5gvHbasQiHykW5bg6UOpT22JUMokwO9Gs3jeJzPpfISz7OqoCavcsUN+nQJ/Fmu5ZOtIB6njfWcdueSGrBatEAh5esysAanb98PnXzQVBmQY1obk/URUpH5xVoSNN5YdzNWDzXYrwKFo0cwYxnAFlxt3UpTCSnZTTzuGkECxE9OVNI7zdTZZCw8WKv4H9WpAVpyo/JcnQSTF6U74LUjqbsC4+GvsGZNQdm/1L7BmoO+ziB83MvzTIRY2o8qu0kd/FyD52vCVXdd751eQdzXZBw4sieB2rVv+jJmB3Lchcj7NF7I8v81BBX9RbJdLk0/votuxKRb28AVEDD8RsGtNPhwk0Fd95/ewDYUPXJREDQYp6XR3n+UKR5442jPuVhJG0a74Pdjqae0f9fj89nxoQGo8FZ1hHn0eM9EinUhmcJdHp1EMrqOn5pYEolSDJKjl4bhcAXi4LPLPZJh7PedeIBzUC1aWTnQWCP7o+ujbg+90hfhGTZe5zJVyFomVzJONw3QQhdF8KjQC8V2t+Hu1RS9NPxhG6Swih5YkUh9hmi/UmSvksIqj/aa67enZ+/qq4tiUlycF1V1eXleXF1OoLw6ryuti2hwGmp+KNdofmQ4e2g22mkZzX/ou/TaOb1VIkIsHtGN9pl1hjuT2ljNZ5N4fLTkbOe2e0kDzP8APgtBgA==</script> <treescope-run-here><script type=\"application/octet-stream\"> const root = ( Array.from(document.getElementsByClassName( \"treescope_out_23996d0c631d4d99a40c9c796db78342\")) .filter((elt) => !elt.dataset['step0']) )[0]; root.dataset['step0'] = 1; root.defns.insertContent( this.parentNode.querySelector('script[type=\"application/octet-stream\"]'), true ); this.parentNode.remove(); </script></treescope-run-here> </div>"
      ],
      "text/plain": [
       "<IPython.core.display.HTML object>"
      ]
     },
     "metadata": {},
     "output_type": "display_data"
    },
    {
     "data": {
      "text/html": [
       "<div style=\"display:none\"> <script type=\"application/octet-stream\" >eNqNUlFv2jAQ/iuWK1UghguBUigQaWs3qS972B72UFXIsS/gycTZ2UGLqv73nUNIx9ZJe0l8vu/7zvfdrbQ5MB9qC2uujS+trG9Z4QrgzOg1zx1uNOSACHqTX48ns3xxkyXZzTTTej6fZot5AmoxzbWUGU9XvpQFfaNeKpSzRJdZhnBgz6wJb9nFbJ7I0WjJXlZXR2DDYspK79f8dxJPL21Yfpc/xXtEWfeGIzEZXyfjSTJ7x3SoS1jn1skwSfqX27Akvab86UetpauAAF65EoZYFcMdYKyn0JSBNQJclqU1SgbjiiunAoShJ47c81S5whNK4hbCg/ZszR75/5vxtDzytVPoXCB22BkvSOsLhZ+dhl5/ydoa9MgW1MLFjwqw/goWVHDY46LrYxPT/C/qnaWhxSJtLFS8aMoErIDwXQaBxqzgmwm73hm9E81RbvdQtO+p4lEoMiXAfRt+ahGxhxNakJVQ6LudsboTjnmHrGchMEN6NHjDVq+uCgvFNuzodjDo05ZE3DFJ4E6Zwo8W4vFD/UDiJ/ajeaICkeNdhQruaZv/6eFF3GbOBuwP+jE8s6VTE7lBf6rddEaE1yzC3h2aQb6cT+JNk/txRZvdo+18YzF/ATkzQRA=</script> <treescope-run-here><script type=\"application/octet-stream\"> const root = ( Array.from(document.getElementsByClassName( \"treescope_out_23996d0c631d4d99a40c9c796db78342\")) .filter((elt) => !elt.dataset['step1']) )[0]; root.dataset['step1'] = 1; root.defns.insertContent( this.parentNode.querySelector('script[type=\"application/octet-stream\"]'), true ); this.parentNode.remove(); </script></treescope-run-here> </div>"
      ],
      "text/plain": [
       "<IPython.core.display.HTML object>"
      ]
     },
     "metadata": {},
     "output_type": "display_data"
    },
    {
     "data": {
      "text/html": [
       "<treescope-run-here><script type=\"application/octet-stream\"> const root = ( Array.from(document.getElementsByClassName( \"treescope_out_23996d0c631d4d99a40c9c796db78342\")) .filter((elt) => !elt.dataset.stolen) )[0]; root.dataset.stolen = 1; const temp = document.createElement(\"div\"); temp.style = \"height: 1px; width: 1px;\"; root.parentNode.insertBefore(temp, root); this.parentNode.replaceChild(root, this); temp.remove(); root.style.paddingTop = \"1px\"; </script></treescope-run-here>"
      ],
      "text/plain": [
       "<jax.Array(-0.31521326, dtype=float32)>"
      ]
     },
     "execution_count": 9,
     "metadata": {},
     "output_type": "execute_result"
    }
   ],
   "source": [
    "weight"
   ]
  },
  {
   "cell_type": "markdown",
   "metadata": {},
   "source": [
    "4) Update a trace."
   ]
  },
  {
   "cell_type": "markdown",
   "metadata": {},
   "source": [
    "We can also update a trace. This is for instance useful as a performance optimization in Metropolis-Hastings algorithms where often most of the trace doesn't change between time steps.\n",
    "\n",
    "We first define a model for which changing the argument will force a change in the trace."
   ]
  },
  {
   "cell_type": "code",
   "execution_count": 10,
   "metadata": {},
   "outputs": [],
   "source": [
    "@gen\n",
    "def beta_bernoulli_process(u):\n",
    "    p = beta(1.0, u) @ \"p\"\n",
    "    v = bernoulli(p) @ \"v\"\n",
    "    return 2 * v"
   ]
  },
  {
   "cell_type": "markdown",
   "metadata": {},
   "source": [
    "We then create an trace to be updated and constraints."
   ]
  },
  {
   "cell_type": "code",
   "execution_count": 11,
   "metadata": {},
   "outputs": [],
   "source": [
    "key, subkey = jax.random.split(key)\n",
    "jitted = jit(beta_bernoulli_process.simulate)\n",
    "old_trace = jitted(subkey, (1.0,))\n",
    "constraint = C[\"v\"].set(1)"
   ]
  },
  {
   "cell_type": "markdown",
   "metadata": {},
   "source": [
    "Now the update uses a form of incremental computation.\n",
    "It works by tracking the differences between the old new values for arguments.\n",
    "Just like for differentiation, it can be achieved by providing for each argument a tuple containing the new value and its change compared to the old value."
   ]
  },
  {
   "cell_type": "markdown",
   "metadata": {},
   "source": [
    "If there's no change for an argument, the change is set to NoChange."
   ]
  },
  {
   "cell_type": "code",
   "execution_count": 12,
   "metadata": {},
   "outputs": [],
   "source": [
    "arg_diff = (Diff(1.0, NoChange),)"
   ]
  },
  {
   "cell_type": "markdown",
   "metadata": {},
   "source": [
    "If there is any change, the change is set to UnknownChange."
   ]
  },
  {
   "cell_type": "code",
   "execution_count": 13,
   "metadata": {},
   "outputs": [],
   "source": [
    "arg_diff = (Diff(5.0, UnknownChange),)"
   ]
  },
  {
   "cell_type": "markdown",
   "metadata": {},
   "source": [
    "We finally use the update method on the trace by passing it a key, and the update to be performed."
   ]
  },
  {
   "cell_type": "code",
   "execution_count": 14,
   "metadata": {},
   "outputs": [
    {
     "ename": "TypeError",
     "evalue": "Method\u001b[1m\u001b[35m genjax._src.core.generative.generative_function.Trace.update()\u001b[0m parameter \u001b[1m\u001b[34mconstraint\u001b[0m=\u001b[1m\u001b[31m\"StaticTrace(gen_fn=StaticGenerativeFunction(source=Closure(dyn_args=(), fn=<function be...>)})\"\u001b[0m violates type hint \u001b[1m\u001b[32m<class 'genjax._src.core.generative.choice_map.ChoiceMap'>\u001b[0m, as \u001b[1m\u001b[33m<class \"genjax._src.generative_functions.static.StaticTrace\"> \u001b[0m\u001b[1m\u001b[31m\"StaticTrace(gen_fn=StaticGenerativeFunction(source=Closure(dyn_args=(), fn=<function be...>)})\"\u001b[0m not instance of \u001b[1m\u001b[33m<class \"genjax._src.core.generative.choice_map.ChoiceMap\">\u001b[0m.",
     "output_type": "error",
     "traceback": [
      "\u001b[31m---------------------------------------------------------------------------\u001b[39m",
      "\u001b[31mTypeError\u001b[39m                                 Traceback (most recent call last)",
      "\u001b[36mCell\u001b[39m\u001b[36m \u001b[39m\u001b[32mIn[14]\u001b[39m\u001b[32m, line 2\u001b[39m\n\u001b[32m      1\u001b[39m key, subkey = jax.random.split(key)\n\u001b[32m----> \u001b[39m\u001b[32m2\u001b[39m new_trace, weight_diff, ret_diff, discard_choice = \u001b[43mjit\u001b[49m\u001b[43m(\u001b[49m\u001b[43mold_trace\u001b[49m\u001b[43m.\u001b[49m\u001b[43mupdate\u001b[49m\u001b[43m)\u001b[49m\u001b[43m(\u001b[49m\n\u001b[32m      3\u001b[39m \u001b[43m    \u001b[49m\u001b[43msubkey\u001b[49m\u001b[43m,\u001b[49m\u001b[43m \u001b[49m\u001b[43mold_trace\u001b[49m\u001b[43m,\u001b[49m\u001b[43m \u001b[49m\u001b[43mconstraint\u001b[49m\u001b[43m,\u001b[49m\u001b[43m \u001b[49m\u001b[43marg_diff\u001b[49m\n\u001b[32m      4\u001b[39m \u001b[43m)\u001b[49m\n",
      "    \u001b[31m[... skipping hidden 13 frame]\u001b[39m\n",
      "\u001b[36mFile \u001b[39m\u001b[32m<@beartype(genjax._src.core.generative.generative_function.Trace.update) at 0x11818b920>:55\u001b[39m, in \u001b[36mupdate\u001b[39m\u001b[34m(__beartype_object_4699093696, __beartype_get_violation, __beartype_conf, __beartype_object_4559597824, __beartype_object_4378795552, __beartype_object_4559681600, __beartype_object_4796956464, __beartype_object_4699232736, __beartype_check_meta, __beartype_func, *args, **kwargs)\u001b[39m\n",
      "\u001b[31mTypeError\u001b[39m: Method\u001b[1m\u001b[35m genjax._src.core.generative.generative_function.Trace.update()\u001b[0m parameter \u001b[1m\u001b[34mconstraint\u001b[0m=\u001b[1m\u001b[31m\"StaticTrace(gen_fn=StaticGenerativeFunction(source=Closure(dyn_args=(), fn=<function be...>)})\"\u001b[0m violates type hint \u001b[1m\u001b[32m<class 'genjax._src.core.generative.choice_map.ChoiceMap'>\u001b[0m, as \u001b[1m\u001b[33m<class \"genjax._src.generative_functions.static.StaticTrace\"> \u001b[0m\u001b[1m\u001b[31m\"StaticTrace(gen_fn=StaticGenerativeFunction(source=Closure(dyn_args=(), fn=<function be...>)})\"\u001b[0m not instance of \u001b[1m\u001b[33m<class \"genjax._src.core.generative.choice_map.ChoiceMap\">\u001b[0m."
     ]
    }
   ],
   "source": [
    "key, subkey = jax.random.split(key)\n",
    "new_trace, weight_diff, ret_diff, discard_choice = jit(old_trace.update)(\n",
    "    subkey, constraint, arg_diff\n",
    ")"
   ]
  },
  {
   "cell_type": "markdown",
   "metadata": {},
   "source": [
    "We can compare the old and new values for the samples and notice that they have not changed."
   ]
  },
  {
   "cell_type": "code",
   "execution_count": null,
   "metadata": {},
   "outputs": [],
   "source": [
    "old_trace.get_choices() == new_trace.get_choices()"
   ]
  },
  {
   "cell_type": "markdown",
   "metadata": {},
   "source": [
    "We can also see that the weight has changed. In fact we can check that the following relation holds `new_weight` = `old_weight` + `weight_diff`."
   ]
  },
  {
   "cell_type": "code",
   "execution_count": null,
   "metadata": {},
   "outputs": [],
   "source": [
    "weight_diff, old_trace.get_score() + weight_diff == new_trace.get_score()"
   ]
  },
  {
   "cell_type": "markdown",
   "metadata": {},
   "source": [
    "   5. A few more convenient methods"
   ]
  },
  {
   "cell_type": "markdown",
   "metadata": {},
   "source": [
    "5.1 `propose`\n",
    "\n",
    "It uses the same inputs as `simulate` but returns the sample, the score and the return value"
   ]
  },
  {
   "cell_type": "code",
   "execution_count": null,
   "metadata": {},
   "outputs": [],
   "source": [
    "key, subkey = jax.random.split(key)\n",
    "sample, score, retval = jit(beta_bernoulli_process.propose)(subkey, (0.5,))\n",
    "sample, score, retval"
   ]
  },
  {
   "cell_type": "markdown",
   "metadata": {},
   "source": [
    "5.2 `get_gen_fn`\n",
    "\n",
    "It returns the generative function that produced the trace."
   ]
  },
  {
   "cell_type": "code",
   "execution_count": null,
   "metadata": {},
   "outputs": [],
   "source": [
    "trace.get_gen_fn()"
   ]
  },
  {
   "cell_type": "markdown",
   "metadata": {},
   "source": [
    "5.3 `get_args`\n",
    "\n",
    "It returns the arguments passed to the generative function used to produce the trace"
   ]
  },
  {
   "cell_type": "code",
   "execution_count": null,
   "metadata": {},
   "outputs": [],
   "source": [
    "trace.get_args()"
   ]
  },
  {
   "cell_type": "markdown",
   "metadata": {},
   "source": [
    "5.4 `get_subtrace`\n",
    "\n",
    "It takes a `StaticAddress` as argument and returns the sub-trace of a trace rooted at these addresses"
   ]
  },
  {
   "cell_type": "code",
   "execution_count": null,
   "metadata": {},
   "outputs": [],
   "source": [
    "subtrace = trace.get_subtrace(\"p\")\n",
    "subtrace, subtrace.get_choices()"
   ]
  }
 ],
 "metadata": {
  "kernelspec": {
   "display_name": "Python 3 (ipykernel)",
   "language": "python",
   "name": "python3"
  },
  "language_info": {
   "codemirror_mode": {
    "name": "ipython",
    "version": 3
   },
   "file_extension": ".py",
   "mimetype": "text/x-python",
   "name": "python",
   "nbconvert_exporter": "python",
   "pygments_lexer": "ipython3",
   "version": "3.13.2"
  }
 },
 "nbformat": 4,
 "nbformat_minor": 4
}
