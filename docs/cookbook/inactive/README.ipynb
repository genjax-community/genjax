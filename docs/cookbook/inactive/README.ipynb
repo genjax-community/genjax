{
 "cells": [
  {
   "cell_type": "code",
   "execution_count": null,
   "id": "0",
   "metadata": {},
   "outputs": [],
   "source": [
    "import jax.numpy as jnp\n",
    "import jax.random as jrand\n",
    "from jax import jit\n",
    "\n",
    "from genjax import ChoiceMap as Chm\n",
    "from genjax import Selection as Sel\n",
    "from genjax import beta, flip, gen\n",
    "from genjax.edits import HMC\n",
    "\n",
    "\n",
    "# Create a generative model.\n",
    "@gen\n",
    "def beta_bernoulli(α, β):\n",
    "    p = beta(α, β) @ \"p\"\n",
    "    v = flip(p) @ \"v\"\n",
    "    return v\n",
    "\n",
    "\n",
    "def exact_posterior_mean(obs, α, β):\n",
    "    return (α + obs) / (α + β + 1)\n",
    "\n",
    "\n",
    "# Implements HMC-within-SIR:\n",
    "# create a trace, edit it with HMC, resample.\n",
    "@jit\n",
    "def inference_via_editing_traces(key, obs, α, β):\n",
    "    key, (tr, lws) = beta_bernoulli.importance_k(500)(\n",
    "        key,  # fresh randomness\n",
    "        Chm.d({\"v\": obs}),  # constraint: \"v\" -> True\n",
    "        (α, β),  # (α, β)\n",
    "    )\n",
    "    key, (tr, lws_, *_) = tr.edit_k(\n",
    "        key,  # fresh randomness\n",
    "        # run a single step of HMC for \"p\" with eps=1e-3.\n",
    "        HMC(Sel.at[\"p\"], jnp.array(1e-3)),\n",
    "    )\n",
    "    _, (tr, _) = tr.resample_k(key, lws + lws_)\n",
    "    return jnp.mean(tr.get_choices()[\"p\"])\n",
    "\n",
    "\n",
    "α, β = 1.0, 1.0\n",
    "obs = True\n",
    "(\n",
    "    exact_posterior_mean(obs, α, β),\n",
    "    inference_via_editing_traces(jrand.key(1), obs, α, β),\n",
    ")"
   ]
  }
 ],
 "metadata": {
  "kernelspec": {
   "display_name": "Python 3 (ipykernel)",
   "language": "python",
   "name": "python3"
  },
  "language_info": {
   "codemirror_mode": {
    "name": "ipython",
    "version": 3
   },
   "file_extension": ".py",
   "mimetype": "text/x-python",
   "name": "python",
   "nbconvert_exporter": "python",
   "pygments_lexer": "ipython3",
   "version": "3.13.2"
  }
 },
 "nbformat": 4,
 "nbformat_minor": 5
}
