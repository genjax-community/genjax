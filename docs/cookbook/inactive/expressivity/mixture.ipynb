{
 "cells": [
  {
   "cell_type": "markdown",
   "metadata": {
    "vscode": {
     "languageId": "raw"
    }
   },
   "source": [
    "### How can I write a mixture of models in GenJAX?"
   ]
  },
  {
   "cell_type": "code",
   "execution_count": null,
   "metadata": {},
   "outputs": [],
   "source": [
    "from jax import random\n",
    "\n",
    "from genjax import flip, gen, inverse_gamma, mix, normal\n",
    "\n",
    "key = random.key(0)"
   ]
  },
  {
   "cell_type": "markdown",
   "metadata": {},
   "source": [
    "We simply use the `mix` combinator.\n",
    "Note that the trace is the join of the traces of the different components.\n",
    "\n",
    "We first define the three components of the mixture model as generative functions."
   ]
  },
  {
   "cell_type": "code",
   "execution_count": null,
   "metadata": {},
   "outputs": [],
   "source": [
    "@gen\n",
    "def mixture_component_1(p):\n",
    "    x = normal(p, 1.0) @ \"x\"\n",
    "    return x\n",
    "\n",
    "\n",
    "@gen\n",
    "def mixture_component_2(p):\n",
    "    b = flip(p) @ \"b\"\n",
    "    return b\n",
    "\n",
    "\n",
    "@gen\n",
    "def mixture_component_3(p):\n",
    "    y = inverse_gamma(p, 0.1) @ \"y\"\n",
    "    return y"
   ]
  },
  {
   "cell_type": "markdown",
   "metadata": {},
   "source": [
    "The mix combinator take as input the logits of the mixture components, and args for each component of the mixture."
   ]
  },
  {
   "cell_type": "code",
   "execution_count": null,
   "metadata": {},
   "outputs": [],
   "source": [
    "@gen\n",
    "def mixture_model(p):\n",
    "    z = normal(p, 1.0) @ \"z\"\n",
    "    logits = (0.3, 0.5, 0.2)\n",
    "    arg_1 = (p,)\n",
    "    arg_2 = (p,)\n",
    "    arg_3 = (p,)\n",
    "    a = (\n",
    "        mix(mixture_component_1, mixture_component_2, mixture_component_3)(\n",
    "            logits, arg_1, arg_2, arg_3\n",
    "        )\n",
    "        @ \"a\"\n",
    "    )\n",
    "    return a + z\n",
    "\n",
    "\n",
    "key, subkey = random.split(key)\n",
    "tr = mixture_model.simulate(subkey, (0.4,))\n",
    "print(\"return value:\", tr.get_retval())\n",
    "print(\"value for z:\", tr.get_choices()[\"z\"])"
   ]
  },
  {
   "cell_type": "markdown",
   "metadata": {},
   "source": [
    "The combinator uses a fix address \"mixture_component\" for the components of the mixture model."
   ]
  },
  {
   "cell_type": "code",
   "execution_count": null,
   "metadata": {},
   "outputs": [],
   "source": [
    "print(\"value for the mixture_component:\", tr.get_choices()[\"a\", \"mixture_component\"])"
   ]
  }
 ],
 "metadata": {
  "kernelspec": {
   "display_name": ".venv",
   "language": "python",
   "name": "python3"
  },
  "language_info": {
   "codemirror_mode": {
    "name": "ipython",
    "version": 3
   },
   "file_extension": ".py",
   "mimetype": "text/x-python",
   "name": "python",
   "nbconvert_exporter": "python",
   "pygments_lexer": "ipython3",
   "version": "3.11.6"
  }
 },
 "nbformat": 4,
 "nbformat_minor": 2
}
