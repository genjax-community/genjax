{
 "cells": [
  {
   "cell_type": "raw",
   "metadata": {
    "vscode": {
     "languageId": "raw"
    }
   },
   "source": [
    "---\n",
    "title: Dimap combinator\n",
    "subtitle: What is this magic?\n",
    "---"
   ]
  },
  {
   "cell_type": "markdown",
   "metadata": {},
   "source": [
    "!! It is only meant to be use by library authors. It is used to implement other combinators such as `or_else`, and `repeat`."
   ]
  },
  {
   "cell_type": "code",
   "execution_count": null,
   "metadata": {},
   "outputs": [],
   "source": [
    "import jax\n",
    "import jax.numpy as jnp\n",
    "\n",
    "from genjax import gen, normal, pretty\n",
    "from genjax._src.core.generative import GenerativeFunction\n",
    "from genjax._src.core.typing import Callable, ScalarFlag\n",
    "\n",
    "key = jax.random.key(0)\n",
    "pretty()"
   ]
  },
  {
   "cell_type": "markdown",
   "metadata": {},
   "source": [
    "Here's an example of rewriting the `OrElseCombinator` combinator using `contramap` and `switch`."
   ]
  },
  {
   "cell_type": "code",
   "execution_count": null,
   "metadata": {},
   "outputs": [],
   "source": [
    "def NewOrElseCombinator(\n",
    "    if_gen_fn: GenerativeFunction,\n",
    "    else_gen_fn: GenerativeFunction,\n",
    ") -> GenerativeFunction:\n",
    "    def argument_mapping(b: ScalarFlag, if_args: tuple, else_args: tuple):\n",
    "        idx = jnp.array(jnp.logical_not(b), dtype=int)\n",
    "        return (idx, if_args, else_args)\n",
    "\n",
    "    # The `contramap` method is used to map the input arguments to the expected input of the generative function, and then call the switch combinator\n",
    "    return if_gen_fn.switch(else_gen_fn).contramap(\n",
    "        argument_mapping, info=\"Derived combinator (OrElse)\"\n",
    "    )"
   ]
  },
  {
   "cell_type": "markdown",
   "metadata": {},
   "source": [
    "To add a version accessible as decorator"
   ]
  },
  {
   "cell_type": "code",
   "execution_count": null,
   "metadata": {},
   "outputs": [],
   "source": [
    "def new_or_else(\n",
    "    else_gen_fn: GenerativeFunction,\n",
    ") -> Callable[[GenerativeFunction], GenerativeFunction]:\n",
    "    def decorator(if_gen_fn) -> GenerativeFunction:\n",
    "        return NewOrElseCombinator(if_gen_fn, else_gen_fn)\n",
    "\n",
    "    return decorator"
   ]
  },
  {
   "cell_type": "markdown",
   "metadata": {},
   "source": [
    "To add a version accessible using postfix syntax, one would need to add the following method as part of the `GenerativeFunction` dataclass in `core.py`."
   ]
  },
  {
   "cell_type": "code",
   "execution_count": null,
   "metadata": {},
   "outputs": [],
   "source": [
    "def postfix_new_or_else(self, gen_fn: \"GenerativeFunction\", /) -> \"GenerativeFunction\":\n",
    "    return new_or_else(gen_fn)(self)"
   ]
  },
  {
   "cell_type": "markdown",
   "metadata": {},
   "source": [
    "Testing the rewritten version on an example"
   ]
  },
  {
   "cell_type": "code",
   "execution_count": null,
   "metadata": {},
   "outputs": [],
   "source": [
    "@gen\n",
    "def if_model(x):\n",
    "    return normal(x, 1.0) @ \"if_value\"\n",
    "\n",
    "\n",
    "@gen\n",
    "def else_model(x):\n",
    "    return normal(x, 5.0) @ \"else_value\"\n",
    "\n",
    "\n",
    "@gen\n",
    "def model(toss: bool):\n",
    "    return NewOrElseCombinator(if_model, else_model)(toss, (1.0,), (10.0,)) @ \"tossed\"\n",
    "\n",
    "\n",
    "key, subkey = jax.random.split(key)\n",
    "tr = jax.jit(model.simulate)(subkey, (True,))\n",
    "tr.get_choices()"
   ]
  },
  {
   "cell_type": "markdown",
   "metadata": {},
   "source": [
    "Checking that the two versions are equivalent on an example"
   ]
  },
  {
   "cell_type": "code",
   "execution_count": null,
   "metadata": {},
   "outputs": [],
   "source": [
    "@new_or_else(else_model)\n",
    "@gen\n",
    "def or_else_model(x):\n",
    "    return normal(x, 1.0) @ \"if_value\"\n",
    "\n",
    "\n",
    "@gen\n",
    "def model_v2(toss: bool):\n",
    "    return or_else_model(toss, (1.0,), (10.0,)) @ \"tossed\"\n",
    "\n",
    "\n",
    "# reusing subkey to get the same result\n",
    "tr2 = jax.jit(model_v2.simulate)(subkey, (True,))\n",
    "tr.get_choices() == tr2.get_choices()"
   ]
  }
 ],
 "metadata": {
  "kernelspec": {
   "display_name": ".venv",
   "language": "python",
   "name": "python3"
  },
  "language_info": {
   "codemirror_mode": {
    "name": "ipython",
    "version": 3
   },
   "file_extension": ".py",
   "mimetype": "text/x-python",
   "name": "python",
   "nbconvert_exporter": "python",
   "pygments_lexer": "ipython3",
   "version": "3.11.6"
  }
 },
 "nbformat": 4,
 "nbformat_minor": 2
}
