{
 "cells": [
  {
   "cell_type": "code",
   "execution_count": 1,
   "id": "94e80cae",
   "metadata": {
    "execution": {
     "iopub.execute_input": "2022-08-27T05:22:32.323608Z",
     "iopub.status.busy": "2022-08-27T05:22:32.323263Z",
     "iopub.status.idle": "2022-08-27T05:22:32.332540Z",
     "shell.execute_reply": "2022-08-27T05:22:32.332015Z"
    }
   },
   "outputs": [
    {
     "name": "stdout",
     "output_type": "stream",
     "text": [
      "hello world!\n"
     ]
    }
   ],
   "source": [
    "name = 'world'\n",
    "print('hello ' + name + '!')"
   ]
  }
 ],
 "metadata": {
  "kernelspec": {
   "display_name": "Python 3 (ipykernel)",
   "language": "python",
   "name": "python3"
  },
  "language_info": {
   "codemirror_mode": {
    "name": "ipython",
    "version": 3
   },
   "file_extension": ".py",
   "mimetype": "text/x-python",
   "name": "python",
   "nbconvert_exporter": "python",
   "pygments_lexer": "ipython3",
   "version": "3.10.6"
  }
 },
 "nbformat": 4,
 "nbformat_minor": 5
}