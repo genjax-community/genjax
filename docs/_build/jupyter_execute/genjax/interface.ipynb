{
 "cells": [
  {
   "cell_type": "code",
   "execution_count": 1,
   "id": "d1f14a2b",
   "metadata": {
    "execution": {
     "iopub.execute_input": "2022-09-10T03:35:31.860791Z",
     "iopub.status.busy": "2022-09-10T03:35:31.860325Z",
     "iopub.status.idle": "2022-09-10T03:35:32.398833Z",
     "shell.execute_reply": "2022-09-10T03:35:32.398531Z"
    }
   },
   "outputs": [
    {
     "name": "stdout",
     "output_type": "stream",
     "text": [
      "BuiltinTrace(\n",
      "  gen_fn=BuiltinGenerativeFunction(source=<function model>),\n",
      "  args=(),\n",
      "  retval=(f32[],),\n",
      "  choices=Tree(\n",
      "    nodes={\n",
      "      'x':\n",
      "      DistributionTrace(\n",
      "        gen_fn=_Normal(),\n",
      "        args=(0.0, 1.0),\n",
      "        value=f32[],\n",
      "        score=f32[]\n",
      "      )\n",
      "    }\n",
      "  ),\n",
      "  score=f32[]\n",
      ")\n"
     ]
    }
   ],
   "source": [
    "import jax\n",
    "import genjax\n",
    "\n",
    "@genjax.gen\n",
    "def model(key):\n",
    "    key, x = genjax.trace(\"x\", genjax.Normal)(key, (0.0, 1.0))\n",
    "    return key, x\n",
    "\n",
    "key = jax.random.PRNGKey(314159)\n",
    "key, tr = genjax.simulate(model)(key, ())\n",
    "print(tr)"
   ]
  }
 ],
 "metadata": {
  "kernelspec": {
   "display_name": "Python 3 (ipykernel)",
   "language": "python",
   "name": "python3"
  },
  "language_info": {
   "codemirror_mode": {
    "name": "ipython",
    "version": 3
   },
   "file_extension": ".py",
   "mimetype": "text/x-python",
   "name": "python",
   "nbconvert_exporter": "python",
   "pygments_lexer": "ipython3",
   "version": "3.10.4"
  }
 },
 "nbformat": 4,
 "nbformat_minor": 5
}