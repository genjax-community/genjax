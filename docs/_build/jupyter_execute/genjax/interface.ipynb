{
 "cells": [
  {
   "cell_type": "code",
   "execution_count": 1,
   "id": "c307a3b0",
   "metadata": {
    "execution": {
     "iopub.execute_input": "2022-09-25T02:21:12.325270Z",
     "iopub.status.busy": "2022-09-25T02:21:12.325101Z",
     "iopub.status.idle": "2022-09-25T02:21:12.883961Z",
     "shell.execute_reply": "2022-09-25T02:21:12.883677Z"
    }
   },
   "outputs": [
    {
     "name": "stdout",
     "output_type": "stream",
     "text": [
      "<function simulate.<locals>.<lambda> at 0x1077dea70>\n"
     ]
    }
   ],
   "source": [
    "import genjax\n",
    "fn = genjax.simulate(genjax.Normal)\n",
    "print(fn)"
   ]
  },
  {
   "cell_type": "code",
   "execution_count": 2,
   "id": "070ae276",
   "metadata": {
    "execution": {
     "iopub.execute_input": "2022-09-25T02:21:12.885337Z",
     "iopub.status.busy": "2022-09-25T02:21:12.885230Z",
     "iopub.status.idle": "2022-09-25T02:21:13.078344Z",
     "shell.execute_reply": "2022-09-25T02:21:13.078016Z"
    }
   },
   "outputs": [
    {
     "name": "stdout",
     "output_type": "stream",
     "text": [
      "BuiltinTrace\n",
      "  gen_fn: BuiltinGenerativeFunction(source = <function model>)\n",
      "  args: ()\n",
      "  return: (f32[],)\n",
      "  score: f32[]\n",
      "  choices: BuiltinChoiceMap\n",
      "    'x':\n",
      "    DistributionTrace\n",
      "      gen_fn: _Normal()\n",
      "      args: (0.0, 1.0)\n",
      "      return: (f32[],)\n",
      "      score: f32[]\n",
      "      choices: ValueChoiceMap(value: f32[])\n"
     ]
    }
   ],
   "source": [
    "import jax\n",
    "import genjax\n",
    "\n",
    "@genjax.gen\n",
    "def model(key):\n",
    "    key, x = genjax.trace(\"x\", genjax.Normal)(key, (0.0, 1.0))\n",
    "    return key, x\n",
    "\n",
    "key = jax.random.PRNGKey(314159)\n",
    "\n",
    "# Usage here.\n",
    "key, tr = genjax.simulate(model)(key, ())\n",
    "\n",
    "print(tr)"
   ]
  },
  {
   "cell_type": "code",
   "execution_count": 3,
   "id": "94bae4d8",
   "metadata": {
    "execution": {
     "iopub.execute_input": "2022-09-25T02:21:13.079730Z",
     "iopub.status.busy": "2022-09-25T02:21:13.079640Z",
     "iopub.status.idle": "2022-09-25T02:21:13.085974Z",
     "shell.execute_reply": "2022-09-25T02:21:13.085712Z"
    }
   },
   "outputs": [
    {
     "name": "stdout",
     "output_type": "stream",
     "text": [
      "BuiltinTraceType\n",
      "  return: (ℝ (shape = ()),)\n",
      "  'x':\n",
      "  ℝ (shape = ())\n"
     ]
    }
   ],
   "source": [
    "import jax\n",
    "import genjax\n",
    "\n",
    "@genjax.gen\n",
    "def model(key):\n",
    "    key, x = genjax.trace(\"x\", genjax.Normal)(key, (0.0, 1.0))\n",
    "    return key, x\n",
    "\n",
    "key = jax.random.PRNGKey(314159)\n",
    "\n",
    "# Usage here.\n",
    "trace_type = genjax.get_trace_type(model)(key, ())\n",
    "\n",
    "print(trace_type)"
   ]
  }
 ],
 "metadata": {
  "kernelspec": {
   "display_name": "Python 3 (ipykernel)",
   "language": "python",
   "name": "python3"
  },
  "language_info": {
   "codemirror_mode": {
    "name": "ipython",
    "version": 3
   },
   "file_extension": ".py",
   "mimetype": "text/x-python",
   "name": "python",
   "nbconvert_exporter": "python",
   "pygments_lexer": "ipython3",
   "version": "3.10.4"
  }
 },
 "nbformat": 4,
 "nbformat_minor": 5
}