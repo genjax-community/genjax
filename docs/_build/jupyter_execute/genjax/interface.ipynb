{
 "cells": [
  {
   "cell_type": "code",
   "execution_count": 1,
   "id": "2b305981",
   "metadata": {
    "execution": {
     "iopub.execute_input": "2022-09-22T19:58:13.490380Z",
     "iopub.status.busy": "2022-09-22T19:58:13.489926Z",
     "iopub.status.idle": "2022-09-22T19:58:13.883491Z",
     "shell.execute_reply": "2022-09-22T19:58:13.882917Z"
    }
   },
   "outputs": [
    {
     "name": "stdout",
     "output_type": "stream",
     "text": [
      "<function simulate.<locals>.<lambda> at 0x103cf6170>\n"
     ]
    }
   ],
   "source": [
    "import genjax\n",
    "fn = genjax.simulate(genjax.Normal)\n",
    "print(fn)"
   ]
  },
  {
   "cell_type": "code",
   "execution_count": 2,
   "id": "29b447e3",
   "metadata": {
    "execution": {
     "iopub.execute_input": "2022-09-22T19:58:13.885883Z",
     "iopub.status.busy": "2022-09-22T19:58:13.885691Z",
     "iopub.status.idle": "2022-09-22T19:58:14.083713Z",
     "shell.execute_reply": "2022-09-22T19:58:14.083388Z"
    }
   },
   "outputs": [
    {
     "name": "stdout",
     "output_type": "stream",
     "text": [
      "BuiltinTrace\n",
      "  gen_fn: BuiltinGenerativeFunction(source = <function model>)\n",
      "  args: ()\n",
      "  return: (f32[],)\n",
      "  score: f32[]\n",
      "  choices: BuiltinChoiceMap\n",
      "    'x':\n",
      "    DistributionTrace\n",
      "      gen_fn: _Normal()\n",
      "      args: (0.0, 1.0)\n",
      "      return: (f32[],)\n",
      "      score: f32[]\n",
      "      choices: ValueChoiceMap(value: f32[])\n"
     ]
    }
   ],
   "source": [
    "import jax\n",
    "import genjax\n",
    "\n",
    "@genjax.gen\n",
    "def model(key):\n",
    "    key, x = genjax.trace(\"x\", genjax.Normal)(key, (0.0, 1.0))\n",
    "    return key, x\n",
    "\n",
    "key = jax.random.PRNGKey(314159)\n",
    "\n",
    "# Usage here.\n",
    "key, tr = genjax.simulate(model)(key, ())\n",
    "\n",
    "print(tr)"
   ]
  },
  {
   "cell_type": "code",
   "execution_count": 3,
   "id": "4af560a9",
   "metadata": {
    "execution": {
     "iopub.execute_input": "2022-09-22T19:58:14.085208Z",
     "iopub.status.busy": "2022-09-22T19:58:14.085098Z",
     "iopub.status.idle": "2022-09-22T19:58:14.091672Z",
     "shell.execute_reply": "2022-09-22T19:58:14.091439Z"
    }
   },
   "outputs": [
    {
     "name": "stdout",
     "output_type": "stream",
     "text": [
      "BuiltinTraceType\n",
      "  return: (ℝ (shape = ()),)\n",
      "  'x':\n",
      "  ℝ (shape = ())\n"
     ]
    }
   ],
   "source": [
    "import jax\n",
    "import genjax\n",
    "\n",
    "@genjax.gen\n",
    "def model(key):\n",
    "    key, x = genjax.trace(\"x\", genjax.Normal)(key, (0.0, 1.0))\n",
    "    return key, x\n",
    "\n",
    "key = jax.random.PRNGKey(314159)\n",
    "\n",
    "# Usage here.\n",
    "trace_type = genjax.get_trace_type(model)(key, ())\n",
    "\n",
    "print(trace_type)"
   ]
  }
 ],
 "metadata": {
  "kernelspec": {
   "display_name": "Python 3 (ipykernel)",
   "language": "python",
   "name": "python3"
  },
  "language_info": {
   "codemirror_mode": {
    "name": "ipython",
    "version": 3
   },
   "file_extension": ".py",
   "mimetype": "text/x-python",
   "name": "python",
   "nbconvert_exporter": "python",
   "pygments_lexer": "ipython3",
   "version": "3.10.4"
  }
 },
 "nbformat": 4,
 "nbformat_minor": 5
}