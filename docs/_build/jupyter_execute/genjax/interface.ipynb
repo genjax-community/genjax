{
 "cells": [
  {
   "cell_type": "code",
   "execution_count": 1,
   "id": "8750f2d8",
   "metadata": {
    "execution": {
     "iopub.execute_input": "2022-08-27T16:57:53.681544Z",
     "iopub.status.busy": "2022-08-27T16:57:53.681052Z",
     "iopub.status.idle": "2022-08-27T16:57:54.257502Z",
     "shell.execute_reply": "2022-08-27T16:57:54.257207Z"
    }
   },
   "outputs": [
    {
     "name": "stdout",
     "output_type": "stream",
     "text": [
      "[DeviceArray(-0.10823099, dtype=float32)]\n"
     ]
    }
   ],
   "source": [
    "import jax\n",
    "import genjax\n",
    "\n",
    "@genjax.gen\n",
    "def model(key):\n",
    "    key, x = genjax.trace(\"x\", genjax.Normal)(key, ())\n",
    "    return key, x\n",
    "\n",
    "key = jax.random.PRNGKey(314159)\n",
    "key, x = genjax.sample(model)(key, ())\n",
    "print(x)"
   ]
  },
  {
   "cell_type": "code",
   "execution_count": 2,
   "id": "75c2c482",
   "metadata": {
    "execution": {
     "iopub.execute_input": "2022-08-27T16:57:54.258976Z",
     "iopub.status.busy": "2022-08-27T16:57:54.258833Z",
     "iopub.status.idle": "2022-08-27T16:57:54.269715Z",
     "shell.execute_reply": "2022-08-27T16:57:54.269422Z"
    }
   },
   "outputs": [
    {
     "name": "stdout",
     "output_type": "stream",
     "text": [
      "JAXTrace(\n",
      "  gen_fn=<function model>,\n",
      "  args=(),\n",
      "  retval=(f32[],),\n",
      "  choices=JAXChoiceMap(\n",
      "    tree={\n",
      "      'x':\n",
      "      DistributionTrace(gen_fn=_Normal(), args=(), value=f32[], score=f32[])\n",
      "    }\n",
      "  ),\n",
      "  score=f32[]\n",
      ")\n"
     ]
    }
   ],
   "source": [
    "import jax\n",
    "import genjax\n",
    "\n",
    "@genjax.gen\n",
    "def model(key):\n",
    "    key, x = genjax.trace(\"x\", genjax.Normal)(key, ())\n",
    "    return key, x\n",
    "\n",
    "key = jax.random.PRNGKey(314159)\n",
    "key, tr = genjax.simulate(model)(key, ())\n",
    "print(tr)"
   ]
  }
 ],
 "metadata": {
  "kernelspec": {
   "display_name": "Python 3 (ipykernel)",
   "language": "python",
   "name": "python3"
  },
  "language_info": {
   "codemirror_mode": {
    "name": "ipython",
    "version": 3
   },
   "file_extension": ".py",
   "mimetype": "text/x-python",
   "name": "python",
   "nbconvert_exporter": "python",
   "pygments_lexer": "ipython3",
   "version": "3.10.6"
  }
 },
 "nbformat": 4,
 "nbformat_minor": 5
}