{
 "cells": [
  {
   "cell_type": "code",
   "execution_count": 1,
   "id": "af968578",
   "metadata": {
    "execution": {
     "iopub.execute_input": "2022-09-14T17:34:23.261830Z",
     "iopub.status.busy": "2022-09-14T17:34:23.261232Z",
     "iopub.status.idle": "2022-09-14T17:34:23.795371Z",
     "shell.execute_reply": "2022-09-14T17:34:23.795065Z"
    }
   },
   "outputs": [
    {
     "name": "stdout",
     "output_type": "stream",
     "text": [
      "BuiltinTrace\n",
      "  BuiltinGenerativeFunction(source = <function model>)\n",
      "  BuiltinChoiceMap\n",
      "    'x':\n",
      "    DistributionTrace\n",
      "      _Normal()\n",
      "      (value = f32[])\n",
      "    return: (f32[],)\n",
      "return: (f32[],)\n"
     ]
    }
   ],
   "source": [
    "import jax\n",
    "import genjax\n",
    "\n",
    "@genjax.gen\n",
    "def model(key):\n",
    "    key, x = genjax.trace(\"x\", genjax.Normal)(key, (0.0, 1.0))\n",
    "    return key, x\n",
    "\n",
    "key = jax.random.PRNGKey(314159)\n",
    "key, tr = genjax.simulate(model)(key, ())\n",
    "print(tr)"
   ]
  }
 ],
 "metadata": {
  "kernelspec": {
   "display_name": "Python 3 (ipykernel)",
   "language": "python",
   "name": "python3"
  },
  "language_info": {
   "codemirror_mode": {
    "name": "ipython",
    "version": 3
   },
   "file_extension": ".py",
   "mimetype": "text/x-python",
   "name": "python",
   "nbconvert_exporter": "python",
   "pygments_lexer": "ipython3",
   "version": "3.10.4"
  }
 },
 "nbformat": 4,
 "nbformat_minor": 5
}