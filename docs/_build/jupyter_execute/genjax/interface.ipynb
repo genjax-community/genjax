{
 "cells": [
  {
   "cell_type": "code",
   "execution_count": 1,
   "id": "eb14dad4",
   "metadata": {
    "execution": {
     "iopub.execute_input": "2022-09-12T04:16:36.917474Z",
     "iopub.status.busy": "2022-09-12T04:16:36.916952Z",
     "iopub.status.idle": "2022-09-12T04:16:37.500568Z",
     "shell.execute_reply": "2022-09-12T04:16:37.500248Z"
    }
   },
   "outputs": [
    {
     "name": "stdout",
     "output_type": "stream",
     "text": [
      "<class 'genjax.builtin.datatypes.BuiltinTrace'>\n",
      "BuiltinGenerativeFunction(source = <function model>)(\n",
      "  x = <class 'genjax.distributions.distribution.DistributionTrace'>\n",
      "  _Normal()(value = f32[])\n",
      "  score: -0.9247955083847046\n",
      ")\n",
      "score: -0.9247955083847046\n"
     ]
    }
   ],
   "source": [
    "import jax\n",
    "import genjax\n",
    "\n",
    "@genjax.gen\n",
    "def model(key):\n",
    "    key, x = genjax.trace(\"x\", genjax.Normal)(key, (0.0, 1.0))\n",
    "    return key, x\n",
    "\n",
    "key = jax.random.PRNGKey(314159)\n",
    "key, tr = genjax.simulate(model)(key, ())\n",
    "print(tr)"
   ]
  }
 ],
 "metadata": {
  "kernelspec": {
   "display_name": "Python 3 (ipykernel)",
   "language": "python",
   "name": "python3"
  },
  "language_info": {
   "codemirror_mode": {
    "name": "ipython",
    "version": 3
   },
   "file_extension": ".py",
   "mimetype": "text/x-python",
   "name": "python",
   "nbconvert_exporter": "python",
   "pygments_lexer": "ipython3",
   "version": "3.10.4"
  }
 },
 "nbformat": 4,
 "nbformat_minor": 5
}