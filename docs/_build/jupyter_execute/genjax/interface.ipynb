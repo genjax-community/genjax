{
 "cells": [
  {
   "cell_type": "code",
   "execution_count": 1,
   "id": "743204c1",
   "metadata": {
    "execution": {
     "iopub.execute_input": "2022-08-27T16:10:14.263914Z",
     "iopub.status.busy": "2022-08-27T16:10:14.263412Z",
     "iopub.status.idle": "2022-08-27T16:10:14.899621Z",
     "shell.execute_reply": "2022-08-27T16:10:14.899268Z"
    }
   },
   "outputs": [
    {
     "name": "stdout",
     "output_type": "stream",
     "text": [
      "[DeviceArray(-0.10823099, dtype=float32)]\n"
     ]
    }
   ],
   "source": [
    "import jax\n",
    "import genjax\n",
    "\n",
    "@genjax.gen\n",
    "def model(key):\n",
    "    key, x = genjax.trace(\"x\", genjax.Normal)(key, ())\n",
    "    return key, x\n",
    "\n",
    "key = jax.random.PRNGKey(314159)\n",
    "key, x = genjax.sample(model)(key, ())\n",
    "print(x)"
   ]
  },
  {
   "cell_type": "code",
   "execution_count": 2,
   "id": "168647ac",
   "metadata": {
    "execution": {
     "iopub.execute_input": "2022-08-27T16:10:14.901184Z",
     "iopub.status.busy": "2022-08-27T16:10:14.901041Z",
     "iopub.status.idle": "2022-08-27T16:10:14.912371Z",
     "shell.execute_reply": "2022-08-27T16:10:14.912092Z"
    }
   },
   "outputs": [
    {
     "name": "stdout",
     "output_type": "stream",
     "text": [
      "JAXTrace(\n",
      "  gen_fn=<function model>,\n",
      "  args=(),\n",
      "  retval=(f32[],),\n",
      "  choices=JAXChoiceMap(\n",
      "    tree={\n",
      "      'x':\n",
      "      DistributionTrace(gen_fn=_Normal(), args=(), value=f32[], score=f32[])\n",
      "    }\n",
      "  ),\n",
      "  score=f32[]\n",
      ")\n"
     ]
    }
   ],
   "source": [
    "import jax\n",
    "import genjax\n",
    "\n",
    "@genjax.gen\n",
    "def model(key):\n",
    "    key, x = genjax.trace(\"x\", genjax.Normal)(key, ())\n",
    "    return key, x\n",
    "\n",
    "key = jax.random.PRNGKey(314159)\n",
    "key, tr = genjax.simulate(model)(key, ())\n",
    "print(tr)"
   ]
  }
 ],
 "metadata": {
  "kernelspec": {
   "display_name": "Python 3 (ipykernel)",
   "language": "python",
   "name": "python3"
  },
  "language_info": {
   "codemirror_mode": {
    "name": "ipython",
    "version": 3
   },
   "file_extension": ".py",
   "mimetype": "text/x-python",
   "name": "python",
   "nbconvert_exporter": "python",
   "pygments_lexer": "ipython3",
   "version": "3.10.6"
  }
 },
 "nbformat": 4,
 "nbformat_minor": 5
}