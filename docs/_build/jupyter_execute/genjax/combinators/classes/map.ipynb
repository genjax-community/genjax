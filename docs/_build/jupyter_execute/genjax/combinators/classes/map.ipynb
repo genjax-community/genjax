{
 "cells": [
  {
   "cell_type": "code",
   "execution_count": 1,
   "id": "0706e5fa",
   "metadata": {
    "execution": {
     "iopub.execute_input": "2022-09-25T02:20:43.782598Z",
     "iopub.status.busy": "2022-09-25T02:20:43.782248Z",
     "iopub.status.idle": "2022-09-25T02:20:45.231416Z",
     "shell.execute_reply": "2022-09-25T02:20:45.231021Z"
    }
   },
   "outputs": [
    {
     "name": "stdout",
     "output_type": "stream",
     "text": [
      "MapTrace\n",
      "  gen_fn: MapCombinator(\n",
      "    kernel = BuiltinGenerativeFunction(source = <function add_normal_noise>),\n",
      "    in_axes = (0, 0)\n",
      "  )\n",
      "  args: (f32[100],)\n",
      "  return: (f32[100],)\n",
      "  score: f32[]\n",
      "  choices: VectorChoiceMap\n",
      "    indices: i32[100]\n",
      "    BuiltinTrace\n",
      "      gen_fn: BuiltinGenerativeFunction(source = <function add_normal_noise>)\n",
      "      args: (f32[100],)\n",
      "      return: (f32[100],)\n",
      "      score: f32[100]\n",
      "      choices: BuiltinChoiceMap\n",
      "        'noise1':\n",
      "        DistributionTrace\n",
      "          gen_fn: _Normal()\n",
      "          args: (f32[100], f32[100])\n",
      "          return: (f32[100],)\n",
      "          score: f32[100]\n",
      "          choices: ValueChoiceMap(value: f32[100]),\n",
      "        'noise2':\n",
      "        DistributionTrace\n",
      "          gen_fn: _Normal()\n",
      "          args: (f32[100], f32[100])\n",
      "          return: (f32[100],)\n",
      "          score: f32[100]\n",
      "          choices: ValueChoiceMap(value: f32[100])\n"
     ]
    }
   ],
   "source": [
    "import jax\n",
    "import jax.numpy as jnp\n",
    "import genjax\n",
    "\n",
    "@genjax.gen\n",
    "def add_normal_noise(key, x):\n",
    "    key, noise1 = genjax.trace(\"noise1\", genjax.Normal)(\n",
    "            key, (0.0, 1.0)\n",
    "    )\n",
    "    key, noise2 = genjax.trace(\"noise2\", genjax.Normal)(\n",
    "            key, (0.0, 1.0)\n",
    "    )\n",
    "    return (key, x + noise1 + noise2)\n",
    "\n",
    "mapped = genjax.MapCombinator(add_normal_noise, in_axes=(0, 0))\n",
    "\n",
    "arr = jnp.ones(100)\n",
    "key = jax.random.PRNGKey(314159)\n",
    "key, *subkeys = jax.random.split(key, 101)\n",
    "subkeys = jnp.array(subkeys)\n",
    "_, tr = jax.jit(genjax.simulate(mapped))(subkeys, (arr, ))\n",
    "print(tr)"
   ]
  }
 ],
 "metadata": {
  "kernelspec": {
   "display_name": "Python 3 (ipykernel)",
   "language": "python",
   "name": "python3"
  },
  "language_info": {
   "codemirror_mode": {
    "name": "ipython",
    "version": 3
   },
   "file_extension": ".py",
   "mimetype": "text/x-python",
   "name": "python",
   "nbconvert_exporter": "python",
   "pygments_lexer": "ipython3",
   "version": "3.10.4"
  }
 },
 "nbformat": 4,
 "nbformat_minor": 5
}