{
 "cells": [
  {
   "cell_type": "code",
   "execution_count": 1,
   "id": "def7d9fd",
   "metadata": {
    "execution": {
     "iopub.execute_input": "2022-09-24T05:22:49.300760Z",
     "iopub.status.busy": "2022-09-24T05:22:49.300247Z",
     "iopub.status.idle": "2022-09-24T05:22:50.142877Z",
     "shell.execute_reply": "2022-09-24T05:22:50.142542Z"
    }
   },
   "outputs": [
    {
     "name": "stdout",
     "output_type": "stream",
     "text": [
      "UnfoldTrace\n",
      "  gen_fn: UnfoldCombinator(\n",
      "    kernel = BuiltinGenerativeFunction(source = <function random_walk>),\n",
      "    max_length = 1000\n",
      "  )\n",
      "  args: (i32[], f32[])\n",
      "  return: (f32[],)\n",
      "  score: f32[]\n",
      "  choices: VectorChoiceMap\n",
      "    indices: i32[1000]\n",
      "    BuiltinTrace\n",
      "      gen_fn: BuiltinGenerativeFunction(source = <function random_walk>)\n",
      "      args: (f32[1000],)\n",
      "      return: (f32[1000],)\n",
      "      score: f32[1000]\n",
      "      choices: BuiltinChoiceMap\n",
      "        'x':\n",
      "        DistributionTrace\n",
      "          gen_fn: _Normal()\n",
      "          args: (f32[1000], f32[1000])\n",
      "          return: (f32[1000],)\n",
      "          score: f32[1000]\n",
      "          choices: ValueChoiceMap(value: f32[1000])\n"
     ]
    }
   ],
   "source": [
    "import jax\n",
    "import genjax\n",
    "\n",
    "@genjax.gen\n",
    "def random_walk(key, prev):\n",
    "    key, x = genjax.trace(\"x\", genjax.Normal)(key, (prev, 1.0))\n",
    "    return (key, x)\n",
    "\n",
    "\n",
    "unfold = genjax.UnfoldCombinator(random_walk, 1000)\n",
    "init = 0.5\n",
    "key = jax.random.PRNGKey(314159)\n",
    "key, tr = jax.jit(genjax.simulate(unfold))(key, (1000, init,))\n",
    "print(tr)"
   ]
  }
 ],
 "metadata": {
  "kernelspec": {
   "display_name": "Python 3 (ipykernel)",
   "language": "python",
   "name": "python3"
  },
  "language_info": {
   "codemirror_mode": {
    "name": "ipython",
    "version": 3
   },
   "file_extension": ".py",
   "mimetype": "text/x-python",
   "name": "python",
   "nbconvert_exporter": "python",
   "pygments_lexer": "ipython3",
   "version": "3.10.4"
  }
 },
 "nbformat": 4,
 "nbformat_minor": 5
}