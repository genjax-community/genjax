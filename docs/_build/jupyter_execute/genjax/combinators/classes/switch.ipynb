{
 "cells": [
  {
   "cell_type": "code",
   "execution_count": 1,
   "id": "e4a07128",
   "metadata": {
    "execution": {
     "iopub.execute_input": "2022-09-24T05:22:39.121024Z",
     "iopub.status.busy": "2022-09-24T05:22:39.120925Z",
     "iopub.status.idle": "2022-09-24T05:22:40.011617Z",
     "shell.execute_reply": "2022-09-24T05:22:40.011315Z"
    }
   },
   "outputs": [
    {
     "name": "stdout",
     "output_type": "stream",
     "text": [
      "SwitchTrace\n",
      "  gen_fn: SwitchCombinator(\n",
      "    branches = {\n",
      "      0:\n",
      "      BuiltinGenerativeFunction(source = <function branch_1>),\n",
      "      1:\n",
      "      BuiltinGenerativeFunction(source = <function branch_2>)\n",
      "    }\n",
      "  )\n",
      "  args: ()\n",
      "  return: ()\n",
      "  score: f32[]\n",
      "  choices: IndexedChoiceMap\n",
      "    index = i32[]\n",
      "    [\n",
      "      BuiltinTrace\n",
      "        gen_fn: BuiltinGenerativeFunction(source = <function branch_1>)\n",
      "        args: ()\n",
      "        return: ()\n",
      "        score: f32[]\n",
      "        choices: BuiltinChoiceMap\n",
      "          'x1':\n",
      "          DistributionTrace\n",
      "            gen_fn: _Normal()\n",
      "            args: (f32[], f32[])\n",
      "            return: (f32[],)\n",
      "            score: f32[]\n",
      "            choices: ValueChoiceMap(value: f32[]),\n",
      "      BuiltinTrace\n",
      "        gen_fn: BuiltinGenerativeFunction(source = <function branch_2>)\n",
      "        args: ()\n",
      "        return: ()\n",
      "        score: f32[]\n",
      "        choices: BuiltinChoiceMap\n",
      "          'x2':\n",
      "          DistributionTrace\n",
      "            gen_fn: _Bernoulli()\n",
      "            args: (f32[],)\n",
      "            return: (bool[],)\n",
      "            score: f32[]\n",
      "            choices: ValueChoiceMap(value: bool[])\n",
      "    ]\n"
     ]
    }
   ],
   "source": [
    "import jax\n",
    "import genjax\n",
    "\n",
    "@genjax.gen\n",
    "def branch_1(key):\n",
    "    key, x = genjax.trace(\"x1\", genjax.Normal)(key, (0.0, 1.0))\n",
    "    return (key, )\n",
    "\n",
    "@genjax.gen\n",
    "def branch_2(key):\n",
    "    key, x = genjax.trace(\"x2\", genjax.Bernoulli)(key, (0.3, ))\n",
    "    return (key, )\n",
    "\n",
    "switch = genjax.SwitchCombinator([branch_1, branch_2])\n",
    "\n",
    "key = jax.random.PRNGKey(314159)\n",
    "jitted = jax.jit(genjax.simulate(switch))\n",
    "key, _ = jitted(key, (0, ))\n",
    "key, tr = jitted(key, (1, ))\n",
    "print(tr)"
   ]
  }
 ],
 "metadata": {
  "kernelspec": {
   "display_name": "Python 3 (ipykernel)",
   "language": "python",
   "name": "python3"
  },
  "language_info": {
   "codemirror_mode": {
    "name": "ipython",
    "version": 3
   },
   "file_extension": ".py",
   "mimetype": "text/x-python",
   "name": "python",
   "nbconvert_exporter": "python",
   "pygments_lexer": "ipython3",
   "version": "3.10.4"
  }
 },
 "nbformat": 4,
 "nbformat_minor": 5
}