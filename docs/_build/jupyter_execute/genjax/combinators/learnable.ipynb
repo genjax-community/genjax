{
 "cells": [
  {
   "cell_type": "code",
   "execution_count": 1,
   "id": "7e4b3420",
   "metadata": {
    "execution": {
     "iopub.execute_input": "2022-09-21T13:12:58.752402Z",
     "iopub.status.busy": "2022-09-21T13:12:58.752069Z",
     "iopub.status.idle": "2022-09-21T13:13:04.204644Z",
     "shell.execute_reply": "2022-09-21T13:13:04.204211Z"
    }
   },
   "outputs": [],
   "source": [
    "import jax\n",
    "import genjax\n",
    "import optax\n",
    "\n",
    "@genjax.gen(\n",
    "    genjax.Learnable,\n",
    "    params={\"x\": 0.5},\n",
    ")\n",
    "def model(key, params):\n",
    "    x = params[\"x\"]\n",
    "    key, y = genjax.trace(\"y\", genjax.Normal)(key, (x, 0.5))\n",
    "    return key, y\n",
    "\n",
    "def learning(key, lr, chm):\n",
    "    optim = optax.adam(lr)\n",
    "    opt_state = optim.init(model.params)\n",
    "    for _ in range(0, 100):\n",
    "        key, (w, tr) = genjax.importance(model)(key, chm, ())\n",
    "        key, grad = model.param_grad(key, tr, scale=w)\n",
    "        updates, opt_state = optim.update(grad, opt_state)\n",
    "        model.update_params(updates)\n",
    "    return model.params\n",
    "\n",
    "\n",
    "key = jax.random.PRNGKey(314159)\n",
    "learning_rate = 3e-3\n",
    "obs = genjax.ChoiceMap.new({(\"y\",): 0.2})\n",
    "trained = jax.jit(learning)(key, learning_rate, obs)"
   ]
  }
 ],
 "metadata": {
  "kernelspec": {
   "display_name": "Python 3 (ipykernel)",
   "language": "python",
   "name": "python3"
  },
  "language_info": {
   "codemirror_mode": {
    "name": "ipython",
    "version": 3
   },
   "file_extension": ".py",
   "mimetype": "text/x-python",
   "name": "python",
   "nbconvert_exporter": "python",
   "pygments_lexer": "ipython3",
   "version": "3.10.4"
  }
 },
 "nbformat": 4,
 "nbformat_minor": 5
}