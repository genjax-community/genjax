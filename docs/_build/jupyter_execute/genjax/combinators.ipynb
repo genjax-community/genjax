{
 "cells": [
  {
   "cell_type": "code",
   "execution_count": 1,
   "id": "f92ec333",
   "metadata": {
    "execution": {
     "iopub.execute_input": "2022-09-10T03:35:22.541033Z",
     "iopub.status.busy": "2022-09-10T03:35:22.540577Z",
     "iopub.status.idle": "2022-09-10T03:35:23.072309Z",
     "shell.execute_reply": "2022-09-10T03:35:23.071997Z"
    }
   },
   "outputs": [
    {
     "name": "stdout",
     "output_type": "stream",
     "text": [
      "UnfoldTrace(\n",
      "  gen_fn=UnfoldCombinator(\n",
      "    kernel=BuiltinGenerativeFunction(source=<function random_walk>),\n",
      "    max_length=1000\n",
      "  ),\n",
      "  length=i32[],\n",
      "  mask=bool[1000],\n",
      "  subtrace=BuiltinTrace(\n",
      "    gen_fn=BuiltinGenerativeFunction(source=<function random_walk>),\n",
      "    args=(f32[1000],),\n",
      "    retval=(f32[1000],),\n",
      "    choices=Tree(\n",
      "      nodes={\n",
      "        'x':\n",
      "        DistributionTrace(\n",
      "          gen_fn=_Normal(),\n",
      "          args=(f32[1000], f32[1000]),\n",
      "          value=f32[1000],\n",
      "          score=f32[1000]\n",
      "        )\n",
      "      }\n",
      "    ),\n",
      "    score=f32[1000]\n",
      "  ),\n",
      "  args=(f32[],),\n",
      "  retval=(f32[],),\n",
      "  score=f32[]\n",
      ")\n"
     ]
    }
   ],
   "source": [
    "import jax\n",
    "import genjax\n",
    "\n",
    "@genjax.gen\n",
    "def random_walk(key, prev):\n",
    "    key, x = genjax.trace(\"x\", genjax.Normal)(key, (prev, 1.0))\n",
    "    return (key, x)\n",
    "\n",
    "\n",
    "unfold = genjax.UnfoldCombinator(random_walk, 1000)\n",
    "init = 0.5\n",
    "key = jax.random.PRNGKey(314159)\n",
    "key, tr = jax.jit(genjax.simulate(unfold))(key, (1000, init,))\n",
    "print(tr)"
   ]
  },
  {
   "cell_type": "code",
   "execution_count": 2,
   "id": "c95cc25f",
   "metadata": {
    "execution": {
     "iopub.execute_input": "2022-09-10T03:35:23.073802Z",
     "iopub.status.busy": "2022-09-10T03:35:23.073663Z",
     "iopub.status.idle": "2022-09-10T03:35:23.737107Z",
     "shell.execute_reply": "2022-09-10T03:35:23.736806Z"
    }
   },
   "outputs": [
    {
     "name": "stdout",
     "output_type": "stream",
     "text": [
      "MapTrace(\n",
      "  gen_fn=MapCombinator(\n",
      "    kernel=BuiltinGenerativeFunction(source=<function add_normal_noise>),\n",
      "    in_axes=(0, 0)\n",
      "  ),\n",
      "  length=i32[],\n",
      "  subtrace=BuiltinTrace(\n",
      "    gen_fn=BuiltinGenerativeFunction(source=<function add_normal_noise>),\n",
      "    args=(f32[100],),\n",
      "    retval=(f32[100],),\n",
      "    choices=Tree(\n",
      "      nodes={\n",
      "        'noise1':\n",
      "        DistributionTrace(\n",
      "          gen_fn=_Normal(),\n",
      "          args=(f32[100], f32[100]),\n",
      "          value=f32[100],\n",
      "          score=f32[100]\n",
      "        ),\n",
      "        'noise2':\n",
      "        DistributionTrace(\n",
      "          gen_fn=_Normal(),\n",
      "          args=(f32[100], f32[100]),\n",
      "          value=f32[100],\n",
      "          score=f32[100]\n",
      "        )\n",
      "      }\n",
      "    ),\n",
      "    score=f32[100]\n",
      "  ),\n",
      "  score=f32[]\n",
      ")\n"
     ]
    }
   ],
   "source": [
    "import jax\n",
    "import jax.numpy as jnp\n",
    "import genjax\n",
    "\n",
    "@genjax.gen\n",
    "def add_normal_noise(key, x):\n",
    "    key, noise1 = genjax.trace(\"noise1\", genjax.Normal)(\n",
    "            key, (0.0, 1.0)\n",
    "    )\n",
    "    key, noise2 = genjax.trace(\"noise2\", genjax.Normal)(\n",
    "            key, (0.0, 1.0)\n",
    "    )\n",
    "    return (key, x + noise1 + noise2)\n",
    "\n",
    "mapped = genjax.MapCombinator(add_normal_noise, in_axes=(0, 0))\n",
    "\n",
    "arr = jnp.ones(100)\n",
    "key = jax.random.PRNGKey(314159)\n",
    "key, *subkeys = jax.random.split(key, 101)\n",
    "subkeys = jnp.array(subkeys)\n",
    "_, tr = jax.jit(genjax.simulate(mapped))(subkeys, (arr, ))\n",
    "print(tr)"
   ]
  }
 ],
 "metadata": {
  "kernelspec": {
   "display_name": "Python 3 (ipykernel)",
   "language": "python",
   "name": "python3"
  },
  "language_info": {
   "codemirror_mode": {
    "name": "ipython",
    "version": 3
   },
   "file_extension": ".py",
   "mimetype": "text/x-python",
   "name": "python",
   "nbconvert_exporter": "python",
   "pygments_lexer": "ipython3",
   "version": "3.10.4"
  }
 },
 "nbformat": 4,
 "nbformat_minor": 5
}