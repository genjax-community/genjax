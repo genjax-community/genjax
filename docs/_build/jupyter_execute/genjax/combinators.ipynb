{
 "cells": [
  {
   "cell_type": "code",
   "execution_count": 1,
   "id": "71a8f619",
   "metadata": {
    "execution": {
     "iopub.execute_input": "2022-09-21T01:04:46.732191Z",
     "iopub.status.busy": "2022-09-21T01:04:46.731681Z",
     "iopub.status.idle": "2022-09-21T01:04:47.509543Z",
     "shell.execute_reply": "2022-09-21T01:04:47.509212Z"
    }
   },
   "outputs": [
    {
     "name": "stdout",
     "output_type": "stream",
     "text": [
      "SwitchTrace\n",
      "  gen_fn: SwitchCombinator(\n",
      "    branches = {\n",
      "      0:\n",
      "      BuiltinGenerativeFunction(source = <function branch_1>),\n",
      "      1:\n",
      "      BuiltinGenerativeFunction(source = <function branch_2>)\n",
      "    }\n",
      "  )\n",
      "  args: ()\n",
      "  return: ()\n",
      "  score: f32[]\n",
      "  choices: IndexedChoiceMap\n",
      "    index = i32[]\n",
      "    [\n",
      "      BuiltinTrace\n",
      "        gen_fn: BuiltinGenerativeFunction(source = <function branch_1>)\n",
      "        args: ()\n",
      "        return: ()\n",
      "        score: f32[]\n",
      "        choices: BuiltinChoiceMap\n",
      "          'x1':\n",
      "          DistributionTrace\n",
      "            gen_fn: _Normal()\n",
      "            args: (f32[], f32[])\n",
      "            return: (f32[],)\n",
      "            score: f32[]\n",
      "            choices: ValueChoiceMap(value: f32[]),\n",
      "      BuiltinTrace\n",
      "        gen_fn: BuiltinGenerativeFunction(source = <function branch_2>)\n",
      "        args: ()\n",
      "        return: ()\n",
      "        score: f32[]\n",
      "        choices: BuiltinChoiceMap\n",
      "          'x2':\n",
      "          DistributionTrace\n",
      "            gen_fn: _Bernoulli()\n",
      "            args: (f32[],)\n",
      "            return: (bool[],)\n",
      "            score: f32[]\n",
      "            choices: ValueChoiceMap(value: bool[])\n",
      "    ]\n"
     ]
    }
   ],
   "source": [
    "import jax\n",
    "import genjax\n",
    "\n",
    "@genjax.gen\n",
    "def branch_1(key):\n",
    "    key, x = genjax.trace(\"x1\", genjax.Normal)(key, (0.0, 1.0))\n",
    "    return (key, )\n",
    "\n",
    "@genjax.gen\n",
    "def branch_2(key):\n",
    "    key, x = genjax.trace(\"x2\", genjax.Bernoulli)(key, (0.3, ))\n",
    "    return (key, )\n",
    "\n",
    "switch = genjax.SwitchCombinator([branch_1, branch_2])\n",
    "\n",
    "key = jax.random.PRNGKey(314159)\n",
    "jitted = jax.jit(genjax.simulate(switch))\n",
    "key, _ = jitted(key, (0, ))\n",
    "key, tr = jitted(key, (1, ))\n",
    "print(tr)"
   ]
  },
  {
   "cell_type": "code",
   "execution_count": 2,
   "id": "0b3e0585",
   "metadata": {
    "execution": {
     "iopub.execute_input": "2022-09-21T01:04:47.511100Z",
     "iopub.status.busy": "2022-09-21T01:04:47.510958Z",
     "iopub.status.idle": "2022-09-21T01:04:47.686294Z",
     "shell.execute_reply": "2022-09-21T01:04:47.686013Z"
    }
   },
   "outputs": [
    {
     "name": "stdout",
     "output_type": "stream",
     "text": [
      "UnfoldTrace\n",
      "  gen_fn: UnfoldCombinator(\n",
      "    kernel = BuiltinGenerativeFunction(source = <function random_walk>),\n",
      "    max_length = 1000\n",
      "  )\n",
      "  args: (i32[], f32[])\n",
      "  return: (f32[],)\n",
      "  score: f32[]\n",
      "  choices: VectorChoiceMap\n",
      "    indices: i32[1000]\n",
      "    BuiltinTrace\n",
      "      gen_fn: BuiltinGenerativeFunction(source = <function random_walk>)\n",
      "      args: (f32[1000],)\n",
      "      return: (f32[1000],)\n",
      "      score: f32[1000]\n",
      "      choices: BuiltinChoiceMap\n",
      "        'x':\n",
      "        DistributionTrace\n",
      "          gen_fn: _Normal()\n",
      "          args: (f32[1000], f32[1000])\n",
      "          return: (f32[1000],)\n",
      "          score: f32[1000]\n",
      "          choices: ValueChoiceMap(value: f32[1000])\n"
     ]
    }
   ],
   "source": [
    "import jax\n",
    "import genjax\n",
    "\n",
    "@genjax.gen\n",
    "def random_walk(key, prev):\n",
    "    key, x = genjax.trace(\"x\", genjax.Normal)(key, (prev, 1.0))\n",
    "    return (key, x)\n",
    "\n",
    "\n",
    "unfold = genjax.UnfoldCombinator(random_walk, 1000)\n",
    "init = 0.5\n",
    "key = jax.random.PRNGKey(314159)\n",
    "key, tr = jax.jit(genjax.simulate(unfold))(key, (1000, init,))\n",
    "print(tr)"
   ]
  },
  {
   "cell_type": "code",
   "execution_count": 3,
   "id": "4f3270f2",
   "metadata": {
    "execution": {
     "iopub.execute_input": "2022-09-21T01:04:47.687675Z",
     "iopub.status.busy": "2022-09-21T01:04:47.687575Z",
     "iopub.status.idle": "2022-09-21T01:04:48.441596Z",
     "shell.execute_reply": "2022-09-21T01:04:48.441326Z"
    }
   },
   "outputs": [
    {
     "name": "stdout",
     "output_type": "stream",
     "text": [
      "MapTrace\n",
      "  gen_fn: MapCombinator(\n",
      "    kernel = BuiltinGenerativeFunction(source = <function add_normal_noise>),\n",
      "    in_axes = (0, 0)\n",
      "  )\n",
      "  args: (f32[100],)\n",
      "  return: (f32[100],)\n",
      "  score: f32[]\n",
      "  choices: VectorChoiceMap\n",
      "    indices: i32[100]\n",
      "    BuiltinTrace\n",
      "      gen_fn: BuiltinGenerativeFunction(source = <function add_normal_noise>)\n",
      "      args: (f32[100],)\n",
      "      return: (f32[100],)\n",
      "      score: f32[100]\n",
      "      choices: BuiltinChoiceMap\n",
      "        'noise1':\n",
      "        DistributionTrace\n",
      "          gen_fn: _Normal()\n",
      "          args: (f32[100], f32[100])\n",
      "          return: (f32[100],)\n",
      "          score: f32[100]\n",
      "          choices: ValueChoiceMap(value: f32[100]),\n",
      "        'noise2':\n",
      "        DistributionTrace\n",
      "          gen_fn: _Normal()\n",
      "          args: (f32[100], f32[100])\n",
      "          return: (f32[100],)\n",
      "          score: f32[100]\n",
      "          choices: ValueChoiceMap(value: f32[100])\n"
     ]
    }
   ],
   "source": [
    "import jax\n",
    "import jax.numpy as jnp\n",
    "import genjax\n",
    "\n",
    "@genjax.gen\n",
    "def add_normal_noise(key, x):\n",
    "    key, noise1 = genjax.trace(\"noise1\", genjax.Normal)(\n",
    "            key, (0.0, 1.0)\n",
    "    )\n",
    "    key, noise2 = genjax.trace(\"noise2\", genjax.Normal)(\n",
    "            key, (0.0, 1.0)\n",
    "    )\n",
    "    return (key, x + noise1 + noise2)\n",
    "\n",
    "mapped = genjax.MapCombinator(add_normal_noise, in_axes=(0, 0))\n",
    "\n",
    "arr = jnp.ones(100)\n",
    "key = jax.random.PRNGKey(314159)\n",
    "key, *subkeys = jax.random.split(key, 101)\n",
    "subkeys = jnp.array(subkeys)\n",
    "_, tr = jax.jit(genjax.simulate(mapped))(subkeys, (arr, ))\n",
    "print(tr)"
   ]
  }
 ],
 "metadata": {
  "kernelspec": {
   "display_name": "Python 3 (ipykernel)",
   "language": "python",
   "name": "python3"
  },
  "language_info": {
   "codemirror_mode": {
    "name": "ipython",
    "version": 3
   },
   "file_extension": ".py",
   "mimetype": "text/x-python",
   "name": "python",
   "nbconvert_exporter": "python",
   "pygments_lexer": "ipython3",
   "version": "3.10.4"
  }
 },
 "nbformat": 4,
 "nbformat_minor": 5
}