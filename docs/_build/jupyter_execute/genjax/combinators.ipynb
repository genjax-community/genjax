{
 "cells": [
  {
   "cell_type": "code",
   "execution_count": 1,
   "id": "c7a170b4",
   "metadata": {
    "execution": {
     "iopub.execute_input": "2022-09-05T06:35:51.862801Z",
     "iopub.status.busy": "2022-09-05T06:35:51.862377Z",
     "iopub.status.idle": "2022-09-05T06:35:52.446900Z",
     "shell.execute_reply": "2022-09-05T06:35:52.446587Z"
    }
   },
   "outputs": [
    {
     "name": "stdout",
     "output_type": "stream",
     "text": [
      "SwitchTrace(\n",
      "  gen_fn=SwitchCombinator(\n",
      "    branches={\n",
      "      0:\n",
      "      JAXGenerativeFunction(source=<function branch_1>),\n",
      "      1:\n",
      "      JAXGenerativeFunction(source=<function branch_2>)\n",
      "    }\n",
      "  ),\n",
      "  chm=Mask(\n",
      "    inner=Trie(\n",
      "      nodes={\n",
      "        'x1':\n",
      "        DistributionTrace(\n",
      "          gen_fn=_Normal(),\n",
      "          args=(f32[], f32[]),\n",
      "          value=f32[],\n",
      "          score=f32[]\n",
      "        ),\n",
      "        'x2':\n",
      "        DistributionTrace(\n",
      "          gen_fn=_Bernoulli(),\n",
      "          args=(f32[],),\n",
      "          value=bool[],\n",
      "          score=f32[]\n",
      "        )\n",
      "      }\n",
      "    ),\n",
      "    mask=Trie(\n",
      "      nodes={\n",
      "        'x1':\n",
      "        DistributionTrace(\n",
      "          gen_fn=_Normal(),\n",
      "          args=(bool[], bool[]),\n",
      "          value=bool[],\n",
      "          score=bool[]\n",
      "        ),\n",
      "        'x2':\n",
      "        DistributionTrace(\n",
      "          gen_fn=_Bernoulli(),\n",
      "          args=(bool[],),\n",
      "          value=bool[],\n",
      "          score=bool[]\n",
      "        )\n",
      "      }\n",
      "    )\n",
      "  ),\n",
      "  args=(),\n",
      "  retval=(),\n",
      "  score=f32[]\n",
      ")\n"
     ]
    }
   ],
   "source": [
    "import jax\n",
    "import genjax\n",
    "\n",
    "@genjax.gen\n",
    "def branch_1(key):\n",
    "    key, x = genjax.trace(\"x1\", genjax.Normal)(key, (0.0, 1.0))\n",
    "    return (key, )\n",
    "\n",
    "@genjax.gen\n",
    "def branch_2(key):\n",
    "    key, x = genjax.trace(\"x2\", genjax.Bernoulli)(key, (0.3, ))\n",
    "    return (key, )\n",
    "\n",
    "switch = genjax.SwitchCombinator(branch_1, branch_2)\n",
    "\n",
    "key = jax.random.PRNGKey(314159)\n",
    "jitted = jax.jit(genjax.simulate(switch))\n",
    "key, _ = jitted(key, (0, ))\n",
    "key, tr = jitted(key, (1, ))\n",
    "print(tr)"
   ]
  },
  {
   "cell_type": "code",
   "execution_count": 2,
   "id": "424815f1",
   "metadata": {
    "execution": {
     "iopub.execute_input": "2022-09-05T06:35:52.448425Z",
     "iopub.status.busy": "2022-09-05T06:35:52.448283Z",
     "iopub.status.idle": "2022-09-05T06:35:52.572704Z",
     "shell.execute_reply": "2022-09-05T06:35:52.572428Z"
    }
   },
   "outputs": [
    {
     "name": "stdout",
     "output_type": "stream",
     "text": [
      "UnfoldTrace(\n",
      "  gen_fn=UnfoldCombinator(\n",
      "    kernel=JAXGenerativeFunction(source=<function random_walk>),\n",
      "    length=1000\n",
      "  ),\n",
      "  length=i32[],\n",
      "  subtrace=JAXTrace(\n",
      "    gen_fn=JAXGenerativeFunction(source=<function random_walk>),\n",
      "    args=(f32[1000],),\n",
      "    retval=(f32[1000],),\n",
      "    choices=Trie(\n",
      "      nodes={\n",
      "        'x':\n",
      "        DistributionTrace(\n",
      "          gen_fn=_Normal(),\n",
      "          args=(f32[1000], f32[1000]),\n",
      "          value=f32[1000],\n",
      "          score=f32[1000]\n",
      "        )\n",
      "      }\n",
      "    ),\n",
      "    score=f32[1000]\n",
      "  ),\n",
      "  args=(f32[],),\n",
      "  retval=(f32[],),\n",
      "  score=f32[]\n",
      ")\n"
     ]
    }
   ],
   "source": [
    "import jax\n",
    "import genjax\n",
    "\n",
    "@genjax.gen\n",
    "def random_walk(key, prev):\n",
    "    key, x = genjax.trace(\"x\", genjax.Normal)(key, (prev, 1.0))\n",
    "    return (key, x)\n",
    "\n",
    "\n",
    "unfold = genjax.UnfoldCombinator(random_walk, 1000)\n",
    "init = 0.5\n",
    "key = jax.random.PRNGKey(314159)\n",
    "key, tr = jax.jit(genjax.simulate(unfold))(key, (init,))\n",
    "print(tr)"
   ]
  },
  {
   "cell_type": "code",
   "execution_count": 3,
   "id": "025390a6",
   "metadata": {
    "execution": {
     "iopub.execute_input": "2022-09-05T06:35:52.574011Z",
     "iopub.status.busy": "2022-09-05T06:35:52.573909Z",
     "iopub.status.idle": "2022-09-05T06:35:53.233135Z",
     "shell.execute_reply": "2022-09-05T06:35:53.232873Z"
    }
   },
   "outputs": [
    {
     "name": "stdout",
     "output_type": "stream",
     "text": [
      "MapTrace(\n",
      "  gen_fn=MapCombinator(\n",
      "    kernel=JAXGenerativeFunction(source=<function add_normal_noise>),\n",
      "    in_axes=(0, 0)\n",
      "  ),\n",
      "  length=i32[],\n",
      "  subtrace=JAXTrace(\n",
      "    gen_fn=JAXGenerativeFunction(source=<function add_normal_noise>),\n",
      "    args=(f32[100],),\n",
      "    retval=(f32[100],),\n",
      "    choices=Trie(\n",
      "      nodes={\n",
      "        'noise1':\n",
      "        DistributionTrace(\n",
      "          gen_fn=_Normal(),\n",
      "          args=(f32[100], f32[100]),\n",
      "          value=f32[100],\n",
      "          score=f32[100]\n",
      "        ),\n",
      "        'noise2':\n",
      "        DistributionTrace(\n",
      "          gen_fn=_Normal(),\n",
      "          args=(f32[100], f32[100]),\n",
      "          value=f32[100],\n",
      "          score=f32[100]\n",
      "        )\n",
      "      }\n",
      "    ),\n",
      "    score=f32[100]\n",
      "  ),\n",
      "  score=f32[]\n",
      ")\n"
     ]
    }
   ],
   "source": [
    "import jax\n",
    "import jax.numpy as jnp\n",
    "import genjax\n",
    "\n",
    "@genjax.gen\n",
    "def add_normal_noise(key, x):\n",
    "    key, noise1 = genjax.trace(\"noise1\", genjax.Normal)(\n",
    "            key, (0.0, 1.0)\n",
    "    )\n",
    "    key, noise2 = genjax.trace(\"noise2\", genjax.Normal)(\n",
    "            key, (0.0, 1.0)\n",
    "    )\n",
    "    return (key, x + noise1 + noise2)\n",
    "\n",
    "mapped = genjax.MapCombinator(add_normal_noise, in_axes=(0, 0))\n",
    "\n",
    "arr = jnp.ones(100)\n",
    "key = jax.random.PRNGKey(314159)\n",
    "key, *subkeys = jax.random.split(key, 101)\n",
    "subkeys = jnp.array(subkeys)\n",
    "_, tr = jax.jit(genjax.simulate(mapped))(subkeys, (arr, ))\n",
    "print(tr)"
   ]
  }
 ],
 "metadata": {
  "kernelspec": {
   "display_name": "Python 3 (ipykernel)",
   "language": "python",
   "name": "python3"
  },
  "language_info": {
   "codemirror_mode": {
    "name": "ipython",
    "version": 3
   },
   "file_extension": ".py",
   "mimetype": "text/x-python",
   "name": "python",
   "nbconvert_exporter": "python",
   "pygments_lexer": "ipython3",
   "version": "3.10.4"
  }
 },
 "nbformat": 4,
 "nbformat_minor": 5
}