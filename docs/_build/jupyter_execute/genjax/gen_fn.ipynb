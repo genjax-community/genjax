{
 "cells": [
  {
   "cell_type": "code",
   "execution_count": 1,
   "id": "916e9cd4",
   "metadata": {
    "execution": {
     "iopub.execute_input": "2022-09-05T06:35:57.159719Z",
     "iopub.status.busy": "2022-09-05T06:35:57.159317Z",
     "iopub.status.idle": "2022-09-05T06:35:57.503321Z",
     "shell.execute_reply": "2022-09-05T06:35:57.503054Z"
    }
   },
   "outputs": [
    {
     "name": "stdout",
     "output_type": "stream",
     "text": [
      "JAXGenerativeFunction(source=<function model>)\n"
     ]
    }
   ],
   "source": [
    "import jax\n",
    "import genjax\n",
    "\n",
    "@genjax.gen\n",
    "def model(key):\n",
    "    key, x = genjax.trace(\"x\", genjax.Normal)(key, (0.0, 1.0))\n",
    "    return key, x\n",
    "\n",
    "print(model)"
   ]
  },
  {
   "cell_type": "code",
   "execution_count": 2,
   "id": "9d022a3f",
   "metadata": {
    "execution": {
     "iopub.execute_input": "2022-09-05T06:35:57.504806Z",
     "iopub.status.busy": "2022-09-05T06:35:57.504691Z",
     "iopub.status.idle": "2022-09-05T06:35:57.539473Z",
     "shell.execute_reply": "2022-09-05T06:35:57.539208Z"
    }
   },
   "outputs": [
    {
     "name": "stdout",
     "output_type": "stream",
     "text": [
      "{ lambda ; a:u32[2]. let\n",
      "    b:u32[2] c:f32[] = trace[addr=x gen_fn=_Normal()] a 0.0 1.0\n",
      "  in (b, c) }\n"
     ]
    }
   ],
   "source": [
    "key = jax.random.PRNGKey(314159)\n",
    "jaxpr = jax.make_jaxpr(model)(key)\n",
    "print(jaxpr.pretty_print(use_color=False))"
   ]
  },
  {
   "cell_type": "code",
   "execution_count": 3,
   "id": "84eb9910",
   "metadata": {
    "execution": {
     "iopub.execute_input": "2022-09-05T06:35:57.540857Z",
     "iopub.status.busy": "2022-09-05T06:35:57.540777Z",
     "iopub.status.idle": "2022-09-05T06:35:57.552060Z",
     "shell.execute_reply": "2022-09-05T06:35:57.551805Z"
    }
   },
   "outputs": [
    {
     "name": "stdout",
     "output_type": "stream",
     "text": [
      "{ lambda ; a:u32[2]. let\n",
      "    b:key<fry>[] = random_wrap[impl=fry] a\n",
      "    c:key<fry>[2] = random_split[count=2] b\n",
      "    d:u32[2,2] = random_unwrap c\n",
      "    e:u32[1,2] = slice[limit_indices=(1, 2) start_indices=(0, 0) strides=(1, 1)] d\n",
      "    f:u32[2] = squeeze[dimensions=(0,)] e\n",
      "    g:u32[1,2] = slice[limit_indices=(2, 2) start_indices=(1, 0) strides=(1, 1)] d\n",
      "    h:u32[2] = squeeze[dimensions=(0,)] g\n",
      "    i:key<fry>[] = random_wrap[impl=fry] h\n",
      "    j:u32[] = random_bits[bit_width=32 shape=()] i\n",
      "    k:u32[] = shift_right_logical j 9\n",
      "    l:u32[] = or k 1065353216\n",
      "    m:f32[] = bitcast_convert_type[new_dtype=float32] l\n",
      "    n:f32[] = sub m 1.0\n",
      "    o:f32[] = sub 1.0 -0.9999999403953552\n",
      "    p:f32[] = mul n o\n",
      "    q:f32[] = add p -0.9999999403953552\n",
      "    r:f32[] = reshape[dimensions=None new_sizes=()] q\n",
      "    s:f32[] = max -0.9999999403953552 r\n",
      "    t:f32[] = erf_inv s\n",
      "    u:f32[] = mul 1.4142135381698608 t\n",
      "    v:f32[] = mul 1.0 u\n",
      "    w:f32[] = add 0.0 v\n",
      "    x:f32[] = sub w 0.0\n",
      "    y:f32[] = div x 1.0\n",
      "    z:f32[] = abs y\n",
      "    ba:f32[] = integer_pow[y=2] z\n",
      "    bb:f32[] = log 6.283185307179586\n",
      "    bc:f32[] = convert_element_type[new_dtype=float32 weak_type=False] bb\n",
      "    bd:f32[] = add ba bc\n",
      "    be:f32[] = mul -1.0 bd\n",
      "    bf:f32[] = log 1.0\n",
      "    bg:f32[] = sub 2.0 bf\n",
      "    bh:f32[] = convert_element_type[new_dtype=float32 weak_type=False] bg\n",
      "    bi:f32[] = div be bh\n",
      "    bj:f32[] = reduce_sum[axes=()] bi\n",
      "    bk:f32[] = add 0.0 bj\n",
      "  in (f, w, 0.0, 1.0, w, bj, bk) }\n"
     ]
    }
   ],
   "source": [
    "key = jax.random.PRNGKey(314159)\n",
    "jaxpr = jax.make_jaxpr(genjax.simulate(model))(key, ())\n",
    "print(jaxpr.pretty_print(use_color=False))"
   ]
  }
 ],
 "metadata": {
  "kernelspec": {
   "display_name": "Python 3 (ipykernel)",
   "language": "python",
   "name": "python3"
  },
  "language_info": {
   "codemirror_mode": {
    "name": "ipython",
    "version": 3
   },
   "file_extension": ".py",
   "mimetype": "text/x-python",
   "name": "python",
   "nbconvert_exporter": "python",
   "pygments_lexer": "ipython3",
   "version": "3.10.4"
  }
 },
 "nbformat": 4,
 "nbformat_minor": 5
}