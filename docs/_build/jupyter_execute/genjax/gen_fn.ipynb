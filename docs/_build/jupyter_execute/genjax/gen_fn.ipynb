{
 "cells": [
  {
   "cell_type": "code",
   "execution_count": 1,
   "id": "aa11a145",
   "metadata": {
    "execution": {
     "iopub.execute_input": "2022-08-28T17:28:24.957746Z",
     "iopub.status.busy": "2022-08-28T17:28:24.957304Z",
     "iopub.status.idle": "2022-08-28T17:28:25.336127Z",
     "shell.execute_reply": "2022-08-28T17:28:25.335852Z"
    }
   },
   "outputs": [
    {
     "name": "stdout",
     "output_type": "stream",
     "text": [
      "JAXGenerativeFunction(source=<function model at 0x1060d9750>)\n"
     ]
    }
   ],
   "source": [
    "import jax\n",
    "import genjax\n",
    "\n",
    "@genjax.gen\n",
    "def model(key):\n",
    "    key, x = genjax.trace(\"x\", genjax.Normal)(key, ())\n",
    "    return key, x\n",
    "\n",
    "print(model)"
   ]
  },
  {
   "cell_type": "code",
   "execution_count": 2,
   "id": "ce410afe",
   "metadata": {
    "execution": {
     "iopub.execute_input": "2022-08-28T17:28:25.337641Z",
     "iopub.status.busy": "2022-08-28T17:28:25.337500Z",
     "iopub.status.idle": "2022-08-28T17:28:25.495695Z",
     "shell.execute_reply": "2022-08-28T17:28:25.495420Z"
    }
   },
   "outputs": [
    {
     "name": "stdout",
     "output_type": "stream",
     "text": [
      "{ lambda ; a:u32[2]. let\n",
      "    b:u32[2] c:f32[] = trace[addr=x gen_fn=_Normal()] a\n",
      "  in (b, c) }\n"
     ]
    }
   ],
   "source": [
    "key = jax.random.PRNGKey(314159)\n",
    "print(jax.make_jaxpr(model)(key))"
   ]
  },
  {
   "cell_type": "code",
   "execution_count": 3,
   "id": "885d351e",
   "metadata": {
    "execution": {
     "iopub.execute_input": "2022-08-28T17:28:25.497067Z",
     "iopub.status.busy": "2022-08-28T17:28:25.496966Z",
     "iopub.status.idle": "2022-08-28T17:28:25.513347Z",
     "shell.execute_reply": "2022-08-28T17:28:25.513101Z"
    }
   },
   "outputs": [
    {
     "name": "stdout",
     "output_type": "stream",
     "text": [
      "{ lambda a:u32[1]; b:u32[2]. let\n",
      "    c:u32[4] = iota[dimension=0 dtype=uint32 shape=(4,)] \n",
      "    d:u32[1] = slice[limit_indices=(1,) start_indices=(0,) strides=(1,)] b\n",
      "    e:u32[] = squeeze[dimensions=(0,)] d\n",
      "    f:u32[1] = slice[limit_indices=(2,) start_indices=(1,) strides=(1,)] b\n",
      "    g:u32[] = squeeze[dimensions=(0,)] f\n",
      "    h:u32[2] = slice[limit_indices=(2,) start_indices=(0,) strides=None] c\n",
      "    i:u32[2] = slice[limit_indices=(4,) start_indices=(2,) strides=None] c\n",
      "    j:u32[2] k:u32[2] = threefry2x32 e g h i\n",
      "    l:u32[4] = concatenate[dimension=0] j k\n",
      "    m:u32[2,2] = reshape[dimensions=None new_sizes=(2, 2)] l\n",
      "    n:u32[1,2] = slice[limit_indices=(1, 2) start_indices=(0, 0) strides=(1, 1)] m\n",
      "    o:u32[2] = squeeze[dimensions=(0,)] n\n",
      "    p:u32[1,2] = slice[limit_indices=(2, 2) start_indices=(1, 0) strides=(1, 1)] m\n",
      "    q:u32[2] = squeeze[dimensions=(0,)] p\n",
      "    r:u32[1] = iota[dimension=0 dtype=uint32 shape=(1,)] \n",
      "    s:u32[1] = slice[limit_indices=(1,) start_indices=(0,) strides=(1,)] q\n",
      "    t:u32[] = squeeze[dimensions=(0,)] s\n",
      "    u:u32[1] = slice[limit_indices=(2,) start_indices=(1,) strides=(1,)] q\n",
      "    v:u32[] = squeeze[dimensions=(0,)] u\n",
      "    w:u32[2] = concatenate[dimension=0] r a\n",
      "    x:u32[1] = slice[limit_indices=(1,) start_indices=(0,) strides=None] w\n",
      "    y:u32[1] = slice[limit_indices=(2,) start_indices=(1,) strides=None] w\n",
      "    z:u32[1] ba:u32[1] = threefry2x32 t v x y\n",
      "    bb:u32[2] = concatenate[dimension=0] z ba\n",
      "    bc:i32[1] = broadcast_in_dim[broadcast_dimensions=() shape=(1,)] 0\n",
      "    bd:u32[1] = gather[\n",
      "      dimension_numbers=GatherDimensionNumbers(offset_dims=(0,), collapsed_slice_dims=(), start_index_map=(0,))\n",
      "      fill_value=None\n",
      "      indices_are_sorted=True\n",
      "      mode=GatherScatterMode.PROMISE_IN_BOUNDS\n",
      "      slice_sizes=(1,)\n",
      "      unique_indices=True\n",
      "    ] bb bc\n",
      "    be:u32[] = reshape[dimensions=None new_sizes=()] bd\n",
      "    bf:u32[] = shift_right_logical be 9\n",
      "    bg:u32[] = or bf 1065353216\n",
      "    bh:f32[] = bitcast_convert_type[new_dtype=float32] bg\n",
      "    bi:f32[] = sub bh 1.0\n",
      "    bj:f32[] = sub 1.0 -0.9999999403953552\n",
      "    bk:f32[] = mul bi bj\n",
      "    bl:f32[] = add bk -0.9999999403953552\n",
      "    bm:f32[] = reshape[dimensions=None new_sizes=()] bl\n",
      "    bn:f32[] = max -0.9999999403953552 bm\n",
      "    bo:f32[] = erf_inv bn\n",
      "    bp:f32[] = mul 1.4142135381698608 bo\n",
      "    bq:f32[] = integer_pow[y=2] 1.0\n",
      "    br:f32[] = mul 6.2831854820251465 bq\n",
      "    bs:f32[] = log br\n",
      "    bt:f32[] = sub bp 0.0\n",
      "    bu:f32[] = integer_pow[y=2] bt\n",
      "    bv:f32[] = div bu bq\n",
      "    bw:f32[] = add bs bv\n",
      "    bx:f32[] = div bw -2.0\n",
      "    by:f32[] = reduce_sum[axes=()] bx\n",
      "    bz:f32[] = add 0.0 by\n",
      "  in (o, bp, bp, by, bz) }\n"
     ]
    }
   ],
   "source": [
    "key = jax.random.PRNGKey(314159)\n",
    "print(jax.make_jaxpr(genjax.simulate(model))(key, ()))"
   ]
  }
 ],
 "metadata": {
  "kernelspec": {
   "display_name": "Python 3 (ipykernel)",
   "language": "python",
   "name": "python3"
  },
  "language_info": {
   "codemirror_mode": {
    "name": "ipython",
    "version": 3
   },
   "file_extension": ".py",
   "mimetype": "text/x-python",
   "name": "python",
   "nbconvert_exporter": "python",
   "pygments_lexer": "ipython3",
   "version": "3.10.6"
  }
 },
 "nbformat": 4,
 "nbformat_minor": 5
}