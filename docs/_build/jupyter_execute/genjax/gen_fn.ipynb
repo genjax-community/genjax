{
 "cells": [
  {
   "cell_type": "code",
   "execution_count": 1,
   "id": "e4b9696e",
   "metadata": {
    "execution": {
     "iopub.execute_input": "2022-09-12T04:06:56.483870Z",
     "iopub.status.busy": "2022-09-12T04:06:56.483407Z",
     "iopub.status.idle": "2022-09-12T04:06:56.841240Z",
     "shell.execute_reply": "2022-09-12T04:06:56.840956Z"
    }
   },
   "outputs": [
    {
     "name": "stdout",
     "output_type": "stream",
     "text": [
      "BuiltinGenerativeFunction(source = <function model>)\n"
     ]
    }
   ],
   "source": [
    "import jax\n",
    "import genjax\n",
    "\n",
    "@genjax.gen\n",
    "def model(key):\n",
    "    key, x = genjax.trace(\"x\", genjax.Normal)(key, (0.0, 1.0))\n",
    "    return key, x\n",
    "\n",
    "print(model)"
   ]
  },
  {
   "cell_type": "code",
   "execution_count": 2,
   "id": "81c680a1",
   "metadata": {
    "execution": {
     "iopub.execute_input": "2022-09-12T04:06:56.842644Z",
     "iopub.status.busy": "2022-09-12T04:06:56.842534Z",
     "iopub.status.idle": "2022-09-12T04:06:56.884502Z",
     "shell.execute_reply": "2022-09-12T04:06:56.884150Z"
    }
   },
   "outputs": [
    {
     "name": "stdout",
     "output_type": "stream",
     "text": [
      "{ lambda ; a:u32[2]. let\n",
      "    b:u32[2] c:f32[] = trace[addr=x gen_fn=_Normal()] a 0.0 1.0\n",
      "  in (b, c) }\n"
     ]
    }
   ],
   "source": [
    "key = jax.random.PRNGKey(314159)\n",
    "jaxpr = jax.make_jaxpr(model)(key)\n",
    "print(jaxpr.pretty_print(use_color=False))"
   ]
  },
  {
   "cell_type": "code",
   "execution_count": 3,
   "id": "c59bd29b",
   "metadata": {
    "execution": {
     "iopub.execute_input": "2022-09-12T04:06:56.886287Z",
     "iopub.status.busy": "2022-09-12T04:06:56.886128Z",
     "iopub.status.idle": "2022-09-12T04:06:56.902912Z",
     "shell.execute_reply": "2022-09-12T04:06:56.902597Z"
    }
   },
   "outputs": [
    {
     "name": "stdout",
     "output_type": "stream",
     "text": [
      "{ lambda ; a:u32[2]. let\n",
      "    b:key<fry>[] = random_wrap[impl=fry] a\n",
      "    c:key<fry>[2] = random_split[count=2] b\n",
      "    d:u32[2,2] = random_unwrap c\n",
      "    e:u32[1,2] = slice[limit_indices=(1, 2) start_indices=(0, 0) strides=(1, 1)] d\n",
      "    f:u32[2] = squeeze[dimensions=(0,)] e\n",
      "    g:u32[1,2] = slice[limit_indices=(2, 2) start_indices=(1, 0) strides=(1, 1)] d\n",
      "    h:u32[2] = squeeze[dimensions=(0,)] g\n",
      "    i:key<fry>[] = random_wrap[impl=fry] h\n",
      "    j:u32[] = random_bits[bit_width=32 shape=()] i\n",
      "    k:u32[] = shift_right_logical j 9\n",
      "    l:u32[] = or k 1065353216\n",
      "    m:f32[] = bitcast_convert_type[new_dtype=float32] l\n",
      "    n:f32[] = sub m 1.0\n",
      "    o:f32[] = sub 1.0 -0.9999999403953552\n",
      "    p:f32[] = mul n o\n",
      "    q:f32[] = add p -0.9999999403953552\n",
      "    r:f32[] = reshape[dimensions=None new_sizes=()] q\n",
      "    s:f32[] = max -0.9999999403953552 r\n",
      "    t:f32[] = erf_inv s\n",
      "    u:f32[] = mul 1.4142135381698608 t\n",
      "    v:f32[] = mul 1.0 u\n",
      "    w:f32[] = add 0.0 v\n",
      "    x:key<fry>[] = random_wrap[impl=fry] f\n",
      "    y:key<fry>[2] = random_split[count=2] x\n",
      "    z:u32[2,2] = random_unwrap y\n",
      "    ba:u32[1,2] = slice[\n",
      "      limit_indices=(1, 2)\n",
      "      start_indices=(0, 0)\n",
      "      strides=(1, 1)\n",
      "    ] z\n",
      "    bb:u32[2] = squeeze[dimensions=(0,)] ba\n",
      "    bc:u32[1,2] = slice[\n",
      "      limit_indices=(2, 2)\n",
      "      start_indices=(1, 0)\n",
      "      strides=(1, 1)\n",
      "    ] z\n",
      "    _:u32[2] = squeeze[dimensions=(0,)] bc\n",
      "    bd:f32[] = sub w 0.0\n",
      "    be:f32[] = div bd 1.0\n",
      "    bf:f32[] = abs be\n",
      "    bg:f32[] = integer_pow[y=2] bf\n",
      "    bh:f32[] = log 6.283185307179586\n",
      "    bi:f32[] = convert_element_type[new_dtype=float32 weak_type=False] bh\n",
      "    bj:f32[] = add bg bi\n",
      "    bk:f32[] = mul -1.0 bj\n",
      "    bl:f32[] = log 1.0\n",
      "    bm:f32[] = sub 2.0 bl\n",
      "    bn:f32[] = convert_element_type[new_dtype=float32 weak_type=False] bm\n",
      "    bo:f32[] = div bk bn\n",
      "    bp:f32[] = reduce_sum[axes=()] bo\n",
      "    bq:f32[] = add 0.0 bp\n",
      "  in (bb, w, 0.0, 1.0, w, bp, bq) }\n"
     ]
    }
   ],
   "source": [
    "key = jax.random.PRNGKey(314159)\n",
    "jaxpr = jax.make_jaxpr(genjax.simulate(model))(key, ())\n",
    "print(jaxpr.pretty_print(use_color=False))"
   ]
  }
 ],
 "metadata": {
  "kernelspec": {
   "display_name": "Python 3 (ipykernel)",
   "language": "python",
   "name": "python3"
  },
  "language_info": {
   "codemirror_mode": {
    "name": "ipython",
    "version": 3
   },
   "file_extension": ".py",
   "mimetype": "text/x-python",
   "name": "python",
   "nbconvert_exporter": "python",
   "pygments_lexer": "ipython3",
   "version": "3.10.4"
  }
 },
 "nbformat": 4,
 "nbformat_minor": 5
}