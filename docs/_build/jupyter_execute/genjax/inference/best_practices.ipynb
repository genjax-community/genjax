{
 "cells": [
  {
   "cell_type": "code",
   "execution_count": 1,
   "id": "43a57f37",
   "metadata": {
    "execution": {
     "iopub.execute_input": "2022-09-24T00:12:01.309054Z",
     "iopub.status.busy": "2022-09-24T00:12:01.308741Z",
     "iopub.status.idle": "2022-09-24T00:12:01.984977Z",
     "shell.execute_reply": "2022-09-24T00:12:01.984478Z"
    }
   },
   "outputs": [],
   "source": [
    "import jax\n",
    "import genjax\n",
    "\n",
    "def bootstrap_importance_sampling(model: genjax.GenerativeFunction, n_particles: int):\n",
    "    def _inner(key, model_args: Tuple, observations: genjax.ChoiceMap):\n",
    "        key, *subkeys = jax.random.split(key, n_particles + 1)\n",
    "        subkeys = jnp.array(subkeys)\n",
    "        _, (lws, trs) = jax.vmap(model.importance, in_axes=(0, None, None))(\n",
    "            subkeys,\n",
    "            observations,\n",
    "            model_args,\n",
    "        )\n",
    "        log_total_weight = jax.scipy.special.logsumexp(lws)\n",
    "        log_normalized_weights = lws - log_total_weight\n",
    "        log_ml_estimate = log_total_weight - jnp.log(n_particles)\n",
    "        return key, (trs, log_normalized_weights, log_ml_estimate)\n",
    "\n",
    "    return _inner"
   ]
  }
 ],
 "metadata": {
  "kernelspec": {
   "display_name": "Python 3 (ipykernel)",
   "language": "python",
   "name": "python3"
  },
  "language_info": {
   "codemirror_mode": {
    "name": "ipython",
    "version": 3
   },
   "file_extension": ".py",
   "mimetype": "text/x-python",
   "name": "python",
   "nbconvert_exporter": "python",
   "pygments_lexer": "ipython3",
   "version": "3.10.4"
  }
 },
 "nbformat": 4,
 "nbformat_minor": 5
}