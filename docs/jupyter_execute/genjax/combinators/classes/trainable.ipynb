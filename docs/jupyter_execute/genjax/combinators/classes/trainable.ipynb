{
 "cells": [
  {
   "cell_type": "code",
   "execution_count": 1,
   "id": "60daf1f5",
   "metadata": {
    "execution": {
     "iopub.execute_input": "2022-10-11T01:50:58.304967Z",
     "iopub.status.busy": "2022-10-11T01:50:58.304640Z",
     "iopub.status.idle": "2022-10-11T01:51:00.635414Z",
     "shell.execute_reply": "2022-10-11T01:51:00.634885Z"
    }
   },
   "outputs": [],
   "source": [
    "import jax\n",
    "import genjax\n",
    "import optax\n",
    "\n",
    "# Here, we can pass params as a keyword argument to\n",
    "# genjax.Trainable.\n",
    "#\n",
    "# The combinator expects a generative function which accepts the params\n",
    "# argument at the last argument position.\n",
    "@genjax.gen(\n",
    "    genjax.Trainable,\n",
    "    params={\"x\": 0.5},\n",
    ")\n",
    "def model(key, params):\n",
    "    x = params[\"x\"]\n",
    "    key, y = genjax.trace(\"y\", genjax.Normal)(key, (x, 0.5))\n",
    "    return key, y\n",
    "\n",
    "\n",
    "def learning(key, lr, chm):\n",
    "    optim = optax.adam(lr)\n",
    "    opt_state = optim.init(model.params)\n",
    "    for _ in range(0, 20):\n",
    "        key, (w, tr) = genjax.importance(model)(key, chm, ())\n",
    "\n",
    "        # Usage here.\n",
    "        key, grad = model.param_grad(key, tr, scale=w)\n",
    "        updates, opt_state = optim.update(grad, opt_state)\n",
    "        model.update_params(updates)\n",
    "    return model.params\n",
    "\n",
    "\n",
    "key = jax.random.PRNGKey(314159)\n",
    "learning_rate = 3e-3\n",
    "obs = genjax.ChoiceMap.new({(\"y\",): 0.2})\n",
    "trained = jax.jit(learning)(key, learning_rate, obs)"
   ]
  }
 ],
 "metadata": {
  "kernelspec": {
   "display_name": "Python 3 (ipykernel)",
   "language": "python",
   "name": "python3"
  },
  "language_info": {
   "codemirror_mode": {
    "name": "ipython",
    "version": 3
   },
   "file_extension": ".py",
   "mimetype": "text/x-python",
   "name": "python",
   "nbconvert_exporter": "python",
   "pygments_lexer": "ipython3",
   "version": "3.10.6"
  }
 },
 "nbformat": 4,
 "nbformat_minor": 5
}