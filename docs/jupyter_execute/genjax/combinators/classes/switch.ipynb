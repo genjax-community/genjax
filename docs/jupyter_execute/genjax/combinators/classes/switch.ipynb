{
 "cells": [
  {
   "cell_type": "code",
   "execution_count": 1,
   "id": "b3a49a2b",
   "metadata": {
    "execution": {
     "iopub.execute_input": "2022-10-24T02:31:25.177653Z",
     "iopub.status.busy": "2022-10-24T02:31:25.177261Z",
     "iopub.status.idle": "2022-10-24T02:31:26.756954Z",
     "shell.execute_reply": "2022-10-24T02:31:26.756556Z"
    }
   },
   "outputs": [
    {
     "name": "stdout",
     "output_type": "stream",
     "text": [
      "SwitchTrace(gen_fn=SwitchCombinator(branches={0: BuiltinGenerativeFunction(source=<function branch_1 at 0x105b32560>), 1: BuiltinGenerativeFunction(source=<function branch_2 at 0x15c1c0ca0>)}), chm=IndexedChoiceMap(index=DeviceArray(1, dtype=int32, weak_type=True), submaps=[BuiltinTrace(gen_fn=BuiltinGenerativeFunction(source=<function branch_1 at 0x105b32560>), args=(), retval=(), choices=BuiltinChoiceMap(inner={'x1': DistributionTrace(gen_fn=_Normal(), args=(DeviceArray(0.3, dtype=float32, weak_type=True), DeviceArray(-0.35667497, dtype=float32, weak_type=True)), value=ValueChoiceMap(value=DeviceArray(-0.35667497, dtype=float32)), score=DeviceArray(0., dtype=float32))}), score=DeviceArray(0., dtype=float32)), BuiltinTrace(gen_fn=BuiltinGenerativeFunction(source=<function branch_2 at 0x15c1c0ca0>), args=(), retval=(), choices=BuiltinChoiceMap(inner={'x2': DistributionTrace(gen_fn=_Bernoulli(), args=(DeviceArray(0.3, dtype=float32, weak_type=True),), value=ValueChoiceMap(value=DeviceArray(False, dtype=bool)), score=DeviceArray(-0.35667497, dtype=float32, weak_type=True))}), score=DeviceArray(-0.35667497, dtype=float32))]), args=(), retval=(), score=DeviceArray(-0.35667497, dtype=float32))\n"
     ]
    }
   ],
   "source": [
    "import jax\n",
    "import genjax\n",
    "\n",
    "\n",
    "@genjax.gen\n",
    "def branch_1(key):\n",
    "    key, x = genjax.trace(\"x1\", genjax.Normal)(key, (0.0, 1.0))\n",
    "    return (key,)\n",
    "\n",
    "\n",
    "@genjax.gen\n",
    "def branch_2(key):\n",
    "    key, x = genjax.trace(\"x2\", genjax.Bernoulli)(key, (0.3,))\n",
    "    return (key,)\n",
    "\n",
    "\n",
    "switch = genjax.SwitchCombinator([branch_1, branch_2])\n",
    "\n",
    "key = jax.random.PRNGKey(314159)\n",
    "jitted = jax.jit(genjax.simulate(switch))\n",
    "key, _ = jitted(key, (0,))\n",
    "key, tr = jitted(key, (1,))\n",
    "print(tr)"
   ]
  }
 ],
 "metadata": {
  "kernelspec": {
   "display_name": "Python 3 (ipykernel)",
   "language": "python",
   "name": "python3"
  },
  "language_info": {
   "codemirror_mode": {
    "name": "ipython",
    "version": 3
   },
   "file_extension": ".py",
   "mimetype": "text/x-python",
   "name": "python",
   "nbconvert_exporter": "python",
   "pygments_lexer": "ipython3",
   "version": "3.10.6"
  }
 },
 "nbformat": 4,
 "nbformat_minor": 5
}