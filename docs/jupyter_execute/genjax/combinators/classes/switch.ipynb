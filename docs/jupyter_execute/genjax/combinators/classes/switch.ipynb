{
 "cells": [
  {
   "cell_type": "code",
   "execution_count": 1,
   "id": "0a55df50",
   "metadata": {
    "execution": {
     "iopub.execute_input": "2022-11-27T18:20:56.085830Z",
     "iopub.status.busy": "2022-11-27T18:20:56.085460Z",
     "iopub.status.idle": "2022-11-27T18:20:57.239692Z",
     "shell.execute_reply": "2022-11-27T18:20:57.239403Z"
    }
   },
   "outputs": [
    {
     "name": "stdout",
     "output_type": "stream",
     "text": [
      "SwitchTrace(gen_fn=SwitchCombinator(branches={0: BuiltinGenerativeFunction(source=<function branch_1 at 0x107d0b010>), 1: BuiltinGenerativeFunction(source=<function branch_2 at 0x13fd07f40>)}), chm=IndexedChoiceMap(index=DeviceArray(1, dtype=int32, weak_type=True), submaps=[BuiltinTrace(gen_fn=BuiltinGenerativeFunction(source=<function branch_1 at 0x107d0b010>), args=(), retval=(), choices=BuiltinChoiceMap(inner={'x1': DistributionTrace(gen_fn=_Normal(), args=(DeviceArray(0.3, dtype=float32, weak_type=True), DeviceArray(-0.35667497, dtype=float32, weak_type=True)), value=ValueChoiceMap(value=DeviceArray(-0.35667497, dtype=float32)), score=DeviceArray(0., dtype=float32))}), score=DeviceArray(0., dtype=float32)), BuiltinTrace(gen_fn=BuiltinGenerativeFunction(source=<function branch_2 at 0x13fd07f40>), args=(), retval=(), choices=BuiltinChoiceMap(inner={'x2': DistributionTrace(gen_fn=_Bernoulli(), args=(DeviceArray(0.3, dtype=float32, weak_type=True),), value=ValueChoiceMap(value=DeviceArray(False, dtype=bool)), score=DeviceArray(-0.35667497, dtype=float32, weak_type=True))}), score=DeviceArray(-0.35667497, dtype=float32))]), args=(), retval=(), score=DeviceArray(-0.35667497, dtype=float32))\n"
     ]
    }
   ],
   "source": [
    "import jax\n",
    "import genjax\n",
    "\n",
    "\n",
    "@genjax.gen\n",
    "def branch_1(key):\n",
    "    key, x = genjax.trace(\"x1\", genjax.Normal)(key, (0.0, 1.0))\n",
    "    return (key,)\n",
    "\n",
    "\n",
    "@genjax.gen\n",
    "def branch_2(key):\n",
    "    key, x = genjax.trace(\"x2\", genjax.Bernoulli)(key, (0.3,))\n",
    "    return (key,)\n",
    "\n",
    "\n",
    "switch = genjax.SwitchCombinator([branch_1, branch_2])\n",
    "\n",
    "key = jax.random.PRNGKey(314159)\n",
    "jitted = jax.jit(genjax.simulate(switch))\n",
    "key, _ = jitted(key, (0,))\n",
    "key, tr = jitted(key, (1,))\n",
    "print(tr)"
   ]
  }
 ],
 "metadata": {
  "kernelspec": {
   "display_name": "Python 3 (ipykernel)",
   "language": "python",
   "name": "python3"
  },
  "language_info": {
   "codemirror_mode": {
    "name": "ipython",
    "version": 3
   },
   "file_extension": ".py",
   "mimetype": "text/x-python",
   "name": "python",
   "nbconvert_exporter": "python",
   "pygments_lexer": "ipython3",
   "version": "3.10.8"
  }
 },
 "nbformat": 4,
 "nbformat_minor": 5
}