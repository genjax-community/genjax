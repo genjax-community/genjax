{
 "cells": [
  {
   "cell_type": "code",
   "execution_count": 1,
   "id": "d33882a9",
   "metadata": {
    "execution": {
     "iopub.execute_input": "2022-11-27T15:49:32.586845Z",
     "iopub.status.busy": "2022-11-27T15:49:32.586472Z",
     "iopub.status.idle": "2022-11-27T15:49:33.603168Z",
     "shell.execute_reply": "2022-11-27T15:49:33.602683Z"
    }
   },
   "outputs": [],
   "source": [
    "# Eight schools in idiomatic GenJAX.\n",
    "\n",
    "import jax\n",
    "import jax.numpy as jnp\n",
    "import genjax\n",
    "\n",
    "\n",
    "# Create a MapCombinator generative function, mapping over\n",
    "# the key and sigma arguments.\n",
    "@genjax.gen(genjax.MapCombinator, in_axes=(0, None, None, 0))\n",
    "def plate(key, mu, tau, sigma):\n",
    "    key, theta = genjax.trace(\"theta\", genjax.Normal)(key, (mu, tau))\n",
    "    key, obs = genjax.trace(\"obs\", genjax.Normal)(key, (theta, sigma))\n",
    "    return key, obs\n",
    "\n",
    "\n",
    "@genjax.gen\n",
    "def J_schools(key, J, sigma):\n",
    "    key, mu = genjax.trace(\"mu\", genjax.Normal)(key, (0.0, 5.0))\n",
    "    key, tau = genjax.trace(\"tau\", genjax.Cauchy)(key, ())\n",
    "    key, *subkeys = jax.random.split(key, J + 1)\n",
    "    subkeys = jnp.array(subkeys)\n",
    "    _, obs = genjax.trace(\"plate\", plate)(subkeys, (mu, tau, sigma))\n",
    "    return key, obs\n",
    "\n",
    "\n",
    "# If one ever needs to specialize on arguments, you can just\n",
    "# pass a lambda which closes over constants into\n",
    "# a `BuiltinGenerativeFunction`.\n",
    "#\n",
    "# Here, we specialize on the number of schools.\n",
    "eight_schools = genjax.BuiltinGenerativeFunction(\n",
    "    lambda key, sigma: J_schools(key, 8, sigma)\n",
    ")"
   ]
  }
 ],
 "metadata": {
  "kernelspec": {
   "display_name": "Python 3 (ipykernel)",
   "language": "python",
   "name": "python3"
  },
  "language_info": {
   "codemirror_mode": {
    "name": "ipython",
    "version": 3
   },
   "file_extension": ".py",
   "mimetype": "text/x-python",
   "name": "python",
   "nbconvert_exporter": "python",
   "pygments_lexer": "ipython3",
   "version": "3.10.8"
  }
 },
 "nbformat": 4,
 "nbformat_minor": 5
}