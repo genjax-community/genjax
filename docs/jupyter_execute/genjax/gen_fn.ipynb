{
 "cells": [
  {
   "cell_type": "code",
   "execution_count": 1,
   "id": "7010fbea",
   "metadata": {
    "execution": {
     "iopub.execute_input": "2022-12-25T05:11:37.689641Z",
     "iopub.status.busy": "2022-12-25T05:11:37.689196Z",
     "iopub.status.idle": "2022-12-25T05:11:38.506829Z",
     "shell.execute_reply": "2022-12-25T05:11:38.506394Z"
    }
   },
   "outputs": [
    {
     "name": "stdout",
     "output_type": "stream",
     "text": [
      "BuiltinGenerativeFunction(source=<function model at 0x10400a200>)\n"
     ]
    }
   ],
   "source": [
    "import jax\n",
    "import genjax\n",
    "\n",
    "@genjax.gen\n",
    "def model():\n",
    "    x = genjax.trace(\"x\", genjax.Normal)(0.0, 1.0)\n",
    "    return x\n",
    "\n",
    "print(model)"
   ]
  },
  {
   "cell_type": "code",
   "execution_count": 2,
   "id": "c1eaeee0",
   "metadata": {
    "execution": {
     "iopub.execute_input": "2022-12-25T05:11:38.508901Z",
     "iopub.status.busy": "2022-12-25T05:11:38.508701Z",
     "iopub.status.idle": "2022-12-25T05:11:38.605605Z",
     "shell.execute_reply": "2022-12-25T05:11:38.605204Z"
    }
   },
   "outputs": [
    {
     "name": "stdout",
     "output_type": "stream",
     "text": [
      "{ lambda ; a:u32[2]. let\n",
      "    b:key<fry>[] = random_seed[impl=fry] 0\n",
      "    c:key<fry>[] = random_wrap[impl=fry] a\n",
      "    d:key<fry>[2] = random_split[count=2] c\n",
      "    e:u32[2,2] = random_unwrap d\n",
      "    f:u32[1,2] = slice[limit_indices=(1, 2) start_indices=(0, 0) strides=(1, 1)] e\n",
      "    g:u32[2] = squeeze[dimensions=(0,)] f\n",
      "    h:u32[1,2] = slice[limit_indices=(2, 2) start_indices=(1, 0) strides=(1, 1)] e\n",
      "    i:u32[2] = squeeze[dimensions=(0,)] h\n",
      "    j:key<fry>[] = random_wrap[impl=fry] i\n",
      "    k:u32[] = random_bits[bit_width=32 shape=()] j\n",
      "    l:u32[] = shift_right_logical k 9\n",
      "    m:u32[] = or l 1065353216\n",
      "    n:f32[] = bitcast_convert_type[new_dtype=float32] m\n",
      "    o:f32[] = sub n 1.0\n",
      "    p:f32[] = sub 1.0 -0.9999999403953552\n",
      "    q:f32[] = mul o p\n",
      "    r:f32[] = add q -0.9999999403953552\n",
      "    s:f32[] = reshape[dimensions=None new_sizes=()] r\n",
      "    t:f32[] = max -0.9999999403953552 s\n",
      "    u:f32[] = erf_inv t\n",
      "    v:f32[] = mul 1.4142135381698608 u\n",
      "    w:f32[] = mul 1.0 v\n",
      "    x:f32[] = add 0.0 w\n",
      "    y:f32[] = sub x 0.0\n",
      "    z:f32[] = div y 1.0\n",
      "    ba:f32[] = abs z\n",
      "    bb:f32[] = integer_pow[y=2] ba\n",
      "    bc:f32[] = log 6.283185307179586\n",
      "    bd:f32[] = convert_element_type[new_dtype=float32 weak_type=False] bc\n",
      "    be:f32[] = add bb bd\n",
      "    bf:f32[] = mul -1.0 be\n",
      "    bg:f32[] = log 1.0\n",
      "    bh:f32[] = sub 2.0 bg\n",
      "    bi:f32[] = convert_element_type[new_dtype=float32 weak_type=False] bh\n",
      "    bj:f32[] = div bf bi\n",
      "    bk:f32[] = reduce_sum[axes=()] bj\n",
      "    _:f32[] = add 0.0 bk\n",
      "    _:u32[2] = random_unwrap b\n",
      "  in (g, x) }\n"
     ]
    }
   ],
   "source": [
    "key = jax.random.PRNGKey(314159)\n",
    "jaxpr = jax.make_jaxpr(model)(key)\n",
    "print(jaxpr.pretty_print(use_color=False))"
   ]
  },
  {
   "cell_type": "code",
   "execution_count": 3,
   "id": "ed3286f4",
   "metadata": {
    "execution": {
     "iopub.execute_input": "2022-12-25T05:11:38.607583Z",
     "iopub.status.busy": "2022-12-25T05:11:38.607411Z",
     "iopub.status.idle": "2022-12-25T05:11:38.633897Z",
     "shell.execute_reply": "2022-12-25T05:11:38.633547Z"
    }
   },
   "outputs": [
    {
     "name": "stdout",
     "output_type": "stream",
     "text": [
      "{ lambda ; a:u32[2]. let\n",
      "    b:key<fry>[] = random_wrap[impl=fry] a\n",
      "    c:key<fry>[2] = random_split[count=2] b\n",
      "    d:u32[2,2] = random_unwrap c\n",
      "    e:u32[1,2] = slice[limit_indices=(1, 2) start_indices=(0, 0) strides=(1, 1)] d\n",
      "    f:u32[2] = squeeze[dimensions=(0,)] e\n",
      "    g:u32[1,2] = slice[limit_indices=(2, 2) start_indices=(1, 0) strides=(1, 1)] d\n",
      "    h:u32[2] = squeeze[dimensions=(0,)] g\n",
      "    i:key<fry>[] = random_wrap[impl=fry] h\n",
      "    j:u32[] = random_bits[bit_width=32 shape=()] i\n",
      "    k:u32[] = shift_right_logical j 9\n",
      "    l:u32[] = or k 1065353216\n",
      "    m:f32[] = bitcast_convert_type[new_dtype=float32] l\n",
      "    n:f32[] = sub m 1.0\n",
      "    o:f32[] = sub 1.0 -0.9999999403953552\n",
      "    p:f32[] = mul n o\n",
      "    q:f32[] = add p -0.9999999403953552\n",
      "    r:f32[] = reshape[dimensions=None new_sizes=()] q\n",
      "    s:f32[] = max -0.9999999403953552 r\n",
      "    t:f32[] = erf_inv s\n",
      "    u:f32[] = mul 1.4142135381698608 t\n",
      "    v:f32[] = mul 1.0 u\n",
      "    w:f32[] = add 0.0 v\n",
      "    x:f32[] = sub w 0.0\n",
      "    y:f32[] = div x 1.0\n",
      "    z:f32[] = abs y\n",
      "    ba:f32[] = integer_pow[y=2] z\n",
      "    bb:f32[] = log 6.283185307179586\n",
      "    bc:f32[] = convert_element_type[new_dtype=float32 weak_type=False] bb\n",
      "    bd:f32[] = add ba bc\n",
      "    be:f32[] = mul -1.0 bd\n",
      "    bf:f32[] = log 1.0\n",
      "    bg:f32[] = sub 2.0 bf\n",
      "    bh:f32[] = convert_element_type[new_dtype=float32 weak_type=False] bg\n",
      "    bi:f32[] = div be bh\n",
      "    bj:f32[] = reduce_sum[axes=()] bi\n",
      "    bk:f32[] = add 0.0 bj\n",
      "    bl:key<fry>[] = random_seed[impl=fry] 0\n",
      "    _:u32[2] = random_unwrap bl\n",
      "  in (f, w, 0.0, 1.0, w, bj, bk) }\n"
     ]
    }
   ],
   "source": [
    "key = jax.random.PRNGKey(314159)\n",
    "jaxpr = jax.make_jaxpr(genjax.simulate(model))(key, ())\n",
    "print(jaxpr.pretty_print(use_color=False))"
   ]
  }
 ],
 "metadata": {
  "kernelspec": {
   "display_name": "Python 3 (ipykernel)",
   "language": "python",
   "name": "python3"
  },
  "language_info": {
   "codemirror_mode": {
    "name": "ipython",
    "version": 3
   },
   "file_extension": ".py",
   "mimetype": "text/x-python",
   "name": "python",
   "nbconvert_exporter": "python",
   "pygments_lexer": "ipython3",
   "version": "3.10.9"
  }
 },
 "nbformat": 4,
 "nbformat_minor": 5
}