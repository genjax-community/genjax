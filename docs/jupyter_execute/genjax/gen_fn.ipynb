{
 "cells": [
  {
   "cell_type": "code",
   "execution_count": 1,
   "id": "caf3c323",
   "metadata": {
    "execution": {
     "iopub.execute_input": "2022-12-08T19:33:14.759193Z",
     "iopub.status.busy": "2022-12-08T19:33:14.758776Z",
     "iopub.status.idle": "2022-12-08T19:33:15.492987Z",
     "shell.execute_reply": "2022-12-08T19:33:15.492530Z"
    }
   },
   "outputs": [
    {
     "name": "stdout",
     "output_type": "stream",
     "text": [
      "BuiltinGenerativeFunction(source=<function model at 0x10807da20>)\n"
     ]
    }
   ],
   "source": [
    "import jax\n",
    "import genjax\n",
    "\n",
    "\n",
    "@genjax.gen\n",
    "def model(key):\n",
    "    key, x = genjax.trace(\"x\", genjax.Normal)(key, 0.0, 1.0)\n",
    "    return key, x\n",
    "\n",
    "\n",
    "print(model)"
   ]
  },
  {
   "cell_type": "code",
   "execution_count": 2,
   "id": "d7438055",
   "metadata": {
    "execution": {
     "iopub.execute_input": "2022-12-08T19:33:15.495132Z",
     "iopub.status.busy": "2022-12-08T19:33:15.494929Z",
     "iopub.status.idle": "2022-12-08T19:33:15.649688Z",
     "shell.execute_reply": "2022-12-08T19:33:15.649304Z"
    }
   },
   "outputs": [
    {
     "name": "stdout",
     "output_type": "stream",
     "text": [
      "{ lambda ; a:u32[2]. let\n",
      "    b:key<fry>[] = random_wrap[impl=fry] a\n",
      "    c:key<fry>[2] = random_split[count=2] b\n",
      "    d:u32[2,2] = random_unwrap c\n",
      "    e:u32[1,2] = slice[limit_indices=(1, 2) start_indices=(0, 0) strides=(1, 1)] d\n",
      "    f:u32[2] = squeeze[dimensions=(0,)] e\n",
      "    g:u32[1,2] = slice[limit_indices=(2, 2) start_indices=(1, 0) strides=(1, 1)] d\n",
      "    h:u32[2] = squeeze[dimensions=(0,)] g\n",
      "    i:key<fry>[] = random_wrap[impl=fry] h\n",
      "    j:u32[] = random_bits[bit_width=32 shape=()] i\n",
      "    k:u32[] = shift_right_logical j 9\n",
      "    l:u32[] = or k 1065353216\n",
      "    m:f32[] = bitcast_convert_type[new_dtype=float32] l\n",
      "    n:f32[] = sub m 1.0\n",
      "    o:f32[] = sub 1.0 -0.9999999403953552\n",
      "    p:f32[] = mul n o\n",
      "    q:f32[] = add p -0.9999999403953552\n",
      "    r:f32[] = reshape[dimensions=None new_sizes=()] q\n",
      "    s:f32[] = max -0.9999999403953552 r\n",
      "    t:f32[] = erf_inv s\n",
      "    u:f32[] = mul 1.4142135381698608 t\n",
      "    v:f32[] = mul 1.0 u\n",
      "    w:f32[] = add 0.0 v\n",
      "    x:f32[] = sub w 0.0\n",
      "    y:f32[] = div x 1.0\n",
      "    z:f32[] = abs y\n",
      "    ba:f32[] = integer_pow[y=2] z\n",
      "    bb:f32[] = log 6.283185307179586\n",
      "    bc:f32[] = convert_element_type[new_dtype=float32 weak_type=False] bb\n",
      "    bd:f32[] = add ba bc\n",
      "    be:f32[] = mul -1.0 bd\n",
      "    bf:f32[] = log 1.0\n",
      "    bg:f32[] = sub 2.0 bf\n",
      "    bh:f32[] = convert_element_type[new_dtype=float32 weak_type=False] bg\n",
      "    bi:f32[] = div be bh\n",
      "    bj:f32[] = reduce_sum[axes=()] bi\n",
      "    _:f32[] = add 0.0 bj\n",
      "  in (f, w) }\n"
     ]
    }
   ],
   "source": [
    "key = jax.random.PRNGKey(314159)\n",
    "jaxpr = jax.make_jaxpr(model)(key)\n",
    "print(jaxpr.pretty_print(use_color=False))"
   ]
  },
  {
   "cell_type": "code",
   "execution_count": 3,
   "id": "2a2febbb",
   "metadata": {
    "execution": {
     "iopub.execute_input": "2022-12-08T19:33:15.651741Z",
     "iopub.status.busy": "2022-12-08T19:33:15.651576Z",
     "iopub.status.idle": "2022-12-08T19:33:15.713646Z",
     "shell.execute_reply": "2022-12-08T19:33:15.713213Z"
    }
   },
   "outputs": [
    {
     "name": "stdout",
     "output_type": "stream",
     "text": [
      "{ lambda ; a:u32[2]. let\n",
      "    b:key<fry>[] = random_wrap[impl=fry] a\n",
      "    c:key<fry>[2] = random_split[count=2] b\n",
      "    d:u32[2,2] = random_unwrap c\n",
      "    e:u32[1,2] = slice[limit_indices=(1, 2) start_indices=(0, 0) strides=(1, 1)] d\n",
      "    f:u32[2] = squeeze[dimensions=(0,)] e\n",
      "    g:u32[1,2] = slice[limit_indices=(2, 2) start_indices=(1, 0) strides=(1, 1)] d\n",
      "    h:u32[2] = squeeze[dimensions=(0,)] g\n",
      "    i:key<fry>[] = random_wrap[impl=fry] h\n",
      "    j:u32[] = random_bits[bit_width=32 shape=()] i\n",
      "    k:u32[] = shift_right_logical j 9\n",
      "    l:u32[] = or k 1065353216\n",
      "    m:f32[] = bitcast_convert_type[new_dtype=float32] l\n",
      "    n:f32[] = sub m 1.0\n",
      "    o:f32[] = sub 1.0 -0.9999999403953552\n",
      "    p:f32[] = mul n o\n",
      "    q:f32[] = add p -0.9999999403953552\n",
      "    r:f32[] = reshape[dimensions=None new_sizes=()] q\n",
      "    s:f32[] = max -0.9999999403953552 r\n",
      "    t:f32[] = erf_inv s\n",
      "    u:f32[] = mul 1.4142135381698608 t\n",
      "    v:f32[] = mul 1.0 u\n",
      "    w:f32[] = add 0.0 v\n",
      "    x:f32[] = sub w 0.0\n",
      "    y:f32[] = div x 1.0\n",
      "    z:f32[] = abs y\n",
      "    ba:f32[] = integer_pow[y=2] z\n",
      "    bb:f32[] = log 6.283185307179586\n",
      "    bc:f32[] = convert_element_type[new_dtype=float32 weak_type=False] bb\n",
      "    bd:f32[] = add ba bc\n",
      "    be:f32[] = mul -1.0 bd\n",
      "    bf:f32[] = log 1.0\n",
      "    bg:f32[] = sub 2.0 bf\n",
      "    bh:f32[] = convert_element_type[new_dtype=float32 weak_type=False] bg\n",
      "    bi:f32[] = div be bh\n",
      "    bj:f32[] = reduce_sum[axes=()] bi\n",
      "    bk:f32[] = add 0.0 bj\n",
      "  in (f, w, 0.0, 1.0, w, bj, bk) }\n"
     ]
    }
   ],
   "source": [
    "key = jax.random.PRNGKey(314159)\n",
    "jaxpr = jax.make_jaxpr(genjax.simulate(model))(key, ())\n",
    "print(jaxpr.pretty_print(use_color=False))"
   ]
  },
  {
   "cell_type": "code",
   "execution_count": 4,
   "id": "82d2807c",
   "metadata": {
    "execution": {
     "iopub.execute_input": "2022-12-08T19:33:15.715607Z",
     "iopub.status.busy": "2022-12-08T19:33:15.715440Z",
     "iopub.status.idle": "2022-12-08T19:33:15.717894Z",
     "shell.execute_reply": "2022-12-08T19:33:15.717492Z"
    }
   },
   "outputs": [
    {
     "name": "stdout",
     "output_type": "stream",
     "text": [
      "<function simulate.<locals>.<lambda> at 0x12c5ee200>\n"
     ]
    }
   ],
   "source": [
    "import genjax\n",
    "\n",
    "fn = genjax.simulate(genjax.Normal)\n",
    "print(fn)"
   ]
  }
 ],
 "metadata": {
  "kernelspec": {
   "display_name": "Python 3 (ipykernel)",
   "language": "python",
   "name": "python3"
  },
  "language_info": {
   "codemirror_mode": {
    "name": "ipython",
    "version": 3
   },
   "file_extension": ".py",
   "mimetype": "text/x-python",
   "name": "python",
   "nbconvert_exporter": "python",
   "pygments_lexer": "ipython3",
   "version": "3.10.8"
  }
 },
 "nbformat": 4,
 "nbformat_minor": 5
}