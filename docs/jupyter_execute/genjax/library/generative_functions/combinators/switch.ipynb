{
 "cells": [
  {
   "cell_type": "code",
   "execution_count": 1,
   "id": "ce344dba",
   "metadata": {
    "execution": {
     "iopub.execute_input": "2022-12-24T09:04:21.018599Z",
     "iopub.status.busy": "2022-12-24T09:04:21.018005Z",
     "iopub.status.idle": "2022-12-24T09:04:22.520993Z",
     "shell.execute_reply": "2022-12-24T09:04:22.520556Z"
    }
   },
   "outputs": [
    {
     "name": "stdout",
     "output_type": "stream",
     "text": [
      "SwitchTrace(gen_fn=SwitchCombinator(branches=[BuiltinGenerativeFunction(source=<function branch_1 at 0x10378a170>), BuiltinGenerativeFunction(source=<function branch_2 at 0x103789e10>)]), chm=IndexedChoiceMap(index=Array(1, dtype=int32, weak_type=True), submaps=[BuiltinTrace(gen_fn=BuiltinGenerativeFunction(source=<function branch_1 at 0x10378a170>), args=(), retval=(), choices=BuiltinChoiceMap(inner={'x1': DistributionTrace(gen_fn=_Normal(), args=(Array(0.3, dtype=float32, weak_type=True), Array(-0.35667497, dtype=float32, weak_type=True)), value=Array(-0.35667497, dtype=float32), score=Array(0., dtype=float32))}), cache=BuiltinTrie(inner={}), score=Array(0., dtype=float32)), BuiltinTrace(gen_fn=BuiltinGenerativeFunction(source=<function branch_2 at 0x103789e10>), args=(), retval=(), choices=BuiltinChoiceMap(inner={'x2': DistributionTrace(gen_fn=_Bernoulli(), args=(Array(0.3, dtype=float32, weak_type=True),), value=Array(False, dtype=bool), score=Array(-0.35667497, dtype=float32, weak_type=True))}), cache=BuiltinTrie(inner={}), score=Array(-0.35667497, dtype=float32))]), args=(), retval=(), score=Array(-0.35667497, dtype=float32))\n"
     ]
    }
   ],
   "source": [
    "import jax\n",
    "import genjax\n",
    "\n",
    "\n",
    "@genjax.gen\n",
    "def branch_1(key):\n",
    "    key, x = genjax.trace(\"x1\", genjax.Normal)(key, 0.0, 1.0)\n",
    "    return (key,)\n",
    "\n",
    "\n",
    "@genjax.gen\n",
    "def branch_2(key):\n",
    "    key, x = genjax.trace(\"x2\", genjax.Bernoulli)(key, 0.3)\n",
    "    return (key,)\n",
    "\n",
    "\n",
    "switch = genjax.SwitchCombinator([branch_1, branch_2])\n",
    "\n",
    "key = jax.random.PRNGKey(314159)\n",
    "jitted = jax.jit(genjax.simulate(switch))\n",
    "key, _ = jitted(key, (0,))\n",
    "key, tr = jitted(key, (1,))\n",
    "print(tr)"
   ]
  }
 ],
 "metadata": {
  "kernelspec": {
   "display_name": "Python 3 (ipykernel)",
   "language": "python",
   "name": "python3"
  },
  "language_info": {
   "codemirror_mode": {
    "name": "ipython",
    "version": 3
   },
   "file_extension": ".py",
   "mimetype": "text/x-python",
   "name": "python",
   "nbconvert_exporter": "python",
   "pygments_lexer": "ipython3",
   "version": "3.10.9"
  }
 },
 "nbformat": 4,
 "nbformat_minor": 5
}