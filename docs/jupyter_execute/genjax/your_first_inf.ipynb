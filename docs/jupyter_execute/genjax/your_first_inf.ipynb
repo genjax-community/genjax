{
 "cells": [
  {
   "cell_type": "code",
   "execution_count": 1,
   "id": "c2bd23f5",
   "metadata": {
    "execution": {
     "iopub.execute_input": "2022-12-02T04:19:22.367983Z",
     "iopub.status.busy": "2022-12-02T04:19:22.367658Z",
     "iopub.status.idle": "2022-12-02T04:19:22.944222Z",
     "shell.execute_reply": "2022-12-02T04:19:22.943604Z"
    }
   },
   "outputs": [],
   "source": [
    "import jax\n",
    "import genjax"
   ]
  }
 ],
 "metadata": {
  "kernelspec": {
   "display_name": "Python 3 (ipykernel)",
   "language": "python",
   "name": "python3"
  },
  "language_info": {
   "codemirror_mode": {
    "name": "ipython",
    "version": 3
   },
   "file_extension": ".py",
   "mimetype": "text/x-python",
   "name": "python",
   "nbconvert_exporter": "python",
   "pygments_lexer": "ipython3",
   "version": "3.10.8"
  }
 },
 "nbformat": 4,
 "nbformat_minor": 5
}