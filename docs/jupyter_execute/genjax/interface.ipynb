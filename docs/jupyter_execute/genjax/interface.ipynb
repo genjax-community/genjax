{
 "cells": [
  {
   "cell_type": "code",
   "execution_count": 1,
   "id": "bd7828a2",
   "metadata": {
    "execution": {
     "iopub.execute_input": "2022-11-24T04:08:30.257190Z",
     "iopub.status.busy": "2022-11-24T04:08:30.256702Z",
     "iopub.status.idle": "2022-11-24T04:08:31.292134Z",
     "shell.execute_reply": "2022-11-24T04:08:31.291685Z"
    }
   },
   "outputs": [
    {
     "name": "stdout",
     "output_type": "stream",
     "text": [
      "<function simulate.<locals>.<lambda> at 0x103962b90>\n"
     ]
    }
   ],
   "source": [
    "import genjax\n",
    "\n",
    "fn = genjax.simulate(genjax.Normal)\n",
    "print(fn)"
   ]
  },
  {
   "cell_type": "code",
   "execution_count": 2,
   "id": "fe68afd3",
   "metadata": {
    "execution": {
     "iopub.execute_input": "2022-11-24T04:08:31.294105Z",
     "iopub.status.busy": "2022-11-24T04:08:31.293908Z",
     "iopub.status.idle": "2022-11-24T04:08:31.535180Z",
     "shell.execute_reply": "2022-11-24T04:08:31.534764Z"
    }
   },
   "outputs": [
    {
     "name": "stdout",
     "output_type": "stream",
     "text": [
      "BuiltinTrace(gen_fn=BuiltinGenerativeFunction(source=<function model at 0x134025ea0>), args=(), retval=DeviceArray(-0.10823099, dtype=float32), choices=BuiltinChoiceMap(inner={'x': DistributionTrace(gen_fn=_Normal(), args=(0.0, 1.0), value=ValueChoiceMap(value=DeviceArray(-0.10823099, dtype=float32)), score=DeviceArray(-0.9247955, dtype=float32))}), score=DeviceArray(-0.9247955, dtype=float32))\n"
     ]
    }
   ],
   "source": [
    "import jax\n",
    "import genjax\n",
    "\n",
    "\n",
    "@genjax.gen\n",
    "def model(key):\n",
    "    key, x = genjax.trace(\"x\", genjax.Normal)(key, (0.0, 1.0))\n",
    "    return key, x\n",
    "\n",
    "\n",
    "key = jax.random.PRNGKey(314159)\n",
    "\n",
    "# Usage here.\n",
    "key, tr = genjax.simulate(model)(key, ())\n",
    "\n",
    "print(tr)"
   ]
  },
  {
   "cell_type": "code",
   "execution_count": 3,
   "id": "f7d9c410",
   "metadata": {
    "execution": {
     "iopub.execute_input": "2022-11-24T04:08:31.537174Z",
     "iopub.status.busy": "2022-11-24T04:08:31.536996Z",
     "iopub.status.idle": "2022-11-24T04:08:31.560687Z",
     "shell.execute_reply": "2022-11-24T04:08:31.560303Z"
    }
   },
   "outputs": [
    {
     "name": "stdout",
     "output_type": "stream",
     "text": [
      "BuiltinTraceType(inner={'x': Reals(shape=())}, return_type=(Reals(shape=()),))\n"
     ]
    }
   ],
   "source": [
    "import jax\n",
    "import genjax\n",
    "\n",
    "\n",
    "@genjax.gen\n",
    "def model(key):\n",
    "    key, x = genjax.trace(\"x\", genjax.Normal)(key, (0.0, 1.0))\n",
    "    return key, x\n",
    "\n",
    "\n",
    "key = jax.random.PRNGKey(314159)\n",
    "\n",
    "# Usage here.\n",
    "trace_type = genjax.get_trace_type(model)(key, ())\n",
    "\n",
    "print(trace_type)"
   ]
  }
 ],
 "metadata": {
  "kernelspec": {
   "display_name": "Python 3 (ipykernel)",
   "language": "python",
   "name": "python3"
  },
  "language_info": {
   "codemirror_mode": {
    "name": "ipython",
    "version": 3
   },
   "file_extension": ".py",
   "mimetype": "text/x-python",
   "name": "python",
   "nbconvert_exporter": "python",
   "pygments_lexer": "ipython3",
   "version": "3.10.8"
  }
 },
 "nbformat": 4,
 "nbformat_minor": 5
}