{
 "cells": [
  {
   "cell_type": "code",
   "execution_count": 1,
   "id": "f2af682e",
   "metadata": {
    "execution": {
     "iopub.execute_input": "2022-10-11T01:51:20.865335Z",
     "iopub.status.busy": "2022-10-11T01:51:20.864825Z",
     "iopub.status.idle": "2022-10-11T01:51:22.053938Z",
     "shell.execute_reply": "2022-10-11T01:51:22.053499Z"
    }
   },
   "outputs": [
    {
     "name": "stdout",
     "output_type": "stream",
     "text": [
      "<function simulate.<locals>.<lambda> at 0x1056c24d0>\n"
     ]
    }
   ],
   "source": [
    "import genjax\n",
    "\n",
    "fn = genjax.simulate(genjax.Normal)\n",
    "print(fn)"
   ]
  },
  {
   "cell_type": "code",
   "execution_count": 2,
   "id": "14c5b566",
   "metadata": {
    "execution": {
     "iopub.execute_input": "2022-10-11T01:51:22.055990Z",
     "iopub.status.busy": "2022-10-11T01:51:22.055781Z",
     "iopub.status.idle": "2022-10-11T01:51:22.306066Z",
     "shell.execute_reply": "2022-10-11T01:51:22.305673Z"
    }
   },
   "outputs": [
    {
     "name": "stdout",
     "output_type": "stream",
     "text": [
      "BuiltinTrace(gen_fn=BuiltinGenerativeFunction(source=<function model at 0x15b383010>), args=(), retval=(DeviceArray(-0.10823099, dtype=float32),), choices=BuiltinChoiceMap(inner={'x': DistributionTrace(gen_fn=_Normal(), args=(0.0, 1.0), value=ValueChoiceMap(value=DeviceArray(-0.10823099, dtype=float32)), score=DeviceArray(-0.9247955, dtype=float32))}), score=DeviceArray(-0.9247955, dtype=float32))\n"
     ]
    }
   ],
   "source": [
    "import jax\n",
    "import genjax\n",
    "\n",
    "\n",
    "@genjax.gen\n",
    "def model(key):\n",
    "    key, x = genjax.trace(\"x\", genjax.Normal)(key, (0.0, 1.0))\n",
    "    return key, x\n",
    "\n",
    "\n",
    "key = jax.random.PRNGKey(314159)\n",
    "\n",
    "# Usage here.\n",
    "key, tr = genjax.simulate(model)(key, ())\n",
    "\n",
    "print(tr)"
   ]
  },
  {
   "cell_type": "code",
   "execution_count": 3,
   "id": "18234d2a",
   "metadata": {
    "execution": {
     "iopub.execute_input": "2022-10-11T01:51:22.308095Z",
     "iopub.status.busy": "2022-10-11T01:51:22.307928Z",
     "iopub.status.idle": "2022-10-11T01:51:22.330551Z",
     "shell.execute_reply": "2022-10-11T01:51:22.330187Z"
    }
   },
   "outputs": [
    {
     "name": "stdout",
     "output_type": "stream",
     "text": [
      "BuiltinTraceType(inner={'x': Reals(shape=())}, return_type=(Reals(shape=()),))\n"
     ]
    }
   ],
   "source": [
    "import jax\n",
    "import genjax\n",
    "\n",
    "\n",
    "@genjax.gen\n",
    "def model(key):\n",
    "    key, x = genjax.trace(\"x\", genjax.Normal)(key, (0.0, 1.0))\n",
    "    return key, x\n",
    "\n",
    "\n",
    "key = jax.random.PRNGKey(314159)\n",
    "\n",
    "# Usage here.\n",
    "trace_type = genjax.get_trace_type(model)(key, ())\n",
    "\n",
    "print(trace_type)"
   ]
  }
 ],
 "metadata": {
  "kernelspec": {
   "display_name": "Python 3 (ipykernel)",
   "language": "python",
   "name": "python3"
  },
  "language_info": {
   "codemirror_mode": {
    "name": "ipython",
    "version": 3
   },
   "file_extension": ".py",
   "mimetype": "text/x-python",
   "name": "python",
   "nbconvert_exporter": "python",
   "pygments_lexer": "ipython3",
   "version": "3.10.6"
  }
 },
 "nbformat": 4,
 "nbformat_minor": 5
}