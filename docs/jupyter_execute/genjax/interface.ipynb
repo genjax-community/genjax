{
 "cells": [
  {
   "cell_type": "code",
   "execution_count": 1,
   "id": "69bb52c5",
   "metadata": {
    "execution": {
     "iopub.execute_input": "2022-10-30T21:58:05.719223Z",
     "iopub.status.busy": "2022-10-30T21:58:05.718863Z",
     "iopub.status.idle": "2022-10-30T21:58:07.017255Z",
     "shell.execute_reply": "2022-10-30T21:58:07.016845Z"
    }
   },
   "outputs": [
    {
     "name": "stdout",
     "output_type": "stream",
     "text": [
      "<function simulate.<locals>.<lambda> at 0x107ff24d0>\n"
     ]
    }
   ],
   "source": [
    "import genjax\n",
    "\n",
    "fn = genjax.simulate(genjax.Normal)\n",
    "print(fn)"
   ]
  },
  {
   "cell_type": "code",
   "execution_count": 2,
   "id": "f8b9d0eb",
   "metadata": {
    "execution": {
     "iopub.execute_input": "2022-10-30T21:58:07.019552Z",
     "iopub.status.busy": "2022-10-30T21:58:07.019167Z",
     "iopub.status.idle": "2022-10-30T21:58:07.267519Z",
     "shell.execute_reply": "2022-10-30T21:58:07.267089Z"
    }
   },
   "outputs": [
    {
     "name": "stdout",
     "output_type": "stream",
     "text": [
      "BuiltinTrace(gen_fn=BuiltinGenerativeFunction(source=<function model at 0x15ff97490>), args=(), retval=(DeviceArray(-0.10823099, dtype=float32),), choices=BuiltinChoiceMap(inner={'x': DistributionTrace(gen_fn=_Normal(), args=(0.0, 1.0), value=ValueChoiceMap(value=DeviceArray(-0.10823099, dtype=float32)), score=DeviceArray(-0.9247955, dtype=float32))}), score=DeviceArray(-0.9247955, dtype=float32))\n"
     ]
    }
   ],
   "source": [
    "import jax\n",
    "import genjax\n",
    "\n",
    "\n",
    "@genjax.gen\n",
    "def model(key):\n",
    "    key, x = genjax.trace(\"x\", genjax.Normal)(key, (0.0, 1.0))\n",
    "    return key, x\n",
    "\n",
    "\n",
    "key = jax.random.PRNGKey(314159)\n",
    "\n",
    "# Usage here.\n",
    "key, tr = genjax.simulate(model)(key, ())\n",
    "\n",
    "print(tr)"
   ]
  },
  {
   "cell_type": "code",
   "execution_count": 3,
   "id": "c58ec5ac",
   "metadata": {
    "execution": {
     "iopub.execute_input": "2022-10-30T21:58:07.269400Z",
     "iopub.status.busy": "2022-10-30T21:58:07.269245Z",
     "iopub.status.idle": "2022-10-30T21:58:07.292823Z",
     "shell.execute_reply": "2022-10-30T21:58:07.292467Z"
    }
   },
   "outputs": [
    {
     "name": "stdout",
     "output_type": "stream",
     "text": [
      "BuiltinTraceType(inner={'x': Reals(shape=())}, return_type=(Reals(shape=()),))\n"
     ]
    }
   ],
   "source": [
    "import jax\n",
    "import genjax\n",
    "\n",
    "\n",
    "@genjax.gen\n",
    "def model(key):\n",
    "    key, x = genjax.trace(\"x\", genjax.Normal)(key, (0.0, 1.0))\n",
    "    return key, x\n",
    "\n",
    "\n",
    "key = jax.random.PRNGKey(314159)\n",
    "\n",
    "# Usage here.\n",
    "trace_type = genjax.get_trace_type(model)(key, ())\n",
    "\n",
    "print(trace_type)"
   ]
  }
 ],
 "metadata": {
  "kernelspec": {
   "display_name": "Python 3 (ipykernel)",
   "language": "python",
   "name": "python3"
  },
  "language_info": {
   "codemirror_mode": {
    "name": "ipython",
    "version": 3
   },
   "file_extension": ".py",
   "mimetype": "text/x-python",
   "name": "python",
   "nbconvert_exporter": "python",
   "pygments_lexer": "ipython3",
   "version": "3.10.6"
  }
 },
 "nbformat": 4,
 "nbformat_minor": 5
}