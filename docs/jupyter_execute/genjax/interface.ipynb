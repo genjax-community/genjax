{
 "cells": [
  {
   "cell_type": "code",
   "execution_count": 1,
   "id": "d39d229d",
   "metadata": {
    "execution": {
     "iopub.execute_input": "2022-11-28T15:27:58.953226Z",
     "iopub.status.busy": "2022-11-28T15:27:58.952898Z",
     "iopub.status.idle": "2022-11-28T15:27:59.529489Z",
     "shell.execute_reply": "2022-11-28T15:27:59.529224Z"
    }
   },
   "outputs": [
    {
     "name": "stdout",
     "output_type": "stream",
     "text": [
      "<function simulate.<locals>.<lambda> at 0x10540b490>\n"
     ]
    }
   ],
   "source": [
    "import genjax\n",
    "fn = genjax.simulate(genjax.Normal)\n",
    "print(fn)"
   ]
  }
 ],
 "metadata": {
  "kernelspec": {
   "display_name": "Python 3 (ipykernel)",
   "language": "python",
   "name": "python3"
  },
  "language_info": {
   "codemirror_mode": {
    "name": "ipython",
    "version": 3
   },
   "file_extension": ".py",
   "mimetype": "text/x-python",
   "name": "python",
   "nbconvert_exporter": "python",
   "pygments_lexer": "ipython3",
   "version": "3.10.8"
  }
 },
 "nbformat": 4,
 "nbformat_minor": 5
}