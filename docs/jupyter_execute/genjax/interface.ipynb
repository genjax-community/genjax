{
 "cells": [
  {
   "cell_type": "code",
   "execution_count": 1,
   "id": "2541f17c",
   "metadata": {
    "execution": {
     "iopub.execute_input": "2022-12-01T01:38:00.902567Z",
     "iopub.status.busy": "2022-12-01T01:38:00.902055Z",
     "iopub.status.idle": "2022-12-01T01:38:01.676086Z",
     "shell.execute_reply": "2022-12-01T01:38:01.675661Z"
    }
   },
   "outputs": [
    {
     "name": "stdout",
     "output_type": "stream",
     "text": [
      "<function simulate.<locals>.<lambda> at 0x1078cb130>\n"
     ]
    }
   ],
   "source": [
    "import genjax\n",
    "\n",
    "fn = genjax.simulate(genjax.Normal)\n",
    "print(fn)"
   ]
  }
 ],
 "metadata": {
  "kernelspec": {
   "display_name": "Python 3 (ipykernel)",
   "language": "python",
   "name": "python3"
  },
  "language_info": {
   "codemirror_mode": {
    "name": "ipython",
    "version": 3
   },
   "file_extension": ".py",
   "mimetype": "text/x-python",
   "name": "python",
   "nbconvert_exporter": "python",
   "pygments_lexer": "ipython3",
   "version": "3.10.8"
  }
 },
 "nbformat": 4,
 "nbformat_minor": 5
}