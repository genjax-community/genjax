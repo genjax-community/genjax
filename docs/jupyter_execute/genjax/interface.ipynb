{
 "cells": [
  {
   "cell_type": "code",
   "execution_count": 1,
   "id": "52db5bd8",
   "metadata": {
    "execution": {
     "iopub.execute_input": "2022-11-28T14:11:28.899073Z",
     "iopub.status.busy": "2022-11-28T14:11:28.898453Z",
     "iopub.status.idle": "2022-11-28T14:11:29.513476Z",
     "shell.execute_reply": "2022-11-28T14:11:29.513186Z"
    }
   },
   "outputs": [
    {
     "name": "stdout",
     "output_type": "stream",
     "text": [
      "<function simulate.<locals>.<lambda> at 0x105813370>\n"
     ]
    }
   ],
   "source": [
    "import genjax\n",
    "\n",
    "fn = genjax.simulate(genjax.Normal)\n",
    "print(fn)"
   ]
  }
 ],
 "metadata": {
  "kernelspec": {
   "display_name": "Python 3 (ipykernel)",
   "language": "python",
   "name": "python3"
  },
  "language_info": {
   "codemirror_mode": {
    "name": "ipython",
    "version": 3
   },
   "file_extension": ".py",
   "mimetype": "text/x-python",
   "name": "python",
   "nbconvert_exporter": "python",
   "pygments_lexer": "ipython3",
   "version": "3.10.8"
  }
 },
 "nbformat": 4,
 "nbformat_minor": 5
}