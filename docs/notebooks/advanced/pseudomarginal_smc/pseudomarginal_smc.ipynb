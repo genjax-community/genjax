{
 "cells": [
  {
   "cell_type": "raw",
   "id": "0b516969-c6ac-4371-b713-2df36415d6bd",
   "metadata": {},
   "source": [
    "---\n",
    "title: Coarse-to-fine structure inference with pseudomarginal SMC\n",
    "date: \"December 1, 2022\"\n",
    "abstract: \"This notebook showcases an advanced modeling application of several Gen-specific ingredients. It combines combinator patterns for structured generative computation, with [the approximate density interface](https://github.com/probcomp/GenProx.jl) using variants of sequential Monte Carlo (SMC) [constructed using a composable mini-language for SMC algorithms](#smc-minilanguage). These ingredients come together to replicate [Feras Saad's 2019 experiments on Bayesian program synthesis for Gaussian process models](https://dl.acm.org/doi/10.1145/3290350) on the GPU.\"\n",
    "---"
   ]
  },
  {
   "cell_type": "code",
   "execution_count": 2,
   "id": "5e1cd8de-fc88-459a-bb5b-ee3bc4088710",
   "metadata": {},
   "outputs": [],
   "source": [
    "import jax\n",
    "import jax.numpy as jnp\n",
    "import jax.tree_util as jtu\n",
    "import numpy as np\n",
    "import matplotlib.pyplot as plt\n",
    "import seaborn as sns\n",
    "import genjax\n",
    "\n",
    "sns.set_theme(style=\"white\")\n",
    "\n",
    "# Pretty printing.\n",
    "console = genjax.pretty(width=70)\n",
    "\n",
    "# Reproducibility.\n",
    "key = jax.random.PRNGKey(314159)"
   ]
  },
  {
   "cell_type": "markdown",
   "id": "411befc5-be7a-46df-a784-3ed54d59a09b",
   "metadata": {},
   "source": [
    "In this notebook, we'll be combining several advanced ingredients of Gen and GenJAX to construct approximate densities induced by customized sequential Monte Carlo (SMC) targeting successively richer approximations to latent structure.\n",
    "\n",
    "The notebook assumes several pre-requisites:\n",
    "\n",
    "* Understanding generative functions, their interfaces, and the math that the interface functions compute.\n",
    "\n",
    "* Understanding generative function combinators, and how `genjax.Recurse` can allow us to express bounded tree-like computations.\n",
    "\n",
    "* Understanding the approximate density interface exposed by `GenProx`, and how we can equip generative functions with inference strategies to define approximate densities."
   ]
  },
  {
   "cell_type": "code",
   "execution_count": null,
   "id": "b34b64b9-73bb-4bf9-8ee7-74aefba715cd",
   "metadata": {},
   "outputs": [],
   "source": []
  }
 ],
 "metadata": {
  "kernelspec": {
   "display_name": "Python 3 (ipykernel)",
   "language": "python",
   "name": "python3"
  },
  "language_info": {
   "codemirror_mode": {
    "name": "ipython",
    "version": 3
   },
   "file_extension": ".py",
   "mimetype": "text/x-python",
   "name": "python",
   "nbconvert_exporter": "python",
   "pygments_lexer": "ipython3",
   "version": "3.11.0"
  }
 },
 "nbformat": 4,
 "nbformat_minor": 5
}
