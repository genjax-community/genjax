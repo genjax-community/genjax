{
 "cells": [
  {
   "cell_type": "raw",
   "id": "40236359-bcaf-4b92-b8d7-e646bf2b6dce",
   "metadata": {},
   "source": [
    "---\n",
    "title: Tree-like generative models with the `Recurse` combinator\n",
    "date: \"December 7, 2022\"\n",
    "callout-appearance: simple\n",
    "abstract: \"In this notebook, we'll cover the design and implementation of `Recurse`: a generative function combinator which supports tree-like generative processes. Compared to the vectorial combinators, `Recurse` has a few more design degrees of freedom. We'll describe the implementation of `Recurse`, the `Recurse` choice map, and its incremental computing properties.\"\n",
    "---"
   ]
  }
 ],
 "metadata": {
  "kernelspec": {
   "display_name": "Python 3 (ipykernel)",
   "language": "python",
   "name": "python3"
  },
  "language_info": {
   "codemirror_mode": {
    "name": "ipython",
    "version": 3
   },
   "file_extension": ".py",
   "mimetype": "text/x-python",
   "name": "python",
   "nbconvert_exporter": "python",
   "pygments_lexer": "ipython3",
   "version": "3.11.0"
  }
 },
 "nbformat": 4,
 "nbformat_minor": 5
}
