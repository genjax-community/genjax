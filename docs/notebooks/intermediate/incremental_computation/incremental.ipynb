{
 "cells": [
  {
   "cell_type": "raw",
   "id": "be057fea-d7f8-4eae-815d-31470d4abe6e",
   "metadata": {},
   "source": [
    "---\n",
    "title: Incremental computation for generative functions\n",
    "date: \"December 1, 2022\"\n",
    "abstract: \"This notebook describes GenJAX's support for incremental computing, focused on the `update` generative function interface method. We also describe the `cache` primitive for the `BuiltinGenerativeFunction` language - which allows storing of deterministic state inside of `BuiltinTrace` instances. We discuss how both incremental computing and `cache` expose optimization opportunities which can be utilized by inference programmers.\"\n",
    "callout-appearance: simple\n",
    "---"
   ]
  },
  {
   "cell_type": "code",
   "execution_count": 1,
   "id": "feb13e84-c9a6-4845-8271-841903b0eb14",
   "metadata": {},
   "outputs": [],
   "source": [
    "import jax\n",
    "import jax.numpy as jnp\n",
    "import jax.tree_util as jtu\n",
    "import numpy as np\n",
    "import matplotlib.pyplot as plt\n",
    "import seaborn as sns\n",
    "import genjax\n",
    "\n",
    "sns.set_theme(style=\"white\")\n",
    "\n",
    "# Pretty printing.\n",
    "console = genjax.pretty(width=80)\n",
    "\n",
    "# Reproducibility.\n",
    "key = jax.random.PRNGKey(314159)"
   ]
  },
  {
   "cell_type": "markdown",
   "id": "10095082-7aca-4809-8fc9-65d7de799047",
   "metadata": {},
   "source": [
    "The `update` interface method for generative functions defines an update operation on traces produced by generative functions. `update` allows the user to provide new constraints, as well as new arguments, and returns an updated trace which is consistent with the new constraints, as well as an incremental importance weight. `update` is used to implement many types of MCMC inference.\n",
    "\n",
    "Depending on the implementation, `update` provides several optimization opportunities. In this notebook, we'll be focused on these opportunities within the implementation of `update` for the `BuiltinGenerativeFunction` language. We'll describe a system which supports incremental computing capabilities using `Diff` propagation.^[Think of a value of `Diff` type as representing a change to a value.] While we'll be focused on the builtin language, this system is also applicable to the combinator implementations of `update`. We'll also describe how we can use this system to support an efficient incremental update operation for `Unfold` combinator."
   ]
  },
  {
   "cell_type": "markdown",
   "id": "2cee0f12-574c-41cf-919f-ce26dac3f559",
   "metadata": {},
   "source": [
    "## What is `update` used for?"
   ]
  },
  {
   "cell_type": "markdown",
   "id": "c4c3e26a-1c4d-4043-80b6-4273fc5004da",
   "metadata": {},
   "source": [
    "Before we discuss how `update` can be optimized, it's worth constructing a simple example to show why optimizing `update` is worthwhile, especially when repeatedly apply MCMC kernels during an inference process."
   ]
  }
 ],
 "metadata": {
  "kernelspec": {
   "display_name": "Python 3 (ipykernel)",
   "language": "python",
   "name": "python3"
  },
  "language_info": {
   "codemirror_mode": {
    "name": "ipython",
    "version": 3
   },
   "file_extension": ".py",
   "mimetype": "text/x-python",
   "name": "python",
   "nbconvert_exporter": "python",
   "pygments_lexer": "ipython3",
   "version": "3.11.0"
  }
 },
 "nbformat": 4,
 "nbformat_minor": 5
}
