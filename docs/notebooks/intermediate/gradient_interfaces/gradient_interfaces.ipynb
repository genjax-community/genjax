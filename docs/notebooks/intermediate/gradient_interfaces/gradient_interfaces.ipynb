{
 "cells": [
  {
   "cell_type": "raw",
   "id": "d3e1fbc1-03e8-4c32-9849-bb9d83c79895",
   "metadata": {},
   "source": [
    "---\n",
    "title: Differentiable programming with GenJAX\n",
    "date: \"December 7, 2022\"\n",
    "abstract: This notebook describes the gradient interfaces exposed by generative function implementors in GenJAX. It also describes `TrainCombinator`, a generative function combinator which exposes the ability to train learnable parameters using gradients with respect to the log joint density of the model.\n",
    "callout-appearance: simple\n",
    "---"
   ]
  },
  {
   "cell_type": "code",
   "execution_count": 1,
   "id": "694af04e-db99-4705-a990-e18b8373dfa0",
   "metadata": {},
   "outputs": [],
   "source": [
    "import jax\n",
    "import jax.numpy as jnp\n",
    "import jax.tree_util as jtu\n",
    "import numpy as np\n",
    "import matplotlib.pyplot as plt\n",
    "import seaborn as sns\n",
    "import genjax\n",
    "from genjax import GenerativeFunction, ChoiceMap, Selection, trace\n",
    "\n",
    "sns.set_theme(style=\"white\")\n",
    "\n",
    "# Pretty printing.\n",
    "console = genjax.pretty(width=70)\n",
    "\n",
    "# Reproducibility.\n",
    "key = jax.random.PRNGKey(314159)"
   ]
  },
  {
   "cell_type": "markdown",
   "id": "d4287478-6467-4988-a760-50efec899125",
   "metadata": {},
   "source": [
    "The generative function interface exposes functionality which allows usage of generative functions for differentiable programming. These interfaces are designed to work seamlessly with `jax.grad` - allowing (even higher-order) gradient computations which are useful for inference algorithms which require gradients and gradient estimators. In this notebook, we'll describe some of these interfaces - as well as their (current, but not forever) limitations. We'll walk through an implementation of MAP estimation, as well as the Metropolis-adjusted Langevin algorithm (MALA) using these interfaces."
   ]
  },
  {
   "cell_type": "markdown",
   "id": "da7f20fd-1e12-41db-897e-f25bb011efbc",
   "metadata": {},
   "source": [
    "## `assess` for exact density evaluation"
   ]
  },
  {
   "cell_type": "markdown",
   "id": "dff24b11-a9de-4520-81ef-0ba23c178c69",
   "metadata": {},
   "source": [
    "`assess` is a generative function interface method which computes log joint density estimates from generative functions. `assess` requires that a user provide a choice map _which completely fills all choices encountered during execution_. Otherwise, it errors.^[And these errors are thrown at JAX trace time, so you'll get an exception before runtime.]\n",
    "\n",
    "If a generative function also draws from untraced randomness - `assess` computes an estimate whose expectation over the distribution of untraced randomness gives the correct log joint density. \n",
    "\n",
    "::: {.callout-important}\n",
    "\n",
    "The gradient interfaces described in this notebook **do not compute** correct or useful estimates when used on generative programs which include untraced randomness.\n",
    "\n",
    ":::"
   ]
  }
 ],
 "metadata": {
  "kernelspec": {
   "display_name": "Python 3 (ipykernel)",
   "language": "python",
   "name": "python3"
  },
  "language_info": {
   "codemirror_mode": {
    "name": "ipython",
    "version": 3
   },
   "file_extension": ".py",
   "mimetype": "text/x-python",
   "name": "python",
   "nbconvert_exporter": "python",
   "pygments_lexer": "ipython3",
   "version": "3.10.8"
  }
 },
 "nbformat": 4,
 "nbformat_minor": 5
}
