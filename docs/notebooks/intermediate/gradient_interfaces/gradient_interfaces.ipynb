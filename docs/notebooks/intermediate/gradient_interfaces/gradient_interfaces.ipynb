{
 "cells": [
  {
   "cell_type": "raw",
   "id": "d3e1fbc1-03e8-4c32-9849-bb9d83c79895",
   "metadata": {},
   "source": [
    "---\n",
    "title: Differentiable programming with GenJAX\n",
    "date: \"December 7, 2022\"\n",
    "abstract: This notebook describes the gradient interfaces exposed by generative function implementors in GenJAX. It also describes `TrainCombinator`, a generative function combinator which exposes interfaces that make it easy to train learnable parameters using gradients with respect to the log joint density of the model. We describe how `TrainCombinator` can be used to perform maximum likelihood optimization, as well as variational family optimization.\n",
    "callout-appearance: simple\n",
    "---"
   ]
  },
  {
   "cell_type": "code",
   "execution_count": 1,
   "id": "694af04e-db99-4705-a990-e18b8373dfa0",
   "metadata": {},
   "outputs": [],
   "source": [
    "import jax\n",
    "import jax.numpy as jnp\n",
    "import jax.tree_util as jtu\n",
    "import numpy as np\n",
    "import dataclasses\n",
    "import matplotlib.pyplot as plt\n",
    "import seaborn as sns\n",
    "import genjax\n",
    "\n",
    "sns.set_theme(style=\"white\")\n",
    "\n",
    "# Pretty printing.\n",
    "console = genjax.pretty(width=80)\n",
    "\n",
    "# Reproducibility.\n",
    "key = jax.random.PRNGKey(314159)"
   ]
  },
  {
   "cell_type": "markdown",
   "id": "d4287478-6467-4988-a760-50efec899125",
   "metadata": {},
   "source": [
    "The generative function interface exposes functionality which allows usage of generative functions for differentiable programming. These interfaces are designed to work seamlessly with `jax.grad` - allowing (even higher-order) gradient computations which are useful for inference algorithms which require gradients and gradient estimators. In this notebook, we'll describe some of these interfaces - as well as their (current, but not forever) limitations. We'll walk through an implementation of MAP estimation, as well as the Metropolis-adjusted Langevin algorithm (MALA) using these interfaces."
   ]
  },
  {
   "cell_type": "markdown",
   "id": "da7f20fd-1e12-41db-897e-f25bb011efbc",
   "metadata": {},
   "source": [
    "## Gradient interfaces"
   ]
  },
  {
   "cell_type": "markdown",
   "id": "d76e3799-0ff3-488a-9d70-7f37b472feb1",
   "metadata": {},
   "source": [
    "Because JAX features best-in-class support for higher-order AD, GenJAX exposes interfaces that compose natively with JAX's interfaces for gradients. The primary interface method which provides `jax.grad`-compatible functions from generative functions is an interface called `unzip`. \n",
    "\n",
    "`unzip` allows a user to provide a key, and a fixed choice map - and it returns a new key and two closures:\n",
    "\n",
    "* The first closure is a \"score\" closure which accepts a choice map as the first argument, and arguments which match the non-`PRNGKey` signature types of the generative function. The score closure returns the exact joint score of the generative function. It computes the exact joint score using an interface called `assess`.^[Caveat: `assess` is not required to return the _exact_ joint score, only an estimate. However, if `jax.grad` is used on estimates - the resulting thing is not a correct gradient estimator. See the important callout below!]\n",
    "* The second closure is a \"retval\" closure which accepts a choice map as the first argument, and arguments which match the non-`PRNGKey` signature types of the generative function. The retval closure executes the generative function constrained using the union of the fixed choice map, and the user provided choice map, and returns the return value of the execution. Here, the return value is also provided by invoking the `assess` interface."
   ]
  },
  {
   "cell_type": "markdown",
   "id": "e1249b43-ad3d-4aad-8f30-d9f511f1862f",
   "metadata": {},
   "source": [
    "So really, `unzip` is syntactic sugar over another interface called `assess`."
   ]
  },
  {
   "cell_type": "markdown",
   "id": "f20a1188-b204-47b0-b1d9-49760a676d74",
   "metadata": {},
   "source": [
    "### `assess` for exact density evaluation"
   ]
  },
  {
   "cell_type": "markdown",
   "id": "dff24b11-a9de-4520-81ef-0ba23c178c69",
   "metadata": {},
   "source": [
    "`assess` is a generative function interface method which computes log joint density estimates from generative functions. `assess` requires that a user provide a choice map _which completely fills all choices encountered during execution_. Otherwise, it errors.^[And these errors are thrown at JAX trace time, so you'll get an exception before runtime.]\n",
    "\n",
    "If a generative function also draws from untraced randomness - `assess` computes an estimate whose expectation over the distribution of untraced randomness gives the correct log joint density. \n",
    "\n",
    "::: {.callout-important}\n",
    "\n",
    "## Correctness of gradient estimators\n",
    "\n",
    "When used on generative functions which include untraced randomness, naively applying `jax.grad` to the closures returned by interfaces described in this notebook **do not compute** gradient estimators which are unbiased with respect to the true gradients.\n",
    "\n",
    "Short: don't use these with untraced randomness. We're working on alternatives.\n",
    "\n",
    ":::"
   ]
  },
  {
   "cell_type": "markdown",
   "id": "e79f1989-0a8d-4177-bf24-40ba39752acd",
   "metadata": {},
   "source": [
    "## A running example"
   ]
  },
  {
   "cell_type": "markdown",
   "id": "8f1916f6-827e-4177-9087-2e6f86b8d53e",
   "metadata": {},
   "source": [
    "Let's consider the following model, which we'll cover in different variations."
   ]
  },
  {
   "cell_type": "code",
   "execution_count": 2,
   "id": "a34cdb9a-a7eb-4e5f-b084-ed874f7fb9de",
   "metadata": {},
   "outputs": [],
   "source": [
    "@genjax.gen\n",
    "def model(key):\n",
    "    key, x_mu = genjax.trace(\"x_mu\", genjax.Uniform)(key, -3.0, 3.0)\n",
    "    key, a = genjax.trace(\"a\", genjax.Uniform)(key, -3.0, 3.0)\n",
    "    key, b = genjax.trace(\"b\", genjax.Uniform)(key, -3.0, 3.0)\n",
    "    key, x = genjax.trace(\"x\", genjax.Normal)(key, x_mu, 1.0)\n",
    "    return genjax.trace(\"y\", genjax.Normal)(key, a * x + b, 1.0)"
   ]
  },
  {
   "cell_type": "markdown",
   "id": "fb17412b-13eb-4cc4-aac2-0a9fbf987038",
   "metadata": {},
   "source": [
    "Here's one neat trick - the `console = genjax.pretty()` exposes a function which can turn any `Jaxpr` into a graph.^[[Thank you  Niklas Schmitz](https://gist.github.com/niklasschmitz/559a1f717f3535db0e26d0edccad0b46).]"
   ]
  },
  {
   "cell_type": "code",
   "execution_count": 3,
   "id": "56bea491-09ee-42a3-8f11-f60b378b942b",
   "metadata": {},
   "outputs": [
    {
     "data": {
      "image/svg+xml": [
       "<?xml version=\"1.0\" encoding=\"UTF-8\" standalone=\"no\"?>\n",
       "<?xml-stylesheet href=\"\n",
       "  data:text/css,\n",
       "  @import url(https://fonts.googleapis.com/css?family=Roboto:400,700);\n",
       "  svg text {\n",
       "    font-family: 'Roboto';\n",
       "  }\n",
       "  .node text {\n",
       "    font-size: 12px;\n",
       "  }\n",
       "\" type=\"text/css\"?>\n",
       "<!DOCTYPE svg PUBLIC \"-//W3C//DTD SVG 1.1//EN\"\n",
       " \"http://www.w3.org/Graphics/SVG/1.1/DTD/svg11.dtd\">\n",
       "<!-- Generated by graphviz version 7.0.4 (20221203.1631)\n",
       " -->\n",
       "<!-- Title: G Pages: 1 -->\n",
       "<svg width=\"554pt\" height=\"517pt\"\n",
       " viewBox=\"0.00 0.00 553.60 517.00\" xmlns=\"http://www.w3.org/2000/svg\" xmlns:xlink=\"http://www.w3.org/1999/xlink\">\n",
       "<g id=\"graph0\" class=\"graph\" transform=\"scale(1 1) rotate(0) translate(4 513)\">\n",
       "<title>G</title>\n",
       "<polygon fill=\"white\" stroke=\"none\" points=\"-4,4 -4,-513 549.6,-513 549.6,4 -4,4\"/>\n",
       "<text text-anchor=\"start\" x=\"247.8\" y=\"-490.8\" font-family=\"Times,serif\" font-weight=\"bold\" font-size=\"19.00\">model</text>\n",
       "<!-- 5902963952 -->\n",
       "<g id=\"node5902963952\" class=\"node\">\n",
       "<title>5902963952</title>\n",
       "<g id=\"a_node5902963952\"><a xlink:title=\" \">\n",
       "<polygon fill=\"#fff26e\" stroke=\"#ffdb13\" points=\"471.6,-408 417.6,-408 417.6,-358 471.6,-358 471.6,-408\"/>\n",
       "<text text-anchor=\"start\" x=\"429.6\" y=\"-393.8\" font-family=\"Times,serif\" font-weight=\"bold\" font-size=\"14.00\">trace</text>\n",
       "<text text-anchor=\"start\" x=\"426.1\" y=\"-379.8\" font-family=\"Times,serif\" font-size=\"14.00\">u32[2]</text>\n",
       "<text text-anchor=\"start\" x=\"430.6\" y=\"-365.8\" font-family=\"Times,serif\" font-size=\"14.00\">f32[]</text>\n",
       "</a>\n",
       "</g>\n",
       "</g>\n",
       "<!-- 5902965152 -->\n",
       "<g id=\"node5902965152\" class=\"node\">\n",
       "<title>5902965152</title>\n",
       "<g id=\"a_node5902965152\"><a xlink:title=\" \">\n",
       "<polygon fill=\"#fff26e\" stroke=\"#ffdb13\" points=\"471.6,-322 417.6,-322 417.6,-272 471.6,-272 471.6,-322\"/>\n",
       "<text text-anchor=\"start\" x=\"429.6\" y=\"-307.8\" font-family=\"Times,serif\" font-weight=\"bold\" font-size=\"14.00\">trace</text>\n",
       "<text text-anchor=\"start\" x=\"426.1\" y=\"-293.8\" font-family=\"Times,serif\" font-size=\"14.00\">u32[2]</text>\n",
       "<text text-anchor=\"start\" x=\"430.6\" y=\"-279.8\" font-family=\"Times,serif\" font-size=\"14.00\">f32[]</text>\n",
       "</a>\n",
       "</g>\n",
       "</g>\n",
       "<!-- 5902963952&#45;&gt;5902965152 -->\n",
       "<g id=\"edge4\" class=\"edge\">\n",
       "<title>5902963952&#45;&gt;5902965152</title>\n",
       "<path fill=\"none\" stroke=\"black\" d=\"M444.6,-357.7C444.6,-350.22 444.6,-341.81 444.6,-333.72\"/>\n",
       "<polygon fill=\"black\" stroke=\"black\" points=\"448.1,-333.76 444.6,-323.76 441.1,-333.76 448.1,-333.76\"/>\n",
       "</g>\n",
       "<!-- 5902965632 -->\n",
       "<g id=\"node5902965632\" class=\"node\">\n",
       "<title>5902965632</title>\n",
       "<g id=\"a_node5902965632\"><a xlink:title=\" \">\n",
       "<polygon fill=\"#fff26e\" stroke=\"#ffdb13\" points=\"471.6,-236 417.6,-236 417.6,-186 471.6,-186 471.6,-236\"/>\n",
       "<text text-anchor=\"start\" x=\"429.6\" y=\"-221.8\" font-family=\"Times,serif\" font-weight=\"bold\" font-size=\"14.00\">trace</text>\n",
       "<text text-anchor=\"start\" x=\"426.1\" y=\"-207.8\" font-family=\"Times,serif\" font-size=\"14.00\">u32[2]</text>\n",
       "<text text-anchor=\"start\" x=\"430.6\" y=\"-193.8\" font-family=\"Times,serif\" font-size=\"14.00\">f32[]</text>\n",
       "</a>\n",
       "</g>\n",
       "</g>\n",
       "<!-- 5902965152&#45;&gt;5902965632 -->\n",
       "<g id=\"edge7\" class=\"edge\">\n",
       "<title>5902965152&#45;&gt;5902965632</title>\n",
       "<path fill=\"none\" stroke=\"black\" d=\"M444.6,-271.7C444.6,-264.22 444.6,-255.81 444.6,-247.72\"/>\n",
       "<polygon fill=\"black\" stroke=\"black\" points=\"448.1,-247.76 444.6,-237.76 441.1,-247.76 448.1,-247.76\"/>\n",
       "</g>\n",
       "<!-- 5902967792 -->\n",
       "<g id=\"node5902967792\" class=\"node\">\n",
       "<title>5902967792</title>\n",
       "<g id=\"a_node5902967792\"><a xlink:title=\" \">\n",
       "<polygon fill=\"#fff26e\" stroke=\"#ffdb13\" points=\"471.6,-150 417.6,-150 417.6,-100 471.6,-100 471.6,-150\"/>\n",
       "<text text-anchor=\"start\" x=\"429.6\" y=\"-135.8\" font-family=\"Times,serif\" font-weight=\"bold\" font-size=\"14.00\">trace</text>\n",
       "<text text-anchor=\"start\" x=\"426.1\" y=\"-121.8\" font-family=\"Times,serif\" font-size=\"14.00\">u32[2]</text>\n",
       "<text text-anchor=\"start\" x=\"430.6\" y=\"-107.8\" font-family=\"Times,serif\" font-size=\"14.00\">f32[]</text>\n",
       "</a>\n",
       "</g>\n",
       "</g>\n",
       "<!-- 5902965632&#45;&gt;5902967792 -->\n",
       "<g id=\"edge10\" class=\"edge\">\n",
       "<title>5902965632&#45;&gt;5902967792</title>\n",
       "<path fill=\"none\" stroke=\"black\" d=\"M444.6,-185.7C444.6,-178.22 444.6,-169.81 444.6,-161.72\"/>\n",
       "<polygon fill=\"black\" stroke=\"black\" points=\"448.1,-161.76 444.6,-151.76 441.1,-161.76 448.1,-161.76\"/>\n",
       "</g>\n",
       "<!-- 5902962992 -->\n",
       "<g id=\"node5902962992\" class=\"node\">\n",
       "<title>5902962992</title>\n",
       "<g id=\"a_node5902962992\"><a xlink:title=\" \">\n",
       "<polygon fill=\"#aabfff\" stroke=\"#0053d6\" stroke-width=\"2\" points=\"479.6,-64 409.6,-64 409.6,0 479.6,0 479.6,-64\"/>\n",
       "<text text-anchor=\"start\" x=\"417.6\" y=\"-49.8\" font-family=\"Times,serif\" font-weight=\"bold\" font-size=\"14.00\">output: 0</text>\n",
       "<text text-anchor=\"start\" x=\"429.6\" y=\"-35.8\" font-family=\"Times,serif\" font-weight=\"bold\" font-size=\"14.00\">trace</text>\n",
       "<text text-anchor=\"start\" x=\"426.1\" y=\"-21.8\" font-family=\"Times,serif\" font-size=\"14.00\">u32[2]</text>\n",
       "<text text-anchor=\"start\" x=\"430.6\" y=\"-7.8\" font-family=\"Times,serif\" font-size=\"14.00\">f32[]</text>\n",
       "</a>\n",
       "</g>\n",
       "</g>\n",
       "<!-- 5902967792&#45;&gt;5902962992 -->\n",
       "<g id=\"edge17\" class=\"edge\">\n",
       "<title>5902967792&#45;&gt;5902962992</title>\n",
       "<path fill=\"none\" stroke=\"black\" d=\"M444.6,-99.61C444.6,-92.24 444.6,-83.92 444.6,-75.72\"/>\n",
       "<polygon fill=\"black\" stroke=\"black\" points=\"448.1,-75.83 444.6,-65.83 441.1,-75.83 448.1,-75.83\"/>\n",
       "</g>\n",
       "<!-- 5902964192 -->\n",
       "<g id=\"node5902964192\" class=\"node\">\n",
       "<title>5902964192</title>\n",
       "<g id=\"a_node5902964192\"><a xlink:title=\" \">\n",
       "<polygon fill=\"#fff26e\" stroke=\"#ffdb13\" points=\"144.6,-229 90.6,-229 90.6,-193 144.6,-193 144.6,-229\"/>\n",
       "<text text-anchor=\"start\" x=\"105.6\" y=\"-214.8\" font-family=\"Times,serif\" font-weight=\"bold\" font-size=\"14.00\">mul</text>\n",
       "<text text-anchor=\"start\" x=\"103.6\" y=\"-200.8\" font-family=\"Times,serif\" font-size=\"14.00\">f32[]</text>\n",
       "</a>\n",
       "</g>\n",
       "</g>\n",
       "<!-- 5902966832 -->\n",
       "<g id=\"node5902966832\" class=\"node\">\n",
       "<title>5902966832</title>\n",
       "<g id=\"a_node5902966832\"><a xlink:title=\" \">\n",
       "<polygon fill=\"#fff26e\" stroke=\"#ffdb13\" points=\"244.6,-143 190.6,-143 190.6,-107 244.6,-107 244.6,-143\"/>\n",
       "<text text-anchor=\"start\" x=\"206.6\" y=\"-128.8\" font-family=\"Times,serif\" font-weight=\"bold\" font-size=\"14.00\">add</text>\n",
       "<text text-anchor=\"start\" x=\"203.6\" y=\"-114.8\" font-family=\"Times,serif\" font-size=\"14.00\">f32[]</text>\n",
       "</a>\n",
       "</g>\n",
       "</g>\n",
       "<!-- 5902964192&#45;&gt;5902966832 -->\n",
       "<g id=\"edge15\" class=\"edge\">\n",
       "<title>5902964192&#45;&gt;5902966832</title>\n",
       "<path fill=\"none\" stroke=\"black\" d=\"M138.32,-192.6C152.8,-180.43 172.34,-164.02 188.39,-150.53\"/>\n",
       "<polygon fill=\"black\" stroke=\"black\" points=\"190.34,-153.47 195.74,-144.36 185.83,-148.11 190.34,-153.47\"/>\n",
       "</g>\n",
       "<!-- 5902966832&#45;&gt;5902962992 -->\n",
       "<g id=\"edge18\" class=\"edge\">\n",
       "<title>5902966832&#45;&gt;5902962992</title>\n",
       "<path fill=\"none\" stroke=\"black\" d=\"M244.98,-113.02C283.08,-97.75 352.58,-69.89 398.69,-51.4\"/>\n",
       "<polygon fill=\"black\" stroke=\"black\" points=\"399.91,-54.68 407.89,-47.71 397.31,-48.19 399.91,-54.68\"/>\n",
       "</g>\n",
       "<!-- 59029644320 -->\n",
       "<g id=\"node59029644320\" class=\"node\">\n",
       "<title>59029644320</title>\n",
       "<polygon fill=\"#ffdeaf\" stroke=\"#ff8a4f\" points=\"473.1,-480 416.1,-480 416.1,-444 473.1,-444 473.1,-480\"/>\n",
       "<text text-anchor=\"start\" x=\"424.1\" y=\"-465.8\" font-family=\"Times,serif\" font-weight=\"bold\" font-size=\"14.00\">args[0]</text>\n",
       "<text text-anchor=\"start\" x=\"426.1\" y=\"-451.8\" font-family=\"Times,serif\" font-size=\"14.00\">u32[2]</text>\n",
       "</g>\n",
       "<!-- 59029644320&#45;&gt;5902963952 -->\n",
       "<g id=\"edge1\" class=\"edge\">\n",
       "<title>59029644320&#45;&gt;5902963952</title>\n",
       "<path fill=\"none\" stroke=\"black\" d=\"M444.6,-443.53C444.6,-436.47 444.6,-428.05 444.6,-419.8\"/>\n",
       "<polygon fill=\"black\" stroke=\"black\" points=\"448.1,-419.92 444.6,-409.92 441.1,-419.92 448.1,-419.92\"/>\n",
       "</g>\n",
       "<!-- 4508318800 -->\n",
       "<g id=\"node9\" class=\"node\">\n",
       "<title>4508318800</title>\n",
       "<polygon fill=\"#e6d6ff\" stroke=\"#a261ff\" points=\"397.6,-480 343.6,-480 343.6,-444 397.6,-444 397.6,-480\"/>\n",
       "<text text-anchor=\"start\" x=\"359.6\" y=\"-459.3\" font-family=\"Times,serif\" font-weight=\"bold\" font-size=\"14.00\">&#45;3.0</text>\n",
       "</g>\n",
       "<!-- 4508318800&#45;&gt;5902963952 -->\n",
       "<g id=\"edge2\" class=\"edge\">\n",
       "<title>4508318800&#45;&gt;5902963952</title>\n",
       "<path fill=\"none\" stroke=\"black\" d=\"M387.39,-443.53C395.03,-435.58 404.32,-425.9 413.18,-416.68\"/>\n",
       "<polygon fill=\"black\" stroke=\"black\" points=\"415.68,-419.13 420.09,-409.5 410.64,-414.28 415.68,-419.13\"/>\n",
       "</g>\n",
       "<!-- 4508318800&#45;&gt;5902965152 -->\n",
       "<g id=\"edge5\" class=\"edge\">\n",
       "<title>4508318800&#45;&gt;5902965152</title>\n",
       "<path fill=\"none\" stroke=\"black\" d=\"M375.84,-443.83C382.43,-423.05 394.59,-387.22 408.6,-358 412.74,-349.36 417.75,-340.34 422.7,-332\"/>\n",
       "<polygon fill=\"black\" stroke=\"black\" points=\"425.64,-333.89 427.85,-323.53 419.66,-330.25 425.64,-333.89\"/>\n",
       "</g>\n",
       "<!-- 4508318800&#45;&gt;5902965632 -->\n",
       "<g id=\"edge8\" class=\"edge\">\n",
       "<title>4508318800&#45;&gt;5902965632</title>\n",
       "<path fill=\"none\" stroke=\"black\" d=\"M371.69,-443.61C374.34,-409.43 382.93,-331.64 408.6,-272 412.35,-263.27 417.17,-254.28 422.05,-246\"/>\n",
       "<polygon fill=\"black\" stroke=\"black\" points=\"424.96,-247.96 427.19,-237.6 418.98,-244.31 424.96,-247.96\"/>\n",
       "</g>\n",
       "<!-- 4508318928 -->\n",
       "<g id=\"node10\" class=\"node\">\n",
       "<title>4508318928</title>\n",
       "<polygon fill=\"#e6d6ff\" stroke=\"#a261ff\" points=\"545.6,-480 491.6,-480 491.6,-444 545.6,-444 545.6,-480\"/>\n",
       "<text text-anchor=\"start\" x=\"509.6\" y=\"-459.3\" font-family=\"Times,serif\" font-weight=\"bold\" font-size=\"14.00\">3.0</text>\n",
       "</g>\n",
       "<!-- 4508318928&#45;&gt;5902963952 -->\n",
       "<g id=\"edge3\" class=\"edge\">\n",
       "<title>4508318928&#45;&gt;5902963952</title>\n",
       "<path fill=\"none\" stroke=\"black\" d=\"M501.8,-443.53C494.16,-435.58 484.87,-425.9 476.01,-416.68\"/>\n",
       "<polygon fill=\"black\" stroke=\"black\" points=\"478.55,-414.28 469.1,-409.5 473.51,-419.13 478.55,-414.28\"/>\n",
       "</g>\n",
       "<!-- 4508318928&#45;&gt;5902965152 -->\n",
       "<g id=\"edge6\" class=\"edge\">\n",
       "<title>4508318928&#45;&gt;5902965152</title>\n",
       "<path fill=\"none\" stroke=\"black\" d=\"M513.35,-443.83C506.76,-423.05 494.6,-387.22 480.6,-358 476.45,-349.36 471.44,-340.34 466.49,-332\"/>\n",
       "<polygon fill=\"black\" stroke=\"black\" points=\"469.53,-330.25 461.34,-323.53 463.55,-333.89 469.53,-330.25\"/>\n",
       "</g>\n",
       "<!-- 4508318928&#45;&gt;5902965632 -->\n",
       "<g id=\"edge9\" class=\"edge\">\n",
       "<title>4508318928&#45;&gt;5902965632</title>\n",
       "<path fill=\"none\" stroke=\"black\" d=\"M517.5,-443.61C514.85,-409.43 506.26,-331.64 480.6,-272 476.84,-263.27 472.02,-254.28 467.14,-246\"/>\n",
       "<polygon fill=\"black\" stroke=\"black\" points=\"470.21,-244.31 462,-237.6 464.23,-247.96 470.21,-244.31\"/>\n",
       "</g>\n",
       "<!-- 5902968512 -->\n",
       "<g id=\"node11\" class=\"node\">\n",
       "<title>5902968512</title>\n",
       "<ellipse fill=\"none\" stroke=\"black\" cx=\"344.6\" cy=\"-211\" rx=\"54.69\" ry=\"18\"/>\n",
       "<text text-anchor=\"middle\" x=\"344.6\" y=\"-207.3\" font-family=\"Times,serif\" font-size=\"14.00\">5902968512</text>\n",
       "</g>\n",
       "<!-- 5902968512&#45;&gt;5902967792 -->\n",
       "<g id=\"edge11\" class=\"edge\">\n",
       "<title>5902968512&#45;&gt;5902967792</title>\n",
       "<path fill=\"none\" stroke=\"black\" d=\"M363.88,-193.8C376.59,-183.12 393.63,-168.81 408.78,-156.08\"/>\n",
       "<polygon fill=\"black\" stroke=\"black\" points=\"410.87,-158.9 416.28,-149.79 406.37,-153.54 410.87,-158.9\"/>\n",
       "</g>\n",
       "<!-- 4508318864 -->\n",
       "<g id=\"node12\" class=\"node\">\n",
       "<title>4508318864</title>\n",
       "<polygon fill=\"#e6d6ff\" stroke=\"#a261ff\" points=\"543.6,-229 489.6,-229 489.6,-193 543.6,-193 543.6,-229\"/>\n",
       "<text text-anchor=\"start\" x=\"507.6\" y=\"-208.3\" font-family=\"Times,serif\" font-weight=\"bold\" font-size=\"14.00\">1.0</text>\n",
       "</g>\n",
       "<!-- 4508318864&#45;&gt;5902967792 -->\n",
       "<g id=\"edge12\" class=\"edge\">\n",
       "<title>4508318864&#45;&gt;5902967792</title>\n",
       "<path fill=\"none\" stroke=\"black\" d=\"M501.68,-192.6C493.34,-182.87 482.67,-170.42 472.82,-158.93\"/>\n",
       "<polygon fill=\"black\" stroke=\"black\" points=\"475.65,-156.85 466.49,-151.54 470.34,-161.41 475.65,-156.85\"/>\n",
       "</g>\n",
       "<!-- 4508318864&#45;&gt;5902962992 -->\n",
       "<g id=\"edge19\" class=\"edge\">\n",
       "<title>4508318864&#45;&gt;5902962992</title>\n",
       "<path fill=\"none\" stroke=\"black\" d=\"M511.91,-192.5C505.78,-170.5 494.2,-131.77 480.6,-100 476.97,-91.54 472.66,-82.73 468.29,-74.37\"/>\n",
       "<polygon fill=\"black\" stroke=\"black\" points=\"471.51,-72.96 463.7,-65.8 465.34,-76.27 471.51,-72.96\"/>\n",
       "</g>\n",
       "<!-- 5902967312 -->\n",
       "<g id=\"node13\" class=\"node\">\n",
       "<title>5902967312</title>\n",
       "<ellipse fill=\"none\" stroke=\"black\" cx=\"54.6\" cy=\"-297\" rx=\"54.69\" ry=\"18\"/>\n",
       "<text text-anchor=\"middle\" x=\"54.6\" y=\"-293.3\" font-family=\"Times,serif\" font-size=\"14.00\">5902967312</text>\n",
       "</g>\n",
       "<!-- 5902967312&#45;&gt;5902964192 -->\n",
       "<g id=\"edge13\" class=\"edge\">\n",
       "<title>5902967312&#45;&gt;5902964192</title>\n",
       "<path fill=\"none\" stroke=\"black\" d=\"M67.34,-279C76.08,-267.35 87.85,-251.67 97.79,-238.4\"/>\n",
       "<polygon fill=\"black\" stroke=\"black\" points=\"100.54,-240.57 103.74,-230.47 94.94,-236.37 100.54,-240.57\"/>\n",
       "</g>\n",
       "<!-- 5902965872 -->\n",
       "<g id=\"node14\" class=\"node\">\n",
       "<title>5902965872</title>\n",
       "<ellipse fill=\"none\" stroke=\"black\" cx=\"181.6\" cy=\"-297\" rx=\"54.69\" ry=\"18\"/>\n",
       "<text text-anchor=\"middle\" x=\"181.6\" y=\"-293.3\" font-family=\"Times,serif\" font-size=\"14.00\">5902965872</text>\n",
       "</g>\n",
       "<!-- 5902965872&#45;&gt;5902964192 -->\n",
       "<g id=\"edge14\" class=\"edge\">\n",
       "<title>5902965872&#45;&gt;5902964192</title>\n",
       "<path fill=\"none\" stroke=\"black\" d=\"M168.95,-279.4C160.01,-267.67 147.85,-251.7 137.6,-238.25\"/>\n",
       "<polygon fill=\"black\" stroke=\"black\" points=\"140.64,-236.47 131.79,-230.63 135.07,-240.71 140.64,-236.47\"/>\n",
       "</g>\n",
       "<!-- 5902969712 -->\n",
       "<g id=\"node15\" class=\"node\">\n",
       "<title>5902969712</title>\n",
       "<ellipse fill=\"none\" stroke=\"black\" cx=\"217.6\" cy=\"-211\" rx=\"54.69\" ry=\"18\"/>\n",
       "<text text-anchor=\"middle\" x=\"217.6\" y=\"-207.3\" font-family=\"Times,serif\" font-size=\"14.00\">5902969712</text>\n",
       "</g>\n",
       "<!-- 5902969712&#45;&gt;5902966832 -->\n",
       "<g id=\"edge16\" class=\"edge\">\n",
       "<title>5902969712&#45;&gt;5902966832</title>\n",
       "<path fill=\"none\" stroke=\"black\" d=\"M217.6,-192.6C217.6,-181.67 217.6,-167.32 217.6,-154.73\"/>\n",
       "<polygon fill=\"black\" stroke=\"black\" points=\"221.1,-154.9 217.6,-144.9 214.1,-154.9 221.1,-154.9\"/>\n",
       "</g>\n",
       "</g>\n",
       "</svg>\n"
      ]
     },
     "execution_count": 3,
     "metadata": {},
     "output_type": "execute_result"
    }
   ],
   "source": [
    "console.graph(model.source, key)"
   ]
  },
  {
   "cell_type": "markdown",
   "id": "97844cd9-b919-4c8f-8994-80b0e6a5b035",
   "metadata": {},
   "source": [
    "And, most importantly, visualizations."
   ]
  },
  {
   "cell_type": "code",
   "execution_count": 4,
   "id": "4be41b6b-1b63-4105-bd38-8c18f74b8851",
   "metadata": {},
   "outputs": [
    {
     "data": {
      "image/png": "[encoded data removed]"
     },
     "metadata": {},
     "output_type": "display_data"
    }
   ],
   "source": [
    "def viz(ax, x, y, **kwargs):\n",
    "    sns.scatterplot(x=x, y=y, ax=ax, **kwargs)\n",
    "\n",
    "\n",
    "f, axes = plt.subplots(3, 3, figsize=(9, 9), sharex=True, sharey=True, dpi=280)\n",
    "jitted = jax.jit(jax.vmap(model.simulate, in_axes=(0, None)))\n",
    "for ax in axes.flatten():\n",
    "    key, *sub_keys = jax.random.split(key, 30 + 1)\n",
    "    sub_keys = jnp.array(sub_keys)\n",
    "    _, tr = jitted(sub_keys, ())\n",
    "    x = tr[\"x\"]\n",
    "    y = tr[\"y\"]\n",
    "    viz(ax, x, y, marker=\".\")\n",
    "\n",
    "plt.show()"
   ]
  },
  {
   "cell_type": "markdown",
   "id": "a3aa2990-0af5-41fd-9897-d610f0c91f14",
   "metadata": {},
   "source": [
    "A nice diffuse prior over points."
   ]
  },
  {
   "cell_type": "markdown",
   "id": "a9c41668-1b68-40f2-ad8a-1ef5ccd22916",
   "metadata": {},
   "source": [
    "## MAP estimation"
   ]
  },
  {
   "cell_type": "markdown",
   "id": "af60c1de-0aef-4648-8692-c4c3bc6f815a",
   "metadata": {},
   "source": [
    "A good first step into the gradient waters is gradient-based maximum a posteriori probability (MAP) estimation. Here's how we write this in GenJAX:"
   ]
  },
  {
   "cell_type": "code",
   "execution_count": 5,
   "id": "5b3b3904-0825-4e87-bc6f-eb1f1b8b5582",
   "metadata": {},
   "outputs": [],
   "source": [
    "@dataclasses.dataclass\n",
    "class MapUpdate(genjax.Pytree):\n",
    "    selection: genjax.Selection\n",
    "    tau: genjax.Float\n",
    "\n",
    "    def flatten(self):\n",
    "        return (self.tau,), (self.selection,)\n",
    "\n",
    "    def apply(self, key, trace):\n",
    "        args = trace.get_args()\n",
    "        gen_fn = trace.get_gen_fn()\n",
    "        key, forward_gradient_trie = gen_fn.choice_grad(key, trace, selection)\n",
    "        forward_values, _ = self.selection.filter(trace)\n",
    "        forward_values = forward_values.strip()\n",
    "        forward_values = jtu.tree_map(\n",
    "            lambda v1, v2: v1 + self.tau * v2,\n",
    "            forward_values,\n",
    "            forward_gradient_trie,\n",
    "        )\n",
    "        key, (_, _, new_trace, _) = gen_fn.update(\n",
    "            key, trace, forward_values, args\n",
    "        )\n",
    "        return key, (new_trace, True)\n",
    "\n",
    "    def __call__(self, key, trace):\n",
    "        return self.apply(key, trace)\n",
    "\n",
    "\n",
    "map_update = MapUpdate"
   ]
  },
  {
   "cell_type": "markdown",
   "id": "08b86e43-7b9f-4d8f-806b-61b29b487f85",
   "metadata": {},
   "source": [
    "Simple, concise - works with any generative function whose addresses in `MapUpdate.selection` are modelled as continuous random variables.\n",
    "\n",
    "From the `Pytree` interface, any instance of `MapUpdate` has a static `selection`, and a `tau` (which determines the gradient step size) which can be dynamic.\n",
    "\n",
    "In inference code, we'd just construct `MapUpdate` before calling it."
   ]
  },
  {
   "cell_type": "code",
   "execution_count": 6,
   "id": "19baf973-6901-4f9b-9944-b91b72348b0f",
   "metadata": {},
   "outputs": [
    {
     "data": {
      "text/html": [
       "<pre style=\"white-space:pre;overflow-x:auto;line-height:normal;font-family:Menlo,'DejaVu Sans Mono',consolas,'Courier New',monospace\">\n",
       "</pre>\n"
      ],
      "text/plain": [
       "\n"
      ]
     },
     "metadata": {},
     "output_type": "display_data"
    },
    {
     "data": {
      "text/html": [
       "<pre style=\"white-space:pre;overflow-x:auto;line-height:normal;font-family:Menlo,'DejaVu Sans Mono',consolas,'Courier New',monospace\">\n",
       "<span style=\"font-weight: bold\">MapUpdate</span>\n",
       "├── <span style=\"color: #000087; text-decoration-color: #000087; font-weight: bold\">selection</span>\n",
       "│   └── <span style=\"font-weight: bold\">BuiltinSelection</span>\n",
       "│       └── <span style=\"color: #000087; text-decoration-color: #000087; font-weight: bold\">inner</span>\n",
       "│           └── <span style=\"font-weight: bold\">HashableDict</span>\n",
       "│               ├── <span style=\"font-weight: bold\">x_mu</span>\n",
       "│               │   └── <span style=\"font-weight: bold\">AllSelection</span>\n",
       "│               ├── <span style=\"font-weight: bold\">a</span>\n",
       "│               │   └── <span style=\"font-weight: bold\">AllSelection</span>\n",
       "│               └── <span style=\"font-weight: bold\">b</span>\n",
       "│                   └── <span style=\"font-weight: bold\">AllSelection</span>\n",
       "└── <span style=\"color: #000087; text-decoration-color: #000087; font-weight: bold\">tau</span>\n",
       "    └── <span style=\"color: #af00ff; text-decoration-color: #af00ff\">(lit) 0.3</span>\n",
       "</pre>\n"
      ],
      "text/plain": [
       "\n",
       "\u001b[1mMapUpdate\u001b[0m\n",
       "├── \u001b[1;38;5;18mselection\u001b[0m\n",
       "│   └── \u001b[1mBuiltinSelection\u001b[0m\n",
       "│       └── \u001b[1;38;5;18minner\u001b[0m\n",
       "│           └── \u001b[1mHashableDict\u001b[0m\n",
       "│               ├── \u001b[1mx_mu\u001b[0m\n",
       "│               │   └── \u001b[1mAllSelection\u001b[0m\n",
       "│               ├── \u001b[1ma\u001b[0m\n",
       "│               │   └── \u001b[1mAllSelection\u001b[0m\n",
       "│               └── \u001b[1mb\u001b[0m\n",
       "│                   └── \u001b[1mAllSelection\u001b[0m\n",
       "└── \u001b[1;38;5;18mtau\u001b[0m\n",
       "    └── \u001b[38;5;129m(lit) 0.3\u001b[0m\n"
      ]
     },
     "metadata": {},
     "output_type": "display_data"
    }
   ],
   "source": [
    "update = map_update(genjax.select([\"x_mu\", \"a\", \"b\"]), 0.3)\n",
    "update"
   ]
  },
  {
   "cell_type": "markdown",
   "id": "801bcf43-7e73-4e83-ae29-663cec67619b",
   "metadata": {},
   "source": [
    "## Exposing learnable modules with `TrainCombinator`"
   ]
  },
  {
   "cell_type": "markdown",
   "id": "4fa3ec19-204e-4f32-afc6-94e911c0a8a9",
   "metadata": {},
   "source": [
    "For learning and variational inference, learnable parameters of model families are an important feature. In GenJAX, we expose a lightweight generative function wrapper around generative functions which accept `learnable_params` as a last argument - this wrapper is called `TrainCombinator`."
   ]
  },
  {
   "cell_type": "code",
   "execution_count": 7,
   "id": "292d2cfa-c622-41c1-8253-dfb93ae71c60",
   "metadata": {},
   "outputs": [
    {
     "data": {
      "text/html": [
       "<pre style=\"white-space:pre;overflow-x:auto;line-height:normal;font-family:Menlo,'DejaVu Sans Mono',consolas,'Courier New',monospace\">\n",
       "</pre>\n"
      ],
      "text/plain": [
       "\n"
      ]
     },
     "metadata": {},
     "output_type": "display_data"
    },
    {
     "data": {
      "text/html": [
       "<pre style=\"white-space:pre;overflow-x:auto;line-height:normal;font-family:Menlo,'DejaVu Sans Mono',consolas,'Courier New',monospace\">\n",
       "<span style=\"font-weight: bold\">TrainCombinator</span>\n",
       "├── <span style=\"color: #000087; text-decoration-color: #000087; font-weight: bold\">inner</span>\n",
       "│   └── <span style=\"font-weight: bold\">BuiltinGenerativeFunction</span>\n",
       "│       └── <span style=\"color: #000087; text-decoration-color: #000087; font-weight: bold\">source</span>\n",
       "│           └── &lt;function model&gt;\n",
       "└── <span style=\"color: #000087; text-decoration-color: #000087; font-weight: bold\">params</span>\n",
       "    └── <span style=\"font-weight: bold\">dict</span>\n",
       "        ├── <span style=\"font-weight: bold\">x_mu</span>\n",
       "        │   └── <span style=\"color: #af00ff; text-decoration-color: #af00ff\">(lit) 0.0</span>\n",
       "        ├── <span style=\"font-weight: bold\">a</span>\n",
       "        │   └── <span style=\"color: #af00ff; text-decoration-color: #af00ff\">(lit) 0.3</span>\n",
       "        └── <span style=\"font-weight: bold\">b</span>\n",
       "            └── <span style=\"color: #af00ff; text-decoration-color: #af00ff\">(lit) 0.4</span>\n",
       "</pre>\n"
      ],
      "text/plain": [
       "\n",
       "\u001b[1mTrainCombinator\u001b[0m\n",
       "├── \u001b[1;38;5;18minner\u001b[0m\n",
       "│   └── \u001b[1mBuiltinGenerativeFunction\u001b[0m\n",
       "│       └── \u001b[1;38;5;18msource\u001b[0m\n",
       "│           └── <function model>\n",
       "└── \u001b[1;38;5;18mparams\u001b[0m\n",
       "    └── \u001b[1mdict\u001b[0m\n",
       "        ├── \u001b[1mx_mu\u001b[0m\n",
       "        │   └── \u001b[38;5;129m(lit) 0.0\u001b[0m\n",
       "        ├── \u001b[1ma\u001b[0m\n",
       "        │   └── \u001b[38;5;129m(lit) 0.3\u001b[0m\n",
       "        └── \u001b[1mb\u001b[0m\n",
       "            └── \u001b[38;5;129m(lit) 0.4\u001b[0m\n"
      ]
     },
     "metadata": {},
     "output_type": "display_data"
    }
   ],
   "source": [
    "params = {\"x_mu\": 0.0, \"a\": 0.3, \"b\": 0.4}\n",
    "\n",
    "\n",
    "@genjax.gen(genjax.TrainCombinator, params=params)\n",
    "def model(key, params):\n",
    "    x_mu = params[\"x_mu\"]\n",
    "    a = params[\"a\"]\n",
    "    b = params[\"b\"]\n",
    "    key, x = genjax.trace(\"x\", genjax.Normal)(key, x_mu, 1.0)\n",
    "    return genjax.trace(\"y\", genjax.Normal)(key, a * x + b, 1.0)\n",
    "\n",
    "\n",
    "model"
   ]
  },
  {
   "cell_type": "markdown",
   "id": "24486bef-761a-4137-a1b3-09b76d35cd0b",
   "metadata": {},
   "source": [
    "`TrainCombinator` is a module-like abstraction which closes over the parameter store passed in and initialized by the constructor. When we call `TrainCombinator`, we don't need to provide the `params` argument - it's handled automatically."
   ]
  },
  {
   "cell_type": "code",
   "execution_count": 8,
   "id": "455cab19-8ef7-4997-93b8-e037f3e38974",
   "metadata": {},
   "outputs": [
    {
     "data": {
      "text/html": [
       "<pre style=\"white-space:pre;overflow-x:auto;line-height:normal;font-family:Menlo,'DejaVu Sans Mono',consolas,'Courier New',monospace\">\n",
       "</pre>\n"
      ],
      "text/plain": [
       "\n"
      ]
     },
     "metadata": {},
     "output_type": "display_data"
    },
    {
     "data": {
      "text/html": [
       "<pre style=\"white-space:pre;overflow-x:auto;line-height:normal;font-family:Menlo,'DejaVu Sans Mono',consolas,'Courier New',monospace\">\n",
       "<span style=\"font-weight: bold\">BuiltinTrace</span>\n",
       "├── <span style=\"color: #000087; text-decoration-color: #000087; font-weight: bold\">gen_fn</span>\n",
       "│   └── <span style=\"font-weight: bold\">BuiltinGenerativeFunction</span>\n",
       "│       └── <span style=\"color: #000087; text-decoration-color: #000087; font-weight: bold\">source</span>\n",
       "│           └── &lt;function model&gt;\n",
       "├── <span style=\"color: #000087; text-decoration-color: #000087; font-weight: bold\">args</span>\n",
       "│   └── <span style=\"font-weight: bold\">tuple</span>\n",
       "│       └── <span style=\"font-weight: bold\">dict</span>\n",
       "│           ├── <span style=\"font-weight: bold\">x_mu</span>\n",
       "│           │   └── <span style=\"color: #af00ff; text-decoration-color: #af00ff\">(lit) 0.0</span>\n",
       "│           ├── <span style=\"font-weight: bold\">a</span>\n",
       "│           │   └── <span style=\"color: #af00ff; text-decoration-color: #af00ff\">(lit) 0.3</span>\n",
       "│           └── <span style=\"font-weight: bold\">b</span>\n",
       "│               └── <span style=\"color: #af00ff; text-decoration-color: #af00ff\">(lit) 0.4</span>\n",
       "├── <span style=\"color: #000087; text-decoration-color: #000087; font-weight: bold\">retval</span>\n",
       "│   └── <span style=\"color: #008787; text-decoration-color: #008787\">f32[]</span>\n",
       "├── <span style=\"color: #000087; text-decoration-color: #000087; font-weight: bold\">choices</span>\n",
       "│   └── <span style=\"font-weight: bold\">BuiltinChoiceMap</span>\n",
       "│       ├── <span style=\"color: #005f00; text-decoration-color: #005f00; font-weight: bold\">x</span>\n",
       "│       │   └── <span style=\"font-weight: bold\">DistributionTrace</span>\n",
       "│       │       ├── <span style=\"color: #000087; text-decoration-color: #000087; font-weight: bold\">gen_fn</span>\n",
       "│       │       │   └── <span style=\"font-weight: bold\">_Normal</span>\n",
       "│       │       ├── <span style=\"color: #000087; text-decoration-color: #000087; font-weight: bold\">args</span>\n",
       "│       │       │   └── <span style=\"font-weight: bold\">tuple</span>\n",
       "│       │       │       ├── <span style=\"color: #af00ff; text-decoration-color: #af00ff\">(lit) 0.0</span>\n",
       "│       │       │       └── <span style=\"color: #af00ff; text-decoration-color: #af00ff\">(lit) 1.0</span>\n",
       "│       │       ├── <span style=\"color: #000087; text-decoration-color: #000087; font-weight: bold\">value</span>\n",
       "│       │       │   └── <span style=\"color: #008787; text-decoration-color: #008787\">f32[]</span>\n",
       "│       │       └── <span style=\"color: #000087; text-decoration-color: #000087; font-weight: bold\">score</span>\n",
       "│       │           └── <span style=\"color: #008787; text-decoration-color: #008787\">f32[]</span>\n",
       "│       └── <span style=\"color: #005f00; text-decoration-color: #005f00; font-weight: bold\">y</span>\n",
       "│           └── <span style=\"font-weight: bold\">DistributionTrace</span>\n",
       "│               ├── <span style=\"color: #000087; text-decoration-color: #000087; font-weight: bold\">gen_fn</span>\n",
       "│               │   └── <span style=\"font-weight: bold\">_Normal</span>\n",
       "│               ├── <span style=\"color: #000087; text-decoration-color: #000087; font-weight: bold\">args</span>\n",
       "│               │   └── <span style=\"font-weight: bold\">tuple</span>\n",
       "│               │       ├── <span style=\"color: #008787; text-decoration-color: #008787\">f32[]</span>\n",
       "│               │       └── <span style=\"color: #af00ff; text-decoration-color: #af00ff\">(lit) 1.0</span>\n",
       "│               ├── <span style=\"color: #000087; text-decoration-color: #000087; font-weight: bold\">value</span>\n",
       "│               │   └── <span style=\"color: #008787; text-decoration-color: #008787\">f32[]</span>\n",
       "│               └── <span style=\"color: #000087; text-decoration-color: #000087; font-weight: bold\">score</span>\n",
       "│                   └── <span style=\"color: #008787; text-decoration-color: #008787\">f32[]</span>\n",
       "├── <span style=\"color: #000087; text-decoration-color: #000087; font-weight: bold\">cache</span>\n",
       "│   └── <span style=\"font-weight: bold\">BuiltinTrie</span>\n",
       "└── <span style=\"color: #000087; text-decoration-color: #000087; font-weight: bold\">score</span>\n",
       "    └── <span style=\"color: #008787; text-decoration-color: #008787\">f32[]</span>\n",
       "</pre>\n"
      ],
      "text/plain": [
       "\n",
       "\u001b[1mBuiltinTrace\u001b[0m\n",
       "├── \u001b[1;38;5;18mgen_fn\u001b[0m\n",
       "│   └── \u001b[1mBuiltinGenerativeFunction\u001b[0m\n",
       "│       └── \u001b[1;38;5;18msource\u001b[0m\n",
       "│           └── <function model>\n",
       "├── \u001b[1;38;5;18margs\u001b[0m\n",
       "│   └── \u001b[1mtuple\u001b[0m\n",
       "│       └── \u001b[1mdict\u001b[0m\n",
       "│           ├── \u001b[1mx_mu\u001b[0m\n",
       "│           │   └── \u001b[38;5;129m(lit) 0.0\u001b[0m\n",
       "│           ├── \u001b[1ma\u001b[0m\n",
       "│           │   └── \u001b[38;5;129m(lit) 0.3\u001b[0m\n",
       "│           └── \u001b[1mb\u001b[0m\n",
       "│               └── \u001b[38;5;129m(lit) 0.4\u001b[0m\n",
       "├── \u001b[1;38;5;18mretval\u001b[0m\n",
       "│   └── \u001b[38;5;30mf32[]\u001b[0m\n",
       "├── \u001b[1;38;5;18mchoices\u001b[0m\n",
       "│   └── \u001b[1mBuiltinChoiceMap\u001b[0m\n",
       "│       ├── \u001b[1;38;5;22mx\u001b[0m\n",
       "│       │   └── \u001b[1mDistributionTrace\u001b[0m\n",
       "│       │       ├── \u001b[1;38;5;18mgen_fn\u001b[0m\n",
       "│       │       │   └── \u001b[1m_Normal\u001b[0m\n",
       "│       │       ├── \u001b[1;38;5;18margs\u001b[0m\n",
       "│       │       │   └── \u001b[1mtuple\u001b[0m\n",
       "│       │       │       ├── \u001b[38;5;129m(lit) 0.0\u001b[0m\n",
       "│       │       │       └── \u001b[38;5;129m(lit) 1.0\u001b[0m\n",
       "│       │       ├── \u001b[1;38;5;18mvalue\u001b[0m\n",
       "│       │       │   └── \u001b[38;5;30mf32[]\u001b[0m\n",
       "│       │       └── \u001b[1;38;5;18mscore\u001b[0m\n",
       "│       │           └── \u001b[38;5;30mf32[]\u001b[0m\n",
       "│       └── \u001b[1;38;5;22my\u001b[0m\n",
       "│           └── \u001b[1mDistributionTrace\u001b[0m\n",
       "│               ├── \u001b[1;38;5;18mgen_fn\u001b[0m\n",
       "│               │   └── \u001b[1m_Normal\u001b[0m\n",
       "│               ├── \u001b[1;38;5;18margs\u001b[0m\n",
       "│               │   └── \u001b[1mtuple\u001b[0m\n",
       "│               │       ├── \u001b[38;5;30mf32[]\u001b[0m\n",
       "│               │       └── \u001b[38;5;129m(lit) 1.0\u001b[0m\n",
       "│               ├── \u001b[1;38;5;18mvalue\u001b[0m\n",
       "│               │   └── \u001b[38;5;30mf32[]\u001b[0m\n",
       "│               └── \u001b[1;38;5;18mscore\u001b[0m\n",
       "│                   └── \u001b[38;5;30mf32[]\u001b[0m\n",
       "├── \u001b[1;38;5;18mcache\u001b[0m\n",
       "│   └── \u001b[1mBuiltinTrie\u001b[0m\n",
       "└── \u001b[1;38;5;18mscore\u001b[0m\n",
       "    └── \u001b[38;5;30mf32[]\u001b[0m\n"
      ]
     },
     "metadata": {},
     "output_type": "display_data"
    }
   ],
   "source": [
    "key, tr = model.simulate(key, ())\n",
    "tr"
   ]
  },
  {
   "cell_type": "markdown",
   "id": "99c905c3-a92b-4ace-bb57-4b83fa0505f5",
   "metadata": {},
   "source": [
    "`TrainCombinator` exposes a convenient interface to a specialized scoring function which accepts `params` evaluation points, and returns the model logpdf.^[Note: because this interface method returns a **function**, we cannot JIT it. However, if we use it to produce a closure and then use that closure inside of code which we JIT, it's fine. As long as an object of **function** type doesn't try to escape across the JAX API boundary.]"
   ]
  },
  {
   "cell_type": "code",
   "execution_count": 9,
   "id": "d2f8be66-57b1-4ebe-8455-04f084224e1c",
   "metadata": {},
   "outputs": [
    {
     "data": {
      "text/html": [
       "<pre style=\"white-space:pre;overflow-x:auto;line-height:normal;font-family:Menlo,'DejaVu Sans Mono',consolas,'Courier New',monospace\"><span style=\"color: #800080; text-decoration-color: #800080; font-weight: bold\">Array</span><span style=\"font-weight: bold\">(</span><span style=\"color: #008080; text-decoration-color: #008080; font-weight: bold\">-2.23104</span>, <span style=\"color: #808000; text-decoration-color: #808000\">dtype</span>=<span style=\"color: #800080; text-decoration-color: #800080\">float32</span><span style=\"font-weight: bold\">)</span>\n",
       "</pre>\n"
      ],
      "text/plain": [
       "\u001b[1;35mArray\u001b[0m\u001b[1m(\u001b[0m\u001b[1;36m-2.23104\u001b[0m, \u001b[33mdtype\u001b[0m=\u001b[35mfloat32\u001b[0m\u001b[1m)\u001b[0m\n"
      ]
     },
     "metadata": {},
     "output_type": "display_data"
    }
   ],
   "source": [
    "key, logpdf = model.score_params(key, tr, params)\n",
    "logpdf"
   ]
  },
  {
   "cell_type": "markdown",
   "id": "8f81cb05-4672-4e43-b193-080dcec97f08",
   "metadata": {},
   "source": [
    "This interface supports batching out of the box."
   ]
  },
  {
   "cell_type": "code",
   "execution_count": 10,
   "id": "deb524c9-40f7-4e44-9132-18c394cf55dd",
   "metadata": {},
   "outputs": [
    {
     "data": {
      "text/html": [
       "<pre style=\"white-space:pre;overflow-x:auto;line-height:normal;font-family:Menlo,'DejaVu Sans Mono',consolas,'Courier New',monospace\">\n",
       "<span style=\"color: #800080; text-decoration-color: #800080; font-weight: bold\">Array</span><span style=\"font-weight: bold\">([</span><span style=\"color: #008080; text-decoration-color: #008080; font-weight: bold\">-3.8144567</span>, <span style=\"color: #008080; text-decoration-color: #008080; font-weight: bold\">-2.815714</span> , <span style=\"color: #008080; text-decoration-color: #008080; font-weight: bold\">-5.4926376</span>, <span style=\"color: #008080; text-decoration-color: #008080; font-weight: bold\">-2.8011963</span>, <span style=\"color: #008080; text-decoration-color: #008080; font-weight: bold\">-2.129803</span> ,\n",
       "       <span style=\"color: #008080; text-decoration-color: #008080; font-weight: bold\">-2.1409318</span>, <span style=\"color: #008080; text-decoration-color: #008080; font-weight: bold\">-3.1518354</span>, <span style=\"color: #008080; text-decoration-color: #008080; font-weight: bold\">-2.1439152</span>, <span style=\"color: #008080; text-decoration-color: #008080; font-weight: bold\">-5.4347057</span>, <span style=\"color: #008080; text-decoration-color: #008080; font-weight: bold\">-2.6018455</span>,\n",
       "       <span style=\"color: #008080; text-decoration-color: #008080; font-weight: bold\">-3.1656373</span>, <span style=\"color: #008080; text-decoration-color: #008080; font-weight: bold\">-2.0671682</span>, <span style=\"color: #008080; text-decoration-color: #008080; font-weight: bold\">-2.4329953</span>, <span style=\"color: #008080; text-decoration-color: #008080; font-weight: bold\">-1.9971607</span>, <span style=\"color: #008080; text-decoration-color: #008080; font-weight: bold\">-2.575321</span> ,\n",
       "       <span style=\"color: #008080; text-decoration-color: #008080; font-weight: bold\">-4.7890406</span>, <span style=\"color: #008080; text-decoration-color: #008080; font-weight: bold\">-1.9236612</span>, <span style=\"color: #008080; text-decoration-color: #008080; font-weight: bold\">-4.565525</span> , <span style=\"color: #008080; text-decoration-color: #008080; font-weight: bold\">-1.8850256</span>, <span style=\"color: #008080; text-decoration-color: #008080; font-weight: bold\">-2.3069606</span>,\n",
       "       <span style=\"color: #008080; text-decoration-color: #008080; font-weight: bold\">-3.8633504</span>, <span style=\"color: #008080; text-decoration-color: #008080; font-weight: bold\">-2.6148465</span>, <span style=\"color: #008080; text-decoration-color: #008080; font-weight: bold\">-3.7199945</span>, <span style=\"color: #008080; text-decoration-color: #008080; font-weight: bold\">-2.1175876</span>, <span style=\"color: #008080; text-decoration-color: #008080; font-weight: bold\">-2.1262648</span>,\n",
       "       <span style=\"color: #008080; text-decoration-color: #008080; font-weight: bold\">-2.054483</span> , <span style=\"color: #008080; text-decoration-color: #008080; font-weight: bold\">-3.177068</span> , <span style=\"color: #008080; text-decoration-color: #008080; font-weight: bold\">-3.0313969</span>, <span style=\"color: #008080; text-decoration-color: #008080; font-weight: bold\">-2.728084</span> , <span style=\"color: #008080; text-decoration-color: #008080; font-weight: bold\">-2.2520533</span>,\n",
       "       <span style=\"color: #008080; text-decoration-color: #008080; font-weight: bold\">-2.1975703</span>, <span style=\"color: #008080; text-decoration-color: #008080; font-weight: bold\">-2.2652159</span>, <span style=\"color: #008080; text-decoration-color: #008080; font-weight: bold\">-2.6274145</span>, <span style=\"color: #008080; text-decoration-color: #008080; font-weight: bold\">-4.6792316</span>, <span style=\"color: #008080; text-decoration-color: #008080; font-weight: bold\">-3.350772</span> ,\n",
       "       <span style=\"color: #008080; text-decoration-color: #008080; font-weight: bold\">-2.11759</span>  , <span style=\"color: #008080; text-decoration-color: #008080; font-weight: bold\">-1.8796927</span>, <span style=\"color: #008080; text-decoration-color: #008080; font-weight: bold\">-2.1535742</span>, <span style=\"color: #008080; text-decoration-color: #008080; font-weight: bold\">-2.9027162</span>, <span style=\"color: #008080; text-decoration-color: #008080; font-weight: bold\">-2.8021445</span>,\n",
       "       <span style=\"color: #008080; text-decoration-color: #008080; font-weight: bold\">-1.8436316</span>, <span style=\"color: #008080; text-decoration-color: #008080; font-weight: bold\">-2.0109618</span>, <span style=\"color: #008080; text-decoration-color: #008080; font-weight: bold\">-3.2952006</span>, <span style=\"color: #008080; text-decoration-color: #008080; font-weight: bold\">-3.639164</span> , <span style=\"color: #008080; text-decoration-color: #008080; font-weight: bold\">-3.4215667</span>,\n",
       "       <span style=\"color: #008080; text-decoration-color: #008080; font-weight: bold\">-2.0921373</span>, <span style=\"color: #008080; text-decoration-color: #008080; font-weight: bold\">-2.396857</span> , <span style=\"color: #008080; text-decoration-color: #008080; font-weight: bold\">-2.0932508</span>, <span style=\"color: #008080; text-decoration-color: #008080; font-weight: bold\">-2.1475265</span>, <span style=\"color: #008080; text-decoration-color: #008080; font-weight: bold\">-3.1193771</span>,\n",
       "       <span style=\"color: #008080; text-decoration-color: #008080; font-weight: bold\">-3.8267322</span>, <span style=\"color: #008080; text-decoration-color: #008080; font-weight: bold\">-3.9804432</span>, <span style=\"color: #008080; text-decoration-color: #008080; font-weight: bold\">-2.4576356</span>, <span style=\"color: #008080; text-decoration-color: #008080; font-weight: bold\">-2.5622692</span>, <span style=\"color: #008080; text-decoration-color: #008080; font-weight: bold\">-2.6809855</span>,\n",
       "       <span style=\"color: #008080; text-decoration-color: #008080; font-weight: bold\">-1.8537362</span>, <span style=\"color: #008080; text-decoration-color: #008080; font-weight: bold\">-3.1646593</span>, <span style=\"color: #008080; text-decoration-color: #008080; font-weight: bold\">-5.1409435</span>, <span style=\"color: #008080; text-decoration-color: #008080; font-weight: bold\">-2.4726286</span>, <span style=\"color: #008080; text-decoration-color: #008080; font-weight: bold\">-3.195097</span> ,\n",
       "       <span style=\"color: #008080; text-decoration-color: #008080; font-weight: bold\">-2.8336267</span>, <span style=\"color: #008080; text-decoration-color: #008080; font-weight: bold\">-4.175909</span> , <span style=\"color: #008080; text-decoration-color: #008080; font-weight: bold\">-2.4823797</span>, <span style=\"color: #008080; text-decoration-color: #008080; font-weight: bold\">-2.3853517</span>, <span style=\"color: #008080; text-decoration-color: #008080; font-weight: bold\">-1.8488611</span>,\n",
       "       <span style=\"color: #008080; text-decoration-color: #008080; font-weight: bold\">-1.8579401</span>, <span style=\"color: #008080; text-decoration-color: #008080; font-weight: bold\">-2.0236623</span>, <span style=\"color: #008080; text-decoration-color: #008080; font-weight: bold\">-2.1991177</span>, <span style=\"color: #008080; text-decoration-color: #008080; font-weight: bold\">-2.6226559</span>, <span style=\"color: #008080; text-decoration-color: #008080; font-weight: bold\">-2.2055511</span>,\n",
       "       <span style=\"color: #008080; text-decoration-color: #008080; font-weight: bold\">-3.5278037</span>, <span style=\"color: #008080; text-decoration-color: #008080; font-weight: bold\">-2.8227391</span>, <span style=\"color: #008080; text-decoration-color: #008080; font-weight: bold\">-3.7910948</span>, <span style=\"color: #008080; text-decoration-color: #008080; font-weight: bold\">-1.999464</span> , <span style=\"color: #008080; text-decoration-color: #008080; font-weight: bold\">-3.8187716</span>,\n",
       "       <span style=\"color: #008080; text-decoration-color: #008080; font-weight: bold\">-2.493269</span> , <span style=\"color: #008080; text-decoration-color: #008080; font-weight: bold\">-3.271794</span> , <span style=\"color: #008080; text-decoration-color: #008080; font-weight: bold\">-7.0014133</span>, <span style=\"color: #008080; text-decoration-color: #008080; font-weight: bold\">-2.9179394</span>, <span style=\"color: #008080; text-decoration-color: #008080; font-weight: bold\">-1.9801328</span>,\n",
       "       <span style=\"color: #008080; text-decoration-color: #008080; font-weight: bold\">-4.78782</span>  , <span style=\"color: #008080; text-decoration-color: #008080; font-weight: bold\">-2.0554748</span>, <span style=\"color: #008080; text-decoration-color: #008080; font-weight: bold\">-2.23625</span>  , <span style=\"color: #008080; text-decoration-color: #008080; font-weight: bold\">-2.8863544</span>, <span style=\"color: #008080; text-decoration-color: #008080; font-weight: bold\">-2.2097282</span>,\n",
       "       <span style=\"color: #008080; text-decoration-color: #008080; font-weight: bold\">-1.893866</span> , <span style=\"color: #008080; text-decoration-color: #008080; font-weight: bold\">-2.391351</span> , <span style=\"color: #008080; text-decoration-color: #008080; font-weight: bold\">-4.4620266</span>, <span style=\"color: #008080; text-decoration-color: #008080; font-weight: bold\">-2.257174</span> , <span style=\"color: #008080; text-decoration-color: #008080; font-weight: bold\">-2.0233703</span>,\n",
       "       <span style=\"color: #008080; text-decoration-color: #008080; font-weight: bold\">-3.2778907</span>, <span style=\"color: #008080; text-decoration-color: #008080; font-weight: bold\">-2.0338364</span>, <span style=\"color: #008080; text-decoration-color: #008080; font-weight: bold\">-4.883012</span> , <span style=\"color: #008080; text-decoration-color: #008080; font-weight: bold\">-2.1722562</span>, <span style=\"color: #008080; text-decoration-color: #008080; font-weight: bold\">-2.2235131</span>,\n",
       "       <span style=\"color: #008080; text-decoration-color: #008080; font-weight: bold\">-6.0483575</span>, <span style=\"color: #008080; text-decoration-color: #008080; font-weight: bold\">-2.5019279</span>, <span style=\"color: #008080; text-decoration-color: #008080; font-weight: bold\">-3.7140136</span>, <span style=\"color: #008080; text-decoration-color: #008080; font-weight: bold\">-3.0524032</span>, <span style=\"color: #008080; text-decoration-color: #008080; font-weight: bold\">-3.1059947</span><span style=\"font-weight: bold\">]</span>,      <span style=\"color: #808000; text-decoration-color: #808000\">dtype</span>=<span style=\"color: #800080; text-decoration-color: #800080\">float32</span><span style=\"font-weight: bold\">)</span>\n",
       "</pre>\n"
      ],
      "text/plain": [
       "\n",
       "\u001b[1;35mArray\u001b[0m\u001b[1m(\u001b[0m\u001b[1m[\u001b[0m\u001b[1;36m-3.8144567\u001b[0m, \u001b[1;36m-2.815714\u001b[0m , \u001b[1;36m-5.4926376\u001b[0m, \u001b[1;36m-2.8011963\u001b[0m, \u001b[1;36m-2.129803\u001b[0m ,\n",
       "       \u001b[1;36m-2.1409318\u001b[0m, \u001b[1;36m-3.1518354\u001b[0m, \u001b[1;36m-2.1439152\u001b[0m, \u001b[1;36m-5.4347057\u001b[0m, \u001b[1;36m-2.6018455\u001b[0m,\n",
       "       \u001b[1;36m-3.1656373\u001b[0m, \u001b[1;36m-2.0671682\u001b[0m, \u001b[1;36m-2.4329953\u001b[0m, \u001b[1;36m-1.9971607\u001b[0m, \u001b[1;36m-2.575321\u001b[0m ,\n",
       "       \u001b[1;36m-4.7890406\u001b[0m, \u001b[1;36m-1.9236612\u001b[0m, \u001b[1;36m-4.565525\u001b[0m , \u001b[1;36m-1.8850256\u001b[0m, \u001b[1;36m-2.3069606\u001b[0m,\n",
       "       \u001b[1;36m-3.8633504\u001b[0m, \u001b[1;36m-2.6148465\u001b[0m, \u001b[1;36m-3.7199945\u001b[0m, \u001b[1;36m-2.1175876\u001b[0m, \u001b[1;36m-2.1262648\u001b[0m,\n",
       "       \u001b[1;36m-2.054483\u001b[0m , \u001b[1;36m-3.177068\u001b[0m , \u001b[1;36m-3.0313969\u001b[0m, \u001b[1;36m-2.728084\u001b[0m , \u001b[1;36m-2.2520533\u001b[0m,\n",
       "       \u001b[1;36m-2.1975703\u001b[0m, \u001b[1;36m-2.2652159\u001b[0m, \u001b[1;36m-2.6274145\u001b[0m, \u001b[1;36m-4.6792316\u001b[0m, \u001b[1;36m-3.350772\u001b[0m ,\n",
       "       \u001b[1;36m-2.11759\u001b[0m  , \u001b[1;36m-1.8796927\u001b[0m, \u001b[1;36m-2.1535742\u001b[0m, \u001b[1;36m-2.9027162\u001b[0m, \u001b[1;36m-2.8021445\u001b[0m,\n",
       "       \u001b[1;36m-1.8436316\u001b[0m, \u001b[1;36m-2.0109618\u001b[0m, \u001b[1;36m-3.2952006\u001b[0m, \u001b[1;36m-3.639164\u001b[0m , \u001b[1;36m-3.4215667\u001b[0m,\n",
       "       \u001b[1;36m-2.0921373\u001b[0m, \u001b[1;36m-2.396857\u001b[0m , \u001b[1;36m-2.0932508\u001b[0m, \u001b[1;36m-2.1475265\u001b[0m, \u001b[1;36m-3.1193771\u001b[0m,\n",
       "       \u001b[1;36m-3.8267322\u001b[0m, \u001b[1;36m-3.9804432\u001b[0m, \u001b[1;36m-2.4576356\u001b[0m, \u001b[1;36m-2.5622692\u001b[0m, \u001b[1;36m-2.6809855\u001b[0m,\n",
       "       \u001b[1;36m-1.8537362\u001b[0m, \u001b[1;36m-3.1646593\u001b[0m, \u001b[1;36m-5.1409435\u001b[0m, \u001b[1;36m-2.4726286\u001b[0m, \u001b[1;36m-3.195097\u001b[0m ,\n",
       "       \u001b[1;36m-2.8336267\u001b[0m, \u001b[1;36m-4.175909\u001b[0m , \u001b[1;36m-2.4823797\u001b[0m, \u001b[1;36m-2.3853517\u001b[0m, \u001b[1;36m-1.8488611\u001b[0m,\n",
       "       \u001b[1;36m-1.8579401\u001b[0m, \u001b[1;36m-2.0236623\u001b[0m, \u001b[1;36m-2.1991177\u001b[0m, \u001b[1;36m-2.6226559\u001b[0m, \u001b[1;36m-2.2055511\u001b[0m,\n",
       "       \u001b[1;36m-3.5278037\u001b[0m, \u001b[1;36m-2.8227391\u001b[0m, \u001b[1;36m-3.7910948\u001b[0m, \u001b[1;36m-1.999464\u001b[0m , \u001b[1;36m-3.8187716\u001b[0m,\n",
       "       \u001b[1;36m-2.493269\u001b[0m , \u001b[1;36m-3.271794\u001b[0m , \u001b[1;36m-7.0014133\u001b[0m, \u001b[1;36m-2.9179394\u001b[0m, \u001b[1;36m-1.9801328\u001b[0m,\n",
       "       \u001b[1;36m-4.78782\u001b[0m  , \u001b[1;36m-2.0554748\u001b[0m, \u001b[1;36m-2.23625\u001b[0m  , \u001b[1;36m-2.8863544\u001b[0m, \u001b[1;36m-2.2097282\u001b[0m,\n",
       "       \u001b[1;36m-1.893866\u001b[0m , \u001b[1;36m-2.391351\u001b[0m , \u001b[1;36m-4.4620266\u001b[0m, \u001b[1;36m-2.257174\u001b[0m , \u001b[1;36m-2.0233703\u001b[0m,\n",
       "       \u001b[1;36m-3.2778907\u001b[0m, \u001b[1;36m-2.0338364\u001b[0m, \u001b[1;36m-4.883012\u001b[0m , \u001b[1;36m-2.1722562\u001b[0m, \u001b[1;36m-2.2235131\u001b[0m,\n",
       "       \u001b[1;36m-6.0483575\u001b[0m, \u001b[1;36m-2.5019279\u001b[0m, \u001b[1;36m-3.7140136\u001b[0m, \u001b[1;36m-3.0524032\u001b[0m, \u001b[1;36m-3.1059947\u001b[0m\u001b[1m]\u001b[0m,      \u001b[33mdtype\u001b[0m=\u001b[35mfloat32\u001b[0m\u001b[1m)\u001b[0m\n"
      ]
     },
     "metadata": {},
     "output_type": "display_data"
    }
   ],
   "source": [
    "key, *sub_keys = jax.random.split(key, 100 + 1)\n",
    "sub_keys = jnp.array(sub_keys)\n",
    "sub_keys, tr = jax.vmap(model.simulate)(sub_keys, ())\n",
    "_, logpdf = jax.vmap(model.score_params, in_axes=(0, 0, None))(\n",
    "    sub_keys, tr, params\n",
    ")\n",
    "logpdf"
   ]
  },
  {
   "cell_type": "markdown",
   "id": "3e14ff74-1f2b-4e3c-8148-7115bb88a6a9",
   "metadata": {},
   "source": [
    "We make extensive use of batch evaluation in variational inference. For now, let's consider maximum likelihood learning and see the other `TrainCombinator` interfaces."
   ]
  },
  {
   "cell_type": "markdown",
   "id": "5d3d0ca5-8111-4c0a-bc0b-f1b92ed3d9e0",
   "metadata": {},
   "source": [
    "## Automatic differentiation variational inference"
   ]
  },
  {
   "cell_type": "markdown",
   "id": "850114a9-3d30-461e-9c54-04f763b7b1c5",
   "metadata": {},
   "source": [
    "In this section, we'll show how we can use the gradient interfaces to implement [Automatic differentiation variational inference](https://arxiv.org/abs/1603.00788)."
   ]
  },
  {
   "cell_type": "code",
   "execution_count": null,
   "id": "27dbbe1e-b509-462d-9983-f72dde5719cf",
   "metadata": {},
   "outputs": [],
   "source": []
  }
 ],
 "metadata": {
  "kernelspec": {
   "display_name": "Python 3 (ipykernel)",
   "language": "python",
   "name": "python3"
  },
  "language_info": {
   "codemirror_mode": {
    "name": "ipython",
    "version": 3
   },
   "file_extension": ".py",
   "mimetype": "text/x-python",
   "name": "python",
   "nbconvert_exporter": "python",
   "pygments_lexer": "ipython3",
   "version": "3.11.0"
  }
 },
 "nbformat": 4,
 "nbformat_minor": 5
}
