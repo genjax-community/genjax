{
 "cells": [
  {
   "cell_type": "raw",
   "id": "83743a0d-5d4a-484d-b227-ac9aabbf4027",
   "metadata": {},
   "source": [
    "---\n",
    "title: Implementing the builtin modeling language\n",
    "date: \"December 7, 2022\"\n",
    "abstract: This notebook covers the design decisions, implementation ingredients, and interface implementations for the builtin modeling language in GenJAX. It assumes familiarity with the generative function interface, as well as JAX's general support for composable interpreters and staging.\n",
    "callout-appearance: simple\n",
    "---"
   ]
  },
  {
   "cell_type": "code",
   "execution_count": null,
   "id": "6c695399-f0c7-4c82-aa68-f40dbdd594d9",
   "metadata": {},
   "outputs": [],
   "source": []
  }
 ],
 "metadata": {
  "kernelspec": {
   "display_name": "Python 3 (ipykernel)",
   "language": "python",
   "name": "python3"
  },
  "language_info": {
   "codemirror_mode": {
    "name": "ipython",
    "version": 3
   },
   "file_extension": ".py",
   "mimetype": "text/x-python",
   "name": "python",
   "nbconvert_exporter": "python",
   "pygments_lexer": "ipython3",
   "version": "3.10.8"
  }
 },
 "nbformat": 4,
 "nbformat_minor": 5
}
