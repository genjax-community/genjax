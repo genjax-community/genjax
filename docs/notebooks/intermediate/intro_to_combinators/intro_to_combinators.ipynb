{
 "cells": [
  {
   "cell_type": "raw",
   "id": "38efe203-02d1-4919-acdd-6632a67ccecf",
   "metadata": {},
   "source": [
    "---\n",
    "title: Introduction to combinators\n",
    "date: \"December 1, 2022\"\n",
    "abstract: \"This notebook is designed to give the reader an introduction to generative function combinators - higher-order functions which accept generative functions and return new generative functions, typically transforming the generative structure to encode a pattern of repeated computation. In this notebook, we focus on vector-shaped combinators - combinators which transform input generative structure into (mapped or scanned) vectorial structure.\"\n",
    "callout-appearance: simple\n",
    "---"
   ]
  },
  {
   "cell_type": "code",
   "execution_count": 1,
   "id": "f63c66e0-c049-4b86-8149-cc5f0089f206",
   "metadata": {},
   "outputs": [],
   "source": [
    "import jax\n",
    "import jax.numpy as jnp\n",
    "import jax.tree_util as jtu\n",
    "import numpy as np\n",
    "import matplotlib.pyplot as plt\n",
    "import seaborn as sns\n",
    "import genjax\n",
    "\n",
    "sns.set_theme(style=\"white\")\n",
    "\n",
    "# Pretty printing.\n",
    "console = genjax.pretty(width=80)\n",
    "\n",
    "# Reproducibility.\n",
    "key = jax.random.PRNGKey(314159)"
   ]
  },
  {
   "cell_type": "markdown",
   "id": "dbb23a8b-e9b0-46bd-a1c1-da46706c02d1",
   "metadata": {},
   "source": [
    "Gen helps probabilistic programmers design and implement models and inference algorithms by automating the (often) complicated inference math. The generative function interface is the key abstraction layer which provides this automation. Generative function language designers can extend the interface to new generative function objects - providing domain-specific patterns and optimizations which users can automatically take advantage of.\n",
    "\n",
    "One key class of generative function languages are _combinators_ - higher-order functions which accept generative functions as input, and produce a new generative function type as an output.\n",
    "\n",
    "Combinators functionally transform the generative structure that we pass into them, expressing useful patterns - including chain-like computations, IID sampling patterns, or generative computations which form grammar-like structures. \n",
    "\n",
    "Combinators also expose optimization opportunities - by registering the patterns as generative functions, implementors (e.g. the library authors) can specialize the implementation of the generative function interface methods. Users of combinators can then take advantage of this interface specialization to express asymptotically optimal updates (useful in e.g. MCMC kernels), or optimized importance weight calculations.\n",
    "\n",
    "In this notebook, we'll be discussing `Unfold` - a combinator for expressing generative computations which are reminiscent of state-space (or Markov) models. To keep things simple, we'll explore a hidden Markov model example - but combinator usage generalizes to models with much richer structure."
   ]
  },
  {
   "cell_type": "markdown",
   "id": "25107e2a-e4cc-4bb5-90bd-13975da03472",
   "metadata": {},
   "source": [
    "## Introducing `Unfold`"
   ]
  },
  {
   "cell_type": "markdown",
   "id": "c3a002e7-aa4c-4500-84ad-c8274a82cced",
   "metadata": {},
   "source": [
    "Let's discuss `Unfold`.^[A quick reminder: when in doubt, you can use the console from `console = genjax.pretty()` to inspect the classes which we discuss in the notebooks.] Below, I'm showing `console.help(genjax.UnfoldCombinator)`."
   ]
  },
  {
   "cell_type": "code",
   "execution_count": 2,
   "id": "242a5a33-7238-4e4d-a7fd-3af6e9ca05ec",
   "metadata": {},
   "outputs": [
    {
     "data": {
      "text/html": [
       "<pre style=\"white-space:pre;overflow-x:auto;line-height:normal;font-family:Menlo,'DejaVu Sans Mono',consolas,'Courier New',monospace\"><span style=\"color: #000080; text-decoration-color: #000080\">╭─ </span><span style=\"color: #000080; text-decoration-color: #000080; font-weight: bold\">&lt;</span><span style=\"color: #ff00ff; text-decoration-color: #ff00ff; font-weight: bold\">class</span><span style=\"color: #000000; text-decoration-color: #000000\"> </span><span style=\"color: #008000; text-decoration-color: #008000\">'genjax.generative_functions.combinators.unfold.UnfoldCombinator'</span><span style=\"color: #000080; text-decoration-color: #000080; font-weight: bold\">&gt;</span><span style=\"color: #000080; text-decoration-color: #000080\"> ──╮</span>\n",
       "<span style=\"color: #000080; text-decoration-color: #000080\">│</span> <span style=\"color: #00ffff; text-decoration-color: #00ffff; font-style: italic\">class </span><span style=\"color: #800000; text-decoration-color: #800000; font-weight: bold\">UnfoldCombinator</span><span style=\"font-weight: bold\">(</span>kernel: genjax.core.datatypes.GenerativeFunction, max <span style=\"color: #000080; text-decoration-color: #000080\">│</span>\n",
       "<span style=\"color: #000080; text-decoration-color: #000080\">│</span>                                                                              <span style=\"color: #000080; text-decoration-color: #000080\">│</span>\n",
       "<span style=\"color: #000080; text-decoration-color: #000080\">│</span> <span style=\"color: #008080; text-decoration-color: #008080\">:code:`UnfoldCombinator` accepts a single kernel generative function</span>         <span style=\"color: #000080; text-decoration-color: #000080\">│</span>\n",
       "<span style=\"color: #000080; text-decoration-color: #000080\">│</span> <span style=\"color: #008080; text-decoration-color: #008080\">as input and a static unroll length which specifies how many iterations</span>      <span style=\"color: #000080; text-decoration-color: #000080\">│</span>\n",
       "<span style=\"color: #000080; text-decoration-color: #000080\">│</span> <span style=\"color: #008080; text-decoration-color: #008080\">to run the chain for.</span>                                                        <span style=\"color: #000080; text-decoration-color: #000080\">│</span>\n",
       "<span style=\"color: #000080; text-decoration-color: #000080\">│</span>                                                                              <span style=\"color: #000080; text-decoration-color: #000080\">│</span>\n",
       "<span style=\"color: #000080; text-decoration-color: #000080\">│</span> <span style=\"color: #008080; text-decoration-color: #008080\">A kernel generative function is one which accepts and returns</span>                <span style=\"color: #000080; text-decoration-color: #000080\">│</span>\n",
       "<span style=\"color: #000080; text-decoration-color: #000080\">│</span> <span style=\"color: #008080; text-decoration-color: #008080\">the same signature of arguments. Under the hood, :code:`UnfoldCombinator`</span>    <span style=\"color: #000080; text-decoration-color: #000080\">│</span>\n",
       "<span style=\"color: #000080; text-decoration-color: #000080\">│</span> <span style=\"color: #008080; text-decoration-color: #008080\">is implemented using :code:`jax.lax.scan` - which has the same</span>               <span style=\"color: #000080; text-decoration-color: #000080\">│</span>\n",
       "<span style=\"color: #000080; text-decoration-color: #000080\">│</span> <span style=\"color: #008080; text-decoration-color: #008080\">requirements.</span>                                                                <span style=\"color: #000080; text-decoration-color: #000080\">│</span>\n",
       "<span style=\"color: #000080; text-decoration-color: #000080\">│</span>                                                                              <span style=\"color: #000080; text-decoration-color: #000080\">│</span>\n",
       "<span style=\"color: #000080; text-decoration-color: #000080\">│</span> <span style=\"color: #008080; text-decoration-color: #008080\">Parameters</span>                                                                   <span style=\"color: #000080; text-decoration-color: #000080\">│</span>\n",
       "<span style=\"color: #000080; text-decoration-color: #000080\">│</span> <span style=\"color: #008080; text-decoration-color: #008080\">----------</span>                                                                   <span style=\"color: #000080; text-decoration-color: #000080\">│</span>\n",
       "<span style=\"color: #000080; text-decoration-color: #000080\">│</span>                                                                              <span style=\"color: #000080; text-decoration-color: #000080\">│</span>\n",
       "<span style=\"color: #000080; text-decoration-color: #000080\">│</span> <span style=\"color: #008080; text-decoration-color: #008080\">gen_fn: :code:`GenerativeFunction`</span>                                           <span style=\"color: #000080; text-decoration-color: #000080\">│</span>\n",
       "<span style=\"color: #000080; text-decoration-color: #000080\">│</span> <span style=\"color: #008080; text-decoration-color: #008080\">    A single *kernel* `GenerativeFunction` instance.</span>                         <span style=\"color: #000080; text-decoration-color: #000080\">│</span>\n",
       "<span style=\"color: #000080; text-decoration-color: #000080\">│</span>                                                                              <span style=\"color: #000080; text-decoration-color: #000080\">│</span>\n",
       "<span style=\"color: #000080; text-decoration-color: #000080\">│</span> <span style=\"color: #008080; text-decoration-color: #008080\">length: :code:`Int`</span>                                                          <span style=\"color: #000080; text-decoration-color: #000080\">│</span>\n",
       "<span style=\"color: #000080; text-decoration-color: #000080\">│</span> <span style=\"color: #008080; text-decoration-color: #008080\">    An integer specifying the unroll length of the chain of applications.</span>    <span style=\"color: #000080; text-decoration-color: #000080\">│</span>\n",
       "<span style=\"color: #000080; text-decoration-color: #000080\">│</span>                                                                              <span style=\"color: #000080; text-decoration-color: #000080\">│</span>\n",
       "<span style=\"color: #000080; text-decoration-color: #000080\">│</span> <span style=\"color: #008080; text-decoration-color: #008080\">Returns</span>                                                                      <span style=\"color: #000080; text-decoration-color: #000080\">│</span>\n",
       "<span style=\"color: #000080; text-decoration-color: #000080\">│</span> <span style=\"color: #008080; text-decoration-color: #008080\">-------</span>                                                                      <span style=\"color: #000080; text-decoration-color: #000080\">│</span>\n",
       "<span style=\"color: #000080; text-decoration-color: #000080\">│</span> <span style=\"color: #008080; text-decoration-color: #008080\">:code:`UnfoldCombinator`</span>                                                     <span style=\"color: #000080; text-decoration-color: #000080\">│</span>\n",
       "<span style=\"color: #000080; text-decoration-color: #000080\">│</span> <span style=\"color: #008080; text-decoration-color: #008080\">    A single :code:`UnfoldCombinator` generative function which</span>              <span style=\"color: #000080; text-decoration-color: #000080\">│</span>\n",
       "<span style=\"color: #000080; text-decoration-color: #000080\">│</span> <span style=\"color: #008080; text-decoration-color: #008080\">    implements the generative function interface using a scan-like</span>           <span style=\"color: #000080; text-decoration-color: #000080\">│</span>\n",
       "<span style=\"color: #000080; text-decoration-color: #000080\">│</span> <span style=\"color: #008080; text-decoration-color: #008080\">    pattern. This generative function will perform a dependent-for</span>           <span style=\"color: #000080; text-decoration-color: #000080\">│</span>\n",
       "<span style=\"color: #000080; text-decoration-color: #000080\">│</span> <span style=\"color: #008080; text-decoration-color: #008080\">    iteration </span><span style=\"color: #008080; text-decoration-color: #008080; font-weight: bold\">(</span><span style=\"color: #008080; text-decoration-color: #008080\">passing the return value of generative function application</span><span style=\"color: #008080; text-decoration-color: #008080; font-weight: bold\">)</span>  <span style=\"color: #000080; text-decoration-color: #000080\">│</span>\n",
       "<span style=\"color: #000080; text-decoration-color: #000080\">│</span> <span style=\"color: #008080; text-decoration-color: #008080\">    to the next iteration for :code:`length` number of steps.</span>                <span style=\"color: #000080; text-decoration-color: #000080\">│</span>\n",
       "<span style=\"color: #000080; text-decoration-color: #000080\">│</span> <span style=\"color: #008080; text-decoration-color: #008080\">    The programmer must provide an initial value to start the chain of</span>       <span style=\"color: #000080; text-decoration-color: #000080\">│</span>\n",
       "<span style=\"color: #000080; text-decoration-color: #000080\">│</span> <span style=\"color: #008080; text-decoration-color: #008080\">    iterations off.</span>                                                          <span style=\"color: #000080; text-decoration-color: #000080\">│</span>\n",
       "<span style=\"color: #000080; text-decoration-color: #000080\">│</span>                                                                              <span style=\"color: #000080; text-decoration-color: #000080\">│</span>\n",
       "<span style=\"color: #000080; text-decoration-color: #000080\">│</span> <span style=\"color: #008080; text-decoration-color: #008080\">Example</span>                                                                      <span style=\"color: #000080; text-decoration-color: #000080\">│</span>\n",
       "<span style=\"color: #000080; text-decoration-color: #000080\">│</span> <span style=\"color: #008080; text-decoration-color: #008080\">-------</span>                                                                      <span style=\"color: #000080; text-decoration-color: #000080\">│</span>\n",
       "<span style=\"color: #000080; text-decoration-color: #000080\">│</span>                                                                              <span style=\"color: #000080; text-decoration-color: #000080\">│</span>\n",
       "<span style=\"color: #000080; text-decoration-color: #000080\">│</span> <span style=\"color: #008080; text-decoration-color: #008080\">.. jupyter-execute::</span>                                                         <span style=\"color: #000080; text-decoration-color: #000080\">│</span>\n",
       "<span style=\"color: #000080; text-decoration-color: #000080\">│</span>                                                                              <span style=\"color: #000080; text-decoration-color: #000080\">│</span>\n",
       "<span style=\"color: #000080; text-decoration-color: #000080\">│</span> <span style=\"color: #008080; text-decoration-color: #008080\">    import jax</span>                                                               <span style=\"color: #000080; text-decoration-color: #000080\">│</span>\n",
       "<span style=\"color: #000080; text-decoration-color: #000080\">│</span> <span style=\"color: #008080; text-decoration-color: #008080\">    import genjax</span>                                                            <span style=\"color: #000080; text-decoration-color: #000080\">│</span>\n",
       "<span style=\"color: #000080; text-decoration-color: #000080\">│</span>                                                                              <span style=\"color: #000080; text-decoration-color: #000080\">│</span>\n",
       "<span style=\"color: #000080; text-decoration-color: #000080\">│</span>                                                                              <span style=\"color: #000080; text-decoration-color: #000080\">│</span>\n",
       "<span style=\"color: #000080; text-decoration-color: #000080\">│</span> <span style=\"color: #008080; text-decoration-color: #008080\">    @genjax.gen</span>                                                              <span style=\"color: #000080; text-decoration-color: #000080\">│</span>\n",
       "<span style=\"color: #000080; text-decoration-color: #000080\">│</span> <span style=\"color: #008080; text-decoration-color: #008080\">    def </span><span style=\"color: #800080; text-decoration-color: #800080; font-weight: bold\">random_walk</span><span style=\"color: #008080; text-decoration-color: #008080; font-weight: bold\">(</span><span style=\"color: #008080; text-decoration-color: #008080\">key, prev</span><span style=\"color: #008080; text-decoration-color: #008080; font-weight: bold\">)</span><span style=\"color: #008080; text-decoration-color: #008080\">:</span>                                              <span style=\"color: #000080; text-decoration-color: #000080\">│</span>\n",
       "<span style=\"color: #000080; text-decoration-color: #000080\">│</span> <span style=\"color: #008080; text-decoration-color: #008080\">        key, x = </span><span style=\"color: #800080; text-decoration-color: #800080; font-weight: bold\">genjax.trace</span><span style=\"color: #008080; text-decoration-color: #008080; font-weight: bold\">(</span><span style=\"color: #008000; text-decoration-color: #008000\">\"x\"</span><span style=\"color: #008080; text-decoration-color: #008080\">, genjax.Normal</span><span style=\"color: #008080; text-decoration-color: #008080; font-weight: bold\">)(</span><span style=\"color: #008080; text-decoration-color: #008080\">key, prev, </span><span style=\"color: #008080; text-decoration-color: #008080; font-weight: bold\">1.0</span><span style=\"color: #008080; text-decoration-color: #008080; font-weight: bold\">)</span>            <span style=\"color: #000080; text-decoration-color: #000080\">│</span>\n",
       "<span style=\"color: #000080; text-decoration-color: #000080\">│</span> <span style=\"color: #008080; text-decoration-color: #008080\">        return </span><span style=\"color: #008080; text-decoration-color: #008080; font-weight: bold\">(</span><span style=\"color: #008080; text-decoration-color: #008080\">key, x</span><span style=\"color: #008080; text-decoration-color: #008080; font-weight: bold\">)</span>                                                      <span style=\"color: #000080; text-decoration-color: #000080\">│</span>\n",
       "<span style=\"color: #000080; text-decoration-color: #000080\">│</span>                                                                              <span style=\"color: #000080; text-decoration-color: #000080\">│</span>\n",
       "<span style=\"color: #000080; text-decoration-color: #000080\">│</span>                                                                              <span style=\"color: #000080; text-decoration-color: #000080\">│</span>\n",
       "<span style=\"color: #000080; text-decoration-color: #000080\">│</span> <span style=\"color: #008080; text-decoration-color: #008080\">    unfold = </span><span style=\"color: #800080; text-decoration-color: #800080; font-weight: bold\">genjax.UnfoldCombinator</span><span style=\"color: #008080; text-decoration-color: #008080; font-weight: bold\">(</span><span style=\"color: #008080; text-decoration-color: #008080\">random_walk, </span><span style=\"color: #008080; text-decoration-color: #008080; font-weight: bold\">1000</span><span style=\"color: #008080; text-decoration-color: #008080; font-weight: bold\">)</span>                      <span style=\"color: #000080; text-decoration-color: #000080\">│</span>\n",
       "<span style=\"color: #000080; text-decoration-color: #000080\">│</span> <span style=\"color: #008080; text-decoration-color: #008080\">    init = </span><span style=\"color: #008080; text-decoration-color: #008080; font-weight: bold\">0.5</span>                                                               <span style=\"color: #000080; text-decoration-color: #000080\">│</span>\n",
       "<span style=\"color: #000080; text-decoration-color: #000080\">│</span> <span style=\"color: #008080; text-decoration-color: #008080\">    key = </span><span style=\"color: #800080; text-decoration-color: #800080; font-weight: bold\">jax.random.PRNGKey</span><span style=\"color: #008080; text-decoration-color: #008080; font-weight: bold\">(</span><span style=\"color: #008080; text-decoration-color: #008080; font-weight: bold\">314159</span><span style=\"color: #008080; text-decoration-color: #008080; font-weight: bold\">)</span>                                         <span style=\"color: #000080; text-decoration-color: #000080\">│</span>\n",
       "<span style=\"color: #000080; text-decoration-color: #000080\">│</span> <span style=\"color: #008080; text-decoration-color: #008080\">    key, tr = </span><span style=\"color: #800080; text-decoration-color: #800080; font-weight: bold\">jax.jit</span><span style=\"color: #008080; text-decoration-color: #008080; font-weight: bold\">(</span><span style=\"color: #800080; text-decoration-color: #800080; font-weight: bold\">genjax.simulate</span><span style=\"color: #008080; text-decoration-color: #008080; font-weight: bold\">(</span><span style=\"color: #008080; text-decoration-color: #008080\">unfold</span><span style=\"color: #008080; text-decoration-color: #008080; font-weight: bold\">))(</span><span style=\"color: #008080; text-decoration-color: #008080\">key, </span><span style=\"color: #008080; text-decoration-color: #008080; font-weight: bold\">(</span><span style=\"color: #008080; text-decoration-color: #008080; font-weight: bold\">999</span><span style=\"color: #008080; text-decoration-color: #008080\">, init</span><span style=\"color: #008080; text-decoration-color: #008080; font-weight: bold\">))</span>             <span style=\"color: #000080; text-decoration-color: #000080\">│</span>\n",
       "<span style=\"color: #000080; text-decoration-color: #000080\">│</span> <span style=\"color: #008080; text-decoration-color: #008080\">    </span><span style=\"color: #800080; text-decoration-color: #800080; font-weight: bold\">print</span><span style=\"color: #008080; text-decoration-color: #008080; font-weight: bold\">(</span><span style=\"color: #008080; text-decoration-color: #008080\">tr</span><span style=\"color: #008080; text-decoration-color: #008080; font-weight: bold\">)</span>                                                                <span style=\"color: #000080; text-decoration-color: #000080\">│</span>\n",
       "<span style=\"color: #000080; text-decoration-color: #000080\">│</span>                                                                              <span style=\"color: #000080; text-decoration-color: #000080\">│</span>\n",
       "<span style=\"color: #000080; text-decoration-color: #000080\">│</span>         <span style=\"color: #808000; text-decoration-color: #808000; font-style: italic\">assess</span> = <span style=\"color: #00ffff; text-decoration-color: #00ffff; font-style: italic\">def </span><span style=\"color: #800000; text-decoration-color: #800000; font-weight: bold\">assess</span><span style=\"font-weight: bold\">(</span>self, key, chm, args<span style=\"font-weight: bold\">)</span>:                           <span style=\"color: #000080; text-decoration-color: #000080\">│</span>\n",
       "<span style=\"color: #000080; text-decoration-color: #000080\">│</span>        <span style=\"color: #808000; text-decoration-color: #808000; font-style: italic\">flatten</span> = <span style=\"color: #00ffff; text-decoration-color: #00ffff; font-style: italic\">def </span><span style=\"color: #800000; text-decoration-color: #800000; font-weight: bold\">flatten</span><span style=\"font-weight: bold\">(</span>self<span style=\"font-weight: bold\">)</span>:                                          <span style=\"color: #000080; text-decoration-color: #000080\">│</span>\n",
       "<span style=\"color: #000080; text-decoration-color: #000080\">│</span> <span style=\"color: #808000; text-decoration-color: #808000; font-style: italic\">get_trace_type</span> = <span style=\"color: #00ffff; text-decoration-color: #00ffff; font-style: italic\">def </span><span style=\"color: #800000; text-decoration-color: #800000; font-weight: bold\">get_trace_type</span><span style=\"font-weight: bold\">(</span>self, key, args, **kwargs<span style=\"font-weight: bold\">)</span>:              <span style=\"color: #000080; text-decoration-color: #000080\">│</span>\n",
       "<span style=\"color: #000080; text-decoration-color: #000080\">│</span>     <span style=\"color: #808000; text-decoration-color: #808000; font-style: italic\">importance</span> = <span style=\"color: #00ffff; text-decoration-color: #00ffff; font-style: italic\">def </span><span style=\"color: #800000; text-decoration-color: #800000; font-weight: bold\">importance</span><span style=\"font-weight: bold\">(</span>self, key, chm, args<span style=\"font-weight: bold\">)</span>:                       <span style=\"color: #000080; text-decoration-color: #000080\">│</span>\n",
       "<span style=\"color: #000080; text-decoration-color: #000080\">│</span>       <span style=\"color: #808000; text-decoration-color: #808000; font-style: italic\">simulate</span> = <span style=\"color: #00ffff; text-decoration-color: #00ffff; font-style: italic\">def </span><span style=\"color: #800000; text-decoration-color: #800000; font-weight: bold\">simulate</span><span style=\"font-weight: bold\">(</span>self, key, args<span style=\"font-weight: bold\">)</span>:                              <span style=\"color: #000080; text-decoration-color: #000080\">│</span>\n",
       "<span style=\"color: #000080; text-decoration-color: #000080\">│</span>      <span style=\"color: #808000; text-decoration-color: #808000; font-style: italic\">unflatten</span> = <span style=\"color: #00ffff; text-decoration-color: #00ffff; font-style: italic\">def </span><span style=\"color: #800000; text-decoration-color: #800000; font-weight: bold\">unflatten</span><span style=\"font-weight: bold\">(</span>data, xs<span style=\"font-weight: bold\">)</span>:                                    <span style=\"color: #000080; text-decoration-color: #000080\">│</span>\n",
       "<span style=\"color: #000080; text-decoration-color: #000080\">│</span>          <span style=\"color: #808000; text-decoration-color: #808000; font-style: italic\">unzip</span> = <span style=\"color: #00ffff; text-decoration-color: #00ffff; font-style: italic\">def </span><span style=\"color: #800000; text-decoration-color: #800000; font-weight: bold\">unzip</span><span style=\"font-weight: bold\">(</span>self, key: jaxtyping.Integer<span style=\"font-weight: bold\">[</span>Array, <span style=\"color: #008000; text-decoration-color: #008000\">'...'</span><span style=\"font-weight: bold\">]</span>,       <span style=\"color: #000080; text-decoration-color: #000080\">│</span>\n",
       "<span style=\"color: #000080; text-decoration-color: #000080\">│</span>                  fixed: genjax.core.datatypes.ChoiceMap<span style=\"font-weight: bold\">)</span> -&gt;                  <span style=\"color: #000080; text-decoration-color: #000080\">│</span>\n",
       "<span style=\"color: #000080; text-decoration-color: #000080\">│</span>                  Tuple<span style=\"font-weight: bold\">[</span>jaxInteger<span style=\"font-weight: bold\">[</span>Array, <span style=\"color: #008000; text-decoration-color: #008000\">'...'</span><span style=\"font-weight: bold\">]</span>,                             <span style=\"color: #000080; text-decoration-color: #000080\">│</span>\n",
       "<span style=\"color: #000080; text-decoration-color: #000080\">│</span>                  Callable<span style=\"font-weight: bold\">[[</span>genjax.core.datatypes.ChoiceMap, Tuple<span style=\"font-weight: bold\">]</span>, float<span style=\"font-weight: bold\">]</span>,  <span style=\"color: #000080; text-decoration-color: #000080\">│</span>\n",
       "<span style=\"color: #000080; text-decoration-color: #000080\">│</span>                  Callable<span style=\"font-weight: bold\">[[</span>genjax.core.datatypes.ChoiceMap, Tuple<span style=\"font-weight: bold\">]</span>, Any<span style=\"font-weight: bold\">]]</span>:   <span style=\"color: #000080; text-decoration-color: #000080\">│</span>\n",
       "<span style=\"color: #000080; text-decoration-color: #000080\">│</span>         <span style=\"color: #808000; text-decoration-color: #808000; font-style: italic\">update</span> = <span style=\"color: #00ffff; text-decoration-color: #00ffff; font-style: italic\">def </span><span style=\"color: #800000; text-decoration-color: #800000; font-weight: bold\">update</span><span style=\"font-weight: bold\">(</span>self, key, prev, chm, diffs<span style=\"font-weight: bold\">)</span>:                    <span style=\"color: #000080; text-decoration-color: #000080\">│</span>\n",
       "<span style=\"color: #000080; text-decoration-color: #000080\">╰──────────────────────────────────────────────────────────────────────────────╯</span>\n",
       "</pre>\n"
      ],
      "text/plain": [
       "\u001b[34m╭─\u001b[0m\u001b[34m \u001b[0m\u001b[1;34m<\u001b[0m\u001b[1;95mclass\u001b[0m\u001b[39m \u001b[0m\u001b[32m'genjax.generative_functions.combinators.unfold.UnfoldCombinator'\u001b[0m\u001b[1;34m>\u001b[0m\u001b[34m \u001b[0m\u001b[34m─\u001b[0m\u001b[34m─╮\u001b[0m\n",
       "\u001b[34m│\u001b[0m \u001b[3;96mclass \u001b[0m\u001b[1;31mUnfoldCombinator\u001b[0m\u001b[1m(\u001b[0mkernel: genjax.core.datatypes.GenerativeFunction, max \u001b[34m│\u001b[0m\n",
       "\u001b[34m│\u001b[0m                                                                              \u001b[34m│\u001b[0m\n",
       "\u001b[34m│\u001b[0m \u001b[36m:code:`UnfoldCombinator` accepts a single kernel generative function\u001b[0m         \u001b[34m│\u001b[0m\n",
       "\u001b[34m│\u001b[0m \u001b[36mas input and a static unroll length which specifies how many iterations\u001b[0m      \u001b[34m│\u001b[0m\n",
       "\u001b[34m│\u001b[0m \u001b[36mto run the chain for.\u001b[0m                                                        \u001b[34m│\u001b[0m\n",
       "\u001b[34m│\u001b[0m                                                                              \u001b[34m│\u001b[0m\n",
       "\u001b[34m│\u001b[0m \u001b[36mA kernel generative function is one which accepts and returns\u001b[0m                \u001b[34m│\u001b[0m\n",
       "\u001b[34m│\u001b[0m \u001b[36mthe same signature of arguments. Under the hood, :code:`UnfoldCombinator`\u001b[0m    \u001b[34m│\u001b[0m\n",
       "\u001b[34m│\u001b[0m \u001b[36mis implemented using :code:`jax.lax.scan` - which has the same\u001b[0m               \u001b[34m│\u001b[0m\n",
       "\u001b[34m│\u001b[0m \u001b[36mrequirements.\u001b[0m                                                                \u001b[34m│\u001b[0m\n",
       "\u001b[34m│\u001b[0m                                                                              \u001b[34m│\u001b[0m\n",
       "\u001b[34m│\u001b[0m \u001b[36mParameters\u001b[0m                                                                   \u001b[34m│\u001b[0m\n",
       "\u001b[34m│\u001b[0m \u001b[36m----------\u001b[0m                                                                   \u001b[34m│\u001b[0m\n",
       "\u001b[34m│\u001b[0m                                                                              \u001b[34m│\u001b[0m\n",
       "\u001b[34m│\u001b[0m \u001b[36mgen_fn: :code:`GenerativeFunction`\u001b[0m                                           \u001b[34m│\u001b[0m\n",
       "\u001b[34m│\u001b[0m \u001b[36m    A single *kernel* `GenerativeFunction` instance.\u001b[0m                         \u001b[34m│\u001b[0m\n",
       "\u001b[34m│\u001b[0m                                                                              \u001b[34m│\u001b[0m\n",
       "\u001b[34m│\u001b[0m \u001b[36mlength: :code:`Int`\u001b[0m                                                          \u001b[34m│\u001b[0m\n",
       "\u001b[34m│\u001b[0m \u001b[36m    An integer specifying the unroll length of the chain of applications.\u001b[0m    \u001b[34m│\u001b[0m\n",
       "\u001b[34m│\u001b[0m                                                                              \u001b[34m│\u001b[0m\n",
       "\u001b[34m│\u001b[0m \u001b[36mReturns\u001b[0m                                                                      \u001b[34m│\u001b[0m\n",
       "\u001b[34m│\u001b[0m \u001b[36m-------\u001b[0m                                                                      \u001b[34m│\u001b[0m\n",
       "\u001b[34m│\u001b[0m \u001b[36m:code:`UnfoldCombinator`\u001b[0m                                                     \u001b[34m│\u001b[0m\n",
       "\u001b[34m│\u001b[0m \u001b[36m    A single :code:`UnfoldCombinator` generative function which\u001b[0m              \u001b[34m│\u001b[0m\n",
       "\u001b[34m│\u001b[0m \u001b[36m    implements the generative function interface using a scan-like\u001b[0m           \u001b[34m│\u001b[0m\n",
       "\u001b[34m│\u001b[0m \u001b[36m    pattern. This generative function will perform a dependent-for\u001b[0m           \u001b[34m│\u001b[0m\n",
       "\u001b[34m│\u001b[0m \u001b[36m    iteration \u001b[0m\u001b[1;36m(\u001b[0m\u001b[36mpassing the return value of generative function application\u001b[0m\u001b[1;36m)\u001b[0m  \u001b[34m│\u001b[0m\n",
       "\u001b[34m│\u001b[0m \u001b[36m    to the next iteration for :code:`length` number of steps.\u001b[0m                \u001b[34m│\u001b[0m\n",
       "\u001b[34m│\u001b[0m \u001b[36m    The programmer must provide an initial value to start the chain of\u001b[0m       \u001b[34m│\u001b[0m\n",
       "\u001b[34m│\u001b[0m \u001b[36m    iterations off.\u001b[0m                                                          \u001b[34m│\u001b[0m\n",
       "\u001b[34m│\u001b[0m                                                                              \u001b[34m│\u001b[0m\n",
       "\u001b[34m│\u001b[0m \u001b[36mExample\u001b[0m                                                                      \u001b[34m│\u001b[0m\n",
       "\u001b[34m│\u001b[0m \u001b[36m-------\u001b[0m                                                                      \u001b[34m│\u001b[0m\n",
       "\u001b[34m│\u001b[0m                                                                              \u001b[34m│\u001b[0m\n",
       "\u001b[34m│\u001b[0m \u001b[36m.. jupyter-execute::\u001b[0m                                                         \u001b[34m│\u001b[0m\n",
       "\u001b[34m│\u001b[0m                                                                              \u001b[34m│\u001b[0m\n",
       "\u001b[34m│\u001b[0m \u001b[36m    import jax\u001b[0m                                                               \u001b[34m│\u001b[0m\n",
       "\u001b[34m│\u001b[0m \u001b[36m    import genjax\u001b[0m                                                            \u001b[34m│\u001b[0m\n",
       "\u001b[34m│\u001b[0m                                                                              \u001b[34m│\u001b[0m\n",
       "\u001b[34m│\u001b[0m                                                                              \u001b[34m│\u001b[0m\n",
       "\u001b[34m│\u001b[0m \u001b[36m    @genjax.gen\u001b[0m                                                              \u001b[34m│\u001b[0m\n",
       "\u001b[34m│\u001b[0m \u001b[36m    def \u001b[0m\u001b[1;35mrandom_walk\u001b[0m\u001b[1;36m(\u001b[0m\u001b[36mkey, prev\u001b[0m\u001b[1;36m)\u001b[0m\u001b[36m:\u001b[0m                                              \u001b[34m│\u001b[0m\n",
       "\u001b[34m│\u001b[0m \u001b[36m        key, x = \u001b[0m\u001b[1;35mgenjax.trace\u001b[0m\u001b[1;36m(\u001b[0m\u001b[32m\"x\"\u001b[0m\u001b[36m, genjax.Normal\u001b[0m\u001b[1;36m)\u001b[0m\u001b[1;36m(\u001b[0m\u001b[36mkey, prev, \u001b[0m\u001b[1;36m1.0\u001b[0m\u001b[1;36m)\u001b[0m            \u001b[34m│\u001b[0m\n",
       "\u001b[34m│\u001b[0m \u001b[36m        return \u001b[0m\u001b[1;36m(\u001b[0m\u001b[36mkey, x\u001b[0m\u001b[1;36m)\u001b[0m                                                      \u001b[34m│\u001b[0m\n",
       "\u001b[34m│\u001b[0m                                                                              \u001b[34m│\u001b[0m\n",
       "\u001b[34m│\u001b[0m                                                                              \u001b[34m│\u001b[0m\n",
       "\u001b[34m│\u001b[0m \u001b[36m    unfold = \u001b[0m\u001b[1;35mgenjax.UnfoldCombinator\u001b[0m\u001b[1;36m(\u001b[0m\u001b[36mrandom_walk, \u001b[0m\u001b[1;36m1000\u001b[0m\u001b[1;36m)\u001b[0m                      \u001b[34m│\u001b[0m\n",
       "\u001b[34m│\u001b[0m \u001b[36m    init = \u001b[0m\u001b[1;36m0.5\u001b[0m                                                               \u001b[34m│\u001b[0m\n",
       "\u001b[34m│\u001b[0m \u001b[36m    key = \u001b[0m\u001b[1;35mjax.random.PRNGKey\u001b[0m\u001b[1;36m(\u001b[0m\u001b[1;36m314159\u001b[0m\u001b[1;36m)\u001b[0m                                         \u001b[34m│\u001b[0m\n",
       "\u001b[34m│\u001b[0m \u001b[36m    key, tr = \u001b[0m\u001b[1;35mjax.jit\u001b[0m\u001b[1;36m(\u001b[0m\u001b[1;35mgenjax.simulate\u001b[0m\u001b[1;36m(\u001b[0m\u001b[36munfold\u001b[0m\u001b[1;36m)\u001b[0m\u001b[1;36m)\u001b[0m\u001b[1;36m(\u001b[0m\u001b[36mkey, \u001b[0m\u001b[1;36m(\u001b[0m\u001b[1;36m999\u001b[0m\u001b[36m, init\u001b[0m\u001b[1;36m)\u001b[0m\u001b[1;36m)\u001b[0m             \u001b[34m│\u001b[0m\n",
       "\u001b[34m│\u001b[0m \u001b[36m    \u001b[0m\u001b[1;35mprint\u001b[0m\u001b[1;36m(\u001b[0m\u001b[36mtr\u001b[0m\u001b[1;36m)\u001b[0m                                                                \u001b[34m│\u001b[0m\n",
       "\u001b[34m│\u001b[0m                                                                              \u001b[34m│\u001b[0m\n",
       "\u001b[34m│\u001b[0m         \u001b[3;33massess\u001b[0m = \u001b[3;96mdef \u001b[0m\u001b[1;31massess\u001b[0m\u001b[1m(\u001b[0mself, key, chm, args\u001b[1m)\u001b[0m:                           \u001b[34m│\u001b[0m\n",
       "\u001b[34m│\u001b[0m        \u001b[3;33mflatten\u001b[0m = \u001b[3;96mdef \u001b[0m\u001b[1;31mflatten\u001b[0m\u001b[1m(\u001b[0mself\u001b[1m)\u001b[0m:                                          \u001b[34m│\u001b[0m\n",
       "\u001b[34m│\u001b[0m \u001b[3;33mget_trace_type\u001b[0m = \u001b[3;96mdef \u001b[0m\u001b[1;31mget_trace_type\u001b[0m\u001b[1m(\u001b[0mself, key, args, **kwargs\u001b[1m)\u001b[0m:              \u001b[34m│\u001b[0m\n",
       "\u001b[34m│\u001b[0m     \u001b[3;33mimportance\u001b[0m = \u001b[3;96mdef \u001b[0m\u001b[1;31mimportance\u001b[0m\u001b[1m(\u001b[0mself, key, chm, args\u001b[1m)\u001b[0m:                       \u001b[34m│\u001b[0m\n",
       "\u001b[34m│\u001b[0m       \u001b[3;33msimulate\u001b[0m = \u001b[3;96mdef \u001b[0m\u001b[1;31msimulate\u001b[0m\u001b[1m(\u001b[0mself, key, args\u001b[1m)\u001b[0m:                              \u001b[34m│\u001b[0m\n",
       "\u001b[34m│\u001b[0m      \u001b[3;33munflatten\u001b[0m = \u001b[3;96mdef \u001b[0m\u001b[1;31munflatten\u001b[0m\u001b[1m(\u001b[0mdata, xs\u001b[1m)\u001b[0m:                                    \u001b[34m│\u001b[0m\n",
       "\u001b[34m│\u001b[0m          \u001b[3;33munzip\u001b[0m = \u001b[3;96mdef \u001b[0m\u001b[1;31munzip\u001b[0m\u001b[1m(\u001b[0mself, key: jaxtyping.Integer\u001b[1m[\u001b[0mArray, \u001b[32m'...'\u001b[0m\u001b[1m]\u001b[0m,       \u001b[34m│\u001b[0m\n",
       "\u001b[34m│\u001b[0m                  fixed: genjax.core.datatypes.ChoiceMap\u001b[1m)\u001b[0m ->                  \u001b[34m│\u001b[0m\n",
       "\u001b[34m│\u001b[0m                  Tuple\u001b[1m[\u001b[0mjaxInteger\u001b[1m[\u001b[0mArray, \u001b[32m'...'\u001b[0m\u001b[1m]\u001b[0m,                             \u001b[34m│\u001b[0m\n",
       "\u001b[34m│\u001b[0m                  Callable\u001b[1m[\u001b[0m\u001b[1m[\u001b[0mgenjax.core.datatypes.ChoiceMap, Tuple\u001b[1m]\u001b[0m, float\u001b[1m]\u001b[0m,  \u001b[34m│\u001b[0m\n",
       "\u001b[34m│\u001b[0m                  Callable\u001b[1m[\u001b[0m\u001b[1m[\u001b[0mgenjax.core.datatypes.ChoiceMap, Tuple\u001b[1m]\u001b[0m, Any\u001b[1m]\u001b[0m\u001b[1m]\u001b[0m:   \u001b[34m│\u001b[0m\n",
       "\u001b[34m│\u001b[0m         \u001b[3;33mupdate\u001b[0m = \u001b[3;96mdef \u001b[0m\u001b[1;31mupdate\u001b[0m\u001b[1m(\u001b[0mself, key, prev, chm, diffs\u001b[1m)\u001b[0m:                    \u001b[34m│\u001b[0m\n",
       "\u001b[34m╰──────────────────────────────────────────────────────────────────────────────╯\u001b[0m\n"
      ]
     },
     "metadata": {},
     "output_type": "display_data"
    }
   ],
   "source": [
    "console.help(genjax.UnfoldCombinator)"
   ]
  },
  {
   "cell_type": "markdown",
   "id": "a192a8a6-996c-4318-8fd2-5e9640ca8570",
   "metadata": {},
   "source": [
    "By inspecting the class, we gain some confidence that it indeed implements the generative function interface. Below, we show a TikZ picture which illustrates the pattern which `Unfold` captures."
   ]
  },
  {
   "cell_type": "markdown",
   "id": "363809da-8b8a-4021-92bf-f7d0ffc7cf81",
   "metadata": {},
   "source": [
    "### Using `Unfold`"
   ]
  },
  {
   "cell_type": "markdown",
   "id": "55b50620-376a-4a5e-abdd-03339f4cf3e0",
   "metadata": {},
   "source": [
    "How do we make an instance of `Unfold`? Given an existing generative function which is a _kernel_ - a kernel accepts and returns the same type signature - we can create a valid `Unfold` instance.^[This is not strictly true. `Unfold` also allows you to pass in a set of _static arguments_ which are provided to the kernel _after the state argument_, unchanged, at each time step. We show this at the bottom of the notebook.]"
   ]
  },
  {
   "cell_type": "markdown",
   "id": "5c0a2c50-8042-47b5-a68f-913078d9e060",
   "metadata": {},
   "source": [
    "Here's an example kernel:"
   ]
  },
  {
   "cell_type": "code",
   "execution_count": 3,
   "id": "2ecb3fd4-4482-4627-970f-a6bcbad74833",
   "metadata": {},
   "outputs": [],
   "source": [
    "@genjax.gen\n",
    "def kernel(key, prev_latent):\n",
    "    key, new_latent = genjax.trace(\"z\", genjax.Normal)(key, prev_latent, 1.0)\n",
    "    key, new_obs = genjax.trace(\"x\", genjax.Normal)(key, new_latent, 1.0)\n",
    "    return key, new_latent"
   ]
  },
  {
   "cell_type": "code",
   "execution_count": 4,
   "id": "b5f2b0ff-7b8a-4954-80ce-3ccce9dfeaec",
   "metadata": {},
   "outputs": [
    {
     "data": {
      "text/html": [
       "<pre style=\"white-space:pre;overflow-x:auto;line-height:normal;font-family:Menlo,'DejaVu Sans Mono',consolas,'Courier New',monospace\">\n",
       "</pre>\n"
      ],
      "text/plain": [
       "\n"
      ]
     },
     "metadata": {},
     "output_type": "display_data"
    },
    {
     "data": {
      "text/html": [
       "<pre style=\"white-space:pre;overflow-x:auto;line-height:normal;font-family:Menlo,'DejaVu Sans Mono',consolas,'Courier New',monospace\">\n",
       "<span style=\"font-weight: bold\">BuiltinTrace</span>\n",
       "├── <span style=\"color: #000087; text-decoration-color: #000087; font-weight: bold\">gen_fn</span>\n",
       "│   └── <span style=\"font-weight: bold\">BuiltinGenerativeFunction</span>\n",
       "│       └── <span style=\"color: #000087; text-decoration-color: #000087; font-weight: bold\">source</span>\n",
       "│           └── &lt;function kernel&gt;\n",
       "├── <span style=\"color: #000087; text-decoration-color: #000087; font-weight: bold\">args</span>\n",
       "│   └── <span style=\"font-weight: bold\">tuple</span>\n",
       "│       └── <span style=\"color: #008787; text-decoration-color: #008787\">f32[]</span>\n",
       "├── <span style=\"color: #000087; text-decoration-color: #000087; font-weight: bold\">retval</span>\n",
       "│   └── <span style=\"color: #008787; text-decoration-color: #008787\">f32[]</span>\n",
       "├── <span style=\"color: #000087; text-decoration-color: #000087; font-weight: bold\">choices</span>\n",
       "│   └── <span style=\"font-weight: bold\">BuiltinChoiceMap</span>\n",
       "│       ├── <span style=\"color: #005f00; text-decoration-color: #005f00; font-weight: bold\">z</span>\n",
       "│       │   └── <span style=\"font-weight: bold\">DistributionTrace</span>\n",
       "│       │       ├── <span style=\"color: #000087; text-decoration-color: #000087; font-weight: bold\">gen_fn</span>\n",
       "│       │       │   └── <span style=\"font-weight: bold\">_Normal</span>\n",
       "│       │       ├── <span style=\"color: #000087; text-decoration-color: #000087; font-weight: bold\">args</span>\n",
       "│       │       │   └── <span style=\"font-weight: bold\">tuple</span>\n",
       "│       │       │       ├── <span style=\"color: #008787; text-decoration-color: #008787\">f32[]</span>\n",
       "│       │       │       └── <span style=\"color: #008787; text-decoration-color: #008787\">f32[]</span>\n",
       "│       │       ├── <span style=\"color: #000087; text-decoration-color: #000087; font-weight: bold\">value</span>\n",
       "│       │       │   └── <span style=\"font-weight: bold\">ValueChoiceMap</span>\n",
       "│       │       │       └── <span style=\"color: #000087; text-decoration-color: #000087; font-weight: bold\">value</span>\n",
       "│       │       │           └── <span style=\"color: #008787; text-decoration-color: #008787\">f32[]</span>\n",
       "│       │       └── <span style=\"color: #000087; text-decoration-color: #000087; font-weight: bold\">score</span>\n",
       "│       │           └── <span style=\"color: #008787; text-decoration-color: #008787\">f32[]</span>\n",
       "│       └── <span style=\"color: #005f00; text-decoration-color: #005f00; font-weight: bold\">x</span>\n",
       "│           └── <span style=\"font-weight: bold\">DistributionTrace</span>\n",
       "│               ├── <span style=\"color: #000087; text-decoration-color: #000087; font-weight: bold\">gen_fn</span>\n",
       "│               │   └── <span style=\"font-weight: bold\">_Normal</span>\n",
       "│               ├── <span style=\"color: #000087; text-decoration-color: #000087; font-weight: bold\">args</span>\n",
       "│               │   └── <span style=\"font-weight: bold\">tuple</span>\n",
       "│               │       ├── <span style=\"color: #008787; text-decoration-color: #008787\">f32[]</span>\n",
       "│               │       └── <span style=\"color: #008787; text-decoration-color: #008787\">f32[]</span>\n",
       "│               ├── <span style=\"color: #000087; text-decoration-color: #000087; font-weight: bold\">value</span>\n",
       "│               │   └── <span style=\"font-weight: bold\">ValueChoiceMap</span>\n",
       "│               │       └── <span style=\"color: #000087; text-decoration-color: #000087; font-weight: bold\">value</span>\n",
       "│               │           └── <span style=\"color: #008787; text-decoration-color: #008787\">f32[]</span>\n",
       "│               └── <span style=\"color: #000087; text-decoration-color: #000087; font-weight: bold\">score</span>\n",
       "│                   └── <span style=\"color: #008787; text-decoration-color: #008787\">f32[]</span>\n",
       "├── <span style=\"color: #000087; text-decoration-color: #000087; font-weight: bold\">cache</span>\n",
       "│   └── <span style=\"font-weight: bold\">BuiltinTrie</span>\n",
       "└── <span style=\"color: #000087; text-decoration-color: #000087; font-weight: bold\">score</span>\n",
       "    └── <span style=\"color: #008787; text-decoration-color: #008787\">f32[]</span>\n",
       "</pre>\n"
      ],
      "text/plain": [
       "\n",
       "\u001b[1mBuiltinTrace\u001b[0m\n",
       "├── \u001b[1;38;5;18mgen_fn\u001b[0m\n",
       "│   └── \u001b[1mBuiltinGenerativeFunction\u001b[0m\n",
       "│       └── \u001b[1;38;5;18msource\u001b[0m\n",
       "│           └── <function kernel>\n",
       "├── \u001b[1;38;5;18margs\u001b[0m\n",
       "│   └── \u001b[1mtuple\u001b[0m\n",
       "│       └── \u001b[38;5;30mf32[]\u001b[0m\n",
       "├── \u001b[1;38;5;18mretval\u001b[0m\n",
       "│   └── \u001b[38;5;30mf32[]\u001b[0m\n",
       "├── \u001b[1;38;5;18mchoices\u001b[0m\n",
       "│   └── \u001b[1mBuiltinChoiceMap\u001b[0m\n",
       "│       ├── \u001b[1;38;5;22mz\u001b[0m\n",
       "│       │   └── \u001b[1mDistributionTrace\u001b[0m\n",
       "│       │       ├── \u001b[1;38;5;18mgen_fn\u001b[0m\n",
       "│       │       │   └── \u001b[1m_Normal\u001b[0m\n",
       "│       │       ├── \u001b[1;38;5;18margs\u001b[0m\n",
       "│       │       │   └── \u001b[1mtuple\u001b[0m\n",
       "│       │       │       ├── \u001b[38;5;30mf32[]\u001b[0m\n",
       "│       │       │       └── \u001b[38;5;30mf32[]\u001b[0m\n",
       "│       │       ├── \u001b[1;38;5;18mvalue\u001b[0m\n",
       "│       │       │   └── \u001b[1mValueChoiceMap\u001b[0m\n",
       "│       │       │       └── \u001b[1;38;5;18mvalue\u001b[0m\n",
       "│       │       │           └── \u001b[38;5;30mf32[]\u001b[0m\n",
       "│       │       └── \u001b[1;38;5;18mscore\u001b[0m\n",
       "│       │           └── \u001b[38;5;30mf32[]\u001b[0m\n",
       "│       └── \u001b[1;38;5;22mx\u001b[0m\n",
       "│           └── \u001b[1mDistributionTrace\u001b[0m\n",
       "│               ├── \u001b[1;38;5;18mgen_fn\u001b[0m\n",
       "│               │   └── \u001b[1m_Normal\u001b[0m\n",
       "│               ├── \u001b[1;38;5;18margs\u001b[0m\n",
       "│               │   └── \u001b[1mtuple\u001b[0m\n",
       "│               │       ├── \u001b[38;5;30mf32[]\u001b[0m\n",
       "│               │       └── \u001b[38;5;30mf32[]\u001b[0m\n",
       "│               ├── \u001b[1;38;5;18mvalue\u001b[0m\n",
       "│               │   └── \u001b[1mValueChoiceMap\u001b[0m\n",
       "│               │       └── \u001b[1;38;5;18mvalue\u001b[0m\n",
       "│               │           └── \u001b[38;5;30mf32[]\u001b[0m\n",
       "│               └── \u001b[1;38;5;18mscore\u001b[0m\n",
       "│                   └── \u001b[38;5;30mf32[]\u001b[0m\n",
       "├── \u001b[1;38;5;18mcache\u001b[0m\n",
       "│   └── \u001b[1mBuiltinTrie\u001b[0m\n",
       "└── \u001b[1;38;5;18mscore\u001b[0m\n",
       "    └── \u001b[38;5;30mf32[]\u001b[0m\n"
      ]
     },
     "metadata": {},
     "output_type": "display_data"
    }
   ],
   "source": [
    "key, tr = jax.jit(kernel.simulate)(key, (0.3,))\n",
    "tr"
   ]
  },
  {
   "cell_type": "markdown",
   "id": "10f71f64-e9ae-4190-857a-047a53fe1a98",
   "metadata": {},
   "source": [
    "To create an `Unfold` instance, we provide two things:\n",
    "\n",
    "* The kernel generative function.\n",
    "* A static maximum unroll chain argument. Dynamically, `Unfold` may not unroll all the way up to this maximum - but for JAX/XLA compilation, we need to provide this maximum value as an invariant upper bound for any invocation of `Unfold`."
   ]
  },
  {
   "cell_type": "code",
   "execution_count": 5,
   "id": "03be32b4-2447-4493-b527-91f88ff2600b",
   "metadata": {},
   "outputs": [
    {
     "data": {
      "text/html": [
       "<pre style=\"white-space:pre;overflow-x:auto;line-height:normal;font-family:Menlo,'DejaVu Sans Mono',consolas,'Courier New',monospace\">\n",
       "</pre>\n"
      ],
      "text/plain": [
       "\n"
      ]
     },
     "metadata": {},
     "output_type": "display_data"
    },
    {
     "data": {
      "text/html": [
       "<pre style=\"white-space:pre;overflow-x:auto;line-height:normal;font-family:Menlo,'DejaVu Sans Mono',consolas,'Courier New',monospace\">\n",
       "<span style=\"font-weight: bold\">UnfoldCombinator</span>\n",
       "├── <span style=\"color: #000087; text-decoration-color: #000087; font-weight: bold\">kernel</span>\n",
       "│   └── <span style=\"font-weight: bold\">BuiltinGenerativeFunction</span>\n",
       "│       └── <span style=\"color: #000087; text-decoration-color: #000087; font-weight: bold\">source</span>\n",
       "│           └── &lt;function kernel&gt;\n",
       "└── <span style=\"color: #000087; text-decoration-color: #000087; font-weight: bold\">max_length</span>\n",
       "    └── <span style=\"color: #af00ff; text-decoration-color: #af00ff\">(lit) 10</span>\n",
       "</pre>\n"
      ],
      "text/plain": [
       "\n",
       "\u001b[1mUnfoldCombinator\u001b[0m\n",
       "├── \u001b[1;38;5;18mkernel\u001b[0m\n",
       "│   └── \u001b[1mBuiltinGenerativeFunction\u001b[0m\n",
       "│       └── \u001b[1;38;5;18msource\u001b[0m\n",
       "│           └── <function kernel>\n",
       "└── \u001b[1;38;5;18mmax_length\u001b[0m\n",
       "    └── \u001b[38;5;129m(lit) 10\u001b[0m\n"
      ]
     },
     "metadata": {},
     "output_type": "display_data"
    }
   ],
   "source": [
    "chain = genjax.Unfold(kernel, max_length=10)\n",
    "chain"
   ]
  },
  {
   "cell_type": "markdown",
   "id": "f4fd664a-478c-4834-a5ff-e96ad645df12",
   "metadata": {},
   "source": [
    "To invoke an interface method, the arguments which `Unfold` expects is a `Tuple`, where the first element is the maximum **index** in the resulting chain, and the second element is the initial state.\n",
    "\n",
    "::: {.callout-important}\n",
    "\n",
    "## Usage of index argument vs. a length argument\n",
    "\n",
    "Note how we've bolded **index** above - think of the index value as denoting an upper bound on active indices for the resulting chain. An _active index_ is one in which the value was evolved using the `kernel` from the previous value. Passing in `index = 5` means: all values after `return[5]` are not evolved, they're just filled with the `return[5]` value.\n",
    "\n",
    "Indexing follows Python convention - so e.g. passing in `0` as the index means that a **single application** of the kernel was applied to the state, before evolution was halted and evolved statically.\n",
    "\n",
    ":::"
   ]
  },
  {
   "cell_type": "code",
   "execution_count": 6,
   "id": "6c29e39f-bfd4-410a-a6d6-6abf85d1c6ab",
   "metadata": {},
   "outputs": [
    {
     "data": {
      "text/html": [
       "<pre style=\"white-space:pre;overflow-x:auto;line-height:normal;font-family:Menlo,'DejaVu Sans Mono',consolas,'Courier New',monospace\">\n",
       "</pre>\n"
      ],
      "text/plain": [
       "\n"
      ]
     },
     "metadata": {},
     "output_type": "display_data"
    },
    {
     "data": {
      "text/html": [
       "<pre style=\"white-space:pre;overflow-x:auto;line-height:normal;font-family:Menlo,'DejaVu Sans Mono',consolas,'Courier New',monospace\">\n",
       "<span style=\"font-weight: bold\">UnfoldTrace</span>\n",
       "├── <span style=\"color: #000087; text-decoration-color: #000087; font-weight: bold\">gen_fn</span>\n",
       "│   └── <span style=\"font-weight: bold\">UnfoldCombinator</span>\n",
       "│       ├── <span style=\"color: #000087; text-decoration-color: #000087; font-weight: bold\">kernel</span>\n",
       "│       │   └── <span style=\"font-weight: bold\">BuiltinGenerativeFunction</span>\n",
       "│       │       └── <span style=\"color: #000087; text-decoration-color: #000087; font-weight: bold\">source</span>\n",
       "│       │           └── &lt;function kernel&gt;\n",
       "│       └── <span style=\"color: #000087; text-decoration-color: #000087; font-weight: bold\">max_length</span>\n",
       "│           └── <span style=\"color: #af00ff; text-decoration-color: #af00ff\">(lit) 10</span>\n",
       "├── <span style=\"color: #000087; text-decoration-color: #000087; font-weight: bold\">indices</span>\n",
       "│   └── <span style=\"color: #008787; text-decoration-color: #008787\">i32[10]</span>\n",
       "├── <span style=\"color: #000087; text-decoration-color: #000087; font-weight: bold\">inner</span>\n",
       "│   └── <span style=\"font-weight: bold\">BuiltinTrace</span>\n",
       "│       ├── <span style=\"color: #000087; text-decoration-color: #000087; font-weight: bold\">gen_fn</span>\n",
       "│       │   └── <span style=\"font-weight: bold\">BuiltinGenerativeFunction</span>\n",
       "│       │       └── <span style=\"color: #000087; text-decoration-color: #000087; font-weight: bold\">source</span>\n",
       "│       │           └── &lt;function kernel&gt;\n",
       "│       ├── <span style=\"color: #000087; text-decoration-color: #000087; font-weight: bold\">args</span>\n",
       "│       │   └── <span style=\"font-weight: bold\">tuple</span>\n",
       "│       │       └── <span style=\"color: #008787; text-decoration-color: #008787\">f32[10]</span>\n",
       "│       ├── <span style=\"color: #000087; text-decoration-color: #000087; font-weight: bold\">retval</span>\n",
       "│       │   └── <span style=\"color: #008787; text-decoration-color: #008787\">f32[10]</span>\n",
       "│       ├── <span style=\"color: #000087; text-decoration-color: #000087; font-weight: bold\">choices</span>\n",
       "│       │   └── <span style=\"font-weight: bold\">BuiltinChoiceMap</span>\n",
       "│       │       ├── <span style=\"color: #005f00; text-decoration-color: #005f00; font-weight: bold\">z</span>\n",
       "│       │       │   └── <span style=\"font-weight: bold\">DistributionTrace</span>\n",
       "│       │       │       ├── <span style=\"color: #000087; text-decoration-color: #000087; font-weight: bold\">gen_fn</span>\n",
       "│       │       │       │   └── <span style=\"font-weight: bold\">_Normal</span>\n",
       "│       │       │       ├── <span style=\"color: #000087; text-decoration-color: #000087; font-weight: bold\">args</span>\n",
       "│       │       │       │   └── <span style=\"font-weight: bold\">tuple</span>\n",
       "│       │       │       │       ├── <span style=\"color: #008787; text-decoration-color: #008787\">f32[10]</span>\n",
       "│       │       │       │       └── <span style=\"color: #008787; text-decoration-color: #008787\">f32[10]</span>\n",
       "│       │       │       ├── <span style=\"color: #000087; text-decoration-color: #000087; font-weight: bold\">value</span>\n",
       "│       │       │       │   └── <span style=\"font-weight: bold\">ValueChoiceMap</span>\n",
       "│       │       │       │       └── <span style=\"color: #000087; text-decoration-color: #000087; font-weight: bold\">value</span>\n",
       "│       │       │       │           └── <span style=\"color: #008787; text-decoration-color: #008787\">f32[10]</span>\n",
       "│       │       │       └── <span style=\"color: #000087; text-decoration-color: #000087; font-weight: bold\">score</span>\n",
       "│       │       │           └── <span style=\"color: #008787; text-decoration-color: #008787\">f32[10]</span>\n",
       "│       │       └── <span style=\"color: #005f00; text-decoration-color: #005f00; font-weight: bold\">x</span>\n",
       "│       │           └── <span style=\"font-weight: bold\">DistributionTrace</span>\n",
       "│       │               ├── <span style=\"color: #000087; text-decoration-color: #000087; font-weight: bold\">gen_fn</span>\n",
       "│       │               │   └── <span style=\"font-weight: bold\">_Normal</span>\n",
       "│       │               ├── <span style=\"color: #000087; text-decoration-color: #000087; font-weight: bold\">args</span>\n",
       "│       │               │   └── <span style=\"font-weight: bold\">tuple</span>\n",
       "│       │               │       ├── <span style=\"color: #008787; text-decoration-color: #008787\">f32[10]</span>\n",
       "│       │               │       └── <span style=\"color: #008787; text-decoration-color: #008787\">f32[10]</span>\n",
       "│       │               ├── <span style=\"color: #000087; text-decoration-color: #000087; font-weight: bold\">value</span>\n",
       "│       │               │   └── <span style=\"font-weight: bold\">ValueChoiceMap</span>\n",
       "│       │               │       └── <span style=\"color: #000087; text-decoration-color: #000087; font-weight: bold\">value</span>\n",
       "│       │               │           └── <span style=\"color: #008787; text-decoration-color: #008787\">f32[10]</span>\n",
       "│       │               └── <span style=\"color: #000087; text-decoration-color: #000087; font-weight: bold\">score</span>\n",
       "│       │                   └── <span style=\"color: #008787; text-decoration-color: #008787\">f32[10]</span>\n",
       "│       ├── <span style=\"color: #000087; text-decoration-color: #000087; font-weight: bold\">cache</span>\n",
       "│       │   └── <span style=\"font-weight: bold\">BuiltinTrie</span>\n",
       "│       └── <span style=\"color: #000087; text-decoration-color: #000087; font-weight: bold\">score</span>\n",
       "│           └── <span style=\"color: #008787; text-decoration-color: #008787\">f32[10]</span>\n",
       "├── <span style=\"color: #000087; text-decoration-color: #000087; font-weight: bold\">args</span>\n",
       "│   └── <span style=\"font-weight: bold\">tuple</span>\n",
       "│       ├── <span style=\"color: #008787; text-decoration-color: #008787\">i32[]</span>\n",
       "│       └── <span style=\"color: #008787; text-decoration-color: #008787\">f32[]</span>\n",
       "├── <span style=\"color: #000087; text-decoration-color: #000087; font-weight: bold\">retval</span>\n",
       "│   └── <span style=\"color: #008787; text-decoration-color: #008787\">f32[10]</span>\n",
       "└── <span style=\"color: #000087; text-decoration-color: #000087; font-weight: bold\">score</span>\n",
       "    └── <span style=\"color: #008787; text-decoration-color: #008787\">f32[]</span>\n",
       "</pre>\n"
      ],
      "text/plain": [
       "\n",
       "\u001b[1mUnfoldTrace\u001b[0m\n",
       "├── \u001b[1;38;5;18mgen_fn\u001b[0m\n",
       "│   └── \u001b[1mUnfoldCombinator\u001b[0m\n",
       "│       ├── \u001b[1;38;5;18mkernel\u001b[0m\n",
       "│       │   └── \u001b[1mBuiltinGenerativeFunction\u001b[0m\n",
       "│       │       └── \u001b[1;38;5;18msource\u001b[0m\n",
       "│       │           └── <function kernel>\n",
       "│       └── \u001b[1;38;5;18mmax_length\u001b[0m\n",
       "│           └── \u001b[38;5;129m(lit) 10\u001b[0m\n",
       "├── \u001b[1;38;5;18mindices\u001b[0m\n",
       "│   └── \u001b[38;5;30mi32[10]\u001b[0m\n",
       "├── \u001b[1;38;5;18minner\u001b[0m\n",
       "│   └── \u001b[1mBuiltinTrace\u001b[0m\n",
       "│       ├── \u001b[1;38;5;18mgen_fn\u001b[0m\n",
       "│       │   └── \u001b[1mBuiltinGenerativeFunction\u001b[0m\n",
       "│       │       └── \u001b[1;38;5;18msource\u001b[0m\n",
       "│       │           └── <function kernel>\n",
       "│       ├── \u001b[1;38;5;18margs\u001b[0m\n",
       "│       │   └── \u001b[1mtuple\u001b[0m\n",
       "│       │       └── \u001b[38;5;30mf32[10]\u001b[0m\n",
       "│       ├── \u001b[1;38;5;18mretval\u001b[0m\n",
       "│       │   └── \u001b[38;5;30mf32[10]\u001b[0m\n",
       "│       ├── \u001b[1;38;5;18mchoices\u001b[0m\n",
       "│       │   └── \u001b[1mBuiltinChoiceMap\u001b[0m\n",
       "│       │       ├── \u001b[1;38;5;22mz\u001b[0m\n",
       "│       │       │   └── \u001b[1mDistributionTrace\u001b[0m\n",
       "│       │       │       ├── \u001b[1;38;5;18mgen_fn\u001b[0m\n",
       "│       │       │       │   └── \u001b[1m_Normal\u001b[0m\n",
       "│       │       │       ├── \u001b[1;38;5;18margs\u001b[0m\n",
       "│       │       │       │   └── \u001b[1mtuple\u001b[0m\n",
       "│       │       │       │       ├── \u001b[38;5;30mf32[10]\u001b[0m\n",
       "│       │       │       │       └── \u001b[38;5;30mf32[10]\u001b[0m\n",
       "│       │       │       ├── \u001b[1;38;5;18mvalue\u001b[0m\n",
       "│       │       │       │   └── \u001b[1mValueChoiceMap\u001b[0m\n",
       "│       │       │       │       └── \u001b[1;38;5;18mvalue\u001b[0m\n",
       "│       │       │       │           └── \u001b[38;5;30mf32[10]\u001b[0m\n",
       "│       │       │       └── \u001b[1;38;5;18mscore\u001b[0m\n",
       "│       │       │           └── \u001b[38;5;30mf32[10]\u001b[0m\n",
       "│       │       └── \u001b[1;38;5;22mx\u001b[0m\n",
       "│       │           └── \u001b[1mDistributionTrace\u001b[0m\n",
       "│       │               ├── \u001b[1;38;5;18mgen_fn\u001b[0m\n",
       "│       │               │   └── \u001b[1m_Normal\u001b[0m\n",
       "│       │               ├── \u001b[1;38;5;18margs\u001b[0m\n",
       "│       │               │   └── \u001b[1mtuple\u001b[0m\n",
       "│       │               │       ├── \u001b[38;5;30mf32[10]\u001b[0m\n",
       "│       │               │       └── \u001b[38;5;30mf32[10]\u001b[0m\n",
       "│       │               ├── \u001b[1;38;5;18mvalue\u001b[0m\n",
       "│       │               │   └── \u001b[1mValueChoiceMap\u001b[0m\n",
       "│       │               │       └── \u001b[1;38;5;18mvalue\u001b[0m\n",
       "│       │               │           └── \u001b[38;5;30mf32[10]\u001b[0m\n",
       "│       │               └── \u001b[1;38;5;18mscore\u001b[0m\n",
       "│       │                   └── \u001b[38;5;30mf32[10]\u001b[0m\n",
       "│       ├── \u001b[1;38;5;18mcache\u001b[0m\n",
       "│       │   └── \u001b[1mBuiltinTrie\u001b[0m\n",
       "│       └── \u001b[1;38;5;18mscore\u001b[0m\n",
       "│           └── \u001b[38;5;30mf32[10]\u001b[0m\n",
       "├── \u001b[1;38;5;18margs\u001b[0m\n",
       "│   └── \u001b[1mtuple\u001b[0m\n",
       "│       ├── \u001b[38;5;30mi32[]\u001b[0m\n",
       "│       └── \u001b[38;5;30mf32[]\u001b[0m\n",
       "├── \u001b[1;38;5;18mretval\u001b[0m\n",
       "│   └── \u001b[38;5;30mf32[10]\u001b[0m\n",
       "└── \u001b[1;38;5;18mscore\u001b[0m\n",
       "    └── \u001b[38;5;30mf32[]\u001b[0m\n"
      ]
     },
     "metadata": {},
     "output_type": "display_data"
    }
   ],
   "source": [
    "key, tr = jax.jit(chain.simulate)(key, (5, 0.3))\n",
    "tr"
   ]
  },
  {
   "cell_type": "code",
   "execution_count": 15,
   "id": "21d6759e-7676-4508-ab36-200d1108cae0",
   "metadata": {},
   "outputs": [
    {
     "data": {
      "text/html": [
       "<pre style=\"white-space:pre;overflow-x:auto;line-height:normal;font-family:Menlo,'DejaVu Sans Mono',consolas,'Courier New',monospace\">\n",
       "</pre>\n"
      ],
      "text/plain": [
       "\n"
      ]
     },
     "metadata": {},
     "output_type": "display_data"
    },
    {
     "data": {
      "text/html": [
       "<pre style=\"white-space:pre;overflow-x:auto;line-height:normal;font-family:Menlo,'DejaVu Sans Mono',consolas,'Courier New',monospace\">\n",
       "<span style=\"font-weight: bold\">UnfoldTrace</span>\n",
       "├── <span style=\"color: #000087; text-decoration-color: #000087; font-weight: bold\">gen_fn</span>\n",
       "│   └── <span style=\"font-weight: bold\">UnfoldCombinator</span>\n",
       "│       ├── <span style=\"color: #000087; text-decoration-color: #000087; font-weight: bold\">kernel</span>\n",
       "│       │   └── <span style=\"font-weight: bold\">BuiltinGenerativeFunction</span>\n",
       "│       │       └── <span style=\"color: #000087; text-decoration-color: #000087; font-weight: bold\">source</span>\n",
       "│       │           └── &lt;function kernel&gt;\n",
       "│       └── <span style=\"color: #000087; text-decoration-color: #000087; font-weight: bold\">max_length</span>\n",
       "│           └── <span style=\"color: #af00ff; text-decoration-color: #af00ff\">(lit) 10</span>\n",
       "├── <span style=\"color: #000087; text-decoration-color: #000087; font-weight: bold\">indices</span>\n",
       "│   └── <span style=\"color: #008787; text-decoration-color: #008787\">i32[10]</span>\n",
       "├── <span style=\"color: #000087; text-decoration-color: #000087; font-weight: bold\">inner</span>\n",
       "│   └── <span style=\"font-weight: bold\">BuiltinTrace</span>\n",
       "│       ├── <span style=\"color: #000087; text-decoration-color: #000087; font-weight: bold\">gen_fn</span>\n",
       "│       │   └── <span style=\"font-weight: bold\">BuiltinGenerativeFunction</span>\n",
       "│       │       └── <span style=\"color: #000087; text-decoration-color: #000087; font-weight: bold\">source</span>\n",
       "│       │           └── &lt;function kernel&gt;\n",
       "│       ├── <span style=\"color: #000087; text-decoration-color: #000087; font-weight: bold\">args</span>\n",
       "│       │   └── <span style=\"font-weight: bold\">tuple</span>\n",
       "│       │       └── <span style=\"color: #008787; text-decoration-color: #008787\">f32[10]</span>\n",
       "│       ├── <span style=\"color: #000087; text-decoration-color: #000087; font-weight: bold\">retval</span>\n",
       "│       │   └── <span style=\"color: #008787; text-decoration-color: #008787\">f32[10]</span>\n",
       "│       ├── <span style=\"color: #000087; text-decoration-color: #000087; font-weight: bold\">choices</span>\n",
       "│       │   └── <span style=\"font-weight: bold\">BuiltinChoiceMap</span>\n",
       "│       │       ├── <span style=\"color: #005f00; text-decoration-color: #005f00; font-weight: bold\">z</span>\n",
       "│       │       │   └── <span style=\"font-weight: bold\">DistributionTrace</span>\n",
       "│       │       │       ├── <span style=\"color: #000087; text-decoration-color: #000087; font-weight: bold\">gen_fn</span>\n",
       "│       │       │       │   └── <span style=\"font-weight: bold\">_Normal</span>\n",
       "│       │       │       ├── <span style=\"color: #000087; text-decoration-color: #000087; font-weight: bold\">args</span>\n",
       "│       │       │       │   └── <span style=\"font-weight: bold\">tuple</span>\n",
       "│       │       │       │       ├── <span style=\"color: #008787; text-decoration-color: #008787\">f32[10]</span>\n",
       "│       │       │       │       └── <span style=\"color: #008787; text-decoration-color: #008787\">f32[10]</span>\n",
       "│       │       │       ├── <span style=\"color: #000087; text-decoration-color: #000087; font-weight: bold\">value</span>\n",
       "│       │       │       │   └── <span style=\"font-weight: bold\">ValueChoiceMap</span>\n",
       "│       │       │       │       └── <span style=\"color: #000087; text-decoration-color: #000087; font-weight: bold\">value</span>\n",
       "│       │       │       │           └── <span style=\"color: #008787; text-decoration-color: #008787\">f32[10]</span>\n",
       "│       │       │       └── <span style=\"color: #000087; text-decoration-color: #000087; font-weight: bold\">score</span>\n",
       "│       │       │           └── <span style=\"color: #008787; text-decoration-color: #008787\">f32[10]</span>\n",
       "│       │       └── <span style=\"color: #005f00; text-decoration-color: #005f00; font-weight: bold\">x</span>\n",
       "│       │           └── <span style=\"font-weight: bold\">DistributionTrace</span>\n",
       "│       │               ├── <span style=\"color: #000087; text-decoration-color: #000087; font-weight: bold\">gen_fn</span>\n",
       "│       │               │   └── <span style=\"font-weight: bold\">_Normal</span>\n",
       "│       │               ├── <span style=\"color: #000087; text-decoration-color: #000087; font-weight: bold\">args</span>\n",
       "│       │               │   └── <span style=\"font-weight: bold\">tuple</span>\n",
       "│       │               │       ├── <span style=\"color: #008787; text-decoration-color: #008787\">f32[10]</span>\n",
       "│       │               │       └── <span style=\"color: #008787; text-decoration-color: #008787\">f32[10]</span>\n",
       "│       │               ├── <span style=\"color: #000087; text-decoration-color: #000087; font-weight: bold\">value</span>\n",
       "│       │               │   └── <span style=\"font-weight: bold\">ValueChoiceMap</span>\n",
       "│       │               │       └── <span style=\"color: #000087; text-decoration-color: #000087; font-weight: bold\">value</span>\n",
       "│       │               │           └── <span style=\"color: #008787; text-decoration-color: #008787\">f32[10]</span>\n",
       "│       │               └── <span style=\"color: #000087; text-decoration-color: #000087; font-weight: bold\">score</span>\n",
       "│       │                   └── <span style=\"color: #008787; text-decoration-color: #008787\">f32[10]</span>\n",
       "│       ├── <span style=\"color: #000087; text-decoration-color: #000087; font-weight: bold\">cache</span>\n",
       "│       │   └── <span style=\"font-weight: bold\">BuiltinTrie</span>\n",
       "│       └── <span style=\"color: #000087; text-decoration-color: #000087; font-weight: bold\">score</span>\n",
       "│           └── <span style=\"color: #008787; text-decoration-color: #008787\">f32[10]</span>\n",
       "├── <span style=\"color: #000087; text-decoration-color: #000087; font-weight: bold\">args</span>\n",
       "│   └── <span style=\"font-weight: bold\">tuple</span>\n",
       "│       ├── <span style=\"color: #008787; text-decoration-color: #008787\">i32[]</span>\n",
       "│       └── <span style=\"color: #008787; text-decoration-color: #008787\">f32[]</span>\n",
       "├── <span style=\"color: #000087; text-decoration-color: #000087; font-weight: bold\">retval</span>\n",
       "│   └── <span style=\"color: #008787; text-decoration-color: #008787\">f32[10]</span>\n",
       "└── <span style=\"color: #000087; text-decoration-color: #000087; font-weight: bold\">score</span>\n",
       "    └── <span style=\"color: #008787; text-decoration-color: #008787\">f32[]</span>\n",
       "</pre>\n"
      ],
      "text/plain": [
       "\n",
       "\u001b[1mUnfoldTrace\u001b[0m\n",
       "├── \u001b[1;38;5;18mgen_fn\u001b[0m\n",
       "│   └── \u001b[1mUnfoldCombinator\u001b[0m\n",
       "│       ├── \u001b[1;38;5;18mkernel\u001b[0m\n",
       "│       │   └── \u001b[1mBuiltinGenerativeFunction\u001b[0m\n",
       "│       │       └── \u001b[1;38;5;18msource\u001b[0m\n",
       "│       │           └── <function kernel>\n",
       "│       └── \u001b[1;38;5;18mmax_length\u001b[0m\n",
       "│           └── \u001b[38;5;129m(lit) 10\u001b[0m\n",
       "├── \u001b[1;38;5;18mindices\u001b[0m\n",
       "│   └── \u001b[38;5;30mi32[10]\u001b[0m\n",
       "├── \u001b[1;38;5;18minner\u001b[0m\n",
       "│   └── \u001b[1mBuiltinTrace\u001b[0m\n",
       "│       ├── \u001b[1;38;5;18mgen_fn\u001b[0m\n",
       "│       │   └── \u001b[1mBuiltinGenerativeFunction\u001b[0m\n",
       "│       │       └── \u001b[1;38;5;18msource\u001b[0m\n",
       "│       │           └── <function kernel>\n",
       "│       ├── \u001b[1;38;5;18margs\u001b[0m\n",
       "│       │   └── \u001b[1mtuple\u001b[0m\n",
       "│       │       └── \u001b[38;5;30mf32[10]\u001b[0m\n",
       "│       ├── \u001b[1;38;5;18mretval\u001b[0m\n",
       "│       │   └── \u001b[38;5;30mf32[10]\u001b[0m\n",
       "│       ├── \u001b[1;38;5;18mchoices\u001b[0m\n",
       "│       │   └── \u001b[1mBuiltinChoiceMap\u001b[0m\n",
       "│       │       ├── \u001b[1;38;5;22mz\u001b[0m\n",
       "│       │       │   └── \u001b[1mDistributionTrace\u001b[0m\n",
       "│       │       │       ├── \u001b[1;38;5;18mgen_fn\u001b[0m\n",
       "│       │       │       │   └── \u001b[1m_Normal\u001b[0m\n",
       "│       │       │       ├── \u001b[1;38;5;18margs\u001b[0m\n",
       "│       │       │       │   └── \u001b[1mtuple\u001b[0m\n",
       "│       │       │       │       ├── \u001b[38;5;30mf32[10]\u001b[0m\n",
       "│       │       │       │       └── \u001b[38;5;30mf32[10]\u001b[0m\n",
       "│       │       │       ├── \u001b[1;38;5;18mvalue\u001b[0m\n",
       "│       │       │       │   └── \u001b[1mValueChoiceMap\u001b[0m\n",
       "│       │       │       │       └── \u001b[1;38;5;18mvalue\u001b[0m\n",
       "│       │       │       │           └── \u001b[38;5;30mf32[10]\u001b[0m\n",
       "│       │       │       └── \u001b[1;38;5;18mscore\u001b[0m\n",
       "│       │       │           └── \u001b[38;5;30mf32[10]\u001b[0m\n",
       "│       │       └── \u001b[1;38;5;22mx\u001b[0m\n",
       "│       │           └── \u001b[1mDistributionTrace\u001b[0m\n",
       "│       │               ├── \u001b[1;38;5;18mgen_fn\u001b[0m\n",
       "│       │               │   └── \u001b[1m_Normal\u001b[0m\n",
       "│       │               ├── \u001b[1;38;5;18margs\u001b[0m\n",
       "│       │               │   └── \u001b[1mtuple\u001b[0m\n",
       "│       │               │       ├── \u001b[38;5;30mf32[10]\u001b[0m\n",
       "│       │               │       └── \u001b[38;5;30mf32[10]\u001b[0m\n",
       "│       │               ├── \u001b[1;38;5;18mvalue\u001b[0m\n",
       "│       │               │   └── \u001b[1mValueChoiceMap\u001b[0m\n",
       "│       │               │       └── \u001b[1;38;5;18mvalue\u001b[0m\n",
       "│       │               │           └── \u001b[38;5;30mf32[10]\u001b[0m\n",
       "│       │               └── \u001b[1;38;5;18mscore\u001b[0m\n",
       "│       │                   └── \u001b[38;5;30mf32[10]\u001b[0m\n",
       "│       ├── \u001b[1;38;5;18mcache\u001b[0m\n",
       "│       │   └── \u001b[1mBuiltinTrie\u001b[0m\n",
       "│       └── \u001b[1;38;5;18mscore\u001b[0m\n",
       "│           └── \u001b[38;5;30mf32[10]\u001b[0m\n",
       "├── \u001b[1;38;5;18margs\u001b[0m\n",
       "│   └── \u001b[1mtuple\u001b[0m\n",
       "│       ├── \u001b[38;5;30mi32[]\u001b[0m\n",
       "│       └── \u001b[38;5;30mf32[]\u001b[0m\n",
       "├── \u001b[1;38;5;18mretval\u001b[0m\n",
       "│   └── \u001b[38;5;30mf32[10]\u001b[0m\n",
       "└── \u001b[1;38;5;18mscore\u001b[0m\n",
       "    └── \u001b[38;5;30mf32[]\u001b[0m\n"
      ]
     },
     "metadata": {},
     "output_type": "display_data"
    }
   ],
   "source": [
    "tr = chain._make_zero_trace(key, (5, 0.3))\n",
    "tr"
   ]
  },
  {
   "cell_type": "code",
   "execution_count": 8,
   "id": "d17d735f-48cb-4eaa-87d7-0cb7164de8ab",
   "metadata": {},
   "outputs": [
    {
     "data": {
      "text/html": [
       "<pre style=\"white-space:pre;overflow-x:auto;line-height:normal;font-family:Menlo,'DejaVu Sans Mono',consolas,'Courier New',monospace\"><span style=\"color: #800080; text-decoration-color: #800080; font-weight: bold\">Array</span><span style=\"font-weight: bold\">([</span><span style=\"color: #008080; text-decoration-color: #008080; font-weight: bold\">0</span>, <span style=\"color: #008080; text-decoration-color: #008080; font-weight: bold\">0</span>, <span style=\"color: #008080; text-decoration-color: #008080; font-weight: bold\">0</span>, <span style=\"color: #008080; text-decoration-color: #008080; font-weight: bold\">0</span>, <span style=\"color: #008080; text-decoration-color: #008080; font-weight: bold\">0</span>, <span style=\"color: #008080; text-decoration-color: #008080; font-weight: bold\">0</span>, <span style=\"color: #008080; text-decoration-color: #008080; font-weight: bold\">0</span>, <span style=\"color: #008080; text-decoration-color: #008080; font-weight: bold\">0</span>, <span style=\"color: #008080; text-decoration-color: #008080; font-weight: bold\">0</span>, <span style=\"color: #008080; text-decoration-color: #008080; font-weight: bold\">0</span><span style=\"font-weight: bold\">]</span>, <span style=\"color: #808000; text-decoration-color: #808000\">dtype</span>=<span style=\"color: #800080; text-decoration-color: #800080\">int32</span><span style=\"font-weight: bold\">)</span>\n",
       "</pre>\n"
      ],
      "text/plain": [
       "\u001b[1;35mArray\u001b[0m\u001b[1m(\u001b[0m\u001b[1m[\u001b[0m\u001b[1;36m0\u001b[0m, \u001b[1;36m0\u001b[0m, \u001b[1;36m0\u001b[0m, \u001b[1;36m0\u001b[0m, \u001b[1;36m0\u001b[0m, \u001b[1;36m0\u001b[0m, \u001b[1;36m0\u001b[0m, \u001b[1;36m0\u001b[0m, \u001b[1;36m0\u001b[0m, \u001b[1;36m0\u001b[0m\u001b[1m]\u001b[0m, \u001b[33mdtype\u001b[0m=\u001b[35mint32\u001b[0m\u001b[1m)\u001b[0m\n"
      ]
     },
     "metadata": {},
     "output_type": "display_data"
    }
   ],
   "source": [
    "tr.indices"
   ]
  },
  {
   "cell_type": "code",
   "execution_count": 9,
   "id": "ab984b94-6e27-4015-a197-4732926bcfa1",
   "metadata": {},
   "outputs": [
    {
     "data": {
      "text/html": [
       "<pre style=\"white-space:pre;overflow-x:auto;line-height:normal;font-family:Menlo,'DejaVu Sans Mono',consolas,'Courier New',monospace\"><span style=\"color: #800080; text-decoration-color: #800080; font-weight: bold\">Array</span><span style=\"font-weight: bold\">([</span><span style=\"color: #008080; text-decoration-color: #008080; font-weight: bold\">0</span>., <span style=\"color: #008080; text-decoration-color: #008080; font-weight: bold\">0</span>., <span style=\"color: #008080; text-decoration-color: #008080; font-weight: bold\">0</span>., <span style=\"color: #008080; text-decoration-color: #008080; font-weight: bold\">0</span>., <span style=\"color: #008080; text-decoration-color: #008080; font-weight: bold\">0</span>., <span style=\"color: #008080; text-decoration-color: #008080; font-weight: bold\">0</span>., <span style=\"color: #008080; text-decoration-color: #008080; font-weight: bold\">0</span>., <span style=\"color: #008080; text-decoration-color: #008080; font-weight: bold\">0</span>., <span style=\"color: #008080; text-decoration-color: #008080; font-weight: bold\">0</span>., <span style=\"color: #008080; text-decoration-color: #008080; font-weight: bold\">0</span>.<span style=\"font-weight: bold\">]</span>, <span style=\"color: #808000; text-decoration-color: #808000\">dtype</span>=<span style=\"color: #800080; text-decoration-color: #800080\">float32</span><span style=\"font-weight: bold\">)</span>\n",
       "</pre>\n"
      ],
      "text/plain": [
       "\u001b[1;35mArray\u001b[0m\u001b[1m(\u001b[0m\u001b[1m[\u001b[0m\u001b[1;36m0\u001b[0m., \u001b[1;36m0\u001b[0m., \u001b[1;36m0\u001b[0m., \u001b[1;36m0\u001b[0m., \u001b[1;36m0\u001b[0m., \u001b[1;36m0\u001b[0m., \u001b[1;36m0\u001b[0m., \u001b[1;36m0\u001b[0m., \u001b[1;36m0\u001b[0m., \u001b[1;36m0\u001b[0m.\u001b[1m]\u001b[0m, \u001b[33mdtype\u001b[0m=\u001b[35mfloat32\u001b[0m\u001b[1m)\u001b[0m\n"
      ]
     },
     "metadata": {},
     "output_type": "display_data"
    }
   ],
   "source": [
    "tr.get_retval()"
   ]
  },
  {
   "cell_type": "markdown",
   "id": "94c387bd-33dc-43f6-8a7c-e281d9c504af",
   "metadata": {},
   "source": [
    "Note how `tr.indices` keep track of where the chain stopped evolving, according to the index argument to `Unfold`. In `tr.get_retval()`, we see that the final dynamic value (afterwards, evolution stops) occurs at `index = 5`."
   ]
  },
  {
   "cell_type": "markdown",
   "id": "a244b386-1867-4088-8c77-f3a443a940ed",
   "metadata": {},
   "source": [
    "## Combinator choice maps"
   ]
  },
  {
   "cell_type": "markdown",
   "id": "152c3bd6-3b3f-4c16-bd63-1b5e609cc9e1",
   "metadata": {},
   "source": [
    "Typically, each combinator has a unique choice map. The choice map simultaneously represents the structure of the generative choices which the transformed combinator generative function makes, as well as optimization opportunities which a user can take advantage of.\n",
    "\n",
    "Let's study the choice map for `UnfoldTrace`."
   ]
  },
  {
   "cell_type": "code",
   "execution_count": 10,
   "id": "42b67d35-a55b-4cdd-9937-3332e2c838ed",
   "metadata": {},
   "outputs": [
    {
     "data": {
      "text/html": [
       "<pre style=\"white-space:pre;overflow-x:auto;line-height:normal;font-family:Menlo,'DejaVu Sans Mono',consolas,'Courier New',monospace\">\n",
       "</pre>\n"
      ],
      "text/plain": [
       "\n"
      ]
     },
     "metadata": {},
     "output_type": "display_data"
    },
    {
     "data": {
      "text/html": [
       "<pre style=\"white-space:pre;overflow-x:auto;line-height:normal;font-family:Menlo,'DejaVu Sans Mono',consolas,'Courier New',monospace\">\n",
       "<span style=\"font-weight: bold\">VectorChoiceMap</span>\n",
       "├── <span style=\"color: #000087; text-decoration-color: #000087; font-weight: bold\">indices</span>\n",
       "│   └── <span style=\"color: #008787; text-decoration-color: #008787\">i32[10]</span>\n",
       "└── <span style=\"color: #000087; text-decoration-color: #000087; font-weight: bold\">inner</span>\n",
       "    └── <span style=\"font-weight: bold\">BuiltinTrace</span>\n",
       "        ├── <span style=\"color: #000087; text-decoration-color: #000087; font-weight: bold\">gen_fn</span>\n",
       "        │   └── <span style=\"font-weight: bold\">BuiltinGenerativeFunction</span>\n",
       "        │       └── <span style=\"color: #000087; text-decoration-color: #000087; font-weight: bold\">source</span>\n",
       "        │           └── &lt;function kernel&gt;\n",
       "        ├── <span style=\"color: #000087; text-decoration-color: #000087; font-weight: bold\">args</span>\n",
       "        │   └── <span style=\"font-weight: bold\">tuple</span>\n",
       "        │       └── <span style=\"color: #008787; text-decoration-color: #008787\">f32[10]</span>\n",
       "        ├── <span style=\"color: #000087; text-decoration-color: #000087; font-weight: bold\">retval</span>\n",
       "        │   └── <span style=\"color: #008787; text-decoration-color: #008787\">f32[10]</span>\n",
       "        ├── <span style=\"color: #000087; text-decoration-color: #000087; font-weight: bold\">choices</span>\n",
       "        │   └── <span style=\"font-weight: bold\">BuiltinChoiceMap</span>\n",
       "        │       ├── <span style=\"color: #005f00; text-decoration-color: #005f00; font-weight: bold\">z</span>\n",
       "        │       │   └── <span style=\"font-weight: bold\">DistributionTrace</span>\n",
       "        │       │       ├── <span style=\"color: #000087; text-decoration-color: #000087; font-weight: bold\">gen_fn</span>\n",
       "        │       │       │   └── <span style=\"font-weight: bold\">_Normal</span>\n",
       "        │       │       ├── <span style=\"color: #000087; text-decoration-color: #000087; font-weight: bold\">args</span>\n",
       "        │       │       │   └── <span style=\"font-weight: bold\">tuple</span>\n",
       "        │       │       │       ├── <span style=\"color: #008787; text-decoration-color: #008787\">f32[10]</span>\n",
       "        │       │       │       └── <span style=\"color: #008787; text-decoration-color: #008787\">f32[10]</span>\n",
       "        │       │       ├── <span style=\"color: #000087; text-decoration-color: #000087; font-weight: bold\">value</span>\n",
       "        │       │       │   └── <span style=\"font-weight: bold\">ValueChoiceMap</span>\n",
       "        │       │       │       └── <span style=\"color: #000087; text-decoration-color: #000087; font-weight: bold\">value</span>\n",
       "        │       │       │           └── <span style=\"color: #008787; text-decoration-color: #008787\">f32[10]</span>\n",
       "        │       │       └── <span style=\"color: #000087; text-decoration-color: #000087; font-weight: bold\">score</span>\n",
       "        │       │           └── <span style=\"color: #008787; text-decoration-color: #008787\">f32[10]</span>\n",
       "        │       └── <span style=\"color: #005f00; text-decoration-color: #005f00; font-weight: bold\">x</span>\n",
       "        │           └── <span style=\"font-weight: bold\">DistributionTrace</span>\n",
       "        │               ├── <span style=\"color: #000087; text-decoration-color: #000087; font-weight: bold\">gen_fn</span>\n",
       "        │               │   └── <span style=\"font-weight: bold\">_Normal</span>\n",
       "        │               ├── <span style=\"color: #000087; text-decoration-color: #000087; font-weight: bold\">args</span>\n",
       "        │               │   └── <span style=\"font-weight: bold\">tuple</span>\n",
       "        │               │       ├── <span style=\"color: #008787; text-decoration-color: #008787\">f32[10]</span>\n",
       "        │               │       └── <span style=\"color: #008787; text-decoration-color: #008787\">f32[10]</span>\n",
       "        │               ├── <span style=\"color: #000087; text-decoration-color: #000087; font-weight: bold\">value</span>\n",
       "        │               │   └── <span style=\"font-weight: bold\">ValueChoiceMap</span>\n",
       "        │               │       └── <span style=\"color: #000087; text-decoration-color: #000087; font-weight: bold\">value</span>\n",
       "        │               │           └── <span style=\"color: #008787; text-decoration-color: #008787\">f32[10]</span>\n",
       "        │               └── <span style=\"color: #000087; text-decoration-color: #000087; font-weight: bold\">score</span>\n",
       "        │                   └── <span style=\"color: #008787; text-decoration-color: #008787\">f32[10]</span>\n",
       "        ├── <span style=\"color: #000087; text-decoration-color: #000087; font-weight: bold\">cache</span>\n",
       "        │   └── <span style=\"font-weight: bold\">BuiltinTrie</span>\n",
       "        └── <span style=\"color: #000087; text-decoration-color: #000087; font-weight: bold\">score</span>\n",
       "            └── <span style=\"color: #008787; text-decoration-color: #008787\">f32[10]</span>\n",
       "</pre>\n"
      ],
      "text/plain": [
       "\n",
       "\u001b[1mVectorChoiceMap\u001b[0m\n",
       "├── \u001b[1;38;5;18mindices\u001b[0m\n",
       "│   └── \u001b[38;5;30mi32[10]\u001b[0m\n",
       "└── \u001b[1;38;5;18minner\u001b[0m\n",
       "    └── \u001b[1mBuiltinTrace\u001b[0m\n",
       "        ├── \u001b[1;38;5;18mgen_fn\u001b[0m\n",
       "        │   └── \u001b[1mBuiltinGenerativeFunction\u001b[0m\n",
       "        │       └── \u001b[1;38;5;18msource\u001b[0m\n",
       "        │           └── <function kernel>\n",
       "        ├── \u001b[1;38;5;18margs\u001b[0m\n",
       "        │   └── \u001b[1mtuple\u001b[0m\n",
       "        │       └── \u001b[38;5;30mf32[10]\u001b[0m\n",
       "        ├── \u001b[1;38;5;18mretval\u001b[0m\n",
       "        │   └── \u001b[38;5;30mf32[10]\u001b[0m\n",
       "        ├── \u001b[1;38;5;18mchoices\u001b[0m\n",
       "        │   └── \u001b[1mBuiltinChoiceMap\u001b[0m\n",
       "        │       ├── \u001b[1;38;5;22mz\u001b[0m\n",
       "        │       │   └── \u001b[1mDistributionTrace\u001b[0m\n",
       "        │       │       ├── \u001b[1;38;5;18mgen_fn\u001b[0m\n",
       "        │       │       │   └── \u001b[1m_Normal\u001b[0m\n",
       "        │       │       ├── \u001b[1;38;5;18margs\u001b[0m\n",
       "        │       │       │   └── \u001b[1mtuple\u001b[0m\n",
       "        │       │       │       ├── \u001b[38;5;30mf32[10]\u001b[0m\n",
       "        │       │       │       └── \u001b[38;5;30mf32[10]\u001b[0m\n",
       "        │       │       ├── \u001b[1;38;5;18mvalue\u001b[0m\n",
       "        │       │       │   └── \u001b[1mValueChoiceMap\u001b[0m\n",
       "        │       │       │       └── \u001b[1;38;5;18mvalue\u001b[0m\n",
       "        │       │       │           └── \u001b[38;5;30mf32[10]\u001b[0m\n",
       "        │       │       └── \u001b[1;38;5;18mscore\u001b[0m\n",
       "        │       │           └── \u001b[38;5;30mf32[10]\u001b[0m\n",
       "        │       └── \u001b[1;38;5;22mx\u001b[0m\n",
       "        │           └── \u001b[1mDistributionTrace\u001b[0m\n",
       "        │               ├── \u001b[1;38;5;18mgen_fn\u001b[0m\n",
       "        │               │   └── \u001b[1m_Normal\u001b[0m\n",
       "        │               ├── \u001b[1;38;5;18margs\u001b[0m\n",
       "        │               │   └── \u001b[1mtuple\u001b[0m\n",
       "        │               │       ├── \u001b[38;5;30mf32[10]\u001b[0m\n",
       "        │               │       └── \u001b[38;5;30mf32[10]\u001b[0m\n",
       "        │               ├── \u001b[1;38;5;18mvalue\u001b[0m\n",
       "        │               │   └── \u001b[1mValueChoiceMap\u001b[0m\n",
       "        │               │       └── \u001b[1;38;5;18mvalue\u001b[0m\n",
       "        │               │           └── \u001b[38;5;30mf32[10]\u001b[0m\n",
       "        │               └── \u001b[1;38;5;18mscore\u001b[0m\n",
       "        │                   └── \u001b[38;5;30mf32[10]\u001b[0m\n",
       "        ├── \u001b[1;38;5;18mcache\u001b[0m\n",
       "        │   └── \u001b[1mBuiltinTrie\u001b[0m\n",
       "        └── \u001b[1;38;5;18mscore\u001b[0m\n",
       "            └── \u001b[38;5;30mf32[10]\u001b[0m\n"
      ]
     },
     "metadata": {},
     "output_type": "display_data"
    }
   ],
   "source": [
    "chm = tr.get_choices()\n",
    "chm"
   ]
  },
  {
   "cell_type": "markdown",
   "id": "5df132d9-3887-4ff7-83bc-55697251b432",
   "metadata": {},
   "source": [
    "Again, let's look at the indices."
   ]
  },
  {
   "cell_type": "code",
   "execution_count": 11,
   "id": "6e21d7c1-76a8-4bfc-be04-134e0b45592e",
   "metadata": {},
   "outputs": [
    {
     "data": {
      "text/html": [
       "<pre style=\"white-space:pre;overflow-x:auto;line-height:normal;font-family:Menlo,'DejaVu Sans Mono',consolas,'Courier New',monospace\"><span style=\"color: #800080; text-decoration-color: #800080; font-weight: bold\">Array</span><span style=\"font-weight: bold\">([</span><span style=\"color: #008080; text-decoration-color: #008080; font-weight: bold\">0</span>, <span style=\"color: #008080; text-decoration-color: #008080; font-weight: bold\">0</span>, <span style=\"color: #008080; text-decoration-color: #008080; font-weight: bold\">0</span>, <span style=\"color: #008080; text-decoration-color: #008080; font-weight: bold\">0</span>, <span style=\"color: #008080; text-decoration-color: #008080; font-weight: bold\">0</span>, <span style=\"color: #008080; text-decoration-color: #008080; font-weight: bold\">0</span>, <span style=\"color: #008080; text-decoration-color: #008080; font-weight: bold\">0</span>, <span style=\"color: #008080; text-decoration-color: #008080; font-weight: bold\">0</span>, <span style=\"color: #008080; text-decoration-color: #008080; font-weight: bold\">0</span>, <span style=\"color: #008080; text-decoration-color: #008080; font-weight: bold\">0</span><span style=\"font-weight: bold\">]</span>, <span style=\"color: #808000; text-decoration-color: #808000\">dtype</span>=<span style=\"color: #800080; text-decoration-color: #800080\">int32</span><span style=\"font-weight: bold\">)</span>\n",
       "</pre>\n"
      ],
      "text/plain": [
       "\u001b[1;35mArray\u001b[0m\u001b[1m(\u001b[0m\u001b[1m[\u001b[0m\u001b[1;36m0\u001b[0m, \u001b[1;36m0\u001b[0m, \u001b[1;36m0\u001b[0m, \u001b[1;36m0\u001b[0m, \u001b[1;36m0\u001b[0m, \u001b[1;36m0\u001b[0m, \u001b[1;36m0\u001b[0m, \u001b[1;36m0\u001b[0m, \u001b[1;36m0\u001b[0m, \u001b[1;36m0\u001b[0m\u001b[1m]\u001b[0m, \u001b[33mdtype\u001b[0m=\u001b[35mint32\u001b[0m\u001b[1m)\u001b[0m\n"
      ]
     },
     "metadata": {},
     "output_type": "display_data"
    }
   ],
   "source": [
    "chm.indices"
   ]
  },
  {
   "cell_type": "markdown",
   "id": "e4d51ecb-da64-48ed-8712-b9d6a5a96223",
   "metadata": {},
   "source": [
    "No surprises - the choice map also keeps track of which indices are active, and which indices are inactive. \n",
    "\n",
    "Inactive indices **do not** participate in inference metadata computations - so e.g. if we ask for the score of the trace:"
   ]
  },
  {
   "cell_type": "code",
   "execution_count": 12,
   "id": "71af7755-a42e-4665-8dba-7d889e45d6ca",
   "metadata": {},
   "outputs": [
    {
     "data": {
      "text/html": [
       "<pre style=\"white-space:pre;overflow-x:auto;line-height:normal;font-family:Menlo,'DejaVu Sans Mono',consolas,'Courier New',monospace\"><span style=\"color: #800080; text-decoration-color: #800080; font-weight: bold\">Array</span><span style=\"font-weight: bold\">(</span><span style=\"color: #008080; text-decoration-color: #008080; font-weight: bold\">0</span>., <span style=\"color: #808000; text-decoration-color: #808000\">dtype</span>=<span style=\"color: #800080; text-decoration-color: #800080\">float32</span><span style=\"font-weight: bold\">)</span>\n",
       "</pre>\n"
      ],
      "text/plain": [
       "\u001b[1;35mArray\u001b[0m\u001b[1m(\u001b[0m\u001b[1;36m0\u001b[0m., \u001b[33mdtype\u001b[0m=\u001b[35mfloat32\u001b[0m\u001b[1m)\u001b[0m\n"
      ]
     },
     "metadata": {},
     "output_type": "display_data"
    }
   ],
   "source": [
    "tr.get_score()"
   ]
  },
  {
   "cell_type": "markdown",
   "id": "78750b17-a86d-4686-b9fb-06735b9748eb",
   "metadata": {},
   "source": [
    "The score is the same as the sum of sub-trace scores from `[0:5]`."
   ]
  },
  {
   "cell_type": "code",
   "execution_count": 13,
   "id": "399ccc6e-516a-46d2-aa4c-2c1cd2fc9fa1",
   "metadata": {},
   "outputs": [
    {
     "data": {
      "text/html": [
       "<pre style=\"white-space:pre;overflow-x:auto;line-height:normal;font-family:Menlo,'DejaVu Sans Mono',consolas,'Courier New',monospace\"><span style=\"color: #800080; text-decoration-color: #800080; font-weight: bold\">Array</span><span style=\"font-weight: bold\">(</span><span style=\"color: #008080; text-decoration-color: #008080; font-weight: bold\">0</span>., <span style=\"color: #808000; text-decoration-color: #808000\">dtype</span>=<span style=\"color: #800080; text-decoration-color: #800080\">float32</span><span style=\"font-weight: bold\">)</span>\n",
       "</pre>\n"
      ],
      "text/plain": [
       "\u001b[1;35mArray\u001b[0m\u001b[1m(\u001b[0m\u001b[1;36m0\u001b[0m., \u001b[33mdtype\u001b[0m=\u001b[35mfloat32\u001b[0m\u001b[1m)\u001b[0m\n"
      ]
     },
     "metadata": {},
     "output_type": "display_data"
    }
   ],
   "source": [
    "np.sum(\n",
    "    tr.get_subtree(\"z\").get_score()[0:5] + tr.get_subtree(\"x\").get_score()[0:5]\n",
    ")"
   ]
  },
  {
   "cell_type": "markdown",
   "id": "027a3d89-3086-444d-9ae0-2dceb61a5c14",
   "metadata": {},
   "source": [
    "The reason why we have an `index` argument is that we can dynamically choose how much of the chain contributes to the generative computation. This `index` argument can come from other generative function - it need not be a JAX trace-time static value.\n",
    "\n",
    "With this in mind, it's best to think of `Unfold` as representing a space of processes which unroll up to some maximum static length - but the active generative process can halt before that maximum length."
   ]
  }
 ],
 "metadata": {
  "kernelspec": {
   "display_name": "Python 3 (ipykernel)",
   "language": "python",
   "name": "python3"
  },
  "language_info": {
   "codemirror_mode": {
    "name": "ipython",
    "version": 3
   },
   "file_extension": ".py",
   "mimetype": "text/x-python",
   "name": "python",
   "nbconvert_exporter": "python",
   "pygments_lexer": "ipython3",
   "version": "3.11.0"
  }
 },
 "nbformat": 4,
 "nbformat_minor": 5
}
