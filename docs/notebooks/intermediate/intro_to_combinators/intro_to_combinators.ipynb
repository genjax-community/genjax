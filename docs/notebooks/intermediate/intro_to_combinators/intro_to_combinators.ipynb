{
 "cells": [
  {
   "cell_type": "raw",
   "id": "38efe203-02d1-4919-acdd-6632a67ccecf",
   "metadata": {},
   "source": [
    "---\n",
    "title: Introduction to combinators\n",
    "date: \"December 1, 2022\"\n",
    "abstract: This notebook is designed to give the reader an introduction to generative function combinators - higher-order functions which accept generative functions and return new generative functions, typically transforming the generative structure to encode a pattern of repeated computation. In this notebook, we focus on vector-shaped combinators - combinators which transform input generative structure into (mapped or scanned) vectorial structure.\n",
    "callout-appearance: simple\n",
    "---"
   ]
  }
 ],
 "metadata": {
  "kernelspec": {
   "display_name": "Python 3 (ipykernel)",
   "language": "python",
   "name": "python3"
  },
  "language_info": {
   "codemirror_mode": {
    "name": "ipython",
    "version": 3
   },
   "file_extension": ".py",
   "mimetype": "text/x-python",
   "name": "python",
   "nbconvert_exporter": "python",
   "pygments_lexer": "ipython3",
   "version": "3.10.8"
  }
 },
 "nbformat": 4,
 "nbformat_minor": 5
}
