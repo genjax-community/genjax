{
 "cells": [
  {
   "cell_type": "markdown",
   "metadata": {},
   "source": [
    "What is a generative function and how to use it? "
   ]
  },
  {
   "cell_type": "code",
   "execution_count": 9,
   "metadata": {},
   "outputs": [
    {
     "name": "stdout",
     "output_type": "stream",
     "text": [
      "(1.0,)\n",
      "HierarchicalChoiceMap(\n",
      "  trie=Trie(\n",
      "    inner={'p': ChoiceValue(value=f32[]), 'v': ChoiceValue(value=i32[])}\n",
      "  )\n",
      ")\n",
      "0\n"
     ]
    }
   ],
   "source": [
    "import genjax\n",
    "\n",
    "# This is a simple example of a beta-bernoulli process\n",
    "# We can import standard distributions from genjax\n",
    "import jax\n",
    "from genjax import beta\n",
    "from genjax import bernoulli\n",
    "\n",
    "# Import the static_gen_fn decorator to create generative functions\n",
    "from genjax import static_gen_fn\n",
    "\n",
    "#TODO: we should rename @static_gen_fn to @gen \n",
    "@static_gen_fn\n",
    "def beta_bernoulli_process(u):\n",
    "    p = beta(0.0, u) @ \"p\"\n",
    "    v = bernoulli(p) @ \"v\" # sweet\n",
    "    return v\n",
    "\n",
    "# We can now call the generative function with a specified random key\n",
    "key = jax.random.PRNGKey(314159)\n",
    "# Running the function will return a trace, which records the arguments, random choices made, and the return value\n",
    "tr = beta_bernoulli_process.simulate(key, (1.0,))\n",
    "# We can print the trace to see what happened\n",
    "print(tr.args)\n",
    "print()\n",
    "print(tr.get_choices())\n",
    "print()\n",
    "print(tr.get_retval())"
   ]
  },
  {
   "cell_type": "code",
   "execution_count": 23,
   "metadata": {},
   "outputs": [
    {
     "name": "stdout",
     "output_type": "stream",
     "text": [
      "395 ms ± 2.7 ms per loop (mean ± std. dev. of 7 runs, 1 loop each)\n",
      "1.01 ms ± 135 µs per loop (mean ± std. dev. of 7 runs, 1 loop each)\n",
      "58 µs ± 12 µs per loop (mean ± std. dev. of 7 runs, 1 loop each)\n"
     ]
    }
   ],
   "source": [
    "# Genjax functions can be accelerated with JIT\n",
    "@static_gen_fn\n",
    "@jax.jit\n",
    "def fast_beta_bernoulli_process(u):\n",
    "    p = beta(0.0, u) @ \"p\"\n",
    "    v = bernoulli(p) @ \"v\" # sweet\n",
    "    return v\n",
    "\n",
    "# But the proper way is to @jit the final function we aim to run\n",
    "jitted = jax.jit(beta_bernoulli_process.simulate)\n",
    "\n",
    "# We can compare the speed of the three functions\n",
    "key = jax.random.PRNGKey(314159)\n",
    "%timeit beta_bernoulli_process.simulate(key, (1.0,))\n",
    "%timeit fast_beta_bernoulli_process.simulate(key, (1.0,))\n",
    "%timeit jitted(key, (1.0,))"
   ]
  }
 ],
 "metadata": {
  "kernelspec": {
   "display_name": "genjax-trials",
   "language": "python",
   "name": "python3"
  },
  "language_info": {
   "codemirror_mode": {
    "name": "ipython",
    "version": 3
   },
   "file_extension": ".py",
   "mimetype": "text/x-python",
   "name": "python",
   "nbconvert_exporter": "python",
   "pygments_lexer": "ipython3",
   "version": "3.12.2"
  }
 },
 "nbformat": 4,
 "nbformat_minor": 2
}
