{
 "cells": [
  {
   "cell_type": "markdown",
   "metadata": {},
   "source": [
    "How do I use conditionals in Jax?"
   ]
  },
  {
   "cell_type": "code",
   "execution_count": 1,
   "metadata": {},
   "outputs": [
    {
     "ename": "NameError",
     "evalue": "name 'interpreted_gen_fn' is not defined",
     "output_type": "error",
     "traceback": [
      "\u001b[0;31m---------------------------------------------------------------------------\u001b[0m",
      "\u001b[0;31mNameError\u001b[0m                                 Traceback (most recent call last)",
      "Cell \u001b[0;32mIn[1], line 7\u001b[0m\n\u001b[1;32m      3\u001b[0m \u001b[38;5;28;01mfrom\u001b[39;00m \u001b[38;5;21;01mgenjax\u001b[39;00m \u001b[38;5;28;01mimport\u001b[39;00m bernoulli\n\u001b[1;32m      5\u001b[0m \u001b[38;5;66;03m# In Python, it's very clear\u001b[39;00m\n\u001b[1;32m      6\u001b[0m \u001b[38;5;66;03m# simple conditional in python\u001b[39;00m\n\u001b[0;32m----> 7\u001b[0m \u001b[38;5;129m@interpreted_gen_fn\u001b[39m\n\u001b[1;32m      8\u001b[0m \u001b[38;5;28;01mdef\u001b[39;00m \u001b[38;5;21msimple_switch\u001b[39m(p):\n\u001b[1;32m      9\u001b[0m     \u001b[38;5;28;01mif\u001b[39;00m p \u001b[38;5;241m>\u001b[39m \u001b[38;5;241m0\u001b[39m:\n\u001b[1;32m     10\u001b[0m         v \u001b[38;5;241m=\u001b[39m bernoulli(p) \u001b[38;5;241m@\u001b[39m \u001b[38;5;124m\"\u001b[39m\u001b[38;5;124mv\u001b[39m\u001b[38;5;124m\"\u001b[39m\n",
      "\u001b[0;31mNameError\u001b[0m: name 'interpreted_gen_fn' is not defined"
     ]
    }
   ],
   "source": [
    "import genjax\n",
    "import jax\n",
    "from genjax import bernoulli\n",
    "\n",
    "# In pure Python, we use usual conditionals\n",
    "@interpreted_gen_fn\n",
    "def simple_switch(p):\n",
    "    if p > 0:\n",
    "        v = bernoulli(p) @ \"v\"\n",
    "        return v\n",
    "    else:\n",
    "        v = bernoulli(-p) @ \"v\"\n",
    "        return v\n",
    "    \n",
    "key = jax.random.PRNGKey(314159)\n",
    "tr1 = simple_switch.simulate(key, (0.3,))\n",
    "tr2 = simple_switch.simulate(key, (-0.4,))\n",
    "print(tr1)\n",
    "print()\n",
    "print(tr2)\n",
    "# But this will be very slow\n",
    "%timeit simple_switch.simulate(key, (0.3,))"
   ]
  },
  {
   "cell_type": "code",
   "execution_count": 2,
   "metadata": {},
   "outputs": [
    {
     "name": "stdout",
     "output_type": "stream",
     "text": [
      "0.3\n",
      "0.4\n"
     ]
    }
   ],
   "source": [
    "# In pure Jax, we write conditionals with jax.lax.cond as follows\n",
    "def simple_cond(p):\n",
    "    pred = p > 0\n",
    "    branch_1 = lambda p: p\n",
    "    branch_2 = lambda p: -p\n",
    "    arg_of_cond = p\n",
    "    cond_res = jax.lax.cond(pred, branch_1, branch_2, arg_of_cond)\n",
    "    return cond_res\n",
    "\n",
    "print(simple_cond(0.3))\n",
    "print(simple_cond(-0.4))"
   ]
  },
  {
   "cell_type": "code",
   "execution_count": 4,
   "metadata": {},
   "outputs": [
    {
     "name": "stdout",
     "output_type": "stream",
     "text": [
      "TypeError: true_fun and false_fun output must have same type structure, got PyTreeDef((*, *)) and PyTreeDef(*).\n"
     ]
    }
   ],
   "source": [
    "# The restriction is that both branches should have the same return type\n",
    "def failing_simple_cond(p):\n",
    "    pred = p > 0\n",
    "    branch_1 = lambda p: (p,p)\n",
    "    branch_2 = lambda p: -p\n",
    "    arg_of_cond = p\n",
    "    cond_res = jax.lax.cond(p > 0, branch_1, branch_2, arg_of_cond)\n",
    "    return cond_res\n",
    "\n",
    "try: \n",
    "    print(failing_simple_cond(0.3))\n",
    "except:\n",
    "    print(\"TypeError: true_fun and false_fun output must have same type structure, got PyTreeDef((*, *)) and PyTreeDef(*).\")\n",
    "\n",
    "#TODO: add counter-example with same pytree structure but different type float vs int"
   ]
  },
  {
   "cell_type": "code",
   "execution_count": 10,
   "metadata": {},
   "outputs": [
    {
     "ename": "FileNotFoundError",
     "evalue": "[Errno 2] No such file or directory",
     "output_type": "error",
     "traceback": [
      "\u001b[0;31m---------------------------------------------------------------------------\u001b[0m",
      "\u001b[0;31mAssertionError\u001b[0m                            Traceback (most recent call last)",
      "    \u001b[0;31m[... skipping hidden 12 frame]\u001b[0m\n",
      "File \u001b[0;32m<@beartype(genjax._src.generative_functions.combinators.switch_combinator.SwitchCombinator.simulate) at 0x16a8f0fe0>:55\u001b[0m, in \u001b[0;36msimulate\u001b[0;34m(__beartype_object_4824302400, __beartype_get_violation, __beartype_conf, __beartype_object_6081033344, __beartype_func, *args, **kwargs)\u001b[0m\n",
      "File \u001b[0;32m~/repos/genjax-docs/genjax/src/genjax/_src/generative_functions/combinators/switch_combinator.py:231\u001b[0m, in \u001b[0;36mSwitchCombinator.simulate\u001b[0;34m(self, key, args)\u001b[0m\n\u001b[1;32m    230\u001b[0m (idx, \u001b[38;5;241m*\u001b[39mbranch_args) \u001b[38;5;241m=\u001b[39m args\n\u001b[0;32m--> 231\u001b[0m \u001b[38;5;28;43mself\u001b[39;49m\u001b[38;5;241;43m.\u001b[39;49m\u001b[43mstatic_check_num_arguments_equals_num_branches\u001b[49m\u001b[43m(\u001b[49m\u001b[43mbranch_args\u001b[49m\u001b[43m)\u001b[49m\n\u001b[1;32m    233\u001b[0m \u001b[38;5;28;01mdef\u001b[39;00m \u001b[38;5;21m_inner\u001b[39m(idx: \u001b[38;5;28mint\u001b[39m):\n",
      "File \u001b[0;32m~/repos/genjax-docs/genjax/src/genjax/_src/generative_functions/combinators/switch_combinator.py:176\u001b[0m, in \u001b[0;36mSwitchCombinator.static_check_num_arguments_equals_num_branches\u001b[0;34m(self, args)\u001b[0m\n\u001b[1;32m    175\u001b[0m \u001b[38;5;28;01mdef\u001b[39;00m \u001b[38;5;21mstatic_check_num_arguments_equals_num_branches\u001b[39m(\u001b[38;5;28mself\u001b[39m, args):\n\u001b[0;32m--> 176\u001b[0m     \u001b[38;5;28;01massert\u001b[39;00m \u001b[38;5;28mlen\u001b[39m(args) \u001b[38;5;241m==\u001b[39m \u001b[38;5;28mlen\u001b[39m(\u001b[38;5;28mself\u001b[39m\u001b[38;5;241m.\u001b[39mbranches)\n",
      "\u001b[0;31mAssertionError\u001b[0m: ",
      "\nDuring handling of the above exception, another exception occurred:\n",
      "\u001b[0;31mFileNotFoundError\u001b[0m                         Traceback (most recent call last)",
      "Cell \u001b[0;32mIn[10], line 24\u001b[0m\n\u001b[1;32m     22\u001b[0m key \u001b[38;5;241m=\u001b[39m jax\u001b[38;5;241m.\u001b[39mrandom\u001b[38;5;241m.\u001b[39mPRNGKey(\u001b[38;5;241m314159\u001b[39m)\n\u001b[1;32m     23\u001b[0m jitted \u001b[38;5;241m=\u001b[39m jax\u001b[38;5;241m.\u001b[39mjit(switch\u001b[38;5;241m.\u001b[39msimulate)\n\u001b[0;32m---> 24\u001b[0m tr \u001b[38;5;241m=\u001b[39m \u001b[43mjitted\u001b[49m\u001b[43m(\u001b[49m\u001b[43mkey\u001b[49m\u001b[43m,\u001b[49m\u001b[43m \u001b[49m\u001b[43m(\u001b[49m\u001b[38;5;241;43m0\u001b[39;49m\u001b[43m,\u001b[49m\u001b[43m)\u001b[49m\u001b[43m)\u001b[49m\n\u001b[1;32m     25\u001b[0m v1 \u001b[38;5;241m=\u001b[39m tr\u001b[38;5;241m.\u001b[39mget_sample()[\u001b[38;5;124m\"\u001b[39m\u001b[38;5;124mv1\u001b[39m\u001b[38;5;124m\"\u001b[39m]\n\u001b[1;32m     26\u001b[0m v2 \u001b[38;5;241m=\u001b[39m tr\u001b[38;5;241m.\u001b[39mget_sample()[\u001b[38;5;124m\"\u001b[39m\u001b[38;5;124mv2\u001b[39m\u001b[38;5;124m\"\u001b[39m]\n",
      "    \u001b[0;31m[... skipping hidden 1 frame]\u001b[0m\n",
      "File \u001b[0;32m~/repos/genjax-docs/.venv/lib/python3.11/site-packages/jax/_src/traceback_util.py:69\u001b[0m, in \u001b[0;36m_add_tracebackhide_to_hidden_frames\u001b[0;34m(tb)\u001b[0m\n\u001b[1;32m     67\u001b[0m \u001b[38;5;28;01mdef\u001b[39;00m \u001b[38;5;21m_add_tracebackhide_to_hidden_frames\u001b[39m(tb: types\u001b[38;5;241m.\u001b[39mTracebackType):\n\u001b[1;32m     68\u001b[0m   \u001b[38;5;28;01mfor\u001b[39;00m f, _lineno \u001b[38;5;129;01min\u001b[39;00m traceback\u001b[38;5;241m.\u001b[39mwalk_tb(tb):\n\u001b[0;32m---> 69\u001b[0m     \u001b[38;5;28;01mif\u001b[39;00m \u001b[38;5;129;01mnot\u001b[39;00m \u001b[43minclude_frame\u001b[49m\u001b[43m(\u001b[49m\u001b[43mf\u001b[49m\u001b[43m)\u001b[49m:\n\u001b[1;32m     70\u001b[0m       f\u001b[38;5;241m.\u001b[39mf_locals[\u001b[38;5;124m\"\u001b[39m\u001b[38;5;124m__tracebackhide__\u001b[39m\u001b[38;5;124m\"\u001b[39m] \u001b[38;5;241m=\u001b[39m \u001b[38;5;28;01mTrue\u001b[39;00m\n",
      "File \u001b[0;32m~/repos/genjax-docs/.venv/lib/python3.11/site-packages/jax/_src/traceback_util.py:58\u001b[0m, in \u001b[0;36minclude_frame\u001b[0;34m(f)\u001b[0m\n\u001b[1;32m     57\u001b[0m \u001b[38;5;28;01mdef\u001b[39;00m \u001b[38;5;21minclude_frame\u001b[39m(f: types\u001b[38;5;241m.\u001b[39mFrameType) \u001b[38;5;241m-\u001b[39m\u001b[38;5;241m>\u001b[39m \u001b[38;5;28mbool\u001b[39m:\n\u001b[0;32m---> 58\u001b[0m   \u001b[38;5;28;01mreturn\u001b[39;00m \u001b[38;5;129;01mnot\u001b[39;00m \u001b[38;5;28many\u001b[39m(_path_starts_with(f\u001b[38;5;241m.\u001b[39mf_code\u001b[38;5;241m.\u001b[39mco_filename, path)\n\u001b[1;32m     59\u001b[0m                  \u001b[38;5;28;01mfor\u001b[39;00m path \u001b[38;5;129;01min\u001b[39;00m _exclude_paths)\n",
      "File \u001b[0;32m~/repos/genjax-docs/.venv/lib/python3.11/site-packages/jax/_src/traceback_util.py:58\u001b[0m, in \u001b[0;36m<genexpr>\u001b[0;34m(.0)\u001b[0m\n\u001b[1;32m     57\u001b[0m \u001b[38;5;28;01mdef\u001b[39;00m \u001b[38;5;21minclude_frame\u001b[39m(f: types\u001b[38;5;241m.\u001b[39mFrameType) \u001b[38;5;241m-\u001b[39m\u001b[38;5;241m>\u001b[39m \u001b[38;5;28mbool\u001b[39m:\n\u001b[0;32m---> 58\u001b[0m   \u001b[38;5;28;01mreturn\u001b[39;00m \u001b[38;5;129;01mnot\u001b[39;00m \u001b[38;5;28many\u001b[39m(\u001b[43m_path_starts_with\u001b[49m\u001b[43m(\u001b[49m\u001b[43mf\u001b[49m\u001b[38;5;241;43m.\u001b[39;49m\u001b[43mf_code\u001b[49m\u001b[38;5;241;43m.\u001b[39;49m\u001b[43mco_filename\u001b[49m\u001b[43m,\u001b[49m\u001b[43m \u001b[49m\u001b[43mpath\u001b[49m\u001b[43m)\u001b[49m\n\u001b[1;32m     59\u001b[0m                  \u001b[38;5;28;01mfor\u001b[39;00m path \u001b[38;5;129;01min\u001b[39;00m _exclude_paths)\n",
      "File \u001b[0;32m~/repos/genjax-docs/.venv/lib/python3.11/site-packages/jax/_src/traceback_util.py:42\u001b[0m, in \u001b[0;36m_path_starts_with\u001b[0;34m(path, path_prefix)\u001b[0m\n\u001b[1;32m     41\u001b[0m \u001b[38;5;28;01mdef\u001b[39;00m \u001b[38;5;21m_path_starts_with\u001b[39m(path: \u001b[38;5;28mstr\u001b[39m, path_prefix: \u001b[38;5;28mstr\u001b[39m) \u001b[38;5;241m-\u001b[39m\u001b[38;5;241m>\u001b[39m \u001b[38;5;28mbool\u001b[39m:\n\u001b[0;32m---> 42\u001b[0m   path \u001b[38;5;241m=\u001b[39m \u001b[43mos\u001b[49m\u001b[38;5;241;43m.\u001b[39;49m\u001b[43mpath\u001b[49m\u001b[38;5;241;43m.\u001b[39;49m\u001b[43mabspath\u001b[49m\u001b[43m(\u001b[49m\u001b[43mpath\u001b[49m\u001b[43m)\u001b[49m\n\u001b[1;32m     43\u001b[0m   path_prefix \u001b[38;5;241m=\u001b[39m os\u001b[38;5;241m.\u001b[39mpath\u001b[38;5;241m.\u001b[39mabspath(path_prefix)\n\u001b[1;32m     44\u001b[0m   \u001b[38;5;28;01mtry\u001b[39;00m:\n",
      "File \u001b[0;32m<frozen posixpath>:404\u001b[0m, in \u001b[0;36mabspath\u001b[0;34m(path)\u001b[0m\n",
      "\u001b[0;31mFileNotFoundError\u001b[0m: [Errno 2] No such file or directory"
     ]
    }
   ],
   "source": [
    "# In GenJax, the syntax is a bit different still.\n",
    "# Similarly to Jax having a custom primitive jax.lax.cond that \"composes\" two\n",
    "# functions, GenJax has a custom combinator that \"composes\" two generative \n",
    "# functions.\n",
    "import genjax\n",
    "import jax\n",
    "from genjax import static_gen_fn\n",
    "\n",
    "# We first define the two branches as generative functions\n",
    "@static_gen_fn\n",
    "def branch_1(p):\n",
    "    v = bernoulli(p) @ \"v1\"\n",
    "    return v\n",
    "\n",
    "@static_gen_fn\n",
    "def branch_2(p):\n",
    "    v = bernoulli(-p) @ \"v2\"\n",
    "    return v\n",
    "\n",
    "# Then we use the combinator to compose them\n",
    "switch = genjax.switch_combinator(branch_1, branch_2)\n",
    "key = jax.random.PRNGKey(314159)\n",
    "jitted = jax.jit(switch.simulate)\n",
    "tr = jitted(key, (0,))\n",
    "v1 = tr.get_sample()[\"v1\"]\n",
    "v2 = tr.get_sample()[\"v2\"]"
   ]
  },
  {
   "cell_type": "code",
   "execution_count": 7,
   "metadata": {},
   "outputs": [
    {
     "name": "stdout",
     "output_type": "stream",
     "text": [
      "1\n",
      "1\n"
     ]
    }
   ],
   "source": [
    "# Note that it may be possible to write the following down, but this will not give you what you want in general!\n",
    "from genjax import static_gen_fn\n",
    "from genjax import bernoulli\n",
    "import jax\n",
    "\n",
    "@static_gen_fn\n",
    "def simple_switch_genjax(p):\n",
    "    branch_1 = lambda p: bernoulli(p) @ \"v1\"\n",
    "    branch_2 = lambda p: bernoulli(-p) @ \"v2\"\n",
    "    cond = jax.lax.cond(p > 0, branch_1, branch_2, p)\n",
    "    return cond\n",
    "\n",
    "key = jax.random.PRNGKey(314159)\n",
    "tr1 = simple_switch_genjax.simulate(key, (0.3,))\n",
    "tr2 = simple_switch_genjax.simulate(key, (-0.4,))\n",
    "print(tr1.get_retval())\n",
    "print(tr2.get_retval())"
   ]
  }
 ],
 "metadata": {
  "kernelspec": {
   "display_name": "genjax-trials",
   "language": "python",
   "name": "python3"
  },
  "language_info": {
   "codemirror_mode": {
    "name": "ipython",
    "version": 3
   },
   "file_extension": ".py",
   "mimetype": "text/x-python",
   "name": "python",
   "nbconvert_exporter": "python",
   "pygments_lexer": "ipython3",
   "version": "3.11.6"
  }
 },
 "nbformat": 4,
 "nbformat_minor": 2
}
