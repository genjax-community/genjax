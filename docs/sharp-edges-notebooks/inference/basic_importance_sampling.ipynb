{
 "cells": [
  {
   "cell_type": "markdown",
   "metadata": {},
   "source": [
    "I want to do my first inference task, how do I do it?"
   ]
  },
  {
   "cell_type": "markdown",
   "metadata": {},
   "source": [
    "We will do it with importance sampling, which works as follows.\n",
    "We choose a distribution `q` called a proposal that you we will sample from, and we need a distribution `p` of interest, typically representing a posterior from a model having received observations."
   ]
  },
  {
   "cell_type": "code",
   "execution_count": 8,
   "metadata": {},
   "outputs": [],
   "source": [
    "import genjax\n",
    "import jax\n",
    "\n",
    "# A python version of the algorithm to get the idea\n",
    "def importance_sample(hard, easy):\n",
    "    def _inner(key, hard_args, easy_args):\n",
    "        sample = easy.simulate(key, *easy_args)\n",
    "        easy_logpdf = easy.logpdf(sample, *easy_args)\n",
    "        hard_logpdf = hard.logpdf(sample, *hard_args)\n",
    "        importance_weight = hard_logpdf - easy_logpdf\n",
    "        return (importance_weight, sample)\n",
    "    return _inner"
   ]
  },
  {
   "cell_type": "markdown",
   "metadata": {},
   "source": [
    "Which we can test on a simple example."
   ]
  },
  {
   "cell_type": "code",
   "execution_count": 11,
   "metadata": {},
   "outputs": [],
   "source": [
    "complex_distribution = genjax.mixture_combinator(genjax.categorical, genjax.vmap_combinator(genjax.normal, in_axes=(0,None)))\n",
    "simple_distribution = genjax.normal"
   ]
  },
  {
   "cell_type": "code",
   "execution_count": null,
   "metadata": {},
   "outputs": [],
   "source": [
    "#jitted = jax.jit(importance_sample(hard, easy))\n",
    "key = jax.random.PRNGKey(0)\n",
    "key, sub_key = jax.random.split(key)\n",
    "mix_args = ([0.5, 0.5], [(-3.0, 0.8), (1.0, 0.3)])\n",
    "d_args = ((0.0,), (1.0,))\n",
    "#importance_weight, sample = jitted(sub_key, mix_args, d_args)\n",
    "importance_weight, sample = importance_sample(hard,easy)(sub_key, mix_args, d_args)\n",
    "print((importance_weight, sample))"
   ]
  },
  {
   "cell_type": "markdown",
   "metadata": {},
   "source": [
    "And we can also run it in parallel"
   ]
  },
  {
   "cell_type": "code",
   "execution_count": null,
   "metadata": {},
   "outputs": [],
   "source": [
    "jitted = jax.jit(jax.vmap(importance_sample(hard, easy), in_axes=(0, None, None)))\n",
    "key, *sub_keys = jax.random.split(key, 100 + 1)\n",
    "sub_keys = jnp.array(sub_keys)\n",
    "(importance_weight, sample) = jitted(sub_keys, mix_args, d_args)\n",
    "print((importance_weight, sample))"
   ]
  },
  {
   "cell_type": "markdown",
   "metadata": {},
   "source": [
    "We can also do it natively in genjax"
   ]
  },
  {
   "cell_type": "code",
   "execution_count": 12,
   "metadata": {},
   "outputs": [
    {
     "ename": "IndexError",
     "evalue": "tuple index out of range",
     "output_type": "error",
     "traceback": [
      "\u001b[0;31m---------------------------------------------------------------------------\u001b[0m",
      "\u001b[0;31mIndexError\u001b[0m                                Traceback (most recent call last)",
      "Cell \u001b[0;32mIn[12], line 3\u001b[0m\n\u001b[1;32m      1\u001b[0m \u001b[38;5;66;03m# First using importance sampling with a default proposal\u001b[39;00m\n\u001b[1;32m      2\u001b[0m \u001b[38;5;66;03m# We can also do it natively in genjax\u001b[39;00m\n\u001b[0;32m----> 3\u001b[0m model_trace_2, weight \u001b[38;5;241m=\u001b[39m \u001b[43mcomplex_distribution\u001b[49m\u001b[38;5;241;43m.\u001b[39;49m\u001b[43mimportance\u001b[49m\u001b[43m(\u001b[49m\u001b[43mkey\u001b[49m\u001b[43m,\u001b[49m\u001b[43m \u001b[49m\u001b[43mgenjax\u001b[49m\u001b[38;5;241;43m.\u001b[39;49m\u001b[43mChoiceMap\u001b[49m\u001b[43m(\u001b[49m\u001b[43m{\u001b[49m\u001b[38;5;124;43m\"\u001b[39;49m\u001b[38;5;124;43mp\u001b[39;49m\u001b[38;5;124;43m\"\u001b[39;49m\u001b[43m:\u001b[49m\u001b[43m \u001b[49m\u001b[38;5;241;43m3\u001b[39;49m\u001b[43m}\u001b[49m\u001b[43m,\u001b[49m\u001b[43m{\u001b[49m\u001b[43m}\u001b[49m\u001b[43m)\u001b[49m\u001b[43m,\u001b[49m\u001b[43m \u001b[49m\u001b[43mmix_args\u001b[49m\u001b[43m)\u001b[49m\n",
      "File \u001b[0;32m<@beartype(genjax._src.generative_functions.combinators.compose_combinator.ComposeCombinator.importance) at 0x123caff60>:78\u001b[0m, in \u001b[0;36mimportance\u001b[0;34m(__beartype_object_4895245952, __beartype_get_violation, __beartype_conf, __beartype_object_4888187552, __beartype_object_4888258432, __beartype_object_4895116640, __beartype_object_4888178720, __beartype_object_4894976000, __beartype_func, *args, **kwargs)\u001b[0m\n",
      "File \u001b[0;32m~/repos/genjax-docs/genjax/src/genjax/_src/generative_functions/combinators/compose_combinator.py:94\u001b[0m, in \u001b[0;36mComposeCombinator.importance\u001b[0;34m(self, key, constraint, args)\u001b[0m\n\u001b[1;32m     86\u001b[0m \u001b[38;5;129m@typecheck\u001b[39m\n\u001b[1;32m     87\u001b[0m \u001b[38;5;28;01mdef\u001b[39;00m \u001b[38;5;21mimportance\u001b[39m(\n\u001b[1;32m     88\u001b[0m     \u001b[38;5;28mself\u001b[39m,\n\u001b[0;32m   (...)\u001b[0m\n\u001b[1;32m     91\u001b[0m     args: Tuple,\n\u001b[1;32m     92\u001b[0m ) \u001b[38;5;241m-\u001b[39m\u001b[38;5;241m>\u001b[39m Tuple[ComposeTrace, Weight, UpdateSpec]:\n\u001b[1;32m     93\u001b[0m     inner_args \u001b[38;5;241m=\u001b[39m \u001b[38;5;28mself\u001b[39m\u001b[38;5;241m.\u001b[39margument_mapping(\u001b[38;5;241m*\u001b[39margs)\n\u001b[0;32m---> 94\u001b[0m     tr, w, bwd_spec \u001b[38;5;241m=\u001b[39m \u001b[38;5;28;43mself\u001b[39;49m\u001b[38;5;241;43m.\u001b[39;49m\u001b[43minner\u001b[49m\u001b[38;5;241;43m.\u001b[39;49m\u001b[43mimportance\u001b[49m\u001b[43m(\u001b[49m\u001b[43mkey\u001b[49m\u001b[43m,\u001b[49m\u001b[43m \u001b[49m\u001b[43mconstraint\u001b[49m\u001b[43m,\u001b[49m\u001b[43m \u001b[49m\u001b[43minner_args\u001b[49m\u001b[43m)\u001b[49m\n\u001b[1;32m     95\u001b[0m     inner_retval \u001b[38;5;241m=\u001b[39m tr\u001b[38;5;241m.\u001b[39mget_retval()\n\u001b[1;32m     96\u001b[0m     retval \u001b[38;5;241m=\u001b[39m \u001b[38;5;28mself\u001b[39m\u001b[38;5;241m.\u001b[39mretval_mapping(inner_args, inner_retval)\n",
      "File \u001b[0;32m<@beartype(genjax._src.generative_functions.static.static_gen_fn.StaticGenerativeFunction.importance) at 0x142c3bce0>:78\u001b[0m, in \u001b[0;36mimportance\u001b[0;34m(__beartype_object_4895245952, __beartype_get_violation, __beartype_conf, __beartype_object_4888187552, __beartype_object_5410556432, __beartype_object_4895116640, __beartype_object_4888178720, __beartype_object_4894976000, __beartype_func, *args, **kwargs)\u001b[0m\n",
      "    \u001b[0;31m[... skipping hidden 1 frame]\u001b[0m\n",
      "File \u001b[0;32m~/repos/genjax-docs/genjax/src/genjax/_src/generative_functions/static/static_gen_fn.py:233\u001b[0m, in \u001b[0;36mStaticGenerativeFunction.importance\u001b[0;34m(self, key, constraint, args)\u001b[0m\n\u001b[1;32m    231\u001b[0m \u001b[38;5;28;01mmatch\u001b[39;00m constraint:\n\u001b[1;32m    232\u001b[0m     \u001b[38;5;28;01mcase\u001b[39;00m ChoiceMap():\n\u001b[0;32m--> 233\u001b[0m         \u001b[38;5;28;01mreturn\u001b[39;00m \u001b[38;5;28;43mself\u001b[39;49m\u001b[38;5;241;43m.\u001b[39;49m\u001b[43mimportance_choice_map\u001b[49m\u001b[43m(\u001b[49m\u001b[43mkey\u001b[49m\u001b[43m,\u001b[49m\u001b[43m \u001b[49m\u001b[43mconstraint\u001b[49m\u001b[43m,\u001b[49m\u001b[43m \u001b[49m\u001b[43margs\u001b[49m\u001b[43m)\u001b[49m\n\u001b[1;32m    234\u001b[0m     \u001b[38;5;28;01mcase\u001b[39;00m\u001b[38;5;250m \u001b[39m\u001b[38;5;28;01m_\u001b[39;00m:\n\u001b[1;32m    235\u001b[0m         \u001b[38;5;28;01mraise\u001b[39;00m \u001b[38;5;167;01mException\u001b[39;00m(\u001b[38;5;124m\"\u001b[39m\u001b[38;5;124mNot implemented\u001b[39m\u001b[38;5;124m\"\u001b[39m)\n",
      "File \u001b[0;32m<@beartype(genjax._src.generative_functions.static.static_gen_fn.StaticGenerativeFunction.importance_choice_map) at 0x142c3b9c0>:78\u001b[0m, in \u001b[0;36mimportance_choice_map\u001b[0;34m(__beartype_object_4895245952, __beartype_get_violation, __beartype_conf, __beartype_object_4888247472, __beartype_object_5410556432, __beartype_object_4895116640, __beartype_object_4888178720, __beartype_object_4894976000, __beartype_func, *args, **kwargs)\u001b[0m\n",
      "File \u001b[0;32m~/repos/genjax-docs/genjax/src/genjax/_src/generative_functions/static/static_gen_fn.py:199\u001b[0m, in \u001b[0;36mStaticGenerativeFunction.importance_choice_map\u001b[0;34m(self, key, chm, args)\u001b[0m\n\u001b[1;32m    179\u001b[0m \u001b[38;5;129m@typecheck\u001b[39m\n\u001b[1;32m    180\u001b[0m \u001b[38;5;28;01mdef\u001b[39;00m \u001b[38;5;21mimportance_choice_map\u001b[39m(\n\u001b[1;32m    181\u001b[0m     \u001b[38;5;28mself\u001b[39m,\n\u001b[0;32m   (...)\u001b[0m\n\u001b[1;32m    184\u001b[0m     args: Tuple,\n\u001b[1;32m    185\u001b[0m ) \u001b[38;5;241m-\u001b[39m\u001b[38;5;241m>\u001b[39m Tuple[StaticTrace, Weight, UpdateSpec]:\n\u001b[1;32m    186\u001b[0m     syntax_sugar_handled \u001b[38;5;241m=\u001b[39m push_trace_overload_stack(\n\u001b[1;32m    187\u001b[0m         handler_trace_with_static, \u001b[38;5;28mself\u001b[39m\u001b[38;5;241m.\u001b[39msource\n\u001b[1;32m    188\u001b[0m     )\n\u001b[1;32m    189\u001b[0m     (\n\u001b[1;32m    190\u001b[0m         w,\n\u001b[1;32m    191\u001b[0m         (\n\u001b[1;32m    192\u001b[0m             args,\n\u001b[1;32m    193\u001b[0m             retval,\n\u001b[1;32m    194\u001b[0m             address_visitor,\n\u001b[1;32m    195\u001b[0m             address_traces,\n\u001b[1;32m    196\u001b[0m             score,\n\u001b[1;32m    197\u001b[0m         ),\n\u001b[1;32m    198\u001b[0m         bwd_specs,\n\u001b[0;32m--> 199\u001b[0m     ) \u001b[38;5;241m=\u001b[39m \u001b[43mimportance_transform\u001b[49m\u001b[43m(\u001b[49m\u001b[43msyntax_sugar_handled\u001b[49m\u001b[43m)\u001b[49m\u001b[43m(\u001b[49m\u001b[43mkey\u001b[49m\u001b[43m,\u001b[49m\u001b[43m \u001b[49m\u001b[43mchm\u001b[49m\u001b[43m,\u001b[49m\u001b[43m \u001b[49m\u001b[43margs\u001b[49m\u001b[43m)\u001b[49m\n\u001b[1;32m    201\u001b[0m     \u001b[38;5;28;01mdef\u001b[39;00m \u001b[38;5;21mmake_bwd_spec\u001b[39m(visitor, subspecs):\n\u001b[1;32m    202\u001b[0m         addresses \u001b[38;5;241m=\u001b[39m visitor\u001b[38;5;241m.\u001b[39mget_visited()\n",
      "File \u001b[0;32m~/repos/genjax-docs/genjax/src/genjax/_src/generative_functions/static/static_transforms.py:302\u001b[0m, in \u001b[0;36mimportance_transform.<locals>.wrapper\u001b[0;34m(key, constraints, args)\u001b[0m\n\u001b[1;32m    299\u001b[0m \u001b[38;5;129m@functools\u001b[39m\u001b[38;5;241m.\u001b[39mwraps(source_fn)\n\u001b[1;32m    300\u001b[0m \u001b[38;5;28;01mdef\u001b[39;00m \u001b[38;5;21mwrapper\u001b[39m(key, constraints, args):\n\u001b[1;32m    301\u001b[0m     stateful_handler \u001b[38;5;241m=\u001b[39m ImportanceHandler(key, constraints)\n\u001b[0;32m--> 302\u001b[0m     retval \u001b[38;5;241m=\u001b[39m \u001b[43mforward\u001b[49m\u001b[43m(\u001b[49m\u001b[43msource_fn\u001b[49m\u001b[43m)\u001b[49m\u001b[43m(\u001b[49m\u001b[43mstateful_handler\u001b[49m\u001b[43m,\u001b[49m\u001b[43m \u001b[49m\u001b[38;5;241;43m*\u001b[39;49m\u001b[43margs\u001b[49m\u001b[43m)\u001b[49m\n\u001b[1;32m    303\u001b[0m     (\n\u001b[1;32m    304\u001b[0m         score,\n\u001b[1;32m    305\u001b[0m         weight,\n\u001b[0;32m   (...)\u001b[0m\n\u001b[1;32m    308\u001b[0m         bwd_specs,\n\u001b[1;32m    309\u001b[0m     ) \u001b[38;5;241m=\u001b[39m stateful_handler\u001b[38;5;241m.\u001b[39myield_state()\n\u001b[1;32m    310\u001b[0m     \u001b[38;5;28;01mreturn\u001b[39;00m (\n\u001b[1;32m    311\u001b[0m         weight,\n\u001b[1;32m    312\u001b[0m         (\n\u001b[0;32m   (...)\u001b[0m\n\u001b[1;32m    319\u001b[0m         bwd_specs,\n\u001b[1;32m    320\u001b[0m     )\n",
      "File \u001b[0;32m<@beartype(genjax._src.core.interpreters.forward.forward.wrapped) at 0x1433358a0>:32\u001b[0m, in \u001b[0;36mwrapped\u001b[0;34m(__beartype_object_4888162400, __beartype_get_violation, __beartype_conf, __beartype_func, *args, **kwargs)\u001b[0m\n",
      "File \u001b[0;32m~/repos/genjax-docs/genjax/src/genjax/_src/core/interpreters/forward.py:257\u001b[0m, in \u001b[0;36mforward.<locals>.wrapped\u001b[0;34m(stateful_handler, *args)\u001b[0m\n\u001b[1;32m    253\u001b[0m \u001b[38;5;129m@functools\u001b[39m\u001b[38;5;241m.\u001b[39mwraps(f)\n\u001b[1;32m    254\u001b[0m \u001b[38;5;129m@typecheck\u001b[39m\n\u001b[1;32m    255\u001b[0m \u001b[38;5;28;01mdef\u001b[39;00m \u001b[38;5;21mwrapped\u001b[39m(stateful_handler: StatefulHandler, \u001b[38;5;241m*\u001b[39margs):\n\u001b[1;32m    256\u001b[0m     interpreter \u001b[38;5;241m=\u001b[39m ForwardInterpreter()\n\u001b[0;32m--> 257\u001b[0m     \u001b[38;5;28;01mreturn\u001b[39;00m \u001b[43minterpreter\u001b[49m\u001b[38;5;241;43m.\u001b[39;49m\u001b[43mrun_interpreter\u001b[49m\u001b[43m(\u001b[49m\n\u001b[1;32m    258\u001b[0m \u001b[43m        \u001b[49m\u001b[43mstateful_handler\u001b[49m\u001b[43m,\u001b[49m\n\u001b[1;32m    259\u001b[0m \u001b[43m        \u001b[49m\u001b[43mf\u001b[49m\u001b[43m,\u001b[49m\n\u001b[1;32m    260\u001b[0m \u001b[43m        \u001b[49m\u001b[38;5;241;43m*\u001b[39;49m\u001b[43margs\u001b[49m\u001b[43m,\u001b[49m\n\u001b[1;32m    261\u001b[0m \u001b[43m    \u001b[49m\u001b[43m)\u001b[49m\n",
      "File \u001b[0;32m~/repos/genjax-docs/genjax/src/genjax/_src/core/interpreters/forward.py:240\u001b[0m, in \u001b[0;36mForwardInterpreter.run_interpreter\u001b[0;34m(self, stateful_handler, fn, *args, **kwargs)\u001b[0m\n\u001b[1;32m    237\u001b[0m \u001b[38;5;28;01mdef\u001b[39;00m \u001b[38;5;21m_inner\u001b[39m(\u001b[38;5;241m*\u001b[39margs):\n\u001b[1;32m    238\u001b[0m     \u001b[38;5;28;01mreturn\u001b[39;00m fn(\u001b[38;5;241m*\u001b[39margs, \u001b[38;5;241m*\u001b[39m\u001b[38;5;241m*\u001b[39mkwargs)\n\u001b[0;32m--> 240\u001b[0m _closed_jaxpr, (flat_args, _, out_tree) \u001b[38;5;241m=\u001b[39m \u001b[43mstage\u001b[49m\u001b[43m(\u001b[49m\u001b[43m_inner\u001b[49m\u001b[43m)\u001b[49m\u001b[43m(\u001b[49m\u001b[38;5;241;43m*\u001b[39;49m\u001b[43margs\u001b[49m\u001b[43m)\u001b[49m\n\u001b[1;32m    241\u001b[0m _jaxpr, consts \u001b[38;5;241m=\u001b[39m _closed_jaxpr\u001b[38;5;241m.\u001b[39mjaxpr, _closed_jaxpr\u001b[38;5;241m.\u001b[39mliterals\n\u001b[1;32m    242\u001b[0m flat_out \u001b[38;5;241m=\u001b[39m \u001b[38;5;28mself\u001b[39m\u001b[38;5;241m.\u001b[39m_eval_jaxpr_forward(\n\u001b[1;32m    243\u001b[0m     stateful_handler,\n\u001b[1;32m    244\u001b[0m     _jaxpr,\n\u001b[1;32m    245\u001b[0m     consts,\n\u001b[1;32m    246\u001b[0m     flat_args,\n\u001b[1;32m    247\u001b[0m )\n",
      "File \u001b[0;32m~/repos/genjax-docs/genjax/src/genjax/_src/core/interpreters/staging.py:125\u001b[0m, in \u001b[0;36mstage.<locals>.wrapped\u001b[0;34m(*args, **kwargs)\u001b[0m\n\u001b[1;32m    123\u001b[0m flat_fun, out_tree \u001b[38;5;241m=\u001b[39m api_util\u001b[38;5;241m.\u001b[39mflatten_fun_nokwargs(fun, in_tree)\n\u001b[1;32m    124\u001b[0m flat_avals \u001b[38;5;241m=\u001b[39m safe_map(get_shaped_aval, flat_args)\n\u001b[0;32m--> 125\u001b[0m typed_jaxpr \u001b[38;5;241m=\u001b[39m \u001b[43mcached_stage_dynamic\u001b[49m\u001b[43m(\u001b[49m\u001b[43mflat_fun\u001b[49m\u001b[43m,\u001b[49m\u001b[43m \u001b[49m\u001b[38;5;28;43mtuple\u001b[39;49m\u001b[43m(\u001b[49m\u001b[43mflat_avals\u001b[49m\u001b[43m)\u001b[49m\u001b[43m)\u001b[49m\n\u001b[1;32m    126\u001b[0m \u001b[38;5;28;01mreturn\u001b[39;00m typed_jaxpr, (flat_args, in_tree, out_tree)\n",
      "    \u001b[0;31m[... skipping hidden 1 frame]\u001b[0m\n",
      "File \u001b[0;32m~/repos/genjax-docs/genjax/src/genjax/_src/core/interpreters/staging.py:112\u001b[0m, in \u001b[0;36mcached_stage_dynamic\u001b[0;34m(flat_fun, in_avals)\u001b[0m\n\u001b[1;32m    110\u001b[0m \u001b[38;5;129m@lu\u001b[39m\u001b[38;5;241m.\u001b[39mcache\n\u001b[1;32m    111\u001b[0m \u001b[38;5;28;01mdef\u001b[39;00m \u001b[38;5;21mcached_stage_dynamic\u001b[39m(flat_fun, in_avals):\n\u001b[0;32m--> 112\u001b[0m     jaxpr, _, consts \u001b[38;5;241m=\u001b[39m \u001b[43mpe\u001b[49m\u001b[38;5;241;43m.\u001b[39;49m\u001b[43mtrace_to_jaxpr_dynamic\u001b[49m\u001b[43m(\u001b[49m\u001b[43mflat_fun\u001b[49m\u001b[43m,\u001b[49m\u001b[43m \u001b[49m\u001b[43min_avals\u001b[49m\u001b[43m)\u001b[49m\n\u001b[1;32m    113\u001b[0m     typed_jaxpr \u001b[38;5;241m=\u001b[39m jc\u001b[38;5;241m.\u001b[39mClosedJaxpr(jaxpr, consts)\n\u001b[1;32m    114\u001b[0m     \u001b[38;5;28;01mreturn\u001b[39;00m typed_jaxpr\n",
      "    \u001b[0;31m[... skipping hidden 5 frame]\u001b[0m\n",
      "File \u001b[0;32m~/repos/genjax-docs/genjax/src/genjax/_src/core/interpreters/forward.py:238\u001b[0m, in \u001b[0;36mForwardInterpreter.run_interpreter.<locals>._inner\u001b[0;34m(*args)\u001b[0m\n\u001b[1;32m    237\u001b[0m \u001b[38;5;28;01mdef\u001b[39;00m \u001b[38;5;21m_inner\u001b[39m(\u001b[38;5;241m*\u001b[39margs):\n\u001b[0;32m--> 238\u001b[0m     \u001b[38;5;28;01mreturn\u001b[39;00m \u001b[43mfn\u001b[49m\u001b[43m(\u001b[49m\u001b[38;5;241;43m*\u001b[39;49m\u001b[43margs\u001b[49m\u001b[43m,\u001b[49m\u001b[43m \u001b[49m\u001b[38;5;241;43m*\u001b[39;49m\u001b[38;5;241;43m*\u001b[39;49m\u001b[43mkwargs\u001b[49m\u001b[43m)\u001b[49m\n",
      "File \u001b[0;32m~/repos/genjax-docs/genjax/src/genjax/_src/core/generative/core.py:718\u001b[0m, in \u001b[0;36mpush_trace_overload_stack.<locals>.wrapped\u001b[0;34m(*args)\u001b[0m\n\u001b[1;32m    716\u001b[0m \u001b[38;5;28;01mdef\u001b[39;00m \u001b[38;5;21mwrapped\u001b[39m(\u001b[38;5;241m*\u001b[39margs):\n\u001b[1;32m    717\u001b[0m     GLOBAL_TRACE_OP_HANDLER_STACK\u001b[38;5;241m.\u001b[39mappend(handler)\n\u001b[0;32m--> 718\u001b[0m     ret \u001b[38;5;241m=\u001b[39m \u001b[43mfn\u001b[49m\u001b[43m(\u001b[49m\u001b[38;5;241;43m*\u001b[39;49m\u001b[43margs\u001b[49m\u001b[43m)\u001b[49m\n\u001b[1;32m    719\u001b[0m     GLOBAL_TRACE_OP_HANDLER_STACK\u001b[38;5;241m.\u001b[39mpop()\n\u001b[1;32m    720\u001b[0m     \u001b[38;5;28;01mreturn\u001b[39;00m ret\n",
      "File \u001b[0;32m~/repos/genjax-docs/genjax/src/genjax/_src/core/pytree.py:417\u001b[0m, in \u001b[0;36mClosure.__call__\u001b[0;34m(self, *args, **kwargs)\u001b[0m\n\u001b[1;32m    416\u001b[0m \u001b[38;5;28;01mdef\u001b[39;00m \u001b[38;5;21m__call__\u001b[39m(\u001b[38;5;28mself\u001b[39m, \u001b[38;5;241m*\u001b[39margs, \u001b[38;5;241m*\u001b[39m\u001b[38;5;241m*\u001b[39mkwargs):\n\u001b[0;32m--> 417\u001b[0m     \u001b[38;5;28;01mreturn\u001b[39;00m \u001b[38;5;28;43mself\u001b[39;49m\u001b[38;5;241;43m.\u001b[39;49m\u001b[43mfn\u001b[49m\u001b[43m(\u001b[49m\u001b[38;5;241;43m*\u001b[39;49m\u001b[38;5;28;43mself\u001b[39;49m\u001b[38;5;241;43m.\u001b[39;49m\u001b[43mdyn_args\u001b[49m\u001b[43m,\u001b[49m\u001b[43m \u001b[49m\u001b[38;5;241;43m*\u001b[39;49m\u001b[43margs\u001b[49m\u001b[43m,\u001b[49m\u001b[43m \u001b[49m\u001b[38;5;241;43m*\u001b[39;49m\u001b[38;5;241;43m*\u001b[39;49m\u001b[43mkwargs\u001b[49m\u001b[43m)\u001b[49m\n",
      "File \u001b[0;32m~/repos/genjax-docs/genjax/src/genjax/_src/generative_functions/combinators/mixture_combinator.py:45\u001b[0m, in \u001b[0;36mmixture_combinator.<locals>.mixture_model\u001b[0;34m(mixture_logits, *args)\u001b[0m\n\u001b[1;32m     42\u001b[0m \u001b[38;5;129m@gen\u001b[39m\n\u001b[1;32m     43\u001b[0m \u001b[38;5;28;01mdef\u001b[39;00m \u001b[38;5;21mmixture_model\u001b[39m(mixture_logits, \u001b[38;5;241m*\u001b[39margs):\n\u001b[1;32m     44\u001b[0m     mix_idx \u001b[38;5;241m=\u001b[39m categorical(logits\u001b[38;5;241m=\u001b[39mmixture_logits) \u001b[38;5;241m@\u001b[39m \u001b[38;5;124m\"\u001b[39m\u001b[38;5;124mmixture_component\u001b[39m\u001b[38;5;124m\"\u001b[39m\n\u001b[0;32m---> 45\u001b[0m     v \u001b[38;5;241m=\u001b[39m \u001b[43minner_combinator_closure\u001b[49m\u001b[43m(\u001b[49m\u001b[43mmix_idx\u001b[49m\u001b[43m,\u001b[49m\u001b[43m \u001b[49m\u001b[38;5;241;43m*\u001b[39;49m\u001b[43margs\u001b[49m\u001b[43m)\u001b[49m\u001b[43m \u001b[49m\u001b[38;5;241;43m@\u001b[39;49m\u001b[43m \u001b[49m\u001b[38;5;124;43m\"\u001b[39;49m\u001b[38;5;124;43mcomponent_sample\u001b[39;49m\u001b[38;5;124;43m\"\u001b[39;49m\n\u001b[1;32m     46\u001b[0m     \u001b[38;5;28;01mreturn\u001b[39;00m v\n",
      "File \u001b[0;32m~/repos/genjax-docs/genjax/src/genjax/_src/core/generative/core.py:779\u001b[0m, in \u001b[0;36mGenerativeFunctionClosure.__matmul__\u001b[0;34m(self, addr)\u001b[0m\n\u001b[1;32m    773\u001b[0m     \u001b[38;5;28;01mreturn\u001b[39;00m handle_off_trace_stack(\n\u001b[1;32m    774\u001b[0m         addr,\n\u001b[1;32m    775\u001b[0m         maybe_kwarged_gen_fn,\n\u001b[1;32m    776\u001b[0m         (\u001b[38;5;28mself\u001b[39m\u001b[38;5;241m.\u001b[39margs, \u001b[38;5;28mself\u001b[39m\u001b[38;5;241m.\u001b[39mkwargs),\n\u001b[1;32m    777\u001b[0m     )\n\u001b[1;32m    778\u001b[0m \u001b[38;5;28;01melse\u001b[39;00m:\n\u001b[0;32m--> 779\u001b[0m     \u001b[38;5;28;01mreturn\u001b[39;00m \u001b[43mhandle_off_trace_stack\u001b[49m\u001b[43m(\u001b[49m\n\u001b[1;32m    780\u001b[0m \u001b[43m        \u001b[49m\u001b[43maddr\u001b[49m\u001b[43m,\u001b[49m\n\u001b[1;32m    781\u001b[0m \u001b[43m        \u001b[49m\u001b[38;5;28;43mself\u001b[39;49m\u001b[38;5;241;43m.\u001b[39;49m\u001b[43mgen_fn\u001b[49m\u001b[43m,\u001b[49m\n\u001b[1;32m    782\u001b[0m \u001b[43m        \u001b[49m\u001b[38;5;28;43mself\u001b[39;49m\u001b[38;5;241;43m.\u001b[39;49m\u001b[43margs\u001b[49m\u001b[43m,\u001b[49m\n\u001b[1;32m    783\u001b[0m \u001b[43m    \u001b[49m\u001b[43m)\u001b[49m\n",
      "File \u001b[0;32m~/repos/genjax-docs/genjax/src/genjax/_src/core/generative/core.py:708\u001b[0m, in \u001b[0;36mhandle_off_trace_stack\u001b[0;34m(addr, gen_fn, args)\u001b[0m\n\u001b[1;32m    706\u001b[0m \u001b[38;5;28;01mif\u001b[39;00m GLOBAL_TRACE_OP_HANDLER_STACK:\n\u001b[1;32m    707\u001b[0m     handler \u001b[38;5;241m=\u001b[39m GLOBAL_TRACE_OP_HANDLER_STACK[\u001b[38;5;241m-\u001b[39m\u001b[38;5;241m1\u001b[39m]\n\u001b[0;32m--> 708\u001b[0m     \u001b[38;5;28;01mreturn\u001b[39;00m \u001b[43mhandler\u001b[49m\u001b[43m(\u001b[49m\u001b[43maddr\u001b[49m\u001b[43m,\u001b[49m\u001b[43m \u001b[49m\u001b[43mgen_fn\u001b[49m\u001b[43m,\u001b[49m\u001b[43m \u001b[49m\u001b[43margs\u001b[49m\u001b[43m)\u001b[49m\n\u001b[1;32m    709\u001b[0m \u001b[38;5;28;01melse\u001b[39;00m:\n\u001b[1;32m    710\u001b[0m     \u001b[38;5;28;01mraise\u001b[39;00m \u001b[38;5;167;01mException\u001b[39;00m(\n\u001b[1;32m    711\u001b[0m         \u001b[38;5;124m\"\u001b[39m\u001b[38;5;124mAttempting to invoke trace outside of a tracing context.\u001b[39m\u001b[38;5;130;01m\\n\u001b[39;00m\u001b[38;5;124mIf you want to invoke the generative function closure, and recieve a return value,\u001b[39m\u001b[38;5;130;01m\\n\u001b[39;00m\u001b[38;5;124minvoke it with a key.\u001b[39m\u001b[38;5;124m\"\u001b[39m\n\u001b[1;32m    712\u001b[0m     )\n",
      "File \u001b[0;32m<@beartype(genjax._src.generative_functions.static.static_gen_fn.handler_trace_with_static) at 0x142c2b9c0>:101\u001b[0m, in \u001b[0;36mhandler_trace_with_static\u001b[0;34m(__beartype_object_4895406016, __beartype_getrandbits, __beartype_get_violation, __beartype_conf, __beartype_object_4888211552, __beartype_func, *args, **kwargs)\u001b[0m\n",
      "File \u001b[0;32m~/repos/genjax-docs/genjax/src/genjax/_src/generative_functions/static/static_gen_fn.py:105\u001b[0m, in \u001b[0;36mhandler_trace_with_static\u001b[0;34m(addr, gen_fn, args)\u001b[0m\n\u001b[1;32m     99\u001b[0m \u001b[38;5;129m@typecheck\u001b[39m\n\u001b[1;32m    100\u001b[0m \u001b[38;5;28;01mdef\u001b[39;00m \u001b[38;5;21mhandler_trace_with_static\u001b[39m(\n\u001b[1;32m    101\u001b[0m     addr: Address,\n\u001b[1;32m    102\u001b[0m     gen_fn: GenerativeFunction,\n\u001b[1;32m    103\u001b[0m     args: Tuple,\n\u001b[1;32m    104\u001b[0m ):\n\u001b[0;32m--> 105\u001b[0m     \u001b[38;5;28;01mreturn\u001b[39;00m \u001b[43mtrace\u001b[49m\u001b[43m(\u001b[49m\u001b[43maddr\u001b[49m\u001b[43m,\u001b[49m\u001b[43m \u001b[49m\u001b[43mgen_fn\u001b[49m\u001b[43m,\u001b[49m\u001b[43m \u001b[49m\u001b[43margs\u001b[49m\u001b[43m)\u001b[49m\n",
      "File \u001b[0;32m<@beartype(genjax._src.generative_functions.static.static_transforms.trace) at 0x142c38400>:101\u001b[0m, in \u001b[0;36mtrace\u001b[0;34m(__beartype_object_4895406016, __beartype_getrandbits, __beartype_get_violation, __beartype_conf, __beartype_object_4888211552, __beartype_func, *args, **kwargs)\u001b[0m\n",
      "File \u001b[0;32m~/repos/genjax-docs/genjax/src/genjax/_src/generative_functions/static/static_transforms.py:121\u001b[0m, in \u001b[0;36mtrace\u001b[0;34m(addr, gen_fn, args)\u001b[0m\n\u001b[1;32m    119\u001b[0m static_check_address_type(addr)\n\u001b[1;32m    120\u001b[0m addr \u001b[38;5;241m=\u001b[39m Pytree\u001b[38;5;241m.\u001b[39mtree_const(addr)\n\u001b[0;32m--> 121\u001b[0m \u001b[38;5;28;01mreturn\u001b[39;00m \u001b[43minitial_style_bind\u001b[49m\u001b[43m(\u001b[49m\u001b[43mtrace_p\u001b[49m\u001b[43m)\u001b[49m\u001b[43m(\u001b[49m\u001b[43m_abstract_gen_fn_call\u001b[49m\u001b[43m)\u001b[49m\u001b[43m(\u001b[49m\n\u001b[1;32m    122\u001b[0m \u001b[43m    \u001b[49m\u001b[43maddr\u001b[49m\u001b[43m,\u001b[49m\n\u001b[1;32m    123\u001b[0m \u001b[43m    \u001b[49m\u001b[43mgen_fn\u001b[49m\u001b[43m,\u001b[49m\n\u001b[1;32m    124\u001b[0m \u001b[43m    \u001b[49m\u001b[43margs\u001b[49m\u001b[43m,\u001b[49m\n\u001b[1;32m    125\u001b[0m \u001b[43m\u001b[49m\u001b[43m)\u001b[49m\n",
      "File \u001b[0;32m~/repos/genjax-docs/genjax/src/genjax/_src/core/interpreters/forward.py:121\u001b[0m, in \u001b[0;36minitial_style_bind.<locals>.bind.<locals>.wrapped\u001b[0;34m(*args, **kwargs)\u001b[0m\n\u001b[1;32m    119\u001b[0m \u001b[38;5;28;01mdef\u001b[39;00m \u001b[38;5;21mwrapped\u001b[39m(\u001b[38;5;241m*\u001b[39margs, \u001b[38;5;241m*\u001b[39m\u001b[38;5;241m*\u001b[39mkwargs):\n\u001b[1;32m    120\u001b[0m \u001b[38;5;250m    \u001b[39m\u001b[38;5;124;03m\"\"\"Runs a function and binds it to a call primitive.\"\"\"\u001b[39;00m\n\u001b[0;32m--> 121\u001b[0m     _jaxpr, (flat_args, in_tree, out_tree) \u001b[38;5;241m=\u001b[39m \u001b[43mstage\u001b[49m\u001b[43m(\u001b[49m\u001b[43mf\u001b[49m\u001b[43m)\u001b[49m\u001b[43m(\u001b[49m\u001b[38;5;241;43m*\u001b[39;49m\u001b[43margs\u001b[49m\u001b[43m,\u001b[49m\u001b[43m \u001b[49m\u001b[38;5;241;43m*\u001b[39;49m\u001b[38;5;241;43m*\u001b[39;49m\u001b[43mkwargs\u001b[49m\u001b[43m)\u001b[49m\n\u001b[1;32m    122\u001b[0m     outs \u001b[38;5;241m=\u001b[39m prim\u001b[38;5;241m.\u001b[39mbind(\n\u001b[1;32m    123\u001b[0m         \u001b[38;5;241m*\u001b[39mit\u001b[38;5;241m.\u001b[39mchain(_jaxpr\u001b[38;5;241m.\u001b[39mliterals, flat_args),\n\u001b[1;32m    124\u001b[0m         _jaxpr\u001b[38;5;241m=\u001b[39m_jaxpr\u001b[38;5;241m.\u001b[39mjaxpr,\n\u001b[0;32m   (...)\u001b[0m\n\u001b[1;32m    128\u001b[0m         \u001b[38;5;241m*\u001b[39m\u001b[38;5;241m*\u001b[39mparams,\n\u001b[1;32m    129\u001b[0m     )\n\u001b[1;32m    130\u001b[0m     \u001b[38;5;28;01mreturn\u001b[39;00m tree_util\u001b[38;5;241m.\u001b[39mtree_unflatten(out_tree(), outs)\n",
      "File \u001b[0;32m~/repos/genjax-docs/genjax/src/genjax/_src/core/interpreters/staging.py:125\u001b[0m, in \u001b[0;36mstage.<locals>.wrapped\u001b[0;34m(*args, **kwargs)\u001b[0m\n\u001b[1;32m    123\u001b[0m flat_fun, out_tree \u001b[38;5;241m=\u001b[39m api_util\u001b[38;5;241m.\u001b[39mflatten_fun_nokwargs(fun, in_tree)\n\u001b[1;32m    124\u001b[0m flat_avals \u001b[38;5;241m=\u001b[39m safe_map(get_shaped_aval, flat_args)\n\u001b[0;32m--> 125\u001b[0m typed_jaxpr \u001b[38;5;241m=\u001b[39m \u001b[43mcached_stage_dynamic\u001b[49m\u001b[43m(\u001b[49m\u001b[43mflat_fun\u001b[49m\u001b[43m,\u001b[49m\u001b[43m \u001b[49m\u001b[38;5;28;43mtuple\u001b[39;49m\u001b[43m(\u001b[49m\u001b[43mflat_avals\u001b[49m\u001b[43m)\u001b[49m\u001b[43m)\u001b[49m\n\u001b[1;32m    126\u001b[0m \u001b[38;5;28;01mreturn\u001b[39;00m typed_jaxpr, (flat_args, in_tree, out_tree)\n",
      "    \u001b[0;31m[... skipping hidden 1 frame]\u001b[0m\n",
      "File \u001b[0;32m~/repos/genjax-docs/genjax/src/genjax/_src/core/interpreters/staging.py:112\u001b[0m, in \u001b[0;36mcached_stage_dynamic\u001b[0;34m(flat_fun, in_avals)\u001b[0m\n\u001b[1;32m    110\u001b[0m \u001b[38;5;129m@lu\u001b[39m\u001b[38;5;241m.\u001b[39mcache\n\u001b[1;32m    111\u001b[0m \u001b[38;5;28;01mdef\u001b[39;00m \u001b[38;5;21mcached_stage_dynamic\u001b[39m(flat_fun, in_avals):\n\u001b[0;32m--> 112\u001b[0m     jaxpr, _, consts \u001b[38;5;241m=\u001b[39m \u001b[43mpe\u001b[49m\u001b[38;5;241;43m.\u001b[39;49m\u001b[43mtrace_to_jaxpr_dynamic\u001b[49m\u001b[43m(\u001b[49m\u001b[43mflat_fun\u001b[49m\u001b[43m,\u001b[49m\u001b[43m \u001b[49m\u001b[43min_avals\u001b[49m\u001b[43m)\u001b[49m\n\u001b[1;32m    113\u001b[0m     typed_jaxpr \u001b[38;5;241m=\u001b[39m jc\u001b[38;5;241m.\u001b[39mClosedJaxpr(jaxpr, consts)\n\u001b[1;32m    114\u001b[0m     \u001b[38;5;28;01mreturn\u001b[39;00m typed_jaxpr\n",
      "    \u001b[0;31m[... skipping hidden 5 frame]\u001b[0m\n",
      "File \u001b[0;32m~/repos/genjax-docs/genjax/src/genjax/_src/generative_functions/static/static_transforms.py:103\u001b[0m, in \u001b[0;36m_abstract_gen_fn_call\u001b[0;34m(addr, gen_fn, args)\u001b[0m\n\u001b[1;32m    102\u001b[0m \u001b[38;5;28;01mdef\u001b[39;00m \u001b[38;5;21m_abstract_gen_fn_call\u001b[39m(addr, gen_fn, args):\n\u001b[0;32m--> 103\u001b[0m     \u001b[38;5;28;01mreturn\u001b[39;00m \u001b[43mgen_fn\u001b[49m\u001b[38;5;241;43m.\u001b[39;49m\u001b[43m__abstract_call__\u001b[49m\u001b[43m(\u001b[49m\u001b[38;5;241;43m*\u001b[39;49m\u001b[43margs\u001b[49m\u001b[43m)\u001b[49m\n",
      "File \u001b[0;32m~/repos/genjax-docs/genjax/src/genjax/_src/generative_functions/combinators/switch_combinator.py:170\u001b[0m, in \u001b[0;36mSwitchCombinator.__abstract_call__\u001b[0;34m(self, idx, *args)\u001b[0m\n\u001b[1;32m    168\u001b[0m retvals \u001b[38;5;241m=\u001b[39m []\n\u001b[1;32m    169\u001b[0m \u001b[38;5;28;01mfor\u001b[39;00m _idx \u001b[38;5;129;01min\u001b[39;00m \u001b[38;5;28mrange\u001b[39m(\u001b[38;5;28mlen\u001b[39m(\u001b[38;5;28mself\u001b[39m\u001b[38;5;241m.\u001b[39mbranches)):\n\u001b[0;32m--> 170\u001b[0m     branch_gen_fn_closure \u001b[38;5;241m=\u001b[39m \u001b[38;5;28;43mself\u001b[39;49m\u001b[38;5;241;43m.\u001b[39;49m\u001b[43mget_branch_gen_fn_closure\u001b[49m\u001b[43m(\u001b[49m\u001b[43m_idx\u001b[49m\u001b[43m,\u001b[49m\u001b[43m \u001b[49m\u001b[43margs\u001b[49m\u001b[43m)\u001b[49m\n\u001b[1;32m    171\u001b[0m     retval \u001b[38;5;241m=\u001b[39m branch_gen_fn_closure\u001b[38;5;241m.\u001b[39m__abstract_call__()\n\u001b[1;32m    172\u001b[0m     retvals\u001b[38;5;241m.\u001b[39mappend(retval)\n",
      "File \u001b[0;32m~/repos/genjax-docs/genjax/src/genjax/_src/generative_functions/combinators/switch_combinator.py:186\u001b[0m, in \u001b[0;36mSwitchCombinator.get_branch_gen_fn_closure\u001b[0;34m(self, static_idx, args)\u001b[0m\n\u001b[1;32m    178\u001b[0m \u001b[38;5;28;01mdef\u001b[39;00m \u001b[38;5;21mget_branch_gen_fn_closure\u001b[39m(\n\u001b[1;32m    179\u001b[0m     \u001b[38;5;28mself\u001b[39m,\n\u001b[1;32m    180\u001b[0m     static_idx: \u001b[38;5;28mint\u001b[39m,\n\u001b[1;32m    181\u001b[0m     args: Tuple,\n\u001b[1;32m    182\u001b[0m ):\n\u001b[1;32m    183\u001b[0m     branch_gen_fn \u001b[38;5;241m=\u001b[39m \u001b[38;5;28mself\u001b[39m\u001b[38;5;241m.\u001b[39mbranches[static_idx]\n\u001b[1;32m    184\u001b[0m     branch_args \u001b[38;5;241m=\u001b[39m (\n\u001b[1;32m    185\u001b[0m         args[static_idx]\n\u001b[0;32m--> 186\u001b[0m         \u001b[38;5;28;01mif\u001b[39;00m \u001b[38;5;28misinstance\u001b[39m(\u001b[43margs\u001b[49m\u001b[43m[\u001b[49m\u001b[43mstatic_idx\u001b[49m\u001b[43m]\u001b[49m, \u001b[38;5;28mtuple\u001b[39m)\n\u001b[1;32m    187\u001b[0m         \u001b[38;5;28;01melse\u001b[39;00m (args[static_idx],)\n\u001b[1;32m    188\u001b[0m     )\n\u001b[1;32m    189\u001b[0m     \u001b[38;5;28;01mreturn\u001b[39;00m branch_gen_fn(\u001b[38;5;241m*\u001b[39mbranch_args)\n",
      "\u001b[0;31mIndexError\u001b[0m: tuple index out of range"
     ]
    }
   ],
   "source": [
    "# First using importance sampling with a default proposal\n",
    "# We can also do it natively in genjax\n",
    "model_trace_2, weight = complex_distribution.importance(key, genjax.ChoiceMap({\"p\": 3},{}), mix_args)"
   ]
  },
  {
   "cell_type": "code",
   "execution_count": null,
   "metadata": {},
   "outputs": [],
   "source": [
    "#TODO: a version for GenSP here could be good.\n"
   ]
  }
 ],
 "metadata": {
  "kernelspec": {
   "display_name": ".venv",
   "language": "python",
   "name": "python3"
  },
  "language_info": {
   "codemirror_mode": {
    "name": "ipython",
    "version": 3
   },
   "file_extension": ".py",
   "mimetype": "text/x-python",
   "name": "python",
   "nbconvert_exporter": "python",
   "pygments_lexer": "ipython3",
   "version": "3.11.6"
  }
 },
 "nbformat": 4,
 "nbformat_minor": 2
}
