{
 "cells": [
  {
   "cell_type": "markdown",
   "metadata": {},
   "source": [
    "I want to do my first inference task, how do I do it?"
   ]
  },
  {
   "cell_type": "markdown",
   "metadata": {},
   "source": [
    "We will do it with importance sampling, which works as follows.\n",
    "We choose a distribution `q` called a proposal that you we will sample from, and we need a distribution `p` of interest, typically representing a posterior from a model having received observations."
   ]
  },
  {
   "cell_type": "code",
   "execution_count": 11,
   "metadata": {},
   "outputs": [
    {
     "ename": "FileNotFoundError",
     "evalue": "[Errno 2] No such file or directory",
     "output_type": "error",
     "traceback": [
      "\u001b[0;31m---------------------------------------------------------------------------\u001b[0m",
      "\u001b[0;31mTypeError\u001b[0m                                 Traceback (most recent call last)",
      "    \u001b[0;31m[... skipping hidden 11 frame]\u001b[0m\n",
      "Cell \u001b[0;32mIn[11], line 7\u001b[0m, in \u001b[0;36mimportance_sample.<locals>._inner\u001b[0;34m(key, hard_args, easy_args)\u001b[0m\n\u001b[1;32m      6\u001b[0m \u001b[38;5;28;01mdef\u001b[39;00m \u001b[38;5;21m_inner\u001b[39m(key, hard_args, easy_args):\n\u001b[0;32m----> 7\u001b[0m     sample \u001b[38;5;241m=\u001b[39m \u001b[43measy\u001b[49m\u001b[38;5;241;43m.\u001b[39;49m\u001b[43msimulate\u001b[49m\u001b[43m(\u001b[49m\u001b[43mkey\u001b[49m\u001b[43m,\u001b[49m\u001b[43m \u001b[49m\u001b[38;5;241;43m*\u001b[39;49m\u001b[43measy_args\u001b[49m\u001b[43m)\u001b[49m\n\u001b[1;32m      8\u001b[0m     easy_logpdf \u001b[38;5;241m=\u001b[39m easy\u001b[38;5;241m.\u001b[39mlogpdf(sample, \u001b[38;5;241m*\u001b[39measy_args)\n",
      "    \u001b[0;31m[... skipping hidden 1 frame]\u001b[0m\n",
      "File \u001b[0;32m<@beartype(genjax._src.generative_functions.distributions.distribution.Distribution.simulate) at 0x29ab11620>:52\u001b[0m, in \u001b[0;36msimulate\u001b[0;34m(__beartype_object_4822227584, __beartype_get_violation, __beartype_conf, __beartype_object_11182255872, __beartype_func, *args, **kwargs)\u001b[0m\n",
      "\u001b[0;31mTypeError\u001b[0m: Method\u001b[1m\u001b[35m genjax._src.generative_functions.distributions.distribution.Distribution.simulate()\u001b[0m parameter \u001b[1m\u001b[34margs\u001b[0m=\u001b[1m\u001b[31m\"Traced<ShapedArray(float32[], weak_type=True)>with<DynamicJaxprTrace(level=1/0)>\"\u001b[0m violates type hint \u001b[1m\u001b[32m<class 'tuple'>\u001b[0m, as \u001b[1m\u001b[33m<protocol \"jax._src.interpreters.partial_eval.DynamicJaxprTracer\"> \u001b[0m\u001b[1m\u001b[31m\"Traced<ShapedArray(float32[], weak_type=True)>with<DynamicJaxprTrace(level=1/0)>\"\u001b[0m not instance of \u001b[1m\u001b[32mtuple\u001b[0m.",
      "\nDuring handling of the above exception, another exception occurred:\n",
      "\u001b[0;31mFileNotFoundError\u001b[0m                         Traceback (most recent call last)",
      "Cell \u001b[0;32mIn[11], line 23\u001b[0m\n\u001b[1;32m     21\u001b[0m mix_args \u001b[38;5;241m=\u001b[39m ([\u001b[38;5;241m0.5\u001b[39m, \u001b[38;5;241m0.5\u001b[39m], [(\u001b[38;5;241m-\u001b[39m\u001b[38;5;241m3.0\u001b[39m, \u001b[38;5;241m0.8\u001b[39m), (\u001b[38;5;241m1.0\u001b[39m, \u001b[38;5;241m0.3\u001b[39m)])\n\u001b[1;32m     22\u001b[0m d_args \u001b[38;5;241m=\u001b[39m (\u001b[38;5;241m0.0\u001b[39m, \u001b[38;5;241m1.0\u001b[39m)\n\u001b[0;32m---> 23\u001b[0m importance_weight, sample \u001b[38;5;241m=\u001b[39m \u001b[43mjitted\u001b[49m\u001b[43m(\u001b[49m\u001b[43msub_key\u001b[49m\u001b[43m,\u001b[49m\u001b[43m \u001b[49m\u001b[43mmix_args\u001b[49m\u001b[43m,\u001b[49m\u001b[43m \u001b[49m\u001b[43md_args\u001b[49m\u001b[43m)\u001b[49m\n\u001b[1;32m     24\u001b[0m \u001b[38;5;28mprint\u001b[39m((importance_weight, sample))\n\u001b[1;32m     26\u001b[0m \u001b[38;5;66;03m# And we can run it in parallel\u001b[39;00m\n",
      "    \u001b[0;31m[... skipping hidden 1 frame]\u001b[0m\n",
      "File \u001b[0;32m~/repos/genjax-docs/.venv/lib/python3.11/site-packages/jax/_src/traceback_util.py:69\u001b[0m, in \u001b[0;36m_add_tracebackhide_to_hidden_frames\u001b[0;34m(tb)\u001b[0m\n\u001b[1;32m     67\u001b[0m \u001b[38;5;28;01mdef\u001b[39;00m \u001b[38;5;21m_add_tracebackhide_to_hidden_frames\u001b[39m(tb: types\u001b[38;5;241m.\u001b[39mTracebackType):\n\u001b[1;32m     68\u001b[0m   \u001b[38;5;28;01mfor\u001b[39;00m f, _lineno \u001b[38;5;129;01min\u001b[39;00m traceback\u001b[38;5;241m.\u001b[39mwalk_tb(tb):\n\u001b[0;32m---> 69\u001b[0m     \u001b[38;5;28;01mif\u001b[39;00m \u001b[38;5;129;01mnot\u001b[39;00m \u001b[43minclude_frame\u001b[49m\u001b[43m(\u001b[49m\u001b[43mf\u001b[49m\u001b[43m)\u001b[49m:\n\u001b[1;32m     70\u001b[0m       f\u001b[38;5;241m.\u001b[39mf_locals[\u001b[38;5;124m\"\u001b[39m\u001b[38;5;124m__tracebackhide__\u001b[39m\u001b[38;5;124m\"\u001b[39m] \u001b[38;5;241m=\u001b[39m \u001b[38;5;28;01mTrue\u001b[39;00m\n",
      "File \u001b[0;32m~/repos/genjax-docs/.venv/lib/python3.11/site-packages/jax/_src/traceback_util.py:58\u001b[0m, in \u001b[0;36minclude_frame\u001b[0;34m(f)\u001b[0m\n\u001b[1;32m     57\u001b[0m \u001b[38;5;28;01mdef\u001b[39;00m \u001b[38;5;21minclude_frame\u001b[39m(f: types\u001b[38;5;241m.\u001b[39mFrameType) \u001b[38;5;241m-\u001b[39m\u001b[38;5;241m>\u001b[39m \u001b[38;5;28mbool\u001b[39m:\n\u001b[0;32m---> 58\u001b[0m   \u001b[38;5;28;01mreturn\u001b[39;00m \u001b[38;5;129;01mnot\u001b[39;00m \u001b[38;5;28many\u001b[39m(_path_starts_with(f\u001b[38;5;241m.\u001b[39mf_code\u001b[38;5;241m.\u001b[39mco_filename, path)\n\u001b[1;32m     59\u001b[0m                  \u001b[38;5;28;01mfor\u001b[39;00m path \u001b[38;5;129;01min\u001b[39;00m _exclude_paths)\n",
      "File \u001b[0;32m~/repos/genjax-docs/.venv/lib/python3.11/site-packages/jax/_src/traceback_util.py:58\u001b[0m, in \u001b[0;36m<genexpr>\u001b[0;34m(.0)\u001b[0m\n\u001b[1;32m     57\u001b[0m \u001b[38;5;28;01mdef\u001b[39;00m \u001b[38;5;21minclude_frame\u001b[39m(f: types\u001b[38;5;241m.\u001b[39mFrameType) \u001b[38;5;241m-\u001b[39m\u001b[38;5;241m>\u001b[39m \u001b[38;5;28mbool\u001b[39m:\n\u001b[0;32m---> 58\u001b[0m   \u001b[38;5;28;01mreturn\u001b[39;00m \u001b[38;5;129;01mnot\u001b[39;00m \u001b[38;5;28many\u001b[39m(\u001b[43m_path_starts_with\u001b[49m\u001b[43m(\u001b[49m\u001b[43mf\u001b[49m\u001b[38;5;241;43m.\u001b[39;49m\u001b[43mf_code\u001b[49m\u001b[38;5;241;43m.\u001b[39;49m\u001b[43mco_filename\u001b[49m\u001b[43m,\u001b[49m\u001b[43m \u001b[49m\u001b[43mpath\u001b[49m\u001b[43m)\u001b[49m\n\u001b[1;32m     59\u001b[0m                  \u001b[38;5;28;01mfor\u001b[39;00m path \u001b[38;5;129;01min\u001b[39;00m _exclude_paths)\n",
      "File \u001b[0;32m~/repos/genjax-docs/.venv/lib/python3.11/site-packages/jax/_src/traceback_util.py:42\u001b[0m, in \u001b[0;36m_path_starts_with\u001b[0;34m(path, path_prefix)\u001b[0m\n\u001b[1;32m     41\u001b[0m \u001b[38;5;28;01mdef\u001b[39;00m \u001b[38;5;21m_path_starts_with\u001b[39m(path: \u001b[38;5;28mstr\u001b[39m, path_prefix: \u001b[38;5;28mstr\u001b[39m) \u001b[38;5;241m-\u001b[39m\u001b[38;5;241m>\u001b[39m \u001b[38;5;28mbool\u001b[39m:\n\u001b[0;32m---> 42\u001b[0m   path \u001b[38;5;241m=\u001b[39m \u001b[43mos\u001b[49m\u001b[38;5;241;43m.\u001b[39;49m\u001b[43mpath\u001b[49m\u001b[38;5;241;43m.\u001b[39;49m\u001b[43mabspath\u001b[49m\u001b[43m(\u001b[49m\u001b[43mpath\u001b[49m\u001b[43m)\u001b[49m\n\u001b[1;32m     43\u001b[0m   path_prefix \u001b[38;5;241m=\u001b[39m os\u001b[38;5;241m.\u001b[39mpath\u001b[38;5;241m.\u001b[39mabspath(path_prefix)\n\u001b[1;32m     44\u001b[0m   \u001b[38;5;28;01mtry\u001b[39;00m:\n",
      "File \u001b[0;32m<frozen posixpath>:404\u001b[0m, in \u001b[0;36mabspath\u001b[0;34m(path)\u001b[0m\n",
      "\u001b[0;31mFileNotFoundError\u001b[0m: [Errno 2] No such file or directory"
     ]
    }
   ],
   "source": [
    "import genjax\n",
    "import jax\n",
    "\n",
    "# A python version of the algorithm to get the idea\n",
    "def importance_sample(hard, easy):\n",
    "    def _inner(key, hard_args, easy_args):\n",
    "        sample = easy.simulate(key, *easy_args)\n",
    "        easy_logpdf = easy.logpdf(sample, *easy_args)\n",
    "        hard_logpdf = hard.logpdf(sample, *hard_args)\n",
    "        importance_weight = hard_logpdf - easy_logpdf\n",
    "        return (importance_weight, sample)\n",
    "\n",
    "    return _inner\n",
    "\n",
    "# Which we can test on a simple example\n",
    "hard = genjax.mixture_combinator(genjax.categorical, genjax.vmap_combinator(genjax.normal, in_axes=(0,None)))\n",
    "easy = genjax.normal\n",
    "jitted = jax.jit(importance_sample(hard, easy))\n",
    "key = jax.random.PRNGKey(0)\n",
    "key, sub_key = jax.random.split(key)\n",
    "mix_args = ([0.5, 0.5], [(-3.0, 0.8), (1.0, 0.3)])\n",
    "d_args = (0.0, 1.0)\n",
    "importance_weight, sample = jitted(sub_key, mix_args, d_args)\n",
    "print((importance_weight, sample))\n",
    "\n",
    "# And we can run it in parallel\n",
    "jitted = jax.jit(jax.vmap(importance_sample(hard, easy), in_axes=(0, None, None)))\n",
    "key, *sub_keys = jax.random.split(key, 100 + 1)\n",
    "sub_keys = jnp.array(sub_keys)\n",
    "(importance_weight, sample) = jitted(sub_keys, mix_args, d_args)\n",
    "print((importance_weight, sample))\n",
    "\n",
    "# We can also do it natively in genjax\n",
    "# First using importance sampling with a default proposal\n",
    "model_trace_2, weight = model.importance(key, genjax.choicemap({\"p\": 3}), mix_args)"
   ]
  },
  {
   "cell_type": "code",
   "execution_count": null,
   "metadata": {},
   "outputs": [],
   "source": [
    "#TODO: a version for GenSP here could be good."
   ]
  }
 ],
 "metadata": {
  "kernelspec": {
   "display_name": ".venv",
   "language": "python",
   "name": "python3"
  },
  "language_info": {
   "codemirror_mode": {
    "name": "ipython",
    "version": 3
   },
   "file_extension": ".py",
   "mimetype": "text/x-python",
   "name": "python",
   "nbconvert_exporter": "python",
   "pygments_lexer": "ipython3",
   "version": "3.11.6"
  }
 },
 "nbformat": 4,
 "nbformat_minor": 2
}
