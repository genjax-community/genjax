{
 "cells": [
  {
   "cell_type": "markdown",
   "metadata": {},
   "source": [
    "How do I use conditionals in Jax?"
   ]
  },
  {
   "cell_type": "code",
   "execution_count": 1,
   "metadata": {},
   "outputs": [
    {
     "ename": "NameError",
     "evalue": "name 'interpreted_gen_fn' is not defined",
     "output_type": "error",
     "traceback": [
      "\u001b[0;31m---------------------------------------------------------------------------\u001b[0m",
      "\u001b[0;31mNameError\u001b[0m                                 Traceback (most recent call last)",
      "Cell \u001b[0;32mIn[1], line 7\u001b[0m\n\u001b[1;32m      3\u001b[0m \u001b[38;5;28;01mfrom\u001b[39;00m \u001b[38;5;21;01mgenjax\u001b[39;00m \u001b[38;5;28;01mimport\u001b[39;00m bernoulli\n\u001b[1;32m      5\u001b[0m \u001b[38;5;66;03m# In Python, it's very clear\u001b[39;00m\n\u001b[1;32m      6\u001b[0m \u001b[38;5;66;03m# simple conditional in python\u001b[39;00m\n\u001b[0;32m----> 7\u001b[0m \u001b[38;5;129m@interpreted_gen_fn\u001b[39m\n\u001b[1;32m      8\u001b[0m \u001b[38;5;28;01mdef\u001b[39;00m \u001b[38;5;21msimple_switch\u001b[39m(p):\n\u001b[1;32m      9\u001b[0m     \u001b[38;5;28;01mif\u001b[39;00m p \u001b[38;5;241m>\u001b[39m \u001b[38;5;241m0\u001b[39m:\n\u001b[1;32m     10\u001b[0m         v \u001b[38;5;241m=\u001b[39m bernoulli(p) \u001b[38;5;241m@\u001b[39m \u001b[38;5;124m\"\u001b[39m\u001b[38;5;124mv\u001b[39m\u001b[38;5;124m\"\u001b[39m\n",
      "\u001b[0;31mNameError\u001b[0m: name 'interpreted_gen_fn' is not defined"
     ]
    }
   ],
   "source": [
    "import genjax\n",
    "import jax\n",
    "from genjax import bernoulli\n",
    "\n",
    "# In pure Python, we use usual conditionals\n",
    "@interpreted_gen_fn\n",
    "def simple_switch(p):\n",
    "    if p > 0:\n",
    "        v = bernoulli(p) @ \"v\"\n",
    "        return v\n",
    "    else:\n",
    "        v = bernoulli(-p) @ \"v\"\n",
    "        return v\n",
    "    \n",
    "key = jax.random.PRNGKey(314159)\n",
    "tr1 = simple_switch.simulate(key, (0.3,))\n",
    "tr2 = simple_switch.simulate(key, (-0.4,))\n",
    "print(tr1)\n",
    "print()\n",
    "print(tr2)\n",
    "# But this will be very slow\n",
    "%timeit simple_switch.simulate(key, (0.3,))"
   ]
  },
  {
   "cell_type": "code",
   "execution_count": 32,
   "metadata": {},
   "outputs": [
    {
     "name": "stdout",
     "output_type": "stream",
     "text": [
      "0.3\n",
      "0.4\n"
     ]
    }
   ],
   "source": [
    "# In pure Jax, we write conditionals with jax.lax.cond as follows\n",
    "def simple_cond(p):\n",
    "    pred = p > 0\n",
    "    branch_1 = lambda p: p\n",
    "    branch_2 = lambda p: -p\n",
    "    arg_of_cond = p\n",
    "    cond_res = jax.lax.cond(pred, branch_1, branch_2, arg_of_cond)\n",
    "    return cond_res\n",
    "\n",
    "print(simple_cond(0.3))\n",
    "print(simple_cond(-0.4))"
   ]
  },
  {
   "cell_type": "code",
   "execution_count": null,
   "metadata": {},
   "outputs": [
    {
     "ename": "",
     "evalue": "",
     "output_type": "error",
     "traceback": [
      "\u001b[1;31mJupyter cannot be started. Error attempting to locate Jupyter: Select an Interpreter to start Jupyter\n",
      "\u001b[1;31mRun the following command to install 'jupyter and notebook' into the Python environment. \n",
      "\u001b[1;31mCommand: 'python -m pip install jupyter notebook -U\n",
      "\u001b[1;31mor\n",
      "\u001b[1;31mconda install jupyter notebook -U'\n",
      "\u001b[1;31mClick <a href='https://aka.ms/installJupyterForVSCode'>here</a> for more info."
     ]
    }
   ],
   "source": [
    "# The restriction is that both branches should have the same return type\n",
    "def failing_simple_cond(p):\n",
    "    pred = p > 0\n",
    "    branch_1 = lambda p: (p,p)\n",
    "    branch_2 = lambda p: -p\n",
    "    arg_of_cond = p\n",
    "    cond_res = jax.lax.cond(p > 0, branch_1, branch_2, arg_of_cond)\n",
    "    return cond_res\n",
    "\n",
    "try: \n",
    "    print(failing_simple_cond(0.3))\n",
    "except:\n",
    "    print(\"TypeError: true_fun and false_fun output must have same type structure, got PyTreeDef((*, *)) and PyTreeDef(*).\")\n",
    "\n",
    "#TODO: add counter-example with same pytree structure but different type float vs int"
   ]
  },
  {
   "cell_type": "code",
   "execution_count": 11,
   "metadata": {},
   "outputs": [
    {
     "ename": "TypeError",
     "evalue": "branch_1() missing 1 required positional argument: 'p'",
     "output_type": "error",
     "traceback": [
      "\u001b[0;31m---------------------------------------------------------------------------\u001b[0m",
      "\u001b[0;31mTypeError\u001b[0m                                 Traceback (most recent call last)",
      "Cell \u001b[0;32mIn[11], line 23\u001b[0m\n\u001b[1;32m     21\u001b[0m key \u001b[38;5;241m=\u001b[39m jax\u001b[38;5;241m.\u001b[39mrandom\u001b[38;5;241m.\u001b[39mPRNGKey(\u001b[38;5;241m314159\u001b[39m)\n\u001b[1;32m     22\u001b[0m jitted \u001b[38;5;241m=\u001b[39m jax\u001b[38;5;241m.\u001b[39mjit(switch\u001b[38;5;241m.\u001b[39msimulate)\n\u001b[0;32m---> 23\u001b[0m tr \u001b[38;5;241m=\u001b[39m \u001b[43mjitted\u001b[49m\u001b[43m(\u001b[49m\u001b[43mkey\u001b[49m\u001b[43m,\u001b[49m\u001b[43m \u001b[49m\u001b[43m(\u001b[49m\u001b[38;5;241;43m0\u001b[39;49m\u001b[43m,\u001b[49m\u001b[43m)\u001b[49m\u001b[43m)\u001b[49m\n\u001b[1;32m     24\u001b[0m \u001b[38;5;66;03m# v1 = tr.get_sample()[\"y1\"]\u001b[39;00m\n\u001b[1;32m     25\u001b[0m \u001b[38;5;66;03m# v2 = tr.get_sample()[\"y2\"]\u001b[39;00m\n",
      "    \u001b[0;31m[... skipping hidden 12 frame]\u001b[0m\n",
      "File \u001b[0;32m<@beartype(genjax._src.generative_functions.combinators.switch.switch_combinator.SwitchCombinator.simulate) at 0x194abcfe0>:53\u001b[0m, in \u001b[0;36msimulate\u001b[0;34m(__beartype_func, __beartype_conf, __beartype_get_violation, __beartype_object_6729753024, __beartype_object_140291267641936, *args, **kwargs)\u001b[0m\n",
      "File \u001b[0;32m/usr/local/Caskroom/miniconda/base/envs/genjax-trials/lib/python3.12/site-packages/genjax/_src/generative_functions/combinators/switch/switch_combinator.py:149\u001b[0m, in \u001b[0;36mSwitchCombinator.simulate\u001b[0;34m(self, key, args)\u001b[0m\n\u001b[1;32m    146\u001b[0m     \u001b[38;5;28;01mreturn\u001b[39;00m \u001b[38;5;28;01mlambda\u001b[39;00m key, \u001b[38;5;241m*\u001b[39margs: \u001b[38;5;28mself\u001b[39m\u001b[38;5;241m.\u001b[39m_simulate(br, key, args)\n\u001b[1;32m    148\u001b[0m branch_functions \u001b[38;5;241m=\u001b[39m \u001b[38;5;28mlist\u001b[39m(\u001b[38;5;28mmap\u001b[39m(_inner, \u001b[38;5;28mself\u001b[39m\u001b[38;5;241m.\u001b[39mbranches))\n\u001b[0;32m--> 149\u001b[0m \u001b[38;5;28;01mreturn\u001b[39;00m \u001b[43mjax\u001b[49m\u001b[38;5;241;43m.\u001b[39;49m\u001b[43mlax\u001b[49m\u001b[38;5;241;43m.\u001b[39;49m\u001b[43mswitch\u001b[49m\u001b[43m(\u001b[49m\u001b[43mswitch\u001b[49m\u001b[43m,\u001b[49m\u001b[43m \u001b[49m\u001b[43mbranch_functions\u001b[49m\u001b[43m,\u001b[49m\u001b[43m \u001b[49m\u001b[43mkey\u001b[49m\u001b[43m,\u001b[49m\u001b[43m \u001b[49m\u001b[38;5;241;43m*\u001b[39;49m\u001b[43margs\u001b[49m\u001b[43m)\u001b[49m\n",
      "    \u001b[0;31m[... skipping hidden 10 frame]\u001b[0m\n",
      "File \u001b[0;32m/usr/local/Caskroom/miniconda/base/envs/genjax-trials/lib/python3.12/site-packages/genjax/_src/generative_functions/combinators/switch/switch_combinator.py:146\u001b[0m, in \u001b[0;36mSwitchCombinator.simulate.<locals>._inner.<locals>.<lambda>\u001b[0;34m(key, *args)\u001b[0m\n\u001b[1;32m    145\u001b[0m \u001b[38;5;28;01mdef\u001b[39;00m \u001b[38;5;21m_inner\u001b[39m(br):\n\u001b[0;32m--> 146\u001b[0m     \u001b[38;5;28;01mreturn\u001b[39;00m \u001b[38;5;28;01mlambda\u001b[39;00m key, \u001b[38;5;241m*\u001b[39margs: \u001b[38;5;28;43mself\u001b[39;49m\u001b[38;5;241;43m.\u001b[39;49m\u001b[43m_simulate\u001b[49m\u001b[43m(\u001b[49m\u001b[43mbr\u001b[49m\u001b[43m,\u001b[49m\u001b[43m \u001b[49m\u001b[43mkey\u001b[49m\u001b[43m,\u001b[49m\u001b[43m \u001b[49m\u001b[43margs\u001b[49m\u001b[43m)\u001b[49m\n",
      "    \u001b[0;31m[... skipping hidden 1 frame]\u001b[0m\n",
      "File \u001b[0;32m/usr/local/Caskroom/miniconda/base/envs/genjax-trials/lib/python3.12/site-packages/genjax/_src/generative_functions/combinators/switch/switch_combinator.py:127\u001b[0m, in \u001b[0;36mSwitchCombinator._simulate\u001b[0;34m(self, branch_gen_fn, key, args)\u001b[0m\n\u001b[1;32m    126\u001b[0m \u001b[38;5;28;01mdef\u001b[39;00m \u001b[38;5;21m_simulate\u001b[39m(\u001b[38;5;28mself\u001b[39m, branch_gen_fn, key, args):\n\u001b[0;32m--> 127\u001b[0m     tr \u001b[38;5;241m=\u001b[39m \u001b[43mbranch_gen_fn\u001b[49m\u001b[38;5;241;43m.\u001b[39;49m\u001b[43msimulate\u001b[49m\u001b[43m(\u001b[49m\u001b[43mkey\u001b[49m\u001b[43m,\u001b[49m\u001b[43m \u001b[49m\u001b[43margs\u001b[49m\u001b[43m[\u001b[49m\u001b[38;5;241;43m1\u001b[39;49m\u001b[43m:\u001b[49m\u001b[43m]\u001b[49m\u001b[43m)\u001b[49m\n\u001b[1;32m    128\u001b[0m     data_shared_sum_tree \u001b[38;5;241m=\u001b[39m \u001b[38;5;28mself\u001b[39m\u001b[38;5;241m.\u001b[39m_create_data_shared_sum_tree_trace(key, tr, args)\n\u001b[1;32m    129\u001b[0m     choices \u001b[38;5;241m=\u001b[39m \u001b[38;5;28mlist\u001b[39m(data_shared_sum_tree\u001b[38;5;241m.\u001b[39mmaterialize_iterator())\n",
      "    \u001b[0;31m[... skipping hidden 1 frame]\u001b[0m\n",
      "File \u001b[0;32m<@beartype(genjax._src.generative_functions.static.static_gen_fn.StaticGenerativeFunction.simulate) at 0x194a9d800>:53\u001b[0m, in \u001b[0;36msimulate\u001b[0;34m(__beartype_func, __beartype_conf, __beartype_get_violation, __beartype_object_6729753024, __beartype_object_140291267602896, *args, **kwargs)\u001b[0m\n",
      "File \u001b[0;32m/usr/local/Caskroom/miniconda/base/envs/genjax-trials/lib/python3.12/site-packages/genjax/_src/generative_functions/static/static_gen_fn.py:129\u001b[0m, in \u001b[0;36mStaticGenerativeFunction.simulate\u001b[0;34m(self, key, args)\u001b[0m\n\u001b[1;32m    120\u001b[0m \u001b[38;5;129m@typecheck\u001b[39m\n\u001b[1;32m    121\u001b[0m \u001b[38;5;28;01mdef\u001b[39;00m \u001b[38;5;21msimulate\u001b[39m(\n\u001b[1;32m    122\u001b[0m     \u001b[38;5;28mself\u001b[39m,\n\u001b[1;32m    123\u001b[0m     key: PRNGKey,\n\u001b[1;32m    124\u001b[0m     args: Tuple,\n\u001b[1;32m    125\u001b[0m ) \u001b[38;5;241m-\u001b[39m\u001b[38;5;241m>\u001b[39m StaticTrace:\n\u001b[1;32m    126\u001b[0m     syntax_sugar_handled \u001b[38;5;241m=\u001b[39m push_trace_overload_stack(\n\u001b[1;32m    127\u001b[0m         handler_trace_with_static, \u001b[38;5;28mself\u001b[39m\u001b[38;5;241m.\u001b[39msource\n\u001b[1;32m    128\u001b[0m     )\n\u001b[0;32m--> 129\u001b[0m     (args, retval, address_choices, score), cache_state \u001b[38;5;241m=\u001b[39m \u001b[43msimulate_transform\u001b[49m\u001b[43m(\u001b[49m\n\u001b[1;32m    130\u001b[0m \u001b[43m        \u001b[49m\u001b[43msyntax_sugar_handled\u001b[49m\n\u001b[1;32m    131\u001b[0m \u001b[43m    \u001b[49m\u001b[43m)\u001b[49m\u001b[43m(\u001b[49m\u001b[43mkey\u001b[49m\u001b[43m,\u001b[49m\u001b[43m \u001b[49m\u001b[43margs\u001b[49m\u001b[43m)\u001b[49m\n\u001b[1;32m    132\u001b[0m     \u001b[38;5;28;01mreturn\u001b[39;00m StaticTrace(\n\u001b[1;32m    133\u001b[0m         \u001b[38;5;28mself\u001b[39m,\n\u001b[1;32m    134\u001b[0m         args,\n\u001b[0;32m   (...)\u001b[0m\n\u001b[1;32m    138\u001b[0m         score,\n\u001b[1;32m    139\u001b[0m     )\n",
      "File \u001b[0;32m/usr/local/Caskroom/miniconda/base/envs/genjax-trials/lib/python3.12/site-packages/genjax/_src/generative_functions/static/static_transforms.py:285\u001b[0m, in \u001b[0;36msimulate_transform.<locals>.wrapper\u001b[0;34m(key, args)\u001b[0m\n\u001b[1;32m    282\u001b[0m \u001b[38;5;129m@functools\u001b[39m\u001b[38;5;241m.\u001b[39mwraps(source_fn)\n\u001b[1;32m    283\u001b[0m \u001b[38;5;28;01mdef\u001b[39;00m \u001b[38;5;21mwrapper\u001b[39m(key, args):\n\u001b[1;32m    284\u001b[0m     stateful_handler \u001b[38;5;241m=\u001b[39m SimulateHandler(key)\n\u001b[0;32m--> 285\u001b[0m     retval \u001b[38;5;241m=\u001b[39m \u001b[43mforward\u001b[49m\u001b[43m(\u001b[49m\u001b[43msource_fn\u001b[49m\u001b[43m)\u001b[49m\u001b[43m(\u001b[49m\u001b[43mstateful_handler\u001b[49m\u001b[43m,\u001b[49m\u001b[43m \u001b[49m\u001b[38;5;241;43m*\u001b[39;49m\u001b[43margs\u001b[49m\u001b[43m)\u001b[49m\n\u001b[1;32m    286\u001b[0m     (\n\u001b[1;32m    287\u001b[0m         address_choices,\n\u001b[1;32m    288\u001b[0m         cache_state,\n\u001b[1;32m    289\u001b[0m         score,\n\u001b[1;32m    290\u001b[0m     ) \u001b[38;5;241m=\u001b[39m stateful_handler\u001b[38;5;241m.\u001b[39myield_state()\n\u001b[1;32m    291\u001b[0m     \u001b[38;5;28;01mreturn\u001b[39;00m (\n\u001b[1;32m    292\u001b[0m         args,\n\u001b[1;32m    293\u001b[0m         retval,\n\u001b[1;32m    294\u001b[0m         address_choices,\n\u001b[1;32m    295\u001b[0m         score,\n\u001b[1;32m    296\u001b[0m     ), cache_state\n",
      "File \u001b[0;32m<@beartype(genjax._src.core.interpreters.forward.forward.wrapped) at 0x1966cede0>:31\u001b[0m, in \u001b[0;36mwrapped\u001b[0;34m(__beartype_func, __beartype_conf, __beartype_get_violation, __beartype_object_140291262912000, *args, **kwargs)\u001b[0m\n",
      "File \u001b[0;32m/usr/local/Caskroom/miniconda/base/envs/genjax-trials/lib/python3.12/site-packages/genjax/_src/core/interpreters/forward.py:242\u001b[0m, in \u001b[0;36mforward.<locals>.wrapped\u001b[0;34m(stateful_handler, *args)\u001b[0m\n\u001b[1;32m    238\u001b[0m \u001b[38;5;129m@functools\u001b[39m\u001b[38;5;241m.\u001b[39mwraps(f)\n\u001b[1;32m    239\u001b[0m \u001b[38;5;129m@typecheck\u001b[39m\n\u001b[1;32m    240\u001b[0m \u001b[38;5;28;01mdef\u001b[39;00m \u001b[38;5;21mwrapped\u001b[39m(stateful_handler: StatefulHandler, \u001b[38;5;241m*\u001b[39margs):\n\u001b[1;32m    241\u001b[0m     interpreter \u001b[38;5;241m=\u001b[39m ForwardInterpreter()\n\u001b[0;32m--> 242\u001b[0m     \u001b[38;5;28;01mreturn\u001b[39;00m \u001b[43minterpreter\u001b[49m\u001b[38;5;241;43m.\u001b[39;49m\u001b[43mrun_interpreter\u001b[49m\u001b[43m(\u001b[49m\n\u001b[1;32m    243\u001b[0m \u001b[43m        \u001b[49m\u001b[43mstateful_handler\u001b[49m\u001b[43m,\u001b[49m\n\u001b[1;32m    244\u001b[0m \u001b[43m        \u001b[49m\u001b[43mf\u001b[49m\u001b[43m,\u001b[49m\n\u001b[1;32m    245\u001b[0m \u001b[43m        \u001b[49m\u001b[38;5;241;43m*\u001b[39;49m\u001b[43margs\u001b[49m\u001b[43m,\u001b[49m\n\u001b[1;32m    246\u001b[0m \u001b[43m    \u001b[49m\u001b[43m)\u001b[49m\n",
      "    \u001b[0;31m[... skipping hidden 1 frame]\u001b[0m\n",
      "File \u001b[0;32m/usr/local/Caskroom/miniconda/base/envs/genjax-trials/lib/python3.12/site-packages/genjax/_src/core/interpreters/forward.py:225\u001b[0m, in \u001b[0;36mForwardInterpreter.run_interpreter\u001b[0;34m(self, stateful_handler, fn, *args, **kwargs)\u001b[0m\n\u001b[1;32m    222\u001b[0m \u001b[38;5;28;01mdef\u001b[39;00m \u001b[38;5;21m_inner\u001b[39m(\u001b[38;5;241m*\u001b[39margs):\n\u001b[1;32m    223\u001b[0m     \u001b[38;5;28;01mreturn\u001b[39;00m fn(\u001b[38;5;241m*\u001b[39margs, \u001b[38;5;241m*\u001b[39m\u001b[38;5;241m*\u001b[39mkwargs)\n\u001b[0;32m--> 225\u001b[0m _closed_jaxpr, (flat_args, _, out_tree) \u001b[38;5;241m=\u001b[39m \u001b[43mstage\u001b[49m\u001b[43m(\u001b[49m\u001b[43m_inner\u001b[49m\u001b[43m)\u001b[49m\u001b[43m(\u001b[49m\u001b[38;5;241;43m*\u001b[39;49m\u001b[43margs\u001b[49m\u001b[43m)\u001b[49m\n\u001b[1;32m    226\u001b[0m _jaxpr, consts \u001b[38;5;241m=\u001b[39m _closed_jaxpr\u001b[38;5;241m.\u001b[39mjaxpr, _closed_jaxpr\u001b[38;5;241m.\u001b[39mliterals\n\u001b[1;32m    227\u001b[0m flat_out \u001b[38;5;241m=\u001b[39m \u001b[38;5;28mself\u001b[39m\u001b[38;5;241m.\u001b[39m_eval_jaxpr_forward(\n\u001b[1;32m    228\u001b[0m     stateful_handler,\n\u001b[1;32m    229\u001b[0m     _jaxpr,\n\u001b[1;32m    230\u001b[0m     consts,\n\u001b[1;32m    231\u001b[0m     flat_args,\n\u001b[1;32m    232\u001b[0m )\n",
      "File \u001b[0;32m/usr/local/Caskroom/miniconda/base/envs/genjax-trials/lib/python3.12/site-packages/genjax/_src/core/interpreters/staging.py:68\u001b[0m, in \u001b[0;36mstage.<locals>.wrapped\u001b[0;34m(*args, **kwargs)\u001b[0m\n\u001b[1;32m     66\u001b[0m flat_fun, out_tree \u001b[38;5;241m=\u001b[39m api_util\u001b[38;5;241m.\u001b[39mflatten_fun_nokwargs(fun, in_tree)\n\u001b[1;32m     67\u001b[0m flat_avals \u001b[38;5;241m=\u001b[39m safe_map(get_shaped_aval, flat_args)\n\u001b[0;32m---> 68\u001b[0m typed_jaxpr \u001b[38;5;241m=\u001b[39m \u001b[43mcached_stage_dynamic\u001b[49m\u001b[43m(\u001b[49m\u001b[43mflat_fun\u001b[49m\u001b[43m,\u001b[49m\u001b[43m \u001b[49m\u001b[38;5;28;43mtuple\u001b[39;49m\u001b[43m(\u001b[49m\u001b[43mflat_avals\u001b[49m\u001b[43m)\u001b[49m\u001b[43m)\u001b[49m\n\u001b[1;32m     69\u001b[0m \u001b[38;5;28;01mreturn\u001b[39;00m typed_jaxpr, (flat_args, in_tree, out_tree)\n",
      "    \u001b[0;31m[... skipping hidden 1 frame]\u001b[0m\n",
      "File \u001b[0;32m/usr/local/Caskroom/miniconda/base/envs/genjax-trials/lib/python3.12/site-packages/genjax/_src/core/interpreters/staging.py:55\u001b[0m, in \u001b[0;36mcached_stage_dynamic\u001b[0;34m(flat_fun, in_avals)\u001b[0m\n\u001b[1;32m     53\u001b[0m \u001b[38;5;129m@lu\u001b[39m\u001b[38;5;241m.\u001b[39mcache\n\u001b[1;32m     54\u001b[0m \u001b[38;5;28;01mdef\u001b[39;00m \u001b[38;5;21mcached_stage_dynamic\u001b[39m(flat_fun, in_avals):\n\u001b[0;32m---> 55\u001b[0m     jaxpr, _, consts \u001b[38;5;241m=\u001b[39m \u001b[43mpe\u001b[49m\u001b[38;5;241;43m.\u001b[39;49m\u001b[43mtrace_to_jaxpr_dynamic\u001b[49m\u001b[43m(\u001b[49m\u001b[43mflat_fun\u001b[49m\u001b[43m,\u001b[49m\u001b[43m \u001b[49m\u001b[43min_avals\u001b[49m\u001b[43m)\u001b[49m\n\u001b[1;32m     56\u001b[0m     typed_jaxpr \u001b[38;5;241m=\u001b[39m jc\u001b[38;5;241m.\u001b[39mClosedJaxpr(jaxpr, consts)\n\u001b[1;32m     57\u001b[0m     \u001b[38;5;28;01mreturn\u001b[39;00m typed_jaxpr\n",
      "    \u001b[0;31m[... skipping hidden 5 frame]\u001b[0m\n",
      "File \u001b[0;32m/usr/local/Caskroom/miniconda/base/envs/genjax-trials/lib/python3.12/site-packages/genjax/_src/core/interpreters/forward.py:223\u001b[0m, in \u001b[0;36mForwardInterpreter.run_interpreter.<locals>._inner\u001b[0;34m(*args)\u001b[0m\n\u001b[1;32m    222\u001b[0m \u001b[38;5;28;01mdef\u001b[39;00m \u001b[38;5;21m_inner\u001b[39m(\u001b[38;5;241m*\u001b[39margs):\n\u001b[0;32m--> 223\u001b[0m     \u001b[38;5;28;01mreturn\u001b[39;00m \u001b[43mfn\u001b[49m\u001b[43m(\u001b[49m\u001b[38;5;241;43m*\u001b[39;49m\u001b[43margs\u001b[49m\u001b[43m,\u001b[49m\u001b[43m \u001b[49m\u001b[38;5;241;43m*\u001b[39;49m\u001b[38;5;241;43m*\u001b[39;49m\u001b[43mkwargs\u001b[49m\u001b[43m)\u001b[49m\n",
      "File \u001b[0;32m/usr/local/Caskroom/miniconda/base/envs/genjax-trials/lib/python3.12/site-packages/genjax/_src/generative_functions/supports_callees.py:46\u001b[0m, in \u001b[0;36mpush_trace_overload_stack.<locals>.wrapped\u001b[0;34m(*args)\u001b[0m\n\u001b[1;32m     44\u001b[0m \u001b[38;5;28;01mdef\u001b[39;00m \u001b[38;5;21mwrapped\u001b[39m(\u001b[38;5;241m*\u001b[39margs):\n\u001b[1;32m     45\u001b[0m     GLOBAL_TRACE_HANDLER_STACK\u001b[38;5;241m.\u001b[39mappend(handler)\n\u001b[0;32m---> 46\u001b[0m     ret \u001b[38;5;241m=\u001b[39m \u001b[43mfn\u001b[49m\u001b[43m(\u001b[49m\u001b[38;5;241;43m*\u001b[39;49m\u001b[43margs\u001b[49m\u001b[43m)\u001b[49m\n\u001b[1;32m     47\u001b[0m     GLOBAL_TRACE_HANDLER_STACK\u001b[38;5;241m.\u001b[39mpop()\n\u001b[1;32m     48\u001b[0m     \u001b[38;5;28;01mreturn\u001b[39;00m ret\n",
      "\u001b[0;31mTypeError\u001b[0m: branch_1() missing 1 required positional argument: 'p'"
     ]
    }
   ],
   "source": [
    "# In GenJax, the syntax is a bit different still.\n",
    "# Similarly to Jax having a custom primitive jax.lax.cond that \"composes\" two\n",
    "# functions, GenJax has a custom combinator that \"composes\" two generative \n",
    "# functions.\n",
    "import genjax\n",
    "import jax\n",
    "\n",
    "# We first define the two branches as generative functions\n",
    "@static_gen_fn\n",
    "def branch_1(p):\n",
    "    v = bernoulli(p) @ \"v1\"\n",
    "    return v\n",
    "\n",
    "@static_gen_fn\n",
    "def branch_2(p):\n",
    "    v = bernoulli(-p) @ \"v2\"\n",
    "    return v\n",
    "\n",
    "# Then we use the combinator to compose them\n",
    "switch = genjax.switch_combinator(branch_1, branch_2)\n",
    "key = jax.random.PRNGKey(314159)\n",
    "jitted = jax.jit(switch.simulate)\n",
    "tr = jitted(key, (0,))\n",
    "v1 = tr.get_sample()[\"v1\"]\n",
    "v2 = tr.get_sample()[\"v2\"]"
   ]
  },
  {
   "cell_type": "code",
   "execution_count": 2,
   "metadata": {},
   "outputs": [
    {
     "name": "stdout",
     "output_type": "stream",
     "text": [
      "1\n",
      "1\n"
     ]
    }
   ],
   "source": [
    "# Note that it may be possible to write the following down, but this will not give you what you want in general!\n",
    "from genjax import static_gen_fn\n",
    "from genjax import bernoulli\n",
    "import jax\n",
    "\n",
    "@static_gen_fn\n",
    "def simple_switch_genjax(p):\n",
    "    branch_1 = lambda p: bernoulli(p) @ \"v1\"\n",
    "    branch_2 = lambda p: bernoulli(-p) @ \"v2\"\n",
    "    cond = jax.lax.cond(p > 0, branch_1, branch_2, p)\n",
    "    return cond\n",
    "\n",
    "key = jax.random.PRNGKey(314159)\n",
    "tr1 = simple_switch_genjax.simulate(key, (0.3,))\n",
    "tr2 = simple_switch_genjax.simulate(key, (-0.4,))\n",
    "print(tr1.get_retval())\n",
    "print(tr2.get_retval())"
   ]
  }
 ],
 "metadata": {
  "kernelspec": {
   "display_name": "genjax-trials",
   "language": "python",
   "name": "python3"
  },
  "language_info": {
   "codemirror_mode": {
    "name": "ipython",
    "version": 3
   },
   "file_extension": ".py",
   "mimetype": "text/x-python",
   "name": "python",
   "nbconvert_exporter": "python",
   "pygments_lexer": "ipython3",
   "version": "3.11.4"
  }
 },
 "nbformat": 4,
 "nbformat_minor": 2
}
