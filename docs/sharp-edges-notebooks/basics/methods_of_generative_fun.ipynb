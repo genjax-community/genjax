{
 "cells": [
  {
   "cell_type": "markdown",
   "metadata": {},
   "source": [
    "Ok I have a generative function. What can I do with it?"
   ]
  },
  {
   "cell_type": "code",
   "execution_count": 51,
   "metadata": {},
   "outputs": [],
   "source": [
    "import jax\n",
    "from genjax import beta\n",
    "from genjax import bernoulli\n",
    "from genjax import gen\n",
    "\n",
    "# Define a generative function\n",
    "@gen\n",
    "def beta_bernoulli_process(u):\n",
    "    p = beta(1.0, u) @ \"p\"\n",
    "    v = bernoulli(p) @ \"v\"\n",
    "    return 2*v"
   ]
  },
  {
   "cell_type": "markdown",
   "metadata": {},
   "source": [
    "Given our generative function, the first thing we can do is to generate a traced sample."
   ]
  },
  {
   "cell_type": "code",
   "execution_count": 97,
   "metadata": {},
   "outputs": [
    {
     "name": "stdout",
     "output_type": "stream",
     "text": [
      "2\n",
      "\n",
      "ChoiceMap(((Empty ⊕ Static(p => Value(0.9725157618522644))) ⊕ Static(v => Value(1))))\n",
      "0.97251576\n",
      "1\n",
      "\n"
     ]
    }
   ],
   "source": [
    "# 1] Generate a traced sample\n",
    "key = jax.random.PRNGKey(0)\n",
    "trace = jax.jit(beta_bernoulli_process.simulate)(key, (0.5,))\n",
    "\n",
    "# 1.1] Print the return value\n",
    "print(trace.get_retval())\n",
    "print()\n",
    "\n",
    "# 1.2] Print the choice_map, i.e. the list of internal random choices made during the execution\n",
    "print(trace.get_sample())\n",
    "print(trace.get_sample()[\"p\"])\n",
    "print(trace.get_sample()[\"v\"])\n",
    "print()"
   ]
  },
  {
   "cell_type": "markdown",
   "metadata": {},
   "source": [
    "Then, we can create a choice_map of observations and perform diverse operations on it."
   ]
  },
  {
   "cell_type": "code",
   "execution_count": 92,
   "metadata": {},
   "outputs": [
    {
     "data": {
      "text/plain": [
       "ChoiceMap((Static(v => Value(1)) + (Static(p => Value(0.5)) + Empty)))"
      ]
     },
     "execution_count": 92,
     "metadata": {},
     "output_type": "execute_result"
    }
   ],
   "source": [
    "# Create a choice_map of observations\n",
    "from genjax import ChoiceMap\n",
    "chm = ChoiceMap.n.at[\"p\"].set(0.5).at[\"v\"].set(1)\n",
    "chm"
   ]
  },
  {
   "cell_type": "markdown",
   "metadata": {},
   "source": [
    "For instance, we can compute log probabilities"
   ]
  },
  {
   "cell_type": "code",
   "execution_count": 98,
   "metadata": {},
   "outputs": [
    {
     "name": "stdout",
     "output_type": "stream",
     "text": [
      "0.7831962\n",
      "\n",
      "(Array(-0.8206506, dtype=float32), Array(2, dtype=int32))\n",
      "The ChoiceMap is incomplete\n"
     ]
    }
   ],
   "source": [
    "\n",
    "# 3] Compute log probabilities\n",
    "\n",
    "# 3.1] Print the log probability of the trace\n",
    "print(trace.get_score())\n",
    "print()\n",
    "\n",
    "# 3.2] Print the log probability of an observation encoded as a ChoiceMap under the model\n",
    "chm = ChoiceMap.n.at[\"p\"].set(0.5).at[\"v\"].set(1)\n",
    "args = (0.5,)\n",
    "print(beta_bernoulli_process.assess(chm, args))\n",
    "\n",
    "# Note that the ChoiceMap should be complete, i.e. all random choices should be observed\n",
    "chm_2 = ChoiceMap.n.at[\"v\"].set(1)\n",
    "try: \n",
    "    beta_bernoulli_process.assess(chm_2, args)\n",
    "except ValueError as _:\n",
    "    print(\"The ChoiceMap is incomplete\")"
   ]
  },
  {
   "cell_type": "markdown",
   "metadata": {},
   "source": [
    "We can also use a partial ChoiceMap as a constraint/observation and generate a full trace with these constraints."
   ]
  },
  {
   "cell_type": "code",
   "execution_count": 99,
   "metadata": {},
   "outputs": [
    {
     "name": "stdout",
     "output_type": "stream",
     "text": [
      "ChoiceMap(((Empty ⊕ Static(p => Value(0.4484125077724457))) ⊕ Static(v => Value(1))))\n",
      "-0.49386734\n"
     ]
    }
   ],
   "source": [
    "# 4] Generate a sample conditioned on the observations\n",
    "key = jax.random.PRNGKey(42)\n",
    "partial_chm = ChoiceMap.n.at[\"v\"].set(1)\n",
    "args = (0.5,)\n",
    "tr = beta_bernoulli_process.importance(key, partial_chm, args)\n",
    "\n",
    "# This returns a pair containing the new trace and the log probability of produced trace under the model\n",
    "print(tr[0].get_sample())\n",
    "print(tr[1])"
   ]
  },
  {
   "cell_type": "markdown",
   "metadata": {},
   "source": [
    "We can also update a trace. This is for instance useful for performance optimizations in MH algorithms where often most of the trace doesn't change between time steps."
   ]
  },
  {
   "cell_type": "code",
   "execution_count": 115,
   "metadata": {},
   "outputs": [],
   "source": [
    "# 5] Update a trace.\n",
    "from genjax.incremental import Diff, NoChange, UnknownChange\n",
    "\n",
    "key = jax.random.PRNGKey(42)\n",
    "old_trace = trace\n",
    "constraint = ChoiceMap.n.at[\"v\"].set(1)\n",
    "arg_diff = (Diff(0.0, NoChange),) #TODO: explain this\n",
    "\n",
    "new_trace, weight_diff, _, _ = beta_bernoulli_process.update(\n",
    "    key, \n",
    "    old_trace, \n",
    "    constraint, \n",
    "    arg_diff\n",
    "    )\n",
    "\n"
   ]
  }
 ],
 "metadata": {
  "kernelspec": {
   "display_name": "genjax-trials",
   "language": "python",
   "name": "python3"
  },
  "language_info": {
   "codemirror_mode": {
    "name": "ipython",
    "version": 3
   },
   "file_extension": ".py",
   "mimetype": "text/x-python",
   "name": "python",
   "nbconvert_exporter": "python",
   "pygments_lexer": "ipython3",
   "version": "3.11.6"
  }
 },
 "nbformat": 4,
 "nbformat_minor": 2
}
