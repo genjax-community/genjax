{
 "cells": [
  {
   "cell_type": "markdown",
   "metadata": {},
   "source": [
    "Ok I have a generative function. What can I do with it?"
   ]
  },
  {
   "cell_type": "code",
   "execution_count": 3,
   "metadata": {},
   "outputs": [
    {
     "name": "stdout",
     "output_type": "stream",
     "text": [
      "2\n",
      "\n",
      "ChoiceMap(((Empty ⊕ Static(p => Value(0.9725157618522644))) ⊕ Static(v => Value(1))))\n",
      "0.97251576\n",
      "1\n",
      "\n",
      "0.7831962\n",
      "\n"
     ]
    },
    {
     "ename": "TypeError",
     "evalue": "'jaxlib.xla_extension.ArrayImpl' object is not callable",
     "output_type": "error",
     "traceback": [
      "\u001b[0;31m---------------------------------------------------------------------------\u001b[0m",
      "\u001b[0;31mTypeError\u001b[0m                                 Traceback (most recent call last)",
      "Cell \u001b[0;32mIn[3], line 32\u001b[0m\n\u001b[1;32m     30\u001b[0m \u001b[38;5;28mprint\u001b[39m()\n\u001b[1;32m     31\u001b[0m \u001b[38;5;66;03m# 3.2] Print the log probability of an observation under the model\u001b[39;00m\n\u001b[0;32m---> 32\u001b[0m \u001b[38;5;28mprint\u001b[39m(\u001b[43mtrace\u001b[49m\u001b[38;5;241;43m.\u001b[39;49m\u001b[43mscore\u001b[49m\u001b[43m(\u001b[49m\u001b[43mchm\u001b[49m\u001b[43m)\u001b[49m)\n",
      "\u001b[0;31mTypeError\u001b[0m: 'jaxlib.xla_extension.ArrayImpl' object is not callable"
     ]
    }
   ],
   "source": [
    "import jax\n",
    "from genjax import beta\n",
    "from genjax import bernoulli\n",
    "from genjax import gen\n",
    "\n",
    "# Define a generative function\n",
    "@gen\n",
    "def beta_bernoulli_process(u):\n",
    "    p = beta(1.0, u) @ \"p\"\n",
    "    v = bernoulli(p) @ \"v\" # sweet\n",
    "    return 2*v\n",
    "\n",
    "# We can:\n",
    "# 1] Generate a traced sample\n",
    "key = jax.random.PRNGKey(0)\n",
    "trace = jax.jit(beta_bernoulli_process.simulate)(key, (0.5,))\n",
    "# 1.1] Print the return value\n",
    "print(trace.get_retval())\n",
    "print()\n",
    "# 1.2] Print the choice_map, i.e. the list of internal random choices made during the execution\n",
    "print(trace.get_sample())\n",
    "print(trace.get_sample()[\"p\"])\n",
    "print(trace.get_sample()[\"v\"])\n",
    "print()\n",
    "# 2] Create a choice_map of observations\n",
    "chm = {\"p\": 0.5, \"v\": 1}\n",
    "# 3] Compute log probabilities\n",
    "# 3.1] Print the log probability of the trace\n",
    "print(trace.get_score())\n",
    "print()\n",
    "# 3.2] Print the log probability of an observation under the model\n",
    "print(trace.score(chm))"
   ]
  },
  {
   "cell_type": "code",
   "execution_count": null,
   "metadata": {},
   "outputs": [],
   "source": []
  }
 ],
 "metadata": {
  "kernelspec": {
   "display_name": "genjax-trials",
   "language": "python",
   "name": "python3"
  },
  "language_info": {
   "codemirror_mode": {
    "name": "ipython",
    "version": 3
   },
   "file_extension": ".py",
   "mimetype": "text/x-python",
   "name": "python",
   "nbconvert_exporter": "python",
   "pygments_lexer": "ipython3",
   "version": "3.11.6"
  }
 },
 "nbformat": 4,
 "nbformat_minor": 2
}
