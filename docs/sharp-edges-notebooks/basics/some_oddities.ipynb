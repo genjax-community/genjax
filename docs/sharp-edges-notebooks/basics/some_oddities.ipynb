{
 "cells": [
  {
   "cell_type": "markdown",
   "metadata": {},
   "source": [
    "What are some sharp edges of Jax that are good to know before really starting?"
   ]
  },
  {
   "cell_type": "code",
   "execution_count": 14,
   "metadata": {},
   "outputs": [
    {
     "name": "stdout",
     "output_type": "stream",
     "text": [
      "Method\u001b[1m\u001b[35m genjax._src.generative_functions.static.static_gen_fn.StaticGenerativeFunction.simulate()\u001b[0m parameter \u001b[1m\u001b[34margs\u001b[0m=\u001b[1m\u001b[31m0.5\u001b[0m violates type hint \u001b[1m\u001b[32m<class 'tuple'>\u001b[0m, as \u001b[1m\u001b[33mfloat \u001b[0m\u001b[1m\u001b[31m0.5\u001b[0m not instance of \u001b[1m\u001b[32mtuple\u001b[0m.\n",
      "Method\u001b[1m\u001b[35m genjax._src.generative_functions.static.static_gen_fn.StaticGenerativeFunction.simulate()\u001b[0m parameter \u001b[1m\u001b[34margs\u001b[0m=\u001b[1m\u001b[31m[0.5]\u001b[0m violates type hint \u001b[1m\u001b[32m<class 'tuple'>\u001b[0m, as \u001b[1m\u001b[33mlist \u001b[0m\u001b[1m\u001b[31m[0.5]\u001b[0m not instance of \u001b[1m\u001b[32mtuple\u001b[0m.\n",
      "Method\u001b[1m\u001b[35m genjax._src.generative_functions.static.static_gen_fn.StaticGenerativeFunction.simulate()\u001b[0m parameter \u001b[1m\u001b[34margs\u001b[0m=\u001b[1m\u001b[31m0.5\u001b[0m violates type hint \u001b[1m\u001b[32m<class 'tuple'>\u001b[0m, as \u001b[1m\u001b[33mfloat \u001b[0m\u001b[1m\u001b[31m0.5\u001b[0m not instance of \u001b[1m\u001b[32mtuple\u001b[0m.\n"
     ]
    },
    {
     "data": {
      "text/plain": [
       "StaticTrace(\n",
       "  gen_fn=StaticGenerativeFunction(\n",
       "    source=Closure(dyn_args=(), fn=<function f at 0x2c7bff420>),\n",
       "  ),\n",
       "  args=(0.5,),\n",
       "  retval=<jax.Array(1, dtype=int32)>,\n",
       "  addresses=AddressVisitor(visited=['v']),\n",
       "  subtraces=[\n",
       "    DistributionTrace(\n",
       "      gen_fn=ExactDensity(\n",
       "        sampler=Closure(dyn_args=(), fn=<function tfp_distribution.<locals>.sampler at 0x16dd92fc0>),\n",
       "        logpdf_evaluator=Closure(dyn_args=(), fn=<function tfp_distribution.<locals>.logpdf at 0x16dd93060>),\n",
       "      ),\n",
       "      args=(0.5,),\n",
       "      value=<jax.Array(1, dtype=int32)>,\n",
       "      score=<jax.Array(-0.474077, dtype=float32)>,\n",
       "    ),\n",
       "  ],\n",
       "  score=<jax.Array(-0.474077, dtype=float32)>,\n",
       ")"
      ]
     },
     "execution_count": 14,
     "metadata": {},
     "output_type": "execute_result"
    }
   ],
   "source": [
    "#1] Jax expects arrays/tuples everywhere\n",
    "from genjax import bernoulli, gen\n",
    "@gen\n",
    "def f(p):\n",
    "    v = bernoulli(p) @\"v\"\n",
    "    return v\n",
    "\n",
    "key = jax.random.PRNGKey(0)\n",
    "# First way of failing\n",
    "try:\n",
    "    f.simulate(key, 0.5)\n",
    "except Exception as e:\n",
    "    print(e)\n",
    "    \n",
    "# Second way of failing\n",
    "try:\n",
    "    f.simulate(key, [0.5])\n",
    "except Exception as e:\n",
    "    print(e)\n",
    "    \n",
    "# Third way of failing\n",
    "try:\n",
    "    f.simulate(key, (0.5))\n",
    "except Exception as e:\n",
    "    print(e)    \n",
    "    \n",
    "# Correct way\n",
    "f.simulate(key, (0.5,))"
   ]
  },
  {
   "cell_type": "code",
   "execution_count": 83,
   "metadata": {},
   "outputs": [
    {
     "name": "stdout",
     "output_type": "stream",
     "text": [
      "1\n",
      "1\n",
      "1\n",
      "1\n",
      "1\n",
      "1\n",
      "1\n",
      "1\n",
      "1\n",
      "1\n",
      "1\n",
      "1\n",
      "1\n",
      "1\n",
      "1\n",
      "1\n",
      "1\n",
      "1\n",
      "1\n",
      "1\n"
     ]
    }
   ],
   "source": [
    "# 2] We rely on Tensor Flow Probability and it sometimes does weird things.\n",
    "\n",
    "# Bernoulli distribution uses logits instead of probabilities\n",
    "from genjax import bernoulli, gen\n",
    "@gen\n",
    "def g(p):\n",
    "    v = bernoulli(p) @ \"v\"\n",
    "    return v\n",
    "\n",
    "key = jax.random.PRNGKey(0)\n",
    "arg = (3.,)  # 3 is not a valid probability but a valid logit\n",
    "keys = jax.random.split(key, 20)\n",
    "# simulate 20 times\n",
    "for key in keys:\n",
    "    print(g.simulate(key, arg).get_sample()[\"v\"])\n",
    "    \n",
    "# Values which are stricter than 0 are considered to be the value True.\n",
    "# This means that observing that the value of \"v\" is 4 will be considered possible while intuitively \"v\" should only have support on 0 and 1.\n"
   ]
  }
 ],
 "metadata": {
  "kernelspec": {
   "display_name": ".venv",
   "language": "python",
   "name": "python3"
  },
  "language_info": {
   "codemirror_mode": {
    "name": "ipython",
    "version": 3
   },
   "file_extension": ".py",
   "mimetype": "text/x-python",
   "name": "python",
   "nbconvert_exporter": "python",
   "pygments_lexer": "ipython3",
   "version": "3.11.6"
  }
 },
 "nbformat": 4,
 "nbformat_minor": 2
}
