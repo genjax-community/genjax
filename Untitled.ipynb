{
 "cells": [
  {
   "cell_type": "code",
   "execution_count": 12,
   "id": "aa7a8a73-9891-4647-8131-0f938217a6c1",
   "metadata": {},
   "outputs": [],
   "source": [
    "import jax\n",
    "import jax.numpy as jnp\n",
    "import genjax\n",
    "\n",
    "console = genjax.pretty()"
   ]
  },
  {
   "cell_type": "code",
   "execution_count": 13,
   "id": "f5adc0b1-5978-4478-ac2f-7d1ab18bcf74",
   "metadata": {},
   "outputs": [],
   "source": [
    "@genjax.gen\n",
    "def simple_normal(key):\n",
    "    key, y1 = genjax.trace(\"y1\", genjax.Normal)(key, 0.0, 1.0)\n",
    "    key, y2 = genjax.trace(\"y2\", genjax.Normal)(key, 0.0, 1.0)\n",
    "    return (key,)\n",
    "\n",
    "\n",
    "@genjax.gen\n",
    "def simple_bernoulli(key):\n",
    "    key, y1 = genjax.trace(\"y1\", genjax.Bernoulli)(key, 0.3)\n",
    "    return (key,)\n",
    "\n",
    "\n",
    "switch = genjax.SwitchCombinator([simple_normal, simple_bernoulli])"
   ]
  },
  {
   "cell_type": "code",
   "execution_count": 14,
   "id": "42f67537-dcb7-4247-8c7f-a1943b18736f",
   "metadata": {},
   "outputs": [
    {
     "data": {
      "text/html": [
       "<pre style=\"white-space:pre;overflow-x:auto;line-height:normal;font-family:Menlo,'DejaVu Sans Mono',consolas,'Courier New',monospace\">\n",
       "</pre>\n"
      ],
      "text/plain": [
       "\n"
      ]
     },
     "metadata": {},
     "output_type": "display_data"
    },
    {
     "data": {
      "text/html": [
       "<pre style=\"white-space:pre;overflow-x:auto;line-height:normal;font-family:Menlo,'DejaVu Sans Mono',consolas,'Courier New',monospace\">\n",
       "<span style=\"font-weight: bold\">SwitchCombinator</span>\n",
       "└── <span style=\"color: #000080; text-decoration-color: #000080\">branches</span>\n",
       "    └── [\n",
       "          BuiltinGenerativeFunction(source = &lt;function simple_normal&gt;),\n",
       "          BuiltinGenerativeFunction(source = &lt;function simple_bernoulli&gt;)\n",
       "        ]\n",
       "</pre>\n"
      ],
      "text/plain": [
       "\n",
       "\u001b[1mSwitchCombinator\u001b[0m\n",
       "└── \u001b[34mbranches\u001b[0m\n",
       "    └── [\n",
       "          BuiltinGenerativeFunction(source = <function simple_normal>),\n",
       "          BuiltinGenerativeFunction(source = <function simple_bernoulli>)\n",
       "        ]\n"
      ]
     },
     "metadata": {},
     "output_type": "display_data"
    }
   ],
   "source": [
    "switch"
   ]
  },
  {
   "cell_type": "code",
   "execution_count": 19,
   "id": "4bd9c033-3fa6-406b-8653-2e8acf067d4f",
   "metadata": {},
   "outputs": [
    {
     "data": {
      "text/html": [
       "<pre style=\"white-space:pre;overflow-x:auto;line-height:normal;font-family:Menlo,'DejaVu Sans Mono',consolas,'Courier New',monospace\"><span style=\"color: #800080; text-decoration-color: #800080; font-weight: bold\">DeviceArray</span><span style=\"font-weight: bold\">(</span><span style=\"color: #008080; text-decoration-color: #008080; font-weight: bold\">-0.10823099</span>, <span style=\"color: #808000; text-decoration-color: #808000\">dtype</span>=<span style=\"color: #800080; text-decoration-color: #800080\">float32</span><span style=\"font-weight: bold\">)</span>\n",
       "</pre>\n"
      ],
      "text/plain": [
       "\u001b[1;35mDeviceArray\u001b[0m\u001b[1m(\u001b[0m\u001b[1;36m-0.10823099\u001b[0m, \u001b[33mdtype\u001b[0m=\u001b[35mfloat32\u001b[0m\u001b[1m)\u001b[0m\n"
      ]
     },
     "metadata": {},
     "output_type": "display_data"
    }
   ],
   "source": [
    "key = jax.random.PRNGKey(314159)\n",
    "key, tr = switch.simulate(key, (0,))\n",
    "tr[\"y1\"]"
   ]
  },
  {
   "cell_type": "code",
   "execution_count": null,
   "id": "708ed2e9-ab0f-4b9f-9181-92cf33fcf925",
   "metadata": {},
   "outputs": [],
   "source": []
  }
 ],
 "metadata": {
  "kernelspec": {
   "display_name": "Python 3 (ipykernel)",
   "language": "python",
   "name": "python3"
  },
  "language_info": {
   "codemirror_mode": {
    "name": "ipython",
    "version": 3
   },
   "file_extension": ".py",
   "mimetype": "text/x-python",
   "name": "python",
   "nbconvert_exporter": "python",
   "pygments_lexer": "ipython3",
   "version": "3.10.8"
  }
 },
 "nbformat": 4,
 "nbformat_minor": 5
}
